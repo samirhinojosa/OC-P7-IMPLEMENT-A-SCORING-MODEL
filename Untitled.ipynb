{
 "cells": [
  {
   "cell_type": "code",
   "execution_count": 1,
   "id": "d2e4d11d-b3be-457f-848b-6b3ca78949d3",
   "metadata": {},
   "outputs": [],
   "source": [
    "import re\n",
    "import json\n",
    "import numpy as np\n",
    "import pandas as pd\n",
    "from functools import partial\n",
    "\n",
    "from sklearn.preprocessing import StandardScaler\n",
    "import joblib\n",
    "\n",
    "\n",
    "## Own specific functions \n",
    "from functions import *"
   ]
  },
  {
   "cell_type": "code",
   "execution_count": null,
   "id": "7be0f142-e9f5-4154-8623-b1c18a12e767",
   "metadata": {},
   "outputs": [],
   "source": []
  },
  {
   "cell_type": "code",
   "execution_count": 40,
   "id": "075ad6d6-db2d-43bc-a02a-71504074e9e7",
   "metadata": {},
   "outputs": [
    {
     "name": "stdout",
     "output_type": "stream",
     "text": [
      "Current Date : 2022-01-17\n",
      "5 days before Current Date : 1983-10-13\n"
     ]
    }
   ],
   "source": [
    "from datetime import date, timedelta\n",
    "dt = date.today() - timedelta(13976)\n",
    "print('Current Date :',date.today())\n",
    "print('5 days before Current Date :',dt)"
   ]
  },
  {
   "cell_type": "code",
   "execution_count": 43,
   "id": "084ef2d2-e7b8-4fdc-b75d-2dfb99f845a7",
   "metadata": {},
   "outputs": [],
   "source": [
    "today = date.today()\n",
    "age = today.year - dt.year - ((today.month, today.day) < (dt.month, dt.day))"
   ]
  },
  {
   "cell_type": "code",
   "execution_count": 44,
   "id": "a5d6e99c-f9a8-4250-9b92-13472dc8af47",
   "metadata": {},
   "outputs": [
    {
     "data": {
      "text/plain": [
       "38"
      ]
     },
     "execution_count": 44,
     "metadata": {},
     "output_type": "execute_result"
    }
   ],
   "source": [
    "age"
   ]
  },
  {
   "cell_type": "code",
   "execution_count": 51,
   "id": "b48e8e21-5412-4eb0-8207-6d501455fb9b",
   "metadata": {},
   "outputs": [],
   "source": [
    "from datetime import date, timedelta\n",
    "\n",
    "def age(days):\n",
    "\n",
    "    today = date.today()\n",
    "    birth_date = today - timedelta(abs(days))\n",
    "    age = today.year - birth_date.year - ((today.month, today.day) < (birth_date.month, birth_date.day))\n",
    "\n",
    "    return age"
   ]
  },
  {
   "cell_type": "code",
   "execution_count": 52,
   "id": "da5c2e43-41be-4bf7-8feb-effb6579bd5a",
   "metadata": {},
   "outputs": [
    {
     "name": "stdout",
     "output_type": "stream",
     "text": [
      "38\n"
     ]
    }
   ],
   "source": [
    "age(13976)"
   ]
  },
  {
   "cell_type": "code",
   "execution_count": 2,
   "id": "2b73cd54-bd2c-4c8f-994a-6a65a08a998b",
   "metadata": {},
   "outputs": [],
   "source": [
    "df = pd.read_csv(r\"datasets\\df_customers_to_predict.csv\")"
   ]
  },
  {
   "cell_type": "code",
   "execution_count": 3,
   "id": "45f29a28-86b0-42bb-bb34-407a591c313c",
   "metadata": {},
   "outputs": [
    {
     "name": "stdout",
     "output_type": "stream",
     "text": [
      "\n",
      "Analysis Header of df dataset\n",
      "--------------------------------------------------------------------------------\n",
      "- Dataset shape:\t\t\t 48744 rows and 796 columns\n",
      "- Total of NaN values:\t\t\t 0\n",
      "- Percentage of NaN:\t\t\t 0.0 %\n",
      "- Total of infinite values:\t\t 0\n",
      "- Percentage of infinite values:\t 0.0 %\n",
      "- Total of full duplicates rows:\t 0\n",
      "- Total of empty rows:\t\t\t 0\n",
      "- Total of empty columns:\t\t 0\n",
      "- Unique indexes:\t\t\t True\n",
      "- Memory usage:\t\t\t\t 296.0 MB\n"
     ]
    }
   ],
   "source": [
    "df_analysis(df, \"df\", analysis_type=\"header\")"
   ]
  },
  {
   "cell_type": "code",
   "execution_count": 4,
   "id": "7a9f38e8-64e9-433b-b684-29de6c9beb27",
   "metadata": {},
   "outputs": [
    {
     "ename": "NameError",
     "evalue": "name 'c' is not defined",
     "output_type": "error",
     "traceback": [
      "\u001b[1;31m---------------------------------------------------------------------------\u001b[0m",
      "\u001b[1;31mNameError\u001b[0m                                 Traceback (most recent call last)",
      "\u001b[1;32m~\\AppData\\Local\\Temp/ipykernel_3784/3235490055.py\u001b[0m in \u001b[0;36m<module>\u001b[1;34m\u001b[0m\n\u001b[1;32m----> 1\u001b[1;33m \u001b[0mc\u001b[0m\u001b[1;33m\u001b[0m\u001b[1;33m\u001b[0m\u001b[0m\n\u001b[0m",
      "\u001b[1;31mNameError\u001b[0m: name 'c' is not defined"
     ]
    }
   ],
   "source": [
    "c"
   ]
  },
  {
   "cell_type": "code",
   "execution_count": 6,
   "id": "76f70416-8e0a-49bc-a6be-50e71d9e6bf1",
   "metadata": {},
   "outputs": [],
   "source": [
    "   COLUMNS = [\n",
    "        \"SK_ID_CURR\", \"CODE_GENDER\", \"DAYS_BIRTH\", \"DAYS_EMPLOYED\",\n",
    "        \"CNT_CHILDREN\", \"FLAG_OWN_REALTY\", \"AMT_INCOME_TOTAL\", \n",
    "        \"AMT_CREDIT\"\n",
    "    ]"
   ]
  },
  {
   "cell_type": "code",
   "execution_count": 33,
   "id": "5878a57f-a89f-46b9-b81b-0114d1ede18a",
   "metadata": {},
   "outputs": [
    {
     "data": {
      "text/html": [
       "<div>\n",
       "<style scoped>\n",
       "    .dataframe tbody tr th:only-of-type {\n",
       "        vertical-align: middle;\n",
       "    }\n",
       "\n",
       "    .dataframe tbody tr th {\n",
       "        vertical-align: top;\n",
       "    }\n",
       "\n",
       "    .dataframe thead th {\n",
       "        text-align: right;\n",
       "    }\n",
       "</style>\n",
       "<table border=\"1\" class=\"dataframe\">\n",
       "  <thead>\n",
       "    <tr style=\"text-align: right;\">\n",
       "      <th></th>\n",
       "      <th>SK_ID_CURR</th>\n",
       "      <th>CODE_GENDER</th>\n",
       "      <th>DAYS_BIRTH</th>\n",
       "      <th>DAYS_EMPLOYED</th>\n",
       "      <th>CNT_CHILDREN</th>\n",
       "      <th>FLAG_OWN_REALTY</th>\n",
       "      <th>AMT_INCOME_TOTAL</th>\n",
       "      <th>AMT_CREDIT</th>\n",
       "    </tr>\n",
       "  </thead>\n",
       "  <tbody>\n",
       "    <tr>\n",
       "      <th>0</th>\n",
       "      <td>100001</td>\n",
       "      <td>1</td>\n",
       "      <td>-19241</td>\n",
       "      <td>-2329.0</td>\n",
       "      <td>0</td>\n",
       "      <td>0</td>\n",
       "      <td>135000.0</td>\n",
       "      <td>568800.0</td>\n",
       "    </tr>\n",
       "  </tbody>\n",
       "</table>\n",
       "</div>"
      ],
      "text/plain": [
       "   SK_ID_CURR  CODE_GENDER  DAYS_BIRTH  DAYS_EMPLOYED  CNT_CHILDREN  \\\n",
       "0      100001            1      -19241        -2329.0             0   \n",
       "\n",
       "   FLAG_OWN_REALTY  AMT_INCOME_TOTAL  AMT_CREDIT  \n",
       "0                0          135000.0    568800.0  "
      ]
     },
     "execution_count": 35,
     "metadata": {},
     "output_type": "execute_result"
    }
   ],
   "source": [
    "df = df[COLUMNS][df[\"SK_ID_CURR\"] == 100001]"
   ]
  },
  {
   "cell_type": "code",
   "execution_count": 36,
   "id": "cc8415e1-2727-4a6f-b338-1ae057d07bcd",
   "metadata": {},
   "outputs": [
    {
     "data": {
      "text/plain": [
       "array([[ 1.00001e+05,  1.00000e+00, -1.92410e+04, -2.32900e+03,\n",
       "         0.00000e+00,  0.00000e+00,  1.35000e+05,  5.68800e+05]])"
      ]
     },
     "execution_count": 36,
     "metadata": {},
     "output_type": "execute_result"
    }
   ],
   "source": [
    "numpy_array = df.to_numpy()\n",
    "numpy_array"
   ]
  },
  {
   "cell_type": "code",
   "execution_count": 28,
   "id": "7c6c94d7-4cbe-4eac-8b05-9b4efae5f20a",
   "metadata": {},
   "outputs": [
    {
     "data": {
      "text/plain": [
       "100001"
      ]
     },
     "execution_count": 28,
     "metadata": {},
     "output_type": "execute_result"
    }
   ],
   "source": [
    "df.iloc[0, df.columns.get_loc(\"SK_ID_CURR\")]"
   ]
  },
  {
   "cell_type": "code",
   "execution_count": 19,
   "id": "ffd8b440-b9f4-486f-a140-e76f07b54457",
   "metadata": {},
   "outputs": [],
   "source": [
    "for col in df.columns:\n",
    "    globals()[col] = df.iloc[0, df.columns.get_loc(col)]"
   ]
  },
  {
   "cell_type": "code",
   "execution_count": null,
   "id": "498289e9-c829-4049-8195-6dec1a7440e7",
   "metadata": {},
   "outputs": [],
   "source": []
  },
  {
   "cell_type": "code",
   "execution_count": 18,
   "id": "23e3b942-f5fe-4c3a-9191-eee7049bbd22",
   "metadata": {},
   "outputs": [
    {
     "data": {
      "text/plain": [
       "100001"
      ]
     },
     "execution_count": 18,
     "metadata": {},
     "output_type": "execute_result"
    }
   ],
   "source": [
    "df.iloc[0, df.columns.get_loc(\"SK_ID_CURR\")]"
   ]
  },
  {
   "cell_type": "code",
   "execution_count": 32,
   "id": "eaad99e7-1c13-465d-b1de-549381755cae",
   "metadata": {},
   "outputs": [
    {
     "data": {
      "text/plain": [
       "0    100001\n",
       "Name: SK_ID_CURR, dtype: int64"
      ]
     },
     "execution_count": 32,
     "metadata": {},
     "output_type": "execute_result"
    }
   ],
   "source": [
    "df[\"SK_ID_CURR\"]"
   ]
  },
  {
   "cell_type": "code",
   "execution_count": 20,
   "id": "0c8ff4aa-40ad-4349-ba70-dc4c1d64bb7d",
   "metadata": {},
   "outputs": [],
   "source": [
    "    customer = {\n",
    "        \"SK_ID_CURR\" : SK_ID_CURR,\n",
    "        \"CODE_GENDER\" : CODE_GENDER,\n",
    "        \"DAYS_BIRTH\" : DAYS_BIRTH,\n",
    "        \"DAYS_EMPLOYED\" : DAYS_EMPLOYED,\n",
    "        \"CNT_CHILDREN\" : CNT_CHILDREN,\n",
    "        \"FLAG_OWN_REALTY\" : FLAG_OWN_REALTY,\n",
    "        \"AMT_INCOME_TOTAL\" : AMT_INCOME_TOTAL,\n",
    "        \"AMT_CREDIT\" : AMT_CREDIT,\n",
    "    }"
   ]
  },
  {
   "cell_type": "code",
   "execution_count": 16,
   "id": "768fb2de-e800-4df2-9799-a2b43ff53e89",
   "metadata": {},
   "outputs": [
    {
     "data": {
      "text/plain": [
       "{'SK_ID_CURR': 0    100001\n",
       " Name: SK_ID_CURR, dtype: int64,\n",
       " 'CODE_GENDER': 0    1\n",
       " Name: CODE_GENDER, dtype: int64,\n",
       " 'DAYS_BIRTH': 0   -19241\n",
       " Name: DAYS_BIRTH, dtype: int64,\n",
       " 'DAYS_EMPLOYED': 0   -2329.0\n",
       " Name: DAYS_EMPLOYED, dtype: float64,\n",
       " 'CNT_CHILDREN': 0    0\n",
       " Name: CNT_CHILDREN, dtype: int64,\n",
       " 'FLAG_OWN_REALTY': 0    0\n",
       " Name: FLAG_OWN_REALTY, dtype: int64,\n",
       " 'AMT_INCOME_TOTAL': 0    135000.0\n",
       " Name: AMT_INCOME_TOTAL, dtype: float64,\n",
       " 'AMT_CREDIT': 0    568800.0\n",
       " Name: AMT_CREDIT, dtype: float64}"
      ]
     },
     "execution_count": 16,
     "metadata": {},
     "output_type": "execute_result"
    }
   ],
   "source": [
    "customer"
   ]
  },
  {
   "cell_type": "code",
   "execution_count": 13,
   "id": "519b5223-70a3-4a41-8fca-ebcd4e9938b7",
   "metadata": {},
   "outputs": [
    {
     "data": {
      "text/plain": [
       "{'SK_ID_CURR': 100001,\n",
       " 'CODE_GENDER': 1,\n",
       " 'DAYS_BIRTH': -19241,\n",
       " 'DAYS_EMPLOYED': -2329.0,\n",
       " 'CNT_CHILDREN': 0,\n",
       " 'FLAG_OWN_REALTY': 0,\n",
       " 'AMT_INCOME_TOTAL': 135000.0,\n",
       " 'AMT_CREDIT': 568800.0}"
      ]
     },
     "execution_count": 13,
     "metadata": {},
     "output_type": "execute_result"
    }
   ],
   "source": [
    "customer"
   ]
  },
  {
   "cell_type": "code",
   "execution_count": null,
   "id": "85e3c8f1-6256-45ec-9a20-26414e98c8b7",
   "metadata": {},
   "outputs": [],
   "source": []
  },
  {
   "cell_type": "code",
   "execution_count": 8,
   "id": "039040d0-ff9f-441d-aa7b-15adf1d9e654",
   "metadata": {},
   "outputs": [
    {
     "data": {
      "text/plain": [
       "-2329.0"
      ]
     },
     "execution_count": 8,
     "metadata": {},
     "output_type": "execute_result"
    }
   ],
   "source": [
    "\"DAYS_BIRTH\" : df[\"DAYS_BIRTH\"].values[0],"
   ]
  },
  {
   "cell_type": "code",
   "execution_count": null,
   "id": "d46d7035-acd1-4216-9dc5-042481e7e49c",
   "metadata": {},
   "outputs": [],
   "source": [
    "    # Filtering by customer id\n",
    "    df = df[COLUMNS][df[\"SK_ID_CURR\"] == id]\n",
    "    \n",
    "    # Serializing json \n",
    "    #parsed = json.loads(result)\n",
    "    #json_object = json.dumps(parsed) \n",
    "\n",
    "    customer = {\n",
    "        #\"SK_ID_CURR\" : df[\"SK_ID_CURR\"].values[0].astype(int),\n",
    "       # \"CODE_GENDER\" : df[\"CODE_GENDER\"].values[0].astype(int),\n",
    "        \"DAYS_BIRTH\" : df[\"DAYS_BIRTH\"].values[0],\n",
    "        \"DAYS_EMPLOYED\" : df[\"DAYS_EMPLOYED\"].values[0],\n",
    "        \"CNT_CHILDREN\" : df[\"CNT_CHILDREN\"].values[0],\n",
    "        \"FLAG_OWN_REALTY\" : df[\"FLAG_OWN_REALTY\"].values[0],\n",
    "        \"AMT_INCOME_TOTAL\" : df[\"AMT_INCOME_TOTAL\"].values[0],\n",
    "        \"AMT_CREDIT\" : df[\"AMT_CREDIT\"].values[0],\n",
    "    }\n",
    "\n",
    "    return customer"
   ]
  },
  {
   "cell_type": "code",
   "execution_count": null,
   "id": "acec2f85-607c-46eb-b422-4ab143df41ba",
   "metadata": {},
   "outputs": [],
   "source": []
  },
  {
   "cell_type": "code",
   "execution_count": null,
   "id": "b3e554e5-4ad6-41c5-aa21-df344340591b",
   "metadata": {},
   "outputs": [],
   "source": []
  },
  {
   "cell_type": "code",
   "execution_count": null,
   "id": "040a6eea-4652-4472-8c83-bab4042ec728",
   "metadata": {},
   "outputs": [],
   "source": []
  },
  {
   "cell_type": "code",
   "execution_count": null,
   "id": "b6742bfc-e2be-451c-baf7-b147027d2d7c",
   "metadata": {},
   "outputs": [],
   "source": [
    "df.head()"
   ]
  },
  {
   "cell_type": "code",
   "execution_count": null,
   "id": "521e2a4d-80c5-4aa3-a6e4-02516ef2fecd",
   "metadata": {},
   "outputs": [],
   "source": [
    "df.columns"
   ]
  },
  {
   "cell_type": "code",
   "execution_count": null,
   "id": "1a11dbfb-ee3e-4899-95d0-60454f660aed",
   "metadata": {},
   "outputs": [],
   "source": [
    "df.drop(\"SK_ID_CURR\", axis=1, inplace=True)"
   ]
  },
  {
   "cell_type": "code",
   "execution_count": null,
   "id": "b2f8b0a8-cd72-4a25-a737-1788a23e794c",
   "metadata": {},
   "outputs": [],
   "source": [
    "df_analysis(df, \"df\", analysis_type=\"header\")"
   ]
  },
  {
   "cell_type": "code",
   "execution_count": null,
   "id": "e5a1fe69-822a-4f76-b296-a81658b73a93",
   "metadata": {},
   "outputs": [],
   "source": [
    "#df = df[df[\"SK_ID_CURR\"] == 100001]"
   ]
  },
  {
   "cell_type": "code",
   "execution_count": null,
   "id": "699bb18b-73db-40d2-9d98-3f86e68ab017",
   "metadata": {},
   "outputs": [],
   "source": [
    "#df = df.head(800)"
   ]
  },
  {
   "cell_type": "code",
   "execution_count": null,
   "id": "655ed393-b23f-442e-8f23-ab47d9a261ef",
   "metadata": {},
   "outputs": [],
   "source": [
    "#df.head()"
   ]
  },
  {
   "cell_type": "code",
   "execution_count": null,
   "id": "35f3626c-8d35-4a32-8d00-771deb76ef7e",
   "metadata": {},
   "outputs": [],
   "source": [
    "#scaler = StandardScaler()"
   ]
  },
  {
   "cell_type": "code",
   "execution_count": null,
   "id": "03da6615-e35a-46c9-b14b-238fdeee68dd",
   "metadata": {},
   "outputs": [],
   "source": [
    "#df_scaled = scaler.fit_transform(df)"
   ]
  },
  {
   "cell_type": "code",
   "execution_count": null,
   "id": "ed675b2a-e69a-4c84-92d8-ca10f6d72ce7",
   "metadata": {},
   "outputs": [],
   "source": []
  },
  {
   "cell_type": "code",
   "execution_count": null,
   "id": "f45cdc76-d4df-4055-857b-b3ce9a87bfa0",
   "metadata": {},
   "outputs": [],
   "source": []
  },
  {
   "cell_type": "code",
   "execution_count": null,
   "id": "16e2725d-ef6a-4bb0-8e57-0d1fcda8546c",
   "metadata": {},
   "outputs": [],
   "source": [
    "# load the model from disk\n",
    "model = joblib.load(\"models\\model_1.0.2.pkl\")"
   ]
  },
  {
   "cell_type": "code",
   "execution_count": null,
   "id": "a68df30d-0ccf-46b3-8c92-668a9a2f47c1",
   "metadata": {},
   "outputs": [],
   "source": [
    "result = model.predict(df)"
   ]
  },
  {
   "cell_type": "code",
   "execution_count": null,
   "id": "a2ca0e33-d5ac-402b-83aa-ae252619086c",
   "metadata": {},
   "outputs": [],
   "source": [
    "print(result)"
   ]
  },
  {
   "cell_type": "code",
   "execution_count": null,
   "id": "631393d7-2d62-46e0-9fce-37e277874aa2",
   "metadata": {},
   "outputs": [],
   "source": [
    "if 0 in result:\n",
    "    print(np.sum(np.array(result) == 0))"
   ]
  },
  {
   "cell_type": "code",
   "execution_count": null,
   "id": "8ee727b4-e6c0-4e78-8f9d-302613bd6ed6",
   "metadata": {},
   "outputs": [],
   "source": [
    "result_proba = model.predict_proba(df)"
   ]
  },
  {
   "cell_type": "code",
   "execution_count": null,
   "id": "aee928dd-12b6-4c08-b35b-745360f904a8",
   "metadata": {},
   "outputs": [],
   "source": [
    "print(result_proba)"
   ]
  },
  {
   "cell_type": "code",
   "execution_count": null,
   "id": "edc5eccf-814b-4b77-9757-b7c029309198",
   "metadata": {},
   "outputs": [],
   "source": []
  }
 ],
 "metadata": {
  "kernelspec": {
   "display_name": "Python 3 (ipykernel)",
   "language": "python",
   "name": "python3"
  },
  "language_info": {
   "codemirror_mode": {
    "name": "ipython",
    "version": 3
   },
   "file_extension": ".py",
   "mimetype": "text/x-python",
   "name": "python",
   "nbconvert_exporter": "python",
   "pygments_lexer": "ipython3",
   "version": "3.9.9"
  }
 },
 "nbformat": 4,
 "nbformat_minor": 5
}
