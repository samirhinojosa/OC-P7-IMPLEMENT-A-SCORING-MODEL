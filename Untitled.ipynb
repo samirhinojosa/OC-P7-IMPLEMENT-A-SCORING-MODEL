{
 "cells": [
  {
   "cell_type": "code",
   "execution_count": 1,
   "id": "d2e4d11d-b3be-457f-848b-6b3ca78949d3",
   "metadata": {},
   "outputs": [],
   "source": [
    "import re\n",
    "import json\n",
    "import numpy as np\n",
    "import pandas as pd\n",
    "from functools import partial\n",
    "\n",
    "from sklearn.preprocessing import StandardScaler\n",
    "import joblib\n",
    "\n",
    "\n",
    "## Own specific functions \n",
    "from functions import *"
   ]
  },
  {
   "cell_type": "code",
   "execution_count": 2,
   "id": "2b73cd54-bd2c-4c8f-994a-6a65a08a998b",
   "metadata": {},
   "outputs": [],
   "source": [
    "df = pd.read_csv(r\"datasets\\df_customers_to_predict.csv\")"
   ]
  },
  {
   "cell_type": "code",
   "execution_count": 3,
   "id": "45f29a28-86b0-42bb-bb34-407a591c313c",
   "metadata": {},
   "outputs": [
    {
     "name": "stdout",
     "output_type": "stream",
     "text": [
      "\n",
      "Analysis Header of df dataset\n",
      "--------------------------------------------------------------------------------\n",
      "- Dataset shape:\t\t\t 48744 rows and 796 columns\n",
      "- Total of NaN values:\t\t\t 0\n",
      "- Percentage of NaN:\t\t\t 0.0 %\n",
      "- Total of infinite values:\t\t 0\n",
      "- Percentage of infinite values:\t 0.0 %\n",
      "- Total of full duplicates rows:\t 0\n",
      "- Total of empty rows:\t\t\t 0\n",
      "- Total of empty columns:\t\t 0\n",
      "- Unique indexes:\t\t\t True\n",
      "- Memory usage:\t\t\t\t 296.0 MB\n"
     ]
    }
   ],
   "source": [
    "df_analysis(df, \"df\", analysis_type=\"header\")"
   ]
  },
  {
   "cell_type": "code",
   "execution_count": 4,
   "id": "521e2a4d-80c5-4aa3-a6e4-02516ef2fecd",
   "metadata": {},
   "outputs": [
    {
     "data": {
      "text/plain": [
       "Index(['SK_ID_CURR', 'CODE_GENDER', 'FLAG_OWN_CAR', 'FLAG_OWN_REALTY',\n",
       "       'CNT_CHILDREN', 'AMT_INCOME_TOTAL', 'AMT_CREDIT', 'AMT_ANNUITY',\n",
       "       'AMT_GOODS_PRICE', 'REGION_POPULATION_RELATIVE',\n",
       "       ...\n",
       "       'CC_NAME_CONTRACT_STATUS_Signed_MAX',\n",
       "       'CC_NAME_CONTRACT_STATUS_Signed_MEAN',\n",
       "       'CC_NAME_CONTRACT_STATUS_Signed_SUM',\n",
       "       'CC_NAME_CONTRACT_STATUS_Signed_VAR', 'CC_NAME_CONTRACT_STATUS_nan_MIN',\n",
       "       'CC_NAME_CONTRACT_STATUS_nan_MAX', 'CC_NAME_CONTRACT_STATUS_nan_MEAN',\n",
       "       'CC_NAME_CONTRACT_STATUS_nan_SUM', 'CC_NAME_CONTRACT_STATUS_nan_VAR',\n",
       "       'CC_COUNT'],\n",
       "      dtype='object', length=796)"
      ]
     },
     "execution_count": 4,
     "metadata": {},
     "output_type": "execute_result"
    }
   ],
   "source": [
    "df.columns"
   ]
  },
  {
   "cell_type": "code",
   "execution_count": 5,
   "id": "1a11dbfb-ee3e-4899-95d0-60454f660aed",
   "metadata": {},
   "outputs": [],
   "source": [
    "df.drop(\"SK_ID_CURR\", axis=1, inplace=True)"
   ]
  },
  {
   "cell_type": "code",
   "execution_count": 6,
   "id": "b2f8b0a8-cd72-4a25-a737-1788a23e794c",
   "metadata": {},
   "outputs": [
    {
     "name": "stdout",
     "output_type": "stream",
     "text": [
      "\n",
      "Analysis Header of df dataset\n",
      "--------------------------------------------------------------------------------\n",
      "- Dataset shape:\t\t\t 48744 rows and 795 columns\n",
      "- Total of NaN values:\t\t\t 0\n",
      "- Percentage of NaN:\t\t\t 0.0 %\n",
      "- Total of infinite values:\t\t 0\n",
      "- Percentage of infinite values:\t 0.0 %\n",
      "- Total of full duplicates rows:\t 0\n",
      "- Total of empty rows:\t\t\t 0\n",
      "- Total of empty columns:\t\t 0\n",
      "- Unique indexes:\t\t\t True\n",
      "- Memory usage:\t\t\t\t 295.7 MB\n"
     ]
    }
   ],
   "source": [
    "df_analysis(df, \"df\", analysis_type=\"header\")"
   ]
  },
  {
   "cell_type": "code",
   "execution_count": 7,
   "id": "e5a1fe69-822a-4f76-b296-a81658b73a93",
   "metadata": {},
   "outputs": [],
   "source": [
    "#df = df[df[\"SK_ID_CURR\"] == 100001]"
   ]
  },
  {
   "cell_type": "code",
   "execution_count": 8,
   "id": "699bb18b-73db-40d2-9d98-3f86e68ab017",
   "metadata": {},
   "outputs": [],
   "source": [
    "#df = df.head(800)"
   ]
  },
  {
   "cell_type": "code",
   "execution_count": 9,
   "id": "655ed393-b23f-442e-8f23-ab47d9a261ef",
   "metadata": {},
   "outputs": [],
   "source": [
    "#df.head()"
   ]
  },
  {
   "cell_type": "code",
   "execution_count": 10,
   "id": "35f3626c-8d35-4a32-8d00-771deb76ef7e",
   "metadata": {},
   "outputs": [],
   "source": [
    "#scaler = StandardScaler()"
   ]
  },
  {
   "cell_type": "code",
   "execution_count": 11,
   "id": "03da6615-e35a-46c9-b14b-238fdeee68dd",
   "metadata": {},
   "outputs": [],
   "source": [
    "#df_scaled = scaler.fit_transform(df)"
   ]
  },
  {
   "cell_type": "code",
   "execution_count": null,
   "id": "ed675b2a-e69a-4c84-92d8-ca10f6d72ce7",
   "metadata": {},
   "outputs": [],
   "source": []
  },
  {
   "cell_type": "code",
   "execution_count": null,
   "id": "f45cdc76-d4df-4055-857b-b3ce9a87bfa0",
   "metadata": {},
   "outputs": [],
   "source": []
  },
  {
   "cell_type": "code",
   "execution_count": 12,
   "id": "16e2725d-ef6a-4bb0-8e57-0d1fcda8546c",
   "metadata": {},
   "outputs": [],
   "source": [
    "# load the model from disk\n",
    "model = joblib.load(\"models\\model_1.0.2.pkl\")"
   ]
  },
  {
   "cell_type": "code",
   "execution_count": 13,
   "id": "a68df30d-0ccf-46b3-8c92-668a9a2f47c1",
   "metadata": {},
   "outputs": [],
   "source": [
    "result = model.predict(df)"
   ]
  },
  {
   "cell_type": "code",
   "execution_count": 14,
   "id": "a2ca0e33-d5ac-402b-83aa-ae252619086c",
   "metadata": {},
   "outputs": [
    {
     "name": "stdout",
     "output_type": "stream",
     "text": [
      "[1. 1. 1. ... 1. 1. 1.]\n"
     ]
    }
   ],
   "source": [
    "print(result)"
   ]
  },
  {
   "cell_type": "code",
   "execution_count": 15,
   "id": "631393d7-2d62-46e0-9fce-37e277874aa2",
   "metadata": {},
   "outputs": [
    {
     "name": "stdout",
     "output_type": "stream",
     "text": [
      "16\n"
     ]
    }
   ],
   "source": [
    "if 0 in result:\n",
    "    print(np.sum(np.array(result) == 0))"
   ]
  },
  {
   "cell_type": "code",
   "execution_count": 16,
   "id": "8ee727b4-e6c0-4e78-8f9d-302613bd6ed6",
   "metadata": {},
   "outputs": [],
   "source": [
    "result_proba = model.predict_proba(df)"
   ]
  },
  {
   "cell_type": "code",
   "execution_count": 17,
   "id": "aee928dd-12b6-4c08-b35b-745360f904a8",
   "metadata": {},
   "outputs": [
    {
     "name": "stdout",
     "output_type": "stream",
     "text": [
      "[[0.0220124  0.9779876 ]\n",
      " [0.00556197 0.99443803]\n",
      " [0.01490893 0.98509107]\n",
      " ...\n",
      " [0.13217822 0.86782178]\n",
      " [0.05117823 0.94882177]\n",
      " [0.0132752  0.9867248 ]]\n"
     ]
    }
   ],
   "source": [
    "print(result_proba)"
   ]
  },
  {
   "cell_type": "code",
   "execution_count": null,
   "id": "edc5eccf-814b-4b77-9757-b7c029309198",
   "metadata": {},
   "outputs": [],
   "source": []
  }
 ],
 "metadata": {
  "kernelspec": {
   "display_name": "Python 3 (ipykernel)",
   "language": "python",
   "name": "python3"
  },
  "language_info": {
   "codemirror_mode": {
    "name": "ipython",
    "version": 3
   },
   "file_extension": ".py",
   "mimetype": "text/x-python",
   "name": "python",
   "nbconvert_exporter": "python",
   "pygments_lexer": "ipython3",
   "version": "3.9.9"
  }
 },
 "nbformat": 4,
 "nbformat_minor": 5
}
