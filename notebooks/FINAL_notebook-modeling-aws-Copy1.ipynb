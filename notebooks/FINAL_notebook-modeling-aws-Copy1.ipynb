{
 "cells": [
  {
   "cell_type": "markdown",
   "id": "12694d11",
   "metadata": {
    "tags": []
   },
   "source": [
    "<div style=\"display: flex; background-color: #3F579F;\">\n",
    "    <h1 style=\"margin: auto; font-weight: bold; padding: 30px 30px 0px 30px; color:#fff;\" align=\"center\">Implement a scoring model - P7</h1>\n",
    "</div>\n",
    "<div style=\"display: flex; background-color: #3F579F; margin: auto; padding: 5px 30px 0px 30px;\" >\n",
    "    <h3 style=\"width: 100%; text-align: center; float: left; font-size: 24px; color:#fff;\" align=\"center\">| Modeling Notebook |</h3>\n",
    "</div>\n",
    "<div style=\"display: flex; background-color: #3F579F; margin: auto; padding: 10px 30px 30px 30px;\">\n",
    "    <h4 style=\"width: 100%; text-align: center; float: left; font-size: 24px; color:#fff;\" align=\"center\">Data Scientist course - OpenClassrooms</h4>\n",
    "</div>"
   ]
  },
  {
   "cell_type": "markdown",
   "id": "7836cefe",
   "metadata": {
    "tags": []
   },
   "source": [
    "<div style=\"background-color: #506AB9;\" >\n",
    "    <h2 style=\"margin: auto; padding: 20px; color:#fff; \">1. Libraries</h2>\n",
    "</div>"
   ]
  },
  {
   "cell_type": "markdown",
   "id": "491b718a",
   "metadata": {
    "tags": []
   },
   "source": [
    "<div style=\"background-color: #506AB9;\" >\n",
    "    <h3 style=\"margin: auto; padding: 20px; color:#fff; \">1.1. Libraries</h3>\n",
    "</div>"
   ]
  },
  {
   "cell_type": "code",
   "execution_count": 22,
   "id": "f7ae99cd",
   "metadata": {},
   "outputs": [],
   "source": [
    "## General\n",
    "import re\n",
    "import pandas as pd\n",
    "import numpy as np\n",
    "\n",
    "## Scikit Learn library\n",
    "from sklearn.experimental import enable_halving_search_cv\n",
    "from sklearn.model_selection import train_test_split, StratifiedKFold, HalvingGridSearchCV\n",
    "from sklearn.ensemble import RandomForestClassifier, GradientBoostingClassifier\n",
    "from sklearn.metrics import (precision_score, roc_auc_score, recall_score, \n",
    "                             f1_score, fbeta_score, confusion_matrix, roc_curve, \n",
    "                             PrecisionRecallDisplay, ConfusionMatrixDisplay)\n",
    "\n",
    "## imbalanced-learn\n",
    "from imblearn.pipeline import Pipeline as imbpipeline\n",
    "from imblearn.over_sampling import SMOTE\n",
    "\n",
    "## LightGBM\n",
    "from lightgbm import LGBMClassifier\n",
    "\n",
    "## To use S3 files\n",
    "#import boto3\n",
    "#from sagemaker import get_execution_role\n",
    "\n",
    "## Own specific functions \n",
    "from functions import *"
   ]
  },
  {
   "cell_type": "markdown",
   "id": "cfd2bc8a",
   "metadata": {
    "tags": []
   },
   "source": [
    "<div style=\"background-color: #506AB9;\" >\n",
    "    <h2 style=\"margin: auto; padding: 20px; color:#fff; \">2. Importing files</h2>\n",
    "</div>"
   ]
  },
  {
   "cell_type": "markdown",
   "id": "143b1a5b",
   "metadata": {
    "tags": []
   },
   "source": [
    "<div class=\"alert alert-block alert-info\">\n",
    "    <p>Definning S3 parameters\n",
    "   </p>\n",
    "</div>"
   ]
  },
  {
   "cell_type": "markdown",
   "id": "d50f973c-1685-426c-80bf-c22df04802e5",
   "metadata": {},
   "source": [
    "connexion = boto3.client('s3')"
   ]
  },
  {
   "cell_type": "markdown",
   "id": "fd75028e-594a-46dd-a69c-f951f47481d1",
   "metadata": {},
   "source": [
    "bucket = \"oc-data-scientist\"\n",
    "subfolder = \"oc-p7/datasets/finals_datasets\"\n",
    "data_key = \"df_current_clients.csv\""
   ]
  },
  {
   "cell_type": "markdown",
   "id": "37937643-7612-4de0-95a6-aa1a9a53c3c3",
   "metadata": {},
   "source": [
    "role = get_execution_role()\n",
    "conn = boto3.client('s3')"
   ]
  },
  {
   "cell_type": "markdown",
   "id": "698b4fd2-47a6-4d77-b209-7ab7035311c3",
   "metadata": {},
   "source": [
    "contents = conn.list_objects(Bucket=bucket, Prefix=subfolder)['Contents']\n",
    "for f in contents:\n",
    "    print(f['Key'])"
   ]
  },
  {
   "cell_type": "markdown",
   "id": "24c8317a-105f-455a-87a9-dacb93772971",
   "metadata": {},
   "source": [
    "data_location = \"s3://{}/{}/{}\".format(bucket, subfolder, data_key)"
   ]
  },
  {
   "cell_type": "markdown",
   "id": "fe80cf3e",
   "metadata": {
    "tags": []
   },
   "source": [
    "<div class=\"alert alert-block alert-info\">\n",
    "    <p>Let's load the current clients\n",
    "   </p>\n",
    "</div>"
   ]
  },
  {
   "cell_type": "markdown",
   "id": "d2cf19ae-3983-4295-bd05-7328b254d49d",
   "metadata": {},
   "source": [
    "df_current_clients = pd.read_csv(data_location)"
   ]
  },
  {
   "cell_type": "code",
   "execution_count": 2,
   "id": "8b205e12",
   "metadata": {},
   "outputs": [],
   "source": [
    "df_current_clients = pd.read_csv(r\"datasets\\finals_datasets\\df_current_clients.csv\")"
   ]
  },
  {
   "cell_type": "code",
   "execution_count": 3,
   "id": "a2e8693f",
   "metadata": {},
   "outputs": [
    {
     "name": "stdout",
     "output_type": "stream",
     "text": [
      "\n",
      "Analysis Header of df_current_clients dataset\n",
      "--------------------------------------------------------------------------------\n",
      "- Dataset shape:\t\t\t 307507 rows and 509 columns\n",
      "- Total of NaN values:\t\t\t 0\n",
      "- Percentage of NaN:\t\t\t 0.0 %\n",
      "- Total of infinite values:\t\t 0\n",
      "- Percentage of infinite values:\t 0.0 %\n",
      "- Total of full duplicates rows:\t 0\n",
      "- Total of empty rows:\t\t\t 0\n",
      "- Total of empty columns:\t\t 0\n",
      "- Unique indexes:\t\t\t True\n",
      "- Memory usage:\t\t\t\t 1.2 GB\n"
     ]
    }
   ],
   "source": [
    "df_analysis(df_current_clients, \"df_current_clients\", analysis_type=\"header\")"
   ]
  },
  {
   "cell_type": "markdown",
   "id": "b6f5967f",
   "metadata": {
    "tags": []
   },
   "source": [
    "<div class=\"alert alert-block alert-warning\">\n",
    "    <p><b>Observations / Conclusions</b></p>\n",
    "    <p>First of all, let's treat the memory to optimize its usage.</p>\n",
    "</div>"
   ]
  },
  {
   "cell_type": "markdown",
   "id": "6e3ca184",
   "metadata": {
    "tags": []
   },
   "source": [
    "<div style=\"background-color: #506AB9;\" >\n",
    "    <h2 style=\"margin: auto; padding: 20px; color:#fff; \">3. Optimizing memory usage</h2>\n",
    "</div>"
   ]
  },
  {
   "cell_type": "markdown",
   "id": "6c8c5786",
   "metadata": {
    "tags": []
   },
   "source": [
    "<div class=\"alert alert-block alert-warning\">\n",
    "    <p>We should optimize the memory usage to avoid problems during executions</p>\n",
    "</div>"
   ]
  },
  {
   "cell_type": "code",
   "execution_count": 4,
   "id": "b01733dc",
   "metadata": {},
   "outputs": [],
   "source": [
    "df_current_clients = memory_optimization(df_current_clients)"
   ]
  },
  {
   "cell_type": "code",
   "execution_count": 5,
   "id": "86a97779",
   "metadata": {},
   "outputs": [
    {
     "name": "stdout",
     "output_type": "stream",
     "text": [
      "\n",
      "Analysis Header of df dataset\n",
      "--------------------------------------------------------------------------------\n",
      "- Dataset shape:\t\t\t 307507 rows and 509 columns\n",
      "- Total of NaN values:\t\t\t 0\n",
      "- Percentage of NaN:\t\t\t 0.0 %\n",
      "- Total of infinite values:\t\t 0\n",
      "- Percentage of infinite values:\t 0.0 %\n",
      "- Total of full duplicates rows:\t 0\n",
      "- Total of empty rows:\t\t\t 0\n",
      "- Total of empty columns:\t\t 0\n",
      "- Unique indexes:\t\t\t True\n",
      "- Memory usage:\t\t\t\t 459.8 MB\n"
     ]
    }
   ],
   "source": [
    "df_analysis(df_current_clients, \"df\", analysis_type=\"header\")"
   ]
  },
  {
   "cell_type": "markdown",
   "id": "729152a0",
   "metadata": {
    "tags": []
   },
   "source": [
    "<div class=\"alert alert-block alert-success\">\n",
    "    <p><b>Observations / Conclusions</b></p>\n",
    "    <p>The memory usage has been reduced.</p>\n",
    "</div>"
   ]
  },
  {
   "cell_type": "markdown",
   "id": "cfc3bc84",
   "metadata": {
    "tags": []
   },
   "source": [
    "<div style=\"background-color: #506AB9;\" >\n",
    "    <h2 style=\"margin: auto; padding: 20px; color:#fff; \">4. Analyzing target variable</h2>\n",
    "</div>"
   ]
  },
  {
   "cell_type": "markdown",
   "id": "082a765a",
   "metadata": {
    "tags": []
   },
   "source": [
    "<div class=\"alert alert-block alert-info\">\n",
    "    <p>We are going to analyze the target variable to see whether is an imbalanced class\n",
    "   </p>\n",
    "</div>"
   ]
  },
  {
   "cell_type": "code",
   "execution_count": 6,
   "id": "c60a771d",
   "metadata": {},
   "outputs": [
    {
     "data": {
      "image/png": "[encoded data removed]",
      "text/plain": [
       "<Figure size 648x360 with 2 Axes>"
      ]
     },
     "metadata": {
      "needs_background": "light"
     },
     "output_type": "display_data"
    }
   ],
   "source": [
    "barplot_and_pie(df_current_clients[\"TARGET\"], \"Target distribution\", \" \")"
   ]
  },
  {
   "cell_type": "markdown",
   "id": "fbad256b",
   "metadata": {
    "tags": []
   },
   "source": [
    "<div class=\"alert alert-block alert-warning\">\n",
    "    <p><b>Observations / Conclusions</b></p>\n",
    "    <ul style=\"list-style-type: square;\">\n",
    "        <li>Here we can see how much the dataset is imbalanced so, we are facing a imbalanced classification problem</li>\n",
    "        <li>It is easily identifying that there are <b>loans that were repaid (0)</b> in comparison of <b>loans that were not repaid (1)</b>s</li>\n",
    "        <li>We are going to treat the imbalanced class into a pipeline during the modeling</li>\n",
    "    </ul> \n",
    "</div>"
   ]
  },
  {
   "cell_type": "code",
   "execution_count": null,
   "id": "55b33550",
   "metadata": {},
   "outputs": [],
   "source": []
  },
  {
   "cell_type": "code",
   "execution_count": null,
   "id": "0dc69417",
   "metadata": {},
   "outputs": [],
   "source": []
  },
  {
   "cell_type": "markdown",
   "id": "091adf05",
   "metadata": {
    "tags": []
   },
   "source": [
    "<div class=\"alert alert-block alert-danger\">\n",
    "    <p><b>FLAG</b>\n",
    "   </p>\n",
    "</div>"
   ]
  },
  {
   "cell_type": "code",
   "execution_count": 7,
   "id": "42c7cf82",
   "metadata": {},
   "outputs": [],
   "source": [
    "df_copy = df_current_clients.copy()"
   ]
  },
  {
   "cell_type": "code",
   "execution_count": 8,
   "id": "87d19825",
   "metadata": {},
   "outputs": [],
   "source": [
    "df_copy = df_copy.sample(frac=0.2)"
   ]
  },
  {
   "cell_type": "code",
   "execution_count": 9,
   "id": "3c1ddd56",
   "metadata": {},
   "outputs": [
    {
     "data": {
      "image/png": "[encoded data removed]",
      "text/plain": [
       "<Figure size 648x360 with 2 Axes>"
      ]
     },
     "metadata": {
      "needs_background": "light"
     },
     "output_type": "display_data"
    }
   ],
   "source": [
    "barplot_and_pie(df_copy[\"TARGET\"], \"Target distribution\", \" \")"
   ]
  },
  {
   "cell_type": "code",
   "execution_count": 10,
   "id": "09e08574",
   "metadata": {},
   "outputs": [
    {
     "name": "stdout",
     "output_type": "stream",
     "text": [
      "\n",
      "Analysis Header of df dataset\n",
      "--------------------------------------------------------------------------------\n",
      "- Dataset shape:\t\t\t 61501 rows and 509 columns\n",
      "- Total of NaN values:\t\t\t 0\n",
      "- Percentage of NaN:\t\t\t 0.0 %\n",
      "- Total of infinite values:\t\t 0\n",
      "- Percentage of infinite values:\t 0.0 %\n",
      "- Total of full duplicates rows:\t 0\n",
      "- Total of empty rows:\t\t\t 0\n",
      "- Total of empty columns:\t\t 0\n",
      "- Unique indexes:\t\t\t True\n",
      "- Memory usage:\t\t\t\t 92.4 MB\n"
     ]
    }
   ],
   "source": [
    "df_analysis(df_copy, \"df\", analysis_type=\"header\")"
   ]
  },
  {
   "cell_type": "markdown",
   "id": "03ce550a",
   "metadata": {
    "tags": []
   },
   "source": [
    "<div class=\"alert alert-block alert-danger\">\n",
    "    <p><b>FLAG</b>\n",
    "   </p>\n",
    "</div>"
   ]
  },
  {
   "cell_type": "code",
   "execution_count": null,
   "id": "b396dc33",
   "metadata": {},
   "outputs": [],
   "source": []
  },
  {
   "cell_type": "code",
   "execution_count": null,
   "id": "028d0e20",
   "metadata": {},
   "outputs": [],
   "source": []
  },
  {
   "cell_type": "markdown",
   "id": "6d1d6f1f",
   "metadata": {
    "tags": []
   },
   "source": [
    "<div style=\"background-color: #506AB9;\" >\n",
    "    <h2 style=\"margin: auto; padding: 20px; color:#fff; \">5. Splitting data</h2>\n",
    "</div>"
   ]
  },
  {
   "cell_type": "markdown",
   "id": "070dbc15",
   "metadata": {
    "tags": []
   },
   "source": [
    "<div class=\"alert alert-block alert-info\">\n",
    "    <p>First of all, let's identify the training columns in the dataset\n",
    "   </p>\n",
    "</div>"
   ]
  },
  {
   "cell_type": "code",
   "execution_count": 11,
   "id": "42d326c6",
   "metadata": {},
   "outputs": [],
   "source": [
    "NOT_TRAINING_COLUMNS  = [\"TARGET\", \"SK_ID_CURR\", \"SK_ID_BUREAU\", \"SK_ID_PREV\", \"index\"] \n",
    "TRAINING_COLUMNS = [col for col in df_current_clients.columns if col not in NOT_TRAINING_COLUMNS]"
   ]
  },
  {
   "cell_type": "markdown",
   "id": "79c93e64",
   "metadata": {
    "tags": []
   },
   "source": [
    "<div class=\"alert alert-block alert-info\">\n",
    "    <p>Now, we are going to split the data\n",
    "   </p>\n",
    "</div>"
   ]
  },
  {
   "cell_type": "code",
   "execution_count": 12,
   "id": "958e4cbe",
   "metadata": {},
   "outputs": [],
   "source": [
    "X = df_current_clients[TRAINING_COLUMNS]"
   ]
  },
  {
   "cell_type": "code",
   "execution_count": 13,
   "id": "e5d3e9c0",
   "metadata": {},
   "outputs": [],
   "source": [
    "y_target = df_current_clients.loc[:,\"TARGET\"]"
   ]
  },
  {
   "cell_type": "code",
   "execution_count": 14,
   "id": "65300951",
   "metadata": {},
   "outputs": [],
   "source": [
    "X_train, X_test, y_train, y_test = train_test_split(X, y_target, test_size=0.20, stratify=y_target, random_state=42)"
   ]
  },
  {
   "cell_type": "code",
   "execution_count": 15,
   "id": "74ba677a",
   "metadata": {},
   "outputs": [
    {
     "name": "stdout",
     "output_type": "stream",
     "text": [
      "X_train: (246005, 506)\n",
      "y_train: (246005,)\n",
      "---------------------\n",
      "X_test: (61502, 506)\n",
      "y_test: (61502,)\n"
     ]
    }
   ],
   "source": [
    "print(\"X_train: {}\".format(X_train.shape))\n",
    "print(\"y_train: {}\".format(y_train.shape))\n",
    "print(\"---------------------\")\n",
    "print(\"X_test: {}\".format(X_test.shape))\n",
    "print(\"y_test: {}\".format(y_test.shape))"
   ]
  },
  {
   "cell_type": "code",
   "execution_count": null,
   "id": "5057f596-a235-46de-8008-48a6144f6ecc",
   "metadata": {},
   "outputs": [],
   "source": []
  },
  {
   "cell_type": "markdown",
   "id": "16bc2146-5bd1-44e2-815a-d52aae416d25",
   "metadata": {
    "tags": []
   },
   "source": [
    "<div class=\"alert alert-block alert-danger\">\n",
    "    <p><b>FLAG</b>\n",
    "   </p>\n",
    "</div>"
   ]
  },
  {
   "cell_type": "code",
   "execution_count": 16,
   "id": "757d3ec8-e897-4fad-9302-878840a137ba",
   "metadata": {},
   "outputs": [],
   "source": [
    "X = df_copy[TRAINING_COLUMNS]"
   ]
  },
  {
   "cell_type": "code",
   "execution_count": 17,
   "id": "3b463d4a-0c83-418b-95a2-c7e604cc2ddf",
   "metadata": {},
   "outputs": [],
   "source": [
    "y_target = df_copy.loc[:,\"TARGET\"]"
   ]
  },
  {
   "cell_type": "code",
   "execution_count": 18,
   "id": "ca4bc37e-2327-41c9-bc97-85a1cacc7404",
   "metadata": {},
   "outputs": [],
   "source": [
    "X_train, X_test, y_train, y_test = train_test_split(X, y_target, test_size=0.20, stratify=y_target, random_state=42)"
   ]
  },
  {
   "cell_type": "code",
   "execution_count": 19,
   "id": "85a39b5b-f733-4b44-b5ea-ac9849e01e23",
   "metadata": {},
   "outputs": [
    {
     "name": "stdout",
     "output_type": "stream",
     "text": [
      "X_train: (49200, 506)\n",
      "y_train: (49200,)\n",
      "---------------------\n",
      "X_test: (12301, 506)\n",
      "y_test: (12301,)\n"
     ]
    }
   ],
   "source": [
    "print(\"X_train: {}\".format(X_train.shape))\n",
    "print(\"y_train: {}\".format(y_train.shape))\n",
    "print(\"---------------------\")\n",
    "print(\"X_test: {}\".format(X_test.shape))\n",
    "print(\"y_test: {}\".format(y_test.shape))"
   ]
  },
  {
   "cell_type": "markdown",
   "id": "48a12428-95ce-4e91-b066-b250b1e0cd10",
   "metadata": {
    "tags": []
   },
   "source": [
    "<div class=\"alert alert-block alert-danger\">\n",
    "    <p><b>FLAG</b>\n",
    "   </p>\n",
    "</div>"
   ]
  },
  {
   "cell_type": "code",
   "execution_count": 20,
   "id": "86e52ead-7226-4e00-836d-db43c986ae64",
   "metadata": {},
   "outputs": [
    {
     "ename": "NameError",
     "evalue": "name 'ccc' is not defined",
     "output_type": "error",
     "traceback": [
      "\u001b[1;31m---------------------------------------------------------------------------\u001b[0m",
      "\u001b[1;31mNameError\u001b[0m                                 Traceback (most recent call last)",
      "\u001b[1;32m~\\AppData\\Local\\Temp/ipykernel_14540/1391208896.py\u001b[0m in \u001b[0;36m<module>\u001b[1;34m\u001b[0m\n\u001b[1;32m----> 1\u001b[1;33m \u001b[0mccc\u001b[0m\u001b[1;33m\u001b[0m\u001b[1;33m\u001b[0m\u001b[0m\n\u001b[0m",
      "\u001b[1;31mNameError\u001b[0m: name 'ccc' is not defined"
     ]
    }
   ],
   "source": [
    "ccc"
   ]
  },
  {
   "cell_type": "code",
   "execution_count": null,
   "id": "9dca9085-e6e8-496e-8fef-28713cad8d27",
   "metadata": {},
   "outputs": [],
   "source": []
  },
  {
   "cell_type": "code",
   "execution_count": null,
   "id": "e282a542-04a9-44a0-9dab-6474e7db15a2",
   "metadata": {},
   "outputs": [],
   "source": []
  },
  {
   "cell_type": "code",
   "execution_count": null,
   "id": "96b1eef3-86f5-4bef-a47f-d5e625735319",
   "metadata": {},
   "outputs": [],
   "source": []
  },
  {
   "cell_type": "markdown",
   "id": "6226ed5a",
   "metadata": {
    "tags": []
   },
   "source": [
    "<div style=\"background-color: #506AB9;\" >\n",
    "    <h2 style=\"margin: auto; padding: 20px; color:#fff; \">6. Modelisation</h2>\n",
    "</div>"
   ]
  },
  {
   "cell_type": "markdown",
   "id": "82e3339a",
   "metadata": {
    "tags": []
   },
   "source": [
    "<div class=\"alert alert-block alert-info\">\n",
    "    <p>We are going to face an <b>Unbalanced Classification Problem</b> and we are going to use three models</p>\n",
    "    <ul style=\"list-style-type: square;\">\n",
    "        <li>Random Forest Classifier</li>\n",
    "        <li>Support Vector Machine</li>\n",
    "        <li>LightGBM</li>\n",
    "    </ul>\n",
    "    <p>Also, we are going to use a Cost Function to penalize the Falses Positives</p>\n",
    "    <p>So, let's define the parameters to use throughout the three models</p>\n",
    "</div>"
   ]
  },
  {
   "cell_type": "markdown",
   "id": "f6f7c30f",
   "metadata": {
    "tags": []
   },
   "source": [
    "<div style=\"background-color: #506AB9;\" >\n",
    "    <h3 style=\"margin: auto; padding: 20px; color:#fff; \">6.1. General parameters</h3>\n",
    "</div>"
   ]
  },
  {
   "cell_type": "markdown",
   "id": "d8760405",
   "metadata": {
    "tags": []
   },
   "source": [
    "<div class=\"alert alert-block alert-info\">\n",
    "    <p>To treat the unbalanced class, we are going t implement OverSampling technique with SMOTE.</p>\n",
    "</div>"
   ]
  },
  {
   "cell_type": "code",
   "execution_count": null,
   "id": "d35ee1e8",
   "metadata": {},
   "outputs": [],
   "source": [
    "smote = SMOTE(random_state=42, n_jobs=-1)"
   ]
  },
  {
   "cell_type": "markdown",
   "id": "c2dd076a",
   "metadata": {
    "tags": []
   },
   "source": [
    "<div class=\"alert alert-block alert-info\">\n",
    "    <p>Also, we are going to use Stratified K-Folds cross-validator to ensure that each fold of dataset has the same proportion of observations with a given label.</p>\n",
    "</div>"
   ]
  },
  {
   "cell_type": "code",
   "execution_count": 21,
   "id": "cc925d75",
   "metadata": {},
   "outputs": [],
   "source": [
    "stratified_kfold = StratifiedKFold(n_splits=3, shuffle=True, random_state=42)"
   ]
  },
  {
   "cell_type": "markdown",
   "id": "157c8458",
   "metadata": {
    "tags": []
   },
   "source": [
    "<div class=\"alert alert-block alert-info\">\n",
    "    <p>Dataframe to compare metrics.</p>\n",
    "</div>"
   ]
  },
  {
   "cell_type": "code",
   "execution_count": null,
   "id": "5d5c91e8",
   "metadata": {},
   "outputs": [],
   "source": [
    "df_models_metrics = pd.DataFrame({})"
   ]
  },
  {
   "cell_type": "markdown",
   "id": "746482b2",
   "metadata": {
    "tags": []
   },
   "source": [
    "<div style=\"background-color: #506AB9;\" >\n",
    "    <h3 style=\"margin: auto; padding: 20px; color:#fff; \">6.2. Hyperparameters Tuning</h3>\n",
    "</div>"
   ]
  },
  {
   "cell_type": "markdown",
   "id": "31b30270",
   "metadata": {
    "tags": []
   },
   "source": [
    "<div style=\"background-color: #506AB9;\" >\n",
    "    <h4 style=\"margin: auto; padding: 20px; color:#fff; \">6.2.1. Random Forest</h4>\n",
    "</div>"
   ]
  },
  {
   "cell_type": "markdown",
   "id": "05868ca5",
   "metadata": {
    "tags": []
   },
   "source": [
    "<div class=\"alert alert-block alert-info\">\n",
    "    <p>Parameters settings</p>\n",
    "</div>"
   ]
  },
  {
   "cell_type": "code",
   "execution_count": null,
   "id": "fc6d1156",
   "metadata": {
    "tags": []
   },
   "outputs": [],
   "source": [
    "param_grid = {\n",
    "    \"n_estimators\" : np.arange(500, 1000, 100),\n",
    "    \"max_depth\" : np.arange(20, 30, 2),\n",
    "}"
   ]
  },
  {
   "cell_type": "markdown",
   "id": "09a77056",
   "metadata": {
    "tags": []
   },
   "source": [
    "<div class=\"alert alert-block alert-info\">\n",
    "    <p>Executing the model</p>\n",
    "</div>"
   ]
  },
  {
   "cell_type": "code",
   "execution_count": null,
   "id": "953ddfd4",
   "metadata": {},
   "outputs": [],
   "source": [
    "clf_rf = RandomForestClassifier(random_state=42)"
   ]
  },
  {
   "cell_type": "code",
   "execution_count": null,
   "id": "1587fe37",
   "metadata": {},
   "outputs": [],
   "source": [
    "search_clf = HalvingGridSearchCV(clf_rf, param_grid, cv=stratified_kfold, n_jobs=-1)"
   ]
  },
  {
   "cell_type": "code",
   "execution_count": null,
   "id": "cf1cb8a5-fcb5-4878-b556-a23b7eb61357",
   "metadata": {},
   "outputs": [],
   "source": [
    "search_clf.fit(X_train, y_train)"
   ]
  },
  {
   "cell_type": "markdown",
   "id": "e9d4e116",
   "metadata": {
    "tags": []
   },
   "source": [
    "<div class=\"alert alert-block alert-info\">\n",
    "    <p>ROC-AUC score</p>\n",
    "</div>"
   ]
  },
  {
   "cell_type": "code",
   "execution_count": null,
   "id": "0a4a8077",
   "metadata": {},
   "outputs": [],
   "source": [
    "search_clf.best_score_"
   ]
  },
  {
   "cell_type": "markdown",
   "id": "d707036d",
   "metadata": {
    "tags": []
   },
   "source": [
    "<div class=\"alert alert-block alert-info\">\n",
    "    <p>The best parameters</p>\n",
    "</div>"
   ]
  },
  {
   "cell_type": "code",
   "execution_count": null,
   "id": "af74a6b9",
   "metadata": {},
   "outputs": [],
   "source": [
    "search_clf.best_params_"
   ]
  },
  {
   "cell_type": "markdown",
   "id": "418c3d94",
   "metadata": {
    "tags": []
   },
   "source": [
    "<div style=\"background-color: #506AB9;\" >\n",
    "    <h4 style=\"margin: auto; padding: 20px; color:#fff; \">6.2.2. LightGBM</h4>\n",
    "</div>"
   ]
  },
  {
   "cell_type": "markdown",
   "id": "1ded2b8a",
   "metadata": {
    "tags": []
   },
   "source": [
    "<div class=\"alert alert-block alert-info\">\n",
    "    <p>Parameters settings</p>\n",
    "</div>"
   ]
  },
  {
   "cell_type": "code",
   "execution_count": null,
   "id": "5c59224d",
   "metadata": {},
   "outputs": [],
   "source": [
    "param_grid = {\n",
    "    \"n_estimators\" : [8000, 10000],\n",
    "    \"num_leaves\" : [32, 34], \n",
    "    \"max_depth\" : [8, 9]\n",
    "}"
   ]
  },
  {
   "cell_type": "markdown",
   "id": "800ac9b3",
   "metadata": {
    "tags": []
   },
   "source": [
    "<div class=\"alert alert-block alert-info\">\n",
    "    <p>Executing the model</p>\n",
    "</div>"
   ]
  },
  {
   "cell_type": "code",
   "execution_count": null,
   "id": "fdc736ef",
   "metadata": {},
   "outputs": [],
   "source": [
    "clf_lgbm = LGBMClassifier(random_state=42)"
   ]
  },
  {
   "cell_type": "code",
   "execution_count": null,
   "id": "8ae94094",
   "metadata": {},
   "outputs": [],
   "source": [
    "search_lgbm = HalvingGridSearchCV(clf_lgbm, param_grid, cv=stratified_kfold, n_jobs=-1)"
   ]
  },
  {
   "cell_type": "code",
   "execution_count": null,
   "id": "fcb7132f",
   "metadata": {},
   "outputs": [],
   "source": [
    "search_lgbm.fit(X_train, y_train)"
   ]
  },
  {
   "cell_type": "markdown",
   "id": "50abaf58",
   "metadata": {
    "tags": []
   },
   "source": [
    "<div class=\"alert alert-block alert-info\">\n",
    "    <p>ROC-AUC score</p>\n",
    "</div>"
   ]
  },
  {
   "cell_type": "code",
   "execution_count": null,
   "id": "c78e5d22",
   "metadata": {},
   "outputs": [],
   "source": [
    "search_lgbm.best_score_"
   ]
  },
  {
   "cell_type": "markdown",
   "id": "825fe979",
   "metadata": {
    "tags": []
   },
   "source": [
    "<div class=\"alert alert-block alert-info\">\n",
    "    <p>The best parameters</p>\n",
    "</div>"
   ]
  },
  {
   "cell_type": "code",
   "execution_count": null,
   "id": "fd05575a",
   "metadata": {},
   "outputs": [],
   "source": [
    "search_lgbm.best_params_"
   ]
  },
  {
   "cell_type": "markdown",
   "id": "c8f263a1",
   "metadata": {
    "tags": []
   },
   "source": [
    "<div style=\"background-color: #506AB9;\" >\n",
    "    <h4 style=\"margin: auto; padding: 20px; color:#fff; \">6.2.3. Gradient Boosting</h4>\n",
    "</div>"
   ]
  },
  {
   "cell_type": "markdown",
   "id": "d030fa87-0185-495d-96d7-04c998c558fe",
   "metadata": {
    "tags": []
   },
   "source": [
    "<div class=\"alert alert-block alert-info\">\n",
    "    <p>Parameters settings</p>\n",
    "</div>"
   ]
  },
  {
   "cell_type": "code",
   "execution_count": 25,
   "id": "8d402fdb-30ad-4a49-ada9-6db831baa803",
   "metadata": {
    "tags": []
   },
   "outputs": [],
   "source": [
    "param_grid = {\n",
    "    \"n_estimators\" : np.arange(500, 1000, 100),\n",
    "    \"max_depth\" : np.arange(20, 30, 2),\n",
    "}"
   ]
  },
  {
   "cell_type": "markdown",
   "id": "178f7771-5f8d-4d86-9b95-ea77f2117795",
   "metadata": {
    "tags": []
   },
   "source": [
    "<div class=\"alert alert-block alert-info\">\n",
    "    <p>Executing the model</p>\n",
    "</div>"
   ]
  },
  {
   "cell_type": "code",
   "execution_count": 26,
   "id": "d125dc33-ba7c-4125-ba9a-1a45c2838508",
   "metadata": {},
   "outputs": [],
   "source": [
    "clf_gb = GradientBoostingClassifier(random_state=42)"
   ]
  },
  {
   "cell_type": "code",
   "execution_count": 27,
   "id": "ecb9caa8-54f6-4c74-b6a6-49d0a23c4076",
   "metadata": {},
   "outputs": [],
   "source": [
    "search_gb = HalvingGridSearchCV(clf_gb, param_grid, scoring=\"roc_auc\", cv=stratified_kfold, n_jobs=-1)"
   ]
  },
  {
   "cell_type": "code",
   "execution_count": 28,
   "id": "e9fbec85-ed66-4a45-b5e0-3c73110026d7",
   "metadata": {},
   "outputs": [
    {
     "ename": "KeyboardInterrupt",
     "evalue": "",
     "output_type": "error",
     "traceback": [
      "\u001b[1;31m---------------------------------------------------------------------------\u001b[0m",
      "\u001b[1;31mKeyboardInterrupt\u001b[0m                         Traceback (most recent call last)",
      "\u001b[1;32m~\\AppData\\Local\\Temp/ipykernel_14540/4112690590.py\u001b[0m in \u001b[0;36m<module>\u001b[1;34m\u001b[0m\n\u001b[1;32m----> 1\u001b[1;33m \u001b[0msearch_gb\u001b[0m\u001b[1;33m.\u001b[0m\u001b[0mfit\u001b[0m\u001b[1;33m(\u001b[0m\u001b[0mX_train\u001b[0m\u001b[1;33m,\u001b[0m \u001b[0my_train\u001b[0m\u001b[1;33m)\u001b[0m\u001b[1;33m\u001b[0m\u001b[1;33m\u001b[0m\u001b[0m\n\u001b[0m",
      "\u001b[1;32m~\\miniconda3\\envs\\p7\\lib\\site-packages\\sklearn\\model_selection\\_search_successive_halving.py\u001b[0m in \u001b[0;36mfit\u001b[1;34m(self, X, y, groups, **fit_params)\u001b[0m\n\u001b[0;32m    260\u001b[0m         \u001b[0mself\u001b[0m\u001b[1;33m.\u001b[0m\u001b[0m_n_samples_orig\u001b[0m \u001b[1;33m=\u001b[0m \u001b[0m_num_samples\u001b[0m\u001b[1;33m(\u001b[0m\u001b[0mX\u001b[0m\u001b[1;33m)\u001b[0m\u001b[1;33m\u001b[0m\u001b[1;33m\u001b[0m\u001b[0m\n\u001b[0;32m    261\u001b[0m \u001b[1;33m\u001b[0m\u001b[0m\n\u001b[1;32m--> 262\u001b[1;33m         \u001b[0msuper\u001b[0m\u001b[1;33m(\u001b[0m\u001b[1;33m)\u001b[0m\u001b[1;33m.\u001b[0m\u001b[0mfit\u001b[0m\u001b[1;33m(\u001b[0m\u001b[0mX\u001b[0m\u001b[1;33m,\u001b[0m \u001b[0my\u001b[0m\u001b[1;33m=\u001b[0m\u001b[0my\u001b[0m\u001b[1;33m,\u001b[0m \u001b[0mgroups\u001b[0m\u001b[1;33m=\u001b[0m\u001b[0mgroups\u001b[0m\u001b[1;33m,\u001b[0m \u001b[1;33m**\u001b[0m\u001b[0mfit_params\u001b[0m\u001b[1;33m)\u001b[0m\u001b[1;33m\u001b[0m\u001b[1;33m\u001b[0m\u001b[0m\n\u001b[0m\u001b[0;32m    263\u001b[0m \u001b[1;33m\u001b[0m\u001b[0m\n\u001b[0;32m    264\u001b[0m         \u001b[1;31m# Set best_score_: BaseSearchCV does not set it, as refit is a callable\u001b[0m\u001b[1;33m\u001b[0m\u001b[1;33m\u001b[0m\u001b[0m\n",
      "\u001b[1;32m~\\miniconda3\\envs\\p7\\lib\\site-packages\\sklearn\\model_selection\\_search.py\u001b[0m in \u001b[0;36mfit\u001b[1;34m(self, X, y, groups, **fit_params)\u001b[0m\n\u001b[0;32m    889\u001b[0m                 \u001b[1;32mreturn\u001b[0m \u001b[0mresults\u001b[0m\u001b[1;33m\u001b[0m\u001b[1;33m\u001b[0m\u001b[0m\n\u001b[0;32m    890\u001b[0m \u001b[1;33m\u001b[0m\u001b[0m\n\u001b[1;32m--> 891\u001b[1;33m             \u001b[0mself\u001b[0m\u001b[1;33m.\u001b[0m\u001b[0m_run_search\u001b[0m\u001b[1;33m(\u001b[0m\u001b[0mevaluate_candidates\u001b[0m\u001b[1;33m)\u001b[0m\u001b[1;33m\u001b[0m\u001b[1;33m\u001b[0m\u001b[0m\n\u001b[0m\u001b[0;32m    892\u001b[0m \u001b[1;33m\u001b[0m\u001b[0m\n\u001b[0;32m    893\u001b[0m             \u001b[1;31m# multimetric is determined here because in the case of a callable\u001b[0m\u001b[1;33m\u001b[0m\u001b[1;33m\u001b[0m\u001b[0m\n",
      "\u001b[1;32m~\\miniconda3\\envs\\p7\\lib\\site-packages\\sklearn\\model_selection\\_search_successive_halving.py\u001b[0m in \u001b[0;36m_run_search\u001b[1;34m(self, evaluate_candidates)\u001b[0m\n\u001b[0;32m    365\u001b[0m             }\n\u001b[0;32m    366\u001b[0m \u001b[1;33m\u001b[0m\u001b[0m\n\u001b[1;32m--> 367\u001b[1;33m             results = evaluate_candidates(\n\u001b[0m\u001b[0;32m    368\u001b[0m                 \u001b[0mcandidate_params\u001b[0m\u001b[1;33m,\u001b[0m \u001b[0mcv\u001b[0m\u001b[1;33m,\u001b[0m \u001b[0mmore_results\u001b[0m\u001b[1;33m=\u001b[0m\u001b[0mmore_results\u001b[0m\u001b[1;33m\u001b[0m\u001b[1;33m\u001b[0m\u001b[0m\n\u001b[0;32m    369\u001b[0m             )\n",
      "\u001b[1;32m~\\miniconda3\\envs\\p7\\lib\\site-packages\\sklearn\\model_selection\\_search.py\u001b[0m in \u001b[0;36mevaluate_candidates\u001b[1;34m(candidate_params, cv, more_results)\u001b[0m\n\u001b[0;32m    836\u001b[0m                     )\n\u001b[0;32m    837\u001b[0m \u001b[1;33m\u001b[0m\u001b[0m\n\u001b[1;32m--> 838\u001b[1;33m                 out = parallel(\n\u001b[0m\u001b[0;32m    839\u001b[0m                     delayed(_fit_and_score)(\n\u001b[0;32m    840\u001b[0m                         \u001b[0mclone\u001b[0m\u001b[1;33m(\u001b[0m\u001b[0mbase_estimator\u001b[0m\u001b[1;33m)\u001b[0m\u001b[1;33m,\u001b[0m\u001b[1;33m\u001b[0m\u001b[1;33m\u001b[0m\u001b[0m\n",
      "\u001b[1;32m~\\miniconda3\\envs\\p7\\lib\\site-packages\\joblib\\parallel.py\u001b[0m in \u001b[0;36m__call__\u001b[1;34m(self, iterable)\u001b[0m\n\u001b[0;32m   1054\u001b[0m \u001b[1;33m\u001b[0m\u001b[0m\n\u001b[0;32m   1055\u001b[0m             \u001b[1;32mwith\u001b[0m \u001b[0mself\u001b[0m\u001b[1;33m.\u001b[0m\u001b[0m_backend\u001b[0m\u001b[1;33m.\u001b[0m\u001b[0mretrieval_context\u001b[0m\u001b[1;33m(\u001b[0m\u001b[1;33m)\u001b[0m\u001b[1;33m:\u001b[0m\u001b[1;33m\u001b[0m\u001b[1;33m\u001b[0m\u001b[0m\n\u001b[1;32m-> 1056\u001b[1;33m                 \u001b[0mself\u001b[0m\u001b[1;33m.\u001b[0m\u001b[0mretrieve\u001b[0m\u001b[1;33m(\u001b[0m\u001b[1;33m)\u001b[0m\u001b[1;33m\u001b[0m\u001b[1;33m\u001b[0m\u001b[0m\n\u001b[0m\u001b[0;32m   1057\u001b[0m             \u001b[1;31m# Make sure that we get a last message telling us we are done\u001b[0m\u001b[1;33m\u001b[0m\u001b[1;33m\u001b[0m\u001b[0m\n\u001b[0;32m   1058\u001b[0m             \u001b[0melapsed_time\u001b[0m \u001b[1;33m=\u001b[0m \u001b[0mtime\u001b[0m\u001b[1;33m.\u001b[0m\u001b[0mtime\u001b[0m\u001b[1;33m(\u001b[0m\u001b[1;33m)\u001b[0m \u001b[1;33m-\u001b[0m \u001b[0mself\u001b[0m\u001b[1;33m.\u001b[0m\u001b[0m_start_time\u001b[0m\u001b[1;33m\u001b[0m\u001b[1;33m\u001b[0m\u001b[0m\n",
      "\u001b[1;32m~\\miniconda3\\envs\\p7\\lib\\site-packages\\joblib\\parallel.py\u001b[0m in \u001b[0;36mretrieve\u001b[1;34m(self)\u001b[0m\n\u001b[0;32m    933\u001b[0m             \u001b[1;32mtry\u001b[0m\u001b[1;33m:\u001b[0m\u001b[1;33m\u001b[0m\u001b[1;33m\u001b[0m\u001b[0m\n\u001b[0;32m    934\u001b[0m                 \u001b[1;32mif\u001b[0m \u001b[0mgetattr\u001b[0m\u001b[1;33m(\u001b[0m\u001b[0mself\u001b[0m\u001b[1;33m.\u001b[0m\u001b[0m_backend\u001b[0m\u001b[1;33m,\u001b[0m \u001b[1;34m'supports_timeout'\u001b[0m\u001b[1;33m,\u001b[0m \u001b[1;32mFalse\u001b[0m\u001b[1;33m)\u001b[0m\u001b[1;33m:\u001b[0m\u001b[1;33m\u001b[0m\u001b[1;33m\u001b[0m\u001b[0m\n\u001b[1;32m--> 935\u001b[1;33m                     \u001b[0mself\u001b[0m\u001b[1;33m.\u001b[0m\u001b[0m_output\u001b[0m\u001b[1;33m.\u001b[0m\u001b[0mextend\u001b[0m\u001b[1;33m(\u001b[0m\u001b[0mjob\u001b[0m\u001b[1;33m.\u001b[0m\u001b[0mget\u001b[0m\u001b[1;33m(\u001b[0m\u001b[0mtimeout\u001b[0m\u001b[1;33m=\u001b[0m\u001b[0mself\u001b[0m\u001b[1;33m.\u001b[0m\u001b[0mtimeout\u001b[0m\u001b[1;33m)\u001b[0m\u001b[1;33m)\u001b[0m\u001b[1;33m\u001b[0m\u001b[1;33m\u001b[0m\u001b[0m\n\u001b[0m\u001b[0;32m    936\u001b[0m                 \u001b[1;32melse\u001b[0m\u001b[1;33m:\u001b[0m\u001b[1;33m\u001b[0m\u001b[1;33m\u001b[0m\u001b[0m\n\u001b[0;32m    937\u001b[0m                     \u001b[0mself\u001b[0m\u001b[1;33m.\u001b[0m\u001b[0m_output\u001b[0m\u001b[1;33m.\u001b[0m\u001b[0mextend\u001b[0m\u001b[1;33m(\u001b[0m\u001b[0mjob\u001b[0m\u001b[1;33m.\u001b[0m\u001b[0mget\u001b[0m\u001b[1;33m(\u001b[0m\u001b[1;33m)\u001b[0m\u001b[1;33m)\u001b[0m\u001b[1;33m\u001b[0m\u001b[1;33m\u001b[0m\u001b[0m\n",
      "\u001b[1;32m~\\miniconda3\\envs\\p7\\lib\\site-packages\\joblib\\_parallel_backends.py\u001b[0m in \u001b[0;36mwrap_future_result\u001b[1;34m(future, timeout)\u001b[0m\n\u001b[0;32m    540\u001b[0m         AsyncResults.get from multiprocessing.\"\"\"\n\u001b[0;32m    541\u001b[0m         \u001b[1;32mtry\u001b[0m\u001b[1;33m:\u001b[0m\u001b[1;33m\u001b[0m\u001b[1;33m\u001b[0m\u001b[0m\n\u001b[1;32m--> 542\u001b[1;33m             \u001b[1;32mreturn\u001b[0m \u001b[0mfuture\u001b[0m\u001b[1;33m.\u001b[0m\u001b[0mresult\u001b[0m\u001b[1;33m(\u001b[0m\u001b[0mtimeout\u001b[0m\u001b[1;33m=\u001b[0m\u001b[0mtimeout\u001b[0m\u001b[1;33m)\u001b[0m\u001b[1;33m\u001b[0m\u001b[1;33m\u001b[0m\u001b[0m\n\u001b[0m\u001b[0;32m    543\u001b[0m         \u001b[1;32mexcept\u001b[0m \u001b[0mCfTimeoutError\u001b[0m \u001b[1;32mas\u001b[0m \u001b[0me\u001b[0m\u001b[1;33m:\u001b[0m\u001b[1;33m\u001b[0m\u001b[1;33m\u001b[0m\u001b[0m\n\u001b[0;32m    544\u001b[0m             \u001b[1;32mraise\u001b[0m \u001b[0mTimeoutError\u001b[0m \u001b[1;32mfrom\u001b[0m \u001b[0me\u001b[0m\u001b[1;33m\u001b[0m\u001b[1;33m\u001b[0m\u001b[0m\n",
      "\u001b[1;32m~\\miniconda3\\envs\\p7\\lib\\concurrent\\futures\\_base.py\u001b[0m in \u001b[0;36mresult\u001b[1;34m(self, timeout)\u001b[0m\n\u001b[0;32m    438\u001b[0m                     \u001b[1;32mreturn\u001b[0m \u001b[0mself\u001b[0m\u001b[1;33m.\u001b[0m\u001b[0m__get_result\u001b[0m\u001b[1;33m(\u001b[0m\u001b[1;33m)\u001b[0m\u001b[1;33m\u001b[0m\u001b[1;33m\u001b[0m\u001b[0m\n\u001b[0;32m    439\u001b[0m \u001b[1;33m\u001b[0m\u001b[0m\n\u001b[1;32m--> 440\u001b[1;33m                 \u001b[0mself\u001b[0m\u001b[1;33m.\u001b[0m\u001b[0m_condition\u001b[0m\u001b[1;33m.\u001b[0m\u001b[0mwait\u001b[0m\u001b[1;33m(\u001b[0m\u001b[0mtimeout\u001b[0m\u001b[1;33m)\u001b[0m\u001b[1;33m\u001b[0m\u001b[1;33m\u001b[0m\u001b[0m\n\u001b[0m\u001b[0;32m    441\u001b[0m \u001b[1;33m\u001b[0m\u001b[0m\n\u001b[0;32m    442\u001b[0m                 \u001b[1;32mif\u001b[0m \u001b[0mself\u001b[0m\u001b[1;33m.\u001b[0m\u001b[0m_state\u001b[0m \u001b[1;32min\u001b[0m \u001b[1;33m[\u001b[0m\u001b[0mCANCELLED\u001b[0m\u001b[1;33m,\u001b[0m \u001b[0mCANCELLED_AND_NOTIFIED\u001b[0m\u001b[1;33m]\u001b[0m\u001b[1;33m:\u001b[0m\u001b[1;33m\u001b[0m\u001b[1;33m\u001b[0m\u001b[0m\n",
      "\u001b[1;32m~\\miniconda3\\envs\\p7\\lib\\threading.py\u001b[0m in \u001b[0;36mwait\u001b[1;34m(self, timeout)\u001b[0m\n\u001b[0;32m    310\u001b[0m         \u001b[1;32mtry\u001b[0m\u001b[1;33m:\u001b[0m    \u001b[1;31m# restore state no matter what (e.g., KeyboardInterrupt)\u001b[0m\u001b[1;33m\u001b[0m\u001b[1;33m\u001b[0m\u001b[0m\n\u001b[0;32m    311\u001b[0m             \u001b[1;32mif\u001b[0m \u001b[0mtimeout\u001b[0m \u001b[1;32mis\u001b[0m \u001b[1;32mNone\u001b[0m\u001b[1;33m:\u001b[0m\u001b[1;33m\u001b[0m\u001b[1;33m\u001b[0m\u001b[0m\n\u001b[1;32m--> 312\u001b[1;33m                 \u001b[0mwaiter\u001b[0m\u001b[1;33m.\u001b[0m\u001b[0macquire\u001b[0m\u001b[1;33m(\u001b[0m\u001b[1;33m)\u001b[0m\u001b[1;33m\u001b[0m\u001b[1;33m\u001b[0m\u001b[0m\n\u001b[0m\u001b[0;32m    313\u001b[0m                 \u001b[0mgotit\u001b[0m \u001b[1;33m=\u001b[0m \u001b[1;32mTrue\u001b[0m\u001b[1;33m\u001b[0m\u001b[1;33m\u001b[0m\u001b[0m\n\u001b[0;32m    314\u001b[0m             \u001b[1;32melse\u001b[0m\u001b[1;33m:\u001b[0m\u001b[1;33m\u001b[0m\u001b[1;33m\u001b[0m\u001b[0m\n",
      "\u001b[1;31mKeyboardInterrupt\u001b[0m: "
     ]
    }
   ],
   "source": [
    "search_gb.fit(X_train, y_train)"
   ]
  },
  {
   "cell_type": "code",
   "execution_count": null,
   "id": "c96d0a6f-32a4-43aa-b3a9-91b56dcdab1d",
   "metadata": {},
   "outputs": [],
   "source": []
  },
  {
   "cell_type": "code",
   "execution_count": null,
   "id": "dba0bb60-56f9-42c0-ae13-e5fe0a17db8c",
   "metadata": {},
   "outputs": [],
   "source": []
  },
  {
   "cell_type": "code",
   "execution_count": null,
   "id": "a171cdc6-a762-4172-a946-6330d92eb107",
   "metadata": {},
   "outputs": [],
   "source": []
  },
  {
   "cell_type": "markdown",
   "id": "ff2cd84f",
   "metadata": {
    "tags": []
   },
   "source": [
    "<div class=\"alert alert-block alert-info\">\n",
    "    <p>Parameters settings</p>\n",
    "</div>"
   ]
  },
  {
   "cell_type": "code",
   "execution_count": null,
   "id": "bf8120b3",
   "metadata": {},
   "outputs": [],
   "source": [
    "param_grid = {\n",
    "    \"gamma\" : [\"scale\", \"auto\"],\n",
    "    \"nu\" : [0.4, 0.5, 0.6]\n",
    "}"
   ]
  },
  {
   "cell_type": "code",
   "execution_count": null,
   "id": "d3c75445-be25-452b-bc66-e653593adb89",
   "metadata": {},
   "outputs": [],
   "source": [
    "clf_ocsvm.get_params().keys()"
   ]
  },
  {
   "cell_type": "markdown",
   "id": "0881a830",
   "metadata": {
    "tags": []
   },
   "source": [
    "<div class=\"alert alert-block alert-info\">\n",
    "    <p>Executing the model</p>\n",
    "</div>"
   ]
  },
  {
   "cell_type": "code",
   "execution_count": null,
   "id": "cadc9697",
   "metadata": {},
   "outputs": [],
   "source": [
    "clf_ocsvm = OneClassSVM()"
   ]
  },
  {
   "cell_type": "code",
   "execution_count": null,
   "id": "15abfeb9",
   "metadata": {},
   "outputs": [],
   "source": [
    "search_ocsvm = HalvingGridSearchCV(clf_ocsvm, param_grid, scoring=\"roc_auc\", cv=stratified_kfold, n_jobs=-1)"
   ]
  },
  {
   "cell_type": "code",
   "execution_count": null,
   "id": "eedd1d60",
   "metadata": {},
   "outputs": [],
   "source": [
    "search_ocsvm.fit(X_train, y_train)"
   ]
  },
  {
   "cell_type": "markdown",
   "id": "771f2e4e",
   "metadata": {
    "tags": []
   },
   "source": [
    "<div class=\"alert alert-block alert-info\">\n",
    "    <p>ROC-AUC score</p>\n",
    "</div>"
   ]
  },
  {
   "cell_type": "code",
   "execution_count": null,
   "id": "71be5e33",
   "metadata": {},
   "outputs": [],
   "source": [
    "search_ocsvm.best_score_"
   ]
  },
  {
   "cell_type": "markdown",
   "id": "d1cf9a06",
   "metadata": {
    "tags": []
   },
   "source": [
    "<div class=\"alert alert-block alert-info\">\n",
    "    <p>The best parameters</p>\n",
    "</div>"
   ]
  },
  {
   "cell_type": "code",
   "execution_count": null,
   "id": "29269f08",
   "metadata": {},
   "outputs": [],
   "source": [
    "search_ocsvm.best_params_"
   ]
  },
  {
   "cell_type": "code",
   "execution_count": null,
   "id": "a9d61361",
   "metadata": {},
   "outputs": [],
   "source": []
  },
  {
   "cell_type": "code",
   "execution_count": null,
   "id": "5117ad26",
   "metadata": {},
   "outputs": [],
   "source": []
  },
  {
   "cell_type": "code",
   "execution_count": null,
   "id": "674b8226",
   "metadata": {},
   "outputs": [],
   "source": []
  },
  {
   "cell_type": "code",
   "execution_count": null,
   "id": "94c29d5d",
   "metadata": {},
   "outputs": [],
   "source": []
  },
  {
   "cell_type": "code",
   "execution_count": null,
   "id": "c0e710f1",
   "metadata": {},
   "outputs": [],
   "source": []
  },
  {
   "cell_type": "markdown",
   "id": "c10f6f99",
   "metadata": {
    "tags": []
   },
   "source": [
    "<div class=\"alert alert-block alert-info\">\n",
    "    <p>Let's define the pipeline to put inside it the defined SMOTE</p>\n",
    "</div>"
   ]
  },
  {
   "cell_type": "code",
   "execution_count": null,
   "id": "58a8af88",
   "metadata": {},
   "outputs": [],
   "source": [
    "clf_ocsvm = imbpipeline(steps = [[\"Smote\", smote],\n",
    "                              [\"OneClassSVM\", OneClassSVM()]\n",
    "                          ]\n",
    "                 )"
   ]
  },
  {
   "cell_type": "markdown",
   "id": "32237014",
   "metadata": {
    "tags": []
   },
   "source": [
    "<div class=\"alert alert-block alert-info\">\n",
    "    <p>Parameters settings</p>\n",
    "</div>"
   ]
  },
  {
   "cell_type": "code",
   "execution_count": null,
   "id": "487b8590",
   "metadata": {},
   "outputs": [],
   "source": [
    "param_grid = {\n",
    "    \"OneClassSVM__gamma\" : [\"scale\", \"auto\"],\n",
    "    \"OneClassSVM__nu\" : [0.4, 0.5, 0.6]\n",
    "}"
   ]
  },
  {
   "cell_type": "markdown",
   "id": "1c5fa703",
   "metadata": {
    "tags": []
   },
   "source": [
    "<div class=\"alert alert-block alert-info\">\n",
    "    <p>Executing the model</p>\n",
    "</div>"
   ]
  },
  {
   "cell_type": "code",
   "execution_count": null,
   "id": "d15ac77e",
   "metadata": {},
   "outputs": [],
   "source": [
    "search_ocsvm = GridSearchCV(estimator=clf_ocsvm,\n",
    "                           param_grid=param_grid,\n",
    "                           scoring=\"roc_auc\",\n",
    "                           cv=stratified_kfold,\n",
    "                           n_jobs=-1,\n",
    "                           return_train_score=True)"
   ]
  },
  {
   "cell_type": "code",
   "execution_count": null,
   "id": "edaeb8cf",
   "metadata": {},
   "outputs": [],
   "source": [
    "search_ocsvm.fit(X_train, y_train)"
   ]
  },
  {
   "cell_type": "code",
   "execution_count": null,
   "id": "c401e64f",
   "metadata": {},
   "outputs": [],
   "source": []
  },
  {
   "cell_type": "code",
   "execution_count": null,
   "id": "fd737e4c",
   "metadata": {},
   "outputs": [],
   "source": []
  },
  {
   "cell_type": "code",
   "execution_count": null,
   "id": "60e7a692",
   "metadata": {},
   "outputs": [],
   "source": []
  },
  {
   "cell_type": "code",
   "execution_count": null,
   "id": "191fe27a",
   "metadata": {},
   "outputs": [],
   "source": []
  },
  {
   "cell_type": "code",
   "execution_count": null,
   "id": "7b784f9b",
   "metadata": {},
   "outputs": [],
   "source": []
  },
  {
   "cell_type": "code",
   "execution_count": null,
   "id": "dce3af20",
   "metadata": {},
   "outputs": [],
   "source": [
    "ZZZZZZZZZZZZZZZZZZZZ"
   ]
  },
  {
   "cell_type": "markdown",
   "id": "d3f37242",
   "metadata": {
    "tags": []
   },
   "source": [
    "<div style=\"background-color: red;\" >\n",
    "    <h2 style=\"margin: auto; padding: 20px; color:#fff; \">----------- FLAG -----------</h2>\n",
    "</div>"
   ]
  },
  {
   "cell_type": "markdown",
   "id": "52ba3618",
   "metadata": {
    "tags": []
   },
   "source": [
    "<div style=\"background-color: #506AB9;\" >\n",
    "    <h4 style=\"margin: auto; padding: 20px; color:#fff; \">6.1.2. Threshols selection</h4>\n",
    "</div>"
   ]
  },
  {
   "cell_type": "code",
   "execution_count": null,
   "id": "ea7edc3c",
   "metadata": {},
   "outputs": [],
   "source": [
    "def threshold_selection(y_train, y_prob):\n",
    "    \"\"\"\n",
    "    Method used to calculate the threshold.\n",
    "\n",
    "    Parameters:\n",
    "    -----------------\n",
    "        df (pandas.DataFrame): Dataset to analyze\n",
    "        y_train (1d array-like): True values\n",
    "        y_prob (1d array-like): Probabilite values predicted\n",
    "        \n",
    "    Returns:\n",
    "    -----------------\n",
    "        threshold (float) : Best threshold value\n",
    "        Threshold (image) : Plot the threshold and the best score\n",
    "    \"\"\"\n",
    "    \n",
    "    scores = []\n",
    "    \n",
    "    for threshold in np.linspace(0, 1, num=101):\n",
    "        y_prob_value = (y_prob > threshold)*1\n",
    "        score = fbeta_score(y_train, y_prob_value, beta = 2)\n",
    "        scores.append(score) \n",
    "\n",
    "    scores = np.asarray(scores)\n",
    "    best_threshold, best_score = (scores.argmax()*.01, round(scores.max(),3))\n",
    "    \n",
    "    print(\"Best results\")\n",
    "    print(\"- Best Threshold:\\t\", best_threshold)\n",
    "    print(\"- Best Score:\\t\\t\", best_score)\n",
    "    print(\"\\n\")\n",
    "    \n",
    "    plt.subplots(1, figsize=(6, 5))\n",
    "    plt.plot(np.linspace(0, 1, num=101), scores, lw=1)\n",
    "    plt.axvline(best_threshold, ls=\"--\", lw=1, c=\"r\")\n",
    "    plt.title(\"Threshold\")\n",
    "    plt.xlabel(\"proba threshold\")\n",
    "    plt.ylabel(\"Score performed\")\n",
    "    plt.show()\n",
    "    \n",
    "    return best_threshold"
   ]
  },
  {
   "cell_type": "markdown",
   "id": "c57431a8",
   "metadata": {
    "tags": []
   },
   "source": [
    "<div style=\"background-color: #506AB9;\" >\n",
    "    <h4 style=\"margin: auto; padding: 20px; color:#fff; \">6.1.3. Custom Score</h4>\n",
    "</div>"
   ]
  },
  {
   "cell_type": "markdown",
   "id": "8ad8f27c",
   "metadata": {
    "tags": []
   },
   "source": [
    "<div class=\"alert alert-block alert-info\">\n",
    "    <p>We need to penalize the <b>False Negative</b> that are loands <b>will be in default</b>, and they were <b>predicted incorrectly</b>. Due to that, we are going to define a <b>Custom Score</b>.\n",
    "    </p>\n",
    "</div>"
   ]
  },
  {
   "cell_type": "code",
   "execution_count": null,
   "id": "aa4b750f",
   "metadata": {},
   "outputs": [],
   "source": [
    "def custom_score(y_true, y_pred, threshold):\n",
    "    \"\"\"\n",
    "    Method used to calculate a score based on the penalization of False Negatives.\n",
    "\n",
    "    Parameters:\n",
    "    -----------------\n",
    "        y_true (series): True values\n",
    "        y_pred (series): Predicted values\n",
    "        threshold (float): Threshold value to use\n",
    "        \n",
    "    Returns:\n",
    "    -----------------\n",
    "        Score. (float): Score obtained based on the rules defined to measure. \n",
    "    \"\"\"\n",
    "    \n",
    "    # Getting the probability outputs from \"predict_proba\"\n",
    "    y_pred = (y_pred > threshold).astype(int)\n",
    "    \n",
    "    TN_rate = 1        # Loans that are not in default and were predicted correctly\n",
    "    TP_rate = 1        # Loans that are in default and were predicted correctly\n",
    "    FP_rate = 0        # Loans that are not in default and were predicted incorrectly\n",
    "    FN_rate = -100      # Loans that are in default and were were predicted incorrectly\n",
    "    \n",
    "    # Getting all values based on confusion matrix\n",
    "    (TN, FP, FN, TP) = confusion_matrix(y_true, y_pred, labels=[0, 1]).ravel()\n",
    "\n",
    "    # Total of default and not default cases\n",
    "    total_not_default = TN + FP     # Not default cases\n",
    "    total_default = TP + FN         # Default cases \n",
    "    \n",
    "    gain_total = TN*TN_rate + TP*TP_rate + FP*FP_rate + FN*FN_rate\n",
    "    gain_maximun = total_not_default*TN_rate + total_default*TP_rate\n",
    "    gain_minumun = total_not_default*TN_rate + total_default*FN_rate\n",
    "    \n",
    "    # normalize to get score between 0 (baseline) and 1\n",
    "    score = (gain_total - gain_minumun) / (gain_maximun - gain_minumun)\n",
    "    \n",
    "    return score"
   ]
  },
  {
   "cell_type": "markdown",
   "id": "deed1db6",
   "metadata": {
    "tags": []
   },
   "source": [
    "<div style=\"background-color: #506AB9;\" >\n",
    "    <h3 style=\"margin: auto; padding: 20px; color:#fff; \">6.2. Models</h3>\n",
    "</div>"
   ]
  },
  {
   "cell_type": "markdown",
   "id": "9b11101f",
   "metadata": {
    "tags": []
   },
   "source": [
    "<div style=\"background-color: #506AB9;\" >\n",
    "    <h4 style=\"margin: auto; padding: 20px; color:#fff; \">6.2.1. Random Forest</h4>\n",
    "</div>"
   ]
  },
  {
   "cell_type": "code",
   "execution_count": null,
   "id": "4bb604f7",
   "metadata": {},
   "outputs": [],
   "source": [
    "from sklearn.model_selection import cross_val_score"
   ]
  },
  {
   "cell_type": "code",
   "execution_count": null,
   "id": "f7b19b88",
   "metadata": {},
   "outputs": [],
   "source": [
    "clf_rf = imbpipeline(steps = [[\"Smote\", smote],\n",
    "                              [\"Random_Forest\", RandomForestClassifier(n_estimators=2000, \n",
    "                                                                       max_depth=45,\n",
    "                                                                       random_state=42,\n",
    "                                                                       n_jobs=-1)]\n",
    "                          ]\n",
    "                 )"
   ]
  },
  {
   "cell_type": "code",
   "execution_count": null,
   "id": "59710dec",
   "metadata": {},
   "outputs": [],
   "source": [
    "# Get the score for each validation score method to get accuracy of model\n",
    "score = cross_val_score(clf_rf, X_train, y_train, cv=stratified_kfold, scoring=\"roc_auc\")"
   ]
  },
  {
   "cell_type": "code",
   "execution_count": null,
   "id": "a2c023da",
   "metadata": {},
   "outputs": [],
   "source": [
    "score"
   ]
  },
  {
   "cell_type": "code",
   "execution_count": null,
   "id": "162a2381",
   "metadata": {},
   "outputs": [],
   "source": []
  },
  {
   "cell_type": "code",
   "execution_count": null,
   "id": "9b52ed69",
   "metadata": {},
   "outputs": [],
   "source": []
  },
  {
   "cell_type": "markdown",
   "id": "ee37664a",
   "metadata": {
    "tags": []
   },
   "source": [
    "<div class=\"alert alert-block alert-info\">\n",
    "    <p>Let's define the pipeline to put inside it the defined SMOTE</p>\n",
    "</div>"
   ]
  },
  {
   "cell_type": "code",
   "execution_count": null,
   "id": "5735dbeb",
   "metadata": {},
   "outputs": [],
   "source": [
    "clf_rf = imbpipeline(steps = [[\"Smote\", smote],\n",
    "                              [\"Random_Forest\", RandomForestClassifier(random_state=42,\n",
    "                                                                       n_jobs=-1, verbose=2)]\n",
    "                          ]\n",
    "                 )"
   ]
  },
  {
   "cell_type": "markdown",
   "id": "bd6c4cc9",
   "metadata": {
    "tags": []
   },
   "source": [
    "<div class=\"alert alert-block alert-info\">\n",
    "    <p>Parameters settings</p>\n",
    "</div>"
   ]
  },
  {
   "cell_type": "code",
   "execution_count": null,
   "id": "533c67c8",
   "metadata": {},
   "outputs": [],
   "source": [
    "param_grid = {\n",
    "    \"Random_Forest__n_estimators\" : [1000], # 3000, 4000\n",
    "    \"Random_Forest__max_depth\" : [45],#, 48 23, 24, 27\n",
    "}"
   ]
  },
  {
   "cell_type": "markdown",
   "id": "2e9b95c5",
   "metadata": {},
   "source": [
    "param_grid = {\n",
    "    \"Random_Forest__n_estimators\" : [400, 450, 500, 2000, 3000, 4000],\n",
    "    \"Random_Forest__max_depth\" : [23, 24, 27, 45, 48, 50],\n",
    "}"
   ]
  },
  {
   "cell_type": "markdown",
   "id": "f3151f92",
   "metadata": {
    "tags": []
   },
   "source": [
    "<div class=\"alert alert-block alert-info\">\n",
    "    <p>Executing the model</p>\n",
    "</div>"
   ]
  },
  {
   "cell_type": "code",
   "execution_count": null,
   "id": "0f2ff321",
   "metadata": {},
   "outputs": [],
   "source": [
    "search_rf = GridSearchCV(estimator=clf_rf,\n",
    "                         param_grid=param_grid,\n",
    "                         scoring=\"roc_auc\",\n",
    "                         cv=stratified_kfold,\n",
    "                         return_train_score=True)"
   ]
  },
  {
   "cell_type": "code",
   "execution_count": null,
   "id": "8d066150",
   "metadata": {},
   "outputs": [],
   "source": [
    "search_rf.fit(X_train, y_train)"
   ]
  },
  {
   "cell_type": "markdown",
   "id": "8d6b8937",
   "metadata": {
    "tags": []
   },
   "source": [
    "<div class=\"alert alert-block alert-info\">\n",
    "    <p>The best parameters</p>\n",
    "</div>"
   ]
  },
  {
   "cell_type": "code",
   "execution_count": null,
   "id": "1ebf2e0b",
   "metadata": {},
   "outputs": [],
   "source": [
    "search_rf.best_params_"
   ]
  },
  {
   "cell_type": "markdown",
   "id": "c84ca33e",
   "metadata": {
    "tags": []
   },
   "source": [
    "<div class=\"alert alert-block alert-info\">\n",
    "    <p>Making predictions and probabilities based on the best results for the model</p>\n",
    "</div>"
   ]
  },
  {
   "cell_type": "code",
   "execution_count": null,
   "id": "22291222",
   "metadata": {},
   "outputs": [],
   "source": [
    "model_rf = search_rf.best_estimator_"
   ]
  },
  {
   "cell_type": "code",
   "execution_count": null,
   "id": "e76c7cc1",
   "metadata": {
    "tags": []
   },
   "outputs": [],
   "source": [
    "y_pred = model_rf.predict(X_test)\n",
    "y_prob = model_rf.predict_proba(X_test)\n",
    "y_prob = y_prob[:, 1]"
   ]
  },
  {
   "cell_type": "markdown",
   "id": "0674acea",
   "metadata": {
    "tags": []
   },
   "source": [
    "<div class=\"alert alert-block alert-info\">\n",
    "    <p>Let's selet the threshold based on the best parameters</p>\n",
    "</div>"
   ]
  },
  {
   "cell_type": "code",
   "execution_count": null,
   "id": "523e457d",
   "metadata": {},
   "outputs": [],
   "source": [
    "threshold = threshold_selection(y_test, y_prob)"
   ]
  },
  {
   "cell_type": "markdown",
   "id": "9a31627d",
   "metadata": {
    "tags": []
   },
   "source": [
    "<div class=\"alert alert-block alert-info\">\n",
    "    <p>Getting the probability outputs from \"predict_proba\" based on the threshold</p>\n",
    "</div>"
   ]
  },
  {
   "cell_type": "code",
   "execution_count": null,
   "id": "7d343369",
   "metadata": {},
   "outputs": [],
   "source": [
    "y_pred = (y_pred > threshold).astype(int)"
   ]
  },
  {
   "cell_type": "markdown",
   "id": "545518fd",
   "metadata": {
    "tags": []
   },
   "source": [
    "<div class=\"alert alert-block alert-info\">\n",
    "    <p>Now, we can get the metrics</p>\n",
    "</div>"
   ]
  },
  {
   "cell_type": "code",
   "execution_count": null,
   "id": "9dc9bbf8",
   "metadata": {
    "tags": []
   },
   "outputs": [],
   "source": [
    "precision = round(precision_score(y_test, y_pred), 3)\n",
    "roc_auc = round(roc_auc_score(y_test, y_prob), 3)\n",
    "recall = round(recall_score(y_test, y_pred), 3)\n",
    "f1 = round(f1_score(y_test, y_pred), 3)\n",
    "f2 = round(fbeta_score(y_test, y_pred, beta=2), 3)\n",
    "custom = round(custom_score(y_test, y_pred, threshold), 3)\n",
    "\n",
    "# Get the results\n",
    "print(\"Model's metrics\")\n",
    "print(\"- Precision:\\t\\t\", precision)\n",
    "print(\"- ROC-AUC:\\t\\t\", roc_auc)\n",
    "print(\"- Recall:\\t\\t\", recall)\n",
    "print(\"- F1:\\t\\t\\t\", f1)\n",
    "print(\"- F2:\\t\\t\\t\", f2)\n",
    "print(\"- Custom Score:\\t\\t\", custom)\n",
    "print(\"- Duration:\\t\\t\", round(search_rf.cv_results_[\"mean_score_time\"][0], 3), \" minutes\")"
   ]
  },
  {
   "cell_type": "markdown",
   "id": "8c5580c0",
   "metadata": {
    "tags": []
   },
   "source": [
    "<div class=\"alert alert-block alert-danger\">\n",
    "    <p><b>Observations / Conclusions</b></p>\n",
    "    <ul style=\"list-style-type: square;\">\n",
    "        <li>XXXXXXXXXXXXXXXXXXXXXXXX</li>\n",
    "    </ul> \n",
    "</div>"
   ]
  },
  {
   "cell_type": "markdown",
   "id": "23bbd38c",
   "metadata": {
    "tags": []
   },
   "source": [
    "<div class=\"alert alert-block alert-info\">\n",
    "    <p>Plotting the Compute ROC curve and ROC area for each class</p>\n",
    "</div>"
   ]
  },
  {
   "cell_type": "code",
   "execution_count": null,
   "id": "bde33694",
   "metadata": {},
   "outputs": [],
   "source": [
    "fpr = dict()\n",
    "tpr = dict()\n",
    "fpr[\"micro\"], tpr[\"micro\"], _ = roc_curve(y_test.ravel(), y_prob.ravel())\n",
    "\n",
    "plt.subplots(1, figsize=(6, 6))\n",
    "plt.title(\"Receiver Operating Characteristic\")\n",
    "plt.plot(fpr[\"micro\"], tpr[\"micro\"])\n",
    "plt.plot([0, 1], ls=\"--\")\n",
    "plt.plot([0, 0], [1, 0] , c=\".7\"), plt.plot([1, 1] , c=\".7\")\n",
    "plt.ylabel(\"True Positive Rate\")\n",
    "plt.xlabel(\"False Positive Rate\")\n",
    "plt.show()"
   ]
  },
  {
   "cell_type": "markdown",
   "id": "ef61bec4",
   "metadata": {
    "tags": []
   },
   "source": [
    "<div class=\"alert alert-block alert-info\">\n",
    "    <p>Plotting the Precision-Recall curve</p>\n",
    "</div>"
   ]
  },
  {
   "cell_type": "code",
   "execution_count": null,
   "id": "62545ccb",
   "metadata": {},
   "outputs": [],
   "source": [
    "display = PrecisionRecallDisplay.from_predictions(y_test.ravel(), y_prob.ravel(), name=\"RandomForestClassifier\")\n",
    "_ = display.ax_.set_title(\"2-class Precision-Recall curve\")"
   ]
  },
  {
   "cell_type": "markdown",
   "id": "bd99a828",
   "metadata": {
    "tags": []
   },
   "source": [
    "<div class=\"alert alert-block alert-info\">\n",
    "    <p>Plotting the Confusion Matrix</p>\n",
    "</div>"
   ]
  },
  {
   "cell_type": "code",
   "execution_count": null,
   "id": "789f535f",
   "metadata": {},
   "outputs": [],
   "source": [
    "display = ConfusionMatrixDisplay.from_predictions(y_test, y_pred, display_labels=[\"Repaid\",\"No repaid\"])\n",
    "_ = display.ax_.set_title(\"Confusion matrix\")"
   ]
  },
  {
   "cell_type": "markdown",
   "id": "6980ee7c",
   "metadata": {
    "tags": []
   },
   "source": [
    "<div class=\"alert alert-block alert-info\">\n",
    "    <p>Adding metrics to compare with others models</p>\n",
    "</div>"
   ]
  },
  {
   "cell_type": "code",
   "execution_count": null,
   "id": "316d050f",
   "metadata": {},
   "outputs": [],
   "source": [
    "df_temp = pd.DataFrame({\n",
    "    \"Model\" : [\"Random Forest\"],\n",
    "    \"Precision\" : precision, \n",
    "    \"ROC-AUC\" : roc_auc,    \n",
    "    \"Recall\" : recall,\n",
    "    \"F1\" : f1,\n",
    "    \"F2\" : f2,\n",
    "    \"Custom\" : custom,\n",
    "    \"Duration\" : round(search_rf.cv_results_[\"mean_score_time\"][0], 3)\n",
    "})"
   ]
  },
  {
   "cell_type": "code",
   "execution_count": null,
   "id": "3181acd6",
   "metadata": {},
   "outputs": [],
   "source": [
    "df_models_metrics = pd.concat([df_models_metrics, df_temp])\n",
    "df_models_metrics"
   ]
  },
  {
   "cell_type": "code",
   "execution_count": null,
   "id": "2b35e19f",
   "metadata": {},
   "outputs": [],
   "source": [
    "df_models_metrics = pd.concat([df_models_metrics, df_temp])\n",
    "df_models_metrics"
   ]
  },
  {
   "cell_type": "code",
   "execution_count": null,
   "id": "f41b7757",
   "metadata": {},
   "outputs": [],
   "source": [
    "x"
   ]
  },
  {
   "cell_type": "markdown",
   "id": "89d14b1e",
   "metadata": {
    "tags": []
   },
   "source": [
    "<div style=\"background-color: #506AB9;\" >\n",
    "    <h4 style=\"margin: auto; padding: 20px; color:#fff; \">6.2.2. One-Class SVM</h4>\n",
    "</div>"
   ]
  },
  {
   "cell_type": "markdown",
   "id": "956f3859",
   "metadata": {
    "tags": []
   },
   "source": [
    "<div class=\"alert alert-block alert-info\">\n",
    "    <p>Let's define the pipeline to put inside it the defined SMOTE</p>\n",
    "</div>"
   ]
  },
  {
   "cell_type": "code",
   "execution_count": null,
   "id": "6f8e1785",
   "metadata": {},
   "outputs": [],
   "source": [
    "clf_ocsvm = imbpipeline(steps = [[\"Smote\", smote],\n",
    "                              [\"OneClassSVM\", OneClassSVM()]\n",
    "                          ]\n",
    "                 )"
   ]
  },
  {
   "cell_type": "markdown",
   "id": "6ba6d3f6",
   "metadata": {
    "tags": []
   },
   "source": [
    "<div class=\"alert alert-block alert-info\">\n",
    "    <p>Parameters settings</p>\n",
    "</div>"
   ]
  },
  {
   "cell_type": "code",
   "execution_count": null,
   "id": "3aafb4ce",
   "metadata": {},
   "outputs": [],
   "source": [
    "param_grid = {\n",
    "    \"OneClassSVM__gamma\" : [\"scale\", \"auto\"],\n",
    "    \"OneClassSVM__nu\" : [0.4, 0.5, 0.6]\n",
    "}"
   ]
  },
  {
   "cell_type": "markdown",
   "id": "599537a4",
   "metadata": {
    "tags": []
   },
   "source": [
    "<div class=\"alert alert-block alert-info\">\n",
    "    <p>Executing the model</p>\n",
    "</div>"
   ]
  },
  {
   "cell_type": "code",
   "execution_count": null,
   "id": "148f76c4",
   "metadata": {},
   "outputs": [],
   "source": [
    "search_ocsvm = GridSearchCV(estimator=clf_ocsvm,\n",
    "                           param_grid=param_grid,\n",
    "                           scoring=\"roc_auc\",\n",
    "                           cv=stratified_kfold,\n",
    "                           n_jobs=-1,\n",
    "                           return_train_score=True)"
   ]
  },
  {
   "cell_type": "code",
   "execution_count": null,
   "id": "bec4759c",
   "metadata": {},
   "outputs": [],
   "source": [
    "search_ocsvm.fit(X_train, y_train)"
   ]
  },
  {
   "cell_type": "markdown",
   "id": "18f155b1",
   "metadata": {
    "tags": []
   },
   "source": [
    "<div class=\"alert alert-block alert-info\">\n",
    "    <p>Making predictions and probabilities based on the best results for the model</p>\n",
    "</div>"
   ]
  },
  {
   "cell_type": "code",
   "execution_count": null,
   "id": "38a6c47c",
   "metadata": {},
   "outputs": [],
   "source": [
    "model_ocsvm = search_ocsvm.best_estimator_"
   ]
  },
  {
   "cell_type": "code",
   "execution_count": null,
   "id": "9d959c88",
   "metadata": {
    "tags": []
   },
   "outputs": [],
   "source": [
    "y_pred = model_ocsvm.predict(X_test)\n",
    "y_prob = model_ocsvm.predict_proba(X_test)\n",
    "y_prob = y_prob[:, 1]"
   ]
  },
  {
   "cell_type": "markdown",
   "id": "20a24603",
   "metadata": {
    "tags": []
   },
   "source": [
    "<div class=\"alert alert-block alert-info\">\n",
    "    <p>Let's selet the threshold based on the best parameters</p>\n",
    "</div>"
   ]
  },
  {
   "cell_type": "code",
   "execution_count": null,
   "id": "fb364a35",
   "metadata": {},
   "outputs": [],
   "source": [
    "threshold = threshold_selection(y_test, y_prob)"
   ]
  },
  {
   "cell_type": "markdown",
   "id": "ce752ac0",
   "metadata": {
    "tags": []
   },
   "source": [
    "<div class=\"alert alert-block alert-info\">\n",
    "    <p>Getting the probability outputs from \"predict_proba\" based on the threshold</p>\n",
    "</div>"
   ]
  },
  {
   "cell_type": "code",
   "execution_count": null,
   "id": "4b13b248",
   "metadata": {},
   "outputs": [],
   "source": [
    "y_pred = (y_pred > threshold).astype(int)"
   ]
  },
  {
   "cell_type": "markdown",
   "id": "59a72cff",
   "metadata": {
    "tags": []
   },
   "source": [
    "<div class=\"alert alert-block alert-info\">\n",
    "    <p>Now, we can get the metrics</p>\n",
    "</div>"
   ]
  },
  {
   "cell_type": "code",
   "execution_count": null,
   "id": "c5795a09",
   "metadata": {
    "tags": []
   },
   "outputs": [],
   "source": [
    "precision = round(precision_score(y_test, y_pred), 3)\n",
    "roc_auc = round(roc_auc_score(y_test, y_prob), 3)\n",
    "recall = round(recall_score(y_test, y_pred), 3)\n",
    "f1 = round(f1_score(y_test, y_pred), 3)\n",
    "f2 = round(fbeta_score(y_test, y_pred, beta=2), 3)\n",
    "custom = round(custom_score(y_test, y_pred, threshold), 3)\n",
    "\n",
    "# Get the results\n",
    "print(\"Model's metrics\")\n",
    "print(\"- Precision:\\t\\t\", precision)\n",
    "print(\"- ROC-AUC:\\t\\t\", roc_auc)\n",
    "print(\"- Recall:\\t\\t\", recall)\n",
    "print(\"- F1:\\t\\t\\t\", f1)\n",
    "print(\"- F2:\\t\\t\\t\", f2)\n",
    "print(\"- Custom Score:\\t\\t\", custom)\n",
    "print(\"- Duration:\\t\\t\", round(search_lgbm.cv_results_[\"mean_score_time\"][0], 3), \" minutes\")"
   ]
  },
  {
   "cell_type": "markdown",
   "id": "56ea2a41",
   "metadata": {
    "tags": []
   },
   "source": [
    "<div class=\"alert alert-block alert-danger\">\n",
    "    <p><b>Observations / Conclusions</b></p>\n",
    "    <ul style=\"list-style-type: square;\">\n",
    "        <li>XXXXXXXXXXXXXXXXXXXXXXXX</li>\n",
    "    </ul> \n",
    "</div>"
   ]
  },
  {
   "cell_type": "markdown",
   "id": "28e3a775",
   "metadata": {
    "tags": []
   },
   "source": [
    "<div class=\"alert alert-block alert-info\">\n",
    "    <p>Plotting the Compute ROC curve and ROC area for each class</p>\n",
    "</div>"
   ]
  },
  {
   "cell_type": "code",
   "execution_count": null,
   "id": "a900e7a1",
   "metadata": {},
   "outputs": [],
   "source": [
    "fpr = dict()\n",
    "tpr = dict()\n",
    "fpr[\"micro\"], tpr[\"micro\"], _ = roc_curve(y_test.ravel(), y_prob.ravel())\n",
    "\n",
    "plt.subplots(1, figsize=(6, 6))\n",
    "plt.title(\"Receiver Operating Characteristic\")\n",
    "plt.plot(fpr[\"micro\"], tpr[\"micro\"])\n",
    "plt.plot([0, 1], ls=\"--\")\n",
    "plt.plot([0, 0], [1, 0] , c=\".7\"), plt.plot([1, 1] , c=\".7\")\n",
    "plt.ylabel(\"True Positive Rate\")\n",
    "plt.xlabel(\"False Positive Rate\")\n",
    "plt.show()"
   ]
  },
  {
   "cell_type": "markdown",
   "id": "2d13805e",
   "metadata": {
    "tags": []
   },
   "source": [
    "<div class=\"alert alert-block alert-info\">\n",
    "    <p>Plotting the Precision-Recall curve</p>\n",
    "</div>"
   ]
  },
  {
   "cell_type": "code",
   "execution_count": null,
   "id": "743bdffd",
   "metadata": {},
   "outputs": [],
   "source": [
    "display = PrecisionRecallDisplay.from_predictions(y_test.ravel(), y_prob.ravel(), name=\"LGBMClassifier\")\n",
    "_ = display.ax_.set_title(\"2-class Precision-Recall curve\")"
   ]
  },
  {
   "cell_type": "markdown",
   "id": "6ed81ba1",
   "metadata": {
    "tags": []
   },
   "source": [
    "<div class=\"alert alert-block alert-info\">\n",
    "    <p>Plotting the Confusion Matrix</p>\n",
    "</div>"
   ]
  },
  {
   "cell_type": "code",
   "execution_count": null,
   "id": "e6ab7594",
   "metadata": {},
   "outputs": [],
   "source": [
    "display = ConfusionMatrixDisplay.from_predictions(y_test, y_pred, display_labels=[\"Repaid\",\"No repaid\"])\n",
    "_ = display.ax_.set_title(\"Confusion matrix\")"
   ]
  },
  {
   "cell_type": "markdown",
   "id": "4d31e45c",
   "metadata": {
    "tags": []
   },
   "source": [
    "<div class=\"alert alert-block alert-info\">\n",
    "    <p>Adding metrics to compare with others models</p>\n",
    "</div>"
   ]
  },
  {
   "cell_type": "code",
   "execution_count": null,
   "id": "1a136bd8",
   "metadata": {},
   "outputs": [],
   "source": [
    "df_temp = pd.DataFrame({\n",
    "    \"Model\" : [\"Random Forest\"],\n",
    "    \"Precision\" : precision, \n",
    "    \"ROC-AUC\" : roc_auc,    \n",
    "    \"Recall\" : recall,\n",
    "    \"F1\" : f1,\n",
    "    \"F2\" : f2,\n",
    "    \"Custom\" : custom,\n",
    "    \"Duration\" : round(df_results.iloc[search.best_index_][\"mean_score_time\"], 3)\n",
    "})"
   ]
  },
  {
   "cell_type": "code",
   "execution_count": null,
   "id": "2ef40088",
   "metadata": {},
   "outputs": [],
   "source": [
    "df_models_metrics = pd.concat([df_models_metrics, df_temp])\n",
    "df_models_metrics"
   ]
  },
  {
   "cell_type": "markdown",
   "id": "4fcec43e",
   "metadata": {
    "tags": []
   },
   "source": [
    "<div style=\"background-color: #506AB9;\" >\n",
    "    <h4 style=\"margin: auto; padding: 20px; color:#fff; \">6.2.3. LightGBM</h4>\n",
    "</div>"
   ]
  },
  {
   "cell_type": "markdown",
   "id": "241a89f5",
   "metadata": {
    "tags": []
   },
   "source": [
    "<div class=\"alert alert-block alert-info\">\n",
    "    <p>Let's define the pipeline to put inside it the defined SMOTE</p>\n",
    "    <p>We are going to use most of parameters used in the kernel selected</p>\n",
    "</div>"
   ]
  },
  {
   "cell_type": "code",
   "execution_count": null,
   "id": "d296eb61",
   "metadata": {},
   "outputs": [],
   "source": [
    "clf_lgbm = imbpipeline(steps = [[\"Smote\", smote],\n",
    "                                [\"LightGBM\", LGBMClassifier(metric=\"None\",\n",
    "                                                            learning_rate=0.02,\n",
    "                                                            colsample_bytree=0.9497036,\n",
    "                                                            subsample=0.8715623,\n",
    "                                                            reg_alpha=0.041545473,\n",
    "                                                            reg_lambda=0.0735294,\n",
    "                                                            min_split_gain=0.0222415,\n",
    "                                                            min_child_weight=39.3259775,\n",
    "                                                            n_jobs=-1)]\n",
    "                          ]\n",
    "                 )"
   ]
  },
  {
   "cell_type": "markdown",
   "id": "1d9ccea2",
   "metadata": {
    "tags": []
   },
   "source": [
    "<div class=\"alert alert-block alert-info\">\n",
    "    <p>Parameters settings</p>\n",
    "</div>"
   ]
  },
  {
   "cell_type": "code",
   "execution_count": null,
   "id": "da3048f5",
   "metadata": {},
   "outputs": [],
   "source": [
    "param_grid = {\n",
    "    \"LightGBM__n_estimators\" : [8000, 10000],\n",
    "    \"LightGBM__num_leaves\" : [32, 34], \n",
    "    \"LightGBM__max_depth\" : [8, 9]\n",
    "}"
   ]
  },
  {
   "cell_type": "markdown",
   "id": "81157218",
   "metadata": {
    "tags": []
   },
   "source": [
    "<div class=\"alert alert-block alert-info\">\n",
    "    <p>Executing the model</p>\n",
    "</div>"
   ]
  },
  {
   "cell_type": "code",
   "execution_count": null,
   "id": "fa6126dd",
   "metadata": {},
   "outputs": [],
   "source": [
    "search_lgbm = GridSearchCV(estimator=clf_lgbm,\n",
    "                           param_grid=param_grid,\n",
    "                           scoring=\"roc_auc\",\n",
    "                           cv=stratified_kfold,\n",
    "                           n_jobs=-1,\n",
    "                           return_train_score=True)"
   ]
  },
  {
   "cell_type": "code",
   "execution_count": null,
   "id": "47deee01",
   "metadata": {},
   "outputs": [],
   "source": [
    "search_lgbm.fit(X_train, y_train)"
   ]
  },
  {
   "cell_type": "markdown",
   "id": "80d3e15e",
   "metadata": {
    "tags": []
   },
   "source": [
    "<div class=\"alert alert-block alert-info\">\n",
    "    <p>Making predictions and probabilities based on the best results for the model</p>\n",
    "</div>"
   ]
  },
  {
   "cell_type": "code",
   "execution_count": null,
   "id": "0bafb9cb",
   "metadata": {},
   "outputs": [],
   "source": [
    "model_lgbm = search_lgbm.best_estimator_"
   ]
  },
  {
   "cell_type": "code",
   "execution_count": null,
   "id": "9494aae5",
   "metadata": {
    "tags": []
   },
   "outputs": [],
   "source": [
    "y_pred = model_lgbm.predict(X_test)\n",
    "y_prob = model_lgbm.predict_proba(X_test)\n",
    "y_prob = y_prob[:, 1]"
   ]
  },
  {
   "cell_type": "markdown",
   "id": "3af2b4fd",
   "metadata": {
    "tags": []
   },
   "source": [
    "<div class=\"alert alert-block alert-info\">\n",
    "    <p>Let's selet the threshold based on the best parameters</p>\n",
    "</div>"
   ]
  },
  {
   "cell_type": "code",
   "execution_count": null,
   "id": "db77146b",
   "metadata": {},
   "outputs": [],
   "source": [
    "threshold = threshold_selection(y_test, y_prob)"
   ]
  },
  {
   "cell_type": "markdown",
   "id": "45cd1e2a",
   "metadata": {
    "tags": []
   },
   "source": [
    "<div class=\"alert alert-block alert-info\">\n",
    "    <p>Getting the probability outputs from \"predict_proba\" based on the threshold</p>\n",
    "</div>"
   ]
  },
  {
   "cell_type": "code",
   "execution_count": null,
   "id": "f228084a",
   "metadata": {},
   "outputs": [],
   "source": [
    "y_pred = (y_pred > threshold).astype(int)"
   ]
  },
  {
   "cell_type": "markdown",
   "id": "85c3aa23",
   "metadata": {
    "tags": []
   },
   "source": [
    "<div class=\"alert alert-block alert-info\">\n",
    "    <p>Now, we can get the metrics</p>\n",
    "</div>"
   ]
  },
  {
   "cell_type": "code",
   "execution_count": null,
   "id": "15c108fc",
   "metadata": {
    "tags": []
   },
   "outputs": [],
   "source": [
    "precision = round(precision_score(y_test, y_pred), 3)\n",
    "roc_auc = round(roc_auc_score(y_test, y_prob), 3)\n",
    "recall = round(recall_score(y_test, y_pred), 3)\n",
    "f1 = round(f1_score(y_test, y_pred), 3)\n",
    "f2 = round(fbeta_score(y_test, y_pred, beta=2), 3)\n",
    "custom = round(custom_score(y_test, y_pred, threshold), 3)\n",
    "\n",
    "# Get the results\n",
    "print(\"Model's metrics\")\n",
    "print(\"- Precision:\\t\\t\", precision)\n",
    "print(\"- ROC-AUC:\\t\\t\", roc_auc)\n",
    "print(\"- Recall:\\t\\t\", recall)\n",
    "print(\"- F1:\\t\\t\\t\", f1)\n",
    "print(\"- F2:\\t\\t\\t\", f2)\n",
    "print(\"- Custom Score:\\t\\t\", custom)\n",
    "print(\"- Duration:\\t\\t\", round(search_lgbm.cv_results_[\"mean_score_time\"][0], 3), \" minutes\")"
   ]
  },
  {
   "cell_type": "markdown",
   "id": "51cadc31",
   "metadata": {
    "tags": []
   },
   "source": [
    "<div class=\"alert alert-block alert-danger\">\n",
    "    <p><b>Observations / Conclusions</b></p>\n",
    "    <ul style=\"list-style-type: square;\">\n",
    "        <li>XXXXXXXXXXXXXXXXXXXXXXXX</li>\n",
    "    </ul> \n",
    "</div>"
   ]
  },
  {
   "cell_type": "markdown",
   "id": "b02c3b1f",
   "metadata": {
    "tags": []
   },
   "source": [
    "<div class=\"alert alert-block alert-info\">\n",
    "    <p>Plotting the Compute ROC curve and ROC area for each class</p>\n",
    "</div>"
   ]
  },
  {
   "cell_type": "code",
   "execution_count": null,
   "id": "61f7b61f",
   "metadata": {},
   "outputs": [],
   "source": [
    "fpr = dict()\n",
    "tpr = dict()\n",
    "fpr[\"micro\"], tpr[\"micro\"], _ = roc_curve(y_test.ravel(), y_prob.ravel())\n",
    "\n",
    "plt.subplots(1, figsize=(6, 6))\n",
    "plt.title(\"Receiver Operating Characteristic\")\n",
    "plt.plot(fpr[\"micro\"], tpr[\"micro\"])\n",
    "plt.plot([0, 1], ls=\"--\")\n",
    "plt.plot([0, 0], [1, 0] , c=\".7\"), plt.plot([1, 1] , c=\".7\")\n",
    "plt.ylabel(\"True Positive Rate\")\n",
    "plt.xlabel(\"False Positive Rate\")\n",
    "plt.show()"
   ]
  },
  {
   "cell_type": "markdown",
   "id": "d8ff263d",
   "metadata": {
    "tags": []
   },
   "source": [
    "<div class=\"alert alert-block alert-info\">\n",
    "    <p>Plotting the Precision-Recall curve</p>\n",
    "</div>"
   ]
  },
  {
   "cell_type": "code",
   "execution_count": null,
   "id": "483fc902",
   "metadata": {},
   "outputs": [],
   "source": [
    "display = PrecisionRecallDisplay.from_predictions(y_test.ravel(), y_prob.ravel(), name=\"LGBMClassifier\")\n",
    "_ = display.ax_.set_title(\"2-class Precision-Recall curve\")"
   ]
  },
  {
   "cell_type": "markdown",
   "id": "3889a7bd",
   "metadata": {
    "tags": []
   },
   "source": [
    "<div class=\"alert alert-block alert-info\">\n",
    "    <p>Plotting the Confusion Matrix</p>\n",
    "</div>"
   ]
  },
  {
   "cell_type": "code",
   "execution_count": null,
   "id": "0118bad0",
   "metadata": {},
   "outputs": [],
   "source": [
    "display = ConfusionMatrixDisplay.from_predictions(y_test, y_pred, display_labels=[\"Repaid\",\"No repaid\"])\n",
    "_ = display.ax_.set_title(\"Confusion matrix\")"
   ]
  },
  {
   "cell_type": "markdown",
   "id": "9ac1160f",
   "metadata": {
    "tags": []
   },
   "source": [
    "<div class=\"alert alert-block alert-info\">\n",
    "    <p>Adding metrics to compare with others models</p>\n",
    "</div>"
   ]
  },
  {
   "cell_type": "code",
   "execution_count": null,
   "id": "c1006ad7",
   "metadata": {},
   "outputs": [],
   "source": [
    "df_temp = pd.DataFrame({\n",
    "    \"Model\" : [\"Random Forest\"],\n",
    "    \"Precision\" : precision, \n",
    "    \"ROC-AUC\" : roc_auc,    \n",
    "    \"Recall\" : recall,\n",
    "    \"F1\" : f1,\n",
    "    \"F2\" : f2,\n",
    "    \"Custom\" : custom,\n",
    "    \"Duration\" : round(df_results.iloc[search.best_index_][\"mean_score_time\"], 3)\n",
    "})"
   ]
  },
  {
   "cell_type": "code",
   "execution_count": null,
   "id": "f78d6ae9",
   "metadata": {},
   "outputs": [],
   "source": [
    "df_models_metrics = pd.concat([df_models_metrics, df_temp])\n",
    "df_models_metrics"
   ]
  },
  {
   "cell_type": "code",
   "execution_count": null,
   "id": "560cf966",
   "metadata": {},
   "outputs": [],
   "source": []
  },
  {
   "cell_type": "code",
   "execution_count": null,
   "id": "10e21d49",
   "metadata": {},
   "outputs": [],
   "source": []
  },
  {
   "cell_type": "code",
   "execution_count": null,
   "id": "580cd951",
   "metadata": {},
   "outputs": [],
   "source": []
  },
  {
   "cell_type": "code",
   "execution_count": null,
   "id": "eae6e2df",
   "metadata": {},
   "outputs": [],
   "source": []
  }
 ],
 "metadata": {
  "kernelspec": {
   "display_name": "Python 3 (ipykernel)",
   "language": "python",
   "name": "python3"
  },
  "language_info": {
   "codemirror_mode": {
    "name": "ipython",
    "version": 3
   },
   "file_extension": ".py",
   "mimetype": "text/x-python",
   "name": "python",
   "nbconvert_exporter": "python",
   "pygments_lexer": "ipython3",
   "version": "3.9.9"
  }
 },
 "nbformat": 4,
 "nbformat_minor": 5
}
