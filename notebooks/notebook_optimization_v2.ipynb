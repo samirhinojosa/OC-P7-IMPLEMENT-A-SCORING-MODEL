{
 "cells": [
  {
   "cell_type": "markdown",
   "id": "c8e6a558-388d-43bc-a18f-fa2f11c91b62",
   "metadata": {
    "tags": []
   },
   "source": [
    "<div style=\"display: flex; background-color: #3F579F;\">\n",
    "    <h1 style=\"margin: auto; font-weight: bold; padding: 30px 30px 0px 30px; color:#fff;\" align=\"center\">Implement a scoring model - P7</h1>\n",
    "</div>\n",
    "<div style=\"display: flex; background-color: #3F579F; margin: auto; padding: 5px 30px 0px 30px;\" >\n",
    "    <h3 style=\"width: 100%; text-align: center; float: left; font-size: 24px; color:#fff;\" align=\"center\">| Notebook optimization |</h3>\n",
    "</div>\n",
    "<div style=\"display: flex; background-color: #3F579F; margin: auto; padding: 10px 30px 30px 30px;\">\n",
    "    <h4 style=\"width: 100%; text-align: center; float: left; font-size: 24px; color:#fff;\" align=\"center\">Data Scientist course - OpenClassrooms</h4>\n",
    "</div>"
   ]
  },
  {
   "cell_type": "markdown",
   "id": "a071f085-b566-4595-a02b-30aa8064888b",
   "metadata": {
    "tags": []
   },
   "source": [
    "<div style=\"background-color: #506AB9;\" >\n",
    "    <h2 style=\"margin: auto; padding: 20px; color:#fff; \">1. Libraries and files</h2>\n",
    "</div>"
   ]
  },
  {
   "cell_type": "markdown",
   "id": "b1409272-303e-46f2-b6a6-729a491957fa",
   "metadata": {
    "tags": []
   },
   "source": [
    "<div style=\"background-color: #506AB9;\" >\n",
    "    <h3 style=\"margin: auto; padding: 20px; color:#fff; \">1.1. Libraries</h3>\n",
    "</div>"
   ]
  },
  {
   "cell_type": "code",
   "execution_count": 1,
   "id": "d22e0155-efb4-4760-af1a-323097c5535f",
   "metadata": {},
   "outputs": [],
   "source": [
    "import re\n",
    "import numpy as np\n",
    "import pandas as pd\n",
    "from functools import partial\n",
    "\n",
    "from imblearn.over_sampling import SMOTE\n",
    "\n",
    "import lightgbm as lgb\n",
    "from lightgbm import LGBMClassifier\n",
    "\n",
    "import sklearn\n",
    "from sklearn.metrics import (roc_auc_score, roc_curve, \n",
    "                             precision_recall_curve, confusion_matrix, \n",
    "                             PrecisionRecallDisplay, ConfusionMatrixDisplay)\n",
    "from sklearn.model_selection import KFold, StratifiedKFold, train_test_split\n",
    "from sklearn.preprocessing import StandardScaler\n",
    "\n",
    "# Hyperparametrization\n",
    "from hyperopt import tpe, hp, fmin, STATUS_OK, Trials, space_eval\n",
    "from hyperopt.pyll.base import scope\n",
    "\n",
    "import joblib\n",
    "\n",
    "## Own specific functions \n",
    "from functions import *"
   ]
  },
  {
   "cell_type": "markdown",
   "id": "9bb1ffa2-35ac-4f10-9fa9-9ccfd298a666",
   "metadata": {
    "tags": []
   },
   "source": [
    "<div style=\"background-color: #506AB9;\" >\n",
    "    <h3 style=\"margin: auto; padding: 20px; color:#fff; \">1.2. Files</h3>\n",
    "</div>"
   ]
  },
  {
   "cell_type": "code",
   "execution_count": 2,
   "id": "3a80f568-509b-4a73-b15c-21641a3c45e0",
   "metadata": {
    "tags": []
   },
   "outputs": [],
   "source": [
    "df = pd.read_csv(r\"datasets\\df_processed.csv\", nrows=3000)\n",
    "df = df.drop(columns=[\"index\"])"
   ]
  },
  {
   "cell_type": "code",
   "execution_count": 3,
   "id": "74493351-a229-425e-938f-6a5b71f5a573",
   "metadata": {},
   "outputs": [
    {
     "name": "stdout",
     "output_type": "stream",
     "text": [
      "\n",
      "Analysis Header of df dataset\n",
      "--------------------------------------------------------------------------------\n",
      "- Dataset shape:\t\t\t 3000 rows and 797 columns\n",
      "- Total of NaN values:\t\t\t 609981\n",
      "- Percentage of NaN:\t\t\t 25.51 %\n",
      "- Total of infinite values:\t\t 0\n",
      "- Percentage of infinite values:\t 0.0 %\n",
      "- Total of full duplicates rows:\t 0\n",
      "- Total of empty rows:\t\t\t 0\n",
      "- Total of empty columns:\t\t 0\n",
      "- Unique indexes:\t\t\t True\n",
      "- Memory usage:\t\t\t\t 18.2 MB\n"
     ]
    }
   ],
   "source": [
    "df_analysis(df, \"df\", analysis_type=\"header\")"
   ]
  },
  {
   "cell_type": "markdown",
   "id": "21180556-e4ee-491b-a965-fe2d527bf30d",
   "metadata": {
    "tags": []
   },
   "source": [
    "<div class=\"alert alert-block alert-warning\">\n",
    "    <p><b>Observations / Conclusions</b></p>\n",
    "    <ul style=\"list-style-type: square;\">\n",
    "        <li><b>Missing values</b> - There are 25.39% of missing-values to treat</li>\n",
    "        <li><b>Infinite values</b> - There are 25 infinite values</li>\n",
    "    </ul> \n",
    "</div>"
   ]
  },
  {
   "cell_type": "markdown",
   "id": "245be731-490e-4a73-aa06-e1734da6f912",
   "metadata": {
    "tags": []
   },
   "source": [
    "<div style=\"background-color: #506AB9;\" >\n",
    "    <h4 style=\"margin: auto; padding: 20px; color:#fff; \">1.2.1 Optimizing memory usage</h4>\n",
    "</div>"
   ]
  },
  {
   "cell_type": "markdown",
   "id": "7199b033-4e22-44bd-9d31-aa86ad42b221",
   "metadata": {
    "tags": []
   },
   "source": [
    "<div class=\"alert alert-block alert-info\">\n",
    "    <p>We should optimize the memory usage to avoid problems during executions</p>\n",
    "</div>"
   ]
  },
  {
   "cell_type": "code",
   "execution_count": 4,
   "id": "fd3c4cc6-2c06-4747-a3cc-d0fdd4f9b16a",
   "metadata": {},
   "outputs": [],
   "source": [
    "df[\"TARGET\"].fillna(value=-99, inplace=True)\n",
    "df[\"TARGET\"] = df[\"TARGET\"].astype(\"int8\")\n",
    "df[\"TARGET\"] = df[\"TARGET\"].replace(-99, np.nan)"
   ]
  },
  {
   "cell_type": "code",
   "execution_count": 5,
   "id": "bbdf298a-6415-49e7-a04a-73127d97c5e1",
   "metadata": {},
   "outputs": [],
   "source": [
    "for col in df.columns:\n",
    "    if df[col].dtype == \"int64\" and df[col].nunique() == 2:\n",
    "        df[col] = df[col].astype(\"int8\")"
   ]
  },
  {
   "cell_type": "code",
   "execution_count": 6,
   "id": "e3bae372-a3fb-43ad-a6b3-24c589f88922",
   "metadata": {},
   "outputs": [],
   "source": [
    "for col in df.columns:\n",
    "    if df[col].dtype == \"float64\" and df[col].min() >= -2147483648 and df[col].max() <= 2147483648:\n",
    "        df[col] = df[col].astype(\"float32\")"
   ]
  },
  {
   "cell_type": "code",
   "execution_count": 7,
   "id": "4bfbce33-ea3f-4262-b87a-652787443ba2",
   "metadata": {},
   "outputs": [
    {
     "name": "stdout",
     "output_type": "stream",
     "text": [
      "\n",
      "Analysis Header of df dataset\n",
      "--------------------------------------------------------------------------------\n",
      "- Dataset shape:\t\t\t 3000 rows and 797 columns\n",
      "- Total of NaN values:\t\t\t 609981\n",
      "- Percentage of NaN:\t\t\t 25.51 %\n",
      "- Total of infinite values:\t\t 0\n",
      "- Percentage of infinite values:\t 0.0 %\n",
      "- Total of full duplicates rows:\t 0\n",
      "- Total of empty rows:\t\t\t 0\n",
      "- Total of empty columns:\t\t 0\n",
      "- Unique indexes:\t\t\t True\n",
      "- Memory usage:\t\t\t\t 8.1 MB\n"
     ]
    }
   ],
   "source": [
    "df_analysis(df, \"df\", analysis_type=\"header\")"
   ]
  },
  {
   "cell_type": "code",
   "execution_count": 8,
   "id": "d0b51422-0f82-4622-aa77-c47fdd6ad43c",
   "metadata": {},
   "outputs": [
    {
     "data": {
      "text/html": [
       "<div>\n",
       "<style scoped>\n",
       "    .dataframe tbody tr th:only-of-type {\n",
       "        vertical-align: middle;\n",
       "    }\n",
       "\n",
       "    .dataframe tbody tr th {\n",
       "        vertical-align: top;\n",
       "    }\n",
       "\n",
       "    .dataframe thead th {\n",
       "        text-align: right;\n",
       "    }\n",
       "</style>\n",
       "<table border=\"1\" class=\"dataframe\">\n",
       "  <thead>\n",
       "    <tr style=\"text-align: right;\">\n",
       "      <th></th>\n",
       "      <th>SK_ID_CURR</th>\n",
       "      <th>TARGET</th>\n",
       "      <th>CODE_GENDER</th>\n",
       "      <th>FLAG_OWN_CAR</th>\n",
       "      <th>FLAG_OWN_REALTY</th>\n",
       "      <th>CNT_CHILDREN</th>\n",
       "      <th>AMT_INCOME_TOTAL</th>\n",
       "      <th>AMT_CREDIT</th>\n",
       "      <th>AMT_ANNUITY</th>\n",
       "      <th>AMT_GOODS_PRICE</th>\n",
       "      <th>...</th>\n",
       "      <th>CC_NAME_CONTRACT_STATUS_Signed_MAX</th>\n",
       "      <th>CC_NAME_CONTRACT_STATUS_Signed_MEAN</th>\n",
       "      <th>CC_NAME_CONTRACT_STATUS_Signed_SUM</th>\n",
       "      <th>CC_NAME_CONTRACT_STATUS_Signed_VAR</th>\n",
       "      <th>CC_NAME_CONTRACT_STATUS_nan_MIN</th>\n",
       "      <th>CC_NAME_CONTRACT_STATUS_nan_MAX</th>\n",
       "      <th>CC_NAME_CONTRACT_STATUS_nan_MEAN</th>\n",
       "      <th>CC_NAME_CONTRACT_STATUS_nan_SUM</th>\n",
       "      <th>CC_NAME_CONTRACT_STATUS_nan_VAR</th>\n",
       "      <th>CC_COUNT</th>\n",
       "    </tr>\n",
       "  </thead>\n",
       "  <tbody>\n",
       "    <tr>\n",
       "      <th>0</th>\n",
       "      <td>100002</td>\n",
       "      <td>1</td>\n",
       "      <td>0</td>\n",
       "      <td>0</td>\n",
       "      <td>0</td>\n",
       "      <td>0</td>\n",
       "      <td>202500.0</td>\n",
       "      <td>406597.5</td>\n",
       "      <td>24700.5</td>\n",
       "      <td>351000.0</td>\n",
       "      <td>...</td>\n",
       "      <td>NaN</td>\n",
       "      <td>NaN</td>\n",
       "      <td>NaN</td>\n",
       "      <td>NaN</td>\n",
       "      <td>NaN</td>\n",
       "      <td>NaN</td>\n",
       "      <td>NaN</td>\n",
       "      <td>NaN</td>\n",
       "      <td>NaN</td>\n",
       "      <td>NaN</td>\n",
       "    </tr>\n",
       "    <tr>\n",
       "      <th>1</th>\n",
       "      <td>100003</td>\n",
       "      <td>0</td>\n",
       "      <td>1</td>\n",
       "      <td>0</td>\n",
       "      <td>1</td>\n",
       "      <td>0</td>\n",
       "      <td>270000.0</td>\n",
       "      <td>1293502.5</td>\n",
       "      <td>35698.5</td>\n",
       "      <td>1129500.0</td>\n",
       "      <td>...</td>\n",
       "      <td>NaN</td>\n",
       "      <td>NaN</td>\n",
       "      <td>NaN</td>\n",
       "      <td>NaN</td>\n",
       "      <td>NaN</td>\n",
       "      <td>NaN</td>\n",
       "      <td>NaN</td>\n",
       "      <td>NaN</td>\n",
       "      <td>NaN</td>\n",
       "      <td>NaN</td>\n",
       "    </tr>\n",
       "    <tr>\n",
       "      <th>2</th>\n",
       "      <td>100004</td>\n",
       "      <td>0</td>\n",
       "      <td>0</td>\n",
       "      <td>1</td>\n",
       "      <td>0</td>\n",
       "      <td>0</td>\n",
       "      <td>67500.0</td>\n",
       "      <td>135000.0</td>\n",
       "      <td>6750.0</td>\n",
       "      <td>135000.0</td>\n",
       "      <td>...</td>\n",
       "      <td>NaN</td>\n",
       "      <td>NaN</td>\n",
       "      <td>NaN</td>\n",
       "      <td>NaN</td>\n",
       "      <td>NaN</td>\n",
       "      <td>NaN</td>\n",
       "      <td>NaN</td>\n",
       "      <td>NaN</td>\n",
       "      <td>NaN</td>\n",
       "      <td>NaN</td>\n",
       "    </tr>\n",
       "    <tr>\n",
       "      <th>3</th>\n",
       "      <td>100006</td>\n",
       "      <td>0</td>\n",
       "      <td>1</td>\n",
       "      <td>0</td>\n",
       "      <td>0</td>\n",
       "      <td>0</td>\n",
       "      <td>135000.0</td>\n",
       "      <td>312682.5</td>\n",
       "      <td>29686.5</td>\n",
       "      <td>297000.0</td>\n",
       "      <td>...</td>\n",
       "      <td>0.0</td>\n",
       "      <td>0.0</td>\n",
       "      <td>0.0</td>\n",
       "      <td>0.0</td>\n",
       "      <td>0.0</td>\n",
       "      <td>0.0</td>\n",
       "      <td>0.0</td>\n",
       "      <td>0.0</td>\n",
       "      <td>0.0</td>\n",
       "      <td>6.0</td>\n",
       "    </tr>\n",
       "    <tr>\n",
       "      <th>4</th>\n",
       "      <td>100007</td>\n",
       "      <td>0</td>\n",
       "      <td>0</td>\n",
       "      <td>0</td>\n",
       "      <td>0</td>\n",
       "      <td>0</td>\n",
       "      <td>121500.0</td>\n",
       "      <td>513000.0</td>\n",
       "      <td>21865.5</td>\n",
       "      <td>513000.0</td>\n",
       "      <td>...</td>\n",
       "      <td>NaN</td>\n",
       "      <td>NaN</td>\n",
       "      <td>NaN</td>\n",
       "      <td>NaN</td>\n",
       "      <td>NaN</td>\n",
       "      <td>NaN</td>\n",
       "      <td>NaN</td>\n",
       "      <td>NaN</td>\n",
       "      <td>NaN</td>\n",
       "      <td>NaN</td>\n",
       "    </tr>\n",
       "  </tbody>\n",
       "</table>\n",
       "<p>5 rows × 797 columns</p>\n",
       "</div>"
      ],
      "text/plain": [
       "   SK_ID_CURR  TARGET  CODE_GENDER  FLAG_OWN_CAR  FLAG_OWN_REALTY  \\\n",
       "0      100002       1            0             0                0   \n",
       "1      100003       0            1             0                1   \n",
       "2      100004       0            0             1                0   \n",
       "3      100006       0            1             0                0   \n",
       "4      100007       0            0             0                0   \n",
       "\n",
       "   CNT_CHILDREN  AMT_INCOME_TOTAL  AMT_CREDIT  AMT_ANNUITY  AMT_GOODS_PRICE  \\\n",
       "0             0          202500.0    406597.5      24700.5         351000.0   \n",
       "1             0          270000.0   1293502.5      35698.5        1129500.0   \n",
       "2             0           67500.0    135000.0       6750.0         135000.0   \n",
       "3             0          135000.0    312682.5      29686.5         297000.0   \n",
       "4             0          121500.0    513000.0      21865.5         513000.0   \n",
       "\n",
       "   ...  CC_NAME_CONTRACT_STATUS_Signed_MAX  \\\n",
       "0  ...                                 NaN   \n",
       "1  ...                                 NaN   \n",
       "2  ...                                 NaN   \n",
       "3  ...                                 0.0   \n",
       "4  ...                                 NaN   \n",
       "\n",
       "   CC_NAME_CONTRACT_STATUS_Signed_MEAN  CC_NAME_CONTRACT_STATUS_Signed_SUM  \\\n",
       "0                                  NaN                                 NaN   \n",
       "1                                  NaN                                 NaN   \n",
       "2                                  NaN                                 NaN   \n",
       "3                                  0.0                                 0.0   \n",
       "4                                  NaN                                 NaN   \n",
       "\n",
       "   CC_NAME_CONTRACT_STATUS_Signed_VAR  CC_NAME_CONTRACT_STATUS_nan_MIN  \\\n",
       "0                                 NaN                              NaN   \n",
       "1                                 NaN                              NaN   \n",
       "2                                 NaN                              NaN   \n",
       "3                                 0.0                              0.0   \n",
       "4                                 NaN                              NaN   \n",
       "\n",
       "   CC_NAME_CONTRACT_STATUS_nan_MAX  CC_NAME_CONTRACT_STATUS_nan_MEAN  \\\n",
       "0                              NaN                               NaN   \n",
       "1                              NaN                               NaN   \n",
       "2                              NaN                               NaN   \n",
       "3                              0.0                               0.0   \n",
       "4                              NaN                               NaN   \n",
       "\n",
       "   CC_NAME_CONTRACT_STATUS_nan_SUM  CC_NAME_CONTRACT_STATUS_nan_VAR  CC_COUNT  \n",
       "0                              NaN                              NaN       NaN  \n",
       "1                              NaN                              NaN       NaN  \n",
       "2                              NaN                              NaN       NaN  \n",
       "3                              0.0                              0.0       6.0  \n",
       "4                              NaN                              NaN       NaN  \n",
       "\n",
       "[5 rows x 797 columns]"
      ]
     },
     "execution_count": 8,
     "metadata": {},
     "output_type": "execute_result"
    }
   ],
   "source": [
    "df.head()"
   ]
  },
  {
   "cell_type": "code",
   "execution_count": 9,
   "id": "4c976361-d20b-4524-8e90-1216ea16d730",
   "metadata": {},
   "outputs": [
    {
     "data": {
      "text/plain": [
       "[]"
      ]
     },
     "execution_count": 9,
     "metadata": {},
     "output_type": "execute_result"
    }
   ],
   "source": [
    "df.select_dtypes(include=[\"object\"]).columns.tolist()"
   ]
  },
  {
   "cell_type": "markdown",
   "id": "3c1d9b87-1c33-4b34-bc51-bd03eead474a",
   "metadata": {
    "tags": []
   },
   "source": [
    "<div class=\"alert alert-block alert-warning\">\n",
    "    <p><b>Observations / Conclusions</b></p>\n",
    "    <ul style=\"list-style-type: square;\">\n",
    "        <li><b>Columns type</b> - All columns are numerics</li>\n",
    "    </ul> \n",
    "</div>"
   ]
  },
  {
   "cell_type": "markdown",
   "id": "151a589c-007e-45c4-8f30-a08abe6d9c0c",
   "metadata": {
    "tags": []
   },
   "source": [
    "<div style=\"background-color: #506AB9;\" >\n",
    "    <h4 style=\"margin: auto; padding: 20px; color:#fff; \">1.2.2. Missing-values</h4>\n",
    "</div>"
   ]
  },
  {
   "cell_type": "markdown",
   "id": "98c5ddd5-d467-4ba6-aae4-628c2f5e4da6",
   "metadata": {},
   "source": [
    "<div class=\"alert alert-block alert-info\">\n",
    "    <p>Before treating the class imbalance in the target, it is necessary to treat the missing-values in all the dataset, to do that, we are going to fill values with SimpleImputer\n",
    "   </p>\n",
    "    <p>Let's start by identifying the features with infinite-values and replace them by missing-values\n",
    "   </p>\n",
    "</div>\n",
    "</div>"
   ]
  },
  {
   "cell_type": "code",
   "execution_count": 10,
   "id": "28242a16-c849-47cd-8112-9c70f3867feb",
   "metadata": {},
   "outputs": [],
   "source": [
    "inf_cols = df.columns.to_series()[np.isinf(df).any()]"
   ]
  },
  {
   "cell_type": "code",
   "execution_count": 11,
   "id": "7c75fa23-35c2-46c9-b696-7cc4ce6b09f0",
   "metadata": {},
   "outputs": [],
   "source": [
    "for col in inf_cols:\n",
    "    df[col] = df[col].replace([np.inf, -np.inf], np.nan)"
   ]
  },
  {
   "cell_type": "code",
   "execution_count": 12,
   "id": "a24dcacd-7890-455a-b0c4-8412e5bacd87",
   "metadata": {},
   "outputs": [
    {
     "name": "stdout",
     "output_type": "stream",
     "text": [
      "\n",
      "Analysis Header of df dataset\n",
      "--------------------------------------------------------------------------------\n",
      "- Dataset shape:\t\t\t 3000 rows and 797 columns\n",
      "- Total of NaN values:\t\t\t 609981\n",
      "- Percentage of NaN:\t\t\t 25.51 %\n",
      "- Total of infinite values:\t\t 0\n",
      "- Percentage of infinite values:\t 0.0 %\n",
      "- Total of full duplicates rows:\t 0\n",
      "- Total of empty rows:\t\t\t 0\n",
      "- Total of empty columns:\t\t 0\n",
      "- Unique indexes:\t\t\t True\n",
      "- Memory usage:\t\t\t\t 8.1 MB\n"
     ]
    }
   ],
   "source": [
    "df_analysis(df, \"df\", analysis_type=\"header\")"
   ]
  },
  {
   "cell_type": "markdown",
   "id": "cb5aaa67-c37d-4f58-9134-0c7c4f3e87c2",
   "metadata": {},
   "source": [
    "<div class=\"alert alert-block alert-info\">\n",
    "    <p>Let's continue by identifying the features with missing-values and excluding the TARGET\n",
    "   </p>\n",
    "</div>\n",
    "</div>"
   ]
  },
  {
   "cell_type": "code",
   "execution_count": 13,
   "id": "7ff4cd72-ecae-4c69-af5e-0fe411beb586",
   "metadata": {},
   "outputs": [],
   "source": [
    "nan_cols = [i for i in df.columns if i!=\"TARGET\" and df[i].isnull().any()]"
   ]
  },
  {
   "cell_type": "code",
   "execution_count": 14,
   "id": "7bef3993-9920-4c26-bff9-0ccfbee30a13",
   "metadata": {},
   "outputs": [],
   "source": [
    "for col in nan_cols:\n",
    "    mean_value = df[col].mean()\n",
    "    df[col].fillna(value=mean_value, inplace=True)"
   ]
  },
  {
   "cell_type": "code",
   "execution_count": 15,
   "id": "e464dfbf-f109-4d7e-961b-fc265d3f4b1b",
   "metadata": {},
   "outputs": [
    {
     "name": "stdout",
     "output_type": "stream",
     "text": [
      "\n",
      "Analysis Header of df dataset\n",
      "--------------------------------------------------------------------------------\n",
      "- Dataset shape:\t\t\t 3000 rows and 797 columns\n",
      "- Total of NaN values:\t\t\t 0\n",
      "- Percentage of NaN:\t\t\t 0.0 %\n",
      "- Total of infinite values:\t\t 0\n",
      "- Percentage of infinite values:\t 0.0 %\n",
      "- Total of full duplicates rows:\t 0\n",
      "- Total of empty rows:\t\t\t 0\n",
      "- Total of empty columns:\t\t 0\n",
      "- Unique indexes:\t\t\t True\n",
      "- Memory usage:\t\t\t\t 8.1 MB\n"
     ]
    }
   ],
   "source": [
    "df_analysis(df, \"df\", analysis_type=\"header\")"
   ]
  },
  {
   "cell_type": "code",
   "execution_count": 16,
   "id": "25f6a1f9-6516-45fa-9b54-f1aacdf808ef",
   "metadata": {},
   "outputs": [],
   "source": [
    "# saving the optimized dataset \n",
    "df.to_csv(\"datasets\\df_optimized.csv\", index=False)"
   ]
  },
  {
   "cell_type": "markdown",
   "id": "43458410-f008-4855-85c4-0bd8fe1875e8",
   "metadata": {},
   "source": [
    "<div class=\"alert alert-block alert-success\">\n",
    "    <p>At this point, TARGET is the only column with missing-values</p>\n",
    "</div>"
   ]
  },
  {
   "cell_type": "markdown",
   "id": "959a2229-1cba-49c2-987b-c9fba1117f0e",
   "metadata": {},
   "source": [
    "<div class=\"alert alert-block alert-info\">\n",
    "    <p>Let's save the customers that we are going to predict</p>\n",
    "</div>"
   ]
  },
  {
   "cell_type": "code",
   "execution_count": 17,
   "id": "e2581388-571d-460a-bfaf-554af50c326a",
   "metadata": {},
   "outputs": [],
   "source": [
    "df_customers_to_predict = df[df[\"TARGET\"].isnull()]"
   ]
  },
  {
   "cell_type": "code",
   "execution_count": 18,
   "id": "cbe83e23-a81b-4aef-81a5-41e68f1c5d7c",
   "metadata": {},
   "outputs": [
    {
     "name": "stdout",
     "output_type": "stream",
     "text": [
      "The df_customers_to_predict dataset is empty. Please verify the file.\n"
     ]
    }
   ],
   "source": [
    "df_analysis(df_customers_to_predict, \"df_customers_to_predict\", analysis_type=\"header\")"
   ]
  },
  {
   "cell_type": "code",
   "execution_count": 19,
   "id": "8dcda081-e02a-49bb-8e4e-57349305bbe8",
   "metadata": {},
   "outputs": [],
   "source": [
    "# dropping TARGET feature\n",
    "df_customers_to_predict = df_customers_to_predict.drop(columns=[\"TARGET\"])"
   ]
  },
  {
   "cell_type": "code",
   "execution_count": 20,
   "id": "2f9f439e-fe7a-40c5-af4a-0569b84cbd46",
   "metadata": {},
   "outputs": [
    {
     "name": "stdout",
     "output_type": "stream",
     "text": [
      "The df_customers_to_predict dataset is empty. Please verify the file.\n"
     ]
    }
   ],
   "source": [
    "df_analysis(df_customers_to_predict, \"df_customers_to_predict\", analysis_type=\"header\")"
   ]
  },
  {
   "cell_type": "code",
   "execution_count": 21,
   "id": "38c9bdea-24ef-4b18-a31e-5eee33378b45",
   "metadata": {},
   "outputs": [],
   "source": [
    "# saving the optimized dataset \n",
    "df_customers_to_predict.to_csv(\"datasets\\df_customers_to_predict.csv\", index=False)"
   ]
  },
  {
   "cell_type": "markdown",
   "id": "90fe86ef-6cf0-44e9-8dd2-d88c606006e9",
   "metadata": {
    "tags": []
   },
   "source": [
    "<div class=\"alert alert-block alert-info\">\n",
    "    <p>Freeing up memory </p>\n",
    "</div>"
   ]
  },
  {
   "cell_type": "code",
   "execution_count": 22,
   "id": "854f29fc-479b-4102-9414-8428f9fb082d",
   "metadata": {},
   "outputs": [
    {
     "data": {
      "text/plain": [
       "0"
      ]
     },
     "execution_count": 22,
     "metadata": {},
     "output_type": "execute_result"
    }
   ],
   "source": [
    "del df_customers_to_predict\n",
    "gc.collect()"
   ]
  },
  {
   "cell_type": "markdown",
   "id": "6d7b3692-7168-4556-a444-7000fe8cf359",
   "metadata": {
    "tags": []
   },
   "source": [
    "<div style=\"background-color: #506AB9;\" >\n",
    "    <h2 style=\"margin: auto; padding: 20px; color:#fff; \">2. Class Imbalance</h2>\n",
    "</div>"
   ]
  },
  {
   "cell_type": "markdown",
   "id": "4ba6c676-4953-4bb5-9150-73f6ec693656",
   "metadata": {
    "tags": []
   },
   "source": [
    "<div style=\"background-color: #506AB9;\" >\n",
    "    <h3 style=\"margin: auto; padding: 20px; color:#fff; \">2.1. Verifying</h3>\n",
    "</div>"
   ]
  },
  {
   "cell_type": "markdown",
   "id": "22f556a9-7a48-4510-89f1-db14b0193864",
   "metadata": {
    "tags": []
   },
   "source": [
    "<div class=\"alert alert-block alert-info\">\n",
    "    <p>Now, we are going to analyze in details, whether ours target has an imbalanced class\n",
    "   </p>\n",
    "</div>"
   ]
  },
  {
   "cell_type": "code",
   "execution_count": 23,
   "id": "5042332b-fb95-4085-8617-da53e1d0f465",
   "metadata": {},
   "outputs": [],
   "source": [
    "train_df = df[df[\"TARGET\"].notnull()]\n",
    "test_df = df[df[\"TARGET\"].isnull()]"
   ]
  },
  {
   "cell_type": "code",
   "execution_count": 24,
   "id": "10805791-a39f-4947-aca8-b52935178b2c",
   "metadata": {},
   "outputs": [],
   "source": [
    "X = train_df.drop(columns=[\"TARGET\"])"
   ]
  },
  {
   "cell_type": "code",
   "execution_count": 25,
   "id": "60a7674d-a35b-437c-ad4f-8ab7f73aa53d",
   "metadata": {},
   "outputs": [],
   "source": [
    "y = train_df.loc[:,\"TARGET\"]"
   ]
  },
  {
   "cell_type": "code",
   "execution_count": 26,
   "id": "3fe0ccbb-a491-4052-9137-7fe1ff0018f4",
   "metadata": {},
   "outputs": [
    {
     "data": {
      "image/png": "[encoded data removed]",
      "text/plain": [
       "<Figure size 648x360 with 2 Axes>"
      ]
     },
     "metadata": {
      "needs_background": "light"
     },
     "output_type": "display_data"
    }
   ],
   "source": [
    "barplot_and_pie(train_df[\"TARGET\"], \"Target distribution\", \" \")"
   ]
  },
  {
   "cell_type": "markdown",
   "id": "d6d6de84-3c5c-41dd-9448-1d183d0f6dcf",
   "metadata": {
    "tags": []
   },
   "source": [
    "<div class=\"alert alert-block alert-warning\">\n",
    "    <p>Here we can see how much the dataset is imbalanced</p>\n",
    "    <p>It is easily identifying that there are <b>loans that were repaid (0)</b> in comparison of <b>loans that were not repaid (1)</b></p>   \n",
    "</div>"
   ]
  },
  {
   "cell_type": "markdown",
   "id": "e9556c81-dfd5-4fc2-a526-c3f136987135",
   "metadata": {
    "tags": []
   },
   "source": [
    "<div style=\"background-color: #506AB9;\" >\n",
    "    <h3 style=\"margin: auto; padding: 20px; color:#fff; \">2.2. Smote</h3>\n",
    "</div>"
   ]
  },
  {
   "cell_type": "markdown",
   "id": "0af57235-8866-455c-9bd8-6d233eb75afc",
   "metadata": {
    "tags": []
   },
   "source": [
    "<div class=\"alert alert-block alert-info\">\n",
    "    <p>To treat the Imbalanced class, we are going to use a type of data augmentation for the minority class (Oversampling) where new examples can be synthesized from the existing examples and it is referred as the Synthetic Minority Oversampling Technique - SMOTE.</p>\n",
    "<p>Initializing SMOTE</p>\n",
    "</div>"
   ]
  },
  {
   "cell_type": "code",
   "execution_count": 27,
   "id": "1751ce9b-bd95-4da0-a630-d8572ae487fc",
   "metadata": {},
   "outputs": [],
   "source": [
    "smote = SMOTE(sampling_strategy=\"auto\", k_neighbors=5, n_jobs=-1,\n",
    "              random_state=42)"
   ]
  },
  {
   "cell_type": "markdown",
   "id": "4f736573-772a-4c44-ac54-e8a5bcc5dcc5",
   "metadata": {
    "tags": []
   },
   "source": [
    "<div class=\"alert alert-block alert-info\">\n",
    "    <p>Executing SMOTE</p>\n",
    "</div>"
   ]
  },
  {
   "cell_type": "code",
   "execution_count": 28,
   "id": "3d4f553d-b9e8-4559-bd71-0c48359f3dfd",
   "metadata": {},
   "outputs": [],
   "source": [
    "X_resampled, y_resampled = smote.fit_resample(X, y)"
   ]
  },
  {
   "cell_type": "markdown",
   "id": "c22de8f3-2f74-4df6-a204-6548c9e2f5ee",
   "metadata": {
    "tags": []
   },
   "source": [
    "<div class=\"alert alert-block alert-info\">\n",
    "    <p>Finally, we can see the results</p>\n",
    "</div>"
   ]
  },
  {
   "cell_type": "code",
   "execution_count": 29,
   "id": "69cd5ce7-06c3-48c4-94a2-513ff782bff3",
   "metadata": {},
   "outputs": [
    {
     "data": {
      "image/png": "[encoded data removed]",
      "text/plain": [
       "<Figure size 648x360 with 2 Axes>"
      ]
     },
     "metadata": {
      "needs_background": "light"
     },
     "output_type": "display_data"
    }
   ],
   "source": [
    "barplot_and_pie(y_resampled, \"Target distribution\", \" \")"
   ]
  },
  {
   "cell_type": "markdown",
   "id": "71f90b4c-0cc7-460e-9034-b33024d428e1",
   "metadata": {
    "tags": []
   },
   "source": [
    "<div class=\"alert alert-block alert-success\">\n",
    "    <p>Now, we have the Target balanced</p>\n",
    "</div>"
   ]
  },
  {
   "cell_type": "markdown",
   "id": "1b5be0a5-5156-4549-b144-c2f9cf2b012b",
   "metadata": {
    "tags": []
   },
   "source": [
    "<div style=\"background-color: #506AB9;\" >\n",
    "    <h3 style=\"margin: auto; padding: 20px; color:#fff; \">2.4. Rebuild the dataset</h3>\n",
    "</div>"
   ]
  },
  {
   "cell_type": "markdown",
   "id": "bca5ca60-59a0-488f-9ec6-075703f1dae6",
   "metadata": {
    "tags": []
   },
   "source": [
    "<div class=\"alert alert-block alert-info\">\n",
    "    <p>Creating series with attributes</p>\n",
    "</div>"
   ]
  },
  {
   "cell_type": "code",
   "execution_count": 30,
   "id": "4e28a37d-71cb-43b7-9153-b4f8721e4548",
   "metadata": {},
   "outputs": [],
   "source": [
    "y_resampled  = pd.Series(y_resampled, name=\"TARGET\")"
   ]
  },
  {
   "cell_type": "markdown",
   "id": "00b614ab-e29f-410f-8051-c026e1395e84",
   "metadata": {
    "tags": []
   },
   "source": [
    "<div class=\"alert alert-block alert-info\">\n",
    "    <p>Merging result dataset with result series</p>\n",
    "</div>"
   ]
  },
  {
   "cell_type": "code",
   "execution_count": 31,
   "id": "f5351baa-4184-4543-a556-77bfe2f0829e",
   "metadata": {},
   "outputs": [],
   "source": [
    "df_resampled = X_resampled.merge(y_resampled, left_index=True, right_index=True)"
   ]
  },
  {
   "cell_type": "code",
   "execution_count": 32,
   "id": "b61d09d3-3da7-411b-a0c9-871a69a35c6d",
   "metadata": {},
   "outputs": [
    {
     "name": "stdout",
     "output_type": "stream",
     "text": [
      "\n",
      "Analysis Header of df_resampled dataset\n",
      "--------------------------------------------------------------------------------\n",
      "- Dataset shape:\t\t\t 5526 rows and 797 columns\n",
      "- Total of NaN values:\t\t\t 0\n",
      "- Percentage of NaN:\t\t\t 0.0 %\n",
      "- Total of infinite values:\t\t 0\n",
      "- Percentage of infinite values:\t 0.0 %\n",
      "- Total of full duplicates rows:\t 0\n",
      "- Total of empty rows:\t\t\t 0\n",
      "- Total of empty columns:\t\t 0\n",
      "- Unique indexes:\t\t\t True\n",
      "- Memory usage:\t\t\t\t 14.9 MB\n"
     ]
    }
   ],
   "source": [
    "df_analysis(df_resampled, \"df_resampled\", analysis_type=\"header\")"
   ]
  },
  {
   "cell_type": "code",
   "execution_count": 33,
   "id": "2c66ec6b-f461-41e9-aa2b-5a6f1e8943d6",
   "metadata": {},
   "outputs": [],
   "source": [
    "# saving the resampled dataset \n",
    "df_resampled.to_csv(\"datasets\\df_resampled.csv\", index=False)"
   ]
  },
  {
   "cell_type": "markdown",
   "id": "dfb84114-aede-4961-a72e-5257b2146886",
   "metadata": {
    "tags": []
   },
   "source": [
    "<div class=\"alert alert-block alert-info\">\n",
    "    <p>Freeing up memory </p>\n",
    "</div>"
   ]
  },
  {
   "cell_type": "code",
   "execution_count": 34,
   "id": "6102aeaf-3e3f-4722-bb08-dca328c0393b",
   "metadata": {},
   "outputs": [
    {
     "data": {
      "text/plain": [
       "0"
      ]
     },
     "execution_count": 34,
     "metadata": {},
     "output_type": "execute_result"
    }
   ],
   "source": [
    "del df, train_df, test_df, X, y, X_resampled, y_resampled\n",
    "gc.collect()"
   ]
  },
  {
   "cell_type": "markdown",
   "id": "7ad2b17d-c82a-442f-8fd9-e071875a7d9d",
   "metadata": {
    "tags": []
   },
   "source": [
    "<div class=\"alert alert-block alert-success\">\n",
    "    <p><b>Observations / Conclusions</b></p>\n",
    "    <p>At this point we have the following dataset.</p>\n",
    "    <ul style=\"list-style-type: square;\">\n",
    "        <li><b>df_resampled</b>: that is balanced after treating it through SMOTE and shape 565364 x 797</li>\n",
    "    </ul> \n",
    "</div>"
   ]
  },
  {
   "cell_type": "code",
   "execution_count": 35,
   "id": "2d2d3414-e01c-4fe6-a5e6-551f4bea1771",
   "metadata": {},
   "outputs": [
    {
     "ename": "NameError",
     "evalue": "name 'xxxx' is not defined",
     "output_type": "error",
     "traceback": [
      "\u001b[1;31m---------------------------------------------------------------------------\u001b[0m",
      "\u001b[1;31mNameError\u001b[0m                                 Traceback (most recent call last)",
      "\u001b[1;32m~\\AppData\\Local\\Temp/ipykernel_24176/3574181483.py\u001b[0m in \u001b[0;36m<module>\u001b[1;34m\u001b[0m\n\u001b[1;32m----> 1\u001b[1;33m \u001b[0mxxxx\u001b[0m\u001b[1;33m\u001b[0m\u001b[1;33m\u001b[0m\u001b[0m\n\u001b[0m",
      "\u001b[1;31mNameError\u001b[0m: name 'xxxx' is not defined"
     ]
    }
   ],
   "source": [
    "xxxx"
   ]
  },
  {
   "cell_type": "markdown",
   "id": "44f4971d-c73b-4740-992b-57f5bac34181",
   "metadata": {
    "tags": []
   },
   "source": [
    "<div style=\"background-color: #506AB9;\" >\n",
    "    <h2 style=\"margin: auto; padding: 20px; color:#fff; \">3. Optimization</h2>\n",
    "</div>"
   ]
  },
  {
   "cell_type": "markdown",
   "id": "02af96c7-92f9-4237-86ad-a2e09de5e651",
   "metadata": {
    "tags": []
   },
   "source": [
    "<div class=\"alert alert-block alert-info\">\n",
    "    <p>Now, we are going to use a <b>Custom Score</b> and <b>Hyperopt</b> to get the best result to set the model </p>\n",
    "</div>"
   ]
  },
  {
   "cell_type": "markdown",
   "id": "65edec22-2c38-4888-bac1-afdb1d82affd",
   "metadata": {
    "tags": []
   },
   "source": [
    "<div style=\"background-color: #506AB9;\" >\n",
    "    <h3 style=\"margin: auto; padding: 20px; color:#fff; \">3.1. Custom Score</h3>\n",
    "</div>"
   ]
  },
  {
   "cell_type": "markdown",
   "id": "5252fb83-6e15-453d-9ce0-4b23618fe55a",
   "metadata": {
    "tags": []
   },
   "source": [
    "<div class=\"alert alert-block alert-info\">\n",
    "    <p>In the <b>Custom Score</b>, we are going to penalize the <b>False Negative</b> that are loands <b>will be in default</b>, and they were <b>predicted incorrectly</b></p>\n",
    "</div>"
   ]
  },
  {
   "cell_type": "code",
   "execution_count": 36,
   "id": "f57501f2-3eb9-4bcb-a6ff-12ba5af2bc9a",
   "metadata": {},
   "outputs": [],
   "source": [
    "def custom_score(y_true, y_pred):\n",
    "    \"\"\"\n",
    "    Method used to calculate a score based on the penalization of False Negatives.\n",
    "\n",
    "    Parameters:\n",
    "    -----------------\n",
    "        y_true (series): True values\n",
    "        y_pred (series): Predicted values\n",
    "        \n",
    "    Returns:\n",
    "    -----------------\n",
    "        Score. (float): Score obtained based on the rules defined to measure. \n",
    "    \"\"\"\n",
    "    \n",
    "    # Getting the probability outputs from \"predict_proba\"\n",
    "    threshold = 0.5\n",
    "    y_pred = (y_pred >= threshold).astype(int)\n",
    "    \n",
    "    TN_rate = 1        # Loans that are not in default and were predicted correctly\n",
    "    TP_rate = 1        # Loans that are in default and were predicted correctly\n",
    "    FP_rate = 0        # Loans that are not in default and were predicted incorrectly\n",
    "    FN_rate = -10      # Loans that are in default and were were predicted incorrectly\n",
    "    \n",
    "    # Getting all values based on confusion matrix\n",
    "    (TN, FP, FN, TP) = confusion_matrix(y_true, y_pred).ravel()\n",
    "\n",
    "    # Total of default and not default cases\n",
    "    total_not_default = TN + FP     # Not default cases\n",
    "    total_default = TP + FN         # Default cases \n",
    "    \n",
    "    gain_total = TN*TN_rate + TP*TP_rate + FP*FP_rate + FN*FN_rate\n",
    "    gain_maximun = total_not_default*TN_rate + total_default*TP_rate\n",
    "    gain_minumun = total_not_default*TN_rate + total_default*FN_rate\n",
    "    \n",
    "    # normalize to get score between 0 (baseline) and 1\n",
    "    score = (gain_total - gain_minumun) / (gain_maximun - gain_minumun)\n",
    "    \n",
    "    return score"
   ]
  },
  {
   "cell_type": "markdown",
   "id": "ec92390c-1876-48c6-a2e4-8e90a14d8ee2",
   "metadata": {
    "tags": []
   },
   "source": [
    "<div style=\"background-color: #506AB9;\" >\n",
    "    <h3 style=\"margin: auto; padding: 20px; color:#fff; \">3.2. Model optimiztion</h3>\n",
    "</div>"
   ]
  },
  {
   "cell_type": "markdown",
   "id": "b59f6309-ff04-4535-9283-e93e5b3df6c6",
   "metadata": {
    "tags": []
   },
   "source": [
    "<div class=\"alert alert-block alert-info\">\n",
    "    <p>Let's define the parameters</p>\n",
    "</div>"
   ]
  },
  {
   "cell_type": "code",
   "execution_count": 37,
   "id": "6faf3980-132a-4ec8-b9d8-eae66641b532",
   "metadata": {},
   "outputs": [],
   "source": [
    "N_ESTIMATORS = [8000, 10000, 12000]\n",
    "NUM_LEAVES = [32, 34, 36]\n",
    "MAX_DEPTH = [7, 8, 9]"
   ]
  },
  {
   "cell_type": "code",
   "execution_count": 38,
   "id": "e7683875-9c85-42a4-9e34-54e74608a5f5",
   "metadata": {
    "tags": []
   },
   "outputs": [],
   "source": [
    "space_params = {\n",
    "    \"n_estimators\" : hp.choice(\"n_estimators\", N_ESTIMATORS),\n",
    "    \"learning_rate\" :  hp.uniform(\"learning_rate\", 0.002, 0.003),\n",
    "    \"num_leaves\" :  hp.choice(\"num_leaves\", NUM_LEAVES),\n",
    "    \"max_depth\" : hp.choice(\"max_depth\", MAX_DEPTH),\n",
    "    \"reg_alpha\" : hp.uniform(\"reg_alpha\", 0.041545473, 0.051),\n",
    "    \"reg_lambda\" : hp.uniform(\"reg_lambda\", 0.0735294, 0.0835294),\n",
    "    \"min_split_gain\" : hp.uniform(\"min_split_gain\", 0.0222415, 0.0322415),\n",
    "    \"min_child_weight\" : hp.uniform(\"min_child_weight\", 39.3259775, 49)\n",
    "}"
   ]
  },
  {
   "cell_type": "markdown",
   "id": "a564e380-8436-4356-8be1-fb0b433d2104",
   "metadata": {
    "tags": []
   },
   "source": [
    "<div class=\"alert alert-block alert-info\">\n",
    "    <p>Now, we can define our objective function</p>\n",
    "    <p>To do that, we are going to consider the following</p>\n",
    "    <ul style=\"list-style-type: square;\">\n",
    "        <li><b>StandardScaler</b> to manage all data in the same scale</li>\n",
    "        <li><b>colsample_bytree and subsample</b> with 80% of data, to improve the execution time</li>\n",
    "        <li><b>n_splits</b> with 2 to improve the execution time</li>\n",
    "        <li><b>is_unbalance</b> with False because it is a balanced dataset</li>\n",
    "    </ul> \n",
    "</div>"
   ]
  },
  {
   "cell_type": "code",
   "execution_count": 39,
   "id": "0d469c46-c176-4e49-adfd-324179303c30",
   "metadata": {},
   "outputs": [],
   "source": [
    "def hyperparameter_tuning(space_params, df, imbalanced, n_splits):\n",
    "    \"\"\"\n",
    "    Method used to analyze on the DataFrame.\n",
    "\n",
    "    Parameters:\n",
    "    -----------------\n",
    "        space_params (dict): Parameters to optimize the model\n",
    "        df (pandas.DataFrame): Dataset to treat\n",
    "        imbalanced (boolean): Define whether dataset is unbalanced\n",
    "        n_splits (int): To split data in train test sets\n",
    "\n",
    "    Returns:\n",
    "    -----------------\n",
    "        Loss and STATUS.\n",
    "    \"\"\"\n",
    "    \n",
    "    # Formatting columns name\n",
    "    df = df.rename(columns=lambda x:re.sub(\"[^A-Za-z0-9_]+\", \"\", x))\n",
    "    df_lgbm = df.copy()\n",
    "    \n",
    "    scaler = StandardScaler()\n",
    "    \n",
    "    # Divide in training/validation and test data\n",
    "    train_df = df_lgbm[df_lgbm[\"TARGET\"].notnull()]\n",
    "    \n",
    "    # Freeing up memory\n",
    "    del df, df_lgbm\n",
    "    gc.collect()\n",
    "    \n",
    "    # Cross validation model\n",
    "    folds = KFold(n_splits=n_splits, shuffle=True, random_state=42)\n",
    "    \n",
    "    # Create arrays and dataframes to store results\n",
    "    oof_preds = np.zeros(train_df.shape[0])\n",
    "    feats = [f for f in train_df.columns if f not in [\"TARGET\", \"SK_ID_CURR\", \"SK_ID_BUREAU\", \"SK_ID_PREV\"]]\n",
    "    \n",
    "    for n_fold, (train_idx, valid_idx) in enumerate(folds.split(train_df[feats], train_df[\"TARGET\"])):\n",
    "        \n",
    "        print(\"\\n\")\n",
    "        \n",
    "        train_x, train_y = train_df[feats].iloc[train_idx], train_df[\"TARGET\"].iloc[train_idx]\n",
    "        valid_x, valid_y = train_df[feats].iloc[valid_idx], train_df[\"TARGET\"].iloc[valid_idx]\n",
    "    \n",
    "        train_x_scaled = scaler.fit_transform(train_x)\n",
    "        valid_x_scaled = scaler.fit_transform(valid_x)\n",
    "        \n",
    "        # LightGBM parameters found by Bayesian optimization\n",
    "        clf = LGBMClassifier(\n",
    "            **space_params,\n",
    "            colsample_bytree=0.8, \n",
    "            subsample=0.8,\n",
    "            is_unbalance=imbalanced,\n",
    "            n_jobs=-1 \n",
    "        )\n",
    "        \n",
    "        evaluation = [(train_x_scaled, train_y), (valid_x_scaled, valid_y)]\n",
    "        \n",
    "        clf.fit(train_x_scaled, train_y, eval_set=evaluation, eval_metric=\"auc\",\n",
    "                callbacks=[lgb.early_stopping(stopping_rounds=200),\n",
    "                          lgb.log_evaluation(period=-1)])\n",
    "        \n",
    "        oof_preds[valid_idx] = clf.predict_proba(valid_x_scaled, num_iteration=clf.best_iteration_)[:, 1]\n",
    "        \n",
    "        del clf, train_x, train_x_scaled, train_y, valid_x, valid_x_scaled, valid_y\n",
    "        gc.collect()\n",
    "    \n",
    "    auc = roc_auc_score(train_df[\"TARGET\"], oof_preds)\n",
    "    print(\">> ROC-AUC Score %.6f\" % auc )\n",
    "    \n",
    "    cs = custom_score(train_df[\"TARGET\"], oof_preds)\n",
    "    print(\">> Custom Score %.6f\\n\" % cs )\n",
    "          \n",
    "    return { \"loss\": -auc, \"status\": STATUS_OK } "
   ]
  },
  {
   "cell_type": "markdown",
   "id": "f99674b3-8696-41b8-b0f8-d9e57b84025d",
   "metadata": {
    "tags": []
   },
   "source": [
    "<div style=\"background-color: #506AB9;\" >\n",
    "    <h3 style=\"margin: auto; padding: 20px; color:#fff; \">3.3. Balanced dataset modelisation</h3>\n",
    "</div>"
   ]
  },
  {
   "cell_type": "markdown",
   "id": "0c7f1c8c-b3fd-4d15-8ec1-0afc194bf9ac",
   "metadata": {
    "tags": []
   },
   "source": [
    "<div class=\"alert alert-block alert-info\">\n",
    "    <p>Finally, we are going to optimize the model with the <b>balanced</b> dataset</p>\n",
    "</div>"
   ]
  },
  {
   "cell_type": "code",
   "execution_count": 40,
   "id": "e5addc3f-b138-4047-acf8-27edef5e2ad8",
   "metadata": {},
   "outputs": [],
   "source": [
    "fmin_objective = partial(hyperparameter_tuning, \n",
    "                         df=df_resampled, imbalanced=False,\n",
    "                         n_splits=2)"
   ]
  },
  {
   "cell_type": "code",
   "execution_count": null,
   "id": "0c2dc18b-3d09-4b26-a20a-4112d5c3346e",
   "metadata": {
    "tags": []
   },
   "outputs": [],
   "source": [
    "# Initialize trials object\n",
    "trials = Trials()\n",
    "\n",
    "best = fmin(\n",
    "    fn=fmin_objective,\n",
    "    space=space_params, \n",
    "    algo=tpe.suggest, \n",
    "    max_evals=100, \n",
    "    trials=trials\n",
    ")"
   ]
  },
  {
   "cell_type": "markdown",
   "id": "ca1cbba1-bc27-4b9e-9f90-eef850e6d501",
   "metadata": {
    "tags": []
   },
   "source": [
    "<div class=\"alert alert-block alert-success\">\n",
    "    <p><b>Observations / Conclusions</b></p>\n",
    "    <p>Throughout the execution, the model had a good result</p>\n",
    "</div>"
   ]
  },
  {
   "cell_type": "markdown",
   "id": "eb26f496-8400-4efd-bae5-9298bd7d7cd8",
   "metadata": {
    "tags": []
   },
   "source": [
    "<div style=\"background-color: #506AB9;\" >\n",
    "    <h4 style=\"margin: auto; padding: 20px; color:#fff; \">3.3.1. The best parameters</h4>\n",
    "</div>"
   ]
  },
  {
   "cell_type": "markdown",
   "id": "e5918cdb-5493-401e-8663-0441de3f5e0d",
   "metadata": {
    "tags": []
   },
   "source": [
    "<div class=\"alert alert-block alert-info\">\n",
    "    <p>Let's print the best parameters</p>\n",
    "</div>"
   ]
  },
  {
   "cell_type": "code",
   "execution_count": null,
   "id": "6121a06c-c039-4b7b-b1ed-886228b5355a",
   "metadata": {},
   "outputs": [],
   "source": [
    "print(\"Best: {}\".format(best))"
   ]
  },
  {
   "cell_type": "markdown",
   "id": "f4a0af83-a9c8-47de-be90-e4b21c7a4c3f",
   "metadata": {
    "tags": []
   },
   "source": [
    "<div class=\"alert alert-block alert-danger\">\n",
    "    <p>FLAG</p>\n",
    "</div>"
   ]
  },
  {
   "cell_type": "code",
   "execution_count": 55,
   "id": "108b452b-e299-4309-8f27-1a7af5e347f6",
   "metadata": {},
   "outputs": [],
   "source": [
    "best = {'learning_rate': 0.002021947556803579, 'max_depth': 2, 'min_child_weight': 44.68618422455195, 'min_split_gain': 0.030970825122649367, 'n_estimators': 0, 'num_leaves': 2, 'reg_alpha': 0.045341569610647205, 'reg_lambda': 0.08049459639521307}"
   ]
  },
  {
   "cell_type": "markdown",
   "id": "c8d418b7-879a-4438-b1c8-ae349a3f34db",
   "metadata": {
    "tags": []
   },
   "source": [
    "<div style=\"background-color: #506AB9;\" >\n",
    "    <h3 style=\"margin: auto; padding: 20px; color:#fff; \">3.4. Final model</h3>\n",
    "</div>"
   ]
  },
  {
   "cell_type": "markdown",
   "id": "ea0db824-6513-4895-92fb-83a9cdca8abb",
   "metadata": {
    "tags": []
   },
   "source": [
    "<div class=\"alert alert-block alert-info\">\n",
    "    <p>Now, we are going to execute our model based on the best parameters</p>\n",
    "</div>"
   ]
  },
  {
   "cell_type": "code",
   "execution_count": 56,
   "id": "d201670c-db81-40e1-9aae-64124b79d8f0",
   "metadata": {},
   "outputs": [],
   "source": [
    "# Formatting columns name\n",
    "df_resampled = df_resampled.rename(columns=lambda x:re.sub(\"[^A-Za-z0-9_]+\", \"\", x))\n",
    "    \n",
    "scaler = StandardScaler()\n",
    "    \n",
    "# Create arrays and dataframes to store results\n",
    "oof_preds = np.zeros(df_resampled.shape[0])\n",
    "feature_importance_df = pd.DataFrame()"
   ]
  },
  {
   "cell_type": "markdown",
   "id": "7381c79f-2a58-4c31-9ba9-7e71b1cc71d4",
   "metadata": {
    "tags": []
   },
   "source": [
    "<div class=\"alert alert-block alert-info\">\n",
    "    <p>Splitting and scale the data</p>\n",
    "</div>"
   ]
  },
  {
   "cell_type": "code",
   "execution_count": 57,
   "id": "3cd338bb-022b-4f8a-86c7-538195ff9de8",
   "metadata": {},
   "outputs": [],
   "source": [
    "# Split dataset to train\n",
    "X = df_resampled.drop(columns=[\"TARGET\", \"SK_ID_CURR\"])\n",
    "y_target = df_resampled.loc[:, \"TARGET\"]\n",
    "\n",
    "X_train, X_test, y_train, y_test = train_test_split(X, y_target, test_size=0.33, random_state=42)\n",
    "\n",
    "X_train_scaled = scaler.fit_transform(X_train)\n",
    "X_test_scaled = scaler.fit_transform(X_test)"
   ]
  },
  {
   "cell_type": "markdown",
   "id": "32d4b483-77f9-4896-a6e7-92f94d9db775",
   "metadata": {
    "tags": []
   },
   "source": [
    "<div class=\"alert alert-block alert-info\">\n",
    "    <p>Initializing the model. LightGBM parameters found by Bayesian optimization</p>\n",
    "</div>"
   ]
  },
  {
   "cell_type": "code",
   "execution_count": 58,
   "id": "cbaded4b-673c-42dc-8638-515211c94398",
   "metadata": {},
   "outputs": [],
   "source": [
    "clf = LGBMClassifier(\n",
    "    n_estimators=N_ESTIMATORS[best.get(\"n_estimators\")],\n",
    "    learning_rate=best.get(\"learning_rate\"),\n",
    "    num_leaves=NUM_LEAVES[best.get(\"num_leaves\")],\n",
    "    max_depth=MAX_DEPTH[best.get(\"max_depth\")],\n",
    "    reg_alpha=best.get(\"reg_alpha\"),\n",
    "    reg_lambda=best.get(\"reg_lambda\"),\n",
    "    min_split_gain=best.get(\"min_split_gain\"),\n",
    "    min_child_weight=best.get(\"min_child_weight\"),\n",
    "    colsample_bytree=0.8, \n",
    "    subsample=0.8,\n",
    "    is_unbalance=False,\n",
    "    n_jobs=-1 \n",
    ")"
   ]
  },
  {
   "cell_type": "markdown",
   "id": "2d89339f-dc01-461d-8bee-ae08ee2e0f4a",
   "metadata": {
    "tags": []
   },
   "source": [
    "<div class=\"alert alert-block alert-info\">\n",
    "    <p>Fitting the model</p>\n",
    "</div>"
   ]
  },
  {
   "cell_type": "code",
   "execution_count": 59,
   "id": "89022adc-02fd-40df-ae3a-b10211566fce",
   "metadata": {},
   "outputs": [
    {
     "name": "stdout",
     "output_type": "stream",
     "text": [
      "Training until validation scores don't improve for 200 rounds\n",
      "Early stopping, best iteration is:\n",
      "[1048]\ttraining's auc: 0.988454\ttraining's binary_logloss: 0.278449\tvalid_1's auc: 0.96154\tvalid_1's binary_logloss: 0.506941\n"
     ]
    },
    {
     "data": {
      "text/plain": [
       "LGBMClassifier(colsample_bytree=0.8, is_unbalance=False,\n",
       "               learning_rate=0.002021947556803579, max_depth=9,\n",
       "               min_child_weight=44.68618422455195,\n",
       "               min_split_gain=0.030970825122649367, n_estimators=8000,\n",
       "               num_leaves=36, reg_alpha=0.045341569610647205,\n",
       "               reg_lambda=0.08049459639521307, subsample=0.8)"
      ]
     },
     "execution_count": 59,
     "metadata": {},
     "output_type": "execute_result"
    }
   ],
   "source": [
    "evaluation = [(X_train_scaled, y_train), (X_test_scaled, y_test)]\n",
    "\n",
    "clf.fit(X_train_scaled, y_train, eval_set=evaluation, eval_metric=\"auc\",\n",
    "        callbacks=[lgb.early_stopping(stopping_rounds=200),\n",
    "                  lgb.log_evaluation(period=-1)])"
   ]
  },
  {
   "cell_type": "markdown",
   "id": "c2ff0638-1038-4596-bffc-4ff0c2ccd444",
   "metadata": {
    "tags": []
   },
   "source": [
    "<div class=\"alert alert-block alert-info\">\n",
    "    <p>Metrics</p>\n",
    "</div>"
   ]
  },
  {
   "cell_type": "code",
   "execution_count": 60,
   "id": "b709deee-1c39-471f-bd10-0bc511bdd4eb",
   "metadata": {},
   "outputs": [
    {
     "name": "stdout",
     "output_type": "stream",
     "text": [
      "\n",
      ">> ROC-AUC Score 0.961540\n",
      ">> Custom Score 0.938380\n",
      "\n"
     ]
    }
   ],
   "source": [
    "oof_preds = clf.predict_proba(X_test_scaled, num_iteration=clf.best_iteration_)[:, 1]\n",
    "y_pred = clf.predict(X_test_scaled)\n",
    "\n",
    "# Freeing up memory\n",
    "del X_train, X_train_scaled, y_train, X_test, X_test_scaled\n",
    "gc.collect()\n",
    "    \n",
    "auc = roc_auc_score(y_test, oof_preds)\n",
    "print(\"\\n>> ROC-AUC Score %.6f\" % auc )\n",
    "\n",
    "cs = custom_score(y_test, oof_preds)\n",
    "print(\">> Custom Score %.6f\\n\" % cs )\n"
   ]
  },
  {
   "cell_type": "markdown",
   "id": "c0c0ec8d-c006-464d-a9b3-28c173e3845f",
   "metadata": {
    "tags": []
   },
   "source": [
    "<div style=\"background-color: #506AB9;\" >\n",
    "    <h4 style=\"margin: auto; padding: 20px; color:#fff; \">3.4.1. Metrics</h4>\n",
    "</div>"
   ]
  },
  {
   "cell_type": "markdown",
   "id": "82d788bf-782a-456a-a3c5-7ae714a26a19",
   "metadata": {
    "tags": []
   },
   "source": [
    "<div class=\"alert alert-block alert-info\">\n",
    "    <p>Because it is a <b>balanced dataset</b>, ROC-AUC will be taken into account</p>\n",
    "</div>"
   ]
  },
  {
   "cell_type": "code",
   "execution_count": 61,
   "id": "0b911177-2478-4553-a864-7aff7d94516b",
   "metadata": {},
   "outputs": [
    {
     "data": {
      "image/png": "[encoded data removed]",
      "text/plain": [
       "<Figure size 432x432 with 1 Axes>"
      ]
     },
     "metadata": {
      "needs_background": "light"
     },
     "output_type": "display_data"
    }
   ],
   "source": [
    "# Compute ROC curve and ROC area for each class\n",
    "fpr = dict()\n",
    "tpr = dict()\n",
    "fpr[\"micro\"], tpr[\"micro\"], _ = roc_curve(y_test.ravel(), oof_preds.ravel())\n",
    "\n",
    "plt.subplots(1, figsize=(6, 6))\n",
    "plt.title(\"Receiver Operating Characteristic\")\n",
    "plt.plot(fpr[\"micro\"], tpr[\"micro\"])\n",
    "plt.plot([0, 1], ls=\"--\")\n",
    "plt.plot([0, 0], [1, 0] , c=\".7\"), plt.plot([1, 1] , c=\".7\")\n",
    "plt.ylabel(\"True Positive Rate\")\n",
    "plt.xlabel(\"False Positive Rate\")\n",
    "plt.show()"
   ]
  },
  {
   "cell_type": "markdown",
   "id": "57d8ec9c-ac04-4370-ae7d-69459119bdc0",
   "metadata": {
    "tags": []
   },
   "source": [
    "<div class=\"alert alert-block alert-success\">\n",
    "    <p><b>Observations / Conclusions</b></p>\n",
    "    <p>Throughout the execution, the model had a good result</p>\n",
    "</div>"
   ]
  },
  {
   "cell_type": "markdown",
   "id": "5b5ce9f9-a15c-4ee7-80dc-8779d0b8e980",
   "metadata": {
    "tags": []
   },
   "source": [
    "<div class=\"alert alert-block alert-info\">\n",
    "    <p>Precision-Recall curve is mainlyu used when datasets are unbalanced. Due to that, we are going to do only in informative way</p>\n",
    "</div>"
   ]
  },
  {
   "cell_type": "code",
   "execution_count": 62,
   "id": "e8a051ef-a8c1-4733-83ff-92aab4a3becd",
   "metadata": {},
   "outputs": [
    {
     "data": {
      "image/png": "[encoded data removed]",
      "text/plain": [
       "<Figure size 432x288 with 1 Axes>"
      ]
     },
     "metadata": {
      "needs_background": "light"
     },
     "output_type": "display_data"
    }
   ],
   "source": [
    "# Plotting the Precision-Recall curve\n",
    "display = PrecisionRecallDisplay.from_predictions(y_test.ravel(), oof_preds.ravel(), name=\"LGBMClassifier\")\n",
    "_ = display.ax_.set_title(\"2-class Precision-Recall curve\")"
   ]
  },
  {
   "cell_type": "code",
   "execution_count": 63,
   "id": "eaa44e5e-4be9-43de-9cc0-81349d7dadfe",
   "metadata": {},
   "outputs": [
    {
     "data": {
      "image/png": "[encoded data removed]",
      "text/plain": [
       "<Figure size 432x288 with 2 Axes>"
      ]
     },
     "metadata": {
      "needs_background": "light"
     },
     "output_type": "display_data"
    }
   ],
   "source": [
    "# Confusion matrix\n",
    "#display = ConfusionMatrixDisplay.from_predictions(y_test, y_pred, display_labels=[\"Repaid\",\"No repaid\"])\n",
    "display = ConfusionMatrixDisplay.from_predictions(y_test, y_pred)\n",
    "_ = display.ax_.set_title(\"Confusion matrix\")"
   ]
  },
  {
   "cell_type": "code",
   "execution_count": 64,
   "id": "1c90f459-401c-43a0-9c46-4c0c0e3a4c78",
   "metadata": {},
   "outputs": [
    {
     "data": {
      "image/png": "[encoded data removed]",
      "text/plain": [
       "<Figure size 864x720 with 1 Axes>"
      ]
     },
     "metadata": {
      "needs_background": "light"
     },
     "output_type": "display_data"
    }
   ],
   "source": [
    "# Feature importance\n",
    "feature_importance_df_ = pd.DataFrame({\"importance\":clf.feature_importances_, \"feature\":X.columns})\n",
    "\n",
    "cols = feature_importance_df_[[\"feature\", \"importance\"]].groupby(\"feature\").mean().sort_values(by=\"importance\", ascending=False)[:40].index\n",
    "best_features = feature_importance_df_.loc[feature_importance_df_.feature.isin(cols)]\n",
    "plt.figure(figsize=(12, 10))\n",
    "sns.barplot(x=\"importance\", y=\"feature\", data=best_features.sort_values(by=\"importance\", ascending=False))\n",
    "plt.xlabel('Date', fontsize=12);\n",
    "plt.ylabel('Sales', fontsize=12);\n",
    "plt.title('LightGBM Features (avg over folds)')\n",
    "plt.tight_layout()\n",
    "plt.show()"
   ]
  },
  {
   "cell_type": "markdown",
   "id": "2ebcb7f8-4eca-4a12-aa4b-81a621414752",
   "metadata": {
    "tags": []
   },
   "source": [
    "<div class=\"alert alert-block alert-success\">\n",
    "    <p><b>Observations / Conclusions</b></p>\n",
    "    <p>At this point we have the following dataset.</p>\n",
    "    <ul style=\"list-style-type: square;\">\n",
    "        <li>The most important variables come from an external source.<br>These are standardized scores from other institutions (ext_source_3, ext_source_2).</li>\n",
    "        <li>The Feature Engineering added the value at the time of modeling. <br>It can be noticed through feature name endings (mean, max, etc.).</li>\n",
    "        <li>The model has taken into account different variables:<br> Personal Variables, Banking Variables, External Variables.</li>\n",
    "    </ul> \n",
    "</div>"
   ]
  },
  {
   "cell_type": "code",
   "execution_count": 65,
   "id": "affc59b2-f588-4f95-856d-0450c719ceaa",
   "metadata": {},
   "outputs": [],
   "source": [
    "# Saving the model based on the best parameters\n",
    "#joblib.dump(clf, \"models/model_{version}.pkl\".format(version=sklearn.__version__))"
   ]
  },
  {
   "cell_type": "code",
   "execution_count": 66,
   "id": "50d9effc-f212-4d73-870d-bdcf41fbc683",
   "metadata": {},
   "outputs": [
    {
     "ename": "NameError",
     "evalue": "name 'xxxx' is not defined",
     "output_type": "error",
     "traceback": [
      "\u001b[1;31m---------------------------------------------------------------------------\u001b[0m",
      "\u001b[1;31mNameError\u001b[0m                                 Traceback (most recent call last)",
      "\u001b[1;32m~\\AppData\\Local\\Temp/ipykernel_24176/3574181483.py\u001b[0m in \u001b[0;36m<module>\u001b[1;34m\u001b[0m\n\u001b[1;32m----> 1\u001b[1;33m \u001b[0mxxxx\u001b[0m\u001b[1;33m\u001b[0m\u001b[1;33m\u001b[0m\u001b[0m\n\u001b[0m",
      "\u001b[1;31mNameError\u001b[0m: name 'xxxx' is not defined"
     ]
    }
   ],
   "source": [
    "xxxx"
   ]
  },
  {
   "cell_type": "code",
   "execution_count": null,
   "id": "4e97e494-3670-4628-9919-1f6c9b9490a9",
   "metadata": {},
   "outputs": [],
   "source": []
  },
  {
   "cell_type": "code",
   "execution_count": null,
   "id": "846ecd87-463a-4d03-bf35-0efdd322e39f",
   "metadata": {},
   "outputs": [],
   "source": []
  },
  {
   "cell_type": "code",
   "execution_count": null,
   "id": "64973b35-2a3b-4790-a074-4b39cfb40792",
   "metadata": {},
   "outputs": [],
   "source": []
  },
  {
   "cell_type": "code",
   "execution_count": null,
   "id": "537710be-5984-4422-9163-278bbd2b421e",
   "metadata": {},
   "outputs": [],
   "source": []
  },
  {
   "cell_type": "code",
   "execution_count": null,
   "id": "2f3a6ec5-b08c-4fb5-8adc-9d046b1f85f9",
   "metadata": {},
   "outputs": [],
   "source": []
  },
  {
   "cell_type": "code",
   "execution_count": null,
   "id": "cdeadf5c-83a6-4543-b34f-0318d428fd6f",
   "metadata": {},
   "outputs": [],
   "source": []
  },
  {
   "cell_type": "code",
   "execution_count": null,
   "id": "850545f5-afda-4f15-a59c-65493a535fd6",
   "metadata": {},
   "outputs": [],
   "source": []
  },
  {
   "cell_type": "code",
   "execution_count": null,
   "id": "de547f88-9da9-4649-bfc4-f6592044cc5c",
   "metadata": {},
   "outputs": [],
   "source": []
  }
 ],
 "metadata": {
  "kernelspec": {
   "display_name": "Python 3 (ipykernel)",
   "language": "python",
   "name": "python3"
  },
  "language_info": {
   "codemirror_mode": {
    "name": "ipython",
    "version": 3
   },
   "file_extension": ".py",
   "mimetype": "text/x-python",
   "name": "python",
   "nbconvert_exporter": "python",
   "pygments_lexer": "ipython3",
   "version": "3.9.9"
  }
 },
 "nbformat": 4,
 "nbformat_minor": 5
}
