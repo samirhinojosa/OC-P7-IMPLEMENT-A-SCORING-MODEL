{
 "cells": [
  {
   "cell_type": "markdown",
   "id": "874f1c64",
   "metadata": {
    "papermill": {
     "duration": 0.032188,
     "end_time": "2021-07-30T03:15:53.436575",
     "exception": false,
     "start_time": "2021-07-30T03:15:53.404387",
     "status": "completed"
    },
    "tags": []
   },
   "source": [
    "# 機械学習フロー\n",
    "# 【問題1】クロスバリデーション\n",
    "事前学習期間は検証データを分割しておき、それに対して指標値を計算することで検証を行っていました。しかし、分割の仕方により精度は変化します。実践的には クロスバリデーション を行います。\n",
    "\n",
    "\n",
    "具体的には分割を複数回行い、それぞれに対して学習と検証を行う方法です。複数回の分割を行う関数はscikit-learnにKFoldとして用意されています。\n",
    "## データの確認"
   ]
  },
  {
   "cell_type": "code",
   "execution_count": 1,
   "id": "9597c6f3",
   "metadata": {
    "execution": {
     "iopub.execute_input": "2021-07-30T03:15:53.512681Z",
     "iopub.status.busy": "2021-07-30T03:15:53.512059Z",
     "iopub.status.idle": "2021-07-30T03:15:54.709331Z",
     "shell.execute_reply": "2021-07-30T03:15:54.708528Z",
     "shell.execute_reply.started": "2021-07-30T03:02:22.393566Z"
    },
    "papermill": {
     "duration": 1.239715,
     "end_time": "2021-07-30T03:15:54.709503",
     "exception": false,
     "start_time": "2021-07-30T03:15:53.469788",
     "status": "completed"
    },
    "tags": []
   },
   "outputs": [],
   "source": [
    "import numpy as np\n",
    "import pandas as pd\n",
    "from sklearn.model_selection import KFold\n",
    "import matplotlib.pyplot as plt\n",
    "import seaborn as sns"
   ]
  },
  {
   "cell_type": "markdown",
   "id": "ecdc1a2c",
   "metadata": {
    "papermill": {
     "duration": 0.032263,
     "end_time": "2021-07-30T03:15:54.773246",
     "exception": false,
     "start_time": "2021-07-30T03:15:54.740983",
     "status": "completed"
    },
    "tags": []
   },
   "source": [
    "## 【問題3】Kernelからの調査\n",
    "KaggleのKernelから自身にはなかったアイデアを見つけ出して、列挙してください。そして、効果があると考えられるものを検証してください。  \n",
    "全パラメータを用いたランダムフォレストが気に入ったのでそのモデルを使用する。\n",
    "\n",
    "## 【問題4】高い汎化性能のモデル\n",
    "これまで学んだことを用いながら汎化性能の高いモデルを作成してください。今は全体の流れを掴むことを重視し、Sprintの時間内に結果を出すということも意識しましょう。"
   ]
  },
  {
   "cell_type": "code",
   "execution_count": 2,
   "id": "a0397b5d",
   "metadata": {
    "execution": {
     "iopub.execute_input": "2021-07-30T03:15:54.842937Z",
     "iopub.status.busy": "2021-07-30T03:15:54.842268Z",
     "iopub.status.idle": "2021-07-30T03:16:02.059334Z",
     "shell.execute_reply": "2021-07-30T03:16:02.059812Z",
     "shell.execute_reply.started": "2021-07-30T03:02:22.400402Z"
    },
    "papermill": {
     "duration": 7.255523,
     "end_time": "2021-07-30T03:16:02.059994",
     "exception": false,
     "start_time": "2021-07-30T03:15:54.804471",
     "status": "completed"
    },
    "tags": []
   },
   "outputs": [],
   "source": [
    "app_train = pd.read_csv('../input/home-credit-default-risk/application_train.csv')\n",
    "app_test = pd.read_csv('../input/home-credit-default-risk/application_test.csv')\n",
    "app_train_notarget = app_train.drop('TARGET', axis=1) # TARGETを落としたもの\n",
    "target = app_train['TARGET']\n",
    "test_id = app_test[['SK_ID_CURR']].copy()"
   ]
  },
  {
   "cell_type": "code",
   "execution_count": 3,
   "id": "61459bb6",
   "metadata": {
    "execution": {
     "iopub.execute_input": "2021-07-30T03:16:02.172149Z",
     "iopub.status.busy": "2021-07-30T03:16:02.127006Z",
     "iopub.status.idle": "2021-07-30T03:16:02.316987Z",
     "shell.execute_reply": "2021-07-30T03:16:02.316407Z",
     "shell.execute_reply.started": "2021-07-30T03:02:27.819910Z"
    },
    "papermill": {
     "duration": 0.225901,
     "end_time": "2021-07-30T03:16:02.317148",
     "exception": false,
     "start_time": "2021-07-30T03:16:02.091247",
     "status": "completed"
    },
    "tags": []
   },
   "outputs": [],
   "source": [
    "app_train, app_test = app_train.align(app_test, join = 'inner', axis = 1)\n",
    "# 共通の列にしている（今回は変化なし）"
   ]
  },
  {
   "cell_type": "code",
   "execution_count": 4,
   "id": "71aac969",
   "metadata": {
    "execution": {
     "iopub.execute_input": "2021-07-30T03:16:02.388930Z",
     "iopub.status.busy": "2021-07-30T03:16:02.387999Z",
     "iopub.status.idle": "2021-07-30T03:16:02.391826Z",
     "shell.execute_reply": "2021-07-30T03:16:02.392366Z",
     "shell.execute_reply.started": "2021-07-30T03:02:27.964240Z"
    },
    "papermill": {
     "duration": 0.043061,
     "end_time": "2021-07-30T03:16:02.392543",
     "exception": false,
     "start_time": "2021-07-30T03:16:02.349482",
     "status": "completed"
    },
    "tags": []
   },
   "outputs": [
    {
     "data": {
      "text/plain": [
       "((307511, 121), (307511,), (48744, 121))"
      ]
     },
     "execution_count": 4,
     "metadata": {},
     "output_type": "execute_result"
    }
   ],
   "source": [
    "app_train_notarget.shape, target.shape, app_test.shape"
   ]
  },
  {
   "cell_type": "code",
   "execution_count": 5,
   "id": "7de3090d",
   "metadata": {
    "execution": {
     "iopub.execute_input": "2021-07-30T03:16:02.459444Z",
     "iopub.status.busy": "2021-07-30T03:16:02.458782Z",
     "iopub.status.idle": "2021-07-30T03:16:02.464121Z",
     "shell.execute_reply": "2021-07-30T03:16:02.464636Z",
     "shell.execute_reply.started": "2021-07-30T03:02:27.973646Z"
    },
    "papermill": {
     "duration": 0.040269,
     "end_time": "2021-07-30T03:16:02.464797",
     "exception": false,
     "start_time": "2021-07-30T03:16:02.424528",
     "status": "completed"
    },
    "tags": []
   },
   "outputs": [],
   "source": [
    "# どちらがテストデータかわかるようにしている(TARGETを落としたため)\n",
    "app_train['training_set'] = True \n",
    "app_test['training_set'] = False"
   ]
  },
  {
   "cell_type": "code",
   "execution_count": 6,
   "id": "ce3c812c",
   "metadata": {
    "execution": {
     "iopub.execute_input": "2021-07-30T03:16:02.531197Z",
     "iopub.status.busy": "2021-07-30T03:16:02.530564Z",
     "iopub.status.idle": "2021-07-30T03:16:03.562158Z",
     "shell.execute_reply": "2021-07-30T03:16:03.561600Z",
     "shell.execute_reply.started": "2021-07-30T03:02:27.988985Z"
    },
    "papermill": {
     "duration": 1.065992,
     "end_time": "2021-07-30T03:16:03.562297",
     "exception": false,
     "start_time": "2021-07-30T03:16:02.496305",
     "status": "completed"
    },
    "tags": []
   },
   "outputs": [
    {
     "data": {
      "text/plain": [
       "(356255, 121)"
      ]
     },
     "execution_count": 6,
     "metadata": {},
     "output_type": "execute_result"
    }
   ],
   "source": [
    "app_full = pd.concat([app_train, app_test], axis=0).copy() # 縦方向に結合\n",
    "app_full = app_full.drop('SK_ID_CURR', axis=1)# IDは特徴量ではないので除外\n",
    "app_full.shape"
   ]
  },
  {
   "cell_type": "markdown",
   "id": "7eaa5d8b",
   "metadata": {
    "papermill": {
     "duration": 0.032093,
     "end_time": "2021-07-30T03:16:03.626311",
     "exception": false,
     "start_time": "2021-07-30T03:16:03.594218",
     "status": "completed"
    },
    "tags": []
   },
   "source": [
    "くっつけることによってダミーデータ作成や欠損値作成を一括で行うことができる。"
   ]
  },
  {
   "cell_type": "code",
   "execution_count": 7,
   "id": "fba38c4c",
   "metadata": {
    "execution": {
     "iopub.execute_input": "2021-07-30T03:16:03.702383Z",
     "iopub.status.busy": "2021-07-30T03:16:03.701468Z",
     "iopub.status.idle": "2021-07-30T03:16:03.705565Z",
     "shell.execute_reply": "2021-07-30T03:16:03.704959Z",
     "shell.execute_reply.started": "2021-07-30T03:02:29.046339Z"
    },
    "papermill": {
     "duration": 0.046526,
     "end_time": "2021-07-30T03:16:03.705700",
     "exception": false,
     "start_time": "2021-07-30T03:16:03.659174",
     "status": "completed"
    },
    "tags": []
   },
   "outputs": [
    {
     "data": {
      "text/plain": [
       "float64    65\n",
       "int64      39\n",
       "object     16\n",
       "bool        1\n",
       "dtype: int64"
      ]
     },
     "execution_count": 7,
     "metadata": {},
     "output_type": "execute_result"
    }
   ],
   "source": [
    "from sklearn.preprocessing import LabelEncoder\n",
    "le = LabelEncoder()\n",
    "app_full.dtypes.value_counts()"
   ]
  },
  {
   "cell_type": "code",
   "execution_count": 8,
   "id": "0eca7241",
   "metadata": {
    "execution": {
     "iopub.execute_input": "2021-07-30T03:16:03.773477Z",
     "iopub.status.busy": "2021-07-30T03:16:03.772838Z",
     "iopub.status.idle": "2021-07-30T03:16:04.718168Z",
     "shell.execute_reply": "2021-07-30T03:16:04.718690Z",
     "shell.execute_reply.started": "2021-07-30T03:02:29.060949Z"
    },
    "papermill": {
     "duration": 0.980486,
     "end_time": "2021-07-30T03:16:04.718864",
     "exception": false,
     "start_time": "2021-07-30T03:16:03.738378",
     "status": "completed"
    },
    "tags": []
   },
   "outputs": [
    {
     "name": "stdout",
     "output_type": "stream",
     "text": [
      "3 columns were labl encoded.\n"
     ]
    }
   ],
   "source": [
    "# 2値のオブジェクトをダミー変数化\n",
    "le_count = 0\n",
    "\n",
    "for col in app_full:\n",
    "    if app_full[col].dtype == 'object':\n",
    "         if len(list(app_full[col].unique())) <= 2: # 2個以上でそれやると何が何だかわからなくなるため２個まで\n",
    "            le.fit(app_full[col])\n",
    "            app_full[col] = le.transform(app_full[col])\n",
    "            \n",
    "            le_count += 1\n",
    "print('%d columns were labl encoded.' % le_count) "
   ]
  },
  {
   "cell_type": "code",
   "execution_count": 9,
   "id": "4bb54f08",
   "metadata": {
    "execution": {
     "iopub.execute_input": "2021-07-30T03:16:04.792073Z",
     "iopub.status.busy": "2021-07-30T03:16:04.791202Z",
     "iopub.status.idle": "2021-07-30T03:16:05.814427Z",
     "shell.execute_reply": "2021-07-30T03:16:05.814965Z",
     "shell.execute_reply.started": "2021-07-30T03:02:30.099337Z"
    },
    "papermill": {
     "duration": 1.063222,
     "end_time": "2021-07-30T03:16:05.815184",
     "exception": false,
     "start_time": "2021-07-30T03:16:04.751962",
     "status": "completed"
    },
    "tags": []
   },
   "outputs": [],
   "source": [
    "app_full = pd.get_dummies(app_full)"
   ]
  },
  {
   "cell_type": "code",
   "execution_count": 10,
   "id": "a5154a9d",
   "metadata": {
    "execution": {
     "iopub.execute_input": "2021-07-30T03:16:05.887267Z",
     "iopub.status.busy": "2021-07-30T03:16:05.886392Z",
     "iopub.status.idle": "2021-07-30T03:16:05.890432Z",
     "shell.execute_reply": "2021-07-30T03:16:05.889810Z",
     "shell.execute_reply.started": "2021-07-30T03:02:31.118101Z"
    },
    "papermill": {
     "duration": 0.041793,
     "end_time": "2021-07-30T03:16:05.890566",
     "exception": false,
     "start_time": "2021-07-30T03:16:05.848773",
     "status": "completed"
    },
    "tags": []
   },
   "outputs": [
    {
     "data": {
      "text/plain": [
       "(356255, 242)"
      ]
     },
     "execution_count": 10,
     "metadata": {},
     "output_type": "execute_result"
    }
   ],
   "source": [
    "app_full.shape"
   ]
  },
  {
   "cell_type": "markdown",
   "id": "cf929130",
   "metadata": {
    "papermill": {
     "duration": 0.034604,
     "end_time": "2021-07-30T03:16:05.958498",
     "exception": false,
     "start_time": "2021-07-30T03:16:05.923894",
     "status": "completed"
    },
    "tags": []
   },
   "source": [
    "TARGET と　 FLAG系のデータの相関がないことを確認して削除(略)"
   ]
  },
  {
   "cell_type": "code",
   "execution_count": 11,
   "id": "67ced49d",
   "metadata": {
    "execution": {
     "iopub.execute_input": "2021-07-30T03:16:06.032224Z",
     "iopub.status.busy": "2021-07-30T03:16:06.031545Z",
     "iopub.status.idle": "2021-07-30T03:16:06.142099Z",
     "shell.execute_reply": "2021-07-30T03:16:06.141354Z",
     "shell.execute_reply.started": "2021-07-30T03:02:31.126926Z"
    },
    "papermill": {
     "duration": 0.149669,
     "end_time": "2021-07-30T03:16:06.142246",
     "exception": false,
     "start_time": "2021-07-30T03:16:05.992577",
     "status": "completed"
    },
    "tags": []
   },
   "outputs": [],
   "source": [
    "app_train['TARGET'] = target\n",
    "app_doc_corr = app_train[['TARGET','FLAG_DOCUMENT_2','FLAG_DOCUMENT_3','FLAG_DOCUMENT_4',\n",
    "                        'FLAG_DOCUMENT_5','FLAG_DOCUMENT_6','FLAG_DOCUMENT_7','FLAG_DOCUMENT_8', \n",
    "                        'FLAG_DOCUMENT_9', 'FLAG_DOCUMENT_10', 'FLAG_DOCUMENT_11', 'FLAG_DOCUMENT_12', \n",
    "                        'FLAG_DOCUMENT_13', 'FLAG_DOCUMENT_14', 'FLAG_DOCUMENT_15', 'FLAG_DOCUMENT_16',\n",
    "                        'FLAG_DOCUMENT_17', 'FLAG_DOCUMENT_18', 'FLAG_DOCUMENT_19', 'FLAG_DOCUMENT_20',\n",
    "                        'FLAG_DOCUMENT_21']].copy()"
   ]
  },
  {
   "cell_type": "code",
   "execution_count": 12,
   "id": "aeb63524",
   "metadata": {
    "execution": {
     "iopub.execute_input": "2021-07-30T03:16:06.215619Z",
     "iopub.status.busy": "2021-07-30T03:16:06.214913Z",
     "iopub.status.idle": "2021-07-30T03:16:06.672319Z",
     "shell.execute_reply": "2021-07-30T03:16:06.671682Z",
     "shell.execute_reply.started": "2021-07-30T03:02:31.241710Z"
    },
    "papermill": {
     "duration": 0.495228,
     "end_time": "2021-07-30T03:16:06.672486",
     "exception": false,
     "start_time": "2021-07-30T03:16:06.177258",
     "status": "completed"
    },
    "tags": []
   },
   "outputs": [
    {
     "data": {
      "text/plain": [
       "FLAG_DOCUMENT_6    -0.028602\n",
       "FLAG_DOCUMENT_16   -0.011615\n",
       "FLAG_DOCUMENT_13   -0.011583\n",
       "FLAG_DOCUMENT_14   -0.009464\n",
       "FLAG_DOCUMENT_8    -0.008040\n",
       "FLAG_DOCUMENT_18   -0.007952\n",
       "FLAG_DOCUMENT_15   -0.006536\n",
       "FLAG_DOCUMENT_9    -0.004352\n",
       "FLAG_DOCUMENT_11   -0.004229\n",
       "FLAG_DOCUMENT_17   -0.003378\n",
       "FLAG_DOCUMENT_4    -0.002672\n",
       "FLAG_DOCUMENT_7    -0.001520\n",
       "FLAG_DOCUMENT_10   -0.001414\n",
       "FLAG_DOCUMENT_19   -0.001358\n",
       "FLAG_DOCUMENT_12   -0.000756\n",
       "FLAG_DOCUMENT_5    -0.000316\n",
       "FLAG_DOCUMENT_20    0.000215\n",
       "FLAG_DOCUMENT_21    0.003709\n",
       "FLAG_DOCUMENT_2     0.005417\n",
       "FLAG_DOCUMENT_3     0.044346\n",
       "TARGET              1.000000\n",
       "Name: TARGET, dtype: float64"
      ]
     },
     "execution_count": 12,
     "metadata": {},
     "output_type": "execute_result"
    }
   ],
   "source": [
    "corr = app_doc_corr.corr()['TARGET'].sort_values()\n",
    "corr"
   ]
  },
  {
   "cell_type": "code",
   "execution_count": 13,
   "id": "e12eb915",
   "metadata": {
    "execution": {
     "iopub.execute_input": "2021-07-30T03:16:06.747983Z",
     "iopub.status.busy": "2021-07-30T03:16:06.747005Z",
     "iopub.status.idle": "2021-07-30T03:16:06.751619Z",
     "shell.execute_reply": "2021-07-30T03:16:06.750993Z",
     "shell.execute_reply.started": "2021-07-30T03:02:31.673187Z"
    },
    "papermill": {
     "duration": 0.045871,
     "end_time": "2021-07-30T03:16:06.751751",
     "exception": false,
     "start_time": "2021-07-30T03:16:06.705880",
     "status": "completed"
    },
    "tags": []
   },
   "outputs": [
    {
     "data": {
      "text/plain": [
       "TARGET              1.000000\n",
       "FLAG_DOCUMENT_3     0.044346\n",
       "FLAG_DOCUMENT_6     0.028602\n",
       "FLAG_DOCUMENT_16    0.011615\n",
       "FLAG_DOCUMENT_13    0.011583\n",
       "FLAG_DOCUMENT_14    0.009464\n",
       "FLAG_DOCUMENT_8     0.008040\n",
       "FLAG_DOCUMENT_18    0.007952\n",
       "FLAG_DOCUMENT_15    0.006536\n",
       "FLAG_DOCUMENT_2     0.005417\n",
       "FLAG_DOCUMENT_9     0.004352\n",
       "FLAG_DOCUMENT_11    0.004229\n",
       "FLAG_DOCUMENT_21    0.003709\n",
       "FLAG_DOCUMENT_17    0.003378\n",
       "FLAG_DOCUMENT_4     0.002672\n",
       "FLAG_DOCUMENT_7     0.001520\n",
       "FLAG_DOCUMENT_10    0.001414\n",
       "FLAG_DOCUMENT_19    0.001358\n",
       "FLAG_DOCUMENT_12    0.000756\n",
       "FLAG_DOCUMENT_5     0.000316\n",
       "FLAG_DOCUMENT_20    0.000215\n",
       "Name: TARGET, dtype: float64"
      ]
     },
     "execution_count": 13,
     "metadata": {},
     "output_type": "execute_result"
    }
   ],
   "source": [
    "corr.abs().sort_values(ascending=False)"
   ]
  },
  {
   "cell_type": "markdown",
   "id": "6d6fdbc8",
   "metadata": {
    "papermill": {
     "duration": 0.035013,
     "end_time": "2021-07-30T03:16:06.821245",
     "exception": false,
     "start_time": "2021-07-30T03:16:06.786232",
     "status": "completed"
    },
    "tags": []
   },
   "source": [
    "相関が高かった  \n",
    "- FLAG_DOCUMENT_3     0.044346\n",
    "- FLAG_DOCUMENT_6     0.028602\n",
    "- FLAG_DOCUMENT_16    0.011615\n",
    "- FLAG_DOCUMENT_13    0.011583  \n",
    "以外のものを削除  \n",
    "なんでわざわざこの特徴量だけ削除しているのかはよくわからなかった。"
   ]
  },
  {
   "cell_type": "code",
   "execution_count": 14,
   "id": "520648f5",
   "metadata": {
    "execution": {
     "iopub.execute_input": "2021-07-30T03:16:06.894979Z",
     "iopub.status.busy": "2021-07-30T03:16:06.894312Z",
     "iopub.status.idle": "2021-07-30T03:16:07.251134Z",
     "shell.execute_reply": "2021-07-30T03:16:07.250569Z",
     "shell.execute_reply.started": "2021-07-30T03:02:31.684076Z"
    },
    "papermill": {
     "duration": 0.395939,
     "end_time": "2021-07-30T03:16:07.251288",
     "exception": false,
     "start_time": "2021-07-30T03:16:06.855349",
     "status": "completed"
    },
    "tags": []
   },
   "outputs": [],
   "source": [
    "app_full = app_full.drop(['FLAG_DOCUMENT_2', 'FLAG_DOCUMENT_4', 'FLAG_DOCUMENT_5', \n",
    "                        'FLAG_DOCUMENT_7', 'FLAG_DOCUMENT_8', 'FLAG_DOCUMENT_9', \n",
    "                        'FLAG_DOCUMENT_10', 'FLAG_DOCUMENT_11', 'FLAG_DOCUMENT_12', \n",
    "                        'FLAG_DOCUMENT_14', 'FLAG_DOCUMENT_15'], axis=1)"
   ]
  },
  {
   "cell_type": "code",
   "execution_count": 15,
   "id": "9518dc95",
   "metadata": {
    "execution": {
     "iopub.execute_input": "2021-07-30T03:16:07.328312Z",
     "iopub.status.busy": "2021-07-30T03:16:07.327615Z",
     "iopub.status.idle": "2021-07-30T03:16:07.330462Z",
     "shell.execute_reply": "2021-07-30T03:16:07.329793Z",
     "shell.execute_reply.started": "2021-07-30T03:02:32.279573Z"
    },
    "papermill": {
     "duration": 0.044402,
     "end_time": "2021-07-30T03:16:07.330598",
     "exception": false,
     "start_time": "2021-07-30T03:16:07.286196",
     "status": "completed"
    },
    "tags": []
   },
   "outputs": [],
   "source": [
    "def missing_values_table(df):\n",
    "    mis_val = df.isnull().sum()\n",
    "    mis_val_percent = 100 * df.isnull().sum() / len(df)\n",
    "    mis_val_table = pd.concat([mis_val, mis_val_percent], axis = 1)\n",
    "    mis_val_table_ren_columns = mis_val_table.rename(columns = {0:\"Missing Values\", 1:\"% of Total Values\"})\n",
    "    \n",
    "    mis_val_table_ren_columns = mis_val_table_ren_columns[mis_val_table_ren_columns.iloc[:,1] != 0].sort_values('% of Total Values', ascending = False).round(1)\n",
    "    \n",
    "    print (\"Your selected dataframe has \" + str(df.shape[1]) + \" columns.\\n\"      \n",
    "            \"There are \" + str(mis_val_table_ren_columns.shape[0]) +\n",
    "              \" columns that have missing values.\")\n",
    "    \n",
    "    return mis_val_table_ren_columns"
   ]
  },
  {
   "cell_type": "code",
   "execution_count": 16,
   "id": "3324e873",
   "metadata": {
    "execution": {
     "iopub.execute_input": "2021-07-30T03:16:07.403144Z",
     "iopub.status.busy": "2021-07-30T03:16:07.402482Z",
     "iopub.status.idle": "2021-07-30T03:16:07.685610Z",
     "shell.execute_reply": "2021-07-30T03:16:07.685118Z",
     "shell.execute_reply.started": "2021-07-30T03:02:32.289727Z"
    },
    "papermill": {
     "duration": 0.321248,
     "end_time": "2021-07-30T03:16:07.685745",
     "exception": false,
     "start_time": "2021-07-30T03:16:07.364497",
     "status": "completed"
    },
    "tags": []
   },
   "outputs": [
    {
     "name": "stdout",
     "output_type": "stream",
     "text": [
      "Your selected dataframe has 231 columns.\n",
      "There are 61 columns that have missing values.\n"
     ]
    },
    {
     "data": {
      "text/html": [
       "<div>\n",
       "<style scoped>\n",
       "    .dataframe tbody tr th:only-of-type {\n",
       "        vertical-align: middle;\n",
       "    }\n",
       "\n",
       "    .dataframe tbody tr th {\n",
       "        vertical-align: top;\n",
       "    }\n",
       "\n",
       "    .dataframe thead th {\n",
       "        text-align: right;\n",
       "    }\n",
       "</style>\n",
       "<table border=\"1\" class=\"dataframe\">\n",
       "  <thead>\n",
       "    <tr style=\"text-align: right;\">\n",
       "      <th></th>\n",
       "      <th>Missing Values</th>\n",
       "      <th>% of Total Values</th>\n",
       "    </tr>\n",
       "  </thead>\n",
       "  <tbody>\n",
       "    <tr>\n",
       "      <th>COMMONAREA_MODE</th>\n",
       "      <td>248360</td>\n",
       "      <td>69.7</td>\n",
       "    </tr>\n",
       "    <tr>\n",
       "      <th>COMMONAREA_MEDI</th>\n",
       "      <td>248360</td>\n",
       "      <td>69.7</td>\n",
       "    </tr>\n",
       "    <tr>\n",
       "      <th>COMMONAREA_AVG</th>\n",
       "      <td>248360</td>\n",
       "      <td>69.7</td>\n",
       "    </tr>\n",
       "    <tr>\n",
       "      <th>NONLIVINGAPARTMENTS_MODE</th>\n",
       "      <td>246861</td>\n",
       "      <td>69.3</td>\n",
       "    </tr>\n",
       "    <tr>\n",
       "      <th>NONLIVINGAPARTMENTS_AVG</th>\n",
       "      <td>246861</td>\n",
       "      <td>69.3</td>\n",
       "    </tr>\n",
       "    <tr>\n",
       "      <th>NONLIVINGAPARTMENTS_MEDI</th>\n",
       "      <td>246861</td>\n",
       "      <td>69.3</td>\n",
       "    </tr>\n",
       "    <tr>\n",
       "      <th>LIVINGAPARTMENTS_MEDI</th>\n",
       "      <td>242979</td>\n",
       "      <td>68.2</td>\n",
       "    </tr>\n",
       "    <tr>\n",
       "      <th>LIVINGAPARTMENTS_AVG</th>\n",
       "      <td>242979</td>\n",
       "      <td>68.2</td>\n",
       "    </tr>\n",
       "    <tr>\n",
       "      <th>LIVINGAPARTMENTS_MODE</th>\n",
       "      <td>242979</td>\n",
       "      <td>68.2</td>\n",
       "    </tr>\n",
       "    <tr>\n",
       "      <th>FLOORSMIN_MEDI</th>\n",
       "      <td>241108</td>\n",
       "      <td>67.7</td>\n",
       "    </tr>\n",
       "    <tr>\n",
       "      <th>FLOORSMIN_MODE</th>\n",
       "      <td>241108</td>\n",
       "      <td>67.7</td>\n",
       "    </tr>\n",
       "    <tr>\n",
       "      <th>FLOORSMIN_AVG</th>\n",
       "      <td>241108</td>\n",
       "      <td>67.7</td>\n",
       "    </tr>\n",
       "    <tr>\n",
       "      <th>YEARS_BUILD_AVG</th>\n",
       "      <td>236306</td>\n",
       "      <td>66.3</td>\n",
       "    </tr>\n",
       "    <tr>\n",
       "      <th>YEARS_BUILD_MODE</th>\n",
       "      <td>236306</td>\n",
       "      <td>66.3</td>\n",
       "    </tr>\n",
       "    <tr>\n",
       "      <th>YEARS_BUILD_MEDI</th>\n",
       "      <td>236306</td>\n",
       "      <td>66.3</td>\n",
       "    </tr>\n",
       "    <tr>\n",
       "      <th>OWN_CAR_AGE</th>\n",
       "      <td>235241</td>\n",
       "      <td>66.0</td>\n",
       "    </tr>\n",
       "    <tr>\n",
       "      <th>LANDAREA_MEDI</th>\n",
       "      <td>210844</td>\n",
       "      <td>59.2</td>\n",
       "    </tr>\n",
       "    <tr>\n",
       "      <th>LANDAREA_MODE</th>\n",
       "      <td>210844</td>\n",
       "      <td>59.2</td>\n",
       "    </tr>\n",
       "    <tr>\n",
       "      <th>LANDAREA_AVG</th>\n",
       "      <td>210844</td>\n",
       "      <td>59.2</td>\n",
       "    </tr>\n",
       "    <tr>\n",
       "      <th>BASEMENTAREA_MODE</th>\n",
       "      <td>207584</td>\n",
       "      <td>58.3</td>\n",
       "    </tr>\n",
       "  </tbody>\n",
       "</table>\n",
       "</div>"
      ],
      "text/plain": [
       "                          Missing Values  % of Total Values\n",
       "COMMONAREA_MODE                   248360               69.7\n",
       "COMMONAREA_MEDI                   248360               69.7\n",
       "COMMONAREA_AVG                    248360               69.7\n",
       "NONLIVINGAPARTMENTS_MODE          246861               69.3\n",
       "NONLIVINGAPARTMENTS_AVG           246861               69.3\n",
       "NONLIVINGAPARTMENTS_MEDI          246861               69.3\n",
       "LIVINGAPARTMENTS_MEDI             242979               68.2\n",
       "LIVINGAPARTMENTS_AVG              242979               68.2\n",
       "LIVINGAPARTMENTS_MODE             242979               68.2\n",
       "FLOORSMIN_MEDI                    241108               67.7\n",
       "FLOORSMIN_MODE                    241108               67.7\n",
       "FLOORSMIN_AVG                     241108               67.7\n",
       "YEARS_BUILD_AVG                   236306               66.3\n",
       "YEARS_BUILD_MODE                  236306               66.3\n",
       "YEARS_BUILD_MEDI                  236306               66.3\n",
       "OWN_CAR_AGE                       235241               66.0\n",
       "LANDAREA_MEDI                     210844               59.2\n",
       "LANDAREA_MODE                     210844               59.2\n",
       "LANDAREA_AVG                      210844               59.2\n",
       "BASEMENTAREA_MODE                 207584               58.3"
      ]
     },
     "execution_count": 16,
     "metadata": {},
     "output_type": "execute_result"
    }
   ],
   "source": [
    "app_full_miss = missing_values_table(app_full)\n",
    "app_full_miss.head(20)"
   ]
  },
  {
   "cell_type": "markdown",
   "id": "9cc3775d",
   "metadata": {
    "papermill": {
     "duration": 0.035316,
     "end_time": "2021-07-30T03:16:07.755787",
     "exception": false,
     "start_time": "2021-07-30T03:16:07.720471",
     "status": "completed"
    },
    "tags": []
   },
   "source": [
    "欠損値補完の方法として、最頻値補完を採用している。  \n",
    "70%もないデータがあるにもかかわらず無理矢理特攻していくのは驚きだ  \n",
    "また、標準化ではなく正規化をしている。"
   ]
  },
  {
   "cell_type": "code",
   "execution_count": 17,
   "id": "8a686e58",
   "metadata": {
    "execution": {
     "iopub.execute_input": "2021-07-30T03:16:07.831383Z",
     "iopub.status.busy": "2021-07-30T03:16:07.830633Z",
     "iopub.status.idle": "2021-07-30T03:16:07.999510Z",
     "shell.execute_reply": "2021-07-30T03:16:07.998906Z",
     "shell.execute_reply.started": "2021-07-30T03:02:32.574128Z"
    },
    "papermill": {
     "duration": 0.209104,
     "end_time": "2021-07-30T03:16:07.999696",
     "exception": false,
     "start_time": "2021-07-30T03:16:07.790592",
     "status": "completed"
    },
    "tags": []
   },
   "outputs": [],
   "source": [
    "from sklearn.preprocessing import MinMaxScaler\n",
    "from sklearn.impute import SimpleImputer\n",
    "imputer = SimpleImputer(strategy='median') #最頻値で補完\n",
    "scaler = MinMaxScaler(feature_range=(0, 1)) #最大値1　 最小値0に設定"
   ]
  },
  {
   "cell_type": "code",
   "execution_count": 18,
   "id": "0125a8ca",
   "metadata": {
    "execution": {
     "iopub.execute_input": "2021-07-30T03:16:08.081607Z",
     "iopub.status.busy": "2021-07-30T03:16:08.080244Z",
     "iopub.status.idle": "2021-07-30T03:17:50.222208Z",
     "shell.execute_reply": "2021-07-30T03:17:50.221610Z",
     "shell.execute_reply.started": "2021-07-30T03:02:32.581357Z"
    },
    "papermill": {
     "duration": 102.187443,
     "end_time": "2021-07-30T03:17:50.222373",
     "exception": false,
     "start_time": "2021-07-30T03:16:08.034930",
     "status": "completed"
    },
    "tags": []
   },
   "outputs": [],
   "source": [
    "for col in app_full.columns:\n",
    "    app_full[[col]] = imputer.fit_transform(app_full[[col]])\n",
    "    app_full[[col]] = scaler.fit_transform(app_full[[col]])"
   ]
  },
  {
   "cell_type": "code",
   "execution_count": 19,
   "id": "dc4a46c9",
   "metadata": {
    "execution": {
     "iopub.execute_input": "2021-07-30T03:17:50.297787Z",
     "iopub.status.busy": "2021-07-30T03:17:50.297007Z",
     "iopub.status.idle": "2021-07-30T03:17:50.477630Z",
     "shell.execute_reply": "2021-07-30T03:17:50.476966Z",
     "shell.execute_reply.started": "2021-07-30T03:04:16.772736Z"
    },
    "papermill": {
     "duration": 0.220011,
     "end_time": "2021-07-30T03:17:50.477768",
     "exception": false,
     "start_time": "2021-07-30T03:17:50.257757",
     "status": "completed"
    },
    "tags": []
   },
   "outputs": [
    {
     "data": {
      "text/plain": [
       "NAME_CONTRACT_TYPE                      0\n",
       "OCCUPATION_TYPE_Realty agents           0\n",
       "OCCUPATION_TYPE_Secretaries             0\n",
       "OCCUPATION_TYPE_Security staff          0\n",
       "OCCUPATION_TYPE_Waiters/barmen staff    0\n",
       "                                       ..\n",
       "FLAG_DOCUMENT_3                         0\n",
       "FLAG_DOCUMENT_6                         0\n",
       "FLAG_DOCUMENT_13                        0\n",
       "FLAG_DOCUMENT_16                        0\n",
       "EMERGENCYSTATE_MODE_Yes                 0\n",
       "Length: 231, dtype: int64"
      ]
     },
     "execution_count": 19,
     "metadata": {},
     "output_type": "execute_result"
    }
   ],
   "source": [
    "app_full.isnull().sum().sort_values(ascending=False)"
   ]
  },
  {
   "cell_type": "code",
   "execution_count": 20,
   "id": "78942326",
   "metadata": {
    "execution": {
     "iopub.execute_input": "2021-07-30T03:17:50.556232Z",
     "iopub.status.busy": "2021-07-30T03:17:50.555454Z",
     "iopub.status.idle": "2021-07-30T03:17:50.820457Z",
     "shell.execute_reply": "2021-07-30T03:17:50.819859Z",
     "shell.execute_reply.started": "2021-07-30T03:04:16.942456Z"
    },
    "papermill": {
     "duration": 0.307675,
     "end_time": "2021-07-30T03:17:50.820598",
     "exception": false,
     "start_time": "2021-07-30T03:17:50.512923",
     "status": "completed"
    },
    "tags": []
   },
   "outputs": [],
   "source": [
    "app_train = app_full[app_full['training_set']==1.0]"
   ]
  },
  {
   "cell_type": "code",
   "execution_count": 21,
   "id": "57d85cd8",
   "metadata": {
    "execution": {
     "iopub.execute_input": "2021-07-30T03:17:50.896885Z",
     "iopub.status.busy": "2021-07-30T03:17:50.896248Z",
     "iopub.status.idle": "2021-07-30T03:17:50.943796Z",
     "shell.execute_reply": "2021-07-30T03:17:50.943044Z",
     "shell.execute_reply.started": "2021-07-30T03:04:17.212024Z"
    },
    "papermill": {
     "duration": 0.08821,
     "end_time": "2021-07-30T03:17:50.943964",
     "exception": false,
     "start_time": "2021-07-30T03:17:50.855754",
     "status": "completed"
    },
    "tags": []
   },
   "outputs": [],
   "source": [
    "app_test = app_full[app_full['training_set']==0.0]"
   ]
  },
  {
   "cell_type": "code",
   "execution_count": 22,
   "id": "36f5d9eb",
   "metadata": {
    "execution": {
     "iopub.execute_input": "2021-07-30T03:17:51.222086Z",
     "iopub.status.busy": "2021-07-30T03:17:51.221374Z",
     "iopub.status.idle": "2021-07-30T03:17:51.224516Z",
     "shell.execute_reply": "2021-07-30T03:17:51.224002Z",
     "shell.execute_reply.started": "2021-07-30T03:04:17.250636Z"
    },
    "papermill": {
     "duration": 0.244764,
     "end_time": "2021-07-30T03:17:51.224652",
     "exception": false,
     "start_time": "2021-07-30T03:17:50.979888",
     "status": "completed"
    },
    "tags": []
   },
   "outputs": [],
   "source": [
    "app_train = app_train.drop('training_set', axis=1)\n",
    "app_test = app_test.drop('training_set', axis=1)"
   ]
  },
  {
   "cell_type": "code",
   "execution_count": 23,
   "id": "2b3e1156",
   "metadata": {
    "execution": {
     "iopub.execute_input": "2021-07-30T03:17:51.300922Z",
     "iopub.status.busy": "2021-07-30T03:17:51.300266Z",
     "iopub.status.idle": "2021-07-30T03:17:51.303081Z",
     "shell.execute_reply": "2021-07-30T03:17:51.303571Z",
     "shell.execute_reply.started": "2021-07-30T03:04:17.465372Z"
    },
    "papermill": {
     "duration": 0.044164,
     "end_time": "2021-07-30T03:17:51.303739",
     "exception": false,
     "start_time": "2021-07-30T03:17:51.259575",
     "status": "completed"
    },
    "tags": []
   },
   "outputs": [
    {
     "data": {
      "text/plain": [
       "(307511, 230)"
      ]
     },
     "execution_count": 23,
     "metadata": {},
     "output_type": "execute_result"
    }
   ],
   "source": [
    "app_train.shape"
   ]
  },
  {
   "cell_type": "code",
   "execution_count": 24,
   "id": "eb7f2efa",
   "metadata": {
    "execution": {
     "iopub.execute_input": "2021-07-30T03:17:51.379016Z",
     "iopub.status.busy": "2021-07-30T03:17:51.378375Z",
     "iopub.status.idle": "2021-07-30T03:17:51.384232Z",
     "shell.execute_reply": "2021-07-30T03:17:51.383595Z",
     "shell.execute_reply.started": "2021-07-30T03:04:17.476841Z"
    },
    "papermill": {
     "duration": 0.043785,
     "end_time": "2021-07-30T03:17:51.384374",
     "exception": false,
     "start_time": "2021-07-30T03:17:51.340589",
     "status": "completed"
    },
    "tags": []
   },
   "outputs": [
    {
     "data": {
      "text/plain": [
       "(48744, 230)"
      ]
     },
     "execution_count": 24,
     "metadata": {},
     "output_type": "execute_result"
    }
   ],
   "source": [
    "app_test.shape"
   ]
  },
  {
   "cell_type": "code",
   "execution_count": 25,
   "id": "353683ff",
   "metadata": {
    "execution": {
     "iopub.execute_input": "2021-07-30T03:17:51.459745Z",
     "iopub.status.busy": "2021-07-30T03:17:51.459071Z",
     "iopub.status.idle": "2021-07-30T03:17:51.464713Z",
     "shell.execute_reply": "2021-07-30T03:17:51.464207Z",
     "shell.execute_reply.started": "2021-07-30T03:04:17.493518Z"
    },
    "papermill": {
     "duration": 0.043963,
     "end_time": "2021-07-30T03:17:51.464849",
     "exception": false,
     "start_time": "2021-07-30T03:17:51.420886",
     "status": "completed"
    },
    "tags": []
   },
   "outputs": [
    {
     "data": {
      "text/plain": [
       "(307511,)"
      ]
     },
     "execution_count": 25,
     "metadata": {},
     "output_type": "execute_result"
    }
   ],
   "source": [
    "target.shape"
   ]
  },
  {
   "cell_type": "code",
   "execution_count": 26,
   "id": "a84c30a6",
   "metadata": {
    "execution": {
     "iopub.execute_input": "2021-07-30T03:17:51.541477Z",
     "iopub.status.busy": "2021-07-30T03:17:51.540799Z",
     "iopub.status.idle": "2021-07-30T03:20:55.372770Z",
     "shell.execute_reply": "2021-07-30T03:20:55.373292Z",
     "shell.execute_reply.started": "2021-07-30T03:04:17.507223Z"
    },
    "papermill": {
     "duration": 183.872817,
     "end_time": "2021-07-30T03:20:55.373472",
     "exception": false,
     "start_time": "2021-07-30T03:17:51.500655",
     "status": "completed"
    },
    "tags": []
   },
   "outputs": [
    {
     "data": {
      "text/plain": [
       "RandomForestClassifier()"
      ]
     },
     "execution_count": 26,
     "metadata": {},
     "output_type": "execute_result"
    }
   ],
   "source": [
    "from sklearn.ensemble import RandomForestClassifier\n",
    "rf_model = RandomForestClassifier()\n",
    "rf_model.fit(app_train, target)"
   ]
  },
  {
   "cell_type": "code",
   "execution_count": 27,
   "id": "737a72d3",
   "metadata": {
    "execution": {
     "iopub.execute_input": "2021-07-30T03:20:55.456228Z",
     "iopub.status.busy": "2021-07-30T03:20:55.455553Z",
     "iopub.status.idle": "2021-07-30T03:20:58.439569Z",
     "shell.execute_reply": "2021-07-30T03:20:58.440090Z",
     "shell.execute_reply.started": "2021-07-30T03:07:20.067729Z"
    },
    "papermill": {
     "duration": 3.030503,
     "end_time": "2021-07-30T03:20:58.440282",
     "exception": false,
     "start_time": "2021-07-30T03:20:55.409779",
     "status": "completed"
    },
    "tags": []
   },
   "outputs": [],
   "source": [
    "result_rf_model = pd.DataFrame(rf_model.predict_proba(app_test)[:, 1], columns=['TARGET']) # dfにして保存\n",
    "result_rf = pd.concat([test_id, result_rf_model], axis=1)\n",
    "RESULT_rf = result_rf.set_index('SK_ID_CURR') # 結合とindexの振り直し\n",
    "RESULT_rf.to_csv('result rf.csv')"
   ]
  },
  {
   "cell_type": "code",
   "execution_count": 28,
   "id": "b97556dd",
   "metadata": {
    "execution": {
     "iopub.execute_input": "2021-07-30T03:20:58.525009Z",
     "iopub.status.busy": "2021-07-30T03:20:58.524167Z",
     "iopub.status.idle": "2021-07-30T03:20:58.528089Z",
     "shell.execute_reply": "2021-07-30T03:20:58.528527Z",
     "shell.execute_reply.started": "2021-07-30T03:07:23.086129Z"
    },
    "papermill": {
     "duration": 0.051975,
     "end_time": "2021-07-30T03:20:58.528710",
     "exception": false,
     "start_time": "2021-07-30T03:20:58.476735",
     "status": "completed"
    },
    "tags": []
   },
   "outputs": [
    {
     "data": {
      "text/html": [
       "<div>\n",
       "<style scoped>\n",
       "    .dataframe tbody tr th:only-of-type {\n",
       "        vertical-align: middle;\n",
       "    }\n",
       "\n",
       "    .dataframe tbody tr th {\n",
       "        vertical-align: top;\n",
       "    }\n",
       "\n",
       "    .dataframe thead th {\n",
       "        text-align: right;\n",
       "    }\n",
       "</style>\n",
       "<table border=\"1\" class=\"dataframe\">\n",
       "  <thead>\n",
       "    <tr style=\"text-align: right;\">\n",
       "      <th></th>\n",
       "      <th>TARGET</th>\n",
       "    </tr>\n",
       "    <tr>\n",
       "      <th>SK_ID_CURR</th>\n",
       "      <th></th>\n",
       "    </tr>\n",
       "  </thead>\n",
       "  <tbody>\n",
       "    <tr>\n",
       "      <th>100001</th>\n",
       "      <td>0.10</td>\n",
       "    </tr>\n",
       "    <tr>\n",
       "      <th>100005</th>\n",
       "      <td>0.14</td>\n",
       "    </tr>\n",
       "    <tr>\n",
       "      <th>100013</th>\n",
       "      <td>0.03</td>\n",
       "    </tr>\n",
       "    <tr>\n",
       "      <th>100028</th>\n",
       "      <td>0.04</td>\n",
       "    </tr>\n",
       "    <tr>\n",
       "      <th>100038</th>\n",
       "      <td>0.15</td>\n",
       "    </tr>\n",
       "    <tr>\n",
       "      <th>...</th>\n",
       "      <td>...</td>\n",
       "    </tr>\n",
       "    <tr>\n",
       "      <th>456221</th>\n",
       "      <td>0.04</td>\n",
       "    </tr>\n",
       "    <tr>\n",
       "      <th>456222</th>\n",
       "      <td>0.04</td>\n",
       "    </tr>\n",
       "    <tr>\n",
       "      <th>456223</th>\n",
       "      <td>0.06</td>\n",
       "    </tr>\n",
       "    <tr>\n",
       "      <th>456224</th>\n",
       "      <td>0.03</td>\n",
       "    </tr>\n",
       "    <tr>\n",
       "      <th>456250</th>\n",
       "      <td>0.19</td>\n",
       "    </tr>\n",
       "  </tbody>\n",
       "</table>\n",
       "<p>48744 rows × 1 columns</p>\n",
       "</div>"
      ],
      "text/plain": [
       "            TARGET\n",
       "SK_ID_CURR        \n",
       "100001        0.10\n",
       "100005        0.14\n",
       "100013        0.03\n",
       "100028        0.04\n",
       "100038        0.15\n",
       "...            ...\n",
       "456221        0.04\n",
       "456222        0.04\n",
       "456223        0.06\n",
       "456224        0.03\n",
       "456250        0.19\n",
       "\n",
       "[48744 rows x 1 columns]"
      ]
     },
     "execution_count": 28,
     "metadata": {},
     "output_type": "execute_result"
    }
   ],
   "source": [
    "RESULT_rf"
   ]
  },
  {
   "cell_type": "markdown",
   "id": "eca94079",
   "metadata": {
    "papermill": {
     "duration": 0.037014,
     "end_time": "2021-07-30T03:20:58.602794",
     "exception": false,
     "start_time": "2021-07-30T03:20:58.565780",
     "status": "completed"
    },
    "tags": []
   },
   "source": [
    "## ランダムサーチ"
   ]
  },
  {
   "cell_type": "code",
   "execution_count": 29,
   "id": "a3425b75",
   "metadata": {
    "execution": {
     "iopub.execute_input": "2021-07-30T03:20:58.681424Z",
     "iopub.status.busy": "2021-07-30T03:20:58.680744Z",
     "iopub.status.idle": "2021-07-30T03:20:58.682783Z",
     "shell.execute_reply": "2021-07-30T03:20:58.683330Z",
     "shell.execute_reply.started": "2021-07-30T03:07:23.100177Z"
    },
    "papermill": {
     "duration": 0.043704,
     "end_time": "2021-07-30T03:20:58.683496",
     "exception": false,
     "start_time": "2021-07-30T03:20:58.639792",
     "status": "completed"
    },
    "tags": []
   },
   "outputs": [],
   "source": [
    "# from sklearn.model_selection import RandomizedSearchCV\n",
    "# n_estimator = np.arange(50, 300, 50)\n",
    "# min_samples_split = np.arange(2, 20, 2)\n",
    "# min_samples_leaf = np.arange(2, 20, 2)\n",
    "# param = {'n_estimators' : n_estimator, 'min_samples_split' : min_samples_split, 'min_samples_leaf' : min_samples_leaf}\n",
    "# rf_model_ranserch = RandomForestClassifier(random_state=0, n_jobs=-1)\n",
    "# ran_rf = RandomizedSearchCV(rf_model_ranserch, param, cv=5, scoring='roc_auc', n_iter=20)\n",
    "# ran_rf.fit(app_train, target)"
   ]
  },
  {
   "cell_type": "code",
   "execution_count": 30,
   "id": "ec34e2be",
   "metadata": {
    "execution": {
     "iopub.execute_input": "2021-07-30T03:20:58.761635Z",
     "iopub.status.busy": "2021-07-30T03:20:58.760899Z",
     "iopub.status.idle": "2021-07-30T03:20:58.764043Z",
     "shell.execute_reply": "2021-07-30T03:20:58.764621Z",
     "shell.execute_reply.started": "2021-07-30T03:07:23.113389Z"
    },
    "papermill": {
     "duration": 0.043564,
     "end_time": "2021-07-30T03:20:58.764797",
     "exception": false,
     "start_time": "2021-07-30T03:20:58.721233",
     "status": "completed"
    },
    "tags": []
   },
   "outputs": [],
   "source": [
    "# print('best_score : {}'.format(ran_rf.best_score_)) # このスコアは交差検証の平均値？？？\n",
    "# print('best_param : {}'.format(ran_rf.best_params_))# 一番良かったのを返す"
   ]
  },
  {
   "cell_type": "code",
   "execution_count": 31,
   "id": "a6e7bdfe",
   "metadata": {
    "execution": {
     "iopub.execute_input": "2021-07-30T03:20:58.844385Z",
     "iopub.status.busy": "2021-07-30T03:20:58.843683Z",
     "iopub.status.idle": "2021-07-30T03:20:58.846660Z",
     "shell.execute_reply": "2021-07-30T03:20:58.846165Z",
     "shell.execute_reply.started": "2021-07-30T03:07:23.133264Z"
    },
    "papermill": {
     "duration": 0.04442,
     "end_time": "2021-07-30T03:20:58.846884",
     "exception": false,
     "start_time": "2021-07-30T03:20:58.802464",
     "status": "completed"
    },
    "tags": []
   },
   "outputs": [],
   "source": [
    "# ran_rf = pd.DataFrame.from_dict(ran_rf.cv_results_, orient='index').T # 結果をdataframeにして表示\n",
    "# ran_rf.sort_values('rank_test_score').head(30)"
   ]
  },
  {
   "cell_type": "code",
   "execution_count": 32,
   "id": "f5c38261",
   "metadata": {
    "execution": {
     "iopub.execute_input": "2021-07-30T03:20:58.926639Z",
     "iopub.status.busy": "2021-07-30T03:20:58.925923Z",
     "iopub.status.idle": "2021-07-30T03:20:58.927839Z",
     "shell.execute_reply": "2021-07-30T03:20:58.928308Z",
     "shell.execute_reply.started": "2021-07-30T03:07:23.148049Z"
    },
    "papermill": {
     "duration": 0.044322,
     "end_time": "2021-07-30T03:20:58.928482",
     "exception": false,
     "start_time": "2021-07-30T03:20:58.884160",
     "status": "completed"
    },
    "tags": []
   },
   "outputs": [],
   "source": [
    "# 一番良かった条件で学習\n",
    "rf_model_fin = RandomForestClassifier(n_estimators=250, min_samples_split=16, min_samples_leaf=18, random_state=0, n_jobs=-1)"
   ]
  },
  {
   "cell_type": "code",
   "execution_count": 33,
   "id": "f4e9f708",
   "metadata": {
    "execution": {
     "iopub.execute_input": "2021-07-30T03:20:59.007490Z",
     "iopub.status.busy": "2021-07-30T03:20:59.006831Z",
     "iopub.status.idle": "2021-07-30T03:23:28.150888Z",
     "shell.execute_reply": "2021-07-30T03:23:28.151414Z",
     "shell.execute_reply.started": "2021-07-30T03:07:23.161668Z"
    },
    "papermill": {
     "duration": 149.185432,
     "end_time": "2021-07-30T03:23:28.151609",
     "exception": false,
     "start_time": "2021-07-30T03:20:58.966177",
     "status": "completed"
    },
    "tags": []
   },
   "outputs": [
    {
     "data": {
      "text/plain": [
       "RandomForestClassifier(min_samples_leaf=18, min_samples_split=16,\n",
       "                       n_estimators=250, n_jobs=-1, random_state=0)"
      ]
     },
     "execution_count": 33,
     "metadata": {},
     "output_type": "execute_result"
    }
   ],
   "source": [
    "rf_model_fin.fit(app_train.values, target.values)"
   ]
  },
  {
   "cell_type": "code",
   "execution_count": 34,
   "id": "a97be5b0",
   "metadata": {
    "execution": {
     "iopub.execute_input": "2021-07-30T03:23:28.233558Z",
     "iopub.status.busy": "2021-07-30T03:23:28.232847Z",
     "iopub.status.idle": "2021-07-30T03:23:30.176613Z",
     "shell.execute_reply": "2021-07-30T03:23:30.177211Z",
     "shell.execute_reply.started": "2021-07-30T03:09:58.884811Z"
    },
    "papermill": {
     "duration": 1.988624,
     "end_time": "2021-07-30T03:23:30.177399",
     "exception": false,
     "start_time": "2021-07-30T03:23:28.188775",
     "status": "completed"
    },
    "tags": []
   },
   "outputs": [],
   "source": [
    "rf_model_fin_pred = rf_model_fin.predict_proba(app_test.values)[:, 1]\n",
    "\n",
    "rf_fin_res = pd.DataFrame(rf_model_fin_pred, columns=['TARGET'])\n",
    "rf_fin_res_2 = pd.concat([test_id, rf_fin_res], axis=1)\n",
    "rf_fin_res_3 = rf_fin_res_2.set_index('SK_ID_CURR') # 結合とindexの振り直し\n",
    "rf_fin_res_3.to_csv('random forest random search.csv')"
   ]
  },
  {
   "cell_type": "code",
   "execution_count": null,
   "id": "a5e35aee",
   "metadata": {
    "papermill": {
     "duration": 0.03885,
     "end_time": "2021-07-30T03:23:30.254769",
     "exception": false,
     "start_time": "2021-07-30T03:23:30.215919",
     "status": "completed"
    },
    "tags": []
   },
   "outputs": [],
   "source": []
  }
 ],
 "metadata": {
  "kernelspec": {
   "display_name": "Python 3",
   "language": "python",
   "name": "python3"
  },
  "language_info": {
   "codemirror_mode": {
    "name": "ipython",
    "version": 3
   },
   "file_extension": ".py",
   "mimetype": "text/x-python",
   "name": "python",
   "nbconvert_exporter": "python",
   "pygments_lexer": "ipython3",
   "version": "3.7.10"
  },
  "papermill": {
   "default_parameters": {},
   "duration": 465.825083,
   "end_time": "2021-07-30T03:23:31.103805",
   "environment_variables": {},
   "exception": null,
   "input_path": "__notebook__.ipynb",
   "output_path": "__notebook__.ipynb",
   "parameters": {},
   "start_time": "2021-07-30T03:15:45.278722",
   "version": "2.3.3"
  }
 },
 "nbformat": 4,
 "nbformat_minor": 5
}
