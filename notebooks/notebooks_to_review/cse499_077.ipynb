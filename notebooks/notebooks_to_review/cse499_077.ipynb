{
 "cells": [
  {
   "cell_type": "code",
   "execution_count": 1,
   "id": "cathedral-halloween",
   "metadata": {
    "execution": {
     "iopub.execute_input": "2021-08-12T16:53:23.347715Z",
     "iopub.status.busy": "2021-08-12T16:53:23.346435Z",
     "iopub.status.idle": "2021-08-12T16:53:24.813013Z",
     "shell.execute_reply": "2021-08-12T16:53:24.813583Z",
     "shell.execute_reply.started": "2021-08-12T16:32:50.864801Z"
    },
    "papermill": {
     "duration": 1.51524,
     "end_time": "2021-08-12T16:53:24.813937",
     "exception": false,
     "start_time": "2021-08-12T16:53:23.298697",
     "status": "completed"
    },
    "tags": []
   },
   "outputs": [],
   "source": [
    "import os\n",
    "import gc\n",
    "import numpy as np\n",
    "import pandas as pd\n",
    "from scipy.stats import kurtosis\n",
    "from sklearn.metrics import roc_auc_score\n",
    "from sklearn.preprocessing import MinMaxScaler\n",
    "from sklearn.impute import SimpleImputer\n",
    "from sklearn.linear_model import LogisticRegression\n",
    "import matplotlib.pyplot as plt\n",
    "import seaborn as sns\n",
    "import warnings\n",
    "from sklearn.model_selection import train_test_split, cross_val_score, StratifiedKFold\n",
    "import xgboost as xgb\n",
    "from xgboost import XGBClassifier\n",
    "warnings.simplefilter(action='ignore', category=FutureWarning)"
   ]
  },
  {
   "cell_type": "code",
   "execution_count": 2,
   "id": "excess-circular",
   "metadata": {
    "execution": {
     "iopub.execute_input": "2021-08-12T16:53:24.903798Z",
     "iopub.status.busy": "2021-08-12T16:53:24.903133Z",
     "iopub.status.idle": "2021-08-12T16:53:24.907951Z",
     "shell.execute_reply": "2021-08-12T16:53:24.907286Z",
     "shell.execute_reply.started": "2021-08-12T16:32:52.220864Z"
    },
    "papermill": {
     "duration": 0.05046,
     "end_time": "2021-08-12T16:53:24.908092",
     "exception": false,
     "start_time": "2021-08-12T16:53:24.857632",
     "status": "completed"
    },
    "tags": []
   },
   "outputs": [],
   "source": [
    "DATA_DIRECTORY = \"../input/home-credit-default-risk\""
   ]
  },
  {
   "cell_type": "code",
   "execution_count": 3,
   "id": "lined-meditation",
   "metadata": {
    "execution": {
     "iopub.execute_input": "2021-08-12T16:53:25.000087Z",
     "iopub.status.busy": "2021-08-12T16:53:24.999428Z",
     "iopub.status.idle": "2021-08-12T16:53:32.201310Z",
     "shell.execute_reply": "2021-08-12T16:53:32.201842Z",
     "shell.execute_reply.started": "2021-08-12T16:32:52.226087Z"
    },
    "papermill": {
     "duration": 7.251436,
     "end_time": "2021-08-12T16:53:32.202020",
     "exception": false,
     "start_time": "2021-08-12T16:53:24.950584",
     "status": "completed"
    },
    "tags": []
   },
   "outputs": [
    {
     "data": {
      "text/plain": [
       "0"
      ]
     },
     "execution_count": 3,
     "metadata": {},
     "output_type": "execute_result"
    }
   ],
   "source": [
    "df_train = pd.read_csv(os.path.join(DATA_DIRECTORY, 'application_train.csv'))\n",
    "df_test = pd.read_csv(os.path.join(DATA_DIRECTORY, 'application_test.csv'))\n",
    "df = df_train.append(df_test)\n",
    "del df_train, df_test; gc.collect()"
   ]
  },
  {
   "cell_type": "code",
   "execution_count": 4,
   "id": "parallel-portrait",
   "metadata": {
    "execution": {
     "iopub.execute_input": "2021-08-12T16:53:32.293177Z",
     "iopub.status.busy": "2021-08-12T16:53:32.292499Z",
     "iopub.status.idle": "2021-08-12T16:53:33.273791Z",
     "shell.execute_reply": "2021-08-12T16:53:33.274304Z",
     "shell.execute_reply.started": "2021-08-12T16:33:00.613278Z"
    },
    "papermill": {
     "duration": 1.028229,
     "end_time": "2021-08-12T16:53:33.274489",
     "exception": false,
     "start_time": "2021-08-12T16:53:32.246260",
     "status": "completed"
    },
    "tags": []
   },
   "outputs": [],
   "source": [
    "df = df[df['AMT_INCOME_TOTAL'] < 20000000]\n",
    "df = df[df['CODE_GENDER'] != 'XNA']\n",
    "df['DAYS_EMPLOYED'].replace(365243, np.nan, inplace=True)\n",
    "df['DAYS_LAST_PHONE_CHANGE'].replace(0, np.nan, inplace=True)"
   ]
  },
  {
   "cell_type": "code",
   "execution_count": 5,
   "id": "chicken-transmission",
   "metadata": {
    "execution": {
     "iopub.execute_input": "2021-08-12T16:53:33.365090Z",
     "iopub.status.busy": "2021-08-12T16:53:33.364367Z",
     "iopub.status.idle": "2021-08-12T16:53:33.369219Z",
     "shell.execute_reply": "2021-08-12T16:53:33.369748Z",
     "shell.execute_reply.started": "2021-08-12T16:33:01.890951Z"
    },
    "papermill": {
     "duration": 0.05253,
     "end_time": "2021-08-12T16:53:33.369942",
     "exception": false,
     "start_time": "2021-08-12T16:53:33.317412",
     "status": "completed"
    },
    "tags": []
   },
   "outputs": [],
   "source": [
    "def get_age_group(days_birth):\n",
    "    age_years = -days_birth / 365\n",
    "    if age_years < 27: return 1\n",
    "    elif age_years < 40: return 2\n",
    "    elif age_years < 50: return 3\n",
    "    elif age_years < 65: return 4\n",
    "    elif age_years < 99: return 5\n",
    "    else: return 0"
   ]
  },
  {
   "cell_type": "code",
   "execution_count": 6,
   "id": "increasing-lucas",
   "metadata": {
    "execution": {
     "iopub.execute_input": "2021-08-12T16:53:33.458564Z",
     "iopub.status.busy": "2021-08-12T16:53:33.457947Z",
     "iopub.status.idle": "2021-08-12T16:53:34.188930Z",
     "shell.execute_reply": "2021-08-12T16:53:34.189415Z",
     "shell.execute_reply.started": "2021-08-12T16:33:01.898827Z"
    },
    "papermill": {
     "duration": 0.776942,
     "end_time": "2021-08-12T16:53:34.189595",
     "exception": false,
     "start_time": "2021-08-12T16:53:33.412653",
     "status": "completed"
    },
    "tags": []
   },
   "outputs": [],
   "source": [
    "docs = [f for f in df.columns if 'FLAG_DOC' in f]\n",
    "df['DOCUMENT_COUNT'] = df[docs].sum(axis=1)\n",
    "df['NEW_DOC_KURT'] = df[docs].kurtosis(axis=1)\n",
    "df['AGE_RANGE'] = df['DAYS_BIRTH'].apply(lambda x: get_age_group(x))"
   ]
  },
  {
   "cell_type": "code",
   "execution_count": 7,
   "id": "exclusive-haiti",
   "metadata": {
    "execution": {
     "iopub.execute_input": "2021-08-12T16:53:34.280330Z",
     "iopub.status.busy": "2021-08-12T16:53:34.279357Z",
     "iopub.status.idle": "2021-08-12T16:53:35.351548Z",
     "shell.execute_reply": "2021-08-12T16:53:35.350976Z",
     "shell.execute_reply.started": "2021-08-12T16:33:02.859008Z"
    },
    "papermill": {
     "duration": 1.119189,
     "end_time": "2021-08-12T16:53:35.351700",
     "exception": false,
     "start_time": "2021-08-12T16:53:34.232511",
     "status": "completed"
    },
    "tags": []
   },
   "outputs": [],
   "source": [
    "df['EXT_SOURCES_PROD'] = df['EXT_SOURCE_1'] * df['EXT_SOURCE_2'] * df['EXT_SOURCE_3']\n",
    "df['EXT_SOURCES_WEIGHTED'] = df.EXT_SOURCE_1 * 2 + df.EXT_SOURCE_2 * 1 + df.EXT_SOURCE_3 * 3\n",
    "np.warnings.filterwarnings('ignore', r'All-NaN (slice|axis) encountered')\n",
    "for function_name in ['min', 'max', 'mean', 'nanmedian', 'var']:\n",
    "    feature_name = 'EXT_SOURCES_{}'.format(function_name.upper())\n",
    "    df[feature_name] = eval('np.{}'.format(function_name))(\n",
    "        df[['EXT_SOURCE_1', 'EXT_SOURCE_2', 'EXT_SOURCE_3']], axis=1)"
   ]
  },
  {
   "cell_type": "code",
   "execution_count": 8,
   "id": "catholic-guest",
   "metadata": {
    "execution": {
     "iopub.execute_input": "2021-08-12T16:53:35.446298Z",
     "iopub.status.busy": "2021-08-12T16:53:35.445493Z",
     "iopub.status.idle": "2021-08-12T16:53:35.472797Z",
     "shell.execute_reply": "2021-08-12T16:53:35.472092Z",
     "shell.execute_reply.started": "2021-08-12T16:33:04.521939Z"
    },
    "papermill": {
     "duration": 0.078499,
     "end_time": "2021-08-12T16:53:35.472945",
     "exception": false,
     "start_time": "2021-08-12T16:53:35.394446",
     "status": "completed"
    },
    "tags": []
   },
   "outputs": [],
   "source": [
    "df['CREDIT_TO_ANNUITY_RATIO'] = df['AMT_CREDIT'] / df['AMT_ANNUITY']\n",
    "df['CREDIT_TO_GOODS_RATIO'] = df['AMT_CREDIT'] / df['AMT_GOODS_PRICE']\n",
    "df['ANNUITY_TO_INCOME_RATIO'] = df['AMT_ANNUITY'] / df['AMT_INCOME_TOTAL']\n",
    "df['CREDIT_TO_INCOME_RATIO'] = df['AMT_CREDIT'] / df['AMT_INCOME_TOTAL']\n",
    "df['INCOME_TO_EMPLOYED_RATIO'] = df['AMT_INCOME_TOTAL'] / df['DAYS_EMPLOYED']\n",
    "df['INCOME_TO_BIRTH_RATIO'] = df['AMT_INCOME_TOTAL'] / df['DAYS_BIRTH']    \n",
    "df['EMPLOYED_TO_BIRTH_RATIO'] = df['DAYS_EMPLOYED'] / df['DAYS_BIRTH']\n",
    "df['ID_TO_BIRTH_RATIO'] = df['DAYS_ID_PUBLISH'] / df['DAYS_BIRTH']\n",
    "df['CAR_TO_BIRTH_RATIO'] = df['OWN_CAR_AGE'] / df['DAYS_BIRTH']\n",
    "df['CAR_TO_EMPLOYED_RATIO'] = df['OWN_CAR_AGE'] / df['DAYS_EMPLOYED']\n",
    "df['PHONE_TO_BIRTH_RATIO'] = df['DAYS_LAST_PHONE_CHANGE'] / df['DAYS_BIRTH']"
   ]
  },
  {
   "cell_type": "code",
   "execution_count": 9,
   "id": "balanced-honey",
   "metadata": {
    "execution": {
     "iopub.execute_input": "2021-08-12T16:53:35.565995Z",
     "iopub.status.busy": "2021-08-12T16:53:35.565273Z",
     "iopub.status.idle": "2021-08-12T16:53:35.567915Z",
     "shell.execute_reply": "2021-08-12T16:53:35.568359Z",
     "shell.execute_reply.started": "2021-08-12T16:33:04.566580Z"
    },
    "papermill": {
     "duration": 0.052813,
     "end_time": "2021-08-12T16:53:35.568531",
     "exception": false,
     "start_time": "2021-08-12T16:53:35.515718",
     "status": "completed"
    },
    "tags": []
   },
   "outputs": [],
   "source": [
    "def do_mean(df, group_cols, counted, agg_name):\n",
    "    gp = df[group_cols + [counted]].groupby(group_cols)[counted].mean().reset_index().rename(\n",
    "        columns={counted: agg_name})\n",
    "    df = df.merge(gp, on=group_cols, how='left')\n",
    "    del gp\n",
    "    gc.collect()\n",
    "    return df"
   ]
  },
  {
   "cell_type": "code",
   "execution_count": 10,
   "id": "disciplinary-retailer",
   "metadata": {
    "execution": {
     "iopub.execute_input": "2021-08-12T16:53:35.683091Z",
     "iopub.status.busy": "2021-08-12T16:53:35.682077Z",
     "iopub.status.idle": "2021-08-12T16:53:35.686383Z",
     "shell.execute_reply": "2021-08-12T16:53:35.685805Z",
     "shell.execute_reply.started": "2021-08-12T16:33:04.577485Z"
    },
    "papermill": {
     "duration": 0.066083,
     "end_time": "2021-08-12T16:53:35.686521",
     "exception": false,
     "start_time": "2021-08-12T16:53:35.620438",
     "status": "completed"
    },
    "tags": []
   },
   "outputs": [],
   "source": [
    "def do_median(df, group_cols, counted, agg_name):\n",
    "    gp = df[group_cols + [counted]].groupby(group_cols)[counted].median().reset_index().rename(\n",
    "        columns={counted: agg_name})\n",
    "    df = df.merge(gp, on=group_cols, how='left')\n",
    "    del gp\n",
    "    gc.collect()\n",
    "    return df"
   ]
  },
  {
   "cell_type": "code",
   "execution_count": 11,
   "id": "occasional-details",
   "metadata": {
    "execution": {
     "iopub.execute_input": "2021-08-12T16:53:35.783223Z",
     "iopub.status.busy": "2021-08-12T16:53:35.782072Z",
     "iopub.status.idle": "2021-08-12T16:53:35.785324Z",
     "shell.execute_reply": "2021-08-12T16:53:35.784673Z",
     "shell.execute_reply.started": "2021-08-12T16:33:04.588322Z"
    },
    "papermill": {
     "duration": 0.051885,
     "end_time": "2021-08-12T16:53:35.785461",
     "exception": false,
     "start_time": "2021-08-12T16:53:35.733576",
     "status": "completed"
    },
    "tags": []
   },
   "outputs": [],
   "source": [
    "def do_std(df, group_cols, counted, agg_name):\n",
    "    gp = df[group_cols + [counted]].groupby(group_cols)[counted].std().reset_index().rename(\n",
    "        columns={counted: agg_name})\n",
    "    df = df.merge(gp, on=group_cols, how='left')\n",
    "    del gp\n",
    "    gc.collect()\n",
    "    return df"
   ]
  },
  {
   "cell_type": "code",
   "execution_count": 12,
   "id": "atmospheric-david",
   "metadata": {
    "execution": {
     "iopub.execute_input": "2021-08-12T16:53:35.878572Z",
     "iopub.status.busy": "2021-08-12T16:53:35.877614Z",
     "iopub.status.idle": "2021-08-12T16:53:35.880863Z",
     "shell.execute_reply": "2021-08-12T16:53:35.880363Z",
     "shell.execute_reply.started": "2021-08-12T16:33:04.599137Z"
    },
    "papermill": {
     "duration": 0.052727,
     "end_time": "2021-08-12T16:53:35.881016",
     "exception": false,
     "start_time": "2021-08-12T16:53:35.828289",
     "status": "completed"
    },
    "tags": []
   },
   "outputs": [],
   "source": [
    "def do_sum(df, group_cols, counted, agg_name):\n",
    "    gp = df[group_cols + [counted]].groupby(group_cols)[counted].sum().reset_index().rename(\n",
    "        columns={counted: agg_name})\n",
    "    df = df.merge(gp, on=group_cols, how='left')\n",
    "    del gp\n",
    "    gc.collect()\n",
    "    return df"
   ]
  },
  {
   "cell_type": "code",
   "execution_count": 13,
   "id": "several-fourth",
   "metadata": {
    "execution": {
     "iopub.execute_input": "2021-08-12T16:53:35.977169Z",
     "iopub.status.busy": "2021-08-12T16:53:35.975676Z",
     "iopub.status.idle": "2021-08-12T16:54:05.611196Z",
     "shell.execute_reply": "2021-08-12T16:54:05.610625Z",
     "shell.execute_reply.started": "2021-08-12T16:33:04.611788Z"
    },
    "papermill": {
     "duration": 29.686965,
     "end_time": "2021-08-12T16:54:05.611347",
     "exception": false,
     "start_time": "2021-08-12T16:53:35.924382",
     "status": "completed"
    },
    "tags": []
   },
   "outputs": [],
   "source": [
    "group = ['ORGANIZATION_TYPE', 'NAME_EDUCATION_TYPE', 'OCCUPATION_TYPE', 'AGE_RANGE', 'CODE_GENDER']\n",
    "df = do_median(df, group, 'EXT_SOURCES_MEAN', 'GROUP_EXT_SOURCES_MEDIAN')\n",
    "df = do_std(df, group, 'EXT_SOURCES_MEAN', 'GROUP_EXT_SOURCES_STD')\n",
    "df = do_mean(df, group, 'AMT_INCOME_TOTAL', 'GROUP_INCOME_MEAN')\n",
    "df = do_std(df, group, 'AMT_INCOME_TOTAL', 'GROUP_INCOME_STD')\n",
    "df = do_mean(df, group, 'CREDIT_TO_ANNUITY_RATIO', 'GROUP_CREDIT_TO_ANNUITY_MEAN')\n",
    "df = do_std(df, group, 'CREDIT_TO_ANNUITY_RATIO', 'GROUP_CREDIT_TO_ANNUITY_STD')\n",
    "df = do_mean(df, group, 'AMT_CREDIT', 'GROUP_CREDIT_MEAN')\n",
    "df = do_mean(df, group, 'AMT_ANNUITY', 'GROUP_ANNUITY_MEAN')\n",
    "df = do_std(df, group, 'AMT_ANNUITY', 'GROUP_ANNUITY_STD')"
   ]
  },
  {
   "cell_type": "code",
   "execution_count": 14,
   "id": "saving-poison",
   "metadata": {
    "execution": {
     "iopub.execute_input": "2021-08-12T16:54:05.704918Z",
     "iopub.status.busy": "2021-08-12T16:54:05.703864Z",
     "iopub.status.idle": "2021-08-12T16:54:05.706841Z",
     "shell.execute_reply": "2021-08-12T16:54:05.706183Z",
     "shell.execute_reply.started": "2021-08-12T16:33:43.451072Z"
    },
    "papermill": {
     "duration": 0.052724,
     "end_time": "2021-08-12T16:54:05.706980",
     "exception": false,
     "start_time": "2021-08-12T16:54:05.654256",
     "status": "completed"
    },
    "tags": []
   },
   "outputs": [],
   "source": [
    "def label_encoder(df, categorical_columns=None):\n",
    "    if not categorical_columns:\n",
    "        categorical_columns = [col for col in df.columns if df[col].dtype == 'object']\n",
    "    for col in categorical_columns:\n",
    "        df[col], uniques = pd.factorize(df[col])\n",
    "    return df, categorical_columns"
   ]
  },
  {
   "cell_type": "code",
   "execution_count": 15,
   "id": "plain-nirvana",
   "metadata": {
    "execution": {
     "iopub.execute_input": "2021-08-12T16:54:05.803279Z",
     "iopub.status.busy": "2021-08-12T16:54:05.802377Z",
     "iopub.status.idle": "2021-08-12T16:54:05.805885Z",
     "shell.execute_reply": "2021-08-12T16:54:05.805364Z",
     "shell.execute_reply.started": "2021-08-12T16:33:43.458938Z"
    },
    "papermill": {
     "duration": 0.055183,
     "end_time": "2021-08-12T16:54:05.806028",
     "exception": false,
     "start_time": "2021-08-12T16:54:05.750845",
     "status": "completed"
    },
    "tags": []
   },
   "outputs": [],
   "source": [
    "def drop_application_columns(df):\n",
    "    drop_list = [\n",
    "        'CNT_CHILDREN', 'CNT_FAM_MEMBERS', 'HOUR_APPR_PROCESS_START',\n",
    "        'FLAG_EMP_PHONE', 'FLAG_MOBIL', 'FLAG_CONT_MOBILE', 'FLAG_EMAIL', 'FLAG_PHONE',\n",
    "        'FLAG_OWN_REALTY', 'REG_REGION_NOT_LIVE_REGION', 'REG_REGION_NOT_WORK_REGION',\n",
    "        'REG_CITY_NOT_WORK_CITY', 'OBS_30_CNT_SOCIAL_CIRCLE', 'OBS_60_CNT_SOCIAL_CIRCLE',\n",
    "        'AMT_REQ_CREDIT_BUREAU_DAY', 'AMT_REQ_CREDIT_BUREAU_MON', 'AMT_REQ_CREDIT_BUREAU_YEAR', \n",
    "        'COMMONAREA_MODE', 'NONLIVINGAREA_MODE', 'ELEVATORS_MODE', 'NONLIVINGAREA_AVG',\n",
    "        'FLOORSMIN_MEDI', 'LANDAREA_MODE', 'NONLIVINGAREA_MEDI', 'LIVINGAPARTMENTS_MODE',\n",
    "        'FLOORSMIN_AVG', 'LANDAREA_AVG', 'FLOORSMIN_MODE', 'LANDAREA_MEDI',\n",
    "        'COMMONAREA_MEDI', 'YEARS_BUILD_AVG', 'COMMONAREA_AVG', 'BASEMENTAREA_AVG',\n",
    "        'BASEMENTAREA_MODE', 'NONLIVINGAPARTMENTS_MEDI', 'BASEMENTAREA_MEDI', \n",
    "        'LIVINGAPARTMENTS_AVG', 'ELEVATORS_AVG', 'YEARS_BUILD_MEDI', 'ENTRANCES_MODE',\n",
    "        'NONLIVINGAPARTMENTS_MODE', 'LIVINGAREA_MODE', 'LIVINGAPARTMENTS_MEDI',\n",
    "        'YEARS_BUILD_MODE', 'YEARS_BEGINEXPLUATATION_AVG', 'ELEVATORS_MEDI', 'LIVINGAREA_MEDI',\n",
    "        'YEARS_BEGINEXPLUATATION_MODE', 'NONLIVINGAPARTMENTS_AVG', 'HOUSETYPE_MODE',\n",
    "        'FONDKAPREMONT_MODE', 'EMERGENCYSTATE_MODE'\n",
    "    ]\n",
    "    for doc_num in [2,4,5,6,7,9,10,11,12,13,14,15,16,17,19,20,21]:\n",
    "        drop_list.append('FLAG_DOCUMENT_{}'.format(doc_num))\n",
    "    df.drop(drop_list, axis=1, inplace=True)\n",
    "    return df"
   ]
  },
  {
   "cell_type": "code",
   "execution_count": 16,
   "id": "circular-annotation",
   "metadata": {
    "execution": {
     "iopub.execute_input": "2021-08-12T16:54:05.908121Z",
     "iopub.status.busy": "2021-08-12T16:54:05.901319Z",
     "iopub.status.idle": "2021-08-12T16:54:06.889821Z",
     "shell.execute_reply": "2021-08-12T16:54:06.890350Z",
     "shell.execute_reply.started": "2021-08-12T16:33:43.473210Z"
    },
    "papermill": {
     "duration": 1.041574,
     "end_time": "2021-08-12T16:54:06.890519",
     "exception": false,
     "start_time": "2021-08-12T16:54:05.848945",
     "status": "completed"
    },
    "tags": []
   },
   "outputs": [],
   "source": [
    "df, le_encoded_cols = label_encoder(df, None)\n",
    "df = drop_application_columns(df)"
   ]
  },
  {
   "cell_type": "code",
   "execution_count": 17,
   "id": "assumed-premises",
   "metadata": {
    "execution": {
     "iopub.execute_input": "2021-08-12T16:54:07.061448Z",
     "iopub.status.busy": "2021-08-12T16:54:07.060332Z",
     "iopub.status.idle": "2021-08-12T16:54:07.131047Z",
     "shell.execute_reply": "2021-08-12T16:54:07.131521Z",
     "shell.execute_reply.started": "2021-08-12T16:33:44.749162Z"
    },
    "papermill": {
     "duration": 0.19831,
     "end_time": "2021-08-12T16:54:07.131697",
     "exception": false,
     "start_time": "2021-08-12T16:54:06.933387",
     "status": "completed"
    },
    "tags": []
   },
   "outputs": [],
   "source": [
    "df = pd.get_dummies(df)"
   ]
  },
  {
   "cell_type": "code",
   "execution_count": 18,
   "id": "lesser-presentation",
   "metadata": {
    "execution": {
     "iopub.execute_input": "2021-08-12T16:54:07.221106Z",
     "iopub.status.busy": "2021-08-12T16:54:07.220152Z",
     "iopub.status.idle": "2021-08-12T16:54:11.785162Z",
     "shell.execute_reply": "2021-08-12T16:54:11.783715Z",
     "shell.execute_reply.started": "2021-08-12T16:33:44.977983Z"
    },
    "papermill": {
     "duration": 4.610961,
     "end_time": "2021-08-12T16:54:11.785329",
     "exception": false,
     "start_time": "2021-08-12T16:54:07.174368",
     "status": "completed"
    },
    "tags": []
   },
   "outputs": [],
   "source": [
    "bureau = pd.read_csv(os.path.join(DATA_DIRECTORY, 'bureau.csv'))"
   ]
  },
  {
   "cell_type": "code",
   "execution_count": 19,
   "id": "amazing-commons",
   "metadata": {
    "execution": {
     "iopub.execute_input": "2021-08-12T16:54:11.877594Z",
     "iopub.status.busy": "2021-08-12T16:54:11.876877Z",
     "iopub.status.idle": "2021-08-12T16:54:11.926491Z",
     "shell.execute_reply": "2021-08-12T16:54:11.927042Z",
     "shell.execute_reply.started": "2021-08-12T16:33:50.201301Z"
    },
    "papermill": {
     "duration": 0.098745,
     "end_time": "2021-08-12T16:54:11.927222",
     "exception": false,
     "start_time": "2021-08-12T16:54:11.828477",
     "status": "completed"
    },
    "tags": []
   },
   "outputs": [],
   "source": [
    "bureau['CREDIT_DURATION'] = -bureau['DAYS_CREDIT'] + bureau['DAYS_CREDIT_ENDDATE']\n",
    "bureau['ENDDATE_DIF'] = bureau['DAYS_CREDIT_ENDDATE'] - bureau['DAYS_ENDDATE_FACT']\n",
    "bureau['DEBT_PERCENTAGE'] = bureau['AMT_CREDIT_SUM'] / bureau['AMT_CREDIT_SUM_DEBT']\n",
    "bureau['DEBT_CREDIT_DIFF'] = bureau['AMT_CREDIT_SUM'] - bureau['AMT_CREDIT_SUM_DEBT']\n",
    "bureau['CREDIT_TO_ANNUITY_RATIO'] = bureau['AMT_CREDIT_SUM'] / bureau['AMT_ANNUITY']"
   ]
  },
  {
   "cell_type": "code",
   "execution_count": 20,
   "id": "relative-direction",
   "metadata": {
    "execution": {
     "iopub.execute_input": "2021-08-12T16:54:12.020511Z",
     "iopub.status.busy": "2021-08-12T16:54:12.019836Z",
     "iopub.status.idle": "2021-08-12T16:54:12.022905Z",
     "shell.execute_reply": "2021-08-12T16:54:12.023369Z",
     "shell.execute_reply.started": "2021-08-12T16:33:50.256625Z"
    },
    "papermill": {
     "duration": 0.052806,
     "end_time": "2021-08-12T16:54:12.023555",
     "exception": false,
     "start_time": "2021-08-12T16:54:11.970749",
     "status": "completed"
    },
    "tags": []
   },
   "outputs": [],
   "source": [
    "def one_hot_encoder(df, categorical_columns=None, nan_as_category=True):\n",
    "    original_columns = list(df.columns)\n",
    "    if not categorical_columns:\n",
    "        categorical_columns = [col for col in df.columns if df[col].dtype == 'object']\n",
    "    df = pd.get_dummies(df, columns=categorical_columns, dummy_na=nan_as_category)\n",
    "    categorical_columns = [c for c in df.columns if c not in original_columns]\n",
    "    return df, categorical_columns"
   ]
  },
  {
   "cell_type": "code",
   "execution_count": 21,
   "id": "located-folder",
   "metadata": {
    "execution": {
     "iopub.execute_input": "2021-08-12T16:54:12.112846Z",
     "iopub.status.busy": "2021-08-12T16:54:12.112170Z",
     "iopub.status.idle": "2021-08-12T16:54:12.117549Z",
     "shell.execute_reply": "2021-08-12T16:54:12.118078Z",
     "shell.execute_reply.started": "2021-08-12T16:33:50.266550Z"
    },
    "papermill": {
     "duration": 0.051434,
     "end_time": "2021-08-12T16:54:12.118249",
     "exception": false,
     "start_time": "2021-08-12T16:54:12.066815",
     "status": "completed"
    },
    "tags": []
   },
   "outputs": [],
   "source": [
    "def group(df_to_agg, prefix, aggregations, aggregate_by= 'SK_ID_CURR'):\n",
    "    agg_df = df_to_agg.groupby(aggregate_by).agg(aggregations)\n",
    "    agg_df.columns = pd.Index(['{}{}_{}'.format(prefix, e[0], e[1].upper())\n",
    "                               for e in agg_df.columns.tolist()])\n",
    "    return agg_df.reset_index()"
   ]
  },
  {
   "cell_type": "code",
   "execution_count": 22,
   "id": "particular-current",
   "metadata": {
    "execution": {
     "iopub.execute_input": "2021-08-12T16:54:12.207094Z",
     "iopub.status.busy": "2021-08-12T16:54:12.206415Z",
     "iopub.status.idle": "2021-08-12T16:54:12.210896Z",
     "shell.execute_reply": "2021-08-12T16:54:12.211467Z",
     "shell.execute_reply.started": "2021-08-12T16:33:50.280816Z"
    },
    "papermill": {
     "duration": 0.050365,
     "end_time": "2021-08-12T16:54:12.211643",
     "exception": false,
     "start_time": "2021-08-12T16:54:12.161278",
     "status": "completed"
    },
    "tags": []
   },
   "outputs": [],
   "source": [
    "def group_and_merge(df_to_agg, df_to_merge, prefix, aggregations, aggregate_by= 'SK_ID_CURR'):\n",
    "    agg_df = group(df_to_agg, prefix, aggregations, aggregate_by= aggregate_by)\n",
    "    return df_to_merge.merge(agg_df, how='left', on= aggregate_by)"
   ]
  },
  {
   "cell_type": "code",
   "execution_count": 23,
   "id": "western-poetry",
   "metadata": {
    "execution": {
     "iopub.execute_input": "2021-08-12T16:54:12.300268Z",
     "iopub.status.busy": "2021-08-12T16:54:12.299651Z",
     "iopub.status.idle": "2021-08-12T16:54:12.305374Z",
     "shell.execute_reply": "2021-08-12T16:54:12.305972Z",
     "shell.execute_reply.started": "2021-08-12T16:33:50.300370Z"
    },
    "papermill": {
     "duration": 0.051683,
     "end_time": "2021-08-12T16:54:12.306152",
     "exception": false,
     "start_time": "2021-08-12T16:54:12.254469",
     "status": "completed"
    },
    "tags": []
   },
   "outputs": [],
   "source": [
    "def get_bureau_balance(path, num_rows= None):\n",
    "    bb = pd.read_csv(os.path.join(path, 'bureau_balance.csv'))\n",
    "    bb, categorical_cols = one_hot_encoder(bb, nan_as_category= False)\n",
    "    # Calculate rate for each category with decay\n",
    "    bb_processed = bb.groupby('SK_ID_BUREAU')[categorical_cols].mean().reset_index()\n",
    "    # Min, Max, Count and mean duration of payments (months)\n",
    "    agg = {'MONTHS_BALANCE': ['min', 'max', 'mean', 'size']}\n",
    "    bb_processed = group_and_merge(bb, bb_processed, '', agg, 'SK_ID_BUREAU')\n",
    "    del bb; gc.collect()\n",
    "    return bb_processed"
   ]
  },
  {
   "cell_type": "code",
   "execution_count": 24,
   "id": "likely-tulsa",
   "metadata": {
    "execution": {
     "iopub.execute_input": "2021-08-12T16:54:12.403209Z",
     "iopub.status.busy": "2021-08-12T16:54:12.401520Z",
     "iopub.status.idle": "2021-08-12T16:54:33.595848Z",
     "shell.execute_reply": "2021-08-12T16:54:33.595131Z",
     "shell.execute_reply.started": "2021-08-12T16:33:50.311795Z"
    },
    "papermill": {
     "duration": 21.245836,
     "end_time": "2021-08-12T16:54:33.595994",
     "exception": false,
     "start_time": "2021-08-12T16:54:12.350158",
     "status": "completed"
    },
    "tags": []
   },
   "outputs": [],
   "source": [
    "bureau, categorical_cols = one_hot_encoder(bureau, nan_as_category= False)\n",
    "bureau = bureau.merge(get_bureau_balance(DATA_DIRECTORY), how='left', on='SK_ID_BUREAU')\n",
    "bureau['STATUS_12345'] = 0\n",
    "for i in range(1,6):\n",
    "    bureau['STATUS_12345'] += bureau['STATUS_{}'.format(i)]"
   ]
  },
  {
   "cell_type": "code",
   "execution_count": 25,
   "id": "unlimited-automation",
   "metadata": {
    "execution": {
     "iopub.execute_input": "2021-08-12T16:54:33.685361Z",
     "iopub.status.busy": "2021-08-12T16:54:33.684728Z",
     "iopub.status.idle": "2021-08-12T16:54:35.736469Z",
     "shell.execute_reply": "2021-08-12T16:54:35.735948Z",
     "shell.execute_reply.started": "2021-08-12T16:34:16.902840Z"
    },
    "papermill": {
     "duration": 2.097118,
     "end_time": "2021-08-12T16:54:35.736628",
     "exception": false,
     "start_time": "2021-08-12T16:54:33.639510",
     "status": "completed"
    },
    "tags": []
   },
   "outputs": [
    {
     "data": {
      "text/plain": [
       "20"
      ]
     },
     "execution_count": 25,
     "metadata": {},
     "output_type": "execute_result"
    }
   ],
   "source": [
    "features = ['AMT_CREDIT_MAX_OVERDUE', 'AMT_CREDIT_SUM_OVERDUE', 'AMT_CREDIT_SUM',\n",
    "    'AMT_CREDIT_SUM_DEBT', 'DEBT_PERCENTAGE', 'DEBT_CREDIT_DIFF', 'STATUS_0', 'STATUS_12345']\n",
    "agg_length = bureau.groupby('MONTHS_BALANCE_SIZE')[features].mean().reset_index()\n",
    "agg_length.rename({feat: 'LL_' + feat for feat in features}, axis=1, inplace=True)\n",
    "bureau = bureau.merge(agg_length, how='left', on='MONTHS_BALANCE_SIZE')\n",
    "del agg_length; gc.collect()"
   ]
  },
  {
   "cell_type": "code",
   "execution_count": 26,
   "id": "descending-badge",
   "metadata": {
    "execution": {
     "iopub.execute_input": "2021-08-12T16:54:35.838910Z",
     "iopub.status.busy": "2021-08-12T16:54:35.832417Z",
     "iopub.status.idle": "2021-08-12T16:54:35.841687Z",
     "shell.execute_reply": "2021-08-12T16:54:35.841201Z",
     "shell.execute_reply.started": "2021-08-12T16:34:20.499604Z"
    },
    "papermill": {
     "duration": 0.061857,
     "end_time": "2021-08-12T16:54:35.841843",
     "exception": false,
     "start_time": "2021-08-12T16:54:35.779986",
     "status": "completed"
    },
    "tags": []
   },
   "outputs": [],
   "source": [
    "BUREAU_AGG = {\n",
    "    'SK_ID_BUREAU': ['nunique'],\n",
    "    'DAYS_CREDIT': ['min', 'max', 'mean'],\n",
    "    'DAYS_CREDIT_ENDDATE': ['min', 'max'],\n",
    "    'AMT_CREDIT_MAX_OVERDUE': ['max', 'mean'],\n",
    "    'AMT_CREDIT_SUM': ['max', 'mean', 'sum'],\n",
    "    'AMT_CREDIT_SUM_DEBT': ['max', 'mean', 'sum'],\n",
    "    'AMT_CREDIT_SUM_OVERDUE': ['max', 'mean', 'sum'],\n",
    "    'AMT_ANNUITY': ['mean'],\n",
    "    'DEBT_CREDIT_DIFF': ['mean', 'sum'],\n",
    "    'MONTHS_BALANCE_MEAN': ['mean', 'var'],\n",
    "    'MONTHS_BALANCE_SIZE': ['mean', 'sum'],\n",
    "    'STATUS_0': ['mean'],\n",
    "    'STATUS_1': ['mean'],\n",
    "    'STATUS_12345': ['mean'],\n",
    "    'STATUS_C': ['mean'],\n",
    "    'STATUS_X': ['mean'],\n",
    "    'CREDIT_ACTIVE_Active': ['mean'],\n",
    "    'CREDIT_ACTIVE_Closed': ['mean'],\n",
    "    'CREDIT_ACTIVE_Sold': ['mean'],\n",
    "    'CREDIT_TYPE_Consumer credit': ['mean'],\n",
    "    'CREDIT_TYPE_Credit card': ['mean'],\n",
    "    'CREDIT_TYPE_Car loan': ['mean'],\n",
    "    'CREDIT_TYPE_Mortgage': ['mean'],\n",
    "    'CREDIT_TYPE_Microloan': ['mean'],\n",
    "    'LL_AMT_CREDIT_SUM_OVERDUE': ['mean'],\n",
    "    'LL_DEBT_CREDIT_DIFF': ['mean'],\n",
    "    'LL_STATUS_12345': ['mean'],\n",
    "}\n",
    "\n",
    "BUREAU_ACTIVE_AGG = {\n",
    "    'DAYS_CREDIT': ['max', 'mean'],\n",
    "    'DAYS_CREDIT_ENDDATE': ['min', 'max'],\n",
    "    'AMT_CREDIT_MAX_OVERDUE': ['max', 'mean'],\n",
    "    'AMT_CREDIT_SUM': ['max', 'sum'],\n",
    "    'AMT_CREDIT_SUM_DEBT': ['mean', 'sum'],\n",
    "    'AMT_CREDIT_SUM_OVERDUE': ['max', 'mean'],\n",
    "    'DAYS_CREDIT_UPDATE': ['min', 'mean'],\n",
    "    'DEBT_PERCENTAGE': ['mean'],\n",
    "    'DEBT_CREDIT_DIFF': ['mean'],\n",
    "    'CREDIT_TO_ANNUITY_RATIO': ['mean'],\n",
    "    'MONTHS_BALANCE_MEAN': ['mean', 'var'],\n",
    "    'MONTHS_BALANCE_SIZE': ['mean', 'sum'],\n",
    "}\n",
    "\n",
    "BUREAU_CLOSED_AGG = {\n",
    "    'DAYS_CREDIT': ['max', 'var'],\n",
    "    'DAYS_CREDIT_ENDDATE': ['max'],\n",
    "    'AMT_CREDIT_MAX_OVERDUE': ['max', 'mean'],\n",
    "    'AMT_CREDIT_SUM_OVERDUE': ['mean'],\n",
    "    'AMT_CREDIT_SUM': ['max', 'mean', 'sum'],\n",
    "    'AMT_CREDIT_SUM_DEBT': ['max', 'sum'],\n",
    "    'DAYS_CREDIT_UPDATE': ['max'],\n",
    "    'ENDDATE_DIF': ['mean'],\n",
    "    'STATUS_12345': ['mean'],\n",
    "}\n",
    "\n",
    "BUREAU_LOAN_TYPE_AGG = {\n",
    "    'DAYS_CREDIT': ['mean', 'max'],\n",
    "    'AMT_CREDIT_MAX_OVERDUE': ['mean', 'max'],\n",
    "    'AMT_CREDIT_SUM': ['mean', 'max'],\n",
    "    'AMT_CREDIT_SUM_DEBT': ['mean', 'max'],\n",
    "    'DEBT_PERCENTAGE': ['mean'],\n",
    "    'DEBT_CREDIT_DIFF': ['mean'],\n",
    "    'DAYS_CREDIT_ENDDATE': ['max'],\n",
    "}\n",
    "\n",
    "BUREAU_TIME_AGG = {\n",
    "    'AMT_CREDIT_MAX_OVERDUE': ['max', 'mean'],\n",
    "    'AMT_CREDIT_SUM_OVERDUE': ['mean'],\n",
    "    'AMT_CREDIT_SUM': ['max', 'sum'],\n",
    "    'AMT_CREDIT_SUM_DEBT': ['mean', 'sum'],\n",
    "    'DEBT_PERCENTAGE': ['mean'],\n",
    "    'DEBT_CREDIT_DIFF': ['mean'],\n",
    "    'STATUS_0': ['mean'],\n",
    "    'STATUS_12345': ['mean'],\n",
    "}"
   ]
  },
  {
   "cell_type": "code",
   "execution_count": 27,
   "id": "personalized-theology",
   "metadata": {
    "execution": {
     "iopub.execute_input": "2021-08-12T16:54:35.938045Z",
     "iopub.status.busy": "2021-08-12T16:54:35.937114Z",
     "iopub.status.idle": "2021-08-12T16:54:44.143541Z",
     "shell.execute_reply": "2021-08-12T16:54:44.142975Z",
     "shell.execute_reply.started": "2021-08-12T16:34:20.516339Z"
    },
    "papermill": {
     "duration": 8.258679,
     "end_time": "2021-08-12T16:54:44.143694",
     "exception": false,
     "start_time": "2021-08-12T16:54:35.885015",
     "status": "completed"
    },
    "tags": []
   },
   "outputs": [],
   "source": [
    "agg_bureau = group(bureau, 'BUREAU_', BUREAU_AGG)\n",
    "active = bureau[bureau['CREDIT_ACTIVE_Active'] == 1]\n",
    "agg_bureau = group_and_merge(active,agg_bureau,'BUREAU_ACTIVE_',BUREAU_ACTIVE_AGG)\n",
    "closed = bureau[bureau['CREDIT_ACTIVE_Closed'] == 1]\n",
    "agg_bureau = group_and_merge(closed,agg_bureau,'BUREAU_CLOSED_',BUREAU_CLOSED_AGG)\n",
    "del active, closed; gc.collect()\n",
    "for credit_type in ['Consumer credit', 'Credit card', 'Mortgage', 'Car loan', 'Microloan']:\n",
    "    type_df = bureau[bureau['CREDIT_TYPE_' + credit_type] == 1]\n",
    "    prefix = 'BUREAU_' + credit_type.split(' ')[0].upper() + '_'\n",
    "    agg_bureau = group_and_merge(type_df, agg_bureau, prefix, BUREAU_LOAN_TYPE_AGG)\n",
    "    del type_df; gc.collect()\n",
    "for time_frame in [6, 12]:\n",
    "    prefix = \"BUREAU_LAST{}M_\".format(time_frame)\n",
    "    time_frame_df = bureau[bureau['DAYS_CREDIT'] >= -30*time_frame]\n",
    "    agg_bureau = group_and_merge(time_frame_df, agg_bureau, prefix, BUREAU_TIME_AGG)\n",
    "    del time_frame_df; gc.collect()"
   ]
  },
  {
   "cell_type": "code",
   "execution_count": 28,
   "id": "sonic-bonus",
   "metadata": {
    "execution": {
     "iopub.execute_input": "2021-08-12T16:54:44.236913Z",
     "iopub.status.busy": "2021-08-12T16:54:44.236163Z",
     "iopub.status.idle": "2021-08-12T16:54:46.247517Z",
     "shell.execute_reply": "2021-08-12T16:54:46.246824Z",
     "shell.execute_reply.started": "2021-08-12T16:34:31.097758Z"
    },
    "papermill": {
     "duration": 2.060675,
     "end_time": "2021-08-12T16:54:46.247658",
     "exception": false,
     "start_time": "2021-08-12T16:54:44.186983",
     "status": "completed"
    },
    "tags": []
   },
   "outputs": [],
   "source": [
    "sort_bureau = bureau.sort_values(by=['DAYS_CREDIT'])\n",
    "gr = sort_bureau.groupby('SK_ID_CURR')['AMT_CREDIT_MAX_OVERDUE'].last().reset_index()\n",
    "gr.rename({'AMT_CREDIT_MAX_OVERDUE': 'BUREAU_LAST_LOAN_MAX_OVERDUE'}, inplace=True)\n",
    "agg_bureau = agg_bureau.merge(gr, on='SK_ID_CURR', how='left')\n",
    "agg_bureau['BUREAU_DEBT_OVER_CREDIT'] = \\\n",
    "    agg_bureau['BUREAU_AMT_CREDIT_SUM_DEBT_SUM']/agg_bureau['BUREAU_AMT_CREDIT_SUM_SUM']\n",
    "agg_bureau['BUREAU_ACTIVE_DEBT_OVER_CREDIT'] = \\\n",
    "    agg_bureau['BUREAU_ACTIVE_AMT_CREDIT_SUM_DEBT_SUM']/agg_bureau['BUREAU_ACTIVE_AMT_CREDIT_SUM_SUM']"
   ]
  },
  {
   "cell_type": "code",
   "execution_count": 29,
   "id": "romantic-miracle",
   "metadata": {
    "execution": {
     "iopub.execute_input": "2021-08-12T16:54:46.339896Z",
     "iopub.status.busy": "2021-08-12T16:54:46.339194Z",
     "iopub.status.idle": "2021-08-12T16:54:47.300147Z",
     "shell.execute_reply": "2021-08-12T16:54:47.300603Z",
     "shell.execute_reply.started": "2021-08-12T16:34:33.697085Z"
    },
    "papermill": {
     "duration": 1.009886,
     "end_time": "2021-08-12T16:54:47.300794",
     "exception": false,
     "start_time": "2021-08-12T16:54:46.290908",
     "status": "completed"
    },
    "tags": []
   },
   "outputs": [
    {
     "data": {
      "text/plain": [
       "20"
      ]
     },
     "execution_count": 29,
     "metadata": {},
     "output_type": "execute_result"
    }
   ],
   "source": [
    "df = pd.merge(df, agg_bureau, on='SK_ID_CURR', how='left')\n",
    "del agg_bureau, bureau\n",
    "gc.collect()"
   ]
  },
  {
   "cell_type": "code",
   "execution_count": 30,
   "id": "favorite-december",
   "metadata": {
    "execution": {
     "iopub.execute_input": "2021-08-12T16:54:47.393425Z",
     "iopub.status.busy": "2021-08-12T16:54:47.392478Z",
     "iopub.status.idle": "2021-08-12T16:55:17.056267Z",
     "shell.execute_reply": "2021-08-12T16:55:17.055537Z",
     "shell.execute_reply.started": "2021-08-12T16:34:35.230170Z"
    },
    "papermill": {
     "duration": 29.711962,
     "end_time": "2021-08-12T16:55:17.056419",
     "exception": false,
     "start_time": "2021-08-12T16:54:47.344457",
     "status": "completed"
    },
    "tags": []
   },
   "outputs": [],
   "source": [
    "prev = pd.read_csv(os.path.join(DATA_DIRECTORY, 'previous_application.csv'))\n",
    "pay = pd.read_csv(os.path.join(DATA_DIRECTORY, 'installments_payments.csv'))"
   ]
  },
  {
   "cell_type": "code",
   "execution_count": 31,
   "id": "hawaiian-automation",
   "metadata": {
    "execution": {
     "iopub.execute_input": "2021-08-12T16:55:17.163230Z",
     "iopub.status.busy": "2021-08-12T16:55:17.157623Z",
     "iopub.status.idle": "2021-08-12T16:55:17.167279Z",
     "shell.execute_reply": "2021-08-12T16:55:17.166741Z",
     "shell.execute_reply.started": "2021-08-12T16:35:07.656075Z"
    },
    "papermill": {
     "duration": 0.067025,
     "end_time": "2021-08-12T16:55:17.167417",
     "exception": false,
     "start_time": "2021-08-12T16:55:17.100392",
     "status": "completed"
    },
    "tags": []
   },
   "outputs": [],
   "source": [
    "PREVIOUS_AGG = {\n",
    "    'SK_ID_PREV': ['nunique'],\n",
    "    'AMT_ANNUITY': ['min', 'max', 'mean'],\n",
    "    'AMT_DOWN_PAYMENT': ['max', 'mean'],\n",
    "    'HOUR_APPR_PROCESS_START': ['min', 'max', 'mean'],\n",
    "    'RATE_DOWN_PAYMENT': ['max', 'mean'],\n",
    "    'DAYS_DECISION': ['min', 'max', 'mean'],\n",
    "    'CNT_PAYMENT': ['max', 'mean'],\n",
    "    'DAYS_TERMINATION': ['max'],\n",
    "    # Engineered features\n",
    "    'CREDIT_TO_ANNUITY_RATIO': ['mean', 'max'],\n",
    "    'APPLICATION_CREDIT_DIFF': ['min', 'max', 'mean'],\n",
    "    'APPLICATION_CREDIT_RATIO': ['min', 'max', 'mean', 'var'],\n",
    "    'DOWN_PAYMENT_TO_CREDIT': ['mean'],\n",
    "}\n",
    "\n",
    "PREVIOUS_ACTIVE_AGG = {\n",
    "    'SK_ID_PREV': ['nunique'],\n",
    "    'SIMPLE_INTERESTS': ['mean'],\n",
    "    'AMT_ANNUITY': ['max', 'sum'],\n",
    "    'AMT_APPLICATION': ['max', 'mean'],\n",
    "    'AMT_CREDIT': ['sum'],\n",
    "    'AMT_DOWN_PAYMENT': ['max', 'mean'],\n",
    "    'DAYS_DECISION': ['min', 'mean'],\n",
    "    'CNT_PAYMENT': ['mean', 'sum'],\n",
    "    'DAYS_LAST_DUE_1ST_VERSION': ['min', 'max', 'mean'],\n",
    "    # Engineered features\n",
    "    'AMT_PAYMENT': ['sum'],\n",
    "    'INSTALMENT_PAYMENT_DIFF': ['mean', 'max'],\n",
    "    'REMAINING_DEBT': ['max', 'mean', 'sum'],\n",
    "    'REPAYMENT_RATIO': ['mean'],\n",
    "}\n",
    "PREVIOUS_LATE_PAYMENTS_AGG = {\n",
    "    'DAYS_DECISION': ['min', 'max', 'mean'],\n",
    "    'DAYS_LAST_DUE_1ST_VERSION': ['min', 'max', 'mean'],\n",
    "    # Engineered features\n",
    "    'APPLICATION_CREDIT_DIFF': ['min'],\n",
    "    'NAME_CONTRACT_TYPE_Consumer loans': ['mean'],\n",
    "    'NAME_CONTRACT_TYPE_Cash loans': ['mean'],\n",
    "    'NAME_CONTRACT_TYPE_Revolving loans': ['mean'],\n",
    "}\n",
    "\n",
    "PREVIOUS_LOAN_TYPE_AGG = {\n",
    "    'AMT_CREDIT': ['sum'],\n",
    "    'AMT_ANNUITY': ['mean', 'max'],\n",
    "    'SIMPLE_INTERESTS': ['min', 'mean', 'max', 'var'],\n",
    "    'APPLICATION_CREDIT_DIFF': ['min', 'var'],\n",
    "    'APPLICATION_CREDIT_RATIO': ['min', 'max', 'mean'],\n",
    "    'DAYS_DECISION': ['max'],\n",
    "    'DAYS_LAST_DUE_1ST_VERSION': ['max', 'mean'],\n",
    "    'CNT_PAYMENT': ['mean'],\n",
    "}\n",
    "\n",
    "PREVIOUS_TIME_AGG = {\n",
    "    'AMT_CREDIT': ['sum'],\n",
    "    'AMT_ANNUITY': ['mean', 'max'],\n",
    "    'SIMPLE_INTERESTS': ['mean', 'max'],\n",
    "    'DAYS_DECISION': ['min', 'mean'],\n",
    "    'DAYS_LAST_DUE_1ST_VERSION': ['min', 'max', 'mean'],\n",
    "    # Engineered features\n",
    "    'APPLICATION_CREDIT_DIFF': ['min'],\n",
    "    'APPLICATION_CREDIT_RATIO': ['min', 'max', 'mean'],\n",
    "    'NAME_CONTRACT_TYPE_Consumer loans': ['mean'],\n",
    "    'NAME_CONTRACT_TYPE_Cash loans': ['mean'],\n",
    "    'NAME_CONTRACT_TYPE_Revolving loans': ['mean'],\n",
    "}\n",
    "\n",
    "PREVIOUS_APPROVED_AGG = {\n",
    "    'SK_ID_PREV': ['nunique'],\n",
    "    'AMT_ANNUITY': ['min', 'max', 'mean'],\n",
    "    'AMT_CREDIT': ['min', 'max', 'mean'],\n",
    "    'AMT_DOWN_PAYMENT': ['max'],\n",
    "    'AMT_GOODS_PRICE': ['max'],\n",
    "    'HOUR_APPR_PROCESS_START': ['min', 'max'],\n",
    "    'DAYS_DECISION': ['min', 'mean'],\n",
    "    'CNT_PAYMENT': ['max', 'mean'],\n",
    "    'DAYS_TERMINATION': ['mean'],\n",
    "    # Engineered features\n",
    "    'CREDIT_TO_ANNUITY_RATIO': ['mean', 'max'],\n",
    "    'APPLICATION_CREDIT_DIFF': ['max'],\n",
    "    'APPLICATION_CREDIT_RATIO': ['min', 'max', 'mean'],\n",
    "    # The following features are only for approved applications\n",
    "    'DAYS_FIRST_DRAWING': ['max', 'mean'],\n",
    "    'DAYS_FIRST_DUE': ['min', 'mean'],\n",
    "    'DAYS_LAST_DUE_1ST_VERSION': ['min', 'max', 'mean'],\n",
    "    'DAYS_LAST_DUE': ['max', 'mean'],\n",
    "    'DAYS_LAST_DUE_DIFF': ['min', 'max', 'mean'],\n",
    "    'SIMPLE_INTERESTS': ['min', 'max', 'mean'],\n",
    "}\n",
    "\n",
    "PREVIOUS_REFUSED_AGG = {\n",
    "    'AMT_APPLICATION': ['max', 'mean'],\n",
    "    'AMT_CREDIT': ['min', 'max'],\n",
    "    'DAYS_DECISION': ['min', 'max', 'mean'],\n",
    "    'CNT_PAYMENT': ['max', 'mean'],\n",
    "    # Engineered features\n",
    "    'APPLICATION_CREDIT_DIFF': ['min', 'max', 'mean', 'var'],\n",
    "    'APPLICATION_CREDIT_RATIO': ['min', 'mean'],\n",
    "    'NAME_CONTRACT_TYPE_Consumer loans': ['mean'],\n",
    "    'NAME_CONTRACT_TYPE_Cash loans': ['mean'],\n",
    "    'NAME_CONTRACT_TYPE_Revolving loans': ['mean'],\n",
    "}\n"
   ]
  },
  {
   "cell_type": "code",
   "execution_count": 32,
   "id": "through-hypothesis",
   "metadata": {
    "execution": {
     "iopub.execute_input": "2021-08-12T16:55:17.262441Z",
     "iopub.status.busy": "2021-08-12T16:55:17.260828Z",
     "iopub.status.idle": "2021-08-12T16:55:19.452241Z",
     "shell.execute_reply": "2021-08-12T16:55:19.451568Z",
     "shell.execute_reply.started": "2021-08-12T16:35:07.679315Z"
    },
    "papermill": {
     "duration": 2.241488,
     "end_time": "2021-08-12T16:55:19.452379",
     "exception": false,
     "start_time": "2021-08-12T16:55:17.210891",
     "status": "completed"
    },
    "tags": []
   },
   "outputs": [],
   "source": [
    "ohe_columns = [\n",
    "    'NAME_CONTRACT_STATUS', 'NAME_CONTRACT_TYPE', 'CHANNEL_TYPE',\n",
    "    'NAME_TYPE_SUITE', 'NAME_YIELD_GROUP', 'PRODUCT_COMBINATION',\n",
    "    'NAME_PRODUCT_TYPE', 'NAME_CLIENT_TYPE']\n",
    "prev, categorical_cols = one_hot_encoder(prev, ohe_columns, nan_as_category= False)"
   ]
  },
  {
   "cell_type": "code",
   "execution_count": 33,
   "id": "alive-movement",
   "metadata": {
    "execution": {
     "iopub.execute_input": "2021-08-12T16:55:19.546697Z",
     "iopub.status.busy": "2021-08-12T16:55:19.545362Z",
     "iopub.status.idle": "2021-08-12T16:55:19.585849Z",
     "shell.execute_reply": "2021-08-12T16:55:19.585193Z",
     "shell.execute_reply.started": "2021-08-12T16:35:10.185088Z"
    },
    "papermill": {
     "duration": 0.090028,
     "end_time": "2021-08-12T16:55:19.585987",
     "exception": false,
     "start_time": "2021-08-12T16:55:19.495959",
     "status": "completed"
    },
    "tags": []
   },
   "outputs": [],
   "source": [
    "prev['APPLICATION_CREDIT_DIFF'] = prev['AMT_APPLICATION'] - prev['AMT_CREDIT']\n",
    "prev['APPLICATION_CREDIT_RATIO'] = prev['AMT_APPLICATION'] / prev['AMT_CREDIT']\n",
    "prev['CREDIT_TO_ANNUITY_RATIO'] = prev['AMT_CREDIT']/prev['AMT_ANNUITY']\n",
    "prev['DOWN_PAYMENT_TO_CREDIT'] = prev['AMT_DOWN_PAYMENT'] / prev['AMT_CREDIT']\n",
    "total_payment = prev['AMT_ANNUITY'] * prev['CNT_PAYMENT']\n",
    "prev['SIMPLE_INTERESTS'] = (total_payment/prev['AMT_CREDIT'] - 1)/prev['CNT_PAYMENT']"
   ]
  },
  {
   "cell_type": "code",
   "execution_count": 34,
   "id": "retired-twist",
   "metadata": {
    "execution": {
     "iopub.execute_input": "2021-08-12T16:55:19.681190Z",
     "iopub.status.busy": "2021-08-12T16:55:19.680454Z",
     "iopub.status.idle": "2021-08-12T16:55:22.213484Z",
     "shell.execute_reply": "2021-08-12T16:55:22.212956Z",
     "shell.execute_reply.started": "2021-08-12T16:35:10.241403Z"
    },
    "papermill": {
     "duration": 2.584127,
     "end_time": "2021-08-12T16:55:22.213625",
     "exception": false,
     "start_time": "2021-08-12T16:55:19.629498",
     "status": "completed"
    },
    "tags": []
   },
   "outputs": [
    {
     "data": {
      "text/plain": [
       "0"
      ]
     },
     "execution_count": 34,
     "metadata": {},
     "output_type": "execute_result"
    }
   ],
   "source": [
    "approved = prev[prev['NAME_CONTRACT_STATUS_Approved'] == 1]\n",
    "active_df = approved[approved['DAYS_LAST_DUE'] == 365243]\n",
    "active_pay = pay[pay['SK_ID_PREV'].isin(active_df['SK_ID_PREV'])]\n",
    "active_pay_agg = active_pay.groupby('SK_ID_PREV')[['AMT_INSTALMENT', 'AMT_PAYMENT']].sum()\n",
    "active_pay_agg.reset_index(inplace= True)\n",
    "active_pay_agg['INSTALMENT_PAYMENT_DIFF'] = active_pay_agg['AMT_INSTALMENT'] - active_pay_agg['AMT_PAYMENT']\n",
    "active_df = active_df.merge(active_pay_agg, on= 'SK_ID_PREV', how= 'left')\n",
    "active_df['REMAINING_DEBT'] = active_df['AMT_CREDIT'] - active_df['AMT_PAYMENT']\n",
    "active_df['REPAYMENT_RATIO'] = active_df['AMT_PAYMENT'] / active_df['AMT_CREDIT']\n",
    "active_agg_df = group(active_df, 'PREV_ACTIVE_', PREVIOUS_ACTIVE_AGG)\n",
    "active_agg_df['TOTAL_REPAYMENT_RATIO'] = active_agg_df['PREV_ACTIVE_AMT_PAYMENT_SUM']/\\\n",
    "                                            active_agg_df['PREV_ACTIVE_AMT_CREDIT_SUM']\n",
    "del active_pay, active_pay_agg, active_df; gc.collect()"
   ]
  },
  {
   "cell_type": "code",
   "execution_count": 35,
   "id": "liberal-microphone",
   "metadata": {
    "execution": {
     "iopub.execute_input": "2021-08-12T16:55:22.308575Z",
     "iopub.status.busy": "2021-08-12T16:55:22.307886Z",
     "iopub.status.idle": "2021-08-12T16:55:22.345403Z",
     "shell.execute_reply": "2021-08-12T16:55:22.344849Z",
     "shell.execute_reply.started": "2021-08-12T16:35:13.336245Z"
    },
    "papermill": {
     "duration": 0.087596,
     "end_time": "2021-08-12T16:55:22.345554",
     "exception": false,
     "start_time": "2021-08-12T16:55:22.257958",
     "status": "completed"
    },
    "tags": []
   },
   "outputs": [],
   "source": [
    "prev['DAYS_FIRST_DRAWING'].replace(365243, np.nan, inplace= True)\n",
    "prev['DAYS_FIRST_DUE'].replace(365243, np.nan, inplace= True)\n",
    "prev['DAYS_LAST_DUE_1ST_VERSION'].replace(365243, np.nan, inplace= True)\n",
    "prev['DAYS_LAST_DUE'].replace(365243, np.nan, inplace= True)\n",
    "prev['DAYS_TERMINATION'].replace(365243, np.nan, inplace= True)"
   ]
  },
  {
   "cell_type": "code",
   "execution_count": 36,
   "id": "ancient-burden",
   "metadata": {
    "execution": {
     "iopub.execute_input": "2021-08-12T16:55:22.441038Z",
     "iopub.status.busy": "2021-08-12T16:55:22.440302Z",
     "iopub.status.idle": "2021-08-12T16:55:22.454485Z",
     "shell.execute_reply": "2021-08-12T16:55:22.455329Z",
     "shell.execute_reply.started": "2021-08-12T16:35:13.384499Z"
    },
    "papermill": {
     "duration": 0.065146,
     "end_time": "2021-08-12T16:55:22.455832",
     "exception": false,
     "start_time": "2021-08-12T16:55:22.390686",
     "status": "completed"
    },
    "tags": []
   },
   "outputs": [
    {
     "name": "stderr",
     "output_type": "stream",
     "text": [
      "/opt/conda/lib/python3.7/site-packages/ipykernel_launcher.py:2: SettingWithCopyWarning: \n",
      "A value is trying to be set on a copy of a slice from a DataFrame.\n",
      "Try using .loc[row_indexer,col_indexer] = value instead\n",
      "\n",
      "See the caveats in the documentation: https://pandas.pydata.org/pandas-docs/stable/user_guide/indexing.html#returning-a-view-versus-a-copy\n",
      "  \n"
     ]
    }
   ],
   "source": [
    "prev['DAYS_LAST_DUE_DIFF'] = prev['DAYS_LAST_DUE_1ST_VERSION'] - prev['DAYS_LAST_DUE']\n",
    "approved['DAYS_LAST_DUE_DIFF'] = approved['DAYS_LAST_DUE_1ST_VERSION'] - approved['DAYS_LAST_DUE']"
   ]
  },
  {
   "cell_type": "code",
   "execution_count": 37,
   "id": "vietnamese-participant",
   "metadata": {
    "execution": {
     "iopub.execute_input": "2021-08-12T16:55:22.551261Z",
     "iopub.status.busy": "2021-08-12T16:55:22.550244Z",
     "iopub.status.idle": "2021-08-12T16:55:22.552725Z",
     "shell.execute_reply": "2021-08-12T16:55:22.553215Z",
     "shell.execute_reply.started": "2021-08-12T16:35:13.406923Z"
    },
    "papermill": {
     "duration": 0.051872,
     "end_time": "2021-08-12T16:55:22.553377",
     "exception": false,
     "start_time": "2021-08-12T16:55:22.501505",
     "status": "completed"
    },
    "tags": []
   },
   "outputs": [],
   "source": [
    "categorical_agg = {key: ['mean'] for key in categorical_cols}"
   ]
  },
  {
   "cell_type": "code",
   "execution_count": 38,
   "id": "laughing-mandate",
   "metadata": {
    "execution": {
     "iopub.execute_input": "2021-08-12T16:55:22.649576Z",
     "iopub.status.busy": "2021-08-12T16:55:22.648622Z",
     "iopub.status.idle": "2021-08-12T16:55:27.353265Z",
     "shell.execute_reply": "2021-08-12T16:55:27.352688Z",
     "shell.execute_reply.started": "2021-08-12T16:35:13.415223Z"
    },
    "papermill": {
     "duration": 4.752462,
     "end_time": "2021-08-12T16:55:27.353456",
     "exception": false,
     "start_time": "2021-08-12T16:55:22.600994",
     "status": "completed"
    },
    "tags": []
   },
   "outputs": [
    {
     "data": {
      "text/plain": [
       "0"
      ]
     },
     "execution_count": 38,
     "metadata": {},
     "output_type": "execute_result"
    }
   ],
   "source": [
    "agg_prev = group(prev, 'PREV_', {**PREVIOUS_AGG, **categorical_agg})\n",
    "agg_prev = agg_prev.merge(active_agg_df, how='left', on='SK_ID_CURR')\n",
    "del active_agg_df; gc.collect()"
   ]
  },
  {
   "cell_type": "code",
   "execution_count": 39,
   "id": "clinical-aviation",
   "metadata": {
    "execution": {
     "iopub.execute_input": "2021-08-12T16:55:27.451186Z",
     "iopub.status.busy": "2021-08-12T16:55:27.450470Z",
     "iopub.status.idle": "2021-08-12T16:55:30.471422Z",
     "shell.execute_reply": "2021-08-12T16:55:30.470782Z",
     "shell.execute_reply.started": "2021-08-12T16:35:18.826101Z"
    },
    "papermill": {
     "duration": 3.073078,
     "end_time": "2021-08-12T16:55:30.471556",
     "exception": false,
     "start_time": "2021-08-12T16:55:27.398478",
     "status": "completed"
    },
    "tags": []
   },
   "outputs": [
    {
     "data": {
      "text/plain": [
       "0"
      ]
     },
     "execution_count": 39,
     "metadata": {},
     "output_type": "execute_result"
    }
   ],
   "source": [
    "agg_prev = group_and_merge(approved, agg_prev, 'APPROVED_', PREVIOUS_APPROVED_AGG)\n",
    "refused = prev[prev['NAME_CONTRACT_STATUS_Refused'] == 1]\n",
    "agg_prev = group_and_merge(refused, agg_prev, 'REFUSED_', PREVIOUS_REFUSED_AGG)\n",
    "del approved, refused; gc.collect()"
   ]
  },
  {
   "cell_type": "code",
   "execution_count": 40,
   "id": "corresponding-status",
   "metadata": {
    "execution": {
     "iopub.execute_input": "2021-08-12T16:55:30.568307Z",
     "iopub.status.busy": "2021-08-12T16:55:30.567667Z",
     "iopub.status.idle": "2021-08-12T16:55:33.126894Z",
     "shell.execute_reply": "2021-08-12T16:55:33.126161Z",
     "shell.execute_reply.started": "2021-08-12T16:35:22.710736Z"
    },
    "papermill": {
     "duration": 2.609968,
     "end_time": "2021-08-12T16:55:33.127041",
     "exception": false,
     "start_time": "2021-08-12T16:55:30.517073",
     "status": "completed"
    },
    "tags": []
   },
   "outputs": [],
   "source": [
    "for loan_type in ['Consumer loans', 'Cash loans']:\n",
    "    type_df = prev[prev['NAME_CONTRACT_TYPE_{}'.format(loan_type)] == 1]\n",
    "    prefix = 'PREV_' + loan_type.split(\" \")[0] + '_'\n",
    "    agg_prev = group_and_merge(type_df, agg_prev, prefix, PREVIOUS_LOAN_TYPE_AGG)\n",
    "    del type_df; gc.collect()"
   ]
  },
  {
   "cell_type": "code",
   "execution_count": 41,
   "id": "sufficient-cemetery",
   "metadata": {
    "execution": {
     "iopub.execute_input": "2021-08-12T16:55:33.225336Z",
     "iopub.status.busy": "2021-08-12T16:55:33.224003Z",
     "iopub.status.idle": "2021-08-12T16:55:43.378999Z",
     "shell.execute_reply": "2021-08-12T16:55:43.379662Z",
     "shell.execute_reply.started": "2021-08-12T16:35:25.851277Z"
    },
    "papermill": {
     "duration": 10.207443,
     "end_time": "2021-08-12T16:55:43.379862",
     "exception": false,
     "start_time": "2021-08-12T16:55:33.172419",
     "status": "completed"
    },
    "tags": []
   },
   "outputs": [],
   "source": [
    "pay['LATE_PAYMENT'] = pay['DAYS_ENTRY_PAYMENT'] - pay['DAYS_INSTALMENT']\n",
    "pay['LATE_PAYMENT'] = pay['LATE_PAYMENT'].apply(lambda x: 1 if x > 0 else 0)\n",
    "dpd_id = pay[pay['LATE_PAYMENT'] > 0]['SK_ID_PREV'].unique()"
   ]
  },
  {
   "cell_type": "code",
   "execution_count": 42,
   "id": "virtual-devices",
   "metadata": {
    "execution": {
     "iopub.execute_input": "2021-08-12T16:55:43.475012Z",
     "iopub.status.busy": "2021-08-12T16:55:43.474069Z",
     "iopub.status.idle": "2021-08-12T16:55:44.316831Z",
     "shell.execute_reply": "2021-08-12T16:55:44.316176Z",
     "shell.execute_reply.started": "2021-08-12T16:35:36.619299Z"
    },
    "papermill": {
     "duration": 0.890374,
     "end_time": "2021-08-12T16:55:44.316968",
     "exception": false,
     "start_time": "2021-08-12T16:55:43.426594",
     "status": "completed"
    },
    "tags": []
   },
   "outputs": [
    {
     "data": {
      "text/plain": [
       "0"
      ]
     },
     "execution_count": 42,
     "metadata": {},
     "output_type": "execute_result"
    }
   ],
   "source": [
    "agg_dpd = group_and_merge(prev[prev['SK_ID_PREV'].isin(dpd_id)], agg_prev,\n",
    "                                    'PREV_LATE_', PREVIOUS_LATE_PAYMENTS_AGG)\n",
    "del agg_dpd, dpd_id; gc.collect()"
   ]
  },
  {
   "cell_type": "code",
   "execution_count": 43,
   "id": "healthy-father",
   "metadata": {
    "execution": {
     "iopub.execute_input": "2021-08-12T16:55:44.414974Z",
     "iopub.status.busy": "2021-08-12T16:55:44.414266Z",
     "iopub.status.idle": "2021-08-12T16:55:47.298553Z",
     "shell.execute_reply": "2021-08-12T16:55:47.299277Z",
     "shell.execute_reply.started": "2021-08-12T16:35:37.640296Z"
    },
    "papermill": {
     "duration": 2.936973,
     "end_time": "2021-08-12T16:55:47.299455",
     "exception": false,
     "start_time": "2021-08-12T16:55:44.362482",
     "status": "completed"
    },
    "tags": []
   },
   "outputs": [
    {
     "data": {
      "text/plain": [
       "0"
      ]
     },
     "execution_count": 43,
     "metadata": {},
     "output_type": "execute_result"
    }
   ],
   "source": [
    "for time_frame in [12, 24]:\n",
    "    time_frame_df = prev[prev['DAYS_DECISION'] >= -30*time_frame]\n",
    "    prefix = 'PREV_LAST{}M_'.format(time_frame)\n",
    "    agg_prev = group_and_merge(time_frame_df, agg_prev, prefix, PREVIOUS_TIME_AGG)\n",
    "    del time_frame_df; gc.collect()\n",
    "del prev; gc.collect()"
   ]
  },
  {
   "cell_type": "code",
   "execution_count": 44,
   "id": "written-inspector",
   "metadata": {
    "execution": {
     "iopub.execute_input": "2021-08-12T16:55:47.405258Z",
     "iopub.status.busy": "2021-08-12T16:55:47.404254Z",
     "iopub.status.idle": "2021-08-12T16:55:49.811214Z",
     "shell.execute_reply": "2021-08-12T16:55:49.811806Z",
     "shell.execute_reply.started": "2021-08-12T16:35:41.190452Z"
    },
    "papermill": {
     "duration": 2.466291,
     "end_time": "2021-08-12T16:55:49.812022",
     "exception": false,
     "start_time": "2021-08-12T16:55:47.345731",
     "status": "completed"
    },
    "tags": []
   },
   "outputs": [],
   "source": [
    "df = pd.merge(df, agg_prev, on='SK_ID_CURR', how='left')"
   ]
  },
  {
   "cell_type": "code",
   "execution_count": 45,
   "id": "iraqi-coast",
   "metadata": {
    "execution": {
     "iopub.execute_input": "2021-08-12T16:55:49.908191Z",
     "iopub.status.busy": "2021-08-12T16:55:49.907503Z",
     "iopub.status.idle": "2021-08-12T16:55:51.509743Z",
     "shell.execute_reply": "2021-08-12T16:55:51.510259Z",
     "shell.execute_reply.started": "2021-08-12T16:35:44.833054Z"
    },
    "papermill": {
     "duration": 1.652048,
     "end_time": "2021-08-12T16:55:51.510424",
     "exception": false,
     "start_time": "2021-08-12T16:55:49.858376",
     "status": "completed"
    },
    "tags": []
   },
   "outputs": [
    {
     "data": {
      "text/plain": [
       "40"
      ]
     },
     "execution_count": 45,
     "metadata": {},
     "output_type": "execute_result"
    }
   ],
   "source": [
    "train = df[df['TARGET'].notnull()]\n",
    "test = df[df['TARGET'].isnull()]\n",
    "del df\n",
    "gc.collect()"
   ]
  },
  {
   "cell_type": "code",
   "execution_count": 46,
   "id": "christian-cardiff",
   "metadata": {
    "execution": {
     "iopub.execute_input": "2021-08-12T16:55:51.947403Z",
     "iopub.status.busy": "2021-08-12T16:55:51.946658Z",
     "iopub.status.idle": "2021-08-12T16:55:51.988619Z",
     "shell.execute_reply": "2021-08-12T16:55:51.989128Z",
     "shell.execute_reply.started": "2021-08-12T16:35:47.104647Z"
    },
    "papermill": {
     "duration": 0.433055,
     "end_time": "2021-08-12T16:55:51.989313",
     "exception": false,
     "start_time": "2021-08-12T16:55:51.556258",
     "status": "completed"
    },
    "tags": []
   },
   "outputs": [],
   "source": [
    "labels = train['TARGET']\n",
    "test_lebels=test['TARGET']\n",
    "train = train.drop(columns=['TARGET'])\n",
    "test = test.drop(columns=['TARGET'])"
   ]
  },
  {
   "cell_type": "code",
   "execution_count": 47,
   "id": "signed-wheel",
   "metadata": {
    "execution": {
     "iopub.execute_input": "2021-08-12T16:55:52.084481Z",
     "iopub.status.busy": "2021-08-12T16:55:52.083799Z",
     "iopub.status.idle": "2021-08-12T16:55:53.308813Z",
     "shell.execute_reply": "2021-08-12T16:55:53.309348Z",
     "shell.execute_reply.started": "2021-08-12T16:35:47.654479Z"
    },
    "papermill": {
     "duration": 1.274406,
     "end_time": "2021-08-12T16:55:53.309547",
     "exception": false,
     "start_time": "2021-08-12T16:55:52.035141",
     "status": "completed"
    },
    "tags": []
   },
   "outputs": [],
   "source": [
    "feature = list(train.columns)\n",
    "\n",
    "train.replace([np.inf, -np.inf], np.nan, inplace=True)\n",
    "test.replace([np.inf, -np.inf], np.nan, inplace=True)\n",
    "test_df = test.copy()\n",
    "train_df = train.copy()\n",
    "train_df['TARGET'] = labels\n",
    "test_df['TARGET'] = test_lebels"
   ]
  },
  {
   "cell_type": "code",
   "execution_count": 48,
   "id": "twelve-excerpt",
   "metadata": {
    "execution": {
     "iopub.execute_input": "2021-08-12T16:55:53.405294Z",
     "iopub.status.busy": "2021-08-12T16:55:53.404543Z",
     "iopub.status.idle": "2021-08-12T16:56:24.627032Z",
     "shell.execute_reply": "2021-08-12T16:56:24.626387Z",
     "shell.execute_reply.started": "2021-08-12T16:35:49.205832Z"
    },
    "papermill": {
     "duration": 31.271576,
     "end_time": "2021-08-12T16:56:24.627203",
     "exception": false,
     "start_time": "2021-08-12T16:55:53.355627",
     "status": "completed"
    },
    "tags": []
   },
   "outputs": [],
   "source": [
    "imputer = SimpleImputer(strategy = 'median')\n",
    "imputer.fit(train)\n",
    "imputer.fit(test)\n",
    "train = imputer.transform(train)\n",
    "test = imputer.transform(test)"
   ]
  },
  {
   "cell_type": "code",
   "execution_count": 49,
   "id": "official-valentine",
   "metadata": {
    "execution": {
     "iopub.execute_input": "2021-08-12T16:56:24.726741Z",
     "iopub.status.busy": "2021-08-12T16:56:24.726031Z",
     "iopub.status.idle": "2021-08-12T16:56:26.027704Z",
     "shell.execute_reply": "2021-08-12T16:56:26.027166Z",
     "shell.execute_reply.started": "2021-08-12T16:36:28.297762Z"
    },
    "papermill": {
     "duration": 1.353572,
     "end_time": "2021-08-12T16:56:26.027872",
     "exception": false,
     "start_time": "2021-08-12T16:56:24.674300",
     "status": "completed"
    },
    "tags": []
   },
   "outputs": [],
   "source": [
    "scaler = MinMaxScaler(feature_range = (0, 1))\n",
    "scaler.fit(train)\n",
    "scaler.fit(test)\n",
    "train = scaler.transform(train)\n",
    "test = scaler.transform(test)"
   ]
  },
  {
   "cell_type": "code",
   "execution_count": 50,
   "id": "unnecessary-norway",
   "metadata": {
    "execution": {
     "iopub.execute_input": "2021-08-12T16:56:26.124585Z",
     "iopub.status.busy": "2021-08-12T16:56:26.123871Z",
     "iopub.status.idle": "2021-08-12T16:57:05.329107Z",
     "shell.execute_reply": "2021-08-12T16:57:05.329616Z",
     "shell.execute_reply.started": "2021-08-12T16:36:30.242932Z"
    },
    "papermill": {
     "duration": 39.256241,
     "end_time": "2021-08-12T16:57:05.329828",
     "exception": false,
     "start_time": "2021-08-12T16:56:26.073587",
     "status": "completed"
    },
    "tags": []
   },
   "outputs": [
    {
     "data": {
      "text/html": [
       "<style type='text/css'>\n",
       ".datatable table.frame { margin-bottom: 0; }\n",
       ".datatable table.frame thead { border-bottom: none; }\n",
       ".datatable table.frame tr.coltypes td {  color: #FFFFFF;  line-height: 6px;  padding: 0 0.5em;}\n",
       ".datatable .bool    { background: #DDDD99; }\n",
       ".datatable .object  { background: #565656; }\n",
       ".datatable .int     { background: #5D9E5D; }\n",
       ".datatable .float   { background: #4040CC; }\n",
       ".datatable .str     { background: #CC4040; }\n",
       ".datatable .row_index {  background: var(--jp-border-color3);  border-right: 1px solid var(--jp-border-color0);  color: var(--jp-ui-font-color3);  font-size: 9px;}\n",
       ".datatable .frame tr.coltypes .row_index {  background: var(--jp-border-color0);}\n",
       ".datatable th:nth-child(2) { padding-left: 12px; }\n",
       ".datatable .hellipsis {  color: var(--jp-cell-editor-border-color);}\n",
       ".datatable .vellipsis {  background: var(--jp-layout-color0);  color: var(--jp-cell-editor-border-color);}\n",
       ".datatable .na {  color: var(--jp-cell-editor-border-color);  font-size: 80%;}\n",
       ".datatable .footer { font-size: 9px; }\n",
       ".datatable .frame_dimensions {  background: var(--jp-border-color3);  border-top: 1px solid var(--jp-border-color0);  color: var(--jp-ui-font-color3);  display: inline-block;  opacity: 0.6;  padding: 1px 10px 1px 5px;}\n",
       "</style>\n"
      ],
      "text/plain": [
       "<IPython.core.display.HTML object>"
      ]
     },
     "metadata": {},
     "output_type": "display_data"
    },
    {
     "data": {
      "text/plain": [
       "LGBMClassifier()"
      ]
     },
     "execution_count": 50,
     "metadata": {},
     "output_type": "execute_result"
    }
   ],
   "source": [
    "from lightgbm import LGBMClassifier\n",
    "\n",
    "lgbmc = LGBMClassifier()\n",
    "lgbmc.fit(train, labels)"
   ]
  },
  {
   "cell_type": "code",
   "execution_count": 51,
   "id": "reasonable-spending",
   "metadata": {
    "execution": {
     "iopub.execute_input": "2021-08-12T16:57:05.431068Z",
     "iopub.status.busy": "2021-08-12T16:57:05.429669Z",
     "iopub.status.idle": "2021-08-12T16:57:05.682575Z",
     "shell.execute_reply": "2021-08-12T16:57:05.683608Z",
     "shell.execute_reply.started": "2021-08-12T16:37:13.030231Z"
    },
    "papermill": {
     "duration": 0.306827,
     "end_time": "2021-08-12T16:57:05.683847",
     "exception": false,
     "start_time": "2021-08-12T16:57:05.377020",
     "status": "completed"
    },
    "tags": []
   },
   "outputs": [],
   "source": [
    "lgbm_pred = lgbmc.predict_proba(test)[:, 1]"
   ]
  },
  {
   "cell_type": "code",
   "execution_count": 52,
   "id": "affecting-genome",
   "metadata": {
    "execution": {
     "iopub.execute_input": "2021-08-12T16:57:05.786970Z",
     "iopub.status.busy": "2021-08-12T16:57:05.786274Z",
     "iopub.status.idle": "2021-08-12T16:57:05.887190Z",
     "shell.execute_reply": "2021-08-12T16:57:05.886390Z",
     "shell.execute_reply.started": "2021-08-12T16:37:13.299145Z"
    },
    "papermill": {
     "duration": 0.154172,
     "end_time": "2021-08-12T16:57:05.887391",
     "exception": false,
     "start_time": "2021-08-12T16:57:05.733219",
     "status": "completed"
    },
    "tags": []
   },
   "outputs": [
    {
     "name": "stderr",
     "output_type": "stream",
     "text": [
      "/opt/conda/lib/python3.7/site-packages/ipykernel_launcher.py:2: SettingWithCopyWarning: \n",
      "A value is trying to be set on a copy of a slice from a DataFrame.\n",
      "Try using .loc[row_indexer,col_indexer] = value instead\n",
      "\n",
      "See the caveats in the documentation: https://pandas.pydata.org/pandas-docs/stable/user_guide/indexing.html#returning-a-view-versus-a-copy\n",
      "  \n"
     ]
    }
   ],
   "source": [
    "submit = test_df[['SK_ID_CURR']]\n",
    "submit['TARGET'] = lgbm_pred"
   ]
  },
  {
   "cell_type": "code",
   "execution_count": 53,
   "id": "accepting-employer",
   "metadata": {
    "execution": {
     "iopub.execute_input": "2021-08-12T16:57:05.989168Z",
     "iopub.status.busy": "2021-08-12T16:57:05.988455Z",
     "iopub.status.idle": "2021-08-12T16:57:06.181794Z",
     "shell.execute_reply": "2021-08-12T16:57:06.181063Z",
     "shell.execute_reply.started": "2021-08-12T16:52:33.020940Z"
    },
    "papermill": {
     "duration": 0.246739,
     "end_time": "2021-08-12T16:57:06.181941",
     "exception": false,
     "start_time": "2021-08-12T16:57:05.935202",
     "status": "completed"
    },
    "tags": []
   },
   "outputs": [],
   "source": [
    "submit.to_csv('lgbm.csv', index = False)"
   ]
  }
 ],
 "metadata": {
  "kernelspec": {
   "display_name": "Python 3 (ipykernel)",
   "language": "python",
   "name": "python3"
  },
  "language_info": {
   "codemirror_mode": {
    "name": "ipython",
    "version": 3
   },
   "file_extension": ".py",
   "mimetype": "text/x-python",
   "name": "python",
   "nbconvert_exporter": "python",
   "pygments_lexer": "ipython3",
   "version": "3.9.7"
  },
  "papermill": {
   "default_parameters": {},
   "duration": 233.068239,
   "end_time": "2021-08-12T16:57:07.746322",
   "environment_variables": {},
   "exception": null,
   "input_path": "__notebook__.ipynb",
   "output_path": "__notebook__.ipynb",
   "parameters": {},
   "start_time": "2021-08-12T16:53:14.678083",
   "version": "2.3.3"
  }
 },
 "nbformat": 4,
 "nbformat_minor": 5
}
