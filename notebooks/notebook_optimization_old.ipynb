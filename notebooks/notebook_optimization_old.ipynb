{
 "cells": [
  {
   "cell_type": "markdown",
   "id": "c8e6a558-388d-43bc-a18f-fa2f11c91b62",
   "metadata": {
    "tags": []
   },
   "source": [
    "<div style=\"display: flex; background-color: #3F579F;\">\n",
    "    <h1 style=\"margin: auto; font-weight: bold; padding: 30px 30px 0px 30px; color:#fff;\" align=\"center\">Implement a scoring model - P7</h1>\n",
    "</div>\n",
    "<div style=\"display: flex; background-color: #3F579F; margin: auto; padding: 5px 30px 0px 30px;\" >\n",
    "    <h3 style=\"width: 100%; text-align: center; float: left; font-size: 24px; color:#fff;\" align=\"center\">| Notebook optimization |</h3>\n",
    "</div>\n",
    "<div style=\"display: flex; background-color: #3F579F; margin: auto; padding: 10px 30px 30px 30px;\">\n",
    "    <h4 style=\"width: 100%; text-align: center; float: left; font-size: 24px; color:#fff;\" align=\"center\">Data Scientist course - OpenClassrooms</h4>\n",
    "</div>"
   ]
  },
  {
   "cell_type": "markdown",
   "id": "a071f085-b566-4595-a02b-30aa8064888b",
   "metadata": {
    "tags": []
   },
   "source": [
    "<div style=\"background-color: #506AB9;\" >\n",
    "    <h2 style=\"margin: auto; padding: 20px; color:#fff; \">1. Libraries and files</h2>\n",
    "</div>"
   ]
  },
  {
   "cell_type": "markdown",
   "id": "b1409272-303e-46f2-b6a6-729a491957fa",
   "metadata": {
    "tags": []
   },
   "source": [
    "<div style=\"background-color: #506AB9;\" >\n",
    "    <h3 style=\"margin: auto; padding: 20px; color:#fff; \">1.1. Libraries</h3>\n",
    "</div>"
   ]
  },
  {
   "cell_type": "code",
   "execution_count": 1,
   "id": "d22e0155-efb4-4760-af1a-323097c5535f",
   "metadata": {},
   "outputs": [],
   "source": [
    "import re\n",
    "import numpy as np\n",
    "import pandas as pd\n",
    "from functools import partial\n",
    "\n",
    "from imblearn.over_sampling import SMOTE\n",
    "\n",
    "import lightgbm as lgb\n",
    "from lightgbm import LGBMClassifier\n",
    "\n",
    "import sklearn\n",
    "from sklearn.metrics import (roc_auc_score, roc_curve, \n",
    "                             precision_recall_curve, confusion_matrix, \n",
    "                             PrecisionRecallDisplay, ConfusionMatrixDisplay)\n",
    "from sklearn.model_selection import KFold, StratifiedKFold, train_test_split\n",
    "from sklearn.preprocessing import StandardScaler\n",
    "\n",
    "# Hyperparametrization\n",
    "from hyperopt import tpe, hp, fmin, STATUS_OK, Trials, space_eval\n",
    "from hyperopt.pyll.base import scope\n",
    "\n",
    "import joblib\n",
    "\n",
    "## Own specific functions \n",
    "from functions import *"
   ]
  },
  {
   "cell_type": "markdown",
   "id": "9bb1ffa2-35ac-4f10-9fa9-9ccfd298a666",
   "metadata": {
    "tags": []
   },
   "source": [
    "<div style=\"background-color: #506AB9;\" >\n",
    "    <h3 style=\"margin: auto; padding: 20px; color:#fff; \">1.2. Files</h3>\n",
    "</div>"
   ]
  },
  {
   "cell_type": "code",
   "execution_count": 2,
   "id": "3a80f568-509b-4a73-b15c-21641a3c45e0",
   "metadata": {
    "tags": []
   },
   "outputs": [],
   "source": [
    "df = pd.read_csv(r\"datasets\\df_processed.csv\")\n",
    "df = df.drop(columns=[\"index\"])"
   ]
  },
  {
   "cell_type": "code",
   "execution_count": 3,
   "id": "74493351-a229-425e-938f-6a5b71f5a573",
   "metadata": {},
   "outputs": [
    {
     "name": "stdout",
     "output_type": "stream",
     "text": [
      "\n",
      "Analysis Header of df dataset\n",
      "--------------------------------------------------------------------------------\n",
      "- Dataset shape:\t\t\t 356251 rows and 797 columns\n",
      "- Total of NaN values:\t\t\t 72099981\n",
      "- Percentage of NaN:\t\t\t 25.39 %\n",
      "- Total of infinite values:\t\t 21\n",
      "- Percentage of infinite values:\t 0.0 %\n",
      "- Total of full duplicates rows:\t 0\n",
      "- Total of empty rows:\t\t\t 0\n",
      "- Total of empty columns:\t\t 0\n",
      "- Unique indexes:\t\t\t True\n",
      "- Memory usage:\t\t\t\t 2.1 GB\n"
     ]
    }
   ],
   "source": [
    "df_analysis(df, \"df\", analysis_type=\"header\")"
   ]
  },
  {
   "cell_type": "markdown",
   "id": "21180556-e4ee-491b-a965-fe2d527bf30d",
   "metadata": {
    "tags": []
   },
   "source": [
    "<div class=\"alert alert-block alert-warning\">\n",
    "    <p><b>Observations / Conclusions</b></p>\n",
    "    <ul style=\"list-style-type: square;\">\n",
    "        <li><b>Missing values</b> - There are 25.39% of missing-values to treat</li>\n",
    "        <li><b>Infinite values</b> - There are 25 infinite values</li>\n",
    "    </ul> \n",
    "</div>"
   ]
  },
  {
   "cell_type": "markdown",
   "id": "245be731-490e-4a73-aa06-e1734da6f912",
   "metadata": {
    "tags": []
   },
   "source": [
    "<div style=\"background-color: #506AB9;\" >\n",
    "    <h4 style=\"margin: auto; padding: 20px; color:#fff; \">1.2.1 Optimizing memory usage</h4>\n",
    "</div>"
   ]
  },
  {
   "cell_type": "markdown",
   "id": "7199b033-4e22-44bd-9d31-aa86ad42b221",
   "metadata": {
    "tags": []
   },
   "source": [
    "<div class=\"alert alert-block alert-info\">\n",
    "    <p>We should optimize the memory usage to avoid problems during executions</p>\n",
    "</div>"
   ]
  },
  {
   "cell_type": "code",
   "execution_count": 4,
   "id": "fd3c4cc6-2c06-4747-a3cc-d0fdd4f9b16a",
   "metadata": {},
   "outputs": [],
   "source": [
    "df[\"TARGET\"].fillna(value=-99, inplace=True)\n",
    "df[\"TARGET\"] = df[\"TARGET\"].astype(\"int8\")\n",
    "df[\"TARGET\"] = df[\"TARGET\"].replace(-99, np.nan)"
   ]
  },
  {
   "cell_type": "code",
   "execution_count": 5,
   "id": "bbdf298a-6415-49e7-a04a-73127d97c5e1",
   "metadata": {},
   "outputs": [],
   "source": [
    "for col in df.columns:\n",
    "    if df[col].dtype == \"int64\" and df[col].nunique() == 2:\n",
    "        df[col] = df[col].astype(\"int8\")"
   ]
  },
  {
   "cell_type": "code",
   "execution_count": 6,
   "id": "e3bae372-a3fb-43ad-a6b3-24c589f88922",
   "metadata": {},
   "outputs": [],
   "source": [
    "for col in df.columns:\n",
    "    if df[col].dtype == \"float64\" and df[col].min() >= -2147483648 and df[col].max() <= 2147483648:\n",
    "        df[col] = df[col].astype(\"float32\")"
   ]
  },
  {
   "cell_type": "code",
   "execution_count": 7,
   "id": "4bfbce33-ea3f-4262-b87a-652787443ba2",
   "metadata": {},
   "outputs": [
    {
     "name": "stdout",
     "output_type": "stream",
     "text": [
      "\n",
      "Analysis Header of df dataset\n",
      "--------------------------------------------------------------------------------\n",
      "- Dataset shape:\t\t\t 356251 rows and 797 columns\n",
      "- Total of NaN values:\t\t\t 72099981\n",
      "- Percentage of NaN:\t\t\t 25.39 %\n",
      "- Total of infinite values:\t\t 21\n",
      "- Percentage of infinite values:\t 0.0 %\n",
      "- Total of full duplicates rows:\t 0\n",
      "- Total of empty rows:\t\t\t 0\n",
      "- Total of empty columns:\t\t 0\n",
      "- Unique indexes:\t\t\t True\n",
      "- Memory usage:\t\t\t\t 941.8 MB\n"
     ]
    }
   ],
   "source": [
    "df_analysis(df, \"df\", analysis_type=\"header\")"
   ]
  },
  {
   "cell_type": "code",
   "execution_count": 8,
   "id": "d0b51422-0f82-4622-aa77-c47fdd6ad43c",
   "metadata": {},
   "outputs": [
    {
     "data": {
      "text/html": [
       "<div>\n",
       "<style scoped>\n",
       "    .dataframe tbody tr th:only-of-type {\n",
       "        vertical-align: middle;\n",
       "    }\n",
       "\n",
       "    .dataframe tbody tr th {\n",
       "        vertical-align: top;\n",
       "    }\n",
       "\n",
       "    .dataframe thead th {\n",
       "        text-align: right;\n",
       "    }\n",
       "</style>\n",
       "<table border=\"1\" class=\"dataframe\">\n",
       "  <thead>\n",
       "    <tr style=\"text-align: right;\">\n",
       "      <th></th>\n",
       "      <th>SK_ID_CURR</th>\n",
       "      <th>TARGET</th>\n",
       "      <th>CODE_GENDER</th>\n",
       "      <th>FLAG_OWN_CAR</th>\n",
       "      <th>FLAG_OWN_REALTY</th>\n",
       "      <th>CNT_CHILDREN</th>\n",
       "      <th>AMT_INCOME_TOTAL</th>\n",
       "      <th>AMT_CREDIT</th>\n",
       "      <th>AMT_ANNUITY</th>\n",
       "      <th>AMT_GOODS_PRICE</th>\n",
       "      <th>...</th>\n",
       "      <th>CC_NAME_CONTRACT_STATUS_Signed_MAX</th>\n",
       "      <th>CC_NAME_CONTRACT_STATUS_Signed_MEAN</th>\n",
       "      <th>CC_NAME_CONTRACT_STATUS_Signed_SUM</th>\n",
       "      <th>CC_NAME_CONTRACT_STATUS_Signed_VAR</th>\n",
       "      <th>CC_NAME_CONTRACT_STATUS_nan_MIN</th>\n",
       "      <th>CC_NAME_CONTRACT_STATUS_nan_MAX</th>\n",
       "      <th>CC_NAME_CONTRACT_STATUS_nan_MEAN</th>\n",
       "      <th>CC_NAME_CONTRACT_STATUS_nan_SUM</th>\n",
       "      <th>CC_NAME_CONTRACT_STATUS_nan_VAR</th>\n",
       "      <th>CC_COUNT</th>\n",
       "    </tr>\n",
       "  </thead>\n",
       "  <tbody>\n",
       "    <tr>\n",
       "      <th>0</th>\n",
       "      <td>100002</td>\n",
       "      <td>1.0</td>\n",
       "      <td>0</td>\n",
       "      <td>0</td>\n",
       "      <td>0</td>\n",
       "      <td>0</td>\n",
       "      <td>202500.0</td>\n",
       "      <td>406597.5</td>\n",
       "      <td>24700.5</td>\n",
       "      <td>351000.0</td>\n",
       "      <td>...</td>\n",
       "      <td>NaN</td>\n",
       "      <td>NaN</td>\n",
       "      <td>NaN</td>\n",
       "      <td>NaN</td>\n",
       "      <td>NaN</td>\n",
       "      <td>NaN</td>\n",
       "      <td>NaN</td>\n",
       "      <td>NaN</td>\n",
       "      <td>NaN</td>\n",
       "      <td>NaN</td>\n",
       "    </tr>\n",
       "    <tr>\n",
       "      <th>1</th>\n",
       "      <td>100003</td>\n",
       "      <td>0.0</td>\n",
       "      <td>1</td>\n",
       "      <td>0</td>\n",
       "      <td>1</td>\n",
       "      <td>0</td>\n",
       "      <td>270000.0</td>\n",
       "      <td>1293502.5</td>\n",
       "      <td>35698.5</td>\n",
       "      <td>1129500.0</td>\n",
       "      <td>...</td>\n",
       "      <td>NaN</td>\n",
       "      <td>NaN</td>\n",
       "      <td>NaN</td>\n",
       "      <td>NaN</td>\n",
       "      <td>NaN</td>\n",
       "      <td>NaN</td>\n",
       "      <td>NaN</td>\n",
       "      <td>NaN</td>\n",
       "      <td>NaN</td>\n",
       "      <td>NaN</td>\n",
       "    </tr>\n",
       "    <tr>\n",
       "      <th>2</th>\n",
       "      <td>100004</td>\n",
       "      <td>0.0</td>\n",
       "      <td>0</td>\n",
       "      <td>1</td>\n",
       "      <td>0</td>\n",
       "      <td>0</td>\n",
       "      <td>67500.0</td>\n",
       "      <td>135000.0</td>\n",
       "      <td>6750.0</td>\n",
       "      <td>135000.0</td>\n",
       "      <td>...</td>\n",
       "      <td>NaN</td>\n",
       "      <td>NaN</td>\n",
       "      <td>NaN</td>\n",
       "      <td>NaN</td>\n",
       "      <td>NaN</td>\n",
       "      <td>NaN</td>\n",
       "      <td>NaN</td>\n",
       "      <td>NaN</td>\n",
       "      <td>NaN</td>\n",
       "      <td>NaN</td>\n",
       "    </tr>\n",
       "    <tr>\n",
       "      <th>3</th>\n",
       "      <td>100006</td>\n",
       "      <td>0.0</td>\n",
       "      <td>1</td>\n",
       "      <td>0</td>\n",
       "      <td>0</td>\n",
       "      <td>0</td>\n",
       "      <td>135000.0</td>\n",
       "      <td>312682.5</td>\n",
       "      <td>29686.5</td>\n",
       "      <td>297000.0</td>\n",
       "      <td>...</td>\n",
       "      <td>0.0</td>\n",
       "      <td>0.0</td>\n",
       "      <td>0.0</td>\n",
       "      <td>0.0</td>\n",
       "      <td>0.0</td>\n",
       "      <td>0.0</td>\n",
       "      <td>0.0</td>\n",
       "      <td>0.0</td>\n",
       "      <td>0.0</td>\n",
       "      <td>6.0</td>\n",
       "    </tr>\n",
       "    <tr>\n",
       "      <th>4</th>\n",
       "      <td>100007</td>\n",
       "      <td>0.0</td>\n",
       "      <td>0</td>\n",
       "      <td>0</td>\n",
       "      <td>0</td>\n",
       "      <td>0</td>\n",
       "      <td>121500.0</td>\n",
       "      <td>513000.0</td>\n",
       "      <td>21865.5</td>\n",
       "      <td>513000.0</td>\n",
       "      <td>...</td>\n",
       "      <td>NaN</td>\n",
       "      <td>NaN</td>\n",
       "      <td>NaN</td>\n",
       "      <td>NaN</td>\n",
       "      <td>NaN</td>\n",
       "      <td>NaN</td>\n",
       "      <td>NaN</td>\n",
       "      <td>NaN</td>\n",
       "      <td>NaN</td>\n",
       "      <td>NaN</td>\n",
       "    </tr>\n",
       "  </tbody>\n",
       "</table>\n",
       "<p>5 rows × 797 columns</p>\n",
       "</div>"
      ],
      "text/plain": [
       "   SK_ID_CURR  TARGET  CODE_GENDER  FLAG_OWN_CAR  FLAG_OWN_REALTY  \\\n",
       "0      100002     1.0            0             0                0   \n",
       "1      100003     0.0            1             0                1   \n",
       "2      100004     0.0            0             1                0   \n",
       "3      100006     0.0            1             0                0   \n",
       "4      100007     0.0            0             0                0   \n",
       "\n",
       "   CNT_CHILDREN  AMT_INCOME_TOTAL  AMT_CREDIT  AMT_ANNUITY  AMT_GOODS_PRICE  \\\n",
       "0             0          202500.0    406597.5      24700.5         351000.0   \n",
       "1             0          270000.0   1293502.5      35698.5        1129500.0   \n",
       "2             0           67500.0    135000.0       6750.0         135000.0   \n",
       "3             0          135000.0    312682.5      29686.5         297000.0   \n",
       "4             0          121500.0    513000.0      21865.5         513000.0   \n",
       "\n",
       "   ...  CC_NAME_CONTRACT_STATUS_Signed_MAX  \\\n",
       "0  ...                                 NaN   \n",
       "1  ...                                 NaN   \n",
       "2  ...                                 NaN   \n",
       "3  ...                                 0.0   \n",
       "4  ...                                 NaN   \n",
       "\n",
       "   CC_NAME_CONTRACT_STATUS_Signed_MEAN  CC_NAME_CONTRACT_STATUS_Signed_SUM  \\\n",
       "0                                  NaN                                 NaN   \n",
       "1                                  NaN                                 NaN   \n",
       "2                                  NaN                                 NaN   \n",
       "3                                  0.0                                 0.0   \n",
       "4                                  NaN                                 NaN   \n",
       "\n",
       "   CC_NAME_CONTRACT_STATUS_Signed_VAR  CC_NAME_CONTRACT_STATUS_nan_MIN  \\\n",
       "0                                 NaN                              NaN   \n",
       "1                                 NaN                              NaN   \n",
       "2                                 NaN                              NaN   \n",
       "3                                 0.0                              0.0   \n",
       "4                                 NaN                              NaN   \n",
       "\n",
       "   CC_NAME_CONTRACT_STATUS_nan_MAX  CC_NAME_CONTRACT_STATUS_nan_MEAN  \\\n",
       "0                              NaN                               NaN   \n",
       "1                              NaN                               NaN   \n",
       "2                              NaN                               NaN   \n",
       "3                              0.0                               0.0   \n",
       "4                              NaN                               NaN   \n",
       "\n",
       "   CC_NAME_CONTRACT_STATUS_nan_SUM  CC_NAME_CONTRACT_STATUS_nan_VAR  CC_COUNT  \n",
       "0                              NaN                              NaN       NaN  \n",
       "1                              NaN                              NaN       NaN  \n",
       "2                              NaN                              NaN       NaN  \n",
       "3                              0.0                              0.0       6.0  \n",
       "4                              NaN                              NaN       NaN  \n",
       "\n",
       "[5 rows x 797 columns]"
      ]
     },
     "execution_count": 8,
     "metadata": {},
     "output_type": "execute_result"
    }
   ],
   "source": [
    "df.head()"
   ]
  },
  {
   "cell_type": "code",
   "execution_count": 9,
   "id": "4c976361-d20b-4524-8e90-1216ea16d730",
   "metadata": {},
   "outputs": [
    {
     "data": {
      "text/plain": [
       "[]"
      ]
     },
     "execution_count": 9,
     "metadata": {},
     "output_type": "execute_result"
    }
   ],
   "source": [
    "df.select_dtypes(include=[\"object\"]).columns.tolist()"
   ]
  },
  {
   "cell_type": "markdown",
   "id": "3c1d9b87-1c33-4b34-bc51-bd03eead474a",
   "metadata": {
    "tags": []
   },
   "source": [
    "<div class=\"alert alert-block alert-warning\">\n",
    "    <p><b>Observations / Conclusions</b></p>\n",
    "    <ul style=\"list-style-type: square;\">\n",
    "        <li><b>Columns type</b> - All columns are numerics</li>\n",
    "    </ul> \n",
    "</div>"
   ]
  },
  {
   "cell_type": "markdown",
   "id": "151a589c-007e-45c4-8f30-a08abe6d9c0c",
   "metadata": {
    "tags": []
   },
   "source": [
    "<div style=\"background-color: #506AB9;\" >\n",
    "    <h4 style=\"margin: auto; padding: 20px; color:#fff; \">1.2.2. Missing-values</h4>\n",
    "</div>"
   ]
  },
  {
   "cell_type": "markdown",
   "id": "98c5ddd5-d467-4ba6-aae4-628c2f5e4da6",
   "metadata": {},
   "source": [
    "<div class=\"alert alert-block alert-info\">\n",
    "    <p>Before treating the class imbalance in the target, it is necessary to treat the missing-values in all the dataset, to do that, we are going to fill values with SimpleImputer\n",
    "   </p>\n",
    "    <p>Let's start by identifying the features with infinite-values and replace them by missing-values\n",
    "   </p>\n",
    "</div>\n",
    "</div>"
   ]
  },
  {
   "cell_type": "code",
   "execution_count": 10,
   "id": "28242a16-c849-47cd-8112-9c70f3867feb",
   "metadata": {},
   "outputs": [],
   "source": [
    "inf_cols = df.columns.to_series()[np.isinf(df).any()]"
   ]
  },
  {
   "cell_type": "code",
   "execution_count": 11,
   "id": "7c75fa23-35c2-46c9-b696-7cc4ce6b09f0",
   "metadata": {},
   "outputs": [],
   "source": [
    "for col in inf_cols:\n",
    "    df[col] = df[col].replace([np.inf, -np.inf], np.nan)"
   ]
  },
  {
   "cell_type": "code",
   "execution_count": 12,
   "id": "a24dcacd-7890-455a-b0c4-8412e5bacd87",
   "metadata": {},
   "outputs": [
    {
     "name": "stdout",
     "output_type": "stream",
     "text": [
      "\n",
      "Analysis Header of df dataset\n",
      "--------------------------------------------------------------------------------\n",
      "- Dataset shape:\t\t\t 356251 rows and 797 columns\n",
      "- Total of NaN values:\t\t\t 72100002\n",
      "- Percentage of NaN:\t\t\t 25.39 %\n",
      "- Total of infinite values:\t\t 0\n",
      "- Percentage of infinite values:\t 0.0 %\n",
      "- Total of full duplicates rows:\t 0\n",
      "- Total of empty rows:\t\t\t 0\n",
      "- Total of empty columns:\t\t 0\n",
      "- Unique indexes:\t\t\t True\n",
      "- Memory usage:\t\t\t\t 941.8 MB\n"
     ]
    }
   ],
   "source": [
    "df_analysis(df, \"df\", analysis_type=\"header\")"
   ]
  },
  {
   "cell_type": "markdown",
   "id": "cb5aaa67-c37d-4f58-9134-0c7c4f3e87c2",
   "metadata": {},
   "source": [
    "<div class=\"alert alert-block alert-info\">\n",
    "    <p>Let's continue by identifying the features with missing-values and excluding the TARGET\n",
    "   </p>\n",
    "</div>\n",
    "</div>"
   ]
  },
  {
   "cell_type": "code",
   "execution_count": 13,
   "id": "7ff4cd72-ecae-4c69-af5e-0fe411beb586",
   "metadata": {},
   "outputs": [],
   "source": [
    "nan_cols = [i for i in df.columns if i!=\"TARGET\" and df[i].isnull().any()]"
   ]
  },
  {
   "cell_type": "code",
   "execution_count": 14,
   "id": "7bef3993-9920-4c26-bff9-0ccfbee30a13",
   "metadata": {},
   "outputs": [],
   "source": [
    "for col in nan_cols:\n",
    "    mean_value = df[col].mean()\n",
    "    df[col].fillna(value=mean_value, inplace=True)"
   ]
  },
  {
   "cell_type": "code",
   "execution_count": 15,
   "id": "e464dfbf-f109-4d7e-961b-fc265d3f4b1b",
   "metadata": {},
   "outputs": [
    {
     "name": "stdout",
     "output_type": "stream",
     "text": [
      "\n",
      "Analysis Header of df dataset\n",
      "--------------------------------------------------------------------------------\n",
      "- Dataset shape:\t\t\t 356251 rows and 797 columns\n",
      "- Total of NaN values:\t\t\t 48744\n",
      "- Percentage of NaN:\t\t\t 0.02 %\n",
      "- Total of infinite values:\t\t 0\n",
      "- Percentage of infinite values:\t 0.0 %\n",
      "- Total of full duplicates rows:\t 0\n",
      "- Total of empty rows:\t\t\t 0\n",
      "- Total of empty columns:\t\t 0\n",
      "- Unique indexes:\t\t\t True\n",
      "- Memory usage:\t\t\t\t 941.8 MB\n"
     ]
    }
   ],
   "source": [
    "df_analysis(df, \"df\", analysis_type=\"header\")"
   ]
  },
  {
   "cell_type": "code",
   "execution_count": 16,
   "id": "25f6a1f9-6516-45fa-9b54-f1aacdf808ef",
   "metadata": {},
   "outputs": [],
   "source": [
    "# saving the optimized dataset \n",
    "df.to_csv(\"datasets\\df_optimized.csv\", index=False)"
   ]
  },
  {
   "cell_type": "markdown",
   "id": "43458410-f008-4855-85c4-0bd8fe1875e8",
   "metadata": {},
   "source": [
    "<div class=\"alert alert-block alert-success\">\n",
    "    <p>At this point, TARGET is the only column with missing-values</p>\n",
    "</div>"
   ]
  },
  {
   "cell_type": "markdown",
   "id": "959a2229-1cba-49c2-987b-c9fba1117f0e",
   "metadata": {},
   "source": [
    "<div class=\"alert alert-block alert-info\">\n",
    "    <p>Let's save the customers that we are going to predict</p>\n",
    "</div>"
   ]
  },
  {
   "cell_type": "code",
   "execution_count": 2,
   "id": "a90dc963-d46b-4a20-a114-ee273f76785b",
   "metadata": {
    "tags": []
   },
   "outputs": [],
   "source": [
    "df = pd.read_csv(r\"datasets\\df_processed.csv\")\n",
    "df = df.drop(columns=[\"index\"])"
   ]
  },
  {
   "cell_type": "code",
   "execution_count": null,
   "id": "461cf6a8-965f-4253-acf2-127e9442c71b",
   "metadata": {},
   "outputs": [],
   "source": []
  },
  {
   "cell_type": "code",
   "execution_count": 68,
   "id": "e2581388-571d-460a-bfaf-554af50c326a",
   "metadata": {},
   "outputs": [],
   "source": [
    "df_customers_to_predict = df[df[\"TARGET\"].isnull()]"
   ]
  },
  {
   "cell_type": "code",
   "execution_count": 69,
   "id": "cbe83e23-a81b-4aef-81a5-41e68f1c5d7c",
   "metadata": {},
   "outputs": [
    {
     "name": "stdout",
     "output_type": "stream",
     "text": [
      "The df_customers_to_predict dataset is empty. Please verify the file.\n"
     ]
    }
   ],
   "source": [
    "df_analysis(df_customers_to_predict, \"df_customers_to_predict\", analysis_type=\"header\")"
   ]
  },
  {
   "cell_type": "code",
   "execution_count": 70,
   "id": "8dcda081-e02a-49bb-8e4e-57349305bbe8",
   "metadata": {},
   "outputs": [],
   "source": [
    "# dropping TARGET feature\n",
    "df_customers_to_predict = df_customers_to_predict.drop(columns=[\"TARGET\"])"
   ]
  },
  {
   "cell_type": "code",
   "execution_count": 20,
   "id": "2f9f439e-fe7a-40c5-af4a-0569b84cbd46",
   "metadata": {},
   "outputs": [
    {
     "name": "stdout",
     "output_type": "stream",
     "text": [
      "\n",
      "Analysis Header of df_customers_to_predict dataset\n",
      "--------------------------------------------------------------------------------\n",
      "- Dataset shape:\t\t\t 48744 rows and 796 columns\n",
      "- Total of NaN values:\t\t\t 0\n",
      "- Percentage of NaN:\t\t\t 0.0 %\n",
      "- Total of infinite values:\t\t 0\n",
      "- Percentage of infinite values:\t 0.0 %\n",
      "- Total of full duplicates rows:\t 0\n",
      "- Total of empty rows:\t\t\t 0\n",
      "- Total of empty columns:\t\t 0\n",
      "- Unique indexes:\t\t\t True\n",
      "- Memory usage:\t\t\t\t 130.1 MB\n"
     ]
    }
   ],
   "source": [
    "df_analysis(df_customers_to_predict, \"df_customers_to_predict\", analysis_type=\"header\")"
   ]
  },
  {
   "cell_type": "code",
   "execution_count": 21,
   "id": "38c9bdea-24ef-4b18-a31e-5eee33378b45",
   "metadata": {},
   "outputs": [],
   "source": [
    "# saving the optimized dataset \n",
    "df_customers_to_predict.to_csv(\"datasets\\df_customers_to_predict.csv\", index=False)"
   ]
  },
  {
   "cell_type": "markdown",
   "id": "90fe86ef-6cf0-44e9-8dd2-d88c606006e9",
   "metadata": {
    "tags": []
   },
   "source": [
    "<div class=\"alert alert-block alert-info\">\n",
    "    <p>Freeing up memory </p>\n",
    "</div>"
   ]
  },
  {
   "cell_type": "code",
   "execution_count": 22,
   "id": "854f29fc-479b-4102-9414-8428f9fb082d",
   "metadata": {},
   "outputs": [
    {
     "data": {
      "text/plain": [
       "0"
      ]
     },
     "execution_count": 22,
     "metadata": {},
     "output_type": "execute_result"
    }
   ],
   "source": [
    "del df_customers_to_predict\n",
    "gc.collect()"
   ]
  },
  {
   "cell_type": "markdown",
   "id": "6d7b3692-7168-4556-a444-7000fe8cf359",
   "metadata": {
    "tags": []
   },
   "source": [
    "<div style=\"background-color: #506AB9;\" >\n",
    "    <h2 style=\"margin: auto; padding: 20px; color:#fff; \">2. Class Imbalance</h2>\n",
    "</div>"
   ]
  },
  {
   "cell_type": "markdown",
   "id": "4ba6c676-4953-4bb5-9150-73f6ec693656",
   "metadata": {
    "tags": []
   },
   "source": [
    "<div style=\"background-color: #506AB9;\" >\n",
    "    <h3 style=\"margin: auto; padding: 20px; color:#fff; \">2.1. Verifying</h3>\n",
    "</div>"
   ]
  },
  {
   "cell_type": "markdown",
   "id": "22f556a9-7a48-4510-89f1-db14b0193864",
   "metadata": {
    "tags": []
   },
   "source": [
    "<div class=\"alert alert-block alert-info\">\n",
    "    <p>Now, we are going to analyze in details, whether ours target has an imbalanced class\n",
    "   </p>\n",
    "</div>"
   ]
  },
  {
   "cell_type": "code",
   "execution_count": 23,
   "id": "5042332b-fb95-4085-8617-da53e1d0f465",
   "metadata": {},
   "outputs": [],
   "source": [
    "train_df = df[df[\"TARGET\"].notnull()]\n",
    "test_df = df[df[\"TARGET\"].isnull()]"
   ]
  },
  {
   "cell_type": "code",
   "execution_count": 24,
   "id": "10805791-a39f-4947-aca8-b52935178b2c",
   "metadata": {},
   "outputs": [],
   "source": [
    "X = train_df.drop(columns=[\"TARGET\"])"
   ]
  },
  {
   "cell_type": "code",
   "execution_count": 25,
   "id": "60a7674d-a35b-437c-ad4f-8ab7f73aa53d",
   "metadata": {},
   "outputs": [],
   "source": [
    "y = train_df.loc[:,\"TARGET\"]"
   ]
  },
  {
   "cell_type": "code",
   "execution_count": 26,
   "id": "3fe0ccbb-a491-4052-9137-7fe1ff0018f4",
   "metadata": {},
   "outputs": [
    {
     "data": {
      "image/png": "[encoded data removed]",
      "text/plain": [
       "<Figure size 648x360 with 2 Axes>"
      ]
     },
     "metadata": {
      "needs_background": "light"
     },
     "output_type": "display_data"
    }
   ],
   "source": [
    "barplot_and_pie(train_df[\"TARGET\"], \"Target distribution\", \" \")"
   ]
  },
  {
   "cell_type": "markdown",
   "id": "d6d6de84-3c5c-41dd-9448-1d183d0f6dcf",
   "metadata": {
    "tags": []
   },
   "source": [
    "<div class=\"alert alert-block alert-warning\">\n",
    "    <p>Here we can see how much the dataset is imbalanced</p>\n",
    "    <p>It is easily identifying that there are <b>loans that were repaid (0)</b> in comparison of <b>loans that were not repaid (1)</b></p>   \n",
    "</div>"
   ]
  },
  {
   "cell_type": "markdown",
   "id": "e9556c81-dfd5-4fc2-a526-c3f136987135",
   "metadata": {
    "tags": []
   },
   "source": [
    "<div style=\"background-color: #506AB9;\" >\n",
    "    <h3 style=\"margin: auto; padding: 20px; color:#fff; \">2.2. Smote</h3>\n",
    "</div>"
   ]
  },
  {
   "cell_type": "markdown",
   "id": "0af57235-8866-455c-9bd8-6d233eb75afc",
   "metadata": {
    "tags": []
   },
   "source": [
    "<div class=\"alert alert-block alert-info\">\n",
    "    <p>To treat the Imbalanced class, we are going to use a type of data augmentation for the minority class (Oversampling) where new examples can be synthesized from the existing examples and it is referred as the Synthetic Minority Oversampling Technique - SMOTE.</p>\n",
    "<p>Initializing SMOTE</p>\n",
    "</div>"
   ]
  },
  {
   "cell_type": "code",
   "execution_count": 27,
   "id": "1751ce9b-bd95-4da0-a630-d8572ae487fc",
   "metadata": {},
   "outputs": [],
   "source": [
    "smote = SMOTE(sampling_strategy=\"auto\", k_neighbors=5, n_jobs=-1,\n",
    "              random_state=42)"
   ]
  },
  {
   "cell_type": "markdown",
   "id": "4f736573-772a-4c44-ac54-e8a5bcc5dcc5",
   "metadata": {
    "tags": []
   },
   "source": [
    "<div class=\"alert alert-block alert-info\">\n",
    "    <p>Executing SMOTE</p>\n",
    "</div>"
   ]
  },
  {
   "cell_type": "code",
   "execution_count": 28,
   "id": "3d4f553d-b9e8-4559-bd71-0c48359f3dfd",
   "metadata": {},
   "outputs": [],
   "source": [
    "X_resampled, y_resampled = smote.fit_resample(X, y)"
   ]
  },
  {
   "cell_type": "markdown",
   "id": "c22de8f3-2f74-4df6-a204-6548c9e2f5ee",
   "metadata": {
    "tags": []
   },
   "source": [
    "<div class=\"alert alert-block alert-info\">\n",
    "    <p>Finally, we can see the results</p>\n",
    "</div>"
   ]
  },
  {
   "cell_type": "code",
   "execution_count": 29,
   "id": "69cd5ce7-06c3-48c4-94a2-513ff782bff3",
   "metadata": {},
   "outputs": [
    {
     "data": {
      "image/png": "[encoded data removed]",
      "text/plain": [
       "<Figure size 648x360 with 2 Axes>"
      ]
     },
     "metadata": {
      "needs_background": "light"
     },
     "output_type": "display_data"
    }
   ],
   "source": [
    "barplot_and_pie(y_resampled, \"Target distribution\", \" \")"
   ]
  },
  {
   "cell_type": "markdown",
   "id": "71f90b4c-0cc7-460e-9034-b33024d428e1",
   "metadata": {
    "tags": []
   },
   "source": [
    "<div class=\"alert alert-block alert-success\">\n",
    "    <p>Now, we have the Target balanced</p>\n",
    "</div>"
   ]
  },
  {
   "cell_type": "markdown",
   "id": "1b5be0a5-5156-4549-b144-c2f9cf2b012b",
   "metadata": {
    "tags": []
   },
   "source": [
    "<div style=\"background-color: #506AB9;\" >\n",
    "    <h3 style=\"margin: auto; padding: 20px; color:#fff; \">2.4. Rebuild the dataset</h3>\n",
    "</div>"
   ]
  },
  {
   "cell_type": "markdown",
   "id": "bca5ca60-59a0-488f-9ec6-075703f1dae6",
   "metadata": {
    "tags": []
   },
   "source": [
    "<div class=\"alert alert-block alert-info\">\n",
    "    <p>Creating series with attributes</p>\n",
    "</div>"
   ]
  },
  {
   "cell_type": "code",
   "execution_count": 30,
   "id": "4e28a37d-71cb-43b7-9153-b4f8721e4548",
   "metadata": {},
   "outputs": [],
   "source": [
    "y_resampled  = pd.Series(y_resampled, name=\"TARGET\")"
   ]
  },
  {
   "cell_type": "markdown",
   "id": "00b614ab-e29f-410f-8051-c026e1395e84",
   "metadata": {
    "tags": []
   },
   "source": [
    "<div class=\"alert alert-block alert-info\">\n",
    "    <p>Merging result dataset with result series</p>\n",
    "</div>"
   ]
  },
  {
   "cell_type": "code",
   "execution_count": 31,
   "id": "f5351baa-4184-4543-a556-77bfe2f0829e",
   "metadata": {},
   "outputs": [],
   "source": [
    "df_resampled = X_resampled.merge(y_resampled, left_index=True, right_index=True)"
   ]
  },
  {
   "cell_type": "code",
   "execution_count": 32,
   "id": "b61d09d3-3da7-411b-a0c9-871a69a35c6d",
   "metadata": {},
   "outputs": [
    {
     "name": "stdout",
     "output_type": "stream",
     "text": [
      "\n",
      "Analysis Header of df_resampled dataset\n",
      "--------------------------------------------------------------------------------\n",
      "- Dataset shape:\t\t\t 565364 rows and 797 columns\n",
      "- Total of NaN values:\t\t\t 0\n",
      "- Percentage of NaN:\t\t\t 0.0 %\n",
      "- Total of infinite values:\t\t 0\n",
      "- Percentage of infinite values:\t 0.0 %\n",
      "- Total of full duplicates rows:\t 0\n",
      "- Total of empty rows:\t\t\t 0\n",
      "- Total of empty columns:\t\t 0\n",
      "- Unique indexes:\t\t\t True\n",
      "- Memory usage:\t\t\t\t 1.5 GB\n"
     ]
    }
   ],
   "source": [
    "df_analysis(df_resampled, \"df_resampled\", analysis_type=\"header\")"
   ]
  },
  {
   "cell_type": "code",
   "execution_count": 33,
   "id": "2c66ec6b-f461-41e9-aa2b-5a6f1e8943d6",
   "metadata": {},
   "outputs": [],
   "source": [
    "# saving the resampled dataset \n",
    "df_resampled.to_csv(\"datasets\\df_resampled.csv\", index=False)"
   ]
  },
  {
   "cell_type": "markdown",
   "id": "dfb84114-aede-4961-a72e-5257b2146886",
   "metadata": {
    "tags": []
   },
   "source": [
    "<div class=\"alert alert-block alert-info\">\n",
    "    <p>Freeing up memory </p>\n",
    "</div>"
   ]
  },
  {
   "cell_type": "code",
   "execution_count": 34,
   "id": "6102aeaf-3e3f-4722-bb08-dca328c0393b",
   "metadata": {},
   "outputs": [
    {
     "data": {
      "text/plain": [
       "0"
      ]
     },
     "execution_count": 34,
     "metadata": {},
     "output_type": "execute_result"
    }
   ],
   "source": [
    "del df, train_df, test_df, X, y, X_resampled, y_resampled\n",
    "gc.collect()"
   ]
  },
  {
   "cell_type": "markdown",
   "id": "7ad2b17d-c82a-442f-8fd9-e071875a7d9d",
   "metadata": {
    "tags": []
   },
   "source": [
    "<div class=\"alert alert-block alert-success\">\n",
    "    <p><b>Observations / Conclusions</b></p>\n",
    "    <p>At this point we have the following dataset.</p>\n",
    "    <ul style=\"list-style-type: square;\">\n",
    "        <li><b>df_resampled</b>: that is balanced after treating it through SMOTE and shape 565364 x 797</li>\n",
    "    </ul> \n",
    "</div>"
   ]
  },
  {
   "cell_type": "markdown",
   "id": "44f4971d-c73b-4740-992b-57f5bac34181",
   "metadata": {
    "tags": []
   },
   "source": [
    "<div style=\"background-color: #506AB9;\" >\n",
    "    <h2 style=\"margin: auto; padding: 20px; color:#fff; \">3. Optimization</h2>\n",
    "</div>"
   ]
  },
  {
   "cell_type": "markdown",
   "id": "02af96c7-92f9-4237-86ad-a2e09de5e651",
   "metadata": {
    "tags": []
   },
   "source": [
    "<div class=\"alert alert-block alert-info\">\n",
    "    <p>Now, we are going to use a <b>Custom Score</b> and <b>Hyperopt</b> to get the best result to set the model </p>\n",
    "</div>"
   ]
  },
  {
   "cell_type": "markdown",
   "id": "65edec22-2c38-4888-bac1-afdb1d82affd",
   "metadata": {
    "tags": []
   },
   "source": [
    "<div style=\"background-color: #506AB9;\" >\n",
    "    <h3 style=\"margin: auto; padding: 20px; color:#fff; \">3.1. Custom Score</h3>\n",
    "</div>"
   ]
  },
  {
   "cell_type": "markdown",
   "id": "5252fb83-6e15-453d-9ce0-4b23618fe55a",
   "metadata": {
    "tags": []
   },
   "source": [
    "<div class=\"alert alert-block alert-info\">\n",
    "    <p>In the <b>Custom Score</b>, we are going to penalize the <b>False Negative</b> that are loands <b>will be in default</b>, and they were <b>predicted incorrectly</b></p>\n",
    "</div>"
   ]
  },
  {
   "cell_type": "code",
   "execution_count": 35,
   "id": "f57501f2-3eb9-4bcb-a6ff-12ba5af2bc9a",
   "metadata": {},
   "outputs": [],
   "source": [
    "def custom_score(y_true, y_pred):\n",
    "    \"\"\"\n",
    "    Method used to calculate a score based on the penalization of False Negatives.\n",
    "\n",
    "    Parameters:\n",
    "    -----------------\n",
    "        y_true (series): True values\n",
    "        y_pred (series): Predicted values\n",
    "        \n",
    "    Returns:\n",
    "    -----------------\n",
    "        Score. (float): Score obtained based on the rules defined to measure. \n",
    "    \"\"\"\n",
    "    \n",
    "    # Getting the probability outputs from \"predict_proba\"\n",
    "    threshold = 0.5\n",
    "    y_pred = (y_pred >= threshold).astype(int)\n",
    "    \n",
    "    TN_rate = 1        # Loans that are not in default and were predicted correctly\n",
    "    TP_rate = 1        # Loans that are in default and were predicted correctly\n",
    "    FP_rate = 0        # Loans that are not in default and were predicted incorrectly\n",
    "    FN_rate = -10      # Loans that are in default and were were predicted incorrectly\n",
    "    \n",
    "    # Getting all values based on confusion matrix\n",
    "    (TN, FP, FN, TP) = confusion_matrix(y_true, y_pred).ravel()\n",
    "\n",
    "    # Total of default and not default cases\n",
    "    total_not_default = TN + FP     # Not default cases\n",
    "    total_default = TP + FN         # Default cases \n",
    "    \n",
    "    gain_total = TN*TN_rate + TP*TP_rate + FP*FP_rate + FN*FN_rate\n",
    "    gain_maximun = total_not_default*TN_rate + total_default*TP_rate\n",
    "    gain_minumun = total_not_default*TN_rate + total_default*FN_rate\n",
    "    \n",
    "    # normalize to get score between 0 (baseline) and 1\n",
    "    score = (gain_total - gain_minumun) / (gain_maximun - gain_minumun)\n",
    "    \n",
    "    return score"
   ]
  },
  {
   "cell_type": "markdown",
   "id": "ec92390c-1876-48c6-a2e4-8e90a14d8ee2",
   "metadata": {
    "tags": []
   },
   "source": [
    "<div style=\"background-color: #506AB9;\" >\n",
    "    <h3 style=\"margin: auto; padding: 20px; color:#fff; \">3.2. Model optimiztion</h3>\n",
    "</div>"
   ]
  },
  {
   "cell_type": "markdown",
   "id": "b59f6309-ff04-4535-9283-e93e5b3df6c6",
   "metadata": {
    "tags": []
   },
   "source": [
    "<div class=\"alert alert-block alert-info\">\n",
    "    <p>Let's define the parameters</p>\n",
    "</div>"
   ]
  },
  {
   "cell_type": "code",
   "execution_count": 36,
   "id": "6faf3980-132a-4ec8-b9d8-eae66641b532",
   "metadata": {},
   "outputs": [],
   "source": [
    "N_ESTIMATORS = [8000, 10000, 12000]\n",
    "NUM_LEAVES = [32, 34, 36]\n",
    "MAX_DEPTH = [7, 8, 9]"
   ]
  },
  {
   "cell_type": "code",
   "execution_count": 37,
   "id": "e7683875-9c85-42a4-9e34-54e74608a5f5",
   "metadata": {
    "tags": []
   },
   "outputs": [],
   "source": [
    "space_params = {\n",
    "    \"n_estimators\" : hp.choice(\"n_estimators\", N_ESTIMATORS),\n",
    "    \"learning_rate\" :  hp.uniform(\"learning_rate\", 0.002, 0.003),\n",
    "    \"num_leaves\" :  hp.choice(\"num_leaves\", NUM_LEAVES),\n",
    "    \"max_depth\" : hp.choice(\"max_depth\", MAX_DEPTH),\n",
    "    \"reg_alpha\" : hp.uniform(\"reg_alpha\", 0.041545473, 0.051),\n",
    "    \"reg_lambda\" : hp.uniform(\"reg_lambda\", 0.0735294, 0.0835294),\n",
    "    \"min_split_gain\" : hp.uniform(\"min_split_gain\", 0.0222415, 0.0322415),\n",
    "    \"min_child_weight\" : hp.uniform(\"min_child_weight\", 39.3259775, 49)\n",
    "}"
   ]
  },
  {
   "cell_type": "markdown",
   "id": "a564e380-8436-4356-8be1-fb0b433d2104",
   "metadata": {
    "tags": []
   },
   "source": [
    "<div class=\"alert alert-block alert-info\">\n",
    "    <p>Now, we can define our objective function</p>\n",
    "    <p>To do that, we are going to consider the following</p>\n",
    "    <ul style=\"list-style-type: square;\">\n",
    "        <li><b>StandardScaler</b> to manage all data in the same scale</li>\n",
    "        <li><b>colsample_bytree and subsample</b> with 80% of data, to improve the execution time</li>\n",
    "        <li><b>n_splits</b> with 2 to improve the execution time</li>\n",
    "        <li><b>is_unbalance</b> with False because it is a balanced dataset</li>\n",
    "    </ul> \n",
    "</div>"
   ]
  },
  {
   "cell_type": "code",
   "execution_count": 38,
   "id": "0d469c46-c176-4e49-adfd-324179303c30",
   "metadata": {},
   "outputs": [],
   "source": [
    "def hyperparameter_tuning(space_params, df, imbalanced, n_splits):\n",
    "    \"\"\"\n",
    "    Method used to analyze on the DataFrame.\n",
    "\n",
    "    Parameters:\n",
    "    -----------------\n",
    "        space_params (dict): Parameters to optimize the model\n",
    "        df (pandas.DataFrame): Dataset to treat\n",
    "        imbalanced (boolean): Define whether dataset is unbalanced\n",
    "        n_splits (int): To split data in train test sets\n",
    "\n",
    "    Returns:\n",
    "    -----------------\n",
    "        Loss and STATUS.\n",
    "    \"\"\"\n",
    "    \n",
    "    # Formatting columns name\n",
    "    df = df.rename(columns=lambda x:re.sub(\"[^A-Za-z0-9_]+\", \"\", x))\n",
    "    df_lgbm = df.copy()\n",
    "    \n",
    "    scaler = StandardScaler()\n",
    "    \n",
    "    # Divide in training/validation and test data\n",
    "    train_df = df_lgbm[df_lgbm[\"TARGET\"].notnull()]\n",
    "    \n",
    "    # Freeing up memory\n",
    "    del df, df_lgbm\n",
    "    gc.collect()\n",
    "    \n",
    "    # Cross validation model\n",
    "    folds = KFold(n_splits=n_splits, shuffle=True, random_state=42)\n",
    "    \n",
    "    # Create arrays and dataframes to store results\n",
    "    oof_preds = np.zeros(train_df.shape[0])\n",
    "    feats = [f for f in train_df.columns if f not in [\"TARGET\", \"SK_ID_CURR\", \"SK_ID_BUREAU\", \"SK_ID_PREV\"]]\n",
    "    \n",
    "    for n_fold, (train_idx, valid_idx) in enumerate(folds.split(train_df[feats], train_df[\"TARGET\"])):\n",
    "        \n",
    "        print(\"\\n\")\n",
    "        \n",
    "        train_x, train_y = train_df[feats].iloc[train_idx], train_df[\"TARGET\"].iloc[train_idx]\n",
    "        valid_x, valid_y = train_df[feats].iloc[valid_idx], train_df[\"TARGET\"].iloc[valid_idx]\n",
    "    \n",
    "        train_x_scaled = scaler.fit_transform(train_x)\n",
    "        valid_x_scaled = scaler.fit_transform(valid_x)\n",
    "        \n",
    "        # LightGBM parameters found by Bayesian optimization\n",
    "        clf = LGBMClassifier(\n",
    "            **space_params,\n",
    "            colsample_bytree=0.8, \n",
    "            subsample=0.8,\n",
    "            is_unbalance=imbalanced,\n",
    "            n_jobs=-1 \n",
    "        )\n",
    "        \n",
    "        evaluation = [(train_x_scaled, train_y), (valid_x_scaled, valid_y)]\n",
    "        \n",
    "        clf.fit(train_x_scaled, train_y, eval_set=evaluation, eval_metric=\"auc\",\n",
    "                callbacks=[lgb.early_stopping(stopping_rounds=200),\n",
    "                          lgb.log_evaluation(period=-1)])\n",
    "        \n",
    "        oof_preds[valid_idx] = clf.predict_proba(valid_x_scaled, num_iteration=clf.best_iteration_)[:, 1]\n",
    "        \n",
    "        del clf, train_x, train_x_scaled, train_y, valid_x, valid_x_scaled, valid_y\n",
    "        gc.collect()\n",
    "    \n",
    "    auc = roc_auc_score(train_df[\"TARGET\"], oof_preds)\n",
    "    print(\">> ROC-AUC Score %.6f\" % auc )\n",
    "    \n",
    "    cs = custom_score(train_df[\"TARGET\"], oof_preds)\n",
    "    print(\">> Custom Score %.6f\\n\" % cs )\n",
    "          \n",
    "    return { \"loss\": -auc, \"status\": STATUS_OK } "
   ]
  },
  {
   "cell_type": "markdown",
   "id": "f99674b3-8696-41b8-b0f8-d9e57b84025d",
   "metadata": {
    "tags": []
   },
   "source": [
    "<div style=\"background-color: #506AB9;\" >\n",
    "    <h3 style=\"margin: auto; padding: 20px; color:#fff; \">3.3. Balanced dataset modelisation</h3>\n",
    "</div>"
   ]
  },
  {
   "cell_type": "markdown",
   "id": "0c7f1c8c-b3fd-4d15-8ec1-0afc194bf9ac",
   "metadata": {
    "tags": []
   },
   "source": [
    "<div class=\"alert alert-block alert-info\">\n",
    "    <p>Finally, we are going to optimize the model with the <b>balanced</b> dataset</p>\n",
    "</div>"
   ]
  },
  {
   "cell_type": "code",
   "execution_count": 39,
   "id": "e5addc3f-b138-4047-acf8-27edef5e2ad8",
   "metadata": {},
   "outputs": [],
   "source": [
    "fmin_objective = partial(hyperparameter_tuning, \n",
    "                         df=df_resampled, imbalanced=False,\n",
    "                         n_splits=2)"
   ]
  },
  {
   "cell_type": "code",
   "execution_count": 40,
   "id": "e3ee90ab-d5f7-4a27-bdcc-98947f136457",
   "metadata": {
    "tags": []
   },
   "outputs": [
    {
     "name": "stdout",
     "output_type": "stream",
     "text": [
      "Training until validation scores don't improve for 200 rounds                                                          \n",
      "Early stopping, best iteration is:                                                                                     \n",
      "[393]\ttraining's auc: 0.968524\ttraining's binary_logloss: 0.401276\tvalid_1's auc: 0.904138\tvalid_1's binary_logloss: 0.586871\n",
      "Training until validation scores don't improve for 200 rounds                                                          \n",
      "Early stopping, best iteration is:                                                                                     \n",
      "[467]\ttraining's auc: 0.970053\ttraining's binary_logloss: 0.371992\tvalid_1's auc: 0.903075\tvalid_1's binary_logloss: 0.56827\n",
      ">> ROC-AUC Score 0.903075                                                                                              \n",
      ">> Custom Score 0.913203                                                                                               \n",
      "\n",
      "Training until validation scores don't improve for 200 rounds                                                          \n",
      "Early stopping, best iteration is:                                                                                     \n",
      "[350]\ttraining's auc: 0.969245\ttraining's binary_logloss: 0.39199\tvalid_1's auc: 0.903076\tvalid_1's binary_logloss: 0.585665\n",
      "Training until validation scores don't improve for 200 rounds                                                          \n",
      "Early stopping, best iteration is:                                                                                     \n",
      "[426]\ttraining's auc: 0.970809\ttraining's binary_logloss: 0.358043\tvalid_1's auc: 0.907431\tvalid_1's binary_logloss: 0.562021\n",
      ">> ROC-AUC Score 0.904728                                                                                              \n",
      ">> Custom Score 0.913482                                                                                               \n",
      "\n",
      "Training until validation scores don't improve for 200 rounds                                                          \n",
      "Early stopping, best iteration is:                                                                                     \n",
      "[336]\ttraining's auc: 0.968245\ttraining's binary_logloss: 0.406479\tvalid_1's auc: 0.906944\tvalid_1's binary_logloss: 0.592749\n",
      "Training until validation scores don't improve for 200 rounds                                                          \n",
      "Early stopping, best iteration is:                                                                                     \n",
      "[403]\ttraining's auc: 0.969964\ttraining's binary_logloss: 0.375483\tvalid_1's auc: 0.904236\tvalid_1's binary_logloss: 0.590224\n",
      ">> ROC-AUC Score 0.904345                                                                                              \n",
      ">> Custom Score 0.916247                                                                                               \n",
      "\n",
      "Training until validation scores don't improve for 200 rounds                                                          \n",
      "Early stopping, best iteration is:                                                                                     \n",
      "[405]\ttraining's auc: 0.968805\ttraining's binary_logloss: 0.397945\tvalid_1's auc: 0.903958\tvalid_1's binary_logloss: 0.582001\n",
      "Training until validation scores don't improve for 200 rounds                                                          \n",
      "Early stopping, best iteration is:                                                                                     \n",
      "[519]\ttraining's auc: 0.970923\ttraining's binary_logloss: 0.355143\tvalid_1's auc: 0.906815\tvalid_1's binary_logloss: 0.566939\n",
      ">> ROC-AUC Score 0.903433                                                                                              \n",
      ">> Custom Score 0.913186                                                                                               \n",
      "\n",
      "Training until validation scores don't improve for 200 rounds                                                          \n",
      "Early stopping, best iteration is:                                                                                     \n",
      "[466]\ttraining's auc: 0.967796\ttraining's binary_logloss: 0.409919\tvalid_1's auc: 0.905565\tvalid_1's binary_logloss: 0.59038\n",
      "Training until validation scores don't improve for 200 rounds                                                          \n",
      "Early stopping, best iteration is:                                                                                     \n",
      "[558]\ttraining's auc: 0.96946\ttraining's binary_logloss: 0.379436\tvalid_1's auc: 0.901408\tvalid_1's binary_logloss: 0.581202\n",
      ">> ROC-AUC Score 0.902358                                                                                              \n",
      ">> Custom Score 0.914922                                                                                               \n",
      "\n",
      "Training until validation scores don't improve for 200 rounds                                                          \n",
      "Early stopping, best iteration is:                                                                                     \n",
      "[391]\ttraining's auc: 0.967432\ttraining's binary_logloss: 0.415511\tvalid_1's auc: 0.904662\tvalid_1's binary_logloss: 0.589737\n",
      "Training until validation scores don't improve for 200 rounds                                                          \n",
      "Early stopping, best iteration is:                                                                                     \n",
      "[489]\ttraining's auc: 0.969625\ttraining's binary_logloss: 0.377093\tvalid_1's auc: 0.905171\tvalid_1's binary_logloss: 0.576905\n",
      ">> ROC-AUC Score 0.903223                                                                                              \n",
      ">> Custom Score 0.914586                                                                                               \n",
      "\n",
      "Training until validation scores don't improve for 200 rounds                                                          \n",
      "Early stopping, best iteration is:                                                                                     \n",
      "[334]\ttraining's auc: 0.968135\ttraining's binary_logloss: 0.409055\tvalid_1's auc: 0.906636\tvalid_1's binary_logloss: 0.593248\n",
      "Training until validation scores don't improve for 200 rounds                                                          \n",
      "Early stopping, best iteration is:                                                                                     \n",
      "[419]\ttraining's auc: 0.970259\ttraining's binary_logloss: 0.369928\tvalid_1's auc: 0.907014\tvalid_1's binary_logloss: 0.590477\n",
      ">> ROC-AUC Score 0.904506                                                                                              \n",
      ">> Custom Score 0.916670                                                                                               \n",
      "\n",
      "Training until validation scores don't improve for 200 rounds                                                          \n",
      "Early stopping, best iteration is:                                                                                     \n",
      "[405]\ttraining's auc: 0.968655\ttraining's binary_logloss: 0.402793\tvalid_1's auc: 0.905495\tvalid_1's binary_logloss: 0.587602\n",
      "Training until validation scores don't improve for 200 rounds                                                          \n",
      "Early stopping, best iteration is:                                                                                     \n",
      "[502]\ttraining's auc: 0.970447\ttraining's binary_logloss: 0.366145\tvalid_1's auc: 0.904439\tvalid_1's binary_logloss: 0.572524\n",
      ">> ROC-AUC Score 0.903454                                                                                              \n",
      ">> Custom Score 0.914006                                                                                               \n",
      "\n",
      "Training until validation scores don't improve for 200 rounds                                                          \n",
      "Early stopping, best iteration is:                                                                                     \n",
      "[405]\ttraining's auc: 0.968709\ttraining's binary_logloss: 0.396772\tvalid_1's auc: 0.906117\tvalid_1's binary_logloss: 0.585257\n",
      "Training until validation scores don't improve for 200 rounds                                                          \n",
      "Early stopping, best iteration is:                                                                                     \n",
      "[465]\ttraining's auc: 0.970006\ttraining's binary_logloss: 0.372789\tvalid_1's auc: 0.903494\tvalid_1's binary_logloss: 0.567999\n",
      ">> ROC-AUC Score 0.904587                                                                                              \n",
      ">> Custom Score 0.913203                                                                                               \n",
      "\n",
      "Training until validation scores don't improve for 200 rounds                                                          \n",
      "Early stopping, best iteration is:                                                                                     \n",
      "[357]\ttraining's auc: 0.96857\ttraining's binary_logloss: 0.400989\tvalid_1's auc: 0.904409\tvalid_1's binary_logloss: 0.584638\n",
      "Training until validation scores don't improve for 200 rounds                                                          \n",
      "Early stopping, best iteration is:                                                                                     \n",
      "[445]\ttraining's auc: 0.970488\ttraining's binary_logloss: 0.363392\tvalid_1's auc: 0.907524\tvalid_1's binary_logloss: 0.565839\n",
      ">> ROC-AUC Score 0.905005                                                                                              \n",
      ">> Custom Score 0.913933                                                                                               \n",
      "\n",
      "Training until validation scores don't improve for 200 rounds                                                          \n",
      "Early stopping, best iteration is:                                                                                     \n",
      "[404]\ttraining's auc: 0.969255\ttraining's binary_logloss: 0.384521\tvalid_1's auc: 0.904482\tvalid_1's binary_logloss: 0.581512\n",
      "Training until validation scores don't improve for 200 rounds                                                          \n",
      "Early stopping, best iteration is:                                                                                     \n",
      "[461]\ttraining's auc: 0.970496\ttraining's binary_logloss: 0.361662\tvalid_1's auc: 0.906108\tvalid_1's binary_logloss: 0.563001\n",
      ">> ROC-AUC Score 0.905149                                                                                              \n",
      ">> Custom Score 0.913085                                                                                               \n",
      "\n",
      "Training until validation scores don't improve for 200 rounds                                                          \n",
      "Early stopping, best iteration is:                                                                                     \n",
      "[449]\ttraining's auc: 0.967371\ttraining's binary_logloss: 0.415942\tvalid_1's auc: 0.904265\tvalid_1's binary_logloss: 0.591351\n",
      "Training until validation scores don't improve for 200 rounds                                                          \n",
      "Early stopping, best iteration is:                                                                                     \n",
      "[547]\ttraining's auc: 0.969266\ttraining's binary_logloss: 0.38307\tvalid_1's auc: 0.89976\tvalid_1's binary_logloss: 0.585484\n",
      ">> ROC-AUC Score 0.900123                                                                                              \n",
      ">> Custom Score 0.914779                                                                                               \n",
      "\n",
      "Training until validation scores don't improve for 200 rounds                                                          \n",
      "Early stopping, best iteration is:                                                                                     \n",
      "[429]\ttraining's auc: 0.967965\ttraining's binary_logloss: 0.409841\tvalid_1's auc: 0.905406\tvalid_1's binary_logloss: 0.59313\n",
      "Training until validation scores don't improve for 200 rounds                                                          \n",
      "Early stopping, best iteration is:                                                                                     \n",
      "[510]\ttraining's auc: 0.969301\ttraining's binary_logloss: 0.381436\tvalid_1's auc: 0.900389\tvalid_1's binary_logloss: 0.585712\n",
      ">> ROC-AUC Score 0.901769                                                                                              \n",
      ">> Custom Score 0.915289                                                                                               \n",
      "\n",
      "Training until validation scores don't improve for 200 rounds                                                          \n",
      "Early stopping, best iteration is:                                                                                     \n",
      "[465]\ttraining's auc: 0.969917\ttraining's binary_logloss: 0.379557\tvalid_1's auc: 0.908908\tvalid_1's binary_logloss: 0.583484\n",
      "Training until validation scores don't improve for 200 rounds                                                          \n",
      "Early stopping, best iteration is:                                                                                     \n",
      "[518]\ttraining's auc: 0.970661\ttraining's binary_logloss: 0.361555\tvalid_1's auc: 0.904142\tvalid_1's binary_logloss: 0.570284\n",
      ">> ROC-AUC Score 0.906353                                                                                              \n",
      ">> Custom Score 0.913941                                                                                               \n",
      "\n",
      "Training until validation scores don't improve for 200 rounds                                                          \n",
      "Early stopping, best iteration is:                                                                                     \n",
      "[391]\ttraining's auc: 0.96927\ttraining's binary_logloss: 0.383889\tvalid_1's auc: 0.903512\tvalid_1's binary_logloss: 0.582111\n",
      "Training until validation scores don't improve for 200 rounds                                                          \n",
      "Early stopping, best iteration is:                                                                                     \n",
      "[446]\ttraining's auc: 0.970423\ttraining's binary_logloss: 0.361555\tvalid_1's auc: 0.905956\tvalid_1's binary_logloss: 0.561032\n",
      ">> ROC-AUC Score 0.904611                                                                                              \n",
      ">> Custom Score 0.912837                                                                                               \n",
      "\n",
      "Training until validation scores don't improve for 200 rounds                                                          \n",
      "Early stopping, best iteration is:                                                                                     \n",
      "[404]\ttraining's auc: 0.9682\ttraining's binary_logloss: 0.411207\tvalid_1's auc: 0.904696\tvalid_1's binary_logloss: 0.588156\n",
      "Training until validation scores don't improve for 200 rounds                                                          \n",
      "Early stopping, best iteration is:                                                                                     \n",
      "[509]\ttraining's auc: 0.970086\ttraining's binary_logloss: 0.37175\tvalid_1's auc: 0.903339\tvalid_1's binary_logloss: 0.572236\n",
      ">> ROC-AUC Score 0.902049                                                                                              \n",
      ">> Custom Score 0.913257                                                                                               \n",
      "\n",
      "Training until validation scores don't improve for 200 rounds                                                          \n",
      "Early stopping, best iteration is:                                                                                     \n",
      "[343]\ttraining's auc: 0.968756\ttraining's binary_logloss: 0.402322\tvalid_1's auc: 0.905257\tvalid_1's binary_logloss: 0.585576\n",
      "Training until validation scores don't improve for 200 rounds                                                          \n",
      "Early stopping, best iteration is:                                                                                     \n",
      "[428]\ttraining's auc: 0.970602\ttraining's binary_logloss: 0.364452\tvalid_1's auc: 0.905586\tvalid_1's binary_logloss: 0.573365\n",
      ">> ROC-AUC Score 0.904054                                                                                              \n",
      ">> Custom Score 0.913969                                                                                               \n",
      "\n",
      "Training until validation scores don't improve for 200 rounds                                                          \n",
      "Early stopping, best iteration is:                                                                                     \n",
      "[456]\ttraining's auc: 0.968594\ttraining's binary_logloss: 0.400087\tvalid_1's auc: 0.905604\tvalid_1's binary_logloss: 0.584124\n",
      "Training until validation scores don't improve for 200 rounds                                                          \n",
      "Early stopping, best iteration is:                                                                                     \n",
      "[540]\ttraining's auc: 0.969991\ttraining's binary_logloss: 0.371636\tvalid_1's auc: 0.906285\tvalid_1's binary_logloss: 0.566136\n",
      ">> ROC-AUC Score 0.905584                                                                                              \n",
      ">> Custom Score 0.913184                                                                                               \n",
      "\n",
      "Training until validation scores don't improve for 200 rounds                                                          \n",
      "Early stopping, best iteration is:                                                                                     \n",
      "[346]\ttraining's auc: 0.969125\ttraining's binary_logloss: 0.396149\tvalid_1's auc: 0.905698\tvalid_1's binary_logloss: 0.590554\n",
      "Training until validation scores don't improve for 200 rounds                                                          \n",
      "Early stopping, best iteration is:                                                                                     \n",
      "[424]\ttraining's auc: 0.970889\ttraining's binary_logloss: 0.360516\tvalid_1's auc: 0.905689\tvalid_1's binary_logloss: 0.578219\n",
      ">> ROC-AUC Score 0.904478                                                                                              \n",
      ">> Custom Score 0.915158                                                                                               \n",
      "\n",
      "Training until validation scores don't improve for 200 rounds                                                          \n",
      "Early stopping, best iteration is:                                                                                     \n",
      "[396]\ttraining's auc: 0.967708\ttraining's binary_logloss: 0.410654\tvalid_1's auc: 0.90538\tvalid_1's binary_logloss: 0.594097\n",
      "Training until validation scores don't improve for 200 rounds                                                          \n",
      "Early stopping, best iteration is:                                                                                     \n",
      "[465]\ttraining's auc: 0.969202\ttraining's binary_logloss: 0.383542\tvalid_1's auc: 0.899804\tvalid_1's binary_logloss: 0.584017\n",
      ">> ROC-AUC Score 0.901806                                                                                              \n",
      ">> Custom Score 0.915035                                                                                               \n",
      "\n",
      "Training until validation scores don't improve for 200 rounds                                                          \n",
      "Early stopping, best iteration is:                                                                                     \n",
      "[493]\ttraining's auc: 0.969937\ttraining's binary_logloss: 0.378914\tvalid_1's auc: 0.907755\tvalid_1's binary_logloss: 0.585235\n",
      "Training until validation scores don't improve for 200 rounds                                                          \n",
      "Early stopping, best iteration is:                                                                                     \n",
      "[556]\ttraining's auc: 0.970787\ttraining's binary_logloss: 0.358446\tvalid_1's auc: 0.904924\tvalid_1's binary_logloss: 0.570159\n",
      ">> ROC-AUC Score 0.906142                                                                                              \n",
      ">> Custom Score 0.914239                                                                                               \n",
      "\n",
      "Training until validation scores don't improve for 200 rounds                                                          \n",
      "Early stopping, best iteration is:                                                                                     \n",
      "[445]\ttraining's auc: 0.969452\ttraining's binary_logloss: 0.389185\tvalid_1's auc: 0.905102\tvalid_1's binary_logloss: 0.587142\n",
      "Training until validation scores don't improve for 200 rounds                                                          \n",
      "Early stopping, best iteration is:                                                                                     \n",
      "[531]\ttraining's auc: 0.97074\ttraining's binary_logloss: 0.358984\tvalid_1's auc: 0.905357\tvalid_1's binary_logloss: 0.569454\n",
      ">> ROC-AUC Score 0.904579                                                                                              \n",
      ">> Custom Score 0.913941                                                                                               \n",
      "\n",
      "Training until validation scores don't improve for 200 rounds                                                          \n",
      "Early stopping, best iteration is:                                                                                     \n",
      "[521]\ttraining's auc: 0.969752\ttraining's binary_logloss: 0.384154\tvalid_1's auc: 0.906451\tvalid_1's binary_logloss: 0.58674\n",
      "Training until validation scores don't improve for 200 rounds                                                          \n",
      "Early stopping, best iteration is:                                                                                     \n",
      "[655]\ttraining's auc: 0.97159\ttraining's binary_logloss: 0.343772\tvalid_1's auc: 0.909283\tvalid_1's binary_logloss: 0.569937\n",
      ">> ROC-AUC Score 0.906493                                                                                              \n",
      ">> Custom Score 0.915046                                                                                               \n",
      "\n",
      "Training until validation scores don't improve for 200 rounds                                                          \n",
      "Early stopping, best iteration is:                                                                                     \n",
      "[482]\ttraining's auc: 0.969182\ttraining's binary_logloss: 0.397155\tvalid_1's auc: 0.904778\tvalid_1's binary_logloss: 0.586423\n",
      "Training until validation scores don't improve for 200 rounds                                                          \n",
      "Early stopping, best iteration is:                                                                                     \n",
      "[611]\ttraining's auc: 0.97093\ttraining's binary_logloss: 0.355926\tvalid_1's auc: 0.90646\tvalid_1's binary_logloss: 0.567934\n",
      ">> ROC-AUC Score 0.903768                                                                                              \n",
      ">> Custom Score 0.913746                                                                                               \n",
      "\n",
      "Training until validation scores don't improve for 200 rounds                                                          \n",
      "Early stopping, best iteration is:                                                                                     \n",
      "[499]\ttraining's auc: 0.969337\ttraining's binary_logloss: 0.391939\tvalid_1's auc: 0.9042\tvalid_1's binary_logloss: 0.585169\n",
      "Training until validation scores don't improve for 200 rounds                                                          \n",
      "Early stopping, best iteration is:                                                                                     \n",
      "[644]\ttraining's auc: 0.971361\ttraining's binary_logloss: 0.347165\tvalid_1's auc: 0.909777\tvalid_1's binary_logloss: 0.568976\n",
      ">> ROC-AUC Score 0.905085                                                                                              \n",
      ">> Custom Score 0.914296                                                                                               \n",
      "\n",
      "Training until validation scores don't improve for 200 rounds                                                          \n",
      "Early stopping, best iteration is:                                                                                     \n",
      "[354]\ttraining's auc: 0.968713\ttraining's binary_logloss: 0.406025\tvalid_1's auc: 0.902543\tvalid_1's binary_logloss: 0.586763\n",
      "Training until validation scores don't improve for 200 rounds                                                          \n",
      "Early stopping, best iteration is:                                                                                     \n",
      "[462]\ttraining's auc: 0.970931\ttraining's binary_logloss: 0.358729\tvalid_1's auc: 0.906244\tvalid_1's binary_logloss: 0.569239\n",
      ">> ROC-AUC Score 0.901471                                                                                              \n",
      ">> Custom Score 0.913372                                                                                               \n",
      "\n",
      "Training until validation scores don't improve for 200 rounds                                                          \n",
      "Early stopping, best iteration is:                                                                                     \n",
      "[508]\ttraining's auc: 0.969946\ttraining's binary_logloss: 0.379296\tvalid_1's auc: 0.906091\tvalid_1's binary_logloss: 0.586378\n",
      "Training until validation scores don't improve for 200 rounds                                                          \n",
      "Early stopping, best iteration is:                                                                                     \n",
      "[583]\ttraining's auc: 0.970967\ttraining's binary_logloss: 0.355606\tvalid_1's auc: 0.904412\tvalid_1's binary_logloss: 0.571895\n",
      ">> ROC-AUC Score 0.905010                                                                                              \n",
      ">> Custom Score 0.914484                                                                                               \n",
      "\n",
      "Training until validation scores don't improve for 200 rounds                                                          \n",
      "Early stopping, best iteration is:                                                                                     \n",
      "[461]\ttraining's auc: 0.969902\ttraining's binary_logloss: 0.380207\tvalid_1's auc: 0.906287\tvalid_1's binary_logloss: 0.586852\n",
      "Training until validation scores don't improve for 200 rounds                                                          \n",
      "Early stopping, best iteration is:                                                                                     \n",
      "[530]\ttraining's auc: 0.970943\ttraining's binary_logloss: 0.35594\tvalid_1's auc: 0.905926\tvalid_1's binary_logloss: 0.571302\n",
      ">> ROC-AUC Score 0.905871                                                                                              \n",
      ">> Custom Score 0.914310                                                                                               \n",
      "\n",
      "Training until validation scores don't improve for 200 rounds                                                          \n",
      "Early stopping, best iteration is:                                                                                     \n",
      "[404]\ttraining's auc: 0.969639\ttraining's binary_logloss: 0.385298\tvalid_1's auc: 0.907241\tvalid_1's binary_logloss: 0.584037\n",
      "Training until validation scores don't improve for 200 rounds                                                          \n",
      "Early stopping, best iteration is:                                                                                     \n",
      "[476]\ttraining's auc: 0.9709\ttraining's binary_logloss: 0.357182\tvalid_1's auc: 0.905376\tvalid_1's binary_logloss: 0.570122\n",
      ">> ROC-AUC Score 0.905781                                                                                              \n",
      ">> Custom Score 0.914251                                                                                               \n",
      "\n",
      "Training until validation scores don't improve for 200 rounds                                                          \n",
      "Early stopping, best iteration is:                                                                                     \n",
      "[541]\ttraining's auc: 0.969947\ttraining's binary_logloss: 0.377802\tvalid_1's auc: 0.907188\tvalid_1's binary_logloss: 0.586047\n",
      "Training until validation scores don't improve for 200 rounds                                                          \n",
      "Early stopping, best iteration is:                                                                                     \n",
      "[655]\ttraining's auc: 0.97151\ttraining's binary_logloss: 0.344269\tvalid_1's auc: 0.909534\tvalid_1's binary_logloss: 0.57064\n",
      ">> ROC-AUC Score 0.907667                                                                                              \n",
      ">> Custom Score 0.915099                                                                                               \n",
      "\n",
      "Training until validation scores don't improve for 200 rounds                                                          \n",
      "Early stopping, best iteration is:                                                                                     \n",
      "[543]\ttraining's auc: 0.970211\ttraining's binary_logloss: 0.375375\tvalid_1's auc: 0.909642\tvalid_1's binary_logloss: 0.584404\n",
      "Training until validation scores don't improve for 200 rounds                                                          \n",
      "Early stopping, best iteration is:                                                                                     \n",
      "[617]\ttraining's auc: 0.971038\ttraining's binary_logloss: 0.35387\tvalid_1's auc: 0.906751\tvalid_1's binary_logloss: 0.569254\n",
      ">> ROC-AUC Score 0.907990                                                                                              \n",
      ">> Custom Score 0.914761                                                                                               \n",
      "\n",
      "Training until validation scores don't improve for 200 rounds                                                          \n",
      "Early stopping, best iteration is:                                                                                     \n",
      "[464]\ttraining's auc: 0.96949\ttraining's binary_logloss: 0.389053\tvalid_1's auc: 0.90373\tvalid_1's binary_logloss: 0.587518\n",
      "Training until validation scores don't improve for 200 rounds                                                          \n",
      "Early stopping, best iteration is:                                                                                     \n",
      "[558]\ttraining's auc: 0.970912\ttraining's binary_logloss: 0.357254\tvalid_1's auc: 0.905432\tvalid_1's binary_logloss: 0.569833\n",
      ">> ROC-AUC Score 0.903937                                                                                              \n",
      ">> Custom Score 0.913846                                                                                               \n",
      "\n",
      "Training until validation scores don't improve for 200 rounds                                                          \n",
      "Early stopping, best iteration is:                                                                                     \n",
      "[520]\ttraining's auc: 0.969853\ttraining's binary_logloss: 0.381417\tvalid_1's auc: 0.906136\tvalid_1's binary_logloss: 0.588065\n",
      "Training until validation scores don't improve for 200 rounds                                                          \n",
      "Early stopping, best iteration is:                                                                                     \n",
      "[603]\ttraining's auc: 0.970921\ttraining's binary_logloss: 0.356243\tvalid_1's auc: 0.906006\tvalid_1's binary_logloss: 0.569343\n",
      ">> ROC-AUC Score 0.905814                                                                                              \n",
      ">> Custom Score 0.914330                                                                                               \n",
      "\n",
      "Training until validation scores don't improve for 200 rounds                                                          \n",
      "Early stopping, best iteration is:                                                                                     \n",
      "[468]\ttraining's auc: 0.96941\ttraining's binary_logloss: 0.390052\tvalid_1's auc: 0.904305\tvalid_1's binary_logloss: 0.586686\n",
      "Training until validation scores don't improve for 200 rounds                                                          \n",
      "Early stopping, best iteration is:                                                                                     \n",
      "[563]\ttraining's auc: 0.970731\ttraining's binary_logloss: 0.35869\tvalid_1's auc: 0.903841\tvalid_1's binary_logloss: 0.570024\n",
      ">> ROC-AUC Score 0.903365                                                                                              \n",
      ">> Custom Score 0.913695                                                                                               \n",
      "\n",
      "Training until validation scores don't improve for 200 rounds                                                          \n",
      "Early stopping, best iteration is:                                                                                     \n",
      "[480]\ttraining's auc: 0.969575\ttraining's binary_logloss: 0.387943\tvalid_1's auc: 0.904348\tvalid_1's binary_logloss: 0.58693\n",
      "Training until validation scores don't improve for 200 rounds                                                          \n",
      "Early stopping, best iteration is:                                                                                     \n",
      "[589]\ttraining's auc: 0.971012\ttraining's binary_logloss: 0.35278\tvalid_1's auc: 0.907418\tvalid_1's binary_logloss: 0.56892\n",
      ">> ROC-AUC Score 0.904962                                                                                              \n",
      ">> Custom Score 0.914340                                                                                               \n",
      "\n",
      "Training until validation scores don't improve for 200 rounds                                                          \n",
      "Early stopping, best iteration is:                                                                                     \n",
      "[354]\ttraining's auc: 0.969879\ttraining's binary_logloss: 0.382901\tvalid_1's auc: 0.905952\tvalid_1's binary_logloss: 0.58645\n",
      "Training until validation scores don't improve for 200 rounds                                                          \n",
      "Early stopping, best iteration is:                                                                                     \n",
      "[426]\ttraining's auc: 0.971269\ttraining's binary_logloss: 0.350868\tvalid_1's auc: 0.908986\tvalid_1's binary_logloss: 0.56823\n",
      ">> ROC-AUC Score 0.907122                                                                                              \n",
      ">> Custom Score 0.914731                                                                                               \n",
      "\n",
      "Training until validation scores don't improve for 200 rounds                                                          \n",
      "Early stopping, best iteration is:                                                                                     \n",
      "[398]\ttraining's auc: 0.967085\ttraining's binary_logloss: 0.424149\tvalid_1's auc: 0.904082\tvalid_1's binary_logloss: 0.593832\n",
      "Training until validation scores don't improve for 200 rounds                                                          \n",
      "Early stopping, best iteration is:                                                                                     \n",
      "[493]\ttraining's auc: 0.968951\ttraining's binary_logloss: 0.388523\tvalid_1's auc: 0.897689\tvalid_1's binary_logloss: 0.593525\n",
      ">> ROC-AUC Score 0.897113                                                                                              \n",
      ">> Custom Score 0.914860                                                                                               \n",
      "\n",
      "Training until validation scores don't improve for 200 rounds                                                          \n",
      "Early stopping, best iteration is:                                                                                     \n",
      "[516]\ttraining's auc: 0.97002\ttraining's binary_logloss: 0.379959\tvalid_1's auc: 0.907361\tvalid_1's binary_logloss: 0.586339\n",
      "Training until validation scores don't improve for 200 rounds                                                          \n",
      "Early stopping, best iteration is:                                                                                     \n",
      "[589]\ttraining's auc: 0.970819\ttraining's binary_logloss: 0.357685\tvalid_1's auc: 0.905578\tvalid_1's binary_logloss: 0.571158\n",
      ">> ROC-AUC Score 0.906240                                                                                              \n",
      ">> Custom Score 0.914468                                                                                               \n",
      "\n",
      "Training until validation scores don't improve for 200 rounds                                                          \n",
      "Early stopping, best iteration is:                                                                                     \n",
      "[449]\ttraining's auc: 0.969809\ttraining's binary_logloss: 0.381884\tvalid_1's auc: 0.907612\tvalid_1's binary_logloss: 0.58645\n",
      "Training until validation scores don't improve for 200 rounds                                                          \n",
      "Early stopping, best iteration is:                                                                                     \n",
      "[519]\ttraining's auc: 0.970851\ttraining's binary_logloss: 0.357245\tvalid_1's auc: 0.904153\tvalid_1's binary_logloss: 0.570067\n",
      ">> ROC-AUC Score 0.905527                                                                                              \n",
      ">> Custom Score 0.914274                                                                                               \n",
      "\n",
      "Training until validation scores don't improve for 200 rounds                                                          \n",
      "Early stopping, best iteration is:                                                                                     \n",
      "[367]\ttraining's auc: 0.967231\ttraining's binary_logloss: 0.418691\tvalid_1's auc: 0.903104\tvalid_1's binary_logloss: 0.589679\n",
      "Training until validation scores don't improve for 200 rounds                                                          \n",
      "Early stopping, best iteration is:                                                                                     \n",
      "[467]\ttraining's auc: 0.969636\ttraining's binary_logloss: 0.377027\tvalid_1's auc: 0.903331\tvalid_1's binary_logloss: 0.580479\n",
      ">> ROC-AUC Score 0.900409                                                                                              \n",
      ">> Custom Score 0.914570                                                                                               \n",
      "\n",
      "Training until validation scores don't improve for 200 rounds                                                          \n",
      "Early stopping, best iteration is:                                                                                     \n",
      "[520]\ttraining's auc: 0.969654\ttraining's binary_logloss: 0.383088\tvalid_1's auc: 0.906472\tvalid_1's binary_logloss: 0.584044\n",
      "Training until validation scores don't improve for 200 rounds                                                          \n",
      "Early stopping, best iteration is:                                                                                     \n",
      "[602]\ttraining's auc: 0.97075\ttraining's binary_logloss: 0.358062\tvalid_1's auc: 0.905266\tvalid_1's binary_logloss: 0.566507\n",
      ">> ROC-AUC Score 0.905597                                                                                              \n",
      ">> Custom Score 0.913752                                                                                               \n",
      "\n",
      "Training until validation scores don't improve for 200 rounds                                                          \n",
      "Early stopping, best iteration is:                                                                                     \n",
      "[405]\ttraining's auc: 0.96864\ttraining's binary_logloss: 0.399262\tvalid_1's auc: 0.905754\tvalid_1's binary_logloss: 0.586831\n",
      "Training until validation scores don't improve for 200 rounds                                                          \n",
      "Early stopping, best iteration is:                                                                                     \n",
      "[482]\ttraining's auc: 0.970224\ttraining's binary_logloss: 0.369152\tvalid_1's auc: 0.905624\tvalid_1's binary_logloss: 0.566851\n",
      ">> ROC-AUC Score 0.905177                                                                                              \n",
      ">> Custom Score 0.913752                                                                                               \n",
      "\n",
      "Training until validation scores don't improve for 200 rounds                                                          \n",
      "Early stopping, best iteration is:                                                                                     \n",
      "[279]\ttraining's auc: 0.966839\ttraining's binary_logloss: 0.433817\tvalid_1's auc: 0.90143\tvalid_1's binary_logloss: 0.596313\n",
      "Training until validation scores don't improve for 200 rounds                                                          \n",
      "Early stopping, best iteration is:                                                                                     \n",
      "[404]\ttraining's auc: 0.970137\ttraining's binary_logloss: 0.370752\tvalid_1's auc: 0.905034\tvalid_1's binary_logloss: 0.590486\n",
      ">> ROC-AUC Score 0.891569                                                                                              \n",
      ">> Custom Score 0.915398                                                                                               \n",
      "\n",
      "Training until validation scores don't improve for 200 rounds                                                          \n",
      "Early stopping, best iteration is:                                                                                     \n",
      "[446]\ttraining's auc: 0.969783\ttraining's binary_logloss: 0.382259\tvalid_1's auc: 0.907825\tvalid_1's binary_logloss: 0.585136\n",
      "Training until validation scores don't improve for 200 rounds                                                          \n",
      "Early stopping, best iteration is:                                                                                     \n",
      "[520]\ttraining's auc: 0.970995\ttraining's binary_logloss: 0.355552\tvalid_1's auc: 0.906884\tvalid_1's binary_logloss: 0.567585\n",
      ">> ROC-AUC Score 0.906972                                                                                              \n",
      ">> Custom Score 0.914152                                                                                               \n",
      "\n",
      "Training until validation scores don't improve for 200 rounds                                                          \n",
      "Early stopping, best iteration is:                                                                                     \n",
      "[478]\ttraining's auc: 0.969226\ttraining's binary_logloss: 0.391838\tvalid_1's auc: 0.905051\tvalid_1's binary_logloss: 0.581849\n",
      "Training until validation scores don't improve for 200 rounds                                                          \n",
      "Early stopping, best iteration is:                                                                                     \n",
      "[582]\ttraining's auc: 0.970744\ttraining's binary_logloss: 0.358263\tvalid_1's auc: 0.904568\tvalid_1's binary_logloss: 0.56623\n",
      ">> ROC-AUC Score 0.903780                                                                                              \n",
      ">> Custom Score 0.913119                                                                                               \n",
      "\n",
      "Training until validation scores don't improve for 200 rounds                                                          \n",
      "Early stopping, best iteration is:                                                                                     \n",
      "[455]\ttraining's auc: 0.968863\ttraining's binary_logloss: 0.395284\tvalid_1's auc: 0.907099\tvalid_1's binary_logloss: 0.585454\n",
      "Training until validation scores don't improve for 200 rounds                                                          \n",
      "Early stopping, best iteration is:                                                                                     \n",
      "[524]\ttraining's auc: 0.969946\ttraining's binary_logloss: 0.371715\tvalid_1's auc: 0.903347\tvalid_1's binary_logloss: 0.569888\n",
      ">> ROC-AUC Score 0.904975                                                                                              \n",
      ">> Custom Score 0.913742                                                                                               \n",
      "\n",
      "Training until validation scores don't improve for 200 rounds                                                          \n",
      "Early stopping, best iteration is:                                                                                     \n",
      "[357]\ttraining's auc: 0.967931\ttraining's binary_logloss: 0.410423\tvalid_1's auc: 0.906606\tvalid_1's binary_logloss: 0.592383\n",
      "Training until validation scores don't improve for 200 rounds                                                          \n",
      "Early stopping, best iteration is:                                                                                     \n",
      "[425]\ttraining's auc: 0.969599\ttraining's binary_logloss: 0.380625\tvalid_1's auc: 0.901789\tvalid_1's binary_logloss: 0.592157\n",
      ">> ROC-AUC Score 0.902853                                                                                              \n",
      ">> Custom Score 0.916090                                                                                               \n",
      "\n",
      "Training until validation scores don't improve for 200 rounds                                                          \n",
      "Early stopping, best iteration is:                                                                                     \n",
      "[402]\ttraining's auc: 0.969163\ttraining's binary_logloss: 0.390858\tvalid_1's auc: 0.904169\tvalid_1's binary_logloss: 0.585154\n",
      "Training until validation scores don't improve for 200 rounds                                                          \n",
      "Early stopping, best iteration is:                                                                                     \n",
      "[479]\ttraining's auc: 0.970703\ttraining's binary_logloss: 0.360184\tvalid_1's auc: 0.906008\tvalid_1's binary_logloss: 0.566362\n",
      ">> ROC-AUC Score 0.904641                                                                                              \n",
      ">> Custom Score 0.913560                                                                                               \n",
      "\n",
      "Training until validation scores don't improve for 200 rounds                                                          \n",
      "Early stopping, best iteration is:                                                                                     \n",
      "[499]\ttraining's auc: 0.968984\ttraining's binary_logloss: 0.393893\tvalid_1's auc: 0.906376\tvalid_1's binary_logloss: 0.583305\n",
      "Training until validation scores don't improve for 200 rounds                                                          \n",
      "Early stopping, best iteration is:                                                                                     \n",
      "[584]\ttraining's auc: 0.970262\ttraining's binary_logloss: 0.367493\tvalid_1's auc: 0.903862\tvalid_1's binary_logloss: 0.568626\n",
      ">> ROC-AUC Score 0.904685                                                                                              \n",
      ">> Custom Score 0.913503                                                                                               \n",
      "\n",
      "Training until validation scores don't improve for 200 rounds                                                          \n",
      "Early stopping, best iteration is:                                                                                     \n",
      "[463]\ttraining's auc: 0.969871\ttraining's binary_logloss: 0.378944\tvalid_1's auc: 0.907785\tvalid_1's binary_logloss: 0.585486\n",
      "Training until validation scores don't improve for 200 rounds                                                          \n",
      "Early stopping, best iteration is:                                                                                     \n",
      "[525]\ttraining's auc: 0.970875\ttraining's binary_logloss: 0.357351\tvalid_1's auc: 0.907438\tvalid_1's binary_logloss: 0.567005\n",
      ">> ROC-AUC Score 0.907409                                                                                              \n",
      ">> Custom Score 0.914184                                                                                               \n",
      "\n",
      "Training until validation scores don't improve for 200 rounds                                                          \n",
      "Early stopping, best iteration is:                                                                                     \n",
      "[370]\ttraining's auc: 0.967625\ttraining's binary_logloss: 0.417649\tvalid_1's auc: 0.905748\tvalid_1's binary_logloss: 0.5926\n",
      "Training until validation scores don't improve for 200 rounds                                                          \n",
      "Early stopping, best iteration is:                                                                                     \n",
      "[469]\ttraining's auc: 0.969779\ttraining's binary_logloss: 0.376741\tvalid_1's auc: 0.902604\tvalid_1's binary_logloss: 0.589219\n",
      ">> ROC-AUC Score 0.900258                                                                                              \n",
      ">> Custom Score 0.915611                                                                                               \n",
      "\n",
      "Training until validation scores don't improve for 200 rounds                                                          \n",
      "Early stopping, best iteration is:                                                                                     \n",
      "[461]\ttraining's auc: 0.969925\ttraining's binary_logloss: 0.376387\tvalid_1's auc: 0.907463\tvalid_1's binary_logloss: 0.585176\n",
      "Training until validation scores don't improve for 200 rounds                                                          \n",
      "Early stopping, best iteration is:                                                                                     \n",
      "[498]\ttraining's auc: 0.970387\ttraining's binary_logloss: 0.363443\tvalid_1's auc: 0.903945\tvalid_1's binary_logloss: 0.56605\n",
      ">> ROC-AUC Score 0.905267                                                                                              \n",
      ">> Custom Score 0.913509                                                                                               \n",
      "\n",
      "Training until validation scores don't improve for 200 rounds                                                          \n",
      "Early stopping, best iteration is:                                                                                     \n",
      "[480]\ttraining's auc: 0.968371\ttraining's binary_logloss: 0.405348\tvalid_1's auc: 0.904368\tvalid_1's binary_logloss: 0.584511\n",
      "Training until validation scores don't improve for 200 rounds                                                          \n",
      "Early stopping, best iteration is:                                                                                     \n",
      "[587]\ttraining's auc: 0.97006\ttraining's binary_logloss: 0.371148\tvalid_1's auc: 0.902093\tvalid_1's binary_logloss: 0.570658\n",
      ">> ROC-AUC Score 0.902168                                                                                              \n",
      ">> Custom Score 0.913350                                                                                               \n",
      "\n",
      "Training until validation scores don't improve for 200 rounds                                                          \n",
      "Early stopping, best iteration is:                                                                                     \n",
      "[349]\ttraining's auc: 0.968835\ttraining's binary_logloss: 0.402533\tvalid_1's auc: 0.903568\tvalid_1's binary_logloss: 0.583983\n",
      "Training until validation scores don't improve for 200 rounds                                                          \n",
      "Early stopping, best iteration is:                                                                                     \n",
      "[465]\ttraining's auc: 0.971268\ttraining's binary_logloss: 0.352062\tvalid_1's auc: 0.907955\tvalid_1's binary_logloss: 0.570176\n",
      ">> ROC-AUC Score 0.902130                                                                                              \n",
      ">> Custom Score 0.913738                                                                                               \n",
      "\n",
      "Training until validation scores don't improve for 200 rounds                                                          \n",
      "Early stopping, best iteration is:                                                                                     \n",
      "[410]\ttraining's auc: 0.968732\ttraining's binary_logloss: 0.405256\tvalid_1's auc: 0.902996\tvalid_1's binary_logloss: 0.585261\n",
      "Training until validation scores don't improve for 200 rounds                                                          \n",
      "Early stopping, best iteration is:                                                                                     \n",
      "[555]\ttraining's auc: 0.971084\ttraining's binary_logloss: 0.35289\tvalid_1's auc: 0.904923\tvalid_1's binary_logloss: 0.573076\n",
      ">> ROC-AUC Score 0.898909                                                                                              \n",
      ">> Custom Score 0.913605                                                                                               \n",
      "\n",
      "Training until validation scores don't improve for 200 rounds                                                          \n",
      "Early stopping, best iteration is:                                                                                     \n",
      "[447]\ttraining's auc: 0.96765\ttraining's binary_logloss: 0.41185\tvalid_1's auc: 0.905855\tvalid_1's binary_logloss: 0.591174\n",
      "Training until validation scores don't improve for 200 rounds                                                          \n",
      "Early stopping, best iteration is:                                                                                     \n",
      "[527]\ttraining's auc: 0.969245\ttraining's binary_logloss: 0.383917\tvalid_1's auc: 0.899099\tvalid_1's binary_logloss: 0.586234\n",
      ">> ROC-AUC Score 0.901479                                                                                              \n",
      ">> Custom Score 0.915119                                                                                               \n",
      "\n",
      "Training until validation scores don't improve for 200 rounds                                                          \n",
      "Early stopping, best iteration is:                                                                                     \n",
      "[464]\ttraining's auc: 0.969373\ttraining's binary_logloss: 0.391507\tvalid_1's auc: 0.909574\tvalid_1's binary_logloss: 0.588195\n",
      "Training until validation scores don't improve for 200 rounds                                                          \n",
      "Early stopping, best iteration is:                                                                                     \n",
      "[550]\ttraining's auc: 0.970719\ttraining's binary_logloss: 0.362193\tvalid_1's auc: 0.90537\tvalid_1's binary_logloss: 0.577671\n",
      ">> ROC-AUC Score 0.906722                                                                                              \n",
      ">> Custom Score 0.915361                                                                                               \n",
      "\n",
      "Training until validation scores don't improve for 200 rounds                                                          \n",
      "Early stopping, best iteration is:                                                                                     \n",
      "[344]\ttraining's auc: 0.968855\ttraining's binary_logloss: 0.394661\tvalid_1's auc: 0.901093\tvalid_1's binary_logloss: 0.583073\n",
      "Training until validation scores don't improve for 200 rounds                                                          \n",
      "Early stopping, best iteration is:                                                                                     \n",
      "[429]\ttraining's auc: 0.970798\ttraining's binary_logloss: 0.356598\tvalid_1's auc: 0.907995\tvalid_1's binary_logloss: 0.563248\n",
      ">> ROC-AUC Score 0.903805                                                                                              \n",
      ">> Custom Score 0.912957                                                                                               \n",
      "\n",
      "Training until validation scores don't improve for 200 rounds                                                          \n",
      "Early stopping, best iteration is:                                                                                     \n",
      "[462]\ttraining's auc: 0.969813\ttraining's binary_logloss: 0.382315\tvalid_1's auc: 0.905714\tvalid_1's binary_logloss: 0.589985\n",
      "Training until validation scores don't improve for 200 rounds                                                          \n",
      "Early stopping, best iteration is:                                                                                     \n",
      "[543]\ttraining's auc: 0.97103\ttraining's binary_logloss: 0.354441\tvalid_1's auc: 0.90694\tvalid_1's binary_logloss: 0.56856\n",
      ">> ROC-AUC Score 0.905960                                                                                              \n",
      ">> Custom Score 0.914492                                                                                               \n",
      "\n",
      "Training until validation scores don't improve for 200 rounds                                                          \n",
      "Early stopping, best iteration is:                                                                                     \n",
      "[364]\ttraining's auc: 0.969515\ttraining's binary_logloss: 0.390126\tvalid_1's auc: 0.905428\tvalid_1's binary_logloss: 0.586034\n",
      "Training until validation scores don't improve for 200 rounds                                                          \n",
      "Early stopping, best iteration is:                                                                                     \n",
      "[448]\ttraining's auc: 0.971175\ttraining's binary_logloss: 0.353463\tvalid_1's auc: 0.907757\tvalid_1's binary_logloss: 0.569025\n",
      ">> ROC-AUC Score 0.905769                                                                                              \n",
      ">> Custom Score 0.914208                                                                                               \n",
      "\n",
      "Training until validation scores don't improve for 200 rounds                                                          \n",
      "Early stopping, best iteration is:                                                                                     \n",
      "[480]\ttraining's auc: 0.969032\ttraining's binary_logloss: 0.395774\tvalid_1's auc: 0.906761\tvalid_1's binary_logloss: 0.585586\n",
      "Training until validation scores don't improve for 200 rounds                                                          \n",
      "Early stopping, best iteration is:                                                                                     \n",
      "[565]\ttraining's auc: 0.970273\ttraining's binary_logloss: 0.367987\tvalid_1's auc: 0.901745\tvalid_1's binary_logloss: 0.574424\n",
      ">> ROC-AUC Score 0.903628                                                                                              \n",
      ">> Custom Score 0.913889                                                                                               \n",
      "\n",
      "Training until validation scores don't improve for 200 rounds                                                          \n",
      "Early stopping, best iteration is:                                                                                     \n",
      "[507]\ttraining's auc: 0.970075\ttraining's binary_logloss: 0.376394\tvalid_1's auc: 0.907104\tvalid_1's binary_logloss: 0.587078\n",
      "Training until validation scores don't improve for 200 rounds                                                          \n",
      "Early stopping, best iteration is:                                                                                     \n",
      "[563]\ttraining's auc: 0.970814\ttraining's binary_logloss: 0.358066\tvalid_1's auc: 0.904448\tvalid_1's binary_logloss: 0.570164\n",
      ">> ROC-AUC Score 0.905509                                                                                              \n",
      ">> Custom Score 0.914326                                                                                               \n",
      "\n",
      "Training until validation scores don't improve for 200 rounds                                                          \n",
      "Early stopping, best iteration is:                                                                                     \n",
      "[357]\ttraining's auc: 0.96771\ttraining's binary_logloss: 0.415587\tvalid_1's auc: 0.904614\tvalid_1's binary_logloss: 0.594095\n",
      "Training until validation scores don't improve for 200 rounds                                                          \n",
      "Early stopping, best iteration is:                                                                                     \n",
      "[473]\ttraining's auc: 0.97043\ttraining's binary_logloss: 0.366479\tvalid_1's auc: 0.905939\tvalid_1's binary_logloss: 0.592009\n",
      ">> ROC-AUC Score 0.899443                                                                                              \n",
      ">> Custom Score 0.916274                                                                                               \n",
      "\n",
      "Training until validation scores don't improve for 200 rounds                                                          \n",
      "Early stopping, best iteration is:                                                                                     \n",
      "[344]\ttraining's auc: 0.96872\ttraining's binary_logloss: 0.399694\tvalid_1's auc: 0.900678\tvalid_1's binary_logloss: 0.582539\n",
      "Training until validation scores don't improve for 200 rounds                                                          \n",
      "Early stopping, best iteration is:                                                                                     \n",
      "[421]\ttraining's auc: 0.970209\ttraining's binary_logloss: 0.366182\tvalid_1's auc: 0.90445\tvalid_1's binary_logloss: 0.561794\n",
      ">> ROC-AUC Score 0.902061                                                                                              \n",
      ">> Custom Score 0.911884                                                                                               \n",
      "\n",
      "Training until validation scores don't improve for 200 rounds                                                          \n",
      "Early stopping, best iteration is:                                                                                     \n",
      "[518]\ttraining's auc: 0.969721\ttraining's binary_logloss: 0.383322\tvalid_1's auc: 0.906938\tvalid_1's binary_logloss: 0.585363\n",
      "Training until validation scores don't improve for 200 rounds                                                          \n",
      "Early stopping, best iteration is:                                                                                     \n",
      "[602]\ttraining's auc: 0.970833\ttraining's binary_logloss: 0.357305\tvalid_1's auc: 0.906472\tvalid_1's binary_logloss: 0.568166\n",
      ">> ROC-AUC Score 0.906410                                                                                              \n",
      ">> Custom Score 0.914073                                                                                               \n",
      "\n",
      "Training until validation scores don't improve for 200 rounds                                                          \n",
      "Early stopping, best iteration is:                                                                                     \n",
      "[482]\ttraining's auc: 0.96947\ttraining's binary_logloss: 0.390028\tvalid_1's auc: 0.905558\tvalid_1's binary_logloss: 0.584604\n",
      "Training until validation scores don't improve for 200 rounds                                                          \n",
      "Early stopping, best iteration is:                                                                                     \n",
      "[599]\ttraining's auc: 0.97103\ttraining's binary_logloss: 0.352401\tvalid_1's auc: 0.907194\tvalid_1's binary_logloss: 0.56697\n",
      ">> ROC-AUC Score 0.905090                                                                                              \n",
      ">> Custom Score 0.913816                                                                                               \n",
      "\n",
      "Training until validation scores don't improve for 200 rounds                                                          \n",
      "Early stopping, best iteration is:                                                                                     \n",
      "[462]\ttraining's auc: 0.969956\ttraining's binary_logloss: 0.381529\tvalid_1's auc: 0.906783\tvalid_1's binary_logloss: 0.586714\n",
      "Training until validation scores don't improve for 200 rounds                                                          \n",
      "Early stopping, best iteration is:                                                                                     \n",
      "[527]\ttraining's auc: 0.970822\ttraining's binary_logloss: 0.359317\tvalid_1's auc: 0.903391\tvalid_1's binary_logloss: 0.571543\n",
      ">> ROC-AUC Score 0.904802                                                                                              \n",
      ">> Custom Score 0.914178                                                                                               \n",
      "\n",
      "Training until validation scores don't improve for 200 rounds                                                          \n",
      "Early stopping, best iteration is:                                                                                     \n",
      "[463]\ttraining's auc: 0.969946\ttraining's binary_logloss: 0.379466\tvalid_1's auc: 0.907584\tvalid_1's binary_logloss: 0.585739\n",
      "Training until validation scores don't improve for 200 rounds                                                          \n",
      "Early stopping, best iteration is:                                                                                     \n",
      "[518]\ttraining's auc: 0.970719\ttraining's binary_logloss: 0.360995\tvalid_1's auc: 0.903757\tvalid_1's binary_logloss: 0.571841\n",
      ">> ROC-AUC Score 0.905460                                                                                              \n",
      ">> Custom Score 0.914313                                                                                               \n",
      "\n",
      "Training until validation scores don't improve for 200 rounds                                                          \n",
      "Early stopping, best iteration is:                                                                                     \n",
      "[396]\ttraining's auc: 0.968733\ttraining's binary_logloss: 0.405181\tvalid_1's auc: 0.902664\tvalid_1's binary_logloss: 0.586812\n",
      "Training until validation scores don't improve for 200 rounds                                                          \n",
      "Early stopping, best iteration is:                                                                                     \n",
      "[527]\ttraining's auc: 0.971044\ttraining's binary_logloss: 0.354874\tvalid_1's auc: 0.906215\tvalid_1's binary_logloss: 0.571606\n",
      ">> ROC-AUC Score 0.900615                                                                                              \n",
      ">> Custom Score 0.913766                                                                                               \n",
      "\n",
      "Training until validation scores don't improve for 200 rounds                                                          \n",
      "Early stopping, best iteration is:                                                                                     \n",
      "[448]\ttraining's auc: 0.970067\ttraining's binary_logloss: 0.376195\tvalid_1's auc: 0.907419\tvalid_1's binary_logloss: 0.587295\n",
      "Training until validation scores don't improve for 200 rounds                                                          \n",
      "Early stopping, best iteration is:                                                                                     \n",
      "[507]\ttraining's auc: 0.971071\ttraining's binary_logloss: 0.354275\tvalid_1's auc: 0.906993\tvalid_1's binary_logloss: 0.568429\n",
      ">> ROC-AUC Score 0.906952                                                                                              \n",
      ">> Custom Score 0.914728                                                                                               \n",
      "\n",
      "Training until validation scores don't improve for 200 rounds                                                          \n",
      "Early stopping, best iteration is:                                                                                     \n",
      "[383]\ttraining's auc: 0.968636\ttraining's binary_logloss: 0.406243\tvalid_1's auc: 0.901686\tvalid_1's binary_logloss: 0.588771\n",
      "Training until validation scores don't improve for 200 rounds                                                          \n",
      "Early stopping, best iteration is:                                                                                     \n",
      "[517]\ttraining's auc: 0.971039\ttraining's binary_logloss: 0.353927\tvalid_1's auc: 0.9061\tvalid_1's binary_logloss: 0.570796\n",
      ">> ROC-AUC Score 0.899525                                                                                              \n",
      ">> Custom Score 0.913868                                                                                               \n",
      "\n",
      "Training until validation scores don't improve for 200 rounds                                                          \n",
      "Early stopping, best iteration is:                                                                                     \n",
      "[466]\ttraining's auc: 0.969673\ttraining's binary_logloss: 0.385552\tvalid_1's auc: 0.903817\tvalid_1's binary_logloss: 0.58823\n",
      "Training until validation scores don't improve for 200 rounds                                                          \n",
      "Early stopping, best iteration is:                                                                                     \n",
      "[552]\ttraining's auc: 0.970854\ttraining's binary_logloss: 0.356352\tvalid_1's auc: 0.905818\tvalid_1's binary_logloss: 0.570073\n",
      ">> ROC-AUC Score 0.904453                                                                                              \n",
      ">> Custom Score 0.914216                                                                                               \n",
      "\n",
      "Training until validation scores don't improve for 200 rounds                                                          \n",
      "Early stopping, best iteration is:                                                                                     \n",
      "[478]\ttraining's auc: 0.969212\ttraining's binary_logloss: 0.394537\tvalid_1's auc: 0.90446\tvalid_1's binary_logloss: 0.584958\n",
      "Training until validation scores don't improve for 200 rounds                                                          \n",
      "Early stopping, best iteration is:                                                                                     \n",
      "[601]\ttraining's auc: 0.970976\ttraining's binary_logloss: 0.354961\tvalid_1's auc: 0.905172\tvalid_1's binary_logloss: 0.570462\n",
      ">> ROC-AUC Score 0.902975                                                                                              \n",
      ">> Custom Score 0.913764                                                                                               \n",
      "\n",
      "Training until validation scores don't improve for 200 rounds                                                          \n",
      "Early stopping, best iteration is:                                                                                     \n",
      "[462]\ttraining's auc: 0.96952\ttraining's binary_logloss: 0.388947\tvalid_1's auc: 0.905447\tvalid_1's binary_logloss: 0.584541\n",
      "Training until validation scores don't improve for 200 rounds                                                          \n",
      "Early stopping, best iteration is:                                                                                     \n",
      "[570]\ttraining's auc: 0.971175\ttraining's binary_logloss: 0.352253\tvalid_1's auc: 0.905877\tvalid_1's binary_logloss: 0.57183\n",
      ">> ROC-AUC Score 0.904380                                                                                              \n",
      ">> Custom Score 0.914207                                                                                               \n",
      "\n",
      "Training until validation scores don't improve for 200 rounds                                                          \n",
      "Early stopping, best iteration is:                                                                                     \n",
      "[470]\ttraining's auc: 0.969455\ttraining's binary_logloss: 0.390416\tvalid_1's auc: 0.904998\tvalid_1's binary_logloss: 0.585156\n",
      "Training until validation scores don't improve for 200 rounds                                                          \n",
      "Early stopping, best iteration is:                                                                                     \n",
      "[556]\ttraining's auc: 0.970582\ttraining's binary_logloss: 0.362152\tvalid_1's auc: 0.903655\tvalid_1's binary_logloss: 0.570229\n",
      ">> ROC-AUC Score 0.903844                                                                                              \n",
      ">> Custom Score 0.913400                                                                                               \n",
      "\n",
      "Training until validation scores don't improve for 200 rounds                                                          \n",
      "Early stopping, best iteration is:                                                                                     \n",
      "[469]\ttraining's auc: 0.970097\ttraining's binary_logloss: 0.375801\tvalid_1's auc: 0.908006\tvalid_1's binary_logloss: 0.585828\n",
      "Training until validation scores don't improve for 200 rounds                                                          \n",
      "Early stopping, best iteration is:                                                                                     \n",
      "[524]\ttraining's auc: 0.970958\ttraining's binary_logloss: 0.356672\tvalid_1's auc: 0.905772\tvalid_1's binary_logloss: 0.569566\n",
      ">> ROC-AUC Score 0.906687                                                                                              \n",
      ">> Custom Score 0.914472                                                                                               \n",
      "\n",
      "Training until validation scores don't improve for 200 rounds                                                          \n",
      "Early stopping, best iteration is:                                                                                     \n",
      "[478]\ttraining's auc: 0.967825\ttraining's binary_logloss: 0.411218\tvalid_1's auc: 0.906749\tvalid_1's binary_logloss: 0.589994\n",
      "Training until validation scores don't improve for 200 rounds                                                          \n",
      "Early stopping, best iteration is:                                                                                     \n",
      "[586]\ttraining's auc: 0.969637\ttraining's binary_logloss: 0.376582\tvalid_1's auc: 0.900993\tvalid_1's binary_logloss: 0.586446\n",
      ">> ROC-AUC Score 0.901642                                                                                              \n",
      ">> Custom Score 0.915358                                                                                               \n",
      "\n",
      "Training until validation scores don't improve for 200 rounds                                                          \n",
      "Early stopping, best iteration is:                                                                                     \n",
      "[354]\ttraining's auc: 0.968582\ttraining's binary_logloss: 0.407208\tvalid_1's auc: 0.906427\tvalid_1's binary_logloss: 0.589743\n",
      "Training until validation scores don't improve for 200 rounds                                                          \n",
      "Early stopping, best iteration is:                                                                                     \n",
      "[461]\ttraining's auc: 0.970945\ttraining's binary_logloss: 0.360277\tvalid_1's auc: 0.908455\tvalid_1's binary_logloss: 0.57502\n",
      ">> ROC-AUC Score 0.904252                                                                                              \n",
      ">> Custom Score 0.914910                                                                                               \n",
      "\n",
      "Training until validation scores don't improve for 200 rounds                                                          \n",
      "Early stopping, best iteration is:                                                                                     \n",
      "[398]\ttraining's auc: 0.969429\ttraining's binary_logloss: 0.389365\tvalid_1's auc: 0.905108\tvalid_1's binary_logloss: 0.586695\n",
      "Training until validation scores don't improve for 200 rounds                                                          \n",
      "Early stopping, best iteration is:                                                                                     \n",
      "[477]\ttraining's auc: 0.97098\ttraining's binary_logloss: 0.357702\tvalid_1's auc: 0.904671\tvalid_1's binary_logloss: 0.570937\n",
      ">> ROC-AUC Score 0.904225                                                                                              \n",
      ">> Custom Score 0.914121                                                                                               \n",
      "\n",
      "Training until validation scores don't improve for 200 rounds                                                          \n",
      "Early stopping, best iteration is:                                                                                     \n",
      "[507]\ttraining's auc: 0.969596\ttraining's binary_logloss: 0.379322\tvalid_1's auc: 0.907316\tvalid_1's binary_logloss: 0.579237\n",
      "Training until validation scores don't improve for 200 rounds                                                          \n",
      "Early stopping, best iteration is:                                                                                     \n",
      "[546]\ttraining's auc: 0.97013\ttraining's binary_logloss: 0.367082\tvalid_1's auc: 0.904813\tvalid_1's binary_logloss: 0.564713\n",
      ">> ROC-AUC Score 0.905725                                                                                              \n",
      ">> Custom Score 0.913096                                                                                               \n",
      "\n",
      "Training until validation scores don't improve for 200 rounds                                                          \n",
      "Early stopping, best iteration is:                                                                                     \n",
      "[395]\ttraining's auc: 0.969154\ttraining's binary_logloss: 0.395561\tvalid_1's auc: 0.904074\tvalid_1's binary_logloss: 0.585933\n",
      "Training until validation scores don't improve for 200 rounds                                                          \n",
      "Early stopping, best iteration is:                                                                                     \n",
      "[487]\ttraining's auc: 0.970805\ttraining's binary_logloss: 0.359223\tvalid_1's auc: 0.904225\tvalid_1's binary_logloss: 0.569978\n",
      ">> ROC-AUC Score 0.902843                                                                                              \n",
      ">> Custom Score 0.913371                                                                                               \n",
      "\n",
      "Training until validation scores don't improve for 200 rounds                                                          \n",
      "Early stopping, best iteration is:                                                                                     \n",
      "[463]\ttraining's auc: 0.967488\ttraining's binary_logloss: 0.415057\tvalid_1's auc: 0.905352\tvalid_1's binary_logloss: 0.590657\n",
      "Training until validation scores don't improve for 200 rounds                                                          \n",
      "Early stopping, best iteration is:                                                                                     \n",
      "[588]\ttraining's auc: 0.969936\ttraining's binary_logloss: 0.37362\tvalid_1's auc: 0.901561\tvalid_1's binary_logloss: 0.586299\n",
      ">> ROC-AUC Score 0.899730                                                                                              \n",
      ">> Custom Score 0.915290                                                                                               \n",
      "\n",
      "Training until validation scores don't improve for 200 rounds                                                          \n",
      "Early stopping, best iteration is:                                                                                     \n",
      "[478]\ttraining's auc: 0.969204\ttraining's binary_logloss: 0.393304\tvalid_1's auc: 0.903977\tvalid_1's binary_logloss: 0.585992\n",
      "Training until validation scores don't improve for 200 rounds                                                          \n",
      "Early stopping, best iteration is:                                                                                     \n",
      "[601]\ttraining's auc: 0.971042\ttraining's binary_logloss: 0.353163\tvalid_1's auc: 0.907034\tvalid_1's binary_logloss: 0.568367\n",
      ">> ROC-AUC Score 0.904136                                                                                              \n",
      ">> Custom Score 0.913918                                                                                               \n",
      "\n",
      "Training until validation scores don't improve for 200 rounds                                                          \n",
      "Early stopping, best iteration is:                                                                                     \n",
      "[405]\ttraining's auc: 0.968916\ttraining's binary_logloss: 0.400963\tvalid_1's auc: 0.907575\tvalid_1's binary_logloss: 0.587846\n",
      "Training until validation scores don't improve for 200 rounds                                                          \n",
      "Early stopping, best iteration is:                                                                                     \n",
      "[513]\ttraining's auc: 0.971003\ttraining's binary_logloss: 0.359019\tvalid_1's auc: 0.907727\tvalid_1's binary_logloss: 0.572887\n",
      ">> ROC-AUC Score 0.905605                                                                                              \n",
      ">> Custom Score 0.915024                                                                                               \n",
      "\n",
      "Training until validation scores don't improve for 200 rounds                                                          \n",
      "Early stopping, best iteration is:                                                                                     \n",
      "[406]\ttraining's auc: 0.969022\ttraining's binary_logloss: 0.392595\tvalid_1's auc: 0.902709\tvalid_1's binary_logloss: 0.58016\n",
      "Training until validation scores don't improve for 200 rounds                                                          \n",
      "Early stopping, best iteration is:                                                                                     \n",
      "[464]\ttraining's auc: 0.969929\ttraining's binary_logloss: 0.370865\tvalid_1's auc: 0.903046\tvalid_1's binary_logloss: 0.564221\n",
      ">> ROC-AUC Score 0.902684                                                                                              \n",
      ">> Custom Score 0.911957                                                                                               \n",
      "\n",
      "Training until validation scores don't improve for 200 rounds                                                          \n",
      "Early stopping, best iteration is:                                                                                     \n",
      "[459]\ttraining's auc: 0.969752\ttraining's binary_logloss: 0.385091\tvalid_1's auc: 0.905007\tvalid_1's binary_logloss: 0.588161\n",
      "Training until validation scores don't improve for 200 rounds                                                          \n",
      "Early stopping, best iteration is:                                                                                     \n",
      "[543]\ttraining's auc: 0.970771\ttraining's binary_logloss: 0.357385\tvalid_1's auc: 0.904419\tvalid_1's binary_logloss: 0.570138\n",
      ">> ROC-AUC Score 0.904314                                                                                              \n",
      ">> Custom Score 0.913790                                                                                               \n",
      "\n",
      "Training until validation scores don't improve for 200 rounds                                                          \n",
      "Early stopping, best iteration is:                                                                                     \n",
      "[515]\ttraining's auc: 0.970135\ttraining's binary_logloss: 0.377011\tvalid_1's auc: 0.907484\tvalid_1's binary_logloss: 0.586308\n",
      "Training until validation scores don't improve for 200 rounds                                                          \n",
      "Early stopping, best iteration is:                                                                                     \n",
      "[590]\ttraining's auc: 0.971056\ttraining's binary_logloss: 0.353967\tvalid_1's auc: 0.905295\tvalid_1's binary_logloss: 0.571591\n",
      ">> ROC-AUC Score 0.906160                                                                                              \n",
      ">> Custom Score 0.914566                                                                                               \n",
      "\n",
      "Training until validation scores don't improve for 200 rounds                                                          \n",
      "Early stopping, best iteration is:                                                                                     \n",
      "[354]\ttraining's auc: 0.967881\ttraining's binary_logloss: 0.409981\tvalid_1's auc: 0.904622\tvalid_1's binary_logloss: 0.592394\n",
      "Training until validation scores don't improve for 200 rounds                                                          \n",
      "Early stopping, best iteration is:                                                                                     \n",
      "[419]\ttraining's auc: 0.969503\ttraining's binary_logloss: 0.381223\tvalid_1's auc: 0.901039\tvalid_1's binary_logloss: 0.584779\n",
      ">> ROC-AUC Score 0.901853                                                                                              \n",
      ">> Custom Score 0.915277                                                                                               \n",
      "\n",
      "Training until validation scores don't improve for 200 rounds                                                          \n",
      "Early stopping, best iteration is:                                                                                     \n",
      "[462]\ttraining's auc: 0.968883\ttraining's binary_logloss: 0.402927\tvalid_1's auc: 0.906416\tvalid_1's binary_logloss: 0.589005\n",
      "Training until validation scores don't improve for 200 rounds                                                          \n",
      "Early stopping, best iteration is:                                                                                     \n",
      "[575]\ttraining's auc: 0.970557\ttraining's binary_logloss: 0.365212\tvalid_1's auc: 0.904381\tvalid_1's binary_logloss: 0.576287\n",
      ">> ROC-AUC Score 0.903513                                                                                              \n",
      ">> Custom Score 0.914690                                                                                               \n",
      "\n",
      "Training until validation scores don't improve for 200 rounds                                                          \n",
      "Early stopping, best iteration is:                                                                                     \n",
      "[448]\ttraining's auc: 0.969017\ttraining's binary_logloss: 0.390677\tvalid_1's auc: 0.903497\tvalid_1's binary_logloss: 0.58223\n",
      "Training until validation scores don't improve for 200 rounds                                                          \n",
      "Early stopping, best iteration is:                                                                                     \n",
      "[540]\ttraining's auc: 0.970604\ttraining's binary_logloss: 0.358547\tvalid_1's auc: 0.905545\tvalid_1's binary_logloss: 0.56435\n",
      ">> ROC-AUC Score 0.903980                                                                                              \n",
      ">> Custom Score 0.913047                                                                                               \n",
      "\n",
      "Training until validation scores don't improve for 200 rounds                                                          \n",
      "Early stopping, best iteration is:                                                                                     \n",
      "[466]\ttraining's auc: 0.969785\ttraining's binary_logloss: 0.384118\tvalid_1's auc: 0.905846\tvalid_1's binary_logloss: 0.586392\n",
      "Training until validation scores don't improve for 200 rounds                                                          \n",
      "Early stopping, best iteration is:                                                                                     \n",
      "[557]\ttraining's auc: 0.971055\ttraining's binary_logloss: 0.353271\tvalid_1's auc: 0.905774\tvalid_1's binary_logloss: 0.570498\n",
      ">> ROC-AUC Score 0.905047                                                                                              \n",
      ">> Custom Score 0.914499                                                                                               \n",
      "\n",
      "Training until validation scores don't improve for 200 rounds                                                          \n",
      "Early stopping, best iteration is:                                                                                     \n",
      "[397]\ttraining's auc: 0.969123\ttraining's binary_logloss: 0.39836\tvalid_1's auc: 0.904531\tvalid_1's binary_logloss: 0.585122\n",
      "Training until validation scores don't improve for 200 rounds                                                          \n",
      "Early stopping, best iteration is:                                                                                     \n",
      "[495]\ttraining's auc: 0.970743\ttraining's binary_logloss: 0.359934\tvalid_1's auc: 0.905421\tvalid_1's binary_logloss: 0.569788\n",
      ">> ROC-AUC Score 0.903419                                                                                              \n",
      ">> Custom Score 0.913626                                                                                               \n",
      "\n",
      "Training until validation scores don't improve for 200 rounds                                                          \n",
      "Early stopping, best iteration is:                                                                                     \n",
      "[410]\ttraining's auc: 0.967077\ttraining's binary_logloss: 0.420986\tvalid_1's auc: 0.90388\tvalid_1's binary_logloss: 0.59234\n",
      "Training until validation scores don't improve for 200 rounds                                                          \n",
      "Early stopping, best iteration is:                                                                                     \n",
      "[472]\ttraining's auc: 0.968364\ttraining's binary_logloss: 0.397332\tvalid_1's auc: 0.895949\tvalid_1's binary_logloss: 0.585889\n",
      ">> ROC-AUC Score 0.899246                                                                                              \n",
      ">> Custom Score 0.913876                                                                                               \n",
      "\n",
      "Training until validation scores don't improve for 200 rounds                                                          \n",
      "Early stopping, best iteration is:                                                                                     \n",
      "[324]\ttraining's auc: 0.968848\ttraining's binary_logloss: 0.403162\tvalid_1's auc: 0.905999\tvalid_1's binary_logloss: 0.590035\n",
      "Training until validation scores don't improve for 200 rounds                                                          \n",
      "Early stopping, best iteration is:                                                                                     \n",
      "[410]\ttraining's auc: 0.970713\ttraining's binary_logloss: 0.362871\tvalid_1's auc: 0.905795\tvalid_1's binary_logloss: 0.576547\n",
      ">> ROC-AUC Score 0.903803                                                                                              \n",
      ">> Custom Score 0.914793                                                                                               \n",
      "\n",
      "Training until validation scores don't improve for 200 rounds                                                          \n",
      "Early stopping, best iteration is:                                                                                     \n",
      "[466]\ttraining's auc: 0.969279\ttraining's binary_logloss: 0.392763\tvalid_1's auc: 0.90388\tvalid_1's binary_logloss: 0.586169\n",
      "Training until validation scores don't improve for 200 rounds                                                          \n",
      "Early stopping, best iteration is:                                                                                     \n",
      "[577]\ttraining's auc: 0.970942\ttraining's binary_logloss: 0.3555\tvalid_1's auc: 0.90426\tvalid_1's binary_logloss: 0.572137\n",
      ">> ROC-AUC Score 0.902617                                                                                              \n",
      ">> Custom Score 0.913775                                                                                               \n",
      "\n",
      "Training until validation scores don't improve for 200 rounds                                                          \n",
      "Early stopping, best iteration is:                                                                                     \n",
      "[480]\ttraining's auc: 0.96914\ttraining's binary_logloss: 0.388506\tvalid_1's auc: 0.904122\tvalid_1's binary_logloss: 0.581007\n",
      "Training until validation scores don't improve for 200 rounds                                                          \n",
      "Early stopping, best iteration is:                                                                                     \n",
      "[547]\ttraining's auc: 0.970087\ttraining's binary_logloss: 0.36646\tvalid_1's auc: 0.903735\tvalid_1's binary_logloss: 0.562806\n",
      ">> ROC-AUC Score 0.903723                                                                                              \n",
      ">> Custom Score 0.912325                                                                                               \n",
      "\n",
      "Training until validation scores don't improve for 200 rounds                                                          \n",
      "Early stopping, best iteration is:                                                                                     \n",
      "[354]\ttraining's auc: 0.968568\ttraining's binary_logloss: 0.408347\tvalid_1's auc: 0.901428\tvalid_1's binary_logloss: 0.587266\n",
      "Training until validation scores don't improve for 200 rounds                                                          \n",
      "Early stopping, best iteration is:                                                                                     \n",
      "[469]\ttraining's auc: 0.970862\ttraining's binary_logloss: 0.358911\tvalid_1's auc: 0.906593\tvalid_1's binary_logloss: 0.567651\n",
      ">> ROC-AUC Score 0.900997                                                                                              \n",
      ">> Custom Score 0.913172                                                                                               \n",
      "\n",
      "Training until validation scores don't improve for 200 rounds                                                          \n",
      "Early stopping, best iteration is:                                                                                     \n",
      "[354]\ttraining's auc: 0.969153\ttraining's binary_logloss: 0.394675\tvalid_1's auc: 0.90318\tvalid_1's binary_logloss: 0.586137\n",
      "Training until validation scores don't improve for 200 rounds                                                          \n",
      "Early stopping, best iteration is:                                                                                     \n",
      "[448]\ttraining's auc: 0.971068\ttraining's binary_logloss: 0.353549\tvalid_1's auc: 0.906172\tvalid_1's binary_logloss: 0.571564\n",
      ">> ROC-AUC Score 0.903009                                                                                              \n",
      ">> Custom Score 0.913928                                                                                               \n",
      "\n",
      "Training until validation scores don't improve for 200 rounds                                                          \n",
      "Early stopping, best iteration is:                                                                                     \n",
      "[390]\ttraining's auc: 0.96774\ttraining's binary_logloss: 0.411385\tvalid_1's auc: 0.905289\tvalid_1's binary_logloss: 0.591181\n",
      "Training until validation scores don't improve for 200 rounds                                                          \n",
      "Early stopping, best iteration is:                                                                                     \n",
      "[436]\ttraining's auc: 0.968669\ttraining's binary_logloss: 0.392722\tvalid_1's auc: 0.898975\tvalid_1's binary_logloss: 0.585387\n",
      ">> ROC-AUC Score 0.901890                                                                                              \n",
      ">> Custom Score 0.914782                                                                                               \n",
      "\n",
      "Training until validation scores don't improve for 200 rounds                                                          \n",
      "Early stopping, best iteration is:                                                                                     \n",
      "[493]\ttraining's auc: 0.969226\ttraining's binary_logloss: 0.394217\tvalid_1's auc: 0.907222\tvalid_1's binary_logloss: 0.587512\n",
      "Training until validation scores don't improve for 200 rounds                                                          \n",
      "Early stopping, best iteration is:                                                                                     \n",
      "[571]\ttraining's auc: 0.97037\ttraining's binary_logloss: 0.369099\tvalid_1's auc: 0.901326\tvalid_1's binary_logloss: 0.579567\n",
      ">> ROC-AUC Score 0.903720                                                                                              \n",
      ">> Custom Score 0.914709                                                                                               \n",
      "\n",
      "100%|██████████████████████████████████████████| 100/100 [8:31:10<00:00, 306.70s/trial, best loss: -0.9079899312536388]\n"
     ]
    }
   ],
   "source": [
    "# Initialize trials object\n",
    "trials = Trials()\n",
    "\n",
    "best = fmin(\n",
    "    fn=fmin_objective,\n",
    "    space=space_params, \n",
    "    algo=tpe.suggest, \n",
    "    max_evals=100, \n",
    "    trials=trials\n",
    ")"
   ]
  },
  {
   "cell_type": "markdown",
   "id": "eb26f496-8400-4efd-bae5-9298bd7d7cd8",
   "metadata": {
    "tags": []
   },
   "source": [
    "<div style=\"background-color: #506AB9;\" >\n",
    "    <h4 style=\"margin: auto; padding: 20px; color:#fff; \">3.3.1. The best parameters</h4>\n",
    "</div>"
   ]
  },
  {
   "cell_type": "markdown",
   "id": "e5918cdb-5493-401e-8663-0441de3f5e0d",
   "metadata": {
    "tags": []
   },
   "source": [
    "<div class=\"alert alert-block alert-success\">\n",
    "    <p>Let's print the best parameters</p>\n",
    "</div>"
   ]
  },
  {
   "cell_type": "code",
   "execution_count": 41,
   "id": "6121a06c-c039-4b7b-b1ed-886228b5355a",
   "metadata": {},
   "outputs": [
    {
     "name": "stdout",
     "output_type": "stream",
     "text": [
      "Best: {'learning_rate': 0.002021947556803579, 'max_depth': 2, 'min_child_weight': 44.68618422455195, 'min_split_gain': 0.030970825122649367, 'n_estimators': 0, 'num_leaves': 2, 'reg_alpha': 0.045341569610647205, 'reg_lambda': 0.08049459639521307}\n"
     ]
    }
   ],
   "source": [
    "print(\"Best: {}\".format(best))"
   ]
  },
  {
   "cell_type": "markdown",
   "id": "c8d418b7-879a-4438-b1c8-ae349a3f34db",
   "metadata": {
    "tags": []
   },
   "source": [
    "<div style=\"background-color: #506AB9;\" >\n",
    "    <h3 style=\"margin: auto; padding: 20px; color:#fff; \">3.4. Final model</h3>\n",
    "</div>"
   ]
  },
  {
   "cell_type": "markdown",
   "id": "ea0db824-6513-4895-92fb-83a9cdca8abb",
   "metadata": {
    "tags": []
   },
   "source": [
    "<div class=\"alert alert-block alert-info\">\n",
    "    <p>Now, we are going to execute our model based on the best parameters</p>\n",
    "</div>"
   ]
  },
  {
   "cell_type": "code",
   "execution_count": 42,
   "id": "d201670c-db81-40e1-9aae-64124b79d8f0",
   "metadata": {},
   "outputs": [],
   "source": [
    "# Formatting columns name\n",
    "df_resampled = df_resampled.rename(columns=lambda x:re.sub(\"[^A-Za-z0-9_]+\", \"\", x))\n",
    "    \n",
    "scaler = StandardScaler()\n",
    "    \n",
    "# Create arrays and dataframes to store results\n",
    "oof_preds = np.zeros(df_resampled.shape[0])\n",
    "feature_importance_df = pd.DataFrame()"
   ]
  },
  {
   "cell_type": "markdown",
   "id": "7381c79f-2a58-4c31-9ba9-7e71b1cc71d4",
   "metadata": {
    "tags": []
   },
   "source": [
    "<div class=\"alert alert-block alert-info\">\n",
    "    <p>Splitting and scale the data</p>\n",
    "</div>"
   ]
  },
  {
   "cell_type": "code",
   "execution_count": 43,
   "id": "3cd338bb-022b-4f8a-86c7-538195ff9de8",
   "metadata": {},
   "outputs": [],
   "source": [
    "# Split dataset to train\n",
    "X = df_resampled.drop(columns=[\"TARGET\", \"SK_ID_CURR\"])\n",
    "y_target = df_resampled.loc[:, \"TARGET\"]\n",
    "\n",
    "X_train, X_test, y_train, y_test = train_test_split(X, y_target, test_size=0.33, random_state=42)\n",
    "\n",
    "X_train_scaled = scaler.fit_transform(X_train)\n",
    "X_test_scaled = scaler.fit_transform(X_test)"
   ]
  },
  {
   "cell_type": "markdown",
   "id": "32d4b483-77f9-4896-a6e7-92f94d9db775",
   "metadata": {
    "tags": []
   },
   "source": [
    "<div class=\"alert alert-block alert-info\">\n",
    "    <p>Initializing the model. LightGBM parameters found by Bayesian optimization</p>\n",
    "</div>"
   ]
  },
  {
   "cell_type": "code",
   "execution_count": 44,
   "id": "cbaded4b-673c-42dc-8638-515211c94398",
   "metadata": {},
   "outputs": [],
   "source": [
    "clf = LGBMClassifier(\n",
    "    n_estimators=N_ESTIMATORS[best.get(\"n_estimators\")],\n",
    "    learning_rate=best.get(\"learning_rate\"),\n",
    "    num_leaves=NUM_LEAVES[best.get(\"num_leaves\")],\n",
    "    max_depth=MAX_DEPTH[best.get(\"max_depth\")],\n",
    "    reg_alpha=best.get(\"reg_alpha\"),\n",
    "    reg_lambda=best.get(\"reg_lambda\"),\n",
    "    min_split_gain=best.get(\"min_split_gain\"),\n",
    "    min_child_weight=best.get(\"min_child_weight\"),\n",
    "    colsample_bytree=0.8, \n",
    "    subsample=0.8,\n",
    "    is_unbalance=False,\n",
    "    n_jobs=-1 \n",
    ")"
   ]
  },
  {
   "cell_type": "markdown",
   "id": "2d89339f-dc01-461d-8bee-ae08ee2e0f4a",
   "metadata": {
    "tags": []
   },
   "source": [
    "<div class=\"alert alert-block alert-info\">\n",
    "    <p>Fitting the model</p>\n",
    "</div>"
   ]
  },
  {
   "cell_type": "code",
   "execution_count": 45,
   "id": "89022adc-02fd-40df-ae3a-b10211566fce",
   "metadata": {},
   "outputs": [
    {
     "name": "stdout",
     "output_type": "stream",
     "text": [
      "Training until validation scores don't improve for 200 rounds\n",
      "Early stopping, best iteration is:\n",
      "[500]\ttraining's auc: 0.969314\ttraining's binary_logloss: 0.390846\tvalid_1's auc: 0.907653\tvalid_1's binary_logloss: 0.585067\n"
     ]
    },
    {
     "data": {
      "text/plain": [
       "LGBMClassifier(colsample_bytree=0.8, is_unbalance=False,\n",
       "               learning_rate=0.002021947556803579, max_depth=9,\n",
       "               min_child_weight=44.68618422455195,\n",
       "               min_split_gain=0.030970825122649367, n_estimators=8000,\n",
       "               num_leaves=36, reg_alpha=0.045341569610647205,\n",
       "               reg_lambda=0.08049459639521307, subsample=0.8)"
      ]
     },
     "execution_count": 45,
     "metadata": {},
     "output_type": "execute_result"
    }
   ],
   "source": [
    "evaluation = [(X_train_scaled, y_train), (X_test_scaled, y_test)]\n",
    "\n",
    "clf.fit(X_train_scaled, y_train, eval_set=evaluation, eval_metric=\"auc\",\n",
    "        callbacks=[lgb.early_stopping(stopping_rounds=200),\n",
    "                  lgb.log_evaluation(period=-1)])"
   ]
  },
  {
   "cell_type": "markdown",
   "id": "c2ff0638-1038-4596-bffc-4ff0c2ccd444",
   "metadata": {
    "tags": []
   },
   "source": [
    "<div class=\"alert alert-block alert-info\">\n",
    "    <p>Metrics</p>\n",
    "</div>"
   ]
  },
  {
   "cell_type": "code",
   "execution_count": 46,
   "id": "b709deee-1c39-471f-bd10-0bc511bdd4eb",
   "metadata": {},
   "outputs": [
    {
     "name": "stdout",
     "output_type": "stream",
     "text": [
      "\n",
      ">> ROC-AUC Score 0.907653\n",
      ">> Custom Score 0.917305\n",
      "\n"
     ]
    }
   ],
   "source": [
    "oof_preds = clf.predict_proba(X_test_scaled, num_iteration=clf.best_iteration_)[:, 1]\n",
    "y_pred = clf.predict(X_test_scaled)\n",
    "\n",
    "# Freeing up memory\n",
    "del X_train, X_train_scaled, y_train, X_test, X_test_scaled\n",
    "gc.collect()\n",
    "    \n",
    "auc = roc_auc_score(y_test, oof_preds)\n",
    "print(\"\\n>> ROC-AUC Score %.6f\" % auc )\n",
    "\n",
    "cs = custom_score(y_test, oof_preds)\n",
    "print(\">> Custom Score %.6f\\n\" % cs )\n"
   ]
  },
  {
   "cell_type": "code",
   "execution_count": 47,
   "id": "e8a051ef-a8c1-4733-83ff-92aab4a3becd",
   "metadata": {},
   "outputs": [
    {
     "data": {
      "image/png": "[encoded data removed]",
      "text/plain": [
       "<Figure size 432x288 with 1 Axes>"
      ]
     },
     "metadata": {
      "needs_background": "light"
     },
     "output_type": "display_data"
    }
   ],
   "source": [
    "# Plotting the Precision-Recall curve\n",
    "display = PrecisionRecallDisplay.from_predictions(y_test.ravel(), oof_preds.ravel(), name=\"LGBMClassifier\")\n",
    "_ = display.ax_.set_title(\"2-class Precision-Recall curve\")"
   ]
  },
  {
   "cell_type": "code",
   "execution_count": 48,
   "id": "0b911177-2478-4553-a864-7aff7d94516b",
   "metadata": {},
   "outputs": [
    {
     "data": {
      "image/png": "[encoded data removed]",
      "text/plain": [
       "<Figure size 432x432 with 1 Axes>"
      ]
     },
     "metadata": {
      "needs_background": "light"
     },
     "output_type": "display_data"
    }
   ],
   "source": [
    "# Compute ROC curve and ROC area for each class\n",
    "fpr = dict()\n",
    "tpr = dict()\n",
    "fpr[\"micro\"], tpr[\"micro\"], _ = roc_curve(y_test.ravel(), oof_preds.ravel())\n",
    "\n",
    "plt.subplots(1, figsize=(6, 6))\n",
    "plt.title(\"Receiver Operating Characteristic\")\n",
    "plt.plot(fpr[\"micro\"], tpr[\"micro\"])\n",
    "plt.plot([0, 1], ls=\"--\")\n",
    "plt.plot([0, 0], [1, 0] , c=\".7\"), plt.plot([1, 1] , c=\".7\")\n",
    "plt.ylabel(\"True Positive Rate\")\n",
    "plt.xlabel(\"False Positive Rate\")\n",
    "plt.show()"
   ]
  },
  {
   "cell_type": "code",
   "execution_count": 49,
   "id": "eaa44e5e-4be9-43de-9cc0-81349d7dadfe",
   "metadata": {},
   "outputs": [
    {
     "data": {
      "image/png": "[encoded data removed]",
      "text/plain": [
       "<Figure size 432x288 with 2 Axes>"
      ]
     },
     "metadata": {
      "needs_background": "light"
     },
     "output_type": "display_data"
    }
   ],
   "source": [
    "# Confusion matrix\n",
    "#display = ConfusionMatrixDisplay.from_predictions(y_test, y_pred, display_labels=[\"Repaid\",\"No repaid\"])\n",
    "display = ConfusionMatrixDisplay.from_predictions(y_test, y_pred)\n",
    "_ = display.ax_.set_title(\"Confusion matrix\")"
   ]
  },
  {
   "cell_type": "code",
   "execution_count": 50,
   "id": "1c90f459-401c-43a0-9c46-4c0c0e3a4c78",
   "metadata": {},
   "outputs": [
    {
     "data": {
      "image/png": "[encoded data removed]",
      "text/plain": [
       "<Figure size 864x720 with 1 Axes>"
      ]
     },
     "metadata": {
      "needs_background": "light"
     },
     "output_type": "display_data"
    }
   ],
   "source": [
    "# Feature importance\n",
    "feature_importance_df_ = pd.DataFrame({\"importance\":clf.feature_importances_, \"feature\":X.columns})\n",
    "\n",
    "cols = feature_importance_df_[[\"feature\", \"importance\"]].groupby(\"feature\").mean().sort_values(by=\"importance\", ascending=False)[:40].index\n",
    "best_features = feature_importance_df_.loc[feature_importance_df_.feature.isin(cols)]\n",
    "plt.figure(figsize=(12, 10))\n",
    "sns.barplot(x=\"importance\", y=\"feature\", data=best_features.sort_values(by=\"importance\", ascending=False))\n",
    "plt.xlabel('Date', fontsize=12);\n",
    "plt.ylabel('Sales', fontsize=12);\n",
    "plt.title('LightGBM Features (avg over folds)')\n",
    "plt.tight_layout()\n",
    "plt.show()"
   ]
  },
  {
   "cell_type": "markdown",
   "id": "677db037-e43e-4410-bcf2-de1713e7af62",
   "metadata": {
    "tags": []
   },
   "source": [
    "<div style=\"background-color: #506AB9;\" >\n",
    "    <h3 style=\"margin: auto; padding: 20px; color:#fff; \">3.5. Final re-training</h3>\n",
    "</div>"
   ]
  },
  {
   "cell_type": "markdown",
   "id": "9a110d02-c425-4524-9c55-d4267e5bfa3e",
   "metadata": {
    "tags": []
   },
   "source": [
    "<div class=\"alert alert-block alert-info\">\n",
    "    <p>Scaling the data</p>\n",
    "</div>"
   ]
  },
  {
   "cell_type": "code",
   "execution_count": 51,
   "id": "1db1de37-f3cb-463b-98a1-db216485148a",
   "metadata": {},
   "outputs": [],
   "source": [
    "X_scaled = scaler.fit_transform(X)"
   ]
  },
  {
   "cell_type": "code",
   "execution_count": 52,
   "id": "2fabefb6-b85f-4e6d-9254-b9ac68313183",
   "metadata": {},
   "outputs": [
    {
     "data": {
      "text/plain": [
       "LGBMClassifier(colsample_bytree=0.8, is_unbalance=False,\n",
       "               learning_rate=0.002021947556803579, max_depth=9,\n",
       "               min_child_weight=44.68618422455195,\n",
       "               min_split_gain=0.030970825122649367, n_estimators=8000,\n",
       "               num_leaves=36, reg_alpha=0.045341569610647205,\n",
       "               reg_lambda=0.08049459639521307, subsample=0.8)"
      ]
     },
     "execution_count": 52,
     "metadata": {},
     "output_type": "execute_result"
    }
   ],
   "source": [
    "clf.fit(X_scaled, y_target)"
   ]
  },
  {
   "cell_type": "code",
   "execution_count": 53,
   "id": "affc59b2-f588-4f95-856d-0450c719ceaa",
   "metadata": {},
   "outputs": [
    {
     "data": {
      "text/plain": [
       "['models/model_1.0.2.pkl']"
      ]
     },
     "execution_count": 53,
     "metadata": {},
     "output_type": "execute_result"
    }
   ],
   "source": [
    "# Saving the model based on the best parameters\n",
    "joblib.dump(clf, \"models/model_{version}.pkl\".format(version=sklearn.__version__))"
   ]
  },
  {
   "cell_type": "code",
   "execution_count": null,
   "id": "50d9effc-f212-4d73-870d-bdcf41fbc683",
   "metadata": {},
   "outputs": [],
   "source": []
  }
 ],
 "metadata": {
  "kernelspec": {
   "display_name": "Python 3 (ipykernel)",
   "language": "python",
   "name": "python3"
  },
  "language_info": {
   "codemirror_mode": {
    "name": "ipython",
    "version": 3
   },
   "file_extension": ".py",
   "mimetype": "text/x-python",
   "name": "python",
   "nbconvert_exporter": "python",
   "pygments_lexer": "ipython3",
   "version": "3.9.9"
  }
 },
 "nbformat": 4,
 "nbformat_minor": 5
}
