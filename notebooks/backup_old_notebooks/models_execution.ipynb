{
 "cells": [
  {
   "cell_type": "code",
   "execution_count": 1,
   "id": "9fb90a80-4255-4cb7-bf04-4392951e25c1",
   "metadata": {},
   "outputs": [],
   "source": [
    "import re\n",
    "import json\n",
    "import numpy as np\n",
    "import pandas as pd\n",
    "from functools import partial\n",
    "\n",
    "import sklearn\n",
    "from sklearn.preprocessing import StandardScaler\n",
    "import joblib\n",
    "\n",
    "import lightgbm as lgb\n",
    "from lightgbm import LGBMClassifier\n",
    "\n",
    "## Own specific functions \n",
    "from functions import *\n",
    "\n",
    "scaler = StandardScaler()"
   ]
  },
  {
   "cell_type": "markdown",
   "id": "b04a0d65-8ba0-4b59-8d0a-07f75480fd2a",
   "metadata": {
    "tags": []
   },
   "source": [
    "<div style=\"background-color: #506AB9;\" >\n",
    "    <h1 style=\"margin: auto; padding: 20px; color:#fff; \">Files</h1>\n",
    "</div>"
   ]
  },
  {
   "cell_type": "code",
   "execution_count": 2,
   "id": "4fbc4969-2ebe-45db-9211-b60b6d39b80e",
   "metadata": {},
   "outputs": [],
   "source": [
    "df_customer = pd.read_csv(r\"datasets\\df_customers_to_predict.csv\")\n",
    "\n",
    "# Formatting columns name\n",
    "df_customer = df_customer.rename(columns=lambda x:re.sub(\"[^A-Za-z0-9_]+\", \"\", x))"
   ]
  },
  {
   "cell_type": "code",
   "execution_count": 3,
   "id": "c2bed55b-bbac-46c2-8f3c-3a5a59d8cb74",
   "metadata": {},
   "outputs": [
    {
     "name": "stdout",
     "output_type": "stream",
     "text": [
      "\n",
      "Analysis Header of df_customer dataset\n",
      "--------------------------------------------------------------------------------\n",
      "- Dataset shape:\t\t\t 48744 rows and 796 columns\n",
      "- Total of NaN values:\t\t\t 0\n",
      "- Percentage of NaN:\t\t\t 0.0 %\n",
      "- Total of infinite values:\t\t 0\n",
      "- Percentage of infinite values:\t 0.0 %\n",
      "- Total of full duplicates rows:\t 0\n",
      "- Total of empty rows:\t\t\t 0\n",
      "- Total of empty columns:\t\t 0\n",
      "- Unique indexes:\t\t\t True\n",
      "- Memory usage:\t\t\t\t 296.0 MB\n"
     ]
    }
   ],
   "source": [
    "df_analysis(df_customer, \"df_customer\", analysis_type=\"header\")"
   ]
  },
  {
   "cell_type": "markdown",
   "id": "825969db-439f-4323-b31b-52b55ae88362",
   "metadata": {
    "tags": []
   },
   "source": [
    "<div class=\"alert alert-block alert-info\">\n",
    "    <p>Models</p>\n",
    "</div>"
   ]
  },
  {
   "cell_type": "markdown",
   "id": "cdb00016-2004-4377-aa43-c5cd188ae0df",
   "metadata": {},
   "source": [
    "# load the model from disk\n",
    "initial_model = joblib.load(\"models\\model_1.0.2.pkl\")"
   ]
  },
  {
   "cell_type": "markdown",
   "id": "80240330-4dbf-4a3f-9054-56e7436a0014",
   "metadata": {},
   "source": [
    "# load the model from disk\n",
    "not_resampled_not_scaler_model = joblib.load(\"models\\model_clf_not_resampled_not_scaler.pkl\")"
   ]
  },
  {
   "cell_type": "markdown",
   "id": "c2bb8aad-481c-4a47-a44c-23bc9c7162ad",
   "metadata": {},
   "source": [
    "# load the model from disk\n",
    "not_resampled_scaler_model = joblib.load(\"models\\model_clf_not_resampled_scaler.pkl\")"
   ]
  },
  {
   "cell_type": "code",
   "execution_count": 4,
   "id": "dc1071dc-09e8-42d1-b572-e5a51c990505",
   "metadata": {},
   "outputs": [],
   "source": [
    "# load the model from disk\n",
    "resampled_not_scaler_model = joblib.load(\"models\\model_clf_resampled_not_scaler.pkl\")"
   ]
  },
  {
   "cell_type": "markdown",
   "id": "c847187e-6097-435c-b5e5-7c7bf64ee663",
   "metadata": {
    "tags": []
   },
   "source": [
    "<div style=\"background-color: #506AB9;\" >\n",
    "    <h1 style=\"margin: auto; padding: 20px; color:#fff; \">Filterin by customer(s)</h1>\n",
    "</div>"
   ]
  },
  {
   "cell_type": "code",
   "execution_count": 5,
   "id": "03c958a5-4f52-445c-bfe4-b4018cfe60af",
   "metadata": {},
   "outputs": [],
   "source": [
    "#pay = [100001, 456168, 456223, 100066, 100028, 456008]\n",
    "#no_pay = [100172, 105749, 452356, 452768, 452768]"
   ]
  },
  {
   "cell_type": "code",
   "execution_count": 6,
   "id": "aef27996-5615-4a05-a4fc-06bfc25c95b5",
   "metadata": {},
   "outputs": [],
   "source": [
    "#df_temp = df_customer[df_customer[\"SK_ID_CURR\"] == 100001]\n",
    "df_temp = df_customer.drop(columns=[\"SK_ID_CURR\"])"
   ]
  },
  {
   "cell_type": "code",
   "execution_count": 7,
   "id": "42823085-e7a8-4d03-8f1e-2ea7684260e7",
   "metadata": {},
   "outputs": [],
   "source": [
    "X_scaled = scaler.fit_transform(df_temp)"
   ]
  },
  {
   "cell_type": "markdown",
   "id": "d45e21be-2f4b-4ba9-a5b7-cb26fa00517d",
   "metadata": {
    "tags": []
   },
   "source": [
    "<div class=\"alert alert-block alert-info\">\n",
    "    <p>Initial model</p>\n",
    "</div>"
   ]
  },
  {
   "cell_type": "markdown",
   "id": "ef97322f-32b3-4d5e-acad-6048ee03bfe4",
   "metadata": {},
   "source": [
    "result_initial_model = initial_model.predict(X_scaled)\n",
    "print('Total occurences of \"0\" in array: ', result_initial_model.tolist().count(0))"
   ]
  },
  {
   "cell_type": "markdown",
   "id": "476ec336-ed78-4384-b04d-9f8bc352da15",
   "metadata": {},
   "source": [
    "df_result_initial_model = df_customer.copy()\n",
    "result_initial_model  = pd.Series(result_initial_model, name=\"TARGET\")\n",
    "df_result_initial_model.insert(1, \"TARGET\", result_initial_model)\n",
    "df_result_initial_model.head()"
   ]
  },
  {
   "cell_type": "markdown",
   "id": "e88822f5-2c66-47b1-98cb-a91a383d2c3f",
   "metadata": {},
   "source": [
    "barplot_and_pie(df_result_initial_model[\"TARGET\"], \"Target distribution\", \" \")"
   ]
  },
  {
   "cell_type": "markdown",
   "id": "b6f2f11a-fd00-4ffb-87da-23a48a4f2498",
   "metadata": {
    "tags": []
   },
   "source": [
    "<div class=\"alert alert-block alert-info\">\n",
    "    <p>Not Resampled and not scaler</p>\n",
    "</div>"
   ]
  },
  {
   "cell_type": "markdown",
   "id": "004bd199-0724-4f7a-b06c-9b093657cc0c",
   "metadata": {},
   "source": [
    "result_not_resampled_not_scaler_model = not_resampled_not_scaler_model.predict(df_temp)\n",
    "print('Total occurences of \"0\" in array: ', result_not_resampled_not_scaler_model.tolist().count(0))"
   ]
  },
  {
   "cell_type": "markdown",
   "id": "542fe2d3-3727-4ed0-b6a1-e64554ebebdc",
   "metadata": {},
   "source": [
    "df_result_not_resampled_not_scaler_model = df_customer.copy()\n",
    "result_not_resampled_not_scaler_model  = pd.Series(result_not_resampled_not_scaler_model, name=\"TARGET\")\n",
    "df_result_not_resampled_not_scaler_model.insert(1, \"TARGET\", result_not_resampled_not_scaler_model)\n",
    "df_result_not_resampled_not_scaler_model.head()"
   ]
  },
  {
   "cell_type": "markdown",
   "id": "c71f7ae1-6ef7-497e-b81f-6fb1a0d41d35",
   "metadata": {},
   "source": [
    "barplot_and_pie(df_result_not_resampled_not_scaler_model[\"TARGET\"], \"Target distribution\", \" \")"
   ]
  },
  {
   "cell_type": "markdown",
   "id": "d9c70514-2078-4341-9532-98e97f93b8ce",
   "metadata": {
    "tags": []
   },
   "source": [
    "<div class=\"alert alert-block alert-info\">\n",
    "    <p>Not Resampled and scaler</p>\n",
    "</div>"
   ]
  },
  {
   "cell_type": "markdown",
   "id": "b2ae6be0-b590-4fbd-9987-d66658e0412c",
   "metadata": {},
   "source": [
    "result_not_resampled_scaler_model = not_resampled_scaler_model.predict(X_scaled)\n",
    "print('Total occurences of \"0\" in array: ', result_not_resampled_scaler_model.tolist().count(0))"
   ]
  },
  {
   "cell_type": "markdown",
   "id": "28ecbf4f-f73b-432f-9c35-8699cdbc5306",
   "metadata": {},
   "source": [
    "df_result_not_resampled_scaler_model = df_customer.copy()\n",
    "result_not_resampled_scaler_model  = pd.Series(result_not_resampled_scaler_model, name=\"TARGET\")\n",
    "df_result_not_resampled_scaler_model.insert(1, \"TARGET\", result_not_resampled_scaler_model)\n",
    "df_result_not_resampled_scaler_model.head()"
   ]
  },
  {
   "cell_type": "markdown",
   "id": "4e59619d-5130-4b23-baba-0540c7dd6f1f",
   "metadata": {},
   "source": [
    "barplot_and_pie(df_result_not_resampled_scaler_model[\"TARGET\"], \"Target distribution\", \" \")"
   ]
  },
  {
   "cell_type": "markdown",
   "id": "890da65b-3fe3-41d8-801b-4be5761499a3",
   "metadata": {
    "tags": []
   },
   "source": [
    "<div class=\"alert alert-block alert-info\">\n",
    "    <p>Resampled and not scaler</p>\n",
    "</div>"
   ]
  },
  {
   "cell_type": "markdown",
   "id": "e910e106-4f95-4b36-aa75-4ef44a3d18e1",
   "metadata": {
    "tags": []
   },
   "source": [
    "<div class=\"alert alert-block alert-success\">\n",
    "    <p>Selected model</p>\n",
    "</div>"
   ]
  },
  {
   "cell_type": "code",
   "execution_count": 8,
   "id": "82d6af20-8c08-4e58-a92d-7060e56e350d",
   "metadata": {},
   "outputs": [
    {
     "name": "stdout",
     "output_type": "stream",
     "text": [
      "Total occurences of \"0\" in array:  48574\n"
     ]
    }
   ],
   "source": [
    "result_resampled_not_scaler_model = resampled_not_scaler_model.predict(df_temp)\n",
    "print('Total occurences of \"0\" in array: ', result_resampled_not_scaler_model.tolist().count(0))"
   ]
  },
  {
   "cell_type": "code",
   "execution_count": 9,
   "id": "654e3bd5-00d8-45cc-8ec1-7c6b77fc9e38",
   "metadata": {},
   "outputs": [
    {
     "data": {
      "text/html": [
       "<div>\n",
       "<style scoped>\n",
       "    .dataframe tbody tr th:only-of-type {\n",
       "        vertical-align: middle;\n",
       "    }\n",
       "\n",
       "    .dataframe tbody tr th {\n",
       "        vertical-align: top;\n",
       "    }\n",
       "\n",
       "    .dataframe thead th {\n",
       "        text-align: right;\n",
       "    }\n",
       "</style>\n",
       "<table border=\"1\" class=\"dataframe\">\n",
       "  <thead>\n",
       "    <tr style=\"text-align: right;\">\n",
       "      <th></th>\n",
       "      <th>SK_ID_CURR</th>\n",
       "      <th>TARGET</th>\n",
       "      <th>CODE_GENDER</th>\n",
       "      <th>FLAG_OWN_CAR</th>\n",
       "      <th>FLAG_OWN_REALTY</th>\n",
       "      <th>CNT_CHILDREN</th>\n",
       "      <th>AMT_INCOME_TOTAL</th>\n",
       "      <th>AMT_CREDIT</th>\n",
       "      <th>AMT_ANNUITY</th>\n",
       "      <th>AMT_GOODS_PRICE</th>\n",
       "      <th>...</th>\n",
       "      <th>CC_NAME_CONTRACT_STATUS_Signed_MAX</th>\n",
       "      <th>CC_NAME_CONTRACT_STATUS_Signed_MEAN</th>\n",
       "      <th>CC_NAME_CONTRACT_STATUS_Signed_SUM</th>\n",
       "      <th>CC_NAME_CONTRACT_STATUS_Signed_VAR</th>\n",
       "      <th>CC_NAME_CONTRACT_STATUS_nan_MIN</th>\n",
       "      <th>CC_NAME_CONTRACT_STATUS_nan_MAX</th>\n",
       "      <th>CC_NAME_CONTRACT_STATUS_nan_MEAN</th>\n",
       "      <th>CC_NAME_CONTRACT_STATUS_nan_SUM</th>\n",
       "      <th>CC_NAME_CONTRACT_STATUS_nan_VAR</th>\n",
       "      <th>CC_COUNT</th>\n",
       "    </tr>\n",
       "  </thead>\n",
       "  <tbody>\n",
       "    <tr>\n",
       "      <th>0</th>\n",
       "      <td>100001</td>\n",
       "      <td>0.0</td>\n",
       "      <td>1</td>\n",
       "      <td>0</td>\n",
       "      <td>0</td>\n",
       "      <td>0</td>\n",
       "      <td>135000.0</td>\n",
       "      <td>568800.0</td>\n",
       "      <td>20560.5</td>\n",
       "      <td>450000.0</td>\n",
       "      <td>...</td>\n",
       "      <td>0.047597</td>\n",
       "      <td>0.003583</td>\n",
       "      <td>0.106781</td>\n",
       "      <td>0.002955</td>\n",
       "      <td>0.0</td>\n",
       "      <td>0.0</td>\n",
       "      <td>0.0</td>\n",
       "      <td>0.0</td>\n",
       "      <td>0.0</td>\n",
       "      <td>37.083683</td>\n",
       "    </tr>\n",
       "    <tr>\n",
       "      <th>1</th>\n",
       "      <td>100005</td>\n",
       "      <td>0.0</td>\n",
       "      <td>0</td>\n",
       "      <td>0</td>\n",
       "      <td>0</td>\n",
       "      <td>0</td>\n",
       "      <td>99000.0</td>\n",
       "      <td>222768.0</td>\n",
       "      <td>17370.0</td>\n",
       "      <td>180000.0</td>\n",
       "      <td>...</td>\n",
       "      <td>0.047597</td>\n",
       "      <td>0.003583</td>\n",
       "      <td>0.106781</td>\n",
       "      <td>0.002955</td>\n",
       "      <td>0.0</td>\n",
       "      <td>0.0</td>\n",
       "      <td>0.0</td>\n",
       "      <td>0.0</td>\n",
       "      <td>0.0</td>\n",
       "      <td>37.083683</td>\n",
       "    </tr>\n",
       "    <tr>\n",
       "      <th>2</th>\n",
       "      <td>100013</td>\n",
       "      <td>0.0</td>\n",
       "      <td>0</td>\n",
       "      <td>1</td>\n",
       "      <td>0</td>\n",
       "      <td>0</td>\n",
       "      <td>202500.0</td>\n",
       "      <td>663264.0</td>\n",
       "      <td>69777.0</td>\n",
       "      <td>630000.0</td>\n",
       "      <td>...</td>\n",
       "      <td>0.000000</td>\n",
       "      <td>0.000000</td>\n",
       "      <td>0.000000</td>\n",
       "      <td>0.000000</td>\n",
       "      <td>0.0</td>\n",
       "      <td>0.0</td>\n",
       "      <td>0.0</td>\n",
       "      <td>0.0</td>\n",
       "      <td>0.0</td>\n",
       "      <td>96.000000</td>\n",
       "    </tr>\n",
       "    <tr>\n",
       "      <th>3</th>\n",
       "      <td>100028</td>\n",
       "      <td>0.0</td>\n",
       "      <td>1</td>\n",
       "      <td>0</td>\n",
       "      <td>0</td>\n",
       "      <td>2</td>\n",
       "      <td>315000.0</td>\n",
       "      <td>1575000.0</td>\n",
       "      <td>49018.5</td>\n",
       "      <td>1575000.0</td>\n",
       "      <td>...</td>\n",
       "      <td>0.000000</td>\n",
       "      <td>0.000000</td>\n",
       "      <td>0.000000</td>\n",
       "      <td>0.000000</td>\n",
       "      <td>0.0</td>\n",
       "      <td>0.0</td>\n",
       "      <td>0.0</td>\n",
       "      <td>0.0</td>\n",
       "      <td>0.0</td>\n",
       "      <td>49.000000</td>\n",
       "    </tr>\n",
       "    <tr>\n",
       "      <th>4</th>\n",
       "      <td>100038</td>\n",
       "      <td>0.0</td>\n",
       "      <td>0</td>\n",
       "      <td>1</td>\n",
       "      <td>1</td>\n",
       "      <td>1</td>\n",
       "      <td>180000.0</td>\n",
       "      <td>625500.0</td>\n",
       "      <td>32067.0</td>\n",
       "      <td>625500.0</td>\n",
       "      <td>...</td>\n",
       "      <td>0.047597</td>\n",
       "      <td>0.003583</td>\n",
       "      <td>0.106781</td>\n",
       "      <td>0.002955</td>\n",
       "      <td>0.0</td>\n",
       "      <td>0.0</td>\n",
       "      <td>0.0</td>\n",
       "      <td>0.0</td>\n",
       "      <td>0.0</td>\n",
       "      <td>37.083683</td>\n",
       "    </tr>\n",
       "  </tbody>\n",
       "</table>\n",
       "<p>5 rows × 797 columns</p>\n",
       "</div>"
      ],
      "text/plain": [
       "   SK_ID_CURR  TARGET  CODE_GENDER  FLAG_OWN_CAR  FLAG_OWN_REALTY  \\\n",
       "0      100001     0.0            1             0                0   \n",
       "1      100005     0.0            0             0                0   \n",
       "2      100013     0.0            0             1                0   \n",
       "3      100028     0.0            1             0                0   \n",
       "4      100038     0.0            0             1                1   \n",
       "\n",
       "   CNT_CHILDREN  AMT_INCOME_TOTAL  AMT_CREDIT  AMT_ANNUITY  AMT_GOODS_PRICE  \\\n",
       "0             0          135000.0    568800.0      20560.5         450000.0   \n",
       "1             0           99000.0    222768.0      17370.0         180000.0   \n",
       "2             0          202500.0    663264.0      69777.0         630000.0   \n",
       "3             2          315000.0   1575000.0      49018.5        1575000.0   \n",
       "4             1          180000.0    625500.0      32067.0         625500.0   \n",
       "\n",
       "   ...  CC_NAME_CONTRACT_STATUS_Signed_MAX  \\\n",
       "0  ...                            0.047597   \n",
       "1  ...                            0.047597   \n",
       "2  ...                            0.000000   \n",
       "3  ...                            0.000000   \n",
       "4  ...                            0.047597   \n",
       "\n",
       "   CC_NAME_CONTRACT_STATUS_Signed_MEAN  CC_NAME_CONTRACT_STATUS_Signed_SUM  \\\n",
       "0                             0.003583                            0.106781   \n",
       "1                             0.003583                            0.106781   \n",
       "2                             0.000000                            0.000000   \n",
       "3                             0.000000                            0.000000   \n",
       "4                             0.003583                            0.106781   \n",
       "\n",
       "   CC_NAME_CONTRACT_STATUS_Signed_VAR  CC_NAME_CONTRACT_STATUS_nan_MIN  \\\n",
       "0                            0.002955                              0.0   \n",
       "1                            0.002955                              0.0   \n",
       "2                            0.000000                              0.0   \n",
       "3                            0.000000                              0.0   \n",
       "4                            0.002955                              0.0   \n",
       "\n",
       "   CC_NAME_CONTRACT_STATUS_nan_MAX  CC_NAME_CONTRACT_STATUS_nan_MEAN  \\\n",
       "0                              0.0                               0.0   \n",
       "1                              0.0                               0.0   \n",
       "2                              0.0                               0.0   \n",
       "3                              0.0                               0.0   \n",
       "4                              0.0                               0.0   \n",
       "\n",
       "   CC_NAME_CONTRACT_STATUS_nan_SUM  CC_NAME_CONTRACT_STATUS_nan_VAR   CC_COUNT  \n",
       "0                              0.0                              0.0  37.083683  \n",
       "1                              0.0                              0.0  37.083683  \n",
       "2                              0.0                              0.0  96.000000  \n",
       "3                              0.0                              0.0  49.000000  \n",
       "4                              0.0                              0.0  37.083683  \n",
       "\n",
       "[5 rows x 797 columns]"
      ]
     },
     "execution_count": 9,
     "metadata": {},
     "output_type": "execute_result"
    }
   ],
   "source": [
    "df_result_resampled_not_scaler_model = df_customer.copy()\n",
    "result_resampled_not_scaler_model  = pd.Series(result_resampled_not_scaler_model, name=\"TARGET\")\n",
    "df_result_resampled_not_scaler_model.insert(1, \"TARGET\", result_resampled_not_scaler_model)\n",
    "df_result_resampled_not_scaler_model.head()"
   ]
  },
  {
   "cell_type": "code",
   "execution_count": 10,
   "id": "0ca853de-6b52-481d-a0a8-2004d0eb4ce9",
   "metadata": {},
   "outputs": [
    {
     "data": {
      "image/png": "[encoded data removed]",
      "text/plain": [
       "<Figure size 648x360 with 2 Axes>"
      ]
     },
     "metadata": {
      "needs_background": "light"
     },
     "output_type": "display_data"
    }
   ],
   "source": [
    "barplot_and_pie(df_result_resampled_not_scaler_model[\"TARGET\"], \"Target distribution\", \" \")"
   ]
  },
  {
   "cell_type": "code",
   "execution_count": 11,
   "id": "d8e1c0ec-fb47-4d6d-88bf-c46d6baf6c9f",
   "metadata": {},
   "outputs": [
    {
     "data": {
      "text/html": [
       "<div>\n",
       "<style scoped>\n",
       "    .dataframe tbody tr th:only-of-type {\n",
       "        vertical-align: middle;\n",
       "    }\n",
       "\n",
       "    .dataframe tbody tr th {\n",
       "        vertical-align: top;\n",
       "    }\n",
       "\n",
       "    .dataframe thead th {\n",
       "        text-align: right;\n",
       "    }\n",
       "</style>\n",
       "<table border=\"1\" class=\"dataframe\">\n",
       "  <thead>\n",
       "    <tr style=\"text-align: right;\">\n",
       "      <th></th>\n",
       "      <th>SK_ID_CURR</th>\n",
       "      <th>TARGET</th>\n",
       "      <th>CODE_GENDER</th>\n",
       "      <th>FLAG_OWN_CAR</th>\n",
       "      <th>FLAG_OWN_REALTY</th>\n",
       "      <th>CNT_CHILDREN</th>\n",
       "      <th>AMT_INCOME_TOTAL</th>\n",
       "      <th>AMT_CREDIT</th>\n",
       "      <th>AMT_ANNUITY</th>\n",
       "      <th>AMT_GOODS_PRICE</th>\n",
       "      <th>...</th>\n",
       "      <th>CC_NAME_CONTRACT_STATUS_Signed_MAX</th>\n",
       "      <th>CC_NAME_CONTRACT_STATUS_Signed_MEAN</th>\n",
       "      <th>CC_NAME_CONTRACT_STATUS_Signed_SUM</th>\n",
       "      <th>CC_NAME_CONTRACT_STATUS_Signed_VAR</th>\n",
       "      <th>CC_NAME_CONTRACT_STATUS_nan_MIN</th>\n",
       "      <th>CC_NAME_CONTRACT_STATUS_nan_MAX</th>\n",
       "      <th>CC_NAME_CONTRACT_STATUS_nan_MEAN</th>\n",
       "      <th>CC_NAME_CONTRACT_STATUS_nan_SUM</th>\n",
       "      <th>CC_NAME_CONTRACT_STATUS_nan_VAR</th>\n",
       "      <th>CC_COUNT</th>\n",
       "    </tr>\n",
       "  </thead>\n",
       "  <tbody>\n",
       "    <tr>\n",
       "      <th>998</th>\n",
       "      <td>106854</td>\n",
       "      <td>1.0</td>\n",
       "      <td>1</td>\n",
       "      <td>0</td>\n",
       "      <td>0</td>\n",
       "      <td>0</td>\n",
       "      <td>202500.0</td>\n",
       "      <td>574402.5</td>\n",
       "      <td>29457.0</td>\n",
       "      <td>495859.5</td>\n",
       "      <td>...</td>\n",
       "      <td>0.000000</td>\n",
       "      <td>0.000000</td>\n",
       "      <td>0.000000</td>\n",
       "      <td>0.000000</td>\n",
       "      <td>0.0</td>\n",
       "      <td>0.0</td>\n",
       "      <td>0.0</td>\n",
       "      <td>0.0</td>\n",
       "      <td>0.0</td>\n",
       "      <td>33.000000</td>\n",
       "    </tr>\n",
       "    <tr>\n",
       "      <th>1610</th>\n",
       "      <td>111452</td>\n",
       "      <td>1.0</td>\n",
       "      <td>0</td>\n",
       "      <td>1</td>\n",
       "      <td>0</td>\n",
       "      <td>0</td>\n",
       "      <td>333000.0</td>\n",
       "      <td>748651.5</td>\n",
       "      <td>59278.5</td>\n",
       "      <td>639000.0</td>\n",
       "      <td>...</td>\n",
       "      <td>0.000000</td>\n",
       "      <td>0.000000</td>\n",
       "      <td>0.000000</td>\n",
       "      <td>0.000000</td>\n",
       "      <td>0.0</td>\n",
       "      <td>0.0</td>\n",
       "      <td>0.0</td>\n",
       "      <td>0.0</td>\n",
       "      <td>0.0</td>\n",
       "      <td>17.000000</td>\n",
       "    </tr>\n",
       "    <tr>\n",
       "      <th>1935</th>\n",
       "      <td>113627</td>\n",
       "      <td>1.0</td>\n",
       "      <td>0</td>\n",
       "      <td>0</td>\n",
       "      <td>0</td>\n",
       "      <td>0</td>\n",
       "      <td>135000.0</td>\n",
       "      <td>440784.0</td>\n",
       "      <td>34956.0</td>\n",
       "      <td>360000.0</td>\n",
       "      <td>...</td>\n",
       "      <td>0.047597</td>\n",
       "      <td>0.003583</td>\n",
       "      <td>0.106781</td>\n",
       "      <td>0.002955</td>\n",
       "      <td>0.0</td>\n",
       "      <td>0.0</td>\n",
       "      <td>0.0</td>\n",
       "      <td>0.0</td>\n",
       "      <td>0.0</td>\n",
       "      <td>37.083683</td>\n",
       "    </tr>\n",
       "    <tr>\n",
       "      <th>2035</th>\n",
       "      <td>114283</td>\n",
       "      <td>1.0</td>\n",
       "      <td>0</td>\n",
       "      <td>0</td>\n",
       "      <td>1</td>\n",
       "      <td>0</td>\n",
       "      <td>90000.0</td>\n",
       "      <td>156384.0</td>\n",
       "      <td>14341.5</td>\n",
       "      <td>135000.0</td>\n",
       "      <td>...</td>\n",
       "      <td>0.047597</td>\n",
       "      <td>0.003583</td>\n",
       "      <td>0.106781</td>\n",
       "      <td>0.002955</td>\n",
       "      <td>0.0</td>\n",
       "      <td>0.0</td>\n",
       "      <td>0.0</td>\n",
       "      <td>0.0</td>\n",
       "      <td>0.0</td>\n",
       "      <td>37.083683</td>\n",
       "    </tr>\n",
       "    <tr>\n",
       "      <th>2037</th>\n",
       "      <td>114310</td>\n",
       "      <td>1.0</td>\n",
       "      <td>0</td>\n",
       "      <td>0</td>\n",
       "      <td>0</td>\n",
       "      <td>0</td>\n",
       "      <td>225000.0</td>\n",
       "      <td>1327500.0</td>\n",
       "      <td>54913.5</td>\n",
       "      <td>1327500.0</td>\n",
       "      <td>...</td>\n",
       "      <td>0.047597</td>\n",
       "      <td>0.003583</td>\n",
       "      <td>0.106781</td>\n",
       "      <td>0.002955</td>\n",
       "      <td>0.0</td>\n",
       "      <td>0.0</td>\n",
       "      <td>0.0</td>\n",
       "      <td>0.0</td>\n",
       "      <td>0.0</td>\n",
       "      <td>37.083683</td>\n",
       "    </tr>\n",
       "  </tbody>\n",
       "</table>\n",
       "<p>5 rows × 797 columns</p>\n",
       "</div>"
      ],
      "text/plain": [
       "      SK_ID_CURR  TARGET  CODE_GENDER  FLAG_OWN_CAR  FLAG_OWN_REALTY  \\\n",
       "998       106854     1.0            1             0                0   \n",
       "1610      111452     1.0            0             1                0   \n",
       "1935      113627     1.0            0             0                0   \n",
       "2035      114283     1.0            0             0                1   \n",
       "2037      114310     1.0            0             0                0   \n",
       "\n",
       "      CNT_CHILDREN  AMT_INCOME_TOTAL  AMT_CREDIT  AMT_ANNUITY  \\\n",
       "998              0          202500.0    574402.5      29457.0   \n",
       "1610             0          333000.0    748651.5      59278.5   \n",
       "1935             0          135000.0    440784.0      34956.0   \n",
       "2035             0           90000.0    156384.0      14341.5   \n",
       "2037             0          225000.0   1327500.0      54913.5   \n",
       "\n",
       "      AMT_GOODS_PRICE  ...  CC_NAME_CONTRACT_STATUS_Signed_MAX  \\\n",
       "998          495859.5  ...                            0.000000   \n",
       "1610         639000.0  ...                            0.000000   \n",
       "1935         360000.0  ...                            0.047597   \n",
       "2035         135000.0  ...                            0.047597   \n",
       "2037        1327500.0  ...                            0.047597   \n",
       "\n",
       "      CC_NAME_CONTRACT_STATUS_Signed_MEAN  CC_NAME_CONTRACT_STATUS_Signed_SUM  \\\n",
       "998                              0.000000                            0.000000   \n",
       "1610                             0.000000                            0.000000   \n",
       "1935                             0.003583                            0.106781   \n",
       "2035                             0.003583                            0.106781   \n",
       "2037                             0.003583                            0.106781   \n",
       "\n",
       "      CC_NAME_CONTRACT_STATUS_Signed_VAR  CC_NAME_CONTRACT_STATUS_nan_MIN  \\\n",
       "998                             0.000000                              0.0   \n",
       "1610                            0.000000                              0.0   \n",
       "1935                            0.002955                              0.0   \n",
       "2035                            0.002955                              0.0   \n",
       "2037                            0.002955                              0.0   \n",
       "\n",
       "      CC_NAME_CONTRACT_STATUS_nan_MAX  CC_NAME_CONTRACT_STATUS_nan_MEAN  \\\n",
       "998                               0.0                               0.0   \n",
       "1610                              0.0                               0.0   \n",
       "1935                              0.0                               0.0   \n",
       "2035                              0.0                               0.0   \n",
       "2037                              0.0                               0.0   \n",
       "\n",
       "      CC_NAME_CONTRACT_STATUS_nan_SUM  CC_NAME_CONTRACT_STATUS_nan_VAR  \\\n",
       "998                               0.0                              0.0   \n",
       "1610                              0.0                              0.0   \n",
       "1935                              0.0                              0.0   \n",
       "2035                              0.0                              0.0   \n",
       "2037                              0.0                              0.0   \n",
       "\n",
       "       CC_COUNT  \n",
       "998   33.000000  \n",
       "1610  17.000000  \n",
       "1935  37.083683  \n",
       "2035  37.083683  \n",
       "2037  37.083683  \n",
       "\n",
       "[5 rows x 797 columns]"
      ]
     },
     "execution_count": 11,
     "metadata": {},
     "output_type": "execute_result"
    }
   ],
   "source": [
    "df_result_resampled_not_scaler_model[df_result_resampled_not_scaler_model[\"TARGET\"] == 1].head()"
   ]
  },
  {
   "cell_type": "code",
   "execution_count": 12,
   "id": "82a65513-4a57-490a-9abe-983298c81d9f",
   "metadata": {},
   "outputs": [
    {
     "data": {
      "text/plain": [
       "(170, 797)"
      ]
     },
     "execution_count": 12,
     "metadata": {},
     "output_type": "execute_result"
    }
   ],
   "source": [
    "df_result_resampled_not_scaler_model[df_result_resampled_not_scaler_model[\"TARGET\"] == 1].shape"
   ]
  },
  {
   "cell_type": "code",
   "execution_count": 13,
   "id": "c9f7b4c5-1822-49b5-b1a4-d6c0b7398845",
   "metadata": {},
   "outputs": [
    {
     "data": {
      "text/html": [
       "<div>\n",
       "<style scoped>\n",
       "    .dataframe tbody tr th:only-of-type {\n",
       "        vertical-align: middle;\n",
       "    }\n",
       "\n",
       "    .dataframe tbody tr th {\n",
       "        vertical-align: top;\n",
       "    }\n",
       "\n",
       "    .dataframe thead th {\n",
       "        text-align: right;\n",
       "    }\n",
       "</style>\n",
       "<table border=\"1\" class=\"dataframe\">\n",
       "  <thead>\n",
       "    <tr style=\"text-align: right;\">\n",
       "      <th></th>\n",
       "      <th>SK_ID_CURR</th>\n",
       "      <th>TARGET</th>\n",
       "      <th>CODE_GENDER</th>\n",
       "      <th>FLAG_OWN_CAR</th>\n",
       "      <th>FLAG_OWN_REALTY</th>\n",
       "      <th>CNT_CHILDREN</th>\n",
       "      <th>AMT_INCOME_TOTAL</th>\n",
       "      <th>AMT_CREDIT</th>\n",
       "      <th>AMT_ANNUITY</th>\n",
       "      <th>AMT_GOODS_PRICE</th>\n",
       "      <th>...</th>\n",
       "      <th>CC_NAME_CONTRACT_STATUS_Signed_MAX</th>\n",
       "      <th>CC_NAME_CONTRACT_STATUS_Signed_MEAN</th>\n",
       "      <th>CC_NAME_CONTRACT_STATUS_Signed_SUM</th>\n",
       "      <th>CC_NAME_CONTRACT_STATUS_Signed_VAR</th>\n",
       "      <th>CC_NAME_CONTRACT_STATUS_nan_MIN</th>\n",
       "      <th>CC_NAME_CONTRACT_STATUS_nan_MAX</th>\n",
       "      <th>CC_NAME_CONTRACT_STATUS_nan_MEAN</th>\n",
       "      <th>CC_NAME_CONTRACT_STATUS_nan_SUM</th>\n",
       "      <th>CC_NAME_CONTRACT_STATUS_nan_VAR</th>\n",
       "      <th>CC_COUNT</th>\n",
       "    </tr>\n",
       "  </thead>\n",
       "  <tbody>\n",
       "    <tr>\n",
       "      <th>48739</th>\n",
       "      <td>456221</td>\n",
       "      <td>0.0</td>\n",
       "      <td>1</td>\n",
       "      <td>0</td>\n",
       "      <td>0</td>\n",
       "      <td>0</td>\n",
       "      <td>121500.0</td>\n",
       "      <td>412560.0</td>\n",
       "      <td>17473.5</td>\n",
       "      <td>270000.0</td>\n",
       "      <td>...</td>\n",
       "      <td>0.047597</td>\n",
       "      <td>0.003583</td>\n",
       "      <td>0.106781</td>\n",
       "      <td>0.002955</td>\n",
       "      <td>0.0</td>\n",
       "      <td>0.0</td>\n",
       "      <td>0.0</td>\n",
       "      <td>0.0</td>\n",
       "      <td>0.0</td>\n",
       "      <td>37.083683</td>\n",
       "    </tr>\n",
       "    <tr>\n",
       "      <th>48740</th>\n",
       "      <td>456222</td>\n",
       "      <td>0.0</td>\n",
       "      <td>1</td>\n",
       "      <td>0</td>\n",
       "      <td>1</td>\n",
       "      <td>2</td>\n",
       "      <td>157500.0</td>\n",
       "      <td>622413.0</td>\n",
       "      <td>31909.5</td>\n",
       "      <td>495000.0</td>\n",
       "      <td>...</td>\n",
       "      <td>0.047597</td>\n",
       "      <td>0.003583</td>\n",
       "      <td>0.106781</td>\n",
       "      <td>0.002955</td>\n",
       "      <td>0.0</td>\n",
       "      <td>0.0</td>\n",
       "      <td>0.0</td>\n",
       "      <td>0.0</td>\n",
       "      <td>0.0</td>\n",
       "      <td>37.083683</td>\n",
       "    </tr>\n",
       "    <tr>\n",
       "      <th>48741</th>\n",
       "      <td>456223</td>\n",
       "      <td>0.0</td>\n",
       "      <td>1</td>\n",
       "      <td>1</td>\n",
       "      <td>0</td>\n",
       "      <td>1</td>\n",
       "      <td>202500.0</td>\n",
       "      <td>315000.0</td>\n",
       "      <td>33205.5</td>\n",
       "      <td>315000.0</td>\n",
       "      <td>...</td>\n",
       "      <td>0.047597</td>\n",
       "      <td>0.003583</td>\n",
       "      <td>0.106781</td>\n",
       "      <td>0.002955</td>\n",
       "      <td>0.0</td>\n",
       "      <td>0.0</td>\n",
       "      <td>0.0</td>\n",
       "      <td>0.0</td>\n",
       "      <td>0.0</td>\n",
       "      <td>37.083683</td>\n",
       "    </tr>\n",
       "    <tr>\n",
       "      <th>48742</th>\n",
       "      <td>456224</td>\n",
       "      <td>0.0</td>\n",
       "      <td>0</td>\n",
       "      <td>0</td>\n",
       "      <td>1</td>\n",
       "      <td>0</td>\n",
       "      <td>225000.0</td>\n",
       "      <td>450000.0</td>\n",
       "      <td>25128.0</td>\n",
       "      <td>450000.0</td>\n",
       "      <td>...</td>\n",
       "      <td>0.047597</td>\n",
       "      <td>0.003583</td>\n",
       "      <td>0.106781</td>\n",
       "      <td>0.002955</td>\n",
       "      <td>0.0</td>\n",
       "      <td>0.0</td>\n",
       "      <td>0.0</td>\n",
       "      <td>0.0</td>\n",
       "      <td>0.0</td>\n",
       "      <td>37.083683</td>\n",
       "    </tr>\n",
       "    <tr>\n",
       "      <th>48743</th>\n",
       "      <td>456250</td>\n",
       "      <td>0.0</td>\n",
       "      <td>1</td>\n",
       "      <td>1</td>\n",
       "      <td>1</td>\n",
       "      <td>0</td>\n",
       "      <td>135000.0</td>\n",
       "      <td>312768.0</td>\n",
       "      <td>24709.5</td>\n",
       "      <td>270000.0</td>\n",
       "      <td>...</td>\n",
       "      <td>0.000000</td>\n",
       "      <td>0.000000</td>\n",
       "      <td>0.000000</td>\n",
       "      <td>0.000000</td>\n",
       "      <td>0.0</td>\n",
       "      <td>0.0</td>\n",
       "      <td>0.0</td>\n",
       "      <td>0.0</td>\n",
       "      <td>0.0</td>\n",
       "      <td>12.000000</td>\n",
       "    </tr>\n",
       "  </tbody>\n",
       "</table>\n",
       "<p>5 rows × 797 columns</p>\n",
       "</div>"
      ],
      "text/plain": [
       "       SK_ID_CURR  TARGET  CODE_GENDER  FLAG_OWN_CAR  FLAG_OWN_REALTY  \\\n",
       "48739      456221     0.0            1             0                0   \n",
       "48740      456222     0.0            1             0                1   \n",
       "48741      456223     0.0            1             1                0   \n",
       "48742      456224     0.0            0             0                1   \n",
       "48743      456250     0.0            1             1                1   \n",
       "\n",
       "       CNT_CHILDREN  AMT_INCOME_TOTAL  AMT_CREDIT  AMT_ANNUITY  \\\n",
       "48739             0          121500.0    412560.0      17473.5   \n",
       "48740             2          157500.0    622413.0      31909.5   \n",
       "48741             1          202500.0    315000.0      33205.5   \n",
       "48742             0          225000.0    450000.0      25128.0   \n",
       "48743             0          135000.0    312768.0      24709.5   \n",
       "\n",
       "       AMT_GOODS_PRICE  ...  CC_NAME_CONTRACT_STATUS_Signed_MAX  \\\n",
       "48739         270000.0  ...                            0.047597   \n",
       "48740         495000.0  ...                            0.047597   \n",
       "48741         315000.0  ...                            0.047597   \n",
       "48742         450000.0  ...                            0.047597   \n",
       "48743         270000.0  ...                            0.000000   \n",
       "\n",
       "       CC_NAME_CONTRACT_STATUS_Signed_MEAN  \\\n",
       "48739                             0.003583   \n",
       "48740                             0.003583   \n",
       "48741                             0.003583   \n",
       "48742                             0.003583   \n",
       "48743                             0.000000   \n",
       "\n",
       "       CC_NAME_CONTRACT_STATUS_Signed_SUM  CC_NAME_CONTRACT_STATUS_Signed_VAR  \\\n",
       "48739                            0.106781                            0.002955   \n",
       "48740                            0.106781                            0.002955   \n",
       "48741                            0.106781                            0.002955   \n",
       "48742                            0.106781                            0.002955   \n",
       "48743                            0.000000                            0.000000   \n",
       "\n",
       "       CC_NAME_CONTRACT_STATUS_nan_MIN  CC_NAME_CONTRACT_STATUS_nan_MAX  \\\n",
       "48739                              0.0                              0.0   \n",
       "48740                              0.0                              0.0   \n",
       "48741                              0.0                              0.0   \n",
       "48742                              0.0                              0.0   \n",
       "48743                              0.0                              0.0   \n",
       "\n",
       "       CC_NAME_CONTRACT_STATUS_nan_MEAN  CC_NAME_CONTRACT_STATUS_nan_SUM  \\\n",
       "48739                               0.0                              0.0   \n",
       "48740                               0.0                              0.0   \n",
       "48741                               0.0                              0.0   \n",
       "48742                               0.0                              0.0   \n",
       "48743                               0.0                              0.0   \n",
       "\n",
       "       CC_NAME_CONTRACT_STATUS_nan_VAR   CC_COUNT  \n",
       "48739                              0.0  37.083683  \n",
       "48740                              0.0  37.083683  \n",
       "48741                              0.0  37.083683  \n",
       "48742                              0.0  37.083683  \n",
       "48743                              0.0  12.000000  \n",
       "\n",
       "[5 rows x 797 columns]"
      ]
     },
     "execution_count": 13,
     "metadata": {},
     "output_type": "execute_result"
    }
   ],
   "source": [
    "df_result_resampled_not_scaler_model[df_result_resampled_not_scaler_model[\"TARGET\"] == 0].tail()"
   ]
  },
  {
   "cell_type": "code",
   "execution_count": 14,
   "id": "ed45ee9f-12e9-46e9-9009-4c5da34f3d69",
   "metadata": {},
   "outputs": [
    {
     "data": {
      "text/plain": [
       "(48574, 797)"
      ]
     },
     "execution_count": 14,
     "metadata": {},
     "output_type": "execute_result"
    }
   ],
   "source": [
    "df_result_resampled_not_scaler_model[df_result_resampled_not_scaler_model[\"TARGET\"] == 0].shape"
   ]
  },
  {
   "cell_type": "code",
   "execution_count": 15,
   "id": "d4b77ff0-d37c-49f7-ae91-01191c08c3c1",
   "metadata": {},
   "outputs": [
    {
     "ename": "NameError",
     "evalue": "name 'xx' is not defined",
     "output_type": "error",
     "traceback": [
      "\u001b[1;31m---------------------------------------------------------------------------\u001b[0m",
      "\u001b[1;31mNameError\u001b[0m                                 Traceback (most recent call last)",
      "\u001b[1;32m~\\AppData\\Local\\Temp/ipykernel_15840/4089038958.py\u001b[0m in \u001b[0;36m<module>\u001b[1;34m\u001b[0m\n\u001b[1;32m----> 1\u001b[1;33m \u001b[0mxx\u001b[0m\u001b[1;33m\u001b[0m\u001b[1;33m\u001b[0m\u001b[0m\n\u001b[0m",
      "\u001b[1;31mNameError\u001b[0m: name 'xx' is not defined"
     ]
    }
   ],
   "source": [
    "xx"
   ]
  },
  {
   "cell_type": "code",
   "execution_count": null,
   "id": "cb74e2f3-32a1-40ad-9393-6e8140ca9a62",
   "metadata": {},
   "outputs": [],
   "source": []
  },
  {
   "cell_type": "code",
   "execution_count": null,
   "id": "887671b3-8df3-4638-b83d-d0467f44f6dc",
   "metadata": {},
   "outputs": [],
   "source": []
  },
  {
   "cell_type": "code",
   "execution_count": null,
   "id": "1bada2a7-5ae1-4d8a-8cd9-1d673664c933",
   "metadata": {},
   "outputs": [],
   "source": []
  },
  {
   "cell_type": "code",
   "execution_count": null,
   "id": "aa9cee54-c0b8-4871-b4a0-7f39cb631112",
   "metadata": {},
   "outputs": [],
   "source": []
  },
  {
   "cell_type": "code",
   "execution_count": 16,
   "id": "9e0a5a49-955a-4e1b-a448-d461682bc73f",
   "metadata": {},
   "outputs": [
    {
     "data": {
      "text/plain": [
       "(14572, 797)"
      ]
     },
     "execution_count": 16,
     "metadata": {},
     "output_type": "execute_result"
    }
   ],
   "source": [
    "df_example = df_result_resampled_not_scaler_model[df_result_resampled_not_scaler_model[\"TARGET\"] == 0].sample(frac=0.3).copy()\n",
    "df_example.shape"
   ]
  },
  {
   "cell_type": "code",
   "execution_count": 17,
   "id": "971e8c45-1f94-4d30-8ec5-0d0c6dd74170",
   "metadata": {},
   "outputs": [],
   "source": [
    "df_example = pd.concat([df_example, df_result_resampled_not_scaler_model[df_result_resampled_not_scaler_model[\"TARGET\"] == 1]])"
   ]
  },
  {
   "cell_type": "code",
   "execution_count": 18,
   "id": "301eeac9-9eae-404d-b121-7a7aa9df0cb5",
   "metadata": {},
   "outputs": [
    {
     "data": {
      "text/plain": [
       "(14742, 797)"
      ]
     },
     "execution_count": 18,
     "metadata": {},
     "output_type": "execute_result"
    }
   ],
   "source": [
    "df_example.shape"
   ]
  },
  {
   "cell_type": "code",
   "execution_count": 20,
   "id": "af41d041-53f1-4f48-87dd-3a1f8d5ea7e7",
   "metadata": {},
   "outputs": [
    {
     "name": "stdout",
     "output_type": "stream",
     "text": [
      "\n",
      "Analysis Header of df_example dataset\n",
      "--------------------------------------------------------------------------------\n",
      "- Dataset shape:\t\t\t 14742 rows and 797 columns\n",
      "- Total of NaN values:\t\t\t 0\n",
      "- Percentage of NaN:\t\t\t 0.0 %\n",
      "- Total of infinite values:\t\t 0\n",
      "- Percentage of infinite values:\t 0.0 %\n",
      "- Total of full duplicates rows:\t 0\n",
      "- Total of empty rows:\t\t\t 0\n",
      "- Total of empty columns:\t\t 0\n",
      "- Unique indexes:\t\t\t True\n",
      "- Memory usage:\t\t\t\t 90.3 MB\n"
     ]
    }
   ],
   "source": [
    "df_analysis(df_example, \"df_example\", analysis_type=\"header\")"
   ]
  },
  {
   "cell_type": "code",
   "execution_count": 21,
   "id": "a9d90e98-5243-49bf-8224-1a4869f70c16",
   "metadata": {},
   "outputs": [],
   "source": [
    "df_example_copy = df_example.copy()"
   ]
  },
  {
   "cell_type": "code",
   "execution_count": 22,
   "id": "2cf8e10f-2b41-45f1-97aa-315255e48a4d",
   "metadata": {},
   "outputs": [
    {
     "data": {
      "image/png": "[encoded data removed]",
      "text/plain": [
       "<Figure size 648x360 with 2 Axes>"
      ]
     },
     "metadata": {
      "needs_background": "light"
     },
     "output_type": "display_data"
    }
   ],
   "source": [
    "barplot_and_pie(df_example_copy[\"TARGET\"], \"Target distribution\", \" \")"
   ]
  },
  {
   "cell_type": "code",
   "execution_count": 23,
   "id": "2fc5fba7-c3e8-470b-a97d-8462c166a064",
   "metadata": {},
   "outputs": [],
   "source": [
    "df_example_copy.drop(columns=[\"TARGET\"], axis=1, inplace=True)"
   ]
  },
  {
   "cell_type": "code",
   "execution_count": 24,
   "id": "aff62a5b-fe46-4072-ac43-f195347e1145",
   "metadata": {},
   "outputs": [],
   "source": [
    "# saving the resampled dataset \n",
    "df_example_copy.to_csv(\"datasets\\df_clients_reduced_to_predict.csv\", index=False)"
   ]
  },
  {
   "cell_type": "code",
   "execution_count": 25,
   "id": "4842897d-9fa9-4b8a-a4ac-1ada2659db5d",
   "metadata": {},
   "outputs": [],
   "source": [
    "df_example_copy.drop(columns=[\"SK_ID_CURR\"], axis=1, inplace=True)"
   ]
  },
  {
   "cell_type": "code",
   "execution_count": 26,
   "id": "49118dc3-29c6-4c65-9af6-7dfa3b7be51a",
   "metadata": {},
   "outputs": [],
   "source": [
    "new_result = resampled_not_scaler_model.predict(df_example_copy)"
   ]
  },
  {
   "cell_type": "code",
   "execution_count": 27,
   "id": "714a740f-71ff-4e3f-87d4-8981e642bcdd",
   "metadata": {},
   "outputs": [],
   "source": [
    "new_result  = pd.Series(new_result, name=\"TARGET\")"
   ]
  },
  {
   "cell_type": "code",
   "execution_count": 28,
   "id": "d3ff40bf-7d40-4f45-ad49-ccebbf4dbf20",
   "metadata": {},
   "outputs": [],
   "source": [
    "df_new_result  = pd.DataFrame(new_result)"
   ]
  },
  {
   "cell_type": "code",
   "execution_count": 29,
   "id": "8f9684a9-e93d-4808-9612-7f7beca79313",
   "metadata": {},
   "outputs": [
    {
     "name": "stdout",
     "output_type": "stream",
     "text": [
      "\n",
      "Analysis Header of df_new_result dataset\n",
      "--------------------------------------------------------------------------------\n",
      "- Dataset shape:\t\t\t 14742 rows and 1 columns\n",
      "- Total of NaN values:\t\t\t 0\n",
      "- Percentage of NaN:\t\t\t 0.0 %\n",
      "- Total of infinite values:\t\t 0\n",
      "- Percentage of infinite values:\t 0.0 %\n",
      "- Total of full duplicates rows:\t 14740\n",
      "- Total of empty rows:\t\t\t 0\n",
      "- Total of empty columns:\t\t 0\n",
      "- Unique indexes:\t\t\t True\n",
      "- Memory usage:\t\t\t\t 115.3 KB\n",
      "\n",
      "Detailed analysis of df_new_result dataset\n",
      "------------------------------------------------------------------------------------------------------------------------\n"
     ]
    },
    {
     "data": {
      "text/html": [
       "<div>\n",
       "<style scoped>\n",
       "    .dataframe tbody tr th:only-of-type {\n",
       "        vertical-align: middle;\n",
       "    }\n",
       "\n",
       "    .dataframe tbody tr th {\n",
       "        vertical-align: top;\n",
       "    }\n",
       "\n",
       "    .dataframe thead th {\n",
       "        text-align: right;\n",
       "    }\n",
       "</style>\n",
       "<table border=\"1\" class=\"dataframe\">\n",
       "  <thead>\n",
       "    <tr style=\"text-align: right;\">\n",
       "      <th></th>\n",
       "      <th>name</th>\n",
       "      <th>type</th>\n",
       "      <th>records</th>\n",
       "      <th>unique</th>\n",
       "      <th># NaN</th>\n",
       "      <th>% NaN</th>\n",
       "      <th>mean</th>\n",
       "      <th>min</th>\n",
       "      <th>25%</th>\n",
       "      <th>50%</th>\n",
       "      <th>75%</th>\n",
       "      <th>max</th>\n",
       "      <th>std</th>\n",
       "    </tr>\n",
       "  </thead>\n",
       "  <tbody>\n",
       "    <tr>\n",
       "      <th>0</th>\n",
       "      <td>TARGET</td>\n",
       "      <td>float64</td>\n",
       "      <td>14742</td>\n",
       "      <td>2</td>\n",
       "      <td>0</td>\n",
       "      <td>0.00000</td>\n",
       "      <td>0.01153</td>\n",
       "      <td>0.00000</td>\n",
       "      <td>0.00000</td>\n",
       "      <td>0.00000</td>\n",
       "      <td>0.00000</td>\n",
       "      <td>1.00000</td>\n",
       "      <td>0.10677</td>\n",
       "    </tr>\n",
       "  </tbody>\n",
       "</table>\n",
       "</div>"
      ],
      "text/plain": [
       "     name     type  records  unique  # NaN   % NaN    mean     min     25%  \\\n",
       "0  TARGET  float64    14742       2      0 0.00000 0.01153 0.00000 0.00000   \n",
       "\n",
       "      50%     75%     max     std  \n",
       "0 0.00000 0.00000 1.00000 0.10677  "
      ]
     },
     "metadata": {},
     "output_type": "display_data"
    }
   ],
   "source": [
    "df_analysis(df_new_result, \"df_new_result\")"
   ]
  },
  {
   "cell_type": "code",
   "execution_count": 30,
   "id": "1c79bb3f-f0b4-455b-b09f-30116f63b06e",
   "metadata": {},
   "outputs": [
    {
     "data": {
      "text/plain": [
       "(14742, 795)"
      ]
     },
     "execution_count": 30,
     "metadata": {},
     "output_type": "execute_result"
    }
   ],
   "source": [
    "df_example_copy.shape"
   ]
  },
  {
   "cell_type": "code",
   "execution_count": 31,
   "id": "22802dbe-09e1-4cf2-9824-85ad6768125c",
   "metadata": {},
   "outputs": [
    {
     "data": {
      "text/plain": [
       "(14742, 1)"
      ]
     },
     "execution_count": 31,
     "metadata": {},
     "output_type": "execute_result"
    }
   ],
   "source": [
    "df_new_result.shape"
   ]
  },
  {
   "cell_type": "code",
   "execution_count": 32,
   "id": "df5de225-10fd-4911-8d8c-f4c2911b9ba6",
   "metadata": {},
   "outputs": [],
   "source": [
    "df_example_copy.reset_index(drop=True, inplace=True)\n",
    "df_new_result.reset_index(drop=True, inplace=True)\n",
    "\n",
    "df = pd.concat([df_example_copy, df_new_result], axis=1) "
   ]
  },
  {
   "cell_type": "code",
   "execution_count": 33,
   "id": "faeef8c0-a91e-4dfc-aae0-a84e2512009c",
   "metadata": {},
   "outputs": [
    {
     "data": {
      "text/plain": [
       "(14742, 796)"
      ]
     },
     "execution_count": 33,
     "metadata": {},
     "output_type": "execute_result"
    }
   ],
   "source": [
    "df.shape"
   ]
  },
  {
   "cell_type": "code",
   "execution_count": 34,
   "id": "cdc3ec78-29bb-471c-a14b-4ba70aa9b058",
   "metadata": {},
   "outputs": [
    {
     "name": "stdout",
     "output_type": "stream",
     "text": [
      "\n",
      "Analysis Header of df dataset\n",
      "--------------------------------------------------------------------------------\n",
      "- Dataset shape:\t\t\t 14742 rows and 796 columns\n",
      "- Total of NaN values:\t\t\t 0\n",
      "- Percentage of NaN:\t\t\t 0.0 %\n",
      "- Total of infinite values:\t\t 0\n",
      "- Percentage of infinite values:\t 0.0 %\n",
      "- Total of full duplicates rows:\t 0\n",
      "- Total of empty rows:\t\t\t 0\n",
      "- Total of empty columns:\t\t 0\n",
      "- Unique indexes:\t\t\t True\n",
      "- Memory usage:\t\t\t\t 89.5 MB\n"
     ]
    }
   ],
   "source": [
    "df_analysis(df, \"df\", analysis_type=\"header\")"
   ]
  },
  {
   "cell_type": "code",
   "execution_count": 35,
   "id": "5abaa7b4-2562-409f-8c30-6fed9bf7077f",
   "metadata": {},
   "outputs": [
    {
     "data": {
      "image/png": "[encoded data removed]",
      "text/plain": [
       "<Figure size 648x360 with 2 Axes>"
      ]
     },
     "metadata": {
      "needs_background": "light"
     },
     "output_type": "display_data"
    }
   ],
   "source": [
    "barplot_and_pie(df[\"TARGET\"], \"Target distribution\", \" \")"
   ]
  },
  {
   "cell_type": "code",
   "execution_count": null,
   "id": "4c7826b9-4ef4-4241-abb2-e1964886f24c",
   "metadata": {},
   "outputs": [],
   "source": []
  }
 ],
 "metadata": {
  "kernelspec": {
   "display_name": "Python 3 (ipykernel)",
   "language": "python",
   "name": "python3"
  },
  "language_info": {
   "codemirror_mode": {
    "name": "ipython",
    "version": 3
   },
   "file_extension": ".py",
   "mimetype": "text/x-python",
   "name": "python",
   "nbconvert_exporter": "python",
   "pygments_lexer": "ipython3",
   "version": "3.9.9"
  }
 },
 "nbformat": 4,
 "nbformat_minor": 5
}
