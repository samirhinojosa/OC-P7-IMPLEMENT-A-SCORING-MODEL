{
 "cells": [
  {
   "cell_type": "code",
   "execution_count": 1,
   "id": "0c190b6e-0253-4430-8c9b-886be7e6030d",
   "metadata": {},
   "outputs": [],
   "source": [
    "import re\n",
    "import json\n",
    "import numpy as np\n",
    "import pandas as pd\n",
    "from functools import partial\n",
    "\n",
    "import sklearn\n",
    "from sklearn.preprocessing import StandardScaler\n",
    "import joblib\n",
    "\n",
    "import lightgbm as lgb\n",
    "from lightgbm import LGBMClassifier\n",
    "\n",
    "## Own specific functions \n",
    "from functions import *\n",
    "\n",
    "scaler = StandardScaler()"
   ]
  },
  {
   "cell_type": "markdown",
   "id": "b60a2074-4517-4bb4-97d7-2e35e0214983",
   "metadata": {
    "tags": []
   },
   "source": [
    "<div style=\"background-color: #506AB9;\" >\n",
    "    <h1 style=\"margin: auto; padding: 20px; color:#fff; \">Files</h1>\n",
    "</div>"
   ]
  },
  {
   "cell_type": "markdown",
   "id": "15b3ec32-c2f2-44bf-ada3-0c249ff9efe6",
   "metadata": {
    "tags": []
   },
   "source": [
    "<div class=\"alert alert-block alert-info\">\n",
    "    <p>Resampled</p>\n",
    "</div>"
   ]
  },
  {
   "cell_type": "code",
   "execution_count": 2,
   "id": "f5e758f2-b87c-4055-94db-7b9220e51da8",
   "metadata": {},
   "outputs": [],
   "source": [
    "df_resampled = pd.read_csv(r\"datasets\\df_resampled.csv\")\n",
    "\n",
    "# Formatting columns name\n",
    "df_resampled = df_resampled.rename(columns=lambda x:re.sub(\"[^A-Za-z0-9_]+\", \"\", x))"
   ]
  },
  {
   "cell_type": "code",
   "execution_count": 3,
   "id": "8379332b-a06d-4177-a00b-f39d2d2ce78b",
   "metadata": {},
   "outputs": [
    {
     "name": "stdout",
     "output_type": "stream",
     "text": [
      "\n",
      "Analysis Header of df_resampled dataset\n",
      "--------------------------------------------------------------------------------\n",
      "- Dataset shape:\t\t\t 565364 rows and 797 columns\n",
      "- Total of NaN values:\t\t\t 0\n",
      "- Percentage of NaN:\t\t\t 0.0 %\n",
      "- Total of infinite values:\t\t 0\n",
      "- Percentage of infinite values:\t 0.0 %\n",
      "- Total of full duplicates rows:\t 0\n",
      "- Total of empty rows:\t\t\t 0\n",
      "- Total of empty columns:\t\t 0\n",
      "- Unique indexes:\t\t\t True\n",
      "- Memory usage:\t\t\t\t 3.4 GB\n"
     ]
    }
   ],
   "source": [
    "df_analysis(df_resampled, \"df_resampled\", analysis_type=\"header\")"
   ]
  },
  {
   "cell_type": "markdown",
   "id": "ac45960c-52b1-4be1-9837-fef37fde1f2d",
   "metadata": {
    "tags": []
   },
   "source": [
    "<div class=\"alert alert-block alert-info\">\n",
    "    <p>Not Resampled</p>\n",
    "</div>"
   ]
  },
  {
   "cell_type": "code",
   "execution_count": 4,
   "id": "714405f3-2700-4cb3-a1c9-d7c5e574cf9b",
   "metadata": {},
   "outputs": [],
   "source": [
    "df_not_resampled = pd.read_csv(r\"datasets\\df_optimized.csv\")\n",
    "\n",
    "# Formatting columns name\n",
    "df_not_resampled = df_not_resampled.rename(columns=lambda x:re.sub(\"[^A-Za-z0-9_]+\", \"\", x))"
   ]
  },
  {
   "cell_type": "code",
   "execution_count": 5,
   "id": "3a0f594e-4d9d-49d6-984f-ff3c6002e6d1",
   "metadata": {
    "tags": []
   },
   "outputs": [],
   "source": [
    "df_not_resampled = df_not_resampled[df_not_resampled[\"TARGET\"].notnull()]"
   ]
  },
  {
   "cell_type": "code",
   "execution_count": 6,
   "id": "8e1b4399-9f09-418a-bc4c-c5de50abb589",
   "metadata": {},
   "outputs": [
    {
     "name": "stdout",
     "output_type": "stream",
     "text": [
      "\n",
      "Analysis Header of df_not_resampled dataset\n",
      "--------------------------------------------------------------------------------\n",
      "- Dataset shape:\t\t\t 307507 rows and 797 columns\n",
      "- Total of NaN values:\t\t\t 0\n",
      "- Percentage of NaN:\t\t\t 0.0 %\n",
      "- Total of infinite values:\t\t 0\n",
      "- Percentage of infinite values:\t 0.0 %\n",
      "- Total of full duplicates rows:\t 0\n",
      "- Total of empty rows:\t\t\t 0\n",
      "- Total of empty columns:\t\t 0\n",
      "- Unique indexes:\t\t\t True\n",
      "- Memory usage:\t\t\t\t 1.8 GB\n"
     ]
    }
   ],
   "source": [
    "df_analysis(df_not_resampled, \"df_not_resampled\", analysis_type=\"header\")"
   ]
  },
  {
   "cell_type": "markdown",
   "id": "2e781eae-b97d-4e09-9526-70021311a1ff",
   "metadata": {
    "tags": []
   },
   "source": [
    "<div class=\"alert alert-block alert-info\">\n",
    "    <p>Customer to predict</p>\n",
    "</div>"
   ]
  },
  {
   "cell_type": "code",
   "execution_count": 7,
   "id": "92ce4058-174c-4cdd-9e56-0e20d152aefb",
   "metadata": {},
   "outputs": [],
   "source": [
    "df_customers_to_predict = pd.read_csv(r\"datasets\\df_customers_to_predict.csv\")\n",
    "\n",
    "# Formatting columns name\n",
    "df_customers_to_predict = df_customers_to_predict.rename(columns=lambda x:re.sub(\"[^A-Za-z0-9_]+\", \"\", x))"
   ]
  },
  {
   "cell_type": "code",
   "execution_count": 8,
   "id": "53039fd2-f15c-4e6b-b3c1-0f119407f45f",
   "metadata": {},
   "outputs": [
    {
     "name": "stdout",
     "output_type": "stream",
     "text": [
      "\n",
      "Analysis Header of df_customers_to_predict dataset\n",
      "--------------------------------------------------------------------------------\n",
      "- Dataset shape:\t\t\t 48744 rows and 796 columns\n",
      "- Total of NaN values:\t\t\t 0\n",
      "- Percentage of NaN:\t\t\t 0.0 %\n",
      "- Total of infinite values:\t\t 0\n",
      "- Percentage of infinite values:\t 0.0 %\n",
      "- Total of full duplicates rows:\t 0\n",
      "- Total of empty rows:\t\t\t 0\n",
      "- Total of empty columns:\t\t 0\n",
      "- Unique indexes:\t\t\t True\n",
      "- Memory usage:\t\t\t\t 296.0 MB\n"
     ]
    }
   ],
   "source": [
    "df_analysis(df_customers_to_predict, \"df_customers_to_predict\", analysis_type=\"header\")"
   ]
  },
  {
   "cell_type": "markdown",
   "id": "9e8a0dcd-f62c-4f90-9750-ab4912fd27b2",
   "metadata": {
    "tags": []
   },
   "source": [
    "<div style=\"background-color: #506AB9;\" >\n",
    "    <h1 style=\"margin: auto; padding: 20px; color:#fff; \">Initial Model</h1>\n",
    "</div>"
   ]
  },
  {
   "cell_type": "markdown",
   "id": "4d675980-0b38-4526-9865-c7ec17d87b8c",
   "metadata": {
    "tags": []
   },
   "source": [
    "<div class=\"alert alert-block alert-info\">\n",
    "    <p>Resampled and Scaler</p>\n",
    "</div>"
   ]
  },
  {
   "cell_type": "code",
   "execution_count": 9,
   "id": "e5c5fde0-8c5e-489e-897b-79b294a14ab7",
   "metadata": {},
   "outputs": [],
   "source": [
    "# load the model from disk\n",
    "initial_model = joblib.load(\"models\\model_1.0.2.pkl\")"
   ]
  },
  {
   "cell_type": "markdown",
   "id": "11da37a3-d533-4e71-8548-2634b446c922",
   "metadata": {
    "tags": []
   },
   "source": [
    "<div style=\"background-color: #506AB9;\" >\n",
    "    <h1 style=\"margin: auto; padding: 20px; color:#fff; \">Others Model</h1>\n",
    "</div>"
   ]
  },
  {
   "cell_type": "code",
   "execution_count": 10,
   "id": "611e2209-c09d-4e2e-bc40-fc0775b2fdb1",
   "metadata": {},
   "outputs": [],
   "source": [
    "N_ESTIMATORS = [8000, 10000, 12000]\n",
    "NUM_LEAVES = [32, 34, 36]\n",
    "MAX_DEPTH = [7, 8, 9]"
   ]
  },
  {
   "cell_type": "code",
   "execution_count": 11,
   "id": "55a06335-92c4-44c6-bbf3-e35c984f2af2",
   "metadata": {},
   "outputs": [],
   "source": [
    "best = {\n",
    "    'learning_rate': 0.002021947556803579,\n",
    "    'max_depth': 2,\n",
    "    'min_child_weight': 44.68618422455195,\n",
    "    'min_split_gain': 0.030970825122649367,\n",
    "    'n_estimators': 0,\n",
    "    'num_leaves': 2,\n",
    "    'reg_alpha': 0.045341569610647205,\n",
    "    'reg_lambda': 0.08049459639521307\n",
    "}"
   ]
  },
  {
   "cell_type": "code",
   "execution_count": 12,
   "id": "3e37a049-f2cf-4086-ad6b-b7d97379042e",
   "metadata": {},
   "outputs": [],
   "source": [
    "clf_resampled_not_scaler = LGBMClassifier(\n",
    "    n_estimators=N_ESTIMATORS[best.get(\"n_estimators\")],\n",
    "    learning_rate=best.get(\"learning_rate\"),\n",
    "    num_leaves=NUM_LEAVES[best.get(\"num_leaves\")],\n",
    "    max_depth=MAX_DEPTH[best.get(\"max_depth\")],\n",
    "    reg_alpha=best.get(\"reg_alpha\"),\n",
    "    reg_lambda=best.get(\"reg_lambda\"),\n",
    "    min_split_gain=best.get(\"min_split_gain\"),\n",
    "    min_child_weight=best.get(\"min_child_weight\"),\n",
    "    colsample_bytree=0.8, \n",
    "    subsample=0.8,\n",
    "    is_unbalance=False,\n",
    "    n_jobs=-1 \n",
    ")\n",
    "\n",
    "clf_not_resampled_scaler = LGBMClassifier(\n",
    "    n_estimators=N_ESTIMATORS[best.get(\"n_estimators\")],\n",
    "    learning_rate=best.get(\"learning_rate\"),\n",
    "    num_leaves=NUM_LEAVES[best.get(\"num_leaves\")],\n",
    "    max_depth=MAX_DEPTH[best.get(\"max_depth\")],\n",
    "    reg_alpha=best.get(\"reg_alpha\"),\n",
    "    reg_lambda=best.get(\"reg_lambda\"),\n",
    "    min_split_gain=best.get(\"min_split_gain\"),\n",
    "    min_child_weight=best.get(\"min_child_weight\"),\n",
    "    colsample_bytree=0.8, \n",
    "    subsample=0.8,\n",
    "    is_unbalance=False,\n",
    "    n_jobs=-1 \n",
    ")\n",
    "\n",
    "clf_not_resampled_not_scaler = LGBMClassifier(\n",
    "    n_estimators=N_ESTIMATORS[best.get(\"n_estimators\")],\n",
    "    learning_rate=best.get(\"learning_rate\"),\n",
    "    num_leaves=NUM_LEAVES[best.get(\"num_leaves\")],\n",
    "    max_depth=MAX_DEPTH[best.get(\"max_depth\")],\n",
    "    reg_alpha=best.get(\"reg_alpha\"),\n",
    "    reg_lambda=best.get(\"reg_lambda\"),\n",
    "    min_split_gain=best.get(\"min_split_gain\"),\n",
    "    min_child_weight=best.get(\"min_child_weight\"),\n",
    "    colsample_bytree=0.8, \n",
    "    subsample=0.8,\n",
    "    is_unbalance=False,\n",
    "    n_jobs=-1 \n",
    ")"
   ]
  },
  {
   "cell_type": "markdown",
   "id": "c3095771-bfdd-4c9a-9175-2ba41971a469",
   "metadata": {
    "tags": []
   },
   "source": [
    "<div class=\"alert alert-block alert-info\">\n",
    "    <p>Resampled and not scaler</p>\n",
    "</div>"
   ]
  },
  {
   "cell_type": "code",
   "execution_count": 13,
   "id": "9bc3712a-3e78-420f-88a7-9e028e238804",
   "metadata": {},
   "outputs": [
    {
     "data": {
      "text/plain": [
       "LGBMClassifier(colsample_bytree=0.8, is_unbalance=False,\n",
       "               learning_rate=0.002021947556803579, max_depth=9,\n",
       "               min_child_weight=44.68618422455195,\n",
       "               min_split_gain=0.030970825122649367, n_estimators=8000,\n",
       "               num_leaves=36, reg_alpha=0.045341569610647205,\n",
       "               reg_lambda=0.08049459639521307, subsample=0.8)"
      ]
     },
     "execution_count": 13,
     "metadata": {},
     "output_type": "execute_result"
    }
   ],
   "source": [
    "# Split dataset to train\n",
    "X = df_resampled.drop(columns=[\"TARGET\", \"SK_ID_CURR\"])\n",
    "y_target = df_resampled.loc[:, \"TARGET\"]\n",
    "\n",
    "clf_resampled_not_scaler.fit(X, y_target)"
   ]
  },
  {
   "cell_type": "code",
   "execution_count": 15,
   "id": "49fb2ea3-3e6a-4e93-8968-17791e01ee9e",
   "metadata": {},
   "outputs": [
    {
     "data": {
      "text/plain": [
       "['models/model_clf_resampled_not_scaler.pkl']"
      ]
     },
     "execution_count": 15,
     "metadata": {},
     "output_type": "execute_result"
    }
   ],
   "source": [
    "# Saving the model based on the best parameters\n",
    "joblib.dump(clf_resampled_not_scaler, \"models/model_clf_resampled_not_scaler.pkl\")"
   ]
  },
  {
   "cell_type": "markdown",
   "id": "f972adc7-a73c-48cb-9ca1-dd761b54e7be",
   "metadata": {
    "tags": []
   },
   "source": [
    "<div class=\"alert alert-block alert-info\">\n",
    "    <p>Not Resampled and scaler</p>\n",
    "</div>"
   ]
  },
  {
   "cell_type": "code",
   "execution_count": 16,
   "id": "d354fc6d-682d-40c7-90ba-9319744f73c2",
   "metadata": {},
   "outputs": [],
   "source": [
    "X = df_not_resampled.drop(columns=[\"TARGET\", \"SK_ID_CURR\"])\n",
    "y_target = df_not_resampled.loc[:, \"TARGET\"]"
   ]
  },
  {
   "cell_type": "code",
   "execution_count": 17,
   "id": "6d308e8d-6511-4154-bdac-7228d0f82832",
   "metadata": {},
   "outputs": [],
   "source": [
    "X_scaled = scaler.fit_transform(X)"
   ]
  },
  {
   "cell_type": "code",
   "execution_count": 18,
   "id": "dec23d12-97b9-4aac-8853-ec5b237d13b1",
   "metadata": {},
   "outputs": [
    {
     "data": {
      "text/plain": [
       "LGBMClassifier(colsample_bytree=0.8, is_unbalance=False,\n",
       "               learning_rate=0.002021947556803579, max_depth=9,\n",
       "               min_child_weight=44.68618422455195,\n",
       "               min_split_gain=0.030970825122649367, n_estimators=8000,\n",
       "               num_leaves=36, reg_alpha=0.045341569610647205,\n",
       "               reg_lambda=0.08049459639521307, subsample=0.8)"
      ]
     },
     "execution_count": 18,
     "metadata": {},
     "output_type": "execute_result"
    }
   ],
   "source": [
    "clf_not_resampled_scaler.fit(X_scaled, y_target)"
   ]
  },
  {
   "cell_type": "code",
   "execution_count": 19,
   "id": "116482c6-ec0e-41fc-859e-468ced00a206",
   "metadata": {},
   "outputs": [
    {
     "data": {
      "text/plain": [
       "['models/model_clf_not_resampled_scaler.pkl']"
      ]
     },
     "execution_count": 19,
     "metadata": {},
     "output_type": "execute_result"
    }
   ],
   "source": [
    "# Saving the model based on the best parameters\n",
    "joblib.dump(clf_not_resampled_scaler, \"models/model_clf_not_resampled_scaler.pkl\")"
   ]
  },
  {
   "cell_type": "markdown",
   "id": "317d79c3-4f2f-4418-8111-ecf1c3eecdda",
   "metadata": {
    "tags": []
   },
   "source": [
    "<div class=\"alert alert-block alert-info\">\n",
    "    <p>Not Resampled and not scaler</p>\n",
    "</div>"
   ]
  },
  {
   "cell_type": "code",
   "execution_count": 20,
   "id": "1019d6e5-93e6-4a07-9b77-5a64d46fe894",
   "metadata": {},
   "outputs": [],
   "source": [
    "X = df_not_resampled.drop(columns=[\"TARGET\", \"SK_ID_CURR\"])\n",
    "y_target = df_not_resampled.loc[:, \"TARGET\"]"
   ]
  },
  {
   "cell_type": "code",
   "execution_count": 21,
   "id": "cd79be99-9d66-4927-890a-b1b925ce4017",
   "metadata": {},
   "outputs": [
    {
     "data": {
      "text/plain": [
       "LGBMClassifier(colsample_bytree=0.8, is_unbalance=False,\n",
       "               learning_rate=0.002021947556803579, max_depth=9,\n",
       "               min_child_weight=44.68618422455195,\n",
       "               min_split_gain=0.030970825122649367, n_estimators=8000,\n",
       "               num_leaves=36, reg_alpha=0.045341569610647205,\n",
       "               reg_lambda=0.08049459639521307, subsample=0.8)"
      ]
     },
     "execution_count": 21,
     "metadata": {},
     "output_type": "execute_result"
    }
   ],
   "source": [
    "clf_not_resampled_not_scaler.fit(X, y_target)"
   ]
  },
  {
   "cell_type": "code",
   "execution_count": 22,
   "id": "3d846de0-a533-4373-8ef8-68254a4d28a5",
   "metadata": {},
   "outputs": [
    {
     "data": {
      "text/plain": [
       "['models/model_clf_not_resampled_not_scaler.pkl']"
      ]
     },
     "execution_count": 22,
     "metadata": {},
     "output_type": "execute_result"
    }
   ],
   "source": [
    "# Saving the model based on the best parameters\n",
    "joblib.dump(clf_not_resampled_not_scaler, \"models/model_clf_not_resampled_not_scaler.pkl\")"
   ]
  }
 ],
 "metadata": {
  "kernelspec": {
   "display_name": "Python 3 (ipykernel)",
   "language": "python",
   "name": "python3"
  },
  "language_info": {
   "codemirror_mode": {
    "name": "ipython",
    "version": 3
   },
   "file_extension": ".py",
   "mimetype": "text/x-python",
   "name": "python",
   "nbconvert_exporter": "python",
   "pygments_lexer": "ipython3",
   "version": "3.9.9"
  }
 },
 "nbformat": 4,
 "nbformat_minor": 5
}
