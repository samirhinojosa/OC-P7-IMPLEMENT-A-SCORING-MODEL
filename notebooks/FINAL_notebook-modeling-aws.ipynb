{
 "cells": [
  {
   "cell_type": "markdown",
   "id": "4464ab13",
   "metadata": {
    "tags": []
   },
   "source": [
    "<div style=\"display: flex; background-color: #3F579F;\">\n",
    "    <h1 style=\"margin: auto; font-weight: bold; padding: 30px 30px 0px 30px; color:#fff;\" align=\"center\">Implement a scoring model - P7</h1>\n",
    "</div>\n",
    "<div style=\"display: flex; background-color: #3F579F; margin: auto; padding: 5px 30px 0px 30px;\" >\n",
    "    <h3 style=\"width: 100%; text-align: center; float: left; font-size: 24px; color:#fff;\" align=\"center\">| Modeling Notebook |</h3>\n",
    "</div>\n",
    "<div style=\"display: flex; background-color: #3F579F; margin: auto; padding: 10px 30px 30px 30px;\">\n",
    "    <h4 style=\"width: 100%; text-align: center; float: left; font-size: 24px; color:#fff;\" align=\"center\">Data Scientist course - OpenClassrooms</h4>\n",
    "</div>"
   ]
  },
  {
   "cell_type": "markdown",
   "id": "8e27e2e7",
   "metadata": {
    "tags": []
   },
   "source": [
    "<div style=\"background-color: #506AB9;\" >\n",
    "    <h2 style=\"margin: auto; padding: 20px; color:#fff; \">1. Libraries</h2>\n",
    "</div>"
   ]
  },
  {
   "cell_type": "markdown",
   "id": "740bc5e2",
   "metadata": {
    "tags": []
   },
   "source": [
    "<div style=\"background-color: #506AB9;\" >\n",
    "    <h3 style=\"margin: auto; padding: 20px; color:#fff; \">1.1. Libraries</h3>\n",
    "</div>"
   ]
  },
  {
   "cell_type": "code",
   "execution_count": 1,
   "id": "b3597565",
   "metadata": {},
   "outputs": [],
   "source": [
    "## General\n",
    "import re\n",
    "import pandas as pd\n",
    "import numpy as np\n",
    "\n",
    "## Scikit Learn library\n",
    "from sklearn.experimental import enable_halving_search_cv\n",
    "from sklearn.model_selection import train_test_split, StratifiedKFold, HalvingGridSearchCV\n",
    "from sklearn.ensemble import RandomForestClassifier, GradientBoostingClassifier\n",
    "from sklearn.svm import OneClassSVM\n",
    "from sklearn.metrics import (precision_score, roc_auc_score, recall_score, \n",
    "                             f1_score, fbeta_score, confusion_matrix, roc_curve, \n",
    "                             PrecisionRecallDisplay, ConfusionMatrixDisplay)\n",
    "\n",
    "## imbalanced-learn\n",
    "from imblearn.pipeline import Pipeline as imbpipeline\n",
    "from imblearn.over_sampling import SMOTE\n",
    "\n",
    "## LightGBM\n",
    "from lightgbm import LGBMClassifier\n",
    "\n",
    "## To use S3 files\n",
    "import boto3\n",
    "from sagemaker import get_execution_role\n",
    "\n",
    "## Own specific functions \n",
    "from functions import *"
   ]
  },
  {
   "cell_type": "markdown",
   "id": "e050f454",
   "metadata": {
    "tags": []
   },
   "source": [
    "<div style=\"background-color: #506AB9;\" >\n",
    "    <h2 style=\"margin: auto; padding: 20px; color:#fff; \">2. Importing files</h2>\n",
    "</div>"
   ]
  },
  {
   "cell_type": "markdown",
   "id": "fd70e60b",
   "metadata": {
    "tags": []
   },
   "source": [
    "<div class=\"alert alert-block alert-info\">\n",
    "    <p>Definning S3 parameters\n",
    "   </p>\n",
    "</div>"
   ]
  },
  {
   "cell_type": "code",
   "execution_count": 2,
   "id": "3e40e9df",
   "metadata": {},
   "outputs": [],
   "source": [
    "connexion = boto3.client('s3')"
   ]
  },
  {
   "cell_type": "code",
   "execution_count": 3,
   "id": "5d4a8b41",
   "metadata": {},
   "outputs": [],
   "source": [
    "bucket = \"oc-data-scientist\"\n",
    "subfolder = \"oc-p7/datasets/finals_datasets\"\n",
    "data_key = \"df_current_clients.csv\""
   ]
  },
  {
   "cell_type": "code",
   "execution_count": 4,
   "id": "b4a983e8",
   "metadata": {},
   "outputs": [],
   "source": [
    "role = get_execution_role()\n",
    "conn = boto3.client('s3')"
   ]
  },
  {
   "cell_type": "code",
   "execution_count": 5,
   "id": "76de5b7d",
   "metadata": {},
   "outputs": [
    {
     "name": "stdout",
     "output_type": "stream",
     "text": [
      "oc-p7/datasets/finals_datasets/\n",
      "oc-p7/datasets/finals_datasets/df_clients_to_predict.csv\n",
      "oc-p7/datasets/finals_datasets/df_current_clients.csv\n"
     ]
    }
   ],
   "source": [
    "contents = conn.list_objects(Bucket=bucket, Prefix=subfolder)['Contents']\n",
    "for f in contents:\n",
    "    print(f['Key'])"
   ]
  },
  {
   "cell_type": "code",
   "execution_count": 6,
   "id": "34623a8e",
   "metadata": {},
   "outputs": [],
   "source": [
    "data_location = \"s3://{}/{}/{}\".format(bucket, subfolder, data_key)"
   ]
  },
  {
   "cell_type": "markdown",
   "id": "8b0782f6",
   "metadata": {
    "tags": []
   },
   "source": [
    "<div class=\"alert alert-block alert-info\">\n",
    "    <p>Let's load the current clients\n",
    "   </p>\n",
    "</div>"
   ]
  },
  {
   "cell_type": "code",
   "execution_count": 7,
   "id": "ee5e35af",
   "metadata": {},
   "outputs": [],
   "source": [
    "df_current_clients = pd.read_csv(data_location)"
   ]
  },
  {
   "cell_type": "code",
   "execution_count": 8,
   "id": "5a969fe0",
   "metadata": {},
   "outputs": [],
   "source": [
    "#df_current_clients = pd.read_csv(r\"datasets\\finals_datasets\\df_current_clients.csv\", nrows=30000)"
   ]
  },
  {
   "cell_type": "code",
   "execution_count": 9,
   "id": "4e3bd7d6",
   "metadata": {},
   "outputs": [
    {
     "name": "stdout",
     "output_type": "stream",
     "text": [
      "\n",
      "Analysis Header of df_current_clients dataset\n",
      "--------------------------------------------------------------------------------\n",
      "- Dataset shape:\t\t\t 307507 rows and 509 columns\n",
      "- Total of NaN values:\t\t\t 0\n",
      "- Percentage of NaN:\t\t\t 0.0 %\n",
      "- Total of infinite values:\t\t 0\n",
      "- Percentage of infinite values:\t 0.0 %\n",
      "- Total of full duplicates rows:\t 0\n",
      "- Total of empty rows:\t\t\t 0\n",
      "- Total of empty columns:\t\t 0\n",
      "- Unique indexes:\t\t\t True\n",
      "- Memory usage:\t\t\t\t 1.2 GB\n"
     ]
    }
   ],
   "source": [
    "df_analysis(df_current_clients, \"df_current_clients\", analysis_type=\"header\")"
   ]
  },
  {
   "cell_type": "markdown",
   "id": "9c6d4775",
   "metadata": {
    "tags": []
   },
   "source": [
    "<div class=\"alert alert-block alert-warning\">\n",
    "    <p><b>Observations / Conclusions</b></p>\n",
    "    <p>First of all, let's treat the memory to optimize its usage.</p>\n",
    "</div>"
   ]
  },
  {
   "cell_type": "markdown",
   "id": "d90a3c3b",
   "metadata": {
    "tags": []
   },
   "source": [
    "<div style=\"background-color: #506AB9;\" >\n",
    "    <h2 style=\"margin: auto; padding: 20px; color:#fff; \">3. Optimizing memory usage</h2>\n",
    "</div>"
   ]
  },
  {
   "cell_type": "markdown",
   "id": "a427916a",
   "metadata": {
    "tags": []
   },
   "source": [
    "<div class=\"alert alert-block alert-warning\">\n",
    "    <p>We should optimize the memory usage to avoid problems during executions</p>\n",
    "</div>"
   ]
  },
  {
   "cell_type": "code",
   "execution_count": 10,
   "id": "6823a57e",
   "metadata": {},
   "outputs": [],
   "source": [
    "df_current_clients = memory_optimization(df_current_clients)"
   ]
  },
  {
   "cell_type": "code",
   "execution_count": 11,
   "id": "7910348e",
   "metadata": {},
   "outputs": [
    {
     "name": "stdout",
     "output_type": "stream",
     "text": [
      "\n",
      "Analysis Header of df dataset\n",
      "--------------------------------------------------------------------------------\n",
      "- Dataset shape:\t\t\t 307507 rows and 509 columns\n",
      "- Total of NaN values:\t\t\t 0\n",
      "- Percentage of NaN:\t\t\t 0.0 %\n",
      "- Total of infinite values:\t\t 0\n",
      "- Percentage of infinite values:\t 0.0 %\n",
      "- Total of full duplicates rows:\t 0\n",
      "- Total of empty rows:\t\t\t 0\n",
      "- Total of empty columns:\t\t 0\n",
      "- Unique indexes:\t\t\t True\n",
      "- Memory usage:\t\t\t\t 459.8 MB\n"
     ]
    }
   ],
   "source": [
    "df_analysis(df_current_clients, \"df\", analysis_type=\"header\")"
   ]
  },
  {
   "cell_type": "markdown",
   "id": "04a188c0",
   "metadata": {
    "tags": []
   },
   "source": [
    "<div class=\"alert alert-block alert-success\">\n",
    "    <p><b>Observations / Conclusions</b></p>\n",
    "    <p>The memory usage has been reduced.</p>\n",
    "</div>"
   ]
  },
  {
   "cell_type": "markdown",
   "id": "bbb8e1c4",
   "metadata": {
    "tags": []
   },
   "source": [
    "<div style=\"background-color: #506AB9;\" >\n",
    "    <h2 style=\"margin: auto; padding: 20px; color:#fff; \">4. Analyzing target variable</h2>\n",
    "</div>"
   ]
  },
  {
   "cell_type": "markdown",
   "id": "8858c742",
   "metadata": {
    "tags": []
   },
   "source": [
    "<div class=\"alert alert-block alert-info\">\n",
    "    <p>We are going to analyze the target variable to see whether is an imbalanced class\n",
    "   </p>\n",
    "</div>"
   ]
  },
  {
   "cell_type": "code",
   "execution_count": 12,
   "id": "b74d1765",
   "metadata": {},
   "outputs": [
    {
     "data": {
      "image/png": "[encoded data removed]",
      "text/plain": [
       "<Figure size 648x360 with 2 Axes>"
      ]
     },
     "metadata": {
      "needs_background": "light"
     },
     "output_type": "display_data"
    }
   ],
   "source": [
    "barplot_and_pie(df_current_clients[\"TARGET\"], \"Target distribution\", \" \")"
   ]
  },
  {
   "cell_type": "markdown",
   "id": "b125e2da",
   "metadata": {
    "tags": []
   },
   "source": [
    "<div class=\"alert alert-block alert-warning\">\n",
    "    <p><b>Observations / Conclusions</b></p>\n",
    "    <ul style=\"list-style-type: square;\">\n",
    "        <li>Here we can see how much the dataset is imbalanced so, we are facing a imbalanced classification problem</li>\n",
    "        <li>It is easily identifying that there are <b>loans that were repaid (0)</b> in comparison of <b>loans that were not repaid (1)</b>s</li>\n",
    "        <li>We are going to treat the imbalanced class into a pipeline during the modeling</li>\n",
    "    </ul> \n",
    "</div>"
   ]
  },
  {
   "cell_type": "markdown",
   "id": "5c0face4",
   "metadata": {
    "tags": []
   },
   "source": [
    "<div style=\"background-color: #506AB9;\" >\n",
    "    <h2 style=\"margin: auto; padding: 20px; color:#fff; \">5. Preparing data</h2>\n",
    "</div>"
   ]
  },
  {
   "cell_type": "markdown",
   "id": "67d7d151",
   "metadata": {
    "tags": []
   },
   "source": [
    "<div class=\"alert alert-block alert-info\">\n",
    "    <p>Now, we are going to do a subsamble of the dataset to tune some parameters before the model execution\n",
    "   </p>\n",
    "</div>"
   ]
  },
  {
   "cell_type": "code",
   "execution_count": 13,
   "id": "ca733c5d",
   "metadata": {},
   "outputs": [],
   "source": [
    "df_subsample = df_current_clients.copy()"
   ]
  },
  {
   "cell_type": "code",
   "execution_count": 14,
   "id": "9c285782",
   "metadata": {},
   "outputs": [],
   "source": [
    "df_subsample = df_subsample.sample(frac=0.5)"
   ]
  },
  {
   "cell_type": "code",
   "execution_count": 15,
   "id": "86a0ea92",
   "metadata": {},
   "outputs": [
    {
     "data": {
      "image/png": "[encoded data removed]",
      "text/plain": [
       "<Figure size 648x360 with 2 Axes>"
      ]
     },
     "metadata": {
      "needs_background": "light"
     },
     "output_type": "display_data"
    }
   ],
   "source": [
    "barplot_and_pie(df_subsample[\"TARGET\"], \"Target distribution\", \" \")"
   ]
  },
  {
   "cell_type": "code",
   "execution_count": 16,
   "id": "1b0947d6",
   "metadata": {},
   "outputs": [
    {
     "name": "stdout",
     "output_type": "stream",
     "text": [
      "\n",
      "Analysis Header of df dataset\n",
      "--------------------------------------------------------------------------------\n",
      "- Dataset shape:\t\t\t 153754 rows and 509 columns\n",
      "- Total of NaN values:\t\t\t 0\n",
      "- Percentage of NaN:\t\t\t 0.0 %\n",
      "- Total of infinite values:\t\t 0\n",
      "- Percentage of infinite values:\t 0.0 %\n",
      "- Total of full duplicates rows:\t 0\n",
      "- Total of empty rows:\t\t\t 0\n",
      "- Total of empty columns:\t\t 0\n",
      "- Unique indexes:\t\t\t True\n",
      "- Memory usage:\t\t\t\t 231.1 MB\n"
     ]
    }
   ],
   "source": [
    "df_analysis(df_subsample, \"df\", analysis_type=\"header\")"
   ]
  },
  {
   "cell_type": "markdown",
   "id": "ead8c0ee",
   "metadata": {
    "tags": []
   },
   "source": [
    "<div style=\"background-color: #506AB9;\" >\n",
    "    <h3 style=\"margin: auto; padding: 20px; color:#fff; \">5.1. Splitting data</h3>\n",
    "</div>"
   ]
  },
  {
   "cell_type": "markdown",
   "id": "57b7311e",
   "metadata": {
    "tags": []
   },
   "source": [
    "<div class=\"alert alert-block alert-info\">\n",
    "    <p>First of all, let's identify the training columns in the dataset\n",
    "   </p>\n",
    "</div>"
   ]
  },
  {
   "cell_type": "code",
   "execution_count": 17,
   "id": "cbcf5915",
   "metadata": {},
   "outputs": [],
   "source": [
    "NOT_TRAINING_COLUMNS  = [\"TARGET\", \"SK_ID_CURR\", \"SK_ID_BUREAU\", \"SK_ID_PREV\", \"index\"] \n",
    "TRAINING_COLUMNS = [col for col in df_current_clients.columns if col not in NOT_TRAINING_COLUMNS]"
   ]
  },
  {
   "cell_type": "markdown",
   "id": "5697d476",
   "metadata": {
    "tags": []
   },
   "source": [
    "<div class=\"alert alert-block alert-info\">\n",
    "    <p>Let's split the all data\n",
    "   </p>\n",
    "</div>"
   ]
  },
  {
   "cell_type": "code",
   "execution_count": 18,
   "id": "787fb38d",
   "metadata": {},
   "outputs": [],
   "source": [
    "X = df_current_clients[TRAINING_COLUMNS]"
   ]
  },
  {
   "cell_type": "code",
   "execution_count": 19,
   "id": "15cc4956",
   "metadata": {},
   "outputs": [],
   "source": [
    "y_target = df_current_clients.loc[:,\"TARGET\"]"
   ]
  },
  {
   "cell_type": "code",
   "execution_count": 20,
   "id": "f2b0c66b",
   "metadata": {},
   "outputs": [],
   "source": [
    "X_train, X_test, y_train, y_test = train_test_split(X, y_target, test_size=0.20, stratify=y_target, random_state=42)"
   ]
  },
  {
   "cell_type": "code",
   "execution_count": 21,
   "id": "ba65b498",
   "metadata": {},
   "outputs": [
    {
     "name": "stdout",
     "output_type": "stream",
     "text": [
      "X_train: (246005, 506)\n",
      "y_train: (246005,)\n",
      "---------------------\n",
      "X_test: (61502, 506)\n",
      "y_test: (61502,)\n"
     ]
    }
   ],
   "source": [
    "print(\"X_train: {}\".format(X_train.shape))\n",
    "print(\"y_train: {}\".format(y_train.shape))\n",
    "print(\"---------------------\")\n",
    "print(\"X_test: {}\".format(X_test.shape))\n",
    "print(\"y_test: {}\".format(y_test.shape))"
   ]
  },
  {
   "cell_type": "markdown",
   "id": "c2135109",
   "metadata": {
    "tags": []
   },
   "source": [
    "<div class=\"alert alert-block alert-info\">\n",
    "    <p>Now, we are going to split the subsample of the data to tune the models\n",
    "   </p>\n",
    "</div>"
   ]
  },
  {
   "cell_type": "code",
   "execution_count": 22,
   "id": "03417ac0",
   "metadata": {},
   "outputs": [],
   "source": [
    "X_ss = df_subsample[TRAINING_COLUMNS]"
   ]
  },
  {
   "cell_type": "code",
   "execution_count": 23,
   "id": "d3d0b7c3",
   "metadata": {},
   "outputs": [],
   "source": [
    "y_target_ss = df_subsample.loc[:,\"TARGET\"]"
   ]
  },
  {
   "cell_type": "code",
   "execution_count": 24,
   "id": "a0c61fad",
   "metadata": {},
   "outputs": [],
   "source": [
    "X_train_ss, X_test_ss, y_train_ss, y_test_ss = train_test_split(X_ss, y_target_ss, test_size=0.20, stratify=y_target_ss, random_state=42)"
   ]
  },
  {
   "cell_type": "code",
   "execution_count": 25,
   "id": "0f86e44f",
   "metadata": {},
   "outputs": [
    {
     "name": "stdout",
     "output_type": "stream",
     "text": [
      "X_train_ss: (123003, 506)\n",
      "y_train_ss: (123003,)\n",
      "---------------------\n",
      "X_test_ss: (30751, 506)\n",
      "y_test_ss: (30751,)\n"
     ]
    }
   ],
   "source": [
    "print(\"X_train_ss: {}\".format(X_train_ss.shape))\n",
    "print(\"y_train_ss: {}\".format(y_train_ss.shape))\n",
    "print(\"---------------------\")\n",
    "print(\"X_test_ss: {}\".format(X_test_ss.shape))\n",
    "print(\"y_test_ss: {}\".format(y_test_ss.shape))"
   ]
  },
  {
   "cell_type": "markdown",
   "id": "3a5aa730",
   "metadata": {
    "tags": []
   },
   "source": [
    "<div style=\"background-color: #506AB9;\" >\n",
    "    <h2 style=\"margin: auto; padding: 20px; color:#fff; \">6. Modelisation</h2>\n",
    "</div>"
   ]
  },
  {
   "cell_type": "markdown",
   "id": "b255ee86",
   "metadata": {
    "tags": []
   },
   "source": [
    "<div class=\"alert alert-block alert-info\">\n",
    "    <p>We are going to face an <b>Unbalanced Classification Problem</b> and we are going to use three models</p>\n",
    "    <ul style=\"list-style-type: square;\">\n",
    "        <li>Random Forest Classifier</li>\n",
    "        <li>Support Vector Machine</li>\n",
    "        <li>LightGBM</li>\n",
    "    </ul>\n",
    "    <p>First of all, we are going to find some parameters using a data subsample and HalvingGridSearchCV</p>\n",
    "    <p>Also, we are going to use a Threshold selection then a Custom score to penalize the Falses Positives</p>\n",
    "    <p>So, let's define the parameters to use throughout the three models</p>\n",
    "</div>"
   ]
  },
  {
   "cell_type": "markdown",
   "id": "a01839a3",
   "metadata": {
    "tags": []
   },
   "source": [
    "<div style=\"background-color: #506AB9;\" >\n",
    "    <h3 style=\"margin: auto; padding: 20px; color:#fff; \">6.1. General parameters</h3>\n",
    "</div>"
   ]
  },
  {
   "cell_type": "markdown",
   "id": "48907ebe",
   "metadata": {
    "tags": []
   },
   "source": [
    "<div class=\"alert alert-block alert-info\">\n",
    "    <p>To treat the unbalanced class, we are going t implement OverSampling technique with SMOTE.</p>\n",
    "</div>"
   ]
  },
  {
   "cell_type": "code",
   "execution_count": 26,
   "id": "1b419f26",
   "metadata": {},
   "outputs": [],
   "source": [
    "smote = SMOTE(random_state=42, n_jobs=-1)"
   ]
  },
  {
   "cell_type": "markdown",
   "id": "eca8b2a7",
   "metadata": {
    "tags": []
   },
   "source": [
    "<div class=\"alert alert-block alert-info\">\n",
    "    <p>Also, we are going to use Stratified K-Folds cross-validator to ensure that each fold of dataset has the same proportion of observations with a given label.</p>\n",
    "</div>"
   ]
  },
  {
   "cell_type": "code",
   "execution_count": 27,
   "id": "52c1a056",
   "metadata": {},
   "outputs": [],
   "source": [
    "stratified_kfold = StratifiedKFold(n_splits=3, shuffle=True, random_state=42)"
   ]
  },
  {
   "cell_type": "markdown",
   "id": "38e93308",
   "metadata": {
    "tags": []
   },
   "source": [
    "<div class=\"alert alert-block alert-info\">\n",
    "    <p>Dataframe to compare metrics.</p>\n",
    "</div>"
   ]
  },
  {
   "cell_type": "code",
   "execution_count": 28,
   "id": "3a3123da",
   "metadata": {},
   "outputs": [],
   "source": [
    "df_models_metrics = pd.DataFrame({})"
   ]
  },
  {
   "cell_type": "markdown",
   "id": "8ca6c00d",
   "metadata": {
    "tags": []
   },
   "source": [
    "<div style=\"background-color: #506AB9;\" >\n",
    "    <h3 style=\"margin: auto; padding: 20px; color:#fff; \">6.2. Hyperparameters Tuning</h3>\n",
    "</div>"
   ]
  },
  {
   "cell_type": "markdown",
   "id": "73f9d857",
   "metadata": {
    "tags": []
   },
   "source": [
    "<div class=\"alert alert-block alert-info\">\n",
    "    <p>Let's find some parameters using a data subsample and HalvingGridSearchCV</p>\n",
    "</div>"
   ]
  },
  {
   "cell_type": "markdown",
   "id": "e11b1150",
   "metadata": {
    "tags": []
   },
   "source": [
    "<div style=\"background-color: #506AB9;\" >\n",
    "    <h4 style=\"margin: auto; padding: 20px; color:#fff; \">6.2.1. Random Forest</h4>\n",
    "</div>"
   ]
  },
  {
   "cell_type": "markdown",
   "id": "37632254",
   "metadata": {
    "tags": []
   },
   "source": [
    "<div class=\"alert alert-block alert-info\">\n",
    "    <p>Parameters settings</p>\n",
    "</div>"
   ]
  },
  {
   "cell_type": "code",
   "execution_count": 43,
   "id": "f1449a52",
   "metadata": {},
   "outputs": [],
   "source": [
    "param_grid = {\n",
    "    \"n_estimators\" : np.arange(500, 1000, 100),\n",
    "    \"max_depth\" : np.arange(20, 30, 2),\n",
    "}"
   ]
  },
  {
   "cell_type": "markdown",
   "id": "a5bf8159",
   "metadata": {
    "tags": []
   },
   "source": [
    "<div class=\"alert alert-block alert-info\">\n",
    "    <p>Executing the model</p>\n",
    "</div>"
   ]
  },
  {
   "cell_type": "code",
   "execution_count": 44,
   "id": "5611d29b",
   "metadata": {},
   "outputs": [],
   "source": [
    "clf_rf = RandomForestClassifier(random_state=42)"
   ]
  },
  {
   "cell_type": "code",
   "execution_count": 45,
   "id": "4342d5ca",
   "metadata": {},
   "outputs": [],
   "source": [
    "search_rf = HalvingGridSearchCV(clf_rf, param_grid, scoring=\"roc_auc\", cv=stratified_kfold, n_jobs=-1)"
   ]
  },
  {
   "cell_type": "code",
   "execution_count": 46,
   "id": "1bcdf080",
   "metadata": {},
   "outputs": [
    {
     "data": {
      "text/plain": [
       "HalvingGridSearchCV(cv=StratifiedKFold(n_splits=3, random_state=42, shuffle=True),\n",
       "                    estimator=RandomForestClassifier(random_state=42),\n",
       "                    n_jobs=-1,\n",
       "                    param_grid={'max_depth': array([20, 22, 24, 26, 28]),\n",
       "                                'n_estimators': array([500, 600, 700, 800, 900])})"
      ]
     },
     "execution_count": 46,
     "metadata": {},
     "output_type": "execute_result"
    }
   ],
   "source": [
    "search_rf.fit(X_train, y_train)"
   ]
  },
  {
   "cell_type": "markdown",
   "id": "8f15ccf3",
   "metadata": {
    "tags": []
   },
   "source": [
    "<div class=\"alert alert-block alert-info\">\n",
    "    <p>ROC-AUC score</p>\n",
    "</div>"
   ]
  },
  {
   "cell_type": "code",
   "execution_count": 47,
   "id": "57c2ee0d",
   "metadata": {},
   "outputs": [
    {
     "data": {
      "text/plain": [
       "0.9192214824028683"
      ]
     },
     "execution_count": 47,
     "metadata": {},
     "output_type": "execute_result"
    }
   ],
   "source": [
    "search_rf.best_score_"
   ]
  },
  {
   "cell_type": "markdown",
   "id": "67512f51",
   "metadata": {
    "tags": []
   },
   "source": [
    "<div class=\"alert alert-block alert-info\">\n",
    "    <p>The best parameters</p>\n",
    "</div>"
   ]
  },
  {
   "cell_type": "code",
   "execution_count": 48,
   "id": "41e99dad",
   "metadata": {},
   "outputs": [
    {
     "data": {
      "text/plain": [
       "{'max_depth': 26, 'n_estimators': 500}"
      ]
     },
     "execution_count": 48,
     "metadata": {},
     "output_type": "execute_result"
    }
   ],
   "source": [
    "search_rf.best_params_"
   ]
  },
  {
   "cell_type": "markdown",
   "id": "03b23533",
   "metadata": {
    "tags": []
   },
   "source": [
    "<div style=\"background-color: #506AB9;\" >\n",
    "    <h4 style=\"margin: auto; padding: 20px; color:#fff; \">6.2.2. LightGBM</h4>\n",
    "</div>"
   ]
  },
  {
   "cell_type": "markdown",
   "id": "2c43c4bc",
   "metadata": {
    "tags": []
   },
   "source": [
    "<div class=\"alert alert-block alert-info\">\n",
    "    <p>Parameters settings</p>\n",
    "</div>"
   ]
  },
  {
   "cell_type": "code",
   "execution_count": 29,
   "id": "5ed87a38",
   "metadata": {},
   "outputs": [],
   "source": [
    "param_grid = {\n",
    "    \"n_estimators\" : [8000, 10000],\n",
    "    \"num_leaves\" : [32, 34], \n",
    "    \"max_depth\" : [8, 9]\n",
    "}"
   ]
  },
  {
   "cell_type": "markdown",
   "id": "697998cf",
   "metadata": {
    "tags": []
   },
   "source": [
    "<div class=\"alert alert-block alert-info\">\n",
    "    <p>Executing the model</p>\n",
    "</div>"
   ]
  },
  {
   "cell_type": "code",
   "execution_count": 30,
   "id": "7e3af7d8",
   "metadata": {},
   "outputs": [],
   "source": [
    "clf_lgbm = LGBMClassifier(random_state=42)"
   ]
  },
  {
   "cell_type": "code",
   "execution_count": 31,
   "id": "9364d2fb",
   "metadata": {},
   "outputs": [],
   "source": [
    "search_lgbm = HalvingGridSearchCV(clf_lgbm, param_grid, scoring=\"roc_auc\", cv=stratified_kfold, n_jobs=-1)"
   ]
  },
  {
   "cell_type": "code",
   "execution_count": 32,
   "id": "b30cec95",
   "metadata": {},
   "outputs": [
    {
     "data": {
      "text/plain": [
       "HalvingGridSearchCV(cv=StratifiedKFold(n_splits=3, random_state=42, shuffle=True),\n",
       "                    estimator=LGBMClassifier(random_state=42), n_jobs=-1,\n",
       "                    param_grid={'max_depth': [8, 9],\n",
       "                                'n_estimators': [8000, 10000],\n",
       "                                'num_leaves': [32, 34]},\n",
       "                    scoring='roc_auc')"
      ]
     },
     "execution_count": 32,
     "metadata": {},
     "output_type": "execute_result"
    }
   ],
   "source": [
    "search_lgbm.fit(X_train, y_train)"
   ]
  },
  {
   "cell_type": "markdown",
   "id": "f72e784e",
   "metadata": {
    "tags": []
   },
   "source": [
    "<div class=\"alert alert-block alert-info\">\n",
    "    <p>ROC-AUC score</p>\n",
    "</div>"
   ]
  },
  {
   "cell_type": "code",
   "execution_count": 33,
   "id": "a4026bb8",
   "metadata": {},
   "outputs": [
    {
     "data": {
      "text/plain": [
       "0.7396840027850832"
      ]
     },
     "execution_count": 33,
     "metadata": {},
     "output_type": "execute_result"
    }
   ],
   "source": [
    "search_lgbm.best_score_"
   ]
  },
  {
   "cell_type": "markdown",
   "id": "b21ff32e",
   "metadata": {
    "tags": []
   },
   "source": [
    "<div class=\"alert alert-block alert-info\">\n",
    "    <p>The best parameters</p>\n",
    "</div>"
   ]
  },
  {
   "cell_type": "code",
   "execution_count": 34,
   "id": "00fccbee",
   "metadata": {},
   "outputs": [
    {
     "data": {
      "text/plain": [
       "{'max_depth': 9, 'n_estimators': 8000, 'num_leaves': 32}"
      ]
     },
     "execution_count": 34,
     "metadata": {},
     "output_type": "execute_result"
    }
   ],
   "source": [
    "search_lgbm.best_params_"
   ]
  },
  {
   "cell_type": "markdown",
   "id": "a6004b61",
   "metadata": {
    "tags": []
   },
   "source": [
    "<div style=\"background-color: #506AB9;\" >\n",
    "    <h4 style=\"margin: auto; padding: 20px; color:#fff; \">6.2.2. Gradient Boosting</h4>\n",
    "</div>"
   ]
  },
  {
   "cell_type": "markdown",
   "id": "7b6c8d08",
   "metadata": {
    "tags": []
   },
   "source": [
    "<div class=\"alert alert-block alert-info\">\n",
    "    <p>Parameters settings</p>\n",
    "</div>"
   ]
  },
  {
   "cell_type": "code",
   "execution_count": 35,
   "id": "d7fc19b1",
   "metadata": {},
   "outputs": [],
   "source": [
    "param_grid = {\n",
    "    \"n_estimators\" : np.arange(500, 1000, 100),\n",
    "    \"max_depth\" : np.arange(20, 30, 2),\n",
    "}"
   ]
  },
  {
   "cell_type": "markdown",
   "id": "9fa0af2b",
   "metadata": {
    "tags": []
   },
   "source": [
    "<div class=\"alert alert-block alert-info\">\n",
    "    <p>Executing the model</p>\n",
    "</div>"
   ]
  },
  {
   "cell_type": "code",
   "execution_count": 36,
   "id": "e3f803af",
   "metadata": {},
   "outputs": [],
   "source": [
    "clf_gb = GradientBoostingClassifier(validation_fraction=0.2, \n",
    "                                    n_iter_no_change=5,\n",
    "                                    tol=0.01,\n",
    "                                    random_state=42)"
   ]
  },
  {
   "cell_type": "code",
   "execution_count": 37,
   "id": "84c4e9b8",
   "metadata": {},
   "outputs": [],
   "source": [
    "search_gb = HalvingGridSearchCV(clf_gb, param_grid, scoring=\"roc_auc\", cv=stratified_kfold, n_jobs=-1)"
   ]
  },
  {
   "cell_type": "code",
   "execution_count": null,
   "id": "5c8c6a86",
   "metadata": {},
   "outputs": [],
   "source": [
    "search_gb.fit(X_train, y_train)"
   ]
  },
  {
   "cell_type": "markdown",
   "id": "1ff98dbf",
   "metadata": {
    "tags": []
   },
   "source": [
    "<div class=\"alert alert-block alert-info\">\n",
    "    <p>ROC-AUC score</p>\n",
    "</div>"
   ]
  },
  {
   "cell_type": "code",
   "execution_count": null,
   "id": "8abdd9da",
   "metadata": {},
   "outputs": [],
   "source": [
    "search_gb.best_score_"
   ]
  },
  {
   "cell_type": "markdown",
   "id": "78b577a1",
   "metadata": {
    "tags": []
   },
   "source": [
    "<div class=\"alert alert-block alert-info\">\n",
    "    <p>The best parameters</p>\n",
    "</div>"
   ]
  },
  {
   "cell_type": "code",
   "execution_count": null,
   "id": "01c3ec0e",
   "metadata": {},
   "outputs": [],
   "source": [
    "search_gb.best_params_"
   ]
  },
  {
   "cell_type": "markdown",
   "id": "33eda640",
   "metadata": {
    "tags": []
   },
   "source": [
    "<div style=\"background-color: #506AB9;\" >\n",
    "    <h3 style=\"margin: auto; padding: 20px; color:#fff; \">6.3. Custom evaluations</h3>\n",
    "</div>"
   ]
  },
  {
   "cell_type": "markdown",
   "id": "ae45c2f6",
   "metadata": {
    "tags": []
   },
   "source": [
    "<div style=\"background-color: #506AB9;\" >\n",
    "    <h4 style=\"margin: auto; padding: 20px; color:#fff; \">6.3.1. Threshold selection</h4>\n",
    "</div>"
   ]
  },
  {
   "cell_type": "code",
   "execution_count": null,
   "id": "2af969ff",
   "metadata": {},
   "outputs": [],
   "source": [
    "def threshold_selection(y_train, y_prob):\n",
    "    \"\"\"\n",
    "    Method used to calculate the threshold.\n",
    "\n",
    "    Parameters:\n",
    "    -----------------\n",
    "        df (pandas.DataFrame): Dataset to analyze\n",
    "        y_train (1d array-like): True values\n",
    "        y_prob (1d array-like): Probabilite values predicted\n",
    "        \n",
    "    Returns:\n",
    "    -----------------\n",
    "        threshold (float) : Best threshold value\n",
    "        Threshold (image) : Plot the threshold and the best score\n",
    "    \"\"\"\n",
    "    \n",
    "    scores = []\n",
    "    \n",
    "    for threshold in np.linspace(0, 1, num=101):\n",
    "        y_prob_value = (y_prob > threshold)*1\n",
    "        score = fbeta_score(y_train, y_prob_value, beta = 2)\n",
    "        scores.append(score) \n",
    "\n",
    "    scores = np.asarray(scores)\n",
    "    best_threshold, best_score = (scores.argmax()*.01, round(scores.max(),3))\n",
    "    \n",
    "    print(\"Best results\")\n",
    "    print(\"- Best Threshold:\\t\", best_threshold)\n",
    "    print(\"- Best Score:\\t\\t\", best_score)\n",
    "    print(\"\\n\")\n",
    "    \n",
    "    plt.subplots(1, figsize=(6, 5))\n",
    "    plt.plot(np.linspace(0, 1, num=101), scores, lw=1)\n",
    "    plt.axvline(best_threshold, ls=\"--\", lw=1, c=\"r\")\n",
    "    plt.title(\"Threshold\")\n",
    "    plt.xlabel(\"proba threshold\")\n",
    "    plt.ylabel(\"Score performed\")\n",
    "    plt.show()\n",
    "    \n",
    "    return best_threshold"
   ]
  },
  {
   "cell_type": "markdown",
   "id": "110841aa",
   "metadata": {
    "tags": []
   },
   "source": [
    "<div style=\"background-color: #506AB9;\" >\n",
    "    <h4 style=\"margin: auto; padding: 20px; color:#fff; \">6.3.2. Custom Score</h4>\n",
    "</div>"
   ]
  },
  {
   "cell_type": "markdown",
   "id": "8828963b",
   "metadata": {
    "tags": []
   },
   "source": [
    "<div class=\"alert alert-block alert-info\">\n",
    "    <p>We need to penalize the <b>False Negative</b> that are loands <b>will be in default</b>, and they were <b>predicted incorrectly</b>. Due to that, we are going to define a <b>Custom Score</b>.\n",
    "    </p>\n",
    "</div>"
   ]
  },
  {
   "cell_type": "code",
   "execution_count": null,
   "id": "7e5b7295",
   "metadata": {},
   "outputs": [],
   "source": [
    "def custom_score(y_true, y_pred, threshold):\n",
    "    \"\"\"\n",
    "    Method used to calculate a score based on the penalization of False Negatives.\n",
    "\n",
    "    Parameters:\n",
    "    -----------------\n",
    "        y_true (series): True values\n",
    "        y_pred (series): Predicted values\n",
    "        threshold (float): Threshold value to use\n",
    "        \n",
    "    Returns:\n",
    "    -----------------\n",
    "        Score. (float): Score obtained based on the rules defined to measure. \n",
    "    \"\"\"\n",
    "    \n",
    "    # Getting the probability outputs from \"predict_proba\"\n",
    "    y_pred = (y_pred > threshold).astype(int)\n",
    "    \n",
    "    TN_rate = 1        # Loans that are not in default and were predicted correctly\n",
    "    TP_rate = 1        # Loans that are in default and were predicted correctly\n",
    "    FP_rate = 0        # Loans that are not in default and were predicted incorrectly\n",
    "    FN_rate = -100      # Loans that are in default and were were predicted incorrectly\n",
    "    \n",
    "    # Getting all values based on confusion matrix\n",
    "    (TN, FP, FN, TP) = confusion_matrix(y_true, y_pred, labels=[0, 1]).ravel()\n",
    "\n",
    "    # Total of default and not default cases\n",
    "    total_not_default = TN + FP     # Not default cases\n",
    "    total_default = TP + FN         # Default cases \n",
    "    \n",
    "    gain_total = TN*TN_rate + TP*TP_rate + FP*FP_rate + FN*FN_rate\n",
    "    gain_maximun = total_not_default*TN_rate + total_default*TP_rate\n",
    "    gain_minumun = total_not_default*TN_rate + total_default*FN_rate\n",
    "    \n",
    "    # normalize to get score between 0 (baseline) and 1\n",
    "    score = (gain_total - gain_minumun) / (gain_maximun - gain_minumun)\n",
    "    \n",
    "    return score"
   ]
  },
  {
   "cell_type": "markdown",
   "id": "d86e2d6b",
   "metadata": {
    "tags": []
   },
   "source": [
    "<div style=\"background-color: #506AB9;\" >\n",
    "    <h3 style=\"margin: auto; padding: 20px; color:#fff; \">6.4. Models</h3>\n",
    "</div>"
   ]
  },
  {
   "cell_type": "markdown",
   "id": "358cd7ef",
   "metadata": {
    "tags": []
   },
   "source": [
    "<div class=\"alert alert-block alert-info\">\n",
    "    <p>Once, we have searched some parameters and define ours Threshold selection and Custom score, we are ready to execute ours models considering the OverSampling in the minority class</p>\n",
    "</div>"
   ]
  },
  {
   "cell_type": "markdown",
   "id": "ebcbf1ca",
   "metadata": {
    "tags": []
   },
   "source": [
    "<div style=\"background-color: #506AB9;\" >\n",
    "    <h4 style=\"margin: auto; padding: 20px; color:#fff; \">6.4.1. Random Forest</h4>\n",
    "</div>"
   ]
  },
  {
   "cell_type": "markdown",
   "id": "32b254fb",
   "metadata": {
    "tags": []
   },
   "source": [
    "<div class=\"alert alert-block alert-info\">\n",
    "    <p>Let's define the pipeline to put inside it the defined SMOTE</p>\n",
    "</div>"
   ]
  },
  {
   "cell_type": "code",
   "execution_count": 31,
   "id": "17b2b6b9",
   "metadata": {},
   "outputs": [],
   "source": [
    "clf_rf = imbpipeline(steps = [[\"Smote\", smote],\n",
    "                              [\"Random_Forest\", RandomForestClassifier(**search_lgbm.best_params_,\n",
    "                                                                       random_state=42,\n",
    "                                                                       n_jobs=-1)]\n",
    "                          ]\n",
    "                 )"
   ]
  },
  {
   "cell_type": "markdown",
   "id": "3e20a2e6",
   "metadata": {
    "tags": []
   },
   "source": [
    "<div class=\"alert alert-block alert-info\">\n",
    "    <p>Executing the model with the complete dataset after making the OverSampling</p>\n",
    "</div>"
   ]
  },
  {
   "cell_type": "code",
   "execution_count": null,
   "id": "73ad259f",
   "metadata": {},
   "outputs": [],
   "source": [
    "clf_rf.fit(X_train, y_train)"
   ]
  },
  {
   "cell_type": "markdown",
   "id": "07f4ee30",
   "metadata": {
    "tags": []
   },
   "source": [
    "<div class=\"alert alert-block alert-info\">\n",
    "    <p>Making predictions and probabilities based on the best results for the model</p>\n",
    "</div>"
   ]
  },
  {
   "cell_type": "code",
   "execution_count": null,
   "id": "91c70b9c",
   "metadata": {
    "tags": []
   },
   "outputs": [],
   "source": [
    "y_pred = clf_rf.predict(X_test)\n",
    "y_prob = clf_rf.predict_proba(X_test)\n",
    "y_prob = y_prob[:, 1]"
   ]
  },
  {
   "cell_type": "markdown",
   "id": "916ed3a9",
   "metadata": {
    "tags": []
   },
   "source": [
    "<div class=\"alert alert-block alert-info\">\n",
    "    <p>Let's selet the threshold based on the best parameters</p>\n",
    "</div>"
   ]
  },
  {
   "cell_type": "code",
   "execution_count": null,
   "id": "0aa8809c",
   "metadata": {},
   "outputs": [],
   "source": [
    "threshold = threshold_selection(y_test, y_prob)"
   ]
  },
  {
   "cell_type": "markdown",
   "id": "12799777",
   "metadata": {
    "tags": []
   },
   "source": [
    "<div class=\"alert alert-block alert-info\">\n",
    "    <p>Getting the probability outputs from \"predict_proba\" based on the threshold</p>\n",
    "</div>"
   ]
  },
  {
   "cell_type": "code",
   "execution_count": null,
   "id": "c30b03a5",
   "metadata": {},
   "outputs": [],
   "source": [
    "y_pred = (y_pred > threshold).astype(int)"
   ]
  },
  {
   "cell_type": "markdown",
   "id": "5ca9a2e0",
   "metadata": {
    "tags": []
   },
   "source": [
    "<div class=\"alert alert-block alert-info\">\n",
    "    <p>Now, we can get the metrics</p>\n",
    "</div>"
   ]
  },
  {
   "cell_type": "code",
   "execution_count": null,
   "id": "8e8d3233",
   "metadata": {
    "tags": []
   },
   "outputs": [],
   "source": [
    "precision = round(precision_score(y_test, y_pred), 3)\n",
    "roc_auc = round(roc_auc_score(y_test, y_prob), 3)\n",
    "recall = round(recall_score(y_test, y_pred), 3)\n",
    "f1 = round(f1_score(y_test, y_pred), 3)\n",
    "f2 = round(fbeta_score(y_test, y_pred, beta=2), 3)\n",
    "custom = round(custom_score(y_test, y_pred, threshold), 3)\n",
    "\n",
    "# Get the results\n",
    "print(\"Model's metrics\")\n",
    "print(\"- Precision:\\t\\t\", precision)\n",
    "print(\"- ROC-AUC:\\t\\t\", roc_auc)\n",
    "print(\"- Recall:\\t\\t\", recall)\n",
    "print(\"- F1:\\t\\t\\t\", f1)\n",
    "print(\"- F2:\\t\\t\\t\", f2)\n",
    "print(\"- Custom Score:\\t\\t\", custom)\n",
    "print(\"- Duration:\\t\\t\", round(search_rf.cv_results_[\"mean_score_time\"][0], 3), \" minutes\")"
   ]
  },
  {
   "cell_type": "markdown",
   "id": "cbc449d8",
   "metadata": {
    "tags": []
   },
   "source": [
    "<div class=\"alert alert-block alert-info\">\n",
    "    <p>Plotting the Compute ROC curve</p>\n",
    "</div>"
   ]
  },
  {
   "cell_type": "code",
   "execution_count": null,
   "id": "5c53cea2",
   "metadata": {},
   "outputs": [],
   "source": [
    "fpr = dict()\n",
    "tpr = dict()\n",
    "fpr[\"micro\"], tpr[\"micro\"], _ = roc_curve(y_test.ravel(), y_prob.ravel())\n",
    "\n",
    "plt.subplots(1, figsize=(6, 6))\n",
    "plt.title(\"Receiver Operating Characteristic\")\n",
    "plt.plot(fpr[\"micro\"], tpr[\"micro\"])\n",
    "plt.plot([0, 1], ls=\"--\")\n",
    "plt.plot([0, 0], [1, 0] , c=\".7\"), plt.plot([1, 1] , c=\".7\")\n",
    "plt.ylabel(\"True Positive Rate\")\n",
    "plt.xlabel(\"False Positive Rate\")\n",
    "plt.show()"
   ]
  },
  {
   "cell_type": "markdown",
   "id": "19cf01e2",
   "metadata": {
    "tags": []
   },
   "source": [
    "<div class=\"alert alert-block alert-info\">\n",
    "    <p>Plotting the Precision-Recall curve</p>\n",
    "</div>"
   ]
  },
  {
   "cell_type": "code",
   "execution_count": null,
   "id": "b417cf32",
   "metadata": {},
   "outputs": [],
   "source": [
    "display = PrecisionRecallDisplay.from_predictions(y_test.ravel(), y_prob.ravel(), name=\"RandomForestClassifier\")\n",
    "_ = display.ax_.set_title(\"2-class Precision-Recall curve\")"
   ]
  },
  {
   "cell_type": "markdown",
   "id": "3e33f72c",
   "metadata": {
    "tags": []
   },
   "source": [
    "<div class=\"alert alert-block alert-info\">\n",
    "    <p>Plotting the Confusion Matrix</p>\n",
    "</div>"
   ]
  },
  {
   "cell_type": "code",
   "execution_count": null,
   "id": "c2333876",
   "metadata": {},
   "outputs": [],
   "source": [
    "display = ConfusionMatrixDisplay.from_predictions(y_test, y_pred, display_labels=[\"Repaid\",\"No repaid\"])\n",
    "_ = display.ax_.set_title(\"Confusion matrix\")"
   ]
  },
  {
   "cell_type": "markdown",
   "id": "7873fd76",
   "metadata": {
    "tags": []
   },
   "source": [
    "<div class=\"alert alert-block alert-info\">\n",
    "    <p>Adding metrics to compare with others models</p>\n",
    "</div>"
   ]
  },
  {
   "cell_type": "code",
   "execution_count": null,
   "id": "0e321a76",
   "metadata": {},
   "outputs": [],
   "source": [
    "df_temp = pd.DataFrame({\n",
    "    \"Model\" : [\"Random Forest\"],\n",
    "    \"Precision\" : precision, \n",
    "    \"ROC-AUC\" : roc_auc,    \n",
    "    \"Recall\" : recall,\n",
    "    \"F1\" : f1,\n",
    "    \"F2\" : f2,\n",
    "    \"Custom\" : custom,\n",
    "    \"Duration\" : round(search_rf.cv_results_[\"mean_score_time\"][0], 3)\n",
    "})"
   ]
  },
  {
   "cell_type": "code",
   "execution_count": null,
   "id": "ffd58e51",
   "metadata": {},
   "outputs": [],
   "source": [
    "df_models_metrics = pd.concat([df_models_metrics, df_temp])\n",
    "df_models_metrics"
   ]
  },
  {
   "cell_type": "code",
   "execution_count": null,
   "id": "9af4ab3e",
   "metadata": {},
   "outputs": [],
   "source": [
    "ZZZZZZZZZZZZZZZZZZZZ"
   ]
  },
  {
   "cell_type": "markdown",
   "id": "0b0d5179",
   "metadata": {
    "tags": []
   },
   "source": [
    "<div style=\"background-color: red;\" >\n",
    "    <h2 style=\"margin: auto; padding: 20px; color:#fff; \">----------- FLAG -----------</h2>\n",
    "</div>"
   ]
  },
  {
   "cell_type": "code",
   "execution_count": null,
   "id": "b197da94",
   "metadata": {},
   "outputs": [],
   "source": []
  },
  {
   "cell_type": "code",
   "execution_count": null,
   "id": "928dbe73",
   "metadata": {},
   "outputs": [],
   "source": []
  },
  {
   "cell_type": "code",
   "execution_count": null,
   "id": "e0d1df8f",
   "metadata": {},
   "outputs": [],
   "source": []
  },
  {
   "cell_type": "code",
   "execution_count": null,
   "id": "379d7fd5",
   "metadata": {},
   "outputs": [],
   "source": []
  },
  {
   "cell_type": "code",
   "execution_count": null,
   "id": "a2a2de69",
   "metadata": {},
   "outputs": [],
   "source": []
  },
  {
   "cell_type": "markdown",
   "id": "e5780cec",
   "metadata": {
    "tags": []
   },
   "source": [
    "<div class=\"alert alert-block alert-info\">\n",
    "    <p>Parameters settings</p>\n",
    "</div>"
   ]
  },
  {
   "cell_type": "code",
   "execution_count": null,
   "id": "5770e31a",
   "metadata": {},
   "outputs": [],
   "source": [
    "param_grid = {\n",
    "    \"Random_Forest__n_estimators\" : [1000], # 3000, 4000\n",
    "    \"Random_Forest__max_depth\" : [45],#, 48 23, 24, 27\n",
    "}"
   ]
  },
  {
   "cell_type": "markdown",
   "id": "8f02413b",
   "metadata": {},
   "source": [
    "param_grid = {\n",
    "    \"Random_Forest__n_estimators\" : [400, 450, 500, 2000, 3000, 4000],\n",
    "    \"Random_Forest__max_depth\" : [23, 24, 27, 45, 48, 50],\n",
    "}"
   ]
  },
  {
   "cell_type": "markdown",
   "id": "7bba8300",
   "metadata": {
    "tags": []
   },
   "source": [
    "<div class=\"alert alert-block alert-info\">\n",
    "    <p>Executing the model</p>\n",
    "</div>"
   ]
  },
  {
   "cell_type": "code",
   "execution_count": 30,
   "id": "32c14dc4",
   "metadata": {},
   "outputs": [],
   "source": [
    "search_rf = GridSearchCV(estimator=clf_rf,\n",
    "                         param_grid=param_grid,\n",
    "                         scoring=\"roc_auc\",\n",
    "                         cv=stratified_kfold,\n",
    "                         return_train_score=True)"
   ]
  },
  {
   "cell_type": "code",
   "execution_count": null,
   "id": "a245c535",
   "metadata": {},
   "outputs": [],
   "source": [
    "search_rf.fit(X_train, y_train)"
   ]
  },
  {
   "cell_type": "markdown",
   "id": "08d58e5f",
   "metadata": {
    "tags": []
   },
   "source": [
    "<div class=\"alert alert-block alert-info\">\n",
    "    <p>The best parameters</p>\n",
    "</div>"
   ]
  },
  {
   "cell_type": "code",
   "execution_count": null,
   "id": "1344dd37",
   "metadata": {},
   "outputs": [],
   "source": [
    "search_rf.best_params_"
   ]
  },
  {
   "cell_type": "markdown",
   "id": "0d2c13da",
   "metadata": {
    "tags": []
   },
   "source": [
    "<div class=\"alert alert-block alert-info\">\n",
    "    <p>Making predictions and probabilities based on the best results for the model</p>\n",
    "</div>"
   ]
  },
  {
   "cell_type": "code",
   "execution_count": null,
   "id": "b95413a7",
   "metadata": {},
   "outputs": [],
   "source": [
    "model_rf = search_rf.best_estimator_"
   ]
  },
  {
   "cell_type": "code",
   "execution_count": null,
   "id": "bf1ad72f",
   "metadata": {
    "tags": []
   },
   "outputs": [],
   "source": [
    "y_pred = model_rf.predict(X_test)\n",
    "y_prob = model_rf.predict_proba(X_test)\n",
    "y_prob = y_prob[:, 1]"
   ]
  },
  {
   "cell_type": "markdown",
   "id": "72809a4c",
   "metadata": {
    "tags": []
   },
   "source": [
    "<div class=\"alert alert-block alert-info\">\n",
    "    <p>Let's selet the threshold based on the best parameters</p>\n",
    "</div>"
   ]
  },
  {
   "cell_type": "code",
   "execution_count": null,
   "id": "7effce60",
   "metadata": {},
   "outputs": [],
   "source": [
    "threshold = threshold_selection(y_test, y_prob)"
   ]
  },
  {
   "cell_type": "markdown",
   "id": "9f9ac4f9",
   "metadata": {
    "tags": []
   },
   "source": [
    "<div class=\"alert alert-block alert-info\">\n",
    "    <p>Getting the probability outputs from \"predict_proba\" based on the threshold</p>\n",
    "</div>"
   ]
  },
  {
   "cell_type": "code",
   "execution_count": null,
   "id": "784dd415",
   "metadata": {},
   "outputs": [],
   "source": [
    "y_pred = (y_pred > threshold).astype(int)"
   ]
  },
  {
   "cell_type": "markdown",
   "id": "83ad2956",
   "metadata": {
    "tags": []
   },
   "source": [
    "<div class=\"alert alert-block alert-info\">\n",
    "    <p>Now, we can get the metrics</p>\n",
    "</div>"
   ]
  },
  {
   "cell_type": "code",
   "execution_count": null,
   "id": "96df6d92",
   "metadata": {
    "tags": []
   },
   "outputs": [],
   "source": [
    "precision = round(precision_score(y_test, y_pred), 3)\n",
    "roc_auc = round(roc_auc_score(y_test, y_prob), 3)\n",
    "recall = round(recall_score(y_test, y_pred), 3)\n",
    "f1 = round(f1_score(y_test, y_pred), 3)\n",
    "f2 = round(fbeta_score(y_test, y_pred, beta=2), 3)\n",
    "custom = round(custom_score(y_test, y_pred, threshold), 3)\n",
    "\n",
    "# Get the results\n",
    "print(\"Model's metrics\")\n",
    "print(\"- Precision:\\t\\t\", precision)\n",
    "print(\"- ROC-AUC:\\t\\t\", roc_auc)\n",
    "print(\"- Recall:\\t\\t\", recall)\n",
    "print(\"- F1:\\t\\t\\t\", f1)\n",
    "print(\"- F2:\\t\\t\\t\", f2)\n",
    "print(\"- Custom Score:\\t\\t\", custom)\n",
    "print(\"- Duration:\\t\\t\", round(search_rf.cv_results_[\"mean_score_time\"][0], 3), \" minutes\")"
   ]
  },
  {
   "cell_type": "markdown",
   "id": "2b471e49",
   "metadata": {
    "tags": []
   },
   "source": [
    "<div class=\"alert alert-block alert-danger\">\n",
    "    <p><b>Observations / Conclusions</b></p>\n",
    "    <ul style=\"list-style-type: square;\">\n",
    "        <li>XXXXXXXXXXXXXXXXXXXXXXXX</li>\n",
    "    </ul> \n",
    "</div>"
   ]
  },
  {
   "cell_type": "markdown",
   "id": "bd44170d",
   "metadata": {
    "tags": []
   },
   "source": [
    "<div class=\"alert alert-block alert-info\">\n",
    "    <p>Plotting the Compute ROC curve and ROC area for each class</p>\n",
    "</div>"
   ]
  },
  {
   "cell_type": "code",
   "execution_count": null,
   "id": "c3b8221d",
   "metadata": {},
   "outputs": [],
   "source": [
    "fpr = dict()\n",
    "tpr = dict()\n",
    "fpr[\"micro\"], tpr[\"micro\"], _ = roc_curve(y_test.ravel(), y_prob.ravel())\n",
    "\n",
    "plt.subplots(1, figsize=(6, 6))\n",
    "plt.title(\"Receiver Operating Characteristic\")\n",
    "plt.plot(fpr[\"micro\"], tpr[\"micro\"])\n",
    "plt.plot([0, 1], ls=\"--\")\n",
    "plt.plot([0, 0], [1, 0] , c=\".7\"), plt.plot([1, 1] , c=\".7\")\n",
    "plt.ylabel(\"True Positive Rate\")\n",
    "plt.xlabel(\"False Positive Rate\")\n",
    "plt.show()"
   ]
  },
  {
   "cell_type": "markdown",
   "id": "d3533d5f",
   "metadata": {
    "tags": []
   },
   "source": [
    "<div class=\"alert alert-block alert-info\">\n",
    "    <p>Plotting the Precision-Recall curve</p>\n",
    "</div>"
   ]
  },
  {
   "cell_type": "code",
   "execution_count": null,
   "id": "10e0da58",
   "metadata": {},
   "outputs": [],
   "source": [
    "display = PrecisionRecallDisplay.from_predictions(y_test.ravel(), y_prob.ravel(), name=\"RandomForestClassifier\")\n",
    "_ = display.ax_.set_title(\"2-class Precision-Recall curve\")"
   ]
  },
  {
   "cell_type": "markdown",
   "id": "cc5ac0f2",
   "metadata": {
    "tags": []
   },
   "source": [
    "<div class=\"alert alert-block alert-info\">\n",
    "    <p>Plotting the Confusion Matrix</p>\n",
    "</div>"
   ]
  },
  {
   "cell_type": "code",
   "execution_count": null,
   "id": "49ed1afe",
   "metadata": {},
   "outputs": [],
   "source": [
    "display = ConfusionMatrixDisplay.from_predictions(y_test, y_pred, display_labels=[\"Repaid\",\"No repaid\"])\n",
    "_ = display.ax_.set_title(\"Confusion matrix\")"
   ]
  },
  {
   "cell_type": "markdown",
   "id": "8be90ae5",
   "metadata": {
    "tags": []
   },
   "source": [
    "<div class=\"alert alert-block alert-info\">\n",
    "    <p>Adding metrics to compare with others models</p>\n",
    "</div>"
   ]
  },
  {
   "cell_type": "code",
   "execution_count": null,
   "id": "66849e56",
   "metadata": {},
   "outputs": [],
   "source": [
    "df_temp = pd.DataFrame({\n",
    "    \"Model\" : [\"Random Forest\"],\n",
    "    \"Precision\" : precision, \n",
    "    \"ROC-AUC\" : roc_auc,    \n",
    "    \"Recall\" : recall,\n",
    "    \"F1\" : f1,\n",
    "    \"F2\" : f2,\n",
    "    \"Custom\" : custom,\n",
    "    \"Duration\" : round(search_rf.cv_results_[\"mean_score_time\"][0], 3)\n",
    "})"
   ]
  },
  {
   "cell_type": "code",
   "execution_count": null,
   "id": "b4d820ef",
   "metadata": {},
   "outputs": [],
   "source": [
    "df_models_metrics = pd.concat([df_models_metrics, df_temp])\n",
    "df_models_metrics"
   ]
  },
  {
   "cell_type": "code",
   "execution_count": null,
   "id": "5be98977",
   "metadata": {},
   "outputs": [],
   "source": [
    "df_models_metrics = pd.concat([df_models_metrics, df_temp])\n",
    "df_models_metrics"
   ]
  },
  {
   "cell_type": "code",
   "execution_count": null,
   "id": "ceed3737",
   "metadata": {},
   "outputs": [],
   "source": [
    "x"
   ]
  },
  {
   "cell_type": "markdown",
   "id": "ddafe2c8",
   "metadata": {
    "tags": []
   },
   "source": [
    "<div style=\"background-color: #506AB9;\" >\n",
    "    <h4 style=\"margin: auto; padding: 20px; color:#fff; \">6.2.2. One-Class SVM</h4>\n",
    "</div>"
   ]
  },
  {
   "cell_type": "markdown",
   "id": "8d89d569",
   "metadata": {
    "tags": []
   },
   "source": [
    "<div class=\"alert alert-block alert-info\">\n",
    "    <p>Let's define the pipeline to put inside it the defined SMOTE</p>\n",
    "</div>"
   ]
  },
  {
   "cell_type": "code",
   "execution_count": null,
   "id": "6a93d833",
   "metadata": {},
   "outputs": [],
   "source": [
    "clf_ocsvm = imbpipeline(steps = [[\"Smote\", smote],\n",
    "                              [\"OneClassSVM\", OneClassSVM()]\n",
    "                          ]\n",
    "                 )"
   ]
  },
  {
   "cell_type": "markdown",
   "id": "10fc3cae",
   "metadata": {
    "tags": []
   },
   "source": [
    "<div class=\"alert alert-block alert-info\">\n",
    "    <p>Parameters settings</p>\n",
    "</div>"
   ]
  },
  {
   "cell_type": "code",
   "execution_count": null,
   "id": "5f58867c",
   "metadata": {},
   "outputs": [],
   "source": [
    "param_grid = {\n",
    "    \"OneClassSVM__gamma\" : [\"scale\", \"auto\"],\n",
    "    \"OneClassSVM__nu\" : [0.4, 0.5, 0.6]\n",
    "}"
   ]
  },
  {
   "cell_type": "markdown",
   "id": "3da7e042",
   "metadata": {
    "tags": []
   },
   "source": [
    "<div class=\"alert alert-block alert-info\">\n",
    "    <p>Executing the model</p>\n",
    "</div>"
   ]
  },
  {
   "cell_type": "code",
   "execution_count": null,
   "id": "0cd19f45",
   "metadata": {},
   "outputs": [],
   "source": [
    "search_ocsvm = GridSearchCV(estimator=clf_ocsvm,\n",
    "                           param_grid=param_grid,\n",
    "                           scoring=\"roc_auc\",\n",
    "                           cv=stratified_kfold,\n",
    "                           n_jobs=-1,\n",
    "                           return_train_score=True)"
   ]
  },
  {
   "cell_type": "code",
   "execution_count": null,
   "id": "d07204d3",
   "metadata": {},
   "outputs": [],
   "source": [
    "search_ocsvm.fit(X_train, y_train)"
   ]
  },
  {
   "cell_type": "markdown",
   "id": "473b08ee",
   "metadata": {
    "tags": []
   },
   "source": [
    "<div class=\"alert alert-block alert-info\">\n",
    "    <p>Making predictions and probabilities based on the best results for the model</p>\n",
    "</div>"
   ]
  },
  {
   "cell_type": "code",
   "execution_count": null,
   "id": "e0bf8498",
   "metadata": {},
   "outputs": [],
   "source": [
    "model_ocsvm = search_ocsvm.best_estimator_"
   ]
  },
  {
   "cell_type": "code",
   "execution_count": null,
   "id": "7ba3104f",
   "metadata": {
    "tags": []
   },
   "outputs": [],
   "source": [
    "y_pred = model_ocsvm.predict(X_test)\n",
    "y_prob = model_ocsvm.predict_proba(X_test)\n",
    "y_prob = y_prob[:, 1]"
   ]
  },
  {
   "cell_type": "markdown",
   "id": "c50eb765",
   "metadata": {
    "tags": []
   },
   "source": [
    "<div class=\"alert alert-block alert-info\">\n",
    "    <p>Let's selet the threshold based on the best parameters</p>\n",
    "</div>"
   ]
  },
  {
   "cell_type": "code",
   "execution_count": null,
   "id": "d45520e4",
   "metadata": {},
   "outputs": [],
   "source": [
    "threshold = threshold_selection(y_test, y_prob)"
   ]
  },
  {
   "cell_type": "markdown",
   "id": "73a067d0",
   "metadata": {
    "tags": []
   },
   "source": [
    "<div class=\"alert alert-block alert-info\">\n",
    "    <p>Getting the probability outputs from \"predict_proba\" based on the threshold</p>\n",
    "</div>"
   ]
  },
  {
   "cell_type": "code",
   "execution_count": null,
   "id": "532f6713",
   "metadata": {},
   "outputs": [],
   "source": [
    "y_pred = (y_pred > threshold).astype(int)"
   ]
  },
  {
   "cell_type": "markdown",
   "id": "f576bc60",
   "metadata": {
    "tags": []
   },
   "source": [
    "<div class=\"alert alert-block alert-info\">\n",
    "    <p>Now, we can get the metrics</p>\n",
    "</div>"
   ]
  },
  {
   "cell_type": "code",
   "execution_count": null,
   "id": "59b768ec",
   "metadata": {
    "tags": []
   },
   "outputs": [],
   "source": [
    "precision = round(precision_score(y_test, y_pred), 3)\n",
    "roc_auc = round(roc_auc_score(y_test, y_prob), 3)\n",
    "recall = round(recall_score(y_test, y_pred), 3)\n",
    "f1 = round(f1_score(y_test, y_pred), 3)\n",
    "f2 = round(fbeta_score(y_test, y_pred, beta=2), 3)\n",
    "custom = round(custom_score(y_test, y_pred, threshold), 3)\n",
    "\n",
    "# Get the results\n",
    "print(\"Model's metrics\")\n",
    "print(\"- Precision:\\t\\t\", precision)\n",
    "print(\"- ROC-AUC:\\t\\t\", roc_auc)\n",
    "print(\"- Recall:\\t\\t\", recall)\n",
    "print(\"- F1:\\t\\t\\t\", f1)\n",
    "print(\"- F2:\\t\\t\\t\", f2)\n",
    "print(\"- Custom Score:\\t\\t\", custom)\n",
    "print(\"- Duration:\\t\\t\", round(search_lgbm.cv_results_[\"mean_score_time\"][0], 3), \" minutes\")"
   ]
  },
  {
   "cell_type": "markdown",
   "id": "fd9c8e24",
   "metadata": {
    "tags": []
   },
   "source": [
    "<div class=\"alert alert-block alert-danger\">\n",
    "    <p><b>Observations / Conclusions</b></p>\n",
    "    <ul style=\"list-style-type: square;\">\n",
    "        <li>XXXXXXXXXXXXXXXXXXXXXXXX</li>\n",
    "    </ul> \n",
    "</div>"
   ]
  },
  {
   "cell_type": "markdown",
   "id": "885f3982",
   "metadata": {
    "tags": []
   },
   "source": [
    "<div class=\"alert alert-block alert-info\">\n",
    "    <p>Plotting the Compute ROC curve and ROC area for each class</p>\n",
    "</div>"
   ]
  },
  {
   "cell_type": "code",
   "execution_count": null,
   "id": "6145a098",
   "metadata": {},
   "outputs": [],
   "source": [
    "fpr = dict()\n",
    "tpr = dict()\n",
    "fpr[\"micro\"], tpr[\"micro\"], _ = roc_curve(y_test.ravel(), y_prob.ravel())\n",
    "\n",
    "plt.subplots(1, figsize=(6, 6))\n",
    "plt.title(\"Receiver Operating Characteristic\")\n",
    "plt.plot(fpr[\"micro\"], tpr[\"micro\"])\n",
    "plt.plot([0, 1], ls=\"--\")\n",
    "plt.plot([0, 0], [1, 0] , c=\".7\"), plt.plot([1, 1] , c=\".7\")\n",
    "plt.ylabel(\"True Positive Rate\")\n",
    "plt.xlabel(\"False Positive Rate\")\n",
    "plt.show()"
   ]
  },
  {
   "cell_type": "markdown",
   "id": "9b10497e",
   "metadata": {
    "tags": []
   },
   "source": [
    "<div class=\"alert alert-block alert-info\">\n",
    "    <p>Plotting the Precision-Recall curve</p>\n",
    "</div>"
   ]
  },
  {
   "cell_type": "code",
   "execution_count": null,
   "id": "1d25a001",
   "metadata": {},
   "outputs": [],
   "source": [
    "display = PrecisionRecallDisplay.from_predictions(y_test.ravel(), y_prob.ravel(), name=\"LGBMClassifier\")\n",
    "_ = display.ax_.set_title(\"2-class Precision-Recall curve\")"
   ]
  },
  {
   "cell_type": "markdown",
   "id": "26587cd7",
   "metadata": {
    "tags": []
   },
   "source": [
    "<div class=\"alert alert-block alert-info\">\n",
    "    <p>Plotting the Confusion Matrix</p>\n",
    "</div>"
   ]
  },
  {
   "cell_type": "code",
   "execution_count": null,
   "id": "7795fff9",
   "metadata": {},
   "outputs": [],
   "source": [
    "display = ConfusionMatrixDisplay.from_predictions(y_test, y_pred, display_labels=[\"Repaid\",\"No repaid\"])\n",
    "_ = display.ax_.set_title(\"Confusion matrix\")"
   ]
  },
  {
   "cell_type": "markdown",
   "id": "42bbc807",
   "metadata": {
    "tags": []
   },
   "source": [
    "<div class=\"alert alert-block alert-info\">\n",
    "    <p>Adding metrics to compare with others models</p>\n",
    "</div>"
   ]
  },
  {
   "cell_type": "code",
   "execution_count": null,
   "id": "bb4cdb49",
   "metadata": {},
   "outputs": [],
   "source": [
    "df_temp = pd.DataFrame({\n",
    "    \"Model\" : [\"Random Forest\"],\n",
    "    \"Precision\" : precision, \n",
    "    \"ROC-AUC\" : roc_auc,    \n",
    "    \"Recall\" : recall,\n",
    "    \"F1\" : f1,\n",
    "    \"F2\" : f2,\n",
    "    \"Custom\" : custom,\n",
    "    \"Duration\" : round(df_results.iloc[search.best_index_][\"mean_score_time\"], 3)\n",
    "})"
   ]
  },
  {
   "cell_type": "code",
   "execution_count": null,
   "id": "172052f9",
   "metadata": {},
   "outputs": [],
   "source": [
    "df_models_metrics = pd.concat([df_models_metrics, df_temp])\n",
    "df_models_metrics"
   ]
  },
  {
   "cell_type": "markdown",
   "id": "fd0e988e",
   "metadata": {
    "tags": []
   },
   "source": [
    "<div style=\"background-color: #506AB9;\" >\n",
    "    <h4 style=\"margin: auto; padding: 20px; color:#fff; \">6.2.3. LightGBM</h4>\n",
    "</div>"
   ]
  },
  {
   "cell_type": "markdown",
   "id": "df869e90",
   "metadata": {
    "tags": []
   },
   "source": [
    "<div class=\"alert alert-block alert-info\">\n",
    "    <p>Let's define the pipeline to put inside it the defined SMOTE</p>\n",
    "    <p>We are going to use most of parameters used in the kernel selected</p>\n",
    "</div>"
   ]
  },
  {
   "cell_type": "code",
   "execution_count": null,
   "id": "5e0e1887",
   "metadata": {},
   "outputs": [],
   "source": [
    "clf_lgbm = imbpipeline(steps = [[\"Smote\", smote],\n",
    "                                [\"LightGBM\", LGBMClassifier(metric=\"None\",\n",
    "                                                            learning_rate=0.02,\n",
    "                                                            colsample_bytree=0.9497036,\n",
    "                                                            subsample=0.8715623,\n",
    "                                                            reg_alpha=0.041545473,\n",
    "                                                            reg_lambda=0.0735294,\n",
    "                                                            min_split_gain=0.0222415,\n",
    "                                                            min_child_weight=39.3259775,\n",
    "                                                            n_jobs=-1)]\n",
    "                          ]\n",
    "                 )"
   ]
  },
  {
   "cell_type": "markdown",
   "id": "015fca87",
   "metadata": {
    "tags": []
   },
   "source": [
    "<div class=\"alert alert-block alert-info\">\n",
    "    <p>Parameters settings</p>\n",
    "</div>"
   ]
  },
  {
   "cell_type": "code",
   "execution_count": null,
   "id": "395a56ed",
   "metadata": {},
   "outputs": [],
   "source": [
    "param_grid = {\n",
    "    \"LightGBM__n_estimators\" : [8000, 10000],\n",
    "    \"LightGBM__num_leaves\" : [32, 34], \n",
    "    \"LightGBM__max_depth\" : [8, 9]\n",
    "}"
   ]
  },
  {
   "cell_type": "markdown",
   "id": "67b94b59",
   "metadata": {
    "tags": []
   },
   "source": [
    "<div class=\"alert alert-block alert-info\">\n",
    "    <p>Executing the model</p>\n",
    "</div>"
   ]
  },
  {
   "cell_type": "code",
   "execution_count": null,
   "id": "e4331e7f",
   "metadata": {},
   "outputs": [],
   "source": [
    "search_lgbm = GridSearchCV(estimator=clf_lgbm,\n",
    "                           param_grid=param_grid,\n",
    "                           scoring=\"roc_auc\",\n",
    "                           cv=stratified_kfold,\n",
    "                           n_jobs=-1,\n",
    "                           return_train_score=True)"
   ]
  },
  {
   "cell_type": "code",
   "execution_count": null,
   "id": "061ddc32",
   "metadata": {},
   "outputs": [],
   "source": [
    "search_lgbm.fit(X_train, y_train)"
   ]
  },
  {
   "cell_type": "markdown",
   "id": "19b4856b",
   "metadata": {
    "tags": []
   },
   "source": [
    "<div class=\"alert alert-block alert-info\">\n",
    "    <p>Making predictions and probabilities based on the best results for the model</p>\n",
    "</div>"
   ]
  },
  {
   "cell_type": "code",
   "execution_count": null,
   "id": "35418ef8",
   "metadata": {},
   "outputs": [],
   "source": [
    "model_lgbm = search_lgbm.best_estimator_"
   ]
  },
  {
   "cell_type": "code",
   "execution_count": null,
   "id": "89cb68f2",
   "metadata": {
    "tags": []
   },
   "outputs": [],
   "source": [
    "y_pred = model_lgbm.predict(X_test)\n",
    "y_prob = model_lgbm.predict_proba(X_test)\n",
    "y_prob = y_prob[:, 1]"
   ]
  },
  {
   "cell_type": "markdown",
   "id": "11e0d4c8",
   "metadata": {
    "tags": []
   },
   "source": [
    "<div class=\"alert alert-block alert-info\">\n",
    "    <p>Let's selet the threshold based on the best parameters</p>\n",
    "</div>"
   ]
  },
  {
   "cell_type": "code",
   "execution_count": null,
   "id": "f99d3d59",
   "metadata": {},
   "outputs": [],
   "source": [
    "threshold = threshold_selection(y_test, y_prob)"
   ]
  },
  {
   "cell_type": "markdown",
   "id": "f45ca02c",
   "metadata": {
    "tags": []
   },
   "source": [
    "<div class=\"alert alert-block alert-info\">\n",
    "    <p>Getting the probability outputs from \"predict_proba\" based on the threshold</p>\n",
    "</div>"
   ]
  },
  {
   "cell_type": "code",
   "execution_count": null,
   "id": "51064601",
   "metadata": {},
   "outputs": [],
   "source": [
    "y_pred = (y_pred > threshold).astype(int)"
   ]
  },
  {
   "cell_type": "markdown",
   "id": "c1d8f414",
   "metadata": {
    "tags": []
   },
   "source": [
    "<div class=\"alert alert-block alert-info\">\n",
    "    <p>Now, we can get the metrics</p>\n",
    "</div>"
   ]
  },
  {
   "cell_type": "code",
   "execution_count": null,
   "id": "449a4fe5",
   "metadata": {
    "tags": []
   },
   "outputs": [],
   "source": [
    "precision = round(precision_score(y_test, y_pred), 3)\n",
    "roc_auc = round(roc_auc_score(y_test, y_prob), 3)\n",
    "recall = round(recall_score(y_test, y_pred), 3)\n",
    "f1 = round(f1_score(y_test, y_pred), 3)\n",
    "f2 = round(fbeta_score(y_test, y_pred, beta=2), 3)\n",
    "custom = round(custom_score(y_test, y_pred, threshold), 3)\n",
    "\n",
    "# Get the results\n",
    "print(\"Model's metrics\")\n",
    "print(\"- Precision:\\t\\t\", precision)\n",
    "print(\"- ROC-AUC:\\t\\t\", roc_auc)\n",
    "print(\"- Recall:\\t\\t\", recall)\n",
    "print(\"- F1:\\t\\t\\t\", f1)\n",
    "print(\"- F2:\\t\\t\\t\", f2)\n",
    "print(\"- Custom Score:\\t\\t\", custom)\n",
    "print(\"- Duration:\\t\\t\", round(search_lgbm.cv_results_[\"mean_score_time\"][0], 3), \" minutes\")"
   ]
  },
  {
   "cell_type": "markdown",
   "id": "69be16a1",
   "metadata": {
    "tags": []
   },
   "source": [
    "<div class=\"alert alert-block alert-danger\">\n",
    "    <p><b>Observations / Conclusions</b></p>\n",
    "    <ul style=\"list-style-type: square;\">\n",
    "        <li>XXXXXXXXXXXXXXXXXXXXXXXX</li>\n",
    "    </ul> \n",
    "</div>"
   ]
  },
  {
   "cell_type": "markdown",
   "id": "2b23c4d5",
   "metadata": {
    "tags": []
   },
   "source": [
    "<div class=\"alert alert-block alert-info\">\n",
    "    <p>Plotting the Compute ROC curve and ROC area for each class</p>\n",
    "</div>"
   ]
  },
  {
   "cell_type": "code",
   "execution_count": null,
   "id": "91e4458a",
   "metadata": {},
   "outputs": [],
   "source": [
    "fpr = dict()\n",
    "tpr = dict()\n",
    "fpr[\"micro\"], tpr[\"micro\"], _ = roc_curve(y_test.ravel(), y_prob.ravel())\n",
    "\n",
    "plt.subplots(1, figsize=(6, 6))\n",
    "plt.title(\"Receiver Operating Characteristic\")\n",
    "plt.plot(fpr[\"micro\"], tpr[\"micro\"])\n",
    "plt.plot([0, 1], ls=\"--\")\n",
    "plt.plot([0, 0], [1, 0] , c=\".7\"), plt.plot([1, 1] , c=\".7\")\n",
    "plt.ylabel(\"True Positive Rate\")\n",
    "plt.xlabel(\"False Positive Rate\")\n",
    "plt.show()"
   ]
  },
  {
   "cell_type": "markdown",
   "id": "210bb66a",
   "metadata": {
    "tags": []
   },
   "source": [
    "<div class=\"alert alert-block alert-info\">\n",
    "    <p>Plotting the Precision-Recall curve</p>\n",
    "</div>"
   ]
  },
  {
   "cell_type": "code",
   "execution_count": null,
   "id": "c7f3fe2c",
   "metadata": {},
   "outputs": [],
   "source": [
    "display = PrecisionRecallDisplay.from_predictions(y_test.ravel(), y_prob.ravel(), name=\"LGBMClassifier\")\n",
    "_ = display.ax_.set_title(\"2-class Precision-Recall curve\")"
   ]
  },
  {
   "cell_type": "markdown",
   "id": "3f2329dc",
   "metadata": {
    "tags": []
   },
   "source": [
    "<div class=\"alert alert-block alert-info\">\n",
    "    <p>Plotting the Confusion Matrix</p>\n",
    "</div>"
   ]
  },
  {
   "cell_type": "code",
   "execution_count": null,
   "id": "c00d2b16",
   "metadata": {},
   "outputs": [],
   "source": [
    "display = ConfusionMatrixDisplay.from_predictions(y_test, y_pred, display_labels=[\"Repaid\",\"No repaid\"])\n",
    "_ = display.ax_.set_title(\"Confusion matrix\")"
   ]
  },
  {
   "cell_type": "markdown",
   "id": "57ec83da",
   "metadata": {
    "tags": []
   },
   "source": [
    "<div class=\"alert alert-block alert-info\">\n",
    "    <p>Adding metrics to compare with others models</p>\n",
    "</div>"
   ]
  },
  {
   "cell_type": "code",
   "execution_count": null,
   "id": "7847a4c5",
   "metadata": {},
   "outputs": [],
   "source": [
    "df_temp = pd.DataFrame({\n",
    "    \"Model\" : [\"Random Forest\"],\n",
    "    \"Precision\" : precision, \n",
    "    \"ROC-AUC\" : roc_auc,    \n",
    "    \"Recall\" : recall,\n",
    "    \"F1\" : f1,\n",
    "    \"F2\" : f2,\n",
    "    \"Custom\" : custom,\n",
    "    \"Duration\" : round(df_results.iloc[search.best_index_][\"mean_score_time\"], 3)\n",
    "})"
   ]
  },
  {
   "cell_type": "code",
   "execution_count": null,
   "id": "15a916c8",
   "metadata": {},
   "outputs": [],
   "source": [
    "df_models_metrics = pd.concat([df_models_metrics, df_temp])\n",
    "df_models_metrics"
   ]
  },
  {
   "cell_type": "code",
   "execution_count": null,
   "id": "60bd4c5a",
   "metadata": {},
   "outputs": [],
   "source": []
  },
  {
   "cell_type": "code",
   "execution_count": null,
   "id": "c6a8ce64",
   "metadata": {},
   "outputs": [],
   "source": []
  },
  {
   "cell_type": "code",
   "execution_count": null,
   "id": "47fc9c8b",
   "metadata": {},
   "outputs": [],
   "source": []
  },
  {
   "cell_type": "code",
   "execution_count": null,
   "id": "4fb31346",
   "metadata": {},
   "outputs": [],
   "source": []
  }
 ],
 "metadata": {
  "kernelspec": {
   "display_name": "conda_p7",
   "language": "python",
   "name": "conda_p7"
  },
  "language_info": {
   "codemirror_mode": {
    "name": "ipython",
    "version": 3
   },
   "file_extension": ".py",
   "mimetype": "text/x-python",
   "name": "python",
   "nbconvert_exporter": "python",
   "pygments_lexer": "ipython3",
   "version": "3.9.9"
  }
 },
 "nbformat": 4,
 "nbformat_minor": 5
}
