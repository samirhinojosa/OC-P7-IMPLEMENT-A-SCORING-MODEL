{
 "cells": [
  {
   "cell_type": "markdown",
   "id": "ecfaa86a",
   "metadata": {
    "tags": []
   },
   "source": [
    "<div style=\"display: flex; background-color: #3F579F;\">\n",
    "    <h1 style=\"margin: auto; font-weight: bold; padding: 30px 30px 0px 30px; color:#fff;\" align=\"center\">Implement a scoring model - P7</h1>\n",
    "</div>\n",
    "<div style=\"display: flex; background-color: #3F579F; margin: auto; padding: 5px 30px 0px 30px;\" >\n",
    "    <h3 style=\"width: 100%; text-align: center; float: left; font-size: 24px; color:#fff;\" align=\"center\">| Modeling Notebook |</h3>\n",
    "</div>\n",
    "<div style=\"display: flex; background-color: #3F579F; margin: auto; padding: 10px 30px 30px 30px;\">\n",
    "    <h4 style=\"width: 100%; text-align: center; float: left; font-size: 24px; color:#fff;\" align=\"center\">Data Scientist course - OpenClassrooms</h4>\n",
    "</div>"
   ]
  },
  {
   "cell_type": "markdown",
   "id": "2d6308ce",
   "metadata": {
    "tags": []
   },
   "source": [
    "<div style=\"background-color: #506AB9;\" >\n",
    "    <h2 style=\"margin: auto; padding: 20px; color:#fff; \">1. Libraries</h2>\n",
    "</div>"
   ]
  },
  {
   "cell_type": "code",
   "execution_count": 1,
   "id": "b4b2a1c5",
   "metadata": {},
   "outputs": [],
   "source": [
    "## General\n",
    "import timeit\n",
    "import re\n",
    "import pandas as pd\n",
    "import numpy as np\n",
    "from collections import Counter\n",
    "\n",
    "## Scikit Learn library\n",
    "from sklearn.experimental import enable_halving_search_cv\n",
    "from sklearn.model_selection import (train_test_split, StratifiedKFold, \n",
    "                                     HalvingGridSearchCV, cross_validate)\n",
    "from sklearn.ensemble import RandomForestClassifier, GradientBoostingClassifier\n",
    "from sklearn.dummy import DummyClassifier\n",
    "from sklearn.metrics import (precision_score, roc_auc_score, recall_score, \n",
    "                             f1_score, fbeta_score, confusion_matrix, roc_curve, \n",
    "                             PrecisionRecallDisplay, ConfusionMatrixDisplay)\n",
    "\n",
    "## imbalanced-learn\n",
    "from imblearn.pipeline import Pipeline as imbpipeline\n",
    "from imblearn.over_sampling import SMOTE\n",
    "\n",
    "## LightGBM\n",
    "from lightgbm import LGBMClassifier\n",
    "\n",
    "## To use S3 files\n",
    "import boto3\n",
    "from sagemaker import get_execution_role\n",
    "\n",
    "## Own specific functions \n",
    "from functions import *"
   ]
  },
  {
   "cell_type": "markdown",
   "id": "5b1cc939",
   "metadata": {
    "tags": []
   },
   "source": [
    "<div style=\"background-color: #506AB9;\" >\n",
    "    <h2 style=\"margin: auto; padding: 20px; color:#fff; \">2. Importing files</h2>\n",
    "</div>"
   ]
  },
  {
   "cell_type": "markdown",
   "id": "973f966c",
   "metadata": {
    "tags": []
   },
   "source": [
    "<div class=\"alert alert-block alert-info\">\n",
    "    <p>Definning S3 parameters\n",
    "   </p>\n",
    "</div>"
   ]
  },
  {
   "cell_type": "code",
   "execution_count": 2,
   "id": "3c46cfeb",
   "metadata": {},
   "outputs": [],
   "source": [
    "connexion = boto3.client('s3')"
   ]
  },
  {
   "cell_type": "code",
   "execution_count": 3,
   "id": "c9318c70",
   "metadata": {},
   "outputs": [],
   "source": [
    "bucket = \"oc-data-scientist\"\n",
    "subfolder = \"oc-p7/datasets/finals_datasets\"\n",
    "data_key = \"df_current_clients.csv\""
   ]
  },
  {
   "cell_type": "code",
   "execution_count": 4,
   "id": "dbc2a623",
   "metadata": {},
   "outputs": [],
   "source": [
    "role = get_execution_role()\n",
    "conn = boto3.client('s3')"
   ]
  },
  {
   "cell_type": "code",
   "execution_count": 5,
   "id": "d22f2502",
   "metadata": {},
   "outputs": [
    {
     "name": "stdout",
     "output_type": "stream",
     "text": [
      "oc-p7/datasets/finals_datasets/\n",
      "oc-p7/datasets/finals_datasets/df_clients_to_predict.csv\n",
      "oc-p7/datasets/finals_datasets/df_current_clients.csv\n"
     ]
    }
   ],
   "source": [
    "contents = conn.list_objects(Bucket=bucket, Prefix=subfolder)['Contents']\n",
    "for f in contents:\n",
    "    print(f['Key'])"
   ]
  },
  {
   "cell_type": "code",
   "execution_count": 6,
   "id": "0f528322",
   "metadata": {},
   "outputs": [],
   "source": [
    "data_location = \"s3://{}/{}/{}\".format(bucket, subfolder, data_key)"
   ]
  },
  {
   "cell_type": "markdown",
   "id": "35cefc87",
   "metadata": {
    "tags": []
   },
   "source": [
    "<div class=\"alert alert-block alert-info\">\n",
    "    <p>Let's load the current clients\n",
    "   </p>\n",
    "</div>"
   ]
  },
  {
   "cell_type": "code",
   "execution_count": 7,
   "id": "f5e7bbdb",
   "metadata": {},
   "outputs": [],
   "source": [
    "df_current_clients = pd.read_csv(data_location)"
   ]
  },
  {
   "cell_type": "code",
   "execution_count": 9,
   "id": "588e3e1c",
   "metadata": {},
   "outputs": [
    {
     "name": "stdout",
     "output_type": "stream",
     "text": [
      "\n",
      "Analysis Header of df_current_clients dataset\n",
      "--------------------------------------------------------------------------------\n",
      "- Dataset shape:\t\t\t 307507 rows and 509 columns\n",
      "- Total of NaN values:\t\t\t 0\n",
      "- Percentage of NaN:\t\t\t 0.0 %\n",
      "- Total of infinite values:\t\t 0\n",
      "- Percentage of infinite values:\t 0.0 %\n",
      "- Total of full duplicates rows:\t 0\n",
      "- Total of empty rows:\t\t\t 0\n",
      "- Total of empty columns:\t\t 0\n",
      "- Unique indexes:\t\t\t True\n",
      "- Memory usage:\t\t\t\t 1.2 GB\n"
     ]
    }
   ],
   "source": [
    "df_analysis(df_current_clients, \"df_current_clients\", analysis_type=\"header\")"
   ]
  },
  {
   "cell_type": "markdown",
   "id": "b336f5e7",
   "metadata": {
    "tags": []
   },
   "source": [
    "<div class=\"alert alert-block alert-warning\">\n",
    "    <p><b>Observations / Conclusions</b></p>\n",
    "    <p>First of all, let's treat the memory to optimize its usage.</p>\n",
    "</div>"
   ]
  },
  {
   "cell_type": "markdown",
   "id": "8db2f64e",
   "metadata": {
    "tags": []
   },
   "source": [
    "<div style=\"background-color: #506AB9;\" >\n",
    "    <h2 style=\"margin: auto; padding: 20px; color:#fff; \">3. Optimizing memory usage</h2>\n",
    "</div>"
   ]
  },
  {
   "cell_type": "markdown",
   "id": "09a73ccf",
   "metadata": {
    "tags": []
   },
   "source": [
    "<div class=\"alert alert-block alert-warning\">\n",
    "    <p>We should optimize the memory usage to avoid problems during executions</p>\n",
    "</div>"
   ]
  },
  {
   "cell_type": "code",
   "execution_count": 10,
   "id": "0c8e2703",
   "metadata": {},
   "outputs": [],
   "source": [
    "df_current_clients = memory_optimization(df_current_clients)"
   ]
  },
  {
   "cell_type": "code",
   "execution_count": 11,
   "id": "e06f7aaf",
   "metadata": {},
   "outputs": [
    {
     "name": "stdout",
     "output_type": "stream",
     "text": [
      "\n",
      "Analysis Header of df dataset\n",
      "--------------------------------------------------------------------------------\n",
      "- Dataset shape:\t\t\t 307507 rows and 509 columns\n",
      "- Total of NaN values:\t\t\t 0\n",
      "- Percentage of NaN:\t\t\t 0.0 %\n",
      "- Total of infinite values:\t\t 0\n",
      "- Percentage of infinite values:\t 0.0 %\n",
      "- Total of full duplicates rows:\t 0\n",
      "- Total of empty rows:\t\t\t 0\n",
      "- Total of empty columns:\t\t 0\n",
      "- Unique indexes:\t\t\t True\n",
      "- Memory usage:\t\t\t\t 459.8 MB\n"
     ]
    }
   ],
   "source": [
    "df_analysis(df_current_clients, \"df\", analysis_type=\"header\")"
   ]
  },
  {
   "cell_type": "markdown",
   "id": "84179603",
   "metadata": {
    "tags": []
   },
   "source": [
    "<div class=\"alert alert-block alert-success\">\n",
    "    <p><b>Observations / Conclusions</b></p>\n",
    "    <p>The memory usage has been reduced.</p>\n",
    "</div>"
   ]
  },
  {
   "cell_type": "markdown",
   "id": "aca84152",
   "metadata": {
    "tags": []
   },
   "source": [
    "<div style=\"background-color: #506AB9;\" >\n",
    "    <h2 style=\"margin: auto; padding: 20px; color:#fff; \">4. Analyzing target variable</h2>\n",
    "</div>"
   ]
  },
  {
   "cell_type": "markdown",
   "id": "196589c5",
   "metadata": {
    "tags": []
   },
   "source": [
    "<div class=\"alert alert-block alert-info\">\n",
    "    <p>We are going to analyze the target variable to see whether is an imbalanced class\n",
    "   </p>\n",
    "</div>"
   ]
  },
  {
   "cell_type": "code",
   "execution_count": 12,
   "id": "5f4f470e",
   "metadata": {},
   "outputs": [
    {
     "data": {
      "image/png": "[encoded data removed]",
      "text/plain": [
       "<Figure size 648x360 with 2 Axes>"
      ]
     },
     "metadata": {
      "needs_background": "light"
     },
     "output_type": "display_data"
    }
   ],
   "source": [
    "barplot_and_pie(df_current_clients[\"TARGET\"], \"Target distribution\", \" \")"
   ]
  },
  {
   "cell_type": "markdown",
   "id": "1a0fc10b",
   "metadata": {
    "tags": []
   },
   "source": [
    "<div class=\"alert alert-block alert-warning\">\n",
    "    <p><b>Observations / Conclusions</b></p>\n",
    "    <ul style=\"list-style-type: square;\">\n",
    "        <li>Here we can see how much the dataset is imbalanced so, we are facing a imbalanced classification problem</li>\n",
    "        <li>It is easily identifying that there are <b>loans that were repaid (0)</b> in comparison of <b>loans that were not repaid (1)</b>s</li>\n",
    "        <li>We are going to treat the imbalanced class into a pipeline during the modeling</li>\n",
    "    </ul> \n",
    "</div>"
   ]
  },
  {
   "cell_type": "markdown",
   "id": "19ca3455",
   "metadata": {
    "tags": []
   },
   "source": [
    "<div style=\"background-color: #506AB9;\" >\n",
    "    <h2 style=\"margin: auto; padding: 20px; color:#fff; \">5. Splitting data</h2>\n",
    "</div>"
   ]
  },
  {
   "cell_type": "markdown",
   "id": "eeb853cb",
   "metadata": {
    "tags": []
   },
   "source": [
    "<div class=\"alert alert-block alert-info\">\n",
    "    <p>First of all, let's identify the training columns in the dataset\n",
    "   </p>\n",
    "</div>"
   ]
  },
  {
   "cell_type": "code",
   "execution_count": 17,
   "id": "e372851f",
   "metadata": {},
   "outputs": [],
   "source": [
    "NOT_TRAINING_COLUMNS  = [\"TARGET\", \"SK_ID_CURR\", \"SK_ID_BUREAU\", \"SK_ID_PREV\", \"index\"] \n",
    "TRAINING_COLUMNS = [col for col in df_current_clients.columns if col not in NOT_TRAINING_COLUMNS]"
   ]
  },
  {
   "cell_type": "markdown",
   "id": "8458e5cf",
   "metadata": {
    "tags": []
   },
   "source": [
    "<div class=\"alert alert-block alert-info\">\n",
    "    <p>Let's split the all data\n",
    "   </p>\n",
    "</div>"
   ]
  },
  {
   "cell_type": "code",
   "execution_count": 18,
   "id": "554fdcda",
   "metadata": {},
   "outputs": [],
   "source": [
    "X = df_current_clients[TRAINING_COLUMNS]"
   ]
  },
  {
   "cell_type": "code",
   "execution_count": 19,
   "id": "89c243a1",
   "metadata": {},
   "outputs": [],
   "source": [
    "y_target = df_current_clients.loc[:,\"TARGET\"]"
   ]
  },
  {
   "cell_type": "code",
   "execution_count": 20,
   "id": "7599dcd9",
   "metadata": {},
   "outputs": [],
   "source": [
    "X_train, X_test, y_train, y_test = train_test_split(X, y_target, test_size=0.20, stratify=y_target, random_state=42)"
   ]
  },
  {
   "cell_type": "code",
   "execution_count": 21,
   "id": "3072bfdd",
   "metadata": {},
   "outputs": [
    {
     "name": "stdout",
     "output_type": "stream",
     "text": [
      "X_train: (246005, 506)\n",
      "y_train: (246005,)\n",
      "---------------------\n",
      "X_test: (61502, 506)\n",
      "y_test: (61502,)\n"
     ]
    }
   ],
   "source": [
    "print(\"X_train: {}\".format(X_train.shape))\n",
    "print(\"y_train: {}\".format(y_train.shape))\n",
    "print(\"---------------------\")\n",
    "print(\"X_test: {}\".format(X_test.shape))\n",
    "print(\"y_test: {}\".format(y_test.shape))"
   ]
  },
  {
   "cell_type": "markdown",
   "id": "b40e05f3",
   "metadata": {
    "tags": []
   },
   "source": [
    "<div style=\"background-color: #506AB9;\" >\n",
    "    <h2 style=\"margin: auto; padding: 20px; color:#fff; \">6. Modelisation initial</h2>\n",
    "</div>"
   ]
  },
  {
   "cell_type": "markdown",
   "id": "b6a1c621",
   "metadata": {
    "tags": []
   },
   "source": [
    "<div class=\"alert alert-block alert-info\">\n",
    "    <p>We are going to face an <b>Unbalanced Classification Problem</b> and we are going to use three models</p>\n",
    "    <ul style=\"list-style-type: square;\">\n",
    "        <li>Random Forest Classifier</li>\n",
    "        <li>Support Vector Machine</li>\n",
    "        <li>LightGBM</li>\n",
    "    </ul>\n",
    "    <p>Also, we are going to use a Dummy Classifier and baseline to compare the models</p>\n",
    "</div>"
   ]
  },
  {
   "cell_type": "markdown",
   "id": "69346e02",
   "metadata": {
    "tags": []
   },
   "source": [
    "<div style=\"background-color: #506AB9;\" >\n",
    "    <h3 style=\"margin: auto; padding: 20px; color:#fff; \">6.1. General parameters</h3>\n",
    "</div>"
   ]
  },
  {
   "cell_type": "markdown",
   "id": "285f1220",
   "metadata": {
    "tags": []
   },
   "source": [
    "<div class=\"alert alert-block alert-info\">\n",
    "    <p>We are going to use Stratified K-Folds cross-validator to ensure that each fold of dataset has the same proportion of observations with a given label.</p>\n",
    "</div>"
   ]
  },
  {
   "cell_type": "code",
   "execution_count": 27,
   "id": "667dbf8b",
   "metadata": {},
   "outputs": [],
   "source": [
    "stratified_kfold = StratifiedKFold(n_splits=3, shuffle=True, random_state=42)"
   ]
  },
  {
   "cell_type": "markdown",
   "id": "02a8d115",
   "metadata": {
    "tags": []
   },
   "source": [
    "<div class=\"alert alert-block alert-info\">\n",
    "    <p>Metrics to use.</p>\n",
    "</div>"
   ]
  },
  {
   "cell_type": "code",
   "execution_count": 80,
   "id": "52436757",
   "metadata": {},
   "outputs": [],
   "source": [
    "scoring = [\"roc_auc\", \"recall\", \"f1\"]"
   ]
  },
  {
   "cell_type": "markdown",
   "id": "912ab350",
   "metadata": {
    "tags": []
   },
   "source": [
    "<div style=\"background-color: #506AB9;\" >\n",
    "    <h3 style=\"margin: auto; padding: 20px; color:#fff; \">6.2. Cross Validation</h3>\n",
    "</div>"
   ]
  },
  {
   "cell_type": "markdown",
   "id": "7706eb8c",
   "metadata": {
    "tags": []
   },
   "source": [
    "<div class=\"alert alert-block alert-info\">\n",
    "    <p>List of models to use. Dummy Classifier and Base line of the models</p>\n",
    "</div>"
   ]
  },
  {
   "cell_type": "code",
   "execution_count": 93,
   "id": "4315273d",
   "metadata": {},
   "outputs": [],
   "source": [
    "classifiers = {\n",
    "    \"Dummy Classifier\" : DummyClassifier(),\n",
    "    \"Baseline - Random Forest\" : RandomForestClassifier(),\n",
    "    \"Baseline - LightGBM\" : LGBMClassifier(),\n",
    "    \"Baseline - Gradient Boosting\" : GradientBoostingClassifier()\n",
    "}"
   ]
  },
  {
   "cell_type": "code",
   "execution_count": 94,
   "id": "7ee346d6",
   "metadata": {},
   "outputs": [],
   "source": [
    "# List of metrics results for each models \n",
    "LIST_MODEL, LIST_RECALL, LIST_ROC_AUC, LIST_F1, LIST_DURATION  = ([] for i in range(5))\n",
    "\n",
    "for key, value in classifiers.items():\n",
    "    \n",
    "    start_time_model = timeit.default_timer()\n",
    "    \n",
    "    clf = value\n",
    "    \n",
    "    scores = cross_validate(clf, X_train, y_train, \n",
    "                            cv=stratified_kfold, scoring=scoring)\n",
    "    \n",
    "    end_time_model =  round(timeit.default_timer() - start_time_model, 3)\n",
    "    \n",
    "    # Adding results into LIST\n",
    "    LIST_MODEL.append(key)\n",
    "    LIST_RECALL.append(round(scores.get(\"test_recall\").mean(), 3))\n",
    "    LIST_ROC_AUC.append(round(scores.get(\"test_roc_auc\").mean(), 3))\n",
    "    LIST_F1.append(round(scores.get(\"test_f1\").mean(), 3))\n",
    "    LIST_DURATION.append(end_time_model)"
   ]
  },
  {
   "cell_type": "markdown",
   "id": "3403e10b",
   "metadata": {
    "tags": []
   },
   "source": [
    "<div class=\"alert alert-block alert-info\">\n",
    "    <p>Dataframe to compare metrics.</p>\n",
    "</div>"
   ]
  },
  {
   "cell_type": "code",
   "execution_count": 116,
   "id": "1065797e",
   "metadata": {},
   "outputs": [],
   "source": [
    "df_models_metrics = pd.DataFrame({\n",
    "    \"Model\" : LIST_MODEL,\n",
    "    \"ROC-AUC\" : LIST_ROC_AUC,\n",
    "    \"Recall\" : LIST_RECALL,    \n",
    "    \"F1\" : LIST_F1,\n",
    "    \"Duration\" : LIST_DURATION,\n",
    "})"
   ]
  },
  {
   "cell_type": "code",
   "execution_count": 117,
   "id": "11a7eae8",
   "metadata": {},
   "outputs": [
    {
     "data": {
      "text/html": [
       "<div>\n",
       "<style scoped>\n",
       "    .dataframe tbody tr th:only-of-type {\n",
       "        vertical-align: middle;\n",
       "    }\n",
       "\n",
       "    .dataframe tbody tr th {\n",
       "        vertical-align: top;\n",
       "    }\n",
       "\n",
       "    .dataframe thead th {\n",
       "        text-align: right;\n",
       "    }\n",
       "</style>\n",
       "<table border=\"1\" class=\"dataframe\">\n",
       "  <thead>\n",
       "    <tr style=\"text-align: right;\">\n",
       "      <th></th>\n",
       "      <th>Model</th>\n",
       "      <th>ROC-AUC</th>\n",
       "      <th>Recall</th>\n",
       "      <th>F1</th>\n",
       "      <th>Duration</th>\n",
       "    </tr>\n",
       "  </thead>\n",
       "  <tbody>\n",
       "    <tr>\n",
       "      <th>0</th>\n",
       "      <td>Dummy Classifier</td>\n",
       "      <td>0.500</td>\n",
       "      <td>0.000</td>\n",
       "      <td>0.000</td>\n",
       "      <td>0.989</td>\n",
       "    </tr>\n",
       "    <tr>\n",
       "      <th>1</th>\n",
       "      <td>Baseline - Random Forest</td>\n",
       "      <td>0.714</td>\n",
       "      <td>0.001</td>\n",
       "      <td>0.002</td>\n",
       "      <td>516.823</td>\n",
       "    </tr>\n",
       "    <tr>\n",
       "      <th>2</th>\n",
       "      <td>Baseline - LightGBM</td>\n",
       "      <td>0.773</td>\n",
       "      <td>0.033</td>\n",
       "      <td>0.062</td>\n",
       "      <td>16.852</td>\n",
       "    </tr>\n",
       "    <tr>\n",
       "      <th>3</th>\n",
       "      <td>Baseline - Gradient Boosting</td>\n",
       "      <td>0.765</td>\n",
       "      <td>0.019</td>\n",
       "      <td>0.036</td>\n",
       "      <td>1695.180</td>\n",
       "    </tr>\n",
       "  </tbody>\n",
       "</table>\n",
       "</div>"
      ],
      "text/plain": [
       "                          Model  ROC-AUC  Recall     F1  Duration\n",
       "0              Dummy Classifier    0.500   0.000  0.000     0.989\n",
       "1      Baseline - Random Forest    0.714   0.001  0.002   516.823\n",
       "2           Baseline - LightGBM    0.773   0.033  0.062    16.852\n",
       "3  Baseline - Gradient Boosting    0.765   0.019  0.036  1695.180"
      ]
     },
     "execution_count": 117,
     "metadata": {},
     "output_type": "execute_result"
    }
   ],
   "source": [
    "df_models_metrics"
   ]
  },
  {
   "cell_type": "markdown",
   "id": "cfece979",
   "metadata": {
    "tags": []
   },
   "source": [
    "<div class=\"alert alert-block alert-success\">\n",
    "    <p><b>Observations / Conclusions</b></p>\n",
    "    <p>it is easy to see how much time the ensembles models. Due to that, we do not consider them to plot</p>\n",
    "</div>"
   ]
  },
  {
   "cell_type": "code",
   "execution_count": 118,
   "id": "d1a5160b",
   "metadata": {},
   "outputs": [],
   "source": [
    "COLUMNS = [\"Model\", \"Recall\", \"ROC-AUC\", \"F1\"]"
   ]
  },
  {
   "cell_type": "code",
   "execution_count": 119,
   "id": "021eb9cd",
   "metadata": {},
   "outputs": [
    {
     "data": {
      "text/html": [
       "<div>\n",
       "<style scoped>\n",
       "    .dataframe tbody tr th:only-of-type {\n",
       "        vertical-align: middle;\n",
       "    }\n",
       "\n",
       "    .dataframe tbody tr th {\n",
       "        vertical-align: top;\n",
       "    }\n",
       "\n",
       "    .dataframe thead th {\n",
       "        text-align: right;\n",
       "    }\n",
       "</style>\n",
       "<table border=\"1\" class=\"dataframe\">\n",
       "  <thead>\n",
       "    <tr style=\"text-align: right;\">\n",
       "      <th></th>\n",
       "      <th>Model</th>\n",
       "      <th>Metric</th>\n",
       "      <th>Value</th>\n",
       "    </tr>\n",
       "  </thead>\n",
       "  <tbody>\n",
       "    <tr>\n",
       "      <th>0</th>\n",
       "      <td>Dummy Classifier</td>\n",
       "      <td>Recall</td>\n",
       "      <td>0.000</td>\n",
       "    </tr>\n",
       "    <tr>\n",
       "      <th>1</th>\n",
       "      <td>Baseline - Random Forest</td>\n",
       "      <td>Recall</td>\n",
       "      <td>0.001</td>\n",
       "    </tr>\n",
       "    <tr>\n",
       "      <th>2</th>\n",
       "      <td>Baseline - LightGBM</td>\n",
       "      <td>Recall</td>\n",
       "      <td>0.033</td>\n",
       "    </tr>\n",
       "    <tr>\n",
       "      <th>3</th>\n",
       "      <td>Baseline - Gradient Boosting</td>\n",
       "      <td>Recall</td>\n",
       "      <td>0.019</td>\n",
       "    </tr>\n",
       "    <tr>\n",
       "      <th>4</th>\n",
       "      <td>Dummy Classifier</td>\n",
       "      <td>ROC-AUC</td>\n",
       "      <td>0.500</td>\n",
       "    </tr>\n",
       "  </tbody>\n",
       "</table>\n",
       "</div>"
      ],
      "text/plain": [
       "                          Model   Metric  Value\n",
       "0              Dummy Classifier   Recall  0.000\n",
       "1      Baseline - Random Forest   Recall  0.001\n",
       "2           Baseline - LightGBM   Recall  0.033\n",
       "3  Baseline - Gradient Boosting   Recall  0.019\n",
       "4              Dummy Classifier  ROC-AUC  0.500"
      ]
     },
     "execution_count": 119,
     "metadata": {},
     "output_type": "execute_result"
    }
   ],
   "source": [
    "df_models_metrics_reduced = pd.melt(df_models_metrics[COLUMNS], id_vars=\"Model\", var_name=\"Metric\", value_name=\"Value\")\n",
    "df_models_metrics_reduced.head()"
   ]
  },
  {
   "cell_type": "code",
   "execution_count": 121,
   "id": "31a6184f",
   "metadata": {},
   "outputs": [
    {
     "data": {
      "image/png": "[encoded data removed]",
      "text/plain": [
       "<Figure size 1080x432 with 1 Axes>"
      ]
     },
     "metadata": {
      "needs_background": "light"
     },
     "output_type": "display_data"
    }
   ],
   "source": [
    "fig, ax1 = plt.subplots(figsize=(15, 6))\n",
    "plot = sns.barplot(x=\"Model\", y=\"Value\", hue=\"Metric\", data=df_models_metrics_reduced, ax=ax1)\n",
    "for p in plot.patches:\n",
    "    plot.annotate(format(p.get_height(), \".3f\"), (p.get_x() + p.get_width() / 2., p.get_height()), \n",
    "                    ha=\"center\", va=\"center\", xytext=(0, 8), textcoords=\"offset points\")\n",
    "plt.title(\"Comparison of Metrics by model (cross-validation)\", size=20)\n",
    "plt.legend(bbox_to_anchor=(1.10, 1), borderaxespad=0, title=\"Metrics\")\n",
    "plt.tight_layout()\n",
    "plt.xlabel(\"Model\", size=12)\n",
    "plt.ylabel(\"Metric\", size=12)\n",
    "sns.despine(fig)"
   ]
  },
  {
   "cell_type": "markdown",
   "id": "e9038e06",
   "metadata": {
    "tags": []
   },
   "source": [
    "<div style=\"background-color: #506AB9;\" >\n",
    "    <h3 style=\"margin: auto; padding: 20px; color:#fff; \">6.3. Hyperparameters Tuning</h3>\n",
    "</div>"
   ]
  },
  {
   "cell_type": "markdown",
   "id": "358323c1",
   "metadata": {
    "tags": []
   },
   "source": [
    "<div class=\"alert alert-block alert-info\">\n",
    "    <p>For reasons of processing cost, we are going to tune the models with a subsample of the data. Done this, we will proceed to continue the modeling with the parameters obtained.</p>\n",
    "</div>"
   ]
  },
  {
   "cell_type": "markdown",
   "id": "a11015fa",
   "metadata": {
    "tags": []
   },
   "source": [
    "<div style=\"background-color: #506AB9;\" >\n",
    "    <h4 style=\"margin: auto; padding: 20px; color:#fff; \">6.3.1. Subsample of the data</h4>\n",
    "</div>"
   ]
  },
  {
   "cell_type": "markdown",
   "id": "23f012d1",
   "metadata": {
    "tags": []
   },
   "source": [
    "<div class=\"alert alert-block alert-info\">\n",
    "    <p>Now, we are going to do a subsamble of the dataset to tune some parameters before the modeling\n",
    "   </p>\n",
    "</div>"
   ]
  },
  {
   "cell_type": "code",
   "execution_count": 13,
   "id": "c60bb3c3",
   "metadata": {},
   "outputs": [],
   "source": [
    "df_subsample = df_current_clients.copy()"
   ]
  },
  {
   "cell_type": "code",
   "execution_count": 14,
   "id": "834d22e6",
   "metadata": {},
   "outputs": [],
   "source": [
    "df_subsample = df_subsample.sample(frac=0.5)"
   ]
  },
  {
   "cell_type": "code",
   "execution_count": 15,
   "id": "66fe6807",
   "metadata": {},
   "outputs": [
    {
     "data": {
      "image/png": "[encoded data removed]",
      "text/plain": [
       "<Figure size 648x360 with 2 Axes>"
      ]
     },
     "metadata": {
      "needs_background": "light"
     },
     "output_type": "display_data"
    }
   ],
   "source": [
    "barplot_and_pie(df_subsample[\"TARGET\"], \"Target distribution\", \" \")"
   ]
  },
  {
   "cell_type": "code",
   "execution_count": 16,
   "id": "f0bfa231",
   "metadata": {},
   "outputs": [
    {
     "name": "stdout",
     "output_type": "stream",
     "text": [
      "\n",
      "Analysis Header of df dataset\n",
      "--------------------------------------------------------------------------------\n",
      "- Dataset shape:\t\t\t 153754 rows and 509 columns\n",
      "- Total of NaN values:\t\t\t 0\n",
      "- Percentage of NaN:\t\t\t 0.0 %\n",
      "- Total of infinite values:\t\t 0\n",
      "- Percentage of infinite values:\t 0.0 %\n",
      "- Total of full duplicates rows:\t 0\n",
      "- Total of empty rows:\t\t\t 0\n",
      "- Total of empty columns:\t\t 0\n",
      "- Unique indexes:\t\t\t True\n",
      "- Memory usage:\t\t\t\t 231.1 MB\n"
     ]
    }
   ],
   "source": [
    "df_analysis(df_subsample, \"df\", analysis_type=\"header\")"
   ]
  },
  {
   "cell_type": "markdown",
   "id": "61d703bf",
   "metadata": {
    "tags": []
   },
   "source": [
    "<div class=\"alert alert-block alert-info\">\n",
    "    <p>Now, we are going to split the subsample of the data to tune the models\n",
    "   </p>\n",
    "</div>"
   ]
  },
  {
   "cell_type": "code",
   "execution_count": 22,
   "id": "a496f484",
   "metadata": {},
   "outputs": [],
   "source": [
    "X_ss = df_subsample[TRAINING_COLUMNS]"
   ]
  },
  {
   "cell_type": "code",
   "execution_count": 23,
   "id": "3ae61b7c",
   "metadata": {},
   "outputs": [],
   "source": [
    "y_target_ss = df_subsample.loc[:,\"TARGET\"]"
   ]
  },
  {
   "cell_type": "code",
   "execution_count": 24,
   "id": "befc4c18",
   "metadata": {},
   "outputs": [],
   "source": [
    "X_train_ss, X_test_ss, y_train_ss, y_test_ss = train_test_split(X_ss, y_target_ss, test_size=0.20, stratify=y_target_ss, random_state=42)"
   ]
  },
  {
   "cell_type": "code",
   "execution_count": 25,
   "id": "a401668c",
   "metadata": {},
   "outputs": [
    {
     "name": "stdout",
     "output_type": "stream",
     "text": [
      "X_train_ss: (123003, 506)\n",
      "y_train_ss: (123003,)\n",
      "---------------------\n",
      "X_test_ss: (30751, 506)\n",
      "y_test_ss: (30751,)\n"
     ]
    }
   ],
   "source": [
    "print(\"X_train_ss: {}\".format(X_train_ss.shape))\n",
    "print(\"y_train_ss: {}\".format(y_train_ss.shape))\n",
    "print(\"---------------------\")\n",
    "print(\"X_test_ss: {}\".format(X_test_ss.shape))\n",
    "print(\"y_test_ss: {}\".format(y_test_ss.shape))"
   ]
  },
  {
   "cell_type": "markdown",
   "id": "f807e32f",
   "metadata": {
    "tags": []
   },
   "source": [
    "<div style=\"background-color: #506AB9;\" >\n",
    "    <h4 style=\"margin: auto; padding: 20px; color:#fff; \">6.3.2. Random Forest</h4>\n",
    "</div>"
   ]
  },
  {
   "cell_type": "markdown",
   "id": "8077b064",
   "metadata": {
    "tags": []
   },
   "source": [
    "<div class=\"alert alert-block alert-info\">\n",
    "    <p>Let's try to tune the Random Forest model</p>\n",
    "    <p>Parameters settings</p>\n",
    "</div>"
   ]
  },
  {
   "cell_type": "code",
   "execution_count": 43,
   "id": "803b9544",
   "metadata": {},
   "outputs": [],
   "source": [
    "param_grid = {\n",
    "    \"n_estimators\" : np.arange(500, 1000, 100),\n",
    "    \"max_depth\" : np.arange(20, 30, 2),\n",
    "}"
   ]
  },
  {
   "cell_type": "markdown",
   "id": "f4db2750",
   "metadata": {
    "tags": []
   },
   "source": [
    "<div class=\"alert alert-block alert-info\">\n",
    "    <p>Executing the model</p>\n",
    "</div>"
   ]
  },
  {
   "cell_type": "code",
   "execution_count": 44,
   "id": "2d712eb8",
   "metadata": {},
   "outputs": [],
   "source": [
    "clf_rf = RandomForestClassifier(random_state=42)"
   ]
  },
  {
   "cell_type": "code",
   "execution_count": 45,
   "id": "77417111",
   "metadata": {},
   "outputs": [],
   "source": [
    "search_rf = HalvingGridSearchCV(clf_rf, param_grid, scoring=\"roc_auc\", cv=stratified_kfold, n_jobs=-1)"
   ]
  },
  {
   "cell_type": "code",
   "execution_count": 46,
   "id": "5171b05c",
   "metadata": {},
   "outputs": [
    {
     "data": {
      "text/plain": [
       "HalvingGridSearchCV(cv=StratifiedKFold(n_splits=3, random_state=42, shuffle=True),\n",
       "                    estimator=RandomForestClassifier(random_state=42),\n",
       "                    n_jobs=-1,\n",
       "                    param_grid={'max_depth': array([20, 22, 24, 26, 28]),\n",
       "                                'n_estimators': array([500, 600, 700, 800, 900])})"
      ]
     },
     "execution_count": 46,
     "metadata": {},
     "output_type": "execute_result"
    }
   ],
   "source": [
    "search_rf.fit(X_train_ss, y_train_ss)"
   ]
  },
  {
   "cell_type": "markdown",
   "id": "0f4f9ade",
   "metadata": {
    "tags": []
   },
   "source": [
    "<div class=\"alert alert-block alert-info\">\n",
    "    <p>ROC-AUC score</p>\n",
    "</div>"
   ]
  },
  {
   "cell_type": "code",
   "execution_count": 47,
   "id": "6b4871d5",
   "metadata": {},
   "outputs": [
    {
     "data": {
      "text/plain": [
       "0.9192214824028683"
      ]
     },
     "execution_count": 47,
     "metadata": {},
     "output_type": "execute_result"
    }
   ],
   "source": [
    "search_rf.best_score_"
   ]
  },
  {
   "cell_type": "markdown",
   "id": "f9565ddd",
   "metadata": {
    "tags": []
   },
   "source": [
    "<div class=\"alert alert-block alert-info\">\n",
    "    <p>The best parameters</p>\n",
    "</div>"
   ]
  },
  {
   "cell_type": "code",
   "execution_count": 48,
   "id": "0337149b",
   "metadata": {},
   "outputs": [
    {
     "data": {
      "text/plain": [
       "{'max_depth': 26, 'n_estimators': 500}"
      ]
     },
     "execution_count": 48,
     "metadata": {},
     "output_type": "execute_result"
    }
   ],
   "source": [
    "search_rf.best_params_"
   ]
  },
  {
   "cell_type": "code",
   "execution_count": 124,
   "id": "5d2fd542",
   "metadata": {},
   "outputs": [],
   "source": [
    "rf_parameters = search_rf.best_params_"
   ]
  },
  {
   "cell_type": "markdown",
   "id": "b7d060cd",
   "metadata": {
    "tags": []
   },
   "source": [
    "<div style=\"background-color: #506AB9;\" >\n",
    "    <h4 style=\"margin: auto; padding: 20px; color:#fff; \">6.3.3. LightGBM</h4>\n",
    "</div>"
   ]
  },
  {
   "cell_type": "markdown",
   "id": "3733e5ad",
   "metadata": {
    "tags": []
   },
   "source": [
    "<div class=\"alert alert-block alert-info\">\n",
    "    <p>Let's try to tune the Random LightGBM</p>\n",
    "    <p>Parameters settings</p>\n",
    "</div>"
   ]
  },
  {
   "cell_type": "code",
   "execution_count": 29,
   "id": "a80ac10b",
   "metadata": {},
   "outputs": [],
   "source": [
    "param_grid = {\n",
    "    \"n_estimators\" : [8000, 10000],\n",
    "    \"num_leaves\" : [32, 34], \n",
    "    \"max_depth\" : [8, 9]\n",
    "}"
   ]
  },
  {
   "cell_type": "markdown",
   "id": "a3d74b08",
   "metadata": {
    "tags": []
   },
   "source": [
    "<div class=\"alert alert-block alert-info\">\n",
    "    <p>Executing the model</p>\n",
    "</div>"
   ]
  },
  {
   "cell_type": "code",
   "execution_count": 30,
   "id": "af61eba5",
   "metadata": {},
   "outputs": [],
   "source": [
    "clf_lgbm = LGBMClassifier(random_state=42)"
   ]
  },
  {
   "cell_type": "code",
   "execution_count": 31,
   "id": "6dabbf12",
   "metadata": {},
   "outputs": [],
   "source": [
    "search_lgbm = HalvingGridSearchCV(clf_lgbm, param_grid, scoring=\"roc_auc\", cv=stratified_kfold, n_jobs=-1)"
   ]
  },
  {
   "cell_type": "code",
   "execution_count": 32,
   "id": "ab8b1faa",
   "metadata": {},
   "outputs": [
    {
     "data": {
      "text/plain": [
       "HalvingGridSearchCV(cv=StratifiedKFold(n_splits=3, random_state=42, shuffle=True),\n",
       "                    estimator=LGBMClassifier(random_state=42), n_jobs=-1,\n",
       "                    param_grid={'max_depth': [8, 9],\n",
       "                                'n_estimators': [8000, 10000],\n",
       "                                'num_leaves': [32, 34]},\n",
       "                    scoring='roc_auc')"
      ]
     },
     "execution_count": 32,
     "metadata": {},
     "output_type": "execute_result"
    }
   ],
   "source": [
    "search_lgbm.fit(X_train_ss, y_train_ss)"
   ]
  },
  {
   "cell_type": "markdown",
   "id": "d73d8db6",
   "metadata": {
    "tags": []
   },
   "source": [
    "<div class=\"alert alert-block alert-info\">\n",
    "    <p>ROC-AUC score</p>\n",
    "</div>"
   ]
  },
  {
   "cell_type": "code",
   "execution_count": 33,
   "id": "12f4a4e7",
   "metadata": {},
   "outputs": [
    {
     "data": {
      "text/plain": [
       "0.7396840027850832"
      ]
     },
     "execution_count": 33,
     "metadata": {},
     "output_type": "execute_result"
    }
   ],
   "source": [
    "search_lgbm.best_score_"
   ]
  },
  {
   "cell_type": "markdown",
   "id": "655789b0",
   "metadata": {
    "tags": []
   },
   "source": [
    "<div class=\"alert alert-block alert-info\">\n",
    "    <p>The best parameters</p>\n",
    "</div>"
   ]
  },
  {
   "cell_type": "code",
   "execution_count": 34,
   "id": "5fd6f32b",
   "metadata": {},
   "outputs": [
    {
     "data": {
      "text/plain": [
       "{'max_depth': 9, 'n_estimators': 8000, 'num_leaves': 32}"
      ]
     },
     "execution_count": 34,
     "metadata": {},
     "output_type": "execute_result"
    }
   ],
   "source": [
    "search_lgbm.best_params_"
   ]
  },
  {
   "cell_type": "markdown",
   "id": "e5d59bdb",
   "metadata": {
    "tags": []
   },
   "source": [
    "<div style=\"background-color: #506AB9;\" >\n",
    "    <h4 style=\"margin: auto; padding: 20px; color:#fff; \">6.3.4. Gradient Boosting</h4>\n",
    "</div>"
   ]
  },
  {
   "cell_type": "markdown",
   "id": "42f528bb",
   "metadata": {
    "tags": []
   },
   "source": [
    "<div class=\"alert alert-block alert-info\">\n",
    "    <p>Let's try to tune the Random LightGBM</p>\n",
    "    <p>Parameters settings</p>\n",
    "</div>"
   ]
  },
  {
   "cell_type": "code",
   "execution_count": 35,
   "id": "7e8c4cf8",
   "metadata": {},
   "outputs": [],
   "source": [
    "param_grid = {\n",
    "    \"n_estimators\" : np.arange(500, 1000, 100),\n",
    "    \"max_depth\" : np.arange(20, 30, 2),\n",
    "}"
   ]
  },
  {
   "cell_type": "markdown",
   "id": "9c94391d",
   "metadata": {
    "tags": []
   },
   "source": [
    "<div class=\"alert alert-block alert-info\">\n",
    "    <p>Executing the model</p>\n",
    "</div>"
   ]
  },
  {
   "cell_type": "code",
   "execution_count": 36,
   "id": "d74fe0bb",
   "metadata": {},
   "outputs": [],
   "source": [
    "clf_gb = GradientBoostingClassifier(validation_fraction=0.2, \n",
    "                                    n_iter_no_change=5,\n",
    "                                    tol=0.01,\n",
    "                                    random_state=42)"
   ]
  },
  {
   "cell_type": "code",
   "execution_count": 37,
   "id": "4402a749",
   "metadata": {},
   "outputs": [],
   "source": [
    "search_gb = HalvingGridSearchCV(clf_gb, param_grid, scoring=\"roc_auc\", cv=stratified_kfold, n_jobs=-1)"
   ]
  },
  {
   "cell_type": "code",
   "execution_count": 38,
   "id": "9b7a8c51",
   "metadata": {},
   "outputs": [
    {
     "data": {
      "text/plain": [
       "HalvingGridSearchCV(cv=StratifiedKFold(n_splits=3, random_state=42, shuffle=True),\n",
       "                    estimator=GradientBoostingClassifier(n_iter_no_change=5,\n",
       "                                                         random_state=42,\n",
       "                                                         tol=0.01,\n",
       "                                                         validation_fraction=0.2),\n",
       "                    n_jobs=-1,\n",
       "                    param_grid={'max_depth': array([20, 22, 24, 26, 28]),\n",
       "                                'n_estimators': array([500, 600, 700, 800, 900])},\n",
       "                    scoring='roc_auc')"
      ]
     },
     "execution_count": 38,
     "metadata": {},
     "output_type": "execute_result"
    }
   ],
   "source": [
    "search_gb.fit(X_train_ss, y_train_ss)"
   ]
  },
  {
   "cell_type": "markdown",
   "id": "7236e537",
   "metadata": {
    "tags": []
   },
   "source": [
    "<div class=\"alert alert-block alert-info\">\n",
    "    <p>ROC-AUC score</p>\n",
    "</div>"
   ]
  },
  {
   "cell_type": "code",
   "execution_count": 39,
   "id": "7a8db87d",
   "metadata": {},
   "outputs": [
    {
     "data": {
      "text/plain": [
       "0.6568425917657963"
      ]
     },
     "execution_count": 39,
     "metadata": {},
     "output_type": "execute_result"
    }
   ],
   "source": [
    "search_gb.best_score_"
   ]
  },
  {
   "cell_type": "markdown",
   "id": "1f2ab48f",
   "metadata": {
    "tags": []
   },
   "source": [
    "<div class=\"alert alert-block alert-info\">\n",
    "    <p>The best parameters</p>\n",
    "</div>"
   ]
  },
  {
   "cell_type": "code",
   "execution_count": 40,
   "id": "79c36e18",
   "metadata": {},
   "outputs": [
    {
     "data": {
      "text/plain": [
       "{'max_depth': 20, 'n_estimators': 700}"
      ]
     },
     "execution_count": 40,
     "metadata": {},
     "output_type": "execute_result"
    }
   ],
   "source": [
    "search_gb.best_params_"
   ]
  },
  {
   "cell_type": "markdown",
   "id": "04a03c8f",
   "metadata": {
    "tags": []
   },
   "source": [
    "<div style=\"background-color: #506AB9;\" >\n",
    "    <h2 style=\"margin: auto; padding: 20px; color:#fff; \">7. Custom evaluations</h2>\n",
    "</div>"
   ]
  },
  {
   "cell_type": "markdown",
   "id": "51b533ad",
   "metadata": {
    "tags": []
   },
   "source": [
    "<div style=\"background-color: #506AB9;\" >\n",
    "    <h3 style=\"margin: auto; padding: 20px; color:#fff; \">7.1. Threshold selection</h3>\n",
    "</div>"
   ]
  },
  {
   "cell_type": "markdown",
   "id": "237c3707",
   "metadata": {
    "tags": []
   },
   "source": [
    "<div class=\"alert alert-block alert-info\">\n",
    "    <p>Based on the predictions, we are going to identify the best treshold to mesure our models.\n",
    "    </p>\n",
    "</div>"
   ]
  },
  {
   "cell_type": "code",
   "execution_count": 41,
   "id": "bf60e410",
   "metadata": {},
   "outputs": [],
   "source": [
    "def threshold_selection(y_train, y_prob):\n",
    "    \"\"\"\n",
    "    Method used to calculate the threshold.\n",
    "\n",
    "    Parameters:\n",
    "    -----------------\n",
    "        df (pandas.DataFrame): Dataset to analyze\n",
    "        y_train (1d array-like): True values\n",
    "        y_prob (1d array-like): Probabilite values predicted\n",
    "        \n",
    "    Returns:\n",
    "    -----------------\n",
    "        threshold (float) : Best threshold value\n",
    "        Threshold (image) : Plot the threshold and the best score\n",
    "    \"\"\"\n",
    "    \n",
    "    scores = []\n",
    "    \n",
    "    for threshold in np.linspace(0, 1, num=101):\n",
    "        y_prob_value = (y_prob > threshold)*1\n",
    "        score = fbeta_score(y_train, y_prob_value, beta = 2)\n",
    "        scores.append(score) \n",
    "\n",
    "    scores = np.asarray(scores)\n",
    "    best_threshold, best_score = (scores.argmax()*.01, round(scores.max(),3))\n",
    "    \n",
    "    print(\"Best results\")\n",
    "    print(\"- Best Threshold:\\t\", best_threshold)\n",
    "    print(\"- Best Score:\\t\\t\", best_score)\n",
    "    print(\"\\n\")\n",
    "    \n",
    "    plt.subplots(1, figsize=(6, 5))\n",
    "    plt.plot(np.linspace(0, 1, num=101), scores, lw=1)\n",
    "    plt.axvline(best_threshold, ls=\"--\", lw=1, c=\"r\")\n",
    "    plt.title(\"Threshold\")\n",
    "    plt.xlabel(\"proba threshold\")\n",
    "    plt.ylabel(\"Score performed\")\n",
    "    plt.show()\n",
    "    \n",
    "    return best_threshold"
   ]
  },
  {
   "cell_type": "markdown",
   "id": "38129e72",
   "metadata": {
    "tags": []
   },
   "source": [
    "<div style=\"background-color: #506AB9;\" >\n",
    "    <h3 style=\"margin: auto; padding: 20px; color:#fff; \">7.2. Custom Score</h3>\n",
    "</div>"
   ]
  },
  {
   "cell_type": "markdown",
   "id": "704653fb",
   "metadata": {
    "tags": []
   },
   "source": [
    "<div class=\"alert alert-block alert-info\">\n",
    "    <p>We need to penalize the <b>False Negative</b> that are loands <b>will be in default</b>, and they were <b>predicted incorrectly</b>. Due to that, we are going to define a <b>Custom Score</b>.\n",
    "    </p>\n",
    "</div>"
   ]
  },
  {
   "cell_type": "code",
   "execution_count": 42,
   "id": "25777987",
   "metadata": {},
   "outputs": [],
   "source": [
    "def custom_score(y_true, y_pred, threshold):\n",
    "    \"\"\"\n",
    "    Method used to calculate a score based on the penalization of False Negatives.\n",
    "\n",
    "    Parameters:\n",
    "    -----------------\n",
    "        y_true (series): True values\n",
    "        y_pred (series): Predicted values\n",
    "        threshold (float): Threshold value to use\n",
    "        \n",
    "    Returns:\n",
    "    -----------------\n",
    "        Score. (float): Score obtained based on the rules defined to measure. \n",
    "    \"\"\"\n",
    "    \n",
    "    # Getting the probability outputs from \"predict_proba\"\n",
    "    y_pred = (y_pred > threshold).astype(int)\n",
    "    \n",
    "    TN_rate = 1        # Loans that are not in default and were predicted correctly\n",
    "    TP_rate = 1        # Loans that are in default and were predicted correctly\n",
    "    FP_rate = 0        # Loans that are not in default and were predicted incorrectly\n",
    "    FN_rate = -100      # Loans that are in default and were were predicted incorrectly\n",
    "    \n",
    "    # Getting all values based on confusion matrix\n",
    "    (TN, FP, FN, TP) = confusion_matrix(y_true, y_pred, labels=[0, 1]).ravel()\n",
    "\n",
    "    # Total of default and not default cases\n",
    "    total_not_default = TN + FP     # Not default cases\n",
    "    total_default = TP + FN         # Default cases \n",
    "    \n",
    "    gain_total = TN*TN_rate + TP*TP_rate + FP*FP_rate + FN*FN_rate\n",
    "    gain_maximun = total_not_default*TN_rate + total_default*TP_rate\n",
    "    gain_minumun = total_not_default*TN_rate + total_default*FN_rate\n",
    "    \n",
    "    # normalize to get score between 0 (baseline) and 1\n",
    "    score = (gain_total - gain_minumun) / (gain_maximun - gain_minumun)\n",
    "    \n",
    "    return score"
   ]
  },
  {
   "cell_type": "markdown",
   "id": "2d5b14bd",
   "metadata": {
    "tags": []
   },
   "source": [
    "<div style=\"background-color: #506AB9;\" >\n",
    "    <h2 style=\"margin: auto; padding: 20px; color:#fff; \">8. Modelisation using class_weight</h2>\n",
    "</div>"
   ]
  },
  {
   "cell_type": "markdown",
   "id": "2c4ca1fa",
   "metadata": {
    "tags": []
   },
   "source": [
    "<div class=\"alert alert-block alert-info\">\n",
    "    <p>At this point, we are going to use the parameter <b>class_weight</b> to affect the computation of the model to penalize differently a false classification from the minority and majority class </p>\n",
    "</div>"
   ]
  },
  {
   "cell_type": "markdown",
   "id": "846bffc1",
   "metadata": {
    "tags": []
   },
   "source": [
    "<div style=\"background-color: #506AB9;\" >\n",
    "    <h4 style=\"margin: auto; padding: 20px; color:#fff; \">8.1. Random Forest</h4>\n",
    "</div>"
   ]
  },
  {
   "cell_type": "markdown",
   "id": "24db7f99",
   "metadata": {
    "tags": []
   },
   "source": [
    "<div class=\"alert alert-block alert-info\">\n",
    "    <p>Let's execute the model considering the parameters obtained</p>\n",
    "</div>"
   ]
  },
  {
   "cell_type": "code",
   "execution_count": 127,
   "id": "3fcaa51f",
   "metadata": {},
   "outputs": [],
   "source": [
    "clf_rf_cw = RandomForestClassifier(**rf_parameters,\n",
    "                                   class_weight=\"balanced\",\n",
    "                                   random_state=42)"
   ]
  },
  {
   "cell_type": "markdown",
   "id": "5cd65bd2",
   "metadata": {
    "tags": []
   },
   "source": [
    "<div class=\"alert alert-block alert-info\">\n",
    "    <p>Executing the model with the complete dataset</p>\n",
    "</div>"
   ]
  },
  {
   "cell_type": "code",
   "execution_count": 128,
   "id": "c68a9861",
   "metadata": {},
   "outputs": [
    {
     "data": {
      "text/plain": [
       "RandomForestClassifier(class_weight='balanced', max_depth=26, n_estimators=500,\n",
       "                       random_state=42)"
      ]
     },
     "execution_count": 128,
     "metadata": {},
     "output_type": "execute_result"
    }
   ],
   "source": [
    "start_time_model = timeit.default_timer()\n",
    "\n",
    "clf_rf_cw.fit(X_train, y_train)\n",
    "\n",
    "end_time_model =  round(timeit.default_timer() - start_time_model, 3)"
   ]
  },
  {
   "cell_type": "markdown",
   "id": "e5449857",
   "metadata": {
    "tags": []
   },
   "source": [
    "<div class=\"alert alert-block alert-info\">\n",
    "    <p>Making predictions and probabilities based on the best results for the model</p>\n",
    "</div>"
   ]
  },
  {
   "cell_type": "code",
   "execution_count": 148,
   "id": "96c5c60e",
   "metadata": {
    "tags": []
   },
   "outputs": [],
   "source": [
    "y_pred = clf_rf_cw.predict(X_test)\n",
    "y_prob = clf_rf_cw.predict_proba(X_test)\n",
    "y_prob = y_prob[:, 1]"
   ]
  },
  {
   "cell_type": "markdown",
   "id": "f1a12056",
   "metadata": {
    "tags": []
   },
   "source": [
    "<div class=\"alert alert-block alert-info\">\n",
    "    <p>Let's selet the threshold based on the best parameters</p>\n",
    "</div>"
   ]
  },
  {
   "cell_type": "code",
   "execution_count": 149,
   "id": "4ee03938",
   "metadata": {},
   "outputs": [
    {
     "name": "stdout",
     "output_type": "stream",
     "text": [
      "Best results\n",
      "- Best Threshold:\t 0.11\n",
      "- Best Score:\t\t 0.414\n",
      "\n",
      "\n"
     ]
    },
    {
     "data": {
      "image/png": "[encoded data removed]",
      "text/plain": [
       "<Figure size 432x360 with 1 Axes>"
      ]
     },
     "metadata": {
      "needs_background": "light"
     },
     "output_type": "display_data"
    }
   ],
   "source": [
    "threshold = threshold_selection(y_test, y_prob)"
   ]
  },
  {
   "cell_type": "markdown",
   "id": "dcd10524",
   "metadata": {
    "tags": []
   },
   "source": [
    "<div class=\"alert alert-block alert-info\">\n",
    "    <p>Getting the probability outputs from \"predict_proba\" based on the threshold</p>\n",
    "</div>"
   ]
  },
  {
   "cell_type": "code",
   "execution_count": 150,
   "id": "83d3f425",
   "metadata": {},
   "outputs": [],
   "source": [
    "y_pred = (y_pred > threshold).astype(int)"
   ]
  },
  {
   "cell_type": "markdown",
   "id": "473deae8",
   "metadata": {
    "tags": []
   },
   "source": [
    "<div class=\"alert alert-block alert-info\">\n",
    "    <p>Now, we can get the metrics</p>\n",
    "</div>"
   ]
  },
  {
   "cell_type": "code",
   "execution_count": 167,
   "id": "fc87fe38",
   "metadata": {
    "tags": []
   },
   "outputs": [],
   "source": [
    "roc_auc = round(roc_auc_score(y_test, y_prob), 3)\n",
    "recall = round(recall_score(y_test, y_pred), 3)\n",
    "f1 = round(f1_score(y_test, y_pred), 3)\n",
    "custom = round(custom_score(y_test, y_pred, threshold), 3)\n",
    "\n"
   ]
  },
  {
   "cell_type": "code",
   "execution_count": 116,
   "id": "c2dae84a",
   "metadata": {},
   "outputs": [],
   "source": [
    "df_models_metrics = pd.DataFrame({\n",
    "    \"Model\" : LIST_MODEL,\n",
    "    \"ROC-AUC\" : LIST_ROC_AUC,\n",
    "    \"Recall\" : LIST_RECALL,    \n",
    "    \"F1\" : LIST_F1,\n",
    "    \"Duration\" : LIST_DURATION,\n",
    "})"
   ]
  },
  {
   "cell_type": "code",
   "execution_count": 170,
   "id": "c3372ec5",
   "metadata": {},
   "outputs": [],
   "source": [
    "df_tempasdas = df_models_metrics.copy()"
   ]
  },
  {
   "cell_type": "code",
   "execution_count": 175,
   "id": "ae286b0d",
   "metadata": {},
   "outputs": [
    {
     "ename": "ValueError",
     "evalue": "If using all scalar values, you must pass an index",
     "output_type": "error",
     "traceback": [
      "\u001b[0;31m---------------------------------------------------------------------------\u001b[0m",
      "\u001b[0;31mValueError\u001b[0m                                Traceback (most recent call last)",
      "Input \u001b[0;32mIn [175]\u001b[0m, in \u001b[0;36m<module>\u001b[0;34m\u001b[0m\n\u001b[0;32m----> 1\u001b[0m deXX \u001b[38;5;241m=\u001b[39m \u001b[43mpd\u001b[49m\u001b[38;5;241;43m.\u001b[39;49m\u001b[43mDataFrame\u001b[49m\u001b[43m(\u001b[49m\u001b[43m{\u001b[49m\n\u001b[1;32m      2\u001b[0m \u001b[43m    \u001b[49m\u001b[38;5;124;43m\"\u001b[39;49m\u001b[38;5;124;43mModel\u001b[39;49m\u001b[38;5;124;43m\"\u001b[39;49m\u001b[43m \u001b[49m\u001b[43m:\u001b[49m\u001b[43m \u001b[49m\u001b[38;5;124;43m\"\u001b[39;49m\u001b[38;5;124;43mclass_weight - Random Forest\u001b[39;49m\u001b[38;5;124;43m\"\u001b[39;49m\u001b[43m,\u001b[49m\n\u001b[1;32m      3\u001b[0m \u001b[43m    \u001b[49m\u001b[38;5;124;43m\"\u001b[39;49m\u001b[38;5;124;43mROC-AUC\u001b[39;49m\u001b[38;5;124;43m\"\u001b[39;49m\u001b[43m \u001b[49m\u001b[43m:\u001b[49m\u001b[43m \u001b[49m\u001b[43mroc_auc\u001b[49m\u001b[43m,\u001b[49m\n\u001b[1;32m      4\u001b[0m \u001b[43m    \u001b[49m\u001b[38;5;124;43m\"\u001b[39;49m\u001b[38;5;124;43mRecall\u001b[39;49m\u001b[38;5;124;43m\"\u001b[39;49m\u001b[43m \u001b[49m\u001b[43m:\u001b[49m\u001b[43m \u001b[49m\u001b[43mrecall\u001b[49m\u001b[43m,\u001b[49m\u001b[43m    \u001b[49m\n\u001b[1;32m      5\u001b[0m \u001b[43m    \u001b[49m\u001b[38;5;124;43m\"\u001b[39;49m\u001b[38;5;124;43mF1\u001b[39;49m\u001b[38;5;124;43m\"\u001b[39;49m\u001b[43m \u001b[49m\u001b[43m:\u001b[49m\u001b[43m \u001b[49m\u001b[43mf1\u001b[49m\u001b[43m,\u001b[49m\n\u001b[1;32m      6\u001b[0m \u001b[43m    \u001b[49m\u001b[38;5;124;43m\"\u001b[39;49m\u001b[38;5;124;43mDuration\u001b[39;49m\u001b[38;5;124;43m\"\u001b[39;49m\u001b[43m \u001b[49m\u001b[43m:\u001b[49m\u001b[43m \u001b[49m\u001b[43mend_time_model\u001b[49m\u001b[43m,\u001b[49m\n\u001b[1;32m      7\u001b[0m \u001b[43m}\u001b[49m\u001b[43m)\u001b[49m\n",
      "File \u001b[0;32m~/anaconda3/envs/p7/lib/python3.9/site-packages/pandas/core/frame.py:614\u001b[0m, in \u001b[0;36mDataFrame.__init__\u001b[0;34m(self, data, index, columns, dtype, copy)\u001b[0m\n\u001b[1;32m    608\u001b[0m     mgr \u001b[38;5;241m=\u001b[39m \u001b[38;5;28mself\u001b[39m\u001b[38;5;241m.\u001b[39m_init_mgr(\n\u001b[1;32m    609\u001b[0m         data, axes\u001b[38;5;241m=\u001b[39m{\u001b[38;5;124m\"\u001b[39m\u001b[38;5;124mindex\u001b[39m\u001b[38;5;124m\"\u001b[39m: index, \u001b[38;5;124m\"\u001b[39m\u001b[38;5;124mcolumns\u001b[39m\u001b[38;5;124m\"\u001b[39m: columns}, dtype\u001b[38;5;241m=\u001b[39mdtype, copy\u001b[38;5;241m=\u001b[39mcopy\n\u001b[1;32m    610\u001b[0m     )\n\u001b[1;32m    612\u001b[0m \u001b[38;5;28;01melif\u001b[39;00m \u001b[38;5;28misinstance\u001b[39m(data, \u001b[38;5;28mdict\u001b[39m):\n\u001b[1;32m    613\u001b[0m     \u001b[38;5;66;03m# GH#38939 de facto copy defaults to False only in non-dict cases\u001b[39;00m\n\u001b[0;32m--> 614\u001b[0m     mgr \u001b[38;5;241m=\u001b[39m \u001b[43mdict_to_mgr\u001b[49m\u001b[43m(\u001b[49m\u001b[43mdata\u001b[49m\u001b[43m,\u001b[49m\u001b[43m \u001b[49m\u001b[43mindex\u001b[49m\u001b[43m,\u001b[49m\u001b[43m \u001b[49m\u001b[43mcolumns\u001b[49m\u001b[43m,\u001b[49m\u001b[43m \u001b[49m\u001b[43mdtype\u001b[49m\u001b[38;5;241;43m=\u001b[39;49m\u001b[43mdtype\u001b[49m\u001b[43m,\u001b[49m\u001b[43m \u001b[49m\u001b[43mcopy\u001b[49m\u001b[38;5;241;43m=\u001b[39;49m\u001b[43mcopy\u001b[49m\u001b[43m,\u001b[49m\u001b[43m \u001b[49m\u001b[43mtyp\u001b[49m\u001b[38;5;241;43m=\u001b[39;49m\u001b[43mmanager\u001b[49m\u001b[43m)\u001b[49m\n\u001b[1;32m    615\u001b[0m \u001b[38;5;28;01melif\u001b[39;00m \u001b[38;5;28misinstance\u001b[39m(data, ma\u001b[38;5;241m.\u001b[39mMaskedArray):\n\u001b[1;32m    616\u001b[0m     \u001b[38;5;28;01mimport\u001b[39;00m \u001b[38;5;21;01mnumpy\u001b[39;00m\u001b[38;5;21;01m.\u001b[39;00m\u001b[38;5;21;01mma\u001b[39;00m\u001b[38;5;21;01m.\u001b[39;00m\u001b[38;5;21;01mmrecords\u001b[39;00m \u001b[38;5;28;01mas\u001b[39;00m \u001b[38;5;21;01mmrecords\u001b[39;00m\n",
      "File \u001b[0;32m~/anaconda3/envs/p7/lib/python3.9/site-packages/pandas/core/internals/construction.py:464\u001b[0m, in \u001b[0;36mdict_to_mgr\u001b[0;34m(data, index, columns, dtype, typ, copy)\u001b[0m\n\u001b[1;32m    456\u001b[0m     arrays \u001b[38;5;241m=\u001b[39m [\n\u001b[1;32m    457\u001b[0m         x\n\u001b[1;32m    458\u001b[0m         \u001b[38;5;28;01mif\u001b[39;00m \u001b[38;5;129;01mnot\u001b[39;00m \u001b[38;5;28mhasattr\u001b[39m(x, \u001b[38;5;124m\"\u001b[39m\u001b[38;5;124mdtype\u001b[39m\u001b[38;5;124m\"\u001b[39m) \u001b[38;5;129;01mor\u001b[39;00m \u001b[38;5;129;01mnot\u001b[39;00m \u001b[38;5;28misinstance\u001b[39m(x\u001b[38;5;241m.\u001b[39mdtype, ExtensionDtype)\n\u001b[1;32m    459\u001b[0m         \u001b[38;5;28;01melse\u001b[39;00m x\u001b[38;5;241m.\u001b[39mcopy()\n\u001b[1;32m    460\u001b[0m         \u001b[38;5;28;01mfor\u001b[39;00m x \u001b[38;5;129;01min\u001b[39;00m arrays\n\u001b[1;32m    461\u001b[0m     ]\n\u001b[1;32m    462\u001b[0m     \u001b[38;5;66;03m# TODO: can we get rid of the dt64tz special case above?\u001b[39;00m\n\u001b[0;32m--> 464\u001b[0m \u001b[38;5;28;01mreturn\u001b[39;00m \u001b[43marrays_to_mgr\u001b[49m\u001b[43m(\u001b[49m\n\u001b[1;32m    465\u001b[0m \u001b[43m    \u001b[49m\u001b[43marrays\u001b[49m\u001b[43m,\u001b[49m\u001b[43m \u001b[49m\u001b[43mdata_names\u001b[49m\u001b[43m,\u001b[49m\u001b[43m \u001b[49m\u001b[43mindex\u001b[49m\u001b[43m,\u001b[49m\u001b[43m \u001b[49m\u001b[43mcolumns\u001b[49m\u001b[43m,\u001b[49m\u001b[43m \u001b[49m\u001b[43mdtype\u001b[49m\u001b[38;5;241;43m=\u001b[39;49m\u001b[43mdtype\u001b[49m\u001b[43m,\u001b[49m\u001b[43m \u001b[49m\u001b[43mtyp\u001b[49m\u001b[38;5;241;43m=\u001b[39;49m\u001b[43mtyp\u001b[49m\u001b[43m,\u001b[49m\u001b[43m \u001b[49m\u001b[43mconsolidate\u001b[49m\u001b[38;5;241;43m=\u001b[39;49m\u001b[43mcopy\u001b[49m\n\u001b[1;32m    466\u001b[0m \u001b[43m\u001b[49m\u001b[43m)\u001b[49m\n",
      "File \u001b[0;32m~/anaconda3/envs/p7/lib/python3.9/site-packages/pandas/core/internals/construction.py:119\u001b[0m, in \u001b[0;36marrays_to_mgr\u001b[0;34m(arrays, arr_names, index, columns, dtype, verify_integrity, typ, consolidate)\u001b[0m\n\u001b[1;32m    116\u001b[0m \u001b[38;5;28;01mif\u001b[39;00m verify_integrity:\n\u001b[1;32m    117\u001b[0m     \u001b[38;5;66;03m# figure out the index, if necessary\u001b[39;00m\n\u001b[1;32m    118\u001b[0m     \u001b[38;5;28;01mif\u001b[39;00m index \u001b[38;5;129;01mis\u001b[39;00m \u001b[38;5;28;01mNone\u001b[39;00m:\n\u001b[0;32m--> 119\u001b[0m         index \u001b[38;5;241m=\u001b[39m \u001b[43m_extract_index\u001b[49m\u001b[43m(\u001b[49m\u001b[43marrays\u001b[49m\u001b[43m)\u001b[49m\n\u001b[1;32m    120\u001b[0m     \u001b[38;5;28;01melse\u001b[39;00m:\n\u001b[1;32m    121\u001b[0m         index \u001b[38;5;241m=\u001b[39m ensure_index(index)\n",
      "File \u001b[0;32m~/anaconda3/envs/p7/lib/python3.9/site-packages/pandas/core/internals/construction.py:625\u001b[0m, in \u001b[0;36m_extract_index\u001b[0;34m(data)\u001b[0m\n\u001b[1;32m    622\u001b[0m         raw_lengths\u001b[38;5;241m.\u001b[39mappend(\u001b[38;5;28mlen\u001b[39m(val))\n\u001b[1;32m    624\u001b[0m \u001b[38;5;28;01mif\u001b[39;00m \u001b[38;5;129;01mnot\u001b[39;00m indexes \u001b[38;5;129;01mand\u001b[39;00m \u001b[38;5;129;01mnot\u001b[39;00m raw_lengths:\n\u001b[0;32m--> 625\u001b[0m     \u001b[38;5;28;01mraise\u001b[39;00m \u001b[38;5;167;01mValueError\u001b[39;00m(\u001b[38;5;124m\"\u001b[39m\u001b[38;5;124mIf using all scalar values, you must pass an index\u001b[39m\u001b[38;5;124m\"\u001b[39m)\n\u001b[1;32m    627\u001b[0m \u001b[38;5;28;01mif\u001b[39;00m have_series:\n\u001b[1;32m    628\u001b[0m     index \u001b[38;5;241m=\u001b[39m union_indexes(indexes)\n",
      "\u001b[0;31mValueError\u001b[0m: If using all scalar values, you must pass an index"
     ]
    }
   ],
   "source": [
    "deXX = pd.DataFrame({\n",
    "    \"Model\" : \"class_weight - Random Forest\",\n",
    "    \"ROC-AUC\" : roc_auc,\n",
    "    \"Recall\" : recall,    \n",
    "    \"F1\" : f1,\n",
    "    \"Duration\" : end_time_model,\n",
    "})"
   ]
  },
  {
   "cell_type": "code",
   "execution_count": 172,
   "id": "f879bf52",
   "metadata": {},
   "outputs": [
    {
     "data": {
      "text/html": [
       "<div>\n",
       "<style scoped>\n",
       "    .dataframe tbody tr th:only-of-type {\n",
       "        vertical-align: middle;\n",
       "    }\n",
       "\n",
       "    .dataframe tbody tr th {\n",
       "        vertical-align: top;\n",
       "    }\n",
       "\n",
       "    .dataframe thead th {\n",
       "        text-align: right;\n",
       "    }\n",
       "</style>\n",
       "<table border=\"1\" class=\"dataframe\">\n",
       "  <thead>\n",
       "    <tr style=\"text-align: right;\">\n",
       "      <th></th>\n",
       "      <th>Model</th>\n",
       "      <th>ROC-AUC</th>\n",
       "      <th>Recall</th>\n",
       "      <th>F1</th>\n",
       "      <th>Duration</th>\n",
       "    </tr>\n",
       "  </thead>\n",
       "  <tbody>\n",
       "    <tr>\n",
       "      <th>0</th>\n",
       "      <td>Dummy Classifier</td>\n",
       "      <td>0.75</td>\n",
       "      <td>0.023</td>\n",
       "      <td>0.044</td>\n",
       "      <td>1695.18</td>\n",
       "    </tr>\n",
       "    <tr>\n",
       "      <th>1</th>\n",
       "      <td>Baseline - Random Forest</td>\n",
       "      <td>0.75</td>\n",
       "      <td>0.023</td>\n",
       "      <td>0.044</td>\n",
       "      <td>1695.18</td>\n",
       "    </tr>\n",
       "    <tr>\n",
       "      <th>2</th>\n",
       "      <td>Baseline - LightGBM</td>\n",
       "      <td>0.75</td>\n",
       "      <td>0.023</td>\n",
       "      <td>0.044</td>\n",
       "      <td>1695.18</td>\n",
       "    </tr>\n",
       "    <tr>\n",
       "      <th>3</th>\n",
       "      <td>Baseline - Gradient Boosting</td>\n",
       "      <td>0.75</td>\n",
       "      <td>0.023</td>\n",
       "      <td>0.044</td>\n",
       "      <td>1695.18</td>\n",
       "    </tr>\n",
       "  </tbody>\n",
       "</table>\n",
       "</div>"
      ],
      "text/plain": [
       "                          Model  ROC-AUC  Recall     F1  Duration\n",
       "0              Dummy Classifier     0.75   0.023  0.044   1695.18\n",
       "1      Baseline - Random Forest     0.75   0.023  0.044   1695.18\n",
       "2           Baseline - LightGBM     0.75   0.023  0.044   1695.18\n",
       "3  Baseline - Gradient Boosting     0.75   0.023  0.044   1695.18"
      ]
     },
     "execution_count": 172,
     "metadata": {},
     "output_type": "execute_result"
    }
   ],
   "source": [
    "df_temp"
   ]
  },
  {
   "cell_type": "code",
   "execution_count": 169,
   "id": "3b4c731b",
   "metadata": {},
   "outputs": [
    {
     "name": "stdout",
     "output_type": "stream",
     "text": [
      "Model's metrics\n",
      "- ROC-AUC:\t\t 0.75\n",
      "- Recall:\t\t 0.023\n",
      "- F1:\t\t\t 0.044\n",
      "- Custom Score:\t\t 0.023\n",
      "- Duration:\t\t 1695  minutes\n"
     ]
    }
   ],
   "source": [
    "# Get the results\n",
    "print(\"Model's metrics\")\n",
    "print(\"- ROC-AUC:\\t\\t\", roc_auc)\n",
    "print(\"- Recall:\\t\\t\", recall)\n",
    "print(\"- F1:\\t\\t\\t\", f1)\n",
    "print(\"- Custom Score:\\t\\t\", custom)\n",
    "print(\"- Duration:\\t\\t\", round(end_time_model), \" minutes\")"
   ]
  },
  {
   "cell_type": "code",
   "execution_count": 134,
   "id": "10f9c946",
   "metadata": {},
   "outputs": [
    {
     "ename": "TypeError",
     "evalue": "'dict' object is not callable",
     "output_type": "error",
     "traceback": [
      "\u001b[0;31m---------------------------------------------------------------------------\u001b[0m",
      "\u001b[0;31mTypeError\u001b[0m                                 Traceback (most recent call last)",
      "Input \u001b[0;32mIn [134]\u001b[0m, in \u001b[0;36m<module>\u001b[0;34m\u001b[0m\n\u001b[0;32m----> 1\u001b[0m \u001b[38;5;28mround\u001b[39m(\u001b[43mroc_auc_score\u001b[49m\u001b[43m(\u001b[49m\u001b[43my_test\u001b[49m\u001b[43m,\u001b[49m\u001b[43m \u001b[49m\u001b[43my_prob\u001b[49m\u001b[43m)\u001b[49m, \u001b[38;5;241m3\u001b[39m)\n",
      "\u001b[0;31mTypeError\u001b[0m: 'dict' object is not callable"
     ]
    }
   ],
   "source": [
    "round(roc_auc_score(y_test, y_prob), 3)"
   ]
  },
  {
   "cell_type": "code",
   "execution_count": 143,
   "id": "48ff4ad1",
   "metadata": {},
   "outputs": [
    {
     "data": {
      "text/plain": [
       "array([0.09312175, 0.0905756 , 0.09447666, ..., 0.07465123, 0.08027394,\n",
       "       0.14457207])"
      ]
     },
     "execution_count": 143,
     "metadata": {},
     "output_type": "execute_result"
    }
   ],
   "source": [
    "y_prob"
   ]
  },
  {
   "cell_type": "code",
   "execution_count": 144,
   "id": "1a9cf9c0",
   "metadata": {},
   "outputs": [
    {
     "data": {
      "text/plain": [
       "180592    0.0\n",
       "186421    0.0\n",
       "103497    0.0\n",
       "133150    0.0\n",
       "211898    0.0\n",
       "         ... \n",
       "16213     0.0\n",
       "294616    0.0\n",
       "286391    0.0\n",
       "46774     1.0\n",
       "268861    0.0\n",
       "Name: TARGET, Length: 61502, dtype: float32"
      ]
     },
     "execution_count": 144,
     "metadata": {},
     "output_type": "execute_result"
    }
   ],
   "source": [
    "y_test"
   ]
  },
  {
   "cell_type": "code",
   "execution_count": 117,
   "id": "4c3de322",
   "metadata": {},
   "outputs": [
    {
     "data": {
      "text/html": [
       "<div>\n",
       "<style scoped>\n",
       "    .dataframe tbody tr th:only-of-type {\n",
       "        vertical-align: middle;\n",
       "    }\n",
       "\n",
       "    .dataframe tbody tr th {\n",
       "        vertical-align: top;\n",
       "    }\n",
       "\n",
       "    .dataframe thead th {\n",
       "        text-align: right;\n",
       "    }\n",
       "</style>\n",
       "<table border=\"1\" class=\"dataframe\">\n",
       "  <thead>\n",
       "    <tr style=\"text-align: right;\">\n",
       "      <th></th>\n",
       "      <th>Model</th>\n",
       "      <th>ROC-AUC</th>\n",
       "      <th>Recall</th>\n",
       "      <th>F1</th>\n",
       "      <th>Duration</th>\n",
       "    </tr>\n",
       "  </thead>\n",
       "  <tbody>\n",
       "    <tr>\n",
       "      <th>0</th>\n",
       "      <td>Dummy Classifier</td>\n",
       "      <td>0.500</td>\n",
       "      <td>0.000</td>\n",
       "      <td>0.000</td>\n",
       "      <td>0.989</td>\n",
       "    </tr>\n",
       "    <tr>\n",
       "      <th>1</th>\n",
       "      <td>Baseline - Random Forest</td>\n",
       "      <td>0.714</td>\n",
       "      <td>0.001</td>\n",
       "      <td>0.002</td>\n",
       "      <td>516.823</td>\n",
       "    </tr>\n",
       "    <tr>\n",
       "      <th>2</th>\n",
       "      <td>Baseline - LightGBM</td>\n",
       "      <td>0.773</td>\n",
       "      <td>0.033</td>\n",
       "      <td>0.062</td>\n",
       "      <td>16.852</td>\n",
       "    </tr>\n",
       "    <tr>\n",
       "      <th>3</th>\n",
       "      <td>Baseline - Gradient Boosting</td>\n",
       "      <td>0.765</td>\n",
       "      <td>0.019</td>\n",
       "      <td>0.036</td>\n",
       "      <td>1695.180</td>\n",
       "    </tr>\n",
       "  </tbody>\n",
       "</table>\n",
       "</div>"
      ],
      "text/plain": [
       "                          Model  ROC-AUC  Recall     F1  Duration\n",
       "0              Dummy Classifier    0.500   0.000  0.000     0.989\n",
       "1      Baseline - Random Forest    0.714   0.001  0.002   516.823\n",
       "2           Baseline - LightGBM    0.773   0.033  0.062    16.852\n",
       "3  Baseline - Gradient Boosting    0.765   0.019  0.036  1695.180"
      ]
     },
     "execution_count": 117,
     "metadata": {},
     "output_type": "execute_result"
    }
   ],
   "source": [
    "df_models_metrics"
   ]
  },
  {
   "cell_type": "markdown",
   "id": "b342a6f1",
   "metadata": {
    "tags": []
   },
   "source": [
    "<div style=\"background-color: red;\" >\n",
    "    <h2 style=\"margin: auto; padding: 20px; color:#fff; \">----------- HERE -----------</h2>\n",
    "</div>"
   ]
  },
  {
   "cell_type": "code",
   "execution_count": null,
   "id": "2de0e8f1",
   "metadata": {},
   "outputs": [],
   "source": []
  },
  {
   "cell_type": "code",
   "execution_count": null,
   "id": "95c45b8b",
   "metadata": {},
   "outputs": [],
   "source": []
  },
  {
   "cell_type": "code",
   "execution_count": null,
   "id": "7c1cc1a0",
   "metadata": {},
   "outputs": [],
   "source": []
  },
  {
   "cell_type": "code",
   "execution_count": null,
   "id": "7a5c60d7",
   "metadata": {},
   "outputs": [],
   "source": []
  },
  {
   "cell_type": "code",
   "execution_count": null,
   "id": "37f80120",
   "metadata": {},
   "outputs": [],
   "source": []
  },
  {
   "cell_type": "markdown",
   "id": "683638f4",
   "metadata": {
    "tags": []
   },
   "source": [
    "<div class=\"alert alert-block alert-info\">\n",
    "    <p>To treat the unbalanced class, we are going to implement OverSampling technique with SMOTE.</p>\n",
    "</div>"
   ]
  },
  {
   "cell_type": "code",
   "execution_count": 26,
   "id": "41a072c4",
   "metadata": {},
   "outputs": [],
   "source": [
    "smote = SMOTE(random_state=42, n_jobs=-1)"
   ]
  },
  {
   "cell_type": "code",
   "execution_count": null,
   "id": "97bd467d",
   "metadata": {},
   "outputs": [],
   "source": []
  },
  {
   "cell_type": "code",
   "execution_count": null,
   "id": "acd7ca73",
   "metadata": {},
   "outputs": [],
   "source": []
  },
  {
   "cell_type": "code",
   "execution_count": null,
   "id": "3cda31ce",
   "metadata": {},
   "outputs": [],
   "source": []
  },
  {
   "cell_type": "markdown",
   "id": "510b3c38",
   "metadata": {
    "tags": []
   },
   "source": [
    "<div class=\"alert alert-block alert-info\">\n",
    "    <p>Executing the model with the complete dataset after making the OverSampling</p>\n",
    "</div>"
   ]
  },
  {
   "cell_type": "code",
   "execution_count": null,
   "id": "50a47f0b",
   "metadata": {},
   "outputs": [],
   "source": [
    "clf_rf.fit(X_train, y_train)"
   ]
  },
  {
   "cell_type": "markdown",
   "id": "22261ba5",
   "metadata": {
    "tags": []
   },
   "source": [
    "<div class=\"alert alert-block alert-info\">\n",
    "    <p>Making predictions and probabilities based on the best results for the model</p>\n",
    "</div>"
   ]
  },
  {
   "cell_type": "code",
   "execution_count": null,
   "id": "cce48dcf",
   "metadata": {
    "tags": []
   },
   "outputs": [],
   "source": [
    "y_pred = clf_rf.predict(X_test)\n",
    "y_prob = clf_rf.predict_proba(X_test)\n",
    "y_prob = y_prob[:, 1]"
   ]
  },
  {
   "cell_type": "markdown",
   "id": "0cd2cf1a",
   "metadata": {
    "tags": []
   },
   "source": [
    "<div class=\"alert alert-block alert-info\">\n",
    "    <p>Let's selet the threshold based on the best parameters</p>\n",
    "</div>"
   ]
  },
  {
   "cell_type": "code",
   "execution_count": null,
   "id": "acfea029",
   "metadata": {},
   "outputs": [],
   "source": [
    "threshold = threshold_selection(y_test, y_prob)"
   ]
  },
  {
   "cell_type": "markdown",
   "id": "261b0d44",
   "metadata": {
    "tags": []
   },
   "source": [
    "<div class=\"alert alert-block alert-info\">\n",
    "    <p>Getting the probability outputs from \"predict_proba\" based on the threshold</p>\n",
    "</div>"
   ]
  },
  {
   "cell_type": "code",
   "execution_count": null,
   "id": "a2fa327e",
   "metadata": {},
   "outputs": [],
   "source": [
    "y_pred = (y_pred > threshold).astype(int)"
   ]
  },
  {
   "cell_type": "markdown",
   "id": "5ce56898",
   "metadata": {
    "tags": []
   },
   "source": [
    "<div class=\"alert alert-block alert-info\">\n",
    "    <p>Now, we can get the metrics</p>\n",
    "</div>"
   ]
  },
  {
   "cell_type": "code",
   "execution_count": null,
   "id": "bd9f9bd4",
   "metadata": {
    "tags": []
   },
   "outputs": [],
   "source": [
    "precision = round(precision_score(y_test, y_pred), 3)\n",
    "roc_auc = round(roc_auc_score(y_test, y_prob), 3)\n",
    "recall = round(recall_score(y_test, y_pred), 3)\n",
    "f1 = round(f1_score(y_test, y_pred), 3)\n",
    "f2 = round(fbeta_score(y_test, y_pred, beta=2), 3)\n",
    "custom = round(custom_score(y_test, y_pred, threshold), 3)\n",
    "\n",
    "# Get the results\n",
    "print(\"Model's metrics\")\n",
    "print(\"- Precision:\\t\\t\", precision)\n",
    "print(\"- ROC-AUC:\\t\\t\", roc_auc)\n",
    "print(\"- Recall:\\t\\t\", recall)\n",
    "print(\"- F1:\\t\\t\\t\", f1)\n",
    "print(\"- F2:\\t\\t\\t\", f2)\n",
    "print(\"- Custom Score:\\t\\t\", custom)\n",
    "print(\"- Duration:\\t\\t\", round(search_rf.cv_results_[\"mean_score_time\"][0], 3), \" minutes\")"
   ]
  },
  {
   "cell_type": "markdown",
   "id": "1351ab47",
   "metadata": {
    "tags": []
   },
   "source": [
    "<div class=\"alert alert-block alert-info\">\n",
    "    <p>Plotting the Compute ROC curve</p>\n",
    "</div>"
   ]
  },
  {
   "cell_type": "code",
   "execution_count": null,
   "id": "c58ab2e3",
   "metadata": {},
   "outputs": [],
   "source": [
    "fpr = dict()\n",
    "tpr = dict()\n",
    "fpr[\"micro\"], tpr[\"micro\"], _ = roc_curve(y_test.ravel(), y_prob.ravel())\n",
    "\n",
    "plt.subplots(1, figsize=(6, 6))\n",
    "plt.title(\"Receiver Operating Characteristic\")\n",
    "plt.plot(fpr[\"micro\"], tpr[\"micro\"])\n",
    "plt.plot([0, 1], ls=\"--\")\n",
    "plt.plot([0, 0], [1, 0] , c=\".7\"), plt.plot([1, 1] , c=\".7\")\n",
    "plt.ylabel(\"True Positive Rate\")\n",
    "plt.xlabel(\"False Positive Rate\")\n",
    "plt.show()"
   ]
  },
  {
   "cell_type": "markdown",
   "id": "16d5e940",
   "metadata": {
    "tags": []
   },
   "source": [
    "<div class=\"alert alert-block alert-info\">\n",
    "    <p>Plotting the Precision-Recall curve</p>\n",
    "</div>"
   ]
  },
  {
   "cell_type": "code",
   "execution_count": null,
   "id": "7fbc0709",
   "metadata": {},
   "outputs": [],
   "source": [
    "display = PrecisionRecallDisplay.from_predictions(y_test.ravel(), y_prob.ravel(), name=\"RandomForestClassifier\")\n",
    "_ = display.ax_.set_title(\"2-class Precision-Recall curve\")"
   ]
  },
  {
   "cell_type": "markdown",
   "id": "da55dfd7",
   "metadata": {
    "tags": []
   },
   "source": [
    "<div class=\"alert alert-block alert-info\">\n",
    "    <p>Plotting the Confusion Matrix</p>\n",
    "</div>"
   ]
  },
  {
   "cell_type": "code",
   "execution_count": null,
   "id": "c2f3786e",
   "metadata": {},
   "outputs": [],
   "source": [
    "display = ConfusionMatrixDisplay.from_predictions(y_test, y_pred, display_labels=[\"Repaid\",\"No repaid\"])\n",
    "_ = display.ax_.set_title(\"Confusion matrix\")"
   ]
  },
  {
   "cell_type": "markdown",
   "id": "4415ddbe",
   "metadata": {
    "tags": []
   },
   "source": [
    "<div class=\"alert alert-block alert-info\">\n",
    "    <p>Adding metrics to compare with others models</p>\n",
    "</div>"
   ]
  },
  {
   "cell_type": "code",
   "execution_count": null,
   "id": "862549c7",
   "metadata": {},
   "outputs": [],
   "source": [
    "df_temp = pd.DataFrame({\n",
    "    \"Model\" : [\"Random Forest\"],\n",
    "    \"Precision\" : precision, \n",
    "    \"ROC-AUC\" : roc_auc,    \n",
    "    \"Recall\" : recall,\n",
    "    \"F1\" : f1,\n",
    "    \"F2\" : f2,\n",
    "    \"Custom\" : custom,\n",
    "    \"Duration\" : round(search_rf.cv_results_[\"mean_score_time\"][0], 3)\n",
    "})"
   ]
  },
  {
   "cell_type": "code",
   "execution_count": null,
   "id": "8896be15",
   "metadata": {},
   "outputs": [],
   "source": [
    "df_models_metrics = pd.concat([df_models_metrics, df_temp])\n",
    "df_models_metrics"
   ]
  },
  {
   "cell_type": "code",
   "execution_count": null,
   "id": "a7d38205",
   "metadata": {},
   "outputs": [],
   "source": []
  },
  {
   "cell_type": "markdown",
   "id": "31bbf44e",
   "metadata": {
    "tags": []
   },
   "source": [
    "<div class=\"alert alert-block alert-danger\">\n",
    "    <p>FLAG</p>\n",
    "</div>"
   ]
  },
  {
   "cell_type": "code",
   "execution_count": null,
   "id": "d3c5479f",
   "metadata": {},
   "outputs": [],
   "source": []
  },
  {
   "cell_type": "code",
   "execution_count": null,
   "id": "f61edcab",
   "metadata": {},
   "outputs": [],
   "source": []
  },
  {
   "cell_type": "code",
   "execution_count": null,
   "id": "d2bc2639",
   "metadata": {},
   "outputs": [],
   "source": []
  },
  {
   "cell_type": "markdown",
   "id": "57b7ade9",
   "metadata": {
    "tags": []
   },
   "source": [
    "<div class=\"alert alert-block alert-info\">\n",
    "    <p>We are going to face an <b>Unbalanced Classification Problem</b> and we are going to use three models</p>\n",
    "    <ul style=\"list-style-type: square;\">\n",
    "        <li>Random Forest Classifier</li>\n",
    "        <li>Support Vector Machine</li>\n",
    "        <li>LightGBM</li>\n",
    "    </ul>\n",
    "    <p>Also, we are going to use a Dummy Classifier and baseline to compare the models</p>\n",
    "    <p>First of all, we are going to find some parameters using a data subsample and HalvingGridSearchCV</p>\n",
    "    <p>Also, we are going to use a Threshold selection then a Custom score to penalize the Falses Positives</p>\n",
    "    <p>So, let's define the parameters to use throughout the three models</p>\n",
    "</div>"
   ]
  },
  {
   "cell_type": "code",
   "execution_count": null,
   "id": "76ea1f98",
   "metadata": {},
   "outputs": [],
   "source": []
  },
  {
   "cell_type": "code",
   "execution_count": null,
   "id": "64f1a163",
   "metadata": {},
   "outputs": [],
   "source": []
  },
  {
   "cell_type": "code",
   "execution_count": null,
   "id": "28bbc937",
   "metadata": {},
   "outputs": [],
   "source": []
  },
  {
   "cell_type": "markdown",
   "id": "85b60560",
   "metadata": {
    "tags": []
   },
   "source": [
    "<div class=\"alert alert-block alert-info\">\n",
    "    <p>Now, we are going to do a subsamble of the dataset to tune some parameters before the model execution\n",
    "   </p>\n",
    "</div>"
   ]
  },
  {
   "cell_type": "code",
   "execution_count": 13,
   "id": "c23bee1d",
   "metadata": {},
   "outputs": [],
   "source": [
    "df_subsample = df_current_clients.copy()"
   ]
  },
  {
   "cell_type": "code",
   "execution_count": 14,
   "id": "ae8b001e",
   "metadata": {},
   "outputs": [],
   "source": [
    "df_subsample = df_subsample.sample(frac=0.5)"
   ]
  },
  {
   "cell_type": "code",
   "execution_count": 15,
   "id": "b520622b",
   "metadata": {},
   "outputs": [
    {
     "data": {
      "image/png": "[encoded data removed]",
      "text/plain": [
       "<Figure size 648x360 with 2 Axes>"
      ]
     },
     "metadata": {
      "needs_background": "light"
     },
     "output_type": "display_data"
    }
   ],
   "source": [
    "barplot_and_pie(df_subsample[\"TARGET\"], \"Target distribution\", \" \")"
   ]
  },
  {
   "cell_type": "code",
   "execution_count": 16,
   "id": "2da3b5e9",
   "metadata": {},
   "outputs": [
    {
     "name": "stdout",
     "output_type": "stream",
     "text": [
      "\n",
      "Analysis Header of df dataset\n",
      "--------------------------------------------------------------------------------\n",
      "- Dataset shape:\t\t\t 153754 rows and 509 columns\n",
      "- Total of NaN values:\t\t\t 0\n",
      "- Percentage of NaN:\t\t\t 0.0 %\n",
      "- Total of infinite values:\t\t 0\n",
      "- Percentage of infinite values:\t 0.0 %\n",
      "- Total of full duplicates rows:\t 0\n",
      "- Total of empty rows:\t\t\t 0\n",
      "- Total of empty columns:\t\t 0\n",
      "- Unique indexes:\t\t\t True\n",
      "- Memory usage:\t\t\t\t 231.1 MB\n"
     ]
    }
   ],
   "source": [
    "df_analysis(df_subsample, \"df\", analysis_type=\"header\")"
   ]
  },
  {
   "cell_type": "markdown",
   "id": "63b00e1f",
   "metadata": {
    "tags": []
   },
   "source": [
    "<div class=\"alert alert-block alert-info\">\n",
    "    <p>Now, we are going to split the subsample of the data to tune the models\n",
    "   </p>\n",
    "</div>"
   ]
  },
  {
   "cell_type": "code",
   "execution_count": 22,
   "id": "bca41514",
   "metadata": {},
   "outputs": [],
   "source": [
    "X_ss = df_subsample[TRAINING_COLUMNS]"
   ]
  },
  {
   "cell_type": "code",
   "execution_count": 23,
   "id": "95346528",
   "metadata": {},
   "outputs": [],
   "source": [
    "y_target_ss = df_subsample.loc[:,\"TARGET\"]"
   ]
  },
  {
   "cell_type": "code",
   "execution_count": 24,
   "id": "9cb9c4e1",
   "metadata": {},
   "outputs": [],
   "source": [
    "X_train_ss, X_test_ss, y_train_ss, y_test_ss = train_test_split(X_ss, y_target_ss, test_size=0.20, stratify=y_target_ss, random_state=42)"
   ]
  },
  {
   "cell_type": "code",
   "execution_count": 25,
   "id": "54d18e44",
   "metadata": {},
   "outputs": [
    {
     "name": "stdout",
     "output_type": "stream",
     "text": [
      "X_train_ss: (123003, 506)\n",
      "y_train_ss: (123003,)\n",
      "---------------------\n",
      "X_test_ss: (30751, 506)\n",
      "y_test_ss: (30751,)\n"
     ]
    }
   ],
   "source": [
    "print(\"X_train_ss: {}\".format(X_train_ss.shape))\n",
    "print(\"y_train_ss: {}\".format(y_train_ss.shape))\n",
    "print(\"---------------------\")\n",
    "print(\"X_test_ss: {}\".format(X_test_ss.shape))\n",
    "print(\"y_test_ss: {}\".format(y_test_ss.shape))"
   ]
  },
  {
   "cell_type": "code",
   "execution_count": null,
   "id": "c49c7e30",
   "metadata": {},
   "outputs": [],
   "source": []
  },
  {
   "cell_type": "code",
   "execution_count": null,
   "id": "fa2aa36a",
   "metadata": {},
   "outputs": [],
   "source": []
  },
  {
   "cell_type": "code",
   "execution_count": null,
   "id": "bbeec599",
   "metadata": {},
   "outputs": [],
   "source": []
  },
  {
   "cell_type": "code",
   "execution_count": null,
   "id": "c5a974f8",
   "metadata": {},
   "outputs": [],
   "source": []
  },
  {
   "cell_type": "code",
   "execution_count": null,
   "id": "a4d342b3",
   "metadata": {},
   "outputs": [],
   "source": []
  },
  {
   "cell_type": "markdown",
   "id": "a25bba4d",
   "metadata": {
    "tags": []
   },
   "source": [
    "<div style=\"background-color: #506AB9;\" >\n",
    "    <h2 style=\"margin: auto; padding: 20px; color:#fff; \">6. Modelisation</h2>\n",
    "</div>"
   ]
  },
  {
   "cell_type": "markdown",
   "id": "62ebd22e",
   "metadata": {
    "tags": []
   },
   "source": [
    "<div class=\"alert alert-block alert-info\">\n",
    "    <p>We are going to face an <b>Unbalanced Classification Problem</b> and we are going to use three models</p>\n",
    "    <ul style=\"list-style-type: square;\">\n",
    "        <li>Random Forest Classifier</li>\n",
    "        <li>Support Vector Machine</li>\n",
    "        <li>LightGBM</li>\n",
    "    </ul>\n",
    "    <p>First of all, we are going to find some parameters using a data subsample and HalvingGridSearchCV</p>\n",
    "    <p>Also, we are going to use a Threshold selection then a Custom score to penalize the Falses Positives</p>\n",
    "    <p>So, let's define the parameters to use throughout the three models</p>\n",
    "</div>"
   ]
  },
  {
   "cell_type": "markdown",
   "id": "2be2d5a3",
   "metadata": {
    "tags": []
   },
   "source": [
    "<div class=\"alert alert-block alert-info\">\n",
    "    <p>To treat the unbalanced class, we are going t implement OverSampling technique with SMOTE.</p>\n",
    "</div>"
   ]
  },
  {
   "cell_type": "code",
   "execution_count": 26,
   "id": "639a78a5",
   "metadata": {},
   "outputs": [],
   "source": [
    "smote = SMOTE(random_state=42, n_jobs=-1)"
   ]
  },
  {
   "cell_type": "markdown",
   "id": "1b5c9165",
   "metadata": {
    "tags": []
   },
   "source": [
    "<div class=\"alert alert-block alert-info\">\n",
    "    <p>Also, we are going to use Stratified K-Folds cross-validator to ensure that each fold of dataset has the same proportion of observations with a given label.</p>\n",
    "</div>"
   ]
  },
  {
   "cell_type": "code",
   "execution_count": 27,
   "id": "4c35f0cd",
   "metadata": {},
   "outputs": [],
   "source": [
    "stratified_kfold = StratifiedKFold(n_splits=3, shuffle=True, random_state=42)"
   ]
  },
  {
   "cell_type": "markdown",
   "id": "f5b72caa",
   "metadata": {
    "tags": []
   },
   "source": [
    "<div class=\"alert alert-block alert-info\">\n",
    "    <p>Dataframe to compare metrics.</p>\n",
    "</div>"
   ]
  },
  {
   "cell_type": "code",
   "execution_count": 28,
   "id": "beae01f0",
   "metadata": {},
   "outputs": [],
   "source": [
    "df_models_metrics = pd.DataFrame({})"
   ]
  },
  {
   "cell_type": "markdown",
   "id": "f70b4568",
   "metadata": {
    "tags": []
   },
   "source": [
    "<div class=\"alert alert-block alert-danger\">\n",
    "    <p>FLAG</p>\n",
    "</div>"
   ]
  },
  {
   "cell_type": "markdown",
   "id": "65ea52ca",
   "metadata": {
    "tags": []
   },
   "source": [
    "<div style=\"background-color: #506AB9;\" >\n",
    "    <h3 style=\"margin: auto; padding: 20px; color:#fff; \">6.1. Baseline</h3>\n",
    "</div>"
   ]
  },
  {
   "cell_type": "code",
   "execution_count": null,
   "id": "1deb8347",
   "metadata": {},
   "outputs": [],
   "source": []
  },
  {
   "cell_type": "code",
   "execution_count": null,
   "id": "b7f5d2ab",
   "metadata": {},
   "outputs": [],
   "source": []
  },
  {
   "cell_type": "code",
   "execution_count": null,
   "id": "f8377728",
   "metadata": {},
   "outputs": [],
   "source": []
  },
  {
   "cell_type": "markdown",
   "id": "abe45d6c",
   "metadata": {
    "tags": []
   },
   "source": [
    "<div class=\"alert alert-block alert-danger\">\n",
    "    <p>FLAG</p>\n",
    "</div>"
   ]
  },
  {
   "cell_type": "markdown",
   "id": "dafa2e5e",
   "metadata": {
    "tags": []
   },
   "source": [
    "<div style=\"background-color: #506AB9;\" >\n",
    "    <h2 style=\"margin: auto; padding: 20px; color:#fff; \">6. Custom evaluations</h2>\n",
    "</div>"
   ]
  },
  {
   "cell_type": "markdown",
   "id": "b8848c39",
   "metadata": {
    "tags": []
   },
   "source": [
    "<div style=\"background-color: #506AB9;\" >\n",
    "    <h3 style=\"margin: auto; padding: 20px; color:#fff; \">6.1. Threshold selection</h3>\n",
    "</div>"
   ]
  },
  {
   "cell_type": "markdown",
   "id": "1e6a6586",
   "metadata": {
    "tags": []
   },
   "source": [
    "<div class=\"alert alert-block alert-info\">\n",
    "    <p>Based on the predictions, we are going to identify the best treshold to mesure our models.\n",
    "    </p>\n",
    "</div>"
   ]
  },
  {
   "cell_type": "code",
   "execution_count": 41,
   "id": "0f2bd447",
   "metadata": {},
   "outputs": [],
   "source": [
    "def threshold_selection(y_train, y_prob):\n",
    "    \"\"\"\n",
    "    Method used to calculate the threshold.\n",
    "\n",
    "    Parameters:\n",
    "    -----------------\n",
    "        df (pandas.DataFrame): Dataset to analyze\n",
    "        y_train (1d array-like): True values\n",
    "        y_prob (1d array-like): Probabilite values predicted\n",
    "        \n",
    "    Returns:\n",
    "    -----------------\n",
    "        threshold (float) : Best threshold value\n",
    "        Threshold (image) : Plot the threshold and the best score\n",
    "    \"\"\"\n",
    "    \n",
    "    scores = []\n",
    "    \n",
    "    for threshold in np.linspace(0, 1, num=101):\n",
    "        y_prob_value = (y_prob > threshold)*1\n",
    "        score = fbeta_score(y_train, y_prob_value, beta = 2)\n",
    "        scores.append(score) \n",
    "\n",
    "    scores = np.asarray(scores)\n",
    "    best_threshold, best_score = (scores.argmax()*.01, round(scores.max(),3))\n",
    "    \n",
    "    print(\"Best results\")\n",
    "    print(\"- Best Threshold:\\t\", best_threshold)\n",
    "    print(\"- Best Score:\\t\\t\", best_score)\n",
    "    print(\"\\n\")\n",
    "    \n",
    "    plt.subplots(1, figsize=(6, 5))\n",
    "    plt.plot(np.linspace(0, 1, num=101), scores, lw=1)\n",
    "    plt.axvline(best_threshold, ls=\"--\", lw=1, c=\"r\")\n",
    "    plt.title(\"Threshold\")\n",
    "    plt.xlabel(\"proba threshold\")\n",
    "    plt.ylabel(\"Score performed\")\n",
    "    plt.show()\n",
    "    \n",
    "    return best_threshold"
   ]
  },
  {
   "cell_type": "markdown",
   "id": "6e9a4a67",
   "metadata": {
    "tags": []
   },
   "source": [
    "<div style=\"background-color: #506AB9;\" >\n",
    "    <h3 style=\"margin: auto; padding: 20px; color:#fff; \">6.2. Custom Score</h3>\n",
    "</div>"
   ]
  },
  {
   "cell_type": "markdown",
   "id": "c402c47f",
   "metadata": {
    "tags": []
   },
   "source": [
    "<div class=\"alert alert-block alert-info\">\n",
    "    <p>We need to penalize the <b>False Negative</b> that are loands <b>will be in default</b>, and they were <b>predicted incorrectly</b>. Due to that, we are going to define a <b>Custom Score</b>.\n",
    "    </p>\n",
    "</div>"
   ]
  },
  {
   "cell_type": "code",
   "execution_count": 42,
   "id": "ba2aa46e",
   "metadata": {},
   "outputs": [],
   "source": [
    "def custom_score(y_true, y_pred, threshold):\n",
    "    \"\"\"\n",
    "    Method used to calculate a score based on the penalization of False Negatives.\n",
    "\n",
    "    Parameters:\n",
    "    -----------------\n",
    "        y_true (series): True values\n",
    "        y_pred (series): Predicted values\n",
    "        threshold (float): Threshold value to use\n",
    "        \n",
    "    Returns:\n",
    "    -----------------\n",
    "        Score. (float): Score obtained based on the rules defined to measure. \n",
    "    \"\"\"\n",
    "    \n",
    "    # Getting the probability outputs from \"predict_proba\"\n",
    "    y_pred = (y_pred > threshold).astype(int)\n",
    "    \n",
    "    TN_rate = 1        # Loans that are not in default and were predicted correctly\n",
    "    TP_rate = 1        # Loans that are in default and were predicted correctly\n",
    "    FP_rate = 0        # Loans that are not in default and were predicted incorrectly\n",
    "    FN_rate = -100      # Loans that are in default and were were predicted incorrectly\n",
    "    \n",
    "    # Getting all values based on confusion matrix\n",
    "    (TN, FP, FN, TP) = confusion_matrix(y_true, y_pred, labels=[0, 1]).ravel()\n",
    "\n",
    "    # Total of default and not default cases\n",
    "    total_not_default = TN + FP     # Not default cases\n",
    "    total_default = TP + FN         # Default cases \n",
    "    \n",
    "    gain_total = TN*TN_rate + TP*TP_rate + FP*FP_rate + FN*FN_rate\n",
    "    gain_maximun = total_not_default*TN_rate + total_default*TP_rate\n",
    "    gain_minumun = total_not_default*TN_rate + total_default*FN_rate\n",
    "    \n",
    "    # normalize to get score between 0 (baseline) and 1\n",
    "    score = (gain_total - gain_minumun) / (gain_maximun - gain_minumun)\n",
    "    \n",
    "    return score"
   ]
  },
  {
   "cell_type": "markdown",
   "id": "dba832a0",
   "metadata": {
    "tags": []
   },
   "source": [
    "<div class=\"alert alert-block alert-danger\">\n",
    "    <p>FLAG</p>\n",
    "</div>"
   ]
  },
  {
   "cell_type": "code",
   "execution_count": null,
   "id": "18508066",
   "metadata": {},
   "outputs": [],
   "source": []
  },
  {
   "cell_type": "code",
   "execution_count": null,
   "id": "efc54b2c",
   "metadata": {},
   "outputs": [],
   "source": []
  },
  {
   "cell_type": "code",
   "execution_count": null,
   "id": "0a5932af",
   "metadata": {},
   "outputs": [],
   "source": []
  },
  {
   "cell_type": "markdown",
   "id": "ecedd284",
   "metadata": {
    "tags": []
   },
   "source": [
    "<div class=\"alert alert-block alert-danger\">\n",
    "    <p>FLAG</p>\n",
    "</div>"
   ]
  },
  {
   "cell_type": "markdown",
   "id": "84a33302",
   "metadata": {
    "tags": []
   },
   "source": [
    "<div style=\"background-color: #506AB9;\" >\n",
    "    <h3 style=\"margin: auto; padding: 20px; color:#fff; \">6.2. Hyperparameters Tuning</h3>\n",
    "</div>"
   ]
  },
  {
   "cell_type": "markdown",
   "id": "d83566c3",
   "metadata": {
    "tags": []
   },
   "source": [
    "<div class=\"alert alert-block alert-info\">\n",
    "    <p>Let's find some parameters using a data subsample and HalvingGridSearchCV</p>\n",
    "</div>"
   ]
  },
  {
   "cell_type": "markdown",
   "id": "6646133c",
   "metadata": {
    "tags": []
   },
   "source": [
    "<div style=\"background-color: #506AB9;\" >\n",
    "    <h4 style=\"margin: auto; padding: 20px; color:#fff; \">6.2.1. Random Forest</h4>\n",
    "</div>"
   ]
  },
  {
   "cell_type": "markdown",
   "id": "18b8efcb",
   "metadata": {
    "tags": []
   },
   "source": [
    "<div class=\"alert alert-block alert-info\">\n",
    "    <p>Parameters settings</p>\n",
    "</div>"
   ]
  },
  {
   "cell_type": "code",
   "execution_count": 43,
   "id": "2949cae4",
   "metadata": {},
   "outputs": [],
   "source": [
    "param_grid = {\n",
    "    \"n_estimators\" : np.arange(500, 1000, 100),\n",
    "    \"max_depth\" : np.arange(20, 30, 2),\n",
    "}"
   ]
  },
  {
   "cell_type": "markdown",
   "id": "cc46e5d5",
   "metadata": {
    "tags": []
   },
   "source": [
    "<div class=\"alert alert-block alert-info\">\n",
    "    <p>Executing the model</p>\n",
    "</div>"
   ]
  },
  {
   "cell_type": "code",
   "execution_count": 44,
   "id": "db0ab8c3",
   "metadata": {},
   "outputs": [],
   "source": [
    "clf_rf = RandomForestClassifier(random_state=42)"
   ]
  },
  {
   "cell_type": "code",
   "execution_count": 45,
   "id": "593fd76f",
   "metadata": {},
   "outputs": [],
   "source": [
    "search_rf = HalvingGridSearchCV(clf_rf, param_grid, scoring=\"roc_auc\", cv=stratified_kfold, n_jobs=-1)"
   ]
  },
  {
   "cell_type": "code",
   "execution_count": 46,
   "id": "8ce70798",
   "metadata": {},
   "outputs": [
    {
     "data": {
      "text/plain": [
       "HalvingGridSearchCV(cv=StratifiedKFold(n_splits=3, random_state=42, shuffle=True),\n",
       "                    estimator=RandomForestClassifier(random_state=42),\n",
       "                    n_jobs=-1,\n",
       "                    param_grid={'max_depth': array([20, 22, 24, 26, 28]),\n",
       "                                'n_estimators': array([500, 600, 700, 800, 900])})"
      ]
     },
     "execution_count": 46,
     "metadata": {},
     "output_type": "execute_result"
    }
   ],
   "source": [
    "search_rf.fit(X_train, y_train)"
   ]
  },
  {
   "cell_type": "markdown",
   "id": "ca04291a",
   "metadata": {
    "tags": []
   },
   "source": [
    "<div class=\"alert alert-block alert-info\">\n",
    "    <p>ROC-AUC score</p>\n",
    "</div>"
   ]
  },
  {
   "cell_type": "code",
   "execution_count": 47,
   "id": "27826823",
   "metadata": {},
   "outputs": [
    {
     "data": {
      "text/plain": [
       "0.9192214824028683"
      ]
     },
     "execution_count": 47,
     "metadata": {},
     "output_type": "execute_result"
    }
   ],
   "source": [
    "search_rf.best_score_"
   ]
  },
  {
   "cell_type": "markdown",
   "id": "53bf9d1f",
   "metadata": {
    "tags": []
   },
   "source": [
    "<div class=\"alert alert-block alert-info\">\n",
    "    <p>The best parameters</p>\n",
    "</div>"
   ]
  },
  {
   "cell_type": "code",
   "execution_count": 48,
   "id": "4d5c5290",
   "metadata": {},
   "outputs": [
    {
     "data": {
      "text/plain": [
       "{'max_depth': 26, 'n_estimators': 500}"
      ]
     },
     "execution_count": 48,
     "metadata": {},
     "output_type": "execute_result"
    }
   ],
   "source": [
    "search_rf.best_params_"
   ]
  },
  {
   "cell_type": "markdown",
   "id": "c5acfaaa",
   "metadata": {
    "tags": []
   },
   "source": [
    "<div style=\"background-color: #506AB9;\" >\n",
    "    <h4 style=\"margin: auto; padding: 20px; color:#fff; \">6.2.2. LightGBM</h4>\n",
    "</div>"
   ]
  },
  {
   "cell_type": "markdown",
   "id": "272baeca",
   "metadata": {
    "tags": []
   },
   "source": [
    "<div class=\"alert alert-block alert-info\">\n",
    "    <p>Parameters settings</p>\n",
    "</div>"
   ]
  },
  {
   "cell_type": "code",
   "execution_count": 29,
   "id": "be8a7f3a",
   "metadata": {},
   "outputs": [],
   "source": [
    "param_grid = {\n",
    "    \"n_estimators\" : [8000, 10000],\n",
    "    \"num_leaves\" : [32, 34], \n",
    "    \"max_depth\" : [8, 9]\n",
    "}"
   ]
  },
  {
   "cell_type": "markdown",
   "id": "54cd2bcd",
   "metadata": {
    "tags": []
   },
   "source": [
    "<div class=\"alert alert-block alert-info\">\n",
    "    <p>Executing the model</p>\n",
    "</div>"
   ]
  },
  {
   "cell_type": "code",
   "execution_count": 30,
   "id": "5d11ad4d",
   "metadata": {},
   "outputs": [],
   "source": [
    "clf_lgbm = LGBMClassifier(random_state=42)"
   ]
  },
  {
   "cell_type": "code",
   "execution_count": 31,
   "id": "94c5b21f",
   "metadata": {},
   "outputs": [],
   "source": [
    "search_lgbm = HalvingGridSearchCV(clf_lgbm, param_grid, scoring=\"roc_auc\", cv=stratified_kfold, n_jobs=-1)"
   ]
  },
  {
   "cell_type": "code",
   "execution_count": 32,
   "id": "f74a6a41",
   "metadata": {},
   "outputs": [
    {
     "data": {
      "text/plain": [
       "HalvingGridSearchCV(cv=StratifiedKFold(n_splits=3, random_state=42, shuffle=True),\n",
       "                    estimator=LGBMClassifier(random_state=42), n_jobs=-1,\n",
       "                    param_grid={'max_depth': [8, 9],\n",
       "                                'n_estimators': [8000, 10000],\n",
       "                                'num_leaves': [32, 34]},\n",
       "                    scoring='roc_auc')"
      ]
     },
     "execution_count": 32,
     "metadata": {},
     "output_type": "execute_result"
    }
   ],
   "source": [
    "search_lgbm.fit(X_train, y_train)"
   ]
  },
  {
   "cell_type": "markdown",
   "id": "a9fba6b9",
   "metadata": {
    "tags": []
   },
   "source": [
    "<div class=\"alert alert-block alert-info\">\n",
    "    <p>ROC-AUC score</p>\n",
    "</div>"
   ]
  },
  {
   "cell_type": "code",
   "execution_count": 33,
   "id": "f7828ea7",
   "metadata": {},
   "outputs": [
    {
     "data": {
      "text/plain": [
       "0.7396840027850832"
      ]
     },
     "execution_count": 33,
     "metadata": {},
     "output_type": "execute_result"
    }
   ],
   "source": [
    "search_lgbm.best_score_"
   ]
  },
  {
   "cell_type": "markdown",
   "id": "3c1b5afd",
   "metadata": {
    "tags": []
   },
   "source": [
    "<div class=\"alert alert-block alert-info\">\n",
    "    <p>The best parameters</p>\n",
    "</div>"
   ]
  },
  {
   "cell_type": "code",
   "execution_count": 34,
   "id": "9772df20",
   "metadata": {},
   "outputs": [
    {
     "data": {
      "text/plain": [
       "{'max_depth': 9, 'n_estimators': 8000, 'num_leaves': 32}"
      ]
     },
     "execution_count": 34,
     "metadata": {},
     "output_type": "execute_result"
    }
   ],
   "source": [
    "search_lgbm.best_params_"
   ]
  },
  {
   "cell_type": "markdown",
   "id": "38a75b38",
   "metadata": {
    "tags": []
   },
   "source": [
    "<div style=\"background-color: #506AB9;\" >\n",
    "    <h4 style=\"margin: auto; padding: 20px; color:#fff; \">6.2.2. Gradient Boosting</h4>\n",
    "</div>"
   ]
  },
  {
   "cell_type": "markdown",
   "id": "15e01c71",
   "metadata": {
    "tags": []
   },
   "source": [
    "<div class=\"alert alert-block alert-info\">\n",
    "    <p>Parameters settings</p>\n",
    "</div>"
   ]
  },
  {
   "cell_type": "code",
   "execution_count": 35,
   "id": "d5fcf47e",
   "metadata": {},
   "outputs": [],
   "source": [
    "param_grid = {\n",
    "    \"n_estimators\" : np.arange(500, 1000, 100),\n",
    "    \"max_depth\" : np.arange(20, 30, 2),\n",
    "}"
   ]
  },
  {
   "cell_type": "markdown",
   "id": "31cbbebf",
   "metadata": {
    "tags": []
   },
   "source": [
    "<div class=\"alert alert-block alert-info\">\n",
    "    <p>Executing the model</p>\n",
    "</div>"
   ]
  },
  {
   "cell_type": "code",
   "execution_count": 36,
   "id": "86a0a0f9",
   "metadata": {},
   "outputs": [],
   "source": [
    "clf_gb = GradientBoostingClassifier(validation_fraction=0.2, \n",
    "                                    n_iter_no_change=5,\n",
    "                                    tol=0.01,\n",
    "                                    random_state=42)"
   ]
  },
  {
   "cell_type": "code",
   "execution_count": 37,
   "id": "5b37cb04",
   "metadata": {},
   "outputs": [],
   "source": [
    "search_gb = HalvingGridSearchCV(clf_gb, param_grid, scoring=\"roc_auc\", cv=stratified_kfold, n_jobs=-1)"
   ]
  },
  {
   "cell_type": "code",
   "execution_count": 38,
   "id": "90ea8558",
   "metadata": {},
   "outputs": [
    {
     "data": {
      "text/plain": [
       "HalvingGridSearchCV(cv=StratifiedKFold(n_splits=3, random_state=42, shuffle=True),\n",
       "                    estimator=GradientBoostingClassifier(n_iter_no_change=5,\n",
       "                                                         random_state=42,\n",
       "                                                         tol=0.01,\n",
       "                                                         validation_fraction=0.2),\n",
       "                    n_jobs=-1,\n",
       "                    param_grid={'max_depth': array([20, 22, 24, 26, 28]),\n",
       "                                'n_estimators': array([500, 600, 700, 800, 900])},\n",
       "                    scoring='roc_auc')"
      ]
     },
     "execution_count": 38,
     "metadata": {},
     "output_type": "execute_result"
    }
   ],
   "source": [
    "search_gb.fit(X_train, y_train)"
   ]
  },
  {
   "cell_type": "markdown",
   "id": "fc4ac638",
   "metadata": {
    "tags": []
   },
   "source": [
    "<div class=\"alert alert-block alert-info\">\n",
    "    <p>ROC-AUC score</p>\n",
    "</div>"
   ]
  },
  {
   "cell_type": "code",
   "execution_count": 39,
   "id": "d0dcdba9",
   "metadata": {},
   "outputs": [
    {
     "data": {
      "text/plain": [
       "0.6568425917657963"
      ]
     },
     "execution_count": 39,
     "metadata": {},
     "output_type": "execute_result"
    }
   ],
   "source": [
    "search_gb.best_score_"
   ]
  },
  {
   "cell_type": "markdown",
   "id": "263fb047",
   "metadata": {
    "tags": []
   },
   "source": [
    "<div class=\"alert alert-block alert-info\">\n",
    "    <p>The best parameters</p>\n",
    "</div>"
   ]
  },
  {
   "cell_type": "code",
   "execution_count": 40,
   "id": "e2d1f38a",
   "metadata": {},
   "outputs": [
    {
     "data": {
      "text/plain": [
       "{'max_depth': 20, 'n_estimators': 700}"
      ]
     },
     "execution_count": 40,
     "metadata": {},
     "output_type": "execute_result"
    }
   ],
   "source": [
    "search_gb.best_params_"
   ]
  },
  {
   "cell_type": "markdown",
   "id": "f899d42b",
   "metadata": {
    "tags": []
   },
   "source": [
    "<div style=\"background-color: #506AB9;\" >\n",
    "    <h3 style=\"margin: auto; padding: 20px; color:#fff; \">6.4. Using class_weight</h3>\n",
    "</div>"
   ]
  },
  {
   "cell_type": "markdown",
   "id": "b4f33ef3",
   "metadata": {
    "tags": []
   },
   "source": [
    "<div class=\"alert alert-block alert-danger\">\n",
    "    <p>FLAG</p>\n",
    "</div>"
   ]
  },
  {
   "cell_type": "code",
   "execution_count": null,
   "id": "76287cb3",
   "metadata": {},
   "outputs": [],
   "source": []
  },
  {
   "cell_type": "code",
   "execution_count": null,
   "id": "7f212461",
   "metadata": {},
   "outputs": [],
   "source": []
  },
  {
   "cell_type": "code",
   "execution_count": null,
   "id": "bbab366d",
   "metadata": {},
   "outputs": [],
   "source": []
  },
  {
   "cell_type": "code",
   "execution_count": null,
   "id": "dcebca1e",
   "metadata": {},
   "outputs": [],
   "source": []
  },
  {
   "cell_type": "code",
   "execution_count": null,
   "id": "bef1d367",
   "metadata": {},
   "outputs": [],
   "source": []
  },
  {
   "cell_type": "code",
   "execution_count": null,
   "id": "aa13247a",
   "metadata": {},
   "outputs": [],
   "source": []
  },
  {
   "cell_type": "markdown",
   "id": "e4d6a76f",
   "metadata": {
    "tags": []
   },
   "source": [
    "<div style=\"background-color: #506AB9;\" >\n",
    "    <h3 style=\"margin: auto; padding: 20px; color:#fff; \">6.4. Models</h3>\n",
    "</div>"
   ]
  },
  {
   "cell_type": "code",
   "execution_count": null,
   "id": "794b075e",
   "metadata": {},
   "outputs": [],
   "source": []
  },
  {
   "cell_type": "code",
   "execution_count": null,
   "id": "8b5df6f8",
   "metadata": {},
   "outputs": [],
   "source": []
  },
  {
   "cell_type": "markdown",
   "id": "d97b389f",
   "metadata": {
    "tags": []
   },
   "source": [
    "<div style=\"background-color: #506AB9;\" >\n",
    "    <h4 style=\"margin: auto; padding: 20px; color:#fff; \">6.4.1. Imbalanced dataset</h4>\n",
    "</div>"
   ]
  },
  {
   "cell_type": "markdown",
   "id": "4ac8b85f",
   "metadata": {
    "tags": []
   },
   "source": [
    "<div style=\"background-color: #506AB9;\" >\n",
    "    <h5 style=\"margin: auto; padding: 20px; color:#fff; \">6.4.1. Imbalanced dataset</h5>\n",
    "</div>"
   ]
  },
  {
   "cell_type": "code",
   "execution_count": 47,
   "id": "bc6fe509",
   "metadata": {},
   "outputs": [],
   "source": [
    "clf_dummy = DummyClassifier()"
   ]
  },
  {
   "cell_type": "code",
   "execution_count": 49,
   "id": "ae117e34",
   "metadata": {},
   "outputs": [],
   "source": [
    "roc_auc_score = cross_val_score(clf_dummy, X_train, y_train, cv=stratified_kfold, scoring=\"roc_auc\")"
   ]
  },
  {
   "cell_type": "code",
   "execution_count": 50,
   "id": "e96bc5eb",
   "metadata": {},
   "outputs": [
    {
     "data": {
      "text/plain": [
       "array([0.5, 0.5, 0.5])"
      ]
     },
     "execution_count": 50,
     "metadata": {},
     "output_type": "execute_result"
    }
   ],
   "source": [
    "roc_auc_score"
   ]
  },
  {
   "cell_type": "code",
   "execution_count": null,
   "id": "1eaf8ace",
   "metadata": {},
   "outputs": [],
   "source": []
  },
  {
   "cell_type": "markdown",
   "id": "c5495886",
   "metadata": {
    "tags": []
   },
   "source": [
    "<div class=\"alert alert-block alert-info\">\n",
    "    <p>Once, we have searched some parameters and define ours Threshold selection and Custom score, we are ready to execute ours models considering the OverSampling in the minority class</p>\n",
    "</div>"
   ]
  },
  {
   "cell_type": "markdown",
   "id": "5a1ea2bc",
   "metadata": {
    "tags": []
   },
   "source": [
    "<div style=\"background-color: #506AB9;\" >\n",
    "    <h4 style=\"margin: auto; padding: 20px; color:#fff; \">6.4.1. Random Forest</h4>\n",
    "</div>"
   ]
  },
  {
   "cell_type": "markdown",
   "id": "32cd267d",
   "metadata": {
    "tags": []
   },
   "source": [
    "<div class=\"alert alert-block alert-info\">\n",
    "    <p>Let's define the pipeline to put inside it the defined SMOTE</p>\n",
    "</div>"
   ]
  },
  {
   "cell_type": "code",
   "execution_count": 31,
   "id": "0fe46fcb",
   "metadata": {},
   "outputs": [],
   "source": [
    "clf_rf = imbpipeline(steps = [[\"Smote\", smote],\n",
    "                              [\"Random_Forest\", RandomForestClassifier(**search_lgbm.best_params_,\n",
    "                                                                       random_state=42,\n",
    "                                                                       n_jobs=-1)]\n",
    "                          ]\n",
    "                 )"
   ]
  },
  {
   "cell_type": "markdown",
   "id": "aed2102f",
   "metadata": {
    "tags": []
   },
   "source": [
    "<div class=\"alert alert-block alert-info\">\n",
    "    <p>Executing the model with the complete dataset after making the OverSampling</p>\n",
    "</div>"
   ]
  },
  {
   "cell_type": "code",
   "execution_count": null,
   "id": "609ca91b",
   "metadata": {},
   "outputs": [],
   "source": [
    "clf_rf.fit(X_train, y_train)"
   ]
  },
  {
   "cell_type": "markdown",
   "id": "6d4791e8",
   "metadata": {
    "tags": []
   },
   "source": [
    "<div class=\"alert alert-block alert-info\">\n",
    "    <p>Making predictions and probabilities based on the best results for the model</p>\n",
    "</div>"
   ]
  },
  {
   "cell_type": "code",
   "execution_count": null,
   "id": "2dea8767",
   "metadata": {
    "tags": []
   },
   "outputs": [],
   "source": [
    "y_pred = clf_rf.predict(X_test)\n",
    "y_prob = clf_rf.predict_proba(X_test)\n",
    "y_prob = y_prob[:, 1]"
   ]
  },
  {
   "cell_type": "markdown",
   "id": "968780e0",
   "metadata": {
    "tags": []
   },
   "source": [
    "<div class=\"alert alert-block alert-info\">\n",
    "    <p>Let's selet the threshold based on the best parameters</p>\n",
    "</div>"
   ]
  },
  {
   "cell_type": "code",
   "execution_count": null,
   "id": "a777e743",
   "metadata": {},
   "outputs": [],
   "source": [
    "threshold = threshold_selection(y_test, y_prob)"
   ]
  },
  {
   "cell_type": "markdown",
   "id": "b9644593",
   "metadata": {
    "tags": []
   },
   "source": [
    "<div class=\"alert alert-block alert-info\">\n",
    "    <p>Getting the probability outputs from \"predict_proba\" based on the threshold</p>\n",
    "</div>"
   ]
  },
  {
   "cell_type": "code",
   "execution_count": null,
   "id": "872591a7",
   "metadata": {},
   "outputs": [],
   "source": [
    "y_pred = (y_pred > threshold).astype(int)"
   ]
  },
  {
   "cell_type": "markdown",
   "id": "0291c169",
   "metadata": {
    "tags": []
   },
   "source": [
    "<div class=\"alert alert-block alert-info\">\n",
    "    <p>Now, we can get the metrics</p>\n",
    "</div>"
   ]
  },
  {
   "cell_type": "code",
   "execution_count": null,
   "id": "40ae7068",
   "metadata": {
    "tags": []
   },
   "outputs": [],
   "source": [
    "precision = round(precision_score(y_test, y_pred), 3)\n",
    "roc_auc = round(roc_auc_score(y_test, y_prob), 3)\n",
    "recall = round(recall_score(y_test, y_pred), 3)\n",
    "f1 = round(f1_score(y_test, y_pred), 3)\n",
    "f2 = round(fbeta_score(y_test, y_pred, beta=2), 3)\n",
    "custom = round(custom_score(y_test, y_pred, threshold), 3)\n",
    "\n",
    "# Get the results\n",
    "print(\"Model's metrics\")\n",
    "print(\"- Precision:\\t\\t\", precision)\n",
    "print(\"- ROC-AUC:\\t\\t\", roc_auc)\n",
    "print(\"- Recall:\\t\\t\", recall)\n",
    "print(\"- F1:\\t\\t\\t\", f1)\n",
    "print(\"- F2:\\t\\t\\t\", f2)\n",
    "print(\"- Custom Score:\\t\\t\", custom)\n",
    "print(\"- Duration:\\t\\t\", round(search_rf.cv_results_[\"mean_score_time\"][0], 3), \" minutes\")"
   ]
  },
  {
   "cell_type": "markdown",
   "id": "db3d7e93",
   "metadata": {
    "tags": []
   },
   "source": [
    "<div class=\"alert alert-block alert-info\">\n",
    "    <p>Plotting the Compute ROC curve</p>\n",
    "</div>"
   ]
  },
  {
   "cell_type": "code",
   "execution_count": null,
   "id": "ba8d050f",
   "metadata": {},
   "outputs": [],
   "source": [
    "fpr = dict()\n",
    "tpr = dict()\n",
    "fpr[\"micro\"], tpr[\"micro\"], _ = roc_curve(y_test.ravel(), y_prob.ravel())\n",
    "\n",
    "plt.subplots(1, figsize=(6, 6))\n",
    "plt.title(\"Receiver Operating Characteristic\")\n",
    "plt.plot(fpr[\"micro\"], tpr[\"micro\"])\n",
    "plt.plot([0, 1], ls=\"--\")\n",
    "plt.plot([0, 0], [1, 0] , c=\".7\"), plt.plot([1, 1] , c=\".7\")\n",
    "plt.ylabel(\"True Positive Rate\")\n",
    "plt.xlabel(\"False Positive Rate\")\n",
    "plt.show()"
   ]
  },
  {
   "cell_type": "markdown",
   "id": "86903be2",
   "metadata": {
    "tags": []
   },
   "source": [
    "<div class=\"alert alert-block alert-info\">\n",
    "    <p>Plotting the Precision-Recall curve</p>\n",
    "</div>"
   ]
  },
  {
   "cell_type": "code",
   "execution_count": null,
   "id": "0d31c6b1",
   "metadata": {},
   "outputs": [],
   "source": [
    "display = PrecisionRecallDisplay.from_predictions(y_test.ravel(), y_prob.ravel(), name=\"RandomForestClassifier\")\n",
    "_ = display.ax_.set_title(\"2-class Precision-Recall curve\")"
   ]
  },
  {
   "cell_type": "markdown",
   "id": "2fdacfba",
   "metadata": {
    "tags": []
   },
   "source": [
    "<div class=\"alert alert-block alert-info\">\n",
    "    <p>Plotting the Confusion Matrix</p>\n",
    "</div>"
   ]
  },
  {
   "cell_type": "code",
   "execution_count": null,
   "id": "c75d0e5a",
   "metadata": {},
   "outputs": [],
   "source": [
    "display = ConfusionMatrixDisplay.from_predictions(y_test, y_pred, display_labels=[\"Repaid\",\"No repaid\"])\n",
    "_ = display.ax_.set_title(\"Confusion matrix\")"
   ]
  },
  {
   "cell_type": "markdown",
   "id": "2c29b200",
   "metadata": {
    "tags": []
   },
   "source": [
    "<div class=\"alert alert-block alert-info\">\n",
    "    <p>Adding metrics to compare with others models</p>\n",
    "</div>"
   ]
  },
  {
   "cell_type": "code",
   "execution_count": null,
   "id": "9950d48b",
   "metadata": {},
   "outputs": [],
   "source": [
    "df_temp = pd.DataFrame({\n",
    "    \"Model\" : [\"Random Forest\"],\n",
    "    \"Precision\" : precision, \n",
    "    \"ROC-AUC\" : roc_auc,    \n",
    "    \"Recall\" : recall,\n",
    "    \"F1\" : f1,\n",
    "    \"F2\" : f2,\n",
    "    \"Custom\" : custom,\n",
    "    \"Duration\" : round(search_rf.cv_results_[\"mean_score_time\"][0], 3)\n",
    "})"
   ]
  },
  {
   "cell_type": "code",
   "execution_count": null,
   "id": "848dd879",
   "metadata": {},
   "outputs": [],
   "source": [
    "df_models_metrics = pd.concat([df_models_metrics, df_temp])\n",
    "df_models_metrics"
   ]
  },
  {
   "cell_type": "code",
   "execution_count": null,
   "id": "d2f67406",
   "metadata": {},
   "outputs": [],
   "source": [
    "ZZZZZZZZZZZZZZZZZZZZ"
   ]
  },
  {
   "cell_type": "markdown",
   "id": "e01afc7d",
   "metadata": {
    "tags": []
   },
   "source": [
    "<div style=\"background-color: red;\" >\n",
    "    <h2 style=\"margin: auto; padding: 20px; color:#fff; \">----------- FLAG -----------</h2>\n",
    "</div>"
   ]
  },
  {
   "cell_type": "code",
   "execution_count": null,
   "id": "22c50a25",
   "metadata": {},
   "outputs": [],
   "source": []
  },
  {
   "cell_type": "code",
   "execution_count": null,
   "id": "9cba4db3",
   "metadata": {},
   "outputs": [],
   "source": []
  },
  {
   "cell_type": "code",
   "execution_count": null,
   "id": "fa689a6e",
   "metadata": {},
   "outputs": [],
   "source": []
  },
  {
   "cell_type": "code",
   "execution_count": null,
   "id": "82121d62",
   "metadata": {},
   "outputs": [],
   "source": []
  },
  {
   "cell_type": "code",
   "execution_count": null,
   "id": "f73c93cc",
   "metadata": {},
   "outputs": [],
   "source": []
  },
  {
   "cell_type": "markdown",
   "id": "8eef60d0",
   "metadata": {
    "tags": []
   },
   "source": [
    "<div class=\"alert alert-block alert-info\">\n",
    "    <p>Parameters settings</p>\n",
    "</div>"
   ]
  },
  {
   "cell_type": "code",
   "execution_count": null,
   "id": "252c82ac",
   "metadata": {},
   "outputs": [],
   "source": [
    "param_grid = {\n",
    "    \"Random_Forest__n_estimators\" : [1000], # 3000, 4000\n",
    "    \"Random_Forest__max_depth\" : [45],#, 48 23, 24, 27\n",
    "}"
   ]
  },
  {
   "cell_type": "markdown",
   "id": "919f93fb",
   "metadata": {},
   "source": [
    "param_grid = {\n",
    "    \"Random_Forest__n_estimators\" : [400, 450, 500, 2000, 3000, 4000],\n",
    "    \"Random_Forest__max_depth\" : [23, 24, 27, 45, 48, 50],\n",
    "}"
   ]
  },
  {
   "cell_type": "markdown",
   "id": "dc801e9a",
   "metadata": {
    "tags": []
   },
   "source": [
    "<div class=\"alert alert-block alert-info\">\n",
    "    <p>Executing the model</p>\n",
    "</div>"
   ]
  },
  {
   "cell_type": "code",
   "execution_count": 30,
   "id": "9bf916bf",
   "metadata": {},
   "outputs": [],
   "source": [
    "search_rf = GridSearchCV(estimator=clf_rf,\n",
    "                         param_grid=param_grid,\n",
    "                         scoring=\"roc_auc\",\n",
    "                         cv=stratified_kfold,\n",
    "                         return_train_score=True)"
   ]
  },
  {
   "cell_type": "code",
   "execution_count": null,
   "id": "0abaddfa",
   "metadata": {},
   "outputs": [],
   "source": [
    "search_rf.fit(X_train, y_train)"
   ]
  },
  {
   "cell_type": "markdown",
   "id": "407ae7fb",
   "metadata": {
    "tags": []
   },
   "source": [
    "<div class=\"alert alert-block alert-info\">\n",
    "    <p>The best parameters</p>\n",
    "</div>"
   ]
  },
  {
   "cell_type": "code",
   "execution_count": null,
   "id": "a816cbdf",
   "metadata": {},
   "outputs": [],
   "source": [
    "search_rf.best_params_"
   ]
  },
  {
   "cell_type": "markdown",
   "id": "09bea377",
   "metadata": {
    "tags": []
   },
   "source": [
    "<div class=\"alert alert-block alert-info\">\n",
    "    <p>Making predictions and probabilities based on the best results for the model</p>\n",
    "</div>"
   ]
  },
  {
   "cell_type": "code",
   "execution_count": null,
   "id": "8a12c3ce",
   "metadata": {},
   "outputs": [],
   "source": [
    "model_rf = search_rf.best_estimator_"
   ]
  },
  {
   "cell_type": "code",
   "execution_count": null,
   "id": "fe975548",
   "metadata": {
    "tags": []
   },
   "outputs": [],
   "source": [
    "y_pred = model_rf.predict(X_test)\n",
    "y_prob = model_rf.predict_proba(X_test)\n",
    "y_prob = y_prob[:, 1]"
   ]
  },
  {
   "cell_type": "markdown",
   "id": "e7bea1a4",
   "metadata": {
    "tags": []
   },
   "source": [
    "<div class=\"alert alert-block alert-info\">\n",
    "    <p>Let's selet the threshold based on the best parameters</p>\n",
    "</div>"
   ]
  },
  {
   "cell_type": "code",
   "execution_count": null,
   "id": "eadbae2a",
   "metadata": {},
   "outputs": [],
   "source": [
    "threshold = threshold_selection(y_test, y_prob)"
   ]
  },
  {
   "cell_type": "markdown",
   "id": "4dad6571",
   "metadata": {
    "tags": []
   },
   "source": [
    "<div class=\"alert alert-block alert-info\">\n",
    "    <p>Getting the probability outputs from \"predict_proba\" based on the threshold</p>\n",
    "</div>"
   ]
  },
  {
   "cell_type": "code",
   "execution_count": null,
   "id": "f2987eea",
   "metadata": {},
   "outputs": [],
   "source": [
    "y_pred = (y_pred > threshold).astype(int)"
   ]
  },
  {
   "cell_type": "markdown",
   "id": "b9a5c489",
   "metadata": {
    "tags": []
   },
   "source": [
    "<div class=\"alert alert-block alert-info\">\n",
    "    <p>Now, we can get the metrics</p>\n",
    "</div>"
   ]
  },
  {
   "cell_type": "code",
   "execution_count": null,
   "id": "a479ffbe",
   "metadata": {
    "tags": []
   },
   "outputs": [],
   "source": [
    "precision = round(precision_score(y_test, y_pred), 3)\n",
    "roc_auc = round(roc_auc_score(y_test, y_prob), 3)\n",
    "recall = round(recall_score(y_test, y_pred), 3)\n",
    "f1 = round(f1_score(y_test, y_pred), 3)\n",
    "f2 = round(fbeta_score(y_test, y_pred, beta=2), 3)\n",
    "custom = round(custom_score(y_test, y_pred, threshold), 3)\n",
    "\n",
    "# Get the results\n",
    "print(\"Model's metrics\")\n",
    "print(\"- Precision:\\t\\t\", precision)\n",
    "print(\"- ROC-AUC:\\t\\t\", roc_auc)\n",
    "print(\"- Recall:\\t\\t\", recall)\n",
    "print(\"- F1:\\t\\t\\t\", f1)\n",
    "print(\"- F2:\\t\\t\\t\", f2)\n",
    "print(\"- Custom Score:\\t\\t\", custom)\n",
    "print(\"- Duration:\\t\\t\", round(search_rf.cv_results_[\"mean_score_time\"][0], 3), \" minutes\")"
   ]
  },
  {
   "cell_type": "markdown",
   "id": "a1948dc3",
   "metadata": {
    "tags": []
   },
   "source": [
    "<div class=\"alert alert-block alert-danger\">\n",
    "    <p><b>Observations / Conclusions</b></p>\n",
    "    <ul style=\"list-style-type: square;\">\n",
    "        <li>XXXXXXXXXXXXXXXXXXXXXXXX</li>\n",
    "    </ul> \n",
    "</div>"
   ]
  },
  {
   "cell_type": "markdown",
   "id": "18fa9f97",
   "metadata": {
    "tags": []
   },
   "source": [
    "<div class=\"alert alert-block alert-info\">\n",
    "    <p>Plotting the Compute ROC curve and ROC area for each class</p>\n",
    "</div>"
   ]
  },
  {
   "cell_type": "code",
   "execution_count": null,
   "id": "8fbf5c37",
   "metadata": {},
   "outputs": [],
   "source": [
    "fpr = dict()\n",
    "tpr = dict()\n",
    "fpr[\"micro\"], tpr[\"micro\"], _ = roc_curve(y_test.ravel(), y_prob.ravel())\n",
    "\n",
    "plt.subplots(1, figsize=(6, 6))\n",
    "plt.title(\"Receiver Operating Characteristic\")\n",
    "plt.plot(fpr[\"micro\"], tpr[\"micro\"])\n",
    "plt.plot([0, 1], ls=\"--\")\n",
    "plt.plot([0, 0], [1, 0] , c=\".7\"), plt.plot([1, 1] , c=\".7\")\n",
    "plt.ylabel(\"True Positive Rate\")\n",
    "plt.xlabel(\"False Positive Rate\")\n",
    "plt.show()"
   ]
  },
  {
   "cell_type": "markdown",
   "id": "4e8d729a",
   "metadata": {
    "tags": []
   },
   "source": [
    "<div class=\"alert alert-block alert-info\">\n",
    "    <p>Plotting the Precision-Recall curve</p>\n",
    "</div>"
   ]
  },
  {
   "cell_type": "code",
   "execution_count": null,
   "id": "fb4abff7",
   "metadata": {},
   "outputs": [],
   "source": [
    "display = PrecisionRecallDisplay.from_predictions(y_test.ravel(), y_prob.ravel(), name=\"RandomForestClassifier\")\n",
    "_ = display.ax_.set_title(\"2-class Precision-Recall curve\")"
   ]
  },
  {
   "cell_type": "markdown",
   "id": "94b61e1e",
   "metadata": {
    "tags": []
   },
   "source": [
    "<div class=\"alert alert-block alert-info\">\n",
    "    <p>Plotting the Confusion Matrix</p>\n",
    "</div>"
   ]
  },
  {
   "cell_type": "code",
   "execution_count": null,
   "id": "875486cf",
   "metadata": {},
   "outputs": [],
   "source": [
    "display = ConfusionMatrixDisplay.from_predictions(y_test, y_pred, display_labels=[\"Repaid\",\"No repaid\"])\n",
    "_ = display.ax_.set_title(\"Confusion matrix\")"
   ]
  },
  {
   "cell_type": "markdown",
   "id": "ae17fb61",
   "metadata": {
    "tags": []
   },
   "source": [
    "<div class=\"alert alert-block alert-info\">\n",
    "    <p>Adding metrics to compare with others models</p>\n",
    "</div>"
   ]
  },
  {
   "cell_type": "code",
   "execution_count": null,
   "id": "fb5eae51",
   "metadata": {},
   "outputs": [],
   "source": [
    "df_temp = pd.DataFrame({\n",
    "    \"Model\" : [\"Random Forest\"],\n",
    "    \"Precision\" : precision, \n",
    "    \"ROC-AUC\" : roc_auc,    \n",
    "    \"Recall\" : recall,\n",
    "    \"F1\" : f1,\n",
    "    \"F2\" : f2,\n",
    "    \"Custom\" : custom,\n",
    "    \"Duration\" : round(search_rf.cv_results_[\"mean_score_time\"][0], 3)\n",
    "})"
   ]
  },
  {
   "cell_type": "code",
   "execution_count": null,
   "id": "7287daf0",
   "metadata": {},
   "outputs": [],
   "source": [
    "df_models_metrics = pd.concat([df_models_metrics, df_temp])\n",
    "df_models_metrics"
   ]
  },
  {
   "cell_type": "code",
   "execution_count": null,
   "id": "27886c3e",
   "metadata": {},
   "outputs": [],
   "source": [
    "df_models_metrics = pd.concat([df_models_metrics, df_temp])\n",
    "df_models_metrics"
   ]
  },
  {
   "cell_type": "code",
   "execution_count": null,
   "id": "97c12c90",
   "metadata": {},
   "outputs": [],
   "source": [
    "x"
   ]
  },
  {
   "cell_type": "markdown",
   "id": "417e80ac",
   "metadata": {
    "tags": []
   },
   "source": [
    "<div style=\"background-color: #506AB9;\" >\n",
    "    <h4 style=\"margin: auto; padding: 20px; color:#fff; \">6.2.2. One-Class SVM</h4>\n",
    "</div>"
   ]
  },
  {
   "cell_type": "markdown",
   "id": "9c19ef92",
   "metadata": {
    "tags": []
   },
   "source": [
    "<div class=\"alert alert-block alert-info\">\n",
    "    <p>Let's define the pipeline to put inside it the defined SMOTE</p>\n",
    "</div>"
   ]
  },
  {
   "cell_type": "code",
   "execution_count": null,
   "id": "d0ac710c",
   "metadata": {},
   "outputs": [],
   "source": [
    "clf_ocsvm = imbpipeline(steps = [[\"Smote\", smote],\n",
    "                              [\"OneClassSVM\", OneClassSVM()]\n",
    "                          ]\n",
    "                 )"
   ]
  },
  {
   "cell_type": "markdown",
   "id": "70e9e040",
   "metadata": {
    "tags": []
   },
   "source": [
    "<div class=\"alert alert-block alert-info\">\n",
    "    <p>Parameters settings</p>\n",
    "</div>"
   ]
  },
  {
   "cell_type": "code",
   "execution_count": null,
   "id": "6202440a",
   "metadata": {},
   "outputs": [],
   "source": [
    "param_grid = {\n",
    "    \"OneClassSVM__gamma\" : [\"scale\", \"auto\"],\n",
    "    \"OneClassSVM__nu\" : [0.4, 0.5, 0.6]\n",
    "}"
   ]
  },
  {
   "cell_type": "markdown",
   "id": "30f26b81",
   "metadata": {
    "tags": []
   },
   "source": [
    "<div class=\"alert alert-block alert-info\">\n",
    "    <p>Executing the model</p>\n",
    "</div>"
   ]
  },
  {
   "cell_type": "code",
   "execution_count": null,
   "id": "35d997d4",
   "metadata": {},
   "outputs": [],
   "source": [
    "search_ocsvm = GridSearchCV(estimator=clf_ocsvm,\n",
    "                           param_grid=param_grid,\n",
    "                           scoring=\"roc_auc\",\n",
    "                           cv=stratified_kfold,\n",
    "                           n_jobs=-1,\n",
    "                           return_train_score=True)"
   ]
  },
  {
   "cell_type": "code",
   "execution_count": null,
   "id": "677893af",
   "metadata": {},
   "outputs": [],
   "source": [
    "search_ocsvm.fit(X_train, y_train)"
   ]
  },
  {
   "cell_type": "markdown",
   "id": "23706911",
   "metadata": {
    "tags": []
   },
   "source": [
    "<div class=\"alert alert-block alert-info\">\n",
    "    <p>Making predictions and probabilities based on the best results for the model</p>\n",
    "</div>"
   ]
  },
  {
   "cell_type": "code",
   "execution_count": null,
   "id": "96603cd3",
   "metadata": {},
   "outputs": [],
   "source": [
    "model_ocsvm = search_ocsvm.best_estimator_"
   ]
  },
  {
   "cell_type": "code",
   "execution_count": null,
   "id": "1f6a898e",
   "metadata": {
    "tags": []
   },
   "outputs": [],
   "source": [
    "y_pred = model_ocsvm.predict(X_test)\n",
    "y_prob = model_ocsvm.predict_proba(X_test)\n",
    "y_prob = y_prob[:, 1]"
   ]
  },
  {
   "cell_type": "markdown",
   "id": "a57786dd",
   "metadata": {
    "tags": []
   },
   "source": [
    "<div class=\"alert alert-block alert-info\">\n",
    "    <p>Let's selet the threshold based on the best parameters</p>\n",
    "</div>"
   ]
  },
  {
   "cell_type": "code",
   "execution_count": null,
   "id": "5cf84ebf",
   "metadata": {},
   "outputs": [],
   "source": [
    "threshold = threshold_selection(y_test, y_prob)"
   ]
  },
  {
   "cell_type": "markdown",
   "id": "d8afb99f",
   "metadata": {
    "tags": []
   },
   "source": [
    "<div class=\"alert alert-block alert-info\">\n",
    "    <p>Getting the probability outputs from \"predict_proba\" based on the threshold</p>\n",
    "</div>"
   ]
  },
  {
   "cell_type": "code",
   "execution_count": null,
   "id": "015eb44b",
   "metadata": {},
   "outputs": [],
   "source": [
    "y_pred = (y_pred > threshold).astype(int)"
   ]
  },
  {
   "cell_type": "markdown",
   "id": "be9d76cf",
   "metadata": {
    "tags": []
   },
   "source": [
    "<div class=\"alert alert-block alert-info\">\n",
    "    <p>Now, we can get the metrics</p>\n",
    "</div>"
   ]
  },
  {
   "cell_type": "code",
   "execution_count": null,
   "id": "00133a2b",
   "metadata": {
    "tags": []
   },
   "outputs": [],
   "source": [
    "precision = round(precision_score(y_test, y_pred), 3)\n",
    "roc_auc = round(roc_auc_score(y_test, y_prob), 3)\n",
    "recall = round(recall_score(y_test, y_pred), 3)\n",
    "f1 = round(f1_score(y_test, y_pred), 3)\n",
    "f2 = round(fbeta_score(y_test, y_pred, beta=2), 3)\n",
    "custom = round(custom_score(y_test, y_pred, threshold), 3)\n",
    "\n",
    "# Get the results\n",
    "print(\"Model's metrics\")\n",
    "print(\"- Precision:\\t\\t\", precision)\n",
    "print(\"- ROC-AUC:\\t\\t\", roc_auc)\n",
    "print(\"- Recall:\\t\\t\", recall)\n",
    "print(\"- F1:\\t\\t\\t\", f1)\n",
    "print(\"- F2:\\t\\t\\t\", f2)\n",
    "print(\"- Custom Score:\\t\\t\", custom)\n",
    "print(\"- Duration:\\t\\t\", round(search_lgbm.cv_results_[\"mean_score_time\"][0], 3), \" minutes\")"
   ]
  },
  {
   "cell_type": "markdown",
   "id": "c7e9a04e",
   "metadata": {
    "tags": []
   },
   "source": [
    "<div class=\"alert alert-block alert-danger\">\n",
    "    <p><b>Observations / Conclusions</b></p>\n",
    "    <ul style=\"list-style-type: square;\">\n",
    "        <li>XXXXXXXXXXXXXXXXXXXXXXXX</li>\n",
    "    </ul> \n",
    "</div>"
   ]
  },
  {
   "cell_type": "markdown",
   "id": "78b787a4",
   "metadata": {
    "tags": []
   },
   "source": [
    "<div class=\"alert alert-block alert-info\">\n",
    "    <p>Plotting the Compute ROC curve and ROC area for each class</p>\n",
    "</div>"
   ]
  },
  {
   "cell_type": "code",
   "execution_count": null,
   "id": "91d9dfcf",
   "metadata": {},
   "outputs": [],
   "source": [
    "fpr = dict()\n",
    "tpr = dict()\n",
    "fpr[\"micro\"], tpr[\"micro\"], _ = roc_curve(y_test.ravel(), y_prob.ravel())\n",
    "\n",
    "plt.subplots(1, figsize=(6, 6))\n",
    "plt.title(\"Receiver Operating Characteristic\")\n",
    "plt.plot(fpr[\"micro\"], tpr[\"micro\"])\n",
    "plt.plot([0, 1], ls=\"--\")\n",
    "plt.plot([0, 0], [1, 0] , c=\".7\"), plt.plot([1, 1] , c=\".7\")\n",
    "plt.ylabel(\"True Positive Rate\")\n",
    "plt.xlabel(\"False Positive Rate\")\n",
    "plt.show()"
   ]
  },
  {
   "cell_type": "markdown",
   "id": "bc1facc4",
   "metadata": {
    "tags": []
   },
   "source": [
    "<div class=\"alert alert-block alert-info\">\n",
    "    <p>Plotting the Precision-Recall curve</p>\n",
    "</div>"
   ]
  },
  {
   "cell_type": "code",
   "execution_count": null,
   "id": "751d99a1",
   "metadata": {},
   "outputs": [],
   "source": [
    "display = PrecisionRecallDisplay.from_predictions(y_test.ravel(), y_prob.ravel(), name=\"LGBMClassifier\")\n",
    "_ = display.ax_.set_title(\"2-class Precision-Recall curve\")"
   ]
  },
  {
   "cell_type": "markdown",
   "id": "642560bd",
   "metadata": {
    "tags": []
   },
   "source": [
    "<div class=\"alert alert-block alert-info\">\n",
    "    <p>Plotting the Confusion Matrix</p>\n",
    "</div>"
   ]
  },
  {
   "cell_type": "code",
   "execution_count": null,
   "id": "e2b3f582",
   "metadata": {},
   "outputs": [],
   "source": [
    "display = ConfusionMatrixDisplay.from_predictions(y_test, y_pred, display_labels=[\"Repaid\",\"No repaid\"])\n",
    "_ = display.ax_.set_title(\"Confusion matrix\")"
   ]
  },
  {
   "cell_type": "markdown",
   "id": "fe32f79b",
   "metadata": {
    "tags": []
   },
   "source": [
    "<div class=\"alert alert-block alert-info\">\n",
    "    <p>Adding metrics to compare with others models</p>\n",
    "</div>"
   ]
  },
  {
   "cell_type": "code",
   "execution_count": null,
   "id": "d5c1250d",
   "metadata": {},
   "outputs": [],
   "source": [
    "df_temp = pd.DataFrame({\n",
    "    \"Model\" : [\"Random Forest\"],\n",
    "    \"Precision\" : precision, \n",
    "    \"ROC-AUC\" : roc_auc,    \n",
    "    \"Recall\" : recall,\n",
    "    \"F1\" : f1,\n",
    "    \"F2\" : f2,\n",
    "    \"Custom\" : custom,\n",
    "    \"Duration\" : round(df_results.iloc[search.best_index_][\"mean_score_time\"], 3)\n",
    "})"
   ]
  },
  {
   "cell_type": "code",
   "execution_count": null,
   "id": "e7701f87",
   "metadata": {},
   "outputs": [],
   "source": [
    "df_models_metrics = pd.concat([df_models_metrics, df_temp])\n",
    "df_models_metrics"
   ]
  },
  {
   "cell_type": "markdown",
   "id": "b903d8c2",
   "metadata": {
    "tags": []
   },
   "source": [
    "<div style=\"background-color: #506AB9;\" >\n",
    "    <h4 style=\"margin: auto; padding: 20px; color:#fff; \">6.2.3. LightGBM</h4>\n",
    "</div>"
   ]
  },
  {
   "cell_type": "markdown",
   "id": "3c9c0f35",
   "metadata": {
    "tags": []
   },
   "source": [
    "<div class=\"alert alert-block alert-info\">\n",
    "    <p>Let's define the pipeline to put inside it the defined SMOTE</p>\n",
    "    <p>We are going to use most of parameters used in the kernel selected</p>\n",
    "</div>"
   ]
  },
  {
   "cell_type": "code",
   "execution_count": null,
   "id": "e0f61592",
   "metadata": {},
   "outputs": [],
   "source": [
    "clf_lgbm = imbpipeline(steps = [[\"Smote\", smote],\n",
    "                                [\"LightGBM\", LGBMClassifier(metric=\"None\",\n",
    "                                                            learning_rate=0.02,\n",
    "                                                            colsample_bytree=0.9497036,\n",
    "                                                            subsample=0.8715623,\n",
    "                                                            reg_alpha=0.041545473,\n",
    "                                                            reg_lambda=0.0735294,\n",
    "                                                            min_split_gain=0.0222415,\n",
    "                                                            min_child_weight=39.3259775,\n",
    "                                                            n_jobs=-1)]\n",
    "                          ]\n",
    "                 )"
   ]
  },
  {
   "cell_type": "markdown",
   "id": "d61dce82",
   "metadata": {
    "tags": []
   },
   "source": [
    "<div class=\"alert alert-block alert-info\">\n",
    "    <p>Parameters settings</p>\n",
    "</div>"
   ]
  },
  {
   "cell_type": "code",
   "execution_count": null,
   "id": "c88a3d70",
   "metadata": {},
   "outputs": [],
   "source": [
    "param_grid = {\n",
    "    \"LightGBM__n_estimators\" : [8000, 10000],\n",
    "    \"LightGBM__num_leaves\" : [32, 34], \n",
    "    \"LightGBM__max_depth\" : [8, 9]\n",
    "}"
   ]
  },
  {
   "cell_type": "markdown",
   "id": "8f8df285",
   "metadata": {
    "tags": []
   },
   "source": [
    "<div class=\"alert alert-block alert-info\">\n",
    "    <p>Executing the model</p>\n",
    "</div>"
   ]
  },
  {
   "cell_type": "code",
   "execution_count": null,
   "id": "5bde34a9",
   "metadata": {},
   "outputs": [],
   "source": [
    "search_lgbm = GridSearchCV(estimator=clf_lgbm,\n",
    "                           param_grid=param_grid,\n",
    "                           scoring=\"roc_auc\",\n",
    "                           cv=stratified_kfold,\n",
    "                           n_jobs=-1,\n",
    "                           return_train_score=True)"
   ]
  },
  {
   "cell_type": "code",
   "execution_count": null,
   "id": "c9d327c1",
   "metadata": {},
   "outputs": [],
   "source": [
    "search_lgbm.fit(X_train, y_train)"
   ]
  },
  {
   "cell_type": "markdown",
   "id": "d5d32f1f",
   "metadata": {
    "tags": []
   },
   "source": [
    "<div class=\"alert alert-block alert-info\">\n",
    "    <p>Making predictions and probabilities based on the best results for the model</p>\n",
    "</div>"
   ]
  },
  {
   "cell_type": "code",
   "execution_count": null,
   "id": "49978b3e",
   "metadata": {},
   "outputs": [],
   "source": [
    "model_lgbm = search_lgbm.best_estimator_"
   ]
  },
  {
   "cell_type": "code",
   "execution_count": null,
   "id": "d89b0d88",
   "metadata": {
    "tags": []
   },
   "outputs": [],
   "source": [
    "y_pred = model_lgbm.predict(X_test)\n",
    "y_prob = model_lgbm.predict_proba(X_test)\n",
    "y_prob = y_prob[:, 1]"
   ]
  },
  {
   "cell_type": "markdown",
   "id": "cda2ce46",
   "metadata": {
    "tags": []
   },
   "source": [
    "<div class=\"alert alert-block alert-info\">\n",
    "    <p>Let's selet the threshold based on the best parameters</p>\n",
    "</div>"
   ]
  },
  {
   "cell_type": "code",
   "execution_count": null,
   "id": "8ebfe35e",
   "metadata": {},
   "outputs": [],
   "source": [
    "threshold = threshold_selection(y_test, y_prob)"
   ]
  },
  {
   "cell_type": "markdown",
   "id": "6bba9142",
   "metadata": {
    "tags": []
   },
   "source": [
    "<div class=\"alert alert-block alert-info\">\n",
    "    <p>Getting the probability outputs from \"predict_proba\" based on the threshold</p>\n",
    "</div>"
   ]
  },
  {
   "cell_type": "code",
   "execution_count": null,
   "id": "a6a4bff1",
   "metadata": {},
   "outputs": [],
   "source": [
    "y_pred = (y_pred > threshold).astype(int)"
   ]
  },
  {
   "cell_type": "markdown",
   "id": "4b28e312",
   "metadata": {
    "tags": []
   },
   "source": [
    "<div class=\"alert alert-block alert-info\">\n",
    "    <p>Now, we can get the metrics</p>\n",
    "</div>"
   ]
  },
  {
   "cell_type": "code",
   "execution_count": null,
   "id": "62cbd9fc",
   "metadata": {
    "tags": []
   },
   "outputs": [],
   "source": [
    "precision = round(precision_score(y_test, y_pred), 3)\n",
    "roc_auc = round(roc_auc_score(y_test, y_prob), 3)\n",
    "recall = round(recall_score(y_test, y_pred), 3)\n",
    "f1 = round(f1_score(y_test, y_pred), 3)\n",
    "f2 = round(fbeta_score(y_test, y_pred, beta=2), 3)\n",
    "custom = round(custom_score(y_test, y_pred, threshold), 3)\n",
    "\n",
    "# Get the results\n",
    "print(\"Model's metrics\")\n",
    "print(\"- Precision:\\t\\t\", precision)\n",
    "print(\"- ROC-AUC:\\t\\t\", roc_auc)\n",
    "print(\"- Recall:\\t\\t\", recall)\n",
    "print(\"- F1:\\t\\t\\t\", f1)\n",
    "print(\"- F2:\\t\\t\\t\", f2)\n",
    "print(\"- Custom Score:\\t\\t\", custom)\n",
    "print(\"- Duration:\\t\\t\", round(search_lgbm.cv_results_[\"mean_score_time\"][0], 3), \" minutes\")"
   ]
  },
  {
   "cell_type": "markdown",
   "id": "2498fc1a",
   "metadata": {
    "tags": []
   },
   "source": [
    "<div class=\"alert alert-block alert-danger\">\n",
    "    <p><b>Observations / Conclusions</b></p>\n",
    "    <ul style=\"list-style-type: square;\">\n",
    "        <li>XXXXXXXXXXXXXXXXXXXXXXXX</li>\n",
    "    </ul> \n",
    "</div>"
   ]
  },
  {
   "cell_type": "markdown",
   "id": "53228ec8",
   "metadata": {
    "tags": []
   },
   "source": [
    "<div class=\"alert alert-block alert-info\">\n",
    "    <p>Plotting the Compute ROC curve and ROC area for each class</p>\n",
    "</div>"
   ]
  },
  {
   "cell_type": "code",
   "execution_count": null,
   "id": "2b9ecd73",
   "metadata": {},
   "outputs": [],
   "source": [
    "fpr = dict()\n",
    "tpr = dict()\n",
    "fpr[\"micro\"], tpr[\"micro\"], _ = roc_curve(y_test.ravel(), y_prob.ravel())\n",
    "\n",
    "plt.subplots(1, figsize=(6, 6))\n",
    "plt.title(\"Receiver Operating Characteristic\")\n",
    "plt.plot(fpr[\"micro\"], tpr[\"micro\"])\n",
    "plt.plot([0, 1], ls=\"--\")\n",
    "plt.plot([0, 0], [1, 0] , c=\".7\"), plt.plot([1, 1] , c=\".7\")\n",
    "plt.ylabel(\"True Positive Rate\")\n",
    "plt.xlabel(\"False Positive Rate\")\n",
    "plt.show()"
   ]
  },
  {
   "cell_type": "markdown",
   "id": "cf9c41c0",
   "metadata": {
    "tags": []
   },
   "source": [
    "<div class=\"alert alert-block alert-info\">\n",
    "    <p>Plotting the Precision-Recall curve</p>\n",
    "</div>"
   ]
  },
  {
   "cell_type": "code",
   "execution_count": null,
   "id": "613a7872",
   "metadata": {},
   "outputs": [],
   "source": [
    "display = PrecisionRecallDisplay.from_predictions(y_test.ravel(), y_prob.ravel(), name=\"LGBMClassifier\")\n",
    "_ = display.ax_.set_title(\"2-class Precision-Recall curve\")"
   ]
  },
  {
   "cell_type": "markdown",
   "id": "25f0d282",
   "metadata": {
    "tags": []
   },
   "source": [
    "<div class=\"alert alert-block alert-info\">\n",
    "    <p>Plotting the Confusion Matrix</p>\n",
    "</div>"
   ]
  },
  {
   "cell_type": "code",
   "execution_count": null,
   "id": "71f2d455",
   "metadata": {},
   "outputs": [],
   "source": [
    "display = ConfusionMatrixDisplay.from_predictions(y_test, y_pred, display_labels=[\"Repaid\",\"No repaid\"])\n",
    "_ = display.ax_.set_title(\"Confusion matrix\")"
   ]
  },
  {
   "cell_type": "markdown",
   "id": "c1ed1fa3",
   "metadata": {
    "tags": []
   },
   "source": [
    "<div class=\"alert alert-block alert-info\">\n",
    "    <p>Adding metrics to compare with others models</p>\n",
    "</div>"
   ]
  },
  {
   "cell_type": "code",
   "execution_count": null,
   "id": "bb02507d",
   "metadata": {},
   "outputs": [],
   "source": [
    "df_temp = pd.DataFrame({\n",
    "    \"Model\" : [\"Random Forest\"],\n",
    "    \"Precision\" : precision, \n",
    "    \"ROC-AUC\" : roc_auc,    \n",
    "    \"Recall\" : recall,\n",
    "    \"F1\" : f1,\n",
    "    \"F2\" : f2,\n",
    "    \"Custom\" : custom,\n",
    "    \"Duration\" : round(df_results.iloc[search.best_index_][\"mean_score_time\"], 3)\n",
    "})"
   ]
  },
  {
   "cell_type": "code",
   "execution_count": null,
   "id": "7c469897",
   "metadata": {},
   "outputs": [],
   "source": [
    "df_models_metrics = pd.concat([df_models_metrics, df_temp])\n",
    "df_models_metrics"
   ]
  },
  {
   "cell_type": "code",
   "execution_count": null,
   "id": "0b0396de",
   "metadata": {},
   "outputs": [],
   "source": []
  },
  {
   "cell_type": "code",
   "execution_count": null,
   "id": "575230aa",
   "metadata": {},
   "outputs": [],
   "source": []
  },
  {
   "cell_type": "code",
   "execution_count": null,
   "id": "35afd46d",
   "metadata": {},
   "outputs": [],
   "source": []
  },
  {
   "cell_type": "code",
   "execution_count": null,
   "id": "7194db4e",
   "metadata": {},
   "outputs": [],
   "source": []
  }
 ],
 "metadata": {
  "kernelspec": {
   "display_name": "conda_p7",
   "language": "python",
   "name": "conda_p7"
  },
  "language_info": {
   "codemirror_mode": {
    "name": "ipython",
    "version": 3
   },
   "file_extension": ".py",
   "mimetype": "text/x-python",
   "name": "python",
   "nbconvert_exporter": "python",
   "pygments_lexer": "ipython3",
   "version": "3.9.9"
  }
 },
 "nbformat": 4,
 "nbformat_minor": 5
}
