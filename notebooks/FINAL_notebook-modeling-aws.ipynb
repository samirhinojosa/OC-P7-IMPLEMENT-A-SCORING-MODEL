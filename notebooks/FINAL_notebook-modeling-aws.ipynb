{
 "cells": [
  {
   "cell_type": "markdown",
   "id": "deafbb0d",
   "metadata": {
    "tags": []
   },
   "source": [
    "<div style=\"display: flex; background-color: #3F579F;\">\n",
    "    <h1 style=\"margin: auto; font-weight: bold; padding: 30px 30px 0px 30px; color:#fff;\" align=\"center\">Implement a scoring model - P7</h1>\n",
    "</div>\n",
    "<div style=\"display: flex; background-color: #3F579F; margin: auto; padding: 5px 30px 0px 30px;\" >\n",
    "    <h3 style=\"width: 100%; text-align: center; float: left; font-size: 24px; color:#fff;\" align=\"center\">| Modeling Notebook |</h3>\n",
    "</div>\n",
    "<div style=\"display: flex; background-color: #3F579F; margin: auto; padding: 10px 30px 30px 30px;\">\n",
    "    <h4 style=\"width: 100%; text-align: center; float: left; font-size: 24px; color:#fff;\" align=\"center\">Data Scientist course - OpenClassrooms</h4>\n",
    "</div>"
   ]
  },
  {
   "cell_type": "markdown",
   "id": "a72d733a",
   "metadata": {
    "tags": []
   },
   "source": [
    "<div style=\"background-color: #506AB9;\" >\n",
    "    <h2 style=\"margin: auto; padding: 20px; color:#fff; \">1. Libraries</h2>\n",
    "</div>"
   ]
  },
  {
   "cell_type": "code",
   "execution_count": 2,
   "id": "8d5f5e6d",
   "metadata": {},
   "outputs": [],
   "source": [
    "## General\n",
    "import timeit\n",
    "import re\n",
    "import pandas as pd\n",
    "import numpy as np\n",
    "from collections import Counter\n",
    "\n",
    "## Scikit Learn library\n",
    "from sklearn.experimental import enable_halving_search_cv\n",
    "from sklearn.model_selection import (train_test_split, StratifiedKFold, \n",
    "                                     HalvingGridSearchCV, cross_validate)\n",
    "from sklearn.ensemble import RandomForestClassifier, GradientBoostingClassifier\n",
    "from sklearn.dummy import DummyClassifier\n",
    "from sklearn.metrics import (precision_score, roc_auc_score, recall_score, \n",
    "                             f1_score, fbeta_score, confusion_matrix, roc_curve, \n",
    "                             PrecisionRecallDisplay, ConfusionMatrixDisplay)\n",
    "\n",
    "## imbalanced-learn\n",
    "from imblearn.pipeline import Pipeline as imbpipeline\n",
    "from imblearn.over_sampling import SMOTE\n",
    "\n",
    "## LightGBM\n",
    "from lightgbm import LGBMClassifier\n",
    "\n",
    "## To use S3 files\n",
    "import boto3\n",
    "from sagemaker import get_execution_role\n",
    "\n",
    "## Own specific functions \n",
    "from functions import *"
   ]
  },
  {
   "cell_type": "markdown",
   "id": "ca310258",
   "metadata": {
    "tags": []
   },
   "source": [
    "<div style=\"background-color: #506AB9;\" >\n",
    "    <h2 style=\"margin: auto; padding: 20px; color:#fff; \">2. Importing files</h2>\n",
    "</div>"
   ]
  },
  {
   "cell_type": "markdown",
   "id": "fd7fff1b",
   "metadata": {
    "tags": []
   },
   "source": [
    "<div class=\"alert alert-block alert-info\">\n",
    "    <p>Definning S3 parameters\n",
    "   </p>\n",
    "</div>"
   ]
  },
  {
   "cell_type": "code",
   "execution_count": 3,
   "id": "41acbbe0",
   "metadata": {},
   "outputs": [],
   "source": [
    "connexion = boto3.client('s3')"
   ]
  },
  {
   "cell_type": "code",
   "execution_count": 4,
   "id": "11305fde",
   "metadata": {},
   "outputs": [],
   "source": [
    "bucket = \"oc-data-scientist\"\n",
    "subfolder = \"oc-p7/datasets/finals_datasets\"\n",
    "data_key = \"df_current_clients.csv\""
   ]
  },
  {
   "cell_type": "code",
   "execution_count": 5,
   "id": "5d2c1dce",
   "metadata": {},
   "outputs": [],
   "source": [
    "role = get_execution_role()\n",
    "conn = boto3.client('s3')"
   ]
  },
  {
   "cell_type": "code",
   "execution_count": 6,
   "id": "7a563cc7",
   "metadata": {},
   "outputs": [
    {
     "name": "stdout",
     "output_type": "stream",
     "text": [
      "oc-p7/datasets/finals_datasets/\n",
      "oc-p7/datasets/finals_datasets/df_clients_to_predict.csv\n",
      "oc-p7/datasets/finals_datasets/df_current_clients.csv\n"
     ]
    }
   ],
   "source": [
    "contents = conn.list_objects(Bucket=bucket, Prefix=subfolder)['Contents']\n",
    "for f in contents:\n",
    "    print(f['Key'])"
   ]
  },
  {
   "cell_type": "code",
   "execution_count": 7,
   "id": "54b6e5b8",
   "metadata": {},
   "outputs": [],
   "source": [
    "data_location = \"s3://{}/{}/{}\".format(bucket, subfolder, data_key)"
   ]
  },
  {
   "cell_type": "markdown",
   "id": "e22d54b7",
   "metadata": {
    "tags": []
   },
   "source": [
    "<div class=\"alert alert-block alert-info\">\n",
    "    <p>Let's load the current clients\n",
    "   </p>\n",
    "</div>"
   ]
  },
  {
   "cell_type": "code",
   "execution_count": 8,
   "id": "a998cb63",
   "metadata": {},
   "outputs": [],
   "source": [
    "df_current_clients = pd.read_csv(data_location)"
   ]
  },
  {
   "cell_type": "code",
   "execution_count": 9,
   "id": "1510b1b0",
   "metadata": {},
   "outputs": [
    {
     "name": "stdout",
     "output_type": "stream",
     "text": [
      "\n",
      "Analysis Header of df_current_clients dataset\n",
      "--------------------------------------------------------------------------------\n",
      "- Dataset shape:\t\t\t 307507 rows and 509 columns\n",
      "- Total of NaN values:\t\t\t 0\n",
      "- Percentage of NaN:\t\t\t 0.0 %\n",
      "- Total of infinite values:\t\t 0\n",
      "- Percentage of infinite values:\t 0.0 %\n",
      "- Total of full duplicates rows:\t 0\n",
      "- Total of empty rows:\t\t\t 0\n",
      "- Total of empty columns:\t\t 0\n",
      "- Unique indexes:\t\t\t True\n",
      "- Memory usage:\t\t\t\t 1.2 GB\n"
     ]
    }
   ],
   "source": [
    "df_analysis(df_current_clients, \"df_current_clients\", analysis_type=\"header\")"
   ]
  },
  {
   "cell_type": "markdown",
   "id": "ebb3fe03",
   "metadata": {
    "tags": []
   },
   "source": [
    "<div class=\"alert alert-block alert-warning\">\n",
    "    <p><b>Observations / Conclusions</b></p>\n",
    "    <p>First of all, let's treat the memory to optimize its usage.</p>\n",
    "</div>"
   ]
  },
  {
   "cell_type": "markdown",
   "id": "6e464e4b",
   "metadata": {
    "tags": []
   },
   "source": [
    "<div style=\"background-color: #506AB9;\" >\n",
    "    <h2 style=\"margin: auto; padding: 20px; color:#fff; \">3. Optimizing memory usage</h2>\n",
    "</div>"
   ]
  },
  {
   "cell_type": "markdown",
   "id": "0e658e0b",
   "metadata": {
    "tags": []
   },
   "source": [
    "<div class=\"alert alert-block alert-warning\">\n",
    "    <p>We should optimize the memory usage to avoid problems during executions</p>\n",
    "</div>"
   ]
  },
  {
   "cell_type": "code",
   "execution_count": 10,
   "id": "26932d5d",
   "metadata": {},
   "outputs": [],
   "source": [
    "df_current_clients = memory_optimization(df_current_clients)"
   ]
  },
  {
   "cell_type": "code",
   "execution_count": 11,
   "id": "0deaeb95",
   "metadata": {},
   "outputs": [
    {
     "name": "stdout",
     "output_type": "stream",
     "text": [
      "\n",
      "Analysis Header of df dataset\n",
      "--------------------------------------------------------------------------------\n",
      "- Dataset shape:\t\t\t 307507 rows and 509 columns\n",
      "- Total of NaN values:\t\t\t 0\n",
      "- Percentage of NaN:\t\t\t 0.0 %\n",
      "- Total of infinite values:\t\t 0\n",
      "- Percentage of infinite values:\t 0.0 %\n",
      "- Total of full duplicates rows:\t 0\n",
      "- Total of empty rows:\t\t\t 0\n",
      "- Total of empty columns:\t\t 0\n",
      "- Unique indexes:\t\t\t True\n",
      "- Memory usage:\t\t\t\t 459.8 MB\n"
     ]
    }
   ],
   "source": [
    "df_analysis(df_current_clients, \"df\", analysis_type=\"header\")"
   ]
  },
  {
   "cell_type": "markdown",
   "id": "bd461265",
   "metadata": {
    "tags": []
   },
   "source": [
    "<div class=\"alert alert-block alert-success\">\n",
    "    <p><b>Observations / Conclusions</b></p>\n",
    "    <p>The memory usage has been reduced.</p>\n",
    "</div>"
   ]
  },
  {
   "cell_type": "markdown",
   "id": "9a39c735",
   "metadata": {
    "tags": []
   },
   "source": [
    "<div style=\"background-color: #506AB9;\" >\n",
    "    <h2 style=\"margin: auto; padding: 20px; color:#fff; \">4. Analyzing target variable</h2>\n",
    "</div>"
   ]
  },
  {
   "cell_type": "markdown",
   "id": "c1aab953",
   "metadata": {
    "tags": []
   },
   "source": [
    "<div class=\"alert alert-block alert-info\">\n",
    "    <p>We are going to analyze the target variable to see whether is an imbalanced class\n",
    "   </p>\n",
    "</div>"
   ]
  },
  {
   "cell_type": "code",
   "execution_count": 12,
   "id": "9aca60a2",
   "metadata": {},
   "outputs": [
    {
     "data": {
      "image/png": "[encoded data removed]",
      "text/plain": [
       "<Figure size 648x360 with 2 Axes>"
      ]
     },
     "metadata": {
      "needs_background": "light"
     },
     "output_type": "display_data"
    }
   ],
   "source": [
    "barplot_and_pie(df_current_clients[\"TARGET\"], \"Target distribution\", \" \")"
   ]
  },
  {
   "cell_type": "markdown",
   "id": "3811beec",
   "metadata": {
    "tags": []
   },
   "source": [
    "<div class=\"alert alert-block alert-warning\">\n",
    "    <p><b>Observations / Conclusions</b></p>\n",
    "    <ul style=\"list-style-type: square;\">\n",
    "        <li>Here we can see how much the dataset is imbalanced so, we are facing a imbalanced classification problem</li>\n",
    "        <li>It is easily identifying that there are <b>loans that were repaid (0)</b> in comparison of <b>loans that were not repaid (1)</b>s</li>\n",
    "        <li>We are going to treat the imbalanced class into a pipeline during the modeling</li>\n",
    "    </ul> \n",
    "</div>"
   ]
  },
  {
   "cell_type": "markdown",
   "id": "71244db6",
   "metadata": {
    "tags": []
   },
   "source": [
    "<div style=\"background-color: #506AB9;\" >\n",
    "    <h2 style=\"margin: auto; padding: 20px; color:#fff; \">5. Splitting data</h2>\n",
    "</div>"
   ]
  },
  {
   "cell_type": "markdown",
   "id": "6920a359",
   "metadata": {
    "tags": []
   },
   "source": [
    "<div class=\"alert alert-block alert-info\">\n",
    "    <p>First of all, let's identify the training columns in the dataset\n",
    "   </p>\n",
    "</div>"
   ]
  },
  {
   "cell_type": "code",
   "execution_count": 13,
   "id": "b2245e5b",
   "metadata": {},
   "outputs": [],
   "source": [
    "NOT_TRAINING_COLUMNS  = [\"TARGET\", \"SK_ID_CURR\", \"SK_ID_BUREAU\", \"SK_ID_PREV\", \"index\"] \n",
    "TRAINING_COLUMNS = [col for col in df_current_clients.columns if col not in NOT_TRAINING_COLUMNS]"
   ]
  },
  {
   "cell_type": "markdown",
   "id": "d4ed1e3c",
   "metadata": {
    "tags": []
   },
   "source": [
    "<div class=\"alert alert-block alert-info\">\n",
    "    <p>Let's split the all data\n",
    "   </p>\n",
    "</div>"
   ]
  },
  {
   "cell_type": "code",
   "execution_count": 14,
   "id": "625bdfe3",
   "metadata": {},
   "outputs": [],
   "source": [
    "X = df_current_clients[TRAINING_COLUMNS]"
   ]
  },
  {
   "cell_type": "code",
   "execution_count": 15,
   "id": "302ee762",
   "metadata": {},
   "outputs": [],
   "source": [
    "y_target = df_current_clients.loc[:,\"TARGET\"]"
   ]
  },
  {
   "cell_type": "code",
   "execution_count": 16,
   "id": "60b01f49",
   "metadata": {},
   "outputs": [],
   "source": [
    "X_train, X_test, y_train, y_test = train_test_split(X, y_target, test_size=0.20, stratify=y_target, random_state=42)"
   ]
  },
  {
   "cell_type": "code",
   "execution_count": 17,
   "id": "01aa8222",
   "metadata": {},
   "outputs": [
    {
     "name": "stdout",
     "output_type": "stream",
     "text": [
      "X_train: (246005, 506)\n",
      "y_train: (246005,)\n",
      "---------------------\n",
      "X_test: (61502, 506)\n",
      "y_test: (61502,)\n"
     ]
    }
   ],
   "source": [
    "print(\"X_train: {}\".format(X_train.shape))\n",
    "print(\"y_train: {}\".format(y_train.shape))\n",
    "print(\"---------------------\")\n",
    "print(\"X_test: {}\".format(X_test.shape))\n",
    "print(\"y_test: {}\".format(y_test.shape))"
   ]
  },
  {
   "cell_type": "markdown",
   "id": "a2721d61",
   "metadata": {
    "tags": []
   },
   "source": [
    "<div style=\"background-color: #506AB9;\" >\n",
    "    <h2 style=\"margin: auto; padding: 20px; color:#fff; \">6. Modelisation initial</h2>\n",
    "</div>"
   ]
  },
  {
   "cell_type": "markdown",
   "id": "28601f45",
   "metadata": {
    "tags": []
   },
   "source": [
    "<div class=\"alert alert-block alert-info\">\n",
    "    <p>We are going to face an <b>Unbalanced Classification Problem</b> and we are going to use three models</p>\n",
    "    <ul style=\"list-style-type: square;\">\n",
    "        <li>Random Forest Classifier</li>\n",
    "        <li>Support Vector Machine</li>\n",
    "        <li>LightGBM</li>\n",
    "    </ul>\n",
    "    <p>Also, we are going to use a Dummy Classifier and baseline to compare the models</p>\n",
    "</div>"
   ]
  },
  {
   "cell_type": "markdown",
   "id": "6b70d2c4",
   "metadata": {
    "tags": []
   },
   "source": [
    "<div style=\"background-color: #506AB9;\" >\n",
    "    <h3 style=\"margin: auto; padding: 20px; color:#fff; \">6.1. General parameters</h3>\n",
    "</div>"
   ]
  },
  {
   "cell_type": "markdown",
   "id": "780eec29",
   "metadata": {
    "tags": []
   },
   "source": [
    "<div class=\"alert alert-block alert-info\">\n",
    "    <p>We are going to use Stratified K-Folds cross-validator to ensure that each fold of dataset has the same proportion of observations with a given label.</p>\n",
    "</div>"
   ]
  },
  {
   "cell_type": "code",
   "execution_count": 27,
   "id": "7ed8dcc5",
   "metadata": {},
   "outputs": [],
   "source": [
    "stratified_kfold = StratifiedKFold(n_splits=3, shuffle=True, random_state=42)"
   ]
  },
  {
   "cell_type": "markdown",
   "id": "13a7ac82",
   "metadata": {
    "tags": []
   },
   "source": [
    "<div class=\"alert alert-block alert-info\">\n",
    "    <p>Metrics to use.</p>\n",
    "</div>"
   ]
  },
  {
   "cell_type": "code",
   "execution_count": 80,
   "id": "605a03d0",
   "metadata": {},
   "outputs": [],
   "source": [
    "scoring = [\"roc_auc\", \"recall\", \"f1\"]"
   ]
  },
  {
   "cell_type": "markdown",
   "id": "75a1d6f3",
   "metadata": {
    "tags": []
   },
   "source": [
    "<div style=\"background-color: #506AB9;\" >\n",
    "    <h3 style=\"margin: auto; padding: 20px; color:#fff; \">6.2. Cross Validation</h3>\n",
    "</div>"
   ]
  },
  {
   "cell_type": "markdown",
   "id": "38047f63",
   "metadata": {
    "tags": []
   },
   "source": [
    "<div class=\"alert alert-block alert-info\">\n",
    "    <p>List of models to use. Dummy Classifier and Base line of the models</p>\n",
    "</div>"
   ]
  },
  {
   "cell_type": "code",
   "execution_count": 93,
   "id": "1c958edd",
   "metadata": {},
   "outputs": [],
   "source": [
    "classifiers = {\n",
    "    \"Dummy Classifier\" : DummyClassifier(),\n",
    "    \"Baseline - Random Forest\" : RandomForestClassifier(),\n",
    "    \"Baseline - LightGBM\" : LGBMClassifier(),\n",
    "    \"Baseline - Gradient Boosting\" : GradientBoostingClassifier()\n",
    "}"
   ]
  },
  {
   "cell_type": "code",
   "execution_count": 94,
   "id": "71cd64f6",
   "metadata": {},
   "outputs": [],
   "source": [
    "# List of metrics results for each models \n",
    "LIST_MODEL, LIST_RECALL, LIST_ROC_AUC, LIST_F1, LIST_CUSTOM_SCORE, LIST_DURATION  = ([] for i in range(6))\n",
    "\n",
    "for key, value in classifiers.items():\n",
    "    \n",
    "    start_time_model = timeit.default_timer()\n",
    "    \n",
    "    clf = value\n",
    "    \n",
    "    scores = cross_validate(clf, X_train, y_train, \n",
    "                            cv=stratified_kfold, scoring=scoring)\n",
    "    \n",
    "    end_time_model =  round(timeit.default_timer() - start_time_model, 3)\n",
    "    \n",
    "    # Adding results into LIST\n",
    "    LIST_MODEL.append(key)\n",
    "    LIST_RECALL.append(round(scores.get(\"test_recall\").mean(), 3))\n",
    "    LIST_ROC_AUC.append(round(scores.get(\"test_roc_auc\").mean(), 3))\n",
    "    LIST_F1.append(round(scores.get(\"test_f1\").mean(), 3))\n",
    "    LIST_CUSTOM_SCORE.appened(np.Nan)\n",
    "    LIST_DURATION.append(end_time_model)"
   ]
  },
  {
   "cell_type": "markdown",
   "id": "162201b0",
   "metadata": {
    "tags": []
   },
   "source": [
    "<div class=\"alert alert-block alert-info\">\n",
    "    <p>Dataframe to compare metrics.</p>\n",
    "</div>"
   ]
  },
  {
   "cell_type": "code",
   "execution_count": 116,
   "id": "3498e6ab",
   "metadata": {},
   "outputs": [],
   "source": [
    "df_models_metrics = pd.DataFrame({\n",
    "    \"Model\" : LIST_MODEL,\n",
    "    \"ROC-AUC\" : LIST_ROC_AUC,\n",
    "    \"Recall\" : LIST_RECALL,    \n",
    "    \"F1\" : LIST_F1,\n",
    "    \"Custom Score\" : LIST_CUSTOM_SCORE,\n",
    "    \"Duration\" : LIST_DURATION,\n",
    "})"
   ]
  },
  {
   "cell_type": "code",
   "execution_count": 48,
   "id": "6f39c819",
   "metadata": {},
   "outputs": [
    {
     "data": {
      "text/html": [
       "<div>\n",
       "<style scoped>\n",
       "    .dataframe tbody tr th:only-of-type {\n",
       "        vertical-align: middle;\n",
       "    }\n",
       "\n",
       "    .dataframe tbody tr th {\n",
       "        vertical-align: top;\n",
       "    }\n",
       "\n",
       "    .dataframe thead th {\n",
       "        text-align: right;\n",
       "    }\n",
       "</style>\n",
       "<table border=\"1\" class=\"dataframe\">\n",
       "  <thead>\n",
       "    <tr style=\"text-align: right;\">\n",
       "      <th></th>\n",
       "      <th>Model</th>\n",
       "      <th>ROC-AUC</th>\n",
       "      <th>Recall</th>\n",
       "      <th>F1</th>\n",
       "      <th>Custom Score</th>\n",
       "      <th>Duration</th>\n",
       "    </tr>\n",
       "  </thead>\n",
       "  <tbody>\n",
       "    <tr>\n",
       "      <th>0</th>\n",
       "      <td>Dummy Classifier</td>\n",
       "      <td>0.500</td>\n",
       "      <td>0.000</td>\n",
       "      <td>0.000</td>\n",
       "      <td>NaN</td>\n",
       "      <td>0.989</td>\n",
       "    </tr>\n",
       "    <tr>\n",
       "      <th>1</th>\n",
       "      <td>Baseline - Random Forest</td>\n",
       "      <td>0.714</td>\n",
       "      <td>0.001</td>\n",
       "      <td>0.002</td>\n",
       "      <td>NaN</td>\n",
       "      <td>516.823</td>\n",
       "    </tr>\n",
       "    <tr>\n",
       "      <th>2</th>\n",
       "      <td>Baseline - LightGBM</td>\n",
       "      <td>0.773</td>\n",
       "      <td>0.033</td>\n",
       "      <td>0.062</td>\n",
       "      <td>NaN</td>\n",
       "      <td>16.852</td>\n",
       "    </tr>\n",
       "    <tr>\n",
       "      <th>3</th>\n",
       "      <td>Baseline - Gradient Boosting</td>\n",
       "      <td>0.765</td>\n",
       "      <td>0.019</td>\n",
       "      <td>0.036</td>\n",
       "      <td>NaN</td>\n",
       "      <td>1695.180</td>\n",
       "    </tr>\n",
       "  </tbody>\n",
       "</table>\n",
       "</div>"
      ],
      "text/plain": [
       "                          Model  ROC-AUC  Recall     F1  Custom Score  \\\n",
       "0              Dummy Classifier    0.500   0.000  0.000           NaN   \n",
       "1      Baseline - Random Forest    0.714   0.001  0.002           NaN   \n",
       "2           Baseline - LightGBM    0.773   0.033  0.062           NaN   \n",
       "3  Baseline - Gradient Boosting    0.765   0.019  0.036           NaN   \n",
       "\n",
       "   Duration  \n",
       "0     0.989  \n",
       "1   516.823  \n",
       "2    16.852  \n",
       "3  1695.180  "
      ]
     },
     "execution_count": 48,
     "metadata": {},
     "output_type": "execute_result"
    }
   ],
   "source": [
    "df_models_metrics"
   ]
  },
  {
   "cell_type": "markdown",
   "id": "918602af",
   "metadata": {
    "tags": []
   },
   "source": [
    "<div class=\"alert alert-block alert-info\">\n",
    "    <p>Let's transform the duration to minutes.</p>\n",
    "</div>"
   ]
  },
  {
   "cell_type": "code",
   "execution_count": 100,
   "id": "9094894e",
   "metadata": {},
   "outputs": [],
   "source": [
    "df_models_metrics[\"Duration\"] = round(df_models_metrics[\"Duration\"]/60, 1)"
   ]
  },
  {
   "cell_type": "code",
   "execution_count": 101,
   "id": "2f6bf377",
   "metadata": {},
   "outputs": [
    {
     "data": {
      "text/html": [
       "<div>\n",
       "<style scoped>\n",
       "    .dataframe tbody tr th:only-of-type {\n",
       "        vertical-align: middle;\n",
       "    }\n",
       "\n",
       "    .dataframe tbody tr th {\n",
       "        vertical-align: top;\n",
       "    }\n",
       "\n",
       "    .dataframe thead th {\n",
       "        text-align: right;\n",
       "    }\n",
       "</style>\n",
       "<table border=\"1\" class=\"dataframe\">\n",
       "  <thead>\n",
       "    <tr style=\"text-align: right;\">\n",
       "      <th></th>\n",
       "      <th>Model</th>\n",
       "      <th>ROC-AUC</th>\n",
       "      <th>Recall</th>\n",
       "      <th>F1</th>\n",
       "      <th>Custom Score</th>\n",
       "      <th>Duration</th>\n",
       "    </tr>\n",
       "  </thead>\n",
       "  <tbody>\n",
       "    <tr>\n",
       "      <th>0</th>\n",
       "      <td>Dummy Classifier</td>\n",
       "      <td>0.500</td>\n",
       "      <td>0.000</td>\n",
       "      <td>0.000</td>\n",
       "      <td>NaN</td>\n",
       "      <td>0.0</td>\n",
       "    </tr>\n",
       "    <tr>\n",
       "      <th>1</th>\n",
       "      <td>Baseline - Random Forest</td>\n",
       "      <td>0.714</td>\n",
       "      <td>0.001</td>\n",
       "      <td>0.002</td>\n",
       "      <td>NaN</td>\n",
       "      <td>8.6</td>\n",
       "    </tr>\n",
       "    <tr>\n",
       "      <th>2</th>\n",
       "      <td>Baseline - LightGBM</td>\n",
       "      <td>0.773</td>\n",
       "      <td>0.033</td>\n",
       "      <td>0.062</td>\n",
       "      <td>NaN</td>\n",
       "      <td>0.3</td>\n",
       "    </tr>\n",
       "    <tr>\n",
       "      <th>3</th>\n",
       "      <td>Baseline - Gradient Boosting</td>\n",
       "      <td>0.765</td>\n",
       "      <td>0.019</td>\n",
       "      <td>0.036</td>\n",
       "      <td>NaN</td>\n",
       "      <td>28.3</td>\n",
       "    </tr>\n",
       "  </tbody>\n",
       "</table>\n",
       "</div>"
      ],
      "text/plain": [
       "                          Model  ROC-AUC  Recall     F1  Custom Score  \\\n",
       "0              Dummy Classifier    0.500   0.000  0.000           NaN   \n",
       "1      Baseline - Random Forest    0.714   0.001  0.002           NaN   \n",
       "2           Baseline - LightGBM    0.773   0.033  0.062           NaN   \n",
       "3  Baseline - Gradient Boosting    0.765   0.019  0.036           NaN   \n",
       "\n",
       "   Duration  \n",
       "0       0.0  \n",
       "1       8.6  \n",
       "2       0.3  \n",
       "3      28.3  "
      ]
     },
     "execution_count": 101,
     "metadata": {},
     "output_type": "execute_result"
    }
   ],
   "source": [
    "df_models_metrics"
   ]
  },
  {
   "cell_type": "markdown",
   "id": "deaa6f0f",
   "metadata": {
    "tags": []
   },
   "source": [
    "<div class=\"alert alert-block alert-success\">\n",
    "    <p><b>Observations / Conclusions</b></p>\n",
    "    <p>it is easy to see how much time the ensembles models. Due to that, we do not consider them to plot</p>\n",
    "</div>"
   ]
  },
  {
   "cell_type": "code",
   "execution_count": 118,
   "id": "134abf08",
   "metadata": {},
   "outputs": [],
   "source": [
    "COLUMNS = [\"Model\", \"Recall\", \"ROC-AUC\", \"F1\"]"
   ]
  },
  {
   "cell_type": "code",
   "execution_count": 119,
   "id": "1e2fd33f",
   "metadata": {},
   "outputs": [
    {
     "data": {
      "text/html": [
       "<div>\n",
       "<style scoped>\n",
       "    .dataframe tbody tr th:only-of-type {\n",
       "        vertical-align: middle;\n",
       "    }\n",
       "\n",
       "    .dataframe tbody tr th {\n",
       "        vertical-align: top;\n",
       "    }\n",
       "\n",
       "    .dataframe thead th {\n",
       "        text-align: right;\n",
       "    }\n",
       "</style>\n",
       "<table border=\"1\" class=\"dataframe\">\n",
       "  <thead>\n",
       "    <tr style=\"text-align: right;\">\n",
       "      <th></th>\n",
       "      <th>Model</th>\n",
       "      <th>Metric</th>\n",
       "      <th>Value</th>\n",
       "    </tr>\n",
       "  </thead>\n",
       "  <tbody>\n",
       "    <tr>\n",
       "      <th>0</th>\n",
       "      <td>Dummy Classifier</td>\n",
       "      <td>Recall</td>\n",
       "      <td>0.000</td>\n",
       "    </tr>\n",
       "    <tr>\n",
       "      <th>1</th>\n",
       "      <td>Baseline - Random Forest</td>\n",
       "      <td>Recall</td>\n",
       "      <td>0.001</td>\n",
       "    </tr>\n",
       "    <tr>\n",
       "      <th>2</th>\n",
       "      <td>Baseline - LightGBM</td>\n",
       "      <td>Recall</td>\n",
       "      <td>0.033</td>\n",
       "    </tr>\n",
       "    <tr>\n",
       "      <th>3</th>\n",
       "      <td>Baseline - Gradient Boosting</td>\n",
       "      <td>Recall</td>\n",
       "      <td>0.019</td>\n",
       "    </tr>\n",
       "    <tr>\n",
       "      <th>4</th>\n",
       "      <td>Dummy Classifier</td>\n",
       "      <td>ROC-AUC</td>\n",
       "      <td>0.500</td>\n",
       "    </tr>\n",
       "  </tbody>\n",
       "</table>\n",
       "</div>"
      ],
      "text/plain": [
       "                          Model   Metric  Value\n",
       "0              Dummy Classifier   Recall  0.000\n",
       "1      Baseline - Random Forest   Recall  0.001\n",
       "2           Baseline - LightGBM   Recall  0.033\n",
       "3  Baseline - Gradient Boosting   Recall  0.019\n",
       "4              Dummy Classifier  ROC-AUC  0.500"
      ]
     },
     "execution_count": 119,
     "metadata": {},
     "output_type": "execute_result"
    }
   ],
   "source": [
    "df_models_metrics_reduced = pd.melt(df_models_metrics[COLUMNS], id_vars=\"Model\", var_name=\"Metric\", value_name=\"Value\")\n",
    "df_models_metrics_reduced.head()"
   ]
  },
  {
   "cell_type": "code",
   "execution_count": 121,
   "id": "a5c53acb",
   "metadata": {},
   "outputs": [
    {
     "data": {
      "image/png": "[encoded data removed]",
      "text/plain": [
       "<Figure size 1080x432 with 1 Axes>"
      ]
     },
     "metadata": {
      "needs_background": "light"
     },
     "output_type": "display_data"
    }
   ],
   "source": [
    "fig, ax1 = plt.subplots(figsize=(15, 6))\n",
    "plot = sns.barplot(x=\"Model\", y=\"Value\", hue=\"Metric\", data=df_models_metrics_reduced, ax=ax1)\n",
    "for p in plot.patches:\n",
    "    plot.annotate(format(p.get_height(), \".3f\"), (p.get_x() + p.get_width() / 2., p.get_height()), \n",
    "                    ha=\"center\", va=\"center\", xytext=(0, 8), textcoords=\"offset points\")\n",
    "plt.title(\"Comparison of Metrics by model (cross-validation)\", size=20)\n",
    "plt.legend(bbox_to_anchor=(1.10, 1), borderaxespad=0, title=\"Metrics\")\n",
    "plt.tight_layout()\n",
    "plt.xlabel(\"Model\", size=12)\n",
    "plt.ylabel(\"Metric\", size=12)\n",
    "sns.despine(fig)"
   ]
  },
  {
   "cell_type": "markdown",
   "id": "51537393",
   "metadata": {
    "tags": []
   },
   "source": [
    "<div class=\"alert alert-block alert-danger\">\n",
    "    <p><b>Observations / Conclusions</b></p>\n",
    "    <p>it is easy to see how much time the ensembles models. Due to that, we do not consider them to plot</p>\n",
    "</div>"
   ]
  },
  {
   "cell_type": "markdown",
   "id": "f3d8e255",
   "metadata": {
    "tags": []
   },
   "source": [
    "<div style=\"background-color: #506AB9;\" >\n",
    "    <h3 style=\"margin: auto; padding: 20px; color:#fff; \">6.3. Hyperparameters Tuning</h3>\n",
    "</div>"
   ]
  },
  {
   "cell_type": "markdown",
   "id": "98a35b0b",
   "metadata": {
    "tags": []
   },
   "source": [
    "<div class=\"alert alert-block alert-info\">\n",
    "    <p>For reasons of processing cost, we are going to tune the models with a subsample of the data. Done this, we will proceed to continue the modeling with the parameters obtained.</p>\n",
    "</div>"
   ]
  },
  {
   "cell_type": "markdown",
   "id": "c1a48326",
   "metadata": {
    "tags": []
   },
   "source": [
    "<div style=\"background-color: #506AB9;\" >\n",
    "    <h4 style=\"margin: auto; padding: 20px; color:#fff; \">6.3.1. Subsample of the data</h4>\n",
    "</div>"
   ]
  },
  {
   "cell_type": "markdown",
   "id": "e3a4a231",
   "metadata": {
    "tags": []
   },
   "source": [
    "<div class=\"alert alert-block alert-info\">\n",
    "    <p>Now, we are going to do a subsamble of the dataset to tune some parameters before the modeling\n",
    "   </p>\n",
    "</div>"
   ]
  },
  {
   "cell_type": "code",
   "execution_count": 13,
   "id": "a336f0e5",
   "metadata": {},
   "outputs": [],
   "source": [
    "df_subsample = df_current_clients.copy()"
   ]
  },
  {
   "cell_type": "code",
   "execution_count": 14,
   "id": "db695087",
   "metadata": {},
   "outputs": [],
   "source": [
    "df_subsample = df_subsample.sample(frac=0.5)"
   ]
  },
  {
   "cell_type": "code",
   "execution_count": 15,
   "id": "523d9125",
   "metadata": {},
   "outputs": [
    {
     "data": {
      "image/png": "[encoded data removed]",
      "text/plain": [
       "<Figure size 648x360 with 2 Axes>"
      ]
     },
     "metadata": {
      "needs_background": "light"
     },
     "output_type": "display_data"
    }
   ],
   "source": [
    "barplot_and_pie(df_subsample[\"TARGET\"], \"Target distribution\", \" \")"
   ]
  },
  {
   "cell_type": "code",
   "execution_count": 16,
   "id": "fa5445a5",
   "metadata": {},
   "outputs": [
    {
     "name": "stdout",
     "output_type": "stream",
     "text": [
      "\n",
      "Analysis Header of df dataset\n",
      "--------------------------------------------------------------------------------\n",
      "- Dataset shape:\t\t\t 153754 rows and 509 columns\n",
      "- Total of NaN values:\t\t\t 0\n",
      "- Percentage of NaN:\t\t\t 0.0 %\n",
      "- Total of infinite values:\t\t 0\n",
      "- Percentage of infinite values:\t 0.0 %\n",
      "- Total of full duplicates rows:\t 0\n",
      "- Total of empty rows:\t\t\t 0\n",
      "- Total of empty columns:\t\t 0\n",
      "- Unique indexes:\t\t\t True\n",
      "- Memory usage:\t\t\t\t 231.1 MB\n"
     ]
    }
   ],
   "source": [
    "df_analysis(df_subsample, \"df\", analysis_type=\"header\")"
   ]
  },
  {
   "cell_type": "markdown",
   "id": "ed8fef40",
   "metadata": {
    "tags": []
   },
   "source": [
    "<div class=\"alert alert-block alert-info\">\n",
    "    <p>Now, we are going to split the subsample of the data to tune the models\n",
    "   </p>\n",
    "</div>"
   ]
  },
  {
   "cell_type": "code",
   "execution_count": 22,
   "id": "848d7cd6",
   "metadata": {},
   "outputs": [],
   "source": [
    "X_ss = df_subsample[TRAINING_COLUMNS]"
   ]
  },
  {
   "cell_type": "code",
   "execution_count": 23,
   "id": "63a4130f",
   "metadata": {},
   "outputs": [],
   "source": [
    "y_target_ss = df_subsample.loc[:,\"TARGET\"]"
   ]
  },
  {
   "cell_type": "code",
   "execution_count": 24,
   "id": "6e99c65a",
   "metadata": {},
   "outputs": [],
   "source": [
    "X_train_ss, X_test_ss, y_train_ss, y_test_ss = train_test_split(X_ss, y_target_ss, test_size=0.20, stratify=y_target_ss, random_state=42)"
   ]
  },
  {
   "cell_type": "code",
   "execution_count": 25,
   "id": "ad2c80e5",
   "metadata": {},
   "outputs": [
    {
     "name": "stdout",
     "output_type": "stream",
     "text": [
      "X_train_ss: (123003, 506)\n",
      "y_train_ss: (123003,)\n",
      "---------------------\n",
      "X_test_ss: (30751, 506)\n",
      "y_test_ss: (30751,)\n"
     ]
    }
   ],
   "source": [
    "print(\"X_train_ss: {}\".format(X_train_ss.shape))\n",
    "print(\"y_train_ss: {}\".format(y_train_ss.shape))\n",
    "print(\"---------------------\")\n",
    "print(\"X_test_ss: {}\".format(X_test_ss.shape))\n",
    "print(\"y_test_ss: {}\".format(y_test_ss.shape))"
   ]
  },
  {
   "cell_type": "markdown",
   "id": "58ddf392",
   "metadata": {
    "tags": []
   },
   "source": [
    "<div style=\"background-color: #506AB9;\" >\n",
    "    <h4 style=\"margin: auto; padding: 20px; color:#fff; \">6.3.2. Random Forest</h4>\n",
    "</div>"
   ]
  },
  {
   "cell_type": "markdown",
   "id": "326bf1ec",
   "metadata": {
    "tags": []
   },
   "source": [
    "<div class=\"alert alert-block alert-info\">\n",
    "    <p>Let's try to tune the Random Forest model</p>\n",
    "    <p>Parameters settings</p>\n",
    "</div>"
   ]
  },
  {
   "cell_type": "code",
   "execution_count": 43,
   "id": "2836f43b",
   "metadata": {},
   "outputs": [],
   "source": [
    "param_grid = {\n",
    "    \"n_estimators\" : np.arange(500, 1000, 100),\n",
    "    \"max_depth\" : np.arange(20, 30, 2),\n",
    "}"
   ]
  },
  {
   "cell_type": "markdown",
   "id": "059d288a",
   "metadata": {
    "tags": []
   },
   "source": [
    "<div class=\"alert alert-block alert-info\">\n",
    "    <p>Executing the model</p>\n",
    "</div>"
   ]
  },
  {
   "cell_type": "code",
   "execution_count": 44,
   "id": "9122d36d",
   "metadata": {},
   "outputs": [],
   "source": [
    "clf_rf = RandomForestClassifier(random_state=42)"
   ]
  },
  {
   "cell_type": "code",
   "execution_count": 45,
   "id": "d23b795f",
   "metadata": {},
   "outputs": [],
   "source": [
    "search_rf = HalvingGridSearchCV(clf_rf, param_grid, scoring=\"roc_auc\", cv=stratified_kfold, n_jobs=-1)"
   ]
  },
  {
   "cell_type": "code",
   "execution_count": 46,
   "id": "8b45b5ec",
   "metadata": {},
   "outputs": [
    {
     "data": {
      "text/plain": [
       "HalvingGridSearchCV(cv=StratifiedKFold(n_splits=3, random_state=42, shuffle=True),\n",
       "                    estimator=RandomForestClassifier(random_state=42),\n",
       "                    n_jobs=-1,\n",
       "                    param_grid={'max_depth': array([20, 22, 24, 26, 28]),\n",
       "                                'n_estimators': array([500, 600, 700, 800, 900])})"
      ]
     },
     "execution_count": 46,
     "metadata": {},
     "output_type": "execute_result"
    }
   ],
   "source": [
    "search_rf.fit(X_train_ss, y_train_ss)"
   ]
  },
  {
   "cell_type": "markdown",
   "id": "50a0c249",
   "metadata": {
    "tags": []
   },
   "source": [
    "<div class=\"alert alert-block alert-info\">\n",
    "    <p>ROC-AUC score</p>\n",
    "</div>"
   ]
  },
  {
   "cell_type": "code",
   "execution_count": 47,
   "id": "46233725",
   "metadata": {},
   "outputs": [
    {
     "data": {
      "text/plain": [
       "0.9192214824028683"
      ]
     },
     "execution_count": 47,
     "metadata": {},
     "output_type": "execute_result"
    }
   ],
   "source": [
    "search_rf.best_score_"
   ]
  },
  {
   "cell_type": "markdown",
   "id": "0eb793fc",
   "metadata": {
    "tags": []
   },
   "source": [
    "<div class=\"alert alert-block alert-info\">\n",
    "    <p>The best parameters</p>\n",
    "</div>"
   ]
  },
  {
   "cell_type": "code",
   "execution_count": 48,
   "id": "2d8de918",
   "metadata": {},
   "outputs": [
    {
     "data": {
      "text/plain": [
       "{'max_depth': 26, 'n_estimators': 500}"
      ]
     },
     "execution_count": 48,
     "metadata": {},
     "output_type": "execute_result"
    }
   ],
   "source": [
    "search_rf.best_params_"
   ]
  },
  {
   "cell_type": "code",
   "execution_count": 18,
   "id": "1a552fa6",
   "metadata": {},
   "outputs": [],
   "source": [
    "rf_parameters = {'max_depth': 26, 'n_estimators': 500}"
   ]
  },
  {
   "cell_type": "markdown",
   "id": "bb863e38",
   "metadata": {
    "tags": []
   },
   "source": [
    "<div style=\"background-color: #506AB9;\" >\n",
    "    <h4 style=\"margin: auto; padding: 20px; color:#fff; \">6.3.3. LightGBM</h4>\n",
    "</div>"
   ]
  },
  {
   "cell_type": "markdown",
   "id": "f47aa971",
   "metadata": {
    "tags": []
   },
   "source": [
    "<div class=\"alert alert-block alert-info\">\n",
    "    <p>Let's try to tune the Random LightGBM</p>\n",
    "    <p>Parameters settings</p>\n",
    "</div>"
   ]
  },
  {
   "cell_type": "code",
   "execution_count": 29,
   "id": "65647d85",
   "metadata": {},
   "outputs": [],
   "source": [
    "param_grid = {\n",
    "    \"n_estimators\" : [8000, 10000],\n",
    "    \"num_leaves\" : [32, 34], \n",
    "    \"max_depth\" : [8, 9]\n",
    "}"
   ]
  },
  {
   "cell_type": "markdown",
   "id": "b403d6cc",
   "metadata": {
    "tags": []
   },
   "source": [
    "<div class=\"alert alert-block alert-info\">\n",
    "    <p>Executing the model</p>\n",
    "</div>"
   ]
  },
  {
   "cell_type": "code",
   "execution_count": 30,
   "id": "72e40e1f",
   "metadata": {},
   "outputs": [],
   "source": [
    "clf_lgbm = LGBMClassifier(random_state=42)"
   ]
  },
  {
   "cell_type": "code",
   "execution_count": 31,
   "id": "90540c51",
   "metadata": {},
   "outputs": [],
   "source": [
    "search_lgbm = HalvingGridSearchCV(clf_lgbm, param_grid, scoring=\"roc_auc\", cv=stratified_kfold, n_jobs=-1)"
   ]
  },
  {
   "cell_type": "code",
   "execution_count": 32,
   "id": "9ac2b23e",
   "metadata": {},
   "outputs": [
    {
     "data": {
      "text/plain": [
       "HalvingGridSearchCV(cv=StratifiedKFold(n_splits=3, random_state=42, shuffle=True),\n",
       "                    estimator=LGBMClassifier(random_state=42), n_jobs=-1,\n",
       "                    param_grid={'max_depth': [8, 9],\n",
       "                                'n_estimators': [8000, 10000],\n",
       "                                'num_leaves': [32, 34]},\n",
       "                    scoring='roc_auc')"
      ]
     },
     "execution_count": 32,
     "metadata": {},
     "output_type": "execute_result"
    }
   ],
   "source": [
    "search_lgbm.fit(X_train_ss, y_train_ss)"
   ]
  },
  {
   "cell_type": "markdown",
   "id": "8360481d",
   "metadata": {
    "tags": []
   },
   "source": [
    "<div class=\"alert alert-block alert-info\">\n",
    "    <p>ROC-AUC score</p>\n",
    "</div>"
   ]
  },
  {
   "cell_type": "code",
   "execution_count": 33,
   "id": "98465824",
   "metadata": {},
   "outputs": [
    {
     "data": {
      "text/plain": [
       "0.7396840027850832"
      ]
     },
     "execution_count": 33,
     "metadata": {},
     "output_type": "execute_result"
    }
   ],
   "source": [
    "search_lgbm.best_score_"
   ]
  },
  {
   "cell_type": "markdown",
   "id": "76cf7fde",
   "metadata": {
    "tags": []
   },
   "source": [
    "<div class=\"alert alert-block alert-info\">\n",
    "    <p>The best parameters</p>\n",
    "</div>"
   ]
  },
  {
   "cell_type": "code",
   "execution_count": 34,
   "id": "0e010eeb",
   "metadata": {},
   "outputs": [
    {
     "data": {
      "text/plain": [
       "{'max_depth': 9, 'n_estimators': 8000, 'num_leaves': 32}"
      ]
     },
     "execution_count": 34,
     "metadata": {},
     "output_type": "execute_result"
    }
   ],
   "source": [
    "search_lgbm.best_params_"
   ]
  },
  {
   "cell_type": "markdown",
   "id": "61723a21",
   "metadata": {
    "tags": []
   },
   "source": [
    "<div style=\"background-color: #506AB9;\" >\n",
    "    <h4 style=\"margin: auto; padding: 20px; color:#fff; \">6.3.4. Gradient Boosting</h4>\n",
    "</div>"
   ]
  },
  {
   "cell_type": "markdown",
   "id": "4e162664",
   "metadata": {
    "tags": []
   },
   "source": [
    "<div class=\"alert alert-block alert-info\">\n",
    "    <p>Let's try to tune the Random LightGBM</p>\n",
    "    <p>Parameters settings</p>\n",
    "</div>"
   ]
  },
  {
   "cell_type": "code",
   "execution_count": 35,
   "id": "425afc2e",
   "metadata": {},
   "outputs": [],
   "source": [
    "param_grid = {\n",
    "    \"n_estimators\" : np.arange(500, 1000, 100),\n",
    "    \"max_depth\" : np.arange(20, 30, 2),\n",
    "}"
   ]
  },
  {
   "cell_type": "markdown",
   "id": "6d880d4c",
   "metadata": {
    "tags": []
   },
   "source": [
    "<div class=\"alert alert-block alert-info\">\n",
    "    <p>Executing the model</p>\n",
    "</div>"
   ]
  },
  {
   "cell_type": "code",
   "execution_count": 36,
   "id": "9406a2ff",
   "metadata": {},
   "outputs": [],
   "source": [
    "clf_gb = GradientBoostingClassifier(validation_fraction=0.2, \n",
    "                                    n_iter_no_change=5,\n",
    "                                    tol=0.01,\n",
    "                                    random_state=42)"
   ]
  },
  {
   "cell_type": "code",
   "execution_count": 37,
   "id": "758d8e89",
   "metadata": {},
   "outputs": [],
   "source": [
    "search_gb = HalvingGridSearchCV(clf_gb, param_grid, scoring=\"roc_auc\", cv=stratified_kfold, n_jobs=-1)"
   ]
  },
  {
   "cell_type": "code",
   "execution_count": 38,
   "id": "68e8817e",
   "metadata": {},
   "outputs": [
    {
     "data": {
      "text/plain": [
       "HalvingGridSearchCV(cv=StratifiedKFold(n_splits=3, random_state=42, shuffle=True),\n",
       "                    estimator=GradientBoostingClassifier(n_iter_no_change=5,\n",
       "                                                         random_state=42,\n",
       "                                                         tol=0.01,\n",
       "                                                         validation_fraction=0.2),\n",
       "                    n_jobs=-1,\n",
       "                    param_grid={'max_depth': array([20, 22, 24, 26, 28]),\n",
       "                                'n_estimators': array([500, 600, 700, 800, 900])},\n",
       "                    scoring='roc_auc')"
      ]
     },
     "execution_count": 38,
     "metadata": {},
     "output_type": "execute_result"
    }
   ],
   "source": [
    "search_gb.fit(X_train_ss, y_train_ss)"
   ]
  },
  {
   "cell_type": "markdown",
   "id": "ac835ee5",
   "metadata": {
    "tags": []
   },
   "source": [
    "<div class=\"alert alert-block alert-info\">\n",
    "    <p>ROC-AUC score</p>\n",
    "</div>"
   ]
  },
  {
   "cell_type": "code",
   "execution_count": 39,
   "id": "4c2dc374",
   "metadata": {},
   "outputs": [
    {
     "data": {
      "text/plain": [
       "0.6568425917657963"
      ]
     },
     "execution_count": 39,
     "metadata": {},
     "output_type": "execute_result"
    }
   ],
   "source": [
    "search_gb.best_score_"
   ]
  },
  {
   "cell_type": "markdown",
   "id": "f6f48956",
   "metadata": {
    "tags": []
   },
   "source": [
    "<div class=\"alert alert-block alert-info\">\n",
    "    <p>The best parameters</p>\n",
    "</div>"
   ]
  },
  {
   "cell_type": "code",
   "execution_count": 40,
   "id": "746d0df2",
   "metadata": {},
   "outputs": [
    {
     "data": {
      "text/plain": [
       "{'max_depth': 20, 'n_estimators': 700}"
      ]
     },
     "execution_count": 40,
     "metadata": {},
     "output_type": "execute_result"
    }
   ],
   "source": [
    "search_gb.best_params_"
   ]
  },
  {
   "cell_type": "markdown",
   "id": "9e33ee3e",
   "metadata": {
    "tags": []
   },
   "source": [
    "<div style=\"background-color: #506AB9;\" >\n",
    "    <h2 style=\"margin: auto; padding: 20px; color:#fff; \">7. Custom evaluations</h2>\n",
    "</div>"
   ]
  },
  {
   "cell_type": "markdown",
   "id": "ff9637e2",
   "metadata": {
    "tags": []
   },
   "source": [
    "<div style=\"background-color: #506AB9;\" >\n",
    "    <h3 style=\"margin: auto; padding: 20px; color:#fff; \">7.1. Threshold selection</h3>\n",
    "</div>"
   ]
  },
  {
   "cell_type": "markdown",
   "id": "57149e4c",
   "metadata": {
    "tags": []
   },
   "source": [
    "<div class=\"alert alert-block alert-info\">\n",
    "    <p>Based on the predictions, we are going to identify the best treshold to mesure our models.\n",
    "    </p>\n",
    "</div>"
   ]
  },
  {
   "cell_type": "code",
   "execution_count": 19,
   "id": "5b23de1d",
   "metadata": {},
   "outputs": [],
   "source": [
    "def threshold_selection(y_train, y_prob):\n",
    "    \"\"\"\n",
    "    Method used to calculate the threshold.\n",
    "\n",
    "    Parameters:\n",
    "    -----------------\n",
    "        df (pandas.DataFrame): Dataset to analyze\n",
    "        y_train (1d array-like): True values\n",
    "        y_prob (1d array-like): Probabilite values predicted\n",
    "        \n",
    "    Returns:\n",
    "    -----------------\n",
    "        threshold (float) : Best threshold value\n",
    "        Threshold (image) : Plot the threshold and the best score\n",
    "    \"\"\"\n",
    "    \n",
    "    scores = []\n",
    "    \n",
    "    for threshold in np.linspace(0, 1, num=101):\n",
    "        y_prob_value = (y_prob > threshold)*1\n",
    "        score = fbeta_score(y_train, y_prob_value, beta = 2)\n",
    "        scores.append(score) \n",
    "\n",
    "    scores = np.asarray(scores)\n",
    "    best_threshold, best_score = (scores.argmax()*.01, round(scores.max(),3))\n",
    "    \n",
    "    print(\"Best results\")\n",
    "    print(\"- Best Threshold:\\t\", best_threshold)\n",
    "    print(\"- Best Score:\\t\\t\", best_score)\n",
    "    print(\"\\n\")\n",
    "    \n",
    "    plt.subplots(1, figsize=(6, 5))\n",
    "    plt.plot(np.linspace(0, 1, num=101), scores, lw=1)\n",
    "    plt.axvline(best_threshold, ls=\"--\", lw=1, c=\"r\")\n",
    "    plt.title(\"Threshold\")\n",
    "    plt.xlabel(\"proba threshold\")\n",
    "    plt.ylabel(\"Score performed\")\n",
    "    plt.show()\n",
    "    \n",
    "    return best_threshold"
   ]
  },
  {
   "cell_type": "markdown",
   "id": "c4ab7e36",
   "metadata": {
    "tags": []
   },
   "source": [
    "<div style=\"background-color: #506AB9;\" >\n",
    "    <h3 style=\"margin: auto; padding: 20px; color:#fff; \">7.2. Custom Score</h3>\n",
    "</div>"
   ]
  },
  {
   "cell_type": "markdown",
   "id": "5b26b808",
   "metadata": {
    "tags": []
   },
   "source": [
    "<div class=\"alert alert-block alert-info\">\n",
    "    <p>We need to penalize the <b>False Negative</b> that are loands <b>will be in default</b>, and they were <b>predicted incorrectly</b>.<br>Due to that, we are going to define a <b>Custom Score</b>.\n",
    "    </p>\n",
    "</div>"
   ]
  },
  {
   "cell_type": "code",
   "execution_count": 20,
   "id": "e5e68e17",
   "metadata": {},
   "outputs": [],
   "source": [
    "def custom_score(y_true, y_pred, threshold):\n",
    "    \"\"\"\n",
    "    Method used to calculate a score based on the penalization of False Negatives.\n",
    "\n",
    "    Parameters:\n",
    "    -----------------\n",
    "        y_true (series): True values\n",
    "        y_pred (series): Predicted values\n",
    "        threshold (float): Threshold value to use\n",
    "        \n",
    "    Returns:\n",
    "    -----------------\n",
    "        Score. (float): Score obtained based on the rules defined to measure. \n",
    "    \"\"\"\n",
    "    \n",
    "    # Getting the probability outputs from \"predict_proba\"\n",
    "    y_pred = (y_pred > threshold).astype(int)\n",
    "    \n",
    "    TN_rate = 1        # Loans that are not in default and were predicted correctly\n",
    "    TP_rate = 1        # Loans that are in default and were predicted correctly\n",
    "    FP_rate = 0        # Loans that are not in default and were predicted incorrectly\n",
    "    FN_rate = -100      # Loans that are in default and were were predicted incorrectly\n",
    "    \n",
    "    # Getting all values based on confusion matrix\n",
    "    (TN, FP, FN, TP) = confusion_matrix(y_true, y_pred, labels=[0, 1]).ravel()\n",
    "\n",
    "    # Total of default and not default cases\n",
    "    total_not_default = TN + FP     # Not default cases\n",
    "    total_default = TP + FN         # Default cases \n",
    "    \n",
    "    gain_total = TN*TN_rate + TP*TP_rate + FP*FP_rate + FN*FN_rate\n",
    "    gain_maximun = total_not_default*TN_rate + total_default*TP_rate\n",
    "    gain_minumun = total_not_default*TN_rate + total_default*FN_rate\n",
    "    \n",
    "    # normalize to get score between 0 (baseline) and 1\n",
    "    score = (gain_total - gain_minumun) / (gain_maximun - gain_minumun)\n",
    "    \n",
    "    return score"
   ]
  },
  {
   "cell_type": "markdown",
   "id": "183b8273",
   "metadata": {
    "tags": []
   },
   "source": [
    "<div style=\"background-color: #506AB9;\" >\n",
    "    <h2 style=\"margin: auto; padding: 20px; color:#fff; \">8. Modelisation using class_weight</h2>\n",
    "</div>"
   ]
  },
  {
   "cell_type": "markdown",
   "id": "9ab195ef",
   "metadata": {
    "tags": []
   },
   "source": [
    "<div class=\"alert alert-block alert-info\">\n",
    "    <p>At this point, we are going to use the parameter <b>class_weight</b> to affect the computation of the model to penalize differently a false classification from the minority and majority class </p>\n",
    "</div>"
   ]
  },
  {
   "cell_type": "markdown",
   "id": "63c05833",
   "metadata": {
    "tags": []
   },
   "source": [
    "<div style=\"background-color: #506AB9;\" >\n",
    "    <h4 style=\"margin: auto; padding: 20px; color:#fff; \">8.1. Random Forest</h4>\n",
    "</div>"
   ]
  },
  {
   "cell_type": "markdown",
   "id": "50d17d33",
   "metadata": {
    "tags": []
   },
   "source": [
    "<div class=\"alert alert-block alert-info\">\n",
    "    <p>Let's execute the model considering the parameters obtained</p>\n",
    "</div>"
   ]
  },
  {
   "cell_type": "code",
   "execution_count": 21,
   "id": "508c0203",
   "metadata": {},
   "outputs": [],
   "source": [
    "clf_rf_cw = RandomForestClassifier(**rf_parameters,\n",
    "                                   class_weight=\"balanced\",\n",
    "                                   random_state=42)"
   ]
  },
  {
   "cell_type": "markdown",
   "id": "c366eef1",
   "metadata": {
    "tags": []
   },
   "source": [
    "<div class=\"alert alert-block alert-info\">\n",
    "    <p>Executing the model with the complete dataset</p>\n",
    "</div>"
   ]
  },
  {
   "cell_type": "code",
   "execution_count": 22,
   "id": "51cc986b",
   "metadata": {},
   "outputs": [],
   "source": [
    "start_time_model = timeit.default_timer()\n",
    "\n",
    "clf_rf_cw.fit(X_train, y_train)\n",
    "\n",
    "end_time_model =  round(timeit.default_timer() - start_time_model, 3)"
   ]
  },
  {
   "cell_type": "markdown",
   "id": "cb69e5a9",
   "metadata": {
    "tags": []
   },
   "source": [
    "<div class=\"alert alert-block alert-info\">\n",
    "    <p>Making predictions and probabilities based on the best results for the model</p>\n",
    "</div>"
   ]
  },
  {
   "cell_type": "code",
   "execution_count": 23,
   "id": "8e933132",
   "metadata": {
    "tags": []
   },
   "outputs": [],
   "source": [
    "y_pred = clf_rf_cw.predict(X_test)\n",
    "y_prob = clf_rf_cw.predict_proba(X_test)\n",
    "y_prob = y_prob[:, 1]"
   ]
  },
  {
   "cell_type": "markdown",
   "id": "4a90dc9e",
   "metadata": {
    "tags": []
   },
   "source": [
    "<div class=\"alert alert-block alert-info\">\n",
    "    <p>Let's selet the threshold based on the best parameters</p>\n",
    "</div>"
   ]
  },
  {
   "cell_type": "code",
   "execution_count": 24,
   "id": "02c006cf",
   "metadata": {},
   "outputs": [
    {
     "name": "stdout",
     "output_type": "stream",
     "text": [
      "Best results\n",
      "- Best Threshold:\t 0.11\n",
      "- Best Score:\t\t 0.414\n",
      "\n",
      "\n"
     ]
    },
    {
     "data": {
      "image/png": "[encoded data removed]",
      "text/plain": [
       "<Figure size 432x360 with 1 Axes>"
      ]
     },
     "metadata": {
      "needs_background": "light"
     },
     "output_type": "display_data"
    }
   ],
   "source": [
    "threshold = threshold_selection(y_test, y_prob)"
   ]
  },
  {
   "cell_type": "markdown",
   "id": "40201038",
   "metadata": {
    "tags": []
   },
   "source": [
    "<div class=\"alert alert-block alert-info\">\n",
    "    <p>Getting the probability outputs from \"predict_proba\" based on the threshold</p>\n",
    "</div>"
   ]
  },
  {
   "cell_type": "code",
   "execution_count": 25,
   "id": "a0646b5d",
   "metadata": {},
   "outputs": [],
   "source": [
    "y_pred = (y_pred > threshold).astype(int)"
   ]
  },
  {
   "cell_type": "markdown",
   "id": "6c3f118e",
   "metadata": {
    "tags": []
   },
   "source": [
    "<div class=\"alert alert-block alert-info\">\n",
    "    <p>Plotting the Confusion Matrix</p>\n",
    "</div>"
   ]
  },
  {
   "cell_type": "code",
   "execution_count": 29,
   "id": "f8344235",
   "metadata": {},
   "outputs": [
    {
     "data": {
      "image/png": "[encoded data removed]",
      "text/plain": [
       "<Figure size 432x288 with 2 Axes>"
      ]
     },
     "metadata": {
      "needs_background": "light"
     },
     "output_type": "display_data"
    }
   ],
   "source": [
    "display = ConfusionMatrixDisplay.from_predictions(y_test, y_pred, display_labels=[\"Repaid\",\"No repaid\"])\n",
    "_ = display.ax_.set_title(\"Confusion matrix\")"
   ]
  },
  {
   "cell_type": "markdown",
   "id": "ebaabf73",
   "metadata": {
    "tags": []
   },
   "source": [
    "<div class=\"alert alert-block alert-info\">\n",
    "    <p>Plotting the Compute ROC curve and ROC area for each class</p>\n",
    "</div>"
   ]
  },
  {
   "cell_type": "code",
   "execution_count": 27,
   "id": "483b3a88",
   "metadata": {},
   "outputs": [
    {
     "data": {
      "image/png": "[encoded data removed]",
      "text/plain": [
       "<Figure size 432x432 with 1 Axes>"
      ]
     },
     "metadata": {
      "needs_background": "light"
     },
     "output_type": "display_data"
    }
   ],
   "source": [
    "fpr = dict()\n",
    "tpr = dict()\n",
    "fpr[\"micro\"], tpr[\"micro\"], _ = roc_curve(y_test.ravel(), y_prob.ravel())\n",
    "\n",
    "plt.subplots(1, figsize=(6, 6))\n",
    "plt.title(\"Receiver Operating Characteristic\")\n",
    "plt.plot(fpr[\"micro\"], tpr[\"micro\"])\n",
    "plt.plot([0, 1], ls=\"--\")\n",
    "plt.plot([0, 0], [1, 0] , c=\".7\"), plt.plot([1, 1] , c=\".7\")\n",
    "plt.ylabel(\"True Positive Rate\")\n",
    "plt.xlabel(\"False Positive Rate\")\n",
    "plt.show()"
   ]
  },
  {
   "cell_type": "markdown",
   "id": "d216614e",
   "metadata": {
    "tags": []
   },
   "source": [
    "<div class=\"alert alert-block alert-info\">\n",
    "    <p>Plotting the Precision-Recall curve</p>\n",
    "</div>"
   ]
  },
  {
   "cell_type": "code",
   "execution_count": 28,
   "id": "e281cf1a",
   "metadata": {},
   "outputs": [
    {
     "data": {
      "image/png": "[encoded data removed]",
      "text/plain": [
       "<Figure size 432x288 with 1 Axes>"
      ]
     },
     "metadata": {
      "needs_background": "light"
     },
     "output_type": "display_data"
    }
   ],
   "source": [
    "display = PrecisionRecallDisplay.from_predictions(y_test.ravel(), y_prob.ravel(), name=\"LGBMClassifier\")\n",
    "_ = display.ax_.set_title(\"2-class Precision-Recall curve\")"
   ]
  },
  {
   "cell_type": "markdown",
   "id": "9a28fb45",
   "metadata": {
    "tags": []
   },
   "source": [
    "<div class=\"alert alert-block alert-info\">\n",
    "    <p>Now, we can get the metrics</p>\n",
    "</div>"
   ]
  },
  {
   "cell_type": "code",
   "execution_count": 111,
   "id": "18c7fbe2",
   "metadata": {
    "tags": []
   },
   "outputs": [],
   "source": [
    "roc_auc = round(roc_auc_score(y_test, y_prob), 3)\n",
    "recall = round(recall_score(y_test, y_pred), 3)\n",
    "f1 = round(f1_score(y_test, y_pred), 3)\n",
    "custom = round(custom_score(y_test, y_pred, threshold), 3)"
   ]
  },
  {
   "cell_type": "code",
   "execution_count": 112,
   "id": "36fca12c",
   "metadata": {},
   "outputs": [],
   "source": [
    "df_temp = pd.DataFrame({\n",
    "    \"Model\" : [\"Class weight - Random Forest\"],\n",
    "    \"ROC-AUC\" : roc_auc,\n",
    "    \"Recall\" : recall,\n",
    "    \"F1\" : f1,\n",
    "    \"Custom Score\" : custom,\n",
    "    \"Duration\" : round(end_time_model/60, 1)\n",
    "})"
   ]
  },
  {
   "cell_type": "code",
   "execution_count": 113,
   "id": "2138ae7f",
   "metadata": {},
   "outputs": [
    {
     "data": {
      "text/html": [
       "<div>\n",
       "<style scoped>\n",
       "    .dataframe tbody tr th:only-of-type {\n",
       "        vertical-align: middle;\n",
       "    }\n",
       "\n",
       "    .dataframe tbody tr th {\n",
       "        vertical-align: top;\n",
       "    }\n",
       "\n",
       "    .dataframe thead th {\n",
       "        text-align: right;\n",
       "    }\n",
       "</style>\n",
       "<table border=\"1\" class=\"dataframe\">\n",
       "  <thead>\n",
       "    <tr style=\"text-align: right;\">\n",
       "      <th></th>\n",
       "      <th>Model</th>\n",
       "      <th>ROC-AUC</th>\n",
       "      <th>Recall</th>\n",
       "      <th>F1</th>\n",
       "      <th>Custom Score</th>\n",
       "      <th>Duration</th>\n",
       "    </tr>\n",
       "  </thead>\n",
       "  <tbody>\n",
       "    <tr>\n",
       "      <th>0</th>\n",
       "      <td>Dummy Classifier</td>\n",
       "      <td>0.500</td>\n",
       "      <td>0.000</td>\n",
       "      <td>0.000</td>\n",
       "      <td>NaN</td>\n",
       "      <td>0.0</td>\n",
       "    </tr>\n",
       "    <tr>\n",
       "      <th>1</th>\n",
       "      <td>Baseline - Random Forest</td>\n",
       "      <td>0.714</td>\n",
       "      <td>0.001</td>\n",
       "      <td>0.002</td>\n",
       "      <td>NaN</td>\n",
       "      <td>8.6</td>\n",
       "    </tr>\n",
       "    <tr>\n",
       "      <th>2</th>\n",
       "      <td>Baseline - LightGBM</td>\n",
       "      <td>0.773</td>\n",
       "      <td>0.033</td>\n",
       "      <td>0.062</td>\n",
       "      <td>NaN</td>\n",
       "      <td>0.3</td>\n",
       "    </tr>\n",
       "    <tr>\n",
       "      <th>3</th>\n",
       "      <td>Baseline - Gradient Boosting</td>\n",
       "      <td>0.765</td>\n",
       "      <td>0.019</td>\n",
       "      <td>0.036</td>\n",
       "      <td>NaN</td>\n",
       "      <td>28.3</td>\n",
       "    </tr>\n",
       "    <tr>\n",
       "      <th>4</th>\n",
       "      <td>Class weight - Random Forest</td>\n",
       "      <td>0.750</td>\n",
       "      <td>0.023</td>\n",
       "      <td>0.044</td>\n",
       "      <td>0.023</td>\n",
       "      <td>14.3</td>\n",
       "    </tr>\n",
       "  </tbody>\n",
       "</table>\n",
       "</div>"
      ],
      "text/plain": [
       "                          Model  ROC-AUC  Recall     F1  Custom Score  \\\n",
       "0              Dummy Classifier    0.500   0.000  0.000           NaN   \n",
       "1      Baseline - Random Forest    0.714   0.001  0.002           NaN   \n",
       "2           Baseline - LightGBM    0.773   0.033  0.062           NaN   \n",
       "3  Baseline - Gradient Boosting    0.765   0.019  0.036           NaN   \n",
       "4  Class weight - Random Forest    0.750   0.023  0.044         0.023   \n",
       "\n",
       "   Duration  \n",
       "0       0.0  \n",
       "1       8.6  \n",
       "2       0.3  \n",
       "3      28.3  \n",
       "4      14.3  "
      ]
     },
     "execution_count": 113,
     "metadata": {},
     "output_type": "execute_result"
    }
   ],
   "source": [
    "df_models_metrics = pd.concat([df_models_metrics, df_temp])\n",
    "df_models_metrics.reset_index(drop=True)"
   ]
  },
  {
   "cell_type": "code",
   "execution_count": null,
   "id": "cca3bdcc",
   "metadata": {},
   "outputs": [],
   "source": []
  },
  {
   "cell_type": "code",
   "execution_count": null,
   "id": "0a34d6a7",
   "metadata": {},
   "outputs": [],
   "source": []
  },
  {
   "cell_type": "markdown",
   "id": "b47e91fe",
   "metadata": {
    "tags": []
   },
   "source": [
    "<div style=\"background-color: red;\" >\n",
    "    <h2 style=\"margin: auto; padding: 20px; color:#fff; \">----------- HERE -----------</h2>\n",
    "</div>"
   ]
  },
  {
   "cell_type": "code",
   "execution_count": null,
   "id": "7c8c8a2f",
   "metadata": {},
   "outputs": [],
   "source": []
  },
  {
   "cell_type": "code",
   "execution_count": null,
   "id": "ebfb88ba",
   "metadata": {},
   "outputs": [],
   "source": []
  },
  {
   "cell_type": "code",
   "execution_count": null,
   "id": "84a35fff",
   "metadata": {},
   "outputs": [],
   "source": []
  },
  {
   "cell_type": "code",
   "execution_count": null,
   "id": "a581390b",
   "metadata": {},
   "outputs": [],
   "source": []
  },
  {
   "cell_type": "code",
   "execution_count": null,
   "id": "b9d8545a",
   "metadata": {},
   "outputs": [],
   "source": []
  },
  {
   "cell_type": "markdown",
   "id": "71a07e45",
   "metadata": {
    "tags": []
   },
   "source": [
    "<div class=\"alert alert-block alert-info\">\n",
    "    <p>To treat the unbalanced class, we are going to implement OverSampling technique with SMOTE.</p>\n",
    "</div>"
   ]
  },
  {
   "cell_type": "code",
   "execution_count": 26,
   "id": "2b666176",
   "metadata": {},
   "outputs": [],
   "source": [
    "smote = SMOTE(random_state=42, n_jobs=-1)"
   ]
  },
  {
   "cell_type": "code",
   "execution_count": null,
   "id": "165bb6a6",
   "metadata": {},
   "outputs": [],
   "source": []
  },
  {
   "cell_type": "code",
   "execution_count": null,
   "id": "724b1a3c",
   "metadata": {},
   "outputs": [],
   "source": []
  },
  {
   "cell_type": "code",
   "execution_count": null,
   "id": "f58fc147",
   "metadata": {},
   "outputs": [],
   "source": []
  },
  {
   "cell_type": "markdown",
   "id": "3f2941eb",
   "metadata": {
    "tags": []
   },
   "source": [
    "<div class=\"alert alert-block alert-info\">\n",
    "    <p>Executing the model with the complete dataset after making the OverSampling</p>\n",
    "</div>"
   ]
  },
  {
   "cell_type": "code",
   "execution_count": null,
   "id": "cad0e26f",
   "metadata": {},
   "outputs": [],
   "source": [
    "clf_rf.fit(X_train, y_train)"
   ]
  },
  {
   "cell_type": "markdown",
   "id": "6e2ea71a",
   "metadata": {
    "tags": []
   },
   "source": [
    "<div class=\"alert alert-block alert-info\">\n",
    "    <p>Making predictions and probabilities based on the best results for the model</p>\n",
    "</div>"
   ]
  },
  {
   "cell_type": "code",
   "execution_count": null,
   "id": "de8ee542",
   "metadata": {
    "tags": []
   },
   "outputs": [],
   "source": [
    "y_pred = clf_rf.predict(X_test)\n",
    "y_prob = clf_rf.predict_proba(X_test)\n",
    "y_prob = y_prob[:, 1]"
   ]
  },
  {
   "cell_type": "markdown",
   "id": "d03096a2",
   "metadata": {
    "tags": []
   },
   "source": [
    "<div class=\"alert alert-block alert-info\">\n",
    "    <p>Let's selet the threshold based on the best parameters</p>\n",
    "</div>"
   ]
  },
  {
   "cell_type": "code",
   "execution_count": null,
   "id": "1957071d",
   "metadata": {},
   "outputs": [],
   "source": [
    "threshold = threshold_selection(y_test, y_prob)"
   ]
  },
  {
   "cell_type": "markdown",
   "id": "1d4fb743",
   "metadata": {
    "tags": []
   },
   "source": [
    "<div class=\"alert alert-block alert-info\">\n",
    "    <p>Getting the probability outputs from \"predict_proba\" based on the threshold</p>\n",
    "</div>"
   ]
  },
  {
   "cell_type": "code",
   "execution_count": null,
   "id": "5f099f73",
   "metadata": {},
   "outputs": [],
   "source": [
    "y_pred = (y_pred > threshold).astype(int)"
   ]
  },
  {
   "cell_type": "markdown",
   "id": "1d112199",
   "metadata": {
    "tags": []
   },
   "source": [
    "<div class=\"alert alert-block alert-info\">\n",
    "    <p>Now, we can get the metrics</p>\n",
    "</div>"
   ]
  },
  {
   "cell_type": "code",
   "execution_count": null,
   "id": "049d7843",
   "metadata": {
    "tags": []
   },
   "outputs": [],
   "source": [
    "precision = round(precision_score(y_test, y_pred), 3)\n",
    "roc_auc = round(roc_auc_score(y_test, y_prob), 3)\n",
    "recall = round(recall_score(y_test, y_pred), 3)\n",
    "f1 = round(f1_score(y_test, y_pred), 3)\n",
    "f2 = round(fbeta_score(y_test, y_pred, beta=2), 3)\n",
    "custom = round(custom_score(y_test, y_pred, threshold), 3)\n",
    "\n",
    "# Get the results\n",
    "print(\"Model's metrics\")\n",
    "print(\"- Precision:\\t\\t\", precision)\n",
    "print(\"- ROC-AUC:\\t\\t\", roc_auc)\n",
    "print(\"- Recall:\\t\\t\", recall)\n",
    "print(\"- F1:\\t\\t\\t\", f1)\n",
    "print(\"- F2:\\t\\t\\t\", f2)\n",
    "print(\"- Custom Score:\\t\\t\", custom)\n",
    "print(\"- Duration:\\t\\t\", round(search_rf.cv_results_[\"mean_score_time\"][0], 3), \" minutes\")"
   ]
  },
  {
   "cell_type": "markdown",
   "id": "58c5a10d",
   "metadata": {
    "tags": []
   },
   "source": [
    "<div class=\"alert alert-block alert-info\">\n",
    "    <p>Plotting the Compute ROC curve</p>\n",
    "</div>"
   ]
  },
  {
   "cell_type": "code",
   "execution_count": null,
   "id": "592a2333",
   "metadata": {},
   "outputs": [],
   "source": [
    "fpr = dict()\n",
    "tpr = dict()\n",
    "fpr[\"micro\"], tpr[\"micro\"], _ = roc_curve(y_test.ravel(), y_prob.ravel())\n",
    "\n",
    "plt.subplots(1, figsize=(6, 6))\n",
    "plt.title(\"Receiver Operating Characteristic\")\n",
    "plt.plot(fpr[\"micro\"], tpr[\"micro\"])\n",
    "plt.plot([0, 1], ls=\"--\")\n",
    "plt.plot([0, 0], [1, 0] , c=\".7\"), plt.plot([1, 1] , c=\".7\")\n",
    "plt.ylabel(\"True Positive Rate\")\n",
    "plt.xlabel(\"False Positive Rate\")\n",
    "plt.show()"
   ]
  },
  {
   "cell_type": "markdown",
   "id": "d45dddd9",
   "metadata": {
    "tags": []
   },
   "source": [
    "<div class=\"alert alert-block alert-info\">\n",
    "    <p>Plotting the Precision-Recall curve</p>\n",
    "</div>"
   ]
  },
  {
   "cell_type": "code",
   "execution_count": null,
   "id": "663daf9b",
   "metadata": {},
   "outputs": [],
   "source": [
    "display = PrecisionRecallDisplay.from_predictions(y_test.ravel(), y_prob.ravel(), name=\"RandomForestClassifier\")\n",
    "_ = display.ax_.set_title(\"2-class Precision-Recall curve\")"
   ]
  },
  {
   "cell_type": "markdown",
   "id": "dd217d5a",
   "metadata": {
    "tags": []
   },
   "source": [
    "<div class=\"alert alert-block alert-info\">\n",
    "    <p>Plotting the Confusion Matrix</p>\n",
    "</div>"
   ]
  },
  {
   "cell_type": "code",
   "execution_count": null,
   "id": "1cb164d8",
   "metadata": {},
   "outputs": [],
   "source": [
    "display = ConfusionMatrixDisplay.from_predictions(y_test, y_pred, display_labels=[\"Repaid\",\"No repaid\"])\n",
    "_ = display.ax_.set_title(\"Confusion matrix\")"
   ]
  },
  {
   "cell_type": "markdown",
   "id": "882db086",
   "metadata": {
    "tags": []
   },
   "source": [
    "<div class=\"alert alert-block alert-info\">\n",
    "    <p>Adding metrics to compare with others models</p>\n",
    "</div>"
   ]
  },
  {
   "cell_type": "code",
   "execution_count": null,
   "id": "cfaf2769",
   "metadata": {},
   "outputs": [],
   "source": [
    "df_temp = pd.DataFrame({\n",
    "    \"Model\" : [\"Random Forest\"],\n",
    "    \"Precision\" : precision, \n",
    "    \"ROC-AUC\" : roc_auc,    \n",
    "    \"Recall\" : recall,\n",
    "    \"F1\" : f1,\n",
    "    \"F2\" : f2,\n",
    "    \"Custom\" : custom,\n",
    "    \"Duration\" : round(search_rf.cv_results_[\"mean_score_time\"][0], 3)\n",
    "})"
   ]
  },
  {
   "cell_type": "code",
   "execution_count": null,
   "id": "3d341e06",
   "metadata": {},
   "outputs": [],
   "source": [
    "df_models_metrics = pd.concat([df_models_metrics, df_temp])\n",
    "df_models_metrics"
   ]
  },
  {
   "cell_type": "code",
   "execution_count": null,
   "id": "f5c4a919",
   "metadata": {},
   "outputs": [],
   "source": []
  },
  {
   "cell_type": "markdown",
   "id": "753b1dc1",
   "metadata": {
    "tags": []
   },
   "source": [
    "<div class=\"alert alert-block alert-danger\">\n",
    "    <p>FLAG</p>\n",
    "</div>"
   ]
  },
  {
   "cell_type": "code",
   "execution_count": null,
   "id": "2ef91444",
   "metadata": {},
   "outputs": [],
   "source": []
  },
  {
   "cell_type": "code",
   "execution_count": null,
   "id": "d9c4e8b1",
   "metadata": {},
   "outputs": [],
   "source": []
  },
  {
   "cell_type": "code",
   "execution_count": null,
   "id": "2e8b4a00",
   "metadata": {},
   "outputs": [],
   "source": []
  },
  {
   "cell_type": "markdown",
   "id": "3a417602",
   "metadata": {
    "tags": []
   },
   "source": [
    "<div class=\"alert alert-block alert-info\">\n",
    "    <p>We are going to face an <b>Unbalanced Classification Problem</b> and we are going to use three models</p>\n",
    "    <ul style=\"list-style-type: square;\">\n",
    "        <li>Random Forest Classifier</li>\n",
    "        <li>Support Vector Machine</li>\n",
    "        <li>LightGBM</li>\n",
    "    </ul>\n",
    "    <p>Also, we are going to use a Dummy Classifier and baseline to compare the models</p>\n",
    "    <p>First of all, we are going to find some parameters using a data subsample and HalvingGridSearchCV</p>\n",
    "    <p>Also, we are going to use a Threshold selection then a Custom score to penalize the Falses Positives</p>\n",
    "    <p>So, let's define the parameters to use throughout the three models</p>\n",
    "</div>"
   ]
  },
  {
   "cell_type": "code",
   "execution_count": null,
   "id": "b978c201",
   "metadata": {},
   "outputs": [],
   "source": []
  },
  {
   "cell_type": "code",
   "execution_count": null,
   "id": "9539d87d",
   "metadata": {},
   "outputs": [],
   "source": []
  },
  {
   "cell_type": "code",
   "execution_count": null,
   "id": "1f3352fe",
   "metadata": {},
   "outputs": [],
   "source": []
  },
  {
   "cell_type": "markdown",
   "id": "fe14b9c4",
   "metadata": {
    "tags": []
   },
   "source": [
    "<div class=\"alert alert-block alert-info\">\n",
    "    <p>Now, we are going to do a subsamble of the dataset to tune some parameters before the model execution\n",
    "   </p>\n",
    "</div>"
   ]
  },
  {
   "cell_type": "code",
   "execution_count": 13,
   "id": "46317659",
   "metadata": {},
   "outputs": [],
   "source": [
    "df_subsample = df_current_clients.copy()"
   ]
  },
  {
   "cell_type": "code",
   "execution_count": 14,
   "id": "f132a52d",
   "metadata": {},
   "outputs": [],
   "source": [
    "df_subsample = df_subsample.sample(frac=0.5)"
   ]
  },
  {
   "cell_type": "code",
   "execution_count": 15,
   "id": "3d243aff",
   "metadata": {},
   "outputs": [
    {
     "data": {
      "image/png": "[encoded data removed]",
      "text/plain": [
       "<Figure size 648x360 with 2 Axes>"
      ]
     },
     "metadata": {
      "needs_background": "light"
     },
     "output_type": "display_data"
    }
   ],
   "source": [
    "barplot_and_pie(df_subsample[\"TARGET\"], \"Target distribution\", \" \")"
   ]
  },
  {
   "cell_type": "code",
   "execution_count": 16,
   "id": "21c37564",
   "metadata": {},
   "outputs": [
    {
     "name": "stdout",
     "output_type": "stream",
     "text": [
      "\n",
      "Analysis Header of df dataset\n",
      "--------------------------------------------------------------------------------\n",
      "- Dataset shape:\t\t\t 153754 rows and 509 columns\n",
      "- Total of NaN values:\t\t\t 0\n",
      "- Percentage of NaN:\t\t\t 0.0 %\n",
      "- Total of infinite values:\t\t 0\n",
      "- Percentage of infinite values:\t 0.0 %\n",
      "- Total of full duplicates rows:\t 0\n",
      "- Total of empty rows:\t\t\t 0\n",
      "- Total of empty columns:\t\t 0\n",
      "- Unique indexes:\t\t\t True\n",
      "- Memory usage:\t\t\t\t 231.1 MB\n"
     ]
    }
   ],
   "source": [
    "df_analysis(df_subsample, \"df\", analysis_type=\"header\")"
   ]
  },
  {
   "cell_type": "markdown",
   "id": "7708999e",
   "metadata": {
    "tags": []
   },
   "source": [
    "<div class=\"alert alert-block alert-info\">\n",
    "    <p>Now, we are going to split the subsample of the data to tune the models\n",
    "   </p>\n",
    "</div>"
   ]
  },
  {
   "cell_type": "code",
   "execution_count": 22,
   "id": "41a192a9",
   "metadata": {},
   "outputs": [],
   "source": [
    "X_ss = df_subsample[TRAINING_COLUMNS]"
   ]
  },
  {
   "cell_type": "code",
   "execution_count": 23,
   "id": "d7e138c7",
   "metadata": {},
   "outputs": [],
   "source": [
    "y_target_ss = df_subsample.loc[:,\"TARGET\"]"
   ]
  },
  {
   "cell_type": "code",
   "execution_count": 24,
   "id": "f00c0a65",
   "metadata": {},
   "outputs": [],
   "source": [
    "X_train_ss, X_test_ss, y_train_ss, y_test_ss = train_test_split(X_ss, y_target_ss, test_size=0.20, stratify=y_target_ss, random_state=42)"
   ]
  },
  {
   "cell_type": "code",
   "execution_count": 25,
   "id": "dec40891",
   "metadata": {},
   "outputs": [
    {
     "name": "stdout",
     "output_type": "stream",
     "text": [
      "X_train_ss: (123003, 506)\n",
      "y_train_ss: (123003,)\n",
      "---------------------\n",
      "X_test_ss: (30751, 506)\n",
      "y_test_ss: (30751,)\n"
     ]
    }
   ],
   "source": [
    "print(\"X_train_ss: {}\".format(X_train_ss.shape))\n",
    "print(\"y_train_ss: {}\".format(y_train_ss.shape))\n",
    "print(\"---------------------\")\n",
    "print(\"X_test_ss: {}\".format(X_test_ss.shape))\n",
    "print(\"y_test_ss: {}\".format(y_test_ss.shape))"
   ]
  },
  {
   "cell_type": "code",
   "execution_count": null,
   "id": "b7017811",
   "metadata": {},
   "outputs": [],
   "source": []
  },
  {
   "cell_type": "code",
   "execution_count": null,
   "id": "d2ed3304",
   "metadata": {},
   "outputs": [],
   "source": []
  },
  {
   "cell_type": "code",
   "execution_count": null,
   "id": "a61ac9f7",
   "metadata": {},
   "outputs": [],
   "source": []
  },
  {
   "cell_type": "code",
   "execution_count": null,
   "id": "a927f930",
   "metadata": {},
   "outputs": [],
   "source": []
  },
  {
   "cell_type": "code",
   "execution_count": null,
   "id": "83aa7aaa",
   "metadata": {},
   "outputs": [],
   "source": []
  },
  {
   "cell_type": "markdown",
   "id": "26c51e01",
   "metadata": {
    "tags": []
   },
   "source": [
    "<div style=\"background-color: #506AB9;\" >\n",
    "    <h2 style=\"margin: auto; padding: 20px; color:#fff; \">6. Modelisation</h2>\n",
    "</div>"
   ]
  },
  {
   "cell_type": "markdown",
   "id": "f17cf8d2",
   "metadata": {
    "tags": []
   },
   "source": [
    "<div class=\"alert alert-block alert-info\">\n",
    "    <p>We are going to face an <b>Unbalanced Classification Problem</b> and we are going to use three models</p>\n",
    "    <ul style=\"list-style-type: square;\">\n",
    "        <li>Random Forest Classifier</li>\n",
    "        <li>Support Vector Machine</li>\n",
    "        <li>LightGBM</li>\n",
    "    </ul>\n",
    "    <p>First of all, we are going to find some parameters using a data subsample and HalvingGridSearchCV</p>\n",
    "    <p>Also, we are going to use a Threshold selection then a Custom score to penalize the Falses Positives</p>\n",
    "    <p>So, let's define the parameters to use throughout the three models</p>\n",
    "</div>"
   ]
  },
  {
   "cell_type": "markdown",
   "id": "df0afd7d",
   "metadata": {
    "tags": []
   },
   "source": [
    "<div class=\"alert alert-block alert-info\">\n",
    "    <p>To treat the unbalanced class, we are going t implement OverSampling technique with SMOTE.</p>\n",
    "</div>"
   ]
  },
  {
   "cell_type": "code",
   "execution_count": 26,
   "id": "fc9e750d",
   "metadata": {},
   "outputs": [],
   "source": [
    "smote = SMOTE(random_state=42, n_jobs=-1)"
   ]
  },
  {
   "cell_type": "markdown",
   "id": "e360387b",
   "metadata": {
    "tags": []
   },
   "source": [
    "<div class=\"alert alert-block alert-info\">\n",
    "    <p>Also, we are going to use Stratified K-Folds cross-validator to ensure that each fold of dataset has the same proportion of observations with a given label.</p>\n",
    "</div>"
   ]
  },
  {
   "cell_type": "code",
   "execution_count": 27,
   "id": "a00898b4",
   "metadata": {},
   "outputs": [],
   "source": [
    "stratified_kfold = StratifiedKFold(n_splits=3, shuffle=True, random_state=42)"
   ]
  },
  {
   "cell_type": "markdown",
   "id": "d7897e35",
   "metadata": {
    "tags": []
   },
   "source": [
    "<div class=\"alert alert-block alert-info\">\n",
    "    <p>Dataframe to compare metrics.</p>\n",
    "</div>"
   ]
  },
  {
   "cell_type": "code",
   "execution_count": 28,
   "id": "4b8ec051",
   "metadata": {},
   "outputs": [],
   "source": [
    "df_models_metrics = pd.DataFrame({})"
   ]
  },
  {
   "cell_type": "markdown",
   "id": "5da76cf1",
   "metadata": {
    "tags": []
   },
   "source": [
    "<div class=\"alert alert-block alert-danger\">\n",
    "    <p>FLAG</p>\n",
    "</div>"
   ]
  },
  {
   "cell_type": "markdown",
   "id": "1e995525",
   "metadata": {
    "tags": []
   },
   "source": [
    "<div style=\"background-color: #506AB9;\" >\n",
    "    <h3 style=\"margin: auto; padding: 20px; color:#fff; \">6.1. Baseline</h3>\n",
    "</div>"
   ]
  },
  {
   "cell_type": "code",
   "execution_count": null,
   "id": "5d855274",
   "metadata": {},
   "outputs": [],
   "source": []
  },
  {
   "cell_type": "code",
   "execution_count": null,
   "id": "04bdcb6b",
   "metadata": {},
   "outputs": [],
   "source": []
  },
  {
   "cell_type": "code",
   "execution_count": null,
   "id": "eb36cba6",
   "metadata": {},
   "outputs": [],
   "source": []
  },
  {
   "cell_type": "markdown",
   "id": "2256ec0e",
   "metadata": {
    "tags": []
   },
   "source": [
    "<div class=\"alert alert-block alert-danger\">\n",
    "    <p>FLAG</p>\n",
    "</div>"
   ]
  },
  {
   "cell_type": "markdown",
   "id": "4963efa3",
   "metadata": {
    "tags": []
   },
   "source": [
    "<div style=\"background-color: #506AB9;\" >\n",
    "    <h2 style=\"margin: auto; padding: 20px; color:#fff; \">6. Custom evaluations</h2>\n",
    "</div>"
   ]
  },
  {
   "cell_type": "markdown",
   "id": "8e8a227b",
   "metadata": {
    "tags": []
   },
   "source": [
    "<div style=\"background-color: #506AB9;\" >\n",
    "    <h3 style=\"margin: auto; padding: 20px; color:#fff; \">6.1. Threshold selection</h3>\n",
    "</div>"
   ]
  },
  {
   "cell_type": "markdown",
   "id": "3ea8e37c",
   "metadata": {
    "tags": []
   },
   "source": [
    "<div class=\"alert alert-block alert-info\">\n",
    "    <p>Based on the predictions, we are going to identify the best treshold to mesure our models.\n",
    "    </p>\n",
    "</div>"
   ]
  },
  {
   "cell_type": "code",
   "execution_count": 41,
   "id": "b7c78528",
   "metadata": {},
   "outputs": [],
   "source": [
    "def threshold_selection(y_train, y_prob):\n",
    "    \"\"\"\n",
    "    Method used to calculate the threshold.\n",
    "\n",
    "    Parameters:\n",
    "    -----------------\n",
    "        df (pandas.DataFrame): Dataset to analyze\n",
    "        y_train (1d array-like): True values\n",
    "        y_prob (1d array-like): Probabilite values predicted\n",
    "        \n",
    "    Returns:\n",
    "    -----------------\n",
    "        threshold (float) : Best threshold value\n",
    "        Threshold (image) : Plot the threshold and the best score\n",
    "    \"\"\"\n",
    "    \n",
    "    scores = []\n",
    "    \n",
    "    for threshold in np.linspace(0, 1, num=101):\n",
    "        y_prob_value = (y_prob > threshold)*1\n",
    "        score = fbeta_score(y_train, y_prob_value, beta = 2)\n",
    "        scores.append(score) \n",
    "\n",
    "    scores = np.asarray(scores)\n",
    "    best_threshold, best_score = (scores.argmax()*.01, round(scores.max(),3))\n",
    "    \n",
    "    print(\"Best results\")\n",
    "    print(\"- Best Threshold:\\t\", best_threshold)\n",
    "    print(\"- Best Score:\\t\\t\", best_score)\n",
    "    print(\"\\n\")\n",
    "    \n",
    "    plt.subplots(1, figsize=(6, 5))\n",
    "    plt.plot(np.linspace(0, 1, num=101), scores, lw=1)\n",
    "    plt.axvline(best_threshold, ls=\"--\", lw=1, c=\"r\")\n",
    "    plt.title(\"Threshold\")\n",
    "    plt.xlabel(\"proba threshold\")\n",
    "    plt.ylabel(\"Score performed\")\n",
    "    plt.show()\n",
    "    \n",
    "    return best_threshold"
   ]
  },
  {
   "cell_type": "markdown",
   "id": "828dad25",
   "metadata": {
    "tags": []
   },
   "source": [
    "<div style=\"background-color: #506AB9;\" >\n",
    "    <h3 style=\"margin: auto; padding: 20px; color:#fff; \">6.2. Custom Score</h3>\n",
    "</div>"
   ]
  },
  {
   "cell_type": "markdown",
   "id": "c37ff9bc",
   "metadata": {
    "tags": []
   },
   "source": [
    "<div class=\"alert alert-block alert-info\">\n",
    "    <p>We need to penalize the <b>False Negative</b> that are loands <b>will be in default</b>, and they were <b>predicted incorrectly</b>. Due to that, we are going to define a <b>Custom Score</b>.\n",
    "    </p>\n",
    "</div>"
   ]
  },
  {
   "cell_type": "code",
   "execution_count": 42,
   "id": "91a06273",
   "metadata": {},
   "outputs": [],
   "source": [
    "def custom_score(y_true, y_pred, threshold):\n",
    "    \"\"\"\n",
    "    Method used to calculate a score based on the penalization of False Negatives.\n",
    "\n",
    "    Parameters:\n",
    "    -----------------\n",
    "        y_true (series): True values\n",
    "        y_pred (series): Predicted values\n",
    "        threshold (float): Threshold value to use\n",
    "        \n",
    "    Returns:\n",
    "    -----------------\n",
    "        Score. (float): Score obtained based on the rules defined to measure. \n",
    "    \"\"\"\n",
    "    \n",
    "    # Getting the probability outputs from \"predict_proba\"\n",
    "    y_pred = (y_pred > threshold).astype(int)\n",
    "    \n",
    "    TN_rate = 1        # Loans that are not in default and were predicted correctly\n",
    "    TP_rate = 1        # Loans that are in default and were predicted correctly\n",
    "    FP_rate = 0        # Loans that are not in default and were predicted incorrectly\n",
    "    FN_rate = -100      # Loans that are in default and were were predicted incorrectly\n",
    "    \n",
    "    # Getting all values based on confusion matrix\n",
    "    (TN, FP, FN, TP) = confusion_matrix(y_true, y_pred, labels=[0, 1]).ravel()\n",
    "\n",
    "    # Total of default and not default cases\n",
    "    total_not_default = TN + FP     # Not default cases\n",
    "    total_default = TP + FN         # Default cases \n",
    "    \n",
    "    gain_total = TN*TN_rate + TP*TP_rate + FP*FP_rate + FN*FN_rate\n",
    "    gain_maximun = total_not_default*TN_rate + total_default*TP_rate\n",
    "    gain_minumun = total_not_default*TN_rate + total_default*FN_rate\n",
    "    \n",
    "    # normalize to get score between 0 (baseline) and 1\n",
    "    score = (gain_total - gain_minumun) / (gain_maximun - gain_minumun)\n",
    "    \n",
    "    return score"
   ]
  },
  {
   "cell_type": "markdown",
   "id": "a315446a",
   "metadata": {
    "tags": []
   },
   "source": [
    "<div class=\"alert alert-block alert-danger\">\n",
    "    <p>FLAG</p>\n",
    "</div>"
   ]
  },
  {
   "cell_type": "code",
   "execution_count": null,
   "id": "7163e0c1",
   "metadata": {},
   "outputs": [],
   "source": []
  },
  {
   "cell_type": "code",
   "execution_count": null,
   "id": "1384677b",
   "metadata": {},
   "outputs": [],
   "source": []
  },
  {
   "cell_type": "code",
   "execution_count": null,
   "id": "1606939d",
   "metadata": {},
   "outputs": [],
   "source": []
  },
  {
   "cell_type": "markdown",
   "id": "afdf5f3d",
   "metadata": {
    "tags": []
   },
   "source": [
    "<div class=\"alert alert-block alert-danger\">\n",
    "    <p>FLAG</p>\n",
    "</div>"
   ]
  },
  {
   "cell_type": "markdown",
   "id": "2f3fc641",
   "metadata": {
    "tags": []
   },
   "source": [
    "<div style=\"background-color: #506AB9;\" >\n",
    "    <h3 style=\"margin: auto; padding: 20px; color:#fff; \">6.2. Hyperparameters Tuning</h3>\n",
    "</div>"
   ]
  },
  {
   "cell_type": "markdown",
   "id": "4444c3bc",
   "metadata": {
    "tags": []
   },
   "source": [
    "<div class=\"alert alert-block alert-info\">\n",
    "    <p>Let's find some parameters using a data subsample and HalvingGridSearchCV</p>\n",
    "</div>"
   ]
  },
  {
   "cell_type": "markdown",
   "id": "398079c0",
   "metadata": {
    "tags": []
   },
   "source": [
    "<div style=\"background-color: #506AB9;\" >\n",
    "    <h4 style=\"margin: auto; padding: 20px; color:#fff; \">6.2.1. Random Forest</h4>\n",
    "</div>"
   ]
  },
  {
   "cell_type": "markdown",
   "id": "e05a9d98",
   "metadata": {
    "tags": []
   },
   "source": [
    "<div class=\"alert alert-block alert-info\">\n",
    "    <p>Parameters settings</p>\n",
    "</div>"
   ]
  },
  {
   "cell_type": "code",
   "execution_count": 43,
   "id": "aabfe655",
   "metadata": {},
   "outputs": [],
   "source": [
    "param_grid = {\n",
    "    \"n_estimators\" : np.arange(500, 1000, 100),\n",
    "    \"max_depth\" : np.arange(20, 30, 2),\n",
    "}"
   ]
  },
  {
   "cell_type": "markdown",
   "id": "43c399c1",
   "metadata": {
    "tags": []
   },
   "source": [
    "<div class=\"alert alert-block alert-info\">\n",
    "    <p>Executing the model</p>\n",
    "</div>"
   ]
  },
  {
   "cell_type": "code",
   "execution_count": 44,
   "id": "9860c588",
   "metadata": {},
   "outputs": [],
   "source": [
    "clf_rf = RandomForestClassifier(random_state=42)"
   ]
  },
  {
   "cell_type": "code",
   "execution_count": 45,
   "id": "744150ab",
   "metadata": {},
   "outputs": [],
   "source": [
    "search_rf = HalvingGridSearchCV(clf_rf, param_grid, scoring=\"roc_auc\", cv=stratified_kfold, n_jobs=-1)"
   ]
  },
  {
   "cell_type": "code",
   "execution_count": 46,
   "id": "9057a148",
   "metadata": {},
   "outputs": [
    {
     "data": {
      "text/plain": [
       "HalvingGridSearchCV(cv=StratifiedKFold(n_splits=3, random_state=42, shuffle=True),\n",
       "                    estimator=RandomForestClassifier(random_state=42),\n",
       "                    n_jobs=-1,\n",
       "                    param_grid={'max_depth': array([20, 22, 24, 26, 28]),\n",
       "                                'n_estimators': array([500, 600, 700, 800, 900])})"
      ]
     },
     "execution_count": 46,
     "metadata": {},
     "output_type": "execute_result"
    }
   ],
   "source": [
    "search_rf.fit(X_train, y_train)"
   ]
  },
  {
   "cell_type": "markdown",
   "id": "3cfe0b5f",
   "metadata": {
    "tags": []
   },
   "source": [
    "<div class=\"alert alert-block alert-info\">\n",
    "    <p>ROC-AUC score</p>\n",
    "</div>"
   ]
  },
  {
   "cell_type": "code",
   "execution_count": 47,
   "id": "d066a35b",
   "metadata": {},
   "outputs": [
    {
     "data": {
      "text/plain": [
       "0.9192214824028683"
      ]
     },
     "execution_count": 47,
     "metadata": {},
     "output_type": "execute_result"
    }
   ],
   "source": [
    "search_rf.best_score_"
   ]
  },
  {
   "cell_type": "markdown",
   "id": "e7c4eb15",
   "metadata": {
    "tags": []
   },
   "source": [
    "<div class=\"alert alert-block alert-info\">\n",
    "    <p>The best parameters</p>\n",
    "</div>"
   ]
  },
  {
   "cell_type": "code",
   "execution_count": 48,
   "id": "52c5be07",
   "metadata": {},
   "outputs": [
    {
     "data": {
      "text/plain": [
       "{'max_depth': 26, 'n_estimators': 500}"
      ]
     },
     "execution_count": 48,
     "metadata": {},
     "output_type": "execute_result"
    }
   ],
   "source": [
    "search_rf.best_params_"
   ]
  },
  {
   "cell_type": "markdown",
   "id": "b7022194",
   "metadata": {
    "tags": []
   },
   "source": [
    "<div style=\"background-color: #506AB9;\" >\n",
    "    <h4 style=\"margin: auto; padding: 20px; color:#fff; \">6.2.2. LightGBM</h4>\n",
    "</div>"
   ]
  },
  {
   "cell_type": "markdown",
   "id": "3d0b5b38",
   "metadata": {
    "tags": []
   },
   "source": [
    "<div class=\"alert alert-block alert-info\">\n",
    "    <p>Parameters settings</p>\n",
    "</div>"
   ]
  },
  {
   "cell_type": "code",
   "execution_count": 29,
   "id": "74bf618b",
   "metadata": {},
   "outputs": [],
   "source": [
    "param_grid = {\n",
    "    \"n_estimators\" : [8000, 10000],\n",
    "    \"num_leaves\" : [32, 34], \n",
    "    \"max_depth\" : [8, 9]\n",
    "}"
   ]
  },
  {
   "cell_type": "markdown",
   "id": "446d7bca",
   "metadata": {
    "tags": []
   },
   "source": [
    "<div class=\"alert alert-block alert-info\">\n",
    "    <p>Executing the model</p>\n",
    "</div>"
   ]
  },
  {
   "cell_type": "code",
   "execution_count": 30,
   "id": "9598d51c",
   "metadata": {},
   "outputs": [],
   "source": [
    "clf_lgbm = LGBMClassifier(random_state=42)"
   ]
  },
  {
   "cell_type": "code",
   "execution_count": 31,
   "id": "8fd34104",
   "metadata": {},
   "outputs": [],
   "source": [
    "search_lgbm = HalvingGridSearchCV(clf_lgbm, param_grid, scoring=\"roc_auc\", cv=stratified_kfold, n_jobs=-1)"
   ]
  },
  {
   "cell_type": "code",
   "execution_count": 32,
   "id": "edaad074",
   "metadata": {},
   "outputs": [
    {
     "data": {
      "text/plain": [
       "HalvingGridSearchCV(cv=StratifiedKFold(n_splits=3, random_state=42, shuffle=True),\n",
       "                    estimator=LGBMClassifier(random_state=42), n_jobs=-1,\n",
       "                    param_grid={'max_depth': [8, 9],\n",
       "                                'n_estimators': [8000, 10000],\n",
       "                                'num_leaves': [32, 34]},\n",
       "                    scoring='roc_auc')"
      ]
     },
     "execution_count": 32,
     "metadata": {},
     "output_type": "execute_result"
    }
   ],
   "source": [
    "search_lgbm.fit(X_train, y_train)"
   ]
  },
  {
   "cell_type": "markdown",
   "id": "39c39fc9",
   "metadata": {
    "tags": []
   },
   "source": [
    "<div class=\"alert alert-block alert-info\">\n",
    "    <p>ROC-AUC score</p>\n",
    "</div>"
   ]
  },
  {
   "cell_type": "code",
   "execution_count": 33,
   "id": "cf4068b9",
   "metadata": {},
   "outputs": [
    {
     "data": {
      "text/plain": [
       "0.7396840027850832"
      ]
     },
     "execution_count": 33,
     "metadata": {},
     "output_type": "execute_result"
    }
   ],
   "source": [
    "search_lgbm.best_score_"
   ]
  },
  {
   "cell_type": "markdown",
   "id": "ca8696fd",
   "metadata": {
    "tags": []
   },
   "source": [
    "<div class=\"alert alert-block alert-info\">\n",
    "    <p>The best parameters</p>\n",
    "</div>"
   ]
  },
  {
   "cell_type": "code",
   "execution_count": 34,
   "id": "35aaeb47",
   "metadata": {},
   "outputs": [
    {
     "data": {
      "text/plain": [
       "{'max_depth': 9, 'n_estimators': 8000, 'num_leaves': 32}"
      ]
     },
     "execution_count": 34,
     "metadata": {},
     "output_type": "execute_result"
    }
   ],
   "source": [
    "search_lgbm.best_params_"
   ]
  },
  {
   "cell_type": "markdown",
   "id": "539b8d42",
   "metadata": {
    "tags": []
   },
   "source": [
    "<div style=\"background-color: #506AB9;\" >\n",
    "    <h4 style=\"margin: auto; padding: 20px; color:#fff; \">6.2.2. Gradient Boosting</h4>\n",
    "</div>"
   ]
  },
  {
   "cell_type": "markdown",
   "id": "915f384b",
   "metadata": {
    "tags": []
   },
   "source": [
    "<div class=\"alert alert-block alert-info\">\n",
    "    <p>Parameters settings</p>\n",
    "</div>"
   ]
  },
  {
   "cell_type": "code",
   "execution_count": 35,
   "id": "3af970b0",
   "metadata": {},
   "outputs": [],
   "source": [
    "param_grid = {\n",
    "    \"n_estimators\" : np.arange(500, 1000, 100),\n",
    "    \"max_depth\" : np.arange(20, 30, 2),\n",
    "}"
   ]
  },
  {
   "cell_type": "markdown",
   "id": "05a75a42",
   "metadata": {
    "tags": []
   },
   "source": [
    "<div class=\"alert alert-block alert-info\">\n",
    "    <p>Executing the model</p>\n",
    "</div>"
   ]
  },
  {
   "cell_type": "code",
   "execution_count": 36,
   "id": "445438d4",
   "metadata": {},
   "outputs": [],
   "source": [
    "clf_gb = GradientBoostingClassifier(validation_fraction=0.2, \n",
    "                                    n_iter_no_change=5,\n",
    "                                    tol=0.01,\n",
    "                                    random_state=42)"
   ]
  },
  {
   "cell_type": "code",
   "execution_count": 37,
   "id": "a0479f28",
   "metadata": {},
   "outputs": [],
   "source": [
    "search_gb = HalvingGridSearchCV(clf_gb, param_grid, scoring=\"roc_auc\", cv=stratified_kfold, n_jobs=-1)"
   ]
  },
  {
   "cell_type": "code",
   "execution_count": 38,
   "id": "cbb263ae",
   "metadata": {},
   "outputs": [
    {
     "data": {
      "text/plain": [
       "HalvingGridSearchCV(cv=StratifiedKFold(n_splits=3, random_state=42, shuffle=True),\n",
       "                    estimator=GradientBoostingClassifier(n_iter_no_change=5,\n",
       "                                                         random_state=42,\n",
       "                                                         tol=0.01,\n",
       "                                                         validation_fraction=0.2),\n",
       "                    n_jobs=-1,\n",
       "                    param_grid={'max_depth': array([20, 22, 24, 26, 28]),\n",
       "                                'n_estimators': array([500, 600, 700, 800, 900])},\n",
       "                    scoring='roc_auc')"
      ]
     },
     "execution_count": 38,
     "metadata": {},
     "output_type": "execute_result"
    }
   ],
   "source": [
    "search_gb.fit(X_train, y_train)"
   ]
  },
  {
   "cell_type": "markdown",
   "id": "df27f788",
   "metadata": {
    "tags": []
   },
   "source": [
    "<div class=\"alert alert-block alert-info\">\n",
    "    <p>ROC-AUC score</p>\n",
    "</div>"
   ]
  },
  {
   "cell_type": "code",
   "execution_count": 39,
   "id": "f79287b9",
   "metadata": {},
   "outputs": [
    {
     "data": {
      "text/plain": [
       "0.6568425917657963"
      ]
     },
     "execution_count": 39,
     "metadata": {},
     "output_type": "execute_result"
    }
   ],
   "source": [
    "search_gb.best_score_"
   ]
  },
  {
   "cell_type": "markdown",
   "id": "2380c689",
   "metadata": {
    "tags": []
   },
   "source": [
    "<div class=\"alert alert-block alert-info\">\n",
    "    <p>The best parameters</p>\n",
    "</div>"
   ]
  },
  {
   "cell_type": "code",
   "execution_count": 40,
   "id": "d9e59345",
   "metadata": {},
   "outputs": [
    {
     "data": {
      "text/plain": [
       "{'max_depth': 20, 'n_estimators': 700}"
      ]
     },
     "execution_count": 40,
     "metadata": {},
     "output_type": "execute_result"
    }
   ],
   "source": [
    "search_gb.best_params_"
   ]
  },
  {
   "cell_type": "markdown",
   "id": "57866dc2",
   "metadata": {
    "tags": []
   },
   "source": [
    "<div style=\"background-color: #506AB9;\" >\n",
    "    <h3 style=\"margin: auto; padding: 20px; color:#fff; \">6.4. Using class_weight</h3>\n",
    "</div>"
   ]
  },
  {
   "cell_type": "markdown",
   "id": "b9e34e5f",
   "metadata": {
    "tags": []
   },
   "source": [
    "<div class=\"alert alert-block alert-danger\">\n",
    "    <p>FLAG</p>\n",
    "</div>"
   ]
  },
  {
   "cell_type": "code",
   "execution_count": null,
   "id": "f78095b8",
   "metadata": {},
   "outputs": [],
   "source": []
  },
  {
   "cell_type": "code",
   "execution_count": null,
   "id": "af0812aa",
   "metadata": {},
   "outputs": [],
   "source": []
  },
  {
   "cell_type": "code",
   "execution_count": null,
   "id": "a59ee452",
   "metadata": {},
   "outputs": [],
   "source": []
  },
  {
   "cell_type": "code",
   "execution_count": null,
   "id": "4a33e32f",
   "metadata": {},
   "outputs": [],
   "source": []
  },
  {
   "cell_type": "code",
   "execution_count": null,
   "id": "6bf424eb",
   "metadata": {},
   "outputs": [],
   "source": []
  },
  {
   "cell_type": "code",
   "execution_count": null,
   "id": "2548bac3",
   "metadata": {},
   "outputs": [],
   "source": []
  },
  {
   "cell_type": "markdown",
   "id": "361ad8fe",
   "metadata": {
    "tags": []
   },
   "source": [
    "<div style=\"background-color: #506AB9;\" >\n",
    "    <h3 style=\"margin: auto; padding: 20px; color:#fff; \">6.4. Models</h3>\n",
    "</div>"
   ]
  },
  {
   "cell_type": "code",
   "execution_count": null,
   "id": "a3341153",
   "metadata": {},
   "outputs": [],
   "source": []
  },
  {
   "cell_type": "code",
   "execution_count": null,
   "id": "68db113a",
   "metadata": {},
   "outputs": [],
   "source": []
  },
  {
   "cell_type": "markdown",
   "id": "a02326d9",
   "metadata": {
    "tags": []
   },
   "source": [
    "<div style=\"background-color: #506AB9;\" >\n",
    "    <h4 style=\"margin: auto; padding: 20px; color:#fff; \">6.4.1. Imbalanced dataset</h4>\n",
    "</div>"
   ]
  },
  {
   "cell_type": "markdown",
   "id": "03013681",
   "metadata": {
    "tags": []
   },
   "source": [
    "<div style=\"background-color: #506AB9;\" >\n",
    "    <h5 style=\"margin: auto; padding: 20px; color:#fff; \">6.4.1. Imbalanced dataset</h5>\n",
    "</div>"
   ]
  },
  {
   "cell_type": "code",
   "execution_count": 47,
   "id": "1114a340",
   "metadata": {},
   "outputs": [],
   "source": [
    "clf_dummy = DummyClassifier()"
   ]
  },
  {
   "cell_type": "code",
   "execution_count": 49,
   "id": "753e4fc4",
   "metadata": {},
   "outputs": [],
   "source": [
    "roc_auc_score = cross_val_score(clf_dummy, X_train, y_train, cv=stratified_kfold, scoring=\"roc_auc\")"
   ]
  },
  {
   "cell_type": "code",
   "execution_count": 50,
   "id": "7b2246f1",
   "metadata": {},
   "outputs": [
    {
     "data": {
      "text/plain": [
       "array([0.5, 0.5, 0.5])"
      ]
     },
     "execution_count": 50,
     "metadata": {},
     "output_type": "execute_result"
    }
   ],
   "source": [
    "roc_auc_score"
   ]
  },
  {
   "cell_type": "code",
   "execution_count": null,
   "id": "b03da998",
   "metadata": {},
   "outputs": [],
   "source": []
  },
  {
   "cell_type": "markdown",
   "id": "5c78e842",
   "metadata": {
    "tags": []
   },
   "source": [
    "<div class=\"alert alert-block alert-info\">\n",
    "    <p>Once, we have searched some parameters and define ours Threshold selection and Custom score, we are ready to execute ours models considering the OverSampling in the minority class</p>\n",
    "</div>"
   ]
  },
  {
   "cell_type": "markdown",
   "id": "9fbbfc6f",
   "metadata": {
    "tags": []
   },
   "source": [
    "<div style=\"background-color: #506AB9;\" >\n",
    "    <h4 style=\"margin: auto; padding: 20px; color:#fff; \">6.4.1. Random Forest</h4>\n",
    "</div>"
   ]
  },
  {
   "cell_type": "markdown",
   "id": "3fb0e176",
   "metadata": {
    "tags": []
   },
   "source": [
    "<div class=\"alert alert-block alert-info\">\n",
    "    <p>Let's define the pipeline to put inside it the defined SMOTE</p>\n",
    "</div>"
   ]
  },
  {
   "cell_type": "code",
   "execution_count": 31,
   "id": "d366f6bf",
   "metadata": {},
   "outputs": [],
   "source": [
    "clf_rf = imbpipeline(steps = [[\"Smote\", smote],\n",
    "                              [\"Random_Forest\", RandomForestClassifier(**search_lgbm.best_params_,\n",
    "                                                                       random_state=42,\n",
    "                                                                       n_jobs=-1)]\n",
    "                          ]\n",
    "                 )"
   ]
  },
  {
   "cell_type": "markdown",
   "id": "610836ee",
   "metadata": {
    "tags": []
   },
   "source": [
    "<div class=\"alert alert-block alert-info\">\n",
    "    <p>Executing the model with the complete dataset after making the OverSampling</p>\n",
    "</div>"
   ]
  },
  {
   "cell_type": "code",
   "execution_count": null,
   "id": "23def944",
   "metadata": {},
   "outputs": [],
   "source": [
    "clf_rf.fit(X_train, y_train)"
   ]
  },
  {
   "cell_type": "markdown",
   "id": "9ae8e15e",
   "metadata": {
    "tags": []
   },
   "source": [
    "<div class=\"alert alert-block alert-info\">\n",
    "    <p>Making predictions and probabilities based on the best results for the model</p>\n",
    "</div>"
   ]
  },
  {
   "cell_type": "code",
   "execution_count": null,
   "id": "ce7b8d37",
   "metadata": {
    "tags": []
   },
   "outputs": [],
   "source": [
    "y_pred = clf_rf.predict(X_test)\n",
    "y_prob = clf_rf.predict_proba(X_test)\n",
    "y_prob = y_prob[:, 1]"
   ]
  },
  {
   "cell_type": "markdown",
   "id": "083f3851",
   "metadata": {
    "tags": []
   },
   "source": [
    "<div class=\"alert alert-block alert-info\">\n",
    "    <p>Let's selet the threshold based on the best parameters</p>\n",
    "</div>"
   ]
  },
  {
   "cell_type": "code",
   "execution_count": null,
   "id": "a2f5884c",
   "metadata": {},
   "outputs": [],
   "source": [
    "threshold = threshold_selection(y_test, y_prob)"
   ]
  },
  {
   "cell_type": "markdown",
   "id": "5c2c37e4",
   "metadata": {
    "tags": []
   },
   "source": [
    "<div class=\"alert alert-block alert-info\">\n",
    "    <p>Getting the probability outputs from \"predict_proba\" based on the threshold</p>\n",
    "</div>"
   ]
  },
  {
   "cell_type": "code",
   "execution_count": null,
   "id": "2358d3cb",
   "metadata": {},
   "outputs": [],
   "source": [
    "y_pred = (y_pred > threshold).astype(int)"
   ]
  },
  {
   "cell_type": "markdown",
   "id": "4f1e672e",
   "metadata": {
    "tags": []
   },
   "source": [
    "<div class=\"alert alert-block alert-info\">\n",
    "    <p>Now, we can get the metrics</p>\n",
    "</div>"
   ]
  },
  {
   "cell_type": "code",
   "execution_count": null,
   "id": "acd58b99",
   "metadata": {
    "tags": []
   },
   "outputs": [],
   "source": [
    "precision = round(precision_score(y_test, y_pred), 3)\n",
    "roc_auc = round(roc_auc_score(y_test, y_prob), 3)\n",
    "recall = round(recall_score(y_test, y_pred), 3)\n",
    "f1 = round(f1_score(y_test, y_pred), 3)\n",
    "f2 = round(fbeta_score(y_test, y_pred, beta=2), 3)\n",
    "custom = round(custom_score(y_test, y_pred, threshold), 3)\n",
    "\n",
    "# Get the results\n",
    "print(\"Model's metrics\")\n",
    "print(\"- Precision:\\t\\t\", precision)\n",
    "print(\"- ROC-AUC:\\t\\t\", roc_auc)\n",
    "print(\"- Recall:\\t\\t\", recall)\n",
    "print(\"- F1:\\t\\t\\t\", f1)\n",
    "print(\"- F2:\\t\\t\\t\", f2)\n",
    "print(\"- Custom Score:\\t\\t\", custom)\n",
    "print(\"- Duration:\\t\\t\", round(search_rf.cv_results_[\"mean_score_time\"][0], 3), \" minutes\")"
   ]
  },
  {
   "cell_type": "markdown",
   "id": "8ed4189e",
   "metadata": {
    "tags": []
   },
   "source": [
    "<div class=\"alert alert-block alert-info\">\n",
    "    <p>Plotting the Compute ROC curve</p>\n",
    "</div>"
   ]
  },
  {
   "cell_type": "code",
   "execution_count": null,
   "id": "5af85732",
   "metadata": {},
   "outputs": [],
   "source": [
    "fpr = dict()\n",
    "tpr = dict()\n",
    "fpr[\"micro\"], tpr[\"micro\"], _ = roc_curve(y_test.ravel(), y_prob.ravel())\n",
    "\n",
    "plt.subplots(1, figsize=(6, 6))\n",
    "plt.title(\"Receiver Operating Characteristic\")\n",
    "plt.plot(fpr[\"micro\"], tpr[\"micro\"])\n",
    "plt.plot([0, 1], ls=\"--\")\n",
    "plt.plot([0, 0], [1, 0] , c=\".7\"), plt.plot([1, 1] , c=\".7\")\n",
    "plt.ylabel(\"True Positive Rate\")\n",
    "plt.xlabel(\"False Positive Rate\")\n",
    "plt.show()"
   ]
  },
  {
   "cell_type": "markdown",
   "id": "e376f35a",
   "metadata": {
    "tags": []
   },
   "source": [
    "<div class=\"alert alert-block alert-info\">\n",
    "    <p>Plotting the Precision-Recall curve</p>\n",
    "</div>"
   ]
  },
  {
   "cell_type": "code",
   "execution_count": null,
   "id": "9a787c83",
   "metadata": {},
   "outputs": [],
   "source": [
    "display = PrecisionRecallDisplay.from_predictions(y_test.ravel(), y_prob.ravel(), name=\"RandomForestClassifier\")\n",
    "_ = display.ax_.set_title(\"2-class Precision-Recall curve\")"
   ]
  },
  {
   "cell_type": "markdown",
   "id": "d6443ef0",
   "metadata": {
    "tags": []
   },
   "source": [
    "<div class=\"alert alert-block alert-info\">\n",
    "    <p>Plotting the Confusion Matrix</p>\n",
    "</div>"
   ]
  },
  {
   "cell_type": "code",
   "execution_count": null,
   "id": "93a97f37",
   "metadata": {},
   "outputs": [],
   "source": [
    "display = ConfusionMatrixDisplay.from_predictions(y_test, y_pred, display_labels=[\"Repaid\",\"No repaid\"])\n",
    "_ = display.ax_.set_title(\"Confusion matrix\")"
   ]
  },
  {
   "cell_type": "markdown",
   "id": "0725f84a",
   "metadata": {
    "tags": []
   },
   "source": [
    "<div class=\"alert alert-block alert-info\">\n",
    "    <p>Adding metrics to compare with others models</p>\n",
    "</div>"
   ]
  },
  {
   "cell_type": "code",
   "execution_count": null,
   "id": "01c7849d",
   "metadata": {},
   "outputs": [],
   "source": [
    "df_temp = pd.DataFrame({\n",
    "    \"Model\" : [\"Random Forest\"],\n",
    "    \"Precision\" : precision, \n",
    "    \"ROC-AUC\" : roc_auc,    \n",
    "    \"Recall\" : recall,\n",
    "    \"F1\" : f1,\n",
    "    \"F2\" : f2,\n",
    "    \"Custom\" : custom,\n",
    "    \"Duration\" : round(search_rf.cv_results_[\"mean_score_time\"][0], 3)\n",
    "})"
   ]
  },
  {
   "cell_type": "code",
   "execution_count": null,
   "id": "ebe76238",
   "metadata": {},
   "outputs": [],
   "source": [
    "df_models_metrics = pd.concat([df_models_metrics, df_temp])\n",
    "df_models_metrics"
   ]
  },
  {
   "cell_type": "code",
   "execution_count": null,
   "id": "a56918c1",
   "metadata": {},
   "outputs": [],
   "source": [
    "ZZZZZZZZZZZZZZZZZZZZ"
   ]
  },
  {
   "cell_type": "markdown",
   "id": "449b5157",
   "metadata": {
    "tags": []
   },
   "source": [
    "<div style=\"background-color: red;\" >\n",
    "    <h2 style=\"margin: auto; padding: 20px; color:#fff; \">----------- FLAG -----------</h2>\n",
    "</div>"
   ]
  },
  {
   "cell_type": "code",
   "execution_count": null,
   "id": "2448659a",
   "metadata": {},
   "outputs": [],
   "source": []
  },
  {
   "cell_type": "code",
   "execution_count": null,
   "id": "6fb10137",
   "metadata": {},
   "outputs": [],
   "source": []
  },
  {
   "cell_type": "code",
   "execution_count": null,
   "id": "d1b68bc0",
   "metadata": {},
   "outputs": [],
   "source": []
  },
  {
   "cell_type": "code",
   "execution_count": null,
   "id": "df9ba0d2",
   "metadata": {},
   "outputs": [],
   "source": []
  },
  {
   "cell_type": "code",
   "execution_count": null,
   "id": "7b5951d3",
   "metadata": {},
   "outputs": [],
   "source": []
  },
  {
   "cell_type": "markdown",
   "id": "601fceca",
   "metadata": {
    "tags": []
   },
   "source": [
    "<div class=\"alert alert-block alert-info\">\n",
    "    <p>Parameters settings</p>\n",
    "</div>"
   ]
  },
  {
   "cell_type": "code",
   "execution_count": null,
   "id": "cb206f64",
   "metadata": {},
   "outputs": [],
   "source": [
    "param_grid = {\n",
    "    \"Random_Forest__n_estimators\" : [1000], # 3000, 4000\n",
    "    \"Random_Forest__max_depth\" : [45],#, 48 23, 24, 27\n",
    "}"
   ]
  },
  {
   "cell_type": "markdown",
   "id": "4ddfc220",
   "metadata": {},
   "source": [
    "param_grid = {\n",
    "    \"Random_Forest__n_estimators\" : [400, 450, 500, 2000, 3000, 4000],\n",
    "    \"Random_Forest__max_depth\" : [23, 24, 27, 45, 48, 50],\n",
    "}"
   ]
  },
  {
   "cell_type": "markdown",
   "id": "d9cd6060",
   "metadata": {
    "tags": []
   },
   "source": [
    "<div class=\"alert alert-block alert-info\">\n",
    "    <p>Executing the model</p>\n",
    "</div>"
   ]
  },
  {
   "cell_type": "code",
   "execution_count": 30,
   "id": "c8033c86",
   "metadata": {},
   "outputs": [],
   "source": [
    "search_rf = GridSearchCV(estimator=clf_rf,\n",
    "                         param_grid=param_grid,\n",
    "                         scoring=\"roc_auc\",\n",
    "                         cv=stratified_kfold,\n",
    "                         return_train_score=True)"
   ]
  },
  {
   "cell_type": "code",
   "execution_count": null,
   "id": "247857d8",
   "metadata": {},
   "outputs": [],
   "source": [
    "search_rf.fit(X_train, y_train)"
   ]
  },
  {
   "cell_type": "markdown",
   "id": "acd60d32",
   "metadata": {
    "tags": []
   },
   "source": [
    "<div class=\"alert alert-block alert-info\">\n",
    "    <p>The best parameters</p>\n",
    "</div>"
   ]
  },
  {
   "cell_type": "code",
   "execution_count": null,
   "id": "1e34d4be",
   "metadata": {},
   "outputs": [],
   "source": [
    "search_rf.best_params_"
   ]
  },
  {
   "cell_type": "markdown",
   "id": "c5ac52c0",
   "metadata": {
    "tags": []
   },
   "source": [
    "<div class=\"alert alert-block alert-info\">\n",
    "    <p>Making predictions and probabilities based on the best results for the model</p>\n",
    "</div>"
   ]
  },
  {
   "cell_type": "code",
   "execution_count": null,
   "id": "e92363c3",
   "metadata": {},
   "outputs": [],
   "source": [
    "model_rf = search_rf.best_estimator_"
   ]
  },
  {
   "cell_type": "code",
   "execution_count": null,
   "id": "0a25d4e5",
   "metadata": {
    "tags": []
   },
   "outputs": [],
   "source": [
    "y_pred = model_rf.predict(X_test)\n",
    "y_prob = model_rf.predict_proba(X_test)\n",
    "y_prob = y_prob[:, 1]"
   ]
  },
  {
   "cell_type": "markdown",
   "id": "bb9d348b",
   "metadata": {
    "tags": []
   },
   "source": [
    "<div class=\"alert alert-block alert-info\">\n",
    "    <p>Let's selet the threshold based on the best parameters</p>\n",
    "</div>"
   ]
  },
  {
   "cell_type": "code",
   "execution_count": null,
   "id": "c75e3227",
   "metadata": {},
   "outputs": [],
   "source": [
    "threshold = threshold_selection(y_test, y_prob)"
   ]
  },
  {
   "cell_type": "markdown",
   "id": "e4354d93",
   "metadata": {
    "tags": []
   },
   "source": [
    "<div class=\"alert alert-block alert-info\">\n",
    "    <p>Getting the probability outputs from \"predict_proba\" based on the threshold</p>\n",
    "</div>"
   ]
  },
  {
   "cell_type": "code",
   "execution_count": null,
   "id": "2d2c1c6a",
   "metadata": {},
   "outputs": [],
   "source": [
    "y_pred = (y_pred > threshold).astype(int)"
   ]
  },
  {
   "cell_type": "markdown",
   "id": "97cbdafc",
   "metadata": {
    "tags": []
   },
   "source": [
    "<div class=\"alert alert-block alert-info\">\n",
    "    <p>Now, we can get the metrics</p>\n",
    "</div>"
   ]
  },
  {
   "cell_type": "code",
   "execution_count": null,
   "id": "56dc16db",
   "metadata": {
    "tags": []
   },
   "outputs": [],
   "source": [
    "precision = round(precision_score(y_test, y_pred), 3)\n",
    "roc_auc = round(roc_auc_score(y_test, y_prob), 3)\n",
    "recall = round(recall_score(y_test, y_pred), 3)\n",
    "f1 = round(f1_score(y_test, y_pred), 3)\n",
    "f2 = round(fbeta_score(y_test, y_pred, beta=2), 3)\n",
    "custom = round(custom_score(y_test, y_pred, threshold), 3)\n",
    "\n",
    "# Get the results\n",
    "print(\"Model's metrics\")\n",
    "print(\"- Precision:\\t\\t\", precision)\n",
    "print(\"- ROC-AUC:\\t\\t\", roc_auc)\n",
    "print(\"- Recall:\\t\\t\", recall)\n",
    "print(\"- F1:\\t\\t\\t\", f1)\n",
    "print(\"- F2:\\t\\t\\t\", f2)\n",
    "print(\"- Custom Score:\\t\\t\", custom)\n",
    "print(\"- Duration:\\t\\t\", round(search_rf.cv_results_[\"mean_score_time\"][0], 3), \" minutes\")"
   ]
  },
  {
   "cell_type": "markdown",
   "id": "6a788553",
   "metadata": {
    "tags": []
   },
   "source": [
    "<div class=\"alert alert-block alert-danger\">\n",
    "    <p><b>Observations / Conclusions</b></p>\n",
    "    <ul style=\"list-style-type: square;\">\n",
    "        <li>XXXXXXXXXXXXXXXXXXXXXXXX</li>\n",
    "    </ul> \n",
    "</div>"
   ]
  },
  {
   "cell_type": "markdown",
   "id": "1170f182",
   "metadata": {
    "tags": []
   },
   "source": [
    "<div class=\"alert alert-block alert-info\">\n",
    "    <p>Plotting the Compute ROC curve and ROC area for each class</p>\n",
    "</div>"
   ]
  },
  {
   "cell_type": "code",
   "execution_count": null,
   "id": "7b8e1d12",
   "metadata": {},
   "outputs": [],
   "source": [
    "fpr = dict()\n",
    "tpr = dict()\n",
    "fpr[\"micro\"], tpr[\"micro\"], _ = roc_curve(y_test.ravel(), y_prob.ravel())\n",
    "\n",
    "plt.subplots(1, figsize=(6, 6))\n",
    "plt.title(\"Receiver Operating Characteristic\")\n",
    "plt.plot(fpr[\"micro\"], tpr[\"micro\"])\n",
    "plt.plot([0, 1], ls=\"--\")\n",
    "plt.plot([0, 0], [1, 0] , c=\".7\"), plt.plot([1, 1] , c=\".7\")\n",
    "plt.ylabel(\"True Positive Rate\")\n",
    "plt.xlabel(\"False Positive Rate\")\n",
    "plt.show()"
   ]
  },
  {
   "cell_type": "markdown",
   "id": "e7d30431",
   "metadata": {
    "tags": []
   },
   "source": [
    "<div class=\"alert alert-block alert-info\">\n",
    "    <p>Plotting the Precision-Recall curve</p>\n",
    "</div>"
   ]
  },
  {
   "cell_type": "code",
   "execution_count": null,
   "id": "2968699b",
   "metadata": {},
   "outputs": [],
   "source": [
    "display = PrecisionRecallDisplay.from_predictions(y_test.ravel(), y_prob.ravel(), name=\"RandomForestClassifier\")\n",
    "_ = display.ax_.set_title(\"2-class Precision-Recall curve\")"
   ]
  },
  {
   "cell_type": "markdown",
   "id": "fd4fcafd",
   "metadata": {
    "tags": []
   },
   "source": [
    "<div class=\"alert alert-block alert-info\">\n",
    "    <p>Plotting the Confusion Matrix</p>\n",
    "</div>"
   ]
  },
  {
   "cell_type": "code",
   "execution_count": null,
   "id": "9b546a64",
   "metadata": {},
   "outputs": [],
   "source": [
    "display = ConfusionMatrixDisplay.from_predictions(y_test, y_pred, display_labels=[\"Repaid\",\"No repaid\"])\n",
    "_ = display.ax_.set_title(\"Confusion matrix\")"
   ]
  },
  {
   "cell_type": "markdown",
   "id": "bc76fcc5",
   "metadata": {
    "tags": []
   },
   "source": [
    "<div class=\"alert alert-block alert-info\">\n",
    "    <p>Adding metrics to compare with others models</p>\n",
    "</div>"
   ]
  },
  {
   "cell_type": "code",
   "execution_count": null,
   "id": "6f635f17",
   "metadata": {},
   "outputs": [],
   "source": [
    "df_temp = pd.DataFrame({\n",
    "    \"Model\" : [\"Random Forest\"],\n",
    "    \"Precision\" : precision, \n",
    "    \"ROC-AUC\" : roc_auc,    \n",
    "    \"Recall\" : recall,\n",
    "    \"F1\" : f1,\n",
    "    \"F2\" : f2,\n",
    "    \"Custom\" : custom,\n",
    "    \"Duration\" : round(search_rf.cv_results_[\"mean_score_time\"][0], 3)\n",
    "})"
   ]
  },
  {
   "cell_type": "code",
   "execution_count": null,
   "id": "2161ba54",
   "metadata": {},
   "outputs": [],
   "source": [
    "df_models_metrics = pd.concat([df_models_metrics, df_temp])\n",
    "df_models_metrics"
   ]
  },
  {
   "cell_type": "code",
   "execution_count": null,
   "id": "fa4328a0",
   "metadata": {},
   "outputs": [],
   "source": [
    "df_models_metrics = pd.concat([df_models_metrics, df_temp])\n",
    "df_models_metrics"
   ]
  },
  {
   "cell_type": "code",
   "execution_count": null,
   "id": "1c84a645",
   "metadata": {},
   "outputs": [],
   "source": [
    "x"
   ]
  },
  {
   "cell_type": "markdown",
   "id": "fa1476fb",
   "metadata": {
    "tags": []
   },
   "source": [
    "<div style=\"background-color: #506AB9;\" >\n",
    "    <h4 style=\"margin: auto; padding: 20px; color:#fff; \">6.2.2. One-Class SVM</h4>\n",
    "</div>"
   ]
  },
  {
   "cell_type": "markdown",
   "id": "eb462abc",
   "metadata": {
    "tags": []
   },
   "source": [
    "<div class=\"alert alert-block alert-info\">\n",
    "    <p>Let's define the pipeline to put inside it the defined SMOTE</p>\n",
    "</div>"
   ]
  },
  {
   "cell_type": "code",
   "execution_count": null,
   "id": "e416e641",
   "metadata": {},
   "outputs": [],
   "source": [
    "clf_ocsvm = imbpipeline(steps = [[\"Smote\", smote],\n",
    "                              [\"OneClassSVM\", OneClassSVM()]\n",
    "                          ]\n",
    "                 )"
   ]
  },
  {
   "cell_type": "markdown",
   "id": "1830e90e",
   "metadata": {
    "tags": []
   },
   "source": [
    "<div class=\"alert alert-block alert-info\">\n",
    "    <p>Parameters settings</p>\n",
    "</div>"
   ]
  },
  {
   "cell_type": "code",
   "execution_count": null,
   "id": "e139ddbc",
   "metadata": {},
   "outputs": [],
   "source": [
    "param_grid = {\n",
    "    \"OneClassSVM__gamma\" : [\"scale\", \"auto\"],\n",
    "    \"OneClassSVM__nu\" : [0.4, 0.5, 0.6]\n",
    "}"
   ]
  },
  {
   "cell_type": "markdown",
   "id": "074e47c3",
   "metadata": {
    "tags": []
   },
   "source": [
    "<div class=\"alert alert-block alert-info\">\n",
    "    <p>Executing the model</p>\n",
    "</div>"
   ]
  },
  {
   "cell_type": "code",
   "execution_count": null,
   "id": "e70cfb46",
   "metadata": {},
   "outputs": [],
   "source": [
    "search_ocsvm = GridSearchCV(estimator=clf_ocsvm,\n",
    "                           param_grid=param_grid,\n",
    "                           scoring=\"roc_auc\",\n",
    "                           cv=stratified_kfold,\n",
    "                           n_jobs=-1,\n",
    "                           return_train_score=True)"
   ]
  },
  {
   "cell_type": "code",
   "execution_count": null,
   "id": "ba80d140",
   "metadata": {},
   "outputs": [],
   "source": [
    "search_ocsvm.fit(X_train, y_train)"
   ]
  },
  {
   "cell_type": "markdown",
   "id": "94ef6a51",
   "metadata": {
    "tags": []
   },
   "source": [
    "<div class=\"alert alert-block alert-info\">\n",
    "    <p>Making predictions and probabilities based on the best results for the model</p>\n",
    "</div>"
   ]
  },
  {
   "cell_type": "code",
   "execution_count": null,
   "id": "c0d2d76e",
   "metadata": {},
   "outputs": [],
   "source": [
    "model_ocsvm = search_ocsvm.best_estimator_"
   ]
  },
  {
   "cell_type": "code",
   "execution_count": null,
   "id": "920cd4fa",
   "metadata": {
    "tags": []
   },
   "outputs": [],
   "source": [
    "y_pred = model_ocsvm.predict(X_test)\n",
    "y_prob = model_ocsvm.predict_proba(X_test)\n",
    "y_prob = y_prob[:, 1]"
   ]
  },
  {
   "cell_type": "markdown",
   "id": "0f7202f5",
   "metadata": {
    "tags": []
   },
   "source": [
    "<div class=\"alert alert-block alert-info\">\n",
    "    <p>Let's selet the threshold based on the best parameters</p>\n",
    "</div>"
   ]
  },
  {
   "cell_type": "code",
   "execution_count": null,
   "id": "bc3602e4",
   "metadata": {},
   "outputs": [],
   "source": [
    "threshold = threshold_selection(y_test, y_prob)"
   ]
  },
  {
   "cell_type": "markdown",
   "id": "6194edba",
   "metadata": {
    "tags": []
   },
   "source": [
    "<div class=\"alert alert-block alert-info\">\n",
    "    <p>Getting the probability outputs from \"predict_proba\" based on the threshold</p>\n",
    "</div>"
   ]
  },
  {
   "cell_type": "code",
   "execution_count": null,
   "id": "21d18444",
   "metadata": {},
   "outputs": [],
   "source": [
    "y_pred = (y_pred > threshold).astype(int)"
   ]
  },
  {
   "cell_type": "markdown",
   "id": "6349a9a9",
   "metadata": {
    "tags": []
   },
   "source": [
    "<div class=\"alert alert-block alert-info\">\n",
    "    <p>Now, we can get the metrics</p>\n",
    "</div>"
   ]
  },
  {
   "cell_type": "code",
   "execution_count": null,
   "id": "6da4c006",
   "metadata": {
    "tags": []
   },
   "outputs": [],
   "source": [
    "precision = round(precision_score(y_test, y_pred), 3)\n",
    "roc_auc = round(roc_auc_score(y_test, y_prob), 3)\n",
    "recall = round(recall_score(y_test, y_pred), 3)\n",
    "f1 = round(f1_score(y_test, y_pred), 3)\n",
    "f2 = round(fbeta_score(y_test, y_pred, beta=2), 3)\n",
    "custom = round(custom_score(y_test, y_pred, threshold), 3)\n",
    "\n",
    "# Get the results\n",
    "print(\"Model's metrics\")\n",
    "print(\"- Precision:\\t\\t\", precision)\n",
    "print(\"- ROC-AUC:\\t\\t\", roc_auc)\n",
    "print(\"- Recall:\\t\\t\", recall)\n",
    "print(\"- F1:\\t\\t\\t\", f1)\n",
    "print(\"- F2:\\t\\t\\t\", f2)\n",
    "print(\"- Custom Score:\\t\\t\", custom)\n",
    "print(\"- Duration:\\t\\t\", round(search_lgbm.cv_results_[\"mean_score_time\"][0], 3), \" minutes\")"
   ]
  },
  {
   "cell_type": "markdown",
   "id": "9c9687cb",
   "metadata": {
    "tags": []
   },
   "source": [
    "<div class=\"alert alert-block alert-danger\">\n",
    "    <p><b>Observations / Conclusions</b></p>\n",
    "    <ul style=\"list-style-type: square;\">\n",
    "        <li>XXXXXXXXXXXXXXXXXXXXXXXX</li>\n",
    "    </ul> \n",
    "</div>"
   ]
  },
  {
   "cell_type": "markdown",
   "id": "abf8078f",
   "metadata": {
    "tags": []
   },
   "source": [
    "<div class=\"alert alert-block alert-info\">\n",
    "    <p>Plotting the Compute ROC curve and ROC area for each class</p>\n",
    "</div>"
   ]
  },
  {
   "cell_type": "code",
   "execution_count": null,
   "id": "c8332d87",
   "metadata": {},
   "outputs": [],
   "source": [
    "fpr = dict()\n",
    "tpr = dict()\n",
    "fpr[\"micro\"], tpr[\"micro\"], _ = roc_curve(y_test.ravel(), y_prob.ravel())\n",
    "\n",
    "plt.subplots(1, figsize=(6, 6))\n",
    "plt.title(\"Receiver Operating Characteristic\")\n",
    "plt.plot(fpr[\"micro\"], tpr[\"micro\"])\n",
    "plt.plot([0, 1], ls=\"--\")\n",
    "plt.plot([0, 0], [1, 0] , c=\".7\"), plt.plot([1, 1] , c=\".7\")\n",
    "plt.ylabel(\"True Positive Rate\")\n",
    "plt.xlabel(\"False Positive Rate\")\n",
    "plt.show()"
   ]
  },
  {
   "cell_type": "markdown",
   "id": "63e38c9b",
   "metadata": {
    "tags": []
   },
   "source": [
    "<div class=\"alert alert-block alert-info\">\n",
    "    <p>Plotting the Precision-Recall curve</p>\n",
    "</div>"
   ]
  },
  {
   "cell_type": "code",
   "execution_count": null,
   "id": "492b25b8",
   "metadata": {},
   "outputs": [],
   "source": [
    "display = PrecisionRecallDisplay.from_predictions(y_test.ravel(), y_prob.ravel(), name=\"LGBMClassifier\")\n",
    "_ = display.ax_.set_title(\"2-class Precision-Recall curve\")"
   ]
  },
  {
   "cell_type": "markdown",
   "id": "9c11c47b",
   "metadata": {
    "tags": []
   },
   "source": [
    "<div class=\"alert alert-block alert-info\">\n",
    "    <p>Plotting the Confusion Matrix</p>\n",
    "</div>"
   ]
  },
  {
   "cell_type": "code",
   "execution_count": null,
   "id": "05cb4d86",
   "metadata": {},
   "outputs": [],
   "source": [
    "display = ConfusionMatrixDisplay.from_predictions(y_test, y_pred, display_labels=[\"Repaid\",\"No repaid\"])\n",
    "_ = display.ax_.set_title(\"Confusion matrix\")"
   ]
  },
  {
   "cell_type": "markdown",
   "id": "fbef0de7",
   "metadata": {
    "tags": []
   },
   "source": [
    "<div class=\"alert alert-block alert-info\">\n",
    "    <p>Adding metrics to compare with others models</p>\n",
    "</div>"
   ]
  },
  {
   "cell_type": "code",
   "execution_count": null,
   "id": "a9dd40b3",
   "metadata": {},
   "outputs": [],
   "source": [
    "df_temp = pd.DataFrame({\n",
    "    \"Model\" : [\"Random Forest\"],\n",
    "    \"Precision\" : precision, \n",
    "    \"ROC-AUC\" : roc_auc,    \n",
    "    \"Recall\" : recall,\n",
    "    \"F1\" : f1,\n",
    "    \"F2\" : f2,\n",
    "    \"Custom\" : custom,\n",
    "    \"Duration\" : round(df_results.iloc[search.best_index_][\"mean_score_time\"], 3)\n",
    "})"
   ]
  },
  {
   "cell_type": "code",
   "execution_count": null,
   "id": "69dd3382",
   "metadata": {},
   "outputs": [],
   "source": [
    "df_models_metrics = pd.concat([df_models_metrics, df_temp])\n",
    "df_models_metrics"
   ]
  },
  {
   "cell_type": "markdown",
   "id": "d69614b1",
   "metadata": {
    "tags": []
   },
   "source": [
    "<div style=\"background-color: #506AB9;\" >\n",
    "    <h4 style=\"margin: auto; padding: 20px; color:#fff; \">6.2.3. LightGBM</h4>\n",
    "</div>"
   ]
  },
  {
   "cell_type": "markdown",
   "id": "fcf17b6e",
   "metadata": {
    "tags": []
   },
   "source": [
    "<div class=\"alert alert-block alert-info\">\n",
    "    <p>Let's define the pipeline to put inside it the defined SMOTE</p>\n",
    "    <p>We are going to use most of parameters used in the kernel selected</p>\n",
    "</div>"
   ]
  },
  {
   "cell_type": "code",
   "execution_count": null,
   "id": "13850e33",
   "metadata": {},
   "outputs": [],
   "source": [
    "clf_lgbm = imbpipeline(steps = [[\"Smote\", smote],\n",
    "                                [\"LightGBM\", LGBMClassifier(metric=\"None\",\n",
    "                                                            learning_rate=0.02,\n",
    "                                                            colsample_bytree=0.9497036,\n",
    "                                                            subsample=0.8715623,\n",
    "                                                            reg_alpha=0.041545473,\n",
    "                                                            reg_lambda=0.0735294,\n",
    "                                                            min_split_gain=0.0222415,\n",
    "                                                            min_child_weight=39.3259775,\n",
    "                                                            n_jobs=-1)]\n",
    "                          ]\n",
    "                 )"
   ]
  },
  {
   "cell_type": "markdown",
   "id": "f76298f5",
   "metadata": {
    "tags": []
   },
   "source": [
    "<div class=\"alert alert-block alert-info\">\n",
    "    <p>Parameters settings</p>\n",
    "</div>"
   ]
  },
  {
   "cell_type": "code",
   "execution_count": null,
   "id": "00cfb61c",
   "metadata": {},
   "outputs": [],
   "source": [
    "param_grid = {\n",
    "    \"LightGBM__n_estimators\" : [8000, 10000],\n",
    "    \"LightGBM__num_leaves\" : [32, 34], \n",
    "    \"LightGBM__max_depth\" : [8, 9]\n",
    "}"
   ]
  },
  {
   "cell_type": "markdown",
   "id": "e54c2803",
   "metadata": {
    "tags": []
   },
   "source": [
    "<div class=\"alert alert-block alert-info\">\n",
    "    <p>Executing the model</p>\n",
    "</div>"
   ]
  },
  {
   "cell_type": "code",
   "execution_count": null,
   "id": "b95194fa",
   "metadata": {},
   "outputs": [],
   "source": [
    "search_lgbm = GridSearchCV(estimator=clf_lgbm,\n",
    "                           param_grid=param_grid,\n",
    "                           scoring=\"roc_auc\",\n",
    "                           cv=stratified_kfold,\n",
    "                           n_jobs=-1,\n",
    "                           return_train_score=True)"
   ]
  },
  {
   "cell_type": "code",
   "execution_count": null,
   "id": "8fe56db2",
   "metadata": {},
   "outputs": [],
   "source": [
    "search_lgbm.fit(X_train, y_train)"
   ]
  },
  {
   "cell_type": "markdown",
   "id": "8b930c4c",
   "metadata": {
    "tags": []
   },
   "source": [
    "<div class=\"alert alert-block alert-info\">\n",
    "    <p>Making predictions and probabilities based on the best results for the model</p>\n",
    "</div>"
   ]
  },
  {
   "cell_type": "code",
   "execution_count": null,
   "id": "c7583963",
   "metadata": {},
   "outputs": [],
   "source": [
    "model_lgbm = search_lgbm.best_estimator_"
   ]
  },
  {
   "cell_type": "code",
   "execution_count": null,
   "id": "19dcbdc5",
   "metadata": {
    "tags": []
   },
   "outputs": [],
   "source": [
    "y_pred = model_lgbm.predict(X_test)\n",
    "y_prob = model_lgbm.predict_proba(X_test)\n",
    "y_prob = y_prob[:, 1]"
   ]
  },
  {
   "cell_type": "markdown",
   "id": "d8858f4d",
   "metadata": {
    "tags": []
   },
   "source": [
    "<div class=\"alert alert-block alert-info\">\n",
    "    <p>Let's selet the threshold based on the best parameters</p>\n",
    "</div>"
   ]
  },
  {
   "cell_type": "code",
   "execution_count": null,
   "id": "477ad095",
   "metadata": {},
   "outputs": [],
   "source": [
    "threshold = threshold_selection(y_test, y_prob)"
   ]
  },
  {
   "cell_type": "markdown",
   "id": "785f333b",
   "metadata": {
    "tags": []
   },
   "source": [
    "<div class=\"alert alert-block alert-info\">\n",
    "    <p>Getting the probability outputs from \"predict_proba\" based on the threshold</p>\n",
    "</div>"
   ]
  },
  {
   "cell_type": "code",
   "execution_count": null,
   "id": "836c45cd",
   "metadata": {},
   "outputs": [],
   "source": [
    "y_pred = (y_pred > threshold).astype(int)"
   ]
  },
  {
   "cell_type": "markdown",
   "id": "ce46c0ed",
   "metadata": {
    "tags": []
   },
   "source": [
    "<div class=\"alert alert-block alert-info\">\n",
    "    <p>Now, we can get the metrics</p>\n",
    "</div>"
   ]
  },
  {
   "cell_type": "code",
   "execution_count": null,
   "id": "07d52029",
   "metadata": {
    "tags": []
   },
   "outputs": [],
   "source": [
    "precision = round(precision_score(y_test, y_pred), 3)\n",
    "roc_auc = round(roc_auc_score(y_test, y_prob), 3)\n",
    "recall = round(recall_score(y_test, y_pred), 3)\n",
    "f1 = round(f1_score(y_test, y_pred), 3)\n",
    "f2 = round(fbeta_score(y_test, y_pred, beta=2), 3)\n",
    "custom = round(custom_score(y_test, y_pred, threshold), 3)\n",
    "\n",
    "# Get the results\n",
    "print(\"Model's metrics\")\n",
    "print(\"- Precision:\\t\\t\", precision)\n",
    "print(\"- ROC-AUC:\\t\\t\", roc_auc)\n",
    "print(\"- Recall:\\t\\t\", recall)\n",
    "print(\"- F1:\\t\\t\\t\", f1)\n",
    "print(\"- F2:\\t\\t\\t\", f2)\n",
    "print(\"- Custom Score:\\t\\t\", custom)\n",
    "print(\"- Duration:\\t\\t\", round(search_lgbm.cv_results_[\"mean_score_time\"][0], 3), \" minutes\")"
   ]
  },
  {
   "cell_type": "markdown",
   "id": "bad4b54e",
   "metadata": {
    "tags": []
   },
   "source": [
    "<div class=\"alert alert-block alert-danger\">\n",
    "    <p><b>Observations / Conclusions</b></p>\n",
    "    <ul style=\"list-style-type: square;\">\n",
    "        <li>XXXXXXXXXXXXXXXXXXXXXXXX</li>\n",
    "    </ul> \n",
    "</div>"
   ]
  },
  {
   "cell_type": "markdown",
   "id": "3164077d",
   "metadata": {
    "tags": []
   },
   "source": [
    "<div class=\"alert alert-block alert-info\">\n",
    "    <p>Plotting the Compute ROC curve and ROC area for each class</p>\n",
    "</div>"
   ]
  },
  {
   "cell_type": "code",
   "execution_count": null,
   "id": "67e12f48",
   "metadata": {},
   "outputs": [],
   "source": [
    "fpr = dict()\n",
    "tpr = dict()\n",
    "fpr[\"micro\"], tpr[\"micro\"], _ = roc_curve(y_test.ravel(), y_prob.ravel())\n",
    "\n",
    "plt.subplots(1, figsize=(6, 6))\n",
    "plt.title(\"Receiver Operating Characteristic\")\n",
    "plt.plot(fpr[\"micro\"], tpr[\"micro\"])\n",
    "plt.plot([0, 1], ls=\"--\")\n",
    "plt.plot([0, 0], [1, 0] , c=\".7\"), plt.plot([1, 1] , c=\".7\")\n",
    "plt.ylabel(\"True Positive Rate\")\n",
    "plt.xlabel(\"False Positive Rate\")\n",
    "plt.show()"
   ]
  },
  {
   "cell_type": "markdown",
   "id": "d61af78a",
   "metadata": {
    "tags": []
   },
   "source": [
    "<div class=\"alert alert-block alert-info\">\n",
    "    <p>Plotting the Precision-Recall curve</p>\n",
    "</div>"
   ]
  },
  {
   "cell_type": "code",
   "execution_count": null,
   "id": "45d65628",
   "metadata": {},
   "outputs": [],
   "source": [
    "display = PrecisionRecallDisplay.from_predictions(y_test.ravel(), y_prob.ravel(), name=\"LGBMClassifier\")\n",
    "_ = display.ax_.set_title(\"2-class Precision-Recall curve\")"
   ]
  },
  {
   "cell_type": "markdown",
   "id": "f9248e8c",
   "metadata": {
    "tags": []
   },
   "source": [
    "<div class=\"alert alert-block alert-info\">\n",
    "    <p>Plotting the Confusion Matrix</p>\n",
    "</div>"
   ]
  },
  {
   "cell_type": "code",
   "execution_count": null,
   "id": "8a97da25",
   "metadata": {},
   "outputs": [],
   "source": [
    "display = ConfusionMatrixDisplay.from_predictions(y_test, y_pred, display_labels=[\"Repaid\",\"No repaid\"])\n",
    "_ = display.ax_.set_title(\"Confusion matrix\")"
   ]
  },
  {
   "cell_type": "markdown",
   "id": "f5427f01",
   "metadata": {
    "tags": []
   },
   "source": [
    "<div class=\"alert alert-block alert-info\">\n",
    "    <p>Adding metrics to compare with others models</p>\n",
    "</div>"
   ]
  },
  {
   "cell_type": "code",
   "execution_count": null,
   "id": "56326fe2",
   "metadata": {},
   "outputs": [],
   "source": [
    "df_temp = pd.DataFrame({\n",
    "    \"Model\" : [\"Random Forest\"],\n",
    "    \"Precision\" : precision, \n",
    "    \"ROC-AUC\" : roc_auc,    \n",
    "    \"Recall\" : recall,\n",
    "    \"F1\" : f1,\n",
    "    \"F2\" : f2,\n",
    "    \"Custom\" : custom,\n",
    "    \"Duration\" : round(df_results.iloc[search.best_index_][\"mean_score_time\"], 3)\n",
    "})"
   ]
  },
  {
   "cell_type": "code",
   "execution_count": null,
   "id": "1a8cc8c0",
   "metadata": {},
   "outputs": [],
   "source": [
    "df_models_metrics = pd.concat([df_models_metrics, df_temp])\n",
    "df_models_metrics"
   ]
  },
  {
   "cell_type": "code",
   "execution_count": null,
   "id": "b4804816",
   "metadata": {},
   "outputs": [],
   "source": []
  },
  {
   "cell_type": "code",
   "execution_count": null,
   "id": "168c1d38",
   "metadata": {},
   "outputs": [],
   "source": []
  },
  {
   "cell_type": "code",
   "execution_count": null,
   "id": "feb4a11c",
   "metadata": {},
   "outputs": [],
   "source": []
  },
  {
   "cell_type": "code",
   "execution_count": null,
   "id": "fa249e4c",
   "metadata": {},
   "outputs": [],
   "source": []
  }
 ],
 "metadata": {
  "kernelspec": {
   "display_name": "conda_p7",
   "language": "python",
   "name": "conda_p7"
  },
  "language_info": {
   "codemirror_mode": {
    "name": "ipython",
    "version": 3
   },
   "file_extension": ".py",
   "mimetype": "text/x-python",
   "name": "python",
   "nbconvert_exporter": "python",
   "pygments_lexer": "ipython3",
   "version": "3.9.9"
  }
 },
 "nbformat": 4,
 "nbformat_minor": 5
}
