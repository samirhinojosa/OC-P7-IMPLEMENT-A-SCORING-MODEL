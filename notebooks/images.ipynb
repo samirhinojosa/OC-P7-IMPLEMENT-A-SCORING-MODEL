{
 "cells": [
  {
   "cell_type": "code",
   "execution_count": 3,
   "id": "08b081e4-0cfd-4f48-ae9c-dbcef1e2714d",
   "metadata": {},
   "outputs": [],
   "source": [
    "import re\n",
    "import json\n",
    "import numpy as np\n",
    "import pandas as pd\n",
    "from functools import partial\n",
    "\n",
    "import matplotlib.pyplot as plt\n",
    "import matplotlib.image as mpimg\n",
    "import seaborn as sns\n"
   ]
  },
  {
   "cell_type": "code",
   "execution_count": 4,
   "id": "4c036d28-bc09-4478-af60-72d08e52baa4",
   "metadata": {},
   "outputs": [],
   "source": [
    "df = pd.read_csv(r\"datasets\\df_optimized.csv\")"
   ]
  },
  {
   "cell_type": "code",
   "execution_count": 5,
   "id": "9a389a5e-82b5-4b2c-94ff-7f3cc34392b2",
   "metadata": {},
   "outputs": [
    {
     "data": {
      "text/plain": [
       "0    202500.0\n",
       "1    270000.0\n",
       "2     67500.0\n",
       "3    135000.0\n",
       "4    121500.0\n",
       "Name: AMT_INCOME_TOTAL, dtype: float64"
      ]
     },
     "execution_count": 5,
     "metadata": {},
     "output_type": "execute_result"
    }
   ],
   "source": [
    "df[\"AMT_INCOME_TOTAL\"].head()"
   ]
  },
  {
   "cell_type": "code",
   "execution_count": 6,
   "id": "2342d632-277f-4681-9e77-e908b7a1195c",
   "metadata": {},
   "outputs": [
    {
     "data": {
      "text/plain": [
       "117000000.0"
      ]
     },
     "execution_count": 6,
     "metadata": {},
     "output_type": "execute_result"
    }
   ],
   "source": [
    "df[\"AMT_INCOME_TOTAL\"].max()"
   ]
  },
  {
   "cell_type": "code",
   "execution_count": 7,
   "id": "81473ea9-a55b-4ac1-931d-0d5d3eaf569d",
   "metadata": {},
   "outputs": [
    {
     "data": {
      "text/plain": [
       "25650.0"
      ]
     },
     "execution_count": 7,
     "metadata": {},
     "output_type": "execute_result"
    }
   ],
   "source": [
    "df[\"AMT_INCOME_TOTAL\"].min()"
   ]
  },
  {
   "cell_type": "code",
   "execution_count": null,
   "id": "dc74edee-4695-48a7-b48a-afac741d7d17",
   "metadata": {},
   "outputs": [],
   "source": []
  },
  {
   "cell_type": "code",
   "execution_count": null,
   "id": "3b35d025-ce7e-40d9-8f44-830a42be89fa",
   "metadata": {},
   "outputs": [],
   "source": [
    "np.linspace(2.0, 3.0, num=5, retstep=True)"
   ]
  },
  {
   "cell_type": "code",
   "execution_count": 12,
   "id": "2a535654-deae-4180-8020-14bb76305499",
   "metadata": {},
   "outputs": [],
   "source": [
    "bins = np.linspace(min(df[\"AMT_INCOME_TOTAL\"]), max(df[\"AMT_INCOME_TOTAL\"]), 50)"
   ]
  },
  {
   "cell_type": "code",
   "execution_count": 13,
   "id": "12378916-e3a1-45bb-8005-370a358ff5bd",
   "metadata": {},
   "outputs": [
    {
     "data": {
      "text/plain": [
       "array([2.56500000e+04, 2.41288163e+06, 4.80011327e+06, 7.18734490e+06,\n",
       "       9.57457653e+06, 1.19618082e+07, 1.43490398e+07, 1.67362714e+07,\n",
       "       1.91235031e+07, 2.15107347e+07, 2.38979663e+07, 2.62851980e+07,\n",
       "       2.86724296e+07, 3.10596612e+07, 3.34468929e+07, 3.58341245e+07,\n",
       "       3.82213561e+07, 4.06085878e+07, 4.29958194e+07, 4.53830510e+07,\n",
       "       4.77702827e+07, 5.01575143e+07, 5.25447459e+07, 5.49319776e+07,\n",
       "       5.73192092e+07, 5.97064408e+07, 6.20936724e+07, 6.44809041e+07,\n",
       "       6.68681357e+07, 6.92553673e+07, 7.16425990e+07, 7.40298306e+07,\n",
       "       7.64170622e+07, 7.88042939e+07, 8.11915255e+07, 8.35787571e+07,\n",
       "       8.59659888e+07, 8.83532204e+07, 9.07404520e+07, 9.31276837e+07,\n",
       "       9.55149153e+07, 9.79021469e+07, 1.00289379e+08, 1.02676610e+08,\n",
       "       1.05063842e+08, 1.07451073e+08, 1.09838305e+08, 1.12225537e+08,\n",
       "       1.14612768e+08, 1.17000000e+08])"
      ]
     },
     "execution_count": 13,
     "metadata": {},
     "output_type": "execute_result"
    }
   ],
   "source": [
    "bins"
   ]
  },
  {
   "cell_type": "code",
   "execution_count": 10,
   "id": "0cb87159-8638-404b-b681-245d68045107",
   "metadata": {},
   "outputs": [],
   "source": [
    "bins = np.linspace(start = 0, stop = 100, num = 11)"
   ]
  },
  {
   "cell_type": "code",
   "execution_count": 11,
   "id": "82594238-1f75-4dd6-9da4-ec7274e981cd",
   "metadata": {},
   "outputs": [
    {
     "data": {
      "text/plain": [
       "array([  0.,  10.,  20.,  30.,  40.,  50.,  60.,  70.,  80.,  90., 100.])"
      ]
     },
     "execution_count": 11,
     "metadata": {},
     "output_type": "execute_result"
    }
   ],
   "source": [
    "bins"
   ]
  },
  {
   "cell_type": "code",
   "execution_count": null,
   "id": "8bf0ec99-702a-4010-9da7-aa8016813f45",
   "metadata": {},
   "outputs": [],
   "source": []
  },
  {
   "cell_type": "code",
   "execution_count": null,
   "id": "dc0cf70b-7872-4f8e-8846-8b463f9889f3",
   "metadata": {},
   "outputs": [],
   "source": []
  },
  {
   "cell_type": "code",
   "execution_count": null,
   "id": "6c7a1c02-9566-4fb2-a1f7-887052863914",
   "metadata": {},
   "outputs": [],
   "source": []
  },
  {
   "cell_type": "code",
   "execution_count": null,
   "id": "473c5f77-70b6-4eb9-93b6-c63fe217d1c4",
   "metadata": {},
   "outputs": [],
   "source": [
    "for key, value in detectors.items():\n",
    "    \n",
    "    axvline_value = globals()[\"df_\" + key + \"_img_features_pca\"].shape[1]\n",
    "    \n",
    "    globals()[\"scree_\" + key] = globals()[\"pca_\" + key].explained_variance_ratio_*100\n",
    "    \n",
    "    fig = plt.subplots(figsize=(8, 5))\n",
    "    plt.plot(np.arange(len(globals()[\"scree_\" + key]))+1,\n",
    "             globals()[\"scree_\" + key].cumsum())\n",
    "    \n",
    "    plt.xlabel(\"Number of principal components\", size=12)\n",
    "    plt.ylabel(\"% of inertia\", size=12)\n",
    "    \n",
    "    plt.axhline(80, lw=1, c=\"red\")\n",
    "    plt.text(1, 81, \"80%\", c=\"red\")\n",
    "    \n",
    "    plt.axvline(axvline_value, lw=1, c=\"red\")\n",
    "    plt.text(axvline_value - 6, 8, axvline_value, c=\"red\")\n",
    "    \n",
    "    plt.title(\"Scree of eigenvalues - \" + key.upper(), size=18, fontweight=\"bold\")\n",
    "    plt.tight_layout()\n",
    "    plt.show()\n",
    "    \n",
    "    print(\"\\n\")"
   ]
  },
  {
   "cell_type": "code",
   "execution_count": null,
   "id": "5c2b5374-edc2-46aa-b635-303c9247b91f",
   "metadata": {},
   "outputs": [],
   "source": []
  }
 ],
 "metadata": {
  "kernelspec": {
   "display_name": "Python 3 (ipykernel)",
   "language": "python",
   "name": "python3"
  },
  "language_info": {
   "codemirror_mode": {
    "name": "ipython",
    "version": 3
   },
   "file_extension": ".py",
   "mimetype": "text/x-python",
   "name": "python",
   "nbconvert_exporter": "python",
   "pygments_lexer": "ipython3",
   "version": "3.9.9"
  }
 },
 "nbformat": 4,
 "nbformat_minor": 5
}
