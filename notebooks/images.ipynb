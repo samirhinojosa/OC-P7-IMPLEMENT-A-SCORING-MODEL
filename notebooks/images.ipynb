{
 "cells": [
  {
   "cell_type": "code",
   "execution_count": 1,
   "id": "08b081e4-0cfd-4f48-ae9c-dbcef1e2714d",
   "metadata": {},
   "outputs": [],
   "source": [
    "import re\n",
    "import json\n",
    "import numpy as np\n",
    "import pandas as pd\n",
    "from functools import partial\n",
    "\n",
    "import matplotlib.pyplot as plt\n",
    "import matplotlib.image as mpimg\n",
    "import seaborn as sns\n",
    "\n",
    "\n",
    "## Own specific functions \n",
    "from functions import *"
   ]
  },
  {
   "cell_type": "code",
   "execution_count": 2,
   "id": "4c036d28-bc09-4478-af60-72d08e52baa4",
   "metadata": {},
   "outputs": [],
   "source": [
    "df = pd.read_csv(r\"datasets\\df_optimized.csv\")\n",
    "df_customers_to_predict = pd.read_csv(r\"datasets\\df_customers_to_predict.csv\")"
   ]
  },
  {
   "cell_type": "code",
   "execution_count": 3,
   "id": "714740cc-0a3b-4a46-a23f-f8132a5313e8",
   "metadata": {},
   "outputs": [
    {
     "name": "stdout",
     "output_type": "stream",
     "text": [
      "\n",
      "Analysis Header of df dataset\n",
      "--------------------------------------------------------------------------------\n",
      "- Dataset shape:\t\t\t 356251 rows and 797 columns\n",
      "- Total of NaN values:\t\t\t 48744\n",
      "- Percentage of NaN:\t\t\t 0.02 %\n",
      "- Total of infinite values:\t\t 0\n",
      "- Percentage of infinite values:\t 0.0 %\n",
      "- Total of full duplicates rows:\t 0\n",
      "- Total of empty rows:\t\t\t 0\n",
      "- Total of empty columns:\t\t 0\n",
      "- Unique indexes:\t\t\t True\n",
      "- Memory usage:\t\t\t\t 2.1 GB\n"
     ]
    }
   ],
   "source": [
    "df_analysis(df, \"df\", analysis_type=\"header\")"
   ]
  },
  {
   "cell_type": "code",
   "execution_count": 4,
   "id": "99dc1975-340a-4741-8aba-2ef725488dde",
   "metadata": {},
   "outputs": [],
   "source": [
    "from datetime import date, timedelta\n",
    "\n",
    "def calculate_years(days):\n",
    "    \"\"\"\n",
    "    Method used to calculate years based on date (today - quantity of days).\n",
    "\n",
    "    Parameters:\n",
    "    -----------------\n",
    "        days (int): Numbers of day to rest of today\n",
    "\n",
    "    Returns:\n",
    "    -----------------\n",
    "        years (int): Numbers of years\n",
    "    \"\"\"\n",
    "\n",
    "    today = date.today()\n",
    "    initial_date = today - timedelta(abs(days))\n",
    "    years = today.year - initial_date.year - ((today.month, today.day) < (initial_date.month, initial_date.day))\n",
    "\n",
    "    return years"
   ]
  },
  {
   "cell_type": "code",
   "execution_count": 5,
   "id": "bab19b2f-1633-4daa-a282-75a4953a4cb2",
   "metadata": {},
   "outputs": [],
   "source": [
    "df[\"AGE\"] = df[\"DAYS_BIRTH\"].apply(lambda x: calculate_years(x))\n",
    "df_customers_to_predict[\"AGE\"] = df_customers_to_predict[\"DAYS_BIRTH\"].apply(lambda x: calculate_years(x))"
   ]
  },
  {
   "cell_type": "code",
   "execution_count": 6,
   "id": "e2cdc52a-69c9-474e-8afa-b07b4fd405c8",
   "metadata": {},
   "outputs": [
    {
     "data": {
      "text/html": [
       "<div>\n",
       "<style scoped>\n",
       "    .dataframe tbody tr th:only-of-type {\n",
       "        vertical-align: middle;\n",
       "    }\n",
       "\n",
       "    .dataframe tbody tr th {\n",
       "        vertical-align: top;\n",
       "    }\n",
       "\n",
       "    .dataframe thead th {\n",
       "        text-align: right;\n",
       "    }\n",
       "</style>\n",
       "<table border=\"1\" class=\"dataframe\">\n",
       "  <thead>\n",
       "    <tr style=\"text-align: right;\">\n",
       "      <th></th>\n",
       "      <th>AGE</th>\n",
       "      <th>DAYS_BIRTH</th>\n",
       "    </tr>\n",
       "  </thead>\n",
       "  <tbody>\n",
       "    <tr>\n",
       "      <th>0</th>\n",
       "      <td>25</td>\n",
       "      <td>-9461</td>\n",
       "    </tr>\n",
       "    <tr>\n",
       "      <th>1</th>\n",
       "      <td>45</td>\n",
       "      <td>-16765</td>\n",
       "    </tr>\n",
       "    <tr>\n",
       "      <th>2</th>\n",
       "      <td>52</td>\n",
       "      <td>-19046</td>\n",
       "    </tr>\n",
       "    <tr>\n",
       "      <th>3</th>\n",
       "      <td>52</td>\n",
       "      <td>-19005</td>\n",
       "    </tr>\n",
       "    <tr>\n",
       "      <th>4</th>\n",
       "      <td>54</td>\n",
       "      <td>-19932</td>\n",
       "    </tr>\n",
       "  </tbody>\n",
       "</table>\n",
       "</div>"
      ],
      "text/plain": [
       "   AGE  DAYS_BIRTH\n",
       "0   25       -9461\n",
       "1   45      -16765\n",
       "2   52      -19046\n",
       "3   52      -19005\n",
       "4   54      -19932"
      ]
     },
     "execution_count": 6,
     "metadata": {},
     "output_type": "execute_result"
    }
   ],
   "source": [
    "df[[\"AGE\", \"DAYS_BIRTH\"]].head()"
   ]
  },
  {
   "cell_type": "code",
   "execution_count": 7,
   "id": "378ed90e-5722-4f72-b336-363ce2df5508",
   "metadata": {},
   "outputs": [
    {
     "data": {
      "text/html": [
       "<div>\n",
       "<style scoped>\n",
       "    .dataframe tbody tr th:only-of-type {\n",
       "        vertical-align: middle;\n",
       "    }\n",
       "\n",
       "    .dataframe tbody tr th {\n",
       "        vertical-align: top;\n",
       "    }\n",
       "\n",
       "    .dataframe thead th {\n",
       "        text-align: right;\n",
       "    }\n",
       "</style>\n",
       "<table border=\"1\" class=\"dataframe\">\n",
       "  <thead>\n",
       "    <tr style=\"text-align: right;\">\n",
       "      <th></th>\n",
       "      <th>AGE</th>\n",
       "      <th>DAYS_BIRTH</th>\n",
       "    </tr>\n",
       "  </thead>\n",
       "  <tbody>\n",
       "    <tr>\n",
       "      <th>0</th>\n",
       "      <td>52</td>\n",
       "      <td>-19241</td>\n",
       "    </tr>\n",
       "    <tr>\n",
       "      <th>1</th>\n",
       "      <td>49</td>\n",
       "      <td>-18064</td>\n",
       "    </tr>\n",
       "    <tr>\n",
       "      <th>2</th>\n",
       "      <td>54</td>\n",
       "      <td>-20038</td>\n",
       "    </tr>\n",
       "    <tr>\n",
       "      <th>3</th>\n",
       "      <td>38</td>\n",
       "      <td>-13976</td>\n",
       "    </tr>\n",
       "    <tr>\n",
       "      <th>4</th>\n",
       "      <td>35</td>\n",
       "      <td>-13040</td>\n",
       "    </tr>\n",
       "  </tbody>\n",
       "</table>\n",
       "</div>"
      ],
      "text/plain": [
       "   AGE  DAYS_BIRTH\n",
       "0   52      -19241\n",
       "1   49      -18064\n",
       "2   54      -20038\n",
       "3   38      -13976\n",
       "4   35      -13040"
      ]
     },
     "execution_count": 7,
     "metadata": {},
     "output_type": "execute_result"
    }
   ],
   "source": [
    "df_customers_to_predict[[\"AGE\", \"DAYS_BIRTH\"]].head()"
   ]
  },
  {
   "cell_type": "code",
   "execution_count": 8,
   "id": "f2b88de4-c690-4ca0-9466-ec2eb4665fbb",
   "metadata": {},
   "outputs": [
    {
     "data": {
      "text/html": [
       "<div>\n",
       "<style scoped>\n",
       "    .dataframe tbody tr th:only-of-type {\n",
       "        vertical-align: middle;\n",
       "    }\n",
       "\n",
       "    .dataframe tbody tr th {\n",
       "        vertical-align: top;\n",
       "    }\n",
       "\n",
       "    .dataframe thead th {\n",
       "        text-align: right;\n",
       "    }\n",
       "</style>\n",
       "<table border=\"1\" class=\"dataframe\">\n",
       "  <thead>\n",
       "    <tr style=\"text-align: right;\">\n",
       "      <th></th>\n",
       "      <th>SK_ID_CURR</th>\n",
       "      <th>CODE_GENDER</th>\n",
       "      <th>FLAG_OWN_CAR</th>\n",
       "      <th>FLAG_OWN_REALTY</th>\n",
       "      <th>CNT_CHILDREN</th>\n",
       "      <th>AMT_INCOME_TOTAL</th>\n",
       "      <th>AMT_CREDIT</th>\n",
       "      <th>AMT_ANNUITY</th>\n",
       "      <th>AMT_GOODS_PRICE</th>\n",
       "      <th>REGION_POPULATION_RELATIVE</th>\n",
       "      <th>...</th>\n",
       "      <th>CC_NAME_CONTRACT_STATUS_Signed_MEAN</th>\n",
       "      <th>CC_NAME_CONTRACT_STATUS_Signed_SUM</th>\n",
       "      <th>CC_NAME_CONTRACT_STATUS_Signed_VAR</th>\n",
       "      <th>CC_NAME_CONTRACT_STATUS_nan_MIN</th>\n",
       "      <th>CC_NAME_CONTRACT_STATUS_nan_MAX</th>\n",
       "      <th>CC_NAME_CONTRACT_STATUS_nan_MEAN</th>\n",
       "      <th>CC_NAME_CONTRACT_STATUS_nan_SUM</th>\n",
       "      <th>CC_NAME_CONTRACT_STATUS_nan_VAR</th>\n",
       "      <th>CC_COUNT</th>\n",
       "      <th>AGE</th>\n",
       "    </tr>\n",
       "  </thead>\n",
       "  <tbody>\n",
       "    <tr>\n",
       "      <th>0</th>\n",
       "      <td>100001</td>\n",
       "      <td>1</td>\n",
       "      <td>0</td>\n",
       "      <td>0</td>\n",
       "      <td>0</td>\n",
       "      <td>135000.0</td>\n",
       "      <td>568800.0</td>\n",
       "      <td>20560.5</td>\n",
       "      <td>450000.0</td>\n",
       "      <td>0.018850</td>\n",
       "      <td>...</td>\n",
       "      <td>0.003583</td>\n",
       "      <td>0.106781</td>\n",
       "      <td>0.002955</td>\n",
       "      <td>0.0</td>\n",
       "      <td>0.0</td>\n",
       "      <td>0.0</td>\n",
       "      <td>0.0</td>\n",
       "      <td>0.0</td>\n",
       "      <td>37.083683</td>\n",
       "      <td>52</td>\n",
       "    </tr>\n",
       "    <tr>\n",
       "      <th>1</th>\n",
       "      <td>100005</td>\n",
       "      <td>0</td>\n",
       "      <td>0</td>\n",
       "      <td>0</td>\n",
       "      <td>0</td>\n",
       "      <td>99000.0</td>\n",
       "      <td>222768.0</td>\n",
       "      <td>17370.0</td>\n",
       "      <td>180000.0</td>\n",
       "      <td>0.035792</td>\n",
       "      <td>...</td>\n",
       "      <td>0.003583</td>\n",
       "      <td>0.106781</td>\n",
       "      <td>0.002955</td>\n",
       "      <td>0.0</td>\n",
       "      <td>0.0</td>\n",
       "      <td>0.0</td>\n",
       "      <td>0.0</td>\n",
       "      <td>0.0</td>\n",
       "      <td>37.083683</td>\n",
       "      <td>49</td>\n",
       "    </tr>\n",
       "    <tr>\n",
       "      <th>2</th>\n",
       "      <td>100013</td>\n",
       "      <td>0</td>\n",
       "      <td>1</td>\n",
       "      <td>0</td>\n",
       "      <td>0</td>\n",
       "      <td>202500.0</td>\n",
       "      <td>663264.0</td>\n",
       "      <td>69777.0</td>\n",
       "      <td>630000.0</td>\n",
       "      <td>0.019101</td>\n",
       "      <td>...</td>\n",
       "      <td>0.000000</td>\n",
       "      <td>0.000000</td>\n",
       "      <td>0.000000</td>\n",
       "      <td>0.0</td>\n",
       "      <td>0.0</td>\n",
       "      <td>0.0</td>\n",
       "      <td>0.0</td>\n",
       "      <td>0.0</td>\n",
       "      <td>96.000000</td>\n",
       "      <td>54</td>\n",
       "    </tr>\n",
       "    <tr>\n",
       "      <th>3</th>\n",
       "      <td>100028</td>\n",
       "      <td>1</td>\n",
       "      <td>0</td>\n",
       "      <td>0</td>\n",
       "      <td>2</td>\n",
       "      <td>315000.0</td>\n",
       "      <td>1575000.0</td>\n",
       "      <td>49018.5</td>\n",
       "      <td>1575000.0</td>\n",
       "      <td>0.026392</td>\n",
       "      <td>...</td>\n",
       "      <td>0.000000</td>\n",
       "      <td>0.000000</td>\n",
       "      <td>0.000000</td>\n",
       "      <td>0.0</td>\n",
       "      <td>0.0</td>\n",
       "      <td>0.0</td>\n",
       "      <td>0.0</td>\n",
       "      <td>0.0</td>\n",
       "      <td>49.000000</td>\n",
       "      <td>38</td>\n",
       "    </tr>\n",
       "    <tr>\n",
       "      <th>4</th>\n",
       "      <td>100038</td>\n",
       "      <td>0</td>\n",
       "      <td>1</td>\n",
       "      <td>1</td>\n",
       "      <td>1</td>\n",
       "      <td>180000.0</td>\n",
       "      <td>625500.0</td>\n",
       "      <td>32067.0</td>\n",
       "      <td>625500.0</td>\n",
       "      <td>0.010032</td>\n",
       "      <td>...</td>\n",
       "      <td>0.003583</td>\n",
       "      <td>0.106781</td>\n",
       "      <td>0.002955</td>\n",
       "      <td>0.0</td>\n",
       "      <td>0.0</td>\n",
       "      <td>0.0</td>\n",
       "      <td>0.0</td>\n",
       "      <td>0.0</td>\n",
       "      <td>37.083683</td>\n",
       "      <td>35</td>\n",
       "    </tr>\n",
       "  </tbody>\n",
       "</table>\n",
       "<p>5 rows × 797 columns</p>\n",
       "</div>"
      ],
      "text/plain": [
       "   SK_ID_CURR  CODE_GENDER  FLAG_OWN_CAR  FLAG_OWN_REALTY  CNT_CHILDREN  \\\n",
       "0      100001            1             0                0             0   \n",
       "1      100005            0             0                0             0   \n",
       "2      100013            0             1                0             0   \n",
       "3      100028            1             0                0             2   \n",
       "4      100038            0             1                1             1   \n",
       "\n",
       "   AMT_INCOME_TOTAL  AMT_CREDIT  AMT_ANNUITY  AMT_GOODS_PRICE  \\\n",
       "0          135000.0    568800.0      20560.5         450000.0   \n",
       "1           99000.0    222768.0      17370.0         180000.0   \n",
       "2          202500.0    663264.0      69777.0         630000.0   \n",
       "3          315000.0   1575000.0      49018.5        1575000.0   \n",
       "4          180000.0    625500.0      32067.0         625500.0   \n",
       "\n",
       "   REGION_POPULATION_RELATIVE  ...  CC_NAME_CONTRACT_STATUS_Signed_MEAN  \\\n",
       "0                    0.018850  ...                             0.003583   \n",
       "1                    0.035792  ...                             0.003583   \n",
       "2                    0.019101  ...                             0.000000   \n",
       "3                    0.026392  ...                             0.000000   \n",
       "4                    0.010032  ...                             0.003583   \n",
       "\n",
       "   CC_NAME_CONTRACT_STATUS_Signed_SUM  CC_NAME_CONTRACT_STATUS_Signed_VAR  \\\n",
       "0                            0.106781                            0.002955   \n",
       "1                            0.106781                            0.002955   \n",
       "2                            0.000000                            0.000000   \n",
       "3                            0.000000                            0.000000   \n",
       "4                            0.106781                            0.002955   \n",
       "\n",
       "   CC_NAME_CONTRACT_STATUS_nan_MIN  CC_NAME_CONTRACT_STATUS_nan_MAX  \\\n",
       "0                              0.0                              0.0   \n",
       "1                              0.0                              0.0   \n",
       "2                              0.0                              0.0   \n",
       "3                              0.0                              0.0   \n",
       "4                              0.0                              0.0   \n",
       "\n",
       "   CC_NAME_CONTRACT_STATUS_nan_MEAN  CC_NAME_CONTRACT_STATUS_nan_SUM  \\\n",
       "0                               0.0                              0.0   \n",
       "1                               0.0                              0.0   \n",
       "2                               0.0                              0.0   \n",
       "3                               0.0                              0.0   \n",
       "4                               0.0                              0.0   \n",
       "\n",
       "   CC_NAME_CONTRACT_STATUS_nan_VAR   CC_COUNT  AGE  \n",
       "0                              0.0  37.083683   52  \n",
       "1                              0.0  37.083683   49  \n",
       "2                              0.0  96.000000   54  \n",
       "3                              0.0  49.000000   38  \n",
       "4                              0.0  37.083683   35  \n",
       "\n",
       "[5 rows x 797 columns]"
      ]
     },
     "execution_count": 8,
     "metadata": {},
     "output_type": "execute_result"
    }
   ],
   "source": [
    "df_customers_to_predict.head()"
   ]
  },
  {
   "cell_type": "code",
   "execution_count": 9,
   "id": "172bac62-bc75-4a81-8773-f70a28727fb4",
   "metadata": {},
   "outputs": [
    {
     "ename": "NameError",
     "evalue": "name 'XXX' is not defined",
     "output_type": "error",
     "traceback": [
      "\u001b[1;31m---------------------------------------------------------------------------\u001b[0m",
      "\u001b[1;31mNameError\u001b[0m                                 Traceback (most recent call last)",
      "\u001b[1;32m~\\AppData\\Local\\Temp/ipykernel_7284/1382028218.py\u001b[0m in \u001b[0;36m<module>\u001b[1;34m\u001b[0m\n\u001b[1;32m----> 1\u001b[1;33m \u001b[0mXXX\u001b[0m\u001b[1;33m\u001b[0m\u001b[1;33m\u001b[0m\u001b[0m\n\u001b[0m",
      "\u001b[1;31mNameError\u001b[0m: name 'XXX' is not defined"
     ]
    }
   ],
   "source": [
    "XXX"
   ]
  },
  {
   "cell_type": "code",
   "execution_count": null,
   "id": "c33f9071-a20e-454a-9283-81b18f42c28a",
   "metadata": {},
   "outputs": [],
   "source": []
  },
  {
   "cell_type": "code",
   "execution_count": 10,
   "id": "f897d36d-9b9f-4b6d-80c0-124e4cded4d5",
   "metadata": {},
   "outputs": [
    {
     "data": {
      "text/plain": [
       "2    54\n",
       "Name: AGE, dtype: int64"
      ]
     },
     "execution_count": 10,
     "metadata": {},
     "output_type": "execute_result"
    }
   ],
   "source": [
    "df_select = df_customers_to_predict[df_customers_to_predict[\"SK_ID_CURR\"]==100013]\n",
    "df_select[\"AGE\"]"
   ]
  },
  {
   "cell_type": "code",
   "execution_count": 11,
   "id": "2e0a4bf7-9f67-4eea-acf3-52a044c0ffe7",
   "metadata": {},
   "outputs": [
    {
     "data": {
      "text/plain": [
       "[Text(0.5, 1.0, 'Customer age'), Text(0.5, 0, 'Age(Year)'), Text(0, 0.5, '')]"
      ]
     },
     "execution_count": 11,
     "metadata": {},
     "output_type": "execute_result"
    },
    {
     "data": {
      "image/png": "[encoded data removed]",
      "text/plain": [
       "<Figure size 720x360 with 1 Axes>"
      ]
     },
     "metadata": {
      "needs_background": "light"
     },
     "output_type": "display_data"
    }
   ],
   "source": [
    "fig, ax = plt.subplots(figsize=(10, 5))\n",
    "sns.histplot(df[\"AGE\"], edgecolor='k', color=\"goldenrod\", bins=20)\n",
    "ax.axvline(df_select[\"AGE\"].values, color=\"green\", linestyle='--')\n",
    "ax.set(title='Customer age', xlabel='Age(Year)', ylabel='')\n"
   ]
  },
  {
   "cell_type": "code",
   "execution_count": 40,
   "id": "95a3bdca-870b-45f8-8fe6-7b341fe81e57",
   "metadata": {},
   "outputs": [
    {
     "data": {
      "text/html": [
       "<div>\n",
       "<style scoped>\n",
       "    .dataframe tbody tr th:only-of-type {\n",
       "        vertical-align: middle;\n",
       "    }\n",
       "\n",
       "    .dataframe tbody tr th {\n",
       "        vertical-align: top;\n",
       "    }\n",
       "\n",
       "    .dataframe thead th {\n",
       "        text-align: right;\n",
       "    }\n",
       "</style>\n",
       "<table border=\"1\" class=\"dataframe\">\n",
       "  <thead>\n",
       "    <tr style=\"text-align: right;\">\n",
       "      <th></th>\n",
       "      <th>AGE</th>\n",
       "      <th>QUANTITY</th>\n",
       "    </tr>\n",
       "  </thead>\n",
       "  <tbody>\n",
       "    <tr>\n",
       "      <th>0</th>\n",
       "      <td>20</td>\n",
       "      <td>4</td>\n",
       "    </tr>\n",
       "    <tr>\n",
       "      <th>1</th>\n",
       "      <td>21</td>\n",
       "      <td>1302</td>\n",
       "    </tr>\n",
       "    <tr>\n",
       "      <th>2</th>\n",
       "      <td>22</td>\n",
       "      <td>3551</td>\n",
       "    </tr>\n",
       "    <tr>\n",
       "      <th>3</th>\n",
       "      <td>23</td>\n",
       "      <td>4705</td>\n",
       "    </tr>\n",
       "    <tr>\n",
       "      <th>4</th>\n",
       "      <td>24</td>\n",
       "      <td>4542</td>\n",
       "    </tr>\n",
       "  </tbody>\n",
       "</table>\n",
       "</div>"
      ],
      "text/plain": [
       "   AGE  QUANTITY\n",
       "0   20         4\n",
       "1   21      1302\n",
       "2   22      3551\n",
       "3   23      4705\n",
       "4   24      4542"
      ]
     },
     "execution_count": 40,
     "metadata": {},
     "output_type": "execute_result"
    }
   ],
   "source": [
    "df_temp = df.groupby(\"AGE\").size()\n",
    "df_temp = pd.DataFrame(df_temp).reset_index()\n",
    "df_temp.columns = [\"AGE\", \"QUANTITY\"]\n",
    "df_temp.head()"
   ]
  },
  {
   "cell_type": "code",
   "execution_count": 49,
   "id": "dfe4d6b9-da19-4ae6-bea9-41af163b5755",
   "metadata": {},
   "outputs": [
    {
     "data": {
      "text/plain": [
       "{20: 4,\n",
       " 21: 1302,\n",
       " 22: 3551,\n",
       " 23: 4705,\n",
       " 24: 4542,\n",
       " 25: 4763,\n",
       " 26: 5218,\n",
       " 27: 9801,\n",
       " 28: 9277,\n",
       " 29: 8901,\n",
       " 30: 8968,\n",
       " 31: 9727,\n",
       " 32: 9206,\n",
       " 33: 8953,\n",
       " 34: 8910,\n",
       " 35: 9052,\n",
       " 36: 9916,\n",
       " 37: 10232,\n",
       " 38: 10312,\n",
       " 39: 10167,\n",
       " 40: 9993,\n",
       " 41: 9835,\n",
       " 42: 9571,\n",
       " 43: 9597,\n",
       " 44: 9059,\n",
       " 45: 8500,\n",
       " 46: 8439,\n",
       " 47: 8158,\n",
       " 48: 8107,\n",
       " 49: 7827,\n",
       " 50: 7442,\n",
       " 51: 7790,\n",
       " 52: 7931,\n",
       " 53: 8569,\n",
       " 54: 8750,\n",
       " 55: 7543,\n",
       " 56: 7980,\n",
       " 57: 7768,\n",
       " 58: 7200,\n",
       " 59: 7696,\n",
       " 60: 7143,\n",
       " 61: 6335,\n",
       " 62: 6371,\n",
       " 63: 6042,\n",
       " 64: 5980,\n",
       " 65: 3429,\n",
       " 66: 2497,\n",
       " 67: 2415,\n",
       " 68: 776,\n",
       " 69: 1}"
      ]
     },
     "execution_count": 49,
     "metadata": {},
     "output_type": "execute_result"
    }
   ],
   "source": [
    "sam_dict = df_temp.set_index('AGE').to_dict()['QUANTITY']\n",
    "sam_dict"
   ]
  },
  {
   "cell_type": "code",
   "execution_count": 52,
   "id": "4190a1d0-1ca8-4698-b9ea-0f442efc2022",
   "metadata": {},
   "outputs": [
    {
     "data": {
      "text/plain": [
       "<AxesSubplot:ylabel='Count'>"
      ]
     },
     "execution_count": 52,
     "metadata": {},
     "output_type": "execute_result"
    },
    {
     "data": {
      "image/png": "[encoded data removed]",
      "text/plain": [
       "<Figure size 720x360 with 1 Axes>"
      ]
     },
     "metadata": {
      "needs_background": "light"
     },
     "output_type": "display_data"
    }
   ],
   "source": [
    "sam_lict = [key for key, val in sam_dict.items() for _ in range(val)]\n",
    "fig, ax = plt.subplots(figsize=(10, 5))\n",
    "sns.histplot(sam_lict, edgecolor='k', color=\"goldenrod\", bins=20)\n"
   ]
  },
  {
   "cell_type": "code",
   "execution_count": 11,
   "id": "e9e667bc-85b5-409a-9f1c-a17b22977974",
   "metadata": {},
   "outputs": [
    {
     "data": {
      "text/plain": [
       "[Text(0.5, 1.0, 'Customer age'), Text(0.5, 0, 'Age(Year)'), Text(0, 0.5, '')]"
      ]
     },
     "execution_count": 11,
     "metadata": {},
     "output_type": "execute_result"
    },
    {
     "data": {
      "image/png": "[encoded data removed]",
      "text/plain": [
       "<Figure size 720x360 with 1 Axes>"
      ]
     },
     "metadata": {
      "needs_background": "light"
     },
     "output_type": "display_data"
    }
   ],
   "source": [
    "fig, ax = plt.subplots(figsize=(10, 5))\n",
    "sns.histplot(df[\"AGE\"], edgecolor='k', color=\"goldenrod\", bins=20)\n",
    "ax.axvline(df_select[\"AGE\"].values, color=\"green\", linestyle='--')\n",
    "ax.set(title='Customer age', xlabel='Age(Year)', ylabel='')\n"
   ]
  },
  {
   "cell_type": "code",
   "execution_count": 55,
   "id": "1330cce9-ab57-4d9f-b8ef-f47babf55d28",
   "metadata": {},
   "outputs": [
    {
     "data": {
      "text/plain": [
       "[Text(0.5, 1.0, 'Customer age'),\n",
       " Text(0.5, 3.200000000000003, 'Age(Year)'),\n",
       " Text(17.200000000000003, 0.5, '')]"
      ]
     },
     "execution_count": 55,
     "metadata": {},
     "output_type": "execute_result"
    },
    {
     "data": {
      "image/png": "[encoded data removed]",
      "text/plain": [
       "<Figure size 360x360 with 1 Axes>"
      ]
     },
     "metadata": {
      "needs_background": "light"
     },
     "output_type": "display_data"
    }
   ],
   "source": [
    "sns.displot(sam_lict, kind=\"kde\")\n",
    "ax.axvline(df_select[\"AGE\"].values, color=\"green\", linestyle='--')\n",
    "ax.set(title='Customer age', xlabel='Age(Year)', ylabel='')"
   ]
  },
  {
   "cell_type": "code",
   "execution_count": null,
   "id": "cca7d22f-2c18-45fa-ac32-e2db5eed11c1",
   "metadata": {},
   "outputs": [],
   "source": []
  },
  {
   "cell_type": "code",
   "execution_count": null,
   "id": "a0fceb62-c1fa-47c1-9249-fe46241a9701",
   "metadata": {},
   "outputs": [],
   "source": []
  },
  {
   "cell_type": "code",
   "execution_count": null,
   "id": "75d2b508-473f-4e2b-b8bb-24b7e5696c52",
   "metadata": {},
   "outputs": [],
   "source": []
  },
  {
   "cell_type": "code",
   "execution_count": null,
   "id": "ede4ba78-7d1c-4303-bc57-05fc9e208026",
   "metadata": {},
   "outputs": [],
   "source": []
  },
  {
   "cell_type": "code",
   "execution_count": null,
   "id": "edb3f6cf-1f69-4f96-870c-bc6035e752a0",
   "metadata": {},
   "outputs": [],
   "source": []
  },
  {
   "cell_type": "code",
   "execution_count": null,
   "id": "5613997d-a7a4-4e93-9ada-52199fd25da2",
   "metadata": {},
   "outputs": [],
   "source": [
    "mydict = {1: 27, 34: 1, 3: 72, 4: 62, 5: 33, 6: 36, 7: 20, 8: 12, 9: 9, 10: 6, 11: 5, 12: 8, 2: 74, 14: 4, 15: 3, 16: 1, 17: 1, 18: 1, 19: 1, 21: 1, 27: 2}\n",
    "\n",
    "mylist = [key for key, val in mydict.items() for _ in range(val)]\n",
    "plt.hist(mylist, bins=20)"
   ]
  },
  {
   "cell_type": "code",
   "execution_count": null,
   "id": "9145762c-c57f-49ba-a1cc-478749713d38",
   "metadata": {},
   "outputs": [],
   "source": []
  },
  {
   "cell_type": "code",
   "execution_count": null,
   "id": "a431fd69-d2f5-49f1-89d1-7b96cd900be1",
   "metadata": {},
   "outputs": [],
   "source": []
  },
  {
   "cell_type": "code",
   "execution_count": null,
   "id": "d3b4d7f0-91da-4796-802e-2021593dc026",
   "metadata": {},
   "outputs": [],
   "source": []
  },
  {
   "cell_type": "code",
   "execution_count": null,
   "id": "e84cee55-6d25-46f8-9a0e-79704891606e",
   "metadata": {},
   "outputs": [],
   "source": [
    "print(df.groupby('Team').size())"
   ]
  },
  {
   "cell_type": "code",
   "execution_count": null,
   "id": "505d9736-40a2-4cfb-9ee9-0a5957843d99",
   "metadata": {},
   "outputs": [],
   "source": []
  },
  {
   "cell_type": "code",
   "execution_count": null,
   "id": "e96ee7e0-1b6c-43ca-b94b-aed7f4aaaa39",
   "metadata": {},
   "outputs": [],
   "source": []
  },
  {
   "cell_type": "code",
   "execution_count": null,
   "id": "a82d2f45-86fd-422c-9df1-b137a996d172",
   "metadata": {},
   "outputs": [],
   "source": [
    "fig, ax = plt.subplots(figsize=(10, 5))\n",
    "sns.histplot(df[\"DAYS_BIRTH_NEW\"], edgecolor=\"k\", color=\"goldenrod\", bins=20)"
   ]
  },
  {
   "cell_type": "code",
   "execution_count": null,
   "id": "300c7cf0-47e2-4b83-ac0f-171dc7ebf43f",
   "metadata": {},
   "outputs": [],
   "source": [
    "sns.histplot(data=penguins, x=\"flipper_length_mm\", kde=True)"
   ]
  },
  {
   "cell_type": "code",
   "execution_count": null,
   "id": "5b1f27ad-a780-47cd-95bf-916cc16b1777",
   "metadata": {},
   "outputs": [],
   "source": [
    "sns.displot(df[\"DAYS_BIRTH_NEW\"])"
   ]
  },
  {
   "cell_type": "code",
   "execution_count": null,
   "id": "140d086b-5917-4b3d-82cd-ee7051b34346",
   "metadata": {},
   "outputs": [],
   "source": [
    "sns.lineplot(df[\"DAYS_BIRTH_NEW\"])"
   ]
  },
  {
   "cell_type": "code",
   "execution_count": null,
   "id": "b37dc521-f46f-44cf-b5b1-537c4fd54d00",
   "metadata": {},
   "outputs": [],
   "source": [
    "#Age distribution plot\n",
    "        data_age = load_age_population(data)\n",
    "        fig, ax = plt.subplots(figsize=(10, 5))\n",
    "        sns.histplot(data_age, edgecolor = 'k', color=\"goldenrod\", bins=20)\n",
    "        ax.axvline(int(infos_client[\"DAYS_BIRTH\"].values / 365), color=\"green\", linestyle='--')\n",
    "        ax.set(title='Customer age', xlabel='Age(Year)', ylabel='')\n",
    "        st.pyplot(fig)"
   ]
  },
  {
   "cell_type": "code",
   "execution_count": null,
   "id": "4e49bfb4-6fed-414b-8f25-0ec18ccd7c26",
   "metadata": {},
   "outputs": [],
   "source": [
    "    @st.cache\n",
    "    def load_age_population(data):\n",
    "        data_age = round((data[\"DAYS_BIRTH\"]/365), 2)\n",
    "        return data_age"
   ]
  },
  {
   "cell_type": "code",
   "execution_count": null,
   "id": "74843260-7693-41a7-b0a5-a3233e0ea393",
   "metadata": {},
   "outputs": [],
   "source": [
    "sns.histplot(round(df[\"DAYS_BIRTH\"]/365, 2), edgecolor=\"k\", color=\"goldenrod\", bins=20)"
   ]
  },
  {
   "cell_type": "code",
   "execution_count": null,
   "id": "e21e859c-4ba2-44ec-8bd8-2934b8655d8a",
   "metadata": {},
   "outputs": [],
   "source": [
    "df[\"DAYS_BIRTH\"].max()"
   ]
  },
  {
   "cell_type": "code",
   "execution_count": null,
   "id": "338eec8d-202d-4f7b-be32-f3555e973f24",
   "metadata": {},
   "outputs": [],
   "source": [
    "print(-7338/365)"
   ]
  },
  {
   "cell_type": "code",
   "execution_count": null,
   "id": "3f5ce742-a9bb-4ff5-9f08-262e9d9624e1",
   "metadata": {},
   "outputs": [],
   "source": []
  },
  {
   "cell_type": "code",
   "execution_count": null,
   "id": "e9c62cc1-a417-420c-83b4-f7d94d811132",
   "metadata": {},
   "outputs": [],
   "source": [
    "years = calculate_years(-7338)\n",
    "print(years)"
   ]
  },
  {
   "cell_type": "code",
   "execution_count": null,
   "id": "a51b07ca-829b-4630-b3cc-de23df1189c0",
   "metadata": {},
   "outputs": [],
   "source": [
    "df.head()"
   ]
  },
  {
   "cell_type": "code",
   "execution_count": null,
   "id": "da275a73-1b4f-48c3-8ea8-c356323bfd97",
   "metadata": {},
   "outputs": [],
   "source": []
  },
  {
   "cell_type": "code",
   "execution_count": null,
   "id": "97db6348-8757-4cbd-87cb-6173862573fc",
   "metadata": {},
   "outputs": [],
   "source": []
  },
  {
   "cell_type": "code",
   "execution_count": null,
   "id": "b71fb373-4a0c-49e2-ad38-8e7f94a8135c",
   "metadata": {},
   "outputs": [],
   "source": []
  },
  {
   "cell_type": "code",
   "execution_count": null,
   "id": "c572b98b-96fa-4595-870c-c5d106fad362",
   "metadata": {},
   "outputs": [],
   "source": []
  },
  {
   "cell_type": "code",
   "execution_count": null,
   "id": "b4ddd173-6a26-4a1b-85e9-e46b02b8bb95",
   "metadata": {},
   "outputs": [],
   "source": []
  },
  {
   "cell_type": "code",
   "execution_count": null,
   "id": "d759df82-87ff-4659-b4c4-5d5b72e3feb5",
   "metadata": {},
   "outputs": [],
   "source": []
  },
  {
   "cell_type": "code",
   "execution_count": null,
   "id": "9a389a5e-82b5-4b2c-94ff-7f3cc34392b2",
   "metadata": {},
   "outputs": [],
   "source": [
    "df[\"AMT_INCOME_TOTAL\"].head()"
   ]
  },
  {
   "cell_type": "code",
   "execution_count": null,
   "id": "2342d632-277f-4681-9e77-e908b7a1195c",
   "metadata": {},
   "outputs": [],
   "source": [
    "df[\"AMT_INCOME_TOTAL\"].max()"
   ]
  },
  {
   "cell_type": "code",
   "execution_count": null,
   "id": "81473ea9-a55b-4ac1-931d-0d5d3eaf569d",
   "metadata": {},
   "outputs": [],
   "source": [
    "df[\"AMT_INCOME_TOTAL\"].min()"
   ]
  },
  {
   "cell_type": "code",
   "execution_count": null,
   "id": "dc74edee-4695-48a7-b48a-afac741d7d17",
   "metadata": {},
   "outputs": [],
   "source": []
  },
  {
   "cell_type": "code",
   "execution_count": null,
   "id": "3b35d025-ce7e-40d9-8f44-830a42be89fa",
   "metadata": {},
   "outputs": [],
   "source": [
    "np.linspace(2.0, 3.0, num=5, retstep=True)"
   ]
  },
  {
   "cell_type": "code",
   "execution_count": null,
   "id": "2a535654-deae-4180-8020-14bb76305499",
   "metadata": {},
   "outputs": [],
   "source": [
    "bins = np.linspace(min(df[\"AMT_INCOME_TOTAL\"]), max(df[\"AMT_INCOME_TOTAL\"]), 50)"
   ]
  },
  {
   "cell_type": "code",
   "execution_count": null,
   "id": "12378916-e3a1-45bb-8005-370a358ff5bd",
   "metadata": {},
   "outputs": [],
   "source": [
    "bins"
   ]
  },
  {
   "cell_type": "code",
   "execution_count": null,
   "id": "0cb87159-8638-404b-b681-245d68045107",
   "metadata": {},
   "outputs": [],
   "source": [
    "bins = np.linspace(start = 0, stop = 100, num = 11)"
   ]
  },
  {
   "cell_type": "code",
   "execution_count": null,
   "id": "82594238-1f75-4dd6-9da4-ec7274e981cd",
   "metadata": {},
   "outputs": [],
   "source": [
    "bins"
   ]
  },
  {
   "cell_type": "code",
   "execution_count": null,
   "id": "8bf0ec99-702a-4010-9da7-aa8016813f45",
   "metadata": {},
   "outputs": [],
   "source": []
  },
  {
   "cell_type": "code",
   "execution_count": null,
   "id": "dc0cf70b-7872-4f8e-8846-8b463f9889f3",
   "metadata": {},
   "outputs": [],
   "source": []
  },
  {
   "cell_type": "code",
   "execution_count": null,
   "id": "6c7a1c02-9566-4fb2-a1f7-887052863914",
   "metadata": {},
   "outputs": [],
   "source": []
  },
  {
   "cell_type": "code",
   "execution_count": null,
   "id": "473c5f77-70b6-4eb9-93b6-c63fe217d1c4",
   "metadata": {},
   "outputs": [],
   "source": [
    "for key, value in detectors.items():\n",
    "    \n",
    "    axvline_value = globals()[\"df_\" + key + \"_img_features_pca\"].shape[1]\n",
    "    \n",
    "    globals()[\"scree_\" + key] = globals()[\"pca_\" + key].explained_variance_ratio_*100\n",
    "    \n",
    "    fig = plt.subplots(figsize=(8, 5))\n",
    "    plt.plot(np.arange(len(globals()[\"scree_\" + key]))+1,\n",
    "             globals()[\"scree_\" + key].cumsum())\n",
    "    \n",
    "    plt.xlabel(\"Number of principal components\", size=12)\n",
    "    plt.ylabel(\"% of inertia\", size=12)\n",
    "    \n",
    "    plt.axhline(80, lw=1, c=\"red\")\n",
    "    plt.text(1, 81, \"80%\", c=\"red\")\n",
    "    \n",
    "    plt.axvline(axvline_value, lw=1, c=\"red\")\n",
    "    plt.text(axvline_value - 6, 8, axvline_value, c=\"red\")\n",
    "    \n",
    "    plt.title(\"Scree of eigenvalues - \" + key.upper(), size=18, fontweight=\"bold\")\n",
    "    plt.tight_layout()\n",
    "    plt.show()\n",
    "    \n",
    "    print(\"\\n\")"
   ]
  },
  {
   "cell_type": "code",
   "execution_count": null,
   "id": "5c2b5374-edc2-46aa-b635-303c9247b91f",
   "metadata": {},
   "outputs": [],
   "source": []
  }
 ],
 "metadata": {
  "kernelspec": {
   "display_name": "Python 3 (ipykernel)",
   "language": "python",
   "name": "python3"
  },
  "language_info": {
   "codemirror_mode": {
    "name": "ipython",
    "version": 3
   },
   "file_extension": ".py",
   "mimetype": "text/x-python",
   "name": "python",
   "nbconvert_exporter": "python",
   "pygments_lexer": "ipython3",
   "version": "3.9.9"
  }
 },
 "nbformat": 4,
 "nbformat_minor": 5
}
