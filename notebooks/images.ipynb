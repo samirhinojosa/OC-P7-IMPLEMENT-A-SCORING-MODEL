{
 "cells": [
  {
   "cell_type": "code",
   "execution_count": 1,
   "id": "08b081e4-0cfd-4f48-ae9c-dbcef1e2714d",
   "metadata": {},
   "outputs": [],
   "source": [
    "import re\n",
    "import json\n",
    "import time as time\n",
    "import numpy as np\n",
    "import pandas as pd\n",
    "from functools import partial\n",
    "from datetime import date, timedelta\n",
    "\n",
    "import matplotlib.pyplot as plt\n",
    "import matplotlib.image as mpimg\n",
    "import seaborn as sns\n",
    "import plotly.figure_factory as ff\n",
    "import plotly.express as px\n",
    "import plotly.offline as pyo\n",
    "\n",
    "## Own specific functions \n",
    "from functions import *"
   ]
  },
  {
   "cell_type": "code",
   "execution_count": 2,
   "id": "242acf02-56cc-4a25-baf7-6cf345279f66",
   "metadata": {},
   "outputs": [],
   "source": [
    "def calculate_years(days):\n",
    "    \"\"\"\n",
    "    Method used to calculate years based on date (today - quantity of days).\n",
    "\n",
    "    Parameters:\n",
    "    -----------------\n",
    "        days (int): Numbers of day to rest of today\n",
    "\n",
    "    Returns:\n",
    "    -----------------\n",
    "        years (int): Numbers of years\n",
    "    \"\"\"\n",
    "\n",
    "    today = date.today()\n",
    "    initial_date = today - timedelta(abs(days))\n",
    "    years = today.year - initial_date.year - ((today.month, today.day) < (initial_date.month, initial_date.day))\n",
    "\n",
    "    return years"
   ]
  },
  {
   "cell_type": "code",
   "execution_count": 3,
   "id": "0544e728-0cef-4d9f-a273-17a229e33612",
   "metadata": {},
   "outputs": [],
   "source": [
    "# Columns to read on CSVs\n",
    "COLUMNS = [\n",
    "    \"SK_ID_CURR\", \"CODE_GENDER\", \"DAYS_BIRTH\", \"DAYS_EMPLOYED\",\n",
    "    \"CNT_CHILDREN\", \"FLAG_OWN_REALTY\", \"FLAG_OWN_CAR\",\n",
    "    \"AMT_INCOME_TOTAL\", \"AMT_CREDIT\", \"TARGET\"\n",
    "]"
   ]
  },
  {
   "cell_type": "code",
   "execution_count": 4,
   "id": "13e59201-ca58-410b-97b6-d7fa36a313ad",
   "metadata": {},
   "outputs": [],
   "source": [
    "# Reading the csv\n",
    "df_clients_to_predict = pd.read_csv(\"datasets/df_customers_to_predict.csv\")"
   ]
  },
  {
   "cell_type": "code",
   "execution_count": 5,
   "id": "cf44355a-e074-4947-8bba-b2a9c2f2f2b3",
   "metadata": {},
   "outputs": [],
   "source": [
    "# Reading the csv\n",
    "df_optimized = pd.read_csv(\"datasets/df_optimized.csv\", usecols=COLUMNS, low_memory=True)"
   ]
  },
  {
   "cell_type": "code",
   "execution_count": 6,
   "id": "25af7db8-21af-4b16-952f-ef4a66efb14a",
   "metadata": {},
   "outputs": [],
   "source": [
    "df_optimized[\"AGE\"] = df_optimized[\"DAYS_BIRTH\"].apply(lambda x: calculate_years(x))"
   ]
  },
  {
   "cell_type": "code",
   "execution_count": 7,
   "id": "7f49dd7f-d069-4a98-8363-c546ac3b3920",
   "metadata": {},
   "outputs": [
    {
     "data": {
      "text/html": [
       "<div>\n",
       "<style scoped>\n",
       "    .dataframe tbody tr th:only-of-type {\n",
       "        vertical-align: middle;\n",
       "    }\n",
       "\n",
       "    .dataframe tbody tr th {\n",
       "        vertical-align: top;\n",
       "    }\n",
       "\n",
       "    .dataframe thead th {\n",
       "        text-align: right;\n",
       "    }\n",
       "</style>\n",
       "<table border=\"1\" class=\"dataframe\">\n",
       "  <thead>\n",
       "    <tr style=\"text-align: right;\">\n",
       "      <th></th>\n",
       "      <th>SK_ID_CURR</th>\n",
       "      <th>TARGET</th>\n",
       "      <th>CODE_GENDER</th>\n",
       "      <th>FLAG_OWN_CAR</th>\n",
       "      <th>FLAG_OWN_REALTY</th>\n",
       "      <th>CNT_CHILDREN</th>\n",
       "      <th>AMT_INCOME_TOTAL</th>\n",
       "      <th>AMT_CREDIT</th>\n",
       "      <th>DAYS_BIRTH</th>\n",
       "      <th>DAYS_EMPLOYED</th>\n",
       "      <th>AGE</th>\n",
       "    </tr>\n",
       "  </thead>\n",
       "  <tbody>\n",
       "    <tr>\n",
       "      <th>0</th>\n",
       "      <td>100002</td>\n",
       "      <td>1.0</td>\n",
       "      <td>0</td>\n",
       "      <td>0</td>\n",
       "      <td>0</td>\n",
       "      <td>0</td>\n",
       "      <td>202500.0</td>\n",
       "      <td>406597.5</td>\n",
       "      <td>-9461</td>\n",
       "      <td>-637.0</td>\n",
       "      <td>25</td>\n",
       "    </tr>\n",
       "    <tr>\n",
       "      <th>1</th>\n",
       "      <td>100003</td>\n",
       "      <td>0.0</td>\n",
       "      <td>1</td>\n",
       "      <td>0</td>\n",
       "      <td>1</td>\n",
       "      <td>0</td>\n",
       "      <td>270000.0</td>\n",
       "      <td>1293502.5</td>\n",
       "      <td>-16765</td>\n",
       "      <td>-1188.0</td>\n",
       "      <td>45</td>\n",
       "    </tr>\n",
       "    <tr>\n",
       "      <th>2</th>\n",
       "      <td>100004</td>\n",
       "      <td>0.0</td>\n",
       "      <td>0</td>\n",
       "      <td>1</td>\n",
       "      <td>0</td>\n",
       "      <td>0</td>\n",
       "      <td>67500.0</td>\n",
       "      <td>135000.0</td>\n",
       "      <td>-19046</td>\n",
       "      <td>-225.0</td>\n",
       "      <td>52</td>\n",
       "    </tr>\n",
       "    <tr>\n",
       "      <th>3</th>\n",
       "      <td>100006</td>\n",
       "      <td>0.0</td>\n",
       "      <td>1</td>\n",
       "      <td>0</td>\n",
       "      <td>0</td>\n",
       "      <td>0</td>\n",
       "      <td>135000.0</td>\n",
       "      <td>312682.5</td>\n",
       "      <td>-19005</td>\n",
       "      <td>-3039.0</td>\n",
       "      <td>52</td>\n",
       "    </tr>\n",
       "    <tr>\n",
       "      <th>4</th>\n",
       "      <td>100007</td>\n",
       "      <td>0.0</td>\n",
       "      <td>0</td>\n",
       "      <td>0</td>\n",
       "      <td>0</td>\n",
       "      <td>0</td>\n",
       "      <td>121500.0</td>\n",
       "      <td>513000.0</td>\n",
       "      <td>-19932</td>\n",
       "      <td>-3038.0</td>\n",
       "      <td>54</td>\n",
       "    </tr>\n",
       "  </tbody>\n",
       "</table>\n",
       "</div>"
      ],
      "text/plain": [
       "   SK_ID_CURR  TARGET  CODE_GENDER  FLAG_OWN_CAR  FLAG_OWN_REALTY  \\\n",
       "0      100002     1.0            0             0                0   \n",
       "1      100003     0.0            1             0                1   \n",
       "2      100004     0.0            0             1                0   \n",
       "3      100006     0.0            1             0                0   \n",
       "4      100007     0.0            0             0                0   \n",
       "\n",
       "   CNT_CHILDREN  AMT_INCOME_TOTAL  AMT_CREDIT  DAYS_BIRTH  DAYS_EMPLOYED  AGE  \n",
       "0             0          202500.0    406597.5       -9461         -637.0   25  \n",
       "1             0          270000.0   1293502.5      -16765        -1188.0   45  \n",
       "2             0           67500.0    135000.0      -19046         -225.0   52  \n",
       "3             0          135000.0    312682.5      -19005        -3039.0   52  \n",
       "4             0          121500.0    513000.0      -19932        -3038.0   54  "
      ]
     },
     "execution_count": 7,
     "metadata": {},
     "output_type": "execute_result"
    }
   ],
   "source": [
    "df_optimized.head()"
   ]
  },
  {
   "cell_type": "code",
   "execution_count": 8,
   "id": "eb406a57-3beb-4278-a175-a1c009af5345",
   "metadata": {},
   "outputs": [
    {
     "data": {
      "text/html": [
       "<div>\n",
       "<style scoped>\n",
       "    .dataframe tbody tr th:only-of-type {\n",
       "        vertical-align: middle;\n",
       "    }\n",
       "\n",
       "    .dataframe tbody tr th {\n",
       "        vertical-align: top;\n",
       "    }\n",
       "\n",
       "    .dataframe thead th {\n",
       "        text-align: right;\n",
       "    }\n",
       "</style>\n",
       "<table border=\"1\" class=\"dataframe\">\n",
       "  <thead>\n",
       "    <tr style=\"text-align: right;\">\n",
       "      <th></th>\n",
       "      <th>SK_ID_CURR</th>\n",
       "      <th>CODE_GENDER</th>\n",
       "      <th>FLAG_OWN_CAR</th>\n",
       "      <th>FLAG_OWN_REALTY</th>\n",
       "      <th>CNT_CHILDREN</th>\n",
       "      <th>AMT_INCOME_TOTAL</th>\n",
       "      <th>AMT_CREDIT</th>\n",
       "      <th>AMT_ANNUITY</th>\n",
       "      <th>AMT_GOODS_PRICE</th>\n",
       "      <th>REGION_POPULATION_RELATIVE</th>\n",
       "      <th>...</th>\n",
       "      <th>CC_NAME_CONTRACT_STATUS_Signed_MEAN</th>\n",
       "      <th>CC_NAME_CONTRACT_STATUS_Signed_SUM</th>\n",
       "      <th>CC_NAME_CONTRACT_STATUS_Signed_VAR</th>\n",
       "      <th>CC_NAME_CONTRACT_STATUS_nan_MIN</th>\n",
       "      <th>CC_NAME_CONTRACT_STATUS_nan_MAX</th>\n",
       "      <th>CC_NAME_CONTRACT_STATUS_nan_MEAN</th>\n",
       "      <th>CC_NAME_CONTRACT_STATUS_nan_SUM</th>\n",
       "      <th>CC_NAME_CONTRACT_STATUS_nan_VAR</th>\n",
       "      <th>CC_COUNT</th>\n",
       "      <th>AGE</th>\n",
       "    </tr>\n",
       "  </thead>\n",
       "  <tbody>\n",
       "    <tr>\n",
       "      <th>2</th>\n",
       "      <td>100013</td>\n",
       "      <td>0</td>\n",
       "      <td>1</td>\n",
       "      <td>0</td>\n",
       "      <td>0</td>\n",
       "      <td>202500.0</td>\n",
       "      <td>663264.0</td>\n",
       "      <td>69777.0</td>\n",
       "      <td>630000.0</td>\n",
       "      <td>0.019101</td>\n",
       "      <td>...</td>\n",
       "      <td>0.0</td>\n",
       "      <td>0.0</td>\n",
       "      <td>0.0</td>\n",
       "      <td>0.0</td>\n",
       "      <td>0.0</td>\n",
       "      <td>0.0</td>\n",
       "      <td>0.0</td>\n",
       "      <td>0.0</td>\n",
       "      <td>96.0</td>\n",
       "      <td>54</td>\n",
       "    </tr>\n",
       "  </tbody>\n",
       "</table>\n",
       "<p>1 rows × 797 columns</p>\n",
       "</div>"
      ],
      "text/plain": [
       "   SK_ID_CURR  CODE_GENDER  FLAG_OWN_CAR  FLAG_OWN_REALTY  CNT_CHILDREN  \\\n",
       "2      100013            0             1                0             0   \n",
       "\n",
       "   AMT_INCOME_TOTAL  AMT_CREDIT  AMT_ANNUITY  AMT_GOODS_PRICE  \\\n",
       "2          202500.0    663264.0      69777.0         630000.0   \n",
       "\n",
       "   REGION_POPULATION_RELATIVE  ...  CC_NAME_CONTRACT_STATUS_Signed_MEAN  \\\n",
       "2                    0.019101  ...                                  0.0   \n",
       "\n",
       "   CC_NAME_CONTRACT_STATUS_Signed_SUM  CC_NAME_CONTRACT_STATUS_Signed_VAR  \\\n",
       "2                                 0.0                                 0.0   \n",
       "\n",
       "   CC_NAME_CONTRACT_STATUS_nan_MIN  CC_NAME_CONTRACT_STATUS_nan_MAX  \\\n",
       "2                              0.0                              0.0   \n",
       "\n",
       "   CC_NAME_CONTRACT_STATUS_nan_MEAN  CC_NAME_CONTRACT_STATUS_nan_SUM  \\\n",
       "2                               0.0                              0.0   \n",
       "\n",
       "   CC_NAME_CONTRACT_STATUS_nan_VAR  CC_COUNT  AGE  \n",
       "2                              0.0      96.0   54  \n",
       "\n",
       "[1 rows x 797 columns]"
      ]
     },
     "execution_count": 8,
     "metadata": {},
     "output_type": "execute_result"
    }
   ],
   "source": [
    "df_customer_selected = df_clients_to_predict[df_clients_to_predict[\"SK_ID_CURR\"]==100013]\n",
    "df_customer_selected[\"AGE\"] = df_customer_selected[\"DAYS_BIRTH\"].apply(lambda x: calculate_years(x))\n",
    "df_customer_selected"
   ]
  },
  {
   "cell_type": "code",
   "execution_count": 24,
   "id": "87618ebb-eb00-42d2-9f52-f8043de275ba",
   "metadata": {},
   "outputs": [
    {
     "data": {
      "text/plain": [
       "54"
      ]
     },
     "execution_count": 24,
     "metadata": {},
     "output_type": "execute_result"
    }
   ],
   "source": [
    "df_customer_selected[\"AGE\"].values[0]"
   ]
  },
  {
   "cell_type": "code",
   "execution_count": 13,
   "id": "f234afe1-42c9-40f5-b223-d7303461b238",
   "metadata": {},
   "outputs": [],
   "source": [
    "df_optimized_by_target_repaid = df_optimized[df_optimized[\"TARGET\"] == 0]\n",
    "df_optimized_by_target_not_repaid = df_optimized[df_optimized[\"TARGET\"] == 1]"
   ]
  },
  {
   "cell_type": "code",
   "execution_count": 15,
   "id": "843e6ffc-17a4-4989-91f8-5dbcdb347b6a",
   "metadata": {},
   "outputs": [],
   "source": [
    "ages_data_repaid = df_optimized_by_target_repaid.groupby(\"AGE\").size()\n",
    "ages_data_repaid = pd.DataFrame(ages_data_repaid).reset_index()\n",
    "ages_data_repaid.columns = [\"AGE\", \"AMOUNT\"]\n",
    "ages_data_repaid = ages_data_repaid.set_index(\"AGE\").to_dict()[\"AMOUNT\"]\n",
    "\n",
    "\n",
    "ages_data_not_repaid = df_optimized_by_target_not_repaid.groupby(\"AGE\").size()\n",
    "ages_data_not_repaid = pd.DataFrame(ages_data_not_repaid).reset_index()\n",
    "ages_data_not_repaid.columns = [\"AGE\", \"AMOUNT\"]\n",
    "ages_data_not_repaid = ages_data_not_repaid.set_index(\"AGE\").to_dict()[\"AMOUNT\"]"
   ]
  },
  {
   "cell_type": "code",
   "execution_count": 16,
   "id": "d868d600-2e39-4855-9d02-aeddecb8414b",
   "metadata": {},
   "outputs": [],
   "source": [
    "ages_data_repaid_list = [key for key, val in ages_data_repaid.items() for _ in range(val)]\n",
    "ages_data_not_repaid_list = [key for key, val in ages_data_not_repaid.items() for _ in range(val)]"
   ]
  },
  {
   "cell_type": "code",
   "execution_count": 29,
   "id": "5d217dec-df89-4f4b-8eb2-58e4502a5f40",
   "metadata": {},
   "outputs": [
    {
     "data": {
      "text/plain": [
       "'example2.html'"
      ]
     },
     "execution_count": 29,
     "metadata": {},
     "output_type": "execute_result"
    }
   ],
   "source": [
    "config = {\n",
    "    \"displayModeBar\": False,\n",
    "    \"displaylogo\": False\n",
    "}\n",
    "\n",
    "group_labels = [\"Repaid\", \"Not repaid\"]\n",
    "\n",
    "fig_ages = ff.create_distplot([ages_data_repaid_list, ages_data_not_repaid_list], \n",
    "                              group_labels, show_hist=False, show_rug=False, \n",
    "                             colors=[\"Green\", \"Red\"])\n",
    "fig_ages.update_layout(\n",
    "    paper_bgcolor=\"white\",\n",
    "    font={\n",
    "        \"family\": \"sans serif\"\n",
    "    },\n",
    "    autosize=False,\n",
    "    width=500,\n",
    "    height=360,\n",
    "    margin=dict(\n",
    "        l=50, r=50, b=0, t=20, pad=0\n",
    "    ),\n",
    "    title={\n",
    "        \"text\" : \"Client age vs Current clients\",\n",
    "        \"y\" : 1,\n",
    "        \"x\" : 0.45,\n",
    "        \"xanchor\" : \"center\",\n",
    "        \"yanchor\" : \"top\"\n",
    "    },\n",
    "    xaxis_title=\"Ages\",\n",
    "    yaxis_title=\"Density\",\n",
    "    legend={\n",
    "        \"traceorder\" : \"normal\"\n",
    "    }\n",
    ")\n",
    "fig_ages.add_vline(x=df_customer_selected[\"AGE\"].values[0], line_width=3,\n",
    "                   line_dash=\"dash\", line_color=\"green\", annotation_text=\"client's age\")\n",
    "pyo.plot(fig_ages, config=config, filename=\"example2.html\")"
   ]
  },
  {
   "cell_type": "code",
   "execution_count": null,
   "id": "0ee75a5d-c254-4352-a98a-31e096fdfa32",
   "metadata": {},
   "outputs": [],
   "source": []
  },
  {
   "cell_type": "code",
   "execution_count": null,
   "id": "409bc05e-2452-4e1f-9c8b-17726e67f353",
   "metadata": {},
   "outputs": [],
   "source": []
  },
  {
   "cell_type": "code",
   "execution_count": null,
   "id": "754f747f-7453-4b6b-81a6-82accd0093de",
   "metadata": {},
   "outputs": [],
   "source": []
  }
 ],
 "metadata": {
  "kernelspec": {
   "display_name": "Python 3 (ipykernel)",
   "language": "python",
   "name": "python3"
  },
  "language_info": {
   "codemirror_mode": {
    "name": "ipython",
    "version": 3
   },
   "file_extension": ".py",
   "mimetype": "text/x-python",
   "name": "python",
   "nbconvert_exporter": "python",
   "pygments_lexer": "ipython3",
   "version": "3.9.9"
  }
 },
 "nbformat": 4,
 "nbformat_minor": 5
}
