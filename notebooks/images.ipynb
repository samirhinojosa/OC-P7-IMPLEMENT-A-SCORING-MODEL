{
 "cells": [
  {
   "cell_type": "code",
   "execution_count": 1,
   "id": "08b081e4-0cfd-4f48-ae9c-dbcef1e2714d",
   "metadata": {},
   "outputs": [],
   "source": [
    "import re\n",
    "import json\n",
    "import time as time\n",
    "import numpy as np\n",
    "import pandas as pd\n",
    "from functools import partial\n",
    "from datetime import date, timedelta\n",
    "\n",
    "import matplotlib.pyplot as plt\n",
    "import matplotlib.image as mpimg\n",
    "import seaborn as sns\n",
    "import plotly.figure_factory as ff\n",
    "import plotly.express as px\n",
    "import plotly.offline as pyo\n",
    "\n",
    "## Own specific functions \n",
    "from functions import *"
   ]
  },
  {
   "cell_type": "code",
   "execution_count": 2,
   "id": "242acf02-56cc-4a25-baf7-6cf345279f66",
   "metadata": {},
   "outputs": [],
   "source": [
    "def calculate_years(days):\n",
    "    \"\"\"\n",
    "    Method used to calculate years based on date (today - quantity of days).\n",
    "\n",
    "    Parameters:\n",
    "    -----------------\n",
    "        days (int): Numbers of day to rest of today\n",
    "\n",
    "    Returns:\n",
    "    -----------------\n",
    "        years (int): Numbers of years\n",
    "    \"\"\"\n",
    "\n",
    "    today = date.today()\n",
    "    initial_date = today - timedelta(abs(days))\n",
    "    years = today.year - initial_date.year - ((today.month, today.day) < (initial_date.month, initial_date.day))\n",
    "\n",
    "    return years"
   ]
  },
  {
   "cell_type": "code",
   "execution_count": 3,
   "id": "0544e728-0cef-4d9f-a273-17a229e33612",
   "metadata": {},
   "outputs": [],
   "source": [
    "# Columns to read on CSVs\n",
    "COLUMNS = [\n",
    "    \"SK_ID_CURR\", \"CODE_GENDER\", \"DAYS_BIRTH\", \"DAYS_EMPLOYED\",\n",
    "    \"CNT_CHILDREN\", \"FLAG_OWN_REALTY\", \"FLAG_OWN_CAR\",\n",
    "    \"AMT_INCOME_TOTAL\", \"AMT_CREDIT\", \"TARGET\"\n",
    "]"
   ]
  },
  {
   "cell_type": "code",
   "execution_count": 4,
   "id": "13e59201-ca58-410b-97b6-d7fa36a313ad",
   "metadata": {},
   "outputs": [],
   "source": [
    "# Reading the csv\n",
    "df_clients_to_predict = pd.read_csv(\"datasets/df_customers_to_predict.csv\")"
   ]
  },
  {
   "cell_type": "code",
   "execution_count": 5,
   "id": "5e6beb13-9032-4842-9d7a-b31b6e5dda38",
   "metadata": {},
   "outputs": [
    {
     "name": "stdout",
     "output_type": "stream",
     "text": [
      "\n",
      "Analysis Header of df_clients_to_predict dataset\n",
      "--------------------------------------------------------------------------------\n",
      "- Dataset shape:\t\t\t 48744 rows and 796 columns\n",
      "- Total of NaN values:\t\t\t 0\n",
      "- Percentage of NaN:\t\t\t 0.0 %\n",
      "- Total of infinite values:\t\t 0\n",
      "- Percentage of infinite values:\t 0.0 %\n",
      "- Total of full duplicates rows:\t 0\n",
      "- Total of empty rows:\t\t\t 0\n",
      "- Total of empty columns:\t\t 0\n",
      "- Unique indexes:\t\t\t True\n",
      "- Memory usage:\t\t\t\t 296.0 MB\n"
     ]
    }
   ],
   "source": [
    "df_analysis(df_clients_to_predict, \"df_clients_to_predict\", analysis_type=\"header\")"
   ]
  },
  {
   "cell_type": "code",
   "execution_count": 6,
   "id": "cf44355a-e074-4947-8bba-b2a9c2f2f2b3",
   "metadata": {},
   "outputs": [],
   "source": [
    "# Reading the csv\n",
    "df_optimized = pd.read_csv(\"datasets/df_optimized.csv\", usecols=COLUMNS, low_memory=True)"
   ]
  },
  {
   "cell_type": "code",
   "execution_count": 7,
   "id": "aceb3dd4-c2f9-437e-8054-dc134ee7124b",
   "metadata": {},
   "outputs": [
    {
     "name": "stdout",
     "output_type": "stream",
     "text": [
      "\n",
      "Analysis Header of df_optimized dataset\n",
      "--------------------------------------------------------------------------------\n",
      "- Dataset shape:\t\t\t 356251 rows and 10 columns\n",
      "- Total of NaN values:\t\t\t 48744\n",
      "- Percentage of NaN:\t\t\t 1.37 %\n",
      "- Total of infinite values:\t\t 0\n",
      "- Percentage of infinite values:\t 0.0 %\n",
      "- Total of full duplicates rows:\t 0\n",
      "- Total of empty rows:\t\t\t 0\n",
      "- Total of empty columns:\t\t 0\n",
      "- Unique indexes:\t\t\t True\n",
      "- Memory usage:\t\t\t\t 27.2 MB\n"
     ]
    }
   ],
   "source": [
    "df_analysis(df_optimized, \"df_optimized\", analysis_type=\"header\")"
   ]
  },
  {
   "cell_type": "code",
   "execution_count": 8,
   "id": "9a591ecb-f146-4020-814f-8c20209775ac",
   "metadata": {},
   "outputs": [
    {
     "ename": "NameError",
     "evalue": "name 'xx' is not defined",
     "output_type": "error",
     "traceback": [
      "\u001b[1;31m---------------------------------------------------------------------------\u001b[0m",
      "\u001b[1;31mNameError\u001b[0m                                 Traceback (most recent call last)",
      "\u001b[1;32m~\\AppData\\Local\\Temp/ipykernel_3752/4089038958.py\u001b[0m in \u001b[0;36m<module>\u001b[1;34m\u001b[0m\n\u001b[1;32m----> 1\u001b[1;33m \u001b[0mxx\u001b[0m\u001b[1;33m\u001b[0m\u001b[1;33m\u001b[0m\u001b[0m\n\u001b[0m",
      "\u001b[1;31mNameError\u001b[0m: name 'xx' is not defined"
     ]
    }
   ],
   "source": [
    "xx"
   ]
  },
  {
   "cell_type": "code",
   "execution_count": null,
   "id": "c0177be0-e573-4c38-96cd-98ffe97396da",
   "metadata": {},
   "outputs": [],
   "source": [
    "df_optimized.to_csv(\"datasets\\df_optimized_and_reduced.csv\", index=False)"
   ]
  },
  {
   "cell_type": "code",
   "execution_count": null,
   "id": "25af7db8-21af-4b16-952f-ef4a66efb14a",
   "metadata": {},
   "outputs": [],
   "source": [
    "df_optimized[\"AGE\"] = df_optimized[\"DAYS_BIRTH\"].apply(lambda x: calculate_years(x))"
   ]
  },
  {
   "cell_type": "code",
   "execution_count": null,
   "id": "7f49dd7f-d069-4a98-8363-c546ac3b3920",
   "metadata": {},
   "outputs": [],
   "source": [
    "df_optimized.head()"
   ]
  },
  {
   "cell_type": "code",
   "execution_count": null,
   "id": "eb406a57-3beb-4278-a175-a1c009af5345",
   "metadata": {},
   "outputs": [],
   "source": [
    "df_customer_selected = df_clients_to_predict[df_clients_to_predict[\"SK_ID_CURR\"]==100013]\n",
    "df_customer_selected[\"AGE\"] = df_customer_selected[\"DAYS_BIRTH\"].apply(lambda x: calculate_years(x))\n",
    "df_customer_selected"
   ]
  },
  {
   "cell_type": "code",
   "execution_count": null,
   "id": "87618ebb-eb00-42d2-9f52-f8043de275ba",
   "metadata": {},
   "outputs": [],
   "source": [
    "df_customer_selected[\"AGE\"].values[0]"
   ]
  },
  {
   "cell_type": "code",
   "execution_count": null,
   "id": "f234afe1-42c9-40f5-b223-d7303461b238",
   "metadata": {},
   "outputs": [],
   "source": [
    "df_optimized_by_target_repaid = df_optimized[df_optimized[\"TARGET\"] == 0]\n",
    "df_optimized_by_target_not_repaid = df_optimized[df_optimized[\"TARGET\"] == 1]"
   ]
  },
  {
   "cell_type": "code",
   "execution_count": null,
   "id": "843e6ffc-17a4-4989-91f8-5dbcdb347b6a",
   "metadata": {},
   "outputs": [],
   "source": [
    "ages_data_repaid = df_optimized_by_target_repaid.groupby(\"AGE\").size()\n",
    "ages_data_repaid = pd.DataFrame(ages_data_repaid).reset_index()\n",
    "ages_data_repaid.columns = [\"AGE\", \"AMOUNT\"]\n",
    "ages_data_repaid = ages_data_repaid.set_index(\"AGE\").to_dict()[\"AMOUNT\"]\n",
    "\n",
    "\n",
    "ages_data_not_repaid = df_optimized_by_target_not_repaid.groupby(\"AGE\").size()\n",
    "ages_data_not_repaid = pd.DataFrame(ages_data_not_repaid).reset_index()\n",
    "ages_data_not_repaid.columns = [\"AGE\", \"AMOUNT\"]\n",
    "ages_data_not_repaid = ages_data_not_repaid.set_index(\"AGE\").to_dict()[\"AMOUNT\"]"
   ]
  },
  {
   "cell_type": "code",
   "execution_count": null,
   "id": "d868d600-2e39-4855-9d02-aeddecb8414b",
   "metadata": {},
   "outputs": [],
   "source": [
    "ages_data_repaid_list = [key for key, val in ages_data_repaid.items() for _ in range(val)]\n",
    "ages_data_not_repaid_list = [key for key, val in ages_data_not_repaid.items() for _ in range(val)]"
   ]
  },
  {
   "cell_type": "code",
   "execution_count": null,
   "id": "5d217dec-df89-4f4b-8eb2-58e4502a5f40",
   "metadata": {},
   "outputs": [],
   "source": [
    "config = {\n",
    "    \"displayModeBar\": False,\n",
    "    \"displaylogo\": False\n",
    "}\n",
    "\n",
    "group_labels = [\"Repaid\", \"Not repaid\"]\n",
    "\n",
    "fig_ages = ff.create_distplot([ages_data_repaid_list, ages_data_not_repaid_list], \n",
    "                              group_labels, show_hist=False, show_rug=False, \n",
    "                             colors=[\"Green\", \"Red\"])\n",
    "fig_ages.update_layout(\n",
    "    paper_bgcolor=\"white\",\n",
    "    font={\n",
    "        \"family\": \"sans serif\"\n",
    "    },\n",
    "    autosize=False,\n",
    "    width=500,\n",
    "    height=360,\n",
    "    margin=dict(\n",
    "        l=50, r=50, b=0, t=20, pad=0\n",
    "    ),\n",
    "    title={\n",
    "        \"text\" : \"Client age vs Current clients\",\n",
    "        \"y\" : 1,\n",
    "        \"x\" : 0.45,\n",
    "        \"xanchor\" : \"center\",\n",
    "        \"yanchor\" : \"top\"\n",
    "    },\n",
    "    xaxis_title=\"Ages\",\n",
    "    yaxis_title=\"Density\",\n",
    "    legend={\n",
    "        \"traceorder\" : \"normal\"\n",
    "    }\n",
    ")\n",
    "fig_ages.add_vline(x=df_customer_selected[\"AGE\"].values[0], line_width=3,\n",
    "                   line_dash=\"dash\", line_color=\"green\", annotation_text=\"client's age\")\n",
    "pyo.plot(fig_ages, config=config, filename=\"example2.html\")"
   ]
  },
  {
   "cell_type": "code",
   "execution_count": null,
   "id": "f1c0ee97-61b4-4417-b9e9-e04ee824f79f",
   "metadata": {},
   "outputs": [],
   "source": []
  },
  {
   "cell_type": "code",
   "execution_count": null,
   "id": "7415c1b7-e4c6-4b69-8c6b-f32ab02e8287",
   "metadata": {},
   "outputs": [],
   "source": []
  },
  {
   "cell_type": "code",
   "execution_count": null,
   "id": "8cbf468d-cfed-4452-95d0-355f79f63ac1",
   "metadata": {},
   "outputs": [],
   "source": []
  },
  {
   "cell_type": "code",
   "execution_count": null,
   "id": "80c18829-12ab-445e-a77d-abbd9bf17b3a",
   "metadata": {},
   "outputs": [],
   "source": []
  },
  {
   "cell_type": "code",
   "execution_count": null,
   "id": "761db6ba-ea04-43ec-bc94-32d2cd2913ba",
   "metadata": {},
   "outputs": [],
   "source": [
    "df_optimized[\"YEARS_WORK\"] = df_optimized[\"DAYS_EMPLOYED\"].apply(lambda x: calculate_years(x))"
   ]
  },
  {
   "cell_type": "code",
   "execution_count": null,
   "id": "d12d8aa6-378b-408f-bce6-93e847110dcf",
   "metadata": {},
   "outputs": [],
   "source": [
    "df_optimized.head()"
   ]
  },
  {
   "cell_type": "code",
   "execution_count": null,
   "id": "6021471d-3b46-4031-a754-82d076ac3d33",
   "metadata": {},
   "outputs": [],
   "source": [
    "df_customer_selected = df_clients_to_predict[df_clients_to_predict[\"SK_ID_CURR\"]==100013]\n",
    "df_customer_selected[\"YEARS_WORK\"] = df_customer_selected[\"DAYS_EMPLOYED\"].apply(lambda x: calculate_years(x))\n",
    "df_customer_selected[\"YEARS_WORK\"].values[0]"
   ]
  },
  {
   "cell_type": "code",
   "execution_count": null,
   "id": "ae927ee6-c93f-491c-b63d-2033188f49dd",
   "metadata": {},
   "outputs": [],
   "source": [
    "df_optimized_by_target_repaid = df_optimized[df_optimized[\"TARGET\"] == 0]\n",
    "df_optimized_by_target_not_repaid = df_optimized[df_optimized[\"TARGET\"] == 1]"
   ]
  },
  {
   "cell_type": "code",
   "execution_count": null,
   "id": "b4b243bf-f70c-4b87-b243-37961cabc52f",
   "metadata": {},
   "outputs": [],
   "source": [
    "ages_data_repaid = df_optimized_by_target_repaid.groupby(\"YEARS_WORK\").size()\n",
    "ages_data_repaid = pd.DataFrame(ages_data_repaid).reset_index()\n",
    "ages_data_repaid.columns = [\"YEARS_WORK\", \"AMOUNT\"]\n",
    "ages_data_repaid = ages_data_repaid.set_index(\"YEARS_WORK\").to_dict()[\"AMOUNT\"]\n",
    "\n",
    "\n",
    "ages_data_not_repaid = df_optimized_by_target_not_repaid.groupby(\"YEARS_WORK\").size()\n",
    "ages_data_not_repaid = pd.DataFrame(ages_data_not_repaid).reset_index()\n",
    "ages_data_not_repaid.columns = [\"YEARS_WORK\", \"AMOUNT\"]\n",
    "ages_data_not_repaid = ages_data_not_repaid.set_index(\"YEARS_WORK\").to_dict()[\"AMOUNT\"]"
   ]
  },
  {
   "cell_type": "code",
   "execution_count": null,
   "id": "f738af2c-8144-48ab-8267-e922a9215b80",
   "metadata": {},
   "outputs": [],
   "source": [
    "ages_data_repaid_list = [key for key, val in ages_data_repaid.items() for _ in range(val)]\n",
    "ages_data_not_repaid_list = [key for key, val in ages_data_not_repaid.items() for _ in range(val)]"
   ]
  },
  {
   "cell_type": "code",
   "execution_count": null,
   "id": "10ec6c6f-ab7a-474e-8004-abf6c2ea608e",
   "metadata": {},
   "outputs": [],
   "source": [
    "config = {\n",
    "    \"displayModeBar\": False,\n",
    "    \"displaylogo\": False\n",
    "}\n",
    "\n",
    "group_labels = [\"Repaid\", \"Not repaid\"]\n",
    "\n",
    "fig_ages = ff.create_distplot([ages_data_repaid_list, ages_data_not_repaid_list], \n",
    "                              group_labels, show_hist=False, show_rug=False, \n",
    "                             colors=[\"Green\", \"Red\"])\n",
    "fig_ages.update_layout(\n",
    "    paper_bgcolor=\"white\",\n",
    "    font={\n",
    "        \"family\": \"sans serif\"\n",
    "    },\n",
    "    autosize=False,\n",
    "    width=500,\n",
    "    height=360,\n",
    "    margin=dict(\n",
    "        l=50, r=50, b=0, t=20, pad=0\n",
    "    ),\n",
    "    title={\n",
    "        \"text\" : \"Client years worked vs Current clients\",\n",
    "        \"y\" : 1,\n",
    "        \"x\" : 0.45,\n",
    "        \"xanchor\" : \"center\",\n",
    "        \"yanchor\" : \"top\"\n",
    "    },\n",
    "    xaxis_title=\"Years worked\",\n",
    "    yaxis_title=\"Density\",\n",
    "    legend={\n",
    "        \"traceorder\" : \"normal\"\n",
    "    }\n",
    ")\n",
    "fig_ages.add_vline(x=df_customer_selected[\"YEARS_WORK\"].values[0], line_width=3,\n",
    "                   line_dash=\"dash\", line_color=\"green\", annotation_text=\"years worked by the client\")\n",
    "pyo.plot(fig_ages, config=config, filename=\"example3.html\")"
   ]
  },
  {
   "cell_type": "code",
   "execution_count": null,
   "id": "0ee75a5d-c254-4352-a98a-31e096fdfa32",
   "metadata": {},
   "outputs": [],
   "source": []
  },
  {
   "cell_type": "code",
   "execution_count": null,
   "id": "409bc05e-2452-4e1f-9c8b-17726e67f353",
   "metadata": {},
   "outputs": [],
   "source": []
  },
  {
   "cell_type": "code",
   "execution_count": null,
   "id": "754f747f-7453-4b6b-81a6-82accd0093de",
   "metadata": {},
   "outputs": [],
   "source": []
  }
 ],
 "metadata": {
  "kernelspec": {
   "display_name": "Python 3 (ipykernel)",
   "language": "python",
   "name": "python3"
  },
  "language_info": {
   "codemirror_mode": {
    "name": "ipython",
    "version": 3
   },
   "file_extension": ".py",
   "mimetype": "text/x-python",
   "name": "python",
   "nbconvert_exporter": "python",
   "pygments_lexer": "ipython3",
   "version": "3.9.9"
  }
 },
 "nbformat": 4,
 "nbformat_minor": 5
}
