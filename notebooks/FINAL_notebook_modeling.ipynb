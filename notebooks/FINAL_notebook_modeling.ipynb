{
 "cells": [
  {
   "cell_type": "markdown",
   "id": "20ff81f9-1cf8-4ccd-ab09-6bad5ce021a3",
   "metadata": {
    "tags": []
   },
   "source": [
    "<div style=\"display: flex; background-color: #3F579F;\">\n",
    "    <h1 style=\"margin: auto; font-weight: bold; padding: 30px 30px 0px 30px; color:#fff;\" align=\"center\">Implement a scoring model - P7</h1>\n",
    "</div>\n",
    "<div style=\"display: flex; background-color: #3F579F; margin: auto; padding: 5px 30px 0px 30px;\" >\n",
    "    <h3 style=\"width: 100%; text-align: center; float: left; font-size: 24px; color:#fff;\" align=\"center\">| Modeling Notebook |</h3>\n",
    "</div>\n",
    "<div style=\"display: flex; background-color: #3F579F; margin: auto; padding: 10px 30px 30px 30px;\">\n",
    "    <h4 style=\"width: 100%; text-align: center; float: left; font-size: 24px; color:#fff;\" align=\"center\">Data Scientist course - OpenClassrooms</h4>\n",
    "</div>"
   ]
  },
  {
   "cell_type": "markdown",
   "id": "1e01b79b-65bb-4767-b047-712d0b3e382b",
   "metadata": {
    "tags": []
   },
   "source": [
    "<div style=\"background-color: #506AB9;\" >\n",
    "    <h2 style=\"margin: auto; padding: 20px; color:#fff; \">1. Libraries</h2>\n",
    "</div>"
   ]
  },
  {
   "cell_type": "markdown",
   "id": "5e7118a2-b6ba-41fd-bcae-5a4b9806678d",
   "metadata": {
    "tags": []
   },
   "source": [
    "<div style=\"background-color: #506AB9;\" >\n",
    "    <h3 style=\"margin: auto; padding: 20px; color:#fff; \">1.1 Libraries</h3>\n",
    "</div>"
   ]
  },
  {
   "cell_type": "code",
   "execution_count": 1,
   "id": "0325e206-7982-499f-a66f-a39c15dc3833",
   "metadata": {},
   "outputs": [],
   "source": [
    "## General\n",
    "import re\n",
    "import pandas as pd\n",
    "import numpy as np\n",
    "\n",
    "## Scikit Learn library\n",
    "from sklearn.model_selection import train_test_split\n",
    "\n",
    "## imbalanced-learn\n",
    "from imblearn.pipeline import Pipeline as imbpipeline\n",
    "from imblearn.over_sampling import SMOTE\n",
    "\n",
    "## Own specific functions \n",
    "from functions import *"
   ]
  },
  {
   "cell_type": "markdown",
   "id": "9cfedc1e-8800-4d6c-8f97-bd3c48a84455",
   "metadata": {
    "tags": []
   },
   "source": [
    "<div style=\"background-color: #506AB9;\" >\n",
    "    <h2 style=\"margin: auto; padding: 20px; color:#fff; \">2. Importing files</h2>\n",
    "</div>"
   ]
  },
  {
   "cell_type": "markdown",
   "id": "41683988-f809-433f-ae78-b2c51c8ae203",
   "metadata": {
    "tags": []
   },
   "source": [
    "<div class=\"alert alert-block alert-info\">\n",
    "    <p>Let's load the current clients\n",
    "   </p>\n",
    "</div>"
   ]
  },
  {
   "cell_type": "code",
   "execution_count": 2,
   "id": "215612d9-f898-44a9-8464-f80ce85b91b1",
   "metadata": {},
   "outputs": [],
   "source": [
    "df_current_clients = pd.read_csv(r\"datasets\\finals_datasets\\df_current_clients.csv\", nrows=30000)"
   ]
  },
  {
   "cell_type": "code",
   "execution_count": 3,
   "id": "0c8ead0e-ec4b-42ac-b615-4ecfea69098e",
   "metadata": {},
   "outputs": [
    {
     "name": "stdout",
     "output_type": "stream",
     "text": [
      "\n",
      "Analysis Header of df_current_clients dataset\n",
      "--------------------------------------------------------------------------------\n",
      "- Dataset shape:\t\t\t 30000 rows and 509 columns\n",
      "- Total of NaN values:\t\t\t 0\n",
      "- Percentage of NaN:\t\t\t 0.0 %\n",
      "- Total of infinite values:\t\t 0\n",
      "- Percentage of infinite values:\t 0.0 %\n",
      "- Total of full duplicates rows:\t 0\n",
      "- Total of empty rows:\t\t\t 0\n",
      "- Total of empty columns:\t\t 0\n",
      "- Unique indexes:\t\t\t True\n",
      "- Memory usage:\t\t\t\t 116.5 MB\n"
     ]
    }
   ],
   "source": [
    "df_analysis(df_current_clients, \"df_current_clients\", analysis_type=\"header\")"
   ]
  },
  {
   "cell_type": "markdown",
   "id": "711176d3-9221-440c-92f6-8d6e897db5a6",
   "metadata": {
    "tags": []
   },
   "source": [
    "<div class=\"alert alert-block alert-success\">\n",
    "    <p><b>Observations / Conclusions</b></p>\n",
    "    <p>After making the preprocessing, we achieved 0.0% of missing-values.</p>\n",
    "</div>"
   ]
  },
  {
   "cell_type": "markdown",
   "id": "26779a37-d538-4ab1-a695-ed359e3d2cdd",
   "metadata": {
    "tags": []
   },
   "source": [
    "<div style=\"background-color: #506AB9;\" >\n",
    "    <h2 style=\"margin: auto; padding: 20px; color:#fff; \">3. Optimizing memory usage</h2>\n",
    "</div>"
   ]
  },
  {
   "cell_type": "markdown",
   "id": "3bf4e5e8-8df0-47cb-be6d-cf84c05610eb",
   "metadata": {
    "tags": []
   },
   "source": [
    "<div class=\"alert alert-block alert-warning\">\n",
    "    <p>We should optimize the memory usage to avoid problems during executions</p>\n",
    "</div>"
   ]
  },
  {
   "cell_type": "code",
   "execution_count": 4,
   "id": "c18179a9-06ed-4976-9466-b360f6b125ff",
   "metadata": {},
   "outputs": [],
   "source": [
    "df_current_clients = memory_optimization(df_current_clients)"
   ]
  },
  {
   "cell_type": "code",
   "execution_count": 5,
   "id": "bfea9bff-c2e3-434b-805f-7894ce042f83",
   "metadata": {},
   "outputs": [
    {
     "name": "stdout",
     "output_type": "stream",
     "text": [
      "\n",
      "Analysis Header of df dataset\n",
      "--------------------------------------------------------------------------------\n",
      "- Dataset shape:\t\t\t 30000 rows and 509 columns\n",
      "- Total of NaN values:\t\t\t 0\n",
      "- Percentage of NaN:\t\t\t 0.0 %\n",
      "- Total of infinite values:\t\t 0\n",
      "- Percentage of infinite values:\t 0.0 %\n",
      "- Total of full duplicates rows:\t 0\n",
      "- Total of empty rows:\t\t\t 0\n",
      "- Total of empty columns:\t\t 0\n",
      "- Unique indexes:\t\t\t True\n",
      "- Memory usage:\t\t\t\t 45.5 MB\n"
     ]
    }
   ],
   "source": [
    "df_analysis(df_current_clients, \"df\", analysis_type=\"header\")"
   ]
  },
  {
   "cell_type": "markdown",
   "id": "4bcd4990-0cf8-4133-8adc-83c9bba6287e",
   "metadata": {
    "tags": []
   },
   "source": [
    "<div class=\"alert alert-block alert-success\">\n",
    "    <p><b>Observations / Conclusions</b></p>\n",
    "    <p>The memory usage has been reduced.</p>\n",
    "</div>"
   ]
  },
  {
   "cell_type": "markdown",
   "id": "dd3127bc-8358-4919-a8e5-6185b4785479",
   "metadata": {
    "tags": []
   },
   "source": [
    "<div style=\"background-color: #506AB9;\" >\n",
    "    <h2 style=\"margin: auto; padding: 20px; color:#fff; \">4. Analyzing target variable</h2>\n",
    "</div>"
   ]
  },
  {
   "cell_type": "markdown",
   "id": "fff9ec31-ef52-41ec-ba27-b89d802247d6",
   "metadata": {
    "tags": []
   },
   "source": [
    "<div class=\"alert alert-block alert-info\">\n",
    "    <p>We are going to analyze the target variable to see whether is an imbalanced class\n",
    "   </p>\n",
    "</div>"
   ]
  },
  {
   "cell_type": "code",
   "execution_count": 6,
   "id": "2ed510e4-cfdc-4634-b45e-80161533ab0a",
   "metadata": {},
   "outputs": [
    {
     "data": {
      "image/png": "[encoded data removed]",
      "text/plain": [
       "<Figure size 648x360 with 2 Axes>"
      ]
     },
     "metadata": {
      "needs_background": "light"
     },
     "output_type": "display_data"
    }
   ],
   "source": [
    "barplot_and_pie(df_current_clients[\"TARGET\"], \"Target distribution\", \" \")"
   ]
  },
  {
   "cell_type": "markdown",
   "id": "1f5f70ae-333e-4a5c-8e27-556353f9f36f",
   "metadata": {
    "tags": []
   },
   "source": [
    "<div class=\"alert alert-block alert-warning\">\n",
    "    <p><b>Observations / Conclusions</b></p>\n",
    "    <ul style=\"list-style-type: square;\">\n",
    "        <li>Here we can see how much the dataset is imbalanced so, we are facing a imbalanced classification problem</li>\n",
    "        <li>It is easily identifying that there are <b>loans that were repaid (0)</b> in comparison of <b>loans that were not repaid (1)</b>s</li>\n",
    "        <li>We are going to treat the imbalanced class into a pipeline during the modeling</li>\n",
    "    </ul> \n",
    "</div>"
   ]
  },
  {
   "cell_type": "markdown",
   "id": "d33a688c-8c5c-4f2b-ac0d-d5a0f44f7d8a",
   "metadata": {
    "tags": []
   },
   "source": [
    "<div class=\"alert alert-block alert-danger\">\n",
    "    <p><b>FLAG</b>\n",
    "   </p>\n",
    "</div>"
   ]
  },
  {
   "cell_type": "code",
   "execution_count": 13,
   "id": "dc51b1cc-5e47-4538-952e-5d316b417c86",
   "metadata": {},
   "outputs": [
    {
     "ename": "NameError",
     "evalue": "name 'xxxxxxxxxxx' is not defined",
     "output_type": "error",
     "traceback": [
      "\u001b[1;31m---------------------------------------------------------------------------\u001b[0m",
      "\u001b[1;31mNameError\u001b[0m                                 Traceback (most recent call last)",
      "\u001b[1;32m~\\AppData\\Local\\Temp/ipykernel_13800/729604076.py\u001b[0m in \u001b[0;36m<module>\u001b[1;34m\u001b[0m\n\u001b[1;32m----> 1\u001b[1;33m \u001b[0mxxxxxxxxxxx\u001b[0m\u001b[1;33m\u001b[0m\u001b[1;33m\u001b[0m\u001b[0m\n\u001b[0m",
      "\u001b[1;31mNameError\u001b[0m: name 'xxxxxxxxxxx' is not defined"
     ]
    }
   ],
   "source": [
    "xxxxxxxxxxx"
   ]
  },
  {
   "cell_type": "markdown",
   "id": "8a27929c-6698-4788-bc3e-bfdc21861cf2",
   "metadata": {
    "tags": []
   },
   "source": [
    "<div style=\"background-color: #506AB9;\" >\n",
    "    <h2 style=\"margin: auto; padding: 20px; color:#fff; \">5. Splitting data</h2>\n",
    "</div>"
   ]
  },
  {
   "cell_type": "markdown",
   "id": "7e82947b-3e4f-4255-9add-aa8333cc2f8f",
   "metadata": {
    "tags": []
   },
   "source": [
    "<div class=\"alert alert-block alert-info\">\n",
    "    <p>First of all, let's identify the training columns in the dataset\n",
    "   </p>\n",
    "</div>"
   ]
  },
  {
   "cell_type": "code",
   "execution_count": 29,
   "id": "c39d8e56-a581-4e7a-9b84-3e24ad984e84",
   "metadata": {},
   "outputs": [],
   "source": [
    "NOT_TRAINING_COLUMNS  = [\"TARGET\", \"SK_ID_CURR\", \"SK_ID_BUREAU\", \"SK_ID_PREV\", \"index\"] \n",
    "TRAINING_COLUMNS = [col for col in df_current_clients.columns if col not in NOT_TRAINING_COLUMNS]"
   ]
  },
  {
   "cell_type": "code",
   "execution_count": null,
   "id": "ad1075f3-ff6f-4fa3-a940-f7b80341eb14",
   "metadata": {},
   "outputs": [],
   "source": []
  },
  {
   "cell_type": "code",
   "execution_count": null,
   "id": "a8fd8f33-493f-4683-b715-581ea24f6562",
   "metadata": {},
   "outputs": [],
   "source": []
  },
  {
   "cell_type": "code",
   "execution_count": null,
   "id": "359904ca-27a1-42d4-a6d2-dccc4b1cfc3f",
   "metadata": {},
   "outputs": [],
   "source": []
  },
  {
   "cell_type": "code",
   "execution_count": 8,
   "id": "ccd00d31-1f03-4267-85ce-b7728f9e817e",
   "metadata": {},
   "outputs": [],
   "source": [
    "X = df_current_clients.drop(columns=[\"TARGET\"])"
   ]
  },
  {
   "cell_type": "code",
   "execution_count": 9,
   "id": "245e470a-a7bb-4a82-a610-5c5cc0f4175a",
   "metadata": {},
   "outputs": [],
   "source": [
    "y_target = df_current_clients.loc[:,\"TARGET\"]"
   ]
  },
  {
   "cell_type": "code",
   "execution_count": 10,
   "id": "e140ee4c-4a90-4a47-9643-624bb319f9e8",
   "metadata": {},
   "outputs": [],
   "source": [
    "X_train, X_test, y_train, y_test = train_test_split(X, y_target, test_size=0.20, random_state=42)"
   ]
  },
  {
   "cell_type": "code",
   "execution_count": 11,
   "id": "a8d16465-c6e1-4981-9a22-8be2e61fff63",
   "metadata": {},
   "outputs": [
    {
     "name": "stdout",
     "output_type": "stream",
     "text": [
      "X_train: (24000, 508)\n",
      "y_train: (24000,)\n",
      "---------------------\n",
      "X_test: (6000, 508)\n",
      "y_test: (6000,)\n"
     ]
    }
   ],
   "source": [
    "print(\"X_train: {}\".format(X_train.shape))\n",
    "print(\"y_train: {}\".format(y_train.shape))\n",
    "print(\"---------------------\")\n",
    "print(\"X_test: {}\".format(X_test.shape))\n",
    "print(\"y_test: {}\".format(y_test.shape))"
   ]
  },
  {
   "cell_type": "markdown",
   "id": "f135ae94-c97a-480c-8eb2-5765f4ea3499",
   "metadata": {
    "tags": []
   },
   "source": [
    "<div style=\"background-color: #506AB9;\" >\n",
    "    <h2 style=\"margin: auto; padding: 20px; color:#fff; \">6. Modelisation</h2>\n",
    "</div>"
   ]
  },
  {
   "cell_type": "markdown",
   "id": "fa710ad7-0ed6-41c4-ac24-3ea2feec65e8",
   "metadata": {
    "tags": []
   },
   "source": [
    "<div class=\"alert alert-block alert-warning\">\n",
    "    <p>We are going to use three models to compare </b></p>\n",
    "    <ul style=\"list-style-type: square;\">\n",
    "        <li>Here we can see how much the dataset is imbalanced so, we are facing a imbalanced classification problem</li>\n",
    "        <li>It is easily identifying that there are <b>loans that were repaid (0)</b> in comparison of <b>loans that were not repaid (1)</b>s</li>\n",
    "        <li>We are going to treat the imbalanced class into a pipeline during the modeling</li>\n",
    "    </ul> \n",
    "</div>"
   ]
  },
  {
   "cell_type": "code",
   "execution_count": 12,
   "id": "d0cf51d0-bf8e-4929-92ce-e5e15054a298",
   "metadata": {},
   "outputs": [],
   "source": [
    "smote = SMOTE(sampling_strategy=\"auto\", k_neighbors=5, n_jobs=-1,\n",
    "              random_state=42)"
   ]
  },
  {
   "cell_type": "markdown",
   "id": "a858d112-ab5a-4eff-ab7e-c0f972404227",
   "metadata": {
    "tags": []
   },
   "source": [
    "<div style=\"background-color: #506AB9;\" >\n",
    "    <h3 style=\"margin: auto; padding: 20px; color:#fff; \">6.1. LightGBM</h3>\n",
    "</div>"
   ]
  },
  {
   "cell_type": "code",
   "execution_count": 13,
   "id": "526da288-e24f-489d-8dba-6ee0bdfb25f5",
   "metadata": {},
   "outputs": [
    {
     "ename": "NameError",
     "evalue": "name 'xxxxxxxxxxx' is not defined",
     "output_type": "error",
     "traceback": [
      "\u001b[1;31m---------------------------------------------------------------------------\u001b[0m",
      "\u001b[1;31mNameError\u001b[0m                                 Traceback (most recent call last)",
      "\u001b[1;32m~\\AppData\\Local\\Temp/ipykernel_13800/729604076.py\u001b[0m in \u001b[0;36m<module>\u001b[1;34m\u001b[0m\n\u001b[1;32m----> 1\u001b[1;33m \u001b[0mxxxxxxxxxxx\u001b[0m\u001b[1;33m\u001b[0m\u001b[1;33m\u001b[0m\u001b[0m\n\u001b[0m",
      "\u001b[1;31mNameError\u001b[0m: name 'xxxxxxxxxxx' is not defined"
     ]
    }
   ],
   "source": [
    "xxxxxxxxxxx"
   ]
  },
  {
   "cell_type": "markdown",
   "id": "fb2e72c0-c334-42a3-b6f2-4e1deb1834d5",
   "metadata": {
    "tags": []
   },
   "source": [
    "<div class=\"alert alert-block alert-danger\">\n",
    "    <p>funciona\n",
    "   </p>\n",
    "</div>"
   ]
  },
  {
   "cell_type": "markdown",
   "id": "08c19af0-627e-4e1c-8002-58515f505322",
   "metadata": {
    "tags": []
   },
   "source": [
    "<div class=\"alert alert-block alert-warning\">\n",
    "    <p><b>Observations / Conclusions</b></p>\n",
    "    <ul style=\"list-style-type: square;\">\n",
    "        <li>NO se utilizo custom score</li>\n",
    "        <li>Kfold de 5 y no stratified https://towardsdatascience.com/the-right-way-of-using-smote-with-cross-validation-92a8d09d00c7</li>\n",
    "        <li>solo un parametro de prueba</li>\n",
    "    </ul> \n",
    "</div>"
   ]
  },
  {
   "cell_type": "code",
   "execution_count": null,
   "id": "4b3fe208-73f3-4ba6-953c-75e3ad0b0091",
   "metadata": {},
   "outputs": [],
   "source": [
    "import lightgbm as lgb\n",
    "from lightgbm import LGBMClassifier"
   ]
  },
  {
   "cell_type": "code",
   "execution_count": null,
   "id": "5cdac1ce-ae98-4a09-9dc5-3148634042b4",
   "metadata": {},
   "outputs": [],
   "source": [
    "pipeline = imbpipeline(steps = [['Smote', smote],\n",
    "                                ['LightGBM', LGBMClassifier()]])"
   ]
  },
  {
   "cell_type": "code",
   "execution_count": null,
   "id": "be6424ed-bad5-4d36-82b2-403f96bdaf89",
   "metadata": {},
   "outputs": [],
   "source": [
    "sorted(pipeline.get_params().keys())"
   ]
  },
  {
   "cell_type": "code",
   "execution_count": null,
   "id": "c36e2cdd-1caa-4ecd-ada4-707c65717d86",
   "metadata": {},
   "outputs": [],
   "source": [
    "param_grid = {\n",
    "    \"LightGBM__n_estimators\" : [8000, 10000, 12000], \n",
    "}"
   ]
  },
  {
   "cell_type": "code",
   "execution_count": null,
   "id": "18804e9b-a219-4f3b-a8ec-ee97dc40b69e",
   "metadata": {},
   "outputs": [],
   "source": [
    "from sklearn.model_selection import KFold, GridSearchCV"
   ]
  },
  {
   "cell_type": "code",
   "execution_count": null,
   "id": "c9e88c64-cd4a-48d7-9a50-9064764c689f",
   "metadata": {},
   "outputs": [],
   "source": [
    "kfold = KFold(n_splits=5, shuffle=True, random_state=0)"
   ]
  },
  {
   "cell_type": "code",
   "execution_count": null,
   "id": "60abbafe-36e5-4a64-85fd-e9f738e6bd4b",
   "metadata": {},
   "outputs": [],
   "source": [
    "grid_search = GridSearchCV(estimator=pipeline,\n",
    "                           param_grid=param_grid,\n",
    "                           scoring='roc_auc',\n",
    "                           cv=kfold,\n",
    "                           n_jobs=-1)"
   ]
  },
  {
   "cell_type": "code",
   "execution_count": null,
   "id": "4704d541-2f78-4b56-a095-d7420020f052",
   "metadata": {},
   "outputs": [],
   "source": [
    "grid_search.fit(X_train, y_train)"
   ]
  },
  {
   "cell_type": "code",
   "execution_count": null,
   "id": "1d39a34d-ceed-4a7b-9191-26d39c3de7ff",
   "metadata": {},
   "outputs": [],
   "source": [
    "cv_score = grid_search.best_score_"
   ]
  },
  {
   "cell_type": "code",
   "execution_count": null,
   "id": "5c915f13-3e0e-4354-b6f5-d0329a116e11",
   "metadata": {},
   "outputs": [],
   "source": [
    "test_score = grid_search.score(X_test, y_test)"
   ]
  },
  {
   "cell_type": "code",
   "execution_count": null,
   "id": "94ee352c-01bc-427c-aea7-eb3c6d93cf6f",
   "metadata": {},
   "outputs": [],
   "source": [
    "print(f'Cross-validation score: {cv_score}\\nTest score: {test_score}')"
   ]
  },
  {
   "cell_type": "code",
   "execution_count": null,
   "id": "4d641972-b152-40f1-b5b8-a98d6564e49a",
   "metadata": {},
   "outputs": [],
   "source": [
    "grid_search.cv_results_"
   ]
  },
  {
   "cell_type": "markdown",
   "id": "e3863bfc-8cef-4a88-8c51-d39d5448330f",
   "metadata": {
    "tags": []
   },
   "source": [
    "<div class=\"alert alert-block alert-danger\">\n",
    "    <p>funciona\n",
    "   </p>\n",
    "</div>"
   ]
  },
  {
   "cell_type": "code",
   "execution_count": null,
   "id": "25ca53b5-3349-4a9f-b8cc-841f098aee06",
   "metadata": {},
   "outputs": [],
   "source": []
  },
  {
   "cell_type": "code",
   "execution_count": null,
   "id": "19cd4b99-7524-472f-a6bc-acf286b9fd11",
   "metadata": {},
   "outputs": [],
   "source": []
  },
  {
   "cell_type": "code",
   "execution_count": null,
   "id": "b16cda84-42c9-4438-a5ca-0dac1451571e",
   "metadata": {},
   "outputs": [],
   "source": []
  },
  {
   "cell_type": "code",
   "execution_count": null,
   "id": "d0be2114-d11a-45eb-a692-9bddeb85017e",
   "metadata": {},
   "outputs": [],
   "source": []
  },
  {
   "cell_type": "code",
   "execution_count": null,
   "id": "212d36ba-7082-4b30-acab-04e3f0228b23",
   "metadata": {},
   "outputs": [],
   "source": []
  },
  {
   "cell_type": "code",
   "execution_count": null,
   "id": "9d6fed3e-e919-4f0e-a129-71516ff2334e",
   "metadata": {},
   "outputs": [],
   "source": []
  },
  {
   "cell_type": "markdown",
   "id": "8dd2ffd0-b4e5-4147-9983-ea5113116732",
   "metadata": {
    "tags": []
   },
   "source": [
    "<div class=\"alert alert-block alert-danger\">\n",
    "    <p>PRUEBA 2\n",
    "   </p>\n",
    "</div>"
   ]
  },
  {
   "cell_type": "markdown",
   "id": "44857979-b14f-4bca-b78f-592636d00bac",
   "metadata": {
    "tags": []
   },
   "source": [
    "<div class=\"alert alert-block alert-warning\">\n",
    "    <p><b>Observations / Conclusions</b></p>\n",
    "    <ul style=\"list-style-type: square;\">\n",
    "        <li>NO se utilizo custom score</li>\n",
    "        <li>Kfold de 3 y no stratified https://towardsdatascience.com/the-right-way-of-using-smote-with-cross-validation-92a8d09d00c7</li>\n",
    "        <li>varios parametros de prueba</li>\n",
    "        <li>return_train_score</li>\n",
    "    </ul> \n",
    "</div>"
   ]
  },
  {
   "cell_type": "code",
   "execution_count": 14,
   "id": "6828690e-4941-4a80-b335-5890958729c8",
   "metadata": {},
   "outputs": [],
   "source": [
    "import lightgbm as lgb\n",
    "from lightgbm import LGBMClassifier"
   ]
  },
  {
   "cell_type": "code",
   "execution_count": 15,
   "id": "aa9a2c1d-e23e-4517-8b6a-2ed35aaf1439",
   "metadata": {},
   "outputs": [],
   "source": [
    "pipeline = imbpipeline(steps = [['Smote', smote],\n",
    "                                ['LightGBM', LGBMClassifier(colsample_bytree=0.8,\n",
    "                                                            subsample=0.8, is_unbalance=False,\n",
    "                                                            n_jobs=-1)]])"
   ]
  },
  {
   "cell_type": "code",
   "execution_count": 16,
   "id": "e3ddde17-b497-45da-9a4b-9c879c4d7d9f",
   "metadata": {},
   "outputs": [
    {
     "data": {
      "text/plain": [
       "['LightGBM',\n",
       " 'LightGBM__boosting_type',\n",
       " 'LightGBM__class_weight',\n",
       " 'LightGBM__colsample_bytree',\n",
       " 'LightGBM__importance_type',\n",
       " 'LightGBM__is_unbalance',\n",
       " 'LightGBM__learning_rate',\n",
       " 'LightGBM__max_depth',\n",
       " 'LightGBM__min_child_samples',\n",
       " 'LightGBM__min_child_weight',\n",
       " 'LightGBM__min_split_gain',\n",
       " 'LightGBM__n_estimators',\n",
       " 'LightGBM__n_jobs',\n",
       " 'LightGBM__num_leaves',\n",
       " 'LightGBM__objective',\n",
       " 'LightGBM__random_state',\n",
       " 'LightGBM__reg_alpha',\n",
       " 'LightGBM__reg_lambda',\n",
       " 'LightGBM__silent',\n",
       " 'LightGBM__subsample',\n",
       " 'LightGBM__subsample_for_bin',\n",
       " 'LightGBM__subsample_freq',\n",
       " 'Smote',\n",
       " 'Smote__k_neighbors',\n",
       " 'Smote__n_jobs',\n",
       " 'Smote__random_state',\n",
       " 'Smote__sampling_strategy',\n",
       " 'memory',\n",
       " 'steps',\n",
       " 'verbose']"
      ]
     },
     "execution_count": 16,
     "metadata": {},
     "output_type": "execute_result"
    }
   ],
   "source": [
    "sorted(pipeline.get_params().keys())"
   ]
  },
  {
   "cell_type": "code",
   "execution_count": 17,
   "id": "950b9d66-8e0d-4db1-9e56-37a561761bc0",
   "metadata": {},
   "outputs": [],
   "source": [
    "param_grid = {\n",
    "    \"LightGBM__n_estimators\" : [8000, 10000, 12000], \n",
    "}"
   ]
  },
  {
   "cell_type": "code",
   "execution_count": 18,
   "id": "e85666bf-ac16-4b4b-8ff5-e4c467e19322",
   "metadata": {},
   "outputs": [],
   "source": [
    "from sklearn.model_selection import KFold, GridSearchCV"
   ]
  },
  {
   "cell_type": "code",
   "execution_count": 19,
   "id": "5a287787-0fd7-4825-9af3-93cccf0d47d6",
   "metadata": {},
   "outputs": [],
   "source": [
    "kfold = KFold(n_splits=3, shuffle=True, random_state=0)"
   ]
  },
  {
   "cell_type": "code",
   "execution_count": 20,
   "id": "5773daae-edbd-4068-89f2-1789297ddbbd",
   "metadata": {},
   "outputs": [],
   "source": [
    "grid_search = GridSearchCV(estimator=pipeline,\n",
    "                           param_grid=param_grid,\n",
    "                           scoring='roc_auc',\n",
    "                           cv=kfold,\n",
    "                           n_jobs=-1, \n",
    "                           return_train_score=True)"
   ]
  },
  {
   "cell_type": "code",
   "execution_count": 21,
   "id": "a7f49804-7a2f-48e3-ac0c-00fc5f272362",
   "metadata": {},
   "outputs": [
    {
     "data": {
      "text/plain": [
       "GridSearchCV(cv=KFold(n_splits=3, random_state=0, shuffle=True),\n",
       "             estimator=Pipeline(steps=[['Smote',\n",
       "                                        SMOTE(n_jobs=-1, random_state=42)],\n",
       "                                       ['LightGBM',\n",
       "                                        LGBMClassifier(colsample_bytree=0.8,\n",
       "                                                       is_unbalance=False,\n",
       "                                                       subsample=0.8)]]),\n",
       "             n_jobs=-1,\n",
       "             param_grid={'LightGBM__n_estimators': [8000, 10000, 12000]},\n",
       "             return_train_score=True, scoring='roc_auc')"
      ]
     },
     "execution_count": 21,
     "metadata": {},
     "output_type": "execute_result"
    }
   ],
   "source": [
    "grid_search.fit(X_train, y_train)"
   ]
  },
  {
   "cell_type": "code",
   "execution_count": 22,
   "id": "0c4cebc5-e648-432c-87ef-ad647e058176",
   "metadata": {},
   "outputs": [],
   "source": [
    "cv_score = grid_search.best_score_"
   ]
  },
  {
   "cell_type": "code",
   "execution_count": 23,
   "id": "5d2628f4-6996-4401-b072-85cfdc34c4e9",
   "metadata": {},
   "outputs": [],
   "source": [
    "test_score = grid_search.score(X_test, y_test)"
   ]
  },
  {
   "cell_type": "code",
   "execution_count": 24,
   "id": "36f9305e-73da-4a6a-a260-7cbb32134b8b",
   "metadata": {},
   "outputs": [
    {
     "name": "stdout",
     "output_type": "stream",
     "text": [
      "Cross-validation score: 0.7183619427687655\n",
      "Test score: 0.725741824097647\n"
     ]
    }
   ],
   "source": [
    "print(f'Cross-validation score: {cv_score}\\nTest score: {test_score}')"
   ]
  },
  {
   "cell_type": "code",
   "execution_count": 25,
   "id": "97aeb087-9878-448b-8b15-e575df5e5f5f",
   "metadata": {},
   "outputs": [
    {
     "data": {
      "text/plain": [
       "{'mean_fit_time': array([653.90366872, 788.10708992, 678.03887987]),\n",
       " 'std_fit_time': array([  6.17617837,  51.84937029, 205.28796609]),\n",
       " 'mean_score_time': array([17.5763042 , 17.09792177, 13.7985216 ]),\n",
       " 'std_score_time': array([0.47785925, 0.82988621, 4.6804792 ]),\n",
       " 'param_LightGBM__n_estimators': masked_array(data=[8000, 10000, 12000],\n",
       "              mask=[False, False, False],\n",
       "        fill_value='?',\n",
       "             dtype=object),\n",
       " 'params': [{'LightGBM__n_estimators': 8000},\n",
       "  {'LightGBM__n_estimators': 10000},\n",
       "  {'LightGBM__n_estimators': 12000}],\n",
       " 'split0_test_score': array([0.71626533, 0.71605719, 0.71592379]),\n",
       " 'split1_test_score': array([0.72114011, 0.72082608, 0.72091873]),\n",
       " 'split2_test_score': array([0.71768039, 0.71751851, 0.71746112]),\n",
       " 'mean_test_score': array([0.71836194, 0.71813392, 0.71810121]),\n",
       " 'std_test_score': array([0.00204764, 0.00199493, 0.0020888 ]),\n",
       " 'rank_test_score': array([1, 2, 3]),\n",
       " 'split0_train_score': array([1., 1., 1.]),\n",
       " 'split1_train_score': array([1., 1., 1.]),\n",
       " 'split2_train_score': array([1., 1., 1.]),\n",
       " 'mean_train_score': array([1., 1., 1.]),\n",
       " 'std_train_score': array([0., 0., 0.])}"
      ]
     },
     "execution_count": 25,
     "metadata": {},
     "output_type": "execute_result"
    }
   ],
   "source": [
    "grid_search.cv_results_"
   ]
  },
  {
   "cell_type": "code",
   "execution_count": 26,
   "id": "879f9c18-9f06-451c-8472-4a16191b92b1",
   "metadata": {},
   "outputs": [
    {
     "name": "stdout",
     "output_type": "stream",
     "text": [
      "- Parameters: {'LightGBM__n_estimators': 8000}\n"
     ]
    }
   ],
   "source": [
    "print(\"- Parameters:\", grid_search.best_params_)"
   ]
  },
  {
   "cell_type": "code",
   "execution_count": 27,
   "id": "024dc306-200a-4596-94d7-fe88ac78f3a8",
   "metadata": {},
   "outputs": [],
   "source": [
    "# Transforming the result to dataframe format\n",
    "df_results = pd.DataFrame(grid_search.cv_results_)"
   ]
  },
  {
   "cell_type": "code",
   "execution_count": 28,
   "id": "7cec1039-63b4-4043-9de2-f593d1d6d80b",
   "metadata": {},
   "outputs": [
    {
     "name": "stdout",
     "output_type": "stream",
     "text": [
      "- Duration: 17.576\n"
     ]
    }
   ],
   "source": [
    "print(\"- Duration:\", round(df_results.iloc[grid_search.best_index_][\"mean_score_time\"], 3))"
   ]
  },
  {
   "cell_type": "markdown",
   "id": "68454d10-6953-4848-9ec8-9529631f1227",
   "metadata": {
    "tags": []
   },
   "source": [
    "<div class=\"alert alert-block alert-success\">\n",
    "    <p><b>OK</b></p>\n",
    "</div>"
   ]
  },
  {
   "cell_type": "markdown",
   "id": "e47b3875-2d18-4074-88ac-6a20e9be1b0c",
   "metadata": {
    "tags": []
   },
   "source": [
    "<div class=\"alert alert-block alert-danger\">\n",
    "    <p>PRUEBA 2\n",
    "   </p>\n",
    "</div>"
   ]
  },
  {
   "cell_type": "code",
   "execution_count": null,
   "id": "d37224ad-6d83-4a59-9350-68e5ba44e3c0",
   "metadata": {},
   "outputs": [],
   "source": []
  },
  {
   "cell_type": "code",
   "execution_count": null,
   "id": "e22bf99e-a9ba-4a03-91f5-7ba5ac9ea0fe",
   "metadata": {},
   "outputs": [],
   "source": []
  },
  {
   "cell_type": "code",
   "execution_count": null,
   "id": "e6d4c6fb-f529-4577-b842-65f54854ecb4",
   "metadata": {},
   "outputs": [],
   "source": []
  },
  {
   "cell_type": "code",
   "execution_count": null,
   "id": "21544d7b-e486-4cdd-8811-7cdb655a58a0",
   "metadata": {},
   "outputs": [],
   "source": []
  },
  {
   "cell_type": "code",
   "execution_count": null,
   "id": "232adc6e-9d73-4b0e-b0d2-c08b06a32680",
   "metadata": {},
   "outputs": [],
   "source": []
  },
  {
   "cell_type": "markdown",
   "id": "36f1b305-ee16-46ee-84cc-dc0446858489",
   "metadata": {
    "tags": []
   },
   "source": [
    "<div class=\"alert alert-block alert-danger\">\n",
    "    <p>PRUEBA HYPEROPT\n",
    "   </p>\n",
    "</div>"
   ]
  },
  {
   "cell_type": "code",
   "execution_count": null,
   "id": "fa00c80e-529c-42fd-9cef-b96f25d59bef",
   "metadata": {},
   "outputs": [],
   "source": [
    "from hyperopt import STATUS_OK, Trials, fmin, hp, tpe\n",
    "from hyperopt.pyll.base import scope\n",
    "\n",
    "from functools import partial"
   ]
  },
  {
   "cell_type": "code",
   "execution_count": null,
   "id": "dcdff8ef-414d-4d2a-bae3-42372f1ebc4a",
   "metadata": {},
   "outputs": [],
   "source": [
    "# Hyperparametrization\n",
    "#from hyperopt import tpe, hp, fmin, STATUS_OK, Trials, space_eval\n",
    "#from hyperopt.pyll.base import scope"
   ]
  },
  {
   "cell_type": "code",
   "execution_count": null,
   "id": "4d8f740f-54c3-4798-867e-f084b2f67d63",
   "metadata": {},
   "outputs": [],
   "source": []
  },
  {
   "cell_type": "code",
   "execution_count": null,
   "id": "ca6c4328-f8a7-4743-88a4-05bfb5b4a6a3",
   "metadata": {},
   "outputs": [],
   "source": []
  },
  {
   "cell_type": "code",
   "execution_count": null,
   "id": "b54c7c51-fb76-4f35-92dd-f02242fc6859",
   "metadata": {},
   "outputs": [],
   "source": []
  },
  {
   "cell_type": "code",
   "execution_count": null,
   "id": "21db6258-6309-4b5d-aa8c-f0ad44604b48",
   "metadata": {},
   "outputs": [],
   "source": []
  },
  {
   "cell_type": "markdown",
   "id": "5dee6cf4-a8d9-4855-a834-a010a4c1615e",
   "metadata": {
    "tags": []
   },
   "source": [
    "<div class=\"alert alert-block alert-danger\">\n",
    "    <p>PRUEBA HYPEROPT\n",
    "   </p>\n",
    "</div>"
   ]
  },
  {
   "cell_type": "code",
   "execution_count": null,
   "id": "585637ac-5c73-4991-ade4-330aae27328c",
   "metadata": {},
   "outputs": [],
   "source": []
  },
  {
   "cell_type": "code",
   "execution_count": null,
   "id": "f06b4540-49b7-4550-bfa0-b47182a8a01a",
   "metadata": {},
   "outputs": [],
   "source": []
  },
  {
   "cell_type": "code",
   "execution_count": null,
   "id": "74abcd6a-05de-4090-8383-c40e08ece5e5",
   "metadata": {},
   "outputs": [],
   "source": []
  },
  {
   "cell_type": "code",
   "execution_count": null,
   "id": "cdfd780e-b47a-46fa-b60f-636869913d9b",
   "metadata": {},
   "outputs": [],
   "source": []
  },
  {
   "cell_type": "code",
   "execution_count": null,
   "id": "5456a911-2b06-4b3d-a329-f0e82919201d",
   "metadata": {},
   "outputs": [],
   "source": []
  },
  {
   "cell_type": "markdown",
   "id": "615a9fc8-09e4-47e3-9af6-c72bc34b7a71",
   "metadata": {
    "tags": []
   },
   "source": [
    "<div class=\"alert alert-block alert-danger\">\n",
    "    <p>PRUEBA 3<br>greater_is_betterbool, default=True\n",
    "   </p>\n",
    "</div>"
   ]
  },
  {
   "cell_type": "code",
   "execution_count": null,
   "id": "310031db-29d0-4a62-a2bd-7c97a0f8db81",
   "metadata": {},
   "outputs": [],
   "source": [
    "from sklearn.metrics import confusion_matrix"
   ]
  },
  {
   "cell_type": "code",
   "execution_count": null,
   "id": "ba2148d2-48c8-4374-b855-5cd61debe0e3",
   "metadata": {},
   "outputs": [],
   "source": [
    "def custom_score(y_true, y_pred):\n",
    "    \"\"\"\n",
    "    Method used to calculate a score based on the penalization of False Negatives.\n",
    "\n",
    "    Parameters:\n",
    "    -----------------\n",
    "        y_true (series): True values\n",
    "        y_pred (series): Predicted values\n",
    "        \n",
    "    Returns:\n",
    "    -----------------\n",
    "        Score. (float): Score obtained based on the rules defined to measure. \n",
    "    \"\"\"\n",
    "    \n",
    "    # Getting the probability outputs from \"predict_proba\"\n",
    "    threshold = 0.5\n",
    "    y_pred = (y_pred >= threshold).astype(int)\n",
    "    \n",
    "    TN_rate = 1        # Loans that are not in default and were predicted correctly\n",
    "    TP_rate = 1        # Loans that are in default and were predicted correctly\n",
    "    FP_rate = 0        # Loans that are not in default and were predicted incorrectly\n",
    "    FN_rate = -10      # Loans that are in default and were were predicted incorrectly\n",
    "    \n",
    "    # Getting all values based on confusion matrix\n",
    "    (TN, FP, FN, TP) = confusion_matrix(y_true, y_pred).ravel()\n",
    "\n",
    "    # Total of default and not default cases\n",
    "    total_not_default = TN + FP     # Not default cases\n",
    "    total_default = TP + FN         # Default cases \n",
    "    \n",
    "    gain_total = TN*TN_rate + TP*TP_rate + FP*FP_rate + FN*FN_rate\n",
    "    gain_maximun = total_not_default*TN_rate + total_default*TP_rate\n",
    "    gain_minumun = total_not_default*TN_rate + total_default*FN_rate\n",
    "    \n",
    "    # normalize to get score between 0 (baseline) and 1\n",
    "    score = (gain_total - gain_minumun) / (gain_maximun - gain_minumun)\n",
    "    \n",
    "    return score"
   ]
  },
  {
   "cell_type": "code",
   "execution_count": null,
   "id": "90178c45-674d-4094-beca-951850929864",
   "metadata": {},
   "outputs": [],
   "source": [
    "from sklearn.metrics import make_scorer"
   ]
  },
  {
   "cell_type": "code",
   "execution_count": null,
   "id": "2345bac6-dc36-4893-9d80-481930000522",
   "metadata": {},
   "outputs": [],
   "source": [
    "grid_search = GridSearchCV(estimator=pipeline,\n",
    "                           param_grid=param_grid,\n",
    "                           scoring=make_scorer(custom_score),\n",
    "                           cv=kfold,\n",
    "                           n_jobs=-1, \n",
    "                           return_train_score=True)"
   ]
  },
  {
   "cell_type": "code",
   "execution_count": null,
   "id": "d5fd7d7b-d372-429d-ba3f-77420e8004f1",
   "metadata": {},
   "outputs": [],
   "source": [
    "grid_search.fit(X_train, y_train)"
   ]
  },
  {
   "cell_type": "code",
   "execution_count": null,
   "id": "ceb26b80-6d3b-4006-adf4-b6899d9f1742",
   "metadata": {},
   "outputs": [],
   "source": [
    "cv_score = grid_search.best_score_"
   ]
  },
  {
   "cell_type": "code",
   "execution_count": null,
   "id": "59f92c88-7c65-40fa-b23c-da08e547ef22",
   "metadata": {},
   "outputs": [],
   "source": [
    "test_score = grid_search.score(X_test, y_test)"
   ]
  },
  {
   "cell_type": "code",
   "execution_count": null,
   "id": "b8bed3b3-0b69-4faa-b8c1-eb0165cb0a0c",
   "metadata": {},
   "outputs": [],
   "source": [
    "print(f'Cross-validation score: {cv_score}\\nTest score: {test_score}')"
   ]
  },
  {
   "cell_type": "code",
   "execution_count": null,
   "id": "094a4213-d555-49f3-a9b8-a6f31b621ba6",
   "metadata": {},
   "outputs": [],
   "source": [
    "grid_search.cv_results_"
   ]
  },
  {
   "cell_type": "code",
   "execution_count": null,
   "id": "84781fd7-015b-417f-80fa-a4bd269027ca",
   "metadata": {},
   "outputs": [],
   "source": [
    "print(\"- Parameters:\", grid_search.best_params_)"
   ]
  },
  {
   "cell_type": "code",
   "execution_count": null,
   "id": "3adf00fa-20ea-484e-bb1b-52864d9aa860",
   "metadata": {},
   "outputs": [],
   "source": [
    "# Transforming the result to dataframe format\n",
    "df_results = pd.DataFrame(grid_search.cv_results_)"
   ]
  },
  {
   "cell_type": "code",
   "execution_count": null,
   "id": "d18d3a89-3f7c-4b29-ba3b-5316df570f61",
   "metadata": {},
   "outputs": [],
   "source": [
    "print(\"- Duration:\", round(df_results.iloc[grid_search.best_index_][\"mean_score_time\"], 3))"
   ]
  },
  {
   "cell_type": "markdown",
   "id": "f45c5ad6-f2cc-44c0-8ca3-4f37b94b77de",
   "metadata": {
    "tags": []
   },
   "source": [
    "<div class=\"alert alert-block alert-danger\">\n",
    "    <p>PRUEBA 3\n",
    "   </p>\n",
    "</div>"
   ]
  },
  {
   "cell_type": "code",
   "execution_count": null,
   "id": "158363f7-27a8-4982-9d6f-1230e060db1b",
   "metadata": {},
   "outputs": [],
   "source": []
  },
  {
   "cell_type": "code",
   "execution_count": null,
   "id": "0b16abed-18c6-46a6-9b20-1b3c18934af5",
   "metadata": {},
   "outputs": [],
   "source": []
  },
  {
   "cell_type": "code",
   "execution_count": null,
   "id": "01688416-c72c-4145-b00a-5ec0dfcf6438",
   "metadata": {},
   "outputs": [],
   "source": []
  },
  {
   "cell_type": "code",
   "execution_count": null,
   "id": "1821a19d-e046-4e6e-8184-15dc249e65ad",
   "metadata": {},
   "outputs": [],
   "source": []
  },
  {
   "cell_type": "markdown",
   "id": "71a9b633-fe78-4d65-bfd5-9947c212111e",
   "metadata": {
    "tags": []
   },
   "source": [
    "<div class=\"alert alert-block alert-danger\">\n",
    "    <p>PRUEBA 4<br>greater_is_betterbool, default=False\n",
    "   </p>\n",
    "</div>"
   ]
  },
  {
   "cell_type": "code",
   "execution_count": null,
   "id": "508c2dd0-be6d-4ef8-a6d7-3af7b7f7e310",
   "metadata": {},
   "outputs": [],
   "source": [
    "from sklearn.metrics import confusion_matrix"
   ]
  },
  {
   "cell_type": "code",
   "execution_count": null,
   "id": "55b64e9b-dfc6-409e-9f51-43ffc16ed987",
   "metadata": {},
   "outputs": [],
   "source": [
    "def custom_score(y_true, y_pred):\n",
    "    \"\"\"\n",
    "    Method used to calculate a score based on the penalization of False Negatives.\n",
    "\n",
    "    Parameters:\n",
    "    -----------------\n",
    "        y_true (series): True values\n",
    "        y_pred (series): Predicted values\n",
    "        \n",
    "    Returns:\n",
    "    -----------------\n",
    "        Score. (float): Score obtained based on the rules defined to measure. \n",
    "    \"\"\"\n",
    "    \n",
    "    # Getting the probability outputs from \"predict_proba\"\n",
    "    threshold = 0.5\n",
    "    y_pred = (y_pred >= threshold).astype(int)\n",
    "    \n",
    "    TN_rate = 1        # Loans that are not in default and were predicted correctly\n",
    "    TP_rate = 1        # Loans that are in default and were predicted correctly\n",
    "    FP_rate = 0        # Loans that are not in default and were predicted incorrectly\n",
    "    FN_rate = -10      # Loans that are in default and were were predicted incorrectly\n",
    "    \n",
    "    # Getting all values based on confusion matrix\n",
    "    (TN, FP, FN, TP) = confusion_matrix(y_true, y_pred).ravel()\n",
    "\n",
    "    # Total of default and not default cases\n",
    "    total_not_default = TN + FP     # Not default cases\n",
    "    total_default = TP + FN         # Default cases \n",
    "    \n",
    "    gain_total = TN*TN_rate + TP*TP_rate + FP*FP_rate + FN*FN_rate\n",
    "    gain_maximun = total_not_default*TN_rate + total_default*TP_rate\n",
    "    gain_minumun = total_not_default*TN_rate + total_default*FN_rate\n",
    "    \n",
    "    # normalize to get score between 0 (baseline) and 1\n",
    "    score = (gain_total - gain_minumun) / (gain_maximun - gain_minumun)\n",
    "    \n",
    "    return score"
   ]
  },
  {
   "cell_type": "code",
   "execution_count": null,
   "id": "65173606-cd30-42d2-87f2-e57be591979e",
   "metadata": {},
   "outputs": [],
   "source": [
    "from sklearn.metrics import make_scorer"
   ]
  },
  {
   "cell_type": "code",
   "execution_count": null,
   "id": "287101ea-fc7b-4110-986f-184fa5fa4064",
   "metadata": {},
   "outputs": [],
   "source": [
    "grid_search = GridSearchCV(estimator=pipeline,\n",
    "                           param_grid=param_grid,\n",
    "                           scoring=make_scorer(custom_score, greater_is_better=False),\n",
    "                           cv=kfold,\n",
    "                           n_jobs=-1, \n",
    "                           return_train_score=True)"
   ]
  },
  {
   "cell_type": "code",
   "execution_count": null,
   "id": "b692267b-8e2f-42f1-8617-7aaabf8c240a",
   "metadata": {},
   "outputs": [],
   "source": [
    "grid_search.fit(X_train, y_train)"
   ]
  },
  {
   "cell_type": "code",
   "execution_count": null,
   "id": "aee783b9-ad02-455c-8fe4-aab7bfa4ff5b",
   "metadata": {},
   "outputs": [],
   "source": [
    "cv_score = grid_search.best_score_"
   ]
  },
  {
   "cell_type": "code",
   "execution_count": null,
   "id": "10ffebfd-95fe-44a2-9873-b4f425bf6926",
   "metadata": {},
   "outputs": [],
   "source": [
    "test_score = grid_search.score(X_test, y_test)"
   ]
  },
  {
   "cell_type": "code",
   "execution_count": null,
   "id": "bbe4a549-976b-4aec-8111-42b1054bdf19",
   "metadata": {},
   "outputs": [],
   "source": [
    "print(f'Cross-validation score: {cv_score}\\nTest score: {test_score}')"
   ]
  },
  {
   "cell_type": "code",
   "execution_count": null,
   "id": "4cb411a0-6a99-47cc-9fbb-8565be1842a0",
   "metadata": {},
   "outputs": [],
   "source": [
    "grid_search.cv_results_"
   ]
  },
  {
   "cell_type": "code",
   "execution_count": null,
   "id": "24ef11dd-b4fb-4296-9c05-61f5201a4820",
   "metadata": {},
   "outputs": [],
   "source": [
    "print(\"- Parameters:\", grid_search.best_params_)"
   ]
  },
  {
   "cell_type": "code",
   "execution_count": null,
   "id": "987f243d-d328-46e5-b2b3-e1352dcb174b",
   "metadata": {},
   "outputs": [],
   "source": [
    "# Transforming the result to dataframe format\n",
    "df_results = pd.DataFrame(grid_search.cv_results_)"
   ]
  },
  {
   "cell_type": "code",
   "execution_count": null,
   "id": "dfe2ee41-b76e-4ed0-a933-599f291b1b10",
   "metadata": {},
   "outputs": [],
   "source": [
    "print(\"- Duration:\", round(df_results.iloc[grid_search.best_index_][\"mean_score_time\"], 3))"
   ]
  },
  {
   "cell_type": "markdown",
   "id": "833b42f9-0bd2-43e7-b3a4-b48339ee5cd9",
   "metadata": {
    "tags": []
   },
   "source": [
    "<div class=\"alert alert-block alert-danger\">\n",
    "    <p>PRUEBA 4\n",
    "   </p>\n",
    "</div>"
   ]
  },
  {
   "cell_type": "code",
   "execution_count": null,
   "id": "4a6667ac-6faa-458d-838c-02e41562b745",
   "metadata": {},
   "outputs": [],
   "source": []
  },
  {
   "cell_type": "code",
   "execution_count": null,
   "id": "b991abac-bfe4-4dca-91ef-c88b2e61d932",
   "metadata": {},
   "outputs": [],
   "source": []
  },
  {
   "cell_type": "code",
   "execution_count": null,
   "id": "e6c77b2e-31e9-476b-8b37-17f43b53de31",
   "metadata": {},
   "outputs": [],
   "source": []
  },
  {
   "cell_type": "code",
   "execution_count": null,
   "id": "690756b3-dd8a-498d-88a1-dc24f2369c37",
   "metadata": {},
   "outputs": [],
   "source": []
  },
  {
   "cell_type": "code",
   "execution_count": null,
   "id": "935ab8ad-9916-4ca8-9eb3-cfadaaff118b",
   "metadata": {},
   "outputs": [],
   "source": []
  },
  {
   "cell_type": "code",
   "execution_count": null,
   "id": "a581943e-8eaa-4f9c-8289-44a02daa6519",
   "metadata": {},
   "outputs": [],
   "source": []
  },
  {
   "cell_type": "markdown",
   "id": "7503176a-8be7-4ccf-9a79-8869922240d2",
   "metadata": {
    "tags": []
   },
   "source": [
    "<div class=\"alert alert-block alert-danger\">\n",
    "    <p>PRUEBA 5<br>greater_is_betterbool, default=False\n",
    "   </p>\n",
    "</div>"
   ]
  },
  {
   "cell_type": "code",
   "execution_count": null,
   "id": "2d99dc3c-e0ad-4e81-a6f4-8646828a82a3",
   "metadata": {},
   "outputs": [],
   "source": [
    "from sklearn.metrics import confusion_matrix"
   ]
  },
  {
   "cell_type": "code",
   "execution_count": null,
   "id": "9df85008-5eb7-4d9b-84b9-c42945a54ad4",
   "metadata": {},
   "outputs": [],
   "source": [
    "def custom_score(y_true, y_pred):\n",
    "    \"\"\"\n",
    "    Method used to calculate a score based on the penalization of False Negatives.\n",
    "\n",
    "    Parameters:\n",
    "    -----------------\n",
    "        y_true (series): True values\n",
    "        y_pred (series): Predicted values\n",
    "        \n",
    "    Returns:\n",
    "    -----------------\n",
    "        Score. (float): Score obtained based on the rules defined to measure. \n",
    "    \"\"\"\n",
    "    \n",
    "    # Getting the probability outputs from \"predict_proba\"\n",
    "    threshold = 0.5\n",
    "    y_pred = (y_pred >= threshold).astype(int)\n",
    "    \n",
    "    TN_rate = 1        # Loans that are not in default and were predicted correctly\n",
    "    TP_rate = 1        # Loans that are in default and were predicted correctly\n",
    "    FP_rate = 0        # Loans that are not in default and were predicted incorrectly\n",
    "    FN_rate = -10      # Loans that are in default and were were predicted incorrectly\n",
    "    \n",
    "    # Getting all values based on confusion matrix\n",
    "    (TN, FP, FN, TP) = confusion_matrix(y_true, y_pred).ravel()\n",
    "\n",
    "    # Total of default and not default cases\n",
    "    total_not_default = TN + FP     # Not default cases\n",
    "    total_default = TP + FN         # Default cases \n",
    "    \n",
    "    gain_total = TN*TN_rate + TP*TP_rate + FP*FP_rate + FN*FN_rate\n",
    "    gain_maximun = total_not_default*TN_rate + total_default*TP_rate\n",
    "    gain_minumun = total_not_default*TN_rate + total_default*FN_rate\n",
    "    \n",
    "    # normalize to get score between 0 (baseline) and 1\n",
    "    score = (gain_total - gain_minumun) / (gain_maximun - gain_minumun)\n",
    "    \n",
    "    return score"
   ]
  },
  {
   "cell_type": "code",
   "execution_count": null,
   "id": "ed5708f5-2a3b-4b46-9305-378d013a9c73",
   "metadata": {},
   "outputs": [],
   "source": [
    "from sklearn.metrics import make_scorer"
   ]
  },
  {
   "cell_type": "code",
   "execution_count": null,
   "id": "7399f608-8913-4b70-a0fe-199a9c659095",
   "metadata": {},
   "outputs": [],
   "source": [
    "grid_search = GridSearchCV(estimator=pipeline,\n",
    "                           param_grid=param_grid,\n",
    "                           scoring=\"average_precision\",\n",
    "                           cv=kfold,\n",
    "                           n_jobs=-1, \n",
    "                           return_train_score=True)"
   ]
  },
  {
   "cell_type": "code",
   "execution_count": null,
   "id": "9d2eef73-93f3-47f7-a0a2-3e2cd471b15b",
   "metadata": {},
   "outputs": [],
   "source": [
    "grid_search.fit(X_train, y_train)"
   ]
  },
  {
   "cell_type": "code",
   "execution_count": null,
   "id": "0b998d6d-6f21-45bc-b554-68707c508d7e",
   "metadata": {},
   "outputs": [],
   "source": [
    "cv_score = grid_search.best_score_"
   ]
  },
  {
   "cell_type": "code",
   "execution_count": null,
   "id": "0c0c7d35-5f0c-402a-9239-3f7c0308b73e",
   "metadata": {},
   "outputs": [],
   "source": [
    "test_score = grid_search.score(X_test, y_test)"
   ]
  },
  {
   "cell_type": "code",
   "execution_count": null,
   "id": "6cbddd4d-ac0d-4bf5-873c-2952ed228e30",
   "metadata": {},
   "outputs": [],
   "source": [
    "print(f'Cross-validation score: {cv_score}\\nTest score: {test_score}')"
   ]
  },
  {
   "cell_type": "code",
   "execution_count": null,
   "id": "32aeffc7-486b-4401-a77f-86140edbc602",
   "metadata": {},
   "outputs": [],
   "source": [
    "grid_search.cv_results_"
   ]
  },
  {
   "cell_type": "code",
   "execution_count": null,
   "id": "46dd7f57-8154-4161-9580-dbbbacaf8040",
   "metadata": {},
   "outputs": [],
   "source": [
    "print(\"- Parameters:\", grid_search.best_params_)"
   ]
  },
  {
   "cell_type": "code",
   "execution_count": null,
   "id": "8ead2ddb-9b20-4d7e-a89a-f99cb2b81bda",
   "metadata": {},
   "outputs": [],
   "source": [
    "# Transforming the result to dataframe format\n",
    "df_results = pd.DataFrame(grid_search.cv_results_)"
   ]
  },
  {
   "cell_type": "code",
   "execution_count": null,
   "id": "ef70a2f8-2c48-47bb-bc6e-8a1ac5901a84",
   "metadata": {},
   "outputs": [],
   "source": [
    "print(\"- Duration:\", round(df_results.iloc[grid_search.best_index_][\"mean_score_time\"], 3))"
   ]
  },
  {
   "cell_type": "markdown",
   "id": "65d38bb3-1781-4cc8-80ab-a96bce4d1796",
   "metadata": {
    "tags": []
   },
   "source": [
    "<div class=\"alert alert-block alert-danger\">\n",
    "    <p>PRUEBA 3\n",
    "   </p>\n",
    "</div>"
   ]
  },
  {
   "cell_type": "code",
   "execution_count": null,
   "id": "fa559cee-3178-4cc7-b38d-ccfb9f56e51e",
   "metadata": {},
   "outputs": [],
   "source": []
  },
  {
   "cell_type": "code",
   "execution_count": null,
   "id": "2f26d796-1ae9-41fa-b4e5-e15a8be899b3",
   "metadata": {},
   "outputs": [],
   "source": []
  },
  {
   "cell_type": "code",
   "execution_count": null,
   "id": "b8503c99-17cc-4aa2-aa75-9cb4b0191db5",
   "metadata": {},
   "outputs": [],
   "source": []
  },
  {
   "cell_type": "code",
   "execution_count": null,
   "id": "7c053f3a-ff42-4614-8461-5d7a717c1317",
   "metadata": {},
   "outputs": [],
   "source": []
  },
  {
   "cell_type": "code",
   "execution_count": null,
   "id": "ce754d0f-f8cc-4c8f-a990-43ad33c98085",
   "metadata": {},
   "outputs": [],
   "source": []
  },
  {
   "cell_type": "code",
   "execution_count": null,
   "id": "e9eff293-696d-4d65-a452-aac2ae7836ab",
   "metadata": {},
   "outputs": [],
   "source": []
  },
  {
   "cell_type": "code",
   "execution_count": null,
   "id": "f663a19d-64a6-497c-8f4d-e91dfccc8b70",
   "metadata": {},
   "outputs": [],
   "source": []
  },
  {
   "cell_type": "code",
   "execution_count": null,
   "id": "ac9f5735-a7c4-4bf4-ad9e-41cab4fedac1",
   "metadata": {},
   "outputs": [],
   "source": []
  },
  {
   "cell_type": "code",
   "execution_count": null,
   "id": "8175a633-e68d-47b6-9388-20eae485013d",
   "metadata": {},
   "outputs": [],
   "source": []
  },
  {
   "cell_type": "code",
   "execution_count": null,
   "id": "10a72efd-8e9b-464d-a08b-cb3923cd4f81",
   "metadata": {},
   "outputs": [],
   "source": []
  },
  {
   "cell_type": "code",
   "execution_count": null,
   "id": "f9f15091-c838-4d59-938f-cb8706ff58c3",
   "metadata": {},
   "outputs": [],
   "source": [
    "folds = KFold(n_splits=2, shuffle=True, random_state=42)"
   ]
  },
  {
   "cell_type": "code",
   "execution_count": null,
   "id": "1d1106a9-d8ad-4d2c-a4cb-d818c92c668c",
   "metadata": {},
   "outputs": [],
   "source": [
    "# Create arrays and dataframes to store results\n",
    "oof_preds = np.zeros(df_current_clients.shape[0])\n",
    "feats = [f for f in df_current_clients.columns if f not in [\"TARGET\", \"SK_ID_CURR\", \"SK_ID_BUREAU\", \"SK_ID_PREV\"]]"
   ]
  },
  {
   "cell_type": "code",
   "execution_count": null,
   "id": "9810c94e-380f-4707-a745-f9ec3e5ea8dd",
   "metadata": {},
   "outputs": [],
   "source": [
    "pipeline = imbpipeline(steps = [\n",
    "        ['Smote', smote],\n",
    "        ['LightGBM', LGBMClassifier(colsample_bytree=0.8, subsample=0.8, \n",
    "                                    is_unbalance=False, n_jobs=-1)]\n",
    "    ]\n",
    ")"
   ]
  },
  {
   "cell_type": "code",
   "execution_count": null,
   "id": "7e3d5a1b-84c1-4354-b808-1aec89a6ea0f",
   "metadata": {},
   "outputs": [],
   "source": [
    "sorted(pipeline.get_params().keys())"
   ]
  },
  {
   "cell_type": "code",
   "execution_count": null,
   "id": "8cc02c7a-febf-4bca-bb9d-8acdcdd6893c",
   "metadata": {},
   "outputs": [],
   "source": [
    "param_grid = {\n",
    "    \"LightGBM__n_estimators\" : [8000, 10000, 12000], \n",
    "}"
   ]
  },
  {
   "cell_type": "code",
   "execution_count": null,
   "id": "f8821b6f-c736-4793-a5f5-6ead4dd9ee40",
   "metadata": {},
   "outputs": [],
   "source": [
    "for n_fold, (train_idx, valid_idx) in enumerate(folds.split(df_current_clients[feats], df_current_clients[\"TARGET\"])):\n",
    "    \n",
    "    print(\"\\n\")\n",
    "    \n",
    "    train_x, train_y = df_current_clients[feats].iloc[train_idx], df_current_clients[\"TARGET\"].iloc[train_idx]\n",
    "    valid_x, valid_y = df_current_clients[feats].iloc[valid_idx], df_current_clients[\"TARGET\"].iloc[valid_idx]\n",
    "    \n",
    "    # LightGBM parameters found by Bayesian optimization\n",
    "    clf = LGBMClassifier(\n",
    "        **space_params,\n",
    "        colsample_bytree=0.8, \n",
    "        subsample=0.8,\n",
    "        is_unbalance=False,\n",
    "        n_jobs=-1 \n",
    "    )    "
   ]
  },
  {
   "cell_type": "markdown",
   "id": "335c1cb8-b979-4a7a-8e79-8ca47a1f78be",
   "metadata": {
    "jp-MarkdownHeadingCollapsed": true,
    "tags": []
   },
   "source": [
    "<div style=\"background-color: #506AB9;\" >\n",
    "    <h3 style=\"margin: auto; padding: 20px; color:#fff; \">6.2. SVB</h3>\n",
    "</div>"
   ]
  },
  {
   "cell_type": "markdown",
   "id": "86f1d3e8-b04b-4710-959a-dc9cd627e522",
   "metadata": {
    "tags": []
   },
   "source": [
    "<div style=\"background-color: #506AB9;\" >\n",
    "    <h3 style=\"margin: auto; padding: 20px; color:#fff; \">6.3. RAndom Forest</h3>\n",
    "</div>"
   ]
  },
  {
   "cell_type": "code",
   "execution_count": null,
   "id": "8f51e943-916f-4ef0-94a0-013a7fd8d998",
   "metadata": {},
   "outputs": [],
   "source": []
  }
 ],
 "metadata": {
  "kernelspec": {
   "display_name": "Python 3 (ipykernel)",
   "language": "python",
   "name": "python3"
  },
  "language_info": {
   "codemirror_mode": {
    "name": "ipython",
    "version": 3
   },
   "file_extension": ".py",
   "mimetype": "text/x-python",
   "name": "python",
   "nbconvert_exporter": "python",
   "pygments_lexer": "ipython3",
   "version": "3.9.9"
  }
 },
 "nbformat": 4,
 "nbformat_minor": 5
}
