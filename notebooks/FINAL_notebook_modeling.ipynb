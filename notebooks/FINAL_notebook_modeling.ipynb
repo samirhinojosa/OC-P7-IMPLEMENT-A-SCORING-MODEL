{
 "cells": [
  {
   "cell_type": "markdown",
   "id": "20ff81f9-1cf8-4ccd-ab09-6bad5ce021a3",
   "metadata": {
    "tags": []
   },
   "source": [
    "<div style=\"display: flex; background-color: #3F579F;\">\n",
    "    <h1 style=\"margin: auto; font-weight: bold; padding: 30px 30px 0px 30px; color:#fff;\" align=\"center\">Implement a scoring model - P7</h1>\n",
    "</div>\n",
    "<div style=\"display: flex; background-color: #3F579F; margin: auto; padding: 5px 30px 0px 30px;\" >\n",
    "    <h3 style=\"width: 100%; text-align: center; float: left; font-size: 24px; color:#fff;\" align=\"center\">| Modeling Notebook |</h3>\n",
    "</div>\n",
    "<div style=\"display: flex; background-color: #3F579F; margin: auto; padding: 10px 30px 30px 30px;\">\n",
    "    <h4 style=\"width: 100%; text-align: center; float: left; font-size: 24px; color:#fff;\" align=\"center\">Data Scientist course - OpenClassrooms</h4>\n",
    "</div>"
   ]
  },
  {
   "cell_type": "markdown",
   "id": "638e912d-0022-41ba-b524-6bfef296b9a2",
   "metadata": {
    "tags": []
   },
   "source": [
    "# 1. Libraries"
   ]
  },
  {
   "cell_type": "markdown",
   "id": "0d8d0680-7d7c-46c5-b409-14d1fe219f36",
   "metadata": {},
   "source": [
    "## 1.1 Libraries and functions"
   ]
  },
  {
   "cell_type": "code",
   "execution_count": 1,
   "id": "0325e206-7982-499f-a66f-a39c15dc3833",
   "metadata": {},
   "outputs": [],
   "source": [
    "import pandas as pd\n",
    "\n",
    "## Own specific functions \n",
    "from functions import *"
   ]
  },
  {
   "cell_type": "markdown",
   "id": "c7457013-85cd-4bfc-ac1a-d813552789f6",
   "metadata": {
    "tags": []
   },
   "source": [
    "# 2. Importing files"
   ]
  },
  {
   "cell_type": "markdown",
   "id": "41683988-f809-433f-ae78-b2c51c8ae203",
   "metadata": {
    "tags": []
   },
   "source": [
    "<div class=\"alert alert-block alert-info\">\n",
    "    <p>Let's load the current clients\n",
    "   </p>\n",
    "</div>"
   ]
  },
  {
   "cell_type": "code",
   "execution_count": 2,
   "id": "215612d9-f898-44a9-8464-f80ce85b91b1",
   "metadata": {},
   "outputs": [],
   "source": [
    "df_current_clients = pd.read_csv(r\"datasets\\finals_datasets\\df_current_clients.csv\")"
   ]
  },
  {
   "cell_type": "code",
   "execution_count": 3,
   "id": "0c8ead0e-ec4b-42ac-b615-4ecfea69098e",
   "metadata": {},
   "outputs": [
    {
     "name": "stdout",
     "output_type": "stream",
     "text": [
      "\n",
      "Analysis Header of df_current_clients dataset\n",
      "--------------------------------------------------------------------------------\n",
      "- Dataset shape:\t\t\t 307507 rows and 798 columns\n",
      "- Total of NaN values:\t\t\t 0\n",
      "- Percentage of NaN:\t\t\t 0.0 %\n",
      "- Total of infinite values:\t\t 0\n",
      "- Percentage of infinite values:\t 0.0 %\n",
      "- Total of full duplicates rows:\t 0\n",
      "- Total of empty rows:\t\t\t 0\n",
      "- Total of empty columns:\t\t 0\n",
      "- Unique indexes:\t\t\t True\n",
      "- Memory usage:\t\t\t\t 1.8 GB\n"
     ]
    }
   ],
   "source": [
    "df_analysis(df_current_clients, \"df_current_clients\", analysis_type=\"header\")"
   ]
  },
  {
   "cell_type": "markdown",
   "id": "6e96a5ee-a024-4da3-8a92-801662b81e71",
   "metadata": {},
   "source": [
    "# 3. Analyzing target variable"
   ]
  },
  {
   "cell_type": "markdown",
   "id": "fff9ec31-ef52-41ec-ba27-b89d802247d6",
   "metadata": {
    "tags": []
   },
   "source": [
    "<div class=\"alert alert-block alert-info\">\n",
    "    <p>We are going to analyze the target variable to see whether is an imbalanced class\n",
    "   </p>\n",
    "</div>"
   ]
  },
  {
   "cell_type": "code",
   "execution_count": 4,
   "id": "2ed510e4-cfdc-4634-b45e-80161533ab0a",
   "metadata": {},
   "outputs": [
    {
     "data": {
      "image/png": "[encoded data removed]",
      "text/plain": [
       "<Figure size 648x360 with 2 Axes>"
      ]
     },
     "metadata": {
      "needs_background": "light"
     },
     "output_type": "display_data"
    }
   ],
   "source": [
    "barplot_and_pie(df_current_clients[\"TARGET\"], \"Target distribution\", \" \")"
   ]
  },
  {
   "cell_type": "markdown",
   "id": "1f5f70ae-333e-4a5c-8e27-556353f9f36f",
   "metadata": {
    "tags": []
   },
   "source": [
    "<div class=\"alert alert-block alert-warning\">\n",
    "    <p>Here we can see how much the dataset is imbalanced so, we are facing a imbalanced classification problem</p>\n",
    "    <p>It is easily identifying that there are <b>loans that were repaid (0)</b> in comparison of <b>loans that were not repaid (1)</b></p>   \n",
    "</div>"
   ]
  },
  {
   "cell_type": "code",
   "execution_count": null,
   "id": "ccd00d31-1f03-4267-85ce-b7728f9e817e",
   "metadata": {},
   "outputs": [],
   "source": []
  },
  {
   "cell_type": "markdown",
   "id": "ad9f412e-9b46-4d94-aa7b-a2769da05ab7",
   "metadata": {
    "tags": []
   },
   "source": [
    "<div style=\"background-color: #506AB9;\" >\n",
    "    <h2 style=\"margin: auto; padding: 20px; color:#fff; \">6 Optimizing memory usage</h2>\n",
    "</div>"
   ]
  },
  {
   "cell_type": "markdown",
   "id": "3bf4e5e8-8df0-47cb-be6d-cf84c05610eb",
   "metadata": {
    "tags": []
   },
   "source": [
    "<div class=\"alert alert-block alert-warning\">\n",
    "    <p>We should optimize the memory usage to avoid problems during executions</p>\n",
    "</div>"
   ]
  },
  {
   "cell_type": "code",
   "execution_count": 13,
   "id": "9acc4f44-77b9-4ba2-a8f6-3a301916c0b6",
   "metadata": {},
   "outputs": [],
   "source": [
    "df_current_clients[\"TARGET\"].fillna(value=-99, inplace=True)\n",
    "df_current_clients[\"TARGET\"] = df_current_clients[\"TARGET\"].astype(\"int8\")\n",
    "df_current_clients[\"TARGET\"] = df_current_clients[\"TARGET\"].replace(-99, np.nan)"
   ]
  },
  {
   "cell_type": "code",
   "execution_count": 5,
   "id": "a6403ab0-ba48-4813-8dde-326a2c505bc3",
   "metadata": {},
   "outputs": [],
   "source": [
    "for col in df_current_clients.columns:\n",
    "    if df_current_clients[col].dtype == \"int64\" and df_current_clients[col].nunique() == 2:\n",
    "        df_current_clients[col] = df_current_clients[col].astype(\"int8\")"
   ]
  },
  {
   "cell_type": "code",
   "execution_count": null,
   "id": "2314e9d7-e9e0-4015-9414-d44b6dcc5b05",
   "metadata": {},
   "outputs": [],
   "source": [
    "for col in df_current_clients.columns:\n",
    "    if df_current_clients[col].dtype == \"float64\" and df_current_clients[col].min() >= -2147483648 and df_current_clients[col].max() <= 2147483648:\n",
    "        df_current_clients[col] = df_current_clients[col].astype(\"float32\")"
   ]
  },
  {
   "cell_type": "code",
   "execution_count": null,
   "id": "bfea9bff-c2e3-434b-805f-7894ce042f83",
   "metadata": {},
   "outputs": [],
   "source": [
    "df_analysis(df, \"df\", analysis_type=\"header\")"
   ]
  },
  {
   "cell_type": "code",
   "execution_count": null,
   "id": "245e470a-a7bb-4a82-a610-5c5cc0f4175a",
   "metadata": {},
   "outputs": [],
   "source": []
  }
 ],
 "metadata": {
  "kernelspec": {
   "display_name": "Python 3 (ipykernel)",
   "language": "python",
   "name": "python3"
  },
  "language_info": {
   "codemirror_mode": {
    "name": "ipython",
    "version": 3
   },
   "file_extension": ".py",
   "mimetype": "text/x-python",
   "name": "python",
   "nbconvert_exporter": "python",
   "pygments_lexer": "ipython3",
   "version": "3.9.9"
  }
 },
 "nbformat": 4,
 "nbformat_minor": 5
}
