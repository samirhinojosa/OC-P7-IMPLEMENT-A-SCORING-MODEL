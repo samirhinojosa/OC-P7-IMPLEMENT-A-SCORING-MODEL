{
 "cells": [
  {
   "cell_type": "markdown",
   "id": "20ff81f9-1cf8-4ccd-ab09-6bad5ce021a3",
   "metadata": {
    "tags": []
   },
   "source": [
    "<div style=\"display: flex; background-color: #3F579F;\">\n",
    "    <h1 style=\"margin: auto; font-weight: bold; padding: 30px 30px 0px 30px; color:#fff;\" align=\"center\">Implement a scoring model - P7</h1>\n",
    "</div>\n",
    "<div style=\"display: flex; background-color: #3F579F; margin: auto; padding: 5px 30px 0px 30px;\" >\n",
    "    <h3 style=\"width: 100%; text-align: center; float: left; font-size: 24px; color:#fff;\" align=\"center\">| Modeling Notebook |</h3>\n",
    "</div>\n",
    "<div style=\"display: flex; background-color: #3F579F; margin: auto; padding: 10px 30px 30px 30px;\">\n",
    "    <h4 style=\"width: 100%; text-align: center; float: left; font-size: 24px; color:#fff;\" align=\"center\">Data Scientist course - OpenClassrooms</h4>\n",
    "</div>"
   ]
  },
  {
   "cell_type": "markdown",
   "id": "1e01b79b-65bb-4767-b047-712d0b3e382b",
   "metadata": {
    "tags": []
   },
   "source": [
    "<div style=\"background-color: #506AB9;\" >\n",
    "    <h2 style=\"margin: auto; padding: 20px; color:#fff; \">1. Libraries</h2>\n",
    "</div>"
   ]
  },
  {
   "cell_type": "markdown",
   "id": "5e7118a2-b6ba-41fd-bcae-5a4b9806678d",
   "metadata": {
    "tags": []
   },
   "source": [
    "<div style=\"background-color: #506AB9;\" >\n",
    "    <h3 style=\"margin: auto; padding: 20px; color:#fff; \">1.1 Libraries</h3>\n",
    "</div>"
   ]
  },
  {
   "cell_type": "code",
   "execution_count": 1,
   "id": "0325e206-7982-499f-a66f-a39c15dc3833",
   "metadata": {},
   "outputs": [],
   "source": [
    "## General\n",
    "import re\n",
    "import pandas as pd\n",
    "import numpy as np\n",
    "\n",
    "## Scikit Learn library\n",
    "from sklearn.model_selection import train_test_split, StratifiedKFold, GridSearchCV\n",
    "from sklearn.metrics import confusion_matrix\n",
    "\n",
    "## imbalanced-learn\n",
    "from imblearn.pipeline import Pipeline as imbpipeline\n",
    "from imblearn.over_sampling import SMOTE\n",
    "\n",
    "## LightGBM\n",
    "from lightgbm import LGBMClassifier\n",
    "\n",
    "## Own specific functions \n",
    "from functions import *"
   ]
  },
  {
   "cell_type": "markdown",
   "id": "9cfedc1e-8800-4d6c-8f97-bd3c48a84455",
   "metadata": {
    "tags": []
   },
   "source": [
    "<div style=\"background-color: #506AB9;\" >\n",
    "    <h2 style=\"margin: auto; padding: 20px; color:#fff; \">2. Importing files</h2>\n",
    "</div>"
   ]
  },
  {
   "cell_type": "markdown",
   "id": "41683988-f809-433f-ae78-b2c51c8ae203",
   "metadata": {
    "tags": []
   },
   "source": [
    "<div class=\"alert alert-block alert-info\">\n",
    "    <p>Let's load the current clients\n",
    "   </p>\n",
    "</div>"
   ]
  },
  {
   "cell_type": "code",
   "execution_count": 2,
   "id": "215612d9-f898-44a9-8464-f80ce85b91b1",
   "metadata": {},
   "outputs": [],
   "source": [
    "df_current_clients = pd.read_csv(r\"datasets\\finals_datasets\\df_current_clients.csv\", nrows=30000)"
   ]
  },
  {
   "cell_type": "code",
   "execution_count": 3,
   "id": "0c8ead0e-ec4b-42ac-b615-4ecfea69098e",
   "metadata": {},
   "outputs": [
    {
     "name": "stdout",
     "output_type": "stream",
     "text": [
      "\n",
      "Analysis Header of df_current_clients dataset\n",
      "--------------------------------------------------------------------------------\n",
      "- Dataset shape:\t\t\t 30000 rows and 509 columns\n",
      "- Total of NaN values:\t\t\t 0\n",
      "- Percentage of NaN:\t\t\t 0.0 %\n",
      "- Total of infinite values:\t\t 0\n",
      "- Percentage of infinite values:\t 0.0 %\n",
      "- Total of full duplicates rows:\t 0\n",
      "- Total of empty rows:\t\t\t 0\n",
      "- Total of empty columns:\t\t 0\n",
      "- Unique indexes:\t\t\t True\n",
      "- Memory usage:\t\t\t\t 116.5 MB\n"
     ]
    }
   ],
   "source": [
    "df_analysis(df_current_clients, \"df_current_clients\", analysis_type=\"header\")"
   ]
  },
  {
   "cell_type": "markdown",
   "id": "711176d3-9221-440c-92f6-8d6e897db5a6",
   "metadata": {
    "tags": []
   },
   "source": [
    "<div class=\"alert alert-block alert-success\">\n",
    "    <p><b>Observations / Conclusions</b></p>\n",
    "    <p>After making the preprocessing, we achieved 0.0% of missing-values.</p>\n",
    "</div>"
   ]
  },
  {
   "cell_type": "markdown",
   "id": "26779a37-d538-4ab1-a695-ed359e3d2cdd",
   "metadata": {
    "tags": []
   },
   "source": [
    "<div style=\"background-color: #506AB9;\" >\n",
    "    <h2 style=\"margin: auto; padding: 20px; color:#fff; \">3. Optimizing memory usage</h2>\n",
    "</div>"
   ]
  },
  {
   "cell_type": "markdown",
   "id": "3bf4e5e8-8df0-47cb-be6d-cf84c05610eb",
   "metadata": {
    "tags": []
   },
   "source": [
    "<div class=\"alert alert-block alert-warning\">\n",
    "    <p>We should optimize the memory usage to avoid problems during executions</p>\n",
    "</div>"
   ]
  },
  {
   "cell_type": "code",
   "execution_count": 4,
   "id": "c18179a9-06ed-4976-9466-b360f6b125ff",
   "metadata": {},
   "outputs": [],
   "source": [
    "df_current_clients = memory_optimization(df_current_clients)"
   ]
  },
  {
   "cell_type": "code",
   "execution_count": 5,
   "id": "bfea9bff-c2e3-434b-805f-7894ce042f83",
   "metadata": {},
   "outputs": [
    {
     "name": "stdout",
     "output_type": "stream",
     "text": [
      "\n",
      "Analysis Header of df dataset\n",
      "--------------------------------------------------------------------------------\n",
      "- Dataset shape:\t\t\t 30000 rows and 509 columns\n",
      "- Total of NaN values:\t\t\t 0\n",
      "- Percentage of NaN:\t\t\t 0.0 %\n",
      "- Total of infinite values:\t\t 0\n",
      "- Percentage of infinite values:\t 0.0 %\n",
      "- Total of full duplicates rows:\t 0\n",
      "- Total of empty rows:\t\t\t 0\n",
      "- Total of empty columns:\t\t 0\n",
      "- Unique indexes:\t\t\t True\n",
      "- Memory usage:\t\t\t\t 45.5 MB\n"
     ]
    }
   ],
   "source": [
    "df_analysis(df_current_clients, \"df\", analysis_type=\"header\")"
   ]
  },
  {
   "cell_type": "markdown",
   "id": "4bcd4990-0cf8-4133-8adc-83c9bba6287e",
   "metadata": {
    "tags": []
   },
   "source": [
    "<div class=\"alert alert-block alert-success\">\n",
    "    <p><b>Observations / Conclusions</b></p>\n",
    "    <p>The memory usage has been reduced.</p>\n",
    "</div>"
   ]
  },
  {
   "cell_type": "markdown",
   "id": "dd3127bc-8358-4919-a8e5-6185b4785479",
   "metadata": {
    "tags": []
   },
   "source": [
    "<div style=\"background-color: #506AB9;\" >\n",
    "    <h2 style=\"margin: auto; padding: 20px; color:#fff; \">4. Analyzing target variable</h2>\n",
    "</div>"
   ]
  },
  {
   "cell_type": "markdown",
   "id": "fff9ec31-ef52-41ec-ba27-b89d802247d6",
   "metadata": {
    "tags": []
   },
   "source": [
    "<div class=\"alert alert-block alert-info\">\n",
    "    <p>We are going to analyze the target variable to see whether is an imbalanced class\n",
    "   </p>\n",
    "</div>"
   ]
  },
  {
   "cell_type": "code",
   "execution_count": 6,
   "id": "2ed510e4-cfdc-4634-b45e-80161533ab0a",
   "metadata": {},
   "outputs": [
    {
     "data": {
      "image/png": "[encoded data removed]",
      "text/plain": [
       "<Figure size 648x360 with 2 Axes>"
      ]
     },
     "metadata": {
      "needs_background": "light"
     },
     "output_type": "display_data"
    }
   ],
   "source": [
    "barplot_and_pie(df_current_clients[\"TARGET\"], \"Target distribution\", \" \")"
   ]
  },
  {
   "cell_type": "markdown",
   "id": "1f5f70ae-333e-4a5c-8e27-556353f9f36f",
   "metadata": {
    "tags": []
   },
   "source": [
    "<div class=\"alert alert-block alert-warning\">\n",
    "    <p><b>Observations / Conclusions</b></p>\n",
    "    <ul style=\"list-style-type: square;\">\n",
    "        <li>Here we can see how much the dataset is imbalanced so, we are facing a imbalanced classification problem</li>\n",
    "        <li>It is easily identifying that there are <b>loans that were repaid (0)</b> in comparison of <b>loans that were not repaid (1)</b>s</li>\n",
    "        <li>We are going to treat the imbalanced class into a pipeline during the modeling</li>\n",
    "    </ul> \n",
    "</div>"
   ]
  },
  {
   "cell_type": "markdown",
   "id": "8a27929c-6698-4788-bc3e-bfdc21861cf2",
   "metadata": {
    "tags": []
   },
   "source": [
    "<div style=\"background-color: #506AB9;\" >\n",
    "    <h2 style=\"margin: auto; padding: 20px; color:#fff; \">5. Splitting data</h2>\n",
    "</div>"
   ]
  },
  {
   "cell_type": "markdown",
   "id": "7e82947b-3e4f-4255-9add-aa8333cc2f8f",
   "metadata": {
    "tags": []
   },
   "source": [
    "<div class=\"alert alert-block alert-info\">\n",
    "    <p>First of all, let's identify the training columns in the dataset\n",
    "   </p>\n",
    "</div>"
   ]
  },
  {
   "cell_type": "code",
   "execution_count": 7,
   "id": "c39d8e56-a581-4e7a-9b84-3e24ad984e84",
   "metadata": {},
   "outputs": [],
   "source": [
    "NOT_TRAINING_COLUMNS  = [\"TARGET\", \"SK_ID_CURR\", \"SK_ID_BUREAU\", \"SK_ID_PREV\", \"index\"] \n",
    "TRAINING_COLUMNS = [col for col in df_current_clients.columns if col not in NOT_TRAINING_COLUMNS]"
   ]
  },
  {
   "cell_type": "markdown",
   "id": "895e5df8-8a77-42ce-86cd-681a68e52c02",
   "metadata": {
    "tags": []
   },
   "source": [
    "<div class=\"alert alert-block alert-info\">\n",
    "    <p>Now, we are going to split the data\n",
    "   </p>\n",
    "</div>"
   ]
  },
  {
   "cell_type": "code",
   "execution_count": 8,
   "id": "ccd00d31-1f03-4267-85ce-b7728f9e817e",
   "metadata": {},
   "outputs": [],
   "source": [
    "X = df_current_clients[TRAINING_COLUMNS]"
   ]
  },
  {
   "cell_type": "code",
   "execution_count": 9,
   "id": "245e470a-a7bb-4a82-a610-5c5cc0f4175a",
   "metadata": {},
   "outputs": [],
   "source": [
    "y_target = df_current_clients.loc[:,\"TARGET\"]"
   ]
  },
  {
   "cell_type": "code",
   "execution_count": 10,
   "id": "e140ee4c-4a90-4a47-9643-624bb319f9e8",
   "metadata": {},
   "outputs": [],
   "source": [
    "X_train, X_test, y_train, y_test = train_test_split(X, y_target, test_size=0.20, random_state=42)"
   ]
  },
  {
   "cell_type": "code",
   "execution_count": 11,
   "id": "a8d16465-c6e1-4981-9a22-8be2e61fff63",
   "metadata": {},
   "outputs": [
    {
     "name": "stdout",
     "output_type": "stream",
     "text": [
      "X_train: (24000, 506)\n",
      "y_train: (24000,)\n",
      "---------------------\n",
      "X_test: (6000, 506)\n",
      "y_test: (6000,)\n"
     ]
    }
   ],
   "source": [
    "print(\"X_train: {}\".format(X_train.shape))\n",
    "print(\"y_train: {}\".format(y_train.shape))\n",
    "print(\"---------------------\")\n",
    "print(\"X_test: {}\".format(X_test.shape))\n",
    "print(\"y_test: {}\".format(y_test.shape))"
   ]
  },
  {
   "cell_type": "markdown",
   "id": "f135ae94-c97a-480c-8eb2-5765f4ea3499",
   "metadata": {
    "tags": []
   },
   "source": [
    "<div style=\"background-color: #506AB9;\" >\n",
    "    <h2 style=\"margin: auto; padding: 20px; color:#fff; \">6. Modelisation</h2>\n",
    "</div>"
   ]
  },
  {
   "cell_type": "markdown",
   "id": "fa710ad7-0ed6-41c4-ac24-3ea2feec65e8",
   "metadata": {
    "tags": []
   },
   "source": [
    "<div class=\"alert alert-block alert-info\">\n",
    "    <p>We are going to face an <b>Unbalanced Classification Problem</b> and we are going to use three models</p>\n",
    "    <ul style=\"list-style-type: square;\">\n",
    "        <li>Random Forest Classifier</li>\n",
    "        <li>Support Vector Machine</li>\n",
    "        <li>LightGBM</li>\n",
    "    </ul>\n",
    "    <p>Also, we are going to use a Cost Function to penalize the Falses Positives</p>\n",
    "    <p>So, let's define the parameters to use throughout the three models</p>\n",
    "</div>"
   ]
  },
  {
   "cell_type": "markdown",
   "id": "b837293e-c55a-4fc5-b424-ad78cb4c7d56",
   "metadata": {
    "tags": []
   },
   "source": [
    "<div style=\"background-color: #506AB9;\" >\n",
    "    <h3 style=\"margin: auto; padding: 20px; color:#fff; \">6.1. Parameters</h3>\n",
    "</div>"
   ]
  },
  {
   "cell_type": "markdown",
   "id": "044f7a02-c9ae-4aa1-bbe0-fb5754ed7a03",
   "metadata": {
    "tags": []
   },
   "source": [
    "<div style=\"background-color: #506AB9;\" >\n",
    "    <h4 style=\"margin: auto; padding: 20px; color:#fff; \">6.1.1. Custom Score</h4>\n",
    "</div>"
   ]
  },
  {
   "cell_type": "markdown",
   "id": "1f383385-ef3d-4b47-8b7b-384f323b636d",
   "metadata": {
    "tags": []
   },
   "source": [
    "<div class=\"alert alert-block alert-info\">\n",
    "    <p>We need to penalize the <b>False Negative</b> that are loands <b>will be in default</b>, and they were <b>predicted incorrectly</b>. Due to that, we are going to define a <b>Custom Score</b>.\n",
    "    </p>\n",
    "</div>"
   ]
  },
  {
   "cell_type": "markdown",
   "id": "873a3da1-0223-4370-b6f9-52e83946a680",
   "metadata": {},
   "source": [
    "def custom_score(y_true, y_pred):\n",
    "    \"\"\"\n",
    "    Method used to calculate a score based on the penalization of False Negatives.\n",
    "\n",
    "    Parameters:\n",
    "    -----------------\n",
    "        y_true (series): True values\n",
    "        y_pred (series): Predicted values\n",
    "        \n",
    "    Returns:\n",
    "    -----------------\n",
    "        Score. (float): Score obtained based on the rules defined to measure. \n",
    "    \"\"\"\n",
    "    \n",
    "    TN_rate = 1        # Loans that are not in default and were predicted correctly\n",
    "    TP_rate = 1        # Loans that are in default and were predicted correctly\n",
    "    FP_rate = 0        # Loans that are not in default and were predicted incorrectly\n",
    "    FN_rate = -100     # Loans that are in default and were were predicted incorrectly\n",
    "    \n",
    "    \n",
    "    \n",
    "    \n",
    "    \n",
    "    \n",
    "    \n",
    "    # Getting all values based on confusion matrix\n",
    "       ## (TN, FP, FN, TP) = confusion_matrix(y_true, y_pred).ravel()\n",
    "\n",
    "    # Total of default and not default cases\n",
    "       ## total_not_default = TN + FP     # Not default cases\n",
    "       ## total_default = TP + FN         # Default cases \n",
    "    \n",
    "       ## gain_total = TN*TN_rate + TP*TP_rate + FP*FP_rate + FN*FN_rate\n",
    "       ## gain_maximun = total_not_default*TN_rate + total_default*TP_rate\n",
    "       ## gain_minumun = total_not_default*TN_rate + total_default*FN_rate\n",
    "    \n",
    "    # normalize to get score between 0 (baseline) and 1\n",
    "       ## score = (gain_total - gain_minumun) / (gain_maximun - gain_minumun)\n",
    "    (tn, fp, fn, tp) = confusion_matrix(y_true, y_pred, labels=[0, 1]).ravel()\n",
    "    \n",
    "    total = (TN_rate*tn + FP_rate*fp + FN_rate*fn + TP_rate*tp)\n",
    "\n",
    "    #calcul du gain maximal que peut avoir la banque quand il n'y a pas de perte d'argent. C'est à dire que le modèle ne détecte que TN et les TP.\n",
    "    max_gain = (tn + fp)*TN_rate + (tp + fn)*TP_rate\n",
    "\n",
    "    #calcul du gain minimal (perte) que peut avoir la banque quand il n'y a pas de gain d'argent. C'est à dire que le modèle ne détecte que FN et les FP.\n",
    "    min_gain = (tn + fp)*FP_rate + (tp + fn)*FN_rate\n",
    "\n",
    "    #normalisation min-max feature scalling : score= (tot-min)/(max-min) https://en.wikipedia.org/wiki/Normalization_(statistics) \n",
    "    score = (total - min_gain)/(max_gain - min_gain)\n",
    "\n",
    "    \n",
    "    return score"
   ]
  },
  {
   "cell_type": "markdown",
   "id": "0209ceb1-3255-4fbd-ae78-16fd89ff185a",
   "metadata": {
    "tags": []
   },
   "source": [
    "<div style=\"background-color: #506AB9;\" >\n",
    "    <h4 style=\"margin: auto; padding: 20px; color:#fff; \">6.1.2. Others parameters</h4>\n",
    "</div>"
   ]
  },
  {
   "cell_type": "markdown",
   "id": "1c6904a8-b636-4ee4-8488-e4eb80f03fc8",
   "metadata": {
    "tags": []
   },
   "source": [
    "<div class=\"alert alert-block alert-info\">\n",
    "    <p>To treat the unbalanced class, we are going t implement OverSampling technique with SMOTE.</p>\n",
    "</div>"
   ]
  },
  {
   "cell_type": "code",
   "execution_count": 12,
   "id": "d0cf51d0-bf8e-4929-92ce-e5e15054a298",
   "metadata": {},
   "outputs": [],
   "source": [
    "smote = SMOTE(random_state=42, n_jobs=-1)"
   ]
  },
  {
   "cell_type": "markdown",
   "id": "4b1d3102-18dc-4558-af8b-238bd1914681",
   "metadata": {
    "tags": []
   },
   "source": [
    "<div class=\"alert alert-block alert-info\">\n",
    "    <p>Also, we are going to use Stratified K-Folds cross-validator to ensure that each fold of dataset has the same proportion of observations with a given label.</p>\n",
    "</div>"
   ]
  },
  {
   "cell_type": "code",
   "execution_count": 13,
   "id": "8e8ced75-9473-4405-a4f9-c0f15eeeba34",
   "metadata": {},
   "outputs": [],
   "source": [
    "stratified_kfold = StratifiedKFold(n_splits=3, shuffle=True, random_state=0)"
   ]
  },
  {
   "cell_type": "markdown",
   "id": "dea2f249-923d-4cfe-af56-a8c91d328753",
   "metadata": {
    "tags": []
   },
   "source": [
    "<div class=\"alert alert-block alert-info\">\n",
    "    <p>Finally, we are going to get the following metrics.</p>\n",
    "</div>"
   ]
  },
  {
   "cell_type": "code",
   "execution_count": 66,
   "id": "8b5bfb13-cf18-4503-8d93-707a374e41da",
   "metadata": {},
   "outputs": [],
   "source": [
    "SCORINGS = {\n",
    "    \"roc_auc\" : \"roc_auc\",\n",
    "    \"recall\" : \"recall\", \n",
    "    \"f1\" : \"f1\", \n",
    "    #\"custom_score\" : make_scorer(custom_score)\n",
    "}"
   ]
  },
  {
   "cell_type": "markdown",
   "id": "351afa3e-d960-4780-968a-9dd469f5fadf",
   "metadata": {
    "tags": []
   },
   "source": [
    "<div style=\"background-color: #506AB9;\" >\n",
    "    <h3 style=\"margin: auto; padding: 20px; color:#fff; \">6.2. Models</h3>\n",
    "</div>"
   ]
  },
  {
   "cell_type": "markdown",
   "id": "6a60487d-6b34-43a3-819d-2a2c4ff29249",
   "metadata": {
    "tags": []
   },
   "source": [
    "<div style=\"background-color: #506AB9;\" >\n",
    "    <h4 style=\"margin: auto; padding: 20px; color:#fff; \">6.3.1. LightGBM</h4>\n",
    "</div>"
   ]
  },
  {
   "cell_type": "markdown",
   "id": "6d255ad8-0f37-46e9-95d8-4f7e5a171c57",
   "metadata": {
    "tags": []
   },
   "source": [
    "<div class=\"alert alert-block alert-info\">\n",
    "    <p>Let's define the pipeline to put inside it the defined SMOTE</p>\n",
    "    <p>We are going to use most of parameters used in the kernel selected</p>\n",
    "</div>"
   ]
  },
  {
   "cell_type": "code",
   "execution_count": 62,
   "id": "7ac380f6-6eda-4233-b0ff-351425614020",
   "metadata": {},
   "outputs": [],
   "source": [
    "lgbm = imbpipeline(steps = [[\"Smote\", smote],\n",
    "                           [\"LightGBM\", LGBMClassifier(metric=\"None\",\n",
    "                                                       n_estimators=10000,\n",
    "                                                       learning_rate=0.02,\n",
    "                                                       num_leaves=34,\n",
    "                                                       colsample_bytree=0.9497036,\n",
    "                                                       subsample=0.8715623,\n",
    "                                                       max_depth=8,\n",
    "                                                       reg_alpha=0.041545473,\n",
    "                                                       reg_lambda=0.0735294,\n",
    "                                                       min_split_gain=0.0222415,\n",
    "                                                       min_child_weight=39.3259775,\n",
    "                                                       n_jobs=-1)]\n",
    "                          ]\n",
    "                 )"
   ]
  },
  {
   "cell_type": "markdown",
   "id": "fa8c4906-18bd-43ef-8549-0d73b3fe5d93",
   "metadata": {
    "tags": []
   },
   "source": [
    "<div class=\"alert alert-block alert-info\">\n",
    "    <p>Parameters settings</p>\n",
    "</div>"
   ]
  },
  {
   "cell_type": "code",
   "execution_count": 63,
   "id": "14ff3e16-9f4b-446a-809d-1413fb3ec1ca",
   "metadata": {},
   "outputs": [],
   "source": [
    "param_grid = {\n",
    "    \"LightGBM__n_estimators\" : [10000],#\"LightGBM__n_estimators\" : [8000, 10000],\n",
    "    #\"LightGBM__num_leaves\" : [32, 34], \n",
    "    #\"LightGBM__max_depth\" : [8, 9]\n",
    "}"
   ]
  },
  {
   "cell_type": "markdown",
   "id": "a3df44b9-44e1-4c7d-983f-eb2b9ef89511",
   "metadata": {
    "tags": []
   },
   "source": [
    "<div class=\"alert alert-block alert-info\">\n",
    "    <p>Executing the model</p>\n",
    "</div>"
   ]
  },
  {
   "cell_type": "code",
   "execution_count": 64,
   "id": "012016be-8387-4def-8ca3-5d60b418ca55",
   "metadata": {},
   "outputs": [],
   "source": [
    "search_lgbm = GridSearchCV(estimator=lgbm,\n",
    "                           param_grid=param_grid,\n",
    "                           scoring=\"roc_auc\",\n",
    "                           cv=stratified_kfold,\n",
    "                           n_jobs=-1,\n",
    "                           return_train_score=True)"
   ]
  },
  {
   "cell_type": "code",
   "execution_count": 65,
   "id": "3ba6ec88-73ac-4fd3-81e4-a8df8ce485e7",
   "metadata": {},
   "outputs": [
    {
     "data": {
      "text/plain": [
       "GridSearchCV(cv=StratifiedKFold(n_splits=3, random_state=0, shuffle=True),\n",
       "             estimator=Pipeline(steps=[['Smote',\n",
       "                                        SMOTE(n_jobs=-1, random_state=42)],\n",
       "                                       ['LightGBM',\n",
       "                                        LGBMClassifier(colsample_bytree=0.9497036,\n",
       "                                                       learning_rate=0.02,\n",
       "                                                       max_depth=8,\n",
       "                                                       metric='None',\n",
       "                                                       min_child_weight=39.3259775,\n",
       "                                                       min_split_gain=0.0222415,\n",
       "                                                       n_estimators=10000,\n",
       "                                                       num_leaves=34,\n",
       "                                                       reg_alpha=0.041545473,\n",
       "                                                       reg_lambda=0.0735294,\n",
       "                                                       subsample=0.8715623)]]),\n",
       "             n_jobs=-1, param_grid={'LightGBM__n_estimators': [10000]},\n",
       "             return_train_score=True, scoring='roc_auc')"
      ]
     },
     "execution_count": 65,
     "metadata": {},
     "output_type": "execute_result"
    }
   ],
   "source": [
    "search_lgbm.fit(X_train, y_train)"
   ]
  },
  {
   "cell_type": "code",
   "execution_count": null,
   "id": "77bff297-35f9-4566-8c55-408cfdbec0dd",
   "metadata": {},
   "outputs": [],
   "source": []
  },
  {
   "cell_type": "code",
   "execution_count": null,
   "id": "882ca7d0-52e3-40de-a78d-a49d793c82d6",
   "metadata": {},
   "outputs": [],
   "source": []
  },
  {
   "cell_type": "code",
   "execution_count": null,
   "id": "c60e4e12-c439-46d4-9d7a-f7b0b00332e2",
   "metadata": {},
   "outputs": [],
   "source": []
  },
  {
   "cell_type": "code",
   "execution_count": null,
   "id": "ade250e4-fcb6-4b4d-948b-b9ca5bb22e60",
   "metadata": {},
   "outputs": [],
   "source": []
  },
  {
   "cell_type": "code",
   "execution_count": null,
   "id": "c903c674-c08a-463c-83a5-60dfec59e1f4",
   "metadata": {},
   "outputs": [],
   "source": []
  },
  {
   "cell_type": "code",
   "execution_count": 67,
   "id": "9b3a9d4f-6e8a-44a5-81c7-711230a0810c",
   "metadata": {},
   "outputs": [],
   "source": [
    "search_lgbmXX = GridSearchCV(estimator=lgbm,\n",
    "                           param_grid=param_grid,\n",
    "                           scoring=SCORINGS,\n",
    "                           refit=\"roc_auc\",\n",
    "                           cv=stratified_kfold,\n",
    "                           n_jobs=-1,\n",
    "                           return_train_score=True)"
   ]
  },
  {
   "cell_type": "code",
   "execution_count": 68,
   "id": "a1d45c80-4049-433d-98f0-cb8f5ea41395",
   "metadata": {},
   "outputs": [
    {
     "data": {
      "text/plain": [
       "GridSearchCV(cv=StratifiedKFold(n_splits=3, random_state=0, shuffle=True),\n",
       "             estimator=Pipeline(steps=[['Smote',\n",
       "                                        SMOTE(n_jobs=-1, random_state=42)],\n",
       "                                       ['LightGBM',\n",
       "                                        LGBMClassifier(colsample_bytree=0.9497036,\n",
       "                                                       learning_rate=0.02,\n",
       "                                                       max_depth=8,\n",
       "                                                       metric='None',\n",
       "                                                       min_child_weight=39.3259775,\n",
       "                                                       min_split_gain=0.0222415,\n",
       "                                                       n_estimators=10000,\n",
       "                                                       num_leaves=34,\n",
       "                                                       reg_alpha=0.041545473,\n",
       "                                                       reg_lambda=0.0735294,\n",
       "                                                       subsample=0.8715623)]]),\n",
       "             n_jobs=-1, param_grid={'LightGBM__n_estimators': [10000]},\n",
       "             refit='roc_auc', return_train_score=True,\n",
       "             scoring={'f1': 'f1', 'recall': 'recall', 'roc_auc': 'roc_auc'})"
      ]
     },
     "execution_count": 68,
     "metadata": {},
     "output_type": "execute_result"
    }
   ],
   "source": [
    "search_lgbmXX.fit(X_train, y_train)"
   ]
  },
  {
   "cell_type": "code",
   "execution_count": 69,
   "id": "703058ec-5c72-4215-a9a6-711d2c1b67f2",
   "metadata": {},
   "outputs": [
    {
     "data": {
      "text/plain": [
       "0.7104709302348828"
      ]
     },
     "execution_count": 69,
     "metadata": {},
     "output_type": "execute_result"
    }
   ],
   "source": [
    "search_lgbmXX.best_score_"
   ]
  },
  {
   "cell_type": "code",
   "execution_count": 71,
   "id": "3782e5ee-9a63-4fbc-8b61-f032df669d28",
   "metadata": {},
   "outputs": [
    {
     "data": {
      "text/plain": [
       "{'mean_fit_time': array([548.41478038]),\n",
       " 'std_fit_time': array([0.73630843]),\n",
       " 'mean_score_time': array([34.59602706]),\n",
       " 'std_score_time': array([0.34061875]),\n",
       " 'param_LightGBM__n_estimators': masked_array(data=[10000],\n",
       "              mask=[False],\n",
       "        fill_value='?',\n",
       "             dtype=object),\n",
       " 'params': [{'LightGBM__n_estimators': 10000}],\n",
       " 'split0_test_roc_auc': array([0.71138563]),\n",
       " 'split1_test_roc_auc': array([0.71083421]),\n",
       " 'split2_test_roc_auc': array([0.70919295]),\n",
       " 'mean_test_roc_auc': array([0.71047093]),\n",
       " 'std_test_roc_auc': array([0.00093128]),\n",
       " 'rank_test_roc_auc': array([1]),\n",
       " 'split0_train_roc_auc': array([1.]),\n",
       " 'split1_train_roc_auc': array([1.]),\n",
       " 'split2_train_roc_auc': array([1.]),\n",
       " 'mean_train_roc_auc': array([1.]),\n",
       " 'std_train_roc_auc': array([0.]),\n",
       " 'split0_test_recall': array([0.07366771]),\n",
       " 'split1_test_recall': array([0.06583072]),\n",
       " 'split2_test_recall': array([0.07355243]),\n",
       " 'mean_test_recall': array([0.07101695]),\n",
       " 'std_test_recall': array([0.00366752]),\n",
       " 'rank_test_recall': array([1]),\n",
       " 'split0_train_recall': array([0.99765074]),\n",
       " 'split1_train_recall': array([0.99921691]),\n",
       " 'split2_train_recall': array([0.9984326]),\n",
       " 'mean_train_recall': array([0.99843342]),\n",
       " 'std_train_recall': array([0.00063939]),\n",
       " 'split0_test_f1': array([0.124834]),\n",
       " 'split1_test_f1': array([0.10923277]),\n",
       " 'split2_test_f1': array([0.12651413]),\n",
       " 'mean_test_f1': array([0.12019363]),\n",
       " 'std_test_f1': array([0.00778079]),\n",
       " 'rank_test_f1': array([1]),\n",
       " 'split0_train_f1': array([0.99882399]),\n",
       " 'split1_train_f1': array([0.9996083]),\n",
       " 'split2_train_f1': array([0.99921569]),\n",
       " 'mean_train_f1': array([0.99921599]),\n",
       " 'std_train_f1': array([0.00032019])}"
      ]
     },
     "execution_count": 71,
     "metadata": {},
     "output_type": "execute_result"
    }
   ],
   "source": [
    "search_lgbmXX.cv_results_"
   ]
  },
  {
   "cell_type": "code",
   "execution_count": 77,
   "id": "f0c78a16-d6f7-4f95-ae30-1a29a687be6a",
   "metadata": {},
   "outputs": [
    {
     "name": "stdout",
     "output_type": "stream",
     "text": [
      "[0.71047093]\n",
      "[0.07101695]\n",
      "[0.12019363]\n"
     ]
    }
   ],
   "source": [
    "print(search_lgbmXX.cv_results_[\"mean_test_roc_auc\"])\n",
    "print(search_lgbmXX.cv_results_[\"mean_test_recall\"])\n",
    "print(search_lgbmXX.cv_results_[\"mean_test_f1\"])"
   ]
  },
  {
   "cell_type": "code",
   "execution_count": 78,
   "id": "8d76a4e5-b134-4c23-a702-e17e11f88c00",
   "metadata": {},
   "outputs": [],
   "source": [
    "\n",
    "model = search_lgbmXX.best_estimator_"
   ]
  },
  {
   "cell_type": "code",
   "execution_count": 79,
   "id": "e6428e0d-317c-40f2-9d49-cee372776ab8",
   "metadata": {
    "tags": []
   },
   "outputs": [],
   "source": [
    "y_prob = model.predict_proba(X_test)\n",
    "y_prob = y_prob[:, 1]"
   ]
  },
  {
   "cell_type": "code",
   "execution_count": 80,
   "id": "e274c970-e3bb-4eef-b11f-ed7dde09b449",
   "metadata": {
    "tags": []
   },
   "outputs": [],
   "source": [
    "y_pred = model.predict(X_test)\n"
   ]
  },
  {
   "cell_type": "code",
   "execution_count": 81,
   "id": "518caccb-6e33-46e3-babf-04e3b808cc6f",
   "metadata": {},
   "outputs": [],
   "source": [
    "auc_pred = metrics.roc_auc_score(y_test, y_prob)\n",
    "recall_pred = metrics.recall_score(y_test, y_pred)\n",
    "precision_pred = metrics.precision_score(y_test, y_pred)\n",
    "f1_pred = metrics.f1_score(y_test, y_pred)"
   ]
  },
  {
   "cell_type": "code",
   "execution_count": 82,
   "id": "b811e52a-5bd9-441b-ab73-1a58d40bcab5",
   "metadata": {},
   "outputs": [
    {
     "name": "stdout",
     "output_type": "stream",
     "text": [
      "0.7179510724737681\n",
      "0.08401639344262295\n",
      "0.37962962962962965\n",
      "0.13758389261744963\n"
     ]
    }
   ],
   "source": [
    "print(auc_pred)\n",
    "print(recall_pred)\n",
    "print(precision_pred)\n",
    "print(f1_pred)"
   ]
  },
  {
   "cell_type": "code",
   "execution_count": null,
   "id": "9db7d711-8f40-47f5-82d8-85338f7893eb",
   "metadata": {},
   "outputs": [],
   "source": []
  },
  {
   "cell_type": "code",
   "execution_count": null,
   "id": "6fdb1d3c-6748-473c-adfa-dcf7047cb08e",
   "metadata": {},
   "outputs": [],
   "source": []
  },
  {
   "cell_type": "code",
   "execution_count": null,
   "id": "8af1b6dc-f66c-4934-983e-a897b39f3417",
   "metadata": {},
   "outputs": [],
   "source": []
  },
  {
   "cell_type": "code",
   "execution_count": null,
   "id": "c2e3eaf8-c189-46c6-9a6a-b3ff6c649505",
   "metadata": {},
   "outputs": [],
   "source": []
  },
  {
   "cell_type": "code",
   "execution_count": null,
   "id": "00764283-5b6c-4bd8-9393-1b96550e930c",
   "metadata": {},
   "outputs": [],
   "source": []
  },
  {
   "cell_type": "code",
   "execution_count": null,
   "id": "32f186f3-93a6-423d-a0e8-c71f4db4847e",
   "metadata": {},
   "outputs": [],
   "source": []
  },
  {
   "cell_type": "code",
   "execution_count": null,
   "id": "3f2450fb-5de9-4cc0-b0f1-0f826dceab0d",
   "metadata": {},
   "outputs": [],
   "source": []
  },
  {
   "cell_type": "code",
   "execution_count": null,
   "id": "425a3a31-8f09-4138-b9a2-2cc186e724fa",
   "metadata": {},
   "outputs": [],
   "source": []
  },
  {
   "cell_type": "code",
   "execution_count": null,
   "id": "9524bf9a-e54c-4d40-9b32-1e6a39ed3bac",
   "metadata": {},
   "outputs": [],
   "source": [
    "lgbm = imbpipeline(steps = [[\"Smote\", smote],\n",
    "                           [\"LightGBM\", LGBMClassifier(colsample_bytree=0.8,\n",
    "                                                       subsample=0.8,\n",
    "                                                       metric=\"None\",\n",
    "                                                       n_estimators=200,\n",
    "                                                       random_state=13,\n",
    "                                                       is_unbalance=False,\n",
    "                                                       n_jobs=-1)]\n",
    "                          ]\n",
    "                 )"
   ]
  },
  {
   "cell_type": "code",
   "execution_count": 52,
   "id": "4905334e-7b40-41c8-9ffc-4f7134a17369",
   "metadata": {},
   "outputs": [],
   "source": [
    "lgbmXXX = imbpipeline(steps = [[\"Smote\", smote],\n",
    "                           [\"LightGBM\", LGBMClassifier(metric=\"None\", \n",
    "                                                       n_estimators=10000,\n",
    "                                                       learning_rate=0.02,\n",
    "                                                       num_leaves=34,\n",
    "                                                       colsample_bytree=0.9497036,\n",
    "                                                       subsample=0.8715623,\n",
    "                                                       max_depth=8,\n",
    "                                                       reg_alpha=0.041545473,\n",
    "                                                       reg_lambda=0.0735294,\n",
    "                                                       min_split_gain=0.0222415,\n",
    "                                                       min_child_weight=39.3259775,\n",
    "                                                       n_jobs=-1)]\n",
    "                          ]\n",
    "                 )"
   ]
  },
  {
   "cell_type": "markdown",
   "id": "722f36a5-94e8-410c-929f-98a573f04380",
   "metadata": {
    "tags": []
   },
   "source": [
    "<div class=\"alert alert-block alert-info\">\n",
    "    <p>Parameters settings</p>\n",
    "</div>"
   ]
  },
  {
   "cell_type": "code",
   "execution_count": 51,
   "id": "747f21b9-300b-4728-97a5-6d6685563d42",
   "metadata": {},
   "outputs": [],
   "source": [
    "param_grid = {\n",
    "    \"LightGBM__n_estimators\" : [10000],#\"LightGBM__n_estimators\" : [8000, 10000],\n",
    "    #\"LightGBM__num_leaves\" : [32, 34], \n",
    "    #\"LightGBM__max_depth\" : [8, 9]\n",
    "}"
   ]
  },
  {
   "cell_type": "code",
   "execution_count": 21,
   "id": "4b2f8954-464f-4b1a-afc5-34d19980aac6",
   "metadata": {},
   "outputs": [],
   "source": [
    "search_lgbm = GridSearchCV(estimator=lgbm,\n",
    "                           param_grid=param_grid,\n",
    "                           scoring=\"roc_auc\",\n",
    "                           cv=stratified_kfold,\n",
    "                           n_jobs=-1,\n",
    "                           return_train_score=True)"
   ]
  },
  {
   "cell_type": "code",
   "execution_count": 53,
   "id": "b56e8689-0cf8-43a2-b001-83a531f52f33",
   "metadata": {},
   "outputs": [],
   "source": [
    "search_lgbmXXX = GridSearchCV(estimator=lgbmXXX,\n",
    "                           param_grid=param_grid,\n",
    "                           scoring=\"roc_auc\",\n",
    "                           cv=stratified_kfold,\n",
    "                           n_jobs=-1,\n",
    "                           return_train_score=True)"
   ]
  },
  {
   "cell_type": "code",
   "execution_count": 22,
   "id": "a011b329-0bf6-41c9-a0f5-cad8cdd50388",
   "metadata": {},
   "outputs": [
    {
     "data": {
      "text/plain": [
       "GridSearchCV(cv=StratifiedKFold(n_splits=3, random_state=0, shuffle=True),\n",
       "             estimator=Pipeline(steps=[['Smote',\n",
       "                                        SMOTE(n_jobs=-1, random_state=42)],\n",
       "                                       ['LightGBM',\n",
       "                                        LGBMClassifier(colsample_bytree=0.8,\n",
       "                                                       is_unbalance=False,\n",
       "                                                       metric='None',\n",
       "                                                       n_estimators=200,\n",
       "                                                       random_state=13,\n",
       "                                                       subsample=0.8)]]),\n",
       "             n_jobs=-1, param_grid={'LightGBM__n_estimators': [8000]},\n",
       "             return_train_score=True, scoring='roc_auc')"
      ]
     },
     "execution_count": 22,
     "metadata": {},
     "output_type": "execute_result"
    }
   ],
   "source": [
    "search_lgbm.fit(X_train, y_train)"
   ]
  },
  {
   "cell_type": "code",
   "execution_count": 54,
   "id": "28f249b4-0878-4193-af1e-b542488162f8",
   "metadata": {},
   "outputs": [
    {
     "data": {
      "text/plain": [
       "GridSearchCV(cv=StratifiedKFold(n_splits=3, random_state=0, shuffle=True),\n",
       "             estimator=Pipeline(steps=[['Smote',\n",
       "                                        SMOTE(n_jobs=-1, random_state=42)],\n",
       "                                       ['LightGBM',\n",
       "                                        LGBMClassifier(colsample_bytree=0.9497036,\n",
       "                                                       learning_rate=0.02,\n",
       "                                                       max_depth=8,\n",
       "                                                       metric='None',\n",
       "                                                       min_child_weight=39.3259775,\n",
       "                                                       min_split_gain=0.0222415,\n",
       "                                                       n_estimators=10000,\n",
       "                                                       num_leaves=34,\n",
       "                                                       reg_alpha=0.041545473,\n",
       "                                                       reg_lambda=0.0735294,\n",
       "                                                       subsample=0.8715623)]]),\n",
       "             n_jobs=-1, param_grid={'LightGBM__n_estimators': [10000]},\n",
       "             return_train_score=True, scoring='roc_auc')"
      ]
     },
     "execution_count": 54,
     "metadata": {},
     "output_type": "execute_result"
    }
   ],
   "source": [
    "search_lgbmXXX.fit(X_train, y_train)"
   ]
  },
  {
   "cell_type": "code",
   "execution_count": 23,
   "id": "27f1d819-d870-451d-8eee-95d9bf93757c",
   "metadata": {},
   "outputs": [
    {
     "data": {
      "text/plain": [
       "0.7111314279000505"
      ]
     },
     "execution_count": 23,
     "metadata": {},
     "output_type": "execute_result"
    }
   ],
   "source": [
    "search_lgbm.best_score_"
   ]
  },
  {
   "cell_type": "code",
   "execution_count": 55,
   "id": "65807bdd-0785-4306-9a15-7666951dc6b9",
   "metadata": {},
   "outputs": [
    {
     "data": {
      "text/plain": [
       "0.7104709302348828"
      ]
     },
     "execution_count": 55,
     "metadata": {},
     "output_type": "execute_result"
    }
   ],
   "source": [
    "search_lgbmXXX.best_score_"
   ]
  },
  {
   "cell_type": "code",
   "execution_count": 70,
   "id": "6c41af25-be7b-44f6-bfd4-47bb66aaef52",
   "metadata": {},
   "outputs": [
    {
     "data": {
      "text/plain": [
       "{'mean_fit_time': array([412.67654634]),\n",
       " 'std_fit_time': array([1.375498]),\n",
       " 'mean_score_time': array([14.23277831]),\n",
       " 'std_score_time': array([0.2129274]),\n",
       " 'param_LightGBM__n_estimators': masked_array(data=[10000],\n",
       "              mask=[False],\n",
       "        fill_value='?',\n",
       "             dtype=object),\n",
       " 'params': [{'LightGBM__n_estimators': 10000}],\n",
       " 'split0_test_score': array([0.71138563]),\n",
       " 'split1_test_score': array([0.71083421]),\n",
       " 'split2_test_score': array([0.70919295]),\n",
       " 'mean_test_score': array([0.71047093]),\n",
       " 'std_test_score': array([0.00093128]),\n",
       " 'rank_test_score': array([1]),\n",
       " 'split0_train_score': array([1.]),\n",
       " 'split1_train_score': array([1.]),\n",
       " 'split2_train_score': array([1.]),\n",
       " 'mean_train_score': array([1.]),\n",
       " 'std_train_score': array([0.])}"
      ]
     },
     "execution_count": 70,
     "metadata": {},
     "output_type": "execute_result"
    }
   ],
   "source": [
    "search_lgbmXXX.cv_results_"
   ]
  },
  {
   "cell_type": "code",
   "execution_count": null,
   "id": "973e62ab-7adf-46bc-aa7b-e3c9ded4e8a3",
   "metadata": {},
   "outputs": [],
   "source": []
  },
  {
   "cell_type": "code",
   "execution_count": null,
   "id": "8fce0f1b-9515-4853-830a-63c44b00eee8",
   "metadata": {},
   "outputs": [],
   "source": []
  },
  {
   "cell_type": "code",
   "execution_count": null,
   "id": "380a0921-143c-4ffb-b06e-29b6ca0e02ae",
   "metadata": {},
   "outputs": [],
   "source": []
  },
  {
   "cell_type": "code",
   "execution_count": 24,
   "id": "b81ca5ea-3857-4ebb-a900-f651ab06bb93",
   "metadata": {},
   "outputs": [],
   "source": [
    "model = search_lgbm.best_estimator_"
   ]
  },
  {
   "cell_type": "code",
   "execution_count": 56,
   "id": "4f84a1fa-4864-48ff-bcd9-5de07d8eac39",
   "metadata": {},
   "outputs": [],
   "source": [
    "modelXXX = search_lgbmXXX.best_estimator_"
   ]
  },
  {
   "cell_type": "code",
   "execution_count": 25,
   "id": "9c9ab66b-bbab-4c56-8977-bce236ffb847",
   "metadata": {},
   "outputs": [],
   "source": [
    "y_pred = model.predict(X_test)"
   ]
  },
  {
   "cell_type": "code",
   "execution_count": 57,
   "id": "85a4d9e6-15ff-463a-8150-28dcfee5d4d3",
   "metadata": {},
   "outputs": [],
   "source": [
    "y_predXXX = modelXXX.predict(X_test)"
   ]
  },
  {
   "cell_type": "code",
   "execution_count": 26,
   "id": "a4d9eaf9-6201-4ac7-b837-a87c0fc077c7",
   "metadata": {},
   "outputs": [
    {
     "data": {
      "text/plain": [
       "array([0., 0., 0., ..., 0., 0., 0.], dtype=float32)"
      ]
     },
     "execution_count": 26,
     "metadata": {},
     "output_type": "execute_result"
    }
   ],
   "source": [
    "y_pred"
   ]
  },
  {
   "cell_type": "code",
   "execution_count": 27,
   "id": "84e5eb7e-e717-4f04-9922-c60975448c38",
   "metadata": {
    "tags": []
   },
   "outputs": [],
   "source": [
    "y_prob = model.predict_proba(X_test)\n",
    "y_prob = y_prob[:, 1]"
   ]
  },
  {
   "cell_type": "code",
   "execution_count": 58,
   "id": "0acb276e-23cb-45ec-a541-aa89bf6baa09",
   "metadata": {
    "tags": []
   },
   "outputs": [],
   "source": [
    "y_probXXX = modelXXX.predict_proba(X_test)\n",
    "y_probXXX = y_probXXX[:, 1]"
   ]
  },
  {
   "cell_type": "code",
   "execution_count": 28,
   "id": "09f371c1-7e70-48bb-894f-cc0be1abef2c",
   "metadata": {},
   "outputs": [
    {
     "data": {
      "text/plain": [
       "array([1.03964707e-05, 3.55252451e-07, 1.18494519e-11, ...,\n",
       "       3.87886269e-08, 3.74865735e-07, 1.27793274e-06])"
      ]
     },
     "execution_count": 28,
     "metadata": {},
     "output_type": "execute_result"
    }
   ],
   "source": [
    "y_prob"
   ]
  },
  {
   "cell_type": "code",
   "execution_count": 34,
   "id": "29ac317f-8928-44a1-9b5c-018b33b9fb99",
   "metadata": {},
   "outputs": [],
   "source": [
    "from sklearn import metrics\n",
    "from sklearn.metrics import confusion_matrix, plot_confusion_matrix, precision_recall_curve\n"
   ]
  },
  {
   "cell_type": "code",
   "execution_count": 31,
   "id": "e8133e7f-263c-44f2-adee-ba9aea05d991",
   "metadata": {},
   "outputs": [],
   "source": [
    "auc_pred = metrics.roc_auc_score(y_test, y_prob)\n",
    "recall_pred = metrics.recall_score(y_test, y_pred)\n",
    "precision_pred = metrics.precision_score(y_test, y_pred)\n",
    "f1_pred = metrics.f1_score(y_test, y_pred)"
   ]
  },
  {
   "cell_type": "code",
   "execution_count": 32,
   "id": "9bea2b15-0dab-4158-b627-0a2adf9e3bcf",
   "metadata": {},
   "outputs": [
    {
     "name": "stdout",
     "output_type": "stream",
     "text": [
      "0.723690784934212\n",
      "0.028688524590163935\n",
      "0.35\n",
      "0.05303030303030304\n"
     ]
    }
   ],
   "source": [
    "print(auc_pred)\n",
    "print(recall_pred)\n",
    "print(precision_pred)\n",
    "print(f1_pred)"
   ]
  },
  {
   "cell_type": "code",
   "execution_count": 59,
   "id": "d8c44aba-98bc-4265-9341-8aef1eba1043",
   "metadata": {},
   "outputs": [],
   "source": [
    "auc_pred = metrics.roc_auc_score(y_test, y_probXXX)\n",
    "recall_pred = metrics.recall_score(y_test, y_predXXX)\n",
    "precision_pred = metrics.precision_score(y_test, y_predXXX)\n",
    "f1_pred = metrics.f1_score(y_test, y_predXXX)"
   ]
  },
  {
   "cell_type": "code",
   "execution_count": 60,
   "id": "ba9d92a6-1c29-4825-95a0-82d37183a599",
   "metadata": {},
   "outputs": [
    {
     "name": "stdout",
     "output_type": "stream",
     "text": [
      "0.7179510724737681\n",
      "0.08401639344262295\n",
      "0.37962962962962965\n",
      "0.13758389261744963\n"
     ]
    }
   ],
   "source": [
    "print(auc_pred)\n",
    "print(recall_pred)\n",
    "print(precision_pred)\n",
    "print(f1_pred)"
   ]
  },
  {
   "cell_type": "code",
   "execution_count": 38,
   "id": "b4521bc2-52c5-49bd-a27e-d0158b7918b9",
   "metadata": {},
   "outputs": [],
   "source": [
    "accuracy = metrics.accuracy_score(y_test, y_pred)"
   ]
  },
  {
   "cell_type": "code",
   "execution_count": 39,
   "id": "e9968d9f-c41f-4ffc-8afc-d9e244828c5b",
   "metadata": {},
   "outputs": [
    {
     "name": "stdout",
     "output_type": "stream",
     "text": [
      "0.9166666666666666\n"
     ]
    }
   ],
   "source": [
    "print(accuracy)"
   ]
  },
  {
   "cell_type": "code",
   "execution_count": 40,
   "id": "075fceca-4f9e-4804-82b2-39226510aa01",
   "metadata": {},
   "outputs": [
    {
     "name": "stdout",
     "output_type": "stream",
     "text": [
      "0.35\n"
     ]
    }
   ],
   "source": [
    "precision = metrics.precision_score(y_test, y_pred, average='binary') \n",
    "print(precision)"
   ]
  },
  {
   "cell_type": "code",
   "execution_count": 42,
   "id": "4df0ed77-d813-489b-bd11-393bdb0edf91",
   "metadata": {},
   "outputs": [
    {
     "name": "stdout",
     "output_type": "stream",
     "text": [
      "0.028688524590163935\n"
     ]
    }
   ],
   "source": [
    "recall = metrics.recall_score(y_test, y_pred, average='binary')\n",
    "print(recall)"
   ]
  },
  {
   "cell_type": "code",
   "execution_count": 46,
   "id": "c9244ee0-3171-4e91-8335-65ece69ab40c",
   "metadata": {},
   "outputs": [],
   "source": [
    "from sklearn.metrics import PrecisionRecallDisplay"
   ]
  },
  {
   "cell_type": "code",
   "execution_count": 61,
   "id": "d295ec7a-2a1e-4e26-8fb6-32ada1db66f1",
   "metadata": {},
   "outputs": [
    {
     "data": {
      "image/png": "[encoded data removed]",
      "text/plain": [
       "<Figure size 432x288 with 1 Axes>"
      ]
     },
     "metadata": {
      "needs_background": "light"
     },
     "output_type": "display_data"
    }
   ],
   "source": [
    "display = PrecisionRecallDisplay.from_predictions(y_test.ravel(), y_probXXX.ravel(), name=\"LGBMClassifier\")\n",
    "_ = display.ax_.set_title(\"2-class Precision-Recall curve\")"
   ]
  },
  {
   "cell_type": "code",
   "execution_count": 48,
   "id": "83948926-bd31-4317-9829-da4c8118f5d1",
   "metadata": {},
   "outputs": [
    {
     "data": {
      "image/png": "[encoded data removed]",
      "text/plain": [
       "<Figure size 432x288 with 1 Axes>"
      ]
     },
     "metadata": {
      "needs_background": "light"
     },
     "output_type": "display_data"
    }
   ],
   "source": [
    "display = PrecisionRecallDisplay.from_predictions(y_test.ravel(), y_prob.ravel(), name=\"LGBMClassifier\")\n",
    "_ = display.ax_.set_title(\"2-class Precision-Recall curve\")"
   ]
  },
  {
   "cell_type": "code",
   "execution_count": null,
   "id": "1d465fed-359e-4f65-9469-bd86e1eec9e2",
   "metadata": {},
   "outputs": [],
   "source": []
  },
  {
   "cell_type": "code",
   "execution_count": null,
   "id": "ba0f789a-9a42-4d48-83ec-43990a1e1949",
   "metadata": {},
   "outputs": [],
   "source": []
  },
  {
   "cell_type": "code",
   "execution_count": null,
   "id": "e3bb3421-41c4-4f69-88ec-7d2e6c0e9cf2",
   "metadata": {},
   "outputs": [],
   "source": [
    "CCCCCCCCCCCCCCCCCCCCCCCCCcccc"
   ]
  },
  {
   "cell_type": "code",
   "execution_count": null,
   "id": "8826a486-d5c2-44c2-bd33-ce12597efcb5",
   "metadata": {},
   "outputs": [],
   "source": []
  },
  {
   "cell_type": "code",
   "execution_count": null,
   "id": "9533f8ad-6089-4b67-b56a-0f89c305003a",
   "metadata": {},
   "outputs": [],
   "source": []
  },
  {
   "cell_type": "code",
   "execution_count": null,
   "id": "06f5b387-533b-4c9e-96d3-0ef0b7eb740a",
   "metadata": {},
   "outputs": [],
   "source": []
  },
  {
   "cell_type": "code",
   "execution_count": null,
   "id": "1c39c897-bb95-48e6-beaf-f91bdfb03b08",
   "metadata": {},
   "outputs": [],
   "source": []
  },
  {
   "cell_type": "code",
   "execution_count": null,
   "id": "d259ca0b-7a4b-43b0-90a0-f986e6305438",
   "metadata": {},
   "outputs": [],
   "source": []
  },
  {
   "cell_type": "code",
   "execution_count": null,
   "id": "cc3c3d5b-4c3b-43fd-9947-fef87e9d544c",
   "metadata": {},
   "outputs": [],
   "source": [
    "clf = imbpipeline(steps = [[\"Smote\", smote],\n",
    "                           [\"LightGBM\", LGBMClassifier(colsample_bytree=0.8,\n",
    "                                                       subsample=0.8, \n",
    "                                                       is_unbalance=False,\n",
    "                                                       n_jobs=-1)]\n",
    "                          ]\n",
    "                 )"
   ]
  },
  {
   "cell_type": "markdown",
   "id": "ba9fdb41-bbf7-4b4c-bfb1-3f4e4ff516bf",
   "metadata": {
    "tags": []
   },
   "source": [
    "<div class=\"alert alert-block alert-info\">\n",
    "    <p>Parameters settings</p>\n",
    "</div>"
   ]
  },
  {
   "cell_type": "code",
   "execution_count": null,
   "id": "950b9d66-8e0d-4db1-9e56-37a561761bc0",
   "metadata": {},
   "outputs": [],
   "source": [
    "param_grid = {\n",
    "    \"LightGBM__n_estimators\" : [8000, 10000], \n",
    "}"
   ]
  },
  {
   "cell_type": "code",
   "execution_count": null,
   "id": "5773daae-edbd-4068-89f2-1789297ddbbd",
   "metadata": {},
   "outputs": [],
   "source": [
    "search = GridSearchCV(estimator=clf,\n",
    "                      param_grid=param_grid,\n",
    "                      scoring=\"roc_auc\",\n",
    "                      cv=stratified_kfold,\n",
    "                      n_jobs=-1,\n",
    "                      return_train_score=True)"
   ]
  },
  {
   "cell_type": "code",
   "execution_count": null,
   "id": "a7f49804-7a2f-48e3-ac0c-00fc5f272362",
   "metadata": {},
   "outputs": [],
   "source": [
    "search.fit(X_train, y_train)"
   ]
  },
  {
   "cell_type": "code",
   "execution_count": null,
   "id": "0de119ee-efb2-4273-86b1-214937470db7",
   "metadata": {},
   "outputs": [],
   "source": []
  },
  {
   "cell_type": "code",
   "execution_count": null,
   "id": "0965e741-9709-45a1-a3e9-245880e3303e",
   "metadata": {},
   "outputs": [],
   "source": [
    "search.best_score_"
   ]
  },
  {
   "cell_type": "code",
   "execution_count": null,
   "id": "a89e7ee4-066c-443d-a698-d9b7b5aae4fd",
   "metadata": {},
   "outputs": [],
   "source": [
    "search.cv_results_"
   ]
  },
  {
   "cell_type": "code",
   "execution_count": null,
   "id": "f451a343-4443-4608-93ce-571522ed64f2",
   "metadata": {},
   "outputs": [],
   "source": []
  },
  {
   "cell_type": "code",
   "execution_count": null,
   "id": "7beb1834-d086-451f-a867-3de0bfb788c4",
   "metadata": {},
   "outputs": [],
   "source": []
  },
  {
   "cell_type": "code",
   "execution_count": null,
   "id": "19293ce6-6667-4df1-9e36-cb6da30ad2fa",
   "metadata": {},
   "outputs": [],
   "source": []
  },
  {
   "cell_type": "code",
   "execution_count": null,
   "id": "d9a75688-dcdb-40c3-95ba-7b7dad99db95",
   "metadata": {},
   "outputs": [],
   "source": []
  },
  {
   "cell_type": "code",
   "execution_count": null,
   "id": "888595da-e0e5-4f13-895e-5ca410c83bdd",
   "metadata": {},
   "outputs": [],
   "source": [
    "search2 = GridSearchCV(estimator=clf,\n",
    "                       param_grid=param_grid,\n",
    "                       scoring=SCORINGS,\n",
    "                       refit=\"roc_auc\",\n",
    "                       cv=stratified_kfold,\n",
    "                       n_jobs=-1,\n",
    "                       return_train_score=True)"
   ]
  },
  {
   "cell_type": "code",
   "execution_count": null,
   "id": "6039d148-eddf-4ddb-bdde-fa6ac4ab6039",
   "metadata": {},
   "outputs": [],
   "source": [
    "search2.fit(X_train, y_train)"
   ]
  },
  {
   "cell_type": "code",
   "execution_count": null,
   "id": "d2be0f5f-2767-4d8f-8ae5-f6cb6e8746ec",
   "metadata": {},
   "outputs": [],
   "source": [
    "search2.best_score_"
   ]
  },
  {
   "cell_type": "code",
   "execution_count": null,
   "id": "aaa586c7-32a1-46fc-9fc7-54bc693bb11b",
   "metadata": {},
   "outputs": [],
   "source": [
    "SCORINGS = {\n",
    "    \"roc_auc\" : \"roc_auc\",\n",
    "    \"recall\" : \"recall\", \n",
    "    \"f1\" : \"f1\", \n",
    "    \"custom_score\" : make_scorer(custom_score)\n",
    "}"
   ]
  },
  {
   "cell_type": "code",
   "execution_count": null,
   "id": "ca185ab1-8fe2-4b55-98f8-f6d3160a95d4",
   "metadata": {},
   "outputs": [],
   "source": [
    "# Transforming the result to dataframe format\n",
    "df_results = pd.DataFrame(search2.cv_results_)"
   ]
  },
  {
   "cell_type": "code",
   "execution_count": null,
   "id": "291961df-d4cb-4ae8-9558-208674c7a400",
   "metadata": {},
   "outputs": [],
   "source": [
    "# Get the results\n",
    "print(\"Metrics based on the best ROC-AUC\")\n",
    "print(\"- ROC-AUC:\\t\\t\", round((search2.best_score_), 3))\n",
    "print(\"- Recall:\\t\\t\", round(df_results.iloc[search.best_index_][\"mean_test_recall\"], 3))\n",
    "print(\"- F1:\\t\\t\\t\", round(df_results.iloc[search.best_index_][\"mean_test_f1\"], 3))\n",
    "print(\"- Custom Score:\\t\\t\", round(df_results.iloc[search.best_index_][\"mean_test_custom_score\"], 3))\n",
    "print(\"- Duration:\\t\\t\", round(df_results.iloc[search.best_index_][\"mean_score_time\"]/3.600, 3), \" minutes\")\n",
    "#print(\"- Parameters:\", search.best_params_)"
   ]
  },
  {
   "cell_type": "code",
   "execution_count": null,
   "id": "975ed7cb-18c9-4ec8-98d9-a5b4d1746f80",
   "metadata": {},
   "outputs": [],
   "source": []
  },
  {
   "cell_type": "code",
   "execution_count": null,
   "id": "a5db3323-c01e-4abf-8d55-6e0227223ed6",
   "metadata": {},
   "outputs": [],
   "source": []
  },
  {
   "cell_type": "code",
   "execution_count": null,
   "id": "2775a31b-22b3-45f5-b2a9-e10f2f17b286",
   "metadata": {},
   "outputs": [],
   "source": [
    "from sklearn.metrics import confusion_matrix, plot_confusion_matrix, precision_recall_curve\n",
    "from sklearn import metrics"
   ]
  },
  {
   "cell_type": "code",
   "execution_count": null,
   "id": "53cb0b07-11c2-4b7a-ad3d-b7d52945dde7",
   "metadata": {},
   "outputs": [],
   "source": [
    "model = search2.best_estimator_"
   ]
  },
  {
   "cell_type": "code",
   "execution_count": null,
   "id": "192f196c-92fd-4720-9d2e-b72cdbc140e0",
   "metadata": {},
   "outputs": [],
   "source": [
    "model.fit(X_train, y_train)"
   ]
  },
  {
   "cell_type": "code",
   "execution_count": null,
   "id": "3e2c7830-fc5d-49e7-901b-2b517c578cde",
   "metadata": {
    "tags": []
   },
   "outputs": [],
   "source": [
    "y_prob = model.predict_proba(X_test)\n",
    "y_prob = y_prob[:, 1]"
   ]
  },
  {
   "cell_type": "code",
   "execution_count": null,
   "id": "8f1aa0d7-b7c6-4c4b-8f4c-8d7b09c2b734",
   "metadata": {},
   "outputs": [],
   "source": [
    "fpr, tpr, thresholds = metrics.roc_curve(y_test, y_prob)\n",
    "precision_, recall_, thresh_ = precision_recall_curve(y_test, y_prob)"
   ]
  },
  {
   "cell_type": "code",
   "execution_count": null,
   "id": "5dff18d1-2024-4f97-a112-3db436435476",
   "metadata": {},
   "outputs": [],
   "source": [
    "def my_colors(n=5):\n",
    "    return [(sns.color_palette(\"viridis\", 100)[i]) for i in np.linspace(0, 99, n, dtype=int)]"
   ]
  },
  {
   "cell_type": "code",
   "execution_count": null,
   "id": "6134fae2-ee73-4b78-979b-0c576d1e2005",
   "metadata": {},
   "outputs": [],
   "source": [
    "# calculate the g-mean for each threshold\n",
    "g_means = np.sqrt(tpr * (1-fpr))\n",
    "# locate the index of the largest g-mean\n",
    "ix = np.argmax(g_means)\n",
    "\n",
    "y_prob = (y_prob >= thresholds[ix]).astype(bool)\n",
    "\n",
    "tn, fp, fn, tp = confusion_matrix(y_test, y_prob).ravel()\n",
    "print(f'TN = {tn}, FP = {fp}, FN = {fn}, TP = {tp}')\n",
    "conf_mat = [[tp,fn],[fp,tn]]\n",
    "\n",
    "auc = metrics.roc_auc_score(y_test, y_prob)\n",
    "recall = metrics.recall_score(y_test, y_prob)\n",
    "precision = metrics.precision_score(y_test, y_prob)\n",
    "f1 = metrics.f1_score(y_test, y_prob)\n",
    "\n",
    "######################################\n",
    "print(f'Testset: \\\n",
    "threshold = {thresholds[ix]:.0%}, \\\n",
    "G-Mean= {g_means[ix]:.0%}, \\\n",
    "AUC = {auc:.0%}, \\\n",
    "recall= {recall:.0%}, \\\n",
    "f1 = {f1:.0%}')\n",
    "######################################\n",
    "\n",
    "plt.figure(figsize=(7, 7))\n",
    "\n",
    "plt.subplot(221)\n",
    "plt.axis('scaled')\n",
    "plt.xlim([0, 1])\n",
    "plt.ylim([0, 1])\n",
    "plt.title(\"ROC Curve\")\n",
    "plt.plot(fpr, tpr, 'k')\n",
    "plt.plot([0, 1], [0, 1], '--', lw=2, color='k')\n",
    "plt.fill_between(fpr, tpr, facecolor='dodgerblue', alpha=0.7)\n",
    "plt.scatter(fpr[ix], tpr[ix], marker='o', s=100, color='r', label='Best')\n",
    "plt.text(0.95, 0.05, f'AUC = {auc:.3f}', ha='right',\n",
    "         fontsize=16, weight='bold', color='white')\n",
    "plt.xlabel(\"False positive rate\")\n",
    "plt.ylabel(\"True positive rate\")\n",
    "\n",
    "plt.subplot(222)\n",
    "plt.plot(thresholds, g_means, 'r');\n",
    "plt.scatter(thresholds[ix], g_means[ix], marker='o', s=100, color='r', label='Best')\n",
    "plt.xlim(0,1)\n",
    "plt.xlabel('Proba threshold')\n",
    "plt.ylim(0,1)\n",
    "plt.ylabel('G-Means')\n",
    "plt.title('G-Means vs. threshold')\n",
    "\n",
    "plt.subplot(223)\n",
    "plt.plot(recall_, precision_, 'teal');\n",
    "plt.scatter(recall, precision, marker='o', s=100, color='r', label='Best')\n",
    "plt.xlim(0,1)\n",
    "plt.xlabel('Recall')\n",
    "plt.ylim(0,1)\n",
    "plt.ylabel('Precision')\n",
    "plt.title('Precision-recall curve')\n",
    "\n",
    "plt.subplot(224)\n",
    "sns.heatmap(conf_mat, cmap=my_colors(100), annot=True, fmt='.0f', cbar=False)\n",
    "plt.xticks([0.5,1.5], [1,0])\n",
    "plt.yticks([0.5,1.5], [1,0])\n",
    "plt.xlabel('Predicted label')\n",
    "plt.ylabel('True label')\n",
    "plt.title('Confusion matrix')\n",
    "\n",
    "plt.tight_layout(pad=1.1)\n",
    "plt.show()"
   ]
  },
  {
   "cell_type": "code",
   "execution_count": null,
   "id": "c0df3010-5cae-42ed-b218-d3b60804904c",
   "metadata": {},
   "outputs": [],
   "source": []
  },
  {
   "cell_type": "code",
   "execution_count": null,
   "id": "149e2d0a-aeb2-45e8-8d8c-10221a36df98",
   "metadata": {},
   "outputs": [],
   "source": []
  },
  {
   "cell_type": "code",
   "execution_count": null,
   "id": "90866acd-2238-4c79-87b5-a8baef997b46",
   "metadata": {},
   "outputs": [],
   "source": []
  },
  {
   "cell_type": "code",
   "execution_count": null,
   "id": "60b87ea2-ae0d-4562-89dd-f688221bfeed",
   "metadata": {},
   "outputs": [],
   "source": []
  },
  {
   "cell_type": "code",
   "execution_count": null,
   "id": "46023464-2b3a-4ba4-92e1-13df3ba7c4d2",
   "metadata": {},
   "outputs": [],
   "source": []
  },
  {
   "cell_type": "code",
   "execution_count": null,
   "id": "264afeab-6b3e-48e3-a410-05672d9c715c",
   "metadata": {},
   "outputs": [],
   "source": []
  },
  {
   "cell_type": "markdown",
   "id": "1a3eadea-b110-4a1c-aab0-7fc926e8274c",
   "metadata": {
    "tags": []
   },
   "source": [
    "<div class=\"alert alert-block alert-warning\">\n",
    "    <p>AQUI</p>\n",
    "</div>"
   ]
  },
  {
   "cell_type": "code",
   "execution_count": null,
   "id": "a268b4aa-bd84-4597-b4e8-d9b0dcc9d58b",
   "metadata": {},
   "outputs": [],
   "source": [
    "lgbm = imbpipeline(steps = [[\"Smote\", smote],\n",
    "                           [\"LightGBM\", LGBMClassifier(colsample_bytree=0.8,\n",
    "                                                       subsample=0.8,\n",
    "                                                       metric=\"None\",\n",
    "                                                       n_estimators=200,\n",
    "                                                       random_state=13,\n",
    "                                                       silent=True,\n",
    "                                                       is_unbalance=False,\n",
    "                                                       n_jobs=-1)]\n",
    "                          ]\n",
    "                 )"
   ]
  },
  {
   "cell_type": "code",
   "execution_count": null,
   "id": "9ee53180-81a2-471e-b1d2-9b2d9db3fe84",
   "metadata": {},
   "outputs": [],
   "source": [
    "param_grid = {\n",
    "    \"LightGBM__n_estimators\" : [8000, 10000],\n",
    "    \"LightGBM__num_leaves\" : [32, 34], \n",
    "    \"LightGBM__max_depth\" : [8, 9]\n",
    "}"
   ]
  },
  {
   "cell_type": "code",
   "execution_count": null,
   "id": "69510d9c-f882-4039-8c4e-51813455f64a",
   "metadata": {},
   "outputs": [],
   "source": [
    "search_ultimate = GridSearchCV(estimator=lgbm,\n",
    "                      param_grid=param_grid,\n",
    "                      scoring=\"roc_auc\",\n",
    "                      cv=stratified_kfold,\n",
    "                      n_jobs=-1,\n",
    "                      return_train_score=True)"
   ]
  },
  {
   "cell_type": "code",
   "execution_count": null,
   "id": "0dee6e5a-4a84-475e-9341-315111b88b22",
   "metadata": {},
   "outputs": [],
   "source": [
    "search_ultimate.fit(X_train, y_train)"
   ]
  },
  {
   "cell_type": "code",
   "execution_count": null,
   "id": "e80f4232-a35f-44c5-b0ee-e5277223579f",
   "metadata": {},
   "outputs": [],
   "source": [
    "search_ultimate.best_score_"
   ]
  },
  {
   "cell_type": "code",
   "execution_count": null,
   "id": "3bbf34ea-92e3-4508-b520-cda413fa3cb5",
   "metadata": {},
   "outputs": [],
   "source": [
    "model = search_ultimate.best_estimator_"
   ]
  },
  {
   "cell_type": "code",
   "execution_count": null,
   "id": "f994cf58-8559-4a8d-9896-92d4863f4d16",
   "metadata": {},
   "outputs": [],
   "source": [
    "y_pred = model.predict(X_test)"
   ]
  },
  {
   "cell_type": "code",
   "execution_count": null,
   "id": "afbe6330-b120-425a-a327-a77a97134503",
   "metadata": {},
   "outputs": [],
   "source": [
    "y_pred"
   ]
  },
  {
   "cell_type": "code",
   "execution_count": null,
   "id": "4c35919f-aaae-4e50-a0db-0f8e69cbf4a8",
   "metadata": {
    "tags": []
   },
   "outputs": [],
   "source": [
    "y_prob = model.predict_proba(X_test)\n",
    "y_prob = y_prob[:, 1]"
   ]
  },
  {
   "cell_type": "code",
   "execution_count": null,
   "id": "a0e41507-5fd6-46d1-9053-679f2de9c242",
   "metadata": {},
   "outputs": [],
   "source": [
    "y_prob"
   ]
  },
  {
   "cell_type": "code",
   "execution_count": null,
   "id": "ed79ec5f-2af6-48df-bd70-9449e20c649e",
   "metadata": {},
   "outputs": [],
   "source": [
    "auc_pred = metrics.roc_auc_score(y_test, y_prob)\n",
    "recall_pred = metrics.recall_score(y_test, y_pred)\n",
    "precision_pred = metrics.precision_score(y_test, y_pred)\n",
    "f1_pred = metrics.f1_score(y_test, y_pred)"
   ]
  },
  {
   "cell_type": "code",
   "execution_count": null,
   "id": "3880486f-eb30-4e49-a1e7-9095e1a7246f",
   "metadata": {},
   "outputs": [],
   "source": [
    "print(auc_pred)\n",
    "print(recall_pred)\n",
    "print(precision_pred)\n",
    "print(f1_pred)"
   ]
  },
  {
   "cell_type": "code",
   "execution_count": null,
   "id": "5be30476-9768-45a2-bff9-e0b261dabef9",
   "metadata": {},
   "outputs": [],
   "source": [
    "print(custom_score(y_test, y_pred)) # valores copiados"
   ]
  },
  {
   "cell_type": "code",
   "execution_count": null,
   "id": "c5dfdc30-e000-496a-aace-229d25924889",
   "metadata": {},
   "outputs": [],
   "source": [
    "print(custom_score(y_test, y_prob)) # valores copiados"
   ]
  },
  {
   "cell_type": "code",
   "execution_count": null,
   "id": "522d6c03-2cf0-401f-bd04-f7161b1b1e15",
   "metadata": {},
   "outputs": [],
   "source": [
    "print(custom_score(y_test, y_pred)) # valores copiados"
   ]
  },
  {
   "cell_type": "code",
   "execution_count": null,
   "id": "69d4eaa3-abaf-4e94-ba5a-e2b4a9d98af3",
   "metadata": {},
   "outputs": [],
   "source": [
    "print(custom_score(y_test, y_prob)) # valores copiados"
   ]
  },
  {
   "cell_type": "code",
   "execution_count": null,
   "id": "c0608951-3e34-43b3-86b3-7f46ee29e8ea",
   "metadata": {},
   "outputs": [],
   "source": [
    "scor_int = []\n",
    "int_seuil = np.arange(0.0, 1.01, 0.01)\n",
    "\n",
    "for s in int_seuil:\n",
    "    \n",
    "  # Score du modèle : 0 à 1\n",
    "  y_seuil=[]\n",
    "\n",
    "  for i in y_prob:\n",
    "    if i >= s:\n",
    "      y_seuil.append(1)\n",
    "    elif i < s:\n",
    "       y_seuil.append(0)\n",
    "\n",
    "  #tn, fp, fn, tp = confusion_matrix(y_test, y_seuil, labels=[0, 1]).ravel()\n",
    "  \n",
    "  scor_int.append(custom_score(y_test, y_prob))\n",
    "    \n",
    "# Affichage du gain en fonction du seuil de solvabilité    \n",
    "plt.figure(figsize=(15, 10))\n",
    "plt.plot(int_seuil, scor_int)\n",
    "plt.xlabel(\"Seuil de probabilité\")\n",
    "plt.ylabel(\"Métrique personnelle\")\n",
    "plt.show()"
   ]
  },
  {
   "cell_type": "code",
   "execution_count": null,
   "id": "d4bdacac-3aec-4eb7-adfd-31ef7ae739bc",
   "metadata": {},
   "outputs": [],
   "source": [
    "threshold_array = np.linspace(0, 1, 100)\n",
    "accuracy_list = []\n",
    "\n",
    "for threshold in threshold_array:\n",
    "    # Labels prédits pour un seuil donné\n",
    "    label_pred_threshold = (y_pred > threshold).astype(int)\n",
    "    # Calcul de l'accuracy pour un seuil donné\n",
    "    accuracy_threshold = accuracy_score(\n",
    "        y_true=y_test, y_pred=label_pred_threshold\n",
    "    )\n",
    "\n",
    "    accuracy_list.append(accuracy_threshold)\n",
    "\n",
    "plt.plot(threshold_array, accuracy_list)\n",
    "plt.show()"
   ]
  },
  {
   "cell_type": "code",
   "execution_count": null,
   "id": "ced72178-cfaa-4605-927c-5c45b3e74331",
   "metadata": {},
   "outputs": [],
   "source": [
    "from sklearn.metrics import accuracy_score"
   ]
  },
  {
   "cell_type": "code",
   "execution_count": null,
   "id": "525ab3fb-adce-4781-a513-661c7c773de0",
   "metadata": {},
   "outputs": [],
   "source": []
  },
  {
   "cell_type": "code",
   "execution_count": null,
   "id": "def61531-31dd-43dd-8849-bca5d6b09ab3",
   "metadata": {},
   "outputs": [],
   "source": []
  },
  {
   "cell_type": "code",
   "execution_count": null,
   "id": "69820dd6-2e2f-4e6b-88a1-1ce1ce760b4a",
   "metadata": {},
   "outputs": [],
   "source": []
  },
  {
   "cell_type": "code",
   "execution_count": null,
   "id": "20619d81-931c-4017-9ff8-94a84f99e6a1",
   "metadata": {},
   "outputs": [],
   "source": [
    "fpr, tpr, thresholds = metrics.roc_curve(y_test, y_prob)\n",
    "precision_, recall_, thresh_ = precision_recall_curve(y_test, y_prob)"
   ]
  },
  {
   "cell_type": "code",
   "execution_count": null,
   "id": "33274ddb-64a3-4d2d-a5da-b04363e154b0",
   "metadata": {},
   "outputs": [],
   "source": [
    "def my_colors(n=5):\n",
    "    return [(sns.color_palette(\"viridis\", 100)[i]) for i in np.linspace(0, 99, n, dtype=int)]"
   ]
  },
  {
   "cell_type": "code",
   "execution_count": null,
   "id": "5285a133-0039-4fcf-b3f0-8c3459e1f9f3",
   "metadata": {},
   "outputs": [],
   "source": [
    "# calculate the g-mean for each threshold\n",
    "g_means = np.sqrt(tpr * (1-fpr))\n",
    "# locate the index of the largest g-mean\n",
    "ix = np.argmax(g_means)\n",
    "\n",
    "y_prob = (y_prob >= thresholds[ix]).astype(bool)\n",
    "\n",
    "tn, fp, fn, tp = confusion_matrix(y_test, y_prob).ravel()\n",
    "print(f'TN = {tn}, FP = {fp}, FN = {fn}, TP = {tp}')\n",
    "conf_mat = [[tp,fn],[fp,tn]]\n",
    "\n",
    "auc = metrics.roc_auc_score(y_test, y_prob)\n",
    "recall = metrics.recall_score(y_test, y_prob)\n",
    "precision = metrics.precision_score(y_test, y_prob)\n",
    "f1 = metrics.f1_score(y_test, y_prob)\n",
    "\n",
    "######################################\n",
    "print(f'Testset: \\\n",
    "threshold = {thresholds[ix]:.0%}, \\\n",
    "G-Mean= {g_means[ix]:.0%}, \\\n",
    "AUC = {auc:.0%}, \\\n",
    "recall= {recall:.0%}, \\\n",
    "f1 = {f1:.0%}')\n",
    "######################################\n",
    "\n",
    "plt.figure(figsize=(7, 7))\n",
    "\n",
    "plt.subplot(221)\n",
    "plt.axis('scaled')\n",
    "plt.xlim([0, 1])\n",
    "plt.ylim([0, 1])\n",
    "plt.title(\"ROC Curve\")\n",
    "plt.plot(fpr, tpr, 'k')\n",
    "plt.plot([0, 1], [0, 1], '--', lw=2, color='k')\n",
    "plt.fill_between(fpr, tpr, facecolor='dodgerblue', alpha=0.7)\n",
    "plt.scatter(fpr[ix], tpr[ix], marker='o', s=100, color='r', label='Best')\n",
    "plt.text(0.95, 0.05, f'AUC = {auc:.3f}', ha='right',\n",
    "         fontsize=16, weight='bold', color='white')\n",
    "plt.xlabel(\"False positive rate\")\n",
    "plt.ylabel(\"True positive rate\")\n",
    "\n",
    "plt.subplot(222)\n",
    "plt.plot(thresholds, g_means, 'r');\n",
    "plt.scatter(thresholds[ix], g_means[ix], marker='o', s=100, color='r', label='Best')\n",
    "plt.xlim(0,1)\n",
    "plt.xlabel('Proba threshold')\n",
    "plt.ylim(0,1)\n",
    "plt.ylabel('G-Means')\n",
    "plt.title('G-Means vs. threshold')\n",
    "\n",
    "plt.subplot(223)\n",
    "plt.plot(recall_, precision_, 'teal');\n",
    "plt.scatter(recall, precision, marker='o', s=100, color='r', label='Best')\n",
    "plt.xlim(0,1)\n",
    "plt.xlabel('Recall')\n",
    "plt.ylim(0,1)\n",
    "plt.ylabel('Precision')\n",
    "plt.title('Precision-recall curve')\n",
    "\n",
    "plt.subplot(224)\n",
    "sns.heatmap(conf_mat, cmap=my_colors(100), annot=True, fmt='.0f', cbar=False)\n",
    "plt.xticks([0.5,1.5], [1,0])\n",
    "plt.yticks([0.5,1.5], [1,0])\n",
    "plt.xlabel('Predicted label')\n",
    "plt.ylabel('True label')\n",
    "plt.title('Confusion matrix')\n",
    "\n",
    "plt.tight_layout(pad=1.1)\n",
    "plt.show()"
   ]
  },
  {
   "cell_type": "code",
   "execution_count": null,
   "id": "67e9dddc-6a34-42f1-8371-fcf9e4e4b13c",
   "metadata": {},
   "outputs": [],
   "source": []
  },
  {
   "cell_type": "code",
   "execution_count": null,
   "id": "8bc04fe0-78fa-4673-87df-c032980d8f9b",
   "metadata": {},
   "outputs": [],
   "source": []
  },
  {
   "cell_type": "code",
   "execution_count": null,
   "id": "e3220263-33a6-4e95-baa0-1652e957d80b",
   "metadata": {},
   "outputs": [],
   "source": []
  },
  {
   "cell_type": "code",
   "execution_count": null,
   "id": "f04136fa-5391-40e7-8c8e-6c73b0bbe7e0",
   "metadata": {},
   "outputs": [],
   "source": []
  },
  {
   "cell_type": "code",
   "execution_count": null,
   "id": "e0b015c0-0305-488f-892e-ff01aa81caa5",
   "metadata": {},
   "outputs": [],
   "source": []
  },
  {
   "cell_type": "code",
   "execution_count": null,
   "id": "393c8f3a-0a7e-4737-af38-6ff7e8460750",
   "metadata": {},
   "outputs": [],
   "source": []
  },
  {
   "cell_type": "code",
   "execution_count": null,
   "id": "dc612dd1-495d-4b70-a25e-6355bb80765a",
   "metadata": {},
   "outputs": [],
   "source": []
  },
  {
   "cell_type": "code",
   "execution_count": null,
   "id": "46c1dcc3-5cec-4196-8da3-8d18f9cd9555",
   "metadata": {},
   "outputs": [],
   "source": []
  },
  {
   "cell_type": "markdown",
   "id": "5e4ed5f7-0b5f-4948-bf78-2be5ba31445a",
   "metadata": {
    "tags": []
   },
   "source": [
    "<div class=\"alert alert-block alert-warning\">\n",
    "    <p>AQUI</p>\n",
    "</div>"
   ]
  },
  {
   "cell_type": "code",
   "execution_count": null,
   "id": "73d5270d-78d4-49ab-962a-64d87686d82e",
   "metadata": {},
   "outputs": [],
   "source": [
    "!cat /proc/cpuinfo"
   ]
  },
  {
   "cell_type": "code",
   "execution_count": null,
   "id": "e26e4839-e9fa-47be-b873-52f3f2d6134f",
   "metadata": {},
   "outputs": [],
   "source": []
  },
  {
   "cell_type": "code",
   "execution_count": null,
   "id": "e71fb338-f8e5-469d-a286-a6f8143c6095",
   "metadata": {},
   "outputs": [],
   "source": []
  },
  {
   "cell_type": "code",
   "execution_count": null,
   "id": "b0ac4d5e-432d-4aed-8075-8b39652e8f42",
   "metadata": {},
   "outputs": [],
   "source": []
  },
  {
   "cell_type": "code",
   "execution_count": null,
   "id": "3ff84cea-4f32-49d0-8ac1-0ff035324a47",
   "metadata": {},
   "outputs": [],
   "source": []
  },
  {
   "cell_type": "code",
   "execution_count": null,
   "id": "d111696b-1db8-4469-9fd3-79d09a4a4912",
   "metadata": {},
   "outputs": [],
   "source": []
  },
  {
   "cell_type": "code",
   "execution_count": null,
   "id": "43a81823-6b37-4b39-b8fb-8bbbeb92439e",
   "metadata": {},
   "outputs": [],
   "source": [
    "lgbm = imbpipeline(steps = [[\"Smote\", smote],\n",
    "                           [\"LightGBM\", LGBMClassifier(colsample_bytree=0.8,\n",
    "                                                       subsample=0.8,\n",
    "                                                       metric=\"None\",\n",
    "                                                       n_estimators=200,\n",
    "                                                       random_state=13,\n",
    "                                                       silent=True,\n",
    "                                                       is_unbalance=False,\n",
    "                                                       n_jobs=-1)]\n",
    "                          ]\n",
    "                 )"
   ]
  },
  {
   "cell_type": "code",
   "execution_count": null,
   "id": "465a2228-74e0-4380-9574-9a669b6785e2",
   "metadata": {},
   "outputs": [],
   "source": [
    "param_grid = {\n",
    "    \"LightGBM__n_estimators\" : [8000, 10000],\n",
    "    \"LightGBM__num_leaves\" : [32, 34], \n",
    "    \"LightGBM__max_depth\" : [8, 9]\n",
    "}"
   ]
  },
  {
   "cell_type": "code",
   "execution_count": null,
   "id": "f838d4f4-cd43-491b-b57e-6022cdc3948d",
   "metadata": {},
   "outputs": [],
   "source": [
    "search_ultimate = GridSearchCV(estimator=lgbm,\n",
    "                      param_grid=param_grid,\n",
    "                      scoring=\"roc_auc\",\n",
    "                      cv=stratified_kfold,\n",
    "                      n_jobs=-1,\n",
    "                      return_train_score=True)"
   ]
  },
  {
   "cell_type": "code",
   "execution_count": null,
   "id": "15e86e11-e777-49eb-a5b2-bb754e62738d",
   "metadata": {},
   "outputs": [],
   "source": [
    "search_ultimate.fit(X_train, y_train)"
   ]
  },
  {
   "cell_type": "code",
   "execution_count": null,
   "id": "511b07d3-b9d8-4796-a33b-09f6d842aa29",
   "metadata": {},
   "outputs": [],
   "source": [
    "search_ultimate.best_score_"
   ]
  },
  {
   "cell_type": "code",
   "execution_count": null,
   "id": "ad0d8e50-107b-49e5-9236-871c85375ece",
   "metadata": {},
   "outputs": [],
   "source": []
  },
  {
   "cell_type": "code",
   "execution_count": null,
   "id": "8a51cc6b-b552-4e04-8074-a357dd506712",
   "metadata": {},
   "outputs": [],
   "source": []
  },
  {
   "cell_type": "code",
   "execution_count": null,
   "id": "1c9db463-2832-48b6-b772-7a1457dc8f75",
   "metadata": {},
   "outputs": [],
   "source": []
  },
  {
   "cell_type": "code",
   "execution_count": null,
   "id": "e7be33f6-89bd-4296-add8-5577e47638ff",
   "metadata": {},
   "outputs": [],
   "source": []
  },
  {
   "cell_type": "code",
   "execution_count": null,
   "id": "f70d7160-1587-484b-beb4-f0612a009348",
   "metadata": {},
   "outputs": [],
   "source": []
  },
  {
   "cell_type": "code",
   "execution_count": null,
   "id": "156b8cba-a8a0-4c44-9362-a138854be6ee",
   "metadata": {},
   "outputs": [],
   "source": []
  },
  {
   "cell_type": "markdown",
   "id": "d33a688c-8c5c-4f2b-ac0d-d5a0f44f7d8a",
   "metadata": {
    "tags": []
   },
   "source": [
    "<div class=\"alert alert-block alert-danger\">\n",
    "    <p><b>FLAG</b>\n",
    "   </p>\n",
    "</div>"
   ]
  },
  {
   "cell_type": "code",
   "execution_count": null,
   "id": "dc51b1cc-5e47-4538-952e-5d316b417c86",
   "metadata": {},
   "outputs": [],
   "source": [
    "xxxxxxxxxxx"
   ]
  },
  {
   "cell_type": "markdown",
   "id": "8dd2ffd0-b4e5-4147-9983-ea5113116732",
   "metadata": {
    "tags": []
   },
   "source": [
    "<div class=\"alert alert-block alert-danger\">\n",
    "    <p>PRUEBA 2\n",
    "   </p>\n",
    "</div>"
   ]
  },
  {
   "cell_type": "markdown",
   "id": "44857979-b14f-4bca-b78f-592636d00bac",
   "metadata": {
    "tags": []
   },
   "source": [
    "<div class=\"alert alert-block alert-warning\">\n",
    "    <p><b>Observations / Conclusions</b></p>\n",
    "    <ul style=\"list-style-type: square;\">\n",
    "        <li>NO se utilizo custom score</li>\n",
    "        <li>Kfold de 3 y no stratified https://towardsdatascience.com/the-right-way-of-using-smote-with-cross-validation-92a8d09d00c7</li>\n",
    "        <li>varios parametros de prueba</li>\n",
    "        <li>return_train_score</li>\n",
    "    </ul> \n",
    "</div>"
   ]
  },
  {
   "cell_type": "code",
   "execution_count": null,
   "id": "6828690e-4941-4a80-b335-5890958729c8",
   "metadata": {},
   "outputs": [],
   "source": [
    "import lightgbm as lgb\n",
    "from lightgbm import LGBMClassifier"
   ]
  },
  {
   "cell_type": "code",
   "execution_count": null,
   "id": "aa9a2c1d-e23e-4517-8b6a-2ed35aaf1439",
   "metadata": {},
   "outputs": [],
   "source": [
    "pipeline = imbpipeline(steps = [['Smote', smote],\n",
    "                                ['LightGBM', LGBMClassifier(colsample_bytree=0.8,\n",
    "                                                            subsample=0.8, is_unbalance=False,\n",
    "                                                            n_jobs=-1)]])"
   ]
  },
  {
   "cell_type": "code",
   "execution_count": null,
   "id": "e3ddde17-b497-45da-9a4b-9c879c4d7d9f",
   "metadata": {},
   "outputs": [],
   "source": [
    "sorted(pipeline.get_params().keys())"
   ]
  },
  {
   "cell_type": "code",
   "execution_count": null,
   "id": "e85666bf-ac16-4b4b-8ff5-e4c467e19322",
   "metadata": {},
   "outputs": [],
   "source": [
    "from sklearn.model_selection import StratifiedKFold, GridSearchCV"
   ]
  },
  {
   "cell_type": "code",
   "execution_count": null,
   "id": "5a287787-0fd7-4825-9af3-93cccf0d47d6",
   "metadata": {},
   "outputs": [],
   "source": [
    "kfold = KFold(n_splits=3, shuffle=True, random_state=0)"
   ]
  },
  {
   "cell_type": "code",
   "execution_count": null,
   "id": "0c4cebc5-e648-432c-87ef-ad647e058176",
   "metadata": {},
   "outputs": [],
   "source": [
    "cv_score = grid_search.best_score_"
   ]
  },
  {
   "cell_type": "code",
   "execution_count": null,
   "id": "5d2628f4-6996-4401-b072-85cfdc34c4e9",
   "metadata": {},
   "outputs": [],
   "source": [
    "test_score = grid_search.score(X_test, y_test)"
   ]
  },
  {
   "cell_type": "code",
   "execution_count": null,
   "id": "36f9305e-73da-4a6a-a260-7cbb32134b8b",
   "metadata": {},
   "outputs": [],
   "source": [
    "print(f'Cross-validation score: {cv_score}\\nTest score: {test_score}')"
   ]
  },
  {
   "cell_type": "code",
   "execution_count": null,
   "id": "97aeb087-9878-448b-8b15-e575df5e5f5f",
   "metadata": {},
   "outputs": [],
   "source": [
    "grid_search.cv_results_"
   ]
  },
  {
   "cell_type": "code",
   "execution_count": null,
   "id": "879f9c18-9f06-451c-8472-4a16191b92b1",
   "metadata": {},
   "outputs": [],
   "source": [
    "print(\"- Parameters:\", grid_search.best_params_)"
   ]
  },
  {
   "cell_type": "code",
   "execution_count": null,
   "id": "024dc306-200a-4596-94d7-fe88ac78f3a8",
   "metadata": {},
   "outputs": [],
   "source": [
    "# Transforming the result to dataframe format\n",
    "df_results = pd.DataFrame(grid_search.cv_results_)"
   ]
  },
  {
   "cell_type": "code",
   "execution_count": null,
   "id": "7cec1039-63b4-4043-9de2-f593d1d6d80b",
   "metadata": {},
   "outputs": [],
   "source": [
    "print(\"- Duration:\", round(df_results.iloc[grid_search.best_index_][\"mean_score_time\"], 3))"
   ]
  },
  {
   "cell_type": "markdown",
   "id": "68454d10-6953-4848-9ec8-9529631f1227",
   "metadata": {
    "tags": []
   },
   "source": [
    "<div class=\"alert alert-block alert-success\">\n",
    "    <p><b>OK</b></p>\n",
    "</div>"
   ]
  },
  {
   "cell_type": "markdown",
   "id": "e47b3875-2d18-4074-88ac-6a20e9be1b0c",
   "metadata": {
    "tags": []
   },
   "source": [
    "<div class=\"alert alert-block alert-danger\">\n",
    "    <p>PRUEBA 2\n",
    "   </p>\n",
    "</div>"
   ]
  },
  {
   "cell_type": "markdown",
   "id": "a858d112-ab5a-4eff-ab7e-c0f972404227",
   "metadata": {
    "tags": []
   },
   "source": [
    "<div style=\"background-color: #506AB9;\" >\n",
    "    <h3 style=\"margin: auto; padding: 20px; color:#fff; \">6.1. LightGBM</h3>\n",
    "</div>"
   ]
  },
  {
   "cell_type": "code",
   "execution_count": null,
   "id": "526da288-e24f-489d-8dba-6ee0bdfb25f5",
   "metadata": {},
   "outputs": [],
   "source": [
    "xxxxxxxxxxx"
   ]
  },
  {
   "cell_type": "markdown",
   "id": "fb2e72c0-c334-42a3-b6f2-4e1deb1834d5",
   "metadata": {
    "tags": []
   },
   "source": [
    "<div class=\"alert alert-block alert-danger\">\n",
    "    <p>funciona\n",
    "   </p>\n",
    "</div>"
   ]
  },
  {
   "cell_type": "markdown",
   "id": "08c19af0-627e-4e1c-8002-58515f505322",
   "metadata": {
    "tags": []
   },
   "source": [
    "<div class=\"alert alert-block alert-warning\">\n",
    "    <p><b>Observations / Conclusions</b></p>\n",
    "    <ul style=\"list-style-type: square;\">\n",
    "        <li>NO se utilizo custom score</li>\n",
    "        <li>Kfold de 5 y no stratified https://towardsdatascience.com/the-right-way-of-using-smote-with-cross-validation-92a8d09d00c7</li>\n",
    "        <li>solo un parametro de prueba</li>\n",
    "    </ul> \n",
    "</div>"
   ]
  },
  {
   "cell_type": "code",
   "execution_count": null,
   "id": "4b3fe208-73f3-4ba6-953c-75e3ad0b0091",
   "metadata": {},
   "outputs": [],
   "source": [
    "import lightgbm as lgb\n",
    "from lightgbm import LGBMClassifier"
   ]
  },
  {
   "cell_type": "code",
   "execution_count": null,
   "id": "5cdac1ce-ae98-4a09-9dc5-3148634042b4",
   "metadata": {},
   "outputs": [],
   "source": [
    "pipeline = imbpipeline(steps = [['Smote', smote],\n",
    "                                ['LightGBM', LGBMClassifier()]])"
   ]
  },
  {
   "cell_type": "code",
   "execution_count": null,
   "id": "be6424ed-bad5-4d36-82b2-403f96bdaf89",
   "metadata": {},
   "outputs": [],
   "source": [
    "sorted(pipeline.get_params().keys())"
   ]
  },
  {
   "cell_type": "code",
   "execution_count": null,
   "id": "c36e2cdd-1caa-4ecd-ada4-707c65717d86",
   "metadata": {},
   "outputs": [],
   "source": [
    "param_grid = {\n",
    "    \"LightGBM__n_estimators\" : [8000, 10000, 12000], \n",
    "}"
   ]
  },
  {
   "cell_type": "code",
   "execution_count": null,
   "id": "18804e9b-a219-4f3b-a8ec-ee97dc40b69e",
   "metadata": {},
   "outputs": [],
   "source": [
    "from sklearn.model_selection import KFold, GridSearchCV"
   ]
  },
  {
   "cell_type": "code",
   "execution_count": null,
   "id": "c9e88c64-cd4a-48d7-9a50-9064764c689f",
   "metadata": {},
   "outputs": [],
   "source": [
    "kfold = KFold(n_splits=5, shuffle=True, random_state=0)"
   ]
  },
  {
   "cell_type": "code",
   "execution_count": null,
   "id": "60abbafe-36e5-4a64-85fd-e9f738e6bd4b",
   "metadata": {},
   "outputs": [],
   "source": [
    "grid_search = GridSearchCV(estimator=pipeline,\n",
    "                           param_grid=param_grid,\n",
    "                           scoring='roc_auc',\n",
    "                           cv=kfold,\n",
    "                           n_jobs=-1)"
   ]
  },
  {
   "cell_type": "code",
   "execution_count": null,
   "id": "4704d541-2f78-4b56-a095-d7420020f052",
   "metadata": {},
   "outputs": [],
   "source": [
    "grid_search.fit(X_train, y_train)"
   ]
  },
  {
   "cell_type": "code",
   "execution_count": null,
   "id": "1d39a34d-ceed-4a7b-9191-26d39c3de7ff",
   "metadata": {},
   "outputs": [],
   "source": [
    "cv_score = grid_search.best_score_"
   ]
  },
  {
   "cell_type": "code",
   "execution_count": null,
   "id": "5c915f13-3e0e-4354-b6f5-d0329a116e11",
   "metadata": {},
   "outputs": [],
   "source": [
    "test_score = grid_search.score(X_test, y_test)"
   ]
  },
  {
   "cell_type": "code",
   "execution_count": null,
   "id": "94ee352c-01bc-427c-aea7-eb3c6d93cf6f",
   "metadata": {},
   "outputs": [],
   "source": [
    "print(f'Cross-validation score: {cv_score}\\nTest score: {test_score}')"
   ]
  },
  {
   "cell_type": "code",
   "execution_count": null,
   "id": "4d641972-b152-40f1-b5b8-a98d6564e49a",
   "metadata": {},
   "outputs": [],
   "source": [
    "grid_search.cv_results_"
   ]
  },
  {
   "cell_type": "markdown",
   "id": "e3863bfc-8cef-4a88-8c51-d39d5448330f",
   "metadata": {
    "tags": []
   },
   "source": [
    "<div class=\"alert alert-block alert-danger\">\n",
    "    <p>funciona\n",
    "   </p>\n",
    "</div>"
   ]
  },
  {
   "cell_type": "code",
   "execution_count": null,
   "id": "25ca53b5-3349-4a9f-b8cc-841f098aee06",
   "metadata": {},
   "outputs": [],
   "source": []
  },
  {
   "cell_type": "code",
   "execution_count": null,
   "id": "19cd4b99-7524-472f-a6bc-acf286b9fd11",
   "metadata": {},
   "outputs": [],
   "source": []
  },
  {
   "cell_type": "code",
   "execution_count": null,
   "id": "b16cda84-42c9-4438-a5ca-0dac1451571e",
   "metadata": {},
   "outputs": [],
   "source": []
  },
  {
   "cell_type": "code",
   "execution_count": null,
   "id": "d0be2114-d11a-45eb-a692-9bddeb85017e",
   "metadata": {},
   "outputs": [],
   "source": []
  },
  {
   "cell_type": "code",
   "execution_count": null,
   "id": "212d36ba-7082-4b30-acab-04e3f0228b23",
   "metadata": {},
   "outputs": [],
   "source": []
  },
  {
   "cell_type": "code",
   "execution_count": null,
   "id": "9d6fed3e-e919-4f0e-a129-71516ff2334e",
   "metadata": {},
   "outputs": [],
   "source": []
  },
  {
   "cell_type": "code",
   "execution_count": null,
   "id": "d37224ad-6d83-4a59-9350-68e5ba44e3c0",
   "metadata": {},
   "outputs": [],
   "source": []
  },
  {
   "cell_type": "code",
   "execution_count": null,
   "id": "e22bf99e-a9ba-4a03-91f5-7ba5ac9ea0fe",
   "metadata": {},
   "outputs": [],
   "source": []
  },
  {
   "cell_type": "code",
   "execution_count": null,
   "id": "e6d4c6fb-f529-4577-b842-65f54854ecb4",
   "metadata": {},
   "outputs": [],
   "source": []
  },
  {
   "cell_type": "code",
   "execution_count": null,
   "id": "21544d7b-e486-4cdd-8811-7cdb655a58a0",
   "metadata": {},
   "outputs": [],
   "source": []
  },
  {
   "cell_type": "code",
   "execution_count": null,
   "id": "232adc6e-9d73-4b0e-b0d2-c08b06a32680",
   "metadata": {},
   "outputs": [],
   "source": []
  },
  {
   "cell_type": "markdown",
   "id": "36f1b305-ee16-46ee-84cc-dc0446858489",
   "metadata": {
    "tags": []
   },
   "source": [
    "<div class=\"alert alert-block alert-danger\">\n",
    "    <p>PRUEBA HYPEROPT\n",
    "   </p>\n",
    "</div>"
   ]
  },
  {
   "cell_type": "code",
   "execution_count": null,
   "id": "fa00c80e-529c-42fd-9cef-b96f25d59bef",
   "metadata": {},
   "outputs": [],
   "source": [
    "from hyperopt import STATUS_OK, Trials, fmin, hp, tpe\n",
    "from hyperopt.pyll.base import scope\n",
    "\n",
    "from functools import partial"
   ]
  },
  {
   "cell_type": "code",
   "execution_count": null,
   "id": "90f29a43-bed7-4fc1-8ae2-984dabeb4755",
   "metadata": {},
   "outputs": [],
   "source": [
    "from sklearn.model_selection import KFold"
   ]
  },
  {
   "cell_type": "code",
   "execution_count": null,
   "id": "dcdff8ef-414d-4d2a-bae3-42372f1ebc4a",
   "metadata": {},
   "outputs": [],
   "source": [
    "# Hyperparametrization\n",
    "from hyperopt import tpe, hp, fmin, STATUS_OK, Trials, space_eval\n",
    "#from hyperopt.pyll.base import scope"
   ]
  },
  {
   "cell_type": "code",
   "execution_count": null,
   "id": "6f364e60-c54d-4b7c-8928-1b7c71edd74e",
   "metadata": {},
   "outputs": [],
   "source": [
    "oof_preds = np.zeros(df_current_clients[TRAINING_COLUMNS].shape[0])"
   ]
  },
  {
   "cell_type": "code",
   "execution_count": null,
   "id": "7cdd1106-2c8c-4d00-86f0-4cc7c7788033",
   "metadata": {},
   "outputs": [],
   "source": [
    "kfold = KFold(n_splits=2, shuffle=True, random_state=0)"
   ]
  },
  {
   "cell_type": "code",
   "execution_count": null,
   "id": "78572c41-68f8-4dc5-9529-2b64c2e7c4a5",
   "metadata": {},
   "outputs": [],
   "source": []
  },
  {
   "cell_type": "code",
   "execution_count": null,
   "id": "16001b94-440b-400c-bbba-e17c7f498ff5",
   "metadata": {},
   "outputs": [],
   "source": [
    "N_ESTIMATORS = [8000, 10000]\n",
    "#NUM_LEAVES = [32, 34, 36]\n",
    "#MAX_DEPTH = [7, 8, 9]"
   ]
  },
  {
   "cell_type": "code",
   "execution_count": null,
   "id": "b9a0cdff-0508-4ce6-b41e-623971a452e4",
   "metadata": {
    "tags": []
   },
   "outputs": [],
   "source": [
    "space_params = {\n",
    "    \"LightGBM__n_estimators\" : hp.choice(\"n_estimators\", N_ESTIMATORS),\n",
    "}"
   ]
  },
  {
   "cell_type": "code",
   "execution_count": null,
   "id": "e228beac-bb3d-441c-ab54-d7536f473789",
   "metadata": {},
   "outputs": [],
   "source": [
    "clf = imbpipeline(steps = [[\"Smote\", smote],\n",
    "                           [\"LightGBM\", LGBMClassifier(space_params,\n",
    "                                                       colsample_bytree=0.8,\n",
    "                                                       subsample=0.8,\n",
    "                                                       is_unbalance=False,\n",
    "                                                       n_jobs=-1)]\n",
    "                          ]\n",
    "                 )\n"
   ]
  },
  {
   "cell_type": "code",
   "execution_count": null,
   "id": "d3b7ae30-f8b6-4647-aba2-309df5d21894",
   "metadata": {},
   "outputs": [],
   "source": [
    "for train_idx, test_idx, in kfold.split(df_current_clients[TRAINING_COLUMNS]):\n",
    "    \n",
    "    X_train, X_test = df_current_clients[TRAINING_COLUMNS].iloc[train_idx], df_current_clients[TRAINING_COLUMNS].iloc[test_idx]\n",
    "    y_train, y_test = df_current_clients[\"TARGET\"].iloc[train_idx], df_current_clients[\"TARGET\"].iloc[test_idx]\n",
    "    \n",
    "    evaluation = [(X_train, y_train), (X_test, y_test)]\n",
    "    \n",
    "    clf.fit(X_train, y_train, eval_set=evaluation, eval_metric=\"auc\",\n",
    "            callbacks=[lgb.early_stopping(stopping_rounds=100),\n",
    "                       lgb.log_evaluation(period=-1)])\n",
    "    \n",
    "    oof_preds[test_idx] =clf.predict_proba(y_train, num_iteration=clf.best_iteration_)[:, 1]\n",
    "    \n",
    "auc = roc_auc_score(df_current_clients[\"TARGET\"], oof_preds)\n",
    "print(\">> ROC-AUC Score %.6f\" % auc )\n",
    "print(\"status \", STATUS_OK)\n",
    "\n"
   ]
  },
  {
   "cell_type": "code",
   "execution_count": null,
   "id": "feb29397-6157-49c3-8484-647cb443e4c2",
   "metadata": {},
   "outputs": [],
   "source": []
  },
  {
   "cell_type": "code",
   "execution_count": null,
   "id": "f0813f3c-34d6-4a8b-8111-2e13f14be64e",
   "metadata": {},
   "outputs": [],
   "source": []
  },
  {
   "cell_type": "code",
   "execution_count": null,
   "id": "3cb79673-2737-426d-841b-a46b24891121",
   "metadata": {},
   "outputs": [],
   "source": []
  },
  {
   "cell_type": "code",
   "execution_count": null,
   "id": "982af10f-18fe-4220-b347-e67e56edf0d2",
   "metadata": {},
   "outputs": [],
   "source": [
    "NOT_TRAINING_COLUMNS  = [\"TARGET\", \"SK_ID_CURR\", \"SK_ID_BUREAU\", \"SK_ID_PREV\", \"index\"] \n",
    "TRAINING_COLUMNS = [col for col in df_current_clients.columns if col not in NOT_TRAINING_COLUMNS]"
   ]
  },
  {
   "cell_type": "code",
   "execution_count": null,
   "id": "ca6c4328-f8a7-4743-88a4-05bfb5b4a6a3",
   "metadata": {},
   "outputs": [],
   "source": []
  },
  {
   "cell_type": "code",
   "execution_count": null,
   "id": "b54c7c51-fb76-4f35-92dd-f02242fc6859",
   "metadata": {},
   "outputs": [],
   "source": []
  },
  {
   "cell_type": "code",
   "execution_count": null,
   "id": "b2e25086-522a-484b-9c6a-c774e5209700",
   "metadata": {},
   "outputs": [],
   "source": [
    "X_train, X_test, y_train, y_test = train_test_split(X, y_target, test_size=0.20, random_state=42)"
   ]
  },
  {
   "cell_type": "code",
   "execution_count": null,
   "id": "21db6258-6309-4b5d-aa8c-f0ad44604b48",
   "metadata": {},
   "outputs": [],
   "source": []
  },
  {
   "cell_type": "markdown",
   "id": "5dee6cf4-a8d9-4855-a834-a010a4c1615e",
   "metadata": {
    "tags": []
   },
   "source": [
    "<div class=\"alert alert-block alert-danger\">\n",
    "    <p>PRUEBA HYPEROPT\n",
    "   </p>\n",
    "</div>"
   ]
  },
  {
   "cell_type": "code",
   "execution_count": null,
   "id": "585637ac-5c73-4991-ade4-330aae27328c",
   "metadata": {},
   "outputs": [],
   "source": []
  },
  {
   "cell_type": "code",
   "execution_count": null,
   "id": "f06b4540-49b7-4550-bfa0-b47182a8a01a",
   "metadata": {},
   "outputs": [],
   "source": []
  },
  {
   "cell_type": "code",
   "execution_count": null,
   "id": "74abcd6a-05de-4090-8383-c40e08ece5e5",
   "metadata": {},
   "outputs": [],
   "source": []
  },
  {
   "cell_type": "code",
   "execution_count": null,
   "id": "cdfd780e-b47a-46fa-b60f-636869913d9b",
   "metadata": {},
   "outputs": [],
   "source": []
  },
  {
   "cell_type": "code",
   "execution_count": null,
   "id": "5456a911-2b06-4b3d-a329-f0e82919201d",
   "metadata": {},
   "outputs": [],
   "source": []
  },
  {
   "cell_type": "markdown",
   "id": "615a9fc8-09e4-47e3-9af6-c72bc34b7a71",
   "metadata": {
    "tags": []
   },
   "source": [
    "<div class=\"alert alert-block alert-danger\">\n",
    "    <p>PRUEBA 3<br>greater_is_betterbool, default=True\n",
    "   </p>\n",
    "</div>"
   ]
  },
  {
   "cell_type": "code",
   "execution_count": null,
   "id": "310031db-29d0-4a62-a2bd-7c97a0f8db81",
   "metadata": {},
   "outputs": [],
   "source": [
    "from sklearn.metrics import confusion_matrix"
   ]
  },
  {
   "cell_type": "code",
   "execution_count": null,
   "id": "ba2148d2-48c8-4374-b855-5cd61debe0e3",
   "metadata": {},
   "outputs": [],
   "source": [
    "def custom_score(y_true, y_pred):\n",
    "    \"\"\"\n",
    "    Method used to calculate a score based on the penalization of False Negatives.\n",
    "\n",
    "    Parameters:\n",
    "    -----------------\n",
    "        y_true (series): True values\n",
    "        y_pred (series): Predicted values\n",
    "        \n",
    "    Returns:\n",
    "    -----------------\n",
    "        Score. (float): Score obtained based on the rules defined to measure. \n",
    "    \"\"\"\n",
    "    \n",
    "    # Getting the probability outputs from \"predict_proba\"\n",
    "    threshold = 0.5\n",
    "    y_pred = (y_pred >= threshold).astype(int)\n",
    "    \n",
    "    TN_rate = 1        # Loans that are not in default and were predicted correctly\n",
    "    TP_rate = 1        # Loans that are in default and were predicted correctly\n",
    "    FP_rate = 0        # Loans that are not in default and were predicted incorrectly\n",
    "    FN_rate = -10      # Loans that are in default and were were predicted incorrectly\n",
    "    \n",
    "    # Getting all values based on confusion matrix\n",
    "    (TN, FP, FN, TP) = confusion_matrix(y_true, y_pred).ravel()\n",
    "\n",
    "    # Total of default and not default cases\n",
    "    total_not_default = TN + FP     # Not default cases\n",
    "    total_default = TP + FN         # Default cases \n",
    "    \n",
    "    gain_total = TN*TN_rate + TP*TP_rate + FP*FP_rate + FN*FN_rate\n",
    "    gain_maximun = total_not_default*TN_rate + total_default*TP_rate\n",
    "    gain_minumun = total_not_default*TN_rate + total_default*FN_rate\n",
    "    \n",
    "    # normalize to get score between 0 (baseline) and 1\n",
    "    score = (gain_total - gain_minumun) / (gain_maximun - gain_minumun)\n",
    "    \n",
    "    return score"
   ]
  },
  {
   "cell_type": "code",
   "execution_count": null,
   "id": "90178c45-674d-4094-beca-951850929864",
   "metadata": {},
   "outputs": [],
   "source": [
    "from sklearn.metrics import make_scorer"
   ]
  },
  {
   "cell_type": "code",
   "execution_count": null,
   "id": "2345bac6-dc36-4893-9d80-481930000522",
   "metadata": {},
   "outputs": [],
   "source": [
    "grid_search = GridSearchCV(estimator=pipeline,\n",
    "                           param_grid=param_grid,\n",
    "                           scoring=make_scorer(custom_score),\n",
    "                           cv=kfold,\n",
    "                           n_jobs=-1, \n",
    "                           return_train_score=True)"
   ]
  },
  {
   "cell_type": "code",
   "execution_count": null,
   "id": "d5fd7d7b-d372-429d-ba3f-77420e8004f1",
   "metadata": {},
   "outputs": [],
   "source": [
    "grid_search.fit(X_train, y_train)"
   ]
  },
  {
   "cell_type": "code",
   "execution_count": null,
   "id": "ceb26b80-6d3b-4006-adf4-b6899d9f1742",
   "metadata": {},
   "outputs": [],
   "source": [
    "cv_score = grid_search.best_score_"
   ]
  },
  {
   "cell_type": "code",
   "execution_count": null,
   "id": "59f92c88-7c65-40fa-b23c-da08e547ef22",
   "metadata": {},
   "outputs": [],
   "source": [
    "test_score = grid_search.score(X_test, y_test)"
   ]
  },
  {
   "cell_type": "code",
   "execution_count": null,
   "id": "b8bed3b3-0b69-4faa-b8c1-eb0165cb0a0c",
   "metadata": {},
   "outputs": [],
   "source": [
    "print(f'Cross-validation score: {cv_score}\\nTest score: {test_score}')"
   ]
  },
  {
   "cell_type": "code",
   "execution_count": null,
   "id": "094a4213-d555-49f3-a9b8-a6f31b621ba6",
   "metadata": {},
   "outputs": [],
   "source": [
    "grid_search.cv_results_"
   ]
  },
  {
   "cell_type": "code",
   "execution_count": null,
   "id": "84781fd7-015b-417f-80fa-a4bd269027ca",
   "metadata": {},
   "outputs": [],
   "source": [
    "print(\"- Parameters:\", grid_search.best_params_)"
   ]
  },
  {
   "cell_type": "code",
   "execution_count": null,
   "id": "3adf00fa-20ea-484e-bb1b-52864d9aa860",
   "metadata": {},
   "outputs": [],
   "source": [
    "# Transforming the result to dataframe format\n",
    "df_results = pd.DataFrame(grid_search.cv_results_)"
   ]
  },
  {
   "cell_type": "code",
   "execution_count": null,
   "id": "d18d3a89-3f7c-4b29-ba3b-5316df570f61",
   "metadata": {},
   "outputs": [],
   "source": [
    "print(\"- Duration:\", round(df_results.iloc[grid_search.best_index_][\"mean_score_time\"], 3))"
   ]
  },
  {
   "cell_type": "markdown",
   "id": "f45c5ad6-f2cc-44c0-8ca3-4f37b94b77de",
   "metadata": {
    "tags": []
   },
   "source": [
    "<div class=\"alert alert-block alert-danger\">\n",
    "    <p>PRUEBA 3\n",
    "   </p>\n",
    "</div>"
   ]
  },
  {
   "cell_type": "code",
   "execution_count": null,
   "id": "158363f7-27a8-4982-9d6f-1230e060db1b",
   "metadata": {},
   "outputs": [],
   "source": []
  },
  {
   "cell_type": "code",
   "execution_count": null,
   "id": "0b16abed-18c6-46a6-9b20-1b3c18934af5",
   "metadata": {},
   "outputs": [],
   "source": []
  },
  {
   "cell_type": "code",
   "execution_count": null,
   "id": "01688416-c72c-4145-b00a-5ec0dfcf6438",
   "metadata": {},
   "outputs": [],
   "source": []
  },
  {
   "cell_type": "code",
   "execution_count": null,
   "id": "1821a19d-e046-4e6e-8184-15dc249e65ad",
   "metadata": {},
   "outputs": [],
   "source": []
  },
  {
   "cell_type": "markdown",
   "id": "71a9b633-fe78-4d65-bfd5-9947c212111e",
   "metadata": {
    "tags": []
   },
   "source": [
    "<div class=\"alert alert-block alert-danger\">\n",
    "    <p>PRUEBA 4<br>greater_is_betterbool, default=False\n",
    "   </p>\n",
    "</div>"
   ]
  },
  {
   "cell_type": "code",
   "execution_count": null,
   "id": "508c2dd0-be6d-4ef8-a6d7-3af7b7f7e310",
   "metadata": {},
   "outputs": [],
   "source": [
    "from sklearn.metrics import confusion_matrix"
   ]
  },
  {
   "cell_type": "code",
   "execution_count": null,
   "id": "55b64e9b-dfc6-409e-9f51-43ffc16ed987",
   "metadata": {},
   "outputs": [],
   "source": [
    "def custom_score(y_true, y_pred):\n",
    "    \"\"\"\n",
    "    Method used to calculate a score based on the penalization of False Negatives.\n",
    "\n",
    "    Parameters:\n",
    "    -----------------\n",
    "        y_true (series): True values\n",
    "        y_pred (series): Predicted values\n",
    "        \n",
    "    Returns:\n",
    "    -----------------\n",
    "        Score. (float): Score obtained based on the rules defined to measure. \n",
    "    \"\"\"\n",
    "    \n",
    "    # Getting the probability outputs from \"predict_proba\"\n",
    "    threshold = 0.5\n",
    "    y_pred = (y_pred >= threshold).astype(int)\n",
    "    \n",
    "    TN_rate = 1        # Loans that are not in default and were predicted correctly\n",
    "    TP_rate = 1        # Loans that are in default and were predicted correctly\n",
    "    FP_rate = 0        # Loans that are not in default and were predicted incorrectly\n",
    "    FN_rate = -10      # Loans that are in default and were were predicted incorrectly\n",
    "    \n",
    "    # Getting all values based on confusion matrix\n",
    "    (TN, FP, FN, TP) = confusion_matrix(y_true, y_pred).ravel()\n",
    "\n",
    "    # Total of default and not default cases\n",
    "    total_not_default = TN + FP     # Not default cases\n",
    "    total_default = TP + FN         # Default cases \n",
    "    \n",
    "    gain_total = TN*TN_rate + TP*TP_rate + FP*FP_rate + FN*FN_rate\n",
    "    gain_maximun = total_not_default*TN_rate + total_default*TP_rate\n",
    "    gain_minumun = total_not_default*TN_rate + total_default*FN_rate\n",
    "    \n",
    "    # normalize to get score between 0 (baseline) and 1\n",
    "    score = (gain_total - gain_minumun) / (gain_maximun - gain_minumun)\n",
    "    \n",
    "    return score"
   ]
  },
  {
   "cell_type": "code",
   "execution_count": null,
   "id": "65173606-cd30-42d2-87f2-e57be591979e",
   "metadata": {},
   "outputs": [],
   "source": [
    "from sklearn.metrics import make_scorer"
   ]
  },
  {
   "cell_type": "code",
   "execution_count": null,
   "id": "287101ea-fc7b-4110-986f-184fa5fa4064",
   "metadata": {},
   "outputs": [],
   "source": [
    "grid_search = GridSearchCV(estimator=pipeline,\n",
    "                           param_grid=param_grid,\n",
    "                           scoring=make_scorer(custom_score, greater_is_better=False),\n",
    "                           cv=kfold,\n",
    "                           n_jobs=-1, \n",
    "                           return_train_score=True)"
   ]
  },
  {
   "cell_type": "code",
   "execution_count": null,
   "id": "b692267b-8e2f-42f1-8617-7aaabf8c240a",
   "metadata": {},
   "outputs": [],
   "source": [
    "grid_search.fit(X_train, y_train)"
   ]
  },
  {
   "cell_type": "code",
   "execution_count": null,
   "id": "aee783b9-ad02-455c-8fe4-aab7bfa4ff5b",
   "metadata": {},
   "outputs": [],
   "source": [
    "cv_score = grid_search.best_score_"
   ]
  },
  {
   "cell_type": "code",
   "execution_count": null,
   "id": "10ffebfd-95fe-44a2-9873-b4f425bf6926",
   "metadata": {},
   "outputs": [],
   "source": [
    "test_score = grid_search.score(X_test, y_test)"
   ]
  },
  {
   "cell_type": "code",
   "execution_count": null,
   "id": "bbe4a549-976b-4aec-8111-42b1054bdf19",
   "metadata": {},
   "outputs": [],
   "source": [
    "print(f'Cross-validation score: {cv_score}\\nTest score: {test_score}')"
   ]
  },
  {
   "cell_type": "code",
   "execution_count": null,
   "id": "4cb411a0-6a99-47cc-9fbb-8565be1842a0",
   "metadata": {},
   "outputs": [],
   "source": [
    "grid_search.cv_results_"
   ]
  },
  {
   "cell_type": "code",
   "execution_count": null,
   "id": "24ef11dd-b4fb-4296-9c05-61f5201a4820",
   "metadata": {},
   "outputs": [],
   "source": [
    "print(\"- Parameters:\", grid_search.best_params_)"
   ]
  },
  {
   "cell_type": "code",
   "execution_count": null,
   "id": "987f243d-d328-46e5-b2b3-e1352dcb174b",
   "metadata": {},
   "outputs": [],
   "source": [
    "# Transforming the result to dataframe format\n",
    "df_results = pd.DataFrame(grid_search.cv_results_)"
   ]
  },
  {
   "cell_type": "code",
   "execution_count": null,
   "id": "dfe2ee41-b76e-4ed0-a933-599f291b1b10",
   "metadata": {},
   "outputs": [],
   "source": [
    "print(\"- Duration:\", round(df_results.iloc[grid_search.best_index_][\"mean_score_time\"], 3))"
   ]
  },
  {
   "cell_type": "markdown",
   "id": "833b42f9-0bd2-43e7-b3a4-b48339ee5cd9",
   "metadata": {
    "tags": []
   },
   "source": [
    "<div class=\"alert alert-block alert-danger\">\n",
    "    <p>PRUEBA 4\n",
    "   </p>\n",
    "</div>"
   ]
  },
  {
   "cell_type": "code",
   "execution_count": null,
   "id": "4a6667ac-6faa-458d-838c-02e41562b745",
   "metadata": {},
   "outputs": [],
   "source": []
  },
  {
   "cell_type": "code",
   "execution_count": null,
   "id": "b991abac-bfe4-4dca-91ef-c88b2e61d932",
   "metadata": {},
   "outputs": [],
   "source": []
  },
  {
   "cell_type": "code",
   "execution_count": null,
   "id": "e6c77b2e-31e9-476b-8b37-17f43b53de31",
   "metadata": {},
   "outputs": [],
   "source": []
  },
  {
   "cell_type": "code",
   "execution_count": null,
   "id": "690756b3-dd8a-498d-88a1-dc24f2369c37",
   "metadata": {},
   "outputs": [],
   "source": []
  },
  {
   "cell_type": "code",
   "execution_count": null,
   "id": "935ab8ad-9916-4ca8-9eb3-cfadaaff118b",
   "metadata": {},
   "outputs": [],
   "source": []
  },
  {
   "cell_type": "code",
   "execution_count": null,
   "id": "a581943e-8eaa-4f9c-8289-44a02daa6519",
   "metadata": {},
   "outputs": [],
   "source": []
  },
  {
   "cell_type": "markdown",
   "id": "7503176a-8be7-4ccf-9a79-8869922240d2",
   "metadata": {
    "tags": []
   },
   "source": [
    "<div class=\"alert alert-block alert-danger\">\n",
    "    <p>PRUEBA 5<br>greater_is_betterbool, default=False\n",
    "   </p>\n",
    "</div>"
   ]
  },
  {
   "cell_type": "code",
   "execution_count": null,
   "id": "2d99dc3c-e0ad-4e81-a6f4-8646828a82a3",
   "metadata": {},
   "outputs": [],
   "source": [
    "from sklearn.metrics import confusion_matrix"
   ]
  },
  {
   "cell_type": "code",
   "execution_count": null,
   "id": "9df85008-5eb7-4d9b-84b9-c42945a54ad4",
   "metadata": {},
   "outputs": [],
   "source": [
    "def custom_score(y_true, y_pred):\n",
    "    \"\"\"\n",
    "    Method used to calculate a score based on the penalization of False Negatives.\n",
    "\n",
    "    Parameters:\n",
    "    -----------------\n",
    "        y_true (series): True values\n",
    "        y_pred (series): Predicted values\n",
    "        \n",
    "    Returns:\n",
    "    -----------------\n",
    "        Score. (float): Score obtained based on the rules defined to measure. \n",
    "    \"\"\"\n",
    "    \n",
    "    # Getting the probability outputs from \"predict_proba\"\n",
    "    threshold = 0.5\n",
    "    y_pred = (y_pred >= threshold).astype(int)\n",
    "    \n",
    "    TN_rate = 1        # Loans that are not in default and were predicted correctly\n",
    "    TP_rate = 1        # Loans that are in default and were predicted correctly\n",
    "    FP_rate = 0        # Loans that are not in default and were predicted incorrectly\n",
    "    FN_rate = -10      # Loans that are in default and were were predicted incorrectly\n",
    "    \n",
    "    # Getting all values based on confusion matrix\n",
    "    (TN, FP, FN, TP) = confusion_matrix(y_true, y_pred).ravel()\n",
    "\n",
    "    # Total of default and not default cases\n",
    "    total_not_default = TN + FP     # Not default cases\n",
    "    total_default = TP + FN         # Default cases \n",
    "    \n",
    "    gain_total = TN*TN_rate + TP*TP_rate + FP*FP_rate + FN*FN_rate\n",
    "    gain_maximun = total_not_default*TN_rate + total_default*TP_rate\n",
    "    gain_minumun = total_not_default*TN_rate + total_default*FN_rate\n",
    "    \n",
    "    # normalize to get score between 0 (baseline) and 1\n",
    "    score = (gain_total - gain_minumun) / (gain_maximun - gain_minumun)\n",
    "    \n",
    "    return score"
   ]
  },
  {
   "cell_type": "code",
   "execution_count": null,
   "id": "ed5708f5-2a3b-4b46-9305-378d013a9c73",
   "metadata": {},
   "outputs": [],
   "source": [
    "from sklearn.metrics import make_scorer"
   ]
  },
  {
   "cell_type": "code",
   "execution_count": null,
   "id": "7399f608-8913-4b70-a0fe-199a9c659095",
   "metadata": {},
   "outputs": [],
   "source": [
    "grid_search = GridSearchCV(estimator=pipeline,\n",
    "                           param_grid=param_grid,\n",
    "                           scoring=\"average_precision\",\n",
    "                           cv=kfold,\n",
    "                           n_jobs=-1, \n",
    "                           return_train_score=True)"
   ]
  },
  {
   "cell_type": "code",
   "execution_count": null,
   "id": "9d2eef73-93f3-47f7-a0a2-3e2cd471b15b",
   "metadata": {},
   "outputs": [],
   "source": [
    "grid_search.fit(X_train, y_train)"
   ]
  },
  {
   "cell_type": "code",
   "execution_count": null,
   "id": "0b998d6d-6f21-45bc-b554-68707c508d7e",
   "metadata": {},
   "outputs": [],
   "source": [
    "cv_score = grid_search.best_score_"
   ]
  },
  {
   "cell_type": "code",
   "execution_count": null,
   "id": "0c0c7d35-5f0c-402a-9239-3f7c0308b73e",
   "metadata": {},
   "outputs": [],
   "source": [
    "test_score = grid_search.score(X_test, y_test)"
   ]
  },
  {
   "cell_type": "code",
   "execution_count": null,
   "id": "6cbddd4d-ac0d-4bf5-873c-2952ed228e30",
   "metadata": {},
   "outputs": [],
   "source": [
    "print(f'Cross-validation score: {cv_score}\\nTest score: {test_score}')"
   ]
  },
  {
   "cell_type": "code",
   "execution_count": null,
   "id": "32aeffc7-486b-4401-a77f-86140edbc602",
   "metadata": {},
   "outputs": [],
   "source": [
    "grid_search.cv_results_"
   ]
  },
  {
   "cell_type": "code",
   "execution_count": null,
   "id": "46dd7f57-8154-4161-9580-dbbbacaf8040",
   "metadata": {},
   "outputs": [],
   "source": [
    "print(\"- Parameters:\", grid_search.best_params_)"
   ]
  },
  {
   "cell_type": "code",
   "execution_count": null,
   "id": "8ead2ddb-9b20-4d7e-a89a-f99cb2b81bda",
   "metadata": {},
   "outputs": [],
   "source": [
    "# Transforming the result to dataframe format\n",
    "df_results = pd.DataFrame(grid_search.cv_results_)"
   ]
  },
  {
   "cell_type": "code",
   "execution_count": null,
   "id": "ef70a2f8-2c48-47bb-bc6e-8a1ac5901a84",
   "metadata": {},
   "outputs": [],
   "source": [
    "print(\"- Duration:\", round(df_results.iloc[grid_search.best_index_][\"mean_score_time\"], 3))"
   ]
  },
  {
   "cell_type": "markdown",
   "id": "65d38bb3-1781-4cc8-80ab-a96bce4d1796",
   "metadata": {
    "tags": []
   },
   "source": [
    "<div class=\"alert alert-block alert-danger\">\n",
    "    <p>PRUEBA 3\n",
    "   </p>\n",
    "</div>"
   ]
  },
  {
   "cell_type": "code",
   "execution_count": null,
   "id": "fa559cee-3178-4cc7-b38d-ccfb9f56e51e",
   "metadata": {},
   "outputs": [],
   "source": []
  },
  {
   "cell_type": "code",
   "execution_count": null,
   "id": "2f26d796-1ae9-41fa-b4e5-e15a8be899b3",
   "metadata": {},
   "outputs": [],
   "source": []
  },
  {
   "cell_type": "code",
   "execution_count": null,
   "id": "b8503c99-17cc-4aa2-aa75-9cb4b0191db5",
   "metadata": {},
   "outputs": [],
   "source": []
  },
  {
   "cell_type": "code",
   "execution_count": null,
   "id": "7c053f3a-ff42-4614-8461-5d7a717c1317",
   "metadata": {},
   "outputs": [],
   "source": []
  },
  {
   "cell_type": "code",
   "execution_count": null,
   "id": "ce754d0f-f8cc-4c8f-a990-43ad33c98085",
   "metadata": {},
   "outputs": [],
   "source": []
  },
  {
   "cell_type": "code",
   "execution_count": null,
   "id": "e9eff293-696d-4d65-a452-aac2ae7836ab",
   "metadata": {},
   "outputs": [],
   "source": []
  },
  {
   "cell_type": "code",
   "execution_count": null,
   "id": "f663a19d-64a6-497c-8f4d-e91dfccc8b70",
   "metadata": {},
   "outputs": [],
   "source": []
  },
  {
   "cell_type": "code",
   "execution_count": null,
   "id": "ac9f5735-a7c4-4bf4-ad9e-41cab4fedac1",
   "metadata": {},
   "outputs": [],
   "source": []
  },
  {
   "cell_type": "code",
   "execution_count": null,
   "id": "8175a633-e68d-47b6-9388-20eae485013d",
   "metadata": {},
   "outputs": [],
   "source": []
  },
  {
   "cell_type": "code",
   "execution_count": null,
   "id": "10a72efd-8e9b-464d-a08b-cb3923cd4f81",
   "metadata": {},
   "outputs": [],
   "source": []
  },
  {
   "cell_type": "code",
   "execution_count": null,
   "id": "f9f15091-c838-4d59-938f-cb8706ff58c3",
   "metadata": {},
   "outputs": [],
   "source": [
    "folds = KFold(n_splits=2, shuffle=True, random_state=42)"
   ]
  },
  {
   "cell_type": "code",
   "execution_count": null,
   "id": "1d1106a9-d8ad-4d2c-a4cb-d818c92c668c",
   "metadata": {},
   "outputs": [],
   "source": [
    "# Create arrays and dataframes to store results\n",
    "oof_preds = np.zeros(df_current_clients.shape[0])\n",
    "feats = [f for f in df_current_clients.columns if f not in [\"TARGET\", \"SK_ID_CURR\", \"SK_ID_BUREAU\", \"SK_ID_PREV\"]]"
   ]
  },
  {
   "cell_type": "code",
   "execution_count": null,
   "id": "9810c94e-380f-4707-a745-f9ec3e5ea8dd",
   "metadata": {},
   "outputs": [],
   "source": [
    "pipeline = imbpipeline(steps = [\n",
    "        ['Smote', smote],\n",
    "        ['LightGBM', LGBMClassifier(colsample_bytree=0.8, subsample=0.8, \n",
    "                                    is_unbalance=False, n_jobs=-1)]\n",
    "    ]\n",
    ")"
   ]
  },
  {
   "cell_type": "code",
   "execution_count": null,
   "id": "7e3d5a1b-84c1-4354-b808-1aec89a6ea0f",
   "metadata": {},
   "outputs": [],
   "source": [
    "sorted(pipeline.get_params().keys())"
   ]
  },
  {
   "cell_type": "code",
   "execution_count": null,
   "id": "8cc02c7a-febf-4bca-bb9d-8acdcdd6893c",
   "metadata": {},
   "outputs": [],
   "source": [
    "param_grid = {\n",
    "    \"LightGBM__n_estimators\" : [8000, 10000, 12000], \n",
    "}"
   ]
  },
  {
   "cell_type": "code",
   "execution_count": null,
   "id": "f8821b6f-c736-4793-a5f5-6ead4dd9ee40",
   "metadata": {},
   "outputs": [],
   "source": [
    "for n_fold, (train_idx, valid_idx) in enumerate(folds.split(df_current_clients[feats], df_current_clients[\"TARGET\"])):\n",
    "    \n",
    "    print(\"\\n\")\n",
    "    \n",
    "    train_x, train_y = df_current_clients[feats].iloc[train_idx], df_current_clients[\"TARGET\"].iloc[train_idx]\n",
    "    valid_x, valid_y = df_current_clients[feats].iloc[valid_idx], df_current_clients[\"TARGET\"].iloc[valid_idx]\n",
    "    \n",
    "    # LightGBM parameters found by Bayesian optimization\n",
    "    clf = LGBMClassifier(\n",
    "        **space_params,\n",
    "        colsample_bytree=0.8, \n",
    "        subsample=0.8,\n",
    "        is_unbalance=False,\n",
    "        n_jobs=-1 \n",
    "    )    "
   ]
  },
  {
   "cell_type": "markdown",
   "id": "335c1cb8-b979-4a7a-8e79-8ca47a1f78be",
   "metadata": {
    "jp-MarkdownHeadingCollapsed": true,
    "tags": []
   },
   "source": [
    "<div style=\"background-color: #506AB9;\" >\n",
    "    <h3 style=\"margin: auto; padding: 20px; color:#fff; \">6.2. SVB</h3>\n",
    "</div>"
   ]
  },
  {
   "cell_type": "markdown",
   "id": "86f1d3e8-b04b-4710-959a-dc9cd627e522",
   "metadata": {
    "tags": []
   },
   "source": [
    "<div style=\"background-color: #506AB9;\" >\n",
    "    <h3 style=\"margin: auto; padding: 20px; color:#fff; \">6.3. RAndom Forest</h3>\n",
    "</div>"
   ]
  },
  {
   "cell_type": "code",
   "execution_count": null,
   "id": "8f51e943-916f-4ef0-94a0-013a7fd8d998",
   "metadata": {},
   "outputs": [],
   "source": []
  }
 ],
 "metadata": {
  "kernelspec": {
   "display_name": "Python 3 (ipykernel)",
   "language": "python",
   "name": "python3"
  },
  "language_info": {
   "codemirror_mode": {
    "name": "ipython",
    "version": 3
   },
   "file_extension": ".py",
   "mimetype": "text/x-python",
   "name": "python",
   "nbconvert_exporter": "python",
   "pygments_lexer": "ipython3",
   "version": "3.9.9"
  }
 },
 "nbformat": 4,
 "nbformat_minor": 5
}
