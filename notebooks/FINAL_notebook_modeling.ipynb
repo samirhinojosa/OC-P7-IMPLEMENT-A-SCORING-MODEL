{
 "cells": [
  {
   "cell_type": "markdown",
   "id": "20ff81f9-1cf8-4ccd-ab09-6bad5ce021a3",
   "metadata": {
    "tags": []
   },
   "source": [
    "<div style=\"display: flex; background-color: #3F579F;\">\n",
    "    <h1 style=\"margin: auto; font-weight: bold; padding: 30px 30px 0px 30px; color:#fff;\" align=\"center\">Implement a scoring model - P7</h1>\n",
    "</div>\n",
    "<div style=\"display: flex; background-color: #3F579F; margin: auto; padding: 5px 30px 0px 30px;\" >\n",
    "    <h3 style=\"width: 100%; text-align: center; float: left; font-size: 24px; color:#fff;\" align=\"center\">| Modeling Notebook |</h3>\n",
    "</div>\n",
    "<div style=\"display: flex; background-color: #3F579F; margin: auto; padding: 10px 30px 30px 30px;\">\n",
    "    <h4 style=\"width: 100%; text-align: center; float: left; font-size: 24px; color:#fff;\" align=\"center\">Data Scientist course - OpenClassrooms</h4>\n",
    "</div>"
   ]
  },
  {
   "cell_type": "markdown",
   "id": "638e912d-0022-41ba-b524-6bfef296b9a2",
   "metadata": {
    "tags": []
   },
   "source": [
    "# 1. Libraries"
   ]
  },
  {
   "cell_type": "markdown",
   "id": "0d8d0680-7d7c-46c5-b409-14d1fe219f36",
   "metadata": {},
   "source": [
    "## 1.1 Libraries and functions"
   ]
  },
  {
   "cell_type": "code",
   "execution_count": 1,
   "id": "0325e206-7982-499f-a66f-a39c15dc3833",
   "metadata": {},
   "outputs": [],
   "source": [
    "import pandas as pd\n",
    "\n",
    "## Own specific functions \n",
    "from functions import *"
   ]
  },
  {
   "cell_type": "markdown",
   "id": "c7457013-85cd-4bfc-ac1a-d813552789f6",
   "metadata": {},
   "source": [
    "# 2. Importing files"
   ]
  },
  {
   "cell_type": "code",
   "execution_count": null,
   "id": "215612d9-f898-44a9-8464-f80ce85b91b1",
   "metadata": {},
   "outputs": [],
   "source": [
    "df_current_clients = pd.read_csv(r\"datasets\\finals_datasets\\df_current_clients.csv\")"
   ]
  },
  {
   "cell_type": "code",
   "execution_count": null,
   "id": "ccd00d31-1f03-4267-85ce-b7728f9e817e",
   "metadata": {},
   "outputs": [],
   "source": []
  }
 ],
 "metadata": {
  "kernelspec": {
   "display_name": "Python 3 (ipykernel)",
   "language": "python",
   "name": "python3"
  },
  "language_info": {
   "codemirror_mode": {
    "name": "ipython",
    "version": 3
   },
   "file_extension": ".py",
   "mimetype": "text/x-python",
   "name": "python",
   "nbconvert_exporter": "python",
   "pygments_lexer": "ipython3",
   "version": "3.9.9"
  }
 },
 "nbformat": 4,
 "nbformat_minor": 5
}
