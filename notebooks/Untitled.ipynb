{
 "cells": [
  {
   "cell_type": "code",
   "execution_count": 1,
   "id": "7fc4e2ca-ea8a-4862-8b2a-7ad2c2030f19",
   "metadata": {},
   "outputs": [],
   "source": [
    "import numpy as np\n",
    "import pandas as pd\n",
    "\n",
    "from functions import *"
   ]
  },
  {
   "cell_type": "code",
   "execution_count": 2,
   "id": "14076487-c568-41ad-b84c-a8b36ed1b683",
   "metadata": {},
   "outputs": [],
   "source": [
    "df_clients_to_predict = pd.read_csv(r\"datasets\\finals_datasets\\df_clients_to_predict.csv\")"
   ]
  },
  {
   "cell_type": "code",
   "execution_count": 3,
   "id": "7c3fadb6-8748-4c49-b4e5-1c8d8dcd79ba",
   "metadata": {},
   "outputs": [
    {
     "name": "stdout",
     "output_type": "stream",
     "text": [
      "\n",
      "Analysis Header of df_clients_to_predict dataset\n",
      "--------------------------------------------------------------------------------\n",
      "- Dataset shape:\t\t\t 48744 rows and 508 columns\n",
      "- Total of NaN values:\t\t\t 0\n",
      "- Percentage of NaN:\t\t\t 0.0 %\n",
      "- Total of infinite values:\t\t 0\n",
      "- Percentage of infinite values:\t 0.0 %\n",
      "- Total of full duplicates rows:\t 0\n",
      "- Total of empty rows:\t\t\t 0\n",
      "- Total of empty columns:\t\t 0\n",
      "- Unique indexes:\t\t\t True\n",
      "- Memory usage:\t\t\t\t 188.9 MB\n"
     ]
    }
   ],
   "source": [
    "df_analysis(df_clients_to_predict, \"df_clients_to_predict\", analysis_type=\"header\")"
   ]
  },
  {
   "cell_type": "code",
   "execution_count": 4,
   "id": "5154682f-ce8d-469c-b9cf-b302d34b53d7",
   "metadata": {},
   "outputs": [],
   "source": [
    "df_clients_to_predict = memory_optimization(df_clients_to_predict)"
   ]
  },
  {
   "cell_type": "code",
   "execution_count": 5,
   "id": "68b6b5f7-d109-4c93-8c34-fb8ef391006b",
   "metadata": {},
   "outputs": [
    {
     "name": "stdout",
     "output_type": "stream",
     "text": [
      "\n",
      "Analysis Header of df_clients_to_predict dataset\n",
      "--------------------------------------------------------------------------------\n",
      "- Dataset shape:\t\t\t 48744 rows and 508 columns\n",
      "- Total of NaN values:\t\t\t 0\n",
      "- Percentage of NaN:\t\t\t 0.0 %\n",
      "- Total of infinite values:\t\t 0\n",
      "- Percentage of infinite values:\t 0.0 %\n",
      "- Total of full duplicates rows:\t 0\n",
      "- Total of empty rows:\t\t\t 0\n",
      "- Total of empty columns:\t\t 0\n",
      "- Unique indexes:\t\t\t True\n",
      "- Memory usage:\t\t\t\t 76.9 MB\n"
     ]
    }
   ],
   "source": [
    "df_analysis(df_clients_to_predict, \"df_clients_to_predict\", analysis_type=\"header\")"
   ]
  },
  {
   "cell_type": "code",
   "execution_count": 9,
   "id": "0684d73a-f34a-4139-91e5-f12911956c42",
   "metadata": {},
   "outputs": [],
   "source": [
    "df_current_clients = pd.read_csv(r\"datasets\\finals_datasets\\df_current_clients.csv\")"
   ]
  },
  {
   "cell_type": "code",
   "execution_count": 10,
   "id": "88ecf5d4-df04-4832-aa3c-8f77bba1aeab",
   "metadata": {},
   "outputs": [],
   "source": [
    "df_current_clients = memory_optimization(df_current_clients)"
   ]
  },
  {
   "cell_type": "code",
   "execution_count": 11,
   "id": "7218744c-9690-4b57-a74d-324f1af22a59",
   "metadata": {},
   "outputs": [
    {
     "name": "stdout",
     "output_type": "stream",
     "text": [
      "\n",
      "Analysis Header of df_current_clients dataset\n",
      "--------------------------------------------------------------------------------\n",
      "- Dataset shape:\t\t\t 307507 rows and 509 columns\n",
      "- Total of NaN values:\t\t\t 0\n",
      "- Percentage of NaN:\t\t\t 0.0 %\n",
      "- Total of infinite values:\t\t 0\n",
      "- Percentage of infinite values:\t 0.0 %\n",
      "- Total of full duplicates rows:\t 0\n",
      "- Total of empty rows:\t\t\t 0\n",
      "- Total of empty columns:\t\t 0\n",
      "- Unique indexes:\t\t\t True\n",
      "- Memory usage:\t\t\t\t 459.8 MB\n"
     ]
    }
   ],
   "source": [
    "df_analysis(df_current_clients, \"df_current_clients\", analysis_type=\"header\")"
   ]
  },
  {
   "cell_type": "code",
   "execution_count": 12,
   "id": "958f8ec4-27e2-4426-a73b-47712fdca93b",
   "metadata": {},
   "outputs": [
    {
     "data": {
      "image/png": "[encoded data removed]",
      "text/plain": [
       "<Figure size 648x360 with 2 Axes>"
      ]
     },
     "metadata": {
      "needs_background": "light"
     },
     "output_type": "display_data"
    }
   ],
   "source": [
    "barplot_and_pie(df_current_clients[\"TARGET\"], \"Target distribution\", \" \")"
   ]
  },
  {
   "cell_type": "markdown",
   "id": "8a54d8c9-a030-4617-8595-4481a3d7689d",
   "metadata": {
    "tags": []
   },
   "source": [
    "<div style=\"background-color: #506AB9;\" >\n",
    "    <h2 style=\"margin: auto; padding: 20px; color:#fff; \">5. Splitting data</h2>\n",
    "</div>"
   ]
  },
  {
   "cell_type": "code",
   "execution_count": 13,
   "id": "27ae996a-18a4-4c18-a516-9172fc6cc70b",
   "metadata": {},
   "outputs": [],
   "source": [
    "from sklearn.model_selection import train_test_split"
   ]
  },
  {
   "cell_type": "markdown",
   "id": "272d4112-06ee-440e-b373-a2e37396faf9",
   "metadata": {
    "tags": []
   },
   "source": [
    "<div class=\"alert alert-block alert-info\">\n",
    "    <p>First of all, let's identify the training columns in the dataset\n",
    "   </p>\n",
    "</div>"
   ]
  },
  {
   "cell_type": "code",
   "execution_count": 14,
   "id": "fd0fcfc7-c38f-43e1-b637-01399a6af746",
   "metadata": {},
   "outputs": [],
   "source": [
    "NOT_TRAINING_COLUMNS  = [\"TARGET\", \"SK_ID_CURR\", \"SK_ID_BUREAU\", \"SK_ID_PREV\", \"index\"] \n",
    "TRAINING_COLUMNS = [col for col in df_current_clients.columns if col not in NOT_TRAINING_COLUMNS]"
   ]
  },
  {
   "cell_type": "markdown",
   "id": "7c417bb1-6efb-4348-ab52-3f39b5b152f5",
   "metadata": {
    "tags": []
   },
   "source": [
    "<div class=\"alert alert-block alert-info\">\n",
    "    <p>Let's split the all data\n",
    "   </p>\n",
    "</div>"
   ]
  },
  {
   "cell_type": "code",
   "execution_count": 15,
   "id": "38b78aa7-e2dd-4cd0-aaa3-a2d2d04d4af3",
   "metadata": {},
   "outputs": [],
   "source": [
    "X = df_current_clients[TRAINING_COLUMNS]"
   ]
  },
  {
   "cell_type": "code",
   "execution_count": 16,
   "id": "ea39f13c-803c-4434-b2e7-d0b6a8a12ad9",
   "metadata": {},
   "outputs": [],
   "source": [
    "y_target = df_current_clients.loc[:,\"TARGET\"]"
   ]
  },
  {
   "cell_type": "code",
   "execution_count": 17,
   "id": "eb8fa311-e969-42e5-893c-6bba91f25de6",
   "metadata": {},
   "outputs": [],
   "source": [
    "X_train, X_test, y_train, y_test = train_test_split(X, y_target, test_size=0.20, stratify=y_target, random_state=42)"
   ]
  },
  {
   "cell_type": "code",
   "execution_count": 18,
   "id": "86daed8f-e603-48da-a538-463c8f7a1ab2",
   "metadata": {},
   "outputs": [
    {
     "name": "stdout",
     "output_type": "stream",
     "text": [
      "X_train: (246005, 506)\n",
      "y_train: (246005,)\n",
      "---------------------\n",
      "X_test: (61502, 506)\n",
      "y_test: (61502,)\n"
     ]
    }
   ],
   "source": [
    "print(\"X_train: {}\".format(X_train.shape))\n",
    "print(\"y_train: {}\".format(y_train.shape))\n",
    "print(\"---------------------\")\n",
    "print(\"X_test: {}\".format(X_test.shape))\n",
    "print(\"y_test: {}\".format(y_test.shape))"
   ]
  },
  {
   "cell_type": "markdown",
   "id": "51f6857b-0210-4294-ae59-e4c3b6ae5ad9",
   "metadata": {
    "tags": []
   },
   "source": [
    "<div style=\"background-color: #506AB9;\" >\n",
    "    <h2 style=\"margin: auto; padding: 20px; color:#fff; \">10. Feature selection</h2>\n",
    "</div>"
   ]
  },
  {
   "cell_type": "code",
   "execution_count": 19,
   "id": "1ed243f8-d847-4fd9-8d13-dee1cc820d46",
   "metadata": {},
   "outputs": [],
   "source": [
    "from sklearn.feature_selection import SelectKBest, f_classif"
   ]
  },
  {
   "cell_type": "code",
   "execution_count": 20,
   "id": "2605039d-494f-4a6c-8031-cf2e6c351ee3",
   "metadata": {},
   "outputs": [],
   "source": [
    "fs = SelectKBest(score_func=f_classif, k=150)"
   ]
  },
  {
   "cell_type": "code",
   "execution_count": 21,
   "id": "219a9759-91bc-41a1-b70a-4478a34294e8",
   "metadata": {},
   "outputs": [
    {
     "name": "stderr",
     "output_type": "stream",
     "text": [
      "C:\\Users\\Samir\\miniconda3\\envs\\p7\\lib\\site-packages\\sklearn\\feature_selection\\_univariate_selection.py:112: UserWarning: Features [223 228 244 278 286 289 315 320 325 335 348 377 383 387 396 408 414 478] are constant.\n",
      "  warnings.warn(\"Features %s are constant.\" % constant_features_idx, UserWarning)\n",
      "C:\\Users\\Samir\\miniconda3\\envs\\p7\\lib\\site-packages\\sklearn\\feature_selection\\_univariate_selection.py:113: RuntimeWarning: invalid value encountered in true_divide\n",
      "  f = msb / msw\n"
     ]
    },
    {
     "data": {
      "text/plain": [
       "SelectKBest(k=150)"
      ]
     },
     "execution_count": 21,
     "metadata": {},
     "output_type": "execute_result"
    }
   ],
   "source": [
    "fs.fit(X_train, y_train)"
   ]
  },
  {
   "cell_type": "code",
   "execution_count": 22,
   "id": "af1c90a9-6640-49d1-a389-2481c9ef857a",
   "metadata": {},
   "outputs": [],
   "source": [
    "X_train_fs = fs.transform(X_train)\n",
    "X_test_fs = fs.transform(X_test)"
   ]
  },
  {
   "cell_type": "code",
   "execution_count": 23,
   "id": "b57dd014-007d-43a0-bf2c-0b19d4df94d9",
   "metadata": {},
   "outputs": [
    {
     "name": "stdout",
     "output_type": "stream",
     "text": [
      "X_train:\t (246005, 506)\n",
      "X_train_fs:\t (246005, 150)\n",
      "----------------------------------\n",
      "X_test:\t\t (61502, 506)\n",
      "X_test_fs:\t (61502, 150)\n"
     ]
    }
   ],
   "source": [
    "print(\"X_train:\\t {}\".format(X_train.shape))\n",
    "print(\"X_train_fs:\\t {}\".format(X_train_fs.shape))\n",
    "print(\"----------------------------------\")\n",
    "print(\"X_test:\\t\\t {}\".format(X_test.shape))\n",
    "print(\"X_test_fs:\\t {}\".format(X_test_fs.shape))"
   ]
  },
  {
   "cell_type": "markdown",
   "id": "d8f792b7-d43c-4984-acbb-b526b16c1960",
   "metadata": {
    "tags": []
   },
   "source": [
    "<div style=\"background-color: #506AB9;\" >\n",
    "    <h3 style=\"margin: auto; padding: 20px; color:#fff; \">8.2. LightGBM</h3>\n",
    "</div>"
   ]
  },
  {
   "cell_type": "code",
   "execution_count": 24,
   "id": "9e4bb280-5885-43c5-aa20-5c5959a6a73f",
   "metadata": {},
   "outputs": [],
   "source": [
    "from lightgbm import LGBMClassifier"
   ]
  },
  {
   "cell_type": "code",
   "execution_count": null,
   "id": "6c0a7082-ba56-4204-81b5-7a7a5a9791f0",
   "metadata": {},
   "outputs": [],
   "source": []
  },
  {
   "cell_type": "code",
   "execution_count": 25,
   "id": "a59abf57-e15c-402a-b3e3-af0f7217cdce",
   "metadata": {},
   "outputs": [],
   "source": [
    "clf_lgbm_cw = LGBMClassifier(max_depth=9, n_estimators=8000, num_leaves=32, class_weight=\"balanced\", learning_rate=0.02,\n",
    "                             colsample_bytree=0.9497036, subsample=0.8715623,\n",
    "                             reg_alpha=0.041545473, reg_lambda=0.0735294,\n",
    "                             min_split_gain=0.0222415, min_child_weight=39.3259775,\n",
    "                             random_state=42, n_jobs=-1)"
   ]
  },
  {
   "cell_type": "code",
   "execution_count": 26,
   "id": "c041c6aa-820d-47ef-9670-a1e4d7a5f4da",
   "metadata": {},
   "outputs": [
    {
     "data": {
      "text/plain": [
       "LGBMClassifier(class_weight='balanced', colsample_bytree=0.9497036,\n",
       "               learning_rate=0.02, max_depth=9, min_child_weight=39.3259775,\n",
       "               min_split_gain=0.0222415, n_estimators=8000, num_leaves=32,\n",
       "               random_state=42, reg_alpha=0.041545473, reg_lambda=0.0735294,\n",
       "               subsample=0.8715623)"
      ]
     },
     "execution_count": 26,
     "metadata": {},
     "output_type": "execute_result"
    }
   ],
   "source": [
    "clf_lgbm_cw.fit(X_train_fs, y_train)"
   ]
  },
  {
   "cell_type": "code",
   "execution_count": null,
   "id": "5eecb868-52e7-44c9-a8d9-c7b89160f82c",
   "metadata": {},
   "outputs": [],
   "source": []
  },
  {
   "cell_type": "code",
   "execution_count": null,
   "id": "0a8c1de4-7c8c-43ec-85fd-79dd765eedcb",
   "metadata": {},
   "outputs": [],
   "source": []
  },
  {
   "cell_type": "code",
   "execution_count": null,
   "id": "50fb0bec-2204-4ce8-a402-e2947c85780e",
   "metadata": {},
   "outputs": [],
   "source": []
  },
  {
   "cell_type": "code",
   "execution_count": null,
   "id": "2faf869c-4f7e-47f5-b1c8-179c8592db0d",
   "metadata": {},
   "outputs": [],
   "source": []
  },
  {
   "cell_type": "markdown",
   "id": "13430754-6ecf-4949-88f6-4096147a1cbd",
   "metadata": {
    "tags": []
   },
   "source": [
    "<div style=\"background-color: #506AB9;\" >\n",
    "    <h2 style=\"margin: auto; padding: 20px; color:#fff; \">12. Final re-training</h2>\n",
    "</div>"
   ]
  },
  {
   "cell_type": "code",
   "execution_count": 36,
   "id": "26f8abf1-0721-4c75-a7d8-e96abb6e1709",
   "metadata": {},
   "outputs": [],
   "source": [
    "import joblib"
   ]
  },
  {
   "cell_type": "markdown",
   "id": "b2e74e24-6d4b-4550-9901-fad32b2891f1",
   "metadata": {
    "tags": []
   },
   "source": [
    "<div class=\"alert alert-block alert-info\">\n",
    "    <p>We are going to apply our Feature Selection on the whole dataset excluding target variable</p>\n",
    "</div>"
   ]
  },
  {
   "cell_type": "code",
   "execution_count": 27,
   "id": "8a84dcc0-03c8-43b0-a35d-e369235fb299",
   "metadata": {},
   "outputs": [],
   "source": [
    "X_fs = fs.transform(X)"
   ]
  },
  {
   "cell_type": "markdown",
   "id": "56a79e22-b861-476b-be4f-0b27ecac3d0e",
   "metadata": {
    "tags": []
   },
   "source": [
    "<div class=\"alert alert-block alert-info\">\n",
    "    <p>Let's take advantages and save the features selected as dataset</p>\n",
    "</div>"
   ]
  },
  {
   "cell_type": "code",
   "execution_count": 30,
   "id": "3e5daf57-f6ad-4926-9e41-31ee7056575f",
   "metadata": {},
   "outputs": [],
   "source": [
    "cols = fs.get_support(indices=True)"
   ]
  },
  {
   "cell_type": "code",
   "execution_count": 31,
   "id": "15ed8f99-18e9-45d0-af16-e71722b5259b",
   "metadata": {},
   "outputs": [],
   "source": [
    "df_X = X.iloc[:, cols]"
   ]
  },
  {
   "cell_type": "code",
   "execution_count": 33,
   "id": "b1f6a718-48c8-4895-becf-1da45eefa158",
   "metadata": {},
   "outputs": [
    {
     "data": {
      "text/plain": [
       "(307507, 150)"
      ]
     },
     "execution_count": 33,
     "metadata": {},
     "output_type": "execute_result"
    }
   ],
   "source": [
    "df_X.shape"
   ]
  },
  {
   "cell_type": "code",
   "execution_count": 34,
   "id": "f176a0e7-f1ea-44de-a730-d7c117007727",
   "metadata": {},
   "outputs": [],
   "source": [
    "#https://stackoverflow.com/questions/38154040/save-dataframe-to-csv-directly-to-s3-python\n",
    "df_X.to_csv(\"datasets/finals_datasets/df_current_clients_feature_seleted.csv\", index=False)"
   ]
  },
  {
   "cell_type": "markdown",
   "id": "8d56d6c3-af20-4d28-8af3-87caf07fffbc",
   "metadata": {
    "tags": []
   },
   "source": [
    "<div class=\"alert alert-block alert-info\">\n",
    "    <p>Now, we can make the modelisation</p>\n",
    "</div>"
   ]
  },
  {
   "cell_type": "code",
   "execution_count": 28,
   "id": "2a9b3b01-b323-4ab3-ba0b-375e665b350e",
   "metadata": {},
   "outputs": [
    {
     "data": {
      "text/plain": [
       "LGBMClassifier(class_weight='balanced', colsample_bytree=0.9497036,\n",
       "               learning_rate=0.02, max_depth=9, min_child_weight=39.3259775,\n",
       "               min_split_gain=0.0222415, n_estimators=8000, num_leaves=32,\n",
       "               random_state=42, reg_alpha=0.041545473, reg_lambda=0.0735294,\n",
       "               subsample=0.8715623)"
      ]
     },
     "execution_count": 28,
     "metadata": {},
     "output_type": "execute_result"
    }
   ],
   "source": [
    "clf_lgbm_cw.fit(X_fs, y_target)"
   ]
  },
  {
   "cell_type": "code",
   "execution_count": 37,
   "id": "3cdc6eaf-caec-4b64-a2fb-1fa835a05be8",
   "metadata": {},
   "outputs": [
    {
     "data": {
      "text/plain": [
       "['models/model_20220217.pkl']"
      ]
     },
     "execution_count": 37,
     "metadata": {},
     "output_type": "execute_result"
    }
   ],
   "source": [
    "# Saving the model based on the best parameters\n",
    "joblib.dump(clf_lgbm_cw, \"models/model_{version}.pkl\".format(version=20220217))"
   ]
  },
  {
   "cell_type": "markdown",
   "id": "d500dae4-3551-486a-8091-5d1785b2d0c7",
   "metadata": {
    "tags": []
   },
   "source": [
    "<div style=\"background-color: #506AB9;\" >\n",
    "    <h1 style=\"margin: auto; padding: 20px; color:#fff; \">TESTING THE MODEL</h1>\n",
    "</div>"
   ]
  },
  {
   "cell_type": "code",
   "execution_count": 41,
   "id": "c804e6d0-e348-4f7f-bdb1-e05f071b1c68",
   "metadata": {},
   "outputs": [],
   "source": [
    "model = joblib.load(\"models\\model_20220217.pkl\")"
   ]
  },
  {
   "cell_type": "code",
   "execution_count": null,
   "id": "c1dfef1a-301d-4f92-819a-b07a8ed27a7a",
   "metadata": {},
   "outputs": [],
   "source": []
  },
  {
   "cell_type": "code",
   "execution_count": null,
   "id": "09cfd839-3f01-4c40-b5ee-a69075ddf06f",
   "metadata": {},
   "outputs": [],
   "source": []
  },
  {
   "cell_type": "code",
   "execution_count": null,
   "id": "9fea35ac-e68a-4227-81e1-98e3764b98c6",
   "metadata": {},
   "outputs": [],
   "source": []
  },
  {
   "cell_type": "code",
   "execution_count": 38,
   "id": "db9cb8fc-b5f3-41f3-ab6b-45effbb7463d",
   "metadata": {},
   "outputs": [],
   "source": [
    "df_clients_to_predict = pd.read_csv(r\"datasets\\finals_datasets\\df_clients_to_predict.csv\")"
   ]
  },
  {
   "cell_type": "code",
   "execution_count": 39,
   "id": "03821d98-c967-4624-a296-e7b8d723f5df",
   "metadata": {},
   "outputs": [],
   "source": [
    "NOT_TRAINING_COLUMNS  = [\"TARGET\", \"SK_ID_CURR\", \"SK_ID_BUREAU\", \"SK_ID_PREV\", \"index\"] \n",
    "TRAINING_COLUMNS = [col for col in df_current_clients.columns if col not in NOT_TRAINING_COLUMNS]"
   ]
  },
  {
   "cell_type": "code",
   "execution_count": 40,
   "id": "ce3e2a7b-72ba-430f-8b38-3c9760d87e8f",
   "metadata": {},
   "outputs": [],
   "source": [
    "df_clients_to_predict = df_clients_to_predict[TRAINING_COLUMNS]"
   ]
  },
  {
   "cell_type": "code",
   "execution_count": 42,
   "id": "3e322eed-2f86-4250-ad13-9587fe5a0fd8",
   "metadata": {},
   "outputs": [],
   "source": [
    "clients_to_predict_fs = fs.transform(df_clients_to_predict)"
   ]
  },
  {
   "cell_type": "code",
   "execution_count": 43,
   "id": "21cec627-5e48-4a17-a49a-744465de4d3b",
   "metadata": {},
   "outputs": [],
   "source": [
    "result = model.predict(clients_to_predict_fs)"
   ]
  },
  {
   "cell_type": "code",
   "execution_count": 45,
   "id": "4f35a00c-801f-4250-96c2-ceaecd00769a",
   "metadata": {},
   "outputs": [
    {
     "name": "stdout",
     "output_type": "stream",
     "text": [
      "Total occurences of \"0\" in array:  41022\n",
      "Total occurences of \"1\" in array:  7722\n"
     ]
    }
   ],
   "source": [
    "print('Total occurences of \"0\" in array: ', result.tolist().count(0))\n",
    "print('Total occurences of \"1\" in array: ', result.tolist().count(1))"
   ]
  },
  {
   "cell_type": "code",
   "execution_count": 22,
   "id": "e51cbc1c-437c-483a-a64e-88175bfa1fb6",
   "metadata": {},
   "outputs": [
    {
     "data": {
      "image/png": "[encoded data removed]",
      "text/plain": [
       "<Figure size 648x360 with 2 Axes>"
      ]
     },
     "metadata": {
      "needs_background": "light"
     },
     "output_type": "display_data"
    }
   ],
   "source": [
    "barplot_and_pie(df_example_copy[\"TARGET\"], \"Target distribution\", \" \")"
   ]
  }
 ],
 "metadata": {
  "kernelspec": {
   "display_name": "Python 3 (ipykernel)",
   "language": "python",
   "name": "python3"
  },
  "language_info": {
   "codemirror_mode": {
    "name": "ipython",
    "version": 3
   },
   "file_extension": ".py",
   "mimetype": "text/x-python",
   "name": "python",
   "nbconvert_exporter": "python",
   "pygments_lexer": "ipython3",
   "version": "3.9.9"
  }
 },
 "nbformat": 4,
 "nbformat_minor": 5
}
