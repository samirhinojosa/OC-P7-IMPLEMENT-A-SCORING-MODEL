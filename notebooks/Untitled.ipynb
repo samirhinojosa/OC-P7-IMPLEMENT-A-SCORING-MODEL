{
 "cells": [
  {
   "cell_type": "code",
   "execution_count": 12,
   "id": "6609409d-8163-49f5-9c63-65f32291a38a",
   "metadata": {},
   "outputs": [],
   "source": [
    "import numpy as np\n",
    "import pandas as pd\n",
    "\n",
    "import joblib\n",
    "\n",
    "## SHapley Additive exPlanations.\n",
    "import shap\n",
    "\n",
    "## Own specific functions \n",
    "from functions import *"
   ]
  },
  {
   "cell_type": "code",
   "execution_count": 6,
   "id": "53fb9df0-b926-4642-9407-d86d0bf1f2ce",
   "metadata": {},
   "outputs": [],
   "source": [
    "df_clients_to_predict = pd.read_csv(r\"datasets\\finals_datasets\\df_clients_to_predict_feature_selected.csv\")"
   ]
  },
  {
   "cell_type": "code",
   "execution_count": 8,
   "id": "836ed9fa-ee5b-404f-9c6c-be2d16c614a4",
   "metadata": {},
   "outputs": [
    {
     "name": "stdout",
     "output_type": "stream",
     "text": [
      "\n",
      "Analysis Header of df_clients_to_predict dataset\n",
      "--------------------------------------------------------------------------------\n",
      "- Dataset shape:\t\t\t 48744 rows and 150 columns\n",
      "- Total of NaN values:\t\t\t 0\n",
      "- Percentage of NaN:\t\t\t 0.0 %\n",
      "- Total of infinite values:\t\t 0\n",
      "- Percentage of infinite values:\t 0.0 %\n",
      "- Total of full duplicates rows:\t 0\n",
      "- Total of empty rows:\t\t\t 0\n",
      "- Total of empty columns:\t\t 0\n",
      "- Unique indexes:\t\t\t True\n",
      "- Memory usage:\t\t\t\t 55.8 MB\n"
     ]
    }
   ],
   "source": [
    "df_analysis(df_clients_to_predict, \"df_clients_to_predict\", analysis_type=\"header\")"
   ]
  },
  {
   "cell_type": "code",
   "execution_count": 9,
   "id": "150e78ae-3cf8-4659-b3bf-8f3b5beeef6e",
   "metadata": {},
   "outputs": [],
   "source": [
    "df_clients_to_predict = memory_optimization(df_clients_to_predict)"
   ]
  },
  {
   "cell_type": "code",
   "execution_count": 10,
   "id": "d1b3ad57-a16d-49b3-bd4e-529cf01bd832",
   "metadata": {},
   "outputs": [
    {
     "name": "stdout",
     "output_type": "stream",
     "text": [
      "\n",
      "Analysis Header of df_clients_to_predict dataset\n",
      "--------------------------------------------------------------------------------\n",
      "- Dataset shape:\t\t\t 48744 rows and 150 columns\n",
      "- Total of NaN values:\t\t\t 0\n",
      "- Percentage of NaN:\t\t\t 0.0 %\n",
      "- Total of infinite values:\t\t 0\n",
      "- Percentage of infinite values:\t 0.0 %\n",
      "- Total of full duplicates rows:\t 0\n",
      "- Total of empty rows:\t\t\t 0\n",
      "- Total of empty columns:\t\t 0\n",
      "- Unique indexes:\t\t\t True\n",
      "- Memory usage:\t\t\t\t 24.1 MB\n"
     ]
    }
   ],
   "source": [
    "df_analysis(df_clients_to_predict, \"df_clients_to_predict\", analysis_type=\"header\")"
   ]
  },
  {
   "cell_type": "code",
   "execution_count": 11,
   "id": "de22ecce-6204-4fbb-81cf-70840f5c40f6",
   "metadata": {},
   "outputs": [],
   "source": [
    "model = joblib.load(\"models\\model_20220217.pkl\")"
   ]
  },
  {
   "cell_type": "code",
   "execution_count": 13,
   "id": "04ea0492-a777-4f8f-b373-e465c47c7539",
   "metadata": {},
   "outputs": [],
   "source": [
    "explainer = shap.TreeExplainer(model)"
   ]
  },
  {
   "cell_type": "code",
   "execution_count": 14,
   "id": "afe57683-0d8a-4c6a-b4df-303335cc31e1",
   "metadata": {},
   "outputs": [],
   "source": [
    "NOT_TRAINING_COLUMNS  = [\"TARGET\", \"SK_ID_CURR\", \"SK_ID_BUREAU\", \"SK_ID_PREV\", \"index\"] \n",
    "TRAINING_COLUMNS = [col for col in df_current_clients.columns if col not in NOT_TRAINING_COLUMNS]"
   ]
  },
  {
   "cell_type": "code",
   "execution_count": 15,
   "id": "1b893dff-c777-4202-a9a6-82080ff6ac6c",
   "metadata": {},
   "outputs": [],
   "source": [
    "df_clients_to_predict = df_clients_to_predict[TRAINING_COLUMNS]"
   ]
  },
  {
   "cell_type": "code",
   "execution_count": null,
   "id": "e1a94e8d-cdd5-403e-b952-561f4bb93f58",
   "metadata": {},
   "outputs": [],
   "source": [
    "shap_values = explainer.shap_values(df_clients_to_predict)"
   ]
  },
  {
   "cell_type": "code",
   "execution_count": null,
   "id": "a6d6d171-fee9-4bbd-9294-091e8a112c74",
   "metadata": {},
   "outputs": [],
   "source": []
  }
 ],
 "metadata": {
  "kernelspec": {
   "display_name": "Python 3 (ipykernel)",
   "language": "python",
   "name": "python3"
  },
  "language_info": {
   "codemirror_mode": {
    "name": "ipython",
    "version": 3
   },
   "file_extension": ".py",
   "mimetype": "text/x-python",
   "name": "python",
   "nbconvert_exporter": "python",
   "pygments_lexer": "ipython3",
   "version": "3.9.9"
  }
 },
 "nbformat": 4,
 "nbformat_minor": 5
}
