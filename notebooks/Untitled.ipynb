{
 "cells": [
  {
   "cell_type": "code",
   "execution_count": 1,
   "id": "feb813f9-28a7-46f3-be6f-7a0902337904",
   "metadata": {},
   "outputs": [],
   "source": [
    "import re\n",
    "import json\n",
    "import numpy as np\n",
    "import pandas as pd\n",
    "from functools import partial\n",
    "\n",
    "import sklearn\n",
    "from sklearn.preprocessing import StandardScaler\n",
    "import joblib\n",
    "\n",
    "import lightgbm as lgb\n",
    "from lightgbm import LGBMClassifier\n",
    "\n",
    "## Own specific functions \n",
    "from functions import *\n",
    "\n",
    "scaler = StandardScaler()"
   ]
  },
  {
   "cell_type": "code",
   "execution_count": 4,
   "id": "6a375949-6287-4e50-a5be-3b7089809f3c",
   "metadata": {},
   "outputs": [],
   "source": [
    "df_resampled = pd.read_csv(r\"datasets\\df_optimized.csv\")"
   ]
  },
  {
   "cell_type": "code",
   "execution_count": 5,
   "id": "938a58e1-0af2-4b0a-b0eb-bfdda620a6ff",
   "metadata": {},
   "outputs": [
    {
     "name": "stdout",
     "output_type": "stream",
     "text": [
      "\n",
      "Analysis Header of df_resampled dataset\n",
      "--------------------------------------------------------------------------------\n",
      "- Dataset shape:\t\t\t 356251 rows and 797 columns\n",
      "- Total of NaN values:\t\t\t 48744\n",
      "- Percentage of NaN:\t\t\t 0.02 %\n",
      "- Total of infinite values:\t\t 0\n",
      "- Percentage of infinite values:\t 0.0 %\n",
      "- Total of full duplicates rows:\t 0\n",
      "- Total of empty rows:\t\t\t 0\n",
      "- Total of empty columns:\t\t 0\n",
      "- Unique indexes:\t\t\t True\n",
      "- Memory usage:\t\t\t\t 2.1 GB\n"
     ]
    }
   ],
   "source": [
    "df_analysis(df_resampled, \"df_resampled\", analysis_type=\"header\")"
   ]
  },
  {
   "cell_type": "code",
   "execution_count": null,
   "id": "06f8c9b0-c100-4488-ab11-e44d46a6ef6c",
   "metadata": {},
   "outputs": [],
   "source": []
  }
 ],
 "metadata": {
  "kernelspec": {
   "display_name": "Python 3 (ipykernel)",
   "language": "python",
   "name": "python3"
  },
  "language_info": {
   "codemirror_mode": {
    "name": "ipython",
    "version": 3
   },
   "file_extension": ".py",
   "mimetype": "text/x-python",
   "name": "python",
   "nbconvert_exporter": "python",
   "pygments_lexer": "ipython3",
   "version": "3.9.9"
  }
 },
 "nbformat": 4,
 "nbformat_minor": 5
}
