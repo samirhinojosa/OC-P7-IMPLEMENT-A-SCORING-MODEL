{
 "cells": [
  {
   "cell_type": "markdown",
   "id": "76542308-2233-4b21-a7ff-7e89aff10511",
   "metadata": {
    "tags": []
   },
   "source": [
    "<div style=\"display: flex; background-color: #3F579F;\">\n",
    "    <h1 style=\"margin: auto; font-weight: bold; padding: 30px 30px 0px 30px; color:#fff;\" align=\"center\">Implement a scoring model - P7</h1>\n",
    "</div>\n",
    "<div style=\"display: flex; background-color: #3F579F; margin: auto; padding: 5px 30px 0px 30px;\" >\n",
    "    <h3 style=\"width: 100%; text-align: center; float: left; font-size: 24px; color:#fff;\" align=\"center\">| Preprocessing Notebook |</h3>\n",
    "</div>\n",
    "<div style=\"display: flex; background-color: #3F579F; margin: auto; padding: 10px 30px 30px 30px;\">\n",
    "    <h4 style=\"width: 100%; text-align: center; float: left; font-size: 24px; color:#fff;\" align=\"center\">Data Scientist course - OpenClassrooms</h4>\n",
    "</div>"
   ]
  },
  {
   "cell_type": "markdown",
   "id": "3a10f50a-d18e-4b99-bd72-9a0d5374d5f6",
   "metadata": {
    "tags": []
   },
   "source": [
    "<div class=\"alert alert-block alert-info\">\n",
    "    <p>Preprocessing (Feature Engineering) based on the Kernel made for the Home Credit's\n",
    "competition in Kaggle.  <a href=\"https://www.kaggle.com/jsaguiar/lightgbm-with-simple-features/script\", target=\"blank\">[LightGBM with Simple Features]</a></p>\n",
    "    <p>Based on this Feature Engineering, we are going to try to optimize the memory usage and deal with missing-values.</p>\n",
    "</div>"
   ]
  },
  {
   "cell_type": "markdown",
   "id": "7bb62788-3f2a-42f9-a1d5-24e9773901ef",
   "metadata": {
    "tags": []
   },
   "source": [
    "<div style=\"background-color: #506AB9;\" >\n",
    "    <h2 style=\"margin: auto; padding: 20px; color:#fff; \">1. Libraries</h2>\n",
    "</div>"
   ]
  },
  {
   "cell_type": "markdown",
   "id": "81e36c1e-9e39-44f2-a0d5-c4fb7af2f2b6",
   "metadata": {
    "tags": []
   },
   "source": [
    "<div style=\"background-color: #506AB9;\" >\n",
    "    <h3 style=\"margin: auto; padding: 20px; color:#fff; \">1.1 Libraries</h3>\n",
    "</div>"
   ]
  },
  {
   "cell_type": "code",
   "execution_count": 1,
   "id": "111f5ae4-891c-465f-987b-0ea5d1a6f179",
   "metadata": {},
   "outputs": [],
   "source": [
    "import gc\n",
    "import time\n",
    "import re\n",
    "import warnings\n",
    "from contextlib import contextmanager\n",
    "import numpy as np\n",
    "import pandas as pd\n",
    "import matplotlib.pyplot as plt\n",
    "import seaborn as sns\n",
    "\n",
    "warnings.simplefilter(action='ignore', category=FutureWarning)\n",
    "\n",
    "## Own specific functions \n",
    "from functions import *"
   ]
  },
  {
   "cell_type": "markdown",
   "id": "b7c067d7-d516-4e34-ad41-a36d506b17c9",
   "metadata": {
    "tags": []
   },
   "source": [
    "<div style=\"background-color: #506AB9;\" >\n",
    "    <h2 style=\"margin: auto; padding: 20px; color:#fff; \">2. Functions</h2>\n",
    "</div>"
   ]
  },
  {
   "cell_type": "markdown",
   "id": "d13eb4ea-27a7-4b77-9234-0df87a96d36f",
   "metadata": {
    "tags": []
   },
   "source": [
    "<div style=\"background-color: #6D83C5;\" >\n",
    "    <h3 style=\"margin: auto; padding: 20px; color:#fff; \">Timer</h3>\n",
    "</div>"
   ]
  },
  {
   "cell_type": "code",
   "execution_count": 2,
   "id": "2a06d956-9a30-4633-b049-152238a1b20e",
   "metadata": {},
   "outputs": [],
   "source": [
    "@contextmanager\n",
    "def timer(title):\n",
    "    t0 = time.time()\n",
    "    yield\n",
    "    print(\"{} - done in {:.0f}s\".format(title, time.time() - t0))"
   ]
  },
  {
   "cell_type": "markdown",
   "id": "1c9b02e9-efda-4b2a-9041-db97b7bc7ac7",
   "metadata": {
    "tags": []
   },
   "source": [
    "<div style=\"background-color: #6D83C5;\" >\n",
    "    <h3 style=\"margin: auto; padding: 20px; color:#fff; \">Categorical encoder</h3>\n",
    "</div>"
   ]
  },
  {
   "cell_type": "markdown",
   "id": "a9dd57fc-6a8b-465c-bb3d-7486545f6d13",
   "metadata": {
    "tags": []
   },
   "source": [
    "<div class=\"alert alert-block alert-info\">\n",
    "    <p>One-hot encoding for categorical columns with get_dummies</p>\n",
    "    <p>We are going to add \"COL_CAT_\" as prefix for each categorical column added</p>\n",
    "</div>"
   ]
  },
  {
   "cell_type": "code",
   "execution_count": 3,
   "id": "28791b34-7dcc-40fb-9c7a-17855c43de78",
   "metadata": {},
   "outputs": [],
   "source": [
    "# One-hot encoding for categorical columns with get_dummies\n",
    "def one_hot_encoder(df, nan_as_category=True):\n",
    "    original_columns = list(df.columns)\n",
    "    categorical_columns = [col for col in df.columns if df[col].dtype == 'object']\n",
    "    df = pd.get_dummies(df, columns=categorical_columns, dummy_na=nan_as_category)\n",
    "    new_columns = [c for c in df.columns if c not in original_columns]\n",
    "    return df, new_columns"
   ]
  },
  {
   "cell_type": "markdown",
   "id": "1360f41a-fd83-4e02-a2c3-fe439ed82728",
   "metadata": {
    "tags": []
   },
   "source": [
    "<div style=\"background-color: #6D83C5;\" >\n",
    "    <h3 style=\"margin: auto; padding: 20px; color:#fff; \">Preprocess main table</h3>\n",
    "</div>"
   ]
  },
  {
   "cell_type": "markdown",
   "id": "91602c6d-7c82-4d66-8bdc-261f323cb3e1",
   "metadata": {
    "tags": []
   },
   "source": [
    "<div class=\"alert alert-block alert-info\">\n",
    "    <p>Read and merge the train and test datasets</p>\n",
    "    <p>Transforms boolean and categorical features</p>\n",
    "    <p>Add new features from existing features</p>\n",
    "</div>"
   ]
  },
  {
   "cell_type": "code",
   "execution_count": 4,
   "id": "b200407c-746d-4870-9f44-dba0a586b654",
   "metadata": {},
   "outputs": [],
   "source": [
    "# Preprocess application_train.csv and application_test.csv\n",
    "def application_train_test(num_rows=None, nan_as_category=False):\n",
    "    \n",
    "    # Read data and merge\n",
    "    df = pd.read_csv(r\"datasets\\initials_datasets\\application_train.csv\", nrows=num_rows)\n",
    "    test_df = pd.read_csv(r\"datasets\\initials_datasets\\application_test.csv\", nrows=num_rows)\n",
    "    print(\"Train samples: {}, test samples: {}\".format(len(df), len(test_df)))\n",
    "    df = df.append(test_df).reset_index()\n",
    "    \n",
    "    # Optional: Remove 4 applications with XNA CODE_GENDER (train set)\n",
    "    df = df[df['CODE_GENDER'] != 'XNA']\n",
    "    \n",
    "    # Categorical features with Binary encode (0 or 1; two categories)\n",
    "    for bin_feature in ['CODE_GENDER', 'FLAG_OWN_CAR', 'FLAG_OWN_REALTY']:\n",
    "        df[bin_feature], uniques = pd.factorize(df[bin_feature])\n",
    "        \n",
    "    # Categorical features with One-Hot encode\n",
    "    df, cat_cols = one_hot_encoder(df, nan_as_category)\n",
    "    \n",
    "    # NaN values for DAYS_EMPLOYED: 365.243 -> nan\n",
    "    df['DAYS_EMPLOYED'].replace(365243, np.nan, inplace=True)\n",
    "    \n",
    "    # Some simple new features (percentages)\n",
    "    df['DAYS_EMPLOYED_PERC'] = df['DAYS_EMPLOYED'] / df['DAYS_BIRTH']\n",
    "    df['INCOME_CREDIT_PERC'] = df['AMT_INCOME_TOTAL'] / df['AMT_CREDIT']\n",
    "    df['INCOME_PER_PERSON'] = df['AMT_INCOME_TOTAL'] / df['CNT_FAM_MEMBERS']\n",
    "    df['ANNUITY_INCOME_PERC'] = df['AMT_ANNUITY'] / df['AMT_INCOME_TOTAL']\n",
    "    df['PAYMENT_RATE'] = df['AMT_ANNUITY'] / df['AMT_CREDIT']\n",
    "    \n",
    "    del test_df\n",
    "    gc.collect()\n",
    "    \n",
    "    return df"
   ]
  },
  {
   "cell_type": "markdown",
   "id": "3905d049-0780-4864-b32d-d470df32ac85",
   "metadata": {
    "tags": []
   },
   "source": [
    "<div style=\"background-color: #6D83C5;\" >\n",
    "    <h3 style=\"margin: auto; padding: 20px; color:#fff; \">Bureau and Bureau balance</h3>\n",
    "</div>"
   ]
  },
  {
   "cell_type": "markdown",
   "id": "dc171184-7925-4ac4-9cff-92a295914ee1",
   "metadata": {
    "tags": []
   },
   "source": [
    "<div class=\"alert alert-block alert-info\">\n",
    "    <p>Previous credit of applicants information in <b>others</b> finance institutions</p>\n",
    "    <p>Add new features based on Max, Min, Mean based on monthly values of previos loans</p>\n",
    "</div>"
   ]
  },
  {
   "cell_type": "code",
   "execution_count": 5,
   "id": "4b9651f3-64f7-4c4e-839e-3e4f3d80874f",
   "metadata": {},
   "outputs": [],
   "source": [
    "# Preprocess bureau.csv and bureau_balance.csv\n",
    "def bureau_and_balance(num_rows=None, nan_as_category=True):\n",
    "    \n",
    "    # Read data\n",
    "    bureau = pd.read_csv(r\"datasets\\initials_datasets\\bureau.csv\", nrows=num_rows)\n",
    "    bb = pd.read_csv(r\"datasets\\initials_datasets\\bureau_balance.csv\", nrows=num_rows)\n",
    "    \n",
    "    # Categorical features with One-Hot encode\n",
    "    bb, bb_cat = one_hot_encoder(bb, nan_as_category)\n",
    "    bureau, bureau_cat = one_hot_encoder(bureau, nan_as_category)\n",
    "    \n",
    "    # Bureau balance: Perform aggregations and merge with bureau.csv\n",
    "    bb_aggregations = {'MONTHS_BALANCE': ['min', 'max', 'size']}\n",
    "    for col in bb_cat:\n",
    "        bb_aggregations[col] = ['mean']\n",
    "    bb_agg = bb.groupby('SK_ID_BUREAU').agg(bb_aggregations)\n",
    "    bb_agg.columns = pd.Index([e[0] + \"_\" + e[1].upper() for e in bb_agg.columns.tolist()])\n",
    "    bureau = bureau.join(bb_agg, how='left', on='SK_ID_BUREAU')\n",
    "    bureau.drop(['SK_ID_BUREAU'], axis=1, inplace= True)\n",
    "    del bb, bb_agg\n",
    "    gc.collect()\n",
    "    \n",
    "    # Bureau and bureau_balance numeric features\n",
    "    num_aggregations = {\n",
    "        'DAYS_CREDIT': ['min', 'max', 'mean', 'var'],\n",
    "        'DAYS_CREDIT_ENDDATE': ['min', 'max', 'mean'],\n",
    "        'DAYS_CREDIT_UPDATE': ['mean'],\n",
    "        'CREDIT_DAY_OVERDUE': ['max', 'mean'],\n",
    "        'AMT_CREDIT_MAX_OVERDUE': ['mean'],\n",
    "        'AMT_CREDIT_SUM': ['max', 'mean', 'sum'],\n",
    "        'AMT_CREDIT_SUM_DEBT': ['max', 'mean', 'sum'],\n",
    "        'AMT_CREDIT_SUM_OVERDUE': ['mean'],\n",
    "        'AMT_CREDIT_SUM_LIMIT': ['mean', 'sum'],\n",
    "        'AMT_ANNUITY': ['max', 'mean'],\n",
    "        'CNT_CREDIT_PROLONG': ['sum'],\n",
    "        'MONTHS_BALANCE_MIN': ['min'],\n",
    "        'MONTHS_BALANCE_MAX': ['max'],\n",
    "        'MONTHS_BALANCE_SIZE': ['mean', 'sum']\n",
    "    }\n",
    "    \n",
    "    # Bureau and bureau_balance categorical features\n",
    "    cat_aggregations = {}\n",
    "    for cat in bureau_cat: cat_aggregations[cat] = ['mean']\n",
    "    for cat in bb_cat: cat_aggregations[cat + \"_MEAN\"] = ['mean']\n",
    "    \n",
    "    bureau_agg = bureau.groupby('SK_ID_CURR').agg({**num_aggregations, **cat_aggregations})\n",
    "    bureau_agg.columns = pd.Index(['BURO_' + e[0] + \"_\" + e[1].upper() for e in bureau_agg.columns.tolist()])\n",
    "    \n",
    "    # Bureau: Active credits - using only numerical aggregations\n",
    "    active = bureau[bureau['CREDIT_ACTIVE_Active'] == 1]\n",
    "    active_agg = active.groupby('SK_ID_CURR').agg(num_aggregations)\n",
    "    active_agg.columns = pd.Index(['ACTIVE_' + e[0] + \"_\" + e[1].upper() for e in active_agg.columns.tolist()])\n",
    "    bureau_agg = bureau_agg.join(active_agg, how='left', on='SK_ID_CURR')\n",
    "    del active, active_agg\n",
    "    gc.collect()\n",
    "    \n",
    "    # Bureau: Closed credits - using only numerical aggregations\n",
    "    closed = bureau[bureau['CREDIT_ACTIVE_Closed'] == 1]\n",
    "    closed_agg = closed.groupby('SK_ID_CURR').agg(num_aggregations)\n",
    "    closed_agg.columns = pd.Index(['CLOSED_' + e[0] + \"_\" + e[1].upper() for e in closed_agg.columns.tolist()])\n",
    "    bureau_agg = bureau_agg.join(closed_agg, how='left', on='SK_ID_CURR')\n",
    "    \n",
    "    del closed, closed_agg, bureau\n",
    "    gc.collect()\n",
    "    \n",
    "    return bureau_agg"
   ]
  },
  {
   "cell_type": "markdown",
   "id": "41c9d1c8-3f7a-431b-bbdf-b367dc3d2c3c",
   "metadata": {
    "tags": []
   },
   "source": [
    "<div style=\"background-color: #6D83C5;\" >\n",
    "    <h3 style=\"margin: auto; padding: 20px; color:#fff; \">Previous applications</h3>\n",
    "</div>"
   ]
  },
  {
   "cell_type": "markdown",
   "id": "fe47dc73-b584-480d-8032-2e5c114e57da",
   "metadata": {
    "tags": []
   },
   "source": [
    "<div class=\"alert alert-block alert-info\">\n",
    "    <p>Previous credit of applicants information in <b>\"Prêt à dépenser\"</b></p>\n",
    "    <p>Add new features based on Max, Min, Mean based on monthly values of previos loans</p>\n",
    "</div>"
   ]
  },
  {
   "cell_type": "code",
   "execution_count": 6,
   "id": "177d7982-96dd-4de3-bc71-a8bd592330ca",
   "metadata": {},
   "outputs": [],
   "source": [
    "# Preprocess previous_applications.csv\n",
    "def previous_applications(num_rows=None, nan_as_category=True):\n",
    "    \n",
    "    # Read data\n",
    "    prev = pd.read_csv(r\"datasets\\initials_datasets\\previous_application.csv\", nrows=num_rows)\n",
    "    \n",
    "    # Categorical features with One-Hot encode\n",
    "    prev, cat_cols = one_hot_encoder(prev, nan_as_category= True)\n",
    "    \n",
    "    # Days 365.243 values -> nan\n",
    "    prev['DAYS_FIRST_DRAWING'].replace(365243, np.nan, inplace= True)\n",
    "    prev['DAYS_FIRST_DUE'].replace(365243, np.nan, inplace= True)\n",
    "    prev['DAYS_LAST_DUE_1ST_VERSION'].replace(365243, np.nan, inplace= True)\n",
    "    prev['DAYS_LAST_DUE'].replace(365243, np.nan, inplace= True)\n",
    "    prev['DAYS_TERMINATION'].replace(365243, np.nan, inplace= True)\n",
    "    \n",
    "    # Add feature: value ask / value received percentage\n",
    "    prev['APP_CREDIT_PERC'] = prev['AMT_APPLICATION'] / prev['AMT_CREDIT']\n",
    "    \n",
    "    # Previous applications numeric features\n",
    "    num_aggregations = {\n",
    "        'AMT_ANNUITY': ['min', 'max', 'mean'],\n",
    "        'AMT_APPLICATION': ['min', 'max', 'mean'],\n",
    "        'AMT_CREDIT': ['min', 'max', 'mean'],\n",
    "        'APP_CREDIT_PERC': ['min', 'max', 'mean', 'var'],\n",
    "        'AMT_DOWN_PAYMENT': ['min', 'max', 'mean'],\n",
    "        'AMT_GOODS_PRICE': ['min', 'max', 'mean'],\n",
    "        'HOUR_APPR_PROCESS_START': ['min', 'max', 'mean'],\n",
    "        'RATE_DOWN_PAYMENT': ['min', 'max', 'mean'],\n",
    "        'DAYS_DECISION': ['min', 'max', 'mean'],\n",
    "        'CNT_PAYMENT': ['mean', 'sum'],\n",
    "    }\n",
    "    \n",
    "    # Previous applications categorical features\n",
    "    cat_aggregations = {}\n",
    "    for cat in cat_cols:\n",
    "        cat_aggregations[cat] = ['mean']\n",
    "    \n",
    "    prev_agg = prev.groupby('SK_ID_CURR').agg({**num_aggregations, **cat_aggregations})\n",
    "    prev_agg.columns = pd.Index(['PREV_' + e[0] + \"_\" + e[1].upper() for e in prev_agg.columns.tolist()])\n",
    "    \n",
    "    # Previous Applications: Approved Applications - only numerical features\n",
    "    approved = prev[prev['NAME_CONTRACT_STATUS_Approved'] == 1]\n",
    "    approved_agg = approved.groupby('SK_ID_CURR').agg(num_aggregations)\n",
    "    approved_agg.columns = pd.Index(['APPROVED_' + e[0] + \"_\" + e[1].upper() for e in approved_agg.columns.tolist()])\n",
    "    prev_agg = prev_agg.join(approved_agg, how='left', on='SK_ID_CURR')\n",
    "    \n",
    "    # Previous Applications: Refused Applications - only numerical features\n",
    "    refused = prev[prev['NAME_CONTRACT_STATUS_Refused'] == 1]\n",
    "    refused_agg = refused.groupby('SK_ID_CURR').agg(num_aggregations)\n",
    "    refused_agg.columns = pd.Index(['REFUSED_' + e[0] + \"_\" + e[1].upper() for e in refused_agg.columns.tolist()])\n",
    "    prev_agg = prev_agg.join(refused_agg, how='left', on='SK_ID_CURR')\n",
    "    \n",
    "    del refused, refused_agg, approved, approved_agg, prev\n",
    "    gc.collect()\n",
    "    \n",
    "    return prev_agg"
   ]
  },
  {
   "cell_type": "markdown",
   "id": "9a103c47-47d5-4dc6-adf2-9d1dd307f411",
   "metadata": {
    "tags": []
   },
   "source": [
    "<div style=\"background-color: #6D83C5;\" >\n",
    "    <h3 style=\"margin: auto; padding: 20px; color:#fff; \">Pos Cash\n",
    "</div>"
   ]
  },
  {
   "cell_type": "markdown",
   "id": "bbbe3323-b347-4f4f-903d-0566da19ef8b",
   "metadata": {
    "tags": []
   },
   "source": [
    "<div class=\"alert alert-block alert-info\">\n",
    "    <p>Monthly credit (home credit, cash and consumer credits) balances of the customer</p>\n",
    "</div>"
   ]
  },
  {
   "cell_type": "code",
   "execution_count": 7,
   "id": "35674408-03f1-40cf-938e-33ec49866861",
   "metadata": {
    "tags": []
   },
   "outputs": [],
   "source": [
    "# Preprocess POS_CASH_balance.csv\n",
    "def pos_cash(num_rows=None, nan_as_category=True):\n",
    "    \n",
    "    # Read data\n",
    "    pos = pd.read_csv(r\"datasets\\initials_datasets\\POS_CASH_balance.csv\", nrows=num_rows)\n",
    "    \n",
    "    # Categorical features with One-Hot encode\n",
    "    pos, cat_cols = one_hot_encoder(pos, nan_as_category=True)\n",
    "    \n",
    "    # Features\n",
    "    aggregations = {\n",
    "        'MONTHS_BALANCE': ['max', 'mean', 'size'],\n",
    "        'SK_DPD': ['max', 'mean'],\n",
    "        'SK_DPD_DEF': ['max', 'mean']\n",
    "    }\n",
    "    \n",
    "    for cat in cat_cols:\n",
    "        aggregations[cat] = ['mean']\n",
    "    \n",
    "    pos_agg = pos.groupby('SK_ID_CURR').agg(aggregations)\n",
    "    pos_agg.columns = pd.Index(['POS_' + e[0] + \"_\" + e[1].upper() for e in pos_agg.columns.tolist()])\n",
    "    \n",
    "    # Count pos cash accounts\n",
    "    pos_agg['POS_COUNT'] = pos.groupby('SK_ID_CURR').size()\n",
    "    \n",
    "    del pos\n",
    "    gc.collect()\n",
    "    \n",
    "    return pos_agg"
   ]
  },
  {
   "cell_type": "markdown",
   "id": "81bff388-0a1b-4a23-862c-e8703cc5025d",
   "metadata": {
    "tags": []
   },
   "source": [
    "<div style=\"background-color: #6D83C5;\" >\n",
    "    <h3 style=\"margin: auto; padding: 20px; color:#fff; \">Installments payments</h3>\n",
    "</div>"
   ]
  },
  {
   "cell_type": "markdown",
   "id": "611024bc-7262-4724-b6a7-25528de7482e",
   "metadata": {
    "tags": []
   },
   "source": [
    "<div class=\"alert alert-block alert-info\">\n",
    "    <p>History of payments made by the customer</p>\n",
    "    <p>Each row/sample corresponds to a payment made or late payment</p>\n",
    "</div>"
   ]
  },
  {
   "cell_type": "code",
   "execution_count": 8,
   "id": "1cee76da-0644-413b-8559-468677f7f14e",
   "metadata": {},
   "outputs": [],
   "source": [
    "# Preprocess installments_payments.csv\n",
    "def installments_payments(num_rows=None, nan_as_category=True):\n",
    "    \n",
    "    # Read data\n",
    "    ins = pd.read_csv(r\"datasets\\initials_datasets\\installments_payments.csv\", nrows=num_rows)\n",
    "    \n",
    "    # Categorical features with One-Hot encode\n",
    "    ins, cat_cols = one_hot_encoder(ins, nan_as_category=True)\n",
    "    \n",
    "    # Percentage and difference paid in each installment (amount paid and installment value)\n",
    "    ins['PAYMENT_PERC'] = ins['AMT_PAYMENT'] / ins['AMT_INSTALMENT']\n",
    "    ins['PAYMENT_DIFF'] = ins['AMT_INSTALMENT'] - ins['AMT_PAYMENT']\n",
    "    \n",
    "    # Days past due and days before due (no negative values)\n",
    "    ins['DPD'] = ins['DAYS_ENTRY_PAYMENT'] - ins['DAYS_INSTALMENT']\n",
    "    ins['DBD'] = ins['DAYS_INSTALMENT'] - ins['DAYS_ENTRY_PAYMENT']\n",
    "    ins['DPD'] = ins['DPD'].apply(lambda x: x if x > 0 else 0)\n",
    "    ins['DBD'] = ins['DBD'].apply(lambda x: x if x > 0 else 0)\n",
    "    \n",
    "    # Features: Perform aggregations\n",
    "    aggregations = {\n",
    "        'NUM_INSTALMENT_VERSION': ['nunique'],\n",
    "        'DPD': ['max', 'mean', 'sum'],\n",
    "        'DBD': ['max', 'mean', 'sum'],\n",
    "        'PAYMENT_PERC': ['max', 'mean', 'sum', 'var'],\n",
    "        'PAYMENT_DIFF': ['max', 'mean', 'sum', 'var'],\n",
    "        'AMT_INSTALMENT': ['max', 'mean', 'sum'],\n",
    "        'AMT_PAYMENT': ['min', 'max', 'mean', 'sum'],\n",
    "        'DAYS_ENTRY_PAYMENT': ['max', 'mean', 'sum']\n",
    "    }\n",
    "    \n",
    "    for cat in cat_cols:\n",
    "        aggregations[cat] = ['mean']\n",
    "        \n",
    "    ins_agg = ins.groupby('SK_ID_CURR').agg(aggregations)\n",
    "    ins_agg.columns = pd.Index(['INSTAL_' + e[0] + \"_\" + e[1].upper() for e in ins_agg.columns.tolist()])\n",
    "    \n",
    "    # Count installments accounts\n",
    "    ins_agg['INSTAL_COUNT'] = ins.groupby('SK_ID_CURR').size()\n",
    "    \n",
    "    del ins\n",
    "    gc.collect()\n",
    "    \n",
    "    return ins_agg"
   ]
  },
  {
   "cell_type": "markdown",
   "id": "c1f82f78-8e25-41d9-9d03-9848ba9e4a49",
   "metadata": {
    "tags": []
   },
   "source": [
    "<div style=\"background-color: #6D83C5;\" >\n",
    "    <h3 style=\"margin: auto; padding: 20px; color:#fff; \">Credit Card Balance</h3>\n",
    "</div>"
   ]
  },
  {
   "cell_type": "markdown",
   "id": "f29e042a-8c8b-44ce-ad27-c6b564232096",
   "metadata": {
    "tags": []
   },
   "source": [
    "<div class=\"alert alert-block alert-info\">\n",
    "    <p>Monthly credit card balances</p>\n",
    "</div>"
   ]
  },
  {
   "cell_type": "code",
   "execution_count": 9,
   "id": "448f5108-f6e9-40a0-8ada-4bdb6d84e28f",
   "metadata": {},
   "outputs": [],
   "source": [
    "# Preprocess credit_card_balance.csv\n",
    "def credit_card_balance(num_rows=None, nan_as_category=True):\n",
    "    \n",
    "    # Read data\n",
    "    cc = pd.read_csv(r\"datasets\\initials_datasets\\credit_card_balance.csv\", nrows=num_rows)\n",
    "    \n",
    "    # Categorical features with One-Hot encode\n",
    "    cc, cat_cols = one_hot_encoder(cc, nan_as_category=True)\n",
    "    \n",
    "    # General aggregations\n",
    "    cc.drop(['SK_ID_PREV'], axis= 1, inplace = True)\n",
    "    cc_agg = cc.groupby('SK_ID_CURR').agg(['min', 'max', 'mean', 'sum', 'var'])\n",
    "    cc_agg.columns = pd.Index(['CC_' + e[0] + \"_\" + e[1].upper() for e in cc_agg.columns.tolist()])\n",
    "    \n",
    "    # Count credit card lines\n",
    "    cc_agg['CC_COUNT'] = cc.groupby('SK_ID_CURR').size()\n",
    "    \n",
    "    del cc\n",
    "    gc.collect()\n",
    "    \n",
    "    return cc_agg"
   ]
  },
  {
   "cell_type": "markdown",
   "id": "a0233914-a771-4a02-932b-57728adcdb0c",
   "metadata": {
    "tags": []
   },
   "source": [
    "<div style=\"background-color: #506AB9;\" >\n",
    "    <h2 style=\"margin: auto; padding: 20px; color:#fff; \">3. Main function</h2>\n",
    "</div>"
   ]
  },
  {
   "cell_type": "markdown",
   "id": "42f8d4e2-1bd4-45ab-b767-8c6522a6a59b",
   "metadata": {
    "tags": []
   },
   "source": [
    "<div class=\"alert alert-block alert-info\">\n",
    "    <p>Functions caller</p>\n",
    "</div>"
   ]
  },
  {
   "cell_type": "code",
   "execution_count": 10,
   "id": "581122fc-e82a-4de6-873c-07059408ec47",
   "metadata": {
    "tags": []
   },
   "outputs": [],
   "source": [
    "def main(debug=False):  \n",
    "    \n",
    "    # To test with less data\n",
    "    num_rows = 10000 if debug else None\n",
    "    \n",
    "    with timer(\"Process Train/Test df\"):    \n",
    "        df = application_train_test(num_rows)\n",
    "        print(\"\\n\")\n",
    "        print(\">> application_train_test\")\n",
    "        print(\"Train/Test df shape:\", df.shape)\n",
    "        #display(df.head())\n",
    "    \n",
    "    with timer(\"Process bureau and bureau_balance\"):\n",
    "        bureau = bureau_and_balance(num_rows)\n",
    "        print(\"\\n\")\n",
    "        print(\">> bureau_and_balance\")\n",
    "        print(\"Bureau df shape:\", bureau.shape)\n",
    "        df = df.join(bureau, how='left', on='SK_ID_CURR')\n",
    "        del bureau\n",
    "        gc.collect()\n",
    "        #display(df.head())\n",
    "        \n",
    "        \n",
    "    with timer(\"Process previous_applications\"):\n",
    "        prev = previous_applications(num_rows)\n",
    "        print(\"\\n\")\n",
    "        print(\">> previous_applications\")\n",
    "        print(\"Previous applications df shape:\", prev.shape)\n",
    "        df = df.join(prev, how='left', on='SK_ID_CURR')\n",
    "        del prev\n",
    "        gc.collect()\n",
    "        #display(df.head())\n",
    "\n",
    "        \n",
    "    with timer(\"Process POS-CASH balance\"):\n",
    "        pos = pos_cash(num_rows)\n",
    "        print(\"\\n\")\n",
    "        print(\">> pos_cash\")\n",
    "        print(\"Pos-cash balance df shape:\", pos.shape)\n",
    "        df = df.join(pos, how='left', on='SK_ID_CURR')\n",
    "        del pos\n",
    "        gc.collect()\n",
    "        #display(df.head())\n",
    "        \n",
    "\n",
    "    with timer(\"Process installments payments\"):\n",
    "        ins = installments_payments(num_rows)\n",
    "        print(\"\\n\")\n",
    "        print(\">> installments_payments\")\n",
    "        print(\"Installments payments df shape:\", ins.shape)\n",
    "        df = df.join(ins, how='left', on='SK_ID_CURR')\n",
    "        del ins\n",
    "        gc.collect()\n",
    "        #display(df.head())\n",
    "        \n",
    "    with timer(\"Process credit card balance\"):\n",
    "        cc = credit_card_balance(num_rows)\n",
    "        print(\"\\n\")\n",
    "        print(\">> credit_card_balance\")\n",
    "        print(\"Credit card balance df shape:\", cc.shape)\n",
    "        df = df.join(cc, how='left', on='SK_ID_CURR')\n",
    "        del cc\n",
    "        gc.collect()\n",
    "        #display(df.head())\n",
    "    \n",
    "    # Calculating the size of the dataset on memory\n",
    "    print(\"\\n\")\n",
    "    result = memory_usage(df)\n",
    "    print(\">> Dataset on memory\")\n",
    "    print(\"  \", result)    \n",
    "        \n",
    "    return (df)\n"
   ]
  },
  {
   "cell_type": "markdown",
   "id": "7281df6b-446d-4210-b89f-9c0350c23722",
   "metadata": {
    "tags": []
   },
   "source": [
    "<div style=\"background-color: #506AB9;\" >\n",
    "    <h2 style=\"margin: auto; padding: 20px; color:#fff; \">5. Preprocessing's results</h2>\n",
    "</div>"
   ]
  },
  {
   "cell_type": "code",
   "execution_count": 11,
   "id": "bb29ba7c-68c6-436e-befe-7fb6a2afcb37",
   "metadata": {},
   "outputs": [
    {
     "name": "stdout",
     "output_type": "stream",
     "text": [
      "Train samples: 307511, test samples: 48744\n",
      "\n",
      "\n",
      ">> application_train_test\n",
      "Train/Test df shape: (356251, 248)\n",
      "Process Train/Test df - done in 5s\n",
      "\n",
      "\n",
      ">> bureau_and_balance\n",
      "Bureau df shape: (305811, 116)\n",
      "Process bureau and bureau_balance - done in 22s\n",
      "\n",
      "\n",
      ">> previous_applications\n",
      "Previous applications df shape: (338857, 249)\n",
      "Process previous_applications - done in 29s\n",
      "\n",
      "\n",
      ">> pos_cash\n",
      "Pos-cash balance df shape: (337252, 18)\n",
      "Process POS-CASH balance - done in 17s\n",
      "\n",
      "\n",
      ">> installments_payments\n",
      "Installments payments df shape: (339587, 26)\n",
      "Process installments payments - done in 38s\n",
      "\n",
      "\n",
      ">> credit_card_balance\n",
      "Credit card balance df shape: (103558, 141)\n",
      "Process credit card balance - done in 28s\n",
      "\n",
      "\n",
      ">> Dataset on memory\n",
      "   memory usage: 1.8 GB\n",
      "\n",
      "\n",
      "Full model run - done in 140s\n"
     ]
    }
   ],
   "source": [
    "with timer(\"\\n\\nFull model run\"):\n",
    "    df = main()"
   ]
  },
  {
   "cell_type": "markdown",
   "id": "d0a3126d-0e51-4066-bd4b-6c72b6aac7ee",
   "metadata": {
    "tags": []
   },
   "source": [
    "<div style=\"background-color: #506AB9;\" >\n",
    "    <h2 style=\"margin: auto; padding: 20px; color:#fff; \">6 Optimizing memory usage</h2>\n",
    "</div>"
   ]
  },
  {
   "cell_type": "markdown",
   "id": "1dcd317e-fee1-477f-9560-a7d153c9536b",
   "metadata": {
    "tags": []
   },
   "source": [
    "<div class=\"alert alert-block alert-warning\">\n",
    "    <p>We should optimize the memory usage to avoid problems during executions</p>\n",
    "</div>"
   ]
  },
  {
   "cell_type": "code",
   "execution_count": 12,
   "id": "1a7a8640-4e93-49de-81f6-491759a77a7c",
   "metadata": {},
   "outputs": [
    {
     "name": "stdout",
     "output_type": "stream",
     "text": [
      "\n",
      "Analysis Header of df dataset\n",
      "--------------------------------------------------------------------------------\n",
      "- Dataset shape:\t\t\t 356251 rows and 798 columns\n",
      "- Total of NaN values:\t\t\t 72099981\n",
      "- Percentage of NaN:\t\t\t 25.36 %\n",
      "- Total of infinite values:\t\t 21\n",
      "- Percentage of infinite values:\t 0.0 %\n",
      "- Total of full duplicates rows:\t 0\n",
      "- Total of empty rows:\t\t\t 0\n",
      "- Total of empty columns:\t\t 0\n",
      "- Unique indexes:\t\t\t True\n",
      "- Memory usage:\t\t\t\t 1.8 GB\n"
     ]
    }
   ],
   "source": [
    "df_analysis(df, \"df\", analysis_type=\"header\")"
   ]
  },
  {
   "cell_type": "code",
   "execution_count": 13,
   "id": "2ebc570e-3965-4ca9-80e2-cf50fe2806d3",
   "metadata": {},
   "outputs": [],
   "source": [
    "df[\"TARGET\"].fillna(value=-99, inplace=True)\n",
    "df[\"TARGET\"] = df[\"TARGET\"].astype(\"int8\")\n",
    "df[\"TARGET\"] = df[\"TARGET\"].replace(-99, np.nan)"
   ]
  },
  {
   "cell_type": "code",
   "execution_count": 14,
   "id": "c3eb1aa3-4e88-414f-bc70-5c411d6ed316",
   "metadata": {},
   "outputs": [],
   "source": [
    "df = memory_optimization(df)"
   ]
  },
  {
   "cell_type": "code",
   "execution_count": 15,
   "id": "c1cee32c-2ceb-401f-a249-f9a27171ce9b",
   "metadata": {},
   "outputs": [
    {
     "name": "stdout",
     "output_type": "stream",
     "text": [
      "\n",
      "Analysis Header of df dataset\n",
      "--------------------------------------------------------------------------------\n",
      "- Dataset shape:\t\t\t 356251 rows and 798 columns\n",
      "- Total of NaN values:\t\t\t 72099981\n",
      "- Percentage of NaN:\t\t\t 25.36 %\n",
      "- Total of infinite values:\t\t 21\n",
      "- Percentage of infinite values:\t 0.0 %\n",
      "- Total of full duplicates rows:\t 0\n",
      "- Total of empty rows:\t\t\t 0\n",
      "- Total of empty columns:\t\t 0\n",
      "- Unique indexes:\t\t\t True\n",
      "- Memory usage:\t\t\t\t 955.3 MB\n"
     ]
    }
   ],
   "source": [
    "df_analysis(df, \"df\", analysis_type=\"header\")"
   ]
  },
  {
   "cell_type": "markdown",
   "id": "32d0aa86-43cb-46ec-a53b-7d070e2f7ac7",
   "metadata": {
    "tags": []
   },
   "source": [
    "<div class=\"alert alert-block alert-success\">\n",
    "    <p>We can see how the memory used has been reduced</p>\n",
    "</div>"
   ]
  },
  {
   "cell_type": "markdown",
   "id": "43931bb5-4b27-4f02-b8f7-64e18ae12137",
   "metadata": {
    "tags": []
   },
   "source": [
    "<div style=\"background-color: #506AB9;\" >\n",
    "    <h2 style=\"margin: auto; padding: 20px; color:#fff; \">7. Missing-values</h2>\n",
    "</div>"
   ]
  },
  {
   "cell_type": "markdown",
   "id": "0211adff-df59-47e9-b182-27298bd00704",
   "metadata": {},
   "source": [
    "<div class=\"alert alert-block alert-info\">\n",
    "    <p>Now, we are going to treat the missing-values in all the dataset, to do that, we are going to do the following steps</p>\n",
    "    <ol>\n",
    "        <li><b>Delete column with 20% or plus of Missing values</b></li>\n",
    "        <li><b>Replace of infinite-values with NaN</b></li>\n",
    "        <li><b>Fill missing-values with SimpleImputer</b> - There are 25 infinite values</li>\n",
    "    </ol> \n",
    "    <p>Let's start by identifying the features with infinite-values and replace them by missing-values\n",
    "   </p>\n",
    "</div>\n",
    "</div>"
   ]
  },
  {
   "cell_type": "code",
   "execution_count": 16,
   "id": "88e297d2-76b3-4efd-8467-864a7b3a5b93",
   "metadata": {},
   "outputs": [],
   "source": [
    "inf_cols = df.columns.to_series()[np.isinf(df).any()]"
   ]
  },
  {
   "cell_type": "code",
   "execution_count": 17,
   "id": "0690c76f-adf8-4471-b3cb-6ed105479dc3",
   "metadata": {},
   "outputs": [],
   "source": [
    "for col in inf_cols:\n",
    "    df[col] = df[col].replace([np.inf, -np.inf], np.nan)"
   ]
  },
  {
   "cell_type": "code",
   "execution_count": 18,
   "id": "bbd74ada-2478-4cb1-ae6c-ba9e791013fd",
   "metadata": {},
   "outputs": [
    {
     "name": "stdout",
     "output_type": "stream",
     "text": [
      "\n",
      "Analysis Header of df dataset\n",
      "--------------------------------------------------------------------------------\n",
      "- Dataset shape:\t\t\t 356251 rows and 798 columns\n",
      "- Total of NaN values:\t\t\t 72100002\n",
      "- Percentage of NaN:\t\t\t 25.36 %\n",
      "- Total of infinite values:\t\t 0\n",
      "- Percentage of infinite values:\t 0.0 %\n",
      "- Total of full duplicates rows:\t 0\n",
      "- Total of empty rows:\t\t\t 0\n",
      "- Total of empty columns:\t\t 0\n",
      "- Unique indexes:\t\t\t True\n",
      "- Memory usage:\t\t\t\t 955.3 MB\n"
     ]
    }
   ],
   "source": [
    "df_analysis(df, \"df\", analysis_type=\"header\")"
   ]
  },
  {
   "cell_type": "markdown",
   "id": "005e376d-b666-4e4a-a8d4-f44bcde8ff1d",
   "metadata": {},
   "source": [
    "<div class=\"alert alert-block alert-info\">\n",
    "    <p>Now, we are going to delete all columns with 20% or plus of missing-values. But first, we have to save the TARGET variable\n",
    "   </p>\n",
    "</div>\n",
    "</div>"
   ]
  },
  {
   "cell_type": "code",
   "execution_count": 19,
   "id": "c9c10c35-caeb-45e3-ae34-3d5177802a52",
   "metadata": {},
   "outputs": [],
   "source": [
    "df_temp = df[\"TARGET\"].copy()"
   ]
  },
  {
   "cell_type": "code",
   "execution_count": 20,
   "id": "c2479572-c653-40cc-8a16-0a82e5a9d155",
   "metadata": {},
   "outputs": [],
   "source": [
    "df = df.dropna(thresh=0.8*len(df), axis=1)"
   ]
  },
  {
   "cell_type": "code",
   "execution_count": 21,
   "id": "ab419195-a039-4e74-a29d-4d9904196578",
   "metadata": {},
   "outputs": [
    {
     "name": "stdout",
     "output_type": "stream",
     "text": [
      "Target variable exist\n"
     ]
    }
   ],
   "source": [
    "# Checking if TARGAT variable is still existing in the dataset\n",
    "for col in df.columns:\n",
    "    if col == \"TARGET\":\n",
    "        print(\"Target variable exist\")"
   ]
  },
  {
   "cell_type": "code",
   "execution_count": 22,
   "id": "9a7f9d90-bbae-43ee-a00d-0357832e3c6f",
   "metadata": {},
   "outputs": [
    {
     "data": {
      "text/plain": [
       "0"
      ]
     },
     "execution_count": 22,
     "metadata": {},
     "output_type": "execute_result"
    }
   ],
   "source": [
    "# Deleting the dataset temporal\n",
    "del df_temp\n",
    "gc.collect()"
   ]
  },
  {
   "cell_type": "code",
   "execution_count": 23,
   "id": "2f2b97ea-c798-456c-b8a1-83afc400f1a8",
   "metadata": {},
   "outputs": [
    {
     "name": "stdout",
     "output_type": "stream",
     "text": [
      "\n",
      "Analysis Header of df dataset\n",
      "--------------------------------------------------------------------------------\n",
      "- Dataset shape:\t\t\t 356251 rows and 509 columns\n",
      "- Total of NaN values:\t\t\t 7678965\n",
      "- Percentage of NaN:\t\t\t 4.23 %\n",
      "- Total of infinite values:\t\t 0\n",
      "- Percentage of infinite values:\t 0.0 %\n",
      "- Total of full duplicates rows:\t 0\n",
      "- Total of empty rows:\t\t\t 0\n",
      "- Total of empty columns:\t\t 0\n",
      "- Unique indexes:\t\t\t True\n",
      "- Memory usage:\t\t\t\t 546.2 MB\n"
     ]
    }
   ],
   "source": [
    "df_analysis(df, \"df\", analysis_type=\"header\")"
   ]
  },
  {
   "cell_type": "markdown",
   "id": "c2722bd9-8f1d-472f-9c40-e596f85e6149",
   "metadata": {},
   "source": [
    "<div class=\"alert alert-block alert-success\">\n",
    "    <p>We have deleted 289 columns in the dataset\n",
    "   </p>\n",
    "</div>\n",
    "</div>"
   ]
  },
  {
   "cell_type": "markdown",
   "id": "9164d7a8-d5d2-49fc-9c7e-786b17af0081",
   "metadata": {},
   "source": [
    "<div class=\"alert alert-block alert-info\">\n",
    "    <p>Let's continue by identifying the features with missing-values and excluding the TARGET\n",
    "   </p>\n",
    "</div>\n",
    "</div>"
   ]
  },
  {
   "cell_type": "code",
   "execution_count": 24,
   "id": "e56c369d-7f4f-4c14-95db-1effe18ef329",
   "metadata": {},
   "outputs": [],
   "source": [
    "nan_cols = [i for i in df.columns if i!=\"TARGET\" and df[i].isnull().any()]"
   ]
  },
  {
   "cell_type": "code",
   "execution_count": 25,
   "id": "f8ed66ac-a2d6-4869-84b5-e625fee111db",
   "metadata": {},
   "outputs": [],
   "source": [
    "for col in nan_cols:\n",
    "    mean_value = df[col].mean()\n",
    "    df[col].fillna(value=mean_value, inplace=True)"
   ]
  },
  {
   "cell_type": "code",
   "execution_count": 26,
   "id": "050218ef-193d-46e0-895f-918021bee8f9",
   "metadata": {},
   "outputs": [
    {
     "name": "stdout",
     "output_type": "stream",
     "text": [
      "\n",
      "Analysis Header of df dataset\n",
      "--------------------------------------------------------------------------------\n",
      "- Dataset shape:\t\t\t 356251 rows and 509 columns\n",
      "- Total of NaN values:\t\t\t 48744\n",
      "- Percentage of NaN:\t\t\t 0.03 %\n",
      "- Total of infinite values:\t\t 0\n",
      "- Percentage of infinite values:\t 0.0 %\n",
      "- Total of full duplicates rows:\t 0\n",
      "- Total of empty rows:\t\t\t 0\n",
      "- Total of empty columns:\t\t 0\n",
      "- Unique indexes:\t\t\t True\n",
      "- Memory usage:\t\t\t\t 546.2 MB\n"
     ]
    }
   ],
   "source": [
    "df_analysis(df, \"df\", analysis_type=\"header\")"
   ]
  },
  {
   "cell_type": "markdown",
   "id": "443a2efd-9741-4ce5-9b73-113e87f545fd",
   "metadata": {},
   "source": [
    "<div class=\"alert alert-block alert-success\">\n",
    "    <p>Now, we only have missing values on the Target\n",
    "   </p>\n",
    "</div>\n",
    "</div>"
   ]
  },
  {
   "cell_type": "markdown",
   "id": "43ce3ee9-c0f2-4650-bb07-b460f7290429",
   "metadata": {
    "tags": []
   },
   "source": [
    "<div style=\"background-color: #506AB9;\" >\n",
    "    <h2 style=\"margin: auto; padding: 20px; color:#fff; \">8. Saving datasets</h2>\n",
    "</div>"
   ]
  },
  {
   "cell_type": "markdown",
   "id": "a70c661d-0e9a-435f-ae0e-e9d52fc8a308",
   "metadata": {},
   "source": [
    "<div class=\"alert alert-block alert-info\">\n",
    "    <p>At this point, we are going to save current clients separate from clients to predict.</p>\n",
    "    <p>But, before that, we are going to format columns name in the dataset</p>\n",
    "</div>"
   ]
  },
  {
   "cell_type": "code",
   "execution_count": 27,
   "id": "1b83e0fb-30a8-4087-bb51-f579358a2a0d",
   "metadata": {},
   "outputs": [],
   "source": [
    "# Formatting columns name\n",
    "df = df.rename(columns=lambda x:re.sub(\"[^A-Za-z0-9_]+\", \"\", x))"
   ]
  },
  {
   "cell_type": "markdown",
   "id": "a642499c-7cbc-4124-aec5-c52107ad5584",
   "metadata": {
    "tags": []
   },
   "source": [
    "<div style=\"background-color: #506AB9;\" >\n",
    "    <h3 style=\"margin: auto; padding: 20px; color:#fff; \">8.1 Current clients</h3>\n",
    "</div>"
   ]
  },
  {
   "cell_type": "markdown",
   "id": "0f3dd656-d8a7-4214-924d-86968e61b412",
   "metadata": {},
   "source": [
    "<div class=\"alert alert-block alert-info\">\n",
    "    <p>Now, let's save the current clients</p>\n",
    "</div>\n",
    "</div>"
   ]
  },
  {
   "cell_type": "code",
   "execution_count": 28,
   "id": "9ca85b53-c7e3-45a9-b456-363eb6ad4d79",
   "metadata": {},
   "outputs": [],
   "source": [
    "df_current_clients = df[df[\"TARGET\"].notnull()]"
   ]
  },
  {
   "cell_type": "code",
   "execution_count": 29,
   "id": "8e5b8e59-b0b4-4eb8-89d7-dcc44ab43ab9",
   "metadata": {},
   "outputs": [
    {
     "name": "stdout",
     "output_type": "stream",
     "text": [
      "\n",
      "Analysis Header of df_current_clients dataset\n",
      "--------------------------------------------------------------------------------\n",
      "- Dataset shape:\t\t\t 307507 rows and 509 columns\n",
      "- Total of NaN values:\t\t\t 0\n",
      "- Percentage of NaN:\t\t\t 0.0 %\n",
      "- Total of infinite values:\t\t 0\n",
      "- Percentage of infinite values:\t 0.0 %\n",
      "- Total of full duplicates rows:\t 0\n",
      "- Total of empty rows:\t\t\t 0\n",
      "- Total of empty columns:\t\t 0\n",
      "- Unique indexes:\t\t\t True\n",
      "- Memory usage:\t\t\t\t 464.5 MB\n"
     ]
    }
   ],
   "source": [
    "df_analysis(df_current_clients, \"df_current_clients\", analysis_type=\"header\")"
   ]
  },
  {
   "cell_type": "code",
   "execution_count": 30,
   "id": "f091c33b-533e-427d-b857-a90ae63949fa",
   "metadata": {},
   "outputs": [],
   "source": [
    "# saving the current clients\n",
    "df_current_clients.to_csv(\"datasets/finals_datasets/df_current_clients.csv\", index=False)"
   ]
  },
  {
   "cell_type": "code",
   "execution_count": 31,
   "id": "8f9d4c36-9dc4-4faa-bde4-185fc783588b",
   "metadata": {},
   "outputs": [
    {
     "data": {
      "text/plain": [
       "0"
      ]
     },
     "execution_count": 31,
     "metadata": {},
     "output_type": "execute_result"
    }
   ],
   "source": [
    "del df_current_clients\n",
    "gc.collect()"
   ]
  },
  {
   "cell_type": "markdown",
   "id": "b1882e48-6faa-479c-86bb-10c8b8103bac",
   "metadata": {
    "tags": []
   },
   "source": [
    "<div style=\"background-color: #506AB9;\" >\n",
    "    <h3 style=\"margin: auto; padding: 20px; color:#fff; \">8.2 Clients to predict</h3>\n",
    "</div>"
   ]
  },
  {
   "cell_type": "markdown",
   "id": "df36e117-ed1a-421e-a95c-e8a415a6b7c5",
   "metadata": {},
   "source": [
    "<div class=\"alert alert-block alert-info\">\n",
    "    <p>Let's start saving the customers that we are going to predict</p>\n",
    "</div>\n",
    "</div>"
   ]
  },
  {
   "cell_type": "code",
   "execution_count": 32,
   "id": "ae796b05-98b6-450c-be14-75954291ffa5",
   "metadata": {},
   "outputs": [],
   "source": [
    "df_clients_to_predict = df[df[\"TARGET\"].isnull()]"
   ]
  },
  {
   "cell_type": "code",
   "execution_count": 33,
   "id": "c67be352-04c9-4c67-82ef-cb789019590c",
   "metadata": {},
   "outputs": [
    {
     "name": "stdout",
     "output_type": "stream",
     "text": [
      "\n",
      "Analysis Header of df_clients_to_predict dataset\n",
      "--------------------------------------------------------------------------------\n",
      "- Dataset shape:\t\t\t 48744 rows and 509 columns\n",
      "- Total of NaN values:\t\t\t 48744\n",
      "- Percentage of NaN:\t\t\t 0.2 %\n",
      "- Total of infinite values:\t\t 0\n",
      "- Percentage of infinite values:\t 0.0 %\n",
      "- Total of full duplicates rows:\t 0\n",
      "- Total of empty rows:\t\t\t 0\n",
      "- Total of empty columns:\t\t 1\n",
      "\t+ The empty column is:\t\t ['TARGET']\n",
      "- Unique indexes:\t\t\t True\n",
      "- Memory usage:\t\t\t\t 73.6 MB\n"
     ]
    }
   ],
   "source": [
    "df_analysis(df_clients_to_predict, \"df_clients_to_predict\", analysis_type=\"header\")"
   ]
  },
  {
   "cell_type": "code",
   "execution_count": 34,
   "id": "50a8ace4-aed7-4eeb-bfd4-d4b46657c751",
   "metadata": {},
   "outputs": [],
   "source": [
    "# dropping TARGET feature\n",
    "df_clients_to_predict = df_clients_to_predict.drop(columns=[\"TARGET\"])"
   ]
  },
  {
   "cell_type": "code",
   "execution_count": 35,
   "id": "b0be04c9-7ebd-4153-b8a5-8d98be557058",
   "metadata": {},
   "outputs": [
    {
     "name": "stdout",
     "output_type": "stream",
     "text": [
      "\n",
      "Analysis Header of df_clients_to_predict dataset\n",
      "--------------------------------------------------------------------------------\n",
      "- Dataset shape:\t\t\t 48744 rows and 508 columns\n",
      "- Total of NaN values:\t\t\t 0\n",
      "- Percentage of NaN:\t\t\t 0.0 %\n",
      "- Total of infinite values:\t\t 0\n",
      "- Percentage of infinite values:\t 0.0 %\n",
      "- Total of full duplicates rows:\t 0\n",
      "- Total of empty rows:\t\t\t 0\n",
      "- Total of empty columns:\t\t 0\n",
      "- Unique indexes:\t\t\t True\n",
      "- Memory usage:\t\t\t\t 74.5 MB\n"
     ]
    }
   ],
   "source": [
    "df_analysis(df_clients_to_predict, \"df_clients_to_predict\", analysis_type=\"header\")"
   ]
  },
  {
   "cell_type": "code",
   "execution_count": 36,
   "id": "f9300e59-2500-4646-956a-f77c2431a1e4",
   "metadata": {},
   "outputs": [],
   "source": [
    "# saving the clients to predict\n",
    "df_clients_to_predict.to_csv(\"datasets/finals_datasets/df_clients_to_predict.csv\", index=False)"
   ]
  },
  {
   "cell_type": "code",
   "execution_count": 37,
   "id": "483b418d-0905-4ff7-a258-52f1741ad78f",
   "metadata": {},
   "outputs": [
    {
     "data": {
      "text/plain": [
       "0"
      ]
     },
     "execution_count": 37,
     "metadata": {},
     "output_type": "execute_result"
    }
   ],
   "source": [
    "del df_clients_to_predict, df\n",
    "gc.collect()"
   ]
  }
 ],
 "metadata": {
  "kernelspec": {
   "display_name": "Python 3 (ipykernel)",
   "language": "python",
   "name": "python3"
  },
  "language_info": {
   "codemirror_mode": {
    "name": "ipython",
    "version": 3
   },
   "file_extension": ".py",
   "mimetype": "text/x-python",
   "name": "python",
   "nbconvert_exporter": "python",
   "pygments_lexer": "ipython3",
   "version": "3.9.9"
  }
 },
 "nbformat": 4,
 "nbformat_minor": 5
}
