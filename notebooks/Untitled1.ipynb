{
 "cells": [
  {
   "cell_type": "code",
   "execution_count": 1,
   "id": "9fb90a80-4255-4cb7-bf04-4392951e25c1",
   "metadata": {},
   "outputs": [],
   "source": [
    "import re\n",
    "import json\n",
    "import numpy as np\n",
    "import pandas as pd\n",
    "from functools import partial\n",
    "\n",
    "import sklearn\n",
    "from sklearn.preprocessing import StandardScaler\n",
    "import joblib\n",
    "\n",
    "import lightgbm as lgb\n",
    "from lightgbm import LGBMClassifier\n",
    "\n",
    "## Own specific functions \n",
    "from functions import *"
   ]
  },
  {
   "cell_type": "code",
   "execution_count": 2,
   "id": "a84846b5-7555-4fae-8922-f3c2904cda81",
   "metadata": {},
   "outputs": [
    {
     "ename": "NameError",
     "evalue": "name 'x' is not defined",
     "output_type": "error",
     "traceback": [
      "\u001b[1;31m---------------------------------------------------------------------------\u001b[0m",
      "\u001b[1;31mNameError\u001b[0m                                 Traceback (most recent call last)",
      "\u001b[1;32m~\\AppData\\Local\\Temp/ipykernel_7388/32546335.py\u001b[0m in \u001b[0;36m<module>\u001b[1;34m\u001b[0m\n\u001b[1;32m----> 1\u001b[1;33m \u001b[0mx\u001b[0m\u001b[1;33m\u001b[0m\u001b[1;33m\u001b[0m\u001b[0m\n\u001b[0m",
      "\u001b[1;31mNameError\u001b[0m: name 'x' is not defined"
     ]
    }
   ],
   "source": [
    "x"
   ]
  },
  {
   "cell_type": "code",
   "execution_count": null,
   "id": "14c101c7-d041-4e4c-be8b-d26132038245",
   "metadata": {},
   "outputs": [],
   "source": [
    "df = pd.read_csv(r\"datasets\\df_resampled.csv\")"
   ]
  },
  {
   "cell_type": "code",
   "execution_count": null,
   "id": "752d9cbd-295e-4fe4-a8db-0187bf41cff9",
   "metadata": {},
   "outputs": [],
   "source": [
    "df_analysis(df, \"df\", analysis_type=\"header\")"
   ]
  },
  {
   "cell_type": "code",
   "execution_count": null,
   "id": "1c1bd5ef-5130-4218-a2e8-c9f7050b78ed",
   "metadata": {},
   "outputs": [],
   "source": [
    "train_df = df[df[\"TARGET\"].notnull()]\n",
    "test_df = df[df[\"TARGET\"].isnull()]"
   ]
  },
  {
   "cell_type": "code",
   "execution_count": null,
   "id": "967e1359-1678-47cf-b846-6204ea117328",
   "metadata": {},
   "outputs": [],
   "source": [
    "train_df.head(5)"
   ]
  },
  {
   "cell_type": "code",
   "execution_count": null,
   "id": "aa797bec-d48f-4386-9cf6-8f68cf6f4cfb",
   "metadata": {},
   "outputs": [],
   "source": []
  },
  {
   "cell_type": "code",
   "execution_count": null,
   "id": "f16d37cc-dd11-4617-a567-1a44ddb5ecb4",
   "metadata": {},
   "outputs": [],
   "source": [
    "best={'learning_rate': 0.002996768103678267, 'max_depth': 1, 'min_child_weight': 43.56681976377634, 'min_split_gain': 0.025360811467421862, 'n_estimators': 0, 'num_leaves': 1, 'reg_alpha': 0.047205508056568875, 'reg_lambda': 0.07740351793970067}"
   ]
  },
  {
   "cell_type": "code",
   "execution_count": null,
   "id": "0e70e0d2-6f77-4b4b-8c88-61415329d42a",
   "metadata": {},
   "outputs": [],
   "source": [
    "print(\"Best: {}\".format(best))"
   ]
  },
  {
   "cell_type": "code",
   "execution_count": null,
   "id": "8d631079-2cf3-4276-9151-78da8cd02377",
   "metadata": {},
   "outputs": [],
   "source": [
    "N_ESTIMATORS = [8000, 10000, 12000]\n",
    "NUM_LEAVES = [32, 34, 36]\n",
    "MAX_DEPTH = [7, 8, 9]"
   ]
  },
  {
   "cell_type": "code",
   "execution_count": null,
   "id": "4747bbfe-0995-443d-8513-b1db215abb0c",
   "metadata": {},
   "outputs": [],
   "source": [
    "clf = LGBMClassifier(\n",
    "    n_estimators=N_ESTIMATORS[best.get(\"n_estimators\")],\n",
    "    learning_rate=best.get(\"learning_rate\"),\n",
    "    num_leaves=NUM_LEAVES[best.get(\"num_leaves\")],\n",
    "    max_depth=MAX_DEPTH[best.get(\"max_depth\")],\n",
    "    reg_alpha=best.get(\"reg_alpha\"),\n",
    "    reg_lambda=best.get(\"reg_lambda\"),\n",
    "    min_split_gain=best.get(\"min_split_gain\"),\n",
    "    min_child_weight=best.get(\"min_child_weight\"),\n",
    "    #colsample_bytree=0.8, \n",
    "    #subsample=0.8,\n",
    "    is_unbalance=False,\n",
    "    n_jobs=-1 \n",
    ")"
   ]
  },
  {
   "cell_type": "code",
   "execution_count": null,
   "id": "828a2fe5-fb89-47a0-8cde-6b784bc995b3",
   "metadata": {},
   "outputs": [],
   "source": [
    "# Formatting columns name\n",
    "train_df = train_df.rename(columns=lambda x:re.sub(\"[^A-Za-z0-9_]+\", \"\", x))\n",
    "df_lgbm = train_df.copy()\n",
    "    \n",
    "#scaler = StandardScaler()\n",
    "    \n",
    "# Divide in training/validation and test data\n",
    "train_df = df_lgbm[df_lgbm[\"TARGET\"].notnull()]\n",
    "del df_lgbm, df, test_df\n",
    "gc.collect()"
   ]
  },
  {
   "cell_type": "code",
   "execution_count": null,
   "id": "3032a18d-dd3f-4aff-998a-a735f52e376e",
   "metadata": {},
   "outputs": [],
   "source": [
    "# Split dataset to train\n",
    "X = train_df.drop(columns=[\"TARGET\", \"SK_ID_CURR\"])\n",
    "y_target = train_df.loc[:, \"TARGET\"]"
   ]
  },
  {
   "cell_type": "code",
   "execution_count": null,
   "id": "c5fbde64-3561-4024-81d6-f683f0986ddf",
   "metadata": {},
   "outputs": [],
   "source": [
    "#X_scaled = scaler.fit_transform(X)"
   ]
  },
  {
   "cell_type": "code",
   "execution_count": null,
   "id": "8117d07e-a757-4581-8375-ec618d5181b4",
   "metadata": {},
   "outputs": [],
   "source": [
    "clf.fit(X, y_target)"
   ]
  },
  {
   "cell_type": "code",
   "execution_count": null,
   "id": "0b2c016e-fc8c-42e0-8e7c-25812d16d30d",
   "metadata": {},
   "outputs": [],
   "source": [
    "# Saving the model based on the best parameters\n",
    "joblib.dump(clf, \"models/model_resampled.pkl\".format(version=sklearn.__version__))"
   ]
  },
  {
   "cell_type": "code",
   "execution_count": null,
   "id": "f311a276-4bf0-4aff-94d4-cd188616143b",
   "metadata": {},
   "outputs": [],
   "source": [
    "xx"
   ]
  },
  {
   "cell_type": "code",
   "execution_count": null,
   "id": "4062e509-a6ed-41bf-8d9f-5a67e06e191d",
   "metadata": {},
   "outputs": [],
   "source": []
  },
  {
   "cell_type": "code",
   "execution_count": null,
   "id": "b5ad03dc-6b25-4f81-ae33-8c3937fb0e66",
   "metadata": {},
   "outputs": [],
   "source": []
  },
  {
   "cell_type": "code",
   "execution_count": null,
   "id": "d2d74a33-4fe1-4bc9-97e6-13ca56f4c345",
   "metadata": {},
   "outputs": [],
   "source": [
    "train_df.head(15)"
   ]
  },
  {
   "cell_type": "code",
   "execution_count": null,
   "id": "6e310e3f-3c8e-426f-b4d5-d1305d87bdd5",
   "metadata": {},
   "outputs": [],
   "source": [
    "Xnew_X = train_df.drop(columns=[\"TARGET\", \"SK_ID_CURR\"])\n",
    "new_X = X.tail(15)\n",
    "#new_X_scaled = scaler.fit_transform(new_X)"
   ]
  },
  {
   "cell_type": "code",
   "execution_count": null,
   "id": "09d1fdf7-401f-491a-bff8-2e31a83011ac",
   "metadata": {},
   "outputs": [],
   "source": [
    "train_df.tail(15)"
   ]
  },
  {
   "cell_type": "code",
   "execution_count": null,
   "id": "e43bef82-c188-4719-a838-3ba6c62833fd",
   "metadata": {},
   "outputs": [],
   "source": [
    "result = model.predict(new_X)\n",
    "print(result)"
   ]
  },
  {
   "cell_type": "code",
   "execution_count": null,
   "id": "42dab096-bfeb-4756-85e4-30b20669f558",
   "metadata": {},
   "outputs": [],
   "source": [
    "result = initial_model.predict(new_X)\n",
    "print(result)"
   ]
  },
  {
   "cell_type": "code",
   "execution_count": null,
   "id": "fcbc3823-ffd8-4841-af1b-5774395a0fd1",
   "metadata": {},
   "outputs": [],
   "source": []
  },
  {
   "cell_type": "code",
   "execution_count": null,
   "id": "96194e81-7471-44e2-8726-71f895f0a08a",
   "metadata": {},
   "outputs": [],
   "source": []
  },
  {
   "cell_type": "code",
   "execution_count": null,
   "id": "5bcf5ab1-a23c-43c2-94a9-70da3ba1aa7b",
   "metadata": {},
   "outputs": [],
   "source": []
  },
  {
   "cell_type": "code",
   "execution_count": null,
   "id": "5847f32b-7914-4408-b915-71727f1f587e",
   "metadata": {},
   "outputs": [],
   "source": []
  },
  {
   "cell_type": "code",
   "execution_count": null,
   "id": "b5e72997-d47e-41ab-9166-73f9e918ec7c",
   "metadata": {},
   "outputs": [],
   "source": []
  },
  {
   "cell_type": "code",
   "execution_count": null,
   "id": "882d6559-1ba5-4075-b147-8dfad5f9e424",
   "metadata": {},
   "outputs": [],
   "source": []
  },
  {
   "cell_type": "code",
   "execution_count": 3,
   "id": "f84ab553-0dcd-4986-9f3c-9975db87950a",
   "metadata": {},
   "outputs": [],
   "source": [
    "# load the model from disk\n",
    "initial_model = joblib.load(\"models\\model_1.0.2.pkl\")"
   ]
  },
  {
   "cell_type": "code",
   "execution_count": 4,
   "id": "14b7f1f8-2a6d-4f48-81d3-8abb53a5493c",
   "metadata": {},
   "outputs": [],
   "source": [
    "# load the model from disk\n",
    "model = joblib.load(\"models\\model_1.0.2_1.pkl\")"
   ]
  },
  {
   "cell_type": "code",
   "execution_count": 5,
   "id": "c0f1fdac-3ba8-4636-b7a1-8e9f09825077",
   "metadata": {},
   "outputs": [],
   "source": [
    "model_final = joblib.load(\"models\\model_1.0.2_2.pkl\")"
   ]
  },
  {
   "cell_type": "code",
   "execution_count": null,
   "id": "e29d2a78-95a4-483d-a9e0-560c651e8ad1",
   "metadata": {},
   "outputs": [],
   "source": []
  },
  {
   "cell_type": "code",
   "execution_count": 6,
   "id": "41ad48d8-3209-48a0-a3b9-748e874e88ed",
   "metadata": {},
   "outputs": [],
   "source": [
    "df_customer = pd.read_csv(r\"datasets\\df_customers_to_predict.csv\")"
   ]
  },
  {
   "cell_type": "code",
   "execution_count": 8,
   "id": "8a3362bd-6a55-426d-aadd-4a5cf655407c",
   "metadata": {},
   "outputs": [
    {
     "data": {
      "text/html": [
       "<div>\n",
       "<style scoped>\n",
       "    .dataframe tbody tr th:only-of-type {\n",
       "        vertical-align: middle;\n",
       "    }\n",
       "\n",
       "    .dataframe tbody tr th {\n",
       "        vertical-align: top;\n",
       "    }\n",
       "\n",
       "    .dataframe thead th {\n",
       "        text-align: right;\n",
       "    }\n",
       "</style>\n",
       "<table border=\"1\" class=\"dataframe\">\n",
       "  <thead>\n",
       "    <tr style=\"text-align: right;\">\n",
       "      <th></th>\n",
       "      <th>SK_ID_CURR</th>\n",
       "      <th>CODE_GENDER</th>\n",
       "      <th>FLAG_OWN_CAR</th>\n",
       "      <th>FLAG_OWN_REALTY</th>\n",
       "      <th>CNT_CHILDREN</th>\n",
       "      <th>AMT_INCOME_TOTAL</th>\n",
       "      <th>AMT_CREDIT</th>\n",
       "      <th>AMT_ANNUITY</th>\n",
       "      <th>AMT_GOODS_PRICE</th>\n",
       "      <th>REGION_POPULATION_RELATIVE</th>\n",
       "      <th>...</th>\n",
       "      <th>CC_NAME_CONTRACT_STATUS_Signed_MAX</th>\n",
       "      <th>CC_NAME_CONTRACT_STATUS_Signed_MEAN</th>\n",
       "      <th>CC_NAME_CONTRACT_STATUS_Signed_SUM</th>\n",
       "      <th>CC_NAME_CONTRACT_STATUS_Signed_VAR</th>\n",
       "      <th>CC_NAME_CONTRACT_STATUS_nan_MIN</th>\n",
       "      <th>CC_NAME_CONTRACT_STATUS_nan_MAX</th>\n",
       "      <th>CC_NAME_CONTRACT_STATUS_nan_MEAN</th>\n",
       "      <th>CC_NAME_CONTRACT_STATUS_nan_SUM</th>\n",
       "      <th>CC_NAME_CONTRACT_STATUS_nan_VAR</th>\n",
       "      <th>CC_COUNT</th>\n",
       "    </tr>\n",
       "  </thead>\n",
       "  <tbody>\n",
       "    <tr>\n",
       "      <th>0</th>\n",
       "      <td>100001</td>\n",
       "      <td>1</td>\n",
       "      <td>0</td>\n",
       "      <td>0</td>\n",
       "      <td>0</td>\n",
       "      <td>135000.0</td>\n",
       "      <td>568800.0</td>\n",
       "      <td>20560.5</td>\n",
       "      <td>450000.0</td>\n",
       "      <td>0.018850</td>\n",
       "      <td>...</td>\n",
       "      <td>0.047597</td>\n",
       "      <td>0.003583</td>\n",
       "      <td>0.106781</td>\n",
       "      <td>0.002955</td>\n",
       "      <td>0.0</td>\n",
       "      <td>0.0</td>\n",
       "      <td>0.0</td>\n",
       "      <td>0.0</td>\n",
       "      <td>0.0</td>\n",
       "      <td>37.083683</td>\n",
       "    </tr>\n",
       "    <tr>\n",
       "      <th>1</th>\n",
       "      <td>100005</td>\n",
       "      <td>0</td>\n",
       "      <td>0</td>\n",
       "      <td>0</td>\n",
       "      <td>0</td>\n",
       "      <td>99000.0</td>\n",
       "      <td>222768.0</td>\n",
       "      <td>17370.0</td>\n",
       "      <td>180000.0</td>\n",
       "      <td>0.035792</td>\n",
       "      <td>...</td>\n",
       "      <td>0.047597</td>\n",
       "      <td>0.003583</td>\n",
       "      <td>0.106781</td>\n",
       "      <td>0.002955</td>\n",
       "      <td>0.0</td>\n",
       "      <td>0.0</td>\n",
       "      <td>0.0</td>\n",
       "      <td>0.0</td>\n",
       "      <td>0.0</td>\n",
       "      <td>37.083683</td>\n",
       "    </tr>\n",
       "    <tr>\n",
       "      <th>2</th>\n",
       "      <td>100013</td>\n",
       "      <td>0</td>\n",
       "      <td>1</td>\n",
       "      <td>0</td>\n",
       "      <td>0</td>\n",
       "      <td>202500.0</td>\n",
       "      <td>663264.0</td>\n",
       "      <td>69777.0</td>\n",
       "      <td>630000.0</td>\n",
       "      <td>0.019101</td>\n",
       "      <td>...</td>\n",
       "      <td>0.000000</td>\n",
       "      <td>0.000000</td>\n",
       "      <td>0.000000</td>\n",
       "      <td>0.000000</td>\n",
       "      <td>0.0</td>\n",
       "      <td>0.0</td>\n",
       "      <td>0.0</td>\n",
       "      <td>0.0</td>\n",
       "      <td>0.0</td>\n",
       "      <td>96.000000</td>\n",
       "    </tr>\n",
       "    <tr>\n",
       "      <th>3</th>\n",
       "      <td>100028</td>\n",
       "      <td>1</td>\n",
       "      <td>0</td>\n",
       "      <td>0</td>\n",
       "      <td>2</td>\n",
       "      <td>315000.0</td>\n",
       "      <td>1575000.0</td>\n",
       "      <td>49018.5</td>\n",
       "      <td>1575000.0</td>\n",
       "      <td>0.026392</td>\n",
       "      <td>...</td>\n",
       "      <td>0.000000</td>\n",
       "      <td>0.000000</td>\n",
       "      <td>0.000000</td>\n",
       "      <td>0.000000</td>\n",
       "      <td>0.0</td>\n",
       "      <td>0.0</td>\n",
       "      <td>0.0</td>\n",
       "      <td>0.0</td>\n",
       "      <td>0.0</td>\n",
       "      <td>49.000000</td>\n",
       "    </tr>\n",
       "    <tr>\n",
       "      <th>4</th>\n",
       "      <td>100038</td>\n",
       "      <td>0</td>\n",
       "      <td>1</td>\n",
       "      <td>1</td>\n",
       "      <td>1</td>\n",
       "      <td>180000.0</td>\n",
       "      <td>625500.0</td>\n",
       "      <td>32067.0</td>\n",
       "      <td>625500.0</td>\n",
       "      <td>0.010032</td>\n",
       "      <td>...</td>\n",
       "      <td>0.047597</td>\n",
       "      <td>0.003583</td>\n",
       "      <td>0.106781</td>\n",
       "      <td>0.002955</td>\n",
       "      <td>0.0</td>\n",
       "      <td>0.0</td>\n",
       "      <td>0.0</td>\n",
       "      <td>0.0</td>\n",
       "      <td>0.0</td>\n",
       "      <td>37.083683</td>\n",
       "    </tr>\n",
       "    <tr>\n",
       "      <th>5</th>\n",
       "      <td>100042</td>\n",
       "      <td>1</td>\n",
       "      <td>1</td>\n",
       "      <td>0</td>\n",
       "      <td>0</td>\n",
       "      <td>270000.0</td>\n",
       "      <td>959688.0</td>\n",
       "      <td>34600.5</td>\n",
       "      <td>810000.0</td>\n",
       "      <td>0.025164</td>\n",
       "      <td>...</td>\n",
       "      <td>0.000000</td>\n",
       "      <td>0.000000</td>\n",
       "      <td>0.000000</td>\n",
       "      <td>0.000000</td>\n",
       "      <td>0.0</td>\n",
       "      <td>0.0</td>\n",
       "      <td>0.0</td>\n",
       "      <td>0.0</td>\n",
       "      <td>0.0</td>\n",
       "      <td>84.000000</td>\n",
       "    </tr>\n",
       "    <tr>\n",
       "      <th>6</th>\n",
       "      <td>100057</td>\n",
       "      <td>0</td>\n",
       "      <td>1</td>\n",
       "      <td>0</td>\n",
       "      <td>2</td>\n",
       "      <td>180000.0</td>\n",
       "      <td>499221.0</td>\n",
       "      <td>22117.5</td>\n",
       "      <td>373500.0</td>\n",
       "      <td>0.022800</td>\n",
       "      <td>...</td>\n",
       "      <td>0.047597</td>\n",
       "      <td>0.003583</td>\n",
       "      <td>0.106781</td>\n",
       "      <td>0.002955</td>\n",
       "      <td>0.0</td>\n",
       "      <td>0.0</td>\n",
       "      <td>0.0</td>\n",
       "      <td>0.0</td>\n",
       "      <td>0.0</td>\n",
       "      <td>37.083683</td>\n",
       "    </tr>\n",
       "    <tr>\n",
       "      <th>7</th>\n",
       "      <td>100065</td>\n",
       "      <td>0</td>\n",
       "      <td>0</td>\n",
       "      <td>0</td>\n",
       "      <td>0</td>\n",
       "      <td>166500.0</td>\n",
       "      <td>180000.0</td>\n",
       "      <td>14220.0</td>\n",
       "      <td>180000.0</td>\n",
       "      <td>0.005144</td>\n",
       "      <td>...</td>\n",
       "      <td>0.047597</td>\n",
       "      <td>0.003583</td>\n",
       "      <td>0.106781</td>\n",
       "      <td>0.002955</td>\n",
       "      <td>0.0</td>\n",
       "      <td>0.0</td>\n",
       "      <td>0.0</td>\n",
       "      <td>0.0</td>\n",
       "      <td>0.0</td>\n",
       "      <td>37.083683</td>\n",
       "    </tr>\n",
       "    <tr>\n",
       "      <th>8</th>\n",
       "      <td>100066</td>\n",
       "      <td>1</td>\n",
       "      <td>0</td>\n",
       "      <td>0</td>\n",
       "      <td>0</td>\n",
       "      <td>315000.0</td>\n",
       "      <td>364896.0</td>\n",
       "      <td>28957.5</td>\n",
       "      <td>315000.0</td>\n",
       "      <td>0.046220</td>\n",
       "      <td>...</td>\n",
       "      <td>0.000000</td>\n",
       "      <td>0.000000</td>\n",
       "      <td>0.000000</td>\n",
       "      <td>0.000000</td>\n",
       "      <td>0.0</td>\n",
       "      <td>0.0</td>\n",
       "      <td>0.0</td>\n",
       "      <td>0.0</td>\n",
       "      <td>0.0</td>\n",
       "      <td>15.000000</td>\n",
       "    </tr>\n",
       "    <tr>\n",
       "      <th>9</th>\n",
       "      <td>100067</td>\n",
       "      <td>1</td>\n",
       "      <td>1</td>\n",
       "      <td>0</td>\n",
       "      <td>1</td>\n",
       "      <td>162000.0</td>\n",
       "      <td>45000.0</td>\n",
       "      <td>5337.0</td>\n",
       "      <td>45000.0</td>\n",
       "      <td>0.018634</td>\n",
       "      <td>...</td>\n",
       "      <td>0.000000</td>\n",
       "      <td>0.000000</td>\n",
       "      <td>0.000000</td>\n",
       "      <td>0.000000</td>\n",
       "      <td>0.0</td>\n",
       "      <td>0.0</td>\n",
       "      <td>0.0</td>\n",
       "      <td>0.0</td>\n",
       "      <td>0.0</td>\n",
       "      <td>87.000000</td>\n",
       "    </tr>\n",
       "  </tbody>\n",
       "</table>\n",
       "<p>10 rows × 796 columns</p>\n",
       "</div>"
      ],
      "text/plain": [
       "   SK_ID_CURR  CODE_GENDER  FLAG_OWN_CAR  FLAG_OWN_REALTY  CNT_CHILDREN  \\\n",
       "0      100001            1             0                0             0   \n",
       "1      100005            0             0                0             0   \n",
       "2      100013            0             1                0             0   \n",
       "3      100028            1             0                0             2   \n",
       "4      100038            0             1                1             1   \n",
       "5      100042            1             1                0             0   \n",
       "6      100057            0             1                0             2   \n",
       "7      100065            0             0                0             0   \n",
       "8      100066            1             0                0             0   \n",
       "9      100067            1             1                0             1   \n",
       "\n",
       "   AMT_INCOME_TOTAL  AMT_CREDIT  AMT_ANNUITY  AMT_GOODS_PRICE  \\\n",
       "0          135000.0    568800.0      20560.5         450000.0   \n",
       "1           99000.0    222768.0      17370.0         180000.0   \n",
       "2          202500.0    663264.0      69777.0         630000.0   \n",
       "3          315000.0   1575000.0      49018.5        1575000.0   \n",
       "4          180000.0    625500.0      32067.0         625500.0   \n",
       "5          270000.0    959688.0      34600.5         810000.0   \n",
       "6          180000.0    499221.0      22117.5         373500.0   \n",
       "7          166500.0    180000.0      14220.0         180000.0   \n",
       "8          315000.0    364896.0      28957.5         315000.0   \n",
       "9          162000.0     45000.0       5337.0          45000.0   \n",
       "\n",
       "   REGION_POPULATION_RELATIVE  ...  CC_NAME_CONTRACT_STATUS_Signed_MAX  \\\n",
       "0                    0.018850  ...                            0.047597   \n",
       "1                    0.035792  ...                            0.047597   \n",
       "2                    0.019101  ...                            0.000000   \n",
       "3                    0.026392  ...                            0.000000   \n",
       "4                    0.010032  ...                            0.047597   \n",
       "5                    0.025164  ...                            0.000000   \n",
       "6                    0.022800  ...                            0.047597   \n",
       "7                    0.005144  ...                            0.047597   \n",
       "8                    0.046220  ...                            0.000000   \n",
       "9                    0.018634  ...                            0.000000   \n",
       "\n",
       "   CC_NAME_CONTRACT_STATUS_Signed_MEAN  CC_NAME_CONTRACT_STATUS_Signed_SUM  \\\n",
       "0                             0.003583                            0.106781   \n",
       "1                             0.003583                            0.106781   \n",
       "2                             0.000000                            0.000000   \n",
       "3                             0.000000                            0.000000   \n",
       "4                             0.003583                            0.106781   \n",
       "5                             0.000000                            0.000000   \n",
       "6                             0.003583                            0.106781   \n",
       "7                             0.003583                            0.106781   \n",
       "8                             0.000000                            0.000000   \n",
       "9                             0.000000                            0.000000   \n",
       "\n",
       "   CC_NAME_CONTRACT_STATUS_Signed_VAR  CC_NAME_CONTRACT_STATUS_nan_MIN  \\\n",
       "0                            0.002955                              0.0   \n",
       "1                            0.002955                              0.0   \n",
       "2                            0.000000                              0.0   \n",
       "3                            0.000000                              0.0   \n",
       "4                            0.002955                              0.0   \n",
       "5                            0.000000                              0.0   \n",
       "6                            0.002955                              0.0   \n",
       "7                            0.002955                              0.0   \n",
       "8                            0.000000                              0.0   \n",
       "9                            0.000000                              0.0   \n",
       "\n",
       "   CC_NAME_CONTRACT_STATUS_nan_MAX  CC_NAME_CONTRACT_STATUS_nan_MEAN  \\\n",
       "0                              0.0                               0.0   \n",
       "1                              0.0                               0.0   \n",
       "2                              0.0                               0.0   \n",
       "3                              0.0                               0.0   \n",
       "4                              0.0                               0.0   \n",
       "5                              0.0                               0.0   \n",
       "6                              0.0                               0.0   \n",
       "7                              0.0                               0.0   \n",
       "8                              0.0                               0.0   \n",
       "9                              0.0                               0.0   \n",
       "\n",
       "   CC_NAME_CONTRACT_STATUS_nan_SUM  CC_NAME_CONTRACT_STATUS_nan_VAR   CC_COUNT  \n",
       "0                              0.0                              0.0  37.083683  \n",
       "1                              0.0                              0.0  37.083683  \n",
       "2                              0.0                              0.0  96.000000  \n",
       "3                              0.0                              0.0  49.000000  \n",
       "4                              0.0                              0.0  37.083683  \n",
       "5                              0.0                              0.0  84.000000  \n",
       "6                              0.0                              0.0  37.083683  \n",
       "7                              0.0                              0.0  37.083683  \n",
       "8                              0.0                              0.0  15.000000  \n",
       "9                              0.0                              0.0  87.000000  \n",
       "\n",
       "[10 rows x 796 columns]"
      ]
     },
     "execution_count": 8,
     "metadata": {},
     "output_type": "execute_result"
    }
   ],
   "source": [
    "df_customer.head(10)"
   ]
  },
  {
   "cell_type": "code",
   "execution_count": null,
   "id": "0760cf1b-32d7-408a-8b21-7a6a9622921e",
   "metadata": {},
   "outputs": [],
   "source": [
    "df_customer.tail(10)"
   ]
  },
  {
   "cell_type": "code",
   "execution_count": null,
   "id": "13d449db-7cce-47be-9112-57d7c5d3abc9",
   "metadata": {},
   "outputs": [],
   "source": [
    "df_customer[(df_customer[\"FLAG_OWN_REALTY\"] == 0) & (df_customer[\"FLAG_OWN_CAR\"] == 0) & (df_customer[\"CNT_CHILDREN\"] > 1) & (df_customer[\"AMT_INCOME_TOTAL\"] < 85000) & (df_customer[\"AMT_CREDIT\"] > (df_customer[\"AMT_INCOME_TOTAL\"]*3))]"
   ]
  },
  {
   "cell_type": "code",
   "execution_count": null,
   "id": "09c93f64-d5f8-43d6-9cdb-f3726e4c5558",
   "metadata": {},
   "outputs": [],
   "source": [
    "pay = [100001, 456168, 456223, 100066, 100028, 456008]\n",
    "no_pay = [100172, 105749, 452356, 452768, 117362]"
   ]
  },
  {
   "cell_type": "code",
   "execution_count": null,
   "id": "c7a855e9-1045-4280-b68e-5f766e1f1fa3",
   "metadata": {},
   "outputs": [],
   "source": []
  },
  {
   "cell_type": "code",
   "execution_count": 9,
   "id": "ef711627-717a-4776-9cc7-36ff89b59313",
   "metadata": {},
   "outputs": [],
   "source": [
    "df_temp =df_customer[df_customer[\"SK_ID_CURR\"] == 100066]"
   ]
  },
  {
   "cell_type": "code",
   "execution_count": 10,
   "id": "5943a398-a8e2-472f-a1b2-7d0e8e688430",
   "metadata": {},
   "outputs": [
    {
     "data": {
      "text/plain": [
       "(1, 795)"
      ]
     },
     "execution_count": 10,
     "metadata": {},
     "output_type": "execute_result"
    }
   ],
   "source": [
    "new_X = df_temp.drop(columns=[\"SK_ID_CURR\"])\n",
    "new_X.shape"
   ]
  },
  {
   "cell_type": "code",
   "execution_count": null,
   "id": "b083e47f-33f8-48c0-bf5c-7f060f51dff7",
   "metadata": {},
   "outputs": [],
   "source": [
    "#new_X_scaled = scaler.fit_transform(new_X)"
   ]
  },
  {
   "cell_type": "code",
   "execution_count": 11,
   "id": "1b9a1276-293e-4ea9-b998-3f956e463f5d",
   "metadata": {},
   "outputs": [
    {
     "name": "stdout",
     "output_type": "stream",
     "text": [
      "1.0\n"
     ]
    }
   ],
   "source": [
    "result = initial_model.predict(new_X)\n",
    "print(result[0])"
   ]
  },
  {
   "cell_type": "code",
   "execution_count": 12,
   "id": "3618a049-3130-4a22-bf97-9113f91c652f",
   "metadata": {},
   "outputs": [],
   "source": [
    "result_proba = initial_model.predict_proba(new_X)"
   ]
  },
  {
   "cell_type": "code",
   "execution_count": 13,
   "id": "32d9abe2-1532-47dc-8c2c-6c49b77e103b",
   "metadata": {},
   "outputs": [
    {
     "name": "stdout",
     "output_type": "stream",
     "text": [
      "[[0.07111357 0.92888643]]\n"
     ]
    }
   ],
   "source": [
    "print(result_proba)"
   ]
  },
  {
   "cell_type": "code",
   "execution_count": 14,
   "id": "b87e51b8-801e-4475-85d2-8c220086441f",
   "metadata": {},
   "outputs": [
    {
     "name": "stdout",
     "output_type": "stream",
     "text": [
      "0\n"
     ]
    }
   ],
   "source": [
    "result = model.predict(new_X)\n",
    "print(int(result[0]))"
   ]
  },
  {
   "cell_type": "code",
   "execution_count": 15,
   "id": "56d7a90a-a03e-400c-93be-7611fa17fa93",
   "metadata": {},
   "outputs": [],
   "source": [
    "result_proba = model.predict_proba(new_X)"
   ]
  },
  {
   "cell_type": "code",
   "execution_count": 16,
   "id": "2e98b400-1461-475d-81a9-ccc6e041e36b",
   "metadata": {},
   "outputs": [
    {
     "name": "stdout",
     "output_type": "stream",
     "text": [
      "[[0.91600967 0.08399033]]\n"
     ]
    }
   ],
   "source": [
    "print(result_proba)"
   ]
  },
  {
   "cell_type": "code",
   "execution_count": 17,
   "id": "616bdab7-6d50-4b83-9eab-2c9884b72ae8",
   "metadata": {},
   "outputs": [
    {
     "name": "stdout",
     "output_type": "stream",
     "text": [
      "0.0\n"
     ]
    }
   ],
   "source": [
    "result_model_final = model_final.predict(new_X)\n",
    "print(result[0])"
   ]
  },
  {
   "cell_type": "code",
   "execution_count": 18,
   "id": "38877034-9441-4617-82ee-0d0fc73a09f5",
   "metadata": {},
   "outputs": [],
   "source": [
    "result_proba = model_final.predict_proba(new_X)"
   ]
  },
  {
   "cell_type": "code",
   "execution_count": null,
   "id": "e0e5df43-93c9-4919-9aed-44e953c285bd",
   "metadata": {},
   "outputs": [],
   "source": [
    "print(result_proba)"
   ]
  },
  {
   "cell_type": "code",
   "execution_count": null,
   "id": "bedd5d0d-9de9-43c6-ae6b-869300f60505",
   "metadata": {},
   "outputs": [],
   "source": []
  },
  {
   "cell_type": "code",
   "execution_count": null,
   "id": "6c69d86e-a4e0-4872-b4bb-8f63d9ae5d3d",
   "metadata": {},
   "outputs": [],
   "source": []
  }
 ],
 "metadata": {
  "kernelspec": {
   "display_name": "Python 3 (ipykernel)",
   "language": "python",
   "name": "python3"
  },
  "language_info": {
   "codemirror_mode": {
    "name": "ipython",
    "version": 3
   },
   "file_extension": ".py",
   "mimetype": "text/x-python",
   "name": "python",
   "nbconvert_exporter": "python",
   "pygments_lexer": "ipython3",
   "version": "3.9.9"
  }
 },
 "nbformat": 4,
 "nbformat_minor": 5
}
