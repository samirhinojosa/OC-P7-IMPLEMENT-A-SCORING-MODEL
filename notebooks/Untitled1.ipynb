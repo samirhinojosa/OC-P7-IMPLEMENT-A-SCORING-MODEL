{
 "cells": [
  {
   "cell_type": "code",
   "execution_count": 1,
   "id": "9fb90a80-4255-4cb7-bf04-4392951e25c1",
   "metadata": {},
   "outputs": [],
   "source": [
    "import re\n",
    "import json\n",
    "import numpy as np\n",
    "import pandas as pd\n",
    "from functools import partial\n",
    "\n",
    "import sklearn\n",
    "from sklearn.preprocessing import StandardScaler\n",
    "import joblib\n",
    "\n",
    "import lightgbm as lgb\n",
    "from lightgbm import LGBMClassifier\n",
    "\n",
    "## Own specific functions \n",
    "from functions import *\n",
    "\n",
    "scaler = StandardScaler()"
   ]
  },
  {
   "cell_type": "markdown",
   "id": "b04a0d65-8ba0-4b59-8d0a-07f75480fd2a",
   "metadata": {
    "tags": []
   },
   "source": [
    "<div style=\"background-color: #506AB9;\" >\n",
    "    <h1 style=\"margin: auto; padding: 20px; color:#fff; \">Files</h1>\n",
    "</div>"
   ]
  },
  {
   "cell_type": "markdown",
   "id": "e4f4aa6a-7271-44d3-9602-032aa55d7688",
   "metadata": {
    "tags": []
   },
   "source": [
    "<div class=\"alert alert-block alert-info\">\n",
    "    <p>Resampled</p>\n",
    "</div>"
   ]
  },
  {
   "cell_type": "code",
   "execution_count": 2,
   "id": "4fbc4969-2ebe-45db-9211-b60b6d39b80e",
   "metadata": {},
   "outputs": [],
   "source": [
    "df_resampled = pd.read_csv(r\"datasets\\df_resampled.csv\")\n",
    "\n",
    "# Formatting columns name\n",
    "df_resampled = df_resampled.rename(columns=lambda x:re.sub(\"[^A-Za-z0-9_]+\", \"\", x))"
   ]
  },
  {
   "cell_type": "code",
   "execution_count": 3,
   "id": "c2bed55b-bbac-46c2-8f3c-3a5a59d8cb74",
   "metadata": {},
   "outputs": [
    {
     "name": "stdout",
     "output_type": "stream",
     "text": [
      "\n",
      "Analysis Header of df_resampled dataset\n",
      "--------------------------------------------------------------------------------\n",
      "- Dataset shape:\t\t\t 565364 rows and 797 columns\n",
      "- Total of NaN values:\t\t\t 0\n",
      "- Percentage of NaN:\t\t\t 0.0 %\n",
      "- Total of infinite values:\t\t 0\n",
      "- Percentage of infinite values:\t 0.0 %\n",
      "- Total of full duplicates rows:\t 0\n",
      "- Total of empty rows:\t\t\t 0\n",
      "- Total of empty columns:\t\t 0\n",
      "- Unique indexes:\t\t\t True\n",
      "- Memory usage:\t\t\t\t 3.4 GB\n"
     ]
    }
   ],
   "source": [
    "df_analysis(df_resampled, \"df_resampled\", analysis_type=\"header\")"
   ]
  },
  {
   "cell_type": "markdown",
   "id": "825969db-439f-4323-b31b-52b55ae88362",
   "metadata": {
    "tags": []
   },
   "source": [
    "<div class=\"alert alert-block alert-info\">\n",
    "    <p>Not Resampled</p>\n",
    "</div>"
   ]
  },
  {
   "cell_type": "code",
   "execution_count": 4,
   "id": "f11e2322-703d-400a-9d16-1c2ceec7f35e",
   "metadata": {},
   "outputs": [],
   "source": [
    "df_not_resampled = pd.read_csv(r\"datasets\\df_optimized.csv\")\n",
    "\n",
    "# Formatting columns name\n",
    "df_not_resampled = df_not_resampled.rename(columns=lambda x:re.sub(\"[^A-Za-z0-9_]+\", \"\", x))"
   ]
  },
  {
   "cell_type": "code",
   "execution_count": 5,
   "id": "2e7f9a46-50d1-4744-96a1-ab50548ee369",
   "metadata": {
    "tags": []
   },
   "outputs": [],
   "source": [
    "df_not_resampled = df_not_resampled[df_not_resampled[\"TARGET\"].notnull()]"
   ]
  },
  {
   "cell_type": "code",
   "execution_count": 6,
   "id": "a9234b64-6175-4d00-a987-e4af8d342454",
   "metadata": {},
   "outputs": [
    {
     "name": "stdout",
     "output_type": "stream",
     "text": [
      "\n",
      "Analysis Header of df_not_resampled dataset\n",
      "--------------------------------------------------------------------------------\n",
      "- Dataset shape:\t\t\t 307507 rows and 797 columns\n",
      "- Total of NaN values:\t\t\t 0\n",
      "- Percentage of NaN:\t\t\t 0.0 %\n",
      "- Total of infinite values:\t\t 0\n",
      "- Percentage of infinite values:\t 0.0 %\n",
      "- Total of full duplicates rows:\t 0\n",
      "- Total of empty rows:\t\t\t 0\n",
      "- Total of empty columns:\t\t 0\n",
      "- Unique indexes:\t\t\t True\n",
      "- Memory usage:\t\t\t\t 1.8 GB\n"
     ]
    }
   ],
   "source": [
    "df_analysis(df_not_resampled, \"df_not_resampled\", analysis_type=\"header\")"
   ]
  },
  {
   "cell_type": "markdown",
   "id": "29cc0cb2-17d9-419f-b168-53ce0600482d",
   "metadata": {
    "tags": []
   },
   "source": [
    "<div class=\"alert alert-block alert-info\">\n",
    "    <p>Customer to predict</p>\n",
    "</div>"
   ]
  },
  {
   "cell_type": "code",
   "execution_count": 7,
   "id": "2ce89573-9d6a-483e-8014-63b5773f7c60",
   "metadata": {},
   "outputs": [],
   "source": [
    "df_customers_to_predict = pd.read_csv(r\"datasets\\df_customers_to_predict.csv\")\n",
    "\n",
    "# Formatting columns name\n",
    "df_customers_to_predict = df_customers_to_predict.rename(columns=lambda x:re.sub(\"[^A-Za-z0-9_]+\", \"\", x))"
   ]
  },
  {
   "cell_type": "code",
   "execution_count": 8,
   "id": "4406abef-4014-449e-98ab-aaaf8afa68bc",
   "metadata": {},
   "outputs": [
    {
     "name": "stdout",
     "output_type": "stream",
     "text": [
      "\n",
      "Analysis Header of df_customers_to_predict dataset\n",
      "--------------------------------------------------------------------------------\n",
      "- Dataset shape:\t\t\t 48744 rows and 796 columns\n",
      "- Total of NaN values:\t\t\t 0\n",
      "- Percentage of NaN:\t\t\t 0.0 %\n",
      "- Total of infinite values:\t\t 0\n",
      "- Percentage of infinite values:\t 0.0 %\n",
      "- Total of full duplicates rows:\t 0\n",
      "- Total of empty rows:\t\t\t 0\n",
      "- Total of empty columns:\t\t 0\n",
      "- Unique indexes:\t\t\t True\n",
      "- Memory usage:\t\t\t\t 296.0 MB\n"
     ]
    }
   ],
   "source": [
    "df_analysis(df_customers_to_predict, \"df_customers_to_predict\", analysis_type=\"header\")"
   ]
  },
  {
   "cell_type": "markdown",
   "id": "b2082efd-a921-4f36-aa46-7fff83cae1e8",
   "metadata": {
    "tags": []
   },
   "source": [
    "<div style=\"background-color: #506AB9;\" >\n",
    "    <h1 style=\"margin: auto; padding: 20px; color:#fff; \">Initial Model</h1>\n",
    "</div>"
   ]
  },
  {
   "cell_type": "markdown",
   "id": "b3ae982e-20c5-42f5-9b2b-8ab7adb56253",
   "metadata": {
    "tags": []
   },
   "source": [
    "<div class=\"alert alert-block alert-info\">\n",
    "    <p>Resampled and Scaler</p>\n",
    "</div>"
   ]
  },
  {
   "cell_type": "code",
   "execution_count": 9,
   "id": "5f54a7f2-5965-48e7-a4d6-f3450d08addb",
   "metadata": {},
   "outputs": [],
   "source": [
    "# load the model from disk\n",
    "initial_model = joblib.load(\"models\\model_1.0.2.pkl\")"
   ]
  },
  {
   "cell_type": "markdown",
   "id": "fddfc8bd-c2c8-40e3-baac-3ce81b83f06e",
   "metadata": {
    "tags": []
   },
   "source": [
    "<div style=\"background-color: #506AB9;\" >\n",
    "    <h1 style=\"margin: auto; padding: 20px; color:#fff; \">Others Model</h1>\n",
    "</div>"
   ]
  },
  {
   "cell_type": "code",
   "execution_count": 10,
   "id": "464253ce-4795-403d-9edb-b5a758b7f999",
   "metadata": {},
   "outputs": [],
   "source": [
    "N_ESTIMATORS = [8000, 10000, 12000]\n",
    "NUM_LEAVES = [32, 34, 36]\n",
    "MAX_DEPTH = [7, 8, 9]"
   ]
  },
  {
   "cell_type": "code",
   "execution_count": 11,
   "id": "a37381fd-004f-477f-88cc-29d43a8dcaed",
   "metadata": {},
   "outputs": [],
   "source": [
    "best = {\n",
    "    'learning_rate': 0.002021947556803579,\n",
    "    'max_depth': 2,\n",
    "    'min_child_weight': 44.68618422455195,\n",
    "    'min_split_gain': 0.030970825122649367,\n",
    "    'n_estimators': 0,\n",
    "    'num_leaves': 2,\n",
    "    'reg_alpha': 0.045341569610647205,\n",
    "    'reg_lambda': 0.08049459639521307\n",
    "}"
   ]
  },
  {
   "cell_type": "code",
   "execution_count": 12,
   "id": "562bcb25-b0fe-43bd-bcc6-e8c3bb776166",
   "metadata": {},
   "outputs": [],
   "source": [
    "clf_resampled_not_scaler = LGBMClassifier(\n",
    "    n_estimators=N_ESTIMATORS[best.get(\"n_estimators\")],\n",
    "    learning_rate=best.get(\"learning_rate\"),\n",
    "    num_leaves=NUM_LEAVES[best.get(\"num_leaves\")],\n",
    "    max_depth=MAX_DEPTH[best.get(\"max_depth\")],\n",
    "    reg_alpha=best.get(\"reg_alpha\"),\n",
    "    reg_lambda=best.get(\"reg_lambda\"),\n",
    "    min_split_gain=best.get(\"min_split_gain\"),\n",
    "    min_child_weight=best.get(\"min_child_weight\"),\n",
    "    colsample_bytree=0.8, \n",
    "    subsample=0.8,\n",
    "    is_unbalance=False,\n",
    "    n_jobs=-1 \n",
    ")\n",
    "\n",
    "clf_not_resampled_scaler = LGBMClassifier(\n",
    "    n_estimators=N_ESTIMATORS[best.get(\"n_estimators\")],\n",
    "    learning_rate=best.get(\"learning_rate\"),\n",
    "    num_leaves=NUM_LEAVES[best.get(\"num_leaves\")],\n",
    "    max_depth=MAX_DEPTH[best.get(\"max_depth\")],\n",
    "    reg_alpha=best.get(\"reg_alpha\"),\n",
    "    reg_lambda=best.get(\"reg_lambda\"),\n",
    "    min_split_gain=best.get(\"min_split_gain\"),\n",
    "    min_child_weight=best.get(\"min_child_weight\"),\n",
    "    colsample_bytree=0.8, \n",
    "    subsample=0.8,\n",
    "    is_unbalance=False,\n",
    "    n_jobs=-1 \n",
    ")\n",
    "\n",
    "clf_not_resampled_not_scaler = LGBMClassifier(\n",
    "    n_estimators=N_ESTIMATORS[best.get(\"n_estimators\")],\n",
    "    learning_rate=best.get(\"learning_rate\"),\n",
    "    num_leaves=NUM_LEAVES[best.get(\"num_leaves\")],\n",
    "    max_depth=MAX_DEPTH[best.get(\"max_depth\")],\n",
    "    reg_alpha=best.get(\"reg_alpha\"),\n",
    "    reg_lambda=best.get(\"reg_lambda\"),\n",
    "    min_split_gain=best.get(\"min_split_gain\"),\n",
    "    min_child_weight=best.get(\"min_child_weight\"),\n",
    "    colsample_bytree=0.8, \n",
    "    subsample=0.8,\n",
    "    is_unbalance=False,\n",
    "    n_jobs=-1 \n",
    ")"
   ]
  },
  {
   "cell_type": "markdown",
   "id": "65d4d7f6-ef6c-4be6-b827-51445c7ffbbd",
   "metadata": {
    "tags": []
   },
   "source": [
    "<div class=\"alert alert-block alert-info\">\n",
    "    <p>Resampled and not scaler</p>\n",
    "</div>"
   ]
  },
  {
   "cell_type": "code",
   "execution_count": 13,
   "id": "b042f692-c081-416b-bc70-1719d84a34d4",
   "metadata": {},
   "outputs": [
    {
     "data": {
      "text/plain": [
       "LGBMClassifier(colsample_bytree=0.8, is_unbalance=False,\n",
       "               learning_rate=0.002021947556803579, max_depth=9,\n",
       "               min_child_weight=44.68618422455195,\n",
       "               min_split_gain=0.030970825122649367, n_estimators=8000,\n",
       "               num_leaves=36, reg_alpha=0.045341569610647205,\n",
       "               reg_lambda=0.08049459639521307, subsample=0.8)"
      ]
     },
     "execution_count": 13,
     "metadata": {},
     "output_type": "execute_result"
    }
   ],
   "source": [
    "# Split dataset to train\n",
    "X = df_resampled.drop(columns=[\"TARGET\", \"SK_ID_CURR\"])\n",
    "y_target = df_resampled.loc[:, \"TARGET\"]\n",
    "\n",
    "clf_resampled_not_scaler.fit(X, y_target)"
   ]
  },
  {
   "cell_type": "code",
   "execution_count": 15,
   "id": "a944d1b9-b471-4f39-a5d9-1ec595d86be4",
   "metadata": {},
   "outputs": [
    {
     "data": {
      "text/plain": [
       "['models/model_clf_resampled_not_scaler.pkl']"
      ]
     },
     "execution_count": 15,
     "metadata": {},
     "output_type": "execute_result"
    }
   ],
   "source": [
    "# Saving the model based on the best parameters\n",
    "joblib.dump(clf_resampled_not_scaler, \"models/model_clf_resampled_not_scaler.pkl\")"
   ]
  },
  {
   "cell_type": "markdown",
   "id": "e36cdff7-7e28-49b1-bda5-7816ec8b26c8",
   "metadata": {
    "tags": []
   },
   "source": [
    "<div class=\"alert alert-block alert-info\">\n",
    "    <p>Not Resampled and scaler</p>\n",
    "</div>"
   ]
  },
  {
   "cell_type": "code",
   "execution_count": 16,
   "id": "e89a570a-4d22-40cc-bad4-84312d7e5a3c",
   "metadata": {},
   "outputs": [],
   "source": [
    "X = df_not_resampled.drop(columns=[\"TARGET\", \"SK_ID_CURR\"])\n",
    "y_target = df_not_resampled.loc[:, \"TARGET\"]"
   ]
  },
  {
   "cell_type": "code",
   "execution_count": 17,
   "id": "330e828e-22f0-4811-8b8f-1999402def62",
   "metadata": {},
   "outputs": [],
   "source": [
    "X_scaled = scaler.fit_transform(X)"
   ]
  },
  {
   "cell_type": "code",
   "execution_count": 18,
   "id": "e717d086-9600-4ba6-98b6-fdc5f20828d5",
   "metadata": {},
   "outputs": [
    {
     "data": {
      "text/plain": [
       "LGBMClassifier(colsample_bytree=0.8, is_unbalance=False,\n",
       "               learning_rate=0.002021947556803579, max_depth=9,\n",
       "               min_child_weight=44.68618422455195,\n",
       "               min_split_gain=0.030970825122649367, n_estimators=8000,\n",
       "               num_leaves=36, reg_alpha=0.045341569610647205,\n",
       "               reg_lambda=0.08049459639521307, subsample=0.8)"
      ]
     },
     "execution_count": 18,
     "metadata": {},
     "output_type": "execute_result"
    }
   ],
   "source": [
    "clf_not_resampled_scaler.fit(X_scaled, y_target)"
   ]
  },
  {
   "cell_type": "code",
   "execution_count": 19,
   "id": "f74929ce-448f-44f5-a840-030189f9e5bf",
   "metadata": {},
   "outputs": [
    {
     "data": {
      "text/plain": [
       "['models/model_clf_not_resampled_scaler.pkl']"
      ]
     },
     "execution_count": 19,
     "metadata": {},
     "output_type": "execute_result"
    }
   ],
   "source": [
    "# Saving the model based on the best parameters\n",
    "joblib.dump(clf_not_resampled_scaler, \"models/model_clf_not_resampled_scaler.pkl\")"
   ]
  },
  {
   "cell_type": "markdown",
   "id": "48313d1c-c7b1-4f4b-9f47-67410425906d",
   "metadata": {
    "tags": []
   },
   "source": [
    "<div class=\"alert alert-block alert-info\">\n",
    "    <p>Not Resampled and not scaler</p>\n",
    "</div>"
   ]
  },
  {
   "cell_type": "code",
   "execution_count": 20,
   "id": "f2da05b5-9e3c-401d-aa3d-78a0049d60c8",
   "metadata": {},
   "outputs": [],
   "source": [
    "X = df_not_resampled.drop(columns=[\"TARGET\", \"SK_ID_CURR\"])\n",
    "y_target = df_not_resampled.loc[:, \"TARGET\"]"
   ]
  },
  {
   "cell_type": "code",
   "execution_count": null,
   "id": "58ab8f26-a89f-48d0-9dd0-19e1da0afc24",
   "metadata": {},
   "outputs": [],
   "source": [
    "clf_not_resampled_not_scaler.fit(X, y_target)"
   ]
  },
  {
   "cell_type": "code",
   "execution_count": null,
   "id": "3386ff54-ca64-4cfc-9171-39492bfa6a7d",
   "metadata": {},
   "outputs": [],
   "source": [
    "# Saving the model based on the best parameters\n",
    "joblib.dump(clf_not_resampled_not_scaler, \"models/model_clf_not_resampled_not_scaler.pkl\")"
   ]
  },
  {
   "cell_type": "code",
   "execution_count": null,
   "id": "eff5f4aa-718e-4c8d-b479-86e948191c02",
   "metadata": {},
   "outputs": [],
   "source": []
  },
  {
   "cell_type": "code",
   "execution_count": null,
   "id": "20b12af3-7931-41ad-a36c-734b5f26a0af",
   "metadata": {},
   "outputs": [],
   "source": []
  },
  {
   "cell_type": "code",
   "execution_count": null,
   "id": "3da849ea-3cbb-447e-b112-18e2810037a0",
   "metadata": {},
   "outputs": [],
   "source": [
    "xxxx"
   ]
  },
  {
   "cell_type": "code",
   "execution_count": null,
   "id": "6d72130f-3269-4aa9-9243-ab5c0ae947fa",
   "metadata": {},
   "outputs": [],
   "source": []
  },
  {
   "cell_type": "code",
   "execution_count": null,
   "id": "d1bab052-5e89-437c-82db-850314faf970",
   "metadata": {},
   "outputs": [],
   "source": []
  },
  {
   "cell_type": "code",
   "execution_count": null,
   "id": "654113aa-0761-4818-8669-2083796b9716",
   "metadata": {},
   "outputs": [],
   "source": []
  },
  {
   "cell_type": "markdown",
   "id": "7be4b98c-faa8-4b97-85ce-4dd3a8306f81",
   "metadata": {
    "tags": []
   },
   "source": [
    "<div style=\"background-color: #506AB9;\" >\n",
    "    <h3 style=\"margin: auto; padding: 20px; color:#fff; \">Filtering by customer</h3>\n",
    "</div>"
   ]
  },
  {
   "cell_type": "code",
   "execution_count": null,
   "id": "766cd0ab-89ac-496c-9d83-90bc22e6800a",
   "metadata": {},
   "outputs": [],
   "source": [
    "#df_temp = df_customers_to_predict[df_customers_to_predict[\"SK_ID_CURR\"] == 456223]\n",
    "df_temp = df_customers_to_predict.copy()\n",
    "df_temp = df_temp.drop(columns=[\"SK_ID_CURR\"])"
   ]
  },
  {
   "cell_type": "code",
   "execution_count": null,
   "id": "976a74ef-ba96-40b8-848b-b2a0b8431368",
   "metadata": {},
   "outputs": [],
   "source": [
    "#scaler = StandardScaler()\n",
    "#X_scaled = scaler.fit_transform(df_temp)"
   ]
  },
  {
   "cell_type": "markdown",
   "id": "e8f55e19-76cc-4bea-8327-e53c4a625d21",
   "metadata": {
    "tags": []
   },
   "source": [
    "<div style=\"background-color: #506AB9;\" >\n",
    "    <h3 style=\"margin: auto; padding: 20px; color:#fff; \">Prediction</h3>\n",
    "</div>"
   ]
  },
  {
   "cell_type": "code",
   "execution_count": null,
   "id": "d92df5b3-44cb-48c3-b55b-df4e67703d67",
   "metadata": {},
   "outputs": [],
   "source": [
    "result = initial_model.predict(df_temp)\n",
    "print(result)"
   ]
  },
  {
   "cell_type": "code",
   "execution_count": null,
   "id": "bbd90830-4967-4efe-b9fa-65c94bbd6021",
   "metadata": {},
   "outputs": [],
   "source": [
    "print('Total occurences of \"0\" in array: ', result.tolist().count(0))"
   ]
  },
  {
   "cell_type": "code",
   "execution_count": null,
   "id": "e65f603a-0a94-44f4-bcf2-1ca0555f0f22",
   "metadata": {},
   "outputs": [],
   "source": [
    "result  = pd.Series(result, name=\"TARGET\")\n",
    "df_temp = df_temp.merge(result, left_index=True, right_index=True)\n",
    "barplot_and_pie(df_temp[\"TARGET\"], \"Target distribution\", \" \")"
   ]
  },
  {
   "cell_type": "code",
   "execution_count": null,
   "id": "e87573d5-2b75-4735-9781-a7ac02f5e862",
   "metadata": {},
   "outputs": [],
   "source": []
  },
  {
   "cell_type": "code",
   "execution_count": null,
   "id": "a84846b5-7555-4fae-8922-f3c2904cda81",
   "metadata": {},
   "outputs": [],
   "source": [
    "x"
   ]
  },
  {
   "cell_type": "code",
   "execution_count": null,
   "id": "30afa06c-2fe9-4003-acc5-ef065572acdf",
   "metadata": {},
   "outputs": [],
   "source": [
    "pay = [100001, 456168, 456223, 100066, 100028, 456008]\n",
    "no_pay = [100172, 105749, 452356, 452768, 117362]"
   ]
  },
  {
   "cell_type": "code",
   "execution_count": null,
   "id": "034ee071-337b-4eb5-bd9e-b0de524b7937",
   "metadata": {},
   "outputs": [],
   "source": []
  },
  {
   "cell_type": "code",
   "execution_count": null,
   "id": "20040d84-0d8e-4c7c-b2e9-1974b41bb851",
   "metadata": {},
   "outputs": [],
   "source": []
  },
  {
   "cell_type": "code",
   "execution_count": null,
   "id": "411d4ad3-044a-433a-b4ee-9cfc5fb2efd1",
   "metadata": {},
   "outputs": [],
   "source": []
  },
  {
   "cell_type": "code",
   "execution_count": null,
   "id": "ac3b46f3-bc1e-4317-b299-386356ac4393",
   "metadata": {},
   "outputs": [],
   "source": []
  },
  {
   "cell_type": "code",
   "execution_count": null,
   "id": "228c3213-cd79-4237-a562-5d50199aafd0",
   "metadata": {},
   "outputs": [],
   "source": []
  },
  {
   "cell_type": "code",
   "execution_count": null,
   "id": "84371d0d-3c9e-48e0-876b-ed85752a372f",
   "metadata": {},
   "outputs": [],
   "source": []
  },
  {
   "cell_type": "code",
   "execution_count": null,
   "id": "14c101c7-d041-4e4c-be8b-d26132038245",
   "metadata": {},
   "outputs": [],
   "source": [
    "df = pd.read_csv(r\"datasets\\df_resampled.csv\")"
   ]
  },
  {
   "cell_type": "code",
   "execution_count": null,
   "id": "752d9cbd-295e-4fe4-a8db-0187bf41cff9",
   "metadata": {},
   "outputs": [],
   "source": [
    "df_analysis(df, \"df\", analysis_type=\"header\")"
   ]
  },
  {
   "cell_type": "code",
   "execution_count": null,
   "id": "1c1bd5ef-5130-4218-a2e8-c9f7050b78ed",
   "metadata": {},
   "outputs": [],
   "source": [
    "train_df = df[df[\"TARGET\"].notnull()]\n",
    "test_df = df[df[\"TARGET\"].isnull()]"
   ]
  },
  {
   "cell_type": "code",
   "execution_count": null,
   "id": "967e1359-1678-47cf-b846-6204ea117328",
   "metadata": {},
   "outputs": [],
   "source": [
    "train_df.head(5)"
   ]
  },
  {
   "cell_type": "code",
   "execution_count": null,
   "id": "aa797bec-d48f-4386-9cf6-8f68cf6f4cfb",
   "metadata": {},
   "outputs": [],
   "source": []
  },
  {
   "cell_type": "code",
   "execution_count": null,
   "id": "f16d37cc-dd11-4617-a567-1a44ddb5ecb4",
   "metadata": {},
   "outputs": [],
   "source": [
    "best={'learning_rate': 0.002996768103678267, 'max_depth': 1, 'min_child_weight': 43.56681976377634, 'min_split_gain': 0.025360811467421862, 'n_estimators': 0, 'num_leaves': 1, 'reg_alpha': 0.047205508056568875, 'reg_lambda': 0.07740351793970067}"
   ]
  },
  {
   "cell_type": "code",
   "execution_count": null,
   "id": "0e70e0d2-6f77-4b4b-8c88-61415329d42a",
   "metadata": {},
   "outputs": [],
   "source": [
    "print(\"Best: {}\".format(best))"
   ]
  },
  {
   "cell_type": "code",
   "execution_count": null,
   "id": "828a2fe5-fb89-47a0-8cde-6b784bc995b3",
   "metadata": {},
   "outputs": [],
   "source": [
    "# Formatting columns name\n",
    "train_df = train_df.rename(columns=lambda x:re.sub(\"[^A-Za-z0-9_]+\", \"\", x))\n",
    "df_lgbm = train_df.copy()\n",
    "    \n",
    "#scaler = StandardScaler()\n",
    "    \n",
    "# Divide in training/validation and test data\n",
    "train_df = df_lgbm[df_lgbm[\"TARGET\"].notnull()]\n",
    "del df_lgbm, df, test_df\n",
    "gc.collect()"
   ]
  },
  {
   "cell_type": "code",
   "execution_count": null,
   "id": "3032a18d-dd3f-4aff-998a-a735f52e376e",
   "metadata": {},
   "outputs": [],
   "source": [
    "# Split dataset to train\n",
    "X = train_df.drop(columns=[\"TARGET\", \"SK_ID_CURR\"])\n",
    "y_target = train_df.loc[:, \"TARGET\"]"
   ]
  },
  {
   "cell_type": "code",
   "execution_count": null,
   "id": "c5fbde64-3561-4024-81d6-f683f0986ddf",
   "metadata": {},
   "outputs": [],
   "source": [
    "#X_scaled = scaler.fit_transform(X)"
   ]
  },
  {
   "cell_type": "code",
   "execution_count": null,
   "id": "8117d07e-a757-4581-8375-ec618d5181b4",
   "metadata": {},
   "outputs": [],
   "source": [
    "clf.fit(X, y_target)"
   ]
  },
  {
   "cell_type": "code",
   "execution_count": null,
   "id": "0b2c016e-fc8c-42e0-8e7c-25812d16d30d",
   "metadata": {},
   "outputs": [],
   "source": [
    "# Saving the model based on the best parameters\n",
    "joblib.dump(clf, \"models/model_resampled.pkl\".format(version=sklearn.__version__))"
   ]
  },
  {
   "cell_type": "code",
   "execution_count": null,
   "id": "f311a276-4bf0-4aff-94d4-cd188616143b",
   "metadata": {},
   "outputs": [],
   "source": [
    "xx"
   ]
  },
  {
   "cell_type": "code",
   "execution_count": null,
   "id": "4062e509-a6ed-41bf-8d9f-5a67e06e191d",
   "metadata": {},
   "outputs": [],
   "source": []
  },
  {
   "cell_type": "code",
   "execution_count": null,
   "id": "b5ad03dc-6b25-4f81-ae33-8c3937fb0e66",
   "metadata": {},
   "outputs": [],
   "source": []
  },
  {
   "cell_type": "code",
   "execution_count": null,
   "id": "d2d74a33-4fe1-4bc9-97e6-13ca56f4c345",
   "metadata": {},
   "outputs": [],
   "source": [
    "train_df.head(15)"
   ]
  },
  {
   "cell_type": "code",
   "execution_count": null,
   "id": "6e310e3f-3c8e-426f-b4d5-d1305d87bdd5",
   "metadata": {},
   "outputs": [],
   "source": [
    "Xnew_X = train_df.drop(columns=[\"TARGET\", \"SK_ID_CURR\"])\n",
    "new_X = X.tail(15)\n",
    "#new_X_scaled = scaler.fit_transform(new_X)"
   ]
  },
  {
   "cell_type": "code",
   "execution_count": null,
   "id": "09d1fdf7-401f-491a-bff8-2e31a83011ac",
   "metadata": {},
   "outputs": [],
   "source": [
    "train_df.tail(15)"
   ]
  },
  {
   "cell_type": "code",
   "execution_count": null,
   "id": "e43bef82-c188-4719-a838-3ba6c62833fd",
   "metadata": {},
   "outputs": [],
   "source": [
    "result = model.predict(new_X)\n",
    "print(result)"
   ]
  },
  {
   "cell_type": "code",
   "execution_count": null,
   "id": "42dab096-bfeb-4756-85e4-30b20669f558",
   "metadata": {},
   "outputs": [],
   "source": [
    "result = initial_model.predict(new_X)\n",
    "print(result)"
   ]
  },
  {
   "cell_type": "code",
   "execution_count": null,
   "id": "fcbc3823-ffd8-4841-af1b-5774395a0fd1",
   "metadata": {},
   "outputs": [],
   "source": []
  },
  {
   "cell_type": "code",
   "execution_count": null,
   "id": "96194e81-7471-44e2-8726-71f895f0a08a",
   "metadata": {},
   "outputs": [],
   "source": []
  },
  {
   "cell_type": "code",
   "execution_count": null,
   "id": "5bcf5ab1-a23c-43c2-94a9-70da3ba1aa7b",
   "metadata": {},
   "outputs": [],
   "source": []
  },
  {
   "cell_type": "code",
   "execution_count": null,
   "id": "5847f32b-7914-4408-b915-71727f1f587e",
   "metadata": {},
   "outputs": [],
   "source": []
  },
  {
   "cell_type": "code",
   "execution_count": null,
   "id": "b5e72997-d47e-41ab-9166-73f9e918ec7c",
   "metadata": {},
   "outputs": [],
   "source": []
  },
  {
   "cell_type": "code",
   "execution_count": null,
   "id": "882d6559-1ba5-4075-b147-8dfad5f9e424",
   "metadata": {},
   "outputs": [],
   "source": []
  },
  {
   "cell_type": "code",
   "execution_count": null,
   "id": "f84ab553-0dcd-4986-9f3c-9975db87950a",
   "metadata": {},
   "outputs": [],
   "source": [
    "# load the model from disk\n",
    "initial_model = joblib.load(\"models\\model_1.0.2.pkl\")"
   ]
  },
  {
   "cell_type": "code",
   "execution_count": null,
   "id": "14b7f1f8-2a6d-4f48-81d3-8abb53a5493c",
   "metadata": {},
   "outputs": [],
   "source": [
    "# load the model from disk\n",
    "model = joblib.load(\"models\\model_1.0.2_1.pkl\")"
   ]
  },
  {
   "cell_type": "code",
   "execution_count": null,
   "id": "c0f1fdac-3ba8-4636-b7a1-8e9f09825077",
   "metadata": {},
   "outputs": [],
   "source": [
    "model_final = joblib.load(\"models\\model_1.0.2_2.pkl\")"
   ]
  },
  {
   "cell_type": "code",
   "execution_count": null,
   "id": "e29d2a78-95a4-483d-a9e0-560c651e8ad1",
   "metadata": {},
   "outputs": [],
   "source": []
  },
  {
   "cell_type": "code",
   "execution_count": null,
   "id": "41ad48d8-3209-48a0-a3b9-748e874e88ed",
   "metadata": {},
   "outputs": [],
   "source": [
    "df_customer = pd.read_csv(r\"datasets\\df_customers_to_predict.csv\")"
   ]
  },
  {
   "cell_type": "code",
   "execution_count": null,
   "id": "8a3362bd-6a55-426d-aadd-4a5cf655407c",
   "metadata": {},
   "outputs": [],
   "source": [
    "df_customer.head(10)"
   ]
  },
  {
   "cell_type": "code",
   "execution_count": null,
   "id": "0760cf1b-32d7-408a-8b21-7a6a9622921e",
   "metadata": {},
   "outputs": [],
   "source": [
    "df_customer.tail(10)"
   ]
  },
  {
   "cell_type": "code",
   "execution_count": null,
   "id": "13d449db-7cce-47be-9112-57d7c5d3abc9",
   "metadata": {},
   "outputs": [],
   "source": [
    "df_customer[(df_customer[\"FLAG_OWN_REALTY\"] == 0) & (df_customer[\"FLAG_OWN_CAR\"] == 0) & (df_customer[\"CNT_CHILDREN\"] > 1) & (df_customer[\"AMT_INCOME_TOTAL\"] < 85000) & (df_customer[\"AMT_CREDIT\"] > (df_customer[\"AMT_INCOME_TOTAL\"]*3))]"
   ]
  },
  {
   "cell_type": "code",
   "execution_count": null,
   "id": "09c93f64-d5f8-43d6-9cdb-f3726e4c5558",
   "metadata": {},
   "outputs": [],
   "source": [
    "pay = [100001, 456168, 456223, 100066, 100028, 456008]\n",
    "no_pay = [100172, 105749, 452356, 452768, 117362]"
   ]
  },
  {
   "cell_type": "code",
   "execution_count": null,
   "id": "c7a855e9-1045-4280-b68e-5f766e1f1fa3",
   "metadata": {},
   "outputs": [],
   "source": []
  },
  {
   "cell_type": "code",
   "execution_count": null,
   "id": "ef711627-717a-4776-9cc7-36ff89b59313",
   "metadata": {},
   "outputs": [],
   "source": [
    "df_temp =df_customer[df_customer[\"SK_ID_CURR\"] == 100066]"
   ]
  },
  {
   "cell_type": "code",
   "execution_count": null,
   "id": "5943a398-a8e2-472f-a1b2-7d0e8e688430",
   "metadata": {},
   "outputs": [],
   "source": [
    "new_X = df_temp.drop(columns=[\"SK_ID_CURR\"])\n",
    "new_X.shape"
   ]
  },
  {
   "cell_type": "code",
   "execution_count": null,
   "id": "b083e47f-33f8-48c0-bf5c-7f060f51dff7",
   "metadata": {},
   "outputs": [],
   "source": [
    "#new_X_scaled = scaler.fit_transform(new_X)"
   ]
  },
  {
   "cell_type": "code",
   "execution_count": null,
   "id": "1b9a1276-293e-4ea9-b998-3f956e463f5d",
   "metadata": {},
   "outputs": [],
   "source": [
    "result = initial_model.predict(new_X)\n",
    "print(result[0])"
   ]
  },
  {
   "cell_type": "code",
   "execution_count": null,
   "id": "3618a049-3130-4a22-bf97-9113f91c652f",
   "metadata": {},
   "outputs": [],
   "source": [
    "result_proba = initial_model.predict_proba(new_X)"
   ]
  },
  {
   "cell_type": "code",
   "execution_count": null,
   "id": "32d9abe2-1532-47dc-8c2c-6c49b77e103b",
   "metadata": {},
   "outputs": [],
   "source": [
    "print(result_proba)"
   ]
  },
  {
   "cell_type": "code",
   "execution_count": null,
   "id": "b87e51b8-801e-4475-85d2-8c220086441f",
   "metadata": {},
   "outputs": [],
   "source": [
    "result = model.predict(new_X)\n",
    "print(int(result[0]))"
   ]
  },
  {
   "cell_type": "code",
   "execution_count": null,
   "id": "56d7a90a-a03e-400c-93be-7611fa17fa93",
   "metadata": {},
   "outputs": [],
   "source": [
    "result_proba = model.predict_proba(new_X)"
   ]
  },
  {
   "cell_type": "code",
   "execution_count": null,
   "id": "2e98b400-1461-475d-81a9-ccc6e041e36b",
   "metadata": {},
   "outputs": [],
   "source": [
    "print(result_proba)"
   ]
  },
  {
   "cell_type": "code",
   "execution_count": null,
   "id": "616bdab7-6d50-4b83-9eab-2c9884b72ae8",
   "metadata": {},
   "outputs": [],
   "source": [
    "result_model_final = model_final.predict(new_X)\n",
    "print(result[0])"
   ]
  },
  {
   "cell_type": "code",
   "execution_count": null,
   "id": "38877034-9441-4617-82ee-0d0fc73a09f5",
   "metadata": {},
   "outputs": [],
   "source": [
    "result_proba = model_final.predict_proba(new_X)"
   ]
  },
  {
   "cell_type": "code",
   "execution_count": null,
   "id": "e0e5df43-93c9-4919-9aed-44e953c285bd",
   "metadata": {},
   "outputs": [],
   "source": [
    "print(result_proba)"
   ]
  },
  {
   "cell_type": "code",
   "execution_count": null,
   "id": "bedd5d0d-9de9-43c6-ae6b-869300f60505",
   "metadata": {},
   "outputs": [],
   "source": []
  },
  {
   "cell_type": "code",
   "execution_count": null,
   "id": "6c69d86e-a4e0-4872-b4bb-8f63d9ae5d3d",
   "metadata": {},
   "outputs": [],
   "source": []
  }
 ],
 "metadata": {
  "kernelspec": {
   "display_name": "Python 3 (ipykernel)",
   "language": "python",
   "name": "python3"
  },
  "language_info": {
   "codemirror_mode": {
    "name": "ipython",
    "version": 3
   },
   "file_extension": ".py",
   "mimetype": "text/x-python",
   "name": "python",
   "nbconvert_exporter": "python",
   "pygments_lexer": "ipython3",
   "version": "3.9.9"
  }
 },
 "nbformat": 4,
 "nbformat_minor": 5
}
