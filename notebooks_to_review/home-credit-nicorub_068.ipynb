{
 "cells": [
  {
   "cell_type": "code",
   "execution_count": 1,
   "id": "d93e444a",
   "metadata": {
    "_cell_guid": "b1076dfc-b9ad-4769-8c92-a6c4dae69d19",
    "_uuid": "8f2839f25d086af736a60e9eeb907d3b93b6e0e5",
    "execution": {
     "iopub.execute_input": "2021-12-03T11:50:53.896819Z",
     "iopub.status.busy": "2021-12-03T11:50:53.895957Z",
     "iopub.status.idle": "2021-12-03T11:50:54.912288Z",
     "shell.execute_reply": "2021-12-03T11:50:54.912842Z",
     "shell.execute_reply.started": "2021-12-03T11:45:09.040829Z"
    },
    "papermill": {
     "duration": 1.101751,
     "end_time": "2021-12-03T11:50:54.913184",
     "exception": false,
     "start_time": "2021-12-03T11:50:53.811433",
     "status": "completed"
    },
    "tags": []
   },
   "outputs": [
    {
     "name": "stdout",
     "output_type": "stream",
     "text": [
      "/kaggle/input/home-credit-default-risk/sample_submission.csv\n",
      "/kaggle/input/home-credit-default-risk/bureau_balance.csv\n",
      "/kaggle/input/home-credit-default-risk/POS_CASH_balance.csv\n",
      "/kaggle/input/home-credit-default-risk/application_train.csv\n",
      "/kaggle/input/home-credit-default-risk/HomeCredit_columns_description.csv\n",
      "/kaggle/input/home-credit-default-risk/application_test.csv\n",
      "/kaggle/input/home-credit-default-risk/previous_application.csv\n",
      "/kaggle/input/home-credit-default-risk/credit_card_balance.csv\n",
      "/kaggle/input/home-credit-default-risk/installments_payments.csv\n",
      "/kaggle/input/home-credit-default-risk/bureau.csv\n"
     ]
    }
   ],
   "source": [
    "# This Python 3 environment comes with many helpful analytics libraries installed\n",
    "# It is defined by the kaggle/python Docker image: https://github.com/kaggle/docker-python\n",
    "# For example, here's several helpful packages to load\n",
    "\n",
    "import numpy as np # linear algebra\n",
    "import pandas as pd # data processing, CSV file I/O (e.g. pd.read_csv)\n",
    "from sklearn.preprocessing import PolynomialFeatures\n",
    "\n",
    "# Input data files are available in the read-only \"../input/\" directory\n",
    "# For example, running this (by clicking run or pressing Shift+Enter) will list all files under the input directory\n",
    "\n",
    "import os\n",
    "for dirname, _, filenames in os.walk('/kaggle/input'):\n",
    "    for filename in filenames:\n",
    "        print(os.path.join(dirname, filename))\n",
    "\n",
    "# You can write up to 20GB to the current directory (/kaggle/working/) that gets preserved as output when you create a version using \"Save & Run All\" \n",
    "# You can also write temporary files to /kaggle/temp/, but they won't be saved outside of the current session"
   ]
  },
  {
   "cell_type": "code",
   "execution_count": 2,
   "id": "d5d0a2cb",
   "metadata": {
    "execution": {
     "iopub.execute_input": "2021-12-03T11:50:55.056087Z",
     "iopub.status.busy": "2021-12-03T11:50:55.055365Z",
     "iopub.status.idle": "2021-12-03T11:51:02.299443Z",
     "shell.execute_reply": "2021-12-03T11:51:02.300069Z",
     "shell.execute_reply.started": "2021-12-03T11:45:10.022367Z"
    },
    "papermill": {
     "duration": 7.317304,
     "end_time": "2021-12-03T11:51:02.300340",
     "exception": false,
     "start_time": "2021-12-03T11:50:54.983036",
     "status": "completed"
    },
    "tags": []
   },
   "outputs": [
    {
     "name": "stdout",
     "output_type": "stream",
     "text": [
      "Shape di addestramento:  (307511, 122)\n",
      "Shape di addestramento:  (48744, 121)\n"
     ]
    }
   ],
   "source": [
    "# Caricare i dati di training, i dati di test, e verificare il # di osservazioni e il # di caratteristiche per ciascuno dei due\n",
    "app_train = pd.read_csv('../input/home-credit-default-risk/application_train.csv')\n",
    "print('Shape di addestramento: ', app_train.shape)\n",
    "app_test = pd.read_csv('../input/home-credit-default-risk/application_test.csv')\n",
    "print('Shape di addestramento: ', app_test.shape)"
   ]
  },
  {
   "cell_type": "code",
   "execution_count": 3,
   "id": "d26d02f7",
   "metadata": {
    "execution": {
     "iopub.execute_input": "2021-12-03T11:51:02.520342Z",
     "iopub.status.busy": "2021-12-03T11:51:02.519519Z",
     "iopub.status.idle": "2021-12-03T11:51:02.522564Z",
     "shell.execute_reply": "2021-12-03T11:51:02.521926Z",
     "shell.execute_reply.started": "2021-12-03T11:45:16.257761Z"
    },
    "papermill": {
     "duration": 0.14592,
     "end_time": "2021-12-03T11:51:02.522721",
     "exception": false,
     "start_time": "2021-12-03T11:51:02.376801",
     "status": "completed"
    },
    "tags": []
   },
   "outputs": [],
   "source": [
    "# Create a label encoder object\n",
    "from sklearn import preprocessing\n",
    "le = preprocessing.LabelEncoder()\n",
    "\n",
    "def mylabelencoder(df):\n",
    "    le_count = 0\n",
    "    # Iterate through the columns\n",
    "    for col in df:\n",
    "        if df[col].dtype == 'object':\n",
    "            # If 2 or fewer unique categories\n",
    "            if len(list(df[col].unique())) <= 3:\n",
    "                df[col] = df[col].fillna(\"\")\n",
    "                # Train on the training data\n",
    "                le.fit(df[col])\n",
    "                # Transform both training and testing data\n",
    "                df[col] = le.transform(df[col])\n",
    "\n",
    "                # Keep track of how many columns were label encoded\n",
    "                le_count += 1            \n",
    "    print('%d columns were label encoded.' % le_count)"
   ]
  },
  {
   "cell_type": "code",
   "execution_count": 4,
   "id": "502f3578",
   "metadata": {
    "execution": {
     "iopub.execute_input": "2021-12-03T11:51:02.700937Z",
     "iopub.status.busy": "2021-12-03T11:51:02.699898Z",
     "iopub.status.idle": "2021-12-03T11:51:04.209881Z",
     "shell.execute_reply": "2021-12-03T11:51:04.209282Z",
     "shell.execute_reply.started": "2021-12-03T11:45:16.266863Z"
    },
    "papermill": {
     "duration": 1.612858,
     "end_time": "2021-12-03T11:51:04.210105",
     "exception": false,
     "start_time": "2021-12-03T11:51:02.597247",
     "status": "completed"
    },
    "tags": []
   },
   "outputs": [
    {
     "name": "stdout",
     "output_type": "stream",
     "text": [
      "5 columns were label encoded.\n",
      "5 columns were label encoded.\n"
     ]
    }
   ],
   "source": [
    "# Controlla che codifichi lo stesso numero di colonne su train e su test\n",
    "mylabelencoder(app_train)\n",
    "mylabelencoder(app_test)"
   ]
  },
  {
   "cell_type": "code",
   "execution_count": 5,
   "id": "89af73d7",
   "metadata": {
    "execution": {
     "iopub.execute_input": "2021-12-03T11:51:04.356637Z",
     "iopub.status.busy": "2021-12-03T11:51:04.355934Z",
     "iopub.status.idle": "2021-12-03T11:51:05.259958Z",
     "shell.execute_reply": "2021-12-03T11:51:05.259313Z",
     "shell.execute_reply.started": "2021-12-03T11:45:17.217063Z"
    },
    "papermill": {
     "duration": 0.9808,
     "end_time": "2021-12-03T11:51:05.260128",
     "exception": false,
     "start_time": "2021-12-03T11:51:04.279328",
     "status": "completed"
    },
    "tags": []
   },
   "outputs": [],
   "source": [
    "# One Hot Encoding delle altre feature categoriche\n",
    "app_train = pd.get_dummies(app_train)\n",
    "app_test = pd.get_dummies(app_test)"
   ]
  },
  {
   "cell_type": "code",
   "execution_count": 6,
   "id": "28324d8f",
   "metadata": {
    "execution": {
     "iopub.execute_input": "2021-12-03T11:51:05.407063Z",
     "iopub.status.busy": "2021-12-03T11:51:05.406261Z",
     "iopub.status.idle": "2021-12-03T11:51:05.409453Z",
     "shell.execute_reply": "2021-12-03T11:51:05.409956Z",
     "shell.execute_reply.started": "2021-12-03T11:45:18.009683Z"
    },
    "papermill": {
     "duration": 0.081495,
     "end_time": "2021-12-03T11:51:05.410129",
     "exception": false,
     "start_time": "2021-12-03T11:51:05.328634",
     "status": "completed"
    },
    "tags": []
   },
   "outputs": [
    {
     "data": {
      "text/plain": [
       "{'NAME_FAMILY_STATUS_Unknown', 'NAME_INCOME_TYPE_Maternity leave'}"
      ]
     },
     "execution_count": 6,
     "metadata": {},
     "output_type": "execute_result"
    }
   ],
   "source": [
    "# Riallineamento delle colonne\n",
    "# Cerca le colonne differenti tra i due set, togliendo dal train la target per cercare le differenze\n",
    "colset_train = set(app_train.columns)\n",
    "colset_test = set(app_test.columns)\n",
    "colset_train.discard('TARGET')\n",
    "colset_train.difference(colset_test)"
   ]
  },
  {
   "cell_type": "code",
   "execution_count": 7,
   "id": "9d22e201",
   "metadata": {
    "execution": {
     "iopub.execute_input": "2021-12-03T11:51:05.553625Z",
     "iopub.status.busy": "2021-12-03T11:51:05.552880Z",
     "iopub.status.idle": "2021-12-03T11:51:05.563349Z",
     "shell.execute_reply": "2021-12-03T11:51:05.564084Z",
     "shell.execute_reply.started": "2021-12-03T11:45:18.021435Z"
    },
    "papermill": {
     "duration": 0.084835,
     "end_time": "2021-12-03T11:51:05.564284",
     "exception": false,
     "start_time": "2021-12-03T11:51:05.479449",
     "status": "completed"
    },
    "tags": []
   },
   "outputs": [
    {
     "name": "stdout",
     "output_type": "stream",
     "text": [
      "(307511, 240)\n",
      "(48744, 239)\n"
     ]
    },
    {
     "data": {
      "text/plain": [
       "{'TARGET'}"
      ]
     },
     "execution_count": 7,
     "metadata": {},
     "output_type": "execute_result"
    }
   ],
   "source": [
    "for k in list(colset_train.difference(colset_test)):\n",
    "    app_test[k] = 0 # Default a 0 perché se le colonne non appaiono in test sono sempre non-hot\n",
    "    \n",
    "print(app_train.shape)\n",
    "print(app_test.shape)\n",
    "set(app_train.columns).difference(set(app_test.columns))\n",
    "\n",
    "# Test ha una colonna in meno perché non contiene TARGET"
   ]
  },
  {
   "cell_type": "code",
   "execution_count": 8,
   "id": "44b1ac7d",
   "metadata": {
    "execution": {
     "iopub.execute_input": "2021-12-03T11:51:05.716974Z",
     "iopub.status.busy": "2021-12-03T11:51:05.714016Z",
     "iopub.status.idle": "2021-12-03T11:51:05.719731Z",
     "shell.execute_reply": "2021-12-03T11:51:05.720389Z",
     "shell.execute_reply.started": "2021-12-03T11:45:18.050285Z"
    },
    "papermill": {
     "duration": 0.083273,
     "end_time": "2021-12-03T11:51:05.720569",
     "exception": false,
     "start_time": "2021-12-03T11:51:05.637296",
     "status": "completed"
    },
    "tags": []
   },
   "outputs": [
    {
     "data": {
      "text/plain": [
       "uint8      129\n",
       "float64     65\n",
       "int64       46\n",
       "dtype: int64"
      ]
     },
     "execution_count": 8,
     "metadata": {},
     "output_type": "execute_result"
    }
   ],
   "source": [
    "# Analisi degli outlier\n",
    "app_train.dtypes.value_counts()"
   ]
  },
  {
   "cell_type": "code",
   "execution_count": 9,
   "id": "caba404b",
   "metadata": {
    "execution": {
     "iopub.execute_input": "2021-12-03T11:51:05.870566Z",
     "iopub.status.busy": "2021-12-03T11:51:05.869807Z",
     "iopub.status.idle": "2021-12-03T11:51:05.891259Z",
     "shell.execute_reply": "2021-12-03T11:51:05.891817Z",
     "shell.execute_reply.started": "2021-12-03T11:45:18.065093Z"
    },
    "papermill": {
     "duration": 0.098786,
     "end_time": "2021-12-03T11:51:05.892027",
     "exception": false,
     "start_time": "2021-12-03T11:51:05.793241",
     "status": "completed"
    },
    "tags": []
   },
   "outputs": [
    {
     "data": {
      "text/plain": [
       "count    307511.000000\n",
       "mean         43.936973\n",
       "std          11.956133\n",
       "min          20.517808\n",
       "25%          34.008219\n",
       "50%          43.150685\n",
       "75%          53.923288\n",
       "max          69.120548\n",
       "Name: DAYS_BIRTH, dtype: float64"
      ]
     },
     "execution_count": 9,
     "metadata": {},
     "output_type": "execute_result"
    }
   ],
   "source": [
    "(app_train[\"DAYS_BIRTH\"]/-365).describe()"
   ]
  },
  {
   "cell_type": "code",
   "execution_count": 10,
   "id": "42b6e347",
   "metadata": {
    "execution": {
     "iopub.execute_input": "2021-12-03T11:51:06.040010Z",
     "iopub.status.busy": "2021-12-03T11:51:06.039347Z",
     "iopub.status.idle": "2021-12-03T11:51:06.059935Z",
     "shell.execute_reply": "2021-12-03T11:51:06.060425Z",
     "shell.execute_reply.started": "2021-12-03T11:45:18.106176Z"
    },
    "papermill": {
     "duration": 0.095917,
     "end_time": "2021-12-03T11:51:06.060610",
     "exception": false,
     "start_time": "2021-12-03T11:51:05.964693",
     "status": "completed"
    },
    "tags": []
   },
   "outputs": [
    {
     "data": {
      "text/plain": [
       "count    307511.000000\n",
       "mean        174.835742\n",
       "std         387.056895\n",
       "min         -49.073973\n",
       "25%          -7.561644\n",
       "50%          -3.323288\n",
       "75%          -0.791781\n",
       "max        1000.665753\n",
       "Name: DAYS_EMPLOYED, dtype: float64"
      ]
     },
     "execution_count": 10,
     "metadata": {},
     "output_type": "execute_result"
    }
   ],
   "source": [
    "(app_train[\"DAYS_EMPLOYED\"]/365).describe()"
   ]
  },
  {
   "cell_type": "code",
   "execution_count": 11,
   "id": "a56bb421",
   "metadata": {
    "execution": {
     "iopub.execute_input": "2021-12-03T11:51:06.206950Z",
     "iopub.status.busy": "2021-12-03T11:51:06.206258Z",
     "iopub.status.idle": "2021-12-03T11:51:06.559419Z",
     "shell.execute_reply": "2021-12-03T11:51:06.558798Z",
     "shell.execute_reply.started": "2021-12-03T11:45:18.138128Z"
    },
    "papermill": {
     "duration": 0.427581,
     "end_time": "2021-12-03T11:51:06.559578",
     "exception": false,
     "start_time": "2021-12-03T11:51:06.131997",
     "status": "completed"
    },
    "tags": []
   },
   "outputs": [
    {
     "data": {
      "text/plain": [
       "<AxesSubplot:ylabel='Frequency'>"
      ]
     },
     "execution_count": 11,
     "metadata": {},
     "output_type": "execute_result"
    },
    {
     "data": {
      "image/png": "[encoded data removed]",
      "text/plain": [
       "<Figure size 432x288 with 1 Axes>"
      ]
     },
     "metadata": {
      "needs_background": "light"
     },
     "output_type": "display_data"
    }
   ],
   "source": [
    "app_train[\"DAYS_EMPLOYED\"].plot(kind=\"hist\")"
   ]
  },
  {
   "cell_type": "code",
   "execution_count": 12,
   "id": "111a0940",
   "metadata": {
    "execution": {
     "iopub.execute_input": "2021-12-03T11:51:06.712309Z",
     "iopub.status.busy": "2021-12-03T11:51:06.709068Z",
     "iopub.status.idle": "2021-12-03T11:51:06.714649Z",
     "shell.execute_reply": "2021-12-03T11:51:06.715278Z",
     "shell.execute_reply.started": "2021-12-03T11:45:18.529731Z"
    },
    "papermill": {
     "duration": 0.083438,
     "end_time": "2021-12-03T11:51:06.715455",
     "exception": false,
     "start_time": "2021-12-03T11:51:06.632017",
     "status": "completed"
    },
    "tags": []
   },
   "outputs": [
    {
     "data": {
      "text/plain": [
       "0         False\n",
       "1         False\n",
       "2         False\n",
       "3         False\n",
       "4         False\n",
       "          ...  \n",
       "307506    False\n",
       "307507     True\n",
       "307508    False\n",
       "307509    False\n",
       "307510    False\n",
       "Name: DAYS_EMPLOYED, Length: 307511, dtype: bool"
      ]
     },
     "execution_count": 12,
     "metadata": {},
     "output_type": "execute_result"
    }
   ],
   "source": [
    " app_train[\"DAYS_EMPLOYED\"] == 365243"
   ]
  },
  {
   "cell_type": "code",
   "execution_count": 13,
   "id": "9af123a0",
   "metadata": {
    "execution": {
     "iopub.execute_input": "2021-12-03T11:51:06.864710Z",
     "iopub.status.busy": "2021-12-03T11:51:06.864038Z",
     "iopub.status.idle": "2021-12-03T11:51:07.266330Z",
     "shell.execute_reply": "2021-12-03T11:51:07.266856Z",
     "shell.execute_reply.started": "2021-12-03T11:45:18.543789Z"
    },
    "papermill": {
     "duration": 0.479409,
     "end_time": "2021-12-03T11:51:07.267050",
     "exception": false,
     "start_time": "2021-12-03T11:51:06.787641",
     "status": "completed"
    },
    "tags": []
   },
   "outputs": [
    {
     "data": {
      "image/png": "[encoded data removed]",
      "text/plain": [
       "<Figure size 432x288 with 1 Axes>"
      ]
     },
     "metadata": {
      "needs_background": "light"
     },
     "output_type": "display_data"
    }
   ],
   "source": [
    "# Identificare e filtrare le osservazioni che hanno la caratt. DAYS EMPLOYED con un valore outlier\n",
    "# Per caso, l'outlier è legato al fatto che il prestito è andato in default? In che proporzione di occasioni?\n",
    "anomalies = app_train[\"DAYS_EMPLOYED\"] == 365243\n",
    "app_train['DAYS_EMPLOYED_ANOM'] = anomalies\n",
    "app_train['DAYS_EMPLOYED'].replace({365243: np.nan}, inplace = True)\n",
    "(app_train['DAYS_EMPLOYED']/365).plot.hist(title = 'Days Employment Histogram');\n"
   ]
  },
  {
   "cell_type": "code",
   "execution_count": 14,
   "id": "df101675",
   "metadata": {
    "execution": {
     "iopub.execute_input": "2021-12-03T11:51:07.417494Z",
     "iopub.status.busy": "2021-12-03T11:51:07.416724Z",
     "iopub.status.idle": "2021-12-03T11:51:07.427128Z",
     "shell.execute_reply": "2021-12-03T11:51:07.428073Z",
     "shell.execute_reply.started": "2021-12-03T11:45:18.964300Z"
    },
    "papermill": {
     "duration": 0.088453,
     "end_time": "2021-12-03T11:51:07.428256",
     "exception": false,
     "start_time": "2021-12-03T11:51:07.339803",
     "status": "completed"
    },
    "tags": []
   },
   "outputs": [
    {
     "data": {
      "text/plain": [
       "False    252137\n",
       "True      55374\n",
       "Name: DAYS_EMPLOYED_ANOM, dtype: int64"
      ]
     },
     "execution_count": 14,
     "metadata": {},
     "output_type": "execute_result"
    }
   ],
   "source": [
    "app_train[\"DAYS_EMPLOYED_ANOM\"].value_counts()"
   ]
  },
  {
   "cell_type": "code",
   "execution_count": 15,
   "id": "e1ba32a3",
   "metadata": {
    "execution": {
     "iopub.execute_input": "2021-12-03T11:51:07.578511Z",
     "iopub.status.busy": "2021-12-03T11:51:07.577508Z",
     "iopub.status.idle": "2021-12-03T11:51:07.580721Z",
     "shell.execute_reply": "2021-12-03T11:51:07.581448Z",
     "shell.execute_reply.started": "2021-12-03T11:45:18.978795Z"
    },
    "papermill": {
     "duration": 0.079501,
     "end_time": "2021-12-03T11:51:07.581624",
     "exception": false,
     "start_time": "2021-12-03T11:51:07.502123",
     "status": "completed"
    },
    "tags": []
   },
   "outputs": [],
   "source": [
    "#import seaborn as sns\n",
    "#sns.pairplot(app_train.iloc[:,:10])\n",
    "# Plotting as desired\n",
    "# app_train.iloc[:,27:70].plot.hist(subplots=True, legend=False)\n",
    "# Analisi delle collinearità\n",
    "#correlations = app_train.corr()\n",
    "#correlations\n",
    "#correlations[\"TARGET\"].sort_values().head(10)\n",
    "#correlations[\"TARGET\"].sort_values().tail(10)\n",
    "#app_train['DAYS_BIRTH'].corr(app_train['TARGET'])\n",
    "#app_train['DAYS_BIRTH']/-365).corr(app_train['TARGET'])\n",
    "#app_train['DAYS_BIRTH']/-365).corr(app_train['TARGET'])"
   ]
  },
  {
   "cell_type": "code",
   "execution_count": 16,
   "id": "12406264",
   "metadata": {
    "execution": {
     "iopub.execute_input": "2021-12-03T11:51:07.730143Z",
     "iopub.status.busy": "2021-12-03T11:51:07.729448Z",
     "iopub.status.idle": "2021-12-03T11:51:07.733010Z",
     "shell.execute_reply": "2021-12-03T11:51:07.733520Z",
     "shell.execute_reply.started": "2021-12-03T11:45:18.993353Z"
    },
    "papermill": {
     "duration": 0.078757,
     "end_time": "2021-12-03T11:51:07.733707",
     "exception": false,
     "start_time": "2021-12-03T11:51:07.654950",
     "status": "completed"
    },
    "tags": []
   },
   "outputs": [],
   "source": [
    "##import seaborn as sns\n",
    "#import matplotlib.pyplot as plt\n",
    "\n",
    "#plt.style.use('fivethirtyeight')\n",
    "#plt.figure(figsize = (10, 8))\n",
    "\n",
    "#sns.kdeplot(app_train.loc[app_train['TARGET'] == 0, 'DAYS_BIRTH'] / -365, label = 'target == 0' )\n",
    "#sns.kdeplot(app_train.loc[app_train['TARGET'] == 1, 'DAYS_BIRTH'] / -365, label = 'target == 1' )\n",
    "\n",
    "# Metti la legenda\n",
    "#plt.legend()\n"
   ]
  },
  {
   "cell_type": "code",
   "execution_count": 17,
   "id": "874da147",
   "metadata": {
    "execution": {
     "iopub.execute_input": "2021-12-03T11:51:07.885238Z",
     "iopub.status.busy": "2021-12-03T11:51:07.884488Z",
     "iopub.status.idle": "2021-12-03T11:51:07.885827Z",
     "shell.execute_reply": "2021-12-03T11:51:07.886451Z",
     "shell.execute_reply.started": "2021-12-03T11:45:19.006725Z"
    },
    "papermill": {
     "duration": 0.080374,
     "end_time": "2021-12-03T11:51:07.886624",
     "exception": false,
     "start_time": "2021-12-03T11:51:07.806250",
     "status": "completed"
    },
    "tags": []
   },
   "outputs": [],
   "source": [
    "# Creare dei kernel plot su EXT_SOURCE(1,2,3) rispetto a TARGET per valutarne la \"quantità di segnale\"\n",
    "\n",
    "#sns.kdeplot(app_train.loc[app_train['TARGET'] == 0, 'EXT_SOURCE_1'], label = 'target == 0' )\n",
    "#sns.kdeplot(app_train.loc[app_train['TARGET'] == 1, 'EXT_SOURCE_1'], label = 'target == 1' )\n",
    "\n",
    "# Metti la legenda\n",
    "#plt.legend()"
   ]
  },
  {
   "cell_type": "code",
   "execution_count": 18,
   "id": "3455c677",
   "metadata": {
    "execution": {
     "iopub.execute_input": "2021-12-03T11:51:08.034819Z",
     "iopub.status.busy": "2021-12-03T11:51:08.034183Z",
     "iopub.status.idle": "2021-12-03T11:51:08.037405Z",
     "shell.execute_reply": "2021-12-03T11:51:08.037974Z",
     "shell.execute_reply.started": "2021-12-03T11:45:19.021152Z"
    },
    "papermill": {
     "duration": 0.078855,
     "end_time": "2021-12-03T11:51:08.038148",
     "exception": false,
     "start_time": "2021-12-03T11:51:07.959293",
     "status": "completed"
    },
    "tags": []
   },
   "outputs": [],
   "source": [
    "# Creare dei kernel plot su EXT_SOURCE(1,2,3) rispetto a TARGET per valutarne la \"quantità di segnale\"\n",
    "\n",
    "#sns.kdeplot(app_train.loc[app_train['TARGET'] == 0, 'EXT_SOURCE_2'], label = 'target == 0' )\n",
    "#sns.kdeplot(app_train.loc[app_train['TARGET'] == 1, 'EXT_SOURCE_2'], label = 'target == 1' )\n",
    "\n",
    "# Metti la legenda\n",
    "#plt.legend()"
   ]
  },
  {
   "cell_type": "code",
   "execution_count": 19,
   "id": "a39467bb",
   "metadata": {
    "execution": {
     "iopub.execute_input": "2021-12-03T11:51:08.188860Z",
     "iopub.status.busy": "2021-12-03T11:51:08.188174Z",
     "iopub.status.idle": "2021-12-03T11:51:08.191592Z",
     "shell.execute_reply": "2021-12-03T11:51:08.192182Z",
     "shell.execute_reply.started": "2021-12-03T11:45:19.034521Z"
    },
    "papermill": {
     "duration": 0.080232,
     "end_time": "2021-12-03T11:51:08.192361",
     "exception": false,
     "start_time": "2021-12-03T11:51:08.112129",
     "status": "completed"
    },
    "tags": []
   },
   "outputs": [],
   "source": [
    "# Creare dei kernel plot su EXT_SOURCE(1,2,3) rispetto a TARGET per valutarne la \"quantità di segnale\"\n",
    "\n",
    "#sns.kdeplot(app_train.loc[app_train['TARGET'] == 0, 'EXT_SOURCE_3'], label = 'target == 0' )\n",
    "#sns.kdeplot(app_train.loc[app_train['TARGET'] == 1, 'EXT_SOURCE_3'], label = 'target == 1' )\n",
    "\n",
    "# Metti la legenda\n",
    "#plt.legend()"
   ]
  },
  {
   "cell_type": "code",
   "execution_count": 20,
   "id": "b723f078",
   "metadata": {
    "execution": {
     "iopub.execute_input": "2021-12-03T11:51:08.342189Z",
     "iopub.status.busy": "2021-12-03T11:51:08.341492Z",
     "iopub.status.idle": "2021-12-03T11:51:08.344562Z",
     "shell.execute_reply": "2021-12-03T11:51:08.345118Z",
     "shell.execute_reply.started": "2021-12-03T11:45:19.056346Z"
    },
    "papermill": {
     "duration": 0.079442,
     "end_time": "2021-12-03T11:51:08.345292",
     "exception": false,
     "start_time": "2021-12-03T11:51:08.265850",
     "status": "completed"
    },
    "tags": []
   },
   "outputs": [],
   "source": [
    "# Extract the EXT_SOURCE variables and show correlations\n",
    "#ext_data = app_train[['TARGET', 'EXT_SOURCE_1', 'EXT_SOURCE_2', 'EXT_SOURCE_3', 'DAYS_BIRTH']]\n",
    "#ext_data_corrs = ext_data.corr()\n",
    "#ext_data_corrs"
   ]
  },
  {
   "cell_type": "code",
   "execution_count": 21,
   "id": "d44eac8e",
   "metadata": {
    "execution": {
     "iopub.execute_input": "2021-12-03T11:51:08.496789Z",
     "iopub.status.busy": "2021-12-03T11:51:08.495767Z",
     "iopub.status.idle": "2021-12-03T11:51:08.498951Z",
     "shell.execute_reply": "2021-12-03T11:51:08.498383Z",
     "shell.execute_reply.started": "2021-12-03T11:45:19.074599Z"
    },
    "papermill": {
     "duration": 0.080097,
     "end_time": "2021-12-03T11:51:08.499114",
     "exception": false,
     "start_time": "2021-12-03T11:51:08.419017",
     "status": "completed"
    },
    "tags": []
   },
   "outputs": [],
   "source": [
    "#plt.figure(figsize = (8, 6))\n",
    "\n",
    "# Heatmap of correlations\n",
    "#sns.heatmap(ext_data_corrs, cmap = plt.cm.RdYlBu_r, vmin = -0.25, annot = True, vmax = 0.6)\n",
    "#plt.title('Correlation Heatmap');"
   ]
  },
  {
   "cell_type": "code",
   "execution_count": 22,
   "id": "cc57f980",
   "metadata": {
    "execution": {
     "iopub.execute_input": "2021-12-03T11:51:08.650961Z",
     "iopub.status.busy": "2021-12-03T11:51:08.650203Z",
     "iopub.status.idle": "2021-12-03T11:51:08.651573Z",
     "shell.execute_reply": "2021-12-03T11:51:08.652225Z",
     "shell.execute_reply.started": "2021-12-03T11:45:19.088665Z"
    },
    "papermill": {
     "duration": 0.080338,
     "end_time": "2021-12-03T11:51:08.652417",
     "exception": false,
     "start_time": "2021-12-03T11:51:08.572079",
     "status": "completed"
    },
    "tags": []
   },
   "outputs": [],
   "source": [
    "# Feature Engineering\n",
    "# Combinazioni polinomiali delle caratteristiche\n",
    "# https://scikit-learn.org/stable/modules/generated/sklearn.preprocessing.PolynomialFeatures.html\n",
    "#poly_features = app_train[['EXT_SOURCE_1', 'EXT_SOURCE_2', 'EXT_SOURCE_3', 'DAYS_BIRTH']]\n",
    "#poly_features_test = app_test[['EXT_SOURCE_1', 'EXT_SOURCE_2', 'EXT_SOURCE_3', 'DAYS_BIRTH']]\n",
    "#poly_target = app_train['TARGET']"
   ]
  },
  {
   "cell_type": "code",
   "execution_count": 23,
   "id": "d4ac23ec",
   "metadata": {
    "execution": {
     "iopub.execute_input": "2021-12-03T11:51:08.804619Z",
     "iopub.status.busy": "2021-12-03T11:51:08.803531Z",
     "iopub.status.idle": "2021-12-03T11:51:08.805476Z",
     "shell.execute_reply": "2021-12-03T11:51:08.805986Z",
     "shell.execute_reply.started": "2021-12-03T11:45:19.099450Z"
    },
    "papermill": {
     "duration": 0.080854,
     "end_time": "2021-12-03T11:51:08.806162",
     "exception": false,
     "start_time": "2021-12-03T11:51:08.725308",
     "status": "completed"
    },
    "tags": []
   },
   "outputs": [],
   "source": [
    "# Imputazione dei valori mancanti\n",
    "# https://scikit-learn.org/stable/modules/impute.html\n",
    "#poly_features['EXT_SOURCE_1'].plot(kind=\"hist\")"
   ]
  },
  {
   "cell_type": "code",
   "execution_count": 24,
   "id": "6b532be9",
   "metadata": {
    "execution": {
     "iopub.execute_input": "2021-12-03T11:51:08.957743Z",
     "iopub.status.busy": "2021-12-03T11:51:08.956674Z",
     "iopub.status.idle": "2021-12-03T11:51:08.959833Z",
     "shell.execute_reply": "2021-12-03T11:51:08.960439Z",
     "shell.execute_reply.started": "2021-12-03T11:45:19.113881Z"
    },
    "papermill": {
     "duration": 0.080533,
     "end_time": "2021-12-03T11:51:08.960620",
     "exception": false,
     "start_time": "2021-12-03T11:51:08.880087",
     "status": "completed"
    },
    "tags": []
   },
   "outputs": [],
   "source": [
    "#poly_features['EXT_SOURCE_1'].isnull().value_counts()"
   ]
  },
  {
   "cell_type": "code",
   "execution_count": 25,
   "id": "c3a856ae",
   "metadata": {
    "execution": {
     "iopub.execute_input": "2021-12-03T11:51:09.112052Z",
     "iopub.status.busy": "2021-12-03T11:51:09.111324Z",
     "iopub.status.idle": "2021-12-03T11:51:09.114640Z",
     "shell.execute_reply": "2021-12-03T11:51:09.115189Z",
     "shell.execute_reply.started": "2021-12-03T11:45:19.127609Z"
    },
    "papermill": {
     "duration": 0.080209,
     "end_time": "2021-12-03T11:51:09.115378",
     "exception": false,
     "start_time": "2021-12-03T11:51:09.035169",
     "status": "completed"
    },
    "tags": []
   },
   "outputs": [],
   "source": [
    "# Inseriamo NaN al posto di null\n",
    "#poly_features['EXT_SOURCE_1'] = poly_features['EXT_SOURCE_1'].fillna(np.nan)\n",
    "#poly_features"
   ]
  },
  {
   "cell_type": "code",
   "execution_count": 26,
   "id": "db7c9c9e",
   "metadata": {
    "execution": {
     "iopub.execute_input": "2021-12-03T11:51:09.270191Z",
     "iopub.status.busy": "2021-12-03T11:51:09.269483Z",
     "iopub.status.idle": "2021-12-03T11:51:09.272559Z",
     "shell.execute_reply": "2021-12-03T11:51:09.273220Z",
     "shell.execute_reply.started": "2021-12-03T11:45:19.140975Z"
    },
    "papermill": {
     "duration": 0.080909,
     "end_time": "2021-12-03T11:51:09.273418",
     "exception": false,
     "start_time": "2021-12-03T11:51:09.192509",
     "status": "completed"
    },
    "tags": []
   },
   "outputs": [],
   "source": [
    "# Uso di SimpleImputer per imputazione automatica di valori tramite una funzione nelle celle vuote\n",
    "#import numpy as np\n",
    "#from sklearn.impute import SimpleImputer\n",
    "#imp = SimpleImputer(missing_values=np.nan, strategy='median')\n",
    "#poly_features_imputed = imp.fit_transform(poly_features)\n",
    "#poly_features_imputed_df = pd.DataFrame(poly_features_imputed, columns=['EXT_SOURCE_1', 'EXT_SOURCE_2', 'EXT_SOURCE_3', 'DAYS_BIRTH'])"
   ]
  },
  {
   "cell_type": "code",
   "execution_count": 27,
   "id": "063827f2",
   "metadata": {
    "execution": {
     "iopub.execute_input": "2021-12-03T11:51:09.425423Z",
     "iopub.status.busy": "2021-12-03T11:51:09.424737Z",
     "iopub.status.idle": "2021-12-03T11:51:09.427219Z",
     "shell.execute_reply": "2021-12-03T11:51:09.427793Z",
     "shell.execute_reply.started": "2021-12-03T11:45:19.154406Z"
    },
    "papermill": {
     "duration": 0.080096,
     "end_time": "2021-12-03T11:51:09.427988",
     "exception": false,
     "start_time": "2021-12-03T11:51:09.347892",
     "status": "completed"
    },
    "tags": []
   },
   "outputs": [],
   "source": [
    "#poly_features_test_imputed = imp.fit_transform(poly_features_test)\n",
    "#poly_features_test_imputed_df = pd.DataFrame(poly_features_test_imputed, columns=['EXT_SOURCE_1', 'EXT_SOURCE_2', 'EXT_SOURCE_3', 'DAYS_BIRTH'])"
   ]
  },
  {
   "cell_type": "code",
   "execution_count": 28,
   "id": "d4958bd2",
   "metadata": {
    "execution": {
     "iopub.execute_input": "2021-12-03T11:51:09.578501Z",
     "iopub.status.busy": "2021-12-03T11:51:09.577838Z",
     "iopub.status.idle": "2021-12-03T11:51:09.580521Z",
     "shell.execute_reply": "2021-12-03T11:51:09.579959Z",
     "shell.execute_reply.started": "2021-12-03T11:45:19.175742Z"
    },
    "papermill": {
     "duration": 0.079241,
     "end_time": "2021-12-03T11:51:09.580657",
     "exception": false,
     "start_time": "2021-12-03T11:51:09.501416",
     "status": "completed"
    },
    "tags": []
   },
   "outputs": [],
   "source": [
    "# Tappati tutti i buchi con le mediane\n",
    "#poly_features_imputed_df.isnull().value_counts()\n",
    "#poly_features_test_imputed_df.isnull().value_counts()"
   ]
  },
  {
   "cell_type": "code",
   "execution_count": 29,
   "id": "39b3e85f",
   "metadata": {
    "execution": {
     "iopub.execute_input": "2021-12-03T11:51:09.731137Z",
     "iopub.status.busy": "2021-12-03T11:51:09.730400Z",
     "iopub.status.idle": "2021-12-03T11:51:09.732687Z",
     "shell.execute_reply": "2021-12-03T11:51:09.733245Z",
     "shell.execute_reply.started": "2021-12-03T11:45:19.189392Z"
    },
    "papermill": {
     "duration": 0.079724,
     "end_time": "2021-12-03T11:51:09.733430",
     "exception": false,
     "start_time": "2021-12-03T11:51:09.653706",
     "status": "completed"
    },
    "tags": []
   },
   "outputs": [],
   "source": [
    "# Calcola combinazioni polinomiali delle feature del dataframe Df\n",
    "#from sklearn.preprocessing import PolynomialFeatures\n",
    "#def poly_transformer(df):\n",
    " #   poly_transformer = PolynomialFeatures(degree = 3)\n",
    "  #  poly_transformer.fit(df)\n",
    "   # poly_features_df = pd.DataFrame(poly_transformer.transform(df), columns=poly_transformer.get_feature_names(df.columns))\n",
    "    #poly_features_df = poly_features_df.drop(labels='1', axis=1)\n",
    "    #return poly_features_df"
   ]
  },
  {
   "cell_type": "code",
   "execution_count": 30,
   "id": "0b511b93",
   "metadata": {
    "execution": {
     "iopub.execute_input": "2021-12-03T11:51:09.883333Z",
     "iopub.status.busy": "2021-12-03T11:51:09.882661Z",
     "iopub.status.idle": "2021-12-03T11:51:09.885653Z",
     "shell.execute_reply": "2021-12-03T11:51:09.886197Z",
     "shell.execute_reply.started": "2021-12-03T11:45:19.202608Z"
    },
    "papermill": {
     "duration": 0.079203,
     "end_time": "2021-12-03T11:51:09.886378",
     "exception": false,
     "start_time": "2021-12-03T11:51:09.807175",
     "status": "completed"
    },
    "tags": []
   },
   "outputs": [],
   "source": [
    "# Ora finalmente posso usare le polynomial features\n",
    "#from sklearn.preprocessing import PolynomialFeatures\n",
    "#poly_transformer = PolynomialFeatures(degree = 3)\n",
    "#poly_transformer.fit(poly_features_imputed_df)"
   ]
  },
  {
   "cell_type": "code",
   "execution_count": 31,
   "id": "4f839d53",
   "metadata": {
    "execution": {
     "iopub.execute_input": "2021-12-03T11:51:10.036241Z",
     "iopub.status.busy": "2021-12-03T11:51:10.035398Z",
     "iopub.status.idle": "2021-12-03T11:51:10.037373Z",
     "shell.execute_reply": "2021-12-03T11:51:10.037893Z",
     "shell.execute_reply.started": "2021-12-03T11:45:19.219904Z"
    },
    "papermill": {
     "duration": 0.079514,
     "end_time": "2021-12-03T11:51:10.038071",
     "exception": false,
     "start_time": "2021-12-03T11:51:09.958557",
     "status": "completed"
    },
    "tags": []
   },
   "outputs": [],
   "source": [
    "#poly_transformer.transform(poly_features_imputed_df)"
   ]
  },
  {
   "cell_type": "code",
   "execution_count": 32,
   "id": "c64408bb",
   "metadata": {
    "execution": {
     "iopub.execute_input": "2021-12-03T11:51:10.190011Z",
     "iopub.status.busy": "2021-12-03T11:51:10.189272Z",
     "iopub.status.idle": "2021-12-03T11:51:10.192057Z",
     "shell.execute_reply": "2021-12-03T11:51:10.192550Z",
     "shell.execute_reply.started": "2021-12-03T11:45:19.237888Z"
    },
    "papermill": {
     "duration": 0.079556,
     "end_time": "2021-12-03T11:51:10.192738",
     "exception": false,
     "start_time": "2021-12-03T11:51:10.113182",
     "status": "completed"
    },
    "tags": []
   },
   "outputs": [],
   "source": [
    "#poly_transformer.get_feature_names(['EXT_SOURCE_1', 'EXT_SOURCE_2', 'EXT_SOURCE_3', 'DAYS_BIRTH'])"
   ]
  },
  {
   "cell_type": "code",
   "execution_count": 33,
   "id": "ac63aa26",
   "metadata": {
    "execution": {
     "iopub.execute_input": "2021-12-03T11:51:10.346807Z",
     "iopub.status.busy": "2021-12-03T11:51:10.346130Z",
     "iopub.status.idle": "2021-12-03T11:51:10.349443Z",
     "shell.execute_reply": "2021-12-03T11:51:10.348897Z",
     "shell.execute_reply.started": "2021-12-03T11:45:19.250950Z"
    },
    "papermill": {
     "duration": 0.082933,
     "end_time": "2021-12-03T11:51:10.349591",
     "exception": false,
     "start_time": "2021-12-03T11:51:10.266658",
     "status": "completed"
    },
    "tags": []
   },
   "outputs": [],
   "source": [
    "#poly_features_df = pd.DataFrame(poly_transformer.transform(poly_features_imputed_df), columns=poly_transformer.get_feature_names(['EXT_SOURCE_1', 'EXT_SOURCE_2', 'EXT_SOURCE_3', 'DAYS_BIRTH']))"
   ]
  },
  {
   "cell_type": "code",
   "execution_count": 34,
   "id": "933be1b9",
   "metadata": {
    "execution": {
     "iopub.execute_input": "2021-12-03T11:51:10.499477Z",
     "iopub.status.busy": "2021-12-03T11:51:10.498785Z",
     "iopub.status.idle": "2021-12-03T11:51:10.501625Z",
     "shell.execute_reply": "2021-12-03T11:51:10.501060Z",
     "shell.execute_reply.started": "2021-12-03T11:45:19.264172Z"
    },
    "papermill": {
     "duration": 0.079064,
     "end_time": "2021-12-03T11:51:10.501768",
     "exception": false,
     "start_time": "2021-12-03T11:51:10.422704",
     "status": "completed"
    },
    "tags": []
   },
   "outputs": [],
   "source": [
    "#poly_features_df"
   ]
  },
  {
   "cell_type": "code",
   "execution_count": 35,
   "id": "335cf99d",
   "metadata": {
    "execution": {
     "iopub.execute_input": "2021-12-03T11:51:10.651741Z",
     "iopub.status.busy": "2021-12-03T11:51:10.651078Z",
     "iopub.status.idle": "2021-12-03T11:51:10.654631Z",
     "shell.execute_reply": "2021-12-03T11:51:10.654079Z",
     "shell.execute_reply.started": "2021-12-03T11:45:19.282953Z"
    },
    "papermill": {
     "duration": 0.080349,
     "end_time": "2021-12-03T11:51:10.654773",
     "exception": false,
     "start_time": "2021-12-03T11:51:10.574424",
     "status": "completed"
    },
    "tags": []
   },
   "outputs": [],
   "source": [
    "#poly_features_df = poly_features_df.drop(labels='1', axis=1)"
   ]
  },
  {
   "cell_type": "code",
   "execution_count": 36,
   "id": "bfc67a65",
   "metadata": {
    "execution": {
     "iopub.execute_input": "2021-12-03T11:51:10.805427Z",
     "iopub.status.busy": "2021-12-03T11:51:10.802820Z",
     "iopub.status.idle": "2021-12-03T11:51:10.807354Z",
     "shell.execute_reply": "2021-12-03T11:51:10.807995Z",
     "shell.execute_reply.started": "2021-12-03T11:45:19.299492Z"
    },
    "papermill": {
     "duration": 0.080949,
     "end_time": "2021-12-03T11:51:10.808175",
     "exception": false,
     "start_time": "2021-12-03T11:51:10.727226",
     "status": "completed"
    },
    "tags": []
   },
   "outputs": [],
   "source": [
    "#poly_features_df['TARGET'] = poly_target"
   ]
  },
  {
   "cell_type": "code",
   "execution_count": 37,
   "id": "5988c60a",
   "metadata": {
    "execution": {
     "iopub.execute_input": "2021-12-03T11:51:10.957396Z",
     "iopub.status.busy": "2021-12-03T11:51:10.956698Z",
     "iopub.status.idle": "2021-12-03T11:51:10.960124Z",
     "shell.execute_reply": "2021-12-03T11:51:10.960615Z",
     "shell.execute_reply.started": "2021-12-03T11:45:19.315516Z"
    },
    "papermill": {
     "duration": 0.079395,
     "end_time": "2021-12-03T11:51:10.960787",
     "exception": false,
     "start_time": "2021-12-03T11:51:10.881392",
     "status": "completed"
    },
    "tags": []
   },
   "outputs": [],
   "source": [
    "# Vediamo ora se rispetto alle sole features predominanti di base, quelle costruite in polinomiali risultano maggiormente correlate al target\n",
    "#poly_collinears = poly_features_df.corr()"
   ]
  },
  {
   "cell_type": "code",
   "execution_count": 38,
   "id": "255acb9c",
   "metadata": {
    "execution": {
     "iopub.execute_input": "2021-12-03T11:51:11.119805Z",
     "iopub.status.busy": "2021-12-03T11:51:11.118653Z",
     "iopub.status.idle": "2021-12-03T11:51:11.120735Z",
     "shell.execute_reply": "2021-12-03T11:51:11.121372Z",
     "shell.execute_reply.started": "2021-12-03T11:45:19.328262Z"
    },
    "papermill": {
     "duration": 0.082594,
     "end_time": "2021-12-03T11:51:11.121560",
     "exception": false,
     "start_time": "2021-12-03T11:51:11.038966",
     "status": "completed"
    },
    "tags": []
   },
   "outputs": [],
   "source": [
    "#poly_collinears['TARGET'].sort_values().head(5)"
   ]
  },
  {
   "cell_type": "code",
   "execution_count": 39,
   "id": "06c5a4e8",
   "metadata": {
    "execution": {
     "iopub.execute_input": "2021-12-03T11:51:11.271445Z",
     "iopub.status.busy": "2021-12-03T11:51:11.270391Z",
     "iopub.status.idle": "2021-12-03T11:51:11.273711Z",
     "shell.execute_reply": "2021-12-03T11:51:11.274377Z",
     "shell.execute_reply.started": "2021-12-03T11:45:19.342680Z"
    },
    "papermill": {
     "duration": 0.079295,
     "end_time": "2021-12-03T11:51:11.274569",
     "exception": false,
     "start_time": "2021-12-03T11:51:11.195274",
     "status": "completed"
    },
    "tags": []
   },
   "outputs": [],
   "source": [
    "#poly_collinears['TARGET'].sort_values().tail(5)"
   ]
  },
  {
   "cell_type": "code",
   "execution_count": 40,
   "id": "47ee2be2",
   "metadata": {
    "execution": {
     "iopub.execute_input": "2021-12-03T11:51:11.427094Z",
     "iopub.status.busy": "2021-12-03T11:51:11.426298Z",
     "iopub.status.idle": "2021-12-03T11:51:11.428714Z",
     "shell.execute_reply": "2021-12-03T11:51:11.429262Z",
     "shell.execute_reply.started": "2021-12-03T11:45:19.365679Z"
    },
    "papermill": {
     "duration": 0.081976,
     "end_time": "2021-12-03T11:51:11.429449",
     "exception": false,
     "start_time": "2021-12-03T11:51:11.347473",
     "status": "completed"
    },
    "tags": []
   },
   "outputs": [],
   "source": [
    "#poly_features_test_df = pd.DataFrame(poly_transformer.transform(poly_features_test_imputed_df), columns=poly_transformer.get_feature_names(['EXT_SOURCE_1', 'EXT_SOURCE_2', 'EXT_SOURCE_3', 'DAYS_BIRTH']))"
   ]
  },
  {
   "cell_type": "code",
   "execution_count": 41,
   "id": "e09cd188",
   "metadata": {
    "execution": {
     "iopub.execute_input": "2021-12-03T11:51:11.579952Z",
     "iopub.status.busy": "2021-12-03T11:51:11.578503Z",
     "iopub.status.idle": "2021-12-03T11:51:11.581683Z",
     "shell.execute_reply": "2021-12-03T11:51:11.582213Z",
     "shell.execute_reply.started": "2021-12-03T11:45:19.377291Z"
    },
    "papermill": {
     "duration": 0.079264,
     "end_time": "2021-12-03T11:51:11.582386",
     "exception": false,
     "start_time": "2021-12-03T11:51:11.503122",
     "status": "completed"
    },
    "tags": []
   },
   "outputs": [],
   "source": [
    "#poly_features_test_df = poly_features_test_df.drop(labels='1', axis=1)"
   ]
  },
  {
   "cell_type": "code",
   "execution_count": 42,
   "id": "4041e64a",
   "metadata": {
    "execution": {
     "iopub.execute_input": "2021-12-03T11:51:11.732495Z",
     "iopub.status.busy": "2021-12-03T11:51:11.731800Z",
     "iopub.status.idle": "2021-12-03T11:51:11.734508Z",
     "shell.execute_reply": "2021-12-03T11:51:11.735038Z",
     "shell.execute_reply.started": "2021-12-03T11:45:19.395999Z"
    },
    "papermill": {
     "duration": 0.078211,
     "end_time": "2021-12-03T11:51:11.735212",
     "exception": false,
     "start_time": "2021-12-03T11:51:11.657001",
     "status": "completed"
    },
    "tags": []
   },
   "outputs": [],
   "source": [
    "#prova_poly_features"
   ]
  },
  {
   "cell_type": "code",
   "execution_count": 43,
   "id": "6288e5c5",
   "metadata": {
    "execution": {
     "iopub.execute_input": "2021-12-03T11:51:11.885249Z",
     "iopub.status.busy": "2021-12-03T11:51:11.884530Z",
     "iopub.status.idle": "2021-12-03T11:51:11.887970Z",
     "shell.execute_reply": "2021-12-03T11:51:11.887251Z",
     "shell.execute_reply.started": "2021-12-03T11:45:19.412107Z"
    },
    "papermill": {
     "duration": 0.080173,
     "end_time": "2021-12-03T11:51:11.888127",
     "exception": false,
     "start_time": "2021-12-03T11:51:11.807954",
     "status": "completed"
    },
    "tags": []
   },
   "outputs": [],
   "source": [
    "# Provo la mia funzione\n",
    "#prova_poly_features = poly_features_imputed_df.copy() # copia per separare i df nella trasformazione\n",
    "#pippo = poly_transformer(prova_poly_features)"
   ]
  },
  {
   "cell_type": "code",
   "execution_count": 44,
   "id": "789db93d",
   "metadata": {
    "execution": {
     "iopub.execute_input": "2021-12-03T11:51:12.041331Z",
     "iopub.status.busy": "2021-12-03T11:51:12.040373Z",
     "iopub.status.idle": "2021-12-03T11:51:12.043496Z",
     "shell.execute_reply": "2021-12-03T11:51:12.044070Z",
     "shell.execute_reply.started": "2021-12-03T11:45:19.422560Z"
    },
    "papermill": {
     "duration": 0.08201,
     "end_time": "2021-12-03T11:51:12.044247",
     "exception": false,
     "start_time": "2021-12-03T11:51:11.962237",
     "status": "completed"
    },
    "tags": []
   },
   "outputs": [],
   "source": [
    "# Sistemare la poly transformation in una funzione\n",
    "# Creare delle caratteristiche derivate (\"in modo business\")\n"
   ]
  },
  {
   "cell_type": "code",
   "execution_count": 45,
   "id": "43965bab",
   "metadata": {
    "execution": {
     "iopub.execute_input": "2021-12-03T11:51:12.195968Z",
     "iopub.status.busy": "2021-12-03T11:51:12.195226Z",
     "iopub.status.idle": "2021-12-03T11:51:12.198246Z",
     "shell.execute_reply": "2021-12-03T11:51:12.198717Z",
     "shell.execute_reply.started": "2021-12-03T11:45:19.436603Z"
    },
    "papermill": {
     "duration": 0.080575,
     "end_time": "2021-12-03T11:51:12.198923",
     "exception": false,
     "start_time": "2021-12-03T11:51:12.118348",
     "status": "completed"
    },
    "tags": []
   },
   "outputs": [],
   "source": [
    "# Creo una copia per valore e non per riferimento dei dati di train e di test\n",
    "#app_train_domain = app_train.copy()\n",
    "#app_test_domain = app_test.copy()"
   ]
  },
  {
   "cell_type": "code",
   "execution_count": 46,
   "id": "711bb640",
   "metadata": {
    "execution": {
     "iopub.execute_input": "2021-12-03T11:51:12.350454Z",
     "iopub.status.busy": "2021-12-03T11:51:12.349456Z",
     "iopub.status.idle": "2021-12-03T11:51:12.353334Z",
     "shell.execute_reply": "2021-12-03T11:51:12.354054Z",
     "shell.execute_reply.started": "2021-12-03T11:45:19.451257Z"
    },
    "papermill": {
     "duration": 0.082056,
     "end_time": "2021-12-03T11:51:12.354260",
     "exception": false,
     "start_time": "2021-12-03T11:51:12.272204",
     "status": "completed"
    },
    "tags": []
   },
   "outputs": [],
   "source": [
    "# Funzione che calcola nuove caratteristiche di dominio\n",
    "#def calculate_domain_data(df):    \n",
    " #   df['CREDIT_INCOME_PERCENT'] = df['AMT_CREDIT'] / df['AMT_INCOME_TOTAL']\n",
    "  #  df['ANNUITY_INCOME_PERCENT'] = df['AMT_ANNUITY'] / df['AMT_INCOME_TOTAL']\n",
    "   # df['CREDIT_TERM'] = df['AMT_ANNUITY'] / df['AMT_CREDIT']\n",
    "    #df['DAYS_EMPLOYED_PERCENT'] = df['DAYS_EMPLOYED'] / df['DAYS_BIRTH']"
   ]
  },
  {
   "cell_type": "code",
   "execution_count": 47,
   "id": "bf25acf4",
   "metadata": {
    "execution": {
     "iopub.execute_input": "2021-12-03T11:51:12.508602Z",
     "iopub.status.busy": "2021-12-03T11:51:12.507511Z",
     "iopub.status.idle": "2021-12-03T11:51:12.509495Z",
     "shell.execute_reply": "2021-12-03T11:51:12.510094Z",
     "shell.execute_reply.started": "2021-12-03T11:45:19.462291Z"
    },
    "papermill": {
     "duration": 0.079726,
     "end_time": "2021-12-03T11:51:12.510278",
     "exception": false,
     "start_time": "2021-12-03T11:51:12.430552",
     "status": "completed"
    },
    "tags": []
   },
   "outputs": [],
   "source": [
    "#calculate_domain_data(app_train_domain)"
   ]
  },
  {
   "cell_type": "code",
   "execution_count": 48,
   "id": "0679e6ee",
   "metadata": {
    "execution": {
     "iopub.execute_input": "2021-12-03T11:51:12.659514Z",
     "iopub.status.busy": "2021-12-03T11:51:12.658458Z",
     "iopub.status.idle": "2021-12-03T11:51:12.661881Z",
     "shell.execute_reply": "2021-12-03T11:51:12.662427Z",
     "shell.execute_reply.started": "2021-12-03T11:45:19.473218Z"
    },
    "papermill": {
     "duration": 0.079354,
     "end_time": "2021-12-03T11:51:12.662602",
     "exception": false,
     "start_time": "2021-12-03T11:51:12.583248",
     "status": "completed"
    },
    "tags": []
   },
   "outputs": [],
   "source": [
    "#app_train_domain"
   ]
  },
  {
   "cell_type": "code",
   "execution_count": 49,
   "id": "d3e08e22",
   "metadata": {
    "execution": {
     "iopub.execute_input": "2021-12-03T11:51:12.814937Z",
     "iopub.status.busy": "2021-12-03T11:51:12.813931Z",
     "iopub.status.idle": "2021-12-03T11:51:12.818023Z",
     "shell.execute_reply": "2021-12-03T11:51:12.818545Z",
     "shell.execute_reply.started": "2021-12-03T11:45:19.489548Z"
    },
    "papermill": {
     "duration": 0.08182,
     "end_time": "2021-12-03T11:51:12.818721",
     "exception": false,
     "start_time": "2021-12-03T11:51:12.736901",
     "status": "completed"
    },
    "tags": []
   },
   "outputs": [],
   "source": [
    "# Infine, provare con la visualizzazione kernel density a dimostrare se qualcuna di queste nuove caratteristiche create (sia polinominali, sia di business)\n",
    "# ha un particolare potere \"separatorio\" rispetto al target\n",
    "#def mykdeplot(df, field):\n",
    " #   sns.kdeplot(df.loc[app_train['TARGET'] == 0, field], label = 'target == 0' )\n",
    "  #  sns.kdeplot(df.loc[app_train['TARGET'] == 1, field], label = 'target == 1' )\n",
    "    \n",
    "    # Metti la legenda\n",
    "   # plt.legend()"
   ]
  },
  {
   "cell_type": "code",
   "execution_count": 50,
   "id": "92dad840",
   "metadata": {
    "execution": {
     "iopub.execute_input": "2021-12-03T11:51:12.970283Z",
     "iopub.status.busy": "2021-12-03T11:51:12.969309Z",
     "iopub.status.idle": "2021-12-03T11:51:12.973156Z",
     "shell.execute_reply": "2021-12-03T11:51:12.973735Z",
     "shell.execute_reply.started": "2021-12-03T11:45:19.503439Z"
    },
    "papermill": {
     "duration": 0.082397,
     "end_time": "2021-12-03T11:51:12.973931",
     "exception": false,
     "start_time": "2021-12-03T11:51:12.891534",
     "status": "completed"
    },
    "tags": []
   },
   "outputs": [],
   "source": [
    "#mykdeplot(poly_features_df, 'EXT_SOURCE_2 EXT_SOURCE_3')"
   ]
  },
  {
   "cell_type": "code",
   "execution_count": 51,
   "id": "c31ad424",
   "metadata": {
    "execution": {
     "iopub.execute_input": "2021-12-03T11:51:13.127912Z",
     "iopub.status.busy": "2021-12-03T11:51:13.126904Z",
     "iopub.status.idle": "2021-12-03T11:51:49.278274Z",
     "shell.execute_reply": "2021-12-03T11:51:49.277674Z",
     "shell.execute_reply.started": "2021-12-03T11:45:19.520412Z"
    },
    "papermill": {
     "duration": 36.230031,
     "end_time": "2021-12-03T11:51:49.278429",
     "exception": false,
     "start_time": "2021-12-03T11:51:13.048398",
     "status": "completed"
    },
    "tags": []
   },
   "outputs": [],
   "source": [
    "import numpy as np\n",
    "from sklearn.impute import SimpleImputer\n",
    "imp = SimpleImputer(missing_values=np.nan, strategy='median')\n",
    "app_train_imputed = imp.fit_transform(app_train)\n",
    "app_train_imputed_df = pd.DataFrame(app_train_imputed, columns=app_train.columns)"
   ]
  },
  {
   "cell_type": "code",
   "execution_count": 52,
   "id": "b2e539c8",
   "metadata": {
    "execution": {
     "iopub.execute_input": "2021-12-03T11:51:49.432785Z",
     "iopub.status.busy": "2021-12-03T11:51:49.432094Z",
     "iopub.status.idle": "2021-12-03T11:51:50.777473Z",
     "shell.execute_reply": "2021-12-03T11:51:50.776788Z",
     "shell.execute_reply.started": "2021-12-03T11:45:49.773239Z"
    },
    "papermill": {
     "duration": 1.426823,
     "end_time": "2021-12-03T11:51:50.777620",
     "exception": false,
     "start_time": "2021-12-03T11:51:49.350797",
     "status": "completed"
    },
    "tags": []
   },
   "outputs": [],
   "source": [
    "app_test_imputed = imp.fit_transform(app_test)\n",
    "app_test_imputed_df = pd.DataFrame(app_test_imputed, columns=app_test.columns)"
   ]
  },
  {
   "cell_type": "code",
   "execution_count": 53,
   "id": "94d2450d",
   "metadata": {
    "execution": {
     "iopub.execute_input": "2021-12-03T11:51:51.111659Z",
     "iopub.status.busy": "2021-12-03T11:51:51.110764Z",
     "iopub.status.idle": "2021-12-03T11:51:51.783176Z",
     "shell.execute_reply": "2021-12-03T11:51:51.782626Z",
     "shell.execute_reply.started": "2021-12-03T11:45:51.310719Z"
    },
    "papermill": {
     "duration": 0.932087,
     "end_time": "2021-12-03T11:51:51.783326",
     "exception": false,
     "start_time": "2021-12-03T11:51:50.851239",
     "status": "completed"
    },
    "tags": []
   },
   "outputs": [],
   "source": [
    "# # 2) Anziché fittare il modello su tutto il df \"app_train\", usare train_test_split per splittare app_train in app_train_train e app_train_test\n",
    "\n",
    "from sklearn.model_selection import train_test_split\n",
    "X=app_train_imputed_df.drop(['TARGET','DAYS_EMPLOYED_ANOM'], axis=1)\n",
    "y=app_train_imputed_df['TARGET'].to_frame() \n",
    "X_train, X_test, y_train, y_test = train_test_split(X, y, test_size=0.4, random_state=0)"
   ]
  },
  {
   "cell_type": "code",
   "execution_count": 54,
   "id": "3f048640",
   "metadata": {
    "execution": {
     "iopub.execute_input": "2021-12-03T11:51:51.934773Z",
     "iopub.status.busy": "2021-12-03T11:51:51.934087Z",
     "iopub.status.idle": "2021-12-03T11:51:51.937694Z",
     "shell.execute_reply": "2021-12-03T11:51:51.937000Z",
     "shell.execute_reply.started": "2021-12-03T11:45:52.561552Z"
    },
    "papermill": {
     "duration": 0.081139,
     "end_time": "2021-12-03T11:51:51.937898",
     "exception": false,
     "start_time": "2021-12-03T11:51:51.856759",
     "status": "completed"
    },
    "tags": []
   },
   "outputs": [
    {
     "name": "stdout",
     "output_type": "stream",
     "text": [
      "(184506, 239)\n",
      "(123005, 1)\n"
     ]
    }
   ],
   "source": [
    "print(X_train.shape)\n",
    "print(y_test.shape)"
   ]
  },
  {
   "cell_type": "code",
   "execution_count": 55,
   "id": "e9fa1666",
   "metadata": {
    "execution": {
     "iopub.execute_input": "2021-12-03T11:51:52.097237Z",
     "iopub.status.busy": "2021-12-03T11:51:52.096470Z",
     "iopub.status.idle": "2021-12-03T11:51:59.650159Z",
     "shell.execute_reply": "2021-12-03T11:51:59.651004Z",
     "shell.execute_reply.started": "2021-12-03T11:45:52.569323Z"
    },
    "papermill": {
     "duration": 7.638199,
     "end_time": "2021-12-03T11:51:59.651291",
     "exception": false,
     "start_time": "2021-12-03T11:51:52.013092",
     "status": "completed"
    },
    "tags": []
   },
   "outputs": [
    {
     "name": "stderr",
     "output_type": "stream",
     "text": [
      "/opt/conda/lib/python3.7/site-packages/sklearn/utils/validation.py:72: DataConversionWarning: A column-vector y was passed when a 1d array was expected. Please change the shape of y to (n_samples, ), for example using ravel().\n",
      "  return f(**kwargs)\n"
     ]
    },
    {
     "data": {
      "text/plain": [
       "0.9200195114019756"
      ]
     },
     "execution_count": 55,
     "metadata": {},
     "output_type": "execute_result"
    }
   ],
   "source": [
    "from sklearn.linear_model import LogisticRegression\n",
    "log_reg = LogisticRegression(C = 0.0001, solver='liblinear') \n",
    "log_reg.fit(X_train, y_train)\n",
    "log_reg.score(X_test, y_test)"
   ]
  },
  {
   "cell_type": "code",
   "execution_count": 56,
   "id": "f10ce418",
   "metadata": {
    "execution": {
     "iopub.execute_input": "2021-12-03T11:51:59.848108Z",
     "iopub.status.busy": "2021-12-03T11:51:59.847320Z",
     "iopub.status.idle": "2021-12-03T11:51:59.872008Z",
     "shell.execute_reply": "2021-12-03T11:51:59.873210Z",
     "shell.execute_reply.started": "2021-12-03T11:46:02.991515Z"
    },
    "papermill": {
     "duration": 0.107617,
     "end_time": "2021-12-03T11:51:59.873507",
     "exception": false,
     "start_time": "2021-12-03T11:51:59.765890",
     "status": "completed"
    },
    "tags": []
   },
   "outputs": [
    {
     "data": {
      "text/plain": [
       "array([0.09107859, 0.09339138, 0.05209273, ..., 0.06792408, 0.05710815,\n",
       "       0.10176074])"
      ]
     },
     "execution_count": 56,
     "metadata": {},
     "output_type": "execute_result"
    }
   ],
   "source": [
    "# uso il modello fittato per fare la previsione\n",
    "log_reg.predict_proba(app_test_imputed_df)[:,1]"
   ]
  },
  {
   "cell_type": "code",
   "execution_count": 57,
   "id": "b0bc1b20",
   "metadata": {
    "execution": {
     "iopub.execute_input": "2021-12-03T11:52:00.081223Z",
     "iopub.status.busy": "2021-12-03T11:52:00.080513Z",
     "iopub.status.idle": "2021-12-03T11:52:00.107139Z",
     "shell.execute_reply": "2021-12-03T11:52:00.108064Z",
     "shell.execute_reply.started": "2021-12-03T11:46:03.029077Z"
    },
    "papermill": {
     "duration": 0.110324,
     "end_time": "2021-12-03T11:52:00.108380",
     "exception": false,
     "start_time": "2021-12-03T11:51:59.998056",
     "status": "completed"
    },
    "tags": []
   },
   "outputs": [
    {
     "name": "stderr",
     "output_type": "stream",
     "text": [
      "/opt/conda/lib/python3.7/site-packages/ipykernel_launcher.py:2: SettingWithCopyWarning: \n",
      "A value is trying to be set on a copy of a slice from a DataFrame.\n",
      "Try using .loc[row_indexer,col_indexer] = value instead\n",
      "\n",
      "See the caveats in the documentation: https://pandas.pydata.org/pandas-docs/stable/user_guide/indexing.html#returning-a-view-versus-a-copy\n",
      "  \n"
     ]
    }
   ],
   "source": [
    "submit = app_test[['SK_ID_CURR']]\n",
    "submit['TARGET'] = log_reg.predict_proba(app_test_imputed_df)[:,1]"
   ]
  },
  {
   "cell_type": "code",
   "execution_count": 58,
   "id": "d2af51dc",
   "metadata": {
    "execution": {
     "iopub.execute_input": "2021-12-03T11:52:00.314394Z",
     "iopub.status.busy": "2021-12-03T11:52:00.313360Z",
     "iopub.status.idle": "2021-12-03T11:52:00.325429Z",
     "shell.execute_reply": "2021-12-03T11:52:00.324836Z",
     "shell.execute_reply.started": "2021-12-03T11:46:03.068278Z"
    },
    "papermill": {
     "duration": 0.092856,
     "end_time": "2021-12-03T11:52:00.325581",
     "exception": false,
     "start_time": "2021-12-03T11:52:00.232725",
     "status": "completed"
    },
    "tags": []
   },
   "outputs": [
    {
     "data": {
      "text/html": [
       "<div>\n",
       "<style scoped>\n",
       "    .dataframe tbody tr th:only-of-type {\n",
       "        vertical-align: middle;\n",
       "    }\n",
       "\n",
       "    .dataframe tbody tr th {\n",
       "        vertical-align: top;\n",
       "    }\n",
       "\n",
       "    .dataframe thead th {\n",
       "        text-align: right;\n",
       "    }\n",
       "</style>\n",
       "<table border=\"1\" class=\"dataframe\">\n",
       "  <thead>\n",
       "    <tr style=\"text-align: right;\">\n",
       "      <th></th>\n",
       "      <th>SK_ID_CURR</th>\n",
       "      <th>TARGET</th>\n",
       "    </tr>\n",
       "  </thead>\n",
       "  <tbody>\n",
       "    <tr>\n",
       "      <th>0</th>\n",
       "      <td>100001</td>\n",
       "      <td>0.091079</td>\n",
       "    </tr>\n",
       "    <tr>\n",
       "      <th>1</th>\n",
       "      <td>100005</td>\n",
       "      <td>0.093391</td>\n",
       "    </tr>\n",
       "    <tr>\n",
       "      <th>2</th>\n",
       "      <td>100013</td>\n",
       "      <td>0.052093</td>\n",
       "    </tr>\n",
       "    <tr>\n",
       "      <th>3</th>\n",
       "      <td>100028</td>\n",
       "      <td>0.035028</td>\n",
       "    </tr>\n",
       "    <tr>\n",
       "      <th>4</th>\n",
       "      <td>100038</td>\n",
       "      <td>0.082924</td>\n",
       "    </tr>\n",
       "    <tr>\n",
       "      <th>...</th>\n",
       "      <td>...</td>\n",
       "      <td>...</td>\n",
       "    </tr>\n",
       "    <tr>\n",
       "      <th>48739</th>\n",
       "      <td>456221</td>\n",
       "      <td>0.048501</td>\n",
       "    </tr>\n",
       "    <tr>\n",
       "      <th>48740</th>\n",
       "      <td>456222</td>\n",
       "      <td>0.140448</td>\n",
       "    </tr>\n",
       "    <tr>\n",
       "      <th>48741</th>\n",
       "      <td>456223</td>\n",
       "      <td>0.067924</td>\n",
       "    </tr>\n",
       "    <tr>\n",
       "      <th>48742</th>\n",
       "      <td>456224</td>\n",
       "      <td>0.057108</td>\n",
       "    </tr>\n",
       "    <tr>\n",
       "      <th>48743</th>\n",
       "      <td>456250</td>\n",
       "      <td>0.101761</td>\n",
       "    </tr>\n",
       "  </tbody>\n",
       "</table>\n",
       "<p>48744 rows × 2 columns</p>\n",
       "</div>"
      ],
      "text/plain": [
       "       SK_ID_CURR    TARGET\n",
       "0          100001  0.091079\n",
       "1          100005  0.093391\n",
       "2          100013  0.052093\n",
       "3          100028  0.035028\n",
       "4          100038  0.082924\n",
       "...           ...       ...\n",
       "48739      456221  0.048501\n",
       "48740      456222  0.140448\n",
       "48741      456223  0.067924\n",
       "48742      456224  0.057108\n",
       "48743      456250  0.101761\n",
       "\n",
       "[48744 rows x 2 columns]"
      ]
     },
     "execution_count": 58,
     "metadata": {},
     "output_type": "execute_result"
    }
   ],
   "source": [
    "submit"
   ]
  },
  {
   "cell_type": "code",
   "execution_count": 59,
   "id": "aa30a9da",
   "metadata": {
    "execution": {
     "iopub.execute_input": "2021-12-03T11:52:00.480105Z",
     "iopub.status.busy": "2021-12-03T11:52:00.479370Z",
     "iopub.status.idle": "2021-12-03T11:52:00.671099Z",
     "shell.execute_reply": "2021-12-03T11:52:00.670375Z",
     "shell.execute_reply.started": "2021-12-03T11:46:03.109529Z"
    },
    "papermill": {
     "duration": 0.271197,
     "end_time": "2021-12-03T11:52:00.671265",
     "exception": false,
     "start_time": "2021-12-03T11:52:00.400068",
     "status": "completed"
    },
    "tags": []
   },
   "outputs": [],
   "source": [
    "submit.to_csv('submission.csv', index=False)"
   ]
  },
  {
   "cell_type": "code",
   "execution_count": 60,
   "id": "2b11ac1d",
   "metadata": {
    "execution": {
     "iopub.execute_input": "2021-12-03T11:52:00.825828Z",
     "iopub.status.busy": "2021-12-03T11:52:00.825167Z",
     "iopub.status.idle": "2021-12-03T11:52:00.826997Z",
     "shell.execute_reply": "2021-12-03T11:52:00.827450Z",
     "shell.execute_reply.started": "2021-12-03T11:46:03.272080Z"
    },
    "jupyter": {
     "source_hidden": true
    },
    "papermill": {
     "duration": 0.081199,
     "end_time": "2021-12-03T11:52:00.827639",
     "exception": false,
     "start_time": "2021-12-03T11:52:00.746440",
     "status": "completed"
    },
    "tags": []
   },
   "outputs": [],
   "source": [
    "#from sklearn import svm\n",
    "#clf = svm.SVC(kernel='linear', C=1, probability=True).fit(X_train, y_train)\n",
    "#clf.score(X_test, y_test)"
   ]
  },
  {
   "cell_type": "code",
   "execution_count": 61,
   "id": "75459272",
   "metadata": {
    "execution": {
     "iopub.execute_input": "2021-12-03T11:52:00.985808Z",
     "iopub.status.busy": "2021-12-03T11:52:00.984854Z",
     "iopub.status.idle": "2021-12-03T11:52:11.351071Z",
     "shell.execute_reply": "2021-12-03T11:52:11.350381Z",
     "shell.execute_reply.started": "2021-12-03T11:46:03.277828Z"
    },
    "papermill": {
     "duration": 10.448199,
     "end_time": "2021-12-03T11:52:11.351219",
     "exception": false,
     "start_time": "2021-12-03T11:52:00.903020",
     "status": "completed"
    },
    "tags": []
   },
   "outputs": [
    {
     "name": "stderr",
     "output_type": "stream",
     "text": [
      "/opt/conda/lib/python3.7/site-packages/ipykernel_launcher.py:4: DataConversionWarning: A column-vector y was passed when a 1d array was expected. Please change the shape of y to (n_samples,), for example using ravel().\n",
      "  after removing the cwd from sys.path.\n"
     ]
    },
    {
     "data": {
      "text/plain": [
       "0.9200195114019756"
      ]
     },
     "execution_count": 61,
     "metadata": {},
     "output_type": "execute_result"
    }
   ],
   "source": [
    "# 6) RIpetere usando RandomForestClassifier\n",
    "from sklearn.ensemble import RandomForestClassifier\n",
    "rf = RandomForestClassifier(max_depth=2, random_state=0)\n",
    "rf.fit(X_train, y_train)\n",
    "rf.score(X_test, y_test) "
   ]
  },
  {
   "cell_type": "code",
   "execution_count": 62,
   "id": "6940e9a5",
   "metadata": {
    "execution": {
     "iopub.execute_input": "2021-12-03T11:52:11.517617Z",
     "iopub.status.busy": "2021-12-03T11:52:11.516899Z",
     "iopub.status.idle": "2021-12-03T11:52:11.769862Z",
     "shell.execute_reply": "2021-12-03T11:52:11.769182Z",
     "shell.execute_reply.started": "2021-12-03T11:46:13.769155Z"
    },
    "papermill": {
     "duration": 0.339042,
     "end_time": "2021-12-03T11:52:11.770039",
     "exception": false,
     "start_time": "2021-12-03T11:52:11.430997",
     "status": "completed"
    },
    "tags": []
   },
   "outputs": [
    {
     "data": {
      "text/plain": [
       "array([0.08956192, 0.07873897, 0.07332674, ..., 0.08152986, 0.07584689,\n",
       "       0.0968416 ])"
      ]
     },
     "execution_count": 62,
     "metadata": {},
     "output_type": "execute_result"
    }
   ],
   "source": [
    "rf.predict_proba(app_test_imputed_df)[:,1]"
   ]
  },
  {
   "cell_type": "code",
   "execution_count": 63,
   "id": "6628b161",
   "metadata": {
    "execution": {
     "iopub.execute_input": "2021-12-03T11:52:11.938539Z",
     "iopub.status.busy": "2021-12-03T11:52:11.937087Z",
     "iopub.status.idle": "2021-12-03T11:52:12.367781Z",
     "shell.execute_reply": "2021-12-03T11:52:12.367077Z",
     "shell.execute_reply.started": "2021-12-03T11:46:14.040990Z"
    },
    "papermill": {
     "duration": 0.52113,
     "end_time": "2021-12-03T11:52:12.367966",
     "exception": false,
     "start_time": "2021-12-03T11:52:11.846836",
     "status": "completed"
    },
    "tags": []
   },
   "outputs": [
    {
     "name": "stderr",
     "output_type": "stream",
     "text": [
      "/opt/conda/lib/python3.7/site-packages/ipykernel_launcher.py:2: SettingWithCopyWarning: \n",
      "A value is trying to be set on a copy of a slice from a DataFrame.\n",
      "Try using .loc[row_indexer,col_indexer] = value instead\n",
      "\n",
      "See the caveats in the documentation: https://pandas.pydata.org/pandas-docs/stable/user_guide/indexing.html#returning-a-view-versus-a-copy\n",
      "  \n"
     ]
    }
   ],
   "source": [
    "submitrf = app_test[['SK_ID_CURR']]\n",
    "submitrf['TARGET'] = rf.predict_proba(app_test_imputed_df)[:,1]\n",
    "submitrf.to_csv('submission.csv', index=False)\n"
   ]
  },
  {
   "cell_type": "code",
   "execution_count": 64,
   "id": "f694ead2",
   "metadata": {
    "execution": {
     "iopub.execute_input": "2021-12-03T11:52:12.536854Z",
     "iopub.status.busy": "2021-12-03T11:52:12.536118Z",
     "iopub.status.idle": "2021-12-03T11:52:12.556912Z",
     "shell.execute_reply": "2021-12-03T11:52:12.557499Z",
     "shell.execute_reply.started": "2021-12-03T11:46:14.440039Z"
    },
    "papermill": {
     "duration": 0.110698,
     "end_time": "2021-12-03T11:52:12.557679",
     "exception": false,
     "start_time": "2021-12-03T11:52:12.446981",
     "status": "completed"
    },
    "tags": []
   },
   "outputs": [
    {
     "data": {
      "text/html": [
       "<div>\n",
       "<style scoped>\n",
       "    .dataframe tbody tr th:only-of-type {\n",
       "        vertical-align: middle;\n",
       "    }\n",
       "\n",
       "    .dataframe tbody tr th {\n",
       "        vertical-align: top;\n",
       "    }\n",
       "\n",
       "    .dataframe thead th {\n",
       "        text-align: right;\n",
       "    }\n",
       "</style>\n",
       "<table border=\"1\" class=\"dataframe\">\n",
       "  <thead>\n",
       "    <tr style=\"text-align: right;\">\n",
       "      <th></th>\n",
       "      <th>feature</th>\n",
       "      <th>importance</th>\n",
       "    </tr>\n",
       "  </thead>\n",
       "  <tbody>\n",
       "    <tr>\n",
       "      <th>34</th>\n",
       "      <td>EXT_SOURCE_3</td>\n",
       "      <td>0.161543</td>\n",
       "    </tr>\n",
       "    <tr>\n",
       "      <th>32</th>\n",
       "      <td>EXT_SOURCE_1</td>\n",
       "      <td>0.127261</td>\n",
       "    </tr>\n",
       "    <tr>\n",
       "      <th>33</th>\n",
       "      <td>EXT_SOURCE_2</td>\n",
       "      <td>0.081329</td>\n",
       "    </tr>\n",
       "    <tr>\n",
       "      <th>11</th>\n",
       "      <td>DAYS_BIRTH</td>\n",
       "      <td>0.062480</td>\n",
       "    </tr>\n",
       "    <tr>\n",
       "      <th>2</th>\n",
       "      <td>CODE_GENDER</td>\n",
       "      <td>0.055910</td>\n",
       "    </tr>\n",
       "    <tr>\n",
       "      <th>...</th>\n",
       "      <td>...</td>\n",
       "      <td>...</td>\n",
       "    </tr>\n",
       "    <tr>\n",
       "      <th>109</th>\n",
       "      <td>AMT_REQ_CREDIT_BUREAU_YEAR</td>\n",
       "      <td>0.000000</td>\n",
       "    </tr>\n",
       "    <tr>\n",
       "      <th>111</th>\n",
       "      <td>NAME_TYPE_SUITE_Family</td>\n",
       "      <td>0.000000</td>\n",
       "    </tr>\n",
       "    <tr>\n",
       "      <th>112</th>\n",
       "      <td>NAME_TYPE_SUITE_Group of people</td>\n",
       "      <td>0.000000</td>\n",
       "    </tr>\n",
       "    <tr>\n",
       "      <th>113</th>\n",
       "      <td>NAME_TYPE_SUITE_Other_A</td>\n",
       "      <td>0.000000</td>\n",
       "    </tr>\n",
       "    <tr>\n",
       "      <th>238</th>\n",
       "      <td>NAME_FAMILY_STATUS_Unknown</td>\n",
       "      <td>0.000000</td>\n",
       "    </tr>\n",
       "  </tbody>\n",
       "</table>\n",
       "<p>239 rows × 2 columns</p>\n",
       "</div>"
      ],
      "text/plain": [
       "                             feature  importance\n",
       "34                      EXT_SOURCE_3    0.161543\n",
       "32                      EXT_SOURCE_1    0.127261\n",
       "33                      EXT_SOURCE_2    0.081329\n",
       "11                        DAYS_BIRTH    0.062480\n",
       "2                        CODE_GENDER    0.055910\n",
       "..                               ...         ...\n",
       "109       AMT_REQ_CREDIT_BUREAU_YEAR    0.000000\n",
       "111           NAME_TYPE_SUITE_Family    0.000000\n",
       "112  NAME_TYPE_SUITE_Group of people    0.000000\n",
       "113          NAME_TYPE_SUITE_Other_A    0.000000\n",
       "238       NAME_FAMILY_STATUS_Unknown    0.000000\n",
       "\n",
       "[239 rows x 2 columns]"
      ]
     },
     "execution_count": 64,
     "metadata": {},
     "output_type": "execute_result"
    }
   ],
   "source": [
    "# Extract feature importances\n",
    "features=list(app_test_imputed_df.columns)\n",
    "feature_importance_values = rf.feature_importances_\n",
    "feature_importances = pd.DataFrame({'feature': features, 'importance': feature_importance_values})\n",
    "feature_importances = feature_importances.sort_values('importance',ascending=False)\n",
    "feature_importances"
   ]
  },
  {
   "cell_type": "code",
   "execution_count": 65,
   "id": "bc242014",
   "metadata": {
    "execution": {
     "iopub.execute_input": "2021-12-03T11:52:12.727654Z",
     "iopub.status.busy": "2021-12-03T11:52:12.720643Z",
     "iopub.status.idle": "2021-12-03T11:52:12.731938Z",
     "shell.execute_reply": "2021-12-03T11:52:12.731389Z",
     "shell.execute_reply.started": "2021-12-03T11:46:14.466453Z"
    },
    "papermill": {
     "duration": 0.092357,
     "end_time": "2021-12-03T11:52:12.732101",
     "exception": false,
     "start_time": "2021-12-03T11:52:12.639744",
     "status": "completed"
    },
    "tags": []
   },
   "outputs": [
    {
     "data": {
      "text/html": [
       "<div>\n",
       "<style scoped>\n",
       "    .dataframe tbody tr th:only-of-type {\n",
       "        vertical-align: middle;\n",
       "    }\n",
       "\n",
       "    .dataframe tbody tr th {\n",
       "        vertical-align: top;\n",
       "    }\n",
       "\n",
       "    .dataframe thead th {\n",
       "        text-align: right;\n",
       "    }\n",
       "</style>\n",
       "<table border=\"1\" class=\"dataframe\">\n",
       "  <thead>\n",
       "    <tr style=\"text-align: right;\">\n",
       "      <th></th>\n",
       "      <th>feature</th>\n",
       "      <th>importance</th>\n",
       "    </tr>\n",
       "  </thead>\n",
       "  <tbody>\n",
       "    <tr>\n",
       "      <th>34</th>\n",
       "      <td>EXT_SOURCE_3</td>\n",
       "      <td>0.161543</td>\n",
       "    </tr>\n",
       "    <tr>\n",
       "      <th>32</th>\n",
       "      <td>EXT_SOURCE_1</td>\n",
       "      <td>0.127261</td>\n",
       "    </tr>\n",
       "    <tr>\n",
       "      <th>33</th>\n",
       "      <td>EXT_SOURCE_2</td>\n",
       "      <td>0.081329</td>\n",
       "    </tr>\n",
       "    <tr>\n",
       "      <th>11</th>\n",
       "      <td>DAYS_BIRTH</td>\n",
       "      <td>0.062480</td>\n",
       "    </tr>\n",
       "    <tr>\n",
       "      <th>2</th>\n",
       "      <td>CODE_GENDER</td>\n",
       "      <td>0.055910</td>\n",
       "    </tr>\n",
       "    <tr>\n",
       "      <th>12</th>\n",
       "      <td>DAYS_EMPLOYED</td>\n",
       "      <td>0.049209</td>\n",
       "    </tr>\n",
       "    <tr>\n",
       "      <th>23</th>\n",
       "      <td>REGION_RATING_CLIENT</td>\n",
       "      <td>0.032383</td>\n",
       "    </tr>\n",
       "    <tr>\n",
       "      <th>129</th>\n",
       "      <td>NAME_FAMILY_STATUS_Civil marriage</td>\n",
       "      <td>0.031781</td>\n",
       "    </tr>\n",
       "    <tr>\n",
       "      <th>30</th>\n",
       "      <td>REG_CITY_NOT_WORK_CITY</td>\n",
       "      <td>0.031246</td>\n",
       "    </tr>\n",
       "    <tr>\n",
       "      <th>9</th>\n",
       "      <td>AMT_GOODS_PRICE</td>\n",
       "      <td>0.030436</td>\n",
       "    </tr>\n",
       "  </tbody>\n",
       "</table>\n",
       "</div>"
      ],
      "text/plain": [
       "                               feature  importance\n",
       "34                        EXT_SOURCE_3    0.161543\n",
       "32                        EXT_SOURCE_1    0.127261\n",
       "33                        EXT_SOURCE_2    0.081329\n",
       "11                          DAYS_BIRTH    0.062480\n",
       "2                          CODE_GENDER    0.055910\n",
       "12                       DAYS_EMPLOYED    0.049209\n",
       "23                REGION_RATING_CLIENT    0.032383\n",
       "129  NAME_FAMILY_STATUS_Civil marriage    0.031781\n",
       "30              REG_CITY_NOT_WORK_CITY    0.031246\n",
       "9                      AMT_GOODS_PRICE    0.030436"
      ]
     },
     "execution_count": 65,
     "metadata": {},
     "output_type": "execute_result"
    }
   ],
   "source": [
    "app_train_top=feature_importances[:10]\n",
    "app_train_top"
   ]
  },
  {
   "cell_type": "code",
   "execution_count": 66,
   "id": "0abc4438",
   "metadata": {
    "execution": {
     "iopub.execute_input": "2021-12-03T11:52:12.902687Z",
     "iopub.status.busy": "2021-12-03T11:52:12.901655Z",
     "iopub.status.idle": "2021-12-03T11:52:12.914140Z",
     "shell.execute_reply": "2021-12-03T11:52:12.913433Z",
     "shell.execute_reply.started": "2021-12-03T11:47:57.181506Z"
    },
    "papermill": {
     "duration": 0.104801,
     "end_time": "2021-12-03T11:52:12.914290",
     "exception": false,
     "start_time": "2021-12-03T11:52:12.809489",
     "status": "completed"
    },
    "tags": []
   },
   "outputs": [
    {
     "data": {
      "text/html": [
       "<div>\n",
       "<style scoped>\n",
       "    .dataframe tbody tr th:only-of-type {\n",
       "        vertical-align: middle;\n",
       "    }\n",
       "\n",
       "    .dataframe tbody tr th {\n",
       "        vertical-align: top;\n",
       "    }\n",
       "\n",
       "    .dataframe thead th {\n",
       "        text-align: right;\n",
       "    }\n",
       "</style>\n",
       "<table border=\"1\" class=\"dataframe\">\n",
       "  <thead>\n",
       "    <tr style=\"text-align: right;\">\n",
       "      <th></th>\n",
       "      <th>SK_ID_CURR</th>\n",
       "      <th>EXT_SOURCE_3</th>\n",
       "      <th>EXT_SOURCE_2</th>\n",
       "      <th>DAYS_BIRTH</th>\n",
       "      <th>CODE_GENDER</th>\n",
       "      <th>DAYS_EMPLOYED</th>\n",
       "      <th>REGION_RATING_CLIENT</th>\n",
       "    </tr>\n",
       "  </thead>\n",
       "  <tbody>\n",
       "    <tr>\n",
       "      <th>0</th>\n",
       "      <td>100001.0</td>\n",
       "      <td>0.159520</td>\n",
       "      <td>0.789654</td>\n",
       "      <td>-19241.0</td>\n",
       "      <td>0.0</td>\n",
       "      <td>-2329.0</td>\n",
       "      <td>2.0</td>\n",
       "    </tr>\n",
       "    <tr>\n",
       "      <th>1</th>\n",
       "      <td>100005.0</td>\n",
       "      <td>0.432962</td>\n",
       "      <td>0.291656</td>\n",
       "      <td>-18064.0</td>\n",
       "      <td>1.0</td>\n",
       "      <td>-4469.0</td>\n",
       "      <td>2.0</td>\n",
       "    </tr>\n",
       "    <tr>\n",
       "      <th>2</th>\n",
       "      <td>100013.0</td>\n",
       "      <td>0.610991</td>\n",
       "      <td>0.699787</td>\n",
       "      <td>-20038.0</td>\n",
       "      <td>1.0</td>\n",
       "      <td>-4458.0</td>\n",
       "      <td>2.0</td>\n",
       "    </tr>\n",
       "    <tr>\n",
       "      <th>3</th>\n",
       "      <td>100028.0</td>\n",
       "      <td>0.612704</td>\n",
       "      <td>0.509677</td>\n",
       "      <td>-13976.0</td>\n",
       "      <td>0.0</td>\n",
       "      <td>-1866.0</td>\n",
       "      <td>2.0</td>\n",
       "    </tr>\n",
       "    <tr>\n",
       "      <th>4</th>\n",
       "      <td>100038.0</td>\n",
       "      <td>0.519097</td>\n",
       "      <td>0.425687</td>\n",
       "      <td>-13040.0</td>\n",
       "      <td>1.0</td>\n",
       "      <td>-2191.0</td>\n",
       "      <td>2.0</td>\n",
       "    </tr>\n",
       "    <tr>\n",
       "      <th>...</th>\n",
       "      <td>...</td>\n",
       "      <td>...</td>\n",
       "      <td>...</td>\n",
       "      <td>...</td>\n",
       "      <td>...</td>\n",
       "      <td>...</td>\n",
       "      <td>...</td>\n",
       "    </tr>\n",
       "    <tr>\n",
       "      <th>48739</th>\n",
       "      <td>456221.0</td>\n",
       "      <td>0.643026</td>\n",
       "      <td>0.648575</td>\n",
       "      <td>-19970.0</td>\n",
       "      <td>0.0</td>\n",
       "      <td>-5169.0</td>\n",
       "      <td>3.0</td>\n",
       "    </tr>\n",
       "    <tr>\n",
       "      <th>48740</th>\n",
       "      <td>456222.0</td>\n",
       "      <td>0.519097</td>\n",
       "      <td>0.684596</td>\n",
       "      <td>-11186.0</td>\n",
       "      <td>0.0</td>\n",
       "      <td>-1149.0</td>\n",
       "      <td>2.0</td>\n",
       "    </tr>\n",
       "    <tr>\n",
       "      <th>48741</th>\n",
       "      <td>456223.0</td>\n",
       "      <td>0.283712</td>\n",
       "      <td>0.632770</td>\n",
       "      <td>-15922.0</td>\n",
       "      <td>0.0</td>\n",
       "      <td>-3037.0</td>\n",
       "      <td>2.0</td>\n",
       "    </tr>\n",
       "    <tr>\n",
       "      <th>48742</th>\n",
       "      <td>456224.0</td>\n",
       "      <td>0.595456</td>\n",
       "      <td>0.445701</td>\n",
       "      <td>-13968.0</td>\n",
       "      <td>1.0</td>\n",
       "      <td>-2731.0</td>\n",
       "      <td>2.0</td>\n",
       "    </tr>\n",
       "    <tr>\n",
       "      <th>48743</th>\n",
       "      <td>456250.0</td>\n",
       "      <td>0.272134</td>\n",
       "      <td>0.456541</td>\n",
       "      <td>-13962.0</td>\n",
       "      <td>0.0</td>\n",
       "      <td>-633.0</td>\n",
       "      <td>2.0</td>\n",
       "    </tr>\n",
       "  </tbody>\n",
       "</table>\n",
       "<p>48744 rows × 7 columns</p>\n",
       "</div>"
      ],
      "text/plain": [
       "       SK_ID_CURR  EXT_SOURCE_3  EXT_SOURCE_2  DAYS_BIRTH  CODE_GENDER  \\\n",
       "0        100001.0      0.159520      0.789654    -19241.0          0.0   \n",
       "1        100005.0      0.432962      0.291656    -18064.0          1.0   \n",
       "2        100013.0      0.610991      0.699787    -20038.0          1.0   \n",
       "3        100028.0      0.612704      0.509677    -13976.0          0.0   \n",
       "4        100038.0      0.519097      0.425687    -13040.0          1.0   \n",
       "...           ...           ...           ...         ...          ...   \n",
       "48739    456221.0      0.643026      0.648575    -19970.0          0.0   \n",
       "48740    456222.0      0.519097      0.684596    -11186.0          0.0   \n",
       "48741    456223.0      0.283712      0.632770    -15922.0          0.0   \n",
       "48742    456224.0      0.595456      0.445701    -13968.0          1.0   \n",
       "48743    456250.0      0.272134      0.456541    -13962.0          0.0   \n",
       "\n",
       "       DAYS_EMPLOYED  REGION_RATING_CLIENT  \n",
       "0            -2329.0                   2.0  \n",
       "1            -4469.0                   2.0  \n",
       "2            -4458.0                   2.0  \n",
       "3            -1866.0                   2.0  \n",
       "4            -2191.0                   2.0  \n",
       "...              ...                   ...  \n",
       "48739        -5169.0                   3.0  \n",
       "48740        -1149.0                   2.0  \n",
       "48741        -3037.0                   2.0  \n",
       "48742        -2731.0                   2.0  \n",
       "48743         -633.0                   2.0  \n",
       "\n",
       "[48744 rows x 7 columns]"
      ]
     },
     "execution_count": 66,
     "metadata": {},
     "output_type": "execute_result"
    }
   ],
   "source": [
    "app_test_top=app_test_imputed_df[['SK_ID_CURR','EXT_SOURCE_3','EXT_SOURCE_2','DAYS_BIRTH','CODE_GENDER','DAYS_EMPLOYED','REGION_RATING_CLIENT']]\n",
    "app_test_top"
   ]
  },
  {
   "cell_type": "code",
   "execution_count": 67,
   "id": "91f07804",
   "metadata": {
    "execution": {
     "iopub.execute_input": "2021-12-03T11:52:13.076407Z",
     "iopub.status.busy": "2021-12-03T11:52:13.075721Z",
     "iopub.status.idle": "2021-12-03T11:52:13.101620Z",
     "shell.execute_reply": "2021-12-03T11:52:13.102182Z",
     "shell.execute_reply.started": "2021-12-03T11:48:13.783400Z"
    },
    "papermill": {
     "duration": 0.108518,
     "end_time": "2021-12-03T11:52:13.102367",
     "exception": false,
     "start_time": "2021-12-03T11:52:12.993849",
     "status": "completed"
    },
    "tags": []
   },
   "outputs": [
    {
     "data": {
      "text/html": [
       "<div>\n",
       "<style scoped>\n",
       "    .dataframe tbody tr th:only-of-type {\n",
       "        vertical-align: middle;\n",
       "    }\n",
       "\n",
       "    .dataframe tbody tr th {\n",
       "        vertical-align: top;\n",
       "    }\n",
       "\n",
       "    .dataframe thead th {\n",
       "        text-align: right;\n",
       "    }\n",
       "</style>\n",
       "<table border=\"1\" class=\"dataframe\">\n",
       "  <thead>\n",
       "    <tr style=\"text-align: right;\">\n",
       "      <th></th>\n",
       "      <th>SK_ID_CURR</th>\n",
       "      <th>TARGET</th>\n",
       "      <th>EXT_SOURCE_3</th>\n",
       "      <th>EXT_SOURCE_2</th>\n",
       "      <th>DAYS_BIRTH</th>\n",
       "      <th>CODE_GENDER</th>\n",
       "      <th>DAYS_EMPLOYED</th>\n",
       "      <th>REGION_RATING_CLIENT</th>\n",
       "    </tr>\n",
       "  </thead>\n",
       "  <tbody>\n",
       "    <tr>\n",
       "      <th>0</th>\n",
       "      <td>100002.0</td>\n",
       "      <td>1.0</td>\n",
       "      <td>0.139376</td>\n",
       "      <td>0.262949</td>\n",
       "      <td>-9461.0</td>\n",
       "      <td>1.0</td>\n",
       "      <td>-637.0</td>\n",
       "      <td>2.0</td>\n",
       "    </tr>\n",
       "    <tr>\n",
       "      <th>1</th>\n",
       "      <td>100003.0</td>\n",
       "      <td>0.0</td>\n",
       "      <td>0.535276</td>\n",
       "      <td>0.622246</td>\n",
       "      <td>-16765.0</td>\n",
       "      <td>0.0</td>\n",
       "      <td>-1188.0</td>\n",
       "      <td>1.0</td>\n",
       "    </tr>\n",
       "    <tr>\n",
       "      <th>2</th>\n",
       "      <td>100004.0</td>\n",
       "      <td>0.0</td>\n",
       "      <td>0.729567</td>\n",
       "      <td>0.555912</td>\n",
       "      <td>-19046.0</td>\n",
       "      <td>1.0</td>\n",
       "      <td>-225.0</td>\n",
       "      <td>2.0</td>\n",
       "    </tr>\n",
       "    <tr>\n",
       "      <th>3</th>\n",
       "      <td>100006.0</td>\n",
       "      <td>0.0</td>\n",
       "      <td>0.535276</td>\n",
       "      <td>0.650442</td>\n",
       "      <td>-19005.0</td>\n",
       "      <td>0.0</td>\n",
       "      <td>-3039.0</td>\n",
       "      <td>2.0</td>\n",
       "    </tr>\n",
       "    <tr>\n",
       "      <th>4</th>\n",
       "      <td>100007.0</td>\n",
       "      <td>0.0</td>\n",
       "      <td>0.535276</td>\n",
       "      <td>0.322738</td>\n",
       "      <td>-19932.0</td>\n",
       "      <td>1.0</td>\n",
       "      <td>-3038.0</td>\n",
       "      <td>2.0</td>\n",
       "    </tr>\n",
       "    <tr>\n",
       "      <th>...</th>\n",
       "      <td>...</td>\n",
       "      <td>...</td>\n",
       "      <td>...</td>\n",
       "      <td>...</td>\n",
       "      <td>...</td>\n",
       "      <td>...</td>\n",
       "      <td>...</td>\n",
       "      <td>...</td>\n",
       "    </tr>\n",
       "    <tr>\n",
       "      <th>307506</th>\n",
       "      <td>456251.0</td>\n",
       "      <td>0.0</td>\n",
       "      <td>0.535276</td>\n",
       "      <td>0.681632</td>\n",
       "      <td>-9327.0</td>\n",
       "      <td>1.0</td>\n",
       "      <td>-236.0</td>\n",
       "      <td>1.0</td>\n",
       "    </tr>\n",
       "    <tr>\n",
       "      <th>307507</th>\n",
       "      <td>456252.0</td>\n",
       "      <td>0.0</td>\n",
       "      <td>0.535276</td>\n",
       "      <td>0.115992</td>\n",
       "      <td>-20775.0</td>\n",
       "      <td>0.0</td>\n",
       "      <td>-1648.0</td>\n",
       "      <td>2.0</td>\n",
       "    </tr>\n",
       "    <tr>\n",
       "      <th>307508</th>\n",
       "      <td>456253.0</td>\n",
       "      <td>0.0</td>\n",
       "      <td>0.218859</td>\n",
       "      <td>0.535722</td>\n",
       "      <td>-14966.0</td>\n",
       "      <td>0.0</td>\n",
       "      <td>-7921.0</td>\n",
       "      <td>3.0</td>\n",
       "    </tr>\n",
       "    <tr>\n",
       "      <th>307509</th>\n",
       "      <td>456254.0</td>\n",
       "      <td>1.0</td>\n",
       "      <td>0.661024</td>\n",
       "      <td>0.514163</td>\n",
       "      <td>-11961.0</td>\n",
       "      <td>0.0</td>\n",
       "      <td>-4786.0</td>\n",
       "      <td>2.0</td>\n",
       "    </tr>\n",
       "    <tr>\n",
       "      <th>307510</th>\n",
       "      <td>456255.0</td>\n",
       "      <td>0.0</td>\n",
       "      <td>0.113922</td>\n",
       "      <td>0.708569</td>\n",
       "      <td>-16856.0</td>\n",
       "      <td>0.0</td>\n",
       "      <td>-1262.0</td>\n",
       "      <td>1.0</td>\n",
       "    </tr>\n",
       "  </tbody>\n",
       "</table>\n",
       "<p>307511 rows × 8 columns</p>\n",
       "</div>"
      ],
      "text/plain": [
       "        SK_ID_CURR  TARGET  EXT_SOURCE_3  EXT_SOURCE_2  DAYS_BIRTH  \\\n",
       "0         100002.0     1.0      0.139376      0.262949     -9461.0   \n",
       "1         100003.0     0.0      0.535276      0.622246    -16765.0   \n",
       "2         100004.0     0.0      0.729567      0.555912    -19046.0   \n",
       "3         100006.0     0.0      0.535276      0.650442    -19005.0   \n",
       "4         100007.0     0.0      0.535276      0.322738    -19932.0   \n",
       "...            ...     ...           ...           ...         ...   \n",
       "307506    456251.0     0.0      0.535276      0.681632     -9327.0   \n",
       "307507    456252.0     0.0      0.535276      0.115992    -20775.0   \n",
       "307508    456253.0     0.0      0.218859      0.535722    -14966.0   \n",
       "307509    456254.0     1.0      0.661024      0.514163    -11961.0   \n",
       "307510    456255.0     0.0      0.113922      0.708569    -16856.0   \n",
       "\n",
       "        CODE_GENDER  DAYS_EMPLOYED  REGION_RATING_CLIENT  \n",
       "0               1.0         -637.0                   2.0  \n",
       "1               0.0        -1188.0                   1.0  \n",
       "2               1.0         -225.0                   2.0  \n",
       "3               0.0        -3039.0                   2.0  \n",
       "4               1.0        -3038.0                   2.0  \n",
       "...             ...            ...                   ...  \n",
       "307506          1.0         -236.0                   1.0  \n",
       "307507          0.0        -1648.0                   2.0  \n",
       "307508          0.0        -7921.0                   3.0  \n",
       "307509          0.0        -4786.0                   2.0  \n",
       "307510          0.0        -1262.0                   1.0  \n",
       "\n",
       "[307511 rows x 8 columns]"
      ]
     },
     "execution_count": 67,
     "metadata": {},
     "output_type": "execute_result"
    }
   ],
   "source": [
    "#seleziono solo caratteristiche più significative\n",
    "app_train_top=app_train_imputed_df[['SK_ID_CURR','TARGET','EXT_SOURCE_3','EXT_SOURCE_2','DAYS_BIRTH','CODE_GENDER','DAYS_EMPLOYED','REGION_RATING_CLIENT']]\n",
    "app_train_top\n"
   ]
  },
  {
   "cell_type": "code",
   "execution_count": 68,
   "id": "d6835c50",
   "metadata": {
    "execution": {
     "iopub.execute_input": "2021-12-03T11:52:13.265696Z",
     "iopub.status.busy": "2021-12-03T11:52:13.265035Z",
     "iopub.status.idle": "2021-12-03T11:52:13.316289Z",
     "shell.execute_reply": "2021-12-03T11:52:13.316855Z",
     "shell.execute_reply.started": "2021-12-03T11:48:17.664499Z"
    },
    "papermill": {
     "duration": 0.13454,
     "end_time": "2021-12-03T11:52:13.317071",
     "exception": false,
     "start_time": "2021-12-03T11:52:13.182531",
     "status": "completed"
    },
    "tags": []
   },
   "outputs": [],
   "source": [
    "from sklearn.model_selection import train_test_split\n",
    "X=app_train_top.drop(['TARGET'], axis=1)\n",
    "y=app_train_top['TARGET'].to_frame()\n",
    "X_train, X_test, y_train, y_test = train_test_split(X, y, test_size=0.4, random_state=0)"
   ]
  },
  {
   "cell_type": "code",
   "execution_count": 69,
   "id": "66a1a966",
   "metadata": {
    "execution": {
     "iopub.execute_input": "2021-12-03T11:52:13.480885Z",
     "iopub.status.busy": "2021-12-03T11:52:13.480252Z",
     "iopub.status.idle": "2021-12-03T11:52:13.484839Z",
     "shell.execute_reply": "2021-12-03T11:52:13.485403Z",
     "shell.execute_reply.started": "2021-12-03T11:48:23.264820Z"
    },
    "papermill": {
     "duration": 0.08869,
     "end_time": "2021-12-03T11:52:13.485587",
     "exception": false,
     "start_time": "2021-12-03T11:52:13.396897",
     "status": "completed"
    },
    "tags": []
   },
   "outputs": [
    {
     "name": "stdout",
     "output_type": "stream",
     "text": [
      "(123005, 7)\n",
      "(123005, 1)\n"
     ]
    }
   ],
   "source": [
    "print(X_test.shape)\n",
    "print(y_test.shape)"
   ]
  },
  {
   "cell_type": "code",
   "execution_count": 70,
   "id": "525f5b3e",
   "metadata": {
    "execution": {
     "iopub.execute_input": "2021-12-03T11:52:13.650711Z",
     "iopub.status.busy": "2021-12-03T11:52:13.650068Z",
     "iopub.status.idle": "2021-12-03T11:52:27.598978Z",
     "shell.execute_reply": "2021-12-03T11:52:27.599498Z",
     "shell.execute_reply.started": "2021-12-03T11:48:26.080151Z"
    },
    "papermill": {
     "duration": 14.033418,
     "end_time": "2021-12-03T11:52:27.599693",
     "exception": false,
     "start_time": "2021-12-03T11:52:13.566275",
     "status": "completed"
    },
    "tags": []
   },
   "outputs": [
    {
     "name": "stderr",
     "output_type": "stream",
     "text": [
      "/opt/conda/lib/python3.7/site-packages/ipykernel_launcher.py:4: DataConversionWarning: A column-vector y was passed when a 1d array was expected. Please change the shape of y to (n_samples,), for example using ravel().\n",
      "  after removing the cwd from sys.path.\n"
     ]
    },
    {
     "data": {
      "text/plain": [
       "0.9200195114019756"
      ]
     },
     "execution_count": 70,
     "metadata": {},
     "output_type": "execute_result"
    }
   ],
   "source": [
    "#ripeto la random forest\n",
    "from sklearn.ensemble import RandomForestClassifier\n",
    "rf1 = RandomForestClassifier(max_depth=4, random_state=0)\n",
    "rf1.fit(X_train, y_train)\n",
    "rf1.score(X_test, y_test)"
   ]
  },
  {
   "cell_type": "code",
   "execution_count": 71,
   "id": "d1c156bb",
   "metadata": {
    "execution": {
     "iopub.execute_input": "2021-12-03T11:52:27.764640Z",
     "iopub.status.busy": "2021-12-03T11:52:27.763970Z",
     "iopub.status.idle": "2021-12-03T11:52:28.091003Z",
     "shell.execute_reply": "2021-12-03T11:52:28.091548Z"
    },
    "papermill": {
     "duration": 0.410295,
     "end_time": "2021-12-03T11:52:28.091726",
     "exception": false,
     "start_time": "2021-12-03T11:52:27.681431",
     "status": "completed"
    },
    "tags": []
   },
   "outputs": [
    {
     "data": {
      "text/plain": [
       "array([0.12247729, 0.10330695, 0.04314517, ..., 0.09266703, 0.05829711,\n",
       "       0.11657265])"
      ]
     },
     "execution_count": 71,
     "metadata": {},
     "output_type": "execute_result"
    }
   ],
   "source": [
    "rf1.predict_proba(app_test_top)[:,1]"
   ]
  },
  {
   "cell_type": "code",
   "execution_count": 72,
   "id": "76f27604",
   "metadata": {
    "execution": {
     "iopub.execute_input": "2021-12-03T11:52:28.259403Z",
     "iopub.status.busy": "2021-12-03T11:52:28.258710Z",
     "iopub.status.idle": "2021-12-03T11:52:29.109988Z",
     "shell.execute_reply": "2021-12-03T11:52:29.110593Z",
     "shell.execute_reply.started": "2021-12-03T11:48:48.458965Z"
    },
    "papermill": {
     "duration": 0.93599,
     "end_time": "2021-12-03T11:52:29.110783",
     "exception": false,
     "start_time": "2021-12-03T11:52:28.174793",
     "status": "completed"
    },
    "tags": []
   },
   "outputs": [
    {
     "name": "stderr",
     "output_type": "stream",
     "text": [
      "/opt/conda/lib/python3.7/site-packages/ipykernel_launcher.py:2: SettingWithCopyWarning: \n",
      "A value is trying to be set on a copy of a slice from a DataFrame.\n",
      "Try using .loc[row_indexer,col_indexer] = value instead\n",
      "\n",
      "See the caveats in the documentation: https://pandas.pydata.org/pandas-docs/stable/user_guide/indexing.html#returning-a-view-versus-a-copy\n",
      "  \n",
      "/opt/conda/lib/python3.7/site-packages/ipykernel_launcher.py:3: SettingWithCopyWarning: \n",
      "A value is trying to be set on a copy of a slice from a DataFrame.\n",
      "Try using .loc[row_indexer,col_indexer] = value instead\n",
      "\n",
      "See the caveats in the documentation: https://pandas.pydata.org/pandas-docs/stable/user_guide/indexing.html#returning-a-view-versus-a-copy\n",
      "  This is separate from the ipykernel package so we can avoid doing imports until\n"
     ]
    }
   ],
   "source": [
    "submitrf1 = app_test[['SK_ID_CURR']]\n",
    "submitrf1['TARGET'] = rf1.predict_proba(app_test_top)[:,1]\n",
    "submitrf1['TARGET'] = rf1.predict_proba(app_test_top)[:,1]\n",
    "submitrf1.to_csv('submission.csv', index=False)"
   ]
  },
  {
   "cell_type": "code",
   "execution_count": 73,
   "id": "fec76b50",
   "metadata": {
    "execution": {
     "iopub.execute_input": "2021-12-03T11:52:29.298233Z",
     "iopub.status.busy": "2021-12-03T11:52:29.297164Z",
     "iopub.status.idle": "2021-12-03T11:52:29.300224Z",
     "shell.execute_reply": "2021-12-03T11:52:29.299569Z",
     "shell.execute_reply.started": "2021-12-03T11:46:24.460639Z"
    },
    "papermill": {
     "duration": 0.101877,
     "end_time": "2021-12-03T11:52:29.300389",
     "exception": false,
     "start_time": "2021-12-03T11:52:29.198512",
     "status": "completed"
    },
    "tags": []
   },
   "outputs": [],
   "source": [
    "# Caricare i dati di bureau\n",
    "#bureau = pd.read_csv('../input/home-credit-default-risk/bureau.csv')\n",
    "#print('bureau: ', bureau.shape)\n",
    "#bureau_balance = pd.read_csv('../input/home-credit-default-risk/bureau_balance.csv')\n",
    "#print('bureau_balance: ', bureau_balance.shape)"
   ]
  },
  {
   "cell_type": "code",
   "execution_count": 74,
   "id": "4ff645c4",
   "metadata": {
    "execution": {
     "iopub.execute_input": "2021-12-03T11:52:29.467314Z",
     "iopub.status.busy": "2021-12-03T11:52:29.466304Z",
     "iopub.status.idle": "2021-12-03T11:52:29.468367Z",
     "shell.execute_reply": "2021-12-03T11:52:29.469012Z",
     "shell.execute_reply.started": "2021-12-03T11:46:24.467188Z"
    },
    "papermill": {
     "duration": 0.087498,
     "end_time": "2021-12-03T11:52:29.469183",
     "exception": false,
     "start_time": "2021-12-03T11:52:29.381685",
     "status": "completed"
    },
    "tags": []
   },
   "outputs": [],
   "source": [
    "#mylabelencoder(bureau)\n",
    "#mylabelencoder(bureau_balance)"
   ]
  },
  {
   "cell_type": "code",
   "execution_count": 75,
   "id": "c09108cd",
   "metadata": {
    "execution": {
     "iopub.execute_input": "2021-12-03T11:52:29.638781Z",
     "iopub.status.busy": "2021-12-03T11:52:29.637781Z",
     "iopub.status.idle": "2021-12-03T11:52:29.641115Z",
     "shell.execute_reply": "2021-12-03T11:52:29.641677Z",
     "shell.execute_reply.started": "2021-12-03T11:46:24.481370Z"
    },
    "papermill": {
     "duration": 0.090795,
     "end_time": "2021-12-03T11:52:29.641851",
     "exception": false,
     "start_time": "2021-12-03T11:52:29.551056",
     "status": "completed"
    },
    "tags": []
   },
   "outputs": [],
   "source": [
    "# One Hot Encoding delle altre feature categoriche\n",
    "#bureau = pd.get_dummies(bureau)\n",
    "#bureau_balance = pd.get_dummies(bureau_balance)"
   ]
  },
  {
   "cell_type": "code",
   "execution_count": 76,
   "id": "adfdf3c5",
   "metadata": {
    "execution": {
     "iopub.execute_input": "2021-12-03T11:52:29.811123Z",
     "iopub.status.busy": "2021-12-03T11:52:29.810042Z",
     "iopub.status.idle": "2021-12-03T11:52:29.813426Z",
     "shell.execute_reply": "2021-12-03T11:52:29.814043Z",
     "shell.execute_reply.started": "2021-12-03T11:46:24.494656Z"
    },
    "papermill": {
     "duration": 0.087911,
     "end_time": "2021-12-03T11:52:29.814214",
     "exception": false,
     "start_time": "2021-12-03T11:52:29.726303",
     "status": "completed"
    },
    "tags": []
   },
   "outputs": [],
   "source": [
    "# Analisi degli outlier\n",
    "#bureau.dtypes.value_counts()\n",
    "#bureau_balance.dtypes.value_counts()"
   ]
  },
  {
   "cell_type": "code",
   "execution_count": 77,
   "id": "5b62970a",
   "metadata": {
    "execution": {
     "iopub.execute_input": "2021-12-03T11:52:29.986612Z",
     "iopub.status.busy": "2021-12-03T11:52:29.985547Z",
     "iopub.status.idle": "2021-12-03T11:52:29.987754Z",
     "shell.execute_reply": "2021-12-03T11:52:29.988387Z",
     "shell.execute_reply.started": "2021-12-03T11:46:24.507070Z"
    },
    "papermill": {
     "duration": 0.090417,
     "end_time": "2021-12-03T11:52:29.988560",
     "exception": false,
     "start_time": "2021-12-03T11:52:29.898143",
     "status": "completed"
    },
    "tags": []
   },
   "outputs": [],
   "source": [
    "#import numpy as np\n",
    "#from sklearn.impute import SimpleImputer\n",
    "#imp = SimpleImputer(missing_values=np.nan, strategy='median')\n",
    "#bureau_imputed = imp.fit_transform(bureau)\n",
    "#bureau_imputed_df = pd.DataFrame(bureau_imputed, columns=bureau.columns)\n"
   ]
  },
  {
   "cell_type": "code",
   "execution_count": 78,
   "id": "ea95c322",
   "metadata": {
    "execution": {
     "iopub.execute_input": "2021-12-03T11:52:30.157803Z",
     "iopub.status.busy": "2021-12-03T11:52:30.156937Z",
     "iopub.status.idle": "2021-12-03T11:52:30.160044Z",
     "shell.execute_reply": "2021-12-03T11:52:30.160524Z",
     "shell.execute_reply.started": "2021-12-03T11:46:24.523369Z"
    },
    "papermill": {
     "duration": 0.089411,
     "end_time": "2021-12-03T11:52:30.160706",
     "exception": false,
     "start_time": "2021-12-03T11:52:30.071295",
     "status": "completed"
    },
    "tags": []
   },
   "outputs": [],
   "source": [
    "#bureau_balance_imputed = imp.fit_transform(bureau_balance)\n",
    "#bureau_balance_imputed_df = pd.DataFrame(bureau_balance, columns=app_test.columns)"
   ]
  },
  {
   "cell_type": "code",
   "execution_count": 79,
   "id": "64aa2753",
   "metadata": {
    "execution": {
     "iopub.execute_input": "2021-12-03T11:52:30.327178Z",
     "iopub.status.busy": "2021-12-03T11:52:30.326233Z",
     "iopub.status.idle": "2021-12-03T11:52:30.329618Z",
     "shell.execute_reply": "2021-12-03T11:52:30.330182Z",
     "shell.execute_reply.started": "2021-12-03T11:46:24.535001Z"
    },
    "papermill": {
     "duration": 0.087885,
     "end_time": "2021-12-03T11:52:30.330370",
     "exception": false,
     "start_time": "2021-12-03T11:52:30.242485",
     "status": "completed"
    },
    "tags": []
   },
   "outputs": [],
   "source": [
    "#top_bureau=pd.merge(app_train_top,bureau_imputed_df,on='SK_ID_CURR',how='right')"
   ]
  },
  {
   "cell_type": "code",
   "execution_count": 80,
   "id": "02d2e094",
   "metadata": {
    "execution": {
     "iopub.execute_input": "2021-12-03T11:52:30.499109Z",
     "iopub.status.busy": "2021-12-03T11:52:30.498375Z",
     "iopub.status.idle": "2021-12-03T11:52:30.500696Z",
     "shell.execute_reply": "2021-12-03T11:52:30.501290Z",
     "shell.execute_reply.started": "2021-12-03T11:46:24.550053Z"
    },
    "papermill": {
     "duration": 0.08801,
     "end_time": "2021-12-03T11:52:30.501477",
     "exception": false,
     "start_time": "2021-12-03T11:52:30.413467",
     "status": "completed"
    },
    "tags": []
   },
   "outputs": [],
   "source": [
    "#app_train_top.info()"
   ]
  },
  {
   "cell_type": "code",
   "execution_count": 81,
   "id": "c291324f",
   "metadata": {
    "execution": {
     "iopub.execute_input": "2021-12-03T11:52:30.668732Z",
     "iopub.status.busy": "2021-12-03T11:52:30.668042Z",
     "iopub.status.idle": "2021-12-03T11:52:30.670782Z",
     "shell.execute_reply": "2021-12-03T11:52:30.671290Z",
     "shell.execute_reply.started": "2021-12-03T11:46:24.573443Z"
    },
    "papermill": {
     "duration": 0.087558,
     "end_time": "2021-12-03T11:52:30.671487",
     "exception": false,
     "start_time": "2021-12-03T11:52:30.583929",
     "status": "completed"
    },
    "tags": []
   },
   "outputs": [],
   "source": [
    "#bureau_imputed_df.info()"
   ]
  },
  {
   "cell_type": "code",
   "execution_count": 82,
   "id": "9391ff43",
   "metadata": {
    "execution": {
     "iopub.execute_input": "2021-12-03T11:52:30.840032Z",
     "iopub.status.busy": "2021-12-03T11:52:30.839333Z",
     "iopub.status.idle": "2021-12-03T11:52:30.842350Z",
     "shell.execute_reply": "2021-12-03T11:52:30.842917Z",
     "shell.execute_reply.started": "2021-12-03T11:46:24.579809Z"
    },
    "papermill": {
     "duration": 0.087118,
     "end_time": "2021-12-03T11:52:30.843102",
     "exception": false,
     "start_time": "2021-12-03T11:52:30.755984",
     "status": "completed"
    },
    "tags": []
   },
   "outputs": [],
   "source": [
    "#from sklearn.model_selection import train_test_split\n",
    "#X=top_bureau.drop(['TARGET'], axis=1)\n",
    "#y=top_bureau['TARGET'].to_frame()\n",
    "#X_train, X_test, y_train, y_test = train_test_split(X, y, test_size=0.4, random_state=0)"
   ]
  },
  {
   "cell_type": "code",
   "execution_count": 83,
   "id": "b112acc1",
   "metadata": {
    "execution": {
     "iopub.execute_input": "2021-12-03T11:52:31.017742Z",
     "iopub.status.busy": "2021-12-03T11:52:31.017094Z",
     "iopub.status.idle": "2021-12-03T11:52:31.020508Z",
     "shell.execute_reply": "2021-12-03T11:52:31.021106Z",
     "shell.execute_reply.started": "2021-12-03T11:46:24.597405Z"
    },
    "papermill": {
     "duration": 0.095877,
     "end_time": "2021-12-03T11:52:31.021295",
     "exception": false,
     "start_time": "2021-12-03T11:52:30.925418",
     "status": "completed"
    },
    "tags": []
   },
   "outputs": [],
   "source": [
    "#print(X_test.shape)\n",
    "#print(y_test.shape)"
   ]
  },
  {
   "cell_type": "code",
   "execution_count": 84,
   "id": "7795afd2",
   "metadata": {
    "execution": {
     "iopub.execute_input": "2021-12-03T11:52:31.192085Z",
     "iopub.status.busy": "2021-12-03T11:52:31.191285Z",
     "iopub.status.idle": "2021-12-03T11:52:31.194333Z",
     "shell.execute_reply": "2021-12-03T11:52:31.194908Z",
     "shell.execute_reply.started": "2021-12-03T11:46:24.618448Z"
    },
    "papermill": {
     "duration": 0.08961,
     "end_time": "2021-12-03T11:52:31.195096",
     "exception": false,
     "start_time": "2021-12-03T11:52:31.105486",
     "status": "completed"
    },
    "tags": []
   },
   "outputs": [],
   "source": [
    "#ripeto la random forest\n",
    "#from sklearn.ensemble import RandomForestClassifier\n",
    "#rf1 = RandomForestClassifier(max_depth=2, random_state=0)\n",
    "#rf1.fit(X_train, y_train)\n",
    "#rf1.score(X_test, y_test)"
   ]
  },
  {
   "cell_type": "markdown",
   "id": "aeda6339",
   "metadata": {
    "papermill": {
     "duration": 0.083109,
     "end_time": "2021-12-03T11:52:31.361187",
     "exception": false,
     "start_time": "2021-12-03T11:52:31.278078",
     "status": "completed"
    },
    "tags": []
   },
   "source": []
  }
 ],
 "metadata": {
  "kernelspec": {
   "display_name": "Python 3",
   "language": "python",
   "name": "python3"
  },
  "language_info": {
   "codemirror_mode": {
    "name": "ipython",
    "version": 3
   },
   "file_extension": ".py",
   "mimetype": "text/x-python",
   "name": "python",
   "nbconvert_exporter": "python",
   "pygments_lexer": "ipython3",
   "version": "3.7.10"
  },
  "papermill": {
   "default_parameters": {},
   "duration": 108.666015,
   "end_time": "2021-12-03T11:52:32.153180",
   "environment_variables": {},
   "exception": null,
   "input_path": "__notebook__.ipynb",
   "output_path": "__notebook__.ipynb",
   "parameters": {},
   "start_time": "2021-12-03T11:50:43.487165",
   "version": "2.3.3"
  }
 },
 "nbformat": 4,
 "nbformat_minor": 5
}
