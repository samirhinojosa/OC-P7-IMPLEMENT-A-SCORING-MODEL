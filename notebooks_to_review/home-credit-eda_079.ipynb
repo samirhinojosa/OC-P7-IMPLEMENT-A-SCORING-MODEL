{
 "cells": [
  {
   "cell_type": "code",
   "execution_count": 1,
   "id": "71fedf2b",
   "metadata": {
    "execution": {
     "iopub.execute_input": "2021-10-05T13:29:51.053783Z",
     "iopub.status.busy": "2021-10-05T13:29:51.052636Z",
     "iopub.status.idle": "2021-10-05T13:29:51.057501Z",
     "shell.execute_reply": "2021-10-05T13:29:51.057970Z",
     "shell.execute_reply.started": "2021-10-05T09:19:21.875022Z"
    },
    "papermill": {
     "duration": 0.030706,
     "end_time": "2021-10-05T13:29:51.058251",
     "exception": false,
     "start_time": "2021-10-05T13:29:51.027545",
     "status": "completed"
    },
    "tags": []
   },
   "outputs": [],
   "source": [
    "# 字段\t含义\n",
    "# SK_ID_CURR\t此次申请的ID\n",
    "# TARGET\t申请人本次申请的还款风险：1-风险较高；0-风险较低\n",
    "# NAME_CONTRACT_TYPE\t贷款类型：cash(现金)还是revolving(周转金，一次申请，多次循环提取)\n",
    "# CODE_GENDER\t申请人性别\n",
    "# FLAG_OWN_CAR\t申请人是否有车\n",
    "# FLAG_OWN_REALTY\t申请人是否有房\n",
    "# CNT_CHILDREN\t申请人子女个数\n",
    "# AMT_INCOME_TOTAL\t申请人收入状况\n",
    "# AMT_CREDIT\t此次申请的贷款金额\n",
    "# AMT_ANNUITY\t贷款年金\n",
    "# AMT_GOODS_PRICE\t如果是消费贷款，改字段表示商品的实际价格\n",
    "# NAME_TYPE_SUITE\t申请人此次申请的陪同人员\n",
    "# NAME_INCOME_TYPE\t申请人收入类型\n",
    "# NAME_EDUCATION_TYPE\t申请人受教育程度\n",
    "# NAME_FAMILY_STATUS\t申请人婚姻状况\n",
    "# NAME_HOUSING_TYPE\t申请人居住状况（租房，已购房，和父母一起住等）\n",
    "# REGION_POPULATION_RELATIVE\t申请人居住地人口密度，已标准化\n",
    "# DAYS_BIRTH\t申请人出生日（距离申请当日的天数，负值）\n",
    "# DAYS_EMPLOYED\t申请人当前工作的工作年限（距离申请当日的天数，负值）\n",
    "# DAYS_REGISTRATION\t申请人最近一次修改注册信息的时间（距离申请当日的天数，负值）\n",
    "# DAYS_ID_PUBLISH\t申请人最近一次修改申请贷款的身份证明文件的时间（距离申请当日的天数，负值）\n",
    "# FLAG_MOBIL\t申请人是否提供个人电话（1-yes，0-no）\n",
    "# FLAG_EMP_PHONE\t申请人是否提供家庭电话（1-yes，0-no）\n",
    "# FLAG_WORK_PHONE\t申请人是否提供工作电话（1-yes，0-no）\n",
    "# FLAG_CONT_MOBILE\t申请人个人电话是否能拨通（1-yes，0-no）\n",
    "# FLAG_EMAIL\t申请人是否提供电子邮箱（1-yes，0-no）\n",
    "# OCCUPATION_TYPE\t申请人职务\n",
    "# REGION_RATING_CLIENT\t本公司对申请人居住区域的评分等级（1,2,3）\n",
    "# REGION_RATING_CLIENT_W_CITY\t在考虑所在城市的情况下，本公司对申请人居住区域的评分等级（1,2,3）\n",
    "# WEEKDAY_APPR_PROCESS_START\t申请人发起申请日是星期几\n",
    "# HOUR_APPR_PROCESS_START\t申请人发起申请的hour\n",
    "# REG_REGION_NOT_LIVE_REGION\t申请人提供的的永久地址和联系地址是否匹配（1-不匹配，2-匹配，区域级别的）\n",
    "# REG_REGION_NOT_WORK_REGION\t申请人提供的的永久地址和工作地址是否匹配（1-不匹配，2-匹配，区域级别的）\n",
    "# LIVE_REGION_NOT_WORK_REGION\t申请人提供的的联系地址和工作地址是否匹配（1-不匹配，2-匹配，区域级别的）\n",
    "# REG_CITY_NOT_LIVE_CITY\t申请人提供的的永久地址和联系地址是否匹配（1-不匹配，2-匹配，城市级别的）\n",
    "# REG_CITY_NOT_WORK_CITY\t申请人提供的的永久地址和工作地址是否匹配（1-不匹配，2-匹配，城市级别的）\n",
    "# LIVE_CITY_NOT_WORK_CITY\t申请人提供的的联系地址和工作地址是否匹配（1-不匹配，2-匹配，城市级别的）\n",
    "# ORGANIZATION_TYPE\t申请人工作所属组织类型\n",
    "# EXT_SOURCE_1\t外部数据源1的标准化评分\n",
    "# EXT_SOURCE_2\t外部数据源2的标准化评分\n",
    "# EXT_SOURCE_3\t外部数据源3的标准化评分\n",
    "# APARTMENTS_AVG <----> EMERGENCYSTATE_MODE\t申请人居住环境各项指标的标准化评分\n",
    "# OBS_30_CNT_SOCIAL_CIRC LE <----> DEF_60_CNT_SOCIAL_CIRCLE\t这部分字段含义没看懂\n",
    "# DAYS_LAST_PHONE_CHANGE\t申请人最近一次修改手机号码的时间（距离申请当日的天数，负值）\n",
    "# FLAG_DOCUMENT_2 <----> FLAG_DOCUMENT_21\t申请人是否额外提供了文件2,3,4. . .21\n",
    "# AMT_REQ_CREDIT_BUREAU_HOUR\t申请人发起申请前1个小时以内，被查询征信的次数\n",
    "# AMT_REQ_CREDIT_BUREAU_DAY\t申请人发起申请前一天以内，被查询征信的次数\n",
    "# AMT_REQ_CREDIT_BUREAU_WEEK\t申请人发起申请前一周以内，被查询征信的次数\n",
    "# AMT_REQ_CREDIT_BUREAU_MONTH\t申请人发起申请前一个月以内，被查询征信的次数\n",
    "# AMT_REQ_CREDIT_BUREAU_QRT\t申请人发起申请前一个季度以内，被查询征信的次数\n",
    "# AMT_REQ_CREDIT_BUREAU_YEAR\t申请人发起申请前一年以内，被查询征信的次数"
   ]
  },
  {
   "cell_type": "code",
   "execution_count": 2,
   "id": "ddaa1c28",
   "metadata": {
    "_cell_guid": "b1076dfc-b9ad-4769-8c92-a6c4dae69d19",
    "_uuid": "8f2839f25d086af736a60e9eeb907d3b93b6e0e5",
    "execution": {
     "iopub.execute_input": "2021-10-05T13:29:51.102437Z",
     "iopub.status.busy": "2021-10-05T13:29:51.101865Z",
     "iopub.status.idle": "2021-10-05T13:29:51.917183Z",
     "shell.execute_reply": "2021-10-05T13:29:51.917716Z",
     "shell.execute_reply.started": "2021-10-05T09:19:21.905317Z"
    },
    "papermill": {
     "duration": 0.839049,
     "end_time": "2021-10-05T13:29:51.917900",
     "exception": false,
     "start_time": "2021-10-05T13:29:51.078851",
     "status": "completed"
    },
    "tags": []
   },
   "outputs": [],
   "source": [
    "import pandas as pd \n",
    "import numpy as np\n",
    "import matplotlib\n",
    "import matplotlib.pyplot as plt\n",
    "import seaborn as sns\n",
    "%matplotlib inline "
   ]
  },
  {
   "cell_type": "code",
   "execution_count": 3,
   "id": "acd1de00",
   "metadata": {
    "execution": {
     "iopub.execute_input": "2021-10-05T13:29:51.961792Z",
     "iopub.status.busy": "2021-10-05T13:29:51.961067Z",
     "iopub.status.idle": "2021-10-05T13:29:51.963838Z",
     "shell.execute_reply": "2021-10-05T13:29:51.964297Z",
     "shell.execute_reply.started": "2021-10-05T09:19:22.964206Z"
    },
    "papermill": {
     "duration": 0.025887,
     "end_time": "2021-10-05T13:29:51.964449",
     "exception": false,
     "start_time": "2021-10-05T13:29:51.938562",
     "status": "completed"
    },
    "tags": []
   },
   "outputs": [],
   "source": [
    "PATH=\"../input/home-credit-default-risk\""
   ]
  },
  {
   "cell_type": "code",
   "execution_count": 4,
   "id": "599f1b11",
   "metadata": {
    "execution": {
     "iopub.execute_input": "2021-10-05T13:29:52.026520Z",
     "iopub.status.busy": "2021-10-05T13:29:52.025625Z",
     "iopub.status.idle": "2021-10-05T13:30:56.016357Z",
     "shell.execute_reply": "2021-10-05T13:30:56.015813Z",
     "shell.execute_reply.started": "2021-10-05T09:19:22.968782Z"
    },
    "papermill": {
     "duration": 64.02066,
     "end_time": "2021-10-05T13:30:56.016510",
     "exception": false,
     "start_time": "2021-10-05T13:29:51.995850",
     "status": "completed"
    },
    "tags": []
   },
   "outputs": [],
   "source": [
    "application_train = pd.read_csv(PATH+\"/application_train.csv\")\n",
    "application_test = pd.read_csv(PATH+\"/application_test.csv\")\n",
    "bureau = pd.read_csv(PATH+\"/bureau.csv\")\n",
    "bureau_balance = pd.read_csv(PATH+\"/bureau_balance.csv\")\n",
    "credit_card_balance = pd.read_csv(PATH+\"/credit_card_balance.csv\")\n",
    "installments_payments = pd.read_csv(PATH+\"/installments_payments.csv\")\n",
    "previous_application = pd.read_csv(PATH+\"/previous_application.csv\")\n",
    "POS_CASH_balance = pd.read_csv(PATH+\"/POS_CASH_balance.csv\")"
   ]
  },
  {
   "cell_type": "code",
   "execution_count": 5,
   "id": "ee4666c8",
   "metadata": {
    "execution": {
     "iopub.execute_input": "2021-10-05T13:30:56.076519Z",
     "iopub.status.busy": "2021-10-05T13:30:56.075302Z",
     "iopub.status.idle": "2021-10-05T13:30:56.108117Z",
     "shell.execute_reply": "2021-10-05T13:30:56.107644Z",
     "shell.execute_reply.started": "2021-10-05T09:20:45.750107Z"
    },
    "papermill": {
     "duration": 0.071521,
     "end_time": "2021-10-05T13:30:56.108257",
     "exception": false,
     "start_time": "2021-10-05T13:30:56.036736",
     "status": "completed"
    },
    "tags": []
   },
   "outputs": [
    {
     "data": {
      "text/html": [
       "<div>\n",
       "<style scoped>\n",
       "    .dataframe tbody tr th:only-of-type {\n",
       "        vertical-align: middle;\n",
       "    }\n",
       "\n",
       "    .dataframe tbody tr th {\n",
       "        vertical-align: top;\n",
       "    }\n",
       "\n",
       "    .dataframe thead th {\n",
       "        text-align: right;\n",
       "    }\n",
       "</style>\n",
       "<table border=\"1\" class=\"dataframe\">\n",
       "  <thead>\n",
       "    <tr style=\"text-align: right;\">\n",
       "      <th></th>\n",
       "      <th>SK_ID_CURR</th>\n",
       "      <th>DAYS_CREDIT_UPDATE</th>\n",
       "      <th>CREDIT_ACTIVE</th>\n",
       "      <th>DAYS_CREDIT</th>\n",
       "      <th>DAYS_CREDIT_ENDDATE</th>\n",
       "    </tr>\n",
       "  </thead>\n",
       "  <tbody>\n",
       "    <tr>\n",
       "      <th>0</th>\n",
       "      <td>215354</td>\n",
       "      <td>-131</td>\n",
       "      <td>Closed</td>\n",
       "      <td>-497</td>\n",
       "      <td>-153.0</td>\n",
       "    </tr>\n",
       "    <tr>\n",
       "      <th>1</th>\n",
       "      <td>215354</td>\n",
       "      <td>-20</td>\n",
       "      <td>Active</td>\n",
       "      <td>-208</td>\n",
       "      <td>1075.0</td>\n",
       "    </tr>\n",
       "    <tr>\n",
       "      <th>2</th>\n",
       "      <td>215354</td>\n",
       "      <td>-16</td>\n",
       "      <td>Active</td>\n",
       "      <td>-203</td>\n",
       "      <td>528.0</td>\n",
       "    </tr>\n",
       "    <tr>\n",
       "      <th>3</th>\n",
       "      <td>215354</td>\n",
       "      <td>-16</td>\n",
       "      <td>Active</td>\n",
       "      <td>-203</td>\n",
       "      <td>NaN</td>\n",
       "    </tr>\n",
       "    <tr>\n",
       "      <th>4</th>\n",
       "      <td>215354</td>\n",
       "      <td>-21</td>\n",
       "      <td>Active</td>\n",
       "      <td>-629</td>\n",
       "      <td>1197.0</td>\n",
       "    </tr>\n",
       "    <tr>\n",
       "      <th>...</th>\n",
       "      <td>...</td>\n",
       "      <td>...</td>\n",
       "      <td>...</td>\n",
       "      <td>...</td>\n",
       "      <td>...</td>\n",
       "    </tr>\n",
       "    <tr>\n",
       "      <th>1716423</th>\n",
       "      <td>259355</td>\n",
       "      <td>-19</td>\n",
       "      <td>Active</td>\n",
       "      <td>-44</td>\n",
       "      <td>-30.0</td>\n",
       "    </tr>\n",
       "    <tr>\n",
       "      <th>1716424</th>\n",
       "      <td>100044</td>\n",
       "      <td>-2493</td>\n",
       "      <td>Closed</td>\n",
       "      <td>-2648</td>\n",
       "      <td>-2433.0</td>\n",
       "    </tr>\n",
       "    <tr>\n",
       "      <th>1716425</th>\n",
       "      <td>100044</td>\n",
       "      <td>-967</td>\n",
       "      <td>Closed</td>\n",
       "      <td>-1809</td>\n",
       "      <td>-1628.0</td>\n",
       "    </tr>\n",
       "    <tr>\n",
       "      <th>1716426</th>\n",
       "      <td>246829</td>\n",
       "      <td>-1508</td>\n",
       "      <td>Closed</td>\n",
       "      <td>-1878</td>\n",
       "      <td>-1513.0</td>\n",
       "    </tr>\n",
       "    <tr>\n",
       "      <th>1716427</th>\n",
       "      <td>246829</td>\n",
       "      <td>-387</td>\n",
       "      <td>Closed</td>\n",
       "      <td>-463</td>\n",
       "      <td>NaN</td>\n",
       "    </tr>\n",
       "  </tbody>\n",
       "</table>\n",
       "<p>1716428 rows × 5 columns</p>\n",
       "</div>"
      ],
      "text/plain": [
       "         SK_ID_CURR  DAYS_CREDIT_UPDATE CREDIT_ACTIVE  DAYS_CREDIT  \\\n",
       "0            215354                -131        Closed         -497   \n",
       "1            215354                 -20        Active         -208   \n",
       "2            215354                 -16        Active         -203   \n",
       "3            215354                 -16        Active         -203   \n",
       "4            215354                 -21        Active         -629   \n",
       "...             ...                 ...           ...          ...   \n",
       "1716423      259355                 -19        Active          -44   \n",
       "1716424      100044               -2493        Closed        -2648   \n",
       "1716425      100044                -967        Closed        -1809   \n",
       "1716426      246829               -1508        Closed        -1878   \n",
       "1716427      246829                -387        Closed         -463   \n",
       "\n",
       "         DAYS_CREDIT_ENDDATE  \n",
       "0                     -153.0  \n",
       "1                     1075.0  \n",
       "2                      528.0  \n",
       "3                        NaN  \n",
       "4                     1197.0  \n",
       "...                      ...  \n",
       "1716423                -30.0  \n",
       "1716424              -2433.0  \n",
       "1716425              -1628.0  \n",
       "1716426              -1513.0  \n",
       "1716427                  NaN  \n",
       "\n",
       "[1716428 rows x 5 columns]"
      ]
     },
     "execution_count": 5,
     "metadata": {},
     "output_type": "execute_result"
    }
   ],
   "source": [
    "bureau[['SK_ID_CURR','DAYS_CREDIT_UPDATE', 'CREDIT_ACTIVE', 'DAYS_CREDIT', 'DAYS_CREDIT_ENDDATE']]"
   ]
  },
  {
   "cell_type": "code",
   "execution_count": 6,
   "id": "bff6612f",
   "metadata": {
    "execution": {
     "iopub.execute_input": "2021-10-05T13:30:56.160346Z",
     "iopub.status.busy": "2021-10-05T13:30:56.159282Z",
     "iopub.status.idle": "2021-10-05T13:30:56.162486Z",
     "shell.execute_reply": "2021-10-05T13:30:56.163414Z",
     "shell.execute_reply.started": "2021-10-05T09:20:45.80115Z"
    },
    "papermill": {
     "duration": 0.034248,
     "end_time": "2021-10-05T13:30:56.163672",
     "exception": false,
     "start_time": "2021-10-05T13:30:56.129424",
     "status": "completed"
    },
    "tags": []
   },
   "outputs": [
    {
     "name": "stdout",
     "output_type": "stream",
     "text": [
      "application_train -  rows: 307511  columns: 122\n",
      "application_test -  rows: 48744  columns: 121\n",
      "bureau -  rows: 1716428  columns: 17\n",
      "bureau_balance -  rows: 27299925  columns: 3\n",
      "credit_card_balance -  rows: 3840312  columns: 23\n",
      "installments_payments -  rows: 13605401  columns: 8\n",
      "previous_application -  rows: 1670214  columns: 37\n",
      "POS_CASH_balance -  rows: 10001358  columns: 8\n"
     ]
    }
   ],
   "source": [
    "print(\"application_train -  rows:\",application_train.shape[0],\" columns:\", application_train.shape[1])\n",
    "print(\"application_test -  rows:\",application_test.shape[0],\" columns:\", application_test.shape[1])\n",
    "print(\"bureau -  rows:\",bureau.shape[0],\" columns:\", bureau.shape[1])\n",
    "print(\"bureau_balance -  rows:\",bureau_balance.shape[0],\" columns:\", bureau_balance.shape[1])\n",
    "print(\"credit_card_balance -  rows:\",credit_card_balance.shape[0],\" columns:\", credit_card_balance.shape[1])\n",
    "print(\"installments_payments -  rows:\",installments_payments.shape[0],\" columns:\", installments_payments.shape[1])\n",
    "print(\"previous_application -  rows:\",previous_application.shape[0],\" columns:\", previous_application.shape[1])\n",
    "print(\"POS_CASH_balance -  rows:\",POS_CASH_balance.shape[0],\" columns:\", POS_CASH_balance.shape[1])"
   ]
  },
  {
   "cell_type": "code",
   "execution_count": 7,
   "id": "6feed3fb",
   "metadata": {
    "execution": {
     "iopub.execute_input": "2021-10-05T13:30:56.214861Z",
     "iopub.status.busy": "2021-10-05T13:30:56.213893Z",
     "iopub.status.idle": "2021-10-05T13:30:56.452137Z",
     "shell.execute_reply": "2021-10-05T13:30:56.451690Z",
     "shell.execute_reply.started": "2021-10-05T09:20:45.815708Z"
    },
    "papermill": {
     "duration": 0.266282,
     "end_time": "2021-10-05T13:30:56.452272",
     "exception": false,
     "start_time": "2021-10-05T13:30:56.185990",
     "status": "completed"
    },
    "tags": []
   },
   "outputs": [
    {
     "data": {
      "text/plain": [
       "<AxesSubplot:xlabel='TARGET', ylabel='EXT_SOURCE_1'>"
      ]
     },
     "execution_count": 7,
     "metadata": {},
     "output_type": "execute_result"
    },
    {
     "data": {
      "image/png": "[encoded data removed]",
      "text/plain": [
       "<Figure size 432x288 with 1 Axes>"
      ]
     },
     "metadata": {
      "needs_background": "light"
     },
     "output_type": "display_data"
    }
   ],
   "source": [
    "sns.boxplot(x='TARGET', y='EXT_SOURCE_1', data=application_train)"
   ]
  },
  {
   "cell_type": "code",
   "execution_count": 8,
   "id": "b213fc6c",
   "metadata": {
    "execution": {
     "iopub.execute_input": "2021-10-05T13:30:56.501463Z",
     "iopub.status.busy": "2021-10-05T13:30:56.500459Z",
     "iopub.status.idle": "2021-10-05T13:30:56.709641Z",
     "shell.execute_reply": "2021-10-05T13:30:56.710092Z",
     "shell.execute_reply.started": "2021-10-05T09:20:46.090797Z"
    },
    "papermill": {
     "duration": 0.236296,
     "end_time": "2021-10-05T13:30:56.710270",
     "exception": false,
     "start_time": "2021-10-05T13:30:56.473974",
     "status": "completed"
    },
    "tags": []
   },
   "outputs": [
    {
     "data": {
      "text/plain": [
       "<AxesSubplot:xlabel='TARGET', ylabel='EXT_SOURCE_2'>"
      ]
     },
     "execution_count": 8,
     "metadata": {},
     "output_type": "execute_result"
    },
    {
     "data": {
      "image/png": "[encoded data removed]",
      "text/plain": [
       "<Figure size 432x288 with 1 Axes>"
      ]
     },
     "metadata": {
      "needs_background": "light"
     },
     "output_type": "display_data"
    }
   ],
   "source": [
    "sns.boxplot(x='TARGET', y='EXT_SOURCE_2', data=application_train)"
   ]
  },
  {
   "cell_type": "code",
   "execution_count": 9,
   "id": "ba2fbc34",
   "metadata": {
    "execution": {
     "iopub.execute_input": "2021-10-05T13:30:56.759993Z",
     "iopub.status.busy": "2021-10-05T13:30:56.758557Z",
     "iopub.status.idle": "2021-10-05T13:30:56.960053Z",
     "shell.execute_reply": "2021-10-05T13:30:56.960462Z",
     "shell.execute_reply.started": "2021-10-05T09:20:46.321984Z"
    },
    "papermill": {
     "duration": 0.227445,
     "end_time": "2021-10-05T13:30:56.960652",
     "exception": false,
     "start_time": "2021-10-05T13:30:56.733207",
     "status": "completed"
    },
    "tags": []
   },
   "outputs": [
    {
     "data": {
      "text/plain": [
       "<AxesSubplot:xlabel='TARGET', ylabel='EXT_SOURCE_3'>"
      ]
     },
     "execution_count": 9,
     "metadata": {},
     "output_type": "execute_result"
    },
    {
     "data": {
      "image/png": "[encoded data removed]",
      "text/plain": [
       "<Figure size 432x288 with 1 Axes>"
      ]
     },
     "metadata": {
      "needs_background": "light"
     },
     "output_type": "display_data"
    }
   ],
   "source": [
    "sns.boxplot(x='TARGET', y='EXT_SOURCE_3', data = application_train)"
   ]
  },
  {
   "cell_type": "code",
   "execution_count": 10,
   "id": "30408655",
   "metadata": {
    "execution": {
     "iopub.execute_input": "2021-10-05T13:30:57.013301Z",
     "iopub.status.busy": "2021-10-05T13:30:57.012682Z",
     "iopub.status.idle": "2021-10-05T13:30:59.682108Z",
     "shell.execute_reply": "2021-10-05T13:30:59.681570Z",
     "shell.execute_reply.started": "2021-10-05T09:20:46.54706Z"
    },
    "papermill": {
     "duration": 2.697929,
     "end_time": "2021-10-05T13:30:59.682257",
     "exception": false,
     "start_time": "2021-10-05T13:30:56.984328",
     "status": "completed"
    },
    "tags": []
   },
   "outputs": [
    {
     "data": {
      "text/plain": [
       "<AxesSubplot:xlabel='TARGET', ylabel='REGION_POPULATION_RELATIVE'>"
      ]
     },
     "execution_count": 10,
     "metadata": {},
     "output_type": "execute_result"
    },
    {
     "data": {
      "image/png": "[encoded data removed]",
      "text/plain": [
       "<Figure size 432x288 with 1 Axes>"
      ]
     },
     "metadata": {
      "needs_background": "light"
     },
     "output_type": "display_data"
    }
   ],
   "source": [
    "sns.barplot(x='TARGET', y='REGION_POPULATION_RELATIVE', data=application_train)"
   ]
  },
  {
   "cell_type": "code",
   "execution_count": 11,
   "id": "a79f6769",
   "metadata": {
    "execution": {
     "iopub.execute_input": "2021-10-05T13:30:59.763181Z",
     "iopub.status.busy": "2021-10-05T13:30:59.741498Z",
     "iopub.status.idle": "2021-10-05T13:30:59.919203Z",
     "shell.execute_reply": "2021-10-05T13:30:59.918571Z",
     "shell.execute_reply.started": "2021-10-05T09:20:49.024021Z"
    },
    "papermill": {
     "duration": 0.212982,
     "end_time": "2021-10-05T13:30:59.919359",
     "exception": false,
     "start_time": "2021-10-05T13:30:59.706377",
     "status": "completed"
    },
    "tags": []
   },
   "outputs": [
    {
     "data": {
      "image/png": "[encoded data removed]",
      "text/plain": [
       "<Figure size 432x432 with 1 Axes>"
      ]
     },
     "metadata": {
      "needs_background": "light"
     },
     "output_type": "display_data"
    }
   ],
   "source": [
    "temp = application_train[\"TARGET\"].value_counts()\n",
    "df = pd.DataFrame({'labels': temp.index,\n",
    "                   'values': temp.values\n",
    "                  })\n",
    "plt.figure(figsize = (6,6))\n",
    "plt.title('Application loans repayed - train dataset')\n",
    "sns.set_color_codes(\"pastel\")\n",
    "sns.barplot(x='labels', y=\"values\", data=df)\n",
    "locs, labels = plt.xticks()\n",
    "plt.show()"
   ]
  },
  {
   "cell_type": "code",
   "execution_count": 12,
   "id": "f7de57da",
   "metadata": {
    "execution": {
     "iopub.execute_input": "2021-10-05T13:30:59.988496Z",
     "iopub.status.busy": "2021-10-05T13:30:59.987910Z",
     "iopub.status.idle": "2021-10-05T13:30:59.991850Z",
     "shell.execute_reply": "2021-10-05T13:30:59.991367Z",
     "shell.execute_reply.started": "2021-10-05T09:20:49.211553Z"
    },
    "papermill": {
     "duration": 0.035568,
     "end_time": "2021-10-05T13:30:59.991986",
     "exception": false,
     "start_time": "2021-10-05T13:30:59.956418",
     "status": "completed"
    },
    "tags": []
   },
   "outputs": [
    {
     "data": {
      "text/html": [
       "<div>\n",
       "<style scoped>\n",
       "    .dataframe tbody tr th:only-of-type {\n",
       "        vertical-align: middle;\n",
       "    }\n",
       "\n",
       "    .dataframe tbody tr th {\n",
       "        vertical-align: top;\n",
       "    }\n",
       "\n",
       "    .dataframe thead th {\n",
       "        text-align: right;\n",
       "    }\n",
       "</style>\n",
       "<table border=\"1\" class=\"dataframe\">\n",
       "  <thead>\n",
       "    <tr style=\"text-align: right;\">\n",
       "      <th></th>\n",
       "      <th>labels</th>\n",
       "      <th>values</th>\n",
       "    </tr>\n",
       "  </thead>\n",
       "  <tbody>\n",
       "    <tr>\n",
       "      <th>0</th>\n",
       "      <td>0</td>\n",
       "      <td>282686</td>\n",
       "    </tr>\n",
       "    <tr>\n",
       "      <th>1</th>\n",
       "      <td>1</td>\n",
       "      <td>24825</td>\n",
       "    </tr>\n",
       "  </tbody>\n",
       "</table>\n",
       "</div>"
      ],
      "text/plain": [
       "   labels  values\n",
       "0       0  282686\n",
       "1       1   24825"
      ]
     },
     "execution_count": 12,
     "metadata": {},
     "output_type": "execute_result"
    }
   ],
   "source": [
    "df"
   ]
  },
  {
   "cell_type": "code",
   "execution_count": 13,
   "id": "fa07e1e2",
   "metadata": {
    "execution": {
     "iopub.execute_input": "2021-10-05T13:31:00.157342Z",
     "iopub.status.busy": "2021-10-05T13:31:00.156701Z",
     "iopub.status.idle": "2021-10-05T13:31:00.158298Z",
     "shell.execute_reply": "2021-10-05T13:31:00.158704Z",
     "shell.execute_reply.started": "2021-10-05T09:20:49.22225Z"
    },
    "papermill": {
     "duration": 0.141702,
     "end_time": "2021-10-05T13:31:00.158878",
     "exception": false,
     "start_time": "2021-10-05T13:31:00.017176",
     "status": "completed"
    },
    "tags": []
   },
   "outputs": [],
   "source": [
    "def plot_stats(feature, label_rotation=False, horizontal_layout=True):\n",
    "    temp = application_train[feature].value_counts()\n",
    "    df1 = pd.DataFrame({feature: temp.index,'Number of contracts': temp.values})\n",
    "\n",
    "    # Calculate the percentage of target=1 per category value\n",
    "    cat_perc = application_train[[feature, 'TARGET']].groupby([feature], as_index=False).mean()\n",
    "    cat_perc.sort_values(by='TARGET', ascending=False, inplace=True)\n",
    "    \n",
    "    if horizontal_layout:\n",
    "        fig, (ax1, ax2) = plt.subplots(ncols=2, figsize=(12,6))\n",
    "    else:\n",
    "        fig, (ax1, ax2) = plt.subplots(nrows=2, figsize=(12,14))\n",
    "    sns.set_color_codes(\"pastel\")\n",
    "    s = sns.barplot(ax=ax1, x=feature, y=\"Number of contracts\", data=df1)\n",
    "    \n",
    "    if label_rotation:\n",
    "        s.set_xticklabels(s.get_xticklabels(), rotation=90)\n",
    "    s = sns.barplot(ax=ax2, x=feature, y='TARGET', order=cat_perc[feature], data=cat_perc)\n",
    "    \n",
    "    if label_rotation:\n",
    "        s.set_xticklabels(s.get_xticklabels(), rotation=90)\n",
    "    plt.ylabel('Percent of target with value 1 [%]', fontsize=10)\n",
    "    plt.tick_params(axis='both', which='major', labelsize=10)\n",
    "    plt.show()"
   ]
  },
  {
   "cell_type": "code",
   "execution_count": 14,
   "id": "622e714f",
   "metadata": {
    "execution": {
     "iopub.execute_input": "2021-10-05T13:31:00.212555Z",
     "iopub.status.busy": "2021-10-05T13:31:00.211973Z",
     "iopub.status.idle": "2021-10-05T13:31:00.485130Z",
     "shell.execute_reply": "2021-10-05T13:31:00.485575Z",
     "shell.execute_reply.started": "2021-10-05T09:20:49.344547Z"
    },
    "papermill": {
     "duration": 0.301835,
     "end_time": "2021-10-05T13:31:00.485768",
     "exception": false,
     "start_time": "2021-10-05T13:31:00.183933",
     "status": "completed"
    },
    "tags": []
   },
   "outputs": [
    {
     "data": {
      "image/png": "[encoded data removed]",
      "text/plain": [
       "<Figure size 864x432 with 2 Axes>"
      ]
     },
     "metadata": {
      "needs_background": "light"
     },
     "output_type": "display_data"
    }
   ],
   "source": [
    "plot_stats('NAME_CONTRACT_TYPE')"
   ]
  },
  {
   "cell_type": "code",
   "execution_count": 15,
   "id": "ef078407",
   "metadata": {
    "execution": {
     "iopub.execute_input": "2021-10-05T13:31:00.541806Z",
     "iopub.status.busy": "2021-10-05T13:31:00.541218Z",
     "iopub.status.idle": "2021-10-05T13:31:00.811633Z",
     "shell.execute_reply": "2021-10-05T13:31:00.812097Z",
     "shell.execute_reply.started": "2021-10-05T09:20:49.73416Z"
    },
    "papermill": {
     "duration": 0.300594,
     "end_time": "2021-10-05T13:31:00.812285",
     "exception": false,
     "start_time": "2021-10-05T13:31:00.511691",
     "status": "completed"
    },
    "tags": []
   },
   "outputs": [
    {
     "data": {
      "image/png": "[encoded data removed]",
      "text/plain": [
       "<Figure size 864x432 with 2 Axes>"
      ]
     },
     "metadata": {
      "needs_background": "light"
     },
     "output_type": "display_data"
    }
   ],
   "source": [
    "plot_stats('CODE_GENDER')"
   ]
  },
  {
   "cell_type": "code",
   "execution_count": 16,
   "id": "33fe9a89",
   "metadata": {
    "execution": {
     "iopub.execute_input": "2021-10-05T13:31:00.869423Z",
     "iopub.status.busy": "2021-10-05T13:31:00.868851Z",
     "iopub.status.idle": "2021-10-05T13:31:01.139571Z",
     "shell.execute_reply": "2021-10-05T13:31:01.140096Z",
     "shell.execute_reply.started": "2021-10-05T09:20:50.120368Z"
    },
    "papermill": {
     "duration": 0.300886,
     "end_time": "2021-10-05T13:31:01.140270",
     "exception": false,
     "start_time": "2021-10-05T13:31:00.839384",
     "status": "completed"
    },
    "tags": []
   },
   "outputs": [
    {
     "data": {
      "image/png": "[encoded data removed]",
      "text/plain": [
       "<Figure size 864x432 with 2 Axes>"
      ]
     },
     "metadata": {
      "needs_background": "light"
     },
     "output_type": "display_data"
    }
   ],
   "source": [
    "plot_stats('FLAG_OWN_CAR')"
   ]
  },
  {
   "cell_type": "code",
   "execution_count": 17,
   "id": "63819bb2",
   "metadata": {
    "execution": {
     "iopub.execute_input": "2021-10-05T13:31:01.202692Z",
     "iopub.status.busy": "2021-10-05T13:31:01.201795Z",
     "iopub.status.idle": "2021-10-05T13:31:01.548649Z",
     "shell.execute_reply": "2021-10-05T13:31:01.548130Z",
     "shell.execute_reply.started": "2021-10-05T09:20:50.498938Z"
    },
    "papermill": {
     "duration": 0.37991,
     "end_time": "2021-10-05T13:31:01.548782",
     "exception": false,
     "start_time": "2021-10-05T13:31:01.168872",
     "status": "completed"
    },
    "tags": []
   },
   "outputs": [
    {
     "data": {
      "image/png": "[encoded data removed]",
      "text/plain": [
       "<Figure size 864x432 with 2 Axes>"
      ]
     },
     "metadata": {
      "needs_background": "light"
     },
     "output_type": "display_data"
    }
   ],
   "source": [
    "plot_stats('NAME_FAMILY_STATUS', True, True)"
   ]
  },
  {
   "cell_type": "markdown",
   "id": "3c712e7a",
   "metadata": {
    "papermill": {
     "duration": 0.028308,
     "end_time": "2021-10-05T13:31:01.605667",
     "exception": false,
     "start_time": "2021-10-05T13:31:01.577359",
     "status": "completed"
    },
    "tags": []
   },
   "source": [
    "# CODE WITH LIGHTGBM"
   ]
  },
  {
   "cell_type": "code",
   "execution_count": 18,
   "id": "efc3c6e5",
   "metadata": {
    "execution": {
     "iopub.execute_input": "2021-10-05T13:31:01.666564Z",
     "iopub.status.busy": "2021-10-05T13:31:01.665956Z",
     "iopub.status.idle": "2021-10-05T13:31:02.696457Z",
     "shell.execute_reply": "2021-10-05T13:31:02.695935Z",
     "shell.execute_reply.started": "2021-10-05T09:20:51.008127Z"
    },
    "papermill": {
     "duration": 1.062618,
     "end_time": "2021-10-05T13:31:02.696592",
     "exception": false,
     "start_time": "2021-10-05T13:31:01.633974",
     "status": "completed"
    },
    "tags": []
   },
   "outputs": [
    {
     "data": {
      "text/html": [
       "<style type='text/css'>\n",
       ".datatable table.frame { margin-bottom: 0; }\n",
       ".datatable table.frame thead { border-bottom: none; }\n",
       ".datatable table.frame tr.coltypes td {  color: #FFFFFF;  line-height: 6px;  padding: 0 0.5em;}\n",
       ".datatable .bool    { background: #DDDD99; }\n",
       ".datatable .object  { background: #565656; }\n",
       ".datatable .int     { background: #5D9E5D; }\n",
       ".datatable .float   { background: #4040CC; }\n",
       ".datatable .str     { background: #CC4040; }\n",
       ".datatable .time    { background: #40CC40; }\n",
       ".datatable .row_index {  background: var(--jp-border-color3);  border-right: 1px solid var(--jp-border-color0);  color: var(--jp-ui-font-color3);  font-size: 9px;}\n",
       ".datatable .frame tbody td { text-align: left; }\n",
       ".datatable .frame tr.coltypes .row_index {  background: var(--jp-border-color0);}\n",
       ".datatable th:nth-child(2) { padding-left: 12px; }\n",
       ".datatable .hellipsis {  color: var(--jp-cell-editor-border-color);}\n",
       ".datatable .vellipsis {  background: var(--jp-layout-color0);  color: var(--jp-cell-editor-border-color);}\n",
       ".datatable .na {  color: var(--jp-cell-editor-border-color);  font-size: 80%;}\n",
       ".datatable .sp {  opacity: 0.25;}\n",
       ".datatable .footer { font-size: 9px; }\n",
       ".datatable .frame_dimensions {  background: var(--jp-border-color3);  border-top: 1px solid var(--jp-border-color0);  color: var(--jp-ui-font-color3);  display: inline-block;  opacity: 0.6;  padding: 1px 10px 1px 5px;}\n",
       "</style>\n"
      ],
      "text/plain": [
       "<IPython.core.display.HTML object>"
      ]
     },
     "metadata": {},
     "output_type": "display_data"
    }
   ],
   "source": [
    "import numpy as np\n",
    "import pandas as pd\n",
    "import gc\n",
    "import time\n",
    "import re\n",
    "from contextlib import contextmanager\n",
    "from lightgbm import LGBMClassifier\n",
    "from sklearn.metrics import roc_auc_score, roc_curve\n",
    "from sklearn.model_selection import KFold, StratifiedKFold\n",
    "import matplotlib.pyplot as plt\n",
    "import seaborn as sns\n",
    "import warnings\n",
    "warnings.simplefilter(action='ignore', category=FutureWarning)"
   ]
  },
  {
   "cell_type": "code",
   "execution_count": 19,
   "id": "ffb3c921",
   "metadata": {
    "execution": {
     "iopub.execute_input": "2021-10-05T13:31:02.759099Z",
     "iopub.status.busy": "2021-10-05T13:31:02.758419Z",
     "iopub.status.idle": "2021-10-05T13:31:02.761027Z",
     "shell.execute_reply": "2021-10-05T13:31:02.760524Z",
     "shell.execute_reply.started": "2021-10-05T09:20:52.37771Z"
    },
    "papermill": {
     "duration": 0.035826,
     "end_time": "2021-10-05T13:31:02.761168",
     "exception": false,
     "start_time": "2021-10-05T13:31:02.725342",
     "status": "completed"
    },
    "tags": []
   },
   "outputs": [],
   "source": [
    "@contextmanager\n",
    "def timer(title):\n",
    "    t0 = time.time()\n",
    "    yield\n",
    "    print(\"{} - done in {:.0f}s\".format(title, time.time() - t0))"
   ]
  },
  {
   "cell_type": "code",
   "execution_count": 20,
   "id": "54930d9e",
   "metadata": {
    "execution": {
     "iopub.execute_input": "2021-10-05T13:31:02.825600Z",
     "iopub.status.busy": "2021-10-05T13:31:02.824937Z",
     "iopub.status.idle": "2021-10-05T13:31:02.827669Z",
     "shell.execute_reply": "2021-10-05T13:31:02.827189Z",
     "shell.execute_reply.started": "2021-10-05T09:20:52.383638Z"
    },
    "papermill": {
     "duration": 0.03791,
     "end_time": "2021-10-05T13:31:02.827803",
     "exception": false,
     "start_time": "2021-10-05T13:31:02.789893",
     "status": "completed"
    },
    "tags": []
   },
   "outputs": [],
   "source": [
    "# One-hot encoding for categorical columns with get_dummies\n",
    "def one_hot_encoder(df, nan_as_category = True):\n",
    "    original_columns = list(df.columns)\n",
    "    categorical_columns = [col for col in df.columns if df[col].dtype == 'object']\n",
    "    df = pd.get_dummies(df, columns= categorical_columns, dummy_na= nan_as_category)\n",
    "    new_columns = [c for c in df.columns if c not in original_columns]\n",
    "    return df, new_columns"
   ]
  },
  {
   "cell_type": "code",
   "execution_count": 21,
   "id": "37d2c19a",
   "metadata": {
    "execution": {
     "iopub.execute_input": "2021-10-05T13:31:02.899375Z",
     "iopub.status.busy": "2021-10-05T13:31:02.893768Z",
     "iopub.status.idle": "2021-10-05T13:31:02.902339Z",
     "shell.execute_reply": "2021-10-05T13:31:02.902746Z",
     "shell.execute_reply.started": "2021-10-05T09:20:52.400086Z"
    },
    "papermill": {
     "duration": 0.046143,
     "end_time": "2021-10-05T13:31:02.902910",
     "exception": false,
     "start_time": "2021-10-05T13:31:02.856767",
     "status": "completed"
    },
    "tags": []
   },
   "outputs": [],
   "source": [
    "# Preprocess application_train.csv and application_test.csv\n",
    "def application_train_test(num_rows = None, nan_as_category = False):\n",
    "    # Read data and merge\n",
    "    df = pd.read_csv(PATH+'/application_train.csv', nrows= num_rows)\n",
    "    test_df = pd.read_csv(PATH+'/application_test.csv', nrows= num_rows)\n",
    "    print(\"Train samples: {}, test samples: {}\".format(len(df), len(test_df)))\n",
    "    df = df.append(test_df).reset_index()\n",
    "    \n",
    "    # Optional: Remove 4 applications with XNA CODE_GENDER (train set)\n",
    "    df = df[df['CODE_GENDER'] != 'XNA']\n",
    "    \n",
    "    # 是否提供往额外的文档资料标识\n",
    "    docs = [_f for _f in df.columns if 'FLAG_DOC' in _f]\n",
    "    \n",
    "    # 个人生活信息的资料标识\n",
    "    live = [_f for _f in df.columns if ('FLAG_' in _f) & ('FLAG_DOC' not in _f) & ('_FLAG_' not in _f)]\n",
    "    \n",
    "    # NaN values for DAYS_EMPLOYED: 365.243 -> nan\n",
    "    df['DAYS_EMPLOYED'].replace(365243, np.nan, inplace= True)\n",
    "\n",
    "    # 按照工作类型计算每类工作的收入中位数\n",
    "    inc_by_org = df[['AMT_INCOME_TOTAL', 'ORGANIZATION_TYPE']].groupby('ORGANIZATION_TYPE').median()['AMT_INCOME_TOTAL']\n",
    "    df['NEW_INC_BY_ORG'] = df['ORGANIZATION_TYPE'].map(inc_by_org)\n",
    "    \n",
    "    # 贷款的信用额度 / 贷款年金\n",
    "    df['NEW_CREDIT_TO_ANNUITY_RATIO'] = df['AMT_CREDIT'] / df['AMT_ANNUITY']\n",
    "    \n",
    "    # 贷款的信用额度 / 贷款商品价格\n",
    "    df['NEW_CREDIT_TO_GOODS_RATIO'] = df['AMT_CREDIT'] / df['AMT_GOODS_PRICE']\n",
    "    \n",
    "    # 文档资料的峰度\n",
    "    df['NEW_DOC_IND_KURT'] = df[docs].kurtosis(axis=1)\n",
    "    # 生活资料的求和\n",
    "    df['NEW_LIVE_IND_SUM'] = df[live].sum(axis=1)\n",
    "    \n",
    "    # 平均每个孩子平分的收入\n",
    "    df['NEW_INC_PER_CHLD'] = df['AMT_INCOME_TOTAL'] / (1 + df['CNT_CHILDREN'])\n",
    "    \n",
    "    # DAYS_EMPLOYED为申请贷款前开始当前工作的时间\n",
    "    df['NEW_EMPLOY_TO_BIRTH_RATIO'] = df['DAYS_EMPLOYED'] / df['DAYS_BIRTH']\n",
    "    \n",
    "    # 信用局信用年金 / 总收入\n",
    "    df['NEW_ANNUITY_TO_INCOME_RATIO'] = df['AMT_ANNUITY'] / (1 + df['AMT_INCOME_TOTAL'])\n",
    "    \n",
    "    df['NEW_SOURCES_PROD'] = df['EXT_SOURCE_1'] * df['EXT_SOURCE_2'] * df['EXT_SOURCE_3']\n",
    "    df['NEW_EXT_SOURCES_MEAN'] = df[['EXT_SOURCE_1', 'EXT_SOURCE_2', 'EXT_SOURCE_3']].mean(axis=1)\n",
    "    df['NEW_SCORES_STD'] = df[['EXT_SOURCE_1', 'EXT_SOURCE_2', 'EXT_SOURCE_3']].std(axis=1)\n",
    "    df['NEW_SCORES_STD'] = df['NEW_SCORES_STD'].fillna(df['NEW_SCORES_STD'].mean())\n",
    "    \n",
    "    df['NEW_CAR_TO_BIRTH_RATIO'] = df['OWN_CAR_AGE'] / df['DAYS_BIRTH']\n",
    "    df['NEW_CAR_TO_EMPLOY_RATIO'] = df['OWN_CAR_AGE'] / df['DAYS_EMPLOYED']\n",
    "    df['NEW_PHONE_TO_BIRTH_RATIO'] = df['DAYS_LAST_PHONE_CHANGE'] / df['DAYS_BIRTH']\n",
    "    df['NEW_PHONE_TO_BIRTH_RATIO_EMPLOYER'] = df['DAYS_LAST_PHONE_CHANGE'] / df['DAYS_EMPLOYED']\n",
    "    df['NEW_CREDIT_TO_INCOME_RATIO'] = df['AMT_CREDIT'] / df['AMT_INCOME_TOTAL']\n",
    "    \n",
    "    # Categorical features with Binary encode (0 or 1; two categories)\n",
    "    for bin_feature in ['CODE_GENDER', 'FLAG_OWN_CAR', 'FLAG_OWN_REALTY']:\n",
    "        df[bin_feature], uniques = pd.factorize(df[bin_feature])\n",
    "    # Categorical features with One-Hot encode\n",
    "    df, cat_cols = one_hot_encoder(df, nan_as_category)\n",
    "    dropcolum=['FLAG_DOCUMENT_2','FLAG_DOCUMENT_4',\n",
    "    'FLAG_DOCUMENT_5','FLAG_DOCUMENT_6','FLAG_DOCUMENT_7',\n",
    "    'FLAG_DOCUMENT_8','FLAG_DOCUMENT_9','FLAG_DOCUMENT_10', \n",
    "    'FLAG_DOCUMENT_11','FLAG_DOCUMENT_12','FLAG_DOCUMENT_13',\n",
    "    'FLAG_DOCUMENT_14','FLAG_DOCUMENT_15','FLAG_DOCUMENT_16',\n",
    "    'FLAG_DOCUMENT_17','FLAG_DOCUMENT_18','FLAG_DOCUMENT_19',\n",
    "    'FLAG_DOCUMENT_20','FLAG_DOCUMENT_21']\n",
    "    df= df.drop(dropcolum,axis=1)\n",
    "    del test_df\n",
    "    gc.collect()\n",
    "    return df"
   ]
  },
  {
   "cell_type": "code",
   "execution_count": 22,
   "id": "15d7b8ba",
   "metadata": {
    "execution": {
     "iopub.execute_input": "2021-10-05T13:31:02.972964Z",
     "iopub.status.busy": "2021-10-05T13:31:02.972283Z",
     "iopub.status.idle": "2021-10-05T13:31:02.980216Z",
     "shell.execute_reply": "2021-10-05T13:31:02.980599Z",
     "shell.execute_reply.started": "2021-10-05T09:20:52.422251Z"
    },
    "papermill": {
     "duration": 0.045353,
     "end_time": "2021-10-05T13:31:02.980783",
     "exception": false,
     "start_time": "2021-10-05T13:31:02.935430",
     "status": "completed"
    },
    "tags": []
   },
   "outputs": [],
   "source": [
    "# Preprocess bureau.csv and bureau_balance.csv\n",
    "def bureau_and_balance(num_rows = None, nan_as_category = True):\n",
    "    bureau = pd.read_csv(PATH+'/bureau.csv', nrows = num_rows)\n",
    "    bb = pd.read_csv(PATH+'/bureau_balance.csv', nrows = num_rows)\n",
    "    bb, bb_cat = one_hot_encoder(bb, nan_as_category)\n",
    "    bureau, bureau_cat = one_hot_encoder(bureau, nan_as_category)\n",
    "    \n",
    "    # Bureau balance: Perform aggregations and merge with bureau.csv\n",
    "    bb_aggregations = {'MONTHS_BALANCE': ['min', 'max', 'size']}\n",
    "    for col in bb_cat:\n",
    "        bb_aggregations[col] = ['mean']\n",
    "    bb_agg = bb.groupby('SK_ID_BUREAU').agg(bb_aggregations)\n",
    "    bb_agg.columns = pd.Index([e[0] + \"_\" + e[1].upper() for e in bb_agg.columns.tolist()])\n",
    "    bureau = bureau.join(bb_agg, how='left', on='SK_ID_BUREAU')\n",
    "    bureau.drop(['SK_ID_BUREAU'], axis=1, inplace= True)\n",
    "    del bb, bb_agg\n",
    "    gc.collect()\n",
    "    \n",
    "    # Bureau and bureau_balance numeric features\n",
    "    num_aggregations = {\n",
    "        'DAYS_CREDIT': [ 'mean', 'var'],\n",
    "        'DAYS_CREDIT_ENDDATE': [ 'mean'],\n",
    "        'DAYS_CREDIT_UPDATE': ['mean'],\n",
    "        'CREDIT_DAY_OVERDUE': ['mean'],\n",
    "        'AMT_CREDIT_MAX_OVERDUE': ['mean'],\n",
    "        'AMT_CREDIT_SUM': [ 'mean', 'sum'],\n",
    "        'AMT_CREDIT_SUM_DEBT': [ 'mean', 'sum'],\n",
    "        'AMT_CREDIT_SUM_OVERDUE': ['mean'],\n",
    "        'AMT_CREDIT_SUM_LIMIT': ['mean', 'sum'],\n",
    "        'AMT_ANNUITY': ['max', 'mean'],\n",
    "        'CNT_CREDIT_PROLONG': ['sum'],\n",
    "        'MONTHS_BALANCE_MIN': ['min'],\n",
    "        'MONTHS_BALANCE_MAX': ['max'],\n",
    "        'MONTHS_BALANCE_SIZE': ['mean', 'sum']\n",
    "    }\n",
    "    # Bureau and bureau_balance categorical features\n",
    "    cat_aggregations = {}\n",
    "    for cat in bureau_cat: cat_aggregations[cat] = ['mean']\n",
    "    for cat in bb_cat: cat_aggregations[cat + \"_MEAN\"] = ['mean']\n",
    "    \n",
    "    bureau_agg = bureau.groupby('SK_ID_CURR').agg({**num_aggregations, **cat_aggregations})\n",
    "    bureau_agg.columns = pd.Index(['BURO_' + e[0] + \"_\" + e[1].upper() for e in bureau_agg.columns.tolist()])\n",
    "    \n",
    "    # Bureau: Active credits - using only numerical aggregations\n",
    "    active = bureau[bureau['CREDIT_ACTIVE_Active'] == 1]\n",
    "    active_agg = active.groupby('SK_ID_CURR').agg(num_aggregations)\n",
    "    active_agg.columns = pd.Index(['ACTIVE_' + e[0] + \"_\" + e[1].upper() for e in active_agg.columns.tolist()])\n",
    "    bureau_agg = bureau_agg.join(active_agg, how='left', on='SK_ID_CURR')\n",
    "    del active, active_agg\n",
    "    gc.collect()\n",
    "    \n",
    "    # Bureau: Closed credits - using only numerical aggregations\n",
    "    closed = bureau[bureau['CREDIT_ACTIVE_Closed'] == 1]\n",
    "    closed_agg = closed.groupby('SK_ID_CURR').agg(num_aggregations)\n",
    "    closed_agg.columns = pd.Index(['CLOSED_' + e[0] + \"_\" + e[1].upper() for e in closed_agg.columns.tolist()])\n",
    "    bureau_agg = bureau_agg.join(closed_agg, how='left', on='SK_ID_CURR')\n",
    "    del closed, closed_agg, bureau\n",
    "    gc.collect()\n",
    "    return bureau_agg"
   ]
  },
  {
   "cell_type": "code",
   "execution_count": 23,
   "id": "e33717bf",
   "metadata": {
    "execution": {
     "iopub.execute_input": "2021-10-05T13:31:03.042342Z",
     "iopub.status.busy": "2021-10-05T13:31:03.041767Z",
     "iopub.status.idle": "2021-10-05T13:31:03.054278Z",
     "shell.execute_reply": "2021-10-05T13:31:03.053800Z",
     "shell.execute_reply.started": "2021-10-05T09:20:52.443621Z"
    },
    "papermill": {
     "duration": 0.043958,
     "end_time": "2021-10-05T13:31:03.054408",
     "exception": false,
     "start_time": "2021-10-05T13:31:03.010450",
     "status": "completed"
    },
    "tags": []
   },
   "outputs": [],
   "source": [
    "# Preprocess previous_applications.csv\n",
    "def previous_applications(num_rows = None, nan_as_category = True):\n",
    "    prev = pd.read_csv(PATH+'/previous_application.csv', nrows = num_rows)\n",
    "    prev, cat_cols = one_hot_encoder(prev, nan_as_category= True)\n",
    "    \n",
    "    # Days 365.243 values -> nan\n",
    "    prev['DAYS_FIRST_DRAWING'].replace(365243, np.nan, inplace= True)\n",
    "    prev['DAYS_FIRST_DUE'].replace(365243, np.nan, inplace= True)\n",
    "    prev['DAYS_LAST_DUE_1ST_VERSION'].replace(365243, np.nan, inplace= True)\n",
    "    prev['DAYS_LAST_DUE'].replace(365243, np.nan, inplace= True)\n",
    "    prev['DAYS_TERMINATION'].replace(365243, np.nan, inplace= True)\n",
    "    \n",
    "    # Add feature: value ask / value received percentage\n",
    "    prev['APP_CREDIT_PERC'] = prev['AMT_APPLICATION'] / prev['AMT_CREDIT']\n",
    "    \n",
    "    # Previous applications numeric features\n",
    "    num_aggregations = {\n",
    "        'AMT_ANNUITY': [ 'max', 'mean'],\n",
    "        'AMT_APPLICATION': [ 'max','mean'],\n",
    "        'AMT_CREDIT': [ 'max', 'mean'],\n",
    "        'APP_CREDIT_PERC': [ 'max', 'mean'],\n",
    "        'AMT_DOWN_PAYMENT': [ 'max', 'mean'],\n",
    "        'AMT_GOODS_PRICE': [ 'max', 'mean'],\n",
    "        'HOUR_APPR_PROCESS_START': [ 'max', 'mean'],\n",
    "        'RATE_DOWN_PAYMENT': [ 'max', 'mean'],\n",
    "        'DAYS_DECISION': [ 'max', 'mean'],\n",
    "        'CNT_PAYMENT': ['mean', 'sum'],\n",
    "    }\n",
    "    \n",
    "    # Previous applications categorical features\n",
    "    cat_aggregations = {}\n",
    "    for cat in cat_cols:\n",
    "        cat_aggregations[cat] = ['mean']\n",
    "    \n",
    "    prev_agg = prev.groupby('SK_ID_CURR').agg({**num_aggregations, **cat_aggregations})\n",
    "    prev_agg.columns = pd.Index(['PREV_' + e[0] + \"_\" + e[1].upper() for e in prev_agg.columns.tolist()])\n",
    "    \n",
    "    # Previous Applications: Approved Applications - only numerical features\n",
    "    approved = prev[prev['NAME_CONTRACT_STATUS_Approved'] == 1]\n",
    "    approved_agg = approved.groupby('SK_ID_CURR').agg(num_aggregations)\n",
    "    approved_agg.columns = pd.Index(['APPROVED_' + e[0] + \"_\" + e[1].upper() for e in approved_agg.columns.tolist()])\n",
    "    prev_agg = prev_agg.join(approved_agg, how='left', on='SK_ID_CURR')\n",
    "    \n",
    "    # Previous Applications: Refused Applications - only numerical features\n",
    "    refused = prev[prev['NAME_CONTRACT_STATUS_Refused'] == 1]\n",
    "    refused_agg = refused.groupby('SK_ID_CURR').agg(num_aggregations)\n",
    "    refused_agg.columns = pd.Index(['REFUSED_' + e[0] + \"_\" + e[1].upper() for e in refused_agg.columns.tolist()])\n",
    "    \n",
    "    prev_agg = prev_agg.join(refused_agg, how='left', on='SK_ID_CURR')\n",
    "    del refused, refused_agg, approved, approved_agg, prev\n",
    "    gc.collect()\n",
    "    return prev_agg"
   ]
  },
  {
   "cell_type": "code",
   "execution_count": 24,
   "id": "ddc76200",
   "metadata": {
    "execution": {
     "iopub.execute_input": "2021-10-05T13:31:03.115521Z",
     "iopub.status.busy": "2021-10-05T13:31:03.114937Z",
     "iopub.status.idle": "2021-10-05T13:31:03.121262Z",
     "shell.execute_reply": "2021-10-05T13:31:03.121672Z",
     "shell.execute_reply.started": "2021-10-05T09:20:52.461776Z"
    },
    "papermill": {
     "duration": 0.038605,
     "end_time": "2021-10-05T13:31:03.121839",
     "exception": false,
     "start_time": "2021-10-05T13:31:03.083234",
     "status": "completed"
    },
    "tags": []
   },
   "outputs": [],
   "source": [
    "# Preprocess POS_CASH_balance.csv\n",
    "def pos_cash(num_rows = None, nan_as_category = True):\n",
    "    pos = pd.read_csv(PATH+'/POS_CASH_balance.csv', nrows = num_rows)\n",
    "    pos, cat_cols = one_hot_encoder(pos, nan_as_category= True)\n",
    "    # Features\n",
    "    aggregations = {\n",
    "        'MONTHS_BALANCE': ['max', 'mean', 'size'],\n",
    "        'SK_DPD': ['max', 'mean'],\n",
    "        'SK_DPD_DEF': ['max', 'mean']\n",
    "    }\n",
    "    for cat in cat_cols:\n",
    "        aggregations[cat] = ['mean']\n",
    "    \n",
    "    pos_agg = pos.groupby('SK_ID_CURR').agg(aggregations)\n",
    "    pos_agg.columns = pd.Index(['POS_' + e[0] + \"_\" + e[1].upper() for e in pos_agg.columns.tolist()])\n",
    "    \n",
    "    # Count pos cash accounts\n",
    "    pos_agg['POS_COUNT'] = pos.groupby('SK_ID_CURR').size()\n",
    "    del pos\n",
    "    gc.collect()\n",
    "    return pos_agg"
   ]
  },
  {
   "cell_type": "code",
   "execution_count": 25,
   "id": "6e440433",
   "metadata": {
    "execution": {
     "iopub.execute_input": "2021-10-05T13:31:03.193948Z",
     "iopub.status.busy": "2021-10-05T13:31:03.193013Z",
     "iopub.status.idle": "2021-10-05T13:31:03.195756Z",
     "shell.execute_reply": "2021-10-05T13:31:03.195280Z",
     "shell.execute_reply.started": "2021-10-05T09:20:52.47935Z"
    },
    "papermill": {
     "duration": 0.044494,
     "end_time": "2021-10-05T13:31:03.195900",
     "exception": false,
     "start_time": "2021-10-05T13:31:03.151406",
     "status": "completed"
    },
    "tags": []
   },
   "outputs": [],
   "source": [
    "# Preprocess installments_payments.csv\n",
    "def installments_payments(num_rows = None, nan_as_category = True):\n",
    "    ins = pd.read_csv(PATH+'/installments_payments.csv', nrows = num_rows)\n",
    "    ins, cat_cols = one_hot_encoder(ins, nan_as_category= True)\n",
    "    \n",
    "    # Percentage and difference paid in each installment (amount paid and installment value)\n",
    "    ins['PAYMENT_PERC'] = ins['AMT_PAYMENT'] / ins['AMT_INSTALMENT']\n",
    "    ins['PAYMENT_DIFF'] = ins['AMT_INSTALMENT'] - ins['AMT_PAYMENT']\n",
    "    \n",
    "    # Days past due and days before due (no negative values)\n",
    "    ins['DPD'] = ins['DAYS_ENTRY_PAYMENT'] - ins['DAYS_INSTALMENT']\n",
    "    ins['DBD'] = ins['DAYS_INSTALMENT'] - ins['DAYS_ENTRY_PAYMENT']\n",
    "    ins['DPD'] = ins['DPD'].apply(lambda x: x if x > 0 else 0)\n",
    "    ins['DBD'] = ins['DBD'].apply(lambda x: x if x > 0 else 0)\n",
    "    # Features: Perform aggregations\n",
    "    aggregations = {\n",
    "        'NUM_INSTALMENT_VERSION': ['nunique'],\n",
    "        'DPD': ['max', 'mean', 'sum','min','std' ],\n",
    "        'DBD': ['max', 'mean', 'sum','min','std'],\n",
    "        'PAYMENT_PERC': [ 'max','mean',  'var','min','std'],\n",
    "        'PAYMENT_DIFF': [ 'max','mean', 'var','min','std'],\n",
    "        'AMT_INSTALMENT': ['max', 'mean', 'sum','min','std'],\n",
    "        'AMT_PAYMENT': ['min', 'max', 'mean', 'sum','std'],\n",
    "        'DAYS_ENTRY_PAYMENT': ['max', 'mean', 'sum','std']\n",
    "    }\n",
    "    for cat in cat_cols:\n",
    "        aggregations[cat] = ['mean']\n",
    "    ins_agg = ins.groupby('SK_ID_CURR').agg(aggregations)\n",
    "    ins_agg.columns = pd.Index(['INSTAL_' + e[0] + \"_\" + e[1].upper() for e in ins_agg.columns.tolist()])\n",
    "    # Count installments accounts\n",
    "    ins_agg['INSTAL_COUNT'] = ins.groupby('SK_ID_CURR').size()\n",
    "    del ins\n",
    "    gc.collect()\n",
    "    return ins_agg"
   ]
  },
  {
   "cell_type": "code",
   "execution_count": 26,
   "id": "a4309970",
   "metadata": {
    "execution": {
     "iopub.execute_input": "2021-10-05T13:31:03.272983Z",
     "iopub.status.busy": "2021-10-05T13:31:03.272341Z",
     "iopub.status.idle": "2021-10-05T13:31:03.274151Z",
     "shell.execute_reply": "2021-10-05T13:31:03.274572Z",
     "shell.execute_reply.started": "2021-10-05T09:20:52.49843Z"
    },
    "papermill": {
     "duration": 0.050068,
     "end_time": "2021-10-05T13:31:03.274755",
     "exception": false,
     "start_time": "2021-10-05T13:31:03.224687",
     "status": "completed"
    },
    "tags": []
   },
   "outputs": [],
   "source": [
    "# Preprocess credit_card_balance.csv\n",
    "def credit_card_balance(num_rows = None, nan_as_category = True):\n",
    "    cc = pd.read_csv(PATH+'/credit_card_balance.csv', nrows = num_rows)\n",
    "    cc, cat_cols = one_hot_encoder(cc, nan_as_category= True)\n",
    "    # General aggregations\n",
    "    cc.drop(['SK_ID_PREV'], axis= 1, inplace = True)\n",
    "    cc_agg = cc.groupby('SK_ID_CURR').agg([ 'max', 'mean', 'sum', 'var'])\n",
    "    cc_agg.columns = pd.Index(['CC_' + e[0] + \"_\" + e[1].upper() for e in cc_agg.columns.tolist()])\n",
    "    # Count credit card lines\n",
    "    cc_agg['CC_COUNT'] = cc.groupby('SK_ID_CURR').size()\n",
    "    del cc\n",
    "    gc.collect()\n",
    "    return cc_agg"
   ]
  },
  {
   "cell_type": "code",
   "execution_count": 27,
   "id": "f7420035",
   "metadata": {
    "execution": {
     "iopub.execute_input": "2021-10-05T13:31:03.335335Z",
     "iopub.status.busy": "2021-10-05T13:31:03.334716Z",
     "iopub.status.idle": "2021-10-05T13:31:03.348238Z",
     "shell.execute_reply": "2021-10-05T13:31:03.348712Z",
     "shell.execute_reply.started": "2021-10-05T09:20:52.526775Z"
    },
    "papermill": {
     "duration": 0.045593,
     "end_time": "2021-10-05T13:31:03.348898",
     "exception": false,
     "start_time": "2021-10-05T13:31:03.303305",
     "status": "completed"
    },
    "tags": []
   },
   "outputs": [],
   "source": [
    "# LightGBM GBDT with KFold or Stratified KFold\n",
    "# Parameters from Tilii kernel: https://www.kaggle.com/tilii7/olivier-lightgbm-parameters-by-bayesian-opt/code\n",
    "def kfold_lightgbm(df, num_folds, stratified = False, debug= False):\n",
    "    # Divide in training/validation and test data\n",
    "    train_df = df[df['TARGET'].notnull()]\n",
    "    test_df = df[df['TARGET'].isnull()]\n",
    "    print(\"Starting LightGBM. Train shape: {}, test shape: {}\".format(train_df.shape, test_df.shape))\n",
    "    del df\n",
    "    gc.collect()\n",
    "    # Cross validation model\n",
    "    if stratified:\n",
    "        folds = StratifiedKFold(n_splits=num_folds, shuffle=True, random_state=47)\n",
    "    else:\n",
    "        folds = KFold(n_splits=num_folds, shuffle=True, random_state=47)\n",
    "    # Create arrays and dataframes to store results\n",
    "    oof_preds = np.zeros(train_df.shape[0])\n",
    "    sub_preds = np.zeros(test_df.shape[0])\n",
    "    feature_importance_df = pd.DataFrame()\n",
    "    feats = [f for f in train_df.columns if f not in ['TARGET','SK_ID_CURR','SK_ID_BUREAU','SK_ID_PREV','index']]\n",
    "    \n",
    "    for n_fold, (train_idx, valid_idx) in enumerate(folds.split(train_df[feats], train_df['TARGET'])):\n",
    "        train_x, train_y = train_df[feats].iloc[train_idx], train_df['TARGET'].iloc[train_idx]\n",
    "        valid_x, valid_y = train_df[feats].iloc[valid_idx], train_df['TARGET'].iloc[valid_idx]\n",
    "\n",
    "        # LightGBM parameters found by Bayesian optimization\n",
    "        clf = LGBMClassifier(\n",
    "            nthread=4,\n",
    "            #is_unbalance=True,\n",
    "            n_estimators=10000,\n",
    "            learning_rate=0.02,\n",
    "            num_leaves=32,\n",
    "            colsample_bytree=0.9497036,\n",
    "            subsample=0.8715623,\n",
    "            max_depth=8,\n",
    "            reg_alpha=0.04,\n",
    "            reg_lambda=0.073,\n",
    "            min_split_gain=0.0222415,\n",
    "            min_child_weight=40,\n",
    "            silent=-1,\n",
    "            verbose=-1,\n",
    "            #scale_pos_weight=11\n",
    "            )\n",
    "\n",
    "        clf.fit(train_x, train_y, eval_set=[(train_x, train_y), (valid_x, valid_y)], \n",
    "            eval_metric= 'auc', verbose=1000, early_stopping_rounds=200)\n",
    "\n",
    "        oof_preds[valid_idx] = clf.predict_proba(valid_x, num_iteration=clf.best_iteration_)[:, 1]\n",
    "        sub_preds += clf.predict_proba(test_df[feats], num_iteration=clf.best_iteration_)[:, 1] / folds.n_splits\n",
    "\n",
    "        fold_importance_df = pd.DataFrame()\n",
    "        fold_importance_df[\"feature\"] = feats\n",
    "        fold_importance_df[\"importance\"] = clf.feature_importances_\n",
    "        fold_importance_df[\"fold\"] = n_fold + 1\n",
    "        feature_importance_df = pd.concat([feature_importance_df, fold_importance_df], axis=0)\n",
    "        print('Fold %2d AUC : %.6f' % (n_fold + 1, roc_auc_score(valid_y, oof_preds[valid_idx])))\n",
    "        del clf, train_x, train_y, valid_x, valid_y\n",
    "        gc.collect()\n",
    "\n",
    "    print('Full AUC score %.6f' % roc_auc_score(train_df['TARGET'], oof_preds))\n",
    "    # Write submission file and plot feature importance\n",
    "    if not debug:\n",
    "        test_df['TARGET'] = sub_preds\n",
    "        test_df[['SK_ID_CURR', 'TARGET']].to_csv(submission_file_name, index=False)\n",
    "    display_importances(feature_importance_df)\n",
    "    return feature_importance_df"
   ]
  },
  {
   "cell_type": "code",
   "execution_count": 28,
   "id": "9d4768cf",
   "metadata": {
    "execution": {
     "iopub.execute_input": "2021-10-05T13:31:03.414487Z",
     "iopub.status.busy": "2021-10-05T13:31:03.413924Z",
     "iopub.status.idle": "2021-10-05T13:31:03.415406Z",
     "shell.execute_reply": "2021-10-05T13:31:03.415860Z",
     "shell.execute_reply.started": "2021-10-05T09:20:52.549639Z"
    },
    "papermill": {
     "duration": 0.037695,
     "end_time": "2021-10-05T13:31:03.416021",
     "exception": false,
     "start_time": "2021-10-05T13:31:03.378326",
     "status": "completed"
    },
    "tags": []
   },
   "outputs": [],
   "source": [
    "# Display/plot feature importance\n",
    "def display_importances(feature_importance_df_):\n",
    "    cols = feature_importance_df_[[\"feature\", \"importance\"]].groupby(\"feature\").mean().sort_values(by=\"importance\", ascending=False)[:40].index\n",
    "    best_features = feature_importance_df_.loc[feature_importance_df_.feature.isin(cols)]\n",
    "    plt.figure(figsize=(8, 10))\n",
    "    sns.barplot(x=\"importance\", y=\"feature\", data=best_features.sort_values(by=\"importance\", ascending=False))\n",
    "    plt.title('LightGBM Features (avg over folds)')\n",
    "    plt.tight_layout()\n",
    "    plt.savefig('lgbm_importances01.png')"
   ]
  },
  {
   "cell_type": "code",
   "execution_count": 29,
   "id": "7d581474",
   "metadata": {
    "execution": {
     "iopub.execute_input": "2021-10-05T13:31:03.476602Z",
     "iopub.status.busy": "2021-10-05T13:31:03.475993Z",
     "iopub.status.idle": "2021-10-05T13:31:03.484840Z",
     "shell.execute_reply": "2021-10-05T13:31:03.485304Z",
     "shell.execute_reply.started": "2021-10-05T09:20:52.567767Z"
    },
    "papermill": {
     "duration": 0.040644,
     "end_time": "2021-10-05T13:31:03.485470",
     "exception": false,
     "start_time": "2021-10-05T13:31:03.444826",
     "status": "completed"
    },
    "tags": []
   },
   "outputs": [],
   "source": [
    "def main(debug = False):\n",
    "    num_rows = 10000 if debug else None\n",
    "    df = application_train_test(num_rows)\n",
    "    with timer(\"Process bureau and bureau_balance\"):\n",
    "        bureau = bureau_and_balance(num_rows)\n",
    "        print(\"Bureau df shape:\", bureau.shape)\n",
    "        df = df.join(bureau, how='left', on='SK_ID_CURR')\n",
    "        del bureau\n",
    "        gc.collect()\n",
    "    with timer(\"Process previous_applications\"):\n",
    "        prev = previous_applications(num_rows)\n",
    "        print(\"Previous applications df shape:\", prev.shape)\n",
    "        df = df.join(prev, how='left', on='SK_ID_CURR')\n",
    "        del prev\n",
    "        gc.collect()\n",
    "    with timer(\"Process POS-CASH balance\"):\n",
    "        pos = pos_cash(num_rows)\n",
    "        print(\"Pos-cash balance df shape:\", pos.shape)\n",
    "        df = df.join(pos, how='left', on='SK_ID_CURR')\n",
    "        del pos\n",
    "        gc.collect()\n",
    "    with timer(\"Process installments payments\"):\n",
    "        ins = installments_payments(num_rows)\n",
    "        print(\"Installments payments df shape:\", ins.shape)\n",
    "        df = df.join(ins, how='left', on='SK_ID_CURR')\n",
    "        del ins\n",
    "        gc.collect()\n",
    "    with timer(\"Process credit card balance\"):\n",
    "        cc = credit_card_balance(num_rows)\n",
    "        print(\"Credit card balance df shape:\", cc.shape)\n",
    "        df = df.join(cc, how='left', on='SK_ID_CURR')\n",
    "        del cc\n",
    "        gc.collect()\n",
    "    with timer(\"Run LightGBM with kfold\"):\n",
    "        df = df.rename(columns = lambda x:re.sub('[^A-Za-z0-9_]+', '', x))\n",
    "        feat_importance = kfold_lightgbm(df, num_folds=7, stratified=False, debug=debug)"
   ]
  },
  {
   "cell_type": "code",
   "execution_count": 30,
   "id": "40675da1",
   "metadata": {
    "execution": {
     "iopub.execute_input": "2021-10-05T13:31:03.548160Z",
     "iopub.status.busy": "2021-10-05T13:31:03.547374Z",
     "iopub.status.idle": "2021-10-05T14:31:39.522331Z",
     "shell.execute_reply": "2021-10-05T14:31:39.522991Z",
     "shell.execute_reply.started": "2021-10-05T09:20:52.58371Z"
    },
    "papermill": {
     "duration": 3636.009581,
     "end_time": "2021-10-05T14:31:39.523856",
     "exception": false,
     "start_time": "2021-10-05T13:31:03.514275",
     "status": "completed"
    },
    "tags": []
   },
   "outputs": [
    {
     "name": "stdout",
     "output_type": "stream",
     "text": [
      "Train samples: 307511, test samples: 48744\n",
      "Bureau df shape: (305811, 95)\n",
      "Process bureau and bureau_balance - done in 21s\n",
      "Previous applications df shape: (338857, 219)\n",
      "Process previous_applications - done in 22s\n",
      "Pos-cash balance df shape: (337252, 18)\n",
      "Process POS-CASH balance - done in 12s\n",
      "Installments payments df shape: (339587, 36)\n",
      "Process installments payments - done in 31s\n",
      "Credit card balance df shape: (103558, 113)\n",
      "Process credit card balance - done in 21s\n",
      "Starting LightGBM. Train shape: (307507, 721), test shape: (48744, 721)\n",
      "[LightGBM] [Warning] num_threads is set with nthread=4, will be overridden by n_jobs=-1. Current value: num_threads=-1\n",
      "Training until validation scores don't improve for 200 rounds\n",
      "[1000]\ttraining's auc: 0.855703\ttraining's binary_logloss: 0.210004\tvalid_1's auc: 0.790196\tvalid_1's binary_logloss: 0.240553\n",
      "Early stopping, best iteration is:\n",
      "[1786]\ttraining's auc: 0.888641\ttraining's binary_logloss: 0.195141\tvalid_1's auc: 0.791569\tvalid_1's binary_logloss: 0.240138\n",
      "Fold  1 AUC : 0.791569\n",
      "[LightGBM] [Warning] num_threads is set with nthread=4, will be overridden by n_jobs=-1. Current value: num_threads=-1\n",
      "Training until validation scores don't improve for 200 rounds\n",
      "[1000]\ttraining's auc: 0.85493\ttraining's binary_logloss: 0.211279\tvalid_1's auc: 0.790041\tvalid_1's binary_logloss: 0.234703\n",
      "[2000]\ttraining's auc: 0.89548\ttraining's binary_logloss: 0.192592\tvalid_1's auc: 0.792262\tvalid_1's binary_logloss: 0.234077\n",
      "Early stopping, best iteration is:\n",
      "[1809]\ttraining's auc: 0.889016\ttraining's binary_logloss: 0.195808\tvalid_1's auc: 0.792257\tvalid_1's binary_logloss: 0.23406\n",
      "Fold  2 AUC : 0.792257\n",
      "[LightGBM] [Warning] num_threads is set with nthread=4, will be overridden by n_jobs=-1. Current value: num_threads=-1\n",
      "Training until validation scores don't improve for 200 rounds\n",
      "[1000]\ttraining's auc: 0.855597\ttraining's binary_logloss: 0.211236\tvalid_1's auc: 0.791852\tvalid_1's binary_logloss: 0.23398\n",
      "Early stopping, best iteration is:\n",
      "[1459]\ttraining's auc: 0.876575\ttraining's binary_logloss: 0.201898\tvalid_1's auc: 0.792454\tvalid_1's binary_logloss: 0.233726\n",
      "Fold  3 AUC : 0.792454\n",
      "[LightGBM] [Warning] num_threads is set with nthread=4, will be overridden by n_jobs=-1. Current value: num_threads=-1\n",
      "Training until validation scores don't improve for 200 rounds\n",
      "[1000]\ttraining's auc: 0.856291\ttraining's binary_logloss: 0.211042\tvalid_1's auc: 0.788093\tvalid_1's binary_logloss: 0.233476\n",
      "[2000]\ttraining's auc: 0.896915\ttraining's binary_logloss: 0.192166\tvalid_1's auc: 0.78993\tvalid_1's binary_logloss: 0.232976\n",
      "Early stopping, best iteration is:\n",
      "[1803]\ttraining's auc: 0.890115\ttraining's binary_logloss: 0.19557\tvalid_1's auc: 0.790033\tvalid_1's binary_logloss: 0.232928\n",
      "Fold  4 AUC : 0.790033\n",
      "[LightGBM] [Warning] num_threads is set with nthread=4, will be overridden by n_jobs=-1. Current value: num_threads=-1\n",
      "Training until validation scores don't improve for 200 rounds\n",
      "[1000]\ttraining's auc: 0.855229\ttraining's binary_logloss: 0.211724\tvalid_1's auc: 0.793235\tvalid_1's binary_logloss: 0.230988\n",
      "Early stopping, best iteration is:\n",
      "[1504]\ttraining's auc: 0.877657\ttraining's binary_logloss: 0.201777\tvalid_1's auc: 0.793913\tvalid_1's binary_logloss: 0.230733\n",
      "Fold  5 AUC : 0.793913\n",
      "[LightGBM] [Warning] num_threads is set with nthread=4, will be overridden by n_jobs=-1. Current value: num_threads=-1\n",
      "Training until validation scores don't improve for 200 rounds\n",
      "[1000]\ttraining's auc: 0.856077\ttraining's binary_logloss: 0.210131\tvalid_1's auc: 0.78806\tvalid_1's binary_logloss: 0.239087\n",
      "Early stopping, best iteration is:\n",
      "[1652]\ttraining's auc: 0.884716\ttraining's binary_logloss: 0.197342\tvalid_1's auc: 0.789193\tvalid_1's binary_logloss: 0.238831\n",
      "Fold  6 AUC : 0.789193\n",
      "[LightGBM] [Warning] num_threads is set with nthread=4, will be overridden by n_jobs=-1. Current value: num_threads=-1\n",
      "Training until validation scores don't improve for 200 rounds\n",
      "[1000]\ttraining's auc: 0.85612\ttraining's binary_logloss: 0.210066\tvalid_1's auc: 0.786378\tvalid_1's binary_logloss: 0.240535\n",
      "Early stopping, best iteration is:\n",
      "[1430]\ttraining's auc: 0.87562\ttraining's binary_logloss: 0.201568\tvalid_1's auc: 0.786976\tvalid_1's binary_logloss: 0.240296\n",
      "Fold  7 AUC : 0.786976\n",
      "Full AUC score 0.790885\n"
     ]
    },
    {
     "name": "stderr",
     "output_type": "stream",
     "text": [
      "/opt/conda/lib/python3.7/site-packages/ipykernel_launcher.py:62: SettingWithCopyWarning: \n",
      "A value is trying to be set on a copy of a slice from a DataFrame.\n",
      "Try using .loc[row_indexer,col_indexer] = value instead\n",
      "\n",
      "See the caveats in the documentation: https://pandas.pydata.org/pandas-docs/stable/user_guide/indexing.html#returning-a-view-versus-a-copy\n"
     ]
    },
    {
     "name": "stdout",
     "output_type": "stream",
     "text": [
      "Run LightGBM with kfold - done in 3520s\n",
      "Full model run - done in 3636s\n"
     ]
    },
    {
     "data": {
      "image/png": "[encoded data removed]",
      "text/plain": [
       "<Figure size 576x720 with 1 Axes>"
      ]
     },
     "metadata": {
      "needs_background": "light"
     },
     "output_type": "display_data"
    }
   ],
   "source": [
    "if __name__ == \"__main__\":\n",
    "    submission_file_name = \"submission.csv\"\n",
    "    with timer(\"Full model run\"):\n",
    "        main()"
   ]
  },
  {
   "cell_type": "code",
   "execution_count": null,
   "id": "62889858",
   "metadata": {
    "papermill": {
     "duration": 0.042673,
     "end_time": "2021-10-05T14:31:39.610450",
     "exception": false,
     "start_time": "2021-10-05T14:31:39.567777",
     "status": "completed"
    },
    "tags": []
   },
   "outputs": [],
   "source": []
  }
 ],
 "metadata": {
  "kernelspec": {
   "display_name": "Python 3 (ipykernel)",
   "language": "python",
   "name": "python3"
  },
  "language_info": {
   "codemirror_mode": {
    "name": "ipython",
    "version": 3
   },
   "file_extension": ".py",
   "mimetype": "text/x-python",
   "name": "python",
   "nbconvert_exporter": "python",
   "pygments_lexer": "ipython3",
   "version": "3.9.7"
  },
  "papermill": {
   "default_parameters": {},
   "duration": 3717.77526,
   "end_time": "2021-10-05T14:31:42.031488",
   "environment_variables": {},
   "exception": null,
   "input_path": "__notebook__.ipynb",
   "output_path": "__notebook__.ipynb",
   "parameters": {},
   "start_time": "2021-10-05T13:29:44.256228",
   "version": "2.3.3"
  }
 },
 "nbformat": 4,
 "nbformat_minor": 5
}
