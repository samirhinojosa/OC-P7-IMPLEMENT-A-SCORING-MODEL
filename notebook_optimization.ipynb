{
 "cells": [
  {
   "cell_type": "markdown",
   "id": "c8e6a558-388d-43bc-a18f-fa2f11c91b62",
   "metadata": {
    "tags": []
   },
   "source": [
    "<div style=\"display: flex; background-color: #3F579F;\">\n",
    "    <h1 style=\"margin: auto; font-weight: bold; padding: 30px 30px 0px 30px; color:#fff;\" align=\"center\">Implement a scoring model - P7</h1>\n",
    "</div>\n",
    "<div style=\"display: flex; background-color: #3F579F; margin: auto; padding: 5px 30px 0px 30px;\" >\n",
    "    <h3 style=\"width: 100%; text-align: center; float: left; font-size: 24px; color:#fff;\" align=\"center\">| Notebook optimization |</h3>\n",
    "</div>\n",
    "<div style=\"display: flex; background-color: #3F579F; margin: auto; padding: 10px 30px 30px 30px;\">\n",
    "    <h4 style=\"width: 100%; text-align: center; float: left; font-size: 24px; color:#fff;\" align=\"center\">Data Scientist course - OpenClassrooms</h4>\n",
    "</div>"
   ]
  },
  {
   "cell_type": "markdown",
   "id": "a071f085-b566-4595-a02b-30aa8064888b",
   "metadata": {
    "tags": []
   },
   "source": [
    "<div style=\"background-color: #506AB9;\" >\n",
    "    <h2 style=\"margin: auto; padding: 20px; color:#fff; \">1. Libraries and files</h2>\n",
    "</div>"
   ]
  },
  {
   "cell_type": "markdown",
   "id": "b1409272-303e-46f2-b6a6-729a491957fa",
   "metadata": {
    "tags": []
   },
   "source": [
    "<div style=\"background-color: #506AB9;\" >\n",
    "    <h3 style=\"margin: auto; padding: 20px; color:#fff; \">1.1. Libraries</h3>\n",
    "</div>"
   ]
  },
  {
   "cell_type": "code",
   "execution_count": 1,
   "id": "d22e0155-efb4-4760-af1a-323097c5535f",
   "metadata": {},
   "outputs": [],
   "source": [
    "import re\n",
    "import numpy as np\n",
    "import pandas as pd\n",
    "from functools import partial\n",
    "\n",
    "from imblearn.over_sampling import SMOTE\n",
    "\n",
    "import lightgbm as lgb\n",
    "from lightgbm import LGBMClassifier\n",
    "from sklearn.metrics import roc_auc_score, precision_recall_curve, confusion_matrix\n",
    "from sklearn.model_selection import KFold, StratifiedKFold\n",
    "from sklearn.preprocessing import StandardScaler\n",
    "\n",
    "# Hyperparametrization\n",
    "from hyperopt import tpe, hp, fmin, STATUS_OK, Trials, space_eval\n",
    "from hyperopt.pyll.base import scope\n",
    "\n",
    "## Own specific functions \n",
    "from functions import *"
   ]
  },
  {
   "cell_type": "markdown",
   "id": "9bb1ffa2-35ac-4f10-9fa9-9ccfd298a666",
   "metadata": {
    "tags": []
   },
   "source": [
    "<div style=\"background-color: #506AB9;\" >\n",
    "    <h3 style=\"margin: auto; padding: 20px; color:#fff; \">1.2. Files</h3>\n",
    "</div>"
   ]
  },
  {
   "cell_type": "code",
   "execution_count": 2,
   "id": "3a80f568-509b-4a73-b15c-21641a3c45e0",
   "metadata": {
    "tags": []
   },
   "outputs": [],
   "source": [
    "df = pd.read_csv(r\"datasets\\df_processed.csv\", nrows=30000)\n",
    "df = df.drop(columns=[\"index\"])"
   ]
  },
  {
   "cell_type": "code",
   "execution_count": 3,
   "id": "74493351-a229-425e-938f-6a5b71f5a573",
   "metadata": {},
   "outputs": [
    {
     "name": "stdout",
     "output_type": "stream",
     "text": [
      "\n",
      "Analysis Header of df dataset\n",
      "--------------------------------------------------------------------------------\n",
      "- Dataset shape:\t\t\t 30000 rows and 797 columns\n",
      "- Total of NaN values:\t\t\t 6202771\n",
      "- Percentage of NaN:\t\t\t 25.94 %\n",
      "- Total of infinite values:\t\t 1\n",
      "- Percentage of infinite values:\t 0.0 %\n",
      "- Total of full duplicates rows:\t 0\n",
      "- Total of empty rows:\t\t\t 0\n",
      "- Total of empty columns:\t\t 0\n",
      "- Unique indexes:\t\t\t True\n",
      "- Memory usage:\t\t\t\t 182.4 MB\n"
     ]
    }
   ],
   "source": [
    "df_analysis(df, \"df\", analysis_type=\"header\")"
   ]
  },
  {
   "cell_type": "markdown",
   "id": "21180556-e4ee-491b-a965-fe2d527bf30d",
   "metadata": {
    "tags": []
   },
   "source": [
    "<div class=\"alert alert-block alert-warning\">\n",
    "    <p><b>Observations / Conclusions</b></p>\n",
    "    <ul style=\"list-style-type: square;\">\n",
    "        <li><b>Missing values</b> - There are 25.39% of missing-values to treat</li>\n",
    "        <li><b>Infinite values</b> - There are 25 infinite values</li>\n",
    "    </ul> \n",
    "</div>"
   ]
  },
  {
   "cell_type": "markdown",
   "id": "245be731-490e-4a73-aa06-e1734da6f912",
   "metadata": {
    "tags": []
   },
   "source": [
    "<div style=\"background-color: #506AB9;\" >\n",
    "    <h4 style=\"margin: auto; padding: 20px; color:#fff; \">1.2.1 Optimizing memory usage</h4>\n",
    "</div>"
   ]
  },
  {
   "cell_type": "markdown",
   "id": "7199b033-4e22-44bd-9d31-aa86ad42b221",
   "metadata": {
    "tags": []
   },
   "source": [
    "<div class=\"alert alert-block alert-info\">\n",
    "    <p>We should optimize the memory usage to avoid problems during executions</p>\n",
    "</div>"
   ]
  },
  {
   "cell_type": "code",
   "execution_count": 4,
   "id": "fd3c4cc6-2c06-4747-a3cc-d0fdd4f9b16a",
   "metadata": {},
   "outputs": [],
   "source": [
    "df[\"TARGET\"].fillna(value=-99, inplace=True)\n",
    "df[\"TARGET\"] = df[\"TARGET\"].astype(\"int8\")\n",
    "df[\"TARGET\"] = df[\"TARGET\"].replace(-99, np.nan)"
   ]
  },
  {
   "cell_type": "code",
   "execution_count": 5,
   "id": "bbdf298a-6415-49e7-a04a-73127d97c5e1",
   "metadata": {},
   "outputs": [],
   "source": [
    "for col in df.columns:\n",
    "    if df[col].dtype == \"int64\" and df[col].nunique() == 2:\n",
    "        df[col] = df[col].astype(\"int8\")"
   ]
  },
  {
   "cell_type": "code",
   "execution_count": 6,
   "id": "e3bae372-a3fb-43ad-a6b3-24c589f88922",
   "metadata": {},
   "outputs": [],
   "source": [
    "for col in df.columns:\n",
    "    if df[col].dtype == \"float64\" and df[col].min() >= -2147483648 and df[col].max() <= 2147483648:\n",
    "        df[col] = df[col].astype(\"float32\")"
   ]
  },
  {
   "cell_type": "code",
   "execution_count": 7,
   "id": "4bfbce33-ea3f-4262-b87a-652787443ba2",
   "metadata": {},
   "outputs": [
    {
     "name": "stdout",
     "output_type": "stream",
     "text": [
      "\n",
      "Analysis Header of df dataset\n",
      "--------------------------------------------------------------------------------\n",
      "- Dataset shape:\t\t\t 30000 rows and 797 columns\n",
      "- Total of NaN values:\t\t\t 6202771\n",
      "- Percentage of NaN:\t\t\t 25.94 %\n",
      "- Total of infinite values:\t\t 1\n",
      "- Percentage of infinite values:\t 0.0 %\n",
      "- Total of full duplicates rows:\t 0\n",
      "- Total of empty rows:\t\t\t 0\n",
      "- Total of empty columns:\t\t 0\n",
      "- Unique indexes:\t\t\t True\n",
      "- Memory usage:\t\t\t\t 79.6 MB\n"
     ]
    }
   ],
   "source": [
    "df_analysis(df, \"df\", analysis_type=\"header\")"
   ]
  },
  {
   "cell_type": "code",
   "execution_count": 8,
   "id": "d0b51422-0f82-4622-aa77-c47fdd6ad43c",
   "metadata": {},
   "outputs": [
    {
     "data": {
      "text/html": [
       "<div>\n",
       "<style scoped>\n",
       "    .dataframe tbody tr th:only-of-type {\n",
       "        vertical-align: middle;\n",
       "    }\n",
       "\n",
       "    .dataframe tbody tr th {\n",
       "        vertical-align: top;\n",
       "    }\n",
       "\n",
       "    .dataframe thead th {\n",
       "        text-align: right;\n",
       "    }\n",
       "</style>\n",
       "<table border=\"1\" class=\"dataframe\">\n",
       "  <thead>\n",
       "    <tr style=\"text-align: right;\">\n",
       "      <th></th>\n",
       "      <th>SK_ID_CURR</th>\n",
       "      <th>TARGET</th>\n",
       "      <th>CODE_GENDER</th>\n",
       "      <th>FLAG_OWN_CAR</th>\n",
       "      <th>FLAG_OWN_REALTY</th>\n",
       "      <th>CNT_CHILDREN</th>\n",
       "      <th>AMT_INCOME_TOTAL</th>\n",
       "      <th>AMT_CREDIT</th>\n",
       "      <th>AMT_ANNUITY</th>\n",
       "      <th>AMT_GOODS_PRICE</th>\n",
       "      <th>...</th>\n",
       "      <th>CC_NAME_CONTRACT_STATUS_Signed_MAX</th>\n",
       "      <th>CC_NAME_CONTRACT_STATUS_Signed_MEAN</th>\n",
       "      <th>CC_NAME_CONTRACT_STATUS_Signed_SUM</th>\n",
       "      <th>CC_NAME_CONTRACT_STATUS_Signed_VAR</th>\n",
       "      <th>CC_NAME_CONTRACT_STATUS_nan_MIN</th>\n",
       "      <th>CC_NAME_CONTRACT_STATUS_nan_MAX</th>\n",
       "      <th>CC_NAME_CONTRACT_STATUS_nan_MEAN</th>\n",
       "      <th>CC_NAME_CONTRACT_STATUS_nan_SUM</th>\n",
       "      <th>CC_NAME_CONTRACT_STATUS_nan_VAR</th>\n",
       "      <th>CC_COUNT</th>\n",
       "    </tr>\n",
       "  </thead>\n",
       "  <tbody>\n",
       "    <tr>\n",
       "      <th>0</th>\n",
       "      <td>100002</td>\n",
       "      <td>1</td>\n",
       "      <td>0</td>\n",
       "      <td>0</td>\n",
       "      <td>0</td>\n",
       "      <td>0</td>\n",
       "      <td>202500.0</td>\n",
       "      <td>406597.5</td>\n",
       "      <td>24700.5</td>\n",
       "      <td>351000.0</td>\n",
       "      <td>...</td>\n",
       "      <td>NaN</td>\n",
       "      <td>NaN</td>\n",
       "      <td>NaN</td>\n",
       "      <td>NaN</td>\n",
       "      <td>NaN</td>\n",
       "      <td>NaN</td>\n",
       "      <td>NaN</td>\n",
       "      <td>NaN</td>\n",
       "      <td>NaN</td>\n",
       "      <td>NaN</td>\n",
       "    </tr>\n",
       "    <tr>\n",
       "      <th>1</th>\n",
       "      <td>100003</td>\n",
       "      <td>0</td>\n",
       "      <td>1</td>\n",
       "      <td>0</td>\n",
       "      <td>1</td>\n",
       "      <td>0</td>\n",
       "      <td>270000.0</td>\n",
       "      <td>1293502.5</td>\n",
       "      <td>35698.5</td>\n",
       "      <td>1129500.0</td>\n",
       "      <td>...</td>\n",
       "      <td>NaN</td>\n",
       "      <td>NaN</td>\n",
       "      <td>NaN</td>\n",
       "      <td>NaN</td>\n",
       "      <td>NaN</td>\n",
       "      <td>NaN</td>\n",
       "      <td>NaN</td>\n",
       "      <td>NaN</td>\n",
       "      <td>NaN</td>\n",
       "      <td>NaN</td>\n",
       "    </tr>\n",
       "    <tr>\n",
       "      <th>2</th>\n",
       "      <td>100004</td>\n",
       "      <td>0</td>\n",
       "      <td>0</td>\n",
       "      <td>1</td>\n",
       "      <td>0</td>\n",
       "      <td>0</td>\n",
       "      <td>67500.0</td>\n",
       "      <td>135000.0</td>\n",
       "      <td>6750.0</td>\n",
       "      <td>135000.0</td>\n",
       "      <td>...</td>\n",
       "      <td>NaN</td>\n",
       "      <td>NaN</td>\n",
       "      <td>NaN</td>\n",
       "      <td>NaN</td>\n",
       "      <td>NaN</td>\n",
       "      <td>NaN</td>\n",
       "      <td>NaN</td>\n",
       "      <td>NaN</td>\n",
       "      <td>NaN</td>\n",
       "      <td>NaN</td>\n",
       "    </tr>\n",
       "    <tr>\n",
       "      <th>3</th>\n",
       "      <td>100006</td>\n",
       "      <td>0</td>\n",
       "      <td>1</td>\n",
       "      <td>0</td>\n",
       "      <td>0</td>\n",
       "      <td>0</td>\n",
       "      <td>135000.0</td>\n",
       "      <td>312682.5</td>\n",
       "      <td>29686.5</td>\n",
       "      <td>297000.0</td>\n",
       "      <td>...</td>\n",
       "      <td>0.0</td>\n",
       "      <td>0.0</td>\n",
       "      <td>0.0</td>\n",
       "      <td>0.0</td>\n",
       "      <td>0.0</td>\n",
       "      <td>0.0</td>\n",
       "      <td>0.0</td>\n",
       "      <td>0.0</td>\n",
       "      <td>0.0</td>\n",
       "      <td>6.0</td>\n",
       "    </tr>\n",
       "    <tr>\n",
       "      <th>4</th>\n",
       "      <td>100007</td>\n",
       "      <td>0</td>\n",
       "      <td>0</td>\n",
       "      <td>0</td>\n",
       "      <td>0</td>\n",
       "      <td>0</td>\n",
       "      <td>121500.0</td>\n",
       "      <td>513000.0</td>\n",
       "      <td>21865.5</td>\n",
       "      <td>513000.0</td>\n",
       "      <td>...</td>\n",
       "      <td>NaN</td>\n",
       "      <td>NaN</td>\n",
       "      <td>NaN</td>\n",
       "      <td>NaN</td>\n",
       "      <td>NaN</td>\n",
       "      <td>NaN</td>\n",
       "      <td>NaN</td>\n",
       "      <td>NaN</td>\n",
       "      <td>NaN</td>\n",
       "      <td>NaN</td>\n",
       "    </tr>\n",
       "  </tbody>\n",
       "</table>\n",
       "<p>5 rows × 797 columns</p>\n",
       "</div>"
      ],
      "text/plain": [
       "   SK_ID_CURR  TARGET  CODE_GENDER  FLAG_OWN_CAR  FLAG_OWN_REALTY  \\\n",
       "0      100002       1            0             0                0   \n",
       "1      100003       0            1             0                1   \n",
       "2      100004       0            0             1                0   \n",
       "3      100006       0            1             0                0   \n",
       "4      100007       0            0             0                0   \n",
       "\n",
       "   CNT_CHILDREN  AMT_INCOME_TOTAL  AMT_CREDIT  AMT_ANNUITY  AMT_GOODS_PRICE  \\\n",
       "0             0          202500.0    406597.5      24700.5         351000.0   \n",
       "1             0          270000.0   1293502.5      35698.5        1129500.0   \n",
       "2             0           67500.0    135000.0       6750.0         135000.0   \n",
       "3             0          135000.0    312682.5      29686.5         297000.0   \n",
       "4             0          121500.0    513000.0      21865.5         513000.0   \n",
       "\n",
       "   ...  CC_NAME_CONTRACT_STATUS_Signed_MAX  \\\n",
       "0  ...                                 NaN   \n",
       "1  ...                                 NaN   \n",
       "2  ...                                 NaN   \n",
       "3  ...                                 0.0   \n",
       "4  ...                                 NaN   \n",
       "\n",
       "   CC_NAME_CONTRACT_STATUS_Signed_MEAN  CC_NAME_CONTRACT_STATUS_Signed_SUM  \\\n",
       "0                                  NaN                                 NaN   \n",
       "1                                  NaN                                 NaN   \n",
       "2                                  NaN                                 NaN   \n",
       "3                                  0.0                                 0.0   \n",
       "4                                  NaN                                 NaN   \n",
       "\n",
       "   CC_NAME_CONTRACT_STATUS_Signed_VAR  CC_NAME_CONTRACT_STATUS_nan_MIN  \\\n",
       "0                                 NaN                              NaN   \n",
       "1                                 NaN                              NaN   \n",
       "2                                 NaN                              NaN   \n",
       "3                                 0.0                              0.0   \n",
       "4                                 NaN                              NaN   \n",
       "\n",
       "   CC_NAME_CONTRACT_STATUS_nan_MAX  CC_NAME_CONTRACT_STATUS_nan_MEAN  \\\n",
       "0                              NaN                               NaN   \n",
       "1                              NaN                               NaN   \n",
       "2                              NaN                               NaN   \n",
       "3                              0.0                               0.0   \n",
       "4                              NaN                               NaN   \n",
       "\n",
       "   CC_NAME_CONTRACT_STATUS_nan_SUM  CC_NAME_CONTRACT_STATUS_nan_VAR  CC_COUNT  \n",
       "0                              NaN                              NaN       NaN  \n",
       "1                              NaN                              NaN       NaN  \n",
       "2                              NaN                              NaN       NaN  \n",
       "3                              0.0                              0.0       6.0  \n",
       "4                              NaN                              NaN       NaN  \n",
       "\n",
       "[5 rows x 797 columns]"
      ]
     },
     "execution_count": 8,
     "metadata": {},
     "output_type": "execute_result"
    }
   ],
   "source": [
    "df.head()"
   ]
  },
  {
   "cell_type": "code",
   "execution_count": 9,
   "id": "4c976361-d20b-4524-8e90-1216ea16d730",
   "metadata": {},
   "outputs": [
    {
     "data": {
      "text/plain": [
       "[]"
      ]
     },
     "execution_count": 9,
     "metadata": {},
     "output_type": "execute_result"
    }
   ],
   "source": [
    "df.select_dtypes(include=[\"object\"]).columns.tolist()"
   ]
  },
  {
   "cell_type": "markdown",
   "id": "3c1d9b87-1c33-4b34-bc51-bd03eead474a",
   "metadata": {
    "tags": []
   },
   "source": [
    "<div class=\"alert alert-block alert-warning\">\n",
    "    <p><b>Observations / Conclusions</b></p>\n",
    "    <ul style=\"list-style-type: square;\">\n",
    "        <li><b>Columns type</b> - All columns are numerics</li>\n",
    "    </ul> \n",
    "</div>"
   ]
  },
  {
   "cell_type": "markdown",
   "id": "151a589c-007e-45c4-8f30-a08abe6d9c0c",
   "metadata": {
    "tags": []
   },
   "source": [
    "<div style=\"background-color: #506AB9;\" >\n",
    "    <h4 style=\"margin: auto; padding: 20px; color:#fff; \">1.2.2. Missing-values</h4>\n",
    "</div>"
   ]
  },
  {
   "cell_type": "markdown",
   "id": "98c5ddd5-d467-4ba6-aae4-628c2f5e4da6",
   "metadata": {},
   "source": [
    "<div class=\"alert alert-block alert-info\">\n",
    "    <p>Before treating the class imbalance in the target, it is necessary to treat the missing-values in all the dataset, to do that, we are going to fill values with SimpleImputer\n",
    "   </p>\n",
    "    <p>Let's start by identifying the features with infinite-values and replace them by missing-values\n",
    "   </p>\n",
    "</div>\n",
    "</div>"
   ]
  },
  {
   "cell_type": "code",
   "execution_count": 10,
   "id": "28242a16-c849-47cd-8112-9c70f3867feb",
   "metadata": {},
   "outputs": [],
   "source": [
    "inf_cols = df.columns.to_series()[np.isinf(df).any()]"
   ]
  },
  {
   "cell_type": "code",
   "execution_count": 11,
   "id": "7c75fa23-35c2-46c9-b696-7cc4ce6b09f0",
   "metadata": {},
   "outputs": [],
   "source": [
    "for col in inf_cols:\n",
    "    df[col] = df[col].replace([np.inf, -np.inf], np.nan)"
   ]
  },
  {
   "cell_type": "code",
   "execution_count": 12,
   "id": "a24dcacd-7890-455a-b0c4-8412e5bacd87",
   "metadata": {},
   "outputs": [
    {
     "name": "stdout",
     "output_type": "stream",
     "text": [
      "\n",
      "Analysis Header of df dataset\n",
      "--------------------------------------------------------------------------------\n",
      "- Dataset shape:\t\t\t 30000 rows and 797 columns\n",
      "- Total of NaN values:\t\t\t 6202772\n",
      "- Percentage of NaN:\t\t\t 25.94 %\n",
      "- Total of infinite values:\t\t 0\n",
      "- Percentage of infinite values:\t 0.0 %\n",
      "- Total of full duplicates rows:\t 0\n",
      "- Total of empty rows:\t\t\t 0\n",
      "- Total of empty columns:\t\t 0\n",
      "- Unique indexes:\t\t\t True\n",
      "- Memory usage:\t\t\t\t 79.6 MB\n"
     ]
    }
   ],
   "source": [
    "df_analysis(df, \"df\", analysis_type=\"header\")"
   ]
  },
  {
   "cell_type": "markdown",
   "id": "cb5aaa67-c37d-4f58-9134-0c7c4f3e87c2",
   "metadata": {},
   "source": [
    "<div class=\"alert alert-block alert-info\">\n",
    "    <p>Let's continue by identifying the features with missing-values and excluding the TARGET\n",
    "   </p>\n",
    "</div>\n",
    "</div>"
   ]
  },
  {
   "cell_type": "code",
   "execution_count": 13,
   "id": "7ff4cd72-ecae-4c69-af5e-0fe411beb586",
   "metadata": {},
   "outputs": [],
   "source": [
    "nan_cols = [i for i in df.columns if i!=\"TARGET\" and df[i].isnull().any()]"
   ]
  },
  {
   "cell_type": "code",
   "execution_count": 14,
   "id": "7bef3993-9920-4c26-bff9-0ccfbee30a13",
   "metadata": {},
   "outputs": [],
   "source": [
    "for col in nan_cols:\n",
    "    mean_value = df[col].mean()\n",
    "    df[col].fillna(value=mean_value, inplace=True)"
   ]
  },
  {
   "cell_type": "code",
   "execution_count": 15,
   "id": "e464dfbf-f109-4d7e-961b-fc265d3f4b1b",
   "metadata": {},
   "outputs": [
    {
     "name": "stdout",
     "output_type": "stream",
     "text": [
      "\n",
      "Analysis Header of df dataset\n",
      "--------------------------------------------------------------------------------\n",
      "- Dataset shape:\t\t\t 30000 rows and 797 columns\n",
      "- Total of NaN values:\t\t\t 0\n",
      "- Percentage of NaN:\t\t\t 0.0 %\n",
      "- Total of infinite values:\t\t 0\n",
      "- Percentage of infinite values:\t 0.0 %\n",
      "- Total of full duplicates rows:\t 0\n",
      "- Total of empty rows:\t\t\t 0\n",
      "- Total of empty columns:\t\t 0\n",
      "- Unique indexes:\t\t\t True\n",
      "- Memory usage:\t\t\t\t 79.6 MB\n"
     ]
    }
   ],
   "source": [
    "df_analysis(df, \"df\", analysis_type=\"header\")"
   ]
  },
  {
   "cell_type": "markdown",
   "id": "43458410-f008-4855-85c4-0bd8fe1875e8",
   "metadata": {},
   "source": [
    "<div class=\"alert alert-block alert-success\">\n",
    "    <p>At this point, TARGET is the only column with missing-values</p>\n",
    "</div>"
   ]
  },
  {
   "cell_type": "code",
   "execution_count": 16,
   "id": "25f6a1f9-6516-45fa-9b54-f1aacdf808ef",
   "metadata": {},
   "outputs": [],
   "source": [
    "# saving the optimized dataset \n",
    "#df.to_csv(\"datasets\\df_optimized.csv\", index=False)"
   ]
  },
  {
   "cell_type": "markdown",
   "id": "6d7b3692-7168-4556-a444-7000fe8cf359",
   "metadata": {
    "tags": []
   },
   "source": [
    "<div style=\"background-color: #506AB9;\" >\n",
    "    <h2 style=\"margin: auto; padding: 20px; color:#fff; \">2. Class Imbalance</h2>\n",
    "</div>"
   ]
  },
  {
   "cell_type": "markdown",
   "id": "4ba6c676-4953-4bb5-9150-73f6ec693656",
   "metadata": {
    "tags": []
   },
   "source": [
    "<div style=\"background-color: #506AB9;\" >\n",
    "    <h3 style=\"margin: auto; padding: 20px; color:#fff; \">2.1. Verifying</h3>\n",
    "</div>"
   ]
  },
  {
   "cell_type": "markdown",
   "id": "22f556a9-7a48-4510-89f1-db14b0193864",
   "metadata": {
    "tags": []
   },
   "source": [
    "<div class=\"alert alert-block alert-info\">\n",
    "    <p>Now, we are going to analyze in details, whether ours target has an imbalanced class\n",
    "   </p>\n",
    "</div>"
   ]
  },
  {
   "cell_type": "code",
   "execution_count": 17,
   "id": "3fe0ccbb-a491-4052-9137-7fe1ff0018f4",
   "metadata": {},
   "outputs": [
    {
     "data": {
      "image/png": "[encoded data removed]",
      "text/plain": [
       "<Figure size 648x360 with 2 Axes>"
      ]
     },
     "metadata": {
      "needs_background": "light"
     },
     "output_type": "display_data"
    }
   ],
   "source": [
    "barplot_and_pie(df[\"TARGET\"], \"Target distribution\", \" \")"
   ]
  },
  {
   "cell_type": "markdown",
   "id": "d6d6de84-3c5c-41dd-9448-1d183d0f6dcf",
   "metadata": {
    "tags": []
   },
   "source": [
    "<div class=\"alert alert-block alert-warning\">\n",
    "    <p>Here we can see how much the dataset is imbalanced</p>\n",
    "    <p>It is easily identifying that there are <b>loans that were repaid (0)</b> in comparison of <b>loans that were not repaid (1)</b></p>   \n",
    "</div>"
   ]
  },
  {
   "cell_type": "markdown",
   "id": "e9556c81-dfd5-4fc2-a526-c3f136987135",
   "metadata": {
    "tags": []
   },
   "source": [
    "<div style=\"background-color: #506AB9;\" >\n",
    "    <h3 style=\"margin: auto; padding: 20px; color:#fff; \">2.2. Smote</h3>\n",
    "</div>"
   ]
  },
  {
   "cell_type": "markdown",
   "id": "0af57235-8866-455c-9bd8-6d233eb75afc",
   "metadata": {
    "tags": []
   },
   "source": [
    "<div class=\"alert alert-block alert-info\">\n",
    "    <p>To treat the Imbalanced class, we are going to use a type of data augmentation for the minority class (Oversampling) where new examples can be synthesized from the existing examples and it is referred as the Synthetic Minority Oversampling Technique - SMOTE.</p>\n",
    "</div>"
   ]
  },
  {
   "cell_type": "code",
   "execution_count": 18,
   "id": "daf42ff3-cd0f-46c1-8eb0-0bd4a588fbbe",
   "metadata": {},
   "outputs": [],
   "source": [
    "train_df = df[df[\"TARGET\"].notnull()]\n",
    "test_df = df[df[\"TARGET\"].isnull()]"
   ]
  },
  {
   "cell_type": "code",
   "execution_count": 19,
   "id": "2a4a3235-1afe-49f0-a034-98432f3cc436",
   "metadata": {},
   "outputs": [],
   "source": [
    "X = train_df.drop(columns=[\"TARGET\"])"
   ]
  },
  {
   "cell_type": "code",
   "execution_count": 20,
   "id": "2777bbf4-bead-442f-81e2-daf04bee4368",
   "metadata": {},
   "outputs": [],
   "source": [
    "y = train_df.loc[:,\"TARGET\"]"
   ]
  },
  {
   "cell_type": "markdown",
   "id": "3d314dcc-7381-45c3-9968-740741372404",
   "metadata": {
    "tags": []
   },
   "source": [
    "<div class=\"alert alert-block alert-info\">\n",
    "    <p>Initializing SMOTE</p>\n",
    "</div>"
   ]
  },
  {
   "cell_type": "code",
   "execution_count": 21,
   "id": "1751ce9b-bd95-4da0-a630-d8572ae487fc",
   "metadata": {},
   "outputs": [],
   "source": [
    "smote = SMOTE(sampling_strategy=\"auto\", k_neighbors=5, n_jobs=-1,\n",
    "              random_state=42)"
   ]
  },
  {
   "cell_type": "markdown",
   "id": "4f736573-772a-4c44-ac54-e8a5bcc5dcc5",
   "metadata": {
    "tags": []
   },
   "source": [
    "<div class=\"alert alert-block alert-info\">\n",
    "    <p>Executing SMOTE</p>\n",
    "</div>"
   ]
  },
  {
   "cell_type": "code",
   "execution_count": 22,
   "id": "3d4f553d-b9e8-4559-bd71-0c48359f3dfd",
   "metadata": {},
   "outputs": [],
   "source": [
    "X_resampled, y_resampled = smote.fit_resample(X, y)"
   ]
  },
  {
   "cell_type": "markdown",
   "id": "c22de8f3-2f74-4df6-a204-6548c9e2f5ee",
   "metadata": {
    "tags": []
   },
   "source": [
    "<div class=\"alert alert-block alert-info\">\n",
    "    <p>Finally, we can see the results</p>\n",
    "</div>"
   ]
  },
  {
   "cell_type": "code",
   "execution_count": 23,
   "id": "69cd5ce7-06c3-48c4-94a2-513ff782bff3",
   "metadata": {},
   "outputs": [
    {
     "data": {
      "image/png": "[encoded data removed]",
      "text/plain": [
       "<Figure size 648x360 with 2 Axes>"
      ]
     },
     "metadata": {
      "needs_background": "light"
     },
     "output_type": "display_data"
    }
   ],
   "source": [
    "barplot_and_pie(y_resampled, \"Target distribution\", \" \")"
   ]
  },
  {
   "cell_type": "markdown",
   "id": "71f90b4c-0cc7-460e-9034-b33024d428e1",
   "metadata": {
    "tags": []
   },
   "source": [
    "<div class=\"alert alert-block alert-success\">\n",
    "    <p>Now, we have the Target balanced</p>\n",
    "</div>"
   ]
  },
  {
   "cell_type": "markdown",
   "id": "1b5be0a5-5156-4549-b144-c2f9cf2b012b",
   "metadata": {
    "tags": []
   },
   "source": [
    "<div style=\"background-color: #506AB9;\" >\n",
    "    <h3 style=\"margin: auto; padding: 20px; color:#fff; \">2.4. Rebuild the dataset</h3>\n",
    "</div>"
   ]
  },
  {
   "cell_type": "markdown",
   "id": "bca5ca60-59a0-488f-9ec6-075703f1dae6",
   "metadata": {
    "tags": []
   },
   "source": [
    "<div class=\"alert alert-block alert-info\">\n",
    "    <p>Creating series with attributes</p>\n",
    "</div>"
   ]
  },
  {
   "cell_type": "code",
   "execution_count": 24,
   "id": "4e28a37d-71cb-43b7-9153-b4f8721e4548",
   "metadata": {},
   "outputs": [],
   "source": [
    "y_resampled  = pd.Series(y_resampled, name=\"TARGET\")"
   ]
  },
  {
   "cell_type": "markdown",
   "id": "00b614ab-e29f-410f-8051-c026e1395e84",
   "metadata": {
    "tags": []
   },
   "source": [
    "<div class=\"alert alert-block alert-info\">\n",
    "    <p>Merging result dataset with result series</p>\n",
    "</div>"
   ]
  },
  {
   "cell_type": "code",
   "execution_count": 25,
   "id": "f5351baa-4184-4543-a556-77bfe2f0829e",
   "metadata": {},
   "outputs": [],
   "source": [
    "df_resampled = X_resampled.merge(y_resampled, left_index=True, right_index=True)"
   ]
  },
  {
   "cell_type": "markdown",
   "id": "f9469820-d59e-4917-83a0-964af7a6a22b",
   "metadata": {
    "tags": []
   },
   "source": [
    "<div class=\"alert alert-block alert-info\">\n",
    "    <p>Concatenating the dataset</p>\n",
    "</div>"
   ]
  },
  {
   "cell_type": "code",
   "execution_count": 26,
   "id": "8a2abecf-7078-457a-b45b-b4bc91770112",
   "metadata": {},
   "outputs": [],
   "source": [
    "df_resampled = pd.concat([df_resampled, test_df])"
   ]
  },
  {
   "cell_type": "code",
   "execution_count": 27,
   "id": "2c66ec6b-f461-41e9-aa2b-5a6f1e8943d6",
   "metadata": {},
   "outputs": [],
   "source": [
    "# saving the resampled dataset \n",
    "#df_resampled.to_csv(\"datasets\\df_resampled.csv\", index=False)"
   ]
  },
  {
   "cell_type": "markdown",
   "id": "dfb84114-aede-4961-a72e-5257b2146886",
   "metadata": {
    "tags": []
   },
   "source": [
    "<div class=\"alert alert-block alert-info\">\n",
    "    <p>Freeing up memory </p>\n",
    "</div>"
   ]
  },
  {
   "cell_type": "code",
   "execution_count": 28,
   "id": "6102aeaf-3e3f-4722-bb08-dca328c0393b",
   "metadata": {},
   "outputs": [
    {
     "data": {
      "text/plain": [
       "10034"
      ]
     },
     "execution_count": 28,
     "metadata": {},
     "output_type": "execute_result"
    }
   ],
   "source": [
    "del df, train_df, test_df, X, y, X_resampled, y_resampled\n",
    "gc.collect()"
   ]
  },
  {
   "cell_type": "markdown",
   "id": "6d5e4371-7b4f-4df9-b1fd-064d701c6f7f",
   "metadata": {
    "tags": []
   },
   "source": [
    "<div class=\"alert alert-block alert-info\">\n",
    "    <p>Let's see the final dataset</p>\n",
    "</div>"
   ]
  },
  {
   "cell_type": "code",
   "execution_count": 29,
   "id": "63a69fbd-f751-4006-a6bf-69a648d1d9ce",
   "metadata": {},
   "outputs": [
    {
     "name": "stdout",
     "output_type": "stream",
     "text": [
      "\n",
      "Analysis Header of df_resampled dataset\n",
      "--------------------------------------------------------------------------------\n",
      "- Dataset shape:\t\t\t 55194 rows and 797 columns\n",
      "- Total of NaN values:\t\t\t 0\n",
      "- Percentage of NaN:\t\t\t 0.0 %\n",
      "- Total of infinite values:\t\t 0\n",
      "- Percentage of infinite values:\t 0.0 %\n",
      "- Total of full duplicates rows:\t 0\n",
      "- Total of empty rows:\t\t\t 0\n",
      "- Total of empty columns:\t\t 0\n",
      "- Unique indexes:\t\t\t True\n",
      "- Memory usage:\t\t\t\t 146.9 MB\n"
     ]
    }
   ],
   "source": [
    "df_analysis(df_resampled, \"df_resampled\", analysis_type=\"header\")"
   ]
  },
  {
   "cell_type": "markdown",
   "id": "7ad2b17d-c82a-442f-8fd9-e071875a7d9d",
   "metadata": {
    "tags": []
   },
   "source": [
    "<div class=\"alert alert-block alert-success\">\n",
    "    <p><b>Observations / Conclusions</b></p>\n",
    "    <p>At this point we have the following dataset.</p>\n",
    "    <ul style=\"list-style-type: square;\">\n",
    "        <li><b>df_resampled</b>: that is balanced after treating it through SMOTE and shape 614108 x 797</li>\n",
    "    </ul> \n",
    "</div>"
   ]
  },
  {
   "cell_type": "markdown",
   "id": "44f4971d-c73b-4740-992b-57f5bac34181",
   "metadata": {
    "tags": []
   },
   "source": [
    "<div style=\"background-color: #506AB9;\" >\n",
    "    <h2 style=\"margin: auto; padding: 20px; color:#fff; \">3. Optimization</h2>\n",
    "</div>"
   ]
  },
  {
   "cell_type": "markdown",
   "id": "02af96c7-92f9-4237-86ad-a2e09de5e651",
   "metadata": {
    "tags": []
   },
   "source": [
    "<div class=\"alert alert-block alert-info\">\n",
    "    <p>Now, we are going to use a <b>Custom Score</b> and <b>Hyperopt</b> to get the best result to set the model </p>\n",
    "</div>"
   ]
  },
  {
   "cell_type": "markdown",
   "id": "65edec22-2c38-4888-bac1-afdb1d82affd",
   "metadata": {
    "tags": []
   },
   "source": [
    "<div style=\"background-color: #506AB9;\" >\n",
    "    <h3 style=\"margin: auto; padding: 20px; color:#fff; \">3.1. Custom Score</h3>\n",
    "</div>"
   ]
  },
  {
   "cell_type": "markdown",
   "id": "5252fb83-6e15-453d-9ce0-4b23618fe55a",
   "metadata": {
    "tags": []
   },
   "source": [
    "<div class=\"alert alert-block alert-info\">\n",
    "    <p>In the <b>Custom Score</b>, we are going to penalize the <b>False Negative</b> that are loands <b>will be in default</b>, and they were <b>predicted incorrectly</b></p>\n",
    "</div>"
   ]
  },
  {
   "cell_type": "code",
   "execution_count": 30,
   "id": "f57501f2-3eb9-4bcb-a6ff-12ba5af2bc9a",
   "metadata": {},
   "outputs": [],
   "source": [
    "def custom_score(y_true, y_pred):\n",
    "    \"\"\"\n",
    "    Method used to calculate a score based on the penalization of False Negatives.\n",
    "\n",
    "    Parameters:\n",
    "    -----------------\n",
    "        y_true (series): True values\n",
    "        y_pred (series): Predicted values\n",
    "        \n",
    "    Returns:\n",
    "    -----------------\n",
    "        Score. (float): Score obtained based on the rules defined to measure. \n",
    "    \"\"\"\n",
    "    \n",
    "    y_pred = np.round(y_pred)\n",
    "    \n",
    "    TN_rate = 1        # Loans that are not in default and were predicted correctly\n",
    "    TP_rate = 1        # Loans that are in default and were predicted correctly\n",
    "    FP_rate = 0        # Loans that are not in default and were predicted incorrectly\n",
    "    FN_rate = -10      # Loans that are in default and were were predicted incorrectly\n",
    "    \n",
    "    # Getting all values based on confusion matrix\n",
    "    (TN, FP, FN, TP) = confusion_matrix(y_true, y_pred).ravel()\n",
    "\n",
    "    # Total of default and not default cases\n",
    "    N = TN + FP        # Not default cases\n",
    "    P = TP + FN        # Default cases \n",
    "    \n",
    "    gain_total = TN*TN_rate + TP*TP_rate + FP*FP_rate + FN*FN_rate\n",
    "    gain_maximun = N*TN_rate + P*TP_rate\n",
    "    gain_minumun = N*TN_rate + P*FN_rate\n",
    "    \n",
    "    # normalize to get score between 0 (baseline) and 1\n",
    "    score = (gain_total - gain_minumun) / (gain_maximun - gain_minumun)\n",
    "    \n",
    "    return score"
   ]
  },
  {
   "cell_type": "markdown",
   "id": "ec92390c-1876-48c6-a2e4-8e90a14d8ee2",
   "metadata": {
    "tags": []
   },
   "source": [
    "<div style=\"background-color: #506AB9;\" >\n",
    "    <h3 style=\"margin: auto; padding: 20px; color:#fff; \">3.2. Model optimiztion</h3>\n",
    "</div>"
   ]
  },
  {
   "cell_type": "markdown",
   "id": "b59f6309-ff04-4535-9283-e93e5b3df6c6",
   "metadata": {
    "tags": []
   },
   "source": [
    "<div class=\"alert alert-block alert-info\">\n",
    "    <p>Let's define the parameters</p>\n",
    "</div>"
   ]
  },
  {
   "cell_type": "code",
   "execution_count": 31,
   "id": "e7683875-9c85-42a4-9e34-54e74608a5f5",
   "metadata": {
    "tags": []
   },
   "outputs": [],
   "source": [
    "space_params = {\n",
    "    \"n_estimators\" : hp.choice(\"n_estimators\", [8000, 10000, 12000]),\n",
    "    \"learning_rate\" :  hp.uniform(\"learning_rate\", 0.002, 0.003),\n",
    "    \"num_leaves\" :  hp.choice(\"num_leaves\", [32, 34, 36]),\n",
    "    \"max_depth\" : hp.choice(\"max_depth\", [7, 8, 9]),\n",
    "    \"reg_alpha\" : hp.uniform(\"reg_alpha\", 0.041545473, 0.051),\n",
    "    \"reg_lambda\" : hp.uniform(\"reg_lambda\", 0.0735294, 0.0835294),\n",
    "    \"min_split_gain\" : hp.uniform(\"min_split_gain\", 0.0222415, 0.0322415),\n",
    "    \"min_child_weight\" : hp.uniform(\"min_child_weight\", 39.3259775, 49)\n",
    "}"
   ]
  },
  {
   "cell_type": "markdown",
   "id": "a564e380-8436-4356-8be1-fb0b433d2104",
   "metadata": {
    "tags": []
   },
   "source": [
    "<div class=\"alert alert-block alert-info\">\n",
    "    <p>Now, we can define our objective function</p>\n",
    "    <p>To do that, we are going to consider the following</p>\n",
    "    <ul style=\"list-style-type: square;\">\n",
    "        <li><b>StandardScaler</b> to manage all data in the same scale</li>\n",
    "        <li><b>colsample_bytree and subsample</b> with 80% of data, to improve the execution time</li>\n",
    "        <li><b>n_splits</b> with 2 to improve the execution time</li>\n",
    "        <li><b>is_unbalance</b> with False because it is a balanced dataset</li>\n",
    "    </ul> \n",
    "</div>"
   ]
  },
  {
   "cell_type": "code",
   "execution_count": 32,
   "id": "0d469c46-c176-4e49-adfd-324179303c30",
   "metadata": {},
   "outputs": [],
   "source": [
    "def hyperparameter_tuning(space_params, df, imbalanced, n_splits, graph):\n",
    "    \"\"\"\n",
    "    Method used to analyze on the DataFrame.\n",
    "\n",
    "    Parameters:\n",
    "    -----------------\n",
    "        space_params (dict): Parameters to optimize the model\n",
    "        df (pandas.DataFrame): Dataset to treat\n",
    "        imbalanced (boolean): Define whether dataset is unbalanced\n",
    "        n_splits (int): To split data in train test sets\n",
    "        graph (boolean): Flag to plot or not\n",
    "\n",
    "    Returns:\n",
    "    -----------------\n",
    "        Loss and STATUS.\n",
    "    \"\"\"\n",
    "    \n",
    "    # Formatting columns name\n",
    "    df = df.rename(columns=lambda x:re.sub(\"[^A-Za-z0-9_]+\", \"\", x))\n",
    "    df_lgbm = df.copy()\n",
    "    \n",
    "    scaler = StandardScaler()\n",
    "    \n",
    "    # Divide in training/validation and test data\n",
    "    train_df = df_lgbm[df_lgbm[\"TARGET\"].notnull()]\n",
    "    test_df = df_lgbm[df_lgbm[\"TARGET\"].isnull()]\n",
    "    del df_lgbm\n",
    "    gc.collect()\n",
    "    \n",
    "    # Cross validation model\n",
    "    folds = KFold(n_splits=n_splits, shuffle=True, random_state=42)\n",
    "    \n",
    "    # Create arrays and dataframes to store results\n",
    "    oof_preds = np.zeros(train_df.shape[0])\n",
    "    sub_preds = np.zeros(test_df.shape[0])\n",
    "    feats = [f for f in train_df.columns if f not in [\"TARGET\", \"SK_ID_CURR\", \"SK_ID_BUREAU\", \"SK_ID_PREV\"]]\n",
    "    \n",
    "    for n_fold, (train_idx, valid_idx) in enumerate(folds.split(train_df[feats], train_df[\"TARGET\"])):\n",
    "        \n",
    "        print(\"\\n\")\n",
    "        \n",
    "        train_x, train_y = train_df[feats].iloc[train_idx], train_df[\"TARGET\"].iloc[train_idx]\n",
    "        valid_x, valid_y = train_df[feats].iloc[valid_idx], train_df[\"TARGET\"].iloc[valid_idx]\n",
    "    \n",
    "        train_x_scaled = scaler.fit_transform(train_x)\n",
    "        valid_x_scaled = scaler.fit_transform(valid_x)\n",
    "        \n",
    "        # LightGBM parameters found by Bayesian optimization\n",
    "        clf = LGBMClassifier(\n",
    "            **space_params,\n",
    "            colsample_bytree=0.8, \n",
    "            subsample=0.8,\n",
    "            is_unbalance=imbalanced,\n",
    "            n_jobs=-1 \n",
    "        )\n",
    "        \n",
    "        evaluation = [(train_x_scaled, train_y), (valid_x_scaled, valid_y)]\n",
    "        \n",
    "        clf.fit(train_x_scaled, train_y, eval_set=evaluation, eval_metric=\"auc\",\n",
    "                callbacks=[lgb.early_stopping(stopping_rounds=200),\n",
    "                          lgb.log_evaluation(period=-1)])\n",
    "        \n",
    "        oof_preds[valid_idx] = clf.predict_proba(valid_x_scaled, num_iteration=clf.best_iteration_)[:, 1]\n",
    "        \n",
    "        del clf, train_x, train_x_scaled, train_y, valid_x, valid_x_scaled, valid_y\n",
    "        gc.collect()\n",
    "    \n",
    "    auc = roc_auc_score(train_df[\"TARGET\"], oof_preds)\n",
    "    print(\">> ROC-AUC Score %.6f\" % auc )\n",
    "    \n",
    "    cs = custom_score(train_df[\"TARGET\"], oof_preds)\n",
    "    print(\">> Custom Score %.6f\\n\" % cs )\n",
    "    \n",
    "    if not imbalanced and graph:\n",
    "        \n",
    "        from sklearn.metrics import PrecisionRecallDisplay\n",
    "        display = PrecisionRecallDisplay.from_predictions(train_df[\"TARGET\"].ravel(), oof_preds.ravel(), name=\"LinearSVC\")\n",
    "        _ = display.ax_.set_title(\"2-class Precision-Recall curve\")\n",
    "        \n",
    "    return { \"loss\": -auc, \"status\": STATUS_OK } "
   ]
  },
  {
   "cell_type": "markdown",
   "id": "f99674b3-8696-41b8-b0f8-d9e57b84025d",
   "metadata": {
    "tags": []
   },
   "source": [
    "<div style=\"background-color: #506AB9;\" >\n",
    "    <h3 style=\"margin: auto; padding: 20px; color:#fff; \">3.3. Balanced dataset modelisation</h3>\n",
    "</div>"
   ]
  },
  {
   "cell_type": "markdown",
   "id": "0c7f1c8c-b3fd-4d15-8ec1-0afc194bf9ac",
   "metadata": {
    "tags": []
   },
   "source": [
    "<div class=\"alert alert-block alert-info\">\n",
    "    <p>Finally, we are going to optimize the model with the <b>balanced</b> dataset</p>\n",
    "</div>"
   ]
  },
  {
   "cell_type": "code",
   "execution_count": 33,
   "id": "e5addc3f-b138-4047-acf8-27edef5e2ad8",
   "metadata": {},
   "outputs": [],
   "source": [
    "fmin_objective = partial(hyperparameter_tuning, \n",
    "                         df=df_resampled, imbalanced=False,\n",
    "                         n_splits=2, graph=False)"
   ]
  },
  {
   "cell_type": "code",
   "execution_count": 34,
   "id": "e3ee90ab-d5f7-4a27-bdcc-98947f136457",
   "metadata": {
    "tags": []
   },
   "outputs": [
    {
     "name": "stdout",
     "output_type": "stream",
     "text": [
      "Training until validation scores don't improve for 200 rounds\n",
      "Early stopping, best iteration is:                     \n",
      "[420]\ttraining's auc: 0.976265\ttraining's binary_logloss: 0.387912\tvalid_1's auc: 0.927443\tvalid_1's binary_logloss: 0.571989\n",
      "Training until validation scores don't improve for 200 rounds\n",
      "Early stopping, best iteration is:                     \n",
      "[799]\ttraining's auc: 0.979669\ttraining's binary_logloss: 0.273149\tvalid_1's auc: 0.933065\tvalid_1's binary_logloss: 0.526948\n",
      ">> ROC-AUC Score 0.912061                              \n",
      ">> Custom Score 0.921296                               \n",
      "\n",
      "Training until validation scores don't improve for 200 rounds                        \n",
      "Early stopping, best iteration is:                                                   \n",
      "[382]\ttraining's auc: 0.977945\ttraining's binary_logloss: 0.361274\tvalid_1's auc: 0.935473\tvalid_1's binary_logloss: 0.562973\n",
      "Training until validation scores don't improve for 200 rounds                        \n",
      "Early stopping, best iteration is:                                                   \n",
      "[626]\ttraining's auc: 0.980533\ttraining's binary_logloss: 0.27253\tvalid_1's auc: 0.932498\tvalid_1's binary_logloss: 0.528726\n",
      ">> ROC-AUC Score 0.921291                                                            \n",
      ">> Custom Score 0.922235                                                             \n",
      "\n",
      "Training until validation scores don't improve for 200 rounds                        \n",
      "Early stopping, best iteration is:                                                   \n",
      "[488]\ttraining's auc: 0.977825\ttraining's binary_logloss: 0.365941\tvalid_1's auc: 0.933513\tvalid_1's binary_logloss: 0.567206\n",
      "Training until validation scores don't improve for 200 rounds                        \n",
      "Early stopping, best iteration is:                                                   \n",
      "[834]\ttraining's auc: 0.980724\ttraining's binary_logloss: 0.269729\tvalid_1's auc: 0.933962\tvalid_1's binary_logloss: 0.526742\n",
      ">> ROC-AUC Score 0.919342                                                            \n",
      ">> Custom Score 0.922758                                                             \n",
      "\n",
      "Training until validation scores don't improve for 200 rounds                        \n",
      "Early stopping, best iteration is:                                                   \n",
      "[405]\ttraining's auc: 0.977725\ttraining's binary_logloss: 0.367956\tvalid_1's auc: 0.934288\tvalid_1's binary_logloss: 0.563801\n",
      "Training until validation scores don't improve for 200 rounds                        \n",
      "Early stopping, best iteration is:                                                   \n",
      "[688]\ttraining's auc: 0.980535\ttraining's binary_logloss: 0.273607\tvalid_1's auc: 0.934266\tvalid_1's binary_logloss: 0.52401\n",
      ">> ROC-AUC Score 0.920724                                                            \n",
      ">> Custom Score 0.922712                                                             \n",
      "\n",
      "Training until validation scores don't improve for 200 rounds                        \n",
      "Early stopping, best iteration is:                                                   \n",
      "[466]\ttraining's auc: 0.976835\ttraining's binary_logloss: 0.382499\tvalid_1's auc: 0.931803\tvalid_1's binary_logloss: 0.566536\n",
      "Training until validation scores don't improve for 200 rounds                        \n",
      "Early stopping, best iteration is:                                                   \n",
      "[843]\ttraining's auc: 0.980119\ttraining's binary_logloss: 0.275646\tvalid_1's auc: 0.93272\tvalid_1's binary_logloss: 0.529442\n",
      ">> ROC-AUC Score 0.914762                                                            \n",
      ">> Custom Score 0.922314                                                             \n",
      "\n",
      "Training until validation scores don't improve for 200 rounds                        \n",
      "Early stopping, best iteration is:                                                   \n",
      "[415]\ttraining's auc: 0.976166\ttraining's binary_logloss: 0.39004\tvalid_1's auc: 0.928665\tvalid_1's binary_logloss: 0.575462\n",
      "Training until validation scores don't improve for 200 rounds                        \n",
      "Early stopping, best iteration is:                                                   \n",
      "[713]\ttraining's auc: 0.979605\ttraining's binary_logloss: 0.290341\tvalid_1's auc: 0.933375\tvalid_1's binary_logloss: 0.523318\n",
      ">> ROC-AUC Score 0.916995                                                            \n",
      ">> Custom Score 0.922268                                                             \n",
      "\n",
      "Training until validation scores don't improve for 200 rounds                        \n",
      "Early stopping, best iteration is:                                                   \n",
      "[401]\ttraining's auc: 0.977093\ttraining's binary_logloss: 0.385575\tvalid_1's auc: 0.931504\tvalid_1's binary_logloss: 0.570367\n",
      "Training until validation scores don't improve for 200 rounds                        \n",
      "Early stopping, best iteration is:                                                   \n",
      "[713]\ttraining's auc: 0.980239\ttraining's binary_logloss: 0.282113\tvalid_1's auc: 0.93535\tvalid_1's binary_logloss: 0.521703\n",
      ">> ROC-AUC Score 0.918112                                                            \n",
      ">> Custom Score 0.923114                                                             \n",
      "\n",
      "Training until validation scores don't improve for 200 rounds                        \n",
      "Early stopping, best iteration is:                                                   \n",
      "[389]\ttraining's auc: 0.976671\ttraining's binary_logloss: 0.375125\tvalid_1's auc: 0.9302\tvalid_1's binary_logloss: 0.571598\n",
      "Training until validation scores don't improve for 200 rounds                        \n",
      "Early stopping, best iteration is:                                                   \n",
      "[673]\ttraining's auc: 0.979632\ttraining's binary_logloss: 0.276709\tvalid_1's auc: 0.93462\tvalid_1's binary_logloss: 0.521452\n",
      ">> ROC-AUC Score 0.919540                                                            \n",
      ">> Custom Score 0.922515                                                             \n",
      "\n",
      "Training until validation scores don't improve for 200 rounds                        \n",
      "Early stopping, best iteration is:                                                   \n",
      "[382]\ttraining's auc: 0.976251\ttraining's binary_logloss: 0.392691\tvalid_1's auc: 0.930147\tvalid_1's binary_logloss: 0.569355\n",
      "Training until validation scores don't improve for 200 rounds                        \n",
      "Early stopping, best iteration is:                                                   \n",
      "[689]\ttraining's auc: 0.979665\ttraining's binary_logloss: 0.285705\tvalid_1's auc: 0.935489\tvalid_1's binary_logloss: 0.520677\n",
      ">> ROC-AUC Score 0.917209                                                            \n",
      ">> Custom Score 0.922330                                                             \n",
      "\n",
      "Training until validation scores don't improve for 200 rounds                        \n",
      "Early stopping, best iteration is:                                                   \n",
      "[390]\ttraining's auc: 0.977189\ttraining's binary_logloss: 0.371388\tvalid_1's auc: 0.932286\tvalid_1's binary_logloss: 0.563481\n",
      "Training until validation scores don't improve for 200 rounds                        \n",
      "Early stopping, best iteration is:                                                   \n",
      "[689]\ttraining's auc: 0.980284\ttraining's binary_logloss: 0.270009\tvalid_1's auc: 0.934295\tvalid_1's binary_logloss: 0.521023\n",
      ">> ROC-AUC Score 0.918974                                                            \n",
      ">> Custom Score 0.922149                                                             \n",
      "\n",
      "Training until validation scores don't improve for 200 rounds                         \n",
      "Early stopping, best iteration is:                                                    \n",
      "[450]\ttraining's auc: 0.976512\ttraining's binary_logloss: 0.382961\tvalid_1's auc: 0.929806\tvalid_1's binary_logloss: 0.568407\n",
      "Training until validation scores don't improve for 200 rounds                         \n",
      "Early stopping, best iteration is:                                                    \n",
      "[793]\ttraining's auc: 0.97935\ttraining's binary_logloss: 0.281591\tvalid_1's auc: 0.930598\tvalid_1's binary_logloss: 0.529248\n",
      ">> ROC-AUC Score 0.914073                                                             \n",
      ">> Custom Score 0.920897                                                              \n",
      "\n",
      "Training until validation scores don't improve for 200 rounds                         \n",
      "Early stopping, best iteration is:                                                    \n",
      "[427]\ttraining's auc: 0.977129\ttraining's binary_logloss: 0.38603\tvalid_1's auc: 0.93057\tvalid_1's binary_logloss: 0.567442\n",
      "Training until validation scores don't improve for 200 rounds                         \n",
      "Early stopping, best iteration is:                                                    \n",
      "[789]\ttraining's auc: 0.980319\ttraining's binary_logloss: 0.276885\tvalid_1's auc: 0.933347\tvalid_1's binary_logloss: 0.527634\n",
      ">> ROC-AUC Score 0.913687                                                             \n",
      ">> Custom Score 0.922584                                                              \n",
      "\n",
      "Training until validation scores don't improve for 200 rounds                         \n",
      "Early stopping, best iteration is:                                                    \n",
      "[454]\ttraining's auc: 0.976415\ttraining's binary_logloss: 0.385201\tvalid_1's auc: 0.930239\tvalid_1's binary_logloss: 0.568234\n",
      "Training until validation scores don't improve for 200 rounds                         \n",
      "Early stopping, best iteration is:                                                    \n",
      "[871]\ttraining's auc: 0.980118\ttraining's binary_logloss: 0.268438\tvalid_1's auc: 0.934196\tvalid_1's binary_logloss: 0.529162\n",
      ">> ROC-AUC Score 0.912259                                                             \n",
      ">> Custom Score 0.922077                                                              \n",
      "\n",
      "Training until validation scores don't improve for 200 rounds                         \n",
      "Early stopping, best iteration is:                                                    \n",
      "[402]\ttraining's auc: 0.977852\ttraining's binary_logloss: 0.364861\tvalid_1's auc: 0.935114\tvalid_1's binary_logloss: 0.563186\n",
      "Training until validation scores don't improve for 200 rounds                         \n",
      "Early stopping, best iteration is:                                                    \n",
      "[693]\ttraining's auc: 0.980792\ttraining's binary_logloss: 0.266563\tvalid_1's auc: 0.934507\tvalid_1's binary_logloss: 0.527425\n",
      ">> ROC-AUC Score 0.919842                                                             \n",
      ">> Custom Score 0.922100                                                              \n",
      "\n",
      "Training until validation scores don't improve for 200 rounds                         \n",
      "Early stopping, best iteration is:                                                    \n",
      "[432]\ttraining's auc: 0.97667\ttraining's binary_logloss: 0.376406\tvalid_1's auc: 0.93153\tvalid_1's binary_logloss: 0.569361\n",
      "Training until validation scores don't improve for 200 rounds                         \n",
      "Early stopping, best iteration is:                                                    \n",
      "[701]\ttraining's auc: 0.978979\ttraining's binary_logloss: 0.290483\tvalid_1's auc: 0.929387\tvalid_1's binary_logloss: 0.525771\n",
      ">> ROC-AUC Score 0.918755                                                             \n",
      ">> Custom Score 0.922077                                                              \n",
      "\n",
      "Training until validation scores don't improve for 200 rounds                         \n",
      "Early stopping, best iteration is:                                                    \n",
      "[531]\ttraining's auc: 0.976975\ttraining's binary_logloss: 0.37126\tvalid_1's auc: 0.931242\tvalid_1's binary_logloss: 0.570727\n",
      "Training until validation scores don't improve for 200 rounds                         \n",
      "Early stopping, best iteration is:                                                    \n",
      "[920]\ttraining's auc: 0.980094\ttraining's binary_logloss: 0.272206\tvalid_1's auc: 0.933234\tvalid_1's binary_logloss: 0.526684\n",
      ">> ROC-AUC Score 0.917892                                                             \n",
      ">> Custom Score 0.922472                                                              \n",
      "\n",
      "Training until validation scores don't improve for 200 rounds                         \n",
      "Early stopping, best iteration is:                                                    \n",
      "[426]\ttraining's auc: 0.976906\ttraining's binary_logloss: 0.370964\tvalid_1's auc: 0.931602\tvalid_1's binary_logloss: 0.567498\n",
      "Training until validation scores don't improve for 200 rounds                         \n",
      "Early stopping, best iteration is:                                                    \n",
      "[728]\ttraining's auc: 0.979679\ttraining's binary_logloss: 0.27481\tvalid_1's auc: 0.933659\tvalid_1's binary_logloss: 0.524046\n",
      ">> ROC-AUC Score 0.919655                                                             \n",
      ">> Custom Score 0.921803                                                              \n",
      "\n",
      "Training until validation scores don't improve for 200 rounds                         \n",
      "Early stopping, best iteration is:                                                    \n",
      "[393]\ttraining's auc: 0.977351\ttraining's binary_logloss: 0.357617\tvalid_1's auc: 0.934424\tvalid_1's binary_logloss: 0.568559\n",
      "Training until validation scores don't improve for 200 rounds                         \n",
      "Early stopping, best iteration is:                                                    \n",
      "[628]\ttraining's auc: 0.97991\ttraining's binary_logloss: 0.273445\tvalid_1's auc: 0.933159\tvalid_1's binary_logloss: 0.522626\n",
      ">> ROC-AUC Score 0.924022                                                             \n",
      ">> Custom Score 0.922498                                                              \n",
      "\n",
      "Training until validation scores don't improve for 200 rounds                         \n",
      "Early stopping, best iteration is:                                                    \n",
      "[510]\ttraining's auc: 0.97769\ttraining's binary_logloss: 0.36632\tvalid_1's auc: 0.932793\tvalid_1's binary_logloss: 0.569699\n",
      "Training until validation scores don't improve for 200 rounds                         \n",
      "Early stopping, best iteration is:                                                    \n",
      "[789]\ttraining's auc: 0.979743\ttraining's binary_logloss: 0.289246\tvalid_1's auc: 0.928658\tvalid_1's binary_logloss: 0.530356\n",
      ">> ROC-AUC Score 0.920104                                                             \n",
      ">> Custom Score 0.921859                                                              \n",
      "\n",
      "Training until validation scores don't improve for 200 rounds                         \n",
      "Early stopping, best iteration is:                                                    \n",
      "[503]\ttraining's auc: 0.977978\ttraining's binary_logloss: 0.36312\tvalid_1's auc: 0.93439\tvalid_1's binary_logloss: 0.56701\n",
      "Training until validation scores don't improve for 200 rounds                         \n",
      "Early stopping, best iteration is:                                                    \n",
      "[832]\ttraining's auc: 0.98051\ttraining's binary_logloss: 0.273817\tvalid_1's auc: 0.932987\tvalid_1's binary_logloss: 0.527445\n",
      ">> ROC-AUC Score 0.921111                                                             \n",
      ">> Custom Score 0.922577                                                              \n",
      "\n",
      "Training until validation scores don't improve for 200 rounds                         \n",
      "Early stopping, best iteration is:                                                    \n",
      "[354]\ttraining's auc: 0.977124\ttraining's binary_logloss: 0.37203\tvalid_1's auc: 0.930821\tvalid_1's binary_logloss: 0.568393\n",
      "Training until validation scores don't improve for 200 rounds                         \n",
      "Early stopping, best iteration is:                                                    \n",
      "[607]\ttraining's auc: 0.980074\ttraining's binary_logloss: 0.274464\tvalid_1's auc: 0.933294\tvalid_1's binary_logloss: 0.525177\n",
      ">> ROC-AUC Score 0.918646                                                             \n",
      ">> Custom Score 0.921958                                                              \n",
      "\n",
      "Training until validation scores don't improve for 200 rounds                         \n",
      "Early stopping, best iteration is:                                                    \n",
      "[339]\ttraining's auc: 0.976977\ttraining's binary_logloss: 0.378472\tvalid_1's auc: 0.93171\tvalid_1's binary_logloss: 0.568248\n",
      "Training until validation scores don't improve for 200 rounds                         \n",
      "Early stopping, best iteration is:                                                    \n",
      "[598]\ttraining's auc: 0.979936\ttraining's binary_logloss: 0.277301\tvalid_1's auc: 0.932876\tvalid_1's binary_logloss: 0.524824\n",
      ">> ROC-AUC Score 0.917286                                                             \n",
      ">> Custom Score 0.922294                                                              \n",
      "\n",
      "Training until validation scores don't improve for 200 rounds                         \n",
      "Early stopping, best iteration is:                                                    \n",
      "[382]\ttraining's auc: 0.977448\ttraining's binary_logloss: 0.362062\tvalid_1's auc: 0.934029\tvalid_1's binary_logloss: 0.564913\n",
      "Training until validation scores don't improve for 200 rounds                         \n",
      "Early stopping, best iteration is:                                                    \n",
      "[626]\ttraining's auc: 0.979984\ttraining's binary_logloss: 0.274268\tvalid_1's auc: 0.934119\tvalid_1's binary_logloss: 0.520973\n",
      ">> ROC-AUC Score 0.923471                                                             \n",
      ">> Custom Score 0.922455                                                              \n",
      "\n",
      "Training until validation scores don't improve for 200 rounds                         \n",
      "Early stopping, best iteration is:                                                    \n",
      "[412]\ttraining's auc: 0.977769\ttraining's binary_logloss: 0.354352\tvalid_1's auc: 0.933991\tvalid_1's binary_logloss: 0.568576\n",
      "Training until validation scores don't improve for 200 rounds                         \n",
      "Early stopping, best iteration is:                                                    \n",
      "[656]\ttraining's auc: 0.980135\ttraining's binary_logloss: 0.270957\tvalid_1's auc: 0.933508\tvalid_1's binary_logloss: 0.523505\n",
      ">> ROC-AUC Score 0.923941                                                             \n",
      ">> Custom Score 0.922060                                                              \n",
      "\n",
      "Training until validation scores don't improve for 200 rounds                         \n",
      "Early stopping, best iteration is:                                                    \n",
      "[397]\ttraining's auc: 0.977432\ttraining's binary_logloss: 0.362616\tvalid_1's auc: 0.934438\tvalid_1's binary_logloss: 0.565483\n",
      "Training until validation scores don't improve for 200 rounds                         \n",
      "Early stopping, best iteration is:                                                    \n",
      "[647]\ttraining's auc: 0.979832\ttraining's binary_logloss: 0.275137\tvalid_1's auc: 0.933109\tvalid_1's binary_logloss: 0.523319\n",
      ">> ROC-AUC Score 0.922664                                                             \n",
      ">> Custom Score 0.922627                                                              \n",
      "\n",
      "Training until validation scores don't improve for 200 rounds                         \n",
      "Early stopping, best iteration is:                                                    \n",
      "[380]\ttraining's auc: 0.977288\ttraining's binary_logloss: 0.369078\tvalid_1's auc: 0.931891\tvalid_1's binary_logloss: 0.566127\n",
      "Training until validation scores don't improve for 200 rounds                         \n",
      "Early stopping, best iteration is:                                                    \n",
      "[645]\ttraining's auc: 0.979939\ttraining's binary_logloss: 0.274778\tvalid_1's auc: 0.932031\tvalid_1's binary_logloss: 0.522719\n",
      ">> ROC-AUC Score 0.919357                                                             \n",
      ">> Custom Score 0.922383                                                              \n",
      "\n",
      "Training until validation scores don't improve for 200 rounds                         \n",
      "Early stopping, best iteration is:                                                    \n",
      "[383]\ttraining's auc: 0.977086\ttraining's binary_logloss: 0.367695\tvalid_1's auc: 0.933541\tvalid_1's binary_logloss: 0.567866\n",
      "Training until validation scores don't improve for 200 rounds                         \n",
      "Early stopping, best iteration is:                                                    \n",
      "[578]\ttraining's auc: 0.979456\ttraining's binary_logloss: 0.292503\tvalid_1's auc: 0.933667\tvalid_1's binary_logloss: 0.521343\n",
      ">> ROC-AUC Score 0.925480                                                             \n",
      ">> Custom Score 0.922353                                                              \n",
      "\n",
      "Training until validation scores don't improve for 200 rounds                         \n",
      "Early stopping, best iteration is:                                                    \n",
      "[398]\ttraining's auc: 0.97737\ttraining's binary_logloss: 0.360634\tvalid_1's auc: 0.934056\tvalid_1's binary_logloss: 0.563734\n",
      "Training until validation scores don't improve for 200 rounds                         \n",
      "Early stopping, best iteration is:                                                    \n",
      "[558]\ttraining's auc: 0.979237\ttraining's binary_logloss: 0.298408\tvalid_1's auc: 0.932749\tvalid_1's binary_logloss: 0.525965\n",
      ">> ROC-AUC Score 0.927460                                                             \n",
      ">> Custom Score 0.922936                                                              \n",
      "\n",
      "Training until validation scores don't improve for 200 rounds                         \n",
      "Early stopping, best iteration is:                                                    \n",
      "[385]\ttraining's auc: 0.976816\ttraining's binary_logloss: 0.374989\tvalid_1's auc: 0.931284\tvalid_1's binary_logloss: 0.569518\n",
      "Training until validation scores don't improve for 200 rounds                         \n",
      "Early stopping, best iteration is:                                                    \n",
      "[589]\ttraining's auc: 0.979273\ttraining's binary_logloss: 0.297737\tvalid_1's auc: 0.931733\tvalid_1's binary_logloss: 0.526096\n",
      ">> ROC-AUC Score 0.922199                                                               \n",
      ">> Custom Score 0.922357                                                                \n",
      "\n",
      "Training until validation scores don't improve for 200 rounds                           \n",
      "Early stopping, best iteration is:                                                      \n",
      "[390]\ttraining's auc: 0.97765\ttraining's binary_logloss: 0.361768\tvalid_1's auc: 0.935314\tvalid_1's binary_logloss: 0.566063\n",
      "Training until validation scores don't improve for 200 rounds                           \n",
      "Early stopping, best iteration is:                                                      \n",
      "[605]\ttraining's auc: 0.979939\ttraining's binary_logloss: 0.282293\tvalid_1's auc: 0.935338\tvalid_1's binary_logloss: 0.524172\n",
      ">> ROC-AUC Score 0.926135                                                               \n",
      ">> Custom Score 0.922917                                                                \n",
      "\n",
      "Training until validation scores don't improve for 200 rounds                           \n",
      "Early stopping, best iteration is:                                                      \n",
      "[401]\ttraining's auc: 0.977858\ttraining's binary_logloss: 0.357263\tvalid_1's auc: 0.936093\tvalid_1's binary_logloss: 0.56614\n",
      "Training until validation scores don't improve for 200 rounds                           \n",
      "Early stopping, best iteration is:                                                      \n",
      "[587]\ttraining's auc: 0.979711\ttraining's binary_logloss: 0.288123\tvalid_1's auc: 0.933881\tvalid_1's binary_logloss: 0.524145\n",
      ">> ROC-AUC Score 0.927974                                                               \n",
      ">> Custom Score 0.922716                                                                \n",
      "\n",
      "Training until validation scores don't improve for 200 rounds                           \n",
      "Early stopping, best iteration is:                                                      \n",
      "[425]\ttraining's auc: 0.976721\ttraining's binary_logloss: 0.390254\tvalid_1's auc: 0.930099\tvalid_1's binary_logloss: 0.572727\n",
      "Training until validation scores don't improve for 200 rounds                           \n",
      "Early stopping, best iteration is:                                                      \n",
      "[756]\ttraining's auc: 0.979769\ttraining's binary_logloss: 0.287744\tvalid_1's auc: 0.934285\tvalid_1's binary_logloss: 0.521564\n",
      ">> ROC-AUC Score 0.917296                                                               \n",
      ">> Custom Score 0.922673                                                                \n",
      "\n",
      "Training until validation scores don't improve for 200 rounds                           \n",
      "Early stopping, best iteration is:                                                      \n",
      "[397]\ttraining's auc: 0.977085\ttraining's binary_logloss: 0.376814\tvalid_1's auc: 0.933741\tvalid_1's binary_logloss: 0.567581\n",
      "Training until validation scores don't improve for 200 rounds                           \n",
      "Early stopping, best iteration is:                                                      \n",
      "[632]\ttraining's auc: 0.979518\ttraining's binary_logloss: 0.29215\tvalid_1's auc: 0.933492\tvalid_1's binary_logloss: 0.523018\n",
      ">> ROC-AUC Score 0.922734                                                               \n",
      ">> Custom Score 0.922821                                                                \n",
      "\n",
      "Training until validation scores don't improve for 200 rounds                           \n",
      "Early stopping, best iteration is:                                                      \n",
      "[414]\ttraining's auc: 0.977351\ttraining's binary_logloss: 0.375268\tvalid_1's auc: 0.933904\tvalid_1's binary_logloss: 0.569879\n",
      "Training until validation scores don't improve for 200 rounds                           \n",
      "Early stopping, best iteration is:                                                      \n",
      "[703]\ttraining's auc: 0.980267\ttraining's binary_logloss: 0.278934\tvalid_1's auc: 0.936661\tvalid_1's binary_logloss: 0.521112\n",
      ">> ROC-AUC Score 0.922531                                                               \n",
      ">> Custom Score 0.922870                                                                \n",
      "\n",
      "Training until validation scores don't improve for 200 rounds                           \n",
      "Early stopping, best iteration is:                                                      \n",
      "[549]\ttraining's auc: 0.977066\ttraining's binary_logloss: 0.374471\tvalid_1's auc: 0.931384\tvalid_1's binary_logloss: 0.572243\n",
      "Training until validation scores don't improve for 200 rounds                           \n",
      "Early stopping, best iteration is:                                                      \n",
      "[878]\ttraining's auc: 0.979661\ttraining's binary_logloss: 0.289049\tvalid_1's auc: 0.932357\tvalid_1's binary_logloss: 0.525303\n",
      ">> ROC-AUC Score 0.920768                                                               \n",
      ">> Custom Score 0.922482                                                                \n",
      "\n",
      "Training until validation scores don't improve for 200 rounds                           \n",
      "Early stopping, best iteration is:                                                      \n",
      "[397]\ttraining's auc: 0.977775\ttraining's binary_logloss: 0.361655\tvalid_1's auc: 0.935599\tvalid_1's binary_logloss: 0.564891\n",
      "Training until validation scores don't improve for 200 rounds                           \n",
      "Early stopping, best iteration is:                                                      \n",
      "[605]\ttraining's auc: 0.979794\ttraining's binary_logloss: 0.286515\tvalid_1's auc: 0.934821\tvalid_1's binary_logloss: 0.520443\n",
      ">> ROC-AUC Score 0.926969                                                               \n",
      ">> Custom Score 0.922831                                                                \n",
      "\n",
      "Training until validation scores don't improve for 200 rounds                           \n",
      "Early stopping, best iteration is:                                                      \n",
      "[389]\ttraining's auc: 0.977366\ttraining's binary_logloss: 0.370447\tvalid_1's auc: 0.934592\tvalid_1's binary_logloss: 0.565117\n",
      "Training until validation scores don't improve for 200 rounds                           \n",
      "Early stopping, best iteration is:                                                      \n",
      "[602]\ttraining's auc: 0.97941\ttraining's binary_logloss: 0.292873\tvalid_1's auc: 0.932515\tvalid_1's binary_logloss: 0.52348\n",
      ">> ROC-AUC Score 0.923621                                                               \n",
      ">> Custom Score 0.922758                                                                \n",
      "\n",
      "Training until validation scores don't improve for 200 rounds                           \n",
      "Early stopping, best iteration is:                                                      \n",
      "[402]\ttraining's auc: 0.977642\ttraining's binary_logloss: 0.371408\tvalid_1's auc: 0.932757\tvalid_1's binary_logloss: 0.569077\n",
      "Training until validation scores don't improve for 200 rounds                           \n",
      "Early stopping, best iteration is:                                                      \n",
      "[627]\ttraining's auc: 0.979805\ttraining's binary_logloss: 0.291712\tvalid_1's auc: 0.933824\tvalid_1's binary_logloss: 0.520681\n",
      ">> ROC-AUC Score 0.924131                                                               \n",
      ">> Custom Score 0.922594                                                                \n",
      "\n",
      "Training until validation scores don't improve for 200 rounds                           \n",
      "Early stopping, best iteration is:                                                      \n",
      "[397]\ttraining's auc: 0.975964\ttraining's binary_logloss: 0.393761\tvalid_1's auc: 0.929646\tvalid_1's binary_logloss: 0.573987\n",
      "Training until validation scores don't improve for 200 rounds                           \n",
      "Early stopping, best iteration is:                                                      \n",
      "[700]\ttraining's auc: 0.979142\ttraining's binary_logloss: 0.291461\tvalid_1's auc: 0.932059\tvalid_1's binary_logloss: 0.528614\n",
      ">> ROC-AUC Score 0.914798                                                               \n",
      ">> Custom Score 0.921918                                                                \n",
      "\n",
      "Training until validation scores don't improve for 200 rounds                           \n",
      "Early stopping, best iteration is:                                                      \n",
      "[387]\ttraining's auc: 0.976769\ttraining's binary_logloss: 0.387023\tvalid_1's auc: 0.931296\tvalid_1's binary_logloss: 0.569285\n",
      "Training until validation scores don't improve for 200 rounds                           \n",
      "Early stopping, best iteration is:                                                      \n",
      "[713]\ttraining's auc: 0.980142\ttraining's binary_logloss: 0.277618\tvalid_1's auc: 0.936523\tvalid_1's binary_logloss: 0.520489\n",
      ">> ROC-AUC Score 0.917759                                                               \n",
      ">> Custom Score 0.922600                                                                \n",
      "\n",
      "Training until validation scores don't improve for 200 rounds                           \n",
      "Early stopping, best iteration is:                                                      \n",
      "[427]\ttraining's auc: 0.976755\ttraining's binary_logloss: 0.387786\tvalid_1's auc: 0.930702\tvalid_1's binary_logloss: 0.572332\n",
      "Training until validation scores don't improve for 200 rounds                           \n",
      "Early stopping, best iteration is:                                                      \n",
      "[728]\ttraining's auc: 0.979485\ttraining's binary_logloss: 0.292462\tvalid_1's auc: 0.93356\tvalid_1's binary_logloss: 0.521342\n",
      ">> ROC-AUC Score 0.918897                                                               \n",
      ">> Custom Score 0.922017                                                                \n",
      "\n",
      "Training until validation scores don't improve for 200 rounds                           \n",
      "Early stopping, best iteration is:                                                      \n",
      "[412]\ttraining's auc: 0.977805\ttraining's binary_logloss: 0.366169\tvalid_1's auc: 0.934514\tvalid_1's binary_logloss: 0.567317\n",
      "Training until validation scores don't improve for 200 rounds                           \n",
      "Early stopping, best iteration is:                                                      \n",
      "[618]\ttraining's auc: 0.979713\ttraining's binary_logloss: 0.292847\tvalid_1's auc: 0.931712\tvalid_1's binary_logloss: 0.523532\n",
      ">> ROC-AUC Score 0.924339                                                               \n",
      ">> Custom Score 0.922778                                                                \n",
      "\n",
      "Training until validation scores don't improve for 200 rounds                           \n",
      "Early stopping, best iteration is:                                                      \n",
      "[352]\ttraining's auc: 0.976243\ttraining's binary_logloss: 0.390287\tvalid_1's auc: 0.931107\tvalid_1's binary_logloss: 0.564718\n",
      "Training until validation scores don't improve for 200 rounds                           \n",
      "Early stopping, best iteration is:                                                      \n",
      "[599]\ttraining's auc: 0.979059\ttraining's binary_logloss: 0.2957\tvalid_1's auc: 0.934282\tvalid_1's binary_logloss: 0.520726\n",
      ">> ROC-AUC Score 0.919710                                                               \n",
      ">> Custom Score 0.922452                                                                \n",
      "\n",
      "Training until validation scores don't improve for 200 rounds                           \n",
      "Early stopping, best iteration is:                                                      \n",
      "[402]\ttraining's auc: 0.977872\ttraining's binary_logloss: 0.361938\tvalid_1's auc: 0.937984\tvalid_1's binary_logloss: 0.563256\n",
      "Training until validation scores don't improve for 200 rounds                           \n",
      "Early stopping, best iteration is:                                                      \n",
      "[650]\ttraining's auc: 0.98036\ttraining's binary_logloss: 0.274663\tvalid_1's auc: 0.93793\tvalid_1's binary_logloss: 0.519388\n",
      ">> ROC-AUC Score 0.927105                                                               \n",
      ">> Custom Score 0.923289                                                                \n",
      "\n",
      "Training until validation scores don't improve for 200 rounds                           \n",
      "Early stopping, best iteration is:                                                      \n",
      "[415]\ttraining's auc: 0.975971\ttraining's binary_logloss: 0.401642\tvalid_1's auc: 0.929204\tvalid_1's binary_logloss: 0.573773\n",
      "Training until validation scores don't improve for 200 rounds                           \n",
      "Early stopping, best iteration is:                                                      \n",
      "[786]\ttraining's auc: 0.979468\ttraining's binary_logloss: 0.286607\tvalid_1's auc: 0.934657\tvalid_1's binary_logloss: 0.521826\n",
      ">> ROC-AUC Score 0.913448                                                               \n",
      ">> Custom Score 0.921678                                                                \n",
      "\n",
      "Training until validation scores don't improve for 200 rounds                           \n",
      "Early stopping, best iteration is:                                                      \n",
      "[401]\ttraining's auc: 0.977056\ttraining's binary_logloss: 0.377355\tvalid_1's auc: 0.930251\tvalid_1's binary_logloss: 0.572323\n",
      "Training until validation scores don't improve for 200 rounds                           \n",
      "Early stopping, best iteration is:                                                      \n",
      "[647]\ttraining's auc: 0.979745\ttraining's binary_logloss: 0.290134\tvalid_1's auc: 0.932211\tvalid_1's binary_logloss: 0.52536\n",
      ">> ROC-AUC Score 0.919580                                                               \n",
      ">> Custom Score 0.922518                                                                \n",
      "\n",
      "Training until validation scores don't improve for 200 rounds                           \n",
      "Early stopping, best iteration is:                                                      \n",
      "[416]\ttraining's auc: 0.976803\ttraining's binary_logloss: 0.380798\tvalid_1's auc: 0.931845\tvalid_1's binary_logloss: 0.570049\n",
      "Training until validation scores don't improve for 200 rounds                           \n",
      "Early stopping, best iteration is:                                                      \n",
      "[705]\ttraining's auc: 0.979854\ttraining's binary_logloss: 0.284768\tvalid_1's auc: 0.93298\tvalid_1's binary_logloss: 0.526305\n",
      ">> ROC-AUC Score 0.918181                                                               \n",
      ">> Custom Score 0.922439                                                                \n",
      "\n",
      "Training until validation scores don't improve for 200 rounds                           \n",
      "Early stopping, best iteration is:                                                      \n",
      "[516]\ttraining's auc: 0.977218\ttraining's binary_logloss: 0.370566\tvalid_1's auc: 0.931274\tvalid_1's binary_logloss: 0.57155\n",
      "Training until validation scores don't improve for 200 rounds                           \n",
      "Early stopping, best iteration is:                                                      \n",
      "[864]\ttraining's auc: 0.979908\ttraining's binary_logloss: 0.278551\tvalid_1's auc: 0.932916\tvalid_1's binary_logloss: 0.523959\n",
      ">> ROC-AUC Score 0.920049                                                               \n",
      ">> Custom Score 0.922340                                                                \n",
      "\n",
      "Training until validation scores don't improve for 200 rounds                           \n",
      "Early stopping, best iteration is:                                                      \n",
      "[399]\ttraining's auc: 0.97624\ttraining's binary_logloss: 0.392542\tvalid_1's auc: 0.931579\tvalid_1's binary_logloss: 0.571816\n",
      "Training until validation scores don't improve for 200 rounds                           \n",
      "Early stopping, best iteration is:                                                      \n",
      "[745]\ttraining's auc: 0.979974\ttraining's binary_logloss: 0.279804\tvalid_1's auc: 0.936773\tvalid_1's binary_logloss: 0.522564\n",
      ">> ROC-AUC Score 0.916036                                                               \n",
      ">> Custom Score 0.922531                                                                \n",
      "\n",
      "Training until validation scores don't improve for 200 rounds                           \n",
      "Early stopping, best iteration is:                                                      \n",
      "[397]\ttraining's auc: 0.978243\ttraining's binary_logloss: 0.35261\tvalid_1's auc: 0.935408\tvalid_1's binary_logloss: 0.565569\n",
      "Training until validation scores don't improve for 200 rounds                           \n",
      "Early stopping, best iteration is:                                                      \n",
      "[618]\ttraining's auc: 0.980429\ttraining's binary_logloss: 0.274042\tvalid_1's auc: 0.933345\tvalid_1's binary_logloss: 0.524728\n",
      ">> ROC-AUC Score 0.924811                                                               \n",
      ">> Custom Score 0.922330                                                                \n",
      "\n",
      "Training until validation scores don't improve for 200 rounds                           \n",
      "Early stopping, best iteration is:                                                      \n",
      "[353]\ttraining's auc: 0.977274\ttraining's binary_logloss: 0.377527\tvalid_1's auc: 0.934674\tvalid_1's binary_logloss: 0.565453\n",
      "Training until validation scores don't improve for 200 rounds                           \n",
      "Early stopping, best iteration is:                                                      \n",
      "[626]\ttraining's auc: 0.980434\ttraining's binary_logloss: 0.274792\tvalid_1's auc: 0.937306\tvalid_1's binary_logloss: 0.524365\n",
      ">> ROC-AUC Score 0.920554                                                               \n",
      ">> Custom Score 0.923388                                                                \n",
      "\n",
      "Training until validation scores don't improve for 200 rounds                           \n",
      "Early stopping, best iteration is:                                                      \n",
      "[393]\ttraining's auc: 0.976999\ttraining's binary_logloss: 0.382081\tvalid_1's auc: 0.932416\tvalid_1's binary_logloss: 0.570375\n",
      "Training until validation scores don't improve for 200 rounds                           \n",
      "Early stopping, best iteration is:                                                      \n",
      "[689]\ttraining's auc: 0.980227\ttraining's binary_logloss: 0.280789\tvalid_1's auc: 0.933666\tvalid_1's binary_logloss: 0.525209\n",
      ">> ROC-AUC Score 0.917691                                                               \n",
      ">> Custom Score 0.922485                                                                \n",
      "\n",
      "Training until validation scores don't improve for 200 rounds                           \n",
      "Early stopping, best iteration is:                                                      \n",
      "[382]\ttraining's auc: 0.976356\ttraining's binary_logloss: 0.3769\tvalid_1's auc: 0.931235\tvalid_1's binary_logloss: 0.569004\n",
      "Training until validation scores don't improve for 200 rounds                           \n",
      "Early stopping, best iteration is:                                                      \n",
      "[627]\ttraining's auc: 0.979109\ttraining's binary_logloss: 0.287185\tvalid_1's auc: 0.930861\tvalid_1's binary_logloss: 0.525769\n",
      ">> ROC-AUC Score 0.918739                                                               \n",
      ">> Custom Score 0.922538                                                                \n",
      "\n",
      "Training until validation scores don't improve for 200 rounds                           \n",
      "Early stopping, best iteration is:                                                      \n",
      "[395]\ttraining's auc: 0.977883\ttraining's binary_logloss: 0.363857\tvalid_1's auc: 0.934413\tvalid_1's binary_logloss: 0.567388\n",
      "Training until validation scores don't improve for 200 rounds                           \n",
      "Early stopping, best iteration is:                                                      \n",
      "[587]\ttraining's auc: 0.979718\ttraining's binary_logloss: 0.292457\tvalid_1's auc: 0.931856\tvalid_1's binary_logloss: 0.525957\n",
      ">> ROC-AUC Score 0.924654                                                               \n",
      ">> Custom Score 0.922623                                                                \n",
      "\n",
      "Training until validation scores don't improve for 200 rounds                           \n",
      "Early stopping, best iteration is:                                                      \n",
      "[397]\ttraining's auc: 0.97727\ttraining's binary_logloss: 0.369494\tvalid_1's auc: 0.93267\tvalid_1's binary_logloss: 0.566992\n",
      "Training until validation scores don't improve for 200 rounds                           \n",
      "Early stopping, best iteration is:                                                      \n",
      "[685]\ttraining's auc: 0.980233\ttraining's binary_logloss: 0.271623\tvalid_1's auc: 0.934015\tvalid_1's binary_logloss: 0.525229\n",
      ">> ROC-AUC Score 0.919516                                                               \n",
      ">> Custom Score 0.922268                                                                \n",
      "\n",
      "Training until validation scores don't improve for 200 rounds                           \n",
      "Early stopping, best iteration is:                                                      \n",
      "[397]\ttraining's auc: 0.976429\ttraining's binary_logloss: 0.397691\tvalid_1's auc: 0.930906\tvalid_1's binary_logloss: 0.571648\n",
      "Training until validation scores don't improve for 200 rounds                           \n",
      "Early stopping, best iteration is:                                                      \n",
      "[744]\ttraining's auc: 0.980087\ttraining's binary_logloss: 0.283924\tvalid_1's auc: 0.936149\tvalid_1's binary_logloss: 0.519307\n",
      ">> ROC-AUC Score 0.916036                                                               \n",
      ">> Custom Score 0.922040                                                                \n",
      "\n",
      "Training until validation scores don't improve for 200 rounds                           \n",
      "Early stopping, best iteration is:                                                      \n",
      "[381]\ttraining's auc: 0.976911\ttraining's binary_logloss: 0.370296\tvalid_1's auc: 0.932408\tvalid_1's binary_logloss: 0.566372\n",
      "Training until validation scores don't improve for 200 rounds                           \n",
      "Early stopping, best iteration is:                                                      \n",
      "[634]\ttraining's auc: 0.979378\ttraining's binary_logloss: 0.27904\tvalid_1's auc: 0.931661\tvalid_1's binary_logloss: 0.523953\n",
      ">> ROC-AUC Score 0.920002                                                               \n",
      ">> Custom Score 0.922182                                                                \n",
      "\n",
      "Training until validation scores don't improve for 200 rounds                           \n",
      "Early stopping, best iteration is:                                                      \n",
      "[364]\ttraining's auc: 0.977167\ttraining's binary_logloss: 0.376196\tvalid_1's auc: 0.933584\tvalid_1's binary_logloss: 0.567856\n",
      "Training until validation scores don't improve for 200 rounds                           \n",
      "Early stopping, best iteration is:                                                      \n",
      "[592]\ttraining's auc: 0.979701\ttraining's binary_logloss: 0.288528\tvalid_1's auc: 0.934529\tvalid_1's binary_logloss: 0.522903\n",
      ">> ROC-AUC Score 0.922687                                                               \n",
      ">> Custom Score 0.922851                                                                \n",
      "\n",
      "Training until validation scores don't improve for 200 rounds                           \n",
      "Early stopping, best iteration is:                                                      \n",
      "[397]\ttraining's auc: 0.978241\ttraining's binary_logloss: 0.355785\tvalid_1's auc: 0.935215\tvalid_1's binary_logloss: 0.564098\n",
      "Training until validation scores don't improve for 200 rounds                           \n",
      "Early stopping, best iteration is:                                                      \n",
      "[645]\ttraining's auc: 0.98069\ttraining's binary_logloss: 0.269624\tvalid_1's auc: 0.935278\tvalid_1's binary_logloss: 0.522428\n",
      ">> ROC-AUC Score 0.924292                                                               \n",
      ">> Custom Score 0.922801                                                                \n",
      "\n",
      "Training until validation scores don't improve for 200 rounds                           \n",
      "Early stopping, best iteration is:                                                      \n",
      "[382]\ttraining's auc: 0.976794\ttraining's binary_logloss: 0.385817\tvalid_1's auc: 0.930602\tvalid_1's binary_logloss: 0.569417\n",
      "Training until validation scores don't improve for 200 rounds                           \n",
      "Early stopping, best iteration is:                                                      \n",
      "[728]\ttraining's auc: 0.980076\ttraining's binary_logloss: 0.270862\tvalid_1's auc: 0.933726\tvalid_1's binary_logloss: 0.524299\n",
      ">> ROC-AUC Score 0.913700                                                               \n",
      ">> Custom Score 0.922287                                                                \n",
      "\n",
      "Training until validation scores don't improve for 200 rounds                           \n",
      "Early stopping, best iteration is:                                                      \n",
      "[377]\ttraining's auc: 0.977022\ttraining's binary_logloss: 0.384009\tvalid_1's auc: 0.931802\tvalid_1's binary_logloss: 0.57193\n",
      "Training until validation scores don't improve for 200 rounds                           \n",
      "Early stopping, best iteration is:                                                      \n",
      "[654]\ttraining's auc: 0.980053\ttraining's binary_logloss: 0.284251\tvalid_1's auc: 0.933695\tvalid_1's binary_logloss: 0.530093\n",
      ">> ROC-AUC Score 0.916607                                                               \n",
      ">> Custom Score 0.922175                                                                \n",
      "\n",
      "Training until validation scores don't improve for 200 rounds                           \n",
      "Early stopping, best iteration is:                                                      \n",
      "[397]\ttraining's auc: 0.976957\ttraining's binary_logloss: 0.381332\tvalid_1's auc: 0.933081\tvalid_1's binary_logloss: 0.569187\n",
      "Training until validation scores don't improve for 200 rounds                           \n",
      "Early stopping, best iteration is:                                                      \n",
      "[671]\ttraining's auc: 0.979653\ttraining's binary_logloss: 0.287147\tvalid_1's auc: 0.931961\tvalid_1's binary_logloss: 0.524346\n",
      ">> ROC-AUC Score 0.918430                                                               \n",
      ">> Custom Score 0.922564                                                                \n",
      "\n",
      "Training until validation scores don't improve for 200 rounds                           \n",
      "Early stopping, best iteration is:                                                      \n",
      "[436]\ttraining's auc: 0.976594\ttraining's binary_logloss: 0.380971\tvalid_1's auc: 0.930836\tvalid_1's binary_logloss: 0.566542\n",
      "Training until validation scores don't improve for 200 rounds                           \n",
      "Early stopping, best iteration is:                                                      \n",
      "[791]\ttraining's auc: 0.979662\ttraining's binary_logloss: 0.274315\tvalid_1's auc: 0.932789\tvalid_1's binary_logloss: 0.527469\n",
      ">> ROC-AUC Score 0.915218                                                               \n",
      ">> Custom Score 0.921889                                                                \n",
      "\n",
      "Training until validation scores don't improve for 200 rounds                           \n",
      "Early stopping, best iteration is:                                                      \n",
      "[397]\ttraining's auc: 0.976871\ttraining's binary_logloss: 0.384144\tvalid_1's auc: 0.932259\tvalid_1's binary_logloss: 0.567908\n",
      "Training until validation scores don't improve for 200 rounds                           \n",
      "Early stopping, best iteration is:                                                      \n",
      "[712]\ttraining's auc: 0.9803\ttraining's binary_logloss: 0.27829\tvalid_1's auc: 0.937404\tvalid_1's binary_logloss: 0.520784\n",
      ">> ROC-AUC Score 0.919320                                                               \n",
      ">> Custom Score 0.923088                                                                \n",
      "\n",
      "Training until validation scores don't improve for 200 rounds                           \n",
      "Early stopping, best iteration is:                                                      \n",
      "[466]\ttraining's auc: 0.977467\ttraining's binary_logloss: 0.382092\tvalid_1's auc: 0.930652\tvalid_1's binary_logloss: 0.56877\n",
      "Training until validation scores don't improve for 200 rounds                           \n",
      "Early stopping, best iteration is:                                                      \n",
      "[848]\ttraining's auc: 0.980393\ttraining's binary_logloss: 0.276141\tvalid_1's auc: 0.932407\tvalid_1's binary_logloss: 0.529009\n",
      ">> ROC-AUC Score 0.914240                                                               \n",
      ">> Custom Score 0.922077                                                                \n",
      "\n",
      "Training until validation scores don't improve for 200 rounds                           \n",
      "Early stopping, best iteration is:                                                      \n",
      "[353]\ttraining's auc: 0.976902\ttraining's binary_logloss: 0.385502\tvalid_1's auc: 0.933675\tvalid_1's binary_logloss: 0.566435\n",
      "Training until validation scores don't improve for 200 rounds                           \n",
      "Early stopping, best iteration is:                                                      \n",
      "[611]\ttraining's auc: 0.979917\ttraining's binary_logloss: 0.28667\tvalid_1's auc: 0.934928\tvalid_1's binary_logloss: 0.52313\n",
      ">> ROC-AUC Score 0.919343                                                               \n",
      ">> Custom Score 0.922739                                                                \n",
      "\n",
      "Training until validation scores don't improve for 200 rounds                           \n",
      "Early stopping, best iteration is:                                                      \n",
      "[397]\ttraining's auc: 0.97771\ttraining's binary_logloss: 0.36315\tvalid_1's auc: 0.936676\tvalid_1's binary_logloss: 0.564176\n",
      "Training until validation scores don't improve for 200 rounds                           \n",
      "Early stopping, best iteration is:                                                      \n",
      "[633]\ttraining's auc: 0.980203\ttraining's binary_logloss: 0.278801\tvalid_1's auc: 0.936797\tvalid_1's binary_logloss: 0.522241\n",
      ">> ROC-AUC Score 0.926301                                                               \n",
      ">> Custom Score 0.923572                                                                \n",
      "\n",
      "Training until validation scores don't improve for 200 rounds                           \n",
      "Early stopping, best iteration is:                                                      \n",
      "[397]\ttraining's auc: 0.977513\ttraining's binary_logloss: 0.368299\tvalid_1's auc: 0.935266\tvalid_1's binary_logloss: 0.563044\n",
      "Training until validation scores don't improve for 200 rounds                           \n",
      "Early stopping, best iteration is:                                                      \n",
      "[618]\ttraining's auc: 0.979808\ttraining's binary_logloss: 0.288427\tvalid_1's auc: 0.936519\tvalid_1's binary_logloss: 0.518682\n",
      ">> ROC-AUC Score 0.926810                                                               \n",
      ">> Custom Score 0.922805                                                                \n",
      "\n",
      "Training until validation scores don't improve for 200 rounds                           \n",
      "Early stopping, best iteration is:                                                      \n",
      "[353]\ttraining's auc: 0.977106\ttraining's binary_logloss: 0.380966\tvalid_1's auc: 0.933678\tvalid_1's binary_logloss: 0.566512\n",
      "Training until validation scores don't improve for 200 rounds                           \n",
      "Early stopping, best iteration is:                                                      \n",
      "[620]\ttraining's auc: 0.98022\ttraining's binary_logloss: 0.279625\tvalid_1's auc: 0.935212\tvalid_1's binary_logloss: 0.525736\n",
      ">> ROC-AUC Score 0.918559                                                               \n",
      ">> Custom Score 0.922811                                                                \n",
      "\n",
      "Training until validation scores don't improve for 200 rounds                           \n",
      "Early stopping, best iteration is:                                                      \n",
      "[397]\ttraining's auc: 0.977387\ttraining's binary_logloss: 0.370246\tvalid_1's auc: 0.934207\tvalid_1's binary_logloss: 0.569188\n",
      "Training until validation scores don't improve for 200 rounds                           \n",
      "Early stopping, best iteration is:                                                      \n",
      "[634]\ttraining's auc: 0.979839\ttraining's binary_logloss: 0.28641\tvalid_1's auc: 0.935504\tvalid_1's binary_logloss: 0.522731\n",
      ">> ROC-AUC Score 0.924361                                                               \n",
      ">> Custom Score 0.922798                                                                \n",
      "\n",
      "Training until validation scores don't improve for 200 rounds                           \n",
      "Early stopping, best iteration is:                                                    \n",
      "[329]\ttraining's auc: 0.976796\ttraining's binary_logloss: 0.391387\tvalid_1's auc: 0.933472\tvalid_1's binary_logloss: 0.567633\n",
      "Training until validation scores don't improve for 200 rounds                         \n",
      "Early stopping, best iteration is:                                                    \n",
      "[576]\ttraining's auc: 0.979743\ttraining's binary_logloss: 0.29121\tvalid_1's auc: 0.934111\tvalid_1's binary_logloss: 0.522894\n",
      ">> ROC-AUC Score 0.918425                                                             \n",
      ">> Custom Score 0.922518                                                              \n",
      "\n",
      "Training until validation scores don't improve for 200 rounds                         \n",
      "Early stopping, best iteration is:                                                    \n",
      "[397]\ttraining's auc: 0.977661\ttraining's binary_logloss: 0.36528\tvalid_1's auc: 0.936276\tvalid_1's binary_logloss: 0.564327\n",
      "Training until validation scores don't improve for 200 rounds                         \n",
      "Early stopping, best iteration is:                                                    \n",
      "[622]\ttraining's auc: 0.980079\ttraining's binary_logloss: 0.284141\tvalid_1's auc: 0.936604\tvalid_1's binary_logloss: 0.520143\n",
      ">> ROC-AUC Score 0.927096                                                             \n",
      ">> Custom Score 0.923104                                                              \n",
      "\n",
      "Training until validation scores don't improve for 200 rounds                         \n",
      "Early stopping, best iteration is:                                                    \n",
      "[357]\ttraining's auc: 0.977307\ttraining's binary_logloss: 0.375786\tvalid_1's auc: 0.935378\tvalid_1's binary_logloss: 0.562498\n",
      "Training until validation scores don't improve for 200 rounds                         \n",
      "Early stopping, best iteration is:                                                    \n",
      "[609]\ttraining's auc: 0.980268\ttraining's binary_logloss: 0.279305\tvalid_1's auc: 0.93688\tvalid_1's binary_logloss: 0.523104\n",
      ">> ROC-AUC Score 0.922613                                                             \n",
      ">> Custom Score 0.923318                                                              \n",
      "\n",
      "Training until validation scores don't improve for 200 rounds                         \n",
      "Early stopping, best iteration is:                                                    \n",
      "[385]\ttraining's auc: 0.976952\ttraining's binary_logloss: 0.378674\tvalid_1's auc: 0.932609\tvalid_1's binary_logloss: 0.570156\n",
      "Training until validation scores don't improve for 200 rounds                         \n",
      "Early stopping, best iteration is:                                                    \n",
      "[634]\ttraining's auc: 0.97951\ttraining's binary_logloss: 0.289407\tvalid_1's auc: 0.933057\tvalid_1's binary_logloss: 0.522629\n",
      ">> ROC-AUC Score 0.920910                                                             \n",
      ">> Custom Score 0.922380                                                              \n",
      "\n",
      "Training until validation scores don't improve for 200 rounds                         \n",
      "Early stopping, best iteration is:                                                    \n",
      "[382]\ttraining's auc: 0.977536\ttraining's binary_logloss: 0.368824\tvalid_1's auc: 0.936228\tvalid_1's binary_logloss: 0.562862\n",
      "Training until validation scores don't improve for 200 rounds                         \n",
      "Early stopping, best iteration is:                                                    \n",
      "[575]\ttraining's auc: 0.979595\ttraining's binary_logloss: 0.295275\tvalid_1's auc: 0.932408\tvalid_1's binary_logloss: 0.526856\n",
      ">> ROC-AUC Score 0.924853                                                             \n",
      ">> Custom Score 0.922584                                                              \n",
      "\n",
      "Training until validation scores don't improve for 200 rounds                         \n",
      "Early stopping, best iteration is:                                                    \n",
      "[368]\ttraining's auc: 0.977408\ttraining's binary_logloss: 0.363345\tvalid_1's auc: 0.934839\tvalid_1's binary_logloss: 0.563734\n",
      "Training until validation scores don't improve for 200 rounds                         \n",
      "Early stopping, best iteration is:                                                    \n",
      "[625]\ttraining's auc: 0.980314\ttraining's binary_logloss: 0.268779\tvalid_1's auc: 0.934045\tvalid_1's binary_logloss: 0.523277\n",
      ">> ROC-AUC Score 0.921837                                                             \n",
      ">> Custom Score 0.922221                                                              \n",
      "\n",
      "Training until validation scores don't improve for 200 rounds                         \n",
      "Early stopping, best iteration is:                                                    \n",
      "[382]\ttraining's auc: 0.977242\ttraining's binary_logloss: 0.37483\tvalid_1's auc: 0.933594\tvalid_1's binary_logloss: 0.567119\n",
      "Training until validation scores don't improve for 200 rounds                         \n",
      "Early stopping, best iteration is:                                                    \n",
      "[617]\ttraining's auc: 0.979813\ttraining's binary_logloss: 0.28795\tvalid_1's auc: 0.935148\tvalid_1's binary_logloss: 0.520818\n",
      ">> ROC-AUC Score 0.923264                                                             \n",
      ">> Custom Score 0.923045                                                              \n",
      "\n",
      "Training until validation scores don't improve for 200 rounds                         \n",
      "Early stopping, best iteration is:                                                    \n",
      "[398]\ttraining's auc: 0.977641\ttraining's binary_logloss: 0.363781\tvalid_1's auc: 0.935509\tvalid_1's binary_logloss: 0.563613\n",
      "Training until validation scores don't improve for 200 rounds                         \n",
      "Early stopping, best iteration is:                                                    \n",
      "[615]\ttraining's auc: 0.979779\ttraining's binary_logloss: 0.285824\tvalid_1's auc: 0.9342\tvalid_1's binary_logloss: 0.522755\n",
      ">> ROC-AUC Score 0.925485                                                             \n",
      ">> Custom Score 0.923108                                                              \n",
      "\n",
      "Training until validation scores don't improve for 200 rounds                         \n",
      "Early stopping, best iteration is:                                                    \n",
      "[395]\ttraining's auc: 0.976084\ttraining's binary_logloss: 0.383542\tvalid_1's auc: 0.929895\tvalid_1's binary_logloss: 0.573887\n",
      "Training until validation scores don't improve for 200 rounds                         \n",
      "Early stopping, best iteration is:                                                    \n",
      "[631]\ttraining's auc: 0.978757\ttraining's binary_logloss: 0.298217\tvalid_1's auc: 0.931319\tvalid_1's binary_logloss: 0.522222\n",
      ">> ROC-AUC Score 0.919430                                                             \n",
      ">> Custom Score 0.922070                                                              \n",
      "\n",
      "Training until validation scores don't improve for 200 rounds                         \n",
      "Early stopping, best iteration is:                                                    \n",
      "[381]\ttraining's auc: 0.977306\ttraining's binary_logloss: 0.37802\tvalid_1's auc: 0.933549\tvalid_1's binary_logloss: 0.565874\n",
      "Training until validation scores don't improve for 200 rounds                         \n",
      "Early stopping, best iteration is:                                                    \n",
      "[619]\ttraining's auc: 0.979855\ttraining's binary_logloss: 0.291171\tvalid_1's auc: 0.934449\tvalid_1's binary_logloss: 0.519431\n",
      ">> ROC-AUC Score 0.922841                                                             \n",
      ">> Custom Score 0.922775                                                              \n",
      "\n",
      "Training until validation scores don't improve for 200 rounds                         \n",
      "Early stopping, best iteration is:                                                    \n",
      "[332]\ttraining's auc: 0.976705\ttraining's binary_logloss: 0.386878\tvalid_1's auc: 0.92989\tvalid_1's binary_logloss: 0.568232\n",
      "Training until validation scores don't improve for 200 rounds                         \n",
      "Early stopping, best iteration is:                                                    \n",
      "[632]\ttraining's auc: 0.980182\ttraining's binary_logloss: 0.272199\tvalid_1's auc: 0.93355\tvalid_1's binary_logloss: 0.524441\n",
      ">> ROC-AUC Score 0.912926                                                             \n",
      ">> Custom Score 0.922525                                                              \n",
      "\n",
      "Training until validation scores don't improve for 200 rounds                         \n",
      "Early stopping, best iteration is:                                                    \n",
      "[402]\ttraining's auc: 0.977636\ttraining's binary_logloss: 0.355867\tvalid_1's auc: 0.93349\tvalid_1's binary_logloss: 0.568734\n",
      "Training until validation scores don't improve for 200 rounds                         \n",
      "Early stopping, best iteration is:                                                    \n",
      "[631]\ttraining's auc: 0.979849\ttraining's binary_logloss: 0.275343\tvalid_1's auc: 0.933328\tvalid_1's binary_logloss: 0.521533\n",
      ">> ROC-AUC Score 0.924399                                                             \n",
      ">> Custom Score 0.922449                                                              \n",
      "\n",
      "Training until validation scores don't improve for 200 rounds                         \n",
      "Early stopping, best iteration is:                                                    \n",
      "[455]\ttraining's auc: 0.976157\ttraining's binary_logloss: 0.389\tvalid_1's auc: 0.928766\tvalid_1's binary_logloss: 0.573817\n",
      "Training until validation scores don't improve for 200 rounds                         \n",
      "Early stopping, best iteration is:                                                    \n",
      "[791]\ttraining's auc: 0.97965\ttraining's binary_logloss: 0.288435\tvalid_1's auc: 0.932602\tvalid_1's binary_logloss: 0.52371\n",
      ">> ROC-AUC Score 0.916314                                                             \n",
      ">> Custom Score 0.922445                                                              \n",
      "\n",
      "Training until validation scores don't improve for 200 rounds                         \n",
      "Early stopping, best iteration is:                                                    \n",
      "[353]\ttraining's auc: 0.975987\ttraining's binary_logloss: 0.398345\tvalid_1's auc: 0.930149\tvalid_1's binary_logloss: 0.568175\n",
      "Training until validation scores don't improve for 200 rounds                         \n",
      "Early stopping, best iteration is:                                                    \n",
      "[634]\ttraining's auc: 0.979159\ttraining's binary_logloss: 0.293233\tvalid_1's auc: 0.933515\tvalid_1's binary_logloss: 0.523134\n",
      ">> ROC-AUC Score 0.915460                                                             \n",
      ">> Custom Score 0.922271                                                              \n",
      "\n",
      "Training until validation scores don't improve for 200 rounds                         \n",
      "Early stopping, best iteration is:                                                    \n",
      "[364]\ttraining's auc: 0.977052\ttraining's binary_logloss: 0.374631\tvalid_1's auc: 0.93298\tvalid_1's binary_logloss: 0.567688\n",
      "Training until validation scores don't improve for 200 rounds                         \n",
      "Early stopping, best iteration is:                                                    \n",
      "[587]\ttraining's auc: 0.979625\ttraining's binary_logloss: 0.288901\tvalid_1's auc: 0.934445\tvalid_1's binary_logloss: 0.5235\n",
      ">> ROC-AUC Score 0.922663                                                             \n",
      ">> Custom Score 0.922867                                                              \n",
      "\n",
      "Training until validation scores don't improve for 200 rounds                         \n",
      "Early stopping, best iteration is:                                                    \n",
      "[380]\ttraining's auc: 0.977477\ttraining's binary_logloss: 0.374085\tvalid_1's auc: 0.931531\tvalid_1's binary_logloss: 0.567334\n",
      "Training until validation scores don't improve for 200 rounds                         \n",
      "Early stopping, best iteration is:                                                    \n",
      "[630]\ttraining's auc: 0.979974\ttraining's binary_logloss: 0.284261\tvalid_1's auc: 0.931517\tvalid_1's binary_logloss: 0.526007\n",
      ">> ROC-AUC Score 0.918793                                                             \n",
      ">> Custom Score 0.921988                                                              \n",
      "\n",
      "Training until validation scores don't improve for 200 rounds                         \n",
      "Early stopping, best iteration is:                                                    \n",
      "[415]\ttraining's auc: 0.976894\ttraining's binary_logloss: 0.384978\tvalid_1's auc: 0.933415\tvalid_1's binary_logloss: 0.567841\n",
      "Training until validation scores don't improve for 200 rounds                         \n",
      "Early stopping, best iteration is:                                                    \n",
      "[708]\ttraining's auc: 0.979888\ttraining's binary_logloss: 0.288053\tvalid_1's auc: 0.935112\tvalid_1's binary_logloss: 0.523963\n",
      ">> ROC-AUC Score 0.920322                                                             \n",
      ">> Custom Score 0.922844                                                              \n",
      "\n",
      "Training until validation scores don't improve for 200 rounds                         \n",
      "Early stopping, best iteration is:                                                    \n",
      "[422]\ttraining's auc: 0.977523\ttraining's binary_logloss: 0.361462\tvalid_1's auc: 0.933632\tvalid_1's binary_logloss: 0.565759\n",
      "Training until validation scores don't improve for 200 rounds                         \n",
      "Early stopping, best iteration is:                                                    \n",
      "[702]\ttraining's auc: 0.980261\ttraining's binary_logloss: 0.269693\tvalid_1's auc: 0.935767\tvalid_1's binary_logloss: 0.521622\n",
      ">> ROC-AUC Score 0.923641                                                             \n",
      ">> Custom Score 0.922277                                                              \n",
      "\n",
      "Training until validation scores don't improve for 200 rounds                         \n",
      "Early stopping, best iteration is:                                                    \n",
      "[397]\ttraining's auc: 0.97607\ttraining's binary_logloss: 0.390245\tvalid_1's auc: 0.930616\tvalid_1's binary_logloss: 0.569497\n",
      "Training until validation scores don't improve for 200 rounds                         \n",
      "Early stopping, best iteration is:                                                    \n",
      "[701]\ttraining's auc: 0.979324\ttraining's binary_logloss: 0.288506\tvalid_1's auc: 0.933553\tvalid_1's binary_logloss: 0.522899\n",
      ">> ROC-AUC Score 0.916884                                                             \n",
      ">> Custom Score 0.922205                                                              \n",
      "\n",
      "Training until validation scores don't improve for 200 rounds                         \n",
      "Early stopping, best iteration is:                                                    \n",
      "[334]\ttraining's auc: 0.976833\ttraining's binary_logloss: 0.38931\tvalid_1's auc: 0.932894\tvalid_1's binary_logloss: 0.569581\n",
      "Training until validation scores don't improve for 200 rounds                         \n",
      "Early stopping, best iteration is:                                                    \n",
      "[627]\ttraining's auc: 0.980473\ttraining's binary_logloss: 0.275613\tvalid_1's auc: 0.937523\tvalid_1's binary_logloss: 0.525019\n",
      ">> ROC-AUC Score 0.916460                                                             \n",
      ">> Custom Score 0.922811                                                              \n",
      "\n",
      "Training until validation scores don't improve for 200 rounds                         \n",
      "Early stopping, best iteration is:                                                    \n",
      "[395]\ttraining's auc: 0.977865\ttraining's binary_logloss: 0.367695\tvalid_1's auc: 0.934096\tvalid_1's binary_logloss: 0.567163\n",
      "Training until validation scores don't improve for 200 rounds                         \n",
      "Early stopping, best iteration is:                                                    \n",
      "[619]\ttraining's auc: 0.980083\ttraining's binary_logloss: 0.286876\tvalid_1's auc: 0.933211\tvalid_1's binary_logloss: 0.524396\n",
      ">> ROC-AUC Score 0.923578                                                             \n",
      ">> Custom Score 0.923045                                                              \n",
      "\n",
      "Training until validation scores don't improve for 200 rounds                         \n",
      "Early stopping, best iteration is:                                                    \n",
      "[413]\ttraining's auc: 0.977219\ttraining's binary_logloss: 0.372366\tvalid_1's auc: 0.934532\tvalid_1's binary_logloss: 0.562362\n",
      "Training until validation scores don't improve for 200 rounds                         \n",
      "Early stopping, best iteration is:                                                    \n",
      "[691]\ttraining's auc: 0.979767\ttraining's binary_logloss: 0.28082\tvalid_1's auc: 0.932192\tvalid_1's binary_logloss: 0.5241\n",
      ">> ROC-AUC Score 0.919912                                                             \n",
      ">> Custom Score 0.922462                                                              \n",
      "\n",
      "Training until validation scores don't improve for 200 rounds                         \n",
      "Early stopping, best iteration is:                                                    \n",
      "[422]\ttraining's auc: 0.976754\ttraining's binary_logloss: 0.386648\tvalid_1's auc: 0.931266\tvalid_1's binary_logloss: 0.570864\n",
      "Training until validation scores don't improve for 200 rounds                         \n",
      "Early stopping, best iteration is:                                                    \n",
      "[744]\ttraining's auc: 0.979816\ttraining's binary_logloss: 0.284979\tvalid_1's auc: 0.934359\tvalid_1's binary_logloss: 0.523255\n",
      ">> ROC-AUC Score 0.917740                                                             \n",
      ">> Custom Score 0.922617                                                              \n",
      "\n",
      "Training until validation scores don't improve for 200 rounds                         \n",
      "Early stopping, best iteration is:                                                    \n",
      "[343]\ttraining's auc: 0.976851\ttraining's binary_logloss: 0.382147\tvalid_1's auc: 0.931142\tvalid_1's binary_logloss: 0.564548\n",
      "Training until validation scores don't improve for 200 rounds                         \n",
      "Early stopping, best iteration is:                                                    \n",
      "[610]\ttraining's auc: 0.979796\ttraining's binary_logloss: 0.279155\tvalid_1's auc: 0.931852\tvalid_1's binary_logloss: 0.522597\n",
      ">> ROC-AUC Score 0.915982                                                             \n",
      ">> Custom Score 0.921981                                                              \n",
      "\n",
      "Training until validation scores don't improve for 200 rounds                         \n",
      "Early stopping, best iteration is:                                                    \n",
      "[385]\ttraining's auc: 0.976658\ttraining's binary_logloss: 0.383089\tvalid_1's auc: 0.931883\tvalid_1's binary_logloss: 0.572661\n",
      "Training until validation scores don't improve for 200 rounds                         \n",
      "Early stopping, best iteration is:                                                    \n",
      "[636]\ttraining's auc: 0.979182\ttraining's binary_logloss: 0.293739\tvalid_1's auc: 0.934135\tvalid_1's binary_logloss: 0.518506\n",
      ">> ROC-AUC Score 0.921973                                                             \n",
      ">> Custom Score 0.921879                                                              \n",
      "\n",
      "Training until validation scores don't improve for 200 rounds                         \n",
      "Early stopping, best iteration is:                                                    \n",
      "[381]\ttraining's auc: 0.977344\ttraining's binary_logloss: 0.377426\tvalid_1's auc: 0.933105\tvalid_1's binary_logloss: 0.568733\n",
      "Training until validation scores don't improve for 200 rounds                         \n",
      "Early stopping, best iteration is:                                                    \n",
      "[631]\ttraining's auc: 0.980146\ttraining's binary_logloss: 0.287012\tvalid_1's auc: 0.933151\tvalid_1's binary_logloss: 0.526272\n",
      ">> ROC-AUC Score 0.919567                                                             \n",
      ">> Custom Score 0.922798                                                              \n",
      "\n",
      "Training until validation scores don't improve for 200 rounds                         \n",
      "Early stopping, best iteration is:                                                    \n",
      "[323]\ttraining's auc: 0.976755\ttraining's binary_logloss: 0.390228\tvalid_1's auc: 0.932307\tvalid_1's binary_logloss: 0.562818\n",
      "Training until validation scores don't improve for 200 rounds                         \n",
      "Early stopping, best iteration is:                                                    \n",
      "[598]\ttraining's auc: 0.979949\ttraining's binary_logloss: 0.280354\tvalid_1's auc: 0.932905\tvalid_1's binary_logloss: 0.524841\n",
      ">> ROC-AUC Score 0.913724                                                             \n",
      ">> Custom Score 0.921856                                                              \n",
      "\n",
      "Training until validation scores don't improve for 200 rounds                         \n",
      "Early stopping, best iteration is:                                                    \n",
      "[435]\ttraining's auc: 0.976712\ttraining's binary_logloss: 0.386501\tvalid_1's auc: 0.930869\tvalid_1's binary_logloss: 0.569265\n",
      "Training until validation scores don't improve for 200 rounds                         \n",
      "Early stopping, best iteration is:                                                    \n",
      "[729]\ttraining's auc: 0.97946\ttraining's binary_logloss: 0.294169\tvalid_1's auc: 0.932111\tvalid_1's binary_logloss: 0.523459\n",
      ">> ROC-AUC Score 0.918354                                                             \n",
      ">> Custom Score 0.922165                                                              \n",
      "\n",
      "Training until validation scores don't improve for 200 rounds                         \n",
      "Early stopping, best iteration is:                                                    \n",
      "[401]\ttraining's auc: 0.977296\ttraining's binary_logloss: 0.368434\tvalid_1's auc: 0.933211\tvalid_1's binary_logloss: 0.564672\n",
      "Training until validation scores don't improve for 200 rounds                         \n",
      "Early stopping, best iteration is:                                                    \n",
      "[711]\ttraining's auc: 0.980575\ttraining's binary_logloss: 0.264518\tvalid_1's auc: 0.935911\tvalid_1's binary_logloss: 0.525512\n",
      ">> ROC-AUC Score 0.919251                                                             \n",
      ">> Custom Score 0.922347                                                              \n",
      "\n",
      "Training until validation scores don't improve for 200 rounds                         \n",
      "Early stopping, best iteration is:                                                    \n",
      "[354]\ttraining's auc: 0.976544\ttraining's binary_logloss: 0.39134\tvalid_1's auc: 0.931824\tvalid_1's binary_logloss: 0.570395\n",
      "Training until validation scores don't improve for 200 rounds                         \n",
      "Early stopping, best iteration is:                                                    \n",
      "[632]\ttraining's auc: 0.979688\ttraining's binary_logloss: 0.287397\tvalid_1's auc: 0.934283\tvalid_1's binary_logloss: 0.523116\n",
      ">> ROC-AUC Score 0.916803                                                             \n",
      ">> Custom Score 0.922419                                                              \n",
      "\n",
      "100%|██████████| 100/100 [3:20:14<00:00, 120.14s/trial, best loss: -0.9279738797294664]\n"
     ]
    }
   ],
   "source": [
    "# Initialize trials object\n",
    "trials = Trials()\n",
    "\n",
    "best = fmin(\n",
    "    fn=fmin_objective,\n",
    "    space=space_params, \n",
    "    algo=tpe.suggest, \n",
    "    max_evals=100, \n",
    "    trials=trials\n",
    ")"
   ]
  },
  {
   "cell_type": "markdown",
   "id": "eb26f496-8400-4efd-bae5-9298bd7d7cd8",
   "metadata": {
    "tags": []
   },
   "source": [
    "<div style=\"background-color: #506AB9;\" >\n",
    "    <h4 style=\"margin: auto; padding: 20px; color:#fff; \">3.3.1. The best parameters</h4>\n",
    "</div>"
   ]
  },
  {
   "cell_type": "markdown",
   "id": "e5918cdb-5493-401e-8663-0441de3f5e0d",
   "metadata": {
    "tags": []
   },
   "source": [
    "<div class=\"alert alert-block alert-success\">\n",
    "    <p>Let's print the best parameters</p>\n",
    "</div>"
   ]
  },
  {
   "cell_type": "code",
   "execution_count": 36,
   "id": "6121a06c-c039-4b7b-b1ed-886228b5355a",
   "metadata": {},
   "outputs": [
    {
     "name": "stdout",
     "output_type": "stream",
     "text": [
      "Best: {'learning_rate': 0.0029945769814338657, 'max_depth': 0, 'min_child_weight': 46.367427751310345, 'min_split_gain': 0.02342041359964097, 'n_estimators': 0, 'num_leaves': 1, 'reg_alpha': 0.05035988378983526, 'reg_lambda': 0.07374403233913371}\n"
     ]
    }
   ],
   "source": [
    "print(\"Best: {}\".format(best))"
   ]
  },
  {
   "cell_type": "markdown",
   "id": "ad281d54-31ee-4972-b560-14ddba620b2f",
   "metadata": {
    "tags": []
   },
   "source": [
    "<div style=\"background-color: #506AB9;\" >\n",
    "    <h3 style=\"margin: auto; padding: 20px; color:#fff; \">3.4. Final model</h3>\n",
    "</div>"
   ]
  },
  {
   "cell_type": "markdown",
   "id": "5d80b2f0-469e-4820-bd6c-bb15461c6b0d",
   "metadata": {
    "tags": []
   },
   "source": [
    "<div class=\"alert alert-block alert-info\">\n",
    "    <p>Finally, we can execute the model based on the best parameters.</p>\n",
    "</div>"
   ]
  },
  {
   "cell_type": "code",
   "execution_count": 55,
   "id": "68eec375-9163-4fe8-ab56-2bc9376a9118",
   "metadata": {},
   "outputs": [],
   "source": [
    "def final_model(best_parameters, df, imbalanced, n_splits, graph):\n",
    "    \"\"\"\n",
    "    Method used to analyze on the DataFrame.\n",
    "\n",
    "    Parameters:\n",
    "    -----------------\n",
    "        space_params (dict): Parameters to optimize the model\n",
    "        df (pandas.DataFrame): Dataset to treat\n",
    "        imbalanced (boolean): Define whether dataset is unbalanced\n",
    "        n_splits (int): To split data in train test sets\n",
    "        graph (boolean): Flag to plot or not\n",
    "\n",
    "    Returns:\n",
    "    -----------------\n",
    "        Loss and STATUS.\n",
    "    \"\"\"\n",
    "    \n",
    "    # Formatting columns name\n",
    "    df = df.rename(columns=lambda x:re.sub(\"[^A-Za-z0-9_]+\", \"\", x))\n",
    "    df_lgbm = df.copy()\n",
    "    \n",
    "    scaler = StandardScaler()\n",
    "    \n",
    "    # Divide in training/validation and test data\n",
    "    train_df = df_lgbm[df_lgbm[\"TARGET\"].notnull()]\n",
    "    test_df = df_lgbm[df_lgbm[\"TARGET\"].isnull()]\n",
    "    del df_lgbm\n",
    "    gc.collect()\n",
    "    \n",
    "    # Cross validation model\n",
    "    folds = KFold(n_splits=n_splits, shuffle=True, random_state=42)\n",
    "    \n",
    "    # Create arrays and dataframes to store results\n",
    "    oof_preds = np.zeros(train_df.shape[0])\n",
    "    #sub_preds = np.zeros(test_df.shape[0])\n",
    "    feature_importance_df = pd.DataFrame()\n",
    "    feats = [f for f in train_df.columns if f not in [\"TARGET\", \"SK_ID_CURR\", \"SK_ID_BUREAU\", \"SK_ID_PREV\"]]\n",
    "    \n",
    "    for n_fold, (train_idx, valid_idx) in enumerate(folds.split(train_df[feats], train_df[\"TARGET\"])):\n",
    "        \n",
    "        print(\"\\n\")\n",
    "        \n",
    "        train_x, train_y = train_df[feats].iloc[train_idx], train_df[\"TARGET\"].iloc[train_idx]\n",
    "        valid_x, valid_y = train_df[feats].iloc[valid_idx], train_df[\"TARGET\"].iloc[valid_idx]\n",
    "    \n",
    "        train_x_scaled = scaler.fit_transform(train_x)\n",
    "        valid_x_scaled = scaler.fit_transform(valid_x)\n",
    "        \n",
    "        # LightGBM parameters found by Bayesian optimization\n",
    "        clf = LGBMClassifier(\n",
    "            n_estimators=8000,\n",
    "            learning_rate=0.0029945769814338657,\n",
    "            num_leaves=34,\n",
    "            max_depth=7,\n",
    "            reg_alpha=0.05035988378983526,\n",
    "            reg_lambda=0.07374403233913371,\n",
    "            min_split_gain=0.0234204135996409,\n",
    "            min_child_weight=46.367427751310345,\n",
    "            colsample_bytree=0.8, \n",
    "            subsample=0.8,\n",
    "            is_unbalance=imbalanced,\n",
    "            n_jobs=-1 \n",
    "        )\n",
    "        \n",
    "        evaluation = [(train_x_scaled, train_y), (valid_x_scaled, valid_y)]\n",
    "        \n",
    "        clf.fit(train_x_scaled, train_y, eval_set=evaluation, eval_metric=\"auc\",\n",
    "                callbacks=[lgb.early_stopping(stopping_rounds=200),\n",
    "                          lgb.log_evaluation(period=-1)])\n",
    "        \n",
    "        oof_preds[valid_idx] = clf.predict_proba(valid_x_scaled, num_iteration=clf.best_iteration_)[:, 1]\n",
    "\n",
    "        fold_importance_df = pd.DataFrame()\n",
    "        fold_importance_df[\"feature\"] = feats\n",
    "        fold_importance_df[\"importance\"] = clf.feature_importances_\n",
    "        fold_importance_df[\"fold\"] = n_fold + 1\n",
    "        feature_importance_df = pd.concat([feature_importance_df, fold_importance_df], axis=0)\n",
    "        print('Fold %2d AUC : %.6f' % (n_fold + 1, roc_auc_score(valid_y, oof_preds[valid_idx])))\n",
    "        del clf, train_x, train_x_scaled, train_y, valid_x, valid_x_scaled, valid_y\n",
    "        gc.collect()\n",
    "    \n",
    "    auc = roc_auc_score(train_df[\"TARGET\"], oof_preds)\n",
    "    print(\">> ROC-AUC Score %.6f\" % auc )\n",
    "    \n",
    "    cs = custom_score(train_df[\"TARGET\"], oof_preds)\n",
    "    print(\">> Custom Score %.6f\\n\" % cs )\n",
    "    \n",
    "    if not imbalanced and graph:\n",
    "        \n",
    "        from sklearn.metrics import PrecisionRecallDisplay\n",
    "        display = PrecisionRecallDisplay.from_predictions(train_df[\"TARGET\"].ravel(), oof_preds.ravel(), name=\"LinearSVC\")\n",
    "        _ = display.ax_.set_title(\"2-class Precision-Recall curve\")\n",
    "        \n",
    "    return feature_importance_df"
   ]
  },
  {
   "cell_type": "code",
   "execution_count": 56,
   "id": "3d7a7769-2379-46e3-89de-77c2081ab980",
   "metadata": {},
   "outputs": [],
   "source": [
    "# Display/plot feature importance\n",
    "def display_importances(feature_importance_df_):\n",
    "    cols = feature_importance_df_[[\"feature\", \"importance\"]].groupby(\"feature\").mean().sort_values(by=\"importance\", ascending=False)[:40].index\n",
    "    best_features = feature_importance_df_.loc[feature_importance_df_.feature.isin(cols)]\n",
    "    plt.figure(figsize=(12, 10))\n",
    "    sns.barplot(x=\"importance\", y=\"feature\", data=best_features.sort_values(by=\"importance\", ascending=False))\n",
    "    plt.title('LightGBM Features (avg over folds)')\n",
    "    plt.tight_layout()\n",
    "    plt.show()"
   ]
  },
  {
   "cell_type": "code",
   "execution_count": 57,
   "id": "cf0ae6ea-1440-447e-8fc8-29f39a0499aa",
   "metadata": {},
   "outputs": [
    {
     "name": "stdout",
     "output_type": "stream",
     "text": [
      "\n",
      "\n",
      "Training until validation scores don't improve for 200 rounds\n",
      "Early stopping, best iteration is:\n",
      "[401]\ttraining's auc: 0.977858\ttraining's binary_logloss: 0.357263\tvalid_1's auc: 0.936093\tvalid_1's binary_logloss: 0.56614\n",
      "Fold  1 AUC : 0.936093\n",
      "\n",
      "\n",
      "Training until validation scores don't improve for 200 rounds\n",
      "Early stopping, best iteration is:\n",
      "[587]\ttraining's auc: 0.979711\ttraining's binary_logloss: 0.288123\tvalid_1's auc: 0.933881\tvalid_1's binary_logloss: 0.524145\n",
      "Fold  2 AUC : 0.933881\n",
      ">> ROC-AUC Score 0.927974\n",
      ">> Custom Score 0.922716\n",
      "\n"
     ]
    }
   ],
   "source": [
    "feat_importance = final_model(best, df=df_resampled, imbalanced=False, n_splits=2, graph=False)"
   ]
  },
  {
   "cell_type": "code",
   "execution_count": 58,
   "id": "e55e2cf6-2286-40f2-8816-aabfd1f3a408",
   "metadata": {},
   "outputs": [
    {
     "data": {
      "image/png": "[encoded data removed]",
      "text/plain": [
       "<Figure size 864x720 with 1 Axes>"
      ]
     },
     "metadata": {
      "needs_background": "light"
     },
     "output_type": "display_data"
    }
   ],
   "source": [
    "display_importances(feat_importance)"
   ]
  },
  {
   "cell_type": "markdown",
   "id": "709e59b9-2ff1-4df7-ab1e-08736cc26f8d",
   "metadata": {
    "tags": []
   },
   "source": [
    "<div class=\"alert alert-block alert-danger\">\n",
    "    <h2>>>>>>>>> FLAG &lt;&lt;&lt;&lt;&lt;&lt;&lt;&lt; </h2>\n",
    "</div>"
   ]
  },
  {
   "cell_type": "code",
   "execution_count": 35,
   "id": "e5352672-203e-48c9-8dfd-390860a3c5cb",
   "metadata": {
    "tags": []
   },
   "outputs": [
    {
     "ename": "SystemExit",
     "evalue": "Stop right there!",
     "output_type": "error",
     "traceback": [
      "An exception has occurred, use %tb to see the full traceback.\n",
      "\u001b[1;31mSystemExit\u001b[0m\u001b[1;31m:\u001b[0m Stop right there!\n"
     ]
    },
    {
     "name": "stderr",
     "output_type": "stream",
     "text": [
      "C:\\Users\\Samir\\anaconda3\\lib\\site-packages\\IPython\\core\\interactiveshell.py:3452: UserWarning: To exit: use 'exit', 'quit', or Ctrl-D.\n",
      "  warn(\"To exit: use 'exit', 'quit', or Ctrl-D.\", stacklevel=1)\n"
     ]
    }
   ],
   "source": [
    "raise SystemExit(\"Stop right there!\")"
   ]
  },
  {
   "cell_type": "markdown",
   "id": "6dd98e13-43d0-4ab0-81bd-e804ae4394b2",
   "metadata": {
    "tags": []
   },
   "source": [
    "<div class=\"alert alert-block alert-danger\">\n",
    "    <h2>>>>>>>>> FLAG &lt;&lt;&lt;&lt;&lt;&lt;&lt;&lt; </h2>\n",
    "</div>"
   ]
  },
  {
   "cell_type": "markdown",
   "id": "ea2df3c1-308b-4fa2-a5e8-06a8b6fcad93",
   "metadata": {},
   "source": [
    "https://www.analyticsvidhya.com/blog/2021/08/complete-guide-on-how-to-use-lightgbm-in-python/\n",
    "\n",
    "https://nitin9809.medium.com/lightgbm-binary-classification-multi-class-classification-regression-using-python-4f22032b36a2"
   ]
  },
  {
   "cell_type": "code",
   "execution_count": null,
   "id": "1a3ee047-5a87-4da1-9a66-834e825644d7",
   "metadata": {},
   "outputs": [],
   "source": []
  }
 ],
 "metadata": {
  "kernelspec": {
   "display_name": "Python 3 (ipykernel)",
   "language": "python",
   "name": "python3"
  },
  "language_info": {
   "codemirror_mode": {
    "name": "ipython",
    "version": 3
   },
   "file_extension": ".py",
   "mimetype": "text/x-python",
   "name": "python",
   "nbconvert_exporter": "python",
   "pygments_lexer": "ipython3",
   "version": "3.9.7"
  }
 },
 "nbformat": 4,
 "nbformat_minor": 5
}
