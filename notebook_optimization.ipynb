{
 "cells": [
  {
   "cell_type": "markdown",
   "id": "c8e6a558-388d-43bc-a18f-fa2f11c91b62",
   "metadata": {
    "tags": []
   },
   "source": [
    "<div style=\"display: flex; background-color: #3F579F;\">\n",
    "    <h1 style=\"margin: auto; font-weight: bold; padding: 30px 30px 0px 30px; color:#fff;\" align=\"center\">Implement a scoring model - P7</h1>\n",
    "</div>\n",
    "<div style=\"display: flex; background-color: #3F579F; margin: auto; padding: 5px 30px 0px 30px;\" >\n",
    "    <h3 style=\"width: 100%; text-align: center; float: left; font-size: 24px; color:#fff;\" align=\"center\">| Notebook optimization |</h3>\n",
    "</div>\n",
    "<div style=\"display: flex; background-color: #3F579F; margin: auto; padding: 10px 30px 30px 30px;\">\n",
    "    <h4 style=\"width: 100%; text-align: center; float: left; font-size: 24px; color:#fff;\" align=\"center\">Data Scientist course - OpenClassrooms</h4>\n",
    "</div>"
   ]
  },
  {
   "cell_type": "markdown",
   "id": "a071f085-b566-4595-a02b-30aa8064888b",
   "metadata": {
    "tags": []
   },
   "source": [
    "<div style=\"background-color: #506AB9;\" >\n",
    "    <h2 style=\"margin: auto; padding: 20px; color:#fff; \">1. Libraries and files</h2>\n",
    "</div>"
   ]
  },
  {
   "cell_type": "markdown",
   "id": "b1409272-303e-46f2-b6a6-729a491957fa",
   "metadata": {
    "tags": []
   },
   "source": [
    "<div style=\"background-color: #506AB9;\" >\n",
    "    <h3 style=\"margin: auto; padding: 20px; color:#fff; \">1.1. Libraries</h3>\n",
    "</div>"
   ]
  },
  {
   "cell_type": "code",
   "execution_count": 1,
   "id": "d22e0155-efb4-4760-af1a-323097c5535f",
   "metadata": {},
   "outputs": [],
   "source": [
    "import re\n",
    "import numpy as np\n",
    "import pandas as pd\n",
    "from functools import partial\n",
    "\n",
    "from imblearn.over_sampling import SMOTE\n",
    "\n",
    "import lightgbm as lgb\n",
    "from lightgbm import LGBMClassifier\n",
    "\n",
    "import sklearn\n",
    "from sklearn.metrics import (roc_auc_score, roc_curve, \n",
    "                             precision_recall_curve, confusion_matrix, \n",
    "                             PrecisionRecallDisplay, ConfusionMatrixDisplay)\n",
    "from sklearn.model_selection import KFold, StratifiedKFold, train_test_split\n",
    "from sklearn.preprocessing import StandardScaler\n",
    "\n",
    "# Hyperparametrization\n",
    "from hyperopt import tpe, hp, fmin, STATUS_OK, Trials, space_eval\n",
    "from hyperopt.pyll.base import scope\n",
    "\n",
    "import joblib\n",
    "\n",
    "## Own specific functions \n",
    "from functions import *"
   ]
  },
  {
   "cell_type": "markdown",
   "id": "9bb1ffa2-35ac-4f10-9fa9-9ccfd298a666",
   "metadata": {
    "tags": []
   },
   "source": [
    "<div style=\"background-color: #506AB9;\" >\n",
    "    <h3 style=\"margin: auto; padding: 20px; color:#fff; \">1.2. Files</h3>\n",
    "</div>"
   ]
  },
  {
   "cell_type": "code",
   "execution_count": 2,
   "id": "3a80f568-509b-4a73-b15c-21641a3c45e0",
   "metadata": {
    "tags": []
   },
   "outputs": [],
   "source": [
    "df = pd.read_csv(r\"datasets\\df_processed.csv\", nrows=30000)\n",
    "df = df.drop(columns=[\"index\"])"
   ]
  },
  {
   "cell_type": "code",
   "execution_count": 3,
   "id": "74493351-a229-425e-938f-6a5b71f5a573",
   "metadata": {},
   "outputs": [
    {
     "name": "stdout",
     "output_type": "stream",
     "text": [
      "\n",
      "Analysis Header of df dataset\n",
      "--------------------------------------------------------------------------------\n",
      "- Dataset shape:\t\t\t 30000 rows and 797 columns\n",
      "- Total of NaN values:\t\t\t 6202771\n",
      "- Percentage of NaN:\t\t\t 25.94 %\n",
      "- Total of infinite values:\t\t 1\n",
      "- Percentage of infinite values:\t 0.0 %\n",
      "- Total of full duplicates rows:\t 0\n",
      "- Total of empty rows:\t\t\t 0\n",
      "- Total of empty columns:\t\t 0\n",
      "- Unique indexes:\t\t\t True\n",
      "- Memory usage:\t\t\t\t 182.4 MB\n"
     ]
    }
   ],
   "source": [
    "df_analysis(df, \"df\", analysis_type=\"header\")"
   ]
  },
  {
   "cell_type": "markdown",
   "id": "21180556-e4ee-491b-a965-fe2d527bf30d",
   "metadata": {
    "tags": []
   },
   "source": [
    "<div class=\"alert alert-block alert-warning\">\n",
    "    <p><b>Observations / Conclusions</b></p>\n",
    "    <ul style=\"list-style-type: square;\">\n",
    "        <li><b>Missing values</b> - There are 25.39% of missing-values to treat</li>\n",
    "        <li><b>Infinite values</b> - There are 25 infinite values</li>\n",
    "    </ul> \n",
    "</div>"
   ]
  },
  {
   "cell_type": "markdown",
   "id": "245be731-490e-4a73-aa06-e1734da6f912",
   "metadata": {
    "tags": []
   },
   "source": [
    "<div style=\"background-color: #506AB9;\" >\n",
    "    <h4 style=\"margin: auto; padding: 20px; color:#fff; \">1.2.1 Optimizing memory usage</h4>\n",
    "</div>"
   ]
  },
  {
   "cell_type": "markdown",
   "id": "7199b033-4e22-44bd-9d31-aa86ad42b221",
   "metadata": {
    "tags": []
   },
   "source": [
    "<div class=\"alert alert-block alert-info\">\n",
    "    <p>We should optimize the memory usage to avoid problems during executions</p>\n",
    "</div>"
   ]
  },
  {
   "cell_type": "code",
   "execution_count": 4,
   "id": "fd3c4cc6-2c06-4747-a3cc-d0fdd4f9b16a",
   "metadata": {},
   "outputs": [],
   "source": [
    "df[\"TARGET\"].fillna(value=-99, inplace=True)\n",
    "df[\"TARGET\"] = df[\"TARGET\"].astype(\"int8\")\n",
    "df[\"TARGET\"] = df[\"TARGET\"].replace(-99, np.nan)"
   ]
  },
  {
   "cell_type": "code",
   "execution_count": 5,
   "id": "bbdf298a-6415-49e7-a04a-73127d97c5e1",
   "metadata": {},
   "outputs": [],
   "source": [
    "for col in df.columns:\n",
    "    if df[col].dtype == \"int64\" and df[col].nunique() == 2:\n",
    "        df[col] = df[col].astype(\"int8\")"
   ]
  },
  {
   "cell_type": "code",
   "execution_count": 6,
   "id": "e3bae372-a3fb-43ad-a6b3-24c589f88922",
   "metadata": {},
   "outputs": [],
   "source": [
    "for col in df.columns:\n",
    "    if df[col].dtype == \"float64\" and df[col].min() >= -2147483648 and df[col].max() <= 2147483648:\n",
    "        df[col] = df[col].astype(\"float32\")"
   ]
  },
  {
   "cell_type": "code",
   "execution_count": 7,
   "id": "4bfbce33-ea3f-4262-b87a-652787443ba2",
   "metadata": {},
   "outputs": [
    {
     "name": "stdout",
     "output_type": "stream",
     "text": [
      "\n",
      "Analysis Header of df dataset\n",
      "--------------------------------------------------------------------------------\n",
      "- Dataset shape:\t\t\t 30000 rows and 797 columns\n",
      "- Total of NaN values:\t\t\t 6202771\n",
      "- Percentage of NaN:\t\t\t 25.94 %\n",
      "- Total of infinite values:\t\t 1\n",
      "- Percentage of infinite values:\t 0.0 %\n",
      "- Total of full duplicates rows:\t 0\n",
      "- Total of empty rows:\t\t\t 0\n",
      "- Total of empty columns:\t\t 0\n",
      "- Unique indexes:\t\t\t True\n",
      "- Memory usage:\t\t\t\t 79.6 MB\n"
     ]
    }
   ],
   "source": [
    "df_analysis(df, \"df\", analysis_type=\"header\")"
   ]
  },
  {
   "cell_type": "code",
   "execution_count": 8,
   "id": "d0b51422-0f82-4622-aa77-c47fdd6ad43c",
   "metadata": {},
   "outputs": [
    {
     "data": {
      "text/html": [
       "<div>\n",
       "<style scoped>\n",
       "    .dataframe tbody tr th:only-of-type {\n",
       "        vertical-align: middle;\n",
       "    }\n",
       "\n",
       "    .dataframe tbody tr th {\n",
       "        vertical-align: top;\n",
       "    }\n",
       "\n",
       "    .dataframe thead th {\n",
       "        text-align: right;\n",
       "    }\n",
       "</style>\n",
       "<table border=\"1\" class=\"dataframe\">\n",
       "  <thead>\n",
       "    <tr style=\"text-align: right;\">\n",
       "      <th></th>\n",
       "      <th>SK_ID_CURR</th>\n",
       "      <th>TARGET</th>\n",
       "      <th>CODE_GENDER</th>\n",
       "      <th>FLAG_OWN_CAR</th>\n",
       "      <th>FLAG_OWN_REALTY</th>\n",
       "      <th>CNT_CHILDREN</th>\n",
       "      <th>AMT_INCOME_TOTAL</th>\n",
       "      <th>AMT_CREDIT</th>\n",
       "      <th>AMT_ANNUITY</th>\n",
       "      <th>AMT_GOODS_PRICE</th>\n",
       "      <th>...</th>\n",
       "      <th>CC_NAME_CONTRACT_STATUS_Signed_MAX</th>\n",
       "      <th>CC_NAME_CONTRACT_STATUS_Signed_MEAN</th>\n",
       "      <th>CC_NAME_CONTRACT_STATUS_Signed_SUM</th>\n",
       "      <th>CC_NAME_CONTRACT_STATUS_Signed_VAR</th>\n",
       "      <th>CC_NAME_CONTRACT_STATUS_nan_MIN</th>\n",
       "      <th>CC_NAME_CONTRACT_STATUS_nan_MAX</th>\n",
       "      <th>CC_NAME_CONTRACT_STATUS_nan_MEAN</th>\n",
       "      <th>CC_NAME_CONTRACT_STATUS_nan_SUM</th>\n",
       "      <th>CC_NAME_CONTRACT_STATUS_nan_VAR</th>\n",
       "      <th>CC_COUNT</th>\n",
       "    </tr>\n",
       "  </thead>\n",
       "  <tbody>\n",
       "    <tr>\n",
       "      <th>0</th>\n",
       "      <td>100002</td>\n",
       "      <td>1</td>\n",
       "      <td>0</td>\n",
       "      <td>0</td>\n",
       "      <td>0</td>\n",
       "      <td>0</td>\n",
       "      <td>202500.0</td>\n",
       "      <td>406597.5</td>\n",
       "      <td>24700.5</td>\n",
       "      <td>351000.0</td>\n",
       "      <td>...</td>\n",
       "      <td>NaN</td>\n",
       "      <td>NaN</td>\n",
       "      <td>NaN</td>\n",
       "      <td>NaN</td>\n",
       "      <td>NaN</td>\n",
       "      <td>NaN</td>\n",
       "      <td>NaN</td>\n",
       "      <td>NaN</td>\n",
       "      <td>NaN</td>\n",
       "      <td>NaN</td>\n",
       "    </tr>\n",
       "    <tr>\n",
       "      <th>1</th>\n",
       "      <td>100003</td>\n",
       "      <td>0</td>\n",
       "      <td>1</td>\n",
       "      <td>0</td>\n",
       "      <td>1</td>\n",
       "      <td>0</td>\n",
       "      <td>270000.0</td>\n",
       "      <td>1293502.5</td>\n",
       "      <td>35698.5</td>\n",
       "      <td>1129500.0</td>\n",
       "      <td>...</td>\n",
       "      <td>NaN</td>\n",
       "      <td>NaN</td>\n",
       "      <td>NaN</td>\n",
       "      <td>NaN</td>\n",
       "      <td>NaN</td>\n",
       "      <td>NaN</td>\n",
       "      <td>NaN</td>\n",
       "      <td>NaN</td>\n",
       "      <td>NaN</td>\n",
       "      <td>NaN</td>\n",
       "    </tr>\n",
       "    <tr>\n",
       "      <th>2</th>\n",
       "      <td>100004</td>\n",
       "      <td>0</td>\n",
       "      <td>0</td>\n",
       "      <td>1</td>\n",
       "      <td>0</td>\n",
       "      <td>0</td>\n",
       "      <td>67500.0</td>\n",
       "      <td>135000.0</td>\n",
       "      <td>6750.0</td>\n",
       "      <td>135000.0</td>\n",
       "      <td>...</td>\n",
       "      <td>NaN</td>\n",
       "      <td>NaN</td>\n",
       "      <td>NaN</td>\n",
       "      <td>NaN</td>\n",
       "      <td>NaN</td>\n",
       "      <td>NaN</td>\n",
       "      <td>NaN</td>\n",
       "      <td>NaN</td>\n",
       "      <td>NaN</td>\n",
       "      <td>NaN</td>\n",
       "    </tr>\n",
       "    <tr>\n",
       "      <th>3</th>\n",
       "      <td>100006</td>\n",
       "      <td>0</td>\n",
       "      <td>1</td>\n",
       "      <td>0</td>\n",
       "      <td>0</td>\n",
       "      <td>0</td>\n",
       "      <td>135000.0</td>\n",
       "      <td>312682.5</td>\n",
       "      <td>29686.5</td>\n",
       "      <td>297000.0</td>\n",
       "      <td>...</td>\n",
       "      <td>0.0</td>\n",
       "      <td>0.0</td>\n",
       "      <td>0.0</td>\n",
       "      <td>0.0</td>\n",
       "      <td>0.0</td>\n",
       "      <td>0.0</td>\n",
       "      <td>0.0</td>\n",
       "      <td>0.0</td>\n",
       "      <td>0.0</td>\n",
       "      <td>6.0</td>\n",
       "    </tr>\n",
       "    <tr>\n",
       "      <th>4</th>\n",
       "      <td>100007</td>\n",
       "      <td>0</td>\n",
       "      <td>0</td>\n",
       "      <td>0</td>\n",
       "      <td>0</td>\n",
       "      <td>0</td>\n",
       "      <td>121500.0</td>\n",
       "      <td>513000.0</td>\n",
       "      <td>21865.5</td>\n",
       "      <td>513000.0</td>\n",
       "      <td>...</td>\n",
       "      <td>NaN</td>\n",
       "      <td>NaN</td>\n",
       "      <td>NaN</td>\n",
       "      <td>NaN</td>\n",
       "      <td>NaN</td>\n",
       "      <td>NaN</td>\n",
       "      <td>NaN</td>\n",
       "      <td>NaN</td>\n",
       "      <td>NaN</td>\n",
       "      <td>NaN</td>\n",
       "    </tr>\n",
       "  </tbody>\n",
       "</table>\n",
       "<p>5 rows × 797 columns</p>\n",
       "</div>"
      ],
      "text/plain": [
       "   SK_ID_CURR  TARGET  CODE_GENDER  FLAG_OWN_CAR  FLAG_OWN_REALTY  \\\n",
       "0      100002       1            0             0                0   \n",
       "1      100003       0            1             0                1   \n",
       "2      100004       0            0             1                0   \n",
       "3      100006       0            1             0                0   \n",
       "4      100007       0            0             0                0   \n",
       "\n",
       "   CNT_CHILDREN  AMT_INCOME_TOTAL  AMT_CREDIT  AMT_ANNUITY  AMT_GOODS_PRICE  \\\n",
       "0             0          202500.0    406597.5      24700.5         351000.0   \n",
       "1             0          270000.0   1293502.5      35698.5        1129500.0   \n",
       "2             0           67500.0    135000.0       6750.0         135000.0   \n",
       "3             0          135000.0    312682.5      29686.5         297000.0   \n",
       "4             0          121500.0    513000.0      21865.5         513000.0   \n",
       "\n",
       "   ...  CC_NAME_CONTRACT_STATUS_Signed_MAX  \\\n",
       "0  ...                                 NaN   \n",
       "1  ...                                 NaN   \n",
       "2  ...                                 NaN   \n",
       "3  ...                                 0.0   \n",
       "4  ...                                 NaN   \n",
       "\n",
       "   CC_NAME_CONTRACT_STATUS_Signed_MEAN  CC_NAME_CONTRACT_STATUS_Signed_SUM  \\\n",
       "0                                  NaN                                 NaN   \n",
       "1                                  NaN                                 NaN   \n",
       "2                                  NaN                                 NaN   \n",
       "3                                  0.0                                 0.0   \n",
       "4                                  NaN                                 NaN   \n",
       "\n",
       "   CC_NAME_CONTRACT_STATUS_Signed_VAR  CC_NAME_CONTRACT_STATUS_nan_MIN  \\\n",
       "0                                 NaN                              NaN   \n",
       "1                                 NaN                              NaN   \n",
       "2                                 NaN                              NaN   \n",
       "3                                 0.0                              0.0   \n",
       "4                                 NaN                              NaN   \n",
       "\n",
       "   CC_NAME_CONTRACT_STATUS_nan_MAX  CC_NAME_CONTRACT_STATUS_nan_MEAN  \\\n",
       "0                              NaN                               NaN   \n",
       "1                              NaN                               NaN   \n",
       "2                              NaN                               NaN   \n",
       "3                              0.0                               0.0   \n",
       "4                              NaN                               NaN   \n",
       "\n",
       "   CC_NAME_CONTRACT_STATUS_nan_SUM  CC_NAME_CONTRACT_STATUS_nan_VAR  CC_COUNT  \n",
       "0                              NaN                              NaN       NaN  \n",
       "1                              NaN                              NaN       NaN  \n",
       "2                              NaN                              NaN       NaN  \n",
       "3                              0.0                              0.0       6.0  \n",
       "4                              NaN                              NaN       NaN  \n",
       "\n",
       "[5 rows x 797 columns]"
      ]
     },
     "execution_count": 8,
     "metadata": {},
     "output_type": "execute_result"
    }
   ],
   "source": [
    "df.head()"
   ]
  },
  {
   "cell_type": "code",
   "execution_count": 9,
   "id": "4c976361-d20b-4524-8e90-1216ea16d730",
   "metadata": {},
   "outputs": [
    {
     "data": {
      "text/plain": [
       "[]"
      ]
     },
     "execution_count": 9,
     "metadata": {},
     "output_type": "execute_result"
    }
   ],
   "source": [
    "df.select_dtypes(include=[\"object\"]).columns.tolist()"
   ]
  },
  {
   "cell_type": "markdown",
   "id": "3c1d9b87-1c33-4b34-bc51-bd03eead474a",
   "metadata": {
    "tags": []
   },
   "source": [
    "<div class=\"alert alert-block alert-warning\">\n",
    "    <p><b>Observations / Conclusions</b></p>\n",
    "    <ul style=\"list-style-type: square;\">\n",
    "        <li><b>Columns type</b> - All columns are numerics</li>\n",
    "    </ul> \n",
    "</div>"
   ]
  },
  {
   "cell_type": "markdown",
   "id": "151a589c-007e-45c4-8f30-a08abe6d9c0c",
   "metadata": {
    "tags": []
   },
   "source": [
    "<div style=\"background-color: #506AB9;\" >\n",
    "    <h4 style=\"margin: auto; padding: 20px; color:#fff; \">1.2.2. Missing-values</h4>\n",
    "</div>"
   ]
  },
  {
   "cell_type": "markdown",
   "id": "98c5ddd5-d467-4ba6-aae4-628c2f5e4da6",
   "metadata": {},
   "source": [
    "<div class=\"alert alert-block alert-info\">\n",
    "    <p>Before treating the class imbalance in the target, it is necessary to treat the missing-values in all the dataset, to do that, we are going to fill values with SimpleImputer\n",
    "   </p>\n",
    "    <p>Let's start by identifying the features with infinite-values and replace them by missing-values\n",
    "   </p>\n",
    "</div>\n",
    "</div>"
   ]
  },
  {
   "cell_type": "code",
   "execution_count": 10,
   "id": "28242a16-c849-47cd-8112-9c70f3867feb",
   "metadata": {},
   "outputs": [],
   "source": [
    "inf_cols = df.columns.to_series()[np.isinf(df).any()]"
   ]
  },
  {
   "cell_type": "code",
   "execution_count": 11,
   "id": "7c75fa23-35c2-46c9-b696-7cc4ce6b09f0",
   "metadata": {},
   "outputs": [],
   "source": [
    "for col in inf_cols:\n",
    "    df[col] = df[col].replace([np.inf, -np.inf], np.nan)"
   ]
  },
  {
   "cell_type": "code",
   "execution_count": 12,
   "id": "a24dcacd-7890-455a-b0c4-8412e5bacd87",
   "metadata": {},
   "outputs": [
    {
     "name": "stdout",
     "output_type": "stream",
     "text": [
      "\n",
      "Analysis Header of df dataset\n",
      "--------------------------------------------------------------------------------\n",
      "- Dataset shape:\t\t\t 30000 rows and 797 columns\n",
      "- Total of NaN values:\t\t\t 6202772\n",
      "- Percentage of NaN:\t\t\t 25.94 %\n",
      "- Total of infinite values:\t\t 0\n",
      "- Percentage of infinite values:\t 0.0 %\n",
      "- Total of full duplicates rows:\t 0\n",
      "- Total of empty rows:\t\t\t 0\n",
      "- Total of empty columns:\t\t 0\n",
      "- Unique indexes:\t\t\t True\n",
      "- Memory usage:\t\t\t\t 79.6 MB\n"
     ]
    }
   ],
   "source": [
    "df_analysis(df, \"df\", analysis_type=\"header\")"
   ]
  },
  {
   "cell_type": "markdown",
   "id": "cb5aaa67-c37d-4f58-9134-0c7c4f3e87c2",
   "metadata": {},
   "source": [
    "<div class=\"alert alert-block alert-info\">\n",
    "    <p>Let's continue by identifying the features with missing-values and excluding the TARGET\n",
    "   </p>\n",
    "</div>\n",
    "</div>"
   ]
  },
  {
   "cell_type": "code",
   "execution_count": 13,
   "id": "7ff4cd72-ecae-4c69-af5e-0fe411beb586",
   "metadata": {},
   "outputs": [],
   "source": [
    "nan_cols = [i for i in df.columns if i!=\"TARGET\" and df[i].isnull().any()]"
   ]
  },
  {
   "cell_type": "code",
   "execution_count": 14,
   "id": "7bef3993-9920-4c26-bff9-0ccfbee30a13",
   "metadata": {},
   "outputs": [],
   "source": [
    "for col in nan_cols:\n",
    "    mean_value = df[col].mean()\n",
    "    df[col].fillna(value=mean_value, inplace=True)"
   ]
  },
  {
   "cell_type": "code",
   "execution_count": 15,
   "id": "e464dfbf-f109-4d7e-961b-fc265d3f4b1b",
   "metadata": {},
   "outputs": [
    {
     "name": "stdout",
     "output_type": "stream",
     "text": [
      "\n",
      "Analysis Header of df dataset\n",
      "--------------------------------------------------------------------------------\n",
      "- Dataset shape:\t\t\t 30000 rows and 797 columns\n",
      "- Total of NaN values:\t\t\t 0\n",
      "- Percentage of NaN:\t\t\t 0.0 %\n",
      "- Total of infinite values:\t\t 0\n",
      "- Percentage of infinite values:\t 0.0 %\n",
      "- Total of full duplicates rows:\t 0\n",
      "- Total of empty rows:\t\t\t 0\n",
      "- Total of empty columns:\t\t 0\n",
      "- Unique indexes:\t\t\t True\n",
      "- Memory usage:\t\t\t\t 79.6 MB\n"
     ]
    }
   ],
   "source": [
    "df_analysis(df, \"df\", analysis_type=\"header\")"
   ]
  },
  {
   "cell_type": "markdown",
   "id": "43458410-f008-4855-85c4-0bd8fe1875e8",
   "metadata": {},
   "source": [
    "<div class=\"alert alert-block alert-success\">\n",
    "    <p>At this point, TARGET is the only column with missing-values</p>\n",
    "</div>"
   ]
  },
  {
   "cell_type": "code",
   "execution_count": 16,
   "id": "25f6a1f9-6516-45fa-9b54-f1aacdf808ef",
   "metadata": {},
   "outputs": [],
   "source": [
    "# saving the optimized dataset \n",
    "#df.to_csv(\"datasets\\df_optimized.csv\", index=False)"
   ]
  },
  {
   "cell_type": "markdown",
   "id": "6d7b3692-7168-4556-a444-7000fe8cf359",
   "metadata": {
    "tags": []
   },
   "source": [
    "<div style=\"background-color: #506AB9;\" >\n",
    "    <h2 style=\"margin: auto; padding: 20px; color:#fff; \">2. Class Imbalance</h2>\n",
    "</div>"
   ]
  },
  {
   "cell_type": "markdown",
   "id": "4ba6c676-4953-4bb5-9150-73f6ec693656",
   "metadata": {
    "tags": []
   },
   "source": [
    "<div style=\"background-color: #506AB9;\" >\n",
    "    <h3 style=\"margin: auto; padding: 20px; color:#fff; \">2.1. Verifying</h3>\n",
    "</div>"
   ]
  },
  {
   "cell_type": "markdown",
   "id": "22f556a9-7a48-4510-89f1-db14b0193864",
   "metadata": {
    "tags": []
   },
   "source": [
    "<div class=\"alert alert-block alert-info\">\n",
    "    <p>Now, we are going to analyze in details, whether ours target has an imbalanced class\n",
    "   </p>\n",
    "</div>"
   ]
  },
  {
   "cell_type": "code",
   "execution_count": 17,
   "id": "3fe0ccbb-a491-4052-9137-7fe1ff0018f4",
   "metadata": {},
   "outputs": [
    {
     "data": {
      "image/png": "[encoded data removed]",
      "text/plain": [
       "<Figure size 648x360 with 2 Axes>"
      ]
     },
     "metadata": {
      "needs_background": "light"
     },
     "output_type": "display_data"
    }
   ],
   "source": [
    "barplot_and_pie(df[\"TARGET\"], \"Target distribution\", \" \")"
   ]
  },
  {
   "cell_type": "markdown",
   "id": "d6d6de84-3c5c-41dd-9448-1d183d0f6dcf",
   "metadata": {
    "tags": []
   },
   "source": [
    "<div class=\"alert alert-block alert-warning\">\n",
    "    <p>Here we can see how much the dataset is imbalanced</p>\n",
    "    <p>It is easily identifying that there are <b>loans that were repaid (0)</b> in comparison of <b>loans that were not repaid (1)</b></p>   \n",
    "</div>"
   ]
  },
  {
   "cell_type": "markdown",
   "id": "e9556c81-dfd5-4fc2-a526-c3f136987135",
   "metadata": {
    "tags": []
   },
   "source": [
    "<div style=\"background-color: #506AB9;\" >\n",
    "    <h3 style=\"margin: auto; padding: 20px; color:#fff; \">2.2. Smote</h3>\n",
    "</div>"
   ]
  },
  {
   "cell_type": "markdown",
   "id": "0af57235-8866-455c-9bd8-6d233eb75afc",
   "metadata": {
    "tags": []
   },
   "source": [
    "<div class=\"alert alert-block alert-info\">\n",
    "    <p>To treat the Imbalanced class, we are going to use a type of data augmentation for the minority class (Oversampling) where new examples can be synthesized from the existing examples and it is referred as the Synthetic Minority Oversampling Technique - SMOTE.</p>\n",
    "</div>"
   ]
  },
  {
   "cell_type": "code",
   "execution_count": 18,
   "id": "daf42ff3-cd0f-46c1-8eb0-0bd4a588fbbe",
   "metadata": {},
   "outputs": [],
   "source": [
    "train_df = df[df[\"TARGET\"].notnull()]\n",
    "test_df = df[df[\"TARGET\"].isnull()]"
   ]
  },
  {
   "cell_type": "code",
   "execution_count": 19,
   "id": "2a4a3235-1afe-49f0-a034-98432f3cc436",
   "metadata": {},
   "outputs": [],
   "source": [
    "X = train_df.drop(columns=[\"TARGET\"])"
   ]
  },
  {
   "cell_type": "code",
   "execution_count": 20,
   "id": "2777bbf4-bead-442f-81e2-daf04bee4368",
   "metadata": {},
   "outputs": [],
   "source": [
    "y = train_df.loc[:,\"TARGET\"]"
   ]
  },
  {
   "cell_type": "markdown",
   "id": "3d314dcc-7381-45c3-9968-740741372404",
   "metadata": {
    "tags": []
   },
   "source": [
    "<div class=\"alert alert-block alert-info\">\n",
    "    <p>Initializing SMOTE</p>\n",
    "</div>"
   ]
  },
  {
   "cell_type": "code",
   "execution_count": 21,
   "id": "1751ce9b-bd95-4da0-a630-d8572ae487fc",
   "metadata": {},
   "outputs": [],
   "source": [
    "smote = SMOTE(sampling_strategy=\"auto\", k_neighbors=5, n_jobs=-1,\n",
    "              random_state=42)"
   ]
  },
  {
   "cell_type": "markdown",
   "id": "4f736573-772a-4c44-ac54-e8a5bcc5dcc5",
   "metadata": {
    "tags": []
   },
   "source": [
    "<div class=\"alert alert-block alert-info\">\n",
    "    <p>Executing SMOTE</p>\n",
    "</div>"
   ]
  },
  {
   "cell_type": "code",
   "execution_count": 22,
   "id": "3d4f553d-b9e8-4559-bd71-0c48359f3dfd",
   "metadata": {},
   "outputs": [],
   "source": [
    "X_resampled, y_resampled = smote.fit_resample(X, y)"
   ]
  },
  {
   "cell_type": "markdown",
   "id": "c22de8f3-2f74-4df6-a204-6548c9e2f5ee",
   "metadata": {
    "tags": []
   },
   "source": [
    "<div class=\"alert alert-block alert-info\">\n",
    "    <p>Finally, we can see the results</p>\n",
    "</div>"
   ]
  },
  {
   "cell_type": "code",
   "execution_count": 23,
   "id": "69cd5ce7-06c3-48c4-94a2-513ff782bff3",
   "metadata": {},
   "outputs": [
    {
     "data": {
      "image/png": "[encoded data removed]",
      "text/plain": [
       "<Figure size 648x360 with 2 Axes>"
      ]
     },
     "metadata": {
      "needs_background": "light"
     },
     "output_type": "display_data"
    }
   ],
   "source": [
    "barplot_and_pie(y_resampled, \"Target distribution\", \" \")"
   ]
  },
  {
   "cell_type": "markdown",
   "id": "71f90b4c-0cc7-460e-9034-b33024d428e1",
   "metadata": {
    "tags": []
   },
   "source": [
    "<div class=\"alert alert-block alert-success\">\n",
    "    <p>Now, we have the Target balanced</p>\n",
    "</div>"
   ]
  },
  {
   "cell_type": "markdown",
   "id": "1b5be0a5-5156-4549-b144-c2f9cf2b012b",
   "metadata": {
    "tags": []
   },
   "source": [
    "<div style=\"background-color: #506AB9;\" >\n",
    "    <h3 style=\"margin: auto; padding: 20px; color:#fff; \">2.4. Rebuild the dataset</h3>\n",
    "</div>"
   ]
  },
  {
   "cell_type": "markdown",
   "id": "bca5ca60-59a0-488f-9ec6-075703f1dae6",
   "metadata": {
    "tags": []
   },
   "source": [
    "<div class=\"alert alert-block alert-info\">\n",
    "    <p>Creating series with attributes</p>\n",
    "</div>"
   ]
  },
  {
   "cell_type": "code",
   "execution_count": 24,
   "id": "4e28a37d-71cb-43b7-9153-b4f8721e4548",
   "metadata": {},
   "outputs": [],
   "source": [
    "y_resampled  = pd.Series(y_resampled, name=\"TARGET\")"
   ]
  },
  {
   "cell_type": "markdown",
   "id": "00b614ab-e29f-410f-8051-c026e1395e84",
   "metadata": {
    "tags": []
   },
   "source": [
    "<div class=\"alert alert-block alert-info\">\n",
    "    <p>Merging result dataset with result series</p>\n",
    "</div>"
   ]
  },
  {
   "cell_type": "code",
   "execution_count": 25,
   "id": "f5351baa-4184-4543-a556-77bfe2f0829e",
   "metadata": {},
   "outputs": [],
   "source": [
    "df_resampled = X_resampled.merge(y_resampled, left_index=True, right_index=True)"
   ]
  },
  {
   "cell_type": "markdown",
   "id": "f9469820-d59e-4917-83a0-964af7a6a22b",
   "metadata": {
    "tags": []
   },
   "source": [
    "<div class=\"alert alert-block alert-info\">\n",
    "    <p>Concatenating the dataset</p>\n",
    "</div>"
   ]
  },
  {
   "cell_type": "code",
   "execution_count": 26,
   "id": "8a2abecf-7078-457a-b45b-b4bc91770112",
   "metadata": {},
   "outputs": [],
   "source": [
    "df_resampled = pd.concat([df_resampled, test_df])"
   ]
  },
  {
   "cell_type": "code",
   "execution_count": 27,
   "id": "2c66ec6b-f461-41e9-aa2b-5a6f1e8943d6",
   "metadata": {},
   "outputs": [],
   "source": [
    "# saving the resampled dataset \n",
    "#df_resampled.to_csv(\"datasets\\df_resampled.csv\", index=False)"
   ]
  },
  {
   "cell_type": "markdown",
   "id": "dfb84114-aede-4961-a72e-5257b2146886",
   "metadata": {
    "tags": []
   },
   "source": [
    "<div class=\"alert alert-block alert-info\">\n",
    "    <p>Freeing up memory </p>\n",
    "</div>"
   ]
  },
  {
   "cell_type": "code",
   "execution_count": 28,
   "id": "6102aeaf-3e3f-4722-bb08-dca328c0393b",
   "metadata": {},
   "outputs": [
    {
     "data": {
      "text/plain": [
       "9870"
      ]
     },
     "execution_count": 28,
     "metadata": {},
     "output_type": "execute_result"
    }
   ],
   "source": [
    "del df, train_df, test_df, X, y, X_resampled, y_resampled\n",
    "gc.collect()"
   ]
  },
  {
   "cell_type": "markdown",
   "id": "6d5e4371-7b4f-4df9-b1fd-064d701c6f7f",
   "metadata": {
    "tags": []
   },
   "source": [
    "<div class=\"alert alert-block alert-info\">\n",
    "    <p>Let's see the final dataset</p>\n",
    "</div>"
   ]
  },
  {
   "cell_type": "code",
   "execution_count": 29,
   "id": "63a69fbd-f751-4006-a6bf-69a648d1d9ce",
   "metadata": {},
   "outputs": [
    {
     "name": "stdout",
     "output_type": "stream",
     "text": [
      "\n",
      "Analysis Header of df_resampled dataset\n",
      "--------------------------------------------------------------------------------\n",
      "- Dataset shape:\t\t\t 55194 rows and 797 columns\n",
      "- Total of NaN values:\t\t\t 0\n",
      "- Percentage of NaN:\t\t\t 0.0 %\n",
      "- Total of infinite values:\t\t 0\n",
      "- Percentage of infinite values:\t 0.0 %\n",
      "- Total of full duplicates rows:\t 0\n",
      "- Total of empty rows:\t\t\t 0\n",
      "- Total of empty columns:\t\t 0\n",
      "- Unique indexes:\t\t\t True\n",
      "- Memory usage:\t\t\t\t 146.9 MB\n"
     ]
    }
   ],
   "source": [
    "df_analysis(df_resampled, \"df_resampled\", analysis_type=\"header\")"
   ]
  },
  {
   "cell_type": "markdown",
   "id": "7ad2b17d-c82a-442f-8fd9-e071875a7d9d",
   "metadata": {
    "tags": []
   },
   "source": [
    "<div class=\"alert alert-block alert-success\">\n",
    "    <p><b>Observations / Conclusions</b></p>\n",
    "    <p>At this point we have the following dataset.</p>\n",
    "    <ul style=\"list-style-type: square;\">\n",
    "        <li><b>df_resampled</b>: that is balanced after treating it through SMOTE and shape 614108 x 797</li>\n",
    "    </ul> \n",
    "</div>"
   ]
  },
  {
   "cell_type": "markdown",
   "id": "44f4971d-c73b-4740-992b-57f5bac34181",
   "metadata": {
    "tags": []
   },
   "source": [
    "<div style=\"background-color: #506AB9;\" >\n",
    "    <h2 style=\"margin: auto; padding: 20px; color:#fff; \">3. Optimization</h2>\n",
    "</div>"
   ]
  },
  {
   "cell_type": "markdown",
   "id": "02af96c7-92f9-4237-86ad-a2e09de5e651",
   "metadata": {
    "tags": []
   },
   "source": [
    "<div class=\"alert alert-block alert-info\">\n",
    "    <p>Now, we are going to use a <b>Custom Score</b> and <b>Hyperopt</b> to get the best result to set the model </p>\n",
    "</div>"
   ]
  },
  {
   "cell_type": "markdown",
   "id": "65edec22-2c38-4888-bac1-afdb1d82affd",
   "metadata": {
    "tags": []
   },
   "source": [
    "<div style=\"background-color: #506AB9;\" >\n",
    "    <h3 style=\"margin: auto; padding: 20px; color:#fff; \">3.1. Custom Score</h3>\n",
    "</div>"
   ]
  },
  {
   "cell_type": "markdown",
   "id": "5252fb83-6e15-453d-9ce0-4b23618fe55a",
   "metadata": {
    "tags": []
   },
   "source": [
    "<div class=\"alert alert-block alert-info\">\n",
    "    <p>In the <b>Custom Score</b>, we are going to penalize the <b>False Negative</b> that are loands <b>will be in default</b>, and they were <b>predicted incorrectly</b></p>\n",
    "</div>"
   ]
  },
  {
   "cell_type": "code",
   "execution_count": 30,
   "id": "f57501f2-3eb9-4bcb-a6ff-12ba5af2bc9a",
   "metadata": {},
   "outputs": [],
   "source": [
    "def custom_score(y_true, y_pred):\n",
    "    \"\"\"\n",
    "    Method used to calculate a score based on the penalization of False Negatives.\n",
    "\n",
    "    Parameters:\n",
    "    -----------------\n",
    "        y_true (series): True values\n",
    "        y_pred (series): Predicted values\n",
    "        \n",
    "    Returns:\n",
    "    -----------------\n",
    "        Score. (float): Score obtained based on the rules defined to measure. \n",
    "    \"\"\"\n",
    "    \n",
    "    # Getting the probability outputs from \"predict_proba\"\n",
    "    threshold = 0.5\n",
    "    y_pred = (y_pred >= threshold).astype(int)\n",
    "    \n",
    "    TN_rate = 1        # Loans that are not in default and were predicted correctly\n",
    "    TP_rate = 1        # Loans that are in default and were predicted correctly\n",
    "    FP_rate = 0        # Loans that are not in default and were predicted incorrectly\n",
    "    FN_rate = -10      # Loans that are in default and were were predicted incorrectly\n",
    "    \n",
    "    # Getting all values based on confusion matrix\n",
    "    (TN, FP, FN, TP) = confusion_matrix(y_true, y_pred).ravel()\n",
    "\n",
    "    # Total of default and not default cases\n",
    "    total_not_default = TN + FP     # Not default cases\n",
    "    total_default = TP + FN         # Default cases \n",
    "    \n",
    "    gain_total = TN*TN_rate + TP*TP_rate + FP*FP_rate + FN*FN_rate\n",
    "    gain_maximun = total_not_default*TN_rate + total_default*TP_rate\n",
    "    gain_minumun = total_not_default*TN_rate + total_default*FN_rate\n",
    "    \n",
    "    # normalize to get score between 0 (baseline) and 1\n",
    "    score = (gain_total - gain_minumun) / (gain_maximun - gain_minumun)\n",
    "    \n",
    "    return score"
   ]
  },
  {
   "cell_type": "markdown",
   "id": "ec92390c-1876-48c6-a2e4-8e90a14d8ee2",
   "metadata": {
    "tags": []
   },
   "source": [
    "<div style=\"background-color: #506AB9;\" >\n",
    "    <h3 style=\"margin: auto; padding: 20px; color:#fff; \">3.2. Model optimiztion</h3>\n",
    "</div>"
   ]
  },
  {
   "cell_type": "markdown",
   "id": "b59f6309-ff04-4535-9283-e93e5b3df6c6",
   "metadata": {
    "tags": []
   },
   "source": [
    "<div class=\"alert alert-block alert-info\">\n",
    "    <p>Let's define the parameters</p>\n",
    "</div>"
   ]
  },
  {
   "cell_type": "code",
   "execution_count": 31,
   "id": "6faf3980-132a-4ec8-b9d8-eae66641b532",
   "metadata": {},
   "outputs": [],
   "source": [
    "N_ESTIMATORS = [8000, 10000, 12000]\n",
    "NUM_LEAVES = [32, 34, 36]\n",
    "MAX_DEPTH = [7, 8, 9]"
   ]
  },
  {
   "cell_type": "code",
   "execution_count": 32,
   "id": "e7683875-9c85-42a4-9e34-54e74608a5f5",
   "metadata": {
    "tags": []
   },
   "outputs": [],
   "source": [
    "space_params = {\n",
    "    \"n_estimators\" : hp.choice(\"n_estimators\", N_ESTIMATORS),\n",
    "    \"learning_rate\" :  hp.uniform(\"learning_rate\", 0.002, 0.003),\n",
    "    \"num_leaves\" :  hp.choice(\"num_leaves\", NUM_LEAVES),\n",
    "    \"max_depth\" : hp.choice(\"max_depth\", MAX_DEPTH),\n",
    "    \"reg_alpha\" : hp.uniform(\"reg_alpha\", 0.041545473, 0.051),\n",
    "    \"reg_lambda\" : hp.uniform(\"reg_lambda\", 0.0735294, 0.0835294),\n",
    "    \"min_split_gain\" : hp.uniform(\"min_split_gain\", 0.0222415, 0.0322415),\n",
    "    \"min_child_weight\" : hp.uniform(\"min_child_weight\", 39.3259775, 49)\n",
    "}"
   ]
  },
  {
   "cell_type": "markdown",
   "id": "a564e380-8436-4356-8be1-fb0b433d2104",
   "metadata": {
    "tags": []
   },
   "source": [
    "<div class=\"alert alert-block alert-info\">\n",
    "    <p>Now, we can define our objective function</p>\n",
    "    <p>To do that, we are going to consider the following</p>\n",
    "    <ul style=\"list-style-type: square;\">\n",
    "        <li><b>StandardScaler</b> to manage all data in the same scale</li>\n",
    "        <li><b>colsample_bytree and subsample</b> with 80% of data, to improve the execution time</li>\n",
    "        <li><b>n_splits</b> with 2 to improve the execution time</li>\n",
    "        <li><b>is_unbalance</b> with False because it is a balanced dataset</li>\n",
    "    </ul> \n",
    "</div>"
   ]
  },
  {
   "cell_type": "code",
   "execution_count": 33,
   "id": "0d469c46-c176-4e49-adfd-324179303c30",
   "metadata": {},
   "outputs": [],
   "source": [
    "def hyperparameter_tuning(space_params, df, imbalanced, n_splits):\n",
    "    \"\"\"\n",
    "    Method used to analyze on the DataFrame.\n",
    "\n",
    "    Parameters:\n",
    "    -----------------\n",
    "        space_params (dict): Parameters to optimize the model\n",
    "        df (pandas.DataFrame): Dataset to treat\n",
    "        imbalanced (boolean): Define whether dataset is unbalanced\n",
    "        n_splits (int): To split data in train test sets\n",
    "\n",
    "    Returns:\n",
    "    -----------------\n",
    "        Loss and STATUS.\n",
    "    \"\"\"\n",
    "    \n",
    "    # Formatting columns name\n",
    "    df = df.rename(columns=lambda x:re.sub(\"[^A-Za-z0-9_]+\", \"\", x))\n",
    "    df_lgbm = df.copy()\n",
    "    \n",
    "    scaler = StandardScaler()\n",
    "    \n",
    "    # Divide in training/validation and test data\n",
    "    train_df = df_lgbm[df_lgbm[\"TARGET\"].notnull()]\n",
    "    test_df = df_lgbm[df_lgbm[\"TARGET\"].isnull()]\n",
    "    del df_lgbm\n",
    "    gc.collect()\n",
    "    \n",
    "    # Cross validation model\n",
    "    folds = KFold(n_splits=n_splits, shuffle=True, random_state=42)\n",
    "    \n",
    "    # Create arrays and dataframes to store results\n",
    "    oof_preds = np.zeros(train_df.shape[0])\n",
    "    sub_preds = np.zeros(test_df.shape[0])\n",
    "    feats = [f for f in train_df.columns if f not in [\"TARGET\", \"SK_ID_CURR\", \"SK_ID_BUREAU\", \"SK_ID_PREV\"]]\n",
    "    \n",
    "    for n_fold, (train_idx, valid_idx) in enumerate(folds.split(train_df[feats], train_df[\"TARGET\"])):\n",
    "        \n",
    "        print(\"\\n\")\n",
    "        \n",
    "        train_x, train_y = train_df[feats].iloc[train_idx], train_df[\"TARGET\"].iloc[train_idx]\n",
    "        valid_x, valid_y = train_df[feats].iloc[valid_idx], train_df[\"TARGET\"].iloc[valid_idx]\n",
    "    \n",
    "        train_x_scaled = scaler.fit_transform(train_x)\n",
    "        valid_x_scaled = scaler.fit_transform(valid_x)\n",
    "        \n",
    "        # LightGBM parameters found by Bayesian optimization\n",
    "        clf = LGBMClassifier(\n",
    "            **space_params,\n",
    "            colsample_bytree=0.8, \n",
    "            subsample=0.8,\n",
    "            is_unbalance=imbalanced,\n",
    "            n_jobs=-1 \n",
    "        )\n",
    "        \n",
    "        evaluation = [(train_x_scaled, train_y), (valid_x_scaled, valid_y)]\n",
    "        \n",
    "        clf.fit(train_x_scaled, train_y, eval_set=evaluation, eval_metric=\"auc\",\n",
    "                callbacks=[lgb.early_stopping(stopping_rounds=200),\n",
    "                          lgb.log_evaluation(period=-1)])\n",
    "        \n",
    "        oof_preds[valid_idx] = clf.predict_proba(valid_x_scaled, num_iteration=clf.best_iteration_)[:, 1]\n",
    "        \n",
    "        del clf, train_x, train_x_scaled, train_y, valid_x, valid_x_scaled, valid_y\n",
    "        gc.collect()\n",
    "    \n",
    "    auc = roc_auc_score(train_df[\"TARGET\"], oof_preds)\n",
    "    print(\">> ROC-AUC Score %.6f\" % auc )\n",
    "    \n",
    "    cs = custom_score(train_df[\"TARGET\"], oof_preds)\n",
    "    print(\">> Custom Score %.6f\\n\" % cs )\n",
    "          \n",
    "    return { \"loss\": -auc, \"status\": STATUS_OK } "
   ]
  },
  {
   "cell_type": "markdown",
   "id": "f99674b3-8696-41b8-b0f8-d9e57b84025d",
   "metadata": {
    "tags": []
   },
   "source": [
    "<div style=\"background-color: #506AB9;\" >\n",
    "    <h3 style=\"margin: auto; padding: 20px; color:#fff; \">3.3. Balanced dataset modelisation</h3>\n",
    "</div>"
   ]
  },
  {
   "cell_type": "markdown",
   "id": "0c7f1c8c-b3fd-4d15-8ec1-0afc194bf9ac",
   "metadata": {
    "tags": []
   },
   "source": [
    "<div class=\"alert alert-block alert-info\">\n",
    "    <p>Finally, we are going to optimize the model with the <b>balanced</b> dataset</p>\n",
    "</div>"
   ]
  },
  {
   "cell_type": "code",
   "execution_count": 34,
   "id": "e5addc3f-b138-4047-acf8-27edef5e2ad8",
   "metadata": {},
   "outputs": [],
   "source": [
    "fmin_objective = partial(hyperparameter_tuning, \n",
    "                         df=df_resampled, imbalanced=False,\n",
    "                         n_splits=2)"
   ]
  },
  {
   "cell_type": "code",
   "execution_count": 35,
   "id": "e3ee90ab-d5f7-4a27-bdcc-98947f136457",
   "metadata": {
    "tags": []
   },
   "outputs": [
    {
     "name": "stdout",
     "output_type": "stream",
     "text": [
      "Training until validation scores don't improve for 200 rounds                                                          \n",
      "Early stopping, best iteration is:                                                                                     \n",
      "[381]\ttraining's auc: 0.976774\ttraining's binary_logloss: 0.371752\tvalid_1's auc: 0.931982\tvalid_1's binary_logloss: 0.567598\n",
      "Training until validation scores don't improve for 200 rounds                                                          \n",
      "Early stopping, best iteration is:                                                                                     \n",
      "[654]\ttraining's auc: 0.979611\ttraining's binary_logloss: 0.275393\tvalid_1's auc: 0.932704\tvalid_1's binary_logloss: 0.525887\n",
      ">> ROC-AUC Score 0.918468                                                                                              \n",
      ">> Custom Score 0.922245                                                                                               \n",
      "\n",
      "Training until validation scores don't improve for 200 rounds                                                          \n",
      "Early stopping, best iteration is:                                                                                     \n",
      "[519]\ttraining's auc: 0.977187\ttraining's binary_logloss: 0.371143\tvalid_1's auc: 0.930962\tvalid_1's binary_logloss: 0.56935\n",
      "Training until validation scores don't improve for 200 rounds                                                          \n",
      "Early stopping, best iteration is:                                                                                     \n",
      "[896]\ttraining's auc: 0.980128\ttraining's binary_logloss: 0.27247\tvalid_1's auc: 0.933095\tvalid_1's binary_logloss: 0.526929\n",
      ">> ROC-AUC Score 0.917870                                                                                              \n",
      ">> Custom Score 0.921862                                                                                               \n",
      "\n",
      "Training until validation scores don't improve for 200 rounds                                                          \n",
      "Early stopping, best iteration is:                                                                                     \n",
      "[326]\ttraining's auc: 0.976013\ttraining's binary_logloss: 0.392229\tvalid_1's auc: 0.930004\tvalid_1's binary_logloss: 0.569052\n",
      "Training until validation scores don't improve for 200 rounds                                                          \n",
      "Early stopping, best iteration is:                                                                                     \n",
      "[631]\ttraining's auc: 0.979642\ttraining's binary_logloss: 0.272988\tvalid_1's auc: 0.934034\tvalid_1's binary_logloss: 0.522684\n",
      ">> ROC-AUC Score 0.912986                                                                                              \n",
      ">> Custom Score 0.921447                                                                                               \n",
      "\n",
      "Training until validation scores don't improve for 200 rounds                                                          \n",
      "Early stopping, best iteration is:                                                                                     \n",
      "[345]\ttraining's auc: 0.977239\ttraining's binary_logloss: 0.394778\tvalid_1's auc: 0.931604\tvalid_1's binary_logloss: 0.569279\n",
      "Training until validation scores don't improve for 200 rounds                                                          \n",
      "Early stopping, best iteration is:                                                                                     \n",
      "[631]\ttraining's auc: 0.980336\ttraining's binary_logloss: 0.286083\tvalid_1's auc: 0.934355\tvalid_1's binary_logloss: 0.522398\n",
      ">> ROC-AUC Score 0.915231                                                                                              \n",
      ">> Custom Score 0.922409                                                                                               \n",
      "\n",
      "Training until validation scores don't improve for 200 rounds                                                          \n",
      "Early stopping, best iteration is:                                                                                     \n",
      "[389]\ttraining's auc: 0.976507\ttraining's binary_logloss: 0.385402\tvalid_1's auc: 0.931614\tvalid_1's binary_logloss: 0.570483\n",
      "Training until validation scores don't improve for 200 rounds                                                          \n",
      "Early stopping, best iteration is:                                                                                     \n",
      "[701]\ttraining's auc: 0.979956\ttraining's binary_logloss: 0.27756\tvalid_1's auc: 0.935485\tvalid_1's binary_logloss: 0.526024\n",
      ">> ROC-AUC Score 0.916267                                                                                              \n",
      ">> Custom Score 0.922406                                                                                               \n",
      "\n",
      "Training until validation scores don't improve for 200 rounds                                                          \n",
      "Early stopping, best iteration is:                                                                                     \n",
      "[523]\ttraining's auc: 0.976975\ttraining's binary_logloss: 0.380434\tvalid_1's auc: 0.929272\tvalid_1's binary_logloss: 0.573987\n",
      "Training until validation scores don't improve for 200 rounds                                                          \n",
      "Early stopping, best iteration is:                                                                                     \n",
      "[849]\ttraining's auc: 0.979845\ttraining's binary_logloss: 0.291942\tvalid_1's auc: 0.931567\tvalid_1's binary_logloss: 0.525667\n",
      ">> ROC-AUC Score 0.918711                                                                                              \n",
      ">> Custom Score 0.922449                                                                                               \n",
      "\n",
      "Training until validation scores don't improve for 200 rounds                                                          \n",
      "Early stopping, best iteration is:                                                                                     \n",
      "[333]\ttraining's auc: 0.976315\ttraining's binary_logloss: 0.397999\tvalid_1's auc: 0.930981\tvalid_1's binary_logloss: 0.571026\n",
      "Training until validation scores don't improve for 200 rounds                                                          \n",
      "Early stopping, best iteration is:                                                                                     \n",
      "[628]\ttraining's auc: 0.979513\ttraining's binary_logloss: 0.285446\tvalid_1's auc: 0.936637\tvalid_1's binary_logloss: 0.51712\n",
      ">> ROC-AUC Score 0.916574                                                                                              \n",
      ">> Custom Score 0.922426                                                                                               \n",
      "\n",
      "Training until validation scores don't improve for 200 rounds                                                          \n",
      "Early stopping, best iteration is:                                                                                     \n",
      "[381]\ttraining's auc: 0.977077\ttraining's binary_logloss: 0.380306\tvalid_1's auc: 0.932606\tvalid_1's binary_logloss: 0.569972\n",
      "Training until validation scores don't improve for 200 rounds                                                          \n",
      "Early stopping, best iteration is:                                                                                     \n",
      "[630]\ttraining's auc: 0.979742\ttraining's binary_logloss: 0.290274\tvalid_1's auc: 0.935538\tvalid_1's binary_logloss: 0.518839\n",
      ">> ROC-AUC Score 0.922897                                                                                              \n",
      ">> Custom Score 0.922218                                                                                               \n",
      "\n",
      "Training until validation scores don't improve for 200 rounds                                                          \n",
      "Early stopping, best iteration is:                                                                                     \n",
      "[427]\ttraining's auc: 0.976198\ttraining's binary_logloss: 0.389139\tvalid_1's auc: 0.928918\tvalid_1's binary_logloss: 0.573251\n",
      "Training until validation scores don't improve for 200 rounds                                                          \n",
      "Early stopping, best iteration is:                                                                                     \n",
      "[747]\ttraining's auc: 0.979584\ttraining's binary_logloss: 0.287306\tvalid_1's auc: 0.935624\tvalid_1's binary_logloss: 0.52064\n",
      ">> ROC-AUC Score 0.918685                                                                                              \n",
      ">> Custom Score 0.921915                                                                                               \n",
      "\n",
      "Training until validation scores don't improve for 200 rounds                                                          \n",
      "Early stopping, best iteration is:                                                                                     \n",
      "[427]\ttraining's auc: 0.976862\ttraining's binary_logloss: 0.38176\tvalid_1's auc: 0.931754\tvalid_1's binary_logloss: 0.566824\n",
      "Training until validation scores don't improve for 200 rounds                                                          \n",
      "Early stopping, best iteration is:                                                                                     \n",
      "[758]\ttraining's auc: 0.979889\ttraining's binary_logloss: 0.279929\tvalid_1's auc: 0.932597\tvalid_1's binary_logloss: 0.525099\n",
      ">> ROC-AUC Score 0.916587                                                                                              \n",
      ">> Custom Score 0.922376                                                                                               \n",
      "\n",
      "Training until validation scores don't improve for 200 rounds                                                          \n",
      "Early stopping, best iteration is:                                                                                     \n",
      "[397]\ttraining's auc: 0.976565\ttraining's binary_logloss: 0.371169\tvalid_1's auc: 0.929928\tvalid_1's binary_logloss: 0.573549\n",
      "Training until validation scores don't improve for 200 rounds                                                          \n",
      "Early stopping, best iteration is:                                                                                     \n",
      "[634]\ttraining's auc: 0.97901\ttraining's binary_logloss: 0.286045\tvalid_1's auc: 0.931538\tvalid_1's binary_logloss: 0.524635\n",
      ">> ROC-AUC Score 0.920733                                                                                              \n",
      ">> Custom Score 0.921187                                                                                               \n",
      "\n",
      "Training until validation scores don't improve for 200 rounds                                                          \n",
      "Early stopping, best iteration is:                                                                                     \n",
      "[397]\ttraining's auc: 0.977749\ttraining's binary_logloss: 0.370321\tvalid_1's auc: 0.936052\tvalid_1's binary_logloss: 0.563093\n",
      "Training until validation scores don't improve for 200 rounds                                                          \n",
      "Early stopping, best iteration is:                                                                                     \n",
      "[629]\ttraining's auc: 0.980297\ttraining's binary_logloss: 0.286333\tvalid_1's auc: 0.934481\tvalid_1's binary_logloss: 0.52479\n",
      ">> ROC-AUC Score 0.923734                                                                                              \n",
      ">> Custom Score 0.922946                                                                                               \n",
      "\n",
      "Training until validation scores don't improve for 200 rounds                                                          \n",
      "Early stopping, best iteration is:                                                                                     \n",
      "[485]\ttraining's auc: 0.977231\ttraining's binary_logloss: 0.368155\tvalid_1's auc: 0.931724\tvalid_1's binary_logloss: 0.569675\n",
      "Training until validation scores don't improve for 200 rounds                                                          \n",
      "Early stopping, best iteration is:                                                                                     \n",
      "[871]\ttraining's auc: 0.980367\ttraining's binary_logloss: 0.263798\tvalid_1's auc: 0.934757\tvalid_1's binary_logloss: 0.527262\n",
      ">> ROC-AUC Score 0.918070                                                                                              \n",
      ">> Custom Score 0.922142                                                                                               \n",
      "\n",
      "Training until validation scores don't improve for 200 rounds                                                          \n",
      "Early stopping, best iteration is:                                                                                     \n",
      "[455]\ttraining's auc: 0.977446\ttraining's binary_logloss: 0.380109\tvalid_1's auc: 0.931874\tvalid_1's binary_logloss: 0.568129\n",
      "Training until validation scores don't improve for 200 rounds                                                          \n",
      "Early stopping, best iteration is:                                                                                     \n",
      "[824]\ttraining's auc: 0.980446\ttraining's binary_logloss: 0.274579\tvalid_1's auc: 0.933137\tvalid_1's binary_logloss: 0.526139\n",
      ">> ROC-AUC Score 0.915348                                                                                              \n",
      ">> Custom Score 0.922557                                                                                               \n",
      "\n",
      "Training until validation scores don't improve for 200 rounds                                                          \n",
      "Early stopping, best iteration is:                                                                                     \n",
      "[397]\ttraining's auc: 0.97665\ttraining's binary_logloss: 0.378712\tvalid_1's auc: 0.929842\tvalid_1's binary_logloss: 0.573313\n",
      "Training until validation scores don't improve for 200 rounds                                                          \n",
      "Early stopping, best iteration is:                                                                                     \n",
      "[628]\ttraining's auc: 0.979291\ttraining's binary_logloss: 0.295473\tvalid_1's auc: 0.932359\tvalid_1's binary_logloss: 0.522966\n",
      ">> ROC-AUC Score 0.921005                                                                                              \n",
      ">> Custom Score 0.922264                                                                                               \n",
      "\n",
      "Training until validation scores don't improve for 200 rounds                                                          \n",
      "Early stopping, best iteration is:                                                                                     \n",
      "[399]\ttraining's auc: 0.976598\ttraining's binary_logloss: 0.378382\tvalid_1's auc: 0.931655\tvalid_1's binary_logloss: 0.569174\n",
      "Training until validation scores don't improve for 200 rounds                                                          \n",
      "Early stopping, best iteration is:                                                                                     \n",
      "[747]\ttraining's auc: 0.980307\ttraining's binary_logloss: 0.265824\tvalid_1's auc: 0.936435\tvalid_1's binary_logloss: 0.525293\n",
      ">> ROC-AUC Score 0.916917                                                                                              \n",
      ">> Custom Score 0.922152                                                                                               \n",
      "\n",
      "Training until validation scores don't improve for 200 rounds                                                          \n",
      "Early stopping, best iteration is:                                                                                     \n",
      "[353]\ttraining's auc: 0.976951\ttraining's binary_logloss: 0.377875\tvalid_1's auc: 0.932379\tvalid_1's binary_logloss: 0.563316\n",
      "Training until validation scores don't improve for 200 rounds                                                          \n",
      "Early stopping, best iteration is:                                                                                     \n",
      "[619]\ttraining's auc: 0.979986\ttraining's binary_logloss: 0.276942\tvalid_1's auc: 0.933187\tvalid_1's binary_logloss: 0.523138\n",
      ">> ROC-AUC Score 0.917546                                                                                              \n",
      ">> Custom Score 0.922297                                                                                               \n",
      "\n",
      "Training until validation scores don't improve for 200 rounds                                                          \n",
      "Early stopping, best iteration is:                                                                                     \n",
      "[397]\ttraining's auc: 0.977864\ttraining's binary_logloss: 0.362945\tvalid_1's auc: 0.935177\tvalid_1's binary_logloss: 0.560108\n",
      "Training until validation scores don't improve for 200 rounds                                                          \n",
      "Early stopping, best iteration is:                                                                                     \n",
      "[654]\ttraining's auc: 0.980454\ttraining's binary_logloss: 0.273374\tvalid_1's auc: 0.932587\tvalid_1's binary_logloss: 0.526235\n",
      ">> ROC-AUC Score 0.921240                                                                                              \n",
      ">> Custom Score 0.922584                                                                                               \n",
      "\n",
      "Training until validation scores don't improve for 200 rounds                                                          \n",
      "Early stopping, best iteration is:                                                                                     \n",
      "[507]\ttraining's auc: 0.977885\ttraining's binary_logloss: 0.365745\tvalid_1's auc: 0.933586\tvalid_1's binary_logloss: 0.565972\n",
      "Training until validation scores don't improve for 200 rounds                                                          \n",
      "Early stopping, best iteration is:                                                                                     \n",
      "[814]\ttraining's auc: 0.980284\ttraining's binary_logloss: 0.280729\tvalid_1's auc: 0.930621\tvalid_1's binary_logloss: 0.531288\n",
      ">> ROC-AUC Score 0.919771                                                                                              \n",
      ">> Custom Score 0.922439                                                                                               \n",
      "\n",
      "Training until validation scores don't improve for 200 rounds                                                          \n",
      "Early stopping, best iteration is:                                                                                     \n",
      "[352]\ttraining's auc: 0.976707\ttraining's binary_logloss: 0.38772\tvalid_1's auc: 0.929865\tvalid_1's binary_logloss: 0.568689\n",
      "Training until validation scores don't improve for 200 rounds                                                          \n",
      "Early stopping, best iteration is:                                                                                     \n",
      "[643]\ttraining's auc: 0.979909\ttraining's binary_logloss: 0.28085\tvalid_1's auc: 0.932569\tvalid_1's binary_logloss: 0.526453\n",
      ">> ROC-AUC Score 0.913676                                                                                              \n",
      ">> Custom Score 0.922215                                                                                               \n",
      "\n",
      "Training until validation scores don't improve for 200 rounds                                                          \n",
      "Early stopping, best iteration is:                                                                                     \n",
      "[382]\ttraining's auc: 0.977125\ttraining's binary_logloss: 0.393815\tvalid_1's auc: 0.932187\tvalid_1's binary_logloss: 0.569507\n",
      "Training until validation scores don't improve for 200 rounds                                                          \n",
      "Early stopping, best iteration is:                                                                                     \n",
      "[746]\ttraining's auc: 0.980934\ttraining's binary_logloss: 0.273146\tvalid_1's auc: 0.936295\tvalid_1's binary_logloss: 0.524932\n",
      ">> ROC-AUC Score 0.912759                                                                                              \n",
      ">> Custom Score 0.922989                                                                                               \n",
      "\n",
      "Training until validation scores don't improve for 200 rounds                                                          \n",
      "Early stopping, best iteration is:                                                                                     \n",
      "[368]\ttraining's auc: 0.977799\ttraining's binary_logloss: 0.371205\tvalid_1's auc: 0.935222\tvalid_1's binary_logloss: 0.563194\n",
      "Training until validation scores don't improve for 200 rounds                                                          \n",
      "Early stopping, best iteration is:                                                                                     \n",
      "[628]\ttraining's auc: 0.980712\ttraining's binary_logloss: 0.275284\tvalid_1's auc: 0.936289\tvalid_1's binary_logloss: 0.525119\n",
      ">> ROC-AUC Score 0.921201                                                                                              \n",
      ">> Custom Score 0.923164                                                                                               \n",
      "\n",
      "Training until validation scores don't improve for 200 rounds                                                          \n",
      "Early stopping, best iteration is:                                                                                     \n",
      "[342]\ttraining's auc: 0.976762\ttraining's binary_logloss: 0.384022\tvalid_1's auc: 0.932479\tvalid_1's binary_logloss: 0.568517\n",
      "Training until validation scores don't improve for 200 rounds                                                          \n",
      "Early stopping, best iteration is:                                                                                     \n",
      "[611]\ttraining's auc: 0.979988\ttraining's binary_logloss: 0.280671\tvalid_1's auc: 0.934431\tvalid_1's binary_logloss: 0.527566\n",
      ">> ROC-AUC Score 0.917378                                                                                              \n",
      ">> Custom Score 0.922877                                                                                               \n",
      "\n",
      "Training until validation scores don't improve for 200 rounds                                                          \n",
      "Early stopping, best iteration is:                                                                                     \n",
      "[415]\ttraining's auc: 0.976639\ttraining's binary_logloss: 0.388528\tvalid_1's auc: 0.930839\tvalid_1's binary_logloss: 0.570215\n",
      "Training until validation scores don't improve for 200 rounds                                                          \n",
      "Early stopping, best iteration is:                                                                                     \n",
      "[706]\ttraining's auc: 0.979557\ttraining's binary_logloss: 0.293037\tvalid_1's auc: 0.93432\tvalid_1's binary_logloss: 0.521146\n",
      ">> ROC-AUC Score 0.919349                                                                                              \n",
      ">> Custom Score 0.922389                                                                                               \n",
      "\n",
      "Training until validation scores don't improve for 200 rounds                                                          \n",
      "Early stopping, best iteration is:                                                                                     \n",
      "[381]\ttraining's auc: 0.977206\ttraining's binary_logloss: 0.389452\tvalid_1's auc: 0.933081\tvalid_1's binary_logloss: 0.565568\n",
      "Training until validation scores don't improve for 200 rounds                                                          \n",
      "Early stopping, best iteration is:                                                                                     \n",
      "[690]\ttraining's auc: 0.980533\ttraining's binary_logloss: 0.282683\tvalid_1's auc: 0.933926\tvalid_1's binary_logloss: 0.528165\n",
      ">> ROC-AUC Score 0.915489                                                                                              \n",
      ">> Custom Score 0.922870                                                                                               \n",
      "\n",
      "Training until validation scores don't improve for 200 rounds                                                          \n",
      "Early stopping, best iteration is:                                                                                     \n",
      "[402]\ttraining's auc: 0.977137\ttraining's binary_logloss: 0.37749\tvalid_1's auc: 0.934053\tvalid_1's binary_logloss: 0.568887\n",
      "Training until validation scores don't improve for 200 rounds                                                          \n",
      "Early stopping, best iteration is:                                                                                     \n",
      "[692]\ttraining's auc: 0.980124\ttraining's binary_logloss: 0.279046\tvalid_1's auc: 0.935621\tvalid_1's binary_logloss: 0.52072\n",
      ">> ROC-AUC Score 0.921299                                                                                              \n",
      ">> Custom Score 0.922534                                                                                               \n",
      "\n",
      "Training until validation scores don't improve for 200 rounds                                                          \n",
      "Early stopping, best iteration is:                                                                                     \n",
      "[397]\ttraining's auc: 0.977228\ttraining's binary_logloss: 0.385418\tvalid_1's auc: 0.932207\tvalid_1's binary_logloss: 0.56893\n",
      "Training until validation scores don't improve for 200 rounds                                                          \n",
      "Early stopping, best iteration is:                                                                                     \n",
      "[684]\ttraining's auc: 0.980336\ttraining's binary_logloss: 0.286533\tvalid_1's auc: 0.933218\tvalid_1's binary_logloss: 0.525182\n",
      ">> ROC-AUC Score 0.917692                                                                                              \n",
      ">> Custom Score 0.922340                                                                                               \n",
      "\n",
      "Training until validation scores don't improve for 200 rounds                                                          \n",
      "Early stopping, best iteration is:                                                                                     \n",
      "[366]\ttraining's auc: 0.977112\ttraining's binary_logloss: 0.380923\tvalid_1's auc: 0.934072\tvalid_1's binary_logloss: 0.566727\n",
      "Training until validation scores don't improve for 200 rounds                                                          \n",
      "Early stopping, best iteration is:                                                                                     \n",
      "[631]\ttraining's auc: 0.980118\ttraining's binary_logloss: 0.282986\tvalid_1's auc: 0.934621\tvalid_1's binary_logloss: 0.525614\n",
      ">> ROC-AUC Score 0.919162                                                                                              \n",
      ">> Custom Score 0.922765                                                                                               \n",
      "\n",
      "Training until validation scores don't improve for 200 rounds                                                          \n",
      "Early stopping, best iteration is:                                                                                     \n",
      "[390]\ttraining's auc: 0.977363\ttraining's binary_logloss: 0.373804\tvalid_1's auc: 0.932517\tvalid_1's binary_logloss: 0.567143\n",
      "Training until validation scores don't improve for 200 rounds                                                          \n",
      "Early stopping, best iteration is:                                                                                     \n",
      "[633]\ttraining's auc: 0.979994\ttraining's binary_logloss: 0.286103\tvalid_1's auc: 0.934239\tvalid_1's binary_logloss: 0.525246\n",
      ">> ROC-AUC Score 0.921471                                                                                              \n",
      ">> Custom Score 0.923193                                                                                               \n",
      "\n",
      "Training until validation scores don't improve for 200 rounds                                                          \n",
      "Early stopping, best iteration is:                                                                                     \n",
      "[414]\ttraining's auc: 0.976647\ttraining's binary_logloss: 0.387406\tvalid_1's auc: 0.930815\tvalid_1's binary_logloss: 0.572135\n",
      "Training until validation scores don't improve for 200 rounds                                                          \n",
      "Early stopping, best iteration is:                                                                                     \n",
      "[720]\ttraining's auc: 0.979696\ttraining's binary_logloss: 0.28801\tvalid_1's auc: 0.933263\tvalid_1's binary_logloss: 0.52471\n",
      ">> ROC-AUC Score 0.917288                                                                                              \n",
      ">> Custom Score 0.922383                                                                                               \n",
      "\n",
      "Training until validation scores don't improve for 200 rounds                                                          \n",
      "Early stopping, best iteration is:                                                                                     \n",
      "[392]\ttraining's auc: 0.977584\ttraining's binary_logloss: 0.371205\tvalid_1's auc: 0.932058\tvalid_1's binary_logloss: 0.565977\n",
      "Training until validation scores don't improve for 200 rounds                                                          \n",
      "Early stopping, best iteration is:                                                                                     \n",
      "[711]\ttraining's auc: 0.980765\ttraining's binary_logloss: 0.264507\tvalid_1's auc: 0.935728\tvalid_1's binary_logloss: 0.523692\n",
      ">> ROC-AUC Score 0.918039                                                                                              \n",
      ">> Custom Score 0.922590                                                                                               \n",
      "\n",
      "Training until validation scores don't improve for 200 rounds                                                          \n",
      "Early stopping, best iteration is:                                                                                     \n",
      "[390]\ttraining's auc: 0.977495\ttraining's binary_logloss: 0.36953\tvalid_1's auc: 0.935009\tvalid_1's binary_logloss: 0.56464\n",
      "Training until validation scores don't improve for 200 rounds                                                          \n",
      "Early stopping, best iteration is:                                                                                     \n",
      "[578]\ttraining's auc: 0.979478\ttraining's binary_logloss: 0.298193\tvalid_1's auc: 0.931168\tvalid_1's binary_logloss: 0.527344\n",
      ">> ROC-AUC Score 0.923983                                                                                              \n",
      ">> Custom Score 0.922686                                                                                               \n",
      "\n",
      "Training until validation scores don't improve for 200 rounds                                                          \n",
      "Early stopping, best iteration is:                                                                                     \n",
      "[382]\ttraining's auc: 0.97797\ttraining's binary_logloss: 0.359331\tvalid_1's auc: 0.935197\tvalid_1's binary_logloss: 0.564543\n",
      "Training until validation scores don't improve for 200 rounds                                                          \n",
      "Early stopping, best iteration is:                                                                                     \n",
      "[637]\ttraining's auc: 0.980656\ttraining's binary_logloss: 0.26818\tvalid_1's auc: 0.934644\tvalid_1's binary_logloss: 0.523193\n",
      ">> ROC-AUC Score 0.922966                                                                                              \n",
      ">> Custom Score 0.922577                                                                                               \n",
      "\n",
      "Training until validation scores don't improve for 200 rounds                                                          \n",
      "Early stopping, best iteration is:                                                                                     \n",
      "[339]\ttraining's auc: 0.97706\ttraining's binary_logloss: 0.386557\tvalid_1's auc: 0.933958\tvalid_1's binary_logloss: 0.567708\n",
      "Training until validation scores don't improve for 200 rounds                                                          \n",
      "Early stopping, best iteration is:                                                                                     \n",
      "[603]\ttraining's auc: 0.980252\ttraining's binary_logloss: 0.282597\tvalid_1's auc: 0.936587\tvalid_1's binary_logloss: 0.52523\n",
      ">> ROC-AUC Score 0.918502                                                                                              \n",
      ">> Custom Score 0.922801                                                                                               \n",
      "\n",
      "Training until validation scores don't improve for 200 rounds                                                          \n",
      "Early stopping, best iteration is:                                                                                     \n",
      "[352]\ttraining's auc: 0.976478\ttraining's binary_logloss: 0.389923\tvalid_1's auc: 0.93199\tvalid_1's binary_logloss: 0.569925\n",
      "Training until validation scores don't improve for 200 rounds                                                          \n",
      "Early stopping, best iteration is:                                                                                     \n",
      "[636]\ttraining's auc: 0.979692\ttraining's binary_logloss: 0.283345\tvalid_1's auc: 0.935515\tvalid_1's binary_logloss: 0.520784\n",
      ">> ROC-AUC Score 0.917510                                                                                              \n",
      ">> Custom Score 0.922469                                                                                               \n",
      "\n",
      "Training until validation scores don't improve for 200 rounds                                                          \n",
      "Early stopping, best iteration is:                                                                                     \n",
      "[397]\ttraining's auc: 0.978368\ttraining's binary_logloss: 0.355579\tvalid_1's auc: 0.937038\tvalid_1's binary_logloss: 0.563784\n",
      "Training until validation scores don't improve for 200 rounds                                                          \n",
      "Early stopping, best iteration is:                                                                                     \n",
      "[559]\ttraining's auc: 0.979871\ttraining's binary_logloss: 0.295272\tvalid_1's auc: 0.931441\tvalid_1's binary_logloss: 0.528563\n",
      ">> ROC-AUC Score 0.927439                                                                                              \n",
      ">> Custom Score 0.922837                                                                                               \n",
      "\n",
      "Training until validation scores don't improve for 200 rounds                                                          \n",
      "Early stopping, best iteration is:                                                                                     \n",
      "[357]\ttraining's auc: 0.977234\ttraining's binary_logloss: 0.375937\tvalid_1's auc: 0.93361\tvalid_1's binary_logloss: 0.566497\n",
      "Training until validation scores don't improve for 200 rounds                                                          \n",
      "Early stopping, best iteration is:                                                                                     \n",
      "[629]\ttraining's auc: 0.980588\ttraining's binary_logloss: 0.27375\tvalid_1's auc: 0.937421\tvalid_1's binary_logloss: 0.527243\n",
      ">> ROC-AUC Score 0.920428                                                                                              \n",
      ">> Custom Score 0.923374                                                                                               \n",
      "\n",
      "Training until validation scores don't improve for 200 rounds                                                          \n",
      "Early stopping, best iteration is:                                                                                     \n",
      "[370]\ttraining's auc: 0.976866\ttraining's binary_logloss: 0.370706\tvalid_1's auc: 0.93282\tvalid_1's binary_logloss: 0.562324\n",
      "Training until validation scores don't improve for 200 rounds                                                          \n",
      "Early stopping, best iteration is:                                                                                     \n",
      "[653]\ttraining's auc: 0.979934\ttraining's binary_logloss: 0.26917\tvalid_1's auc: 0.935127\tvalid_1's binary_logloss: 0.525516\n",
      ">> ROC-AUC Score 0.919004                                                                                              \n",
      ">> Custom Score 0.922333                                                                                               \n",
      "\n",
      "Training until validation scores don't improve for 200 rounds                                                          \n",
      "Early stopping, best iteration is:                                                                                     \n",
      "[397]\ttraining's auc: 0.978091\ttraining's binary_logloss: 0.359493\tvalid_1's auc: 0.935969\tvalid_1's binary_logloss: 0.560655\n",
      "Training until validation scores don't improve for 200 rounds                                                          \n",
      "Early stopping, best iteration is:                                                                                     \n",
      "[562]\ttraining's auc: 0.979785\ttraining's binary_logloss: 0.296581\tvalid_1's auc: 0.93289\tvalid_1's binary_logloss: 0.526149\n",
      ">> ROC-AUC Score 0.927925                                                                                              \n",
      ">> Custom Score 0.923005                                                                                               \n",
      "\n",
      "Training until validation scores don't improve for 200 rounds                                                          \n",
      "Early stopping, best iteration is:                                                                                     \n",
      "[368]\ttraining's auc: 0.977698\ttraining's binary_logloss: 0.372853\tvalid_1's auc: 0.934271\tvalid_1's binary_logloss: 0.564706\n",
      "Training until validation scores don't improve for 200 rounds                                                          \n",
      "Early stopping, best iteration is:                                                                                     \n",
      "[619]\ttraining's auc: 0.980543\ttraining's binary_logloss: 0.279269\tvalid_1's auc: 0.935779\tvalid_1's binary_logloss: 0.526448\n",
      ">> ROC-AUC Score 0.921506                                                                                              \n",
      ">> Custom Score 0.923239                                                                                               \n",
      "\n",
      "Training until validation scores don't improve for 200 rounds                                                          \n",
      "Early stopping, best iteration is:                                                                                     \n",
      "[345]\ttraining's auc: 0.977625\ttraining's binary_logloss: 0.372786\tvalid_1's auc: 0.93335\tvalid_1's binary_logloss: 0.564896\n",
      "Training until validation scores don't improve for 200 rounds                                                          \n",
      "Early stopping, best iteration is:                                                                                     \n",
      "[611]\ttraining's auc: 0.980717\ttraining's binary_logloss: 0.271434\tvalid_1's auc: 0.932985\tvalid_1's binary_logloss: 0.52864\n",
      ">> ROC-AUC Score 0.916561                                                                                              \n",
      ">> Custom Score 0.922212                                                                                               \n",
      "\n",
      "Training until validation scores don't improve for 200 rounds                                                          \n",
      "Early stopping, best iteration is:                                                                                     \n",
      "[385]\ttraining's auc: 0.977805\ttraining's binary_logloss: 0.367556\tvalid_1's auc: 0.934067\tvalid_1's binary_logloss: 0.565229\n",
      "Training until validation scores don't improve for 200 rounds                                                          \n",
      "Early stopping, best iteration is:                                                                                     \n",
      "[597]\ttraining's auc: 0.980077\ttraining's binary_logloss: 0.288556\tvalid_1's auc: 0.934203\tvalid_1's binary_logloss: 0.521988\n",
      ">> ROC-AUC Score 0.924454                                                                                              \n",
      ">> Custom Score 0.922936                                                                                               \n",
      "\n",
      "Training until validation scores don't improve for 200 rounds                                                          \n",
      "Early stopping, best iteration is:                                                                                     \n",
      "[393]\ttraining's auc: 0.977629\ttraining's binary_logloss: 0.368927\tvalid_1's auc: 0.933289\tvalid_1's binary_logloss: 0.564382\n",
      "Training until validation scores don't improve for 200 rounds                                                          \n",
      "Early stopping, best iteration is:                                                                                     \n",
      "[692]\ttraining's auc: 0.980577\ttraining's binary_logloss: 0.26833\tvalid_1's auc: 0.934063\tvalid_1's binary_logloss: 0.524753\n",
      ">> ROC-AUC Score 0.918956                                                                                              \n",
      ">> Custom Score 0.922142                                                                                               \n",
      "\n",
      "Training until validation scores don't improve for 200 rounds                                                          \n",
      "Early stopping, best iteration is:                                                                                     \n",
      "[452]\ttraining's auc: 0.976835\ttraining's binary_logloss: 0.38701\tvalid_1's auc: 0.929888\tvalid_1's binary_logloss: 0.571751\n",
      "Training until validation scores don't improve for 200 rounds                                                          \n",
      "Early stopping, best iteration is:                                                                                     \n",
      "[789]\ttraining's auc: 0.980025\ttraining's binary_logloss: 0.285919\tvalid_1's auc: 0.93255\tvalid_1's binary_logloss: 0.524685\n",
      ">> ROC-AUC Score 0.915869                                                                                              \n",
      ">> Custom Score 0.922581                                                                                               \n",
      "\n",
      "Training until validation scores don't improve for 200 rounds                                                          \n",
      "Early stopping, best iteration is:                                                                                     \n",
      "[540]\ttraining's auc: 0.977799\ttraining's binary_logloss: 0.367528\tvalid_1's auc: 0.933099\tvalid_1's binary_logloss: 0.57067\n",
      "Training until validation scores don't improve for 200 rounds                                                          \n",
      "Early stopping, best iteration is:                                                                                     \n",
      "[866]\ttraining's auc: 0.980315\ttraining's binary_logloss: 0.282623\tvalid_1's auc: 0.933932\tvalid_1's binary_logloss: 0.5238\n",
      ">> ROC-AUC Score 0.922613                                                                                              \n",
      ">> Custom Score 0.922992                                                                                               \n",
      "\n",
      "Training until validation scores don't improve for 200 rounds                                                          \n",
      "Early stopping, best iteration is:                                                                                     \n",
      "[397]\ttraining's auc: 0.976612\ttraining's binary_logloss: 0.377733\tvalid_1's auc: 0.930553\tvalid_1's binary_logloss: 0.567485\n",
      "Training until validation scores don't improve for 200 rounds                                                          \n",
      "Early stopping, best iteration is:                                                                                     \n",
      "[626]\ttraining's auc: 0.978953\ttraining's binary_logloss: 0.295601\tvalid_1's auc: 0.930493\tvalid_1's binary_logloss: 0.526359\n",
      ">> ROC-AUC Score 0.920120                                                                                              \n",
      ">> Custom Score 0.921414                                                                                               \n",
      "\n",
      "Training until validation scores don't improve for 200 rounds                                                          \n",
      "Early stopping, best iteration is:                                                                                     \n",
      "[422]\ttraining's auc: 0.97742\ttraining's binary_logloss: 0.379164\tvalid_1's auc: 0.934582\tvalid_1's binary_logloss: 0.560631\n",
      "Training until validation scores don't improve for 200 rounds                                                          \n",
      "Early stopping, best iteration is:                                                                                     \n",
      "[793]\ttraining's auc: 0.980808\ttraining's binary_logloss: 0.266242\tvalid_1's auc: 0.935647\tvalid_1's binary_logloss: 0.52504\n",
      ">> ROC-AUC Score 0.916639                                                                                              \n",
      ">> Custom Score 0.922511                                                                                               \n",
      "\n",
      "Training until validation scores don't improve for 200 rounds                                                          \n",
      "Early stopping, best iteration is:                                                                                     \n",
      "[397]\ttraining's auc: 0.977987\ttraining's binary_logloss: 0.367764\tvalid_1's auc: 0.934948\tvalid_1's binary_logloss: 0.568163\n",
      "Training until validation scores don't improve for 200 rounds                                                          \n",
      "Early stopping, best iteration is:                                                                                     \n",
      "[628]\ttraining's auc: 0.980312\ttraining's binary_logloss: 0.284563\tvalid_1's auc: 0.934683\tvalid_1's binary_logloss: 0.522502\n",
      ">> ROC-AUC Score 0.924050                                                                                              \n",
      ">> Custom Score 0.921984                                                                                               \n",
      "\n",
      "Training until validation scores don't improve for 200 rounds                                                          \n",
      "Early stopping, best iteration is:                                                                                     \n",
      "[415]\ttraining's auc: 0.976285\ttraining's binary_logloss: 0.392985\tvalid_1's auc: 0.930421\tvalid_1's binary_logloss: 0.568939\n",
      "Training until validation scores don't improve for 200 rounds                                                          \n",
      "Early stopping, best iteration is:                                                                                     \n",
      "[788]\ttraining's auc: 0.979728\ttraining's binary_logloss: 0.278179\tvalid_1's auc: 0.932564\tvalid_1's binary_logloss: 0.529328\n",
      ">> ROC-AUC Score 0.910656                                                                                              \n",
      ">> Custom Score 0.921358                                                                                               \n",
      "\n",
      "Training until validation scores don't improve for 200 rounds                                                          \n",
      "Early stopping, best iteration is:                                                                                     \n",
      "[517]\ttraining's auc: 0.977427\ttraining's binary_logloss: 0.380498\tvalid_1's auc: 0.932731\tvalid_1's binary_logloss: 0.568355\n",
      "Training until validation scores don't improve for 200 rounds                                                          \n",
      "Early stopping, best iteration is:                                                                                     \n",
      "[891]\ttraining's auc: 0.980431\ttraining's binary_logloss: 0.282793\tvalid_1's auc: 0.934628\tvalid_1's binary_logloss: 0.523553\n",
      ">> ROC-AUC Score 0.919164                                                                                              \n",
      ">> Custom Score 0.922999                                                                                               \n",
      "\n",
      "Training until validation scores don't improve for 200 rounds                                                          \n",
      "Early stopping, best iteration is:                                                                                     \n",
      "[359]\ttraining's auc: 0.977481\ttraining's binary_logloss: 0.378349\tvalid_1's auc: 0.93222\tvalid_1's binary_logloss: 0.569961\n",
      "Training until validation scores don't improve for 200 rounds                                                          \n",
      "Early stopping, best iteration is:                                                                                     \n",
      "[566]\ttraining's auc: 0.979809\ttraining's binary_logloss: 0.296523\tvalid_1's auc: 0.932962\tvalid_1's binary_logloss: 0.521849\n",
      ">> ROC-AUC Score 0.922457                                                                                              \n",
      ">> Custom Score 0.922459                                                                                               \n",
      "\n",
      "Training until validation scores don't improve for 200 rounds                                                          \n",
      "Early stopping, best iteration is:                                                                                     \n",
      "[451]\ttraining's auc: 0.977638\ttraining's binary_logloss: 0.364486\tvalid_1's auc: 0.932845\tvalid_1's binary_logloss: 0.567645\n",
      "Training until validation scores don't improve for 200 rounds                                                          \n",
      "Early stopping, best iteration is:                                                                                     \n",
      "[749]\ttraining's auc: 0.98026\ttraining's binary_logloss: 0.273992\tvalid_1's auc: 0.932586\tvalid_1's binary_logloss: 0.524922\n",
      ">> ROC-AUC Score 0.920619                                                                                              \n",
      ">> Custom Score 0.922057                                                                                               \n",
      "\n",
      "Training until validation scores don't improve for 200 rounds                                                          \n",
      "Early stopping, best iteration is:                                                                                     \n",
      "[397]\ttraining's auc: 0.976841\ttraining's binary_logloss: 0.367468\tvalid_1's auc: 0.932245\tvalid_1's binary_logloss: 0.570435\n",
      "Training until validation scores don't improve for 200 rounds                                                          \n",
      "Early stopping, best iteration is:                                                                                     \n",
      "[626]\ttraining's auc: 0.979214\ttraining's binary_logloss: 0.285312\tvalid_1's auc: 0.931617\tvalid_1's binary_logloss: 0.527255\n",
      ">> ROC-AUC Score 0.921451                                                                                              \n",
      ">> Custom Score 0.922218                                                                                               \n",
      "\n",
      "Training until validation scores don't improve for 200 rounds                                                          \n",
      "Early stopping, best iteration is:                                                                                     \n",
      "[437]\ttraining's auc: 0.977431\ttraining's binary_logloss: 0.375237\tvalid_1's auc: 0.932949\tvalid_1's binary_logloss: 0.57257\n",
      "Training until validation scores don't improve for 200 rounds                                                          \n",
      "Early stopping, best iteration is:                                                                                     \n",
      "[744]\ttraining's auc: 0.980372\ttraining's binary_logloss: 0.278734\tvalid_1's auc: 0.935224\tvalid_1's binary_logloss: 0.522898\n",
      ">> ROC-AUC Score 0.920556                                                                                              \n",
      ">> Custom Score 0.922610                                                                                               \n",
      "\n",
      "Training until validation scores don't improve for 200 rounds                                                          \n",
      "Early stopping, best iteration is:                                                                                     \n",
      "[420]\ttraining's auc: 0.977533\ttraining's binary_logloss: 0.375895\tvalid_1's auc: 0.933211\tvalid_1's binary_logloss: 0.568734\n",
      "Training until validation scores don't improve for 200 rounds                                                          \n",
      "Early stopping, best iteration is:                                                                                     \n",
      "[691]\ttraining's auc: 0.980251\ttraining's binary_logloss: 0.285868\tvalid_1's auc: 0.934386\tvalid_1's binary_logloss: 0.52448\n",
      ">> ROC-AUC Score 0.921434                                                                                              \n",
      ">> Custom Score 0.922811                                                                                               \n",
      "\n",
      "Training until validation scores don't improve for 200 rounds                                                          \n",
      "Early stopping, best iteration is:                                                                                     \n",
      "[414]\ttraining's auc: 0.978108\ttraining's binary_logloss: 0.359898\tvalid_1's auc: 0.935852\tvalid_1's binary_logloss: 0.56295\n",
      "Training until validation scores don't improve for 200 rounds                                                          \n",
      "Early stopping, best iteration is:                                                                                     \n",
      "[636]\ttraining's auc: 0.980181\ttraining's binary_logloss: 0.283117\tvalid_1's auc: 0.93238\tvalid_1's binary_logloss: 0.52439\n",
      ">> ROC-AUC Score 0.924502                                                                                              \n",
      ">> Custom Score 0.922469                                                                                               \n",
      "\n",
      "Training until validation scores don't improve for 200 rounds                                                          \n",
      "Early stopping, best iteration is:                                                                                     \n",
      "[395]\ttraining's auc: 0.977237\ttraining's binary_logloss: 0.363327\tvalid_1's auc: 0.933152\tvalid_1's binary_logloss: 0.571539\n",
      "Training until validation scores don't improve for 200 rounds                                                          \n",
      "Early stopping, best iteration is:                                                                                     \n",
      "[560]\ttraining's auc: 0.978986\ttraining's binary_logloss: 0.299615\tvalid_1's auc: 0.932328\tvalid_1's binary_logloss: 0.523274\n",
      ">> ROC-AUC Score 0.926818                                                                                              \n",
      ">> Custom Score 0.922202                                                                                               \n",
      "\n",
      "Training until validation scores don't improve for 200 rounds                                                          \n",
      "Early stopping, best iteration is:                                                                                     \n",
      "[399]\ttraining's auc: 0.97795\ttraining's binary_logloss: 0.364508\tvalid_1's auc: 0.934748\tvalid_1's binary_logloss: 0.562007\n",
      "Training until validation scores don't improve for 200 rounds                                                          \n",
      "Early stopping, best iteration is:                                                                                     \n",
      "[698]\ttraining's auc: 0.980842\ttraining's binary_logloss: 0.264488\tvalid_1's auc: 0.935622\tvalid_1's binary_logloss: 0.527024\n",
      ">> ROC-AUC Score 0.920674                                                                                              \n",
      ">> Custom Score 0.922053                                                                                               \n",
      "\n",
      "Training until validation scores don't improve for 200 rounds                                                          \n",
      "Early stopping, best iteration is:                                                                                     \n",
      "[394]\ttraining's auc: 0.977711\ttraining's binary_logloss: 0.37194\tvalid_1's auc: 0.933584\tvalid_1's binary_logloss: 0.566928\n",
      "Training until validation scores don't improve for 200 rounds                                                          \n",
      "Early stopping, best iteration is:                                                                                     \n",
      "[628]\ttraining's auc: 0.980274\ttraining's binary_logloss: 0.286785\tvalid_1's auc: 0.93366\tvalid_1's binary_logloss: 0.524448\n",
      ">> ROC-AUC Score 0.922094                                                                                              \n",
      ">> Custom Score 0.922123                                                                                               \n",
      "\n",
      "Training until validation scores don't improve for 200 rounds                                                          \n",
      "Early stopping, best iteration is:                                                                                     \n",
      "[415]\ttraining's auc: 0.977835\ttraining's binary_logloss: 0.370524\tvalid_1's auc: 0.935019\tvalid_1's binary_logloss: 0.568624\n",
      "Training until validation scores don't improve for 200 rounds                                                          \n",
      "Early stopping, best iteration is:                                                                                     \n",
      "[701]\ttraining's auc: 0.980817\ttraining's binary_logloss: 0.275897\tvalid_1's auc: 0.93552\tvalid_1's binary_logloss: 0.526456\n",
      ">> ROC-AUC Score 0.921065                                                                                              \n",
      ">> Custom Score 0.922775                                                                                               \n",
      "\n",
      "Training until validation scores don't improve for 200 rounds                                                          \n",
      "Early stopping, best iteration is:                                                                                     \n",
      "[465]\ttraining's auc: 0.976214\ttraining's binary_logloss: 0.392563\tvalid_1's auc: 0.930859\tvalid_1's binary_logloss: 0.572252\n",
      "Training until validation scores don't improve for 200 rounds                                                          \n",
      "Early stopping, best iteration is:                                                                                     \n",
      "[840]\ttraining's auc: 0.97958\ttraining's binary_logloss: 0.285729\tvalid_1's auc: 0.93389\tvalid_1's binary_logloss: 0.524947\n",
      ">> ROC-AUC Score 0.915534                                                                                              \n",
      ">> Custom Score 0.922347                                                                                               \n",
      "\n",
      "Training until validation scores don't improve for 200 rounds                                                          \n",
      "Early stopping, best iteration is:                                                                                     \n",
      "[396]\ttraining's auc: 0.978022\ttraining's binary_logloss: 0.357301\tvalid_1's auc: 0.937113\tvalid_1's binary_logloss: 0.56223\n",
      "Training until validation scores don't improve for 200 rounds                                                          \n",
      "Early stopping, best iteration is:                                                                                     \n",
      "[631]\ttraining's auc: 0.980688\ttraining's binary_logloss: 0.272696\tvalid_1's auc: 0.93374\tvalid_1's binary_logloss: 0.526483\n",
      ">> ROC-AUC Score 0.923421                                                                                              \n",
      ">> Custom Score 0.922913                                                                                               \n",
      "\n",
      "Training until validation scores don't improve for 200 rounds                                                          \n",
      "Early stopping, best iteration is:                                                                                     \n",
      "[370]\ttraining's auc: 0.977737\ttraining's binary_logloss: 0.372967\tvalid_1's auc: 0.93468\tvalid_1's binary_logloss: 0.565163\n",
      "Training until validation scores don't improve for 200 rounds                                                          \n",
      "Early stopping, best iteration is:                                                                                     \n",
      "[567]\ttraining's auc: 0.979802\ttraining's binary_logloss: 0.296889\tvalid_1's auc: 0.934081\tvalid_1's binary_logloss: 0.521313\n",
      ">> ROC-AUC Score 0.925336                                                                                              \n",
      ">> Custom Score 0.922762                                                                                               \n",
      "\n",
      "Training until validation scores don't improve for 200 rounds                                                          \n",
      "Early stopping, best iteration is:                                                                                     \n",
      "[427]\ttraining's auc: 0.977813\ttraining's binary_logloss: 0.363937\tvalid_1's auc: 0.933609\tvalid_1's binary_logloss: 0.566406\n",
      "Training until validation scores don't improve for 200 rounds                                                          \n",
      "Early stopping, best iteration is:                                                                                     \n",
      "[744]\ttraining's auc: 0.980696\ttraining's binary_logloss: 0.26548\tvalid_1's auc: 0.934789\tvalid_1's binary_logloss: 0.524143\n",
      ">> ROC-AUC Score 0.920323                                                                                              \n",
      ">> Custom Score 0.922630                                                                                               \n",
      "\n",
      "Training until validation scores don't improve for 200 rounds                                                          \n",
      "Early stopping, best iteration is:                                                                                     \n",
      "[414]\ttraining's auc: 0.976198\ttraining's binary_logloss: 0.398432\tvalid_1's auc: 0.930581\tvalid_1's binary_logloss: 0.570904\n",
      "Training until validation scores don't improve for 200 rounds                                                          \n",
      "Early stopping, best iteration is:                                                                                     \n",
      "[757]\ttraining's auc: 0.979265\ttraining's binary_logloss: 0.29088\tvalid_1's auc: 0.93328\tvalid_1's binary_logloss: 0.522471\n",
      ">> ROC-AUC Score 0.914593                                                                                              \n",
      ">> Custom Score 0.922399                                                                                               \n",
      "\n",
      "Training until validation scores don't improve for 200 rounds                                                          \n",
      "Early stopping, best iteration is:                                                                                     \n",
      "[349]\ttraining's auc: 0.976198\ttraining's binary_logloss: 0.384916\tvalid_1's auc: 0.932015\tvalid_1's binary_logloss: 0.567502\n",
      "Training until validation scores don't improve for 200 rounds                                                          \n",
      "Early stopping, best iteration is:                                                                                     \n",
      "[627]\ttraining's auc: 0.979827\ttraining's binary_logloss: 0.278142\tvalid_1's auc: 0.937279\tvalid_1's binary_logloss: 0.520721\n",
      ">> ROC-AUC Score 0.919277                                                                                              \n",
      ">> Custom Score 0.923104                                                                                               \n",
      "\n",
      "Training until validation scores don't improve for 200 rounds                                                          \n",
      "Early stopping, best iteration is:                                                                                     \n",
      "[333]\ttraining's auc: 0.976016\ttraining's binary_logloss: 0.393939\tvalid_1's auc: 0.931686\tvalid_1's binary_logloss: 0.568806\n",
      "Training until validation scores don't improve for 200 rounds                                                          \n",
      "Early stopping, best iteration is:                                                                                     \n",
      "[610]\ttraining's auc: 0.979465\ttraining's binary_logloss: 0.285047\tvalid_1's auc: 0.935339\tvalid_1's binary_logloss: 0.521518\n",
      ">> ROC-AUC Score 0.916778                                                                                              \n",
      ">> Custom Score 0.922327                                                                                               \n",
      "\n",
      "Training until validation scores don't improve for 200 rounds                                                          \n",
      "Early stopping, best iteration is:                                                                                     \n",
      "[394]\ttraining's auc: 0.976928\ttraining's binary_logloss: 0.373927\tvalid_1's auc: 0.935012\tvalid_1's binary_logloss: 0.567607\n",
      "Training until validation scores don't improve for 200 rounds                                                          \n",
      "Early stopping, best iteration is:                                                                                     \n",
      "[626]\ttraining's auc: 0.979218\ttraining's binary_logloss: 0.29033\tvalid_1's auc: 0.933055\tvalid_1's binary_logloss: 0.522724\n",
      ">> ROC-AUC Score 0.923230                                                                                              \n",
      ">> Custom Score 0.922416                                                                                               \n",
      "\n",
      "Training until validation scores don't improve for 200 rounds                                                          \n",
      "Early stopping, best iteration is:                                                                                     \n",
      "[352]\ttraining's auc: 0.97626\ttraining's binary_logloss: 0.390436\tvalid_1's auc: 0.931891\tvalid_1's binary_logloss: 0.567193\n",
      "Training until validation scores don't improve for 200 rounds                                                          \n",
      "Early stopping, best iteration is:                                                                                     \n",
      "[634]\ttraining's auc: 0.979441\ttraining's binary_logloss: 0.28556\tvalid_1's auc: 0.934284\tvalid_1's binary_logloss: 0.521505\n",
      ">> ROC-AUC Score 0.917224                                                                                              \n",
      ">> Custom Score 0.922673                                                                                               \n",
      "\n",
      "Training until validation scores don't improve for 200 rounds                                                          \n",
      "Early stopping, best iteration is:                                                                                     \n",
      "[339]\ttraining's auc: 0.976176\ttraining's binary_logloss: 0.391478\tvalid_1's auc: 0.932365\tvalid_1's binary_logloss: 0.565921\n",
      "Training until validation scores don't improve for 200 rounds                                                          \n",
      "Early stopping, best iteration is:                                                                                     \n",
      "[594]\ttraining's auc: 0.979386\ttraining's binary_logloss: 0.291256\tvalid_1's auc: 0.933965\tvalid_1's binary_logloss: 0.52242\n",
      ">> ROC-AUC Score 0.918035                                                                                              \n",
      ">> Custom Score 0.922416                                                                                               \n",
      "\n",
      "Training until validation scores don't improve for 200 rounds                                                          \n",
      "Early stopping, best iteration is:                                                                                     \n",
      "[395]\ttraining's auc: 0.976609\ttraining's binary_logloss: 0.376805\tvalid_1's auc: 0.932631\tvalid_1's binary_logloss: 0.5719\n",
      "Training until validation scores don't improve for 200 rounds                                                          \n",
      "Early stopping, best iteration is:                                                                                     \n",
      "[633]\ttraining's auc: 0.9792\ttraining's binary_logloss: 0.291621\tvalid_1's auc: 0.932339\tvalid_1's binary_logloss: 0.523745\n",
      ">> ROC-AUC Score 0.921270                                                                                              \n",
      ">> Custom Score 0.922277                                                                                               \n",
      "\n",
      "Training until validation scores don't improve for 200 rounds                                                          \n",
      "Early stopping, best iteration is:                                                                                     \n",
      "[346]\ttraining's auc: 0.976402\ttraining's binary_logloss: 0.384972\tvalid_1's auc: 0.930258\tvalid_1's binary_logloss: 0.569867\n",
      "Training until validation scores don't improve for 200 rounds                                                          \n",
      "Early stopping, best iteration is:                                                                                     \n",
      "[567]\ttraining's auc: 0.978911\ttraining's binary_logloss: 0.297578\tvalid_1's auc: 0.932593\tvalid_1's binary_logloss: 0.521958\n",
      ">> ROC-AUC Score 0.920517                                                                                              \n",
      ">> Custom Score 0.921902                                                                                               \n",
      "\n",
      "Training until validation scores don't improve for 200 rounds                                                          \n",
      "Early stopping, best iteration is:                                                                                     \n",
      "[352]\ttraining's auc: 0.976322\ttraining's binary_logloss: 0.38794\tvalid_1's auc: 0.932\tvalid_1's binary_logloss: 0.566339\n",
      "Training until validation scores don't improve for 200 rounds                                                          \n",
      "Early stopping, best iteration is:                                                                                     \n",
      "[627]\ttraining's auc: 0.979543\ttraining's binary_logloss: 0.284775\tvalid_1's auc: 0.935717\tvalid_1's binary_logloss: 0.52212\n",
      ">> ROC-AUC Score 0.918769                                                                                              \n",
      ">> Custom Score 0.922877                                                                                               \n",
      "\n",
      "Training until validation scores don't improve for 200 rounds                                                          \n",
      "Early stopping, best iteration is:                                                                                     \n",
      "[362]\ttraining's auc: 0.976857\ttraining's binary_logloss: 0.378716\tvalid_1's auc: 0.932248\tvalid_1's binary_logloss: 0.568516\n",
      "Training until validation scores don't improve for 200 rounds                                                          \n",
      "Early stopping, best iteration is:                                                                                     \n",
      "[610]\ttraining's auc: 0.97982\ttraining's binary_logloss: 0.284875\tvalid_1's auc: 0.935294\tvalid_1's binary_logloss: 0.522683\n",
      ">> ROC-AUC Score 0.921124                                                                                              \n",
      ">> Custom Score 0.922732                                                                                               \n",
      "\n",
      "Training until validation scores don't improve for 200 rounds                                                          \n",
      "Early stopping, best iteration is:                                                                                     \n",
      "[385]\ttraining's auc: 0.976779\ttraining's binary_logloss: 0.37539\tvalid_1's auc: 0.934279\tvalid_1's binary_logloss: 0.567168\n",
      "Training until validation scores don't improve for 200 rounds                                                          \n",
      "Early stopping, best iteration is:                                                                                     \n",
      "[610]\ttraining's auc: 0.979063\ttraining's binary_logloss: 0.292454\tvalid_1's auc: 0.932337\tvalid_1's binary_logloss: 0.523501\n",
      ">> ROC-AUC Score 0.922506                                                                                              \n",
      ">> Custom Score 0.922156                                                                                               \n",
      "\n",
      "Training until validation scores don't improve for 200 rounds                                                          \n",
      "Early stopping, best iteration is:                                                                                     \n",
      "[415]\ttraining's auc: 0.977986\ttraining's binary_logloss: 0.366808\tvalid_1's auc: 0.93572\tvalid_1's binary_logloss: 0.56545\n",
      "Training until validation scores don't improve for 200 rounds                                                          \n",
      "Early stopping, best iteration is:                                                                                     \n",
      "[643]\ttraining's auc: 0.980277\ttraining's binary_logloss: 0.287029\tvalid_1's auc: 0.934054\tvalid_1's binary_logloss: 0.523986\n",
      ">> ROC-AUC Score 0.924961                                                                                              \n",
      ">> Custom Score 0.922594                                                                                               \n",
      "\n",
      "Training until validation scores don't improve for 200 rounds                                                          \n",
      "Early stopping, best iteration is:                                                                                     \n",
      "[387]\ttraining's auc: 0.977435\ttraining's binary_logloss: 0.367061\tvalid_1's auc: 0.934857\tvalid_1's binary_logloss: 0.561876\n",
      "Training until validation scores don't improve for 200 rounds                                                          \n",
      "Early stopping, best iteration is:                                                                                     \n",
      "[611]\ttraining's auc: 0.979837\ttraining's binary_logloss: 0.285221\tvalid_1's auc: 0.931549\tvalid_1's binary_logloss: 0.526862\n",
      ">> ROC-AUC Score 0.922057                                                                                              \n",
      ">> Custom Score 0.921961                                                                                               \n",
      "\n",
      "Training until validation scores don't improve for 200 rounds                                                          \n",
      "Early stopping, best iteration is:                                                                                     \n",
      "[352]\ttraining's auc: 0.976487\ttraining's binary_logloss: 0.386544\tvalid_1's auc: 0.933163\tvalid_1's binary_logloss: 0.565221\n",
      "Training until validation scores don't improve for 200 rounds                                                          \n",
      "Early stopping, best iteration is:                                                                                     \n",
      "[613]\ttraining's auc: 0.979481\ttraining's binary_logloss: 0.286383\tvalid_1's auc: 0.934878\tvalid_1's binary_logloss: 0.523605\n",
      ">> ROC-AUC Score 0.918562                                                                                              \n",
      ">> Custom Score 0.922564                                                                                               \n",
      "\n",
      "Training until validation scores don't improve for 200 rounds                                                          \n",
      "Early stopping, best iteration is:                                                                                     \n",
      "[328]\ttraining's auc: 0.976987\ttraining's binary_logloss: 0.382708\tvalid_1's auc: 0.931122\tvalid_1's binary_logloss: 0.568035\n",
      "Training until validation scores don't improve for 200 rounds                                                          \n",
      "Early stopping, best iteration is:                                                                                     \n",
      "[596]\ttraining's auc: 0.980246\ttraining's binary_logloss: 0.275764\tvalid_1's auc: 0.933667\tvalid_1's binary_logloss: 0.520321\n",
      ">> ROC-AUC Score 0.916643                                                                                              \n",
      ">> Custom Score 0.921974                                                                                               \n",
      "\n",
      "Training until validation scores don't improve for 200 rounds                                                          \n",
      "Early stopping, best iteration is:                                                                                     \n",
      "[397]\ttraining's auc: 0.977346\ttraining's binary_logloss: 0.381356\tvalid_1's auc: 0.932864\tvalid_1's binary_logloss: 0.566201\n",
      "Training until validation scores don't improve for 200 rounds                                                          \n",
      "Early stopping, best iteration is:                                                                                     \n",
      "[687]\ttraining's auc: 0.9804\ttraining's binary_logloss: 0.282385\tvalid_1's auc: 0.935583\tvalid_1's binary_logloss: 0.522344\n",
      ">> ROC-AUC Score 0.919804                                                                                              \n",
      ">> Custom Score 0.923220                                                                                               \n",
      "\n",
      "Training until validation scores don't improve for 200 rounds                                                          \n",
      "Early stopping, best iteration is:                                                                                     \n",
      "[415]\ttraining's auc: 0.977118\ttraining's binary_logloss: 0.36847\tvalid_1's auc: 0.934428\tvalid_1's binary_logloss: 0.566483\n",
      "Training until validation scores don't improve for 200 rounds                                                          \n",
      "Early stopping, best iteration is:                                                                                     \n",
      "[612]\ttraining's auc: 0.978886\ttraining's binary_logloss: 0.299164\tvalid_1's auc: 0.931877\tvalid_1's binary_logloss: 0.524051\n",
      ">> ROC-AUC Score 0.925407                                                                                              \n",
      ">> Custom Score 0.922732                                                                                               \n",
      "\n",
      "Training until validation scores don't improve for 200 rounds                                                          \n",
      "Early stopping, best iteration is:                                                                                     \n",
      "[332]\ttraining's auc: 0.976835\ttraining's binary_logloss: 0.389274\tvalid_1's auc: 0.932498\tvalid_1's binary_logloss: 0.568457\n",
      "Training until validation scores don't improve for 200 rounds                                                          \n",
      "Early stopping, best iteration is:                                                                                     \n",
      "[598]\ttraining's auc: 0.979981\ttraining's binary_logloss: 0.283376\tvalid_1's auc: 0.936173\tvalid_1's binary_logloss: 0.521993\n",
      ">> ROC-AUC Score 0.918164                                                                                              \n",
      ">> Custom Score 0.923243                                                                                               \n",
      "\n",
      "Training until validation scores don't improve for 200 rounds                                                          \n",
      "Early stopping, best iteration is:                                                                                     \n",
      "[427]\ttraining's auc: 0.977516\ttraining's binary_logloss: 0.376135\tvalid_1's auc: 0.933098\tvalid_1's binary_logloss: 0.567822\n",
      "Training until validation scores don't improve for 200 rounds                                                          \n",
      "Early stopping, best iteration is:                                                                                     \n",
      "[741]\ttraining's auc: 0.9805\ttraining's binary_logloss: 0.277727\tvalid_1's auc: 0.933065\tvalid_1's binary_logloss: 0.52862\n",
      ">> ROC-AUC Score 0.917137                                                                                              \n",
      ">> Custom Score 0.922413                                                                                               \n",
      "\n",
      "Training until validation scores don't improve for 200 rounds                                                          \n",
      "Early stopping, best iteration is:                                                                                     \n",
      "[450]\ttraining's auc: 0.977191\ttraining's binary_logloss: 0.380745\tvalid_1's auc: 0.929711\tvalid_1's binary_logloss: 0.568209\n",
      "Training until validation scores don't improve for 200 rounds                                                          \n",
      "Early stopping, best iteration is:                                                                                     \n",
      "[842]\ttraining's auc: 0.980497\ttraining's binary_logloss: 0.269294\tvalid_1's auc: 0.933261\tvalid_1's binary_logloss: 0.524013\n",
      ">> ROC-AUC Score 0.914239                                                                                              \n",
      ">> Custom Score 0.922001                                                                                               \n",
      "\n",
      "Training until validation scores don't improve for 200 rounds                                                          \n",
      "Early stopping, best iteration is:                                                                                     \n",
      "[427]\ttraining's auc: 0.978099\ttraining's binary_logloss: 0.363841\tvalid_1's auc: 0.934933\tvalid_1's binary_logloss: 0.567157\n",
      "Training until validation scores don't improve for 200 rounds                                                          \n",
      "Early stopping, best iteration is:                                                                                     \n",
      "[654]\ttraining's auc: 0.980099\ttraining's binary_logloss: 0.286679\tvalid_1's auc: 0.934096\tvalid_1's binary_logloss: 0.521771\n",
      ">> ROC-AUC Score 0.925522                                                                                              \n",
      ">> Custom Score 0.923137                                                                                               \n",
      "\n",
      "Training until validation scores don't improve for 200 rounds                                                          \n",
      "Early stopping, best iteration is:                                                                                     \n",
      "[415]\ttraining's auc: 0.977503\ttraining's binary_logloss: 0.356819\tvalid_1's auc: 0.935947\tvalid_1's binary_logloss: 0.571452\n",
      "Training until validation scores don't improve for 200 rounds                                                          \n",
      "Early stopping, best iteration is:                                                                                     \n",
      "[587]\ttraining's auc: 0.979146\ttraining's binary_logloss: 0.293795\tvalid_1's auc: 0.933167\tvalid_1's binary_logloss: 0.523392\n",
      ">> ROC-AUC Score 0.928970                                                                                              \n",
      ">> Custom Score 0.922465                                                                                               \n",
      "\n",
      "Training until validation scores don't improve for 200 rounds                                                          \n",
      "Early stopping, best iteration is:                                                                                     \n",
      "[361]\ttraining's auc: 0.977082\ttraining's binary_logloss: 0.378731\tvalid_1's auc: 0.933783\tvalid_1's binary_logloss: 0.566027\n",
      "Training until validation scores don't improve for 200 rounds                                                          \n",
      "Early stopping, best iteration is:                                                                                     \n",
      "[611]\ttraining's auc: 0.979943\ttraining's binary_logloss: 0.284609\tvalid_1's auc: 0.936984\tvalid_1's binary_logloss: 0.518976\n",
      ">> ROC-AUC Score 0.923050                                                                                              \n",
      ">> Custom Score 0.923183                                                                                               \n",
      "\n",
      "Training until validation scores don't improve for 200 rounds                                                          \n",
      "Early stopping, best iteration is:                                                                                     \n",
      "[427]\ttraining's auc: 0.977873\ttraining's binary_logloss: 0.363784\tvalid_1's auc: 0.934325\tvalid_1's binary_logloss: 0.565396\n",
      "Training until validation scores don't improve for 200 rounds                                                          \n",
      "Early stopping, best iteration is:                                                                                     \n",
      "[700]\ttraining's auc: 0.980476\ttraining's binary_logloss: 0.275707\tvalid_1's auc: 0.932724\tvalid_1's binary_logloss: 0.528354\n",
      ">> ROC-AUC Score 0.920987                                                                                              \n",
      ">> Custom Score 0.922577                                                                                               \n",
      "\n",
      "Training until validation scores don't improve for 200 rounds                                                          \n",
      "Early stopping, best iteration is:                                                                                     \n",
      "[401]\ttraining's auc: 0.978011\ttraining's binary_logloss: 0.365161\tvalid_1's auc: 0.937308\tvalid_1's binary_logloss: 0.563711\n",
      "Training until validation scores don't improve for 200 rounds                                                          \n",
      "Early stopping, best iteration is:                                                                                     \n",
      "[622]\ttraining's auc: 0.980429\ttraining's binary_logloss: 0.285382\tvalid_1's auc: 0.934948\tvalid_1's binary_logloss: 0.523525\n",
      ">> ROC-AUC Score 0.925525                                                                                              \n",
      ">> Custom Score 0.922936                                                                                               \n",
      "\n",
      "Training until validation scores don't improve for 200 rounds                                                          \n",
      "Early stopping, best iteration is:                                                                                     \n",
      "[451]\ttraining's auc: 0.97698\ttraining's binary_logloss: 0.363529\tvalid_1's auc: 0.931549\tvalid_1's binary_logloss: 0.569155\n",
      "Training until validation scores don't improve for 200 rounds                                                          \n",
      "Early stopping, best iteration is:                                                                                     \n",
      "[784]\ttraining's auc: 0.980052\ttraining's binary_logloss: 0.264312\tvalid_1's auc: 0.935777\tvalid_1's binary_logloss: 0.524611\n",
      ">> ROC-AUC Score 0.920601                                                                                              \n",
      ">> Custom Score 0.922445                                                                                               \n",
      "\n",
      "Training until validation scores don't improve for 200 rounds                                                          \n",
      "Early stopping, best iteration is:                                                                                     \n",
      "[385]\ttraining's auc: 0.977756\ttraining's binary_logloss: 0.370225\tvalid_1's auc: 0.935545\tvalid_1's binary_logloss: 0.566074\n",
      "Training until validation scores don't improve for 200 rounds                                                          \n",
      "Early stopping, best iteration is:                                                                                     \n",
      "[634]\ttraining's auc: 0.980302\ttraining's binary_logloss: 0.281041\tvalid_1's auc: 0.935328\tvalid_1's binary_logloss: 0.524733\n",
      ">> ROC-AUC Score 0.922906                                                                                              \n",
      ">> Custom Score 0.923295                                                                                               \n",
      "\n",
      "Training until validation scores don't improve for 200 rounds                                                          \n",
      "Early stopping, best iteration is:                                                                                     \n",
      "[397]\ttraining's auc: 0.977892\ttraining's binary_logloss: 0.369134\tvalid_1's auc: 0.934882\tvalid_1's binary_logloss: 0.568219\n",
      "Training until validation scores don't improve for 200 rounds                                                          \n",
      "Early stopping, best iteration is:                                                                                     \n",
      "[628]\ttraining's auc: 0.980306\ttraining's binary_logloss: 0.285775\tvalid_1's auc: 0.933075\tvalid_1's binary_logloss: 0.523366\n",
      ">> ROC-AUC Score 0.922471                                                                                              \n",
      ">> Custom Score 0.922432                                                                                               \n",
      "\n",
      "Training until validation scores don't improve for 200 rounds                                                          \n",
      "Early stopping, best iteration is:                                                                                     \n",
      "[397]\ttraining's auc: 0.976993\ttraining's binary_logloss: 0.37979\tvalid_1's auc: 0.93237\tvalid_1's binary_logloss: 0.569211\n",
      "Training until validation scores don't improve for 200 rounds                                                          \n",
      "Early stopping, best iteration is:                                                                                     \n",
      "[654]\ttraining's auc: 0.979815\ttraining's binary_logloss: 0.289563\tvalid_1's auc: 0.934087\tvalid_1's binary_logloss: 0.523654\n",
      ">> ROC-AUC Score 0.920782                                                                                              \n",
      ">> Custom Score 0.922333                                                                                               \n",
      "\n",
      "Training until validation scores don't improve for 200 rounds                                                          \n",
      "Early stopping, best iteration is:                                                                                     \n",
      "[341]\ttraining's auc: 0.976684\ttraining's binary_logloss: 0.382181\tvalid_1's auc: 0.931527\tvalid_1's binary_logloss: 0.567173\n",
      "Training until validation scores don't improve for 200 rounds                                                          \n",
      "Early stopping, best iteration is:                                                                                     \n",
      "[602]\ttraining's auc: 0.979571\ttraining's binary_logloss: 0.280588\tvalid_1's auc: 0.933045\tvalid_1's binary_logloss: 0.524244\n",
      ">> ROC-AUC Score 0.917208                                                                                              \n",
      ">> Custom Score 0.921790                                                                                               \n",
      "\n",
      "Training until validation scores don't improve for 200 rounds                                                          \n",
      "Early stopping, best iteration is:                                                                                     \n",
      "[370]\ttraining's auc: 0.977867\ttraining's binary_logloss: 0.364302\tvalid_1's auc: 0.933807\tvalid_1's binary_logloss: 0.563013\n",
      "Training until validation scores don't improve for 200 rounds                                                          \n",
      "Early stopping, best iteration is:                                                                                     \n",
      "[627]\ttraining's auc: 0.980648\ttraining's binary_logloss: 0.269319\tvalid_1's auc: 0.933204\tvalid_1's binary_logloss: 0.526121\n",
      ">> ROC-AUC Score 0.919562                                                                                              \n",
      ">> Custom Score 0.922307                                                                                               \n",
      "\n",
      "Training until validation scores don't improve for 200 rounds                                                          \n",
      "Early stopping, best iteration is:                                                                                     \n",
      "[352]\ttraining's auc: 0.977153\ttraining's binary_logloss: 0.391127\tvalid_1's auc: 0.932117\tvalid_1's binary_logloss: 0.571206\n",
      "Training until validation scores don't improve for 200 rounds                                                          \n",
      "Early stopping, best iteration is:                                                                                     \n",
      "[623]\ttraining's auc: 0.98021\ttraining's binary_logloss: 0.288477\tvalid_1's auc: 0.933016\tvalid_1's binary_logloss: 0.525898\n",
      ">> ROC-AUC Score 0.915546                                                                                              \n",
      ">> Custom Score 0.922198                                                                                               \n",
      "\n",
      "Training until validation scores don't improve for 200 rounds                                                          \n",
      "Early stopping, best iteration is:                                                                                     \n",
      "[370]\ttraining's auc: 0.976173\ttraining's binary_logloss: 0.391536\tvalid_1's auc: 0.932527\tvalid_1's binary_logloss: 0.567919\n",
      "Training until validation scores don't improve for 200 rounds                                                          \n",
      "Early stopping, best iteration is:                                                                                     \n",
      "[634]\ttraining's auc: 0.978973\ttraining's binary_logloss: 0.295768\tvalid_1's auc: 0.931766\tvalid_1's binary_logloss: 0.524743\n",
      ">> ROC-AUC Score 0.917541                                                                                              \n",
      ">> Custom Score 0.922047                                                                                               \n",
      "\n",
      "Training until validation scores don't improve for 200 rounds                                                          \n",
      "Early stopping, best iteration is:                                                                                     \n",
      "[523]\ttraining's auc: 0.977526\ttraining's binary_logloss: 0.375293\tvalid_1's auc: 0.93314\tvalid_1's binary_logloss: 0.570022\n",
      "Training until validation scores don't improve for 200 rounds                                                          \n",
      "Early stopping, best iteration is:                                                                                     \n",
      "[888]\ttraining's auc: 0.980513\ttraining's binary_logloss: 0.279905\tvalid_1's auc: 0.934433\tvalid_1's binary_logloss: 0.525917\n",
      ">> ROC-AUC Score 0.920062                                                                                              \n",
      ">> Custom Score 0.922709                                                                                               \n",
      "\n",
      "Training until validation scores don't improve for 200 rounds                                                          \n",
      "Early stopping, best iteration is:                                                                                     \n",
      "[415]\ttraining's auc: 0.976229\ttraining's binary_logloss: 0.396809\tvalid_1's auc: 0.930377\tvalid_1's binary_logloss: 0.573885\n",
      "Training until validation scores don't improve for 200 rounds                                                          \n",
      "Early stopping, best iteration is:                                                                                     \n",
      "[745]\ttraining's auc: 0.979365\ttraining's binary_logloss: 0.291206\tvalid_1's auc: 0.933777\tvalid_1's binary_logloss: 0.523833\n",
      ">> ROC-AUC Score 0.915666                                                                                              \n",
      ">> Custom Score 0.922004                                                                                               \n",
      "\n",
      "Training until validation scores don't improve for 200 rounds                                                          \n",
      "Early stopping, best iteration is:                                                                                     \n",
      "[402]\ttraining's auc: 0.977286\ttraining's binary_logloss: 0.36562\tvalid_1's auc: 0.933806\tvalid_1's binary_logloss: 0.563256\n",
      "Training until validation scores don't improve for 200 rounds                                                          \n",
      "Early stopping, best iteration is:                                                                                     \n",
      "[647]\ttraining's auc: 0.979869\ttraining's binary_logloss: 0.280887\tvalid_1's auc: 0.93308\tvalid_1's binary_logloss: 0.52361\n",
      ">> ROC-AUC Score 0.922381                                                                                              \n",
      ">> Custom Score 0.921915                                                                                               \n",
      "\n",
      "100%|██████████████████████████████████████████| 100/100 [3:36:25<00:00, 129.85s/trial, best loss: -0.9289698744361449]\n"
     ]
    }
   ],
   "source": [
    "# Initialize trials object\n",
    "trials = Trials()\n",
    "\n",
    "best = fmin(\n",
    "    fn=fmin_objective,\n",
    "    space=space_params, \n",
    "    algo=tpe.suggest, \n",
    "    max_evals=100, \n",
    "    trials=trials\n",
    ")"
   ]
  },
  {
   "cell_type": "markdown",
   "id": "eb26f496-8400-4efd-bae5-9298bd7d7cd8",
   "metadata": {
    "tags": []
   },
   "source": [
    "<div style=\"background-color: #506AB9;\" >\n",
    "    <h4 style=\"margin: auto; padding: 20px; color:#fff; \">3.3.1. The best parameters</h4>\n",
    "</div>"
   ]
  },
  {
   "cell_type": "markdown",
   "id": "e5918cdb-5493-401e-8663-0441de3f5e0d",
   "metadata": {
    "tags": []
   },
   "source": [
    "<div class=\"alert alert-block alert-success\">\n",
    "    <p>Let's print the best parameters</p>\n",
    "</div>"
   ]
  },
  {
   "cell_type": "code",
   "execution_count": 36,
   "id": "6121a06c-c039-4b7b-b1ed-886228b5355a",
   "metadata": {},
   "outputs": [
    {
     "name": "stdout",
     "output_type": "stream",
     "text": [
      "Best: {'learning_rate': 0.0029341157893348277, 'max_depth': 0, 'min_child_weight': 45.829444031338255, 'min_split_gain': 0.022280941655012904, 'n_estimators': 0, 'num_leaves': 0, 'reg_alpha': 0.05058662718992345, 'reg_lambda': 0.08164931565547227}\n"
     ]
    }
   ],
   "source": [
    "print(\"Best: {}\".format(best))"
   ]
  },
  {
   "cell_type": "markdown",
   "id": "c8d418b7-879a-4438-b1c8-ae349a3f34db",
   "metadata": {
    "tags": []
   },
   "source": [
    "<div style=\"background-color: #506AB9;\" >\n",
    "    <h3 style=\"margin: auto; padding: 20px; color:#fff; \">3.4. Final model</h3>\n",
    "</div>"
   ]
  },
  {
   "cell_type": "markdown",
   "id": "ea0db824-6513-4895-92fb-83a9cdca8abb",
   "metadata": {
    "tags": []
   },
   "source": [
    "<div class=\"alert alert-block alert-info\">\n",
    "    <p>Now, we are going to execute our model based on the best parameters</p>\n",
    "</div>"
   ]
  },
  {
   "cell_type": "code",
   "execution_count": 37,
   "id": "d201670c-db81-40e1-9aae-64124b79d8f0",
   "metadata": {},
   "outputs": [],
   "source": [
    "# Formatting columns name\n",
    "df_resampled = df_resampled.rename(columns=lambda x:re.sub(\"[^A-Za-z0-9_]+\", \"\", x))\n",
    "df_lgbm = df_resampled.copy()\n",
    "    \n",
    "scaler = StandardScaler()\n",
    "    \n",
    "# Divide in training/validation and test data\n",
    "train_df = df_lgbm[df_lgbm[\"TARGET\"].notnull()]\n",
    "test_df = df_lgbm[df_lgbm[\"TARGET\"].isnull()]\n",
    "del df_lgbm\n",
    "gc.collect()\n",
    "\n",
    "# Create arrays and dataframes to store results\n",
    "oof_preds = np.zeros(train_df.shape[0])\n",
    "feature_importance_df = pd.DataFrame()"
   ]
  },
  {
   "cell_type": "markdown",
   "id": "7381c79f-2a58-4c31-9ba9-7e71b1cc71d4",
   "metadata": {
    "tags": []
   },
   "source": [
    "<div class=\"alert alert-block alert-info\">\n",
    "    <p>Splitting and scale the data</p>\n",
    "</div>"
   ]
  },
  {
   "cell_type": "code",
   "execution_count": 38,
   "id": "3cd338bb-022b-4f8a-86c7-538195ff9de8",
   "metadata": {},
   "outputs": [],
   "source": [
    "# Split dataset to train\n",
    "X = train_df.drop(columns=[\"TARGET\", \"SK_ID_CURR\"])\n",
    "y_target = train_df.loc[:, \"TARGET\"]\n",
    "\n",
    "X_train, X_test, y_train, y_test = train_test_split(X, y_target, test_size=0.33, random_state=42)\n",
    "\n",
    "X_train_scaled = scaler.fit_transform(X_train)\n",
    "X_test_scaled = scaler.fit_transform(X_test)"
   ]
  },
  {
   "cell_type": "markdown",
   "id": "32d4b483-77f9-4896-a6e7-92f94d9db775",
   "metadata": {
    "tags": []
   },
   "source": [
    "<div class=\"alert alert-block alert-info\">\n",
    "    <p>Initializing the model. LightGBM parameters found by Bayesian optimization</p>\n",
    "</div>"
   ]
  },
  {
   "cell_type": "code",
   "execution_count": 39,
   "id": "cbaded4b-673c-42dc-8638-515211c94398",
   "metadata": {},
   "outputs": [],
   "source": [
    "clf = LGBMClassifier(\n",
    "    n_estimators=N_ESTIMATORS[best.get(\"n_estimators\")],\n",
    "    learning_rate=best.get(\"learning_rate\"),\n",
    "    num_leaves=NUM_LEAVES[best.get(\"num_leaves\")],\n",
    "    max_depth=MAX_DEPTH[best.get(\"max_depth\")],\n",
    "    reg_alpha=best.get(\"reg_alpha\"),\n",
    "    reg_lambda=best.get(\"reg_lambda\"),\n",
    "    in_split_gain=best.get(\"min_split_gain\"),\n",
    "    min_child_weight=best.get(\"min_child_weight\"),\n",
    "    #n_estimators=8000,\n",
    "    #learning_rate=0.0029945769814338657,\n",
    "    #num_leaves=34,\n",
    "    #max_depth=7,\n",
    "    #reg_alpha=0.05035988378983526,\n",
    "    #reg_lambda=0.07374403233913371,\n",
    "    #min_split_gain=0.0234204135996409,\n",
    "    #min_child_weight=46.367427751310345,\n",
    "    colsample_bytree=0.8, \n",
    "    subsample=0.8,\n",
    "    is_unbalance=False,\n",
    "    n_jobs=-1 \n",
    ")"
   ]
  },
  {
   "cell_type": "markdown",
   "id": "2d89339f-dc01-461d-8bee-ae08ee2e0f4a",
   "metadata": {
    "tags": []
   },
   "source": [
    "<div class=\"alert alert-block alert-info\">\n",
    "    <p>Fitting the model</p>\n",
    "</div>"
   ]
  },
  {
   "cell_type": "code",
   "execution_count": 40,
   "id": "89022adc-02fd-40df-ae3a-b10211566fce",
   "metadata": {},
   "outputs": [
    {
     "name": "stdout",
     "output_type": "stream",
     "text": [
      "[LightGBM] [Warning] Unknown parameter: in_split_gain\n",
      "Training until validation scores don't improve for 200 rounds\n",
      "Early stopping, best iteration is:\n",
      "[352]\ttraining's auc: 0.975984\ttraining's binary_logloss: 0.379538\tvalid_1's auc: 0.929181\tvalid_1's binary_logloss: 0.561014\n"
     ]
    },
    {
     "data": {
      "text/plain": [
       "LGBMClassifier(colsample_bytree=0.8, in_split_gain=0.022280941655012904,\n",
       "               is_unbalance=False, learning_rate=0.0029341157893348277,\n",
       "               max_depth=7, min_child_weight=45.829444031338255,\n",
       "               n_estimators=8000, num_leaves=32, reg_alpha=0.05058662718992345,\n",
       "               reg_lambda=0.08164931565547227, subsample=0.8)"
      ]
     },
     "execution_count": 40,
     "metadata": {},
     "output_type": "execute_result"
    }
   ],
   "source": [
    "evaluation = [(X_train_scaled, y_train), (X_test_scaled, y_test)]\n",
    "\n",
    "clf.fit(X_train_scaled, y_train, eval_set=evaluation, eval_metric=\"auc\",\n",
    "        callbacks=[lgb.early_stopping(stopping_rounds=200),\n",
    "                  lgb.log_evaluation(period=-1)])"
   ]
  },
  {
   "cell_type": "markdown",
   "id": "c2ff0638-1038-4596-bffc-4ff0c2ccd444",
   "metadata": {
    "tags": []
   },
   "source": [
    "<div class=\"alert alert-block alert-info\">\n",
    "    <p>Metrics</p>\n",
    "</div>"
   ]
  },
  {
   "cell_type": "code",
   "execution_count": 41,
   "id": "b709deee-1c39-471f-bd10-0bc511bdd4eb",
   "metadata": {},
   "outputs": [
    {
     "name": "stdout",
     "output_type": "stream",
     "text": [
      ">> ROC-AUC Score 0.929181\n",
      ">> Custom Score 0.922283\n",
      "\n"
     ]
    },
    {
     "data": {
      "image/png": "[encoded data removed]",
      "text/plain": [
       "<Figure size 432x288 with 1 Axes>"
      ]
     },
     "metadata": {
      "needs_background": "light"
     },
     "output_type": "display_data"
    }
   ],
   "source": [
    "oof_preds = clf.predict_proba(X_test_scaled, num_iteration=clf.best_iteration_)[:, 1]\n",
    "y_pred = clf.predict(X_test_scaled)\n",
    "\n",
    "#del clf, train_x, train_x_scaled, train_y, valid_x, valid_x_scaled, valid_y\n",
    "gc.collect()\n",
    "    \n",
    "auc = roc_auc_score(y_test, oof_preds)\n",
    "print(\">> ROC-AUC Score %.6f\" % auc )\n",
    "\n",
    "cs = custom_score(y_test, oof_preds)\n",
    "print(\">> Custom Score %.6f\\n\" % cs )\n",
    "\n",
    "# Plotting the Precision-Recall curve\n",
    "display = PrecisionRecallDisplay.from_predictions(y_test.ravel(), oof_preds.ravel(), name=\"LGBMClassifier\")\n",
    "_ = display.ax_.set_title(\"2-class Precision-Recall curve\")"
   ]
  },
  {
   "cell_type": "code",
   "execution_count": 42,
   "id": "0b911177-2478-4553-a864-7aff7d94516b",
   "metadata": {},
   "outputs": [
    {
     "data": {
      "image/png": "[encoded data removed]",
      "text/plain": [
       "<Figure size 432x432 with 1 Axes>"
      ]
     },
     "metadata": {
      "needs_background": "light"
     },
     "output_type": "display_data"
    }
   ],
   "source": [
    " # Compute ROC curve and ROC area for each class\n",
    "fpr = dict()\n",
    "tpr = dict()\n",
    "fpr[\"micro\"], tpr[\"micro\"], _ = roc_curve(y_test.ravel(), oof_preds.ravel())\n",
    "\n",
    "plt.subplots(1, figsize=(6, 6))\n",
    "plt.title(\"Receiver Operating Characteristic\")\n",
    "plt.plot(fpr[\"micro\"], tpr[\"micro\"])\n",
    "plt.plot([0, 1], ls=\"--\")\n",
    "plt.plot([0, 0], [1, 0] , c=\".7\"), plt.plot([1, 1] , c=\".7\")\n",
    "plt.ylabel(\"True Positive Rate\")\n",
    "plt.xlabel(\"False Positive Rate\")\n",
    "plt.show()"
   ]
  },
  {
   "cell_type": "code",
   "execution_count": 43,
   "id": "eaa44e5e-4be9-43de-9cc0-81349d7dadfe",
   "metadata": {},
   "outputs": [
    {
     "data": {
      "image/png": "[encoded data removed]",
      "text/plain": [
       "<Figure size 432x288 with 2 Axes>"
      ]
     },
     "metadata": {
      "needs_background": "light"
     },
     "output_type": "display_data"
    }
   ],
   "source": [
    "display = ConfusionMatrixDisplay.from_predictions(y_test, y_pred, display_labels=[\"Repaid\",\"No repaid\"])\n",
    "_ = display.ax_.set_title(\"Confusion matrix\")"
   ]
  },
  {
   "cell_type": "markdown",
   "id": "677db037-e43e-4410-bcf2-de1713e7af62",
   "metadata": {
    "tags": []
   },
   "source": [
    "<div style=\"background-color: #506AB9;\" >\n",
    "    <h3 style=\"margin: auto; padding: 20px; color:#fff; \">3.5. Final re-training</h3>\n",
    "</div>"
   ]
  },
  {
   "cell_type": "markdown",
   "id": "076ff9c2-8e39-42d4-8097-ec98939805b1",
   "metadata": {
    "tags": []
   },
   "source": [
    "<div class=\"alert alert-block alert-info\">\n",
    "    <p>First, we are going to free some memory</p>\n",
    "</div>"
   ]
  },
  {
   "cell_type": "code",
   "execution_count": 44,
   "id": "c8960fde-5335-4e9f-bbe5-57b705583fbc",
   "metadata": {},
   "outputs": [
    {
     "data": {
      "text/plain": [
       "6281"
      ]
     },
     "execution_count": 44,
     "metadata": {},
     "output_type": "execute_result"
    }
   ],
   "source": [
    "del X_train_scaled, X_train, X_test_scaled, X_test\n",
    "gc.collect()"
   ]
  },
  {
   "cell_type": "markdown",
   "id": "9a110d02-c425-4524-9c55-d4267e5bfa3e",
   "metadata": {
    "tags": []
   },
   "source": [
    "<div class=\"alert alert-block alert-info\">\n",
    "    <p>Scaling the data</p>\n",
    "</div>"
   ]
  },
  {
   "cell_type": "code",
   "execution_count": 45,
   "id": "1db1de37-f3cb-463b-98a1-db216485148a",
   "metadata": {},
   "outputs": [],
   "source": [
    "X_scaled = scaler.fit_transform(X)"
   ]
  },
  {
   "cell_type": "code",
   "execution_count": 46,
   "id": "2fabefb6-b85f-4e6d-9254-b9ac68313183",
   "metadata": {},
   "outputs": [
    {
     "name": "stdout",
     "output_type": "stream",
     "text": [
      "[LightGBM] [Warning] Unknown parameter: in_split_gain\n"
     ]
    },
    {
     "data": {
      "text/plain": [
       "LGBMClassifier(colsample_bytree=0.8, in_split_gain=0.022280941655012904,\n",
       "               is_unbalance=False, learning_rate=0.0029341157893348277,\n",
       "               max_depth=7, min_child_weight=45.829444031338255,\n",
       "               n_estimators=8000, num_leaves=32, reg_alpha=0.05058662718992345,\n",
       "               reg_lambda=0.08164931565547227, subsample=0.8)"
      ]
     },
     "execution_count": 46,
     "metadata": {},
     "output_type": "execute_result"
    }
   ],
   "source": [
    "clf.fit(X_scaled, y_target)"
   ]
  },
  {
   "cell_type": "code",
   "execution_count": 47,
   "id": "affc59b2-f588-4f95-856d-0450c719ceaa",
   "metadata": {},
   "outputs": [
    {
     "data": {
      "text/plain": [
       "['models/model_1.0.2.pkl']"
      ]
     },
     "execution_count": 47,
     "metadata": {},
     "output_type": "execute_result"
    }
   ],
   "source": [
    "# Saving the model based on the best parameters\n",
    "joblib.dump(clf, \"models/model_{version}.pkl\".format(version=sklearn.__version__))"
   ]
  },
  {
   "cell_type": "markdown",
   "id": "5d80b2f0-469e-4820-bd6c-bb15461c6b0d",
   "metadata": {
    "tags": []
   },
   "source": [
    "<div class=\"alert alert-block alert-info\">\n",
    "    <p>Finally, we can execute the model based on the best parameters.</p>\n",
    "</div>"
   ]
  },
  {
   "cell_type": "code",
   "execution_count": 48,
   "id": "68eec375-9163-4fe8-ab56-2bc9376a9118",
   "metadata": {},
   "outputs": [],
   "source": [
    "def final_model(best_parameters, df, imbalanced, n_splits, graph):\n",
    "    \"\"\"\n",
    "    Method used to analyze on the DataFrame.\n",
    "\n",
    "    Parameters:\n",
    "    -----------------\n",
    "        space_params (dict): Parameters to optimize the model\n",
    "        df (pandas.DataFrame): Dataset to treat\n",
    "        imbalanced (boolean): Define whether dataset is unbalanced\n",
    "        n_splits (int): To split data in train test sets\n",
    "        graph (boolean): Flag to plot or not\n",
    "\n",
    "    Returns:\n",
    "    -----------------\n",
    "        Loss and STATUS.\n",
    "    \"\"\"\n",
    "    \n",
    "    # Formatting columns name\n",
    "    df = df.rename(columns=lambda x:re.sub(\"[^A-Za-z0-9_]+\", \"\", x))\n",
    "    df_lgbm = df.copy()\n",
    "    \n",
    "    scaler = StandardScaler()\n",
    "    \n",
    "    # Divide in training/validation and test data\n",
    "    train_df = df_lgbm[df_lgbm[\"TARGET\"].notnull()]\n",
    "    test_df = df_lgbm[df_lgbm[\"TARGET\"].isnull()]\n",
    "    del df_lgbm\n",
    "    gc.collect()\n",
    "    \n",
    "    # Cross validation model\n",
    "    folds = KFold(n_splits=n_splits, shuffle=True, random_state=42)\n",
    "    \n",
    "    # Create arrays and dataframes to store results\n",
    "    oof_preds = np.zeros(train_df.shape[0])\n",
    "    #sub_preds = np.zeros(test_df.shape[0])\n",
    "    feature_importance_df = pd.DataFrame()\n",
    "    feats = [f for f in train_df.columns if f not in [\"TARGET\", \"SK_ID_CURR\", \"SK_ID_BUREAU\", \"SK_ID_PREV\"]]\n",
    "    \n",
    "    for n_fold, (train_idx, valid_idx) in enumerate(folds.split(train_df[feats], train_df[\"TARGET\"])):\n",
    "        \n",
    "        print(\"\\n\")\n",
    "        \n",
    "        train_x, train_y = train_df[feats].iloc[train_idx], train_df[\"TARGET\"].iloc[train_idx]\n",
    "        valid_x, valid_y = train_df[feats].iloc[valid_idx], train_df[\"TARGET\"].iloc[valid_idx]\n",
    "    \n",
    "        train_x_scaled = scaler.fit_transform(train_x)\n",
    "        valid_x_scaled = scaler.fit_transform(valid_x)\n",
    "        \n",
    "        # LightGBM parameters found by Bayesian optimization\n",
    "        clf = LGBMClassifier(\n",
    "            n_estimators=8000,\n",
    "            learning_rate=0.0029945769814338657,\n",
    "            num_leaves=34,\n",
    "            max_depth=7,\n",
    "            reg_alpha=0.05035988378983526,\n",
    "            reg_lambda=0.07374403233913371,\n",
    "            min_split_gain=0.0234204135996409,\n",
    "            min_child_weight=46.367427751310345,\n",
    "            colsample_bytree=0.8, \n",
    "            subsample=0.8,\n",
    "            is_unbalance=imbalanced,\n",
    "            n_jobs=-1 \n",
    "        )\n",
    "        \n",
    "        evaluation = [(train_x_scaled, train_y), (valid_x_scaled, valid_y)]\n",
    "        \n",
    "        clf.fit(train_x_scaled, train_y, eval_set=evaluation, eval_metric=\"auc\",\n",
    "                callbacks=[lgb.early_stopping(stopping_rounds=200),\n",
    "                          lgb.log_evaluation(period=-1)])\n",
    "        \n",
    "        oof_preds[valid_idx] = clf.predict_proba(valid_x_scaled, num_iteration=clf.best_iteration_)[:, 1]\n",
    "\n",
    "        fold_importance_df = pd.DataFrame()\n",
    "        fold_importance_df[\"feature\"] = feats\n",
    "        fold_importance_df[\"importance\"] = clf.feature_importances_\n",
    "        fold_importance_df[\"fold\"] = n_fold + 1\n",
    "        feature_importance_df = pd.concat([feature_importance_df, fold_importance_df], axis=0)\n",
    "        print('Fold %2d AUC : %.6f' % (n_fold + 1, roc_auc_score(valid_y, oof_preds[valid_idx])))\n",
    "        \n",
    "        \n",
    "        \n",
    "        #from sklearn.metrics import plot_confusion_matrix\n",
    "        #plot_confusion_matrix(clf, train_df[\"TARGET\"], oof_preds)  \n",
    "        #plt.show()\n",
    "        \n",
    "        \n",
    "        \n",
    "        \n",
    "        del clf, train_x, train_x_scaled, train_y, valid_x, valid_x_scaled, valid_y\n",
    "        gc.collect()\n",
    "    \n",
    "    auc = roc_auc_score(train_df[\"TARGET\"], oof_preds)\n",
    "    print(\">> ROC-AUC Score %.6f\" % auc )\n",
    "    \n",
    "    cs = custom_score(train_df[\"TARGET\"], oof_preds)\n",
    "    print(\">> Custom Score %.6f\\n\" % cs )\n",
    "    \n",
    "    #if not imbalanced and graph:\n",
    "        \n",
    "        #from sklearn.metrics import PrecisionRecallDisplay\n",
    "        #display = PrecisionRecallDisplay.from_predictions(train_df[\"TARGET\"].ravel(), oof_preds.ravel(), name=\"LinearSVC\")\n",
    "        #_ = display.ax_.set_title(\"2-class Precision-Recall curve\")\n",
    "\n",
    "    from sklearn.metrics import PrecisionRecallDisplay\n",
    "    display = PrecisionRecallDisplay.from_predictions(train_df[\"TARGET\"].ravel(), oof_preds.ravel(), name=\"LinearSVC\")\n",
    "    _ = display.ax_.set_title(\"2-class Precision-Recall curve\")\n",
    "        \n",
    "    return feature_importance_df"
   ]
  },
  {
   "cell_type": "code",
   "execution_count": 49,
   "id": "cf0ae6ea-1440-447e-8fc8-29f39a0499aa",
   "metadata": {},
   "outputs": [
    {
     "name": "stdout",
     "output_type": "stream",
     "text": [
      "\n",
      "\n",
      "Training until validation scores don't improve for 200 rounds\n",
      "Early stopping, best iteration is:\n",
      "[401]\ttraining's auc: 0.977858\ttraining's binary_logloss: 0.357262\tvalid_1's auc: 0.936093\tvalid_1's binary_logloss: 0.56614\n",
      "Fold  1 AUC : 0.936093\n",
      "\n",
      "\n",
      "Training until validation scores don't improve for 200 rounds\n",
      "Early stopping, best iteration is:\n",
      "[587]\ttraining's auc: 0.979711\ttraining's binary_logloss: 0.288123\tvalid_1's auc: 0.933882\tvalid_1's binary_logloss: 0.524144\n",
      "Fold  2 AUC : 0.933882\n",
      ">> ROC-AUC Score 0.927974\n",
      ">> Custom Score 0.922716\n",
      "\n"
     ]
    },
    {
     "data": {
      "image/png": "[encoded data removed]",
      "text/plain": [
       "<Figure size 432x288 with 1 Axes>"
      ]
     },
     "metadata": {
      "needs_background": "light"
     },
     "output_type": "display_data"
    }
   ],
   "source": [
    "feat_importance = final_model(best, df=df_resampled, imbalanced=False, n_splits=2, graph=True)"
   ]
  },
  {
   "cell_type": "code",
   "execution_count": 50,
   "id": "3d7a7769-2379-46e3-89de-77c2081ab980",
   "metadata": {},
   "outputs": [],
   "source": [
    "# Display/plot feature importance\n",
    "def display_importances(feature_importance_df_):\n",
    "    cols = feature_importance_df_[[\"feature\", \"importance\"]].groupby(\"feature\").mean().sort_values(by=\"importance\", ascending=False)[:40].index\n",
    "    best_features = feature_importance_df_.loc[feature_importance_df_.feature.isin(cols)]\n",
    "    plt.figure(figsize=(12, 10))\n",
    "    sns.barplot(x=\"importance\", y=\"feature\", data=best_features.sort_values(by=\"importance\", ascending=False))\n",
    "    plt.title('LightGBM Features (avg over folds)')\n",
    "    plt.tight_layout()\n",
    "    plt.show()"
   ]
  },
  {
   "cell_type": "code",
   "execution_count": 51,
   "id": "e55e2cf6-2286-40f2-8816-aabfd1f3a408",
   "metadata": {},
   "outputs": [
    {
     "data": {
      "image/png": "[encoded data removed]",
      "text/plain": [
       "<Figure size 864x720 with 1 Axes>"
      ]
     },
     "metadata": {
      "needs_background": "light"
     },
     "output_type": "display_data"
    }
   ],
   "source": [
    "display_importances(feat_importance)"
   ]
  },
  {
   "cell_type": "code",
   "execution_count": null,
   "id": "4988aa93-016a-4a8e-919c-313230065ce8",
   "metadata": {},
   "outputs": [],
   "source": []
  },
  {
   "cell_type": "code",
   "execution_count": null,
   "id": "8e01c6c0-af99-4e8e-83df-f8b11e0bfc29",
   "metadata": {},
   "outputs": [],
   "source": []
  },
  {
   "cell_type": "code",
   "execution_count": null,
   "id": "606c77b5-bd2a-4c53-9cb3-af36c013e1b7",
   "metadata": {},
   "outputs": [],
   "source": []
  },
  {
   "cell_type": "code",
   "execution_count": null,
   "id": "362ba754-8bf1-4b14-aa1a-cde1895a80a6",
   "metadata": {},
   "outputs": [],
   "source": []
  },
  {
   "cell_type": "markdown",
   "id": "709e59b9-2ff1-4df7-ab1e-08736cc26f8d",
   "metadata": {
    "tags": []
   },
   "source": [
    "<div class=\"alert alert-block alert-danger\">\n",
    "    <h2>>>>>>>>> FLAG &lt;&lt;&lt;&lt;&lt;&lt;&lt;&lt; </h2>\n",
    "</div>"
   ]
  },
  {
   "cell_type": "code",
   "execution_count": 52,
   "id": "e5352672-203e-48c9-8dfd-390860a3c5cb",
   "metadata": {
    "tags": []
   },
   "outputs": [
    {
     "ename": "SystemExit",
     "evalue": "Stop right there!",
     "output_type": "error",
     "traceback": [
      "An exception has occurred, use %tb to see the full traceback.\n",
      "\u001b[1;31mSystemExit\u001b[0m\u001b[1;31m:\u001b[0m Stop right there!\n"
     ]
    },
    {
     "name": "stderr",
     "output_type": "stream",
     "text": [
      "C:\\Users\\Samir\\miniconda3\\envs\\p7\\lib\\site-packages\\IPython\\core\\interactiveshell.py:3465: UserWarning: To exit: use 'exit', 'quit', or Ctrl-D.\n",
      "  warn(\"To exit: use 'exit', 'quit', or Ctrl-D.\", stacklevel=1)\n"
     ]
    }
   ],
   "source": [
    "raise SystemExit(\"Stop right there!\")"
   ]
  },
  {
   "cell_type": "markdown",
   "id": "ea2df3c1-308b-4fa2-a5e8-06a8b6fcad93",
   "metadata": {},
   "source": [
    "https://www.analyticsvidhya.com/blog/2021/08/complete-guide-on-how-to-use-lightgbm-in-python/\n",
    "\n",
    "https://nitin9809.medium.com/lightgbm-binary-classification-multi-class-classification-regression-using-python-4f22032b36a2"
   ]
  },
  {
   "cell_type": "code",
   "execution_count": null,
   "id": "50d9effc-f212-4d73-870d-bdcf41fbc683",
   "metadata": {},
   "outputs": [],
   "source": []
  }
 ],
 "metadata": {
  "kernelspec": {
   "display_name": "Python 3 (ipykernel)",
   "language": "python",
   "name": "python3"
  },
  "language_info": {
   "codemirror_mode": {
    "name": "ipython",
    "version": 3
   },
   "file_extension": ".py",
   "mimetype": "text/x-python",
   "name": "python",
   "nbconvert_exporter": "python",
   "pygments_lexer": "ipython3",
   "version": "3.9.9"
  }
 },
 "nbformat": 4,
 "nbformat_minor": 5
}
