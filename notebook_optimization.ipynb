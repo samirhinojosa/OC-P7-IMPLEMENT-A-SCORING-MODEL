{
 "cells": [
  {
   "cell_type": "markdown",
   "id": "c8e6a558-388d-43bc-a18f-fa2f11c91b62",
   "metadata": {
    "tags": []
   },
   "source": [
    "<div style=\"display: flex; background-color: #3F579F;\">\n",
    "    <h1 style=\"margin: auto; font-weight: bold; padding: 30px 30px 0px 30px; color:#fff;\" align=\"center\">Implement a scoring model - P7</h1>\n",
    "</div>\n",
    "<div style=\"display: flex; background-color: #3F579F; margin: auto; padding: 5px 30px 0px 30px;\" >\n",
    "    <h3 style=\"width: 100%; text-align: center; float: left; font-size: 24px; color:#fff;\" align=\"center\">| Notebook optimization |</h3>\n",
    "</div>\n",
    "<div style=\"display: flex; background-color: #3F579F; margin: auto; padding: 10px 30px 30px 30px;\">\n",
    "    <h4 style=\"width: 100%; text-align: center; float: left; font-size: 24px; color:#fff;\" align=\"center\">Data Scientist course - OpenClassrooms</h4>\n",
    "</div>"
   ]
  },
  {
   "cell_type": "markdown",
   "id": "a071f085-b566-4595-a02b-30aa8064888b",
   "metadata": {
    "tags": []
   },
   "source": [
    "<div style=\"background-color: #506AB9;\" >\n",
    "    <h2 style=\"margin: auto; padding: 20px; color:#fff; \">1. Libraries and files</h2>\n",
    "</div>"
   ]
  },
  {
   "cell_type": "markdown",
   "id": "b1409272-303e-46f2-b6a6-729a491957fa",
   "metadata": {
    "tags": []
   },
   "source": [
    "<div style=\"background-color: #506AB9;\" >\n",
    "    <h3 style=\"margin: auto; padding: 20px; color:#fff; \">1.1. Libraries</h3>\n",
    "</div>"
   ]
  },
  {
   "cell_type": "code",
   "execution_count": 87,
   "id": "d22e0155-efb4-4760-af1a-323097c5535f",
   "metadata": {},
   "outputs": [],
   "source": [
    "import re\n",
    "import numpy as np\n",
    "import pandas as pd\n",
    "from functools import partial\n",
    "\n",
    "from imblearn.over_sampling import SMOTE\n",
    "\n",
    "import lightgbm as lgb\n",
    "from lightgbm import LGBMClassifier\n",
    "\n",
    "import sklearn\n",
    "from sklearn.metrics import (roc_auc_score, precision_recall_curve, \n",
    "                             confusion_matrix, PrecisionRecallDisplay,\n",
    "                            ConfusionMatrixDisplay)\n",
    "from sklearn.model_selection import KFold, StratifiedKFold, train_test_split\n",
    "from sklearn.preprocessing import StandardScaler\n",
    "\n",
    "# Hyperparametrization\n",
    "from hyperopt import tpe, hp, fmin, STATUS_OK, Trials, space_eval\n",
    "from hyperopt.pyll.base import scope\n",
    "\n",
    "import joblib\n",
    "\n",
    "## Own specific functions \n",
    "from functions import *"
   ]
  },
  {
   "cell_type": "markdown",
   "id": "9bb1ffa2-35ac-4f10-9fa9-9ccfd298a666",
   "metadata": {
    "tags": []
   },
   "source": [
    "<div style=\"background-color: #506AB9;\" >\n",
    "    <h3 style=\"margin: auto; padding: 20px; color:#fff; \">1.2. Files</h3>\n",
    "</div>"
   ]
  },
  {
   "cell_type": "code",
   "execution_count": 2,
   "id": "3a80f568-509b-4a73-b15c-21641a3c45e0",
   "metadata": {
    "tags": []
   },
   "outputs": [],
   "source": [
    "df = pd.read_csv(r\"datasets\\df_processed.csv\", nrows=10000)\n",
    "df = df.drop(columns=[\"index\"])"
   ]
  },
  {
   "cell_type": "code",
   "execution_count": 3,
   "id": "74493351-a229-425e-938f-6a5b71f5a573",
   "metadata": {},
   "outputs": [
    {
     "name": "stdout",
     "output_type": "stream",
     "text": [
      "\n",
      "Analysis Header of df dataset\n",
      "--------------------------------------------------------------------------------\n",
      "- Dataset shape:\t\t\t 10000 rows and 797 columns\n",
      "- Total of NaN values:\t\t\t 2058717\n",
      "- Percentage of NaN:\t\t\t 25.83 %\n",
      "- Total of infinite values:\t\t 1\n",
      "- Percentage of infinite values:\t 0.0 %\n",
      "- Total of full duplicates rows:\t 0\n",
      "- Total of empty rows:\t\t\t 0\n",
      "- Total of empty columns:\t\t 0\n",
      "- Unique indexes:\t\t\t True\n",
      "- Memory usage:\t\t\t\t 60.8 MB\n"
     ]
    }
   ],
   "source": [
    "df_analysis(df, \"df\", analysis_type=\"header\")"
   ]
  },
  {
   "cell_type": "markdown",
   "id": "21180556-e4ee-491b-a965-fe2d527bf30d",
   "metadata": {
    "tags": []
   },
   "source": [
    "<div class=\"alert alert-block alert-warning\">\n",
    "    <p><b>Observations / Conclusions</b></p>\n",
    "    <ul style=\"list-style-type: square;\">\n",
    "        <li><b>Missing values</b> - There are 25.39% of missing-values to treat</li>\n",
    "        <li><b>Infinite values</b> - There are 25 infinite values</li>\n",
    "    </ul> \n",
    "</div>"
   ]
  },
  {
   "cell_type": "markdown",
   "id": "245be731-490e-4a73-aa06-e1734da6f912",
   "metadata": {
    "tags": []
   },
   "source": [
    "<div style=\"background-color: #506AB9;\" >\n",
    "    <h4 style=\"margin: auto; padding: 20px; color:#fff; \">1.2.1 Optimizing memory usage</h4>\n",
    "</div>"
   ]
  },
  {
   "cell_type": "markdown",
   "id": "7199b033-4e22-44bd-9d31-aa86ad42b221",
   "metadata": {
    "tags": []
   },
   "source": [
    "<div class=\"alert alert-block alert-info\">\n",
    "    <p>We should optimize the memory usage to avoid problems during executions</p>\n",
    "</div>"
   ]
  },
  {
   "cell_type": "code",
   "execution_count": 4,
   "id": "fd3c4cc6-2c06-4747-a3cc-d0fdd4f9b16a",
   "metadata": {},
   "outputs": [],
   "source": [
    "df[\"TARGET\"].fillna(value=-99, inplace=True)\n",
    "df[\"TARGET\"] = df[\"TARGET\"].astype(\"int8\")\n",
    "df[\"TARGET\"] = df[\"TARGET\"].replace(-99, np.nan)"
   ]
  },
  {
   "cell_type": "code",
   "execution_count": 5,
   "id": "bbdf298a-6415-49e7-a04a-73127d97c5e1",
   "metadata": {},
   "outputs": [],
   "source": [
    "for col in df.columns:\n",
    "    if df[col].dtype == \"int64\" and df[col].nunique() == 2:\n",
    "        df[col] = df[col].astype(\"int8\")"
   ]
  },
  {
   "cell_type": "code",
   "execution_count": 6,
   "id": "e3bae372-a3fb-43ad-a6b3-24c589f88922",
   "metadata": {},
   "outputs": [],
   "source": [
    "for col in df.columns:\n",
    "    if df[col].dtype == \"float64\" and df[col].min() >= -2147483648 and df[col].max() <= 2147483648:\n",
    "        df[col] = df[col].astype(\"float32\")"
   ]
  },
  {
   "cell_type": "code",
   "execution_count": 7,
   "id": "4bfbce33-ea3f-4262-b87a-652787443ba2",
   "metadata": {},
   "outputs": [
    {
     "name": "stdout",
     "output_type": "stream",
     "text": [
      "\n",
      "Analysis Header of df dataset\n",
      "--------------------------------------------------------------------------------\n",
      "- Dataset shape:\t\t\t 10000 rows and 797 columns\n",
      "- Total of NaN values:\t\t\t 2058717\n",
      "- Percentage of NaN:\t\t\t 25.83 %\n",
      "- Total of infinite values:\t\t 1\n",
      "- Percentage of infinite values:\t 0.0 %\n",
      "- Total of full duplicates rows:\t 0\n",
      "- Total of empty rows:\t\t\t 0\n",
      "- Total of empty columns:\t\t 0\n",
      "- Unique indexes:\t\t\t True\n",
      "- Memory usage:\t\t\t\t 26.9 MB\n"
     ]
    }
   ],
   "source": [
    "df_analysis(df, \"df\", analysis_type=\"header\")"
   ]
  },
  {
   "cell_type": "code",
   "execution_count": 8,
   "id": "d0b51422-0f82-4622-aa77-c47fdd6ad43c",
   "metadata": {},
   "outputs": [
    {
     "data": {
      "text/html": [
       "<div>\n",
       "<style scoped>\n",
       "    .dataframe tbody tr th:only-of-type {\n",
       "        vertical-align: middle;\n",
       "    }\n",
       "\n",
       "    .dataframe tbody tr th {\n",
       "        vertical-align: top;\n",
       "    }\n",
       "\n",
       "    .dataframe thead th {\n",
       "        text-align: right;\n",
       "    }\n",
       "</style>\n",
       "<table border=\"1\" class=\"dataframe\">\n",
       "  <thead>\n",
       "    <tr style=\"text-align: right;\">\n",
       "      <th></th>\n",
       "      <th>SK_ID_CURR</th>\n",
       "      <th>TARGET</th>\n",
       "      <th>CODE_GENDER</th>\n",
       "      <th>FLAG_OWN_CAR</th>\n",
       "      <th>FLAG_OWN_REALTY</th>\n",
       "      <th>CNT_CHILDREN</th>\n",
       "      <th>AMT_INCOME_TOTAL</th>\n",
       "      <th>AMT_CREDIT</th>\n",
       "      <th>AMT_ANNUITY</th>\n",
       "      <th>AMT_GOODS_PRICE</th>\n",
       "      <th>...</th>\n",
       "      <th>CC_NAME_CONTRACT_STATUS_Signed_MAX</th>\n",
       "      <th>CC_NAME_CONTRACT_STATUS_Signed_MEAN</th>\n",
       "      <th>CC_NAME_CONTRACT_STATUS_Signed_SUM</th>\n",
       "      <th>CC_NAME_CONTRACT_STATUS_Signed_VAR</th>\n",
       "      <th>CC_NAME_CONTRACT_STATUS_nan_MIN</th>\n",
       "      <th>CC_NAME_CONTRACT_STATUS_nan_MAX</th>\n",
       "      <th>CC_NAME_CONTRACT_STATUS_nan_MEAN</th>\n",
       "      <th>CC_NAME_CONTRACT_STATUS_nan_SUM</th>\n",
       "      <th>CC_NAME_CONTRACT_STATUS_nan_VAR</th>\n",
       "      <th>CC_COUNT</th>\n",
       "    </tr>\n",
       "  </thead>\n",
       "  <tbody>\n",
       "    <tr>\n",
       "      <th>0</th>\n",
       "      <td>100002</td>\n",
       "      <td>1</td>\n",
       "      <td>0</td>\n",
       "      <td>0</td>\n",
       "      <td>0</td>\n",
       "      <td>0</td>\n",
       "      <td>202500.0</td>\n",
       "      <td>406597.5</td>\n",
       "      <td>24700.5</td>\n",
       "      <td>351000.0</td>\n",
       "      <td>...</td>\n",
       "      <td>NaN</td>\n",
       "      <td>NaN</td>\n",
       "      <td>NaN</td>\n",
       "      <td>NaN</td>\n",
       "      <td>NaN</td>\n",
       "      <td>NaN</td>\n",
       "      <td>NaN</td>\n",
       "      <td>NaN</td>\n",
       "      <td>NaN</td>\n",
       "      <td>NaN</td>\n",
       "    </tr>\n",
       "    <tr>\n",
       "      <th>1</th>\n",
       "      <td>100003</td>\n",
       "      <td>0</td>\n",
       "      <td>1</td>\n",
       "      <td>0</td>\n",
       "      <td>1</td>\n",
       "      <td>0</td>\n",
       "      <td>270000.0</td>\n",
       "      <td>1293502.5</td>\n",
       "      <td>35698.5</td>\n",
       "      <td>1129500.0</td>\n",
       "      <td>...</td>\n",
       "      <td>NaN</td>\n",
       "      <td>NaN</td>\n",
       "      <td>NaN</td>\n",
       "      <td>NaN</td>\n",
       "      <td>NaN</td>\n",
       "      <td>NaN</td>\n",
       "      <td>NaN</td>\n",
       "      <td>NaN</td>\n",
       "      <td>NaN</td>\n",
       "      <td>NaN</td>\n",
       "    </tr>\n",
       "    <tr>\n",
       "      <th>2</th>\n",
       "      <td>100004</td>\n",
       "      <td>0</td>\n",
       "      <td>0</td>\n",
       "      <td>1</td>\n",
       "      <td>0</td>\n",
       "      <td>0</td>\n",
       "      <td>67500.0</td>\n",
       "      <td>135000.0</td>\n",
       "      <td>6750.0</td>\n",
       "      <td>135000.0</td>\n",
       "      <td>...</td>\n",
       "      <td>NaN</td>\n",
       "      <td>NaN</td>\n",
       "      <td>NaN</td>\n",
       "      <td>NaN</td>\n",
       "      <td>NaN</td>\n",
       "      <td>NaN</td>\n",
       "      <td>NaN</td>\n",
       "      <td>NaN</td>\n",
       "      <td>NaN</td>\n",
       "      <td>NaN</td>\n",
       "    </tr>\n",
       "    <tr>\n",
       "      <th>3</th>\n",
       "      <td>100006</td>\n",
       "      <td>0</td>\n",
       "      <td>1</td>\n",
       "      <td>0</td>\n",
       "      <td>0</td>\n",
       "      <td>0</td>\n",
       "      <td>135000.0</td>\n",
       "      <td>312682.5</td>\n",
       "      <td>29686.5</td>\n",
       "      <td>297000.0</td>\n",
       "      <td>...</td>\n",
       "      <td>0.0</td>\n",
       "      <td>0.0</td>\n",
       "      <td>0.0</td>\n",
       "      <td>0.0</td>\n",
       "      <td>0.0</td>\n",
       "      <td>0.0</td>\n",
       "      <td>0.0</td>\n",
       "      <td>0.0</td>\n",
       "      <td>0.0</td>\n",
       "      <td>6.0</td>\n",
       "    </tr>\n",
       "    <tr>\n",
       "      <th>4</th>\n",
       "      <td>100007</td>\n",
       "      <td>0</td>\n",
       "      <td>0</td>\n",
       "      <td>0</td>\n",
       "      <td>0</td>\n",
       "      <td>0</td>\n",
       "      <td>121500.0</td>\n",
       "      <td>513000.0</td>\n",
       "      <td>21865.5</td>\n",
       "      <td>513000.0</td>\n",
       "      <td>...</td>\n",
       "      <td>NaN</td>\n",
       "      <td>NaN</td>\n",
       "      <td>NaN</td>\n",
       "      <td>NaN</td>\n",
       "      <td>NaN</td>\n",
       "      <td>NaN</td>\n",
       "      <td>NaN</td>\n",
       "      <td>NaN</td>\n",
       "      <td>NaN</td>\n",
       "      <td>NaN</td>\n",
       "    </tr>\n",
       "  </tbody>\n",
       "</table>\n",
       "<p>5 rows × 797 columns</p>\n",
       "</div>"
      ],
      "text/plain": [
       "   SK_ID_CURR  TARGET  CODE_GENDER  FLAG_OWN_CAR  FLAG_OWN_REALTY  \\\n",
       "0      100002       1            0             0                0   \n",
       "1      100003       0            1             0                1   \n",
       "2      100004       0            0             1                0   \n",
       "3      100006       0            1             0                0   \n",
       "4      100007       0            0             0                0   \n",
       "\n",
       "   CNT_CHILDREN  AMT_INCOME_TOTAL  AMT_CREDIT  AMT_ANNUITY  AMT_GOODS_PRICE  \\\n",
       "0             0          202500.0    406597.5      24700.5         351000.0   \n",
       "1             0          270000.0   1293502.5      35698.5        1129500.0   \n",
       "2             0           67500.0    135000.0       6750.0         135000.0   \n",
       "3             0          135000.0    312682.5      29686.5         297000.0   \n",
       "4             0          121500.0    513000.0      21865.5         513000.0   \n",
       "\n",
       "   ...  CC_NAME_CONTRACT_STATUS_Signed_MAX  \\\n",
       "0  ...                                 NaN   \n",
       "1  ...                                 NaN   \n",
       "2  ...                                 NaN   \n",
       "3  ...                                 0.0   \n",
       "4  ...                                 NaN   \n",
       "\n",
       "   CC_NAME_CONTRACT_STATUS_Signed_MEAN  CC_NAME_CONTRACT_STATUS_Signed_SUM  \\\n",
       "0                                  NaN                                 NaN   \n",
       "1                                  NaN                                 NaN   \n",
       "2                                  NaN                                 NaN   \n",
       "3                                  0.0                                 0.0   \n",
       "4                                  NaN                                 NaN   \n",
       "\n",
       "   CC_NAME_CONTRACT_STATUS_Signed_VAR  CC_NAME_CONTRACT_STATUS_nan_MIN  \\\n",
       "0                                 NaN                              NaN   \n",
       "1                                 NaN                              NaN   \n",
       "2                                 NaN                              NaN   \n",
       "3                                 0.0                              0.0   \n",
       "4                                 NaN                              NaN   \n",
       "\n",
       "   CC_NAME_CONTRACT_STATUS_nan_MAX  CC_NAME_CONTRACT_STATUS_nan_MEAN  \\\n",
       "0                              NaN                               NaN   \n",
       "1                              NaN                               NaN   \n",
       "2                              NaN                               NaN   \n",
       "3                              0.0                               0.0   \n",
       "4                              NaN                               NaN   \n",
       "\n",
       "   CC_NAME_CONTRACT_STATUS_nan_SUM  CC_NAME_CONTRACT_STATUS_nan_VAR  CC_COUNT  \n",
       "0                              NaN                              NaN       NaN  \n",
       "1                              NaN                              NaN       NaN  \n",
       "2                              NaN                              NaN       NaN  \n",
       "3                              0.0                              0.0       6.0  \n",
       "4                              NaN                              NaN       NaN  \n",
       "\n",
       "[5 rows x 797 columns]"
      ]
     },
     "execution_count": 8,
     "metadata": {},
     "output_type": "execute_result"
    }
   ],
   "source": [
    "df.head()"
   ]
  },
  {
   "cell_type": "code",
   "execution_count": 9,
   "id": "4c976361-d20b-4524-8e90-1216ea16d730",
   "metadata": {},
   "outputs": [
    {
     "data": {
      "text/plain": [
       "[]"
      ]
     },
     "execution_count": 9,
     "metadata": {},
     "output_type": "execute_result"
    }
   ],
   "source": [
    "df.select_dtypes(include=[\"object\"]).columns.tolist()"
   ]
  },
  {
   "cell_type": "markdown",
   "id": "3c1d9b87-1c33-4b34-bc51-bd03eead474a",
   "metadata": {
    "tags": []
   },
   "source": [
    "<div class=\"alert alert-block alert-warning\">\n",
    "    <p><b>Observations / Conclusions</b></p>\n",
    "    <ul style=\"list-style-type: square;\">\n",
    "        <li><b>Columns type</b> - All columns are numerics</li>\n",
    "    </ul> \n",
    "</div>"
   ]
  },
  {
   "cell_type": "markdown",
   "id": "151a589c-007e-45c4-8f30-a08abe6d9c0c",
   "metadata": {
    "tags": []
   },
   "source": [
    "<div style=\"background-color: #506AB9;\" >\n",
    "    <h4 style=\"margin: auto; padding: 20px; color:#fff; \">1.2.2. Missing-values</h4>\n",
    "</div>"
   ]
  },
  {
   "cell_type": "markdown",
   "id": "98c5ddd5-d467-4ba6-aae4-628c2f5e4da6",
   "metadata": {},
   "source": [
    "<div class=\"alert alert-block alert-info\">\n",
    "    <p>Before treating the class imbalance in the target, it is necessary to treat the missing-values in all the dataset, to do that, we are going to fill values with SimpleImputer\n",
    "   </p>\n",
    "    <p>Let's start by identifying the features with infinite-values and replace them by missing-values\n",
    "   </p>\n",
    "</div>\n",
    "</div>"
   ]
  },
  {
   "cell_type": "code",
   "execution_count": 10,
   "id": "28242a16-c849-47cd-8112-9c70f3867feb",
   "metadata": {},
   "outputs": [],
   "source": [
    "inf_cols = df.columns.to_series()[np.isinf(df).any()]"
   ]
  },
  {
   "cell_type": "code",
   "execution_count": 11,
   "id": "7c75fa23-35c2-46c9-b696-7cc4ce6b09f0",
   "metadata": {},
   "outputs": [],
   "source": [
    "for col in inf_cols:\n",
    "    df[col] = df[col].replace([np.inf, -np.inf], np.nan)"
   ]
  },
  {
   "cell_type": "code",
   "execution_count": 12,
   "id": "a24dcacd-7890-455a-b0c4-8412e5bacd87",
   "metadata": {},
   "outputs": [
    {
     "name": "stdout",
     "output_type": "stream",
     "text": [
      "\n",
      "Analysis Header of df dataset\n",
      "--------------------------------------------------------------------------------\n",
      "- Dataset shape:\t\t\t 10000 rows and 797 columns\n",
      "- Total of NaN values:\t\t\t 2058718\n",
      "- Percentage of NaN:\t\t\t 25.83 %\n",
      "- Total of infinite values:\t\t 0\n",
      "- Percentage of infinite values:\t 0.0 %\n",
      "- Total of full duplicates rows:\t 0\n",
      "- Total of empty rows:\t\t\t 0\n",
      "- Total of empty columns:\t\t 0\n",
      "- Unique indexes:\t\t\t True\n",
      "- Memory usage:\t\t\t\t 26.9 MB\n"
     ]
    }
   ],
   "source": [
    "df_analysis(df, \"df\", analysis_type=\"header\")"
   ]
  },
  {
   "cell_type": "markdown",
   "id": "cb5aaa67-c37d-4f58-9134-0c7c4f3e87c2",
   "metadata": {},
   "source": [
    "<div class=\"alert alert-block alert-info\">\n",
    "    <p>Let's continue by identifying the features with missing-values and excluding the TARGET\n",
    "   </p>\n",
    "</div>\n",
    "</div>"
   ]
  },
  {
   "cell_type": "code",
   "execution_count": 13,
   "id": "7ff4cd72-ecae-4c69-af5e-0fe411beb586",
   "metadata": {},
   "outputs": [],
   "source": [
    "nan_cols = [i for i in df.columns if i!=\"TARGET\" and df[i].isnull().any()]"
   ]
  },
  {
   "cell_type": "code",
   "execution_count": 14,
   "id": "7bef3993-9920-4c26-bff9-0ccfbee30a13",
   "metadata": {},
   "outputs": [],
   "source": [
    "for col in nan_cols:\n",
    "    mean_value = df[col].mean()\n",
    "    df[col].fillna(value=mean_value, inplace=True)"
   ]
  },
  {
   "cell_type": "code",
   "execution_count": 15,
   "id": "e464dfbf-f109-4d7e-961b-fc265d3f4b1b",
   "metadata": {},
   "outputs": [
    {
     "name": "stdout",
     "output_type": "stream",
     "text": [
      "\n",
      "Analysis Header of df dataset\n",
      "--------------------------------------------------------------------------------\n",
      "- Dataset shape:\t\t\t 10000 rows and 797 columns\n",
      "- Total of NaN values:\t\t\t 0\n",
      "- Percentage of NaN:\t\t\t 0.0 %\n",
      "- Total of infinite values:\t\t 0\n",
      "- Percentage of infinite values:\t 0.0 %\n",
      "- Total of full duplicates rows:\t 0\n",
      "- Total of empty rows:\t\t\t 0\n",
      "- Total of empty columns:\t\t 0\n",
      "- Unique indexes:\t\t\t True\n",
      "- Memory usage:\t\t\t\t 26.9 MB\n"
     ]
    }
   ],
   "source": [
    "df_analysis(df, \"df\", analysis_type=\"header\")"
   ]
  },
  {
   "cell_type": "markdown",
   "id": "43458410-f008-4855-85c4-0bd8fe1875e8",
   "metadata": {},
   "source": [
    "<div class=\"alert alert-block alert-success\">\n",
    "    <p>At this point, TARGET is the only column with missing-values</p>\n",
    "</div>"
   ]
  },
  {
   "cell_type": "code",
   "execution_count": 16,
   "id": "25f6a1f9-6516-45fa-9b54-f1aacdf808ef",
   "metadata": {},
   "outputs": [],
   "source": [
    "# saving the optimized dataset \n",
    "#df.to_csv(\"datasets\\df_optimized.csv\", index=False)"
   ]
  },
  {
   "cell_type": "markdown",
   "id": "6d7b3692-7168-4556-a444-7000fe8cf359",
   "metadata": {
    "tags": []
   },
   "source": [
    "<div style=\"background-color: #506AB9;\" >\n",
    "    <h2 style=\"margin: auto; padding: 20px; color:#fff; \">2. Class Imbalance</h2>\n",
    "</div>"
   ]
  },
  {
   "cell_type": "markdown",
   "id": "4ba6c676-4953-4bb5-9150-73f6ec693656",
   "metadata": {
    "tags": []
   },
   "source": [
    "<div style=\"background-color: #506AB9;\" >\n",
    "    <h3 style=\"margin: auto; padding: 20px; color:#fff; \">2.1. Verifying</h3>\n",
    "</div>"
   ]
  },
  {
   "cell_type": "markdown",
   "id": "22f556a9-7a48-4510-89f1-db14b0193864",
   "metadata": {
    "tags": []
   },
   "source": [
    "<div class=\"alert alert-block alert-info\">\n",
    "    <p>Now, we are going to analyze in details, whether ours target has an imbalanced class\n",
    "   </p>\n",
    "</div>"
   ]
  },
  {
   "cell_type": "code",
   "execution_count": 17,
   "id": "3fe0ccbb-a491-4052-9137-7fe1ff0018f4",
   "metadata": {},
   "outputs": [
    {
     "data": {
      "image/png": "[encoded data removed]",
      "text/plain": [
       "<Figure size 648x360 with 2 Axes>"
      ]
     },
     "metadata": {
      "needs_background": "light"
     },
     "output_type": "display_data"
    }
   ],
   "source": [
    "barplot_and_pie(df[\"TARGET\"], \"Target distribution\", \" \")"
   ]
  },
  {
   "cell_type": "markdown",
   "id": "d6d6de84-3c5c-41dd-9448-1d183d0f6dcf",
   "metadata": {
    "tags": []
   },
   "source": [
    "<div class=\"alert alert-block alert-warning\">\n",
    "    <p>Here we can see how much the dataset is imbalanced</p>\n",
    "    <p>It is easily identifying that there are <b>loans that were repaid (0)</b> in comparison of <b>loans that were not repaid (1)</b></p>   \n",
    "</div>"
   ]
  },
  {
   "cell_type": "markdown",
   "id": "e9556c81-dfd5-4fc2-a526-c3f136987135",
   "metadata": {
    "tags": []
   },
   "source": [
    "<div style=\"background-color: #506AB9;\" >\n",
    "    <h3 style=\"margin: auto; padding: 20px; color:#fff; \">2.2. Smote</h3>\n",
    "</div>"
   ]
  },
  {
   "cell_type": "markdown",
   "id": "0af57235-8866-455c-9bd8-6d233eb75afc",
   "metadata": {
    "tags": []
   },
   "source": [
    "<div class=\"alert alert-block alert-info\">\n",
    "    <p>To treat the Imbalanced class, we are going to use a type of data augmentation for the minority class (Oversampling) where new examples can be synthesized from the existing examples and it is referred as the Synthetic Minority Oversampling Technique - SMOTE.</p>\n",
    "</div>"
   ]
  },
  {
   "cell_type": "code",
   "execution_count": 18,
   "id": "daf42ff3-cd0f-46c1-8eb0-0bd4a588fbbe",
   "metadata": {},
   "outputs": [],
   "source": [
    "train_df = df[df[\"TARGET\"].notnull()]\n",
    "test_df = df[df[\"TARGET\"].isnull()]"
   ]
  },
  {
   "cell_type": "code",
   "execution_count": 19,
   "id": "2a4a3235-1afe-49f0-a034-98432f3cc436",
   "metadata": {},
   "outputs": [],
   "source": [
    "X = train_df.drop(columns=[\"TARGET\"])"
   ]
  },
  {
   "cell_type": "code",
   "execution_count": 20,
   "id": "2777bbf4-bead-442f-81e2-daf04bee4368",
   "metadata": {},
   "outputs": [],
   "source": [
    "y = train_df.loc[:,\"TARGET\"]"
   ]
  },
  {
   "cell_type": "markdown",
   "id": "3d314dcc-7381-45c3-9968-740741372404",
   "metadata": {
    "tags": []
   },
   "source": [
    "<div class=\"alert alert-block alert-info\">\n",
    "    <p>Initializing SMOTE</p>\n",
    "</div>"
   ]
  },
  {
   "cell_type": "code",
   "execution_count": 21,
   "id": "1751ce9b-bd95-4da0-a630-d8572ae487fc",
   "metadata": {},
   "outputs": [],
   "source": [
    "smote = SMOTE(sampling_strategy=\"auto\", k_neighbors=5, n_jobs=-1,\n",
    "              random_state=42)"
   ]
  },
  {
   "cell_type": "markdown",
   "id": "4f736573-772a-4c44-ac54-e8a5bcc5dcc5",
   "metadata": {
    "tags": []
   },
   "source": [
    "<div class=\"alert alert-block alert-info\">\n",
    "    <p>Executing SMOTE</p>\n",
    "</div>"
   ]
  },
  {
   "cell_type": "code",
   "execution_count": 22,
   "id": "3d4f553d-b9e8-4559-bd71-0c48359f3dfd",
   "metadata": {},
   "outputs": [],
   "source": [
    "X_resampled, y_resampled = smote.fit_resample(X, y)"
   ]
  },
  {
   "cell_type": "markdown",
   "id": "c22de8f3-2f74-4df6-a204-6548c9e2f5ee",
   "metadata": {
    "tags": []
   },
   "source": [
    "<div class=\"alert alert-block alert-info\">\n",
    "    <p>Finally, we can see the results</p>\n",
    "</div>"
   ]
  },
  {
   "cell_type": "code",
   "execution_count": 23,
   "id": "69cd5ce7-06c3-48c4-94a2-513ff782bff3",
   "metadata": {},
   "outputs": [
    {
     "data": {
      "image/png": "[encoded data removed]",
      "text/plain": [
       "<Figure size 648x360 with 2 Axes>"
      ]
     },
     "metadata": {
      "needs_background": "light"
     },
     "output_type": "display_data"
    }
   ],
   "source": [
    "barplot_and_pie(y_resampled, \"Target distribution\", \" \")"
   ]
  },
  {
   "cell_type": "markdown",
   "id": "71f90b4c-0cc7-460e-9034-b33024d428e1",
   "metadata": {
    "tags": []
   },
   "source": [
    "<div class=\"alert alert-block alert-success\">\n",
    "    <p>Now, we have the Target balanced</p>\n",
    "</div>"
   ]
  },
  {
   "cell_type": "markdown",
   "id": "1b5be0a5-5156-4549-b144-c2f9cf2b012b",
   "metadata": {
    "tags": []
   },
   "source": [
    "<div style=\"background-color: #506AB9;\" >\n",
    "    <h3 style=\"margin: auto; padding: 20px; color:#fff; \">2.4. Rebuild the dataset</h3>\n",
    "</div>"
   ]
  },
  {
   "cell_type": "markdown",
   "id": "bca5ca60-59a0-488f-9ec6-075703f1dae6",
   "metadata": {
    "tags": []
   },
   "source": [
    "<div class=\"alert alert-block alert-info\">\n",
    "    <p>Creating series with attributes</p>\n",
    "</div>"
   ]
  },
  {
   "cell_type": "code",
   "execution_count": 24,
   "id": "4e28a37d-71cb-43b7-9153-b4f8721e4548",
   "metadata": {},
   "outputs": [],
   "source": [
    "y_resampled  = pd.Series(y_resampled, name=\"TARGET\")"
   ]
  },
  {
   "cell_type": "markdown",
   "id": "00b614ab-e29f-410f-8051-c026e1395e84",
   "metadata": {
    "tags": []
   },
   "source": [
    "<div class=\"alert alert-block alert-info\">\n",
    "    <p>Merging result dataset with result series</p>\n",
    "</div>"
   ]
  },
  {
   "cell_type": "code",
   "execution_count": 25,
   "id": "f5351baa-4184-4543-a556-77bfe2f0829e",
   "metadata": {},
   "outputs": [],
   "source": [
    "df_resampled = X_resampled.merge(y_resampled, left_index=True, right_index=True)"
   ]
  },
  {
   "cell_type": "markdown",
   "id": "f9469820-d59e-4917-83a0-964af7a6a22b",
   "metadata": {
    "tags": []
   },
   "source": [
    "<div class=\"alert alert-block alert-info\">\n",
    "    <p>Concatenating the dataset</p>\n",
    "</div>"
   ]
  },
  {
   "cell_type": "code",
   "execution_count": 26,
   "id": "8a2abecf-7078-457a-b45b-b4bc91770112",
   "metadata": {},
   "outputs": [],
   "source": [
    "df_resampled = pd.concat([df_resampled, test_df])"
   ]
  },
  {
   "cell_type": "code",
   "execution_count": 27,
   "id": "2c66ec6b-f461-41e9-aa2b-5a6f1e8943d6",
   "metadata": {},
   "outputs": [],
   "source": [
    "# saving the resampled dataset \n",
    "#df_resampled.to_csv(\"datasets\\df_resampled.csv\", index=False)"
   ]
  },
  {
   "cell_type": "markdown",
   "id": "dfb84114-aede-4961-a72e-5257b2146886",
   "metadata": {
    "tags": []
   },
   "source": [
    "<div class=\"alert alert-block alert-info\">\n",
    "    <p>Freeing up memory </p>\n",
    "</div>"
   ]
  },
  {
   "cell_type": "code",
   "execution_count": 28,
   "id": "6102aeaf-3e3f-4722-bb08-dca328c0393b",
   "metadata": {},
   "outputs": [
    {
     "data": {
      "text/plain": [
       "9716"
      ]
     },
     "execution_count": 28,
     "metadata": {},
     "output_type": "execute_result"
    }
   ],
   "source": [
    "del df, train_df, test_df, X, y, X_resampled, y_resampled\n",
    "gc.collect()"
   ]
  },
  {
   "cell_type": "markdown",
   "id": "6d5e4371-7b4f-4df9-b1fd-064d701c6f7f",
   "metadata": {
    "tags": []
   },
   "source": [
    "<div class=\"alert alert-block alert-info\">\n",
    "    <p>Let's see the final dataset</p>\n",
    "</div>"
   ]
  },
  {
   "cell_type": "code",
   "execution_count": 29,
   "id": "63a69fbd-f751-4006-a6bf-69a648d1d9ce",
   "metadata": {},
   "outputs": [
    {
     "name": "stdout",
     "output_type": "stream",
     "text": [
      "\n",
      "Analysis Header of df_resampled dataset\n",
      "--------------------------------------------------------------------------------\n",
      "- Dataset shape:\t\t\t 18450 rows and 797 columns\n",
      "- Total of NaN values:\t\t\t 0\n",
      "- Percentage of NaN:\t\t\t 0.0 %\n",
      "- Total of infinite values:\t\t 0\n",
      "- Percentage of infinite values:\t 0.0 %\n",
      "- Total of full duplicates rows:\t 0\n",
      "- Total of empty rows:\t\t\t 0\n",
      "- Total of empty columns:\t\t 0\n",
      "- Unique indexes:\t\t\t True\n",
      "- Memory usage:\t\t\t\t 49.8 MB\n"
     ]
    }
   ],
   "source": [
    "df_analysis(df_resampled, \"df_resampled\", analysis_type=\"header\")"
   ]
  },
  {
   "cell_type": "markdown",
   "id": "7ad2b17d-c82a-442f-8fd9-e071875a7d9d",
   "metadata": {
    "tags": []
   },
   "source": [
    "<div class=\"alert alert-block alert-success\">\n",
    "    <p><b>Observations / Conclusions</b></p>\n",
    "    <p>At this point we have the following dataset.</p>\n",
    "    <ul style=\"list-style-type: square;\">\n",
    "        <li><b>df_resampled</b>: that is balanced after treating it through SMOTE and shape 614108 x 797</li>\n",
    "    </ul> \n",
    "</div>"
   ]
  },
  {
   "cell_type": "markdown",
   "id": "44f4971d-c73b-4740-992b-57f5bac34181",
   "metadata": {
    "tags": []
   },
   "source": [
    "<div style=\"background-color: #506AB9;\" >\n",
    "    <h2 style=\"margin: auto; padding: 20px; color:#fff; \">3. Optimization</h2>\n",
    "</div>"
   ]
  },
  {
   "cell_type": "markdown",
   "id": "02af96c7-92f9-4237-86ad-a2e09de5e651",
   "metadata": {
    "tags": []
   },
   "source": [
    "<div class=\"alert alert-block alert-info\">\n",
    "    <p>Now, we are going to use a <b>Custom Score</b> and <b>Hyperopt</b> to get the best result to set the model </p>\n",
    "</div>"
   ]
  },
  {
   "cell_type": "markdown",
   "id": "65edec22-2c38-4888-bac1-afdb1d82affd",
   "metadata": {
    "tags": []
   },
   "source": [
    "<div style=\"background-color: #506AB9;\" >\n",
    "    <h3 style=\"margin: auto; padding: 20px; color:#fff; \">3.1. Custom Score</h3>\n",
    "</div>"
   ]
  },
  {
   "cell_type": "markdown",
   "id": "5252fb83-6e15-453d-9ce0-4b23618fe55a",
   "metadata": {
    "tags": []
   },
   "source": [
    "<div class=\"alert alert-block alert-info\">\n",
    "    <p>In the <b>Custom Score</b>, we are going to penalize the <b>False Negative</b> that are loands <b>will be in default</b>, and they were <b>predicted incorrectly</b></p>\n",
    "</div>"
   ]
  },
  {
   "cell_type": "code",
   "execution_count": 62,
   "id": "f57501f2-3eb9-4bcb-a6ff-12ba5af2bc9a",
   "metadata": {},
   "outputs": [],
   "source": [
    "def custom_score(y_true, y_pred):\n",
    "    \"\"\"\n",
    "    Method used to calculate a score based on the penalization of False Negatives.\n",
    "\n",
    "    Parameters:\n",
    "    -----------------\n",
    "        y_true (series): True values\n",
    "        y_pred (series): Predicted values\n",
    "        \n",
    "    Returns:\n",
    "    -----------------\n",
    "        Score. (float): Score obtained based on the rules defined to measure. \n",
    "    \"\"\"\n",
    "    \n",
    "    # Getting the probability outputs from \"predict_proba\"\n",
    "    threshold = 0.5\n",
    "    y_pred = (y_pred >= threshold).astype(int)\n",
    "    \n",
    "    TN_rate = 1        # Loans that are not in default and were predicted correctly\n",
    "    TP_rate = 1        # Loans that are in default and were predicted correctly\n",
    "    FP_rate = 0        # Loans that are not in default and were predicted incorrectly\n",
    "    FN_rate = -10      # Loans that are in default and were were predicted incorrectly\n",
    "    \n",
    "    # Getting all values based on confusion matrix\n",
    "    (TN, FP, FN, TP) = confusion_matrix(y_true, y_pred).ravel()\n",
    "\n",
    "    # Total of default and not default cases\n",
    "    total_not_default = TN + FP     # Not default cases\n",
    "    total_default = TP + FN         # Default cases \n",
    "    \n",
    "    gain_total = TN*TN_rate + TP*TP_rate + FP*FP_rate + FN*FN_rate\n",
    "    gain_maximun = total_not_default*TN_rate + total_default*TP_rate\n",
    "    gain_minumun = total_not_default*TN_rate + total_default*FN_rate\n",
    "    \n",
    "    # normalize to get score between 0 (baseline) and 1\n",
    "    score = (gain_total - gain_minumun) / (gain_maximun - gain_minumun)\n",
    "    \n",
    "    return score"
   ]
  },
  {
   "cell_type": "markdown",
   "id": "ec92390c-1876-48c6-a2e4-8e90a14d8ee2",
   "metadata": {
    "tags": []
   },
   "source": [
    "<div style=\"background-color: #506AB9;\" >\n",
    "    <h3 style=\"margin: auto; padding: 20px; color:#fff; \">3.2. Model optimiztion</h3>\n",
    "</div>"
   ]
  },
  {
   "cell_type": "markdown",
   "id": "b59f6309-ff04-4535-9283-e93e5b3df6c6",
   "metadata": {
    "tags": []
   },
   "source": [
    "<div class=\"alert alert-block alert-info\">\n",
    "    <p>Let's define the parameters</p>\n",
    "</div>"
   ]
  },
  {
   "cell_type": "code",
   "execution_count": 31,
   "id": "6faf3980-132a-4ec8-b9d8-eae66641b532",
   "metadata": {},
   "outputs": [],
   "source": [
    "N_ESTIMATORS = [8000, 10000, 12000]\n",
    "NUM_LEAVES = [32, 34, 36]\n",
    "MAX_DEPTH = [7, 8, 9]"
   ]
  },
  {
   "cell_type": "code",
   "execution_count": 32,
   "id": "e7683875-9c85-42a4-9e34-54e74608a5f5",
   "metadata": {
    "tags": []
   },
   "outputs": [],
   "source": [
    "space_params = {\n",
    "    \"n_estimators\" : hp.choice(\"n_estimators\", N_ESTIMATORS),\n",
    "    \"learning_rate\" :  hp.uniform(\"learning_rate\", 0.002, 0.003),\n",
    "    \"num_leaves\" :  hp.choice(\"num_leaves\", NUM_LEAVES),\n",
    "    \"max_depth\" : hp.choice(\"max_depth\", MAX_DEPTH),\n",
    "    \"reg_alpha\" : hp.uniform(\"reg_alpha\", 0.041545473, 0.051),\n",
    "    \"reg_lambda\" : hp.uniform(\"reg_lambda\", 0.0735294, 0.0835294),\n",
    "    \"min_split_gain\" : hp.uniform(\"min_split_gain\", 0.0222415, 0.0322415),\n",
    "    \"min_child_weight\" : hp.uniform(\"min_child_weight\", 39.3259775, 49)\n",
    "}"
   ]
  },
  {
   "cell_type": "markdown",
   "id": "a564e380-8436-4356-8be1-fb0b433d2104",
   "metadata": {
    "tags": []
   },
   "source": [
    "<div class=\"alert alert-block alert-info\">\n",
    "    <p>Now, we can define our objective function</p>\n",
    "    <p>To do that, we are going to consider the following</p>\n",
    "    <ul style=\"list-style-type: square;\">\n",
    "        <li><b>StandardScaler</b> to manage all data in the same scale</li>\n",
    "        <li><b>colsample_bytree and subsample</b> with 80% of data, to improve the execution time</li>\n",
    "        <li><b>n_splits</b> with 2 to improve the execution time</li>\n",
    "        <li><b>is_unbalance</b> with False because it is a balanced dataset</li>\n",
    "    </ul> \n",
    "</div>"
   ]
  },
  {
   "cell_type": "code",
   "execution_count": 33,
   "id": "0d469c46-c176-4e49-adfd-324179303c30",
   "metadata": {},
   "outputs": [],
   "source": [
    "def hyperparameter_tuning(space_params, df, imbalanced, n_splits):\n",
    "    \"\"\"\n",
    "    Method used to analyze on the DataFrame.\n",
    "\n",
    "    Parameters:\n",
    "    -----------------\n",
    "        space_params (dict): Parameters to optimize the model\n",
    "        df (pandas.DataFrame): Dataset to treat\n",
    "        imbalanced (boolean): Define whether dataset is unbalanced\n",
    "        n_splits (int): To split data in train test sets\n",
    "\n",
    "    Returns:\n",
    "    -----------------\n",
    "        Loss and STATUS.\n",
    "    \"\"\"\n",
    "    \n",
    "    # Formatting columns name\n",
    "    df = df.rename(columns=lambda x:re.sub(\"[^A-Za-z0-9_]+\", \"\", x))\n",
    "    df_lgbm = df.copy()\n",
    "    \n",
    "    scaler = StandardScaler()\n",
    "    \n",
    "    # Divide in training/validation and test data\n",
    "    train_df = df_lgbm[df_lgbm[\"TARGET\"].notnull()]\n",
    "    test_df = df_lgbm[df_lgbm[\"TARGET\"].isnull()]\n",
    "    del df_lgbm\n",
    "    gc.collect()\n",
    "    \n",
    "    # Cross validation model\n",
    "    folds = KFold(n_splits=n_splits, shuffle=True, random_state=42)\n",
    "    \n",
    "    # Create arrays and dataframes to store results\n",
    "    oof_preds = np.zeros(train_df.shape[0])\n",
    "    sub_preds = np.zeros(test_df.shape[0])\n",
    "    feats = [f for f in train_df.columns if f not in [\"TARGET\", \"SK_ID_CURR\", \"SK_ID_BUREAU\", \"SK_ID_PREV\"]]\n",
    "    \n",
    "    for n_fold, (train_idx, valid_idx) in enumerate(folds.split(train_df[feats], train_df[\"TARGET\"])):\n",
    "        \n",
    "        print(\"\\n\")\n",
    "        \n",
    "        train_x, train_y = train_df[feats].iloc[train_idx], train_df[\"TARGET\"].iloc[train_idx]\n",
    "        valid_x, valid_y = train_df[feats].iloc[valid_idx], train_df[\"TARGET\"].iloc[valid_idx]\n",
    "    \n",
    "        train_x_scaled = scaler.fit_transform(train_x)\n",
    "        valid_x_scaled = scaler.fit_transform(valid_x)\n",
    "        \n",
    "        # LightGBM parameters found by Bayesian optimization\n",
    "        clf = LGBMClassifier(\n",
    "            **space_params,\n",
    "            colsample_bytree=0.8, \n",
    "            subsample=0.8,\n",
    "            is_unbalance=imbalanced,\n",
    "            n_jobs=-1 \n",
    "        )\n",
    "        \n",
    "        evaluation = [(train_x_scaled, train_y), (valid_x_scaled, valid_y)]\n",
    "        \n",
    "        clf.fit(train_x_scaled, train_y, eval_set=evaluation, eval_metric=\"auc\",\n",
    "                callbacks=[lgb.early_stopping(stopping_rounds=200),\n",
    "                          lgb.log_evaluation(period=-1)])\n",
    "        \n",
    "        oof_preds[valid_idx] = clf.predict_proba(valid_x_scaled, num_iteration=clf.best_iteration_)[:, 1]\n",
    "        \n",
    "        del clf, train_x, train_x_scaled, train_y, valid_x, valid_x_scaled, valid_y\n",
    "        gc.collect()\n",
    "    \n",
    "    auc = roc_auc_score(train_df[\"TARGET\"], oof_preds)\n",
    "    print(\">> ROC-AUC Score %.6f\" % auc )\n",
    "    \n",
    "    cs = custom_score(train_df[\"TARGET\"], oof_preds)\n",
    "    print(\">> Custom Score %.6f\\n\" % cs )\n",
    "          \n",
    "    return { \"loss\": -auc, \"status\": STATUS_OK } "
   ]
  },
  {
   "cell_type": "markdown",
   "id": "f99674b3-8696-41b8-b0f8-d9e57b84025d",
   "metadata": {
    "tags": []
   },
   "source": [
    "<div style=\"background-color: #506AB9;\" >\n",
    "    <h3 style=\"margin: auto; padding: 20px; color:#fff; \">3.3. Balanced dataset modelisation</h3>\n",
    "</div>"
   ]
  },
  {
   "cell_type": "markdown",
   "id": "0c7f1c8c-b3fd-4d15-8ec1-0afc194bf9ac",
   "metadata": {
    "tags": []
   },
   "source": [
    "<div class=\"alert alert-block alert-info\">\n",
    "    <p>Finally, we are going to optimize the model with the <b>balanced</b> dataset</p>\n",
    "</div>"
   ]
  },
  {
   "cell_type": "code",
   "execution_count": 34,
   "id": "e5addc3f-b138-4047-acf8-27edef5e2ad8",
   "metadata": {},
   "outputs": [],
   "source": [
    "fmin_objective = partial(hyperparameter_tuning, \n",
    "                         df=df_resampled, imbalanced=False,\n",
    "                         n_splits=2)"
   ]
  },
  {
   "cell_type": "code",
   "execution_count": 35,
   "id": "e3ee90ab-d5f7-4a27-bdcc-98947f136457",
   "metadata": {
    "tags": []
   },
   "outputs": [
    {
     "name": "stdout",
     "output_type": "stream",
     "text": [
      "Training until validation scores don't improve for 200 rounds                                                          \n",
      "Early stopping, best iteration is:                                                                                     \n",
      "[972]\ttraining's auc: 0.989362\ttraining's binary_logloss: 0.196721\tvalid_1's auc: 0.973739\tvalid_1's binary_logloss: 0.362492\n",
      "Training until validation scores don't improve for 200 rounds                                                          \n",
      "Early stopping, best iteration is:                                                                                     \n",
      "[630]\ttraining's auc: 0.988588\ttraining's binary_logloss: 0.270245\tvalid_1's auc: 0.94313\tvalid_1's binary_logloss: 0.558991\n",
      ">> ROC-AUC Score 0.958771                                                                                              \n",
      ">> Custom Score 0.933481                                                                                               \n",
      "\n",
      "Training until validation scores don't improve for 200 rounds                                                          \n",
      "Early stopping, best iteration is:                                                                                     \n",
      "[977]\ttraining's auc: 0.987835\ttraining's binary_logloss: 0.210593\tvalid_1's auc: 0.972831\tvalid_1's binary_logloss: 0.369719\n",
      "Training until validation scores don't improve for 200 rounds                                                          \n",
      "Early stopping, best iteration is:                                                                                     \n",
      "[664]\ttraining's auc: 0.987091\ttraining's binary_logloss: 0.277079\tvalid_1's auc: 0.942073\tvalid_1's binary_logloss: 0.566078\n",
      ">> ROC-AUC Score 0.956637                                                                                              \n",
      ">> Custom Score 0.932456                                                                                               \n",
      "\n",
      "Training until validation scores don't improve for 200 rounds                                                          \n",
      "Early stopping, best iteration is:                                                                                     \n",
      "[1114]\ttraining's auc: 0.989424\ttraining's binary_logloss: 0.196069\tvalid_1's auc: 0.97352\tvalid_1's binary_logloss: 0.368803\n",
      "Training until validation scores don't improve for 200 rounds                                                          \n",
      "Early stopping, best iteration is:                                                                                     \n",
      "[715]\ttraining's auc: 0.988758\ttraining's binary_logloss: 0.26827\tvalid_1's auc: 0.944578\tvalid_1's binary_logloss: 0.558182\n",
      ">> ROC-AUC Score 0.959422                                                                                              \n",
      ">> Custom Score 0.933954                                                                                               \n",
      "\n",
      "Training until validation scores don't improve for 200 rounds                                                          \n",
      "Early stopping, best iteration is:                                                                                     \n",
      "[1088]\ttraining's auc: 0.988763\ttraining's binary_logloss: 0.192813\tvalid_1's auc: 0.973774\tvalid_1's binary_logloss: 0.361328\n",
      "Training until validation scores don't improve for 200 rounds                                                          \n",
      "Early stopping, best iteration is:                                                                                     \n",
      "[658]\ttraining's auc: 0.987575\ttraining's binary_logloss: 0.276427\tvalid_1's auc: 0.942142\tvalid_1's binary_logloss: 0.560784\n",
      ">> ROC-AUC Score 0.958955                                                                                              \n",
      ">> Custom Score 0.933166                                                                                               \n",
      "\n",
      "Training until validation scores don't improve for 200 rounds                                                          \n",
      "Early stopping, best iteration is:                                                                                     \n",
      "[1276]\ttraining's auc: 0.988273\ttraining's binary_logloss: 0.207877\tvalid_1's auc: 0.972862\tvalid_1's binary_logloss: 0.380438\n",
      "Training until validation scores don't improve for 200 rounds                                                          \n",
      "Early stopping, best iteration is:                                                                                     \n",
      "[861]\ttraining's auc: 0.987769\ttraining's binary_logloss: 0.274625\tvalid_1's auc: 0.942323\tvalid_1's binary_logloss: 0.569123\n",
      ">> ROC-AUC Score 0.957548                                                                                              \n",
      ">> Custom Score 0.933501                                                                                               \n",
      "\n",
      "Training until validation scores don't improve for 200 rounds                                                          \n",
      "Early stopping, best iteration is:                                                                                     \n",
      "[1106]\ttraining's auc: 0.988529\ttraining's binary_logloss: 0.194262\tvalid_1's auc: 0.973292\tvalid_1's binary_logloss: 0.357904\n",
      "Training until validation scores don't improve for 200 rounds                                                          \n",
      "Early stopping, best iteration is:                                                                                     \n",
      "[702]\ttraining's auc: 0.987661\ttraining's binary_logloss: 0.269672\tvalid_1's auc: 0.947191\tvalid_1's binary_logloss: 0.54411\n",
      ">> ROC-AUC Score 0.960324                                                                                              \n",
      ">> Custom Score 0.934072                                                                                               \n",
      "\n",
      "Training until validation scores don't improve for 200 rounds                                                          \n",
      "Early stopping, best iteration is:                                                                                     \n",
      "[1508]\ttraining's auc: 0.989154\ttraining's binary_logloss: 0.19021\tvalid_1's auc: 0.97371\tvalid_1's binary_logloss: 0.361515\n",
      "Training until validation scores don't improve for 200 rounds                                                          \n",
      "Early stopping, best iteration is:                                                                                     \n",
      "[986]\ttraining's auc: 0.988711\ttraining's binary_logloss: 0.257997\tvalid_1's auc: 0.946774\tvalid_1's binary_logloss: 0.559251\n",
      ">> ROC-AUC Score 0.960084                                                                                              \n",
      ">> Custom Score 0.933797                                                                                               \n",
      "\n",
      "Training until validation scores don't improve for 200 rounds                                                          \n",
      "Early stopping, best iteration is:                                                                                     \n",
      "[1161]\ttraining's auc: 0.988505\ttraining's binary_logloss: 0.201908\tvalid_1's auc: 0.973069\tvalid_1's binary_logloss: 0.379391\n",
      "Training until validation scores don't improve for 200 rounds                                                          \n",
      "Early stopping, best iteration is:                                                                                     \n",
      "[768]\ttraining's auc: 0.987959\ttraining's binary_logloss: 0.27054\tvalid_1's auc: 0.943444\tvalid_1's binary_logloss: 0.568076\n",
      ">> ROC-AUC Score 0.958441                                                                                              \n",
      ">> Custom Score 0.933797                                                                                               \n",
      "\n",
      "Training until validation scores don't improve for 200 rounds                                                          \n",
      "Early stopping, best iteration is:                                                                                     \n",
      "[1500]\ttraining's auc: 0.989408\ttraining's binary_logloss: 0.191548\tvalid_1's auc: 0.973772\tvalid_1's binary_logloss: 0.361007\n",
      "Training until validation scores don't improve for 200 rounds                                                          \n",
      "Early stopping, best iteration is:                                                                                     \n",
      "[963]\ttraining's auc: 0.988905\ttraining's binary_logloss: 0.262186\tvalid_1's auc: 0.947132\tvalid_1's binary_logloss: 0.553902\n",
      ">> ROC-AUC Score 0.960393                                                                                              \n",
      ">> Custom Score 0.933944                                                                                               \n",
      "\n",
      "Training until validation scores don't improve for 200 rounds                                                          \n",
      "Early stopping, best iteration is:                                                                                     \n",
      "[950]\ttraining's auc: 0.989076\ttraining's binary_logloss: 0.20366\tvalid_1's auc: 0.9732\tvalid_1's binary_logloss: 0.378014\n",
      "Training until validation scores don't improve for 200 rounds                                                          \n",
      "Early stopping, best iteration is:                                                                                     \n",
      "[638]\ttraining's auc: 0.988443\ttraining's binary_logloss: 0.270489\tvalid_1's auc: 0.9424\tvalid_1's binary_logloss: 0.571981\n",
      ">> ROC-AUC Score 0.957782                                                                                              \n",
      ">> Custom Score 0.933688                                                                                               \n",
      "\n",
      "Training until validation scores don't improve for 200 rounds                                                          \n",
      "Early stopping, best iteration is:                                                                                     \n",
      "[1050]\ttraining's auc: 0.987848\ttraining's binary_logloss: 0.208654\tvalid_1's auc: 0.972713\tvalid_1's binary_logloss: 0.37542\n",
      "Training until validation scores don't improve for 200 rounds                                                          \n",
      "Early stopping, best iteration is:                                                                                     \n",
      "[699]\ttraining's auc: 0.986971\ttraining's binary_logloss: 0.278247\tvalid_1's auc: 0.94239\tvalid_1's binary_logloss: 0.563931\n",
      ">> ROC-AUC Score 0.957370                                                                                              \n",
      ">> Custom Score 0.932850                                                                                               \n",
      "\n",
      "Training until validation scores don't improve for 200 rounds                                                          \n",
      "Early stopping, best iteration is:                                                                                     \n",
      "[1449]\ttraining's auc: 0.98817\ttraining's binary_logloss: 0.196247\tvalid_1's auc: 0.972984\tvalid_1's binary_logloss: 0.378948\n",
      "Training until validation scores don't improve for 200 rounds                                                          \n",
      "Early stopping, best iteration is:                                                                                     \n",
      "[866]\ttraining's auc: 0.986949\ttraining's binary_logloss: 0.278981\tvalid_1's auc: 0.941734\tvalid_1's binary_logloss: 0.564998\n",
      ">> ROC-AUC Score 0.958598                                                                                              \n",
      ">> Custom Score 0.933402                                                                                               \n",
      "\n",
      "Training until validation scores don't improve for 200 rounds                                                          \n",
      "Early stopping, best iteration is:                                                                                     \n",
      "[1181]\ttraining's auc: 0.989135\ttraining's binary_logloss: 0.191831\tvalid_1's auc: 0.973765\tvalid_1's binary_logloss: 0.362611\n",
      "Training until validation scores don't improve for 200 rounds                                                          \n",
      "Early stopping, best iteration is:                                                                                     \n",
      "[736]\ttraining's auc: 0.988312\ttraining's binary_logloss: 0.267881\tvalid_1's auc: 0.944866\tvalid_1's binary_logloss: 0.560397\n",
      ">> ROC-AUC Score 0.959718                                                                                              \n",
      ">> Custom Score 0.933471                                                                                               \n",
      "\n",
      "Training until validation scores don't improve for 200 rounds                                                          \n",
      "Early stopping, best iteration is:                                                                                     \n",
      "[1111]\ttraining's auc: 0.987814\ttraining's binary_logloss: 0.213097\tvalid_1's auc: 0.972871\tvalid_1's binary_logloss: 0.375178\n",
      "Training until validation scores don't improve for 200 rounds                                                          \n",
      "Early stopping, best iteration is:                                                                                     \n",
      "[789]\ttraining's auc: 0.987563\ttraining's binary_logloss: 0.271986\tvalid_1's auc: 0.942947\tvalid_1's binary_logloss: 0.568603\n",
      ">> ROC-AUC Score 0.956455                                                                                              \n",
      ">> Custom Score 0.933205                                                                                               \n",
      "\n",
      "Training until validation scores don't improve for 200 rounds                                                          \n",
      "Early stopping, best iteration is:                                                                                     \n",
      "[1149]\ttraining's auc: 0.989314\ttraining's binary_logloss: 0.194906\tvalid_1's auc: 0.973792\tvalid_1's binary_logloss: 0.357424\n",
      "Training until validation scores don't improve for 200 rounds                                                          \n",
      "Early stopping, best iteration is:                                                                                     \n",
      "[764]\ttraining's auc: 0.988857\ttraining's binary_logloss: 0.262509\tvalid_1's auc: 0.944973\tvalid_1's binary_logloss: 0.55842\n",
      ">> ROC-AUC Score 0.959041                                                                                              \n",
      ">> Custom Score 0.933471                                                                                               \n",
      "\n",
      "Training until validation scores don't improve for 200 rounds                                                          \n",
      "Early stopping, best iteration is:                                                                                     \n",
      "[967]\ttraining's auc: 0.988261\ttraining's binary_logloss: 0.207902\tvalid_1's auc: 0.972804\tvalid_1's binary_logloss: 0.381201\n",
      "Training until validation scores don't improve for 200 rounds                                                          \n",
      "Early stopping, best iteration is:                                                                                     \n",
      "[667]\ttraining's auc: 0.987862\ttraining's binary_logloss: 0.270604\tvalid_1's auc: 0.94199\tvalid_1's binary_logloss: 0.572282\n",
      ">> ROC-AUC Score 0.956952                                                                                              \n",
      ">> Custom Score 0.933560                                                                                               \n",
      "\n",
      "Training until validation scores don't improve for 200 rounds                                                          \n",
      "Early stopping, best iteration is:                                                                                     \n",
      "[1044]\ttraining's auc: 0.988191\ttraining's binary_logloss: 0.21197\tvalid_1's auc: 0.972479\tvalid_1's binary_logloss: 0.378803\n",
      "Training until validation scores don't improve for 200 rounds                                                          \n",
      "Early stopping, best iteration is:                                                                                     \n",
      "[742]\ttraining's auc: 0.98785\ttraining's binary_logloss: 0.270214\tvalid_1's auc: 0.944228\tvalid_1's binary_logloss: 0.565815\n",
      ">> ROC-AUC Score 0.957230                                                                                              \n",
      ">> Custom Score 0.932988                                                                                               \n",
      "\n",
      "Training until validation scores don't improve for 200 rounds                                                          \n",
      "Early stopping, best iteration is:                                                                                     \n",
      "[973]\ttraining's auc: 0.988644\ttraining's binary_logloss: 0.2007\tvalid_1's auc: 0.973682\tvalid_1's binary_logloss: 0.362679\n",
      "Training until validation scores don't improve for 200 rounds                                                          \n",
      "Early stopping, best iteration is:                                                                                     \n",
      "[630]\ttraining's auc: 0.987916\ttraining's binary_logloss: 0.273991\tvalid_1's auc: 0.943082\tvalid_1's binary_logloss: 0.561859\n",
      ">> ROC-AUC Score 0.958361                                                                                              \n",
      ">> Custom Score 0.933787                                                                                               \n",
      "\n",
      "Training until validation scores don't improve for 200 rounds                                                          \n",
      "Early stopping, best iteration is:                                                                                     \n",
      "[1206]\ttraining's auc: 0.989678\ttraining's binary_logloss: 0.188591\tvalid_1's auc: 0.973945\tvalid_1's binary_logloss: 0.364573\n",
      "Training until validation scores don't improve for 200 rounds                                                          \n",
      "Early stopping, best iteration is:                                                                                     \n",
      "[757]\ttraining's auc: 0.988983\ttraining's binary_logloss: 0.263519\tvalid_1's auc: 0.945812\tvalid_1's binary_logloss: 0.55449\n",
      ">> ROC-AUC Score 0.960493                                                                                              \n",
      ">> Custom Score 0.934270                                                                                               \n",
      "\n",
      "Training until validation scores don't improve for 200 rounds                                                          \n",
      "Early stopping, best iteration is:                                                                                     \n",
      "[1383]\ttraining's auc: 0.988368\ttraining's binary_logloss: 0.196101\tvalid_1's auc: 0.973092\tvalid_1's binary_logloss: 0.363326\n",
      "Training until validation scores don't improve for 200 rounds                                                          \n",
      "Early stopping, best iteration is:                                                                                     \n",
      "[880]\ttraining's auc: 0.987529\ttraining's binary_logloss: 0.270707\tvalid_1's auc: 0.947195\tvalid_1's binary_logloss: 0.546269\n",
      ">> ROC-AUC Score 0.960252                                                                                              \n",
      ">> Custom Score 0.933856                                                                                               \n",
      "\n",
      "Training until validation scores don't improve for 200 rounds                                                          \n",
      "Early stopping, best iteration is:                                                                                     \n",
      "[1306]\ttraining's auc: 0.990261\ttraining's binary_logloss: 0.184039\tvalid_1's auc: 0.974391\tvalid_1's binary_logloss: 0.359715\n",
      "Training until validation scores don't improve for 200 rounds                                                          \n",
      "Early stopping, best iteration is:                                                                                     \n",
      "[853]\ttraining's auc: 0.989545\ttraining's binary_logloss: 0.251366\tvalid_1's auc: 0.948644\tvalid_1's binary_logloss: 0.55829\n",
      ">> ROC-AUC Score 0.961381                                                                                              \n",
      ">> Custom Score 0.934427                                                                                               \n",
      "\n",
      "Training until validation scores don't improve for 200 rounds                                                          \n",
      "Early stopping, best iteration is:                                                                                     \n",
      "[1270]\ttraining's auc: 0.990048\ttraining's binary_logloss: 0.190113\tvalid_1's auc: 0.974393\tvalid_1's binary_logloss: 0.357932\n",
      "Training until validation scores don't improve for 200 rounds                                                          \n",
      "Early stopping, best iteration is:                                                                                     \n",
      "[855]\ttraining's auc: 0.989522\ttraining's binary_logloss: 0.254441\tvalid_1's auc: 0.948838\tvalid_1's binary_logloss: 0.556833\n",
      ">> ROC-AUC Score 0.960991                                                                                              \n",
      ">> Custom Score 0.933737                                                                                               \n",
      "\n",
      "Training until validation scores don't improve for 200 rounds                                                          \n",
      "Early stopping, best iteration is:                                                                                     \n",
      "[1277]\ttraining's auc: 0.990128\ttraining's binary_logloss: 0.187611\tvalid_1's auc: 0.973947\tvalid_1's binary_logloss: 0.363937\n",
      "Training until validation scores don't improve for 200 rounds                                                          \n",
      "Early stopping, best iteration is:                                                                                     \n",
      "[857]\ttraining's auc: 0.989637\ttraining's binary_logloss: 0.251802\tvalid_1's auc: 0.948664\tvalid_1's binary_logloss: 0.559038\n",
      ">> ROC-AUC Score 0.960987                                                                                              \n",
      ">> Custom Score 0.933895                                                                                               \n",
      "\n",
      "Training until validation scores don't improve for 200 rounds                                                          \n",
      "Early stopping, best iteration is:                                                                                     \n",
      "[1299]\ttraining's auc: 0.990181\ttraining's binary_logloss: 0.184831\tvalid_1's auc: 0.974529\tvalid_1's binary_logloss: 0.355041\n",
      "Training until validation scores don't improve for 200 rounds                                                          \n",
      "Early stopping, best iteration is:                                                                                     \n",
      "[835]\ttraining's auc: 0.989569\ttraining's binary_logloss: 0.255975\tvalid_1's auc: 0.948267\tvalid_1's binary_logloss: 0.552677\n",
      ">> ROC-AUC Score 0.961368                                                                                              \n",
      ">> Custom Score 0.934023                                                                                               \n",
      "\n",
      "Training until validation scores don't improve for 200 rounds                                                          \n",
      "Early stopping, best iteration is:                                                                                     \n",
      "[1317]\ttraining's auc: 0.990065\ttraining's binary_logloss: 0.183771\tvalid_1's auc: 0.974601\tvalid_1's binary_logloss: 0.356859\n",
      "Training until validation scores don't improve for 200 rounds                                                          \n",
      "Early stopping, best iteration is:                                                                                     \n",
      "[803]\ttraining's auc: 0.989114\ttraining's binary_logloss: 0.262648\tvalid_1's auc: 0.946715\tvalid_1's binary_logloss: 0.555404\n",
      ">> ROC-AUC Score 0.961169                                                                                              \n",
      ">> Custom Score 0.934713                                                                                               \n",
      "\n",
      "Training until validation scores don't improve for 200 rounds                                                          \n",
      "Early stopping, best iteration is:                                                                                     \n",
      "[1463]\ttraining's auc: 0.990164\ttraining's binary_logloss: 0.185974\tvalid_1's auc: 0.974468\tvalid_1's binary_logloss: 0.362889\n",
      "Training until validation scores don't improve for 200 rounds                                                          \n",
      "Early stopping, best iteration is:                                                                                     \n",
      "[939]\ttraining's auc: 0.989436\ttraining's binary_logloss: 0.256554\tvalid_1's auc: 0.949408\tvalid_1's binary_logloss: 0.547735\n",
      ">> ROC-AUC Score 0.962203                                                                                              \n",
      ">> Custom Score 0.934634                                                                                               \n",
      "\n",
      "Training until validation scores don't improve for 200 rounds                                                          \n",
      "Early stopping, best iteration is:                                                                                     \n",
      "[1448]\ttraining's auc: 0.99006\ttraining's binary_logloss: 0.187766\tvalid_1's auc: 0.974147\tvalid_1's binary_logloss: 0.364009\n",
      "Training until validation scores don't improve for 200 rounds                                                          \n",
      "Early stopping, best iteration is:                                                                                     \n",
      "[943]\ttraining's auc: 0.989422\ttraining's binary_logloss: 0.255844\tvalid_1's auc: 0.948852\tvalid_1's binary_logloss: 0.552485\n",
      ">> ROC-AUC Score 0.961528                                                                                              \n",
      ">> Custom Score 0.934812                                                                                               \n",
      "\n",
      "Training until validation scores don't improve for 200 rounds                                                          \n",
      "Early stopping, best iteration is:                                                                                     \n",
      "[1501]\ttraining's auc: 0.98987\ttraining's binary_logloss: 0.184678\tvalid_1's auc: 0.974613\tvalid_1's binary_logloss: 0.355035\n",
      "Training until validation scores don't improve for 200 rounds                                                          \n",
      "Early stopping, best iteration is:                                                                                     \n",
      "[930]\ttraining's auc: 0.989145\ttraining's binary_logloss: 0.260651\tvalid_1's auc: 0.947687\tvalid_1's binary_logloss: 0.554414\n",
      ">> ROC-AUC Score 0.961418                                                                                              \n",
      ">> Custom Score 0.934683                                                                                               \n",
      "\n",
      "Training until validation scores don't improve for 200 rounds                                                          \n",
      "Early stopping, best iteration is:                                                                                     \n",
      "[1388]\ttraining's auc: 0.989809\ttraining's binary_logloss: 0.192202\tvalid_1's auc: 0.974137\tvalid_1's binary_logloss: 0.360756\n",
      "Training until validation scores don't improve for 200 rounds                                                          \n",
      "Early stopping, best iteration is:                                                                                     \n",
      "[924]\ttraining's auc: 0.989358\ttraining's binary_logloss: 0.257483\tvalid_1's auc: 0.948777\tvalid_1's binary_logloss: 0.549997\n",
      ">> ROC-AUC Score 0.961143                                                                                              \n",
      ">> Custom Score 0.934762                                                                                               \n",
      "\n",
      "Training until validation scores don't improve for 200 rounds                                                          \n",
      "Early stopping, best iteration is:                                                                                     \n",
      "[1399]\ttraining's auc: 0.989645\ttraining's binary_logloss: 0.191212\tvalid_1's auc: 0.974029\tvalid_1's binary_logloss: 0.360501\n",
      "Training until validation scores don't improve for 200 rounds                                                          \n",
      "Early stopping, best iteration is:                                                                                     \n",
      "[914]\ttraining's auc: 0.989033\ttraining's binary_logloss: 0.261097\tvalid_1's auc: 0.946858\tvalid_1's binary_logloss: 0.553833\n",
      ">> ROC-AUC Score 0.960459                                                                                              \n",
      ">> Custom Score 0.934132                                                                                               \n",
      "\n",
      "Training until validation scores don't improve for 200 rounds                                                          \n",
      "Early stopping, best iteration is:                                                                                     \n",
      "[1276]\ttraining's auc: 0.988982\ttraining's binary_logloss: 0.198678\tvalid_1's auc: 0.973648\tvalid_1's binary_logloss: 0.365631\n",
      "Training until validation scores don't improve for 200 rounds                                                          \n",
      "Early stopping, best iteration is:                                                                                     \n",
      "[880]\ttraining's auc: 0.988748\ttraining's binary_logloss: 0.258919\tvalid_1's auc: 0.947482\tvalid_1's binary_logloss: 0.559535\n",
      ">> ROC-AUC Score 0.959747                                                                                              \n",
      ">> Custom Score 0.934043                                                                                               \n",
      "\n",
      "Training until validation scores don't improve for 200 rounds                                                          \n",
      "Early stopping, best iteration is:                                                                                     \n",
      "[1521]\ttraining's auc: 0.989069\ttraining's binary_logloss: 0.19122\tvalid_1's auc: 0.973894\tvalid_1's binary_logloss: 0.356799\n",
      "Training until validation scores don't improve for 200 rounds                                                          \n",
      "Early stopping, best iteration is:                                                                                     \n",
      "[907]\ttraining's auc: 0.98805\ttraining's binary_logloss: 0.27643\tvalid_1's auc: 0.943731\tvalid_1's binary_logloss: 0.550344\n",
      ">> ROC-AUC Score 0.959790                                                                                              \n",
      ">> Custom Score 0.933925                                                                                               \n",
      "\n",
      "Training until validation scores don't improve for 200 rounds                                                          \n",
      "Early stopping, best iteration is:                                                                                     \n",
      "[1202]\ttraining's auc: 0.989513\ttraining's binary_logloss: 0.194403\tvalid_1's auc: 0.973908\tvalid_1's binary_logloss: 0.369142\n",
      "Training until validation scores don't improve for 200 rounds                                                          \n",
      "Early stopping, best iteration is:                                                                                     \n",
      "[798]\ttraining's auc: 0.989002\ttraining's binary_logloss: 0.261194\tvalid_1's auc: 0.946123\tvalid_1's binary_logloss: 0.559893\n",
      ">> ROC-AUC Score 0.960079                                                                                              \n",
      ">> Custom Score 0.934072                                                                                               \n",
      "\n",
      "Training until validation scores don't improve for 200 rounds                                                          \n",
      "Early stopping, best iteration is:                                                                                     \n",
      "[1530]\ttraining's auc: 0.988381\ttraining's binary_logloss: 0.193108\tvalid_1's auc: 0.973711\tvalid_1's binary_logloss: 0.354756\n",
      "Training until validation scores don't improve for 200 rounds                                                          \n",
      "Early stopping, best iteration is:                                                                                     \n",
      "[940]\ttraining's auc: 0.987356\ttraining's binary_logloss: 0.27276\tvalid_1's auc: 0.946997\tvalid_1's binary_logloss: 0.545109\n",
      ">> ROC-AUC Score 0.960553                                                                                              \n",
      ">> Custom Score 0.932979                                                                                               \n",
      "\n",
      "Training until validation scores don't improve for 200 rounds                                                          \n",
      " 34%|██████████████▉                             | 34/100 [45:06<1:27:33, 79.60s/trial, best loss: -0.9622030625509507]\n"
     ]
    },
    {
     "ename": "KeyboardInterrupt",
     "evalue": "",
     "output_type": "error",
     "traceback": [
      "\u001b[1;31m---------------------------------------------------------------------------\u001b[0m",
      "\u001b[1;31mKeyboardInterrupt\u001b[0m                         Traceback (most recent call last)",
      "\u001b[1;32m~\\AppData\\Local\\Temp/ipykernel_6092/1703427342.py\u001b[0m in \u001b[0;36m<module>\u001b[1;34m\u001b[0m\n\u001b[0;32m      2\u001b[0m \u001b[0mtrials\u001b[0m \u001b[1;33m=\u001b[0m \u001b[0mTrials\u001b[0m\u001b[1;33m(\u001b[0m\u001b[1;33m)\u001b[0m\u001b[1;33m\u001b[0m\u001b[1;33m\u001b[0m\u001b[0m\n\u001b[0;32m      3\u001b[0m \u001b[1;33m\u001b[0m\u001b[0m\n\u001b[1;32m----> 4\u001b[1;33m best = fmin(\n\u001b[0m\u001b[0;32m      5\u001b[0m     \u001b[0mfn\u001b[0m\u001b[1;33m=\u001b[0m\u001b[0mfmin_objective\u001b[0m\u001b[1;33m,\u001b[0m\u001b[1;33m\u001b[0m\u001b[1;33m\u001b[0m\u001b[0m\n\u001b[0;32m      6\u001b[0m     \u001b[0mspace\u001b[0m\u001b[1;33m=\u001b[0m\u001b[0mspace_params\u001b[0m\u001b[1;33m,\u001b[0m\u001b[1;33m\u001b[0m\u001b[1;33m\u001b[0m\u001b[0m\n",
      "\u001b[1;32m~\\miniconda3\\envs\\p7\\lib\\site-packages\\hyperopt\\fmin.py\u001b[0m in \u001b[0;36mfmin\u001b[1;34m(fn, space, algo, max_evals, timeout, loss_threshold, trials, rstate, allow_trials_fmin, pass_expr_memo_ctrl, catch_eval_exceptions, verbose, return_argmin, points_to_evaluate, max_queue_len, show_progressbar, early_stop_fn, trials_save_file)\u001b[0m\n\u001b[0;32m    505\u001b[0m \u001b[1;33m\u001b[0m\u001b[0m\n\u001b[0;32m    506\u001b[0m     \u001b[1;32mif\u001b[0m \u001b[0mallow_trials_fmin\u001b[0m \u001b[1;32mand\u001b[0m \u001b[0mhasattr\u001b[0m\u001b[1;33m(\u001b[0m\u001b[0mtrials\u001b[0m\u001b[1;33m,\u001b[0m \u001b[1;34m\"fmin\"\u001b[0m\u001b[1;33m)\u001b[0m\u001b[1;33m:\u001b[0m\u001b[1;33m\u001b[0m\u001b[1;33m\u001b[0m\u001b[0m\n\u001b[1;32m--> 507\u001b[1;33m         return trials.fmin(\n\u001b[0m\u001b[0;32m    508\u001b[0m             \u001b[0mfn\u001b[0m\u001b[1;33m,\u001b[0m\u001b[1;33m\u001b[0m\u001b[1;33m\u001b[0m\u001b[0m\n\u001b[0;32m    509\u001b[0m             \u001b[0mspace\u001b[0m\u001b[1;33m,\u001b[0m\u001b[1;33m\u001b[0m\u001b[1;33m\u001b[0m\u001b[0m\n",
      "\u001b[1;32m~\\miniconda3\\envs\\p7\\lib\\site-packages\\hyperopt\\base.py\u001b[0m in \u001b[0;36mfmin\u001b[1;34m(self, fn, space, algo, max_evals, timeout, loss_threshold, max_queue_len, rstate, verbose, pass_expr_memo_ctrl, catch_eval_exceptions, return_argmin, show_progressbar, early_stop_fn, trials_save_file)\u001b[0m\n\u001b[0;32m    680\u001b[0m         \u001b[1;32mfrom\u001b[0m \u001b[1;33m.\u001b[0m\u001b[0mfmin\u001b[0m \u001b[1;32mimport\u001b[0m \u001b[0mfmin\u001b[0m\u001b[1;33m\u001b[0m\u001b[1;33m\u001b[0m\u001b[0m\n\u001b[0;32m    681\u001b[0m \u001b[1;33m\u001b[0m\u001b[0m\n\u001b[1;32m--> 682\u001b[1;33m         return fmin(\n\u001b[0m\u001b[0;32m    683\u001b[0m             \u001b[0mfn\u001b[0m\u001b[1;33m,\u001b[0m\u001b[1;33m\u001b[0m\u001b[1;33m\u001b[0m\u001b[0m\n\u001b[0;32m    684\u001b[0m             \u001b[0mspace\u001b[0m\u001b[1;33m,\u001b[0m\u001b[1;33m\u001b[0m\u001b[1;33m\u001b[0m\u001b[0m\n",
      "\u001b[1;32m~\\miniconda3\\envs\\p7\\lib\\site-packages\\hyperopt\\fmin.py\u001b[0m in \u001b[0;36mfmin\u001b[1;34m(fn, space, algo, max_evals, timeout, loss_threshold, trials, rstate, allow_trials_fmin, pass_expr_memo_ctrl, catch_eval_exceptions, verbose, return_argmin, points_to_evaluate, max_queue_len, show_progressbar, early_stop_fn, trials_save_file)\u001b[0m\n\u001b[0;32m    551\u001b[0m \u001b[1;33m\u001b[0m\u001b[0m\n\u001b[0;32m    552\u001b[0m     \u001b[1;31m# next line is where the fmin is actually executed\u001b[0m\u001b[1;33m\u001b[0m\u001b[1;33m\u001b[0m\u001b[0m\n\u001b[1;32m--> 553\u001b[1;33m     \u001b[0mrval\u001b[0m\u001b[1;33m.\u001b[0m\u001b[0mexhaust\u001b[0m\u001b[1;33m(\u001b[0m\u001b[1;33m)\u001b[0m\u001b[1;33m\u001b[0m\u001b[1;33m\u001b[0m\u001b[0m\n\u001b[0m\u001b[0;32m    554\u001b[0m \u001b[1;33m\u001b[0m\u001b[0m\n\u001b[0;32m    555\u001b[0m     \u001b[1;32mif\u001b[0m \u001b[0mreturn_argmin\u001b[0m\u001b[1;33m:\u001b[0m\u001b[1;33m\u001b[0m\u001b[1;33m\u001b[0m\u001b[0m\n",
      "\u001b[1;32m~\\miniconda3\\envs\\p7\\lib\\site-packages\\hyperopt\\fmin.py\u001b[0m in \u001b[0;36mexhaust\u001b[1;34m(self)\u001b[0m\n\u001b[0;32m    354\u001b[0m     \u001b[1;32mdef\u001b[0m \u001b[0mexhaust\u001b[0m\u001b[1;33m(\u001b[0m\u001b[0mself\u001b[0m\u001b[1;33m)\u001b[0m\u001b[1;33m:\u001b[0m\u001b[1;33m\u001b[0m\u001b[1;33m\u001b[0m\u001b[0m\n\u001b[0;32m    355\u001b[0m         \u001b[0mn_done\u001b[0m \u001b[1;33m=\u001b[0m \u001b[0mlen\u001b[0m\u001b[1;33m(\u001b[0m\u001b[0mself\u001b[0m\u001b[1;33m.\u001b[0m\u001b[0mtrials\u001b[0m\u001b[1;33m)\u001b[0m\u001b[1;33m\u001b[0m\u001b[1;33m\u001b[0m\u001b[0m\n\u001b[1;32m--> 356\u001b[1;33m         \u001b[0mself\u001b[0m\u001b[1;33m.\u001b[0m\u001b[0mrun\u001b[0m\u001b[1;33m(\u001b[0m\u001b[0mself\u001b[0m\u001b[1;33m.\u001b[0m\u001b[0mmax_evals\u001b[0m \u001b[1;33m-\u001b[0m \u001b[0mn_done\u001b[0m\u001b[1;33m,\u001b[0m \u001b[0mblock_until_done\u001b[0m\u001b[1;33m=\u001b[0m\u001b[0mself\u001b[0m\u001b[1;33m.\u001b[0m\u001b[0masynchronous\u001b[0m\u001b[1;33m)\u001b[0m\u001b[1;33m\u001b[0m\u001b[1;33m\u001b[0m\u001b[0m\n\u001b[0m\u001b[0;32m    357\u001b[0m         \u001b[0mself\u001b[0m\u001b[1;33m.\u001b[0m\u001b[0mtrials\u001b[0m\u001b[1;33m.\u001b[0m\u001b[0mrefresh\u001b[0m\u001b[1;33m(\u001b[0m\u001b[1;33m)\u001b[0m\u001b[1;33m\u001b[0m\u001b[1;33m\u001b[0m\u001b[0m\n\u001b[0;32m    358\u001b[0m         \u001b[1;32mreturn\u001b[0m \u001b[0mself\u001b[0m\u001b[1;33m\u001b[0m\u001b[1;33m\u001b[0m\u001b[0m\n",
      "\u001b[1;32m~\\miniconda3\\envs\\p7\\lib\\site-packages\\hyperopt\\fmin.py\u001b[0m in \u001b[0;36mrun\u001b[1;34m(self, N, block_until_done)\u001b[0m\n\u001b[0;32m    290\u001b[0m                 \u001b[1;32melse\u001b[0m\u001b[1;33m:\u001b[0m\u001b[1;33m\u001b[0m\u001b[1;33m\u001b[0m\u001b[0m\n\u001b[0;32m    291\u001b[0m                     \u001b[1;31m# -- loop over trials and do the jobs directly\u001b[0m\u001b[1;33m\u001b[0m\u001b[1;33m\u001b[0m\u001b[0m\n\u001b[1;32m--> 292\u001b[1;33m                     \u001b[0mself\u001b[0m\u001b[1;33m.\u001b[0m\u001b[0mserial_evaluate\u001b[0m\u001b[1;33m(\u001b[0m\u001b[1;33m)\u001b[0m\u001b[1;33m\u001b[0m\u001b[1;33m\u001b[0m\u001b[0m\n\u001b[0m\u001b[0;32m    293\u001b[0m \u001b[1;33m\u001b[0m\u001b[0m\n\u001b[0;32m    294\u001b[0m                 \u001b[0mself\u001b[0m\u001b[1;33m.\u001b[0m\u001b[0mtrials\u001b[0m\u001b[1;33m.\u001b[0m\u001b[0mrefresh\u001b[0m\u001b[1;33m(\u001b[0m\u001b[1;33m)\u001b[0m\u001b[1;33m\u001b[0m\u001b[1;33m\u001b[0m\u001b[0m\n",
      "\u001b[1;32m~\\miniconda3\\envs\\p7\\lib\\site-packages\\hyperopt\\fmin.py\u001b[0m in \u001b[0;36mserial_evaluate\u001b[1;34m(self, N)\u001b[0m\n\u001b[0;32m    168\u001b[0m                 \u001b[0mctrl\u001b[0m \u001b[1;33m=\u001b[0m \u001b[0mbase\u001b[0m\u001b[1;33m.\u001b[0m\u001b[0mCtrl\u001b[0m\u001b[1;33m(\u001b[0m\u001b[0mself\u001b[0m\u001b[1;33m.\u001b[0m\u001b[0mtrials\u001b[0m\u001b[1;33m,\u001b[0m \u001b[0mcurrent_trial\u001b[0m\u001b[1;33m=\u001b[0m\u001b[0mtrial\u001b[0m\u001b[1;33m)\u001b[0m\u001b[1;33m\u001b[0m\u001b[1;33m\u001b[0m\u001b[0m\n\u001b[0;32m    169\u001b[0m                 \u001b[1;32mtry\u001b[0m\u001b[1;33m:\u001b[0m\u001b[1;33m\u001b[0m\u001b[1;33m\u001b[0m\u001b[0m\n\u001b[1;32m--> 170\u001b[1;33m                     \u001b[0mresult\u001b[0m \u001b[1;33m=\u001b[0m \u001b[0mself\u001b[0m\u001b[1;33m.\u001b[0m\u001b[0mdomain\u001b[0m\u001b[1;33m.\u001b[0m\u001b[0mevaluate\u001b[0m\u001b[1;33m(\u001b[0m\u001b[0mspec\u001b[0m\u001b[1;33m,\u001b[0m \u001b[0mctrl\u001b[0m\u001b[1;33m)\u001b[0m\u001b[1;33m\u001b[0m\u001b[1;33m\u001b[0m\u001b[0m\n\u001b[0m\u001b[0;32m    171\u001b[0m                 \u001b[1;32mexcept\u001b[0m \u001b[0mException\u001b[0m \u001b[1;32mas\u001b[0m \u001b[0me\u001b[0m\u001b[1;33m:\u001b[0m\u001b[1;33m\u001b[0m\u001b[1;33m\u001b[0m\u001b[0m\n\u001b[0;32m    172\u001b[0m                     \u001b[0mlogger\u001b[0m\u001b[1;33m.\u001b[0m\u001b[0merror\u001b[0m\u001b[1;33m(\u001b[0m\u001b[1;34m\"job exception: %s\"\u001b[0m \u001b[1;33m%\u001b[0m \u001b[0mstr\u001b[0m\u001b[1;33m(\u001b[0m\u001b[0me\u001b[0m\u001b[1;33m)\u001b[0m\u001b[1;33m)\u001b[0m\u001b[1;33m\u001b[0m\u001b[1;33m\u001b[0m\u001b[0m\n",
      "\u001b[1;32m~\\miniconda3\\envs\\p7\\lib\\site-packages\\hyperopt\\base.py\u001b[0m in \u001b[0;36mevaluate\u001b[1;34m(self, config, ctrl, attach_attachments)\u001b[0m\n\u001b[0;32m    905\u001b[0m                 \u001b[0mprint_node_on_error\u001b[0m\u001b[1;33m=\u001b[0m\u001b[0mself\u001b[0m\u001b[1;33m.\u001b[0m\u001b[0mrec_eval_print_node_on_error\u001b[0m\u001b[1;33m,\u001b[0m\u001b[1;33m\u001b[0m\u001b[1;33m\u001b[0m\u001b[0m\n\u001b[0;32m    906\u001b[0m             )\n\u001b[1;32m--> 907\u001b[1;33m             \u001b[0mrval\u001b[0m \u001b[1;33m=\u001b[0m \u001b[0mself\u001b[0m\u001b[1;33m.\u001b[0m\u001b[0mfn\u001b[0m\u001b[1;33m(\u001b[0m\u001b[0mpyll_rval\u001b[0m\u001b[1;33m)\u001b[0m\u001b[1;33m\u001b[0m\u001b[1;33m\u001b[0m\u001b[0m\n\u001b[0m\u001b[0;32m    908\u001b[0m \u001b[1;33m\u001b[0m\u001b[0m\n\u001b[0;32m    909\u001b[0m         \u001b[1;32mif\u001b[0m \u001b[0misinstance\u001b[0m\u001b[1;33m(\u001b[0m\u001b[0mrval\u001b[0m\u001b[1;33m,\u001b[0m \u001b[1;33m(\u001b[0m\u001b[0mfloat\u001b[0m\u001b[1;33m,\u001b[0m \u001b[0mint\u001b[0m\u001b[1;33m,\u001b[0m \u001b[0mnp\u001b[0m\u001b[1;33m.\u001b[0m\u001b[0mnumber\u001b[0m\u001b[1;33m)\u001b[0m\u001b[1;33m)\u001b[0m\u001b[1;33m:\u001b[0m\u001b[1;33m\u001b[0m\u001b[1;33m\u001b[0m\u001b[0m\n",
      "\u001b[1;32m~\\AppData\\Local\\Temp/ipykernel_6092/3397774922.py\u001b[0m in \u001b[0;36mhyperparameter_tuning\u001b[1;34m(space_params, df, imbalanced, n_splits)\u001b[0m\n\u001b[0;32m     56\u001b[0m         \u001b[0mevaluation\u001b[0m \u001b[1;33m=\u001b[0m \u001b[1;33m[\u001b[0m\u001b[1;33m(\u001b[0m\u001b[0mtrain_x_scaled\u001b[0m\u001b[1;33m,\u001b[0m \u001b[0mtrain_y\u001b[0m\u001b[1;33m)\u001b[0m\u001b[1;33m,\u001b[0m \u001b[1;33m(\u001b[0m\u001b[0mvalid_x_scaled\u001b[0m\u001b[1;33m,\u001b[0m \u001b[0mvalid_y\u001b[0m\u001b[1;33m)\u001b[0m\u001b[1;33m]\u001b[0m\u001b[1;33m\u001b[0m\u001b[1;33m\u001b[0m\u001b[0m\n\u001b[0;32m     57\u001b[0m \u001b[1;33m\u001b[0m\u001b[0m\n\u001b[1;32m---> 58\u001b[1;33m         clf.fit(train_x_scaled, train_y, eval_set=evaluation, eval_metric=\"auc\",\n\u001b[0m\u001b[0;32m     59\u001b[0m                 callbacks=[lgb.early_stopping(stopping_rounds=200),\n\u001b[0;32m     60\u001b[0m                           lgb.log_evaluation(period=-1)])\n",
      "\u001b[1;32m~\\miniconda3\\envs\\p7\\lib\\site-packages\\lightgbm\\sklearn.py\u001b[0m in \u001b[0;36mfit\u001b[1;34m(self, X, y, sample_weight, init_score, eval_set, eval_names, eval_sample_weight, eval_class_weight, eval_init_score, eval_metric, early_stopping_rounds, verbose, feature_name, categorical_feature, callbacks, init_model)\u001b[0m\n\u001b[0;32m    965\u001b[0m                     \u001b[0mvalid_sets\u001b[0m\u001b[1;33m[\u001b[0m\u001b[0mi\u001b[0m\u001b[1;33m]\u001b[0m \u001b[1;33m=\u001b[0m \u001b[1;33m(\u001b[0m\u001b[0mvalid_x\u001b[0m\u001b[1;33m,\u001b[0m \u001b[0mself\u001b[0m\u001b[1;33m.\u001b[0m\u001b[0m_le\u001b[0m\u001b[1;33m.\u001b[0m\u001b[0mtransform\u001b[0m\u001b[1;33m(\u001b[0m\u001b[0mvalid_y\u001b[0m\u001b[1;33m)\u001b[0m\u001b[1;33m)\u001b[0m\u001b[1;33m\u001b[0m\u001b[1;33m\u001b[0m\u001b[0m\n\u001b[0;32m    966\u001b[0m \u001b[1;33m\u001b[0m\u001b[0m\n\u001b[1;32m--> 967\u001b[1;33m         super().fit(X, _y, sample_weight=sample_weight, init_score=init_score, eval_set=valid_sets,\n\u001b[0m\u001b[0;32m    968\u001b[0m                     \u001b[0meval_names\u001b[0m\u001b[1;33m=\u001b[0m\u001b[0meval_names\u001b[0m\u001b[1;33m,\u001b[0m \u001b[0meval_sample_weight\u001b[0m\u001b[1;33m=\u001b[0m\u001b[0meval_sample_weight\u001b[0m\u001b[1;33m,\u001b[0m\u001b[1;33m\u001b[0m\u001b[1;33m\u001b[0m\u001b[0m\n\u001b[0;32m    969\u001b[0m                     \u001b[0meval_class_weight\u001b[0m\u001b[1;33m=\u001b[0m\u001b[0meval_class_weight\u001b[0m\u001b[1;33m,\u001b[0m \u001b[0meval_init_score\u001b[0m\u001b[1;33m=\u001b[0m\u001b[0meval_init_score\u001b[0m\u001b[1;33m,\u001b[0m\u001b[1;33m\u001b[0m\u001b[1;33m\u001b[0m\u001b[0m\n",
      "\u001b[1;32m~\\miniconda3\\envs\\p7\\lib\\site-packages\\lightgbm\\sklearn.py\u001b[0m in \u001b[0;36mfit\u001b[1;34m(self, X, y, sample_weight, init_score, group, eval_set, eval_names, eval_sample_weight, eval_class_weight, eval_init_score, eval_group, eval_metric, early_stopping_rounds, verbose, feature_name, categorical_feature, callbacks, init_model)\u001b[0m\n\u001b[0;32m    746\u001b[0m         \u001b[0mcallbacks\u001b[0m\u001b[1;33m.\u001b[0m\u001b[0mappend\u001b[0m\u001b[1;33m(\u001b[0m\u001b[0mrecord_evaluation\u001b[0m\u001b[1;33m(\u001b[0m\u001b[0mevals_result\u001b[0m\u001b[1;33m)\u001b[0m\u001b[1;33m)\u001b[0m\u001b[1;33m\u001b[0m\u001b[1;33m\u001b[0m\u001b[0m\n\u001b[0;32m    747\u001b[0m \u001b[1;33m\u001b[0m\u001b[0m\n\u001b[1;32m--> 748\u001b[1;33m         self._Booster = train(\n\u001b[0m\u001b[0;32m    749\u001b[0m             \u001b[0mparams\u001b[0m\u001b[1;33m=\u001b[0m\u001b[0mparams\u001b[0m\u001b[1;33m,\u001b[0m\u001b[1;33m\u001b[0m\u001b[1;33m\u001b[0m\u001b[0m\n\u001b[0;32m    750\u001b[0m             \u001b[0mtrain_set\u001b[0m\u001b[1;33m=\u001b[0m\u001b[0mtrain_set\u001b[0m\u001b[1;33m,\u001b[0m\u001b[1;33m\u001b[0m\u001b[1;33m\u001b[0m\u001b[0m\n",
      "\u001b[1;32m~\\miniconda3\\envs\\p7\\lib\\site-packages\\lightgbm\\engine.py\u001b[0m in \u001b[0;36mtrain\u001b[1;34m(params, train_set, num_boost_round, valid_sets, valid_names, fobj, feval, init_model, feature_name, categorical_feature, early_stopping_rounds, evals_result, verbose_eval, learning_rates, keep_training_booster, callbacks)\u001b[0m\n\u001b[0;32m    290\u001b[0m                                     evaluation_result_list=None))\n\u001b[0;32m    291\u001b[0m \u001b[1;33m\u001b[0m\u001b[0m\n\u001b[1;32m--> 292\u001b[1;33m         \u001b[0mbooster\u001b[0m\u001b[1;33m.\u001b[0m\u001b[0mupdate\u001b[0m\u001b[1;33m(\u001b[0m\u001b[0mfobj\u001b[0m\u001b[1;33m=\u001b[0m\u001b[0mfobj\u001b[0m\u001b[1;33m)\u001b[0m\u001b[1;33m\u001b[0m\u001b[1;33m\u001b[0m\u001b[0m\n\u001b[0m\u001b[0;32m    293\u001b[0m \u001b[1;33m\u001b[0m\u001b[0m\n\u001b[0;32m    294\u001b[0m         \u001b[0mevaluation_result_list\u001b[0m \u001b[1;33m=\u001b[0m \u001b[1;33m[\u001b[0m\u001b[1;33m]\u001b[0m\u001b[1;33m\u001b[0m\u001b[1;33m\u001b[0m\u001b[0m\n",
      "\u001b[1;32m~\\miniconda3\\envs\\p7\\lib\\site-packages\\lightgbm\\basic.py\u001b[0m in \u001b[0;36mupdate\u001b[1;34m(self, train_set, fobj)\u001b[0m\n\u001b[0;32m   3019\u001b[0m             \u001b[1;32mif\u001b[0m \u001b[0mself\u001b[0m\u001b[1;33m.\u001b[0m\u001b[0m__set_objective_to_none\u001b[0m\u001b[1;33m:\u001b[0m\u001b[1;33m\u001b[0m\u001b[1;33m\u001b[0m\u001b[0m\n\u001b[0;32m   3020\u001b[0m                 \u001b[1;32mraise\u001b[0m \u001b[0mLightGBMError\u001b[0m\u001b[1;33m(\u001b[0m\u001b[1;34m'Cannot update due to null objective function.'\u001b[0m\u001b[1;33m)\u001b[0m\u001b[1;33m\u001b[0m\u001b[1;33m\u001b[0m\u001b[0m\n\u001b[1;32m-> 3021\u001b[1;33m             _safe_call(_LIB.LGBM_BoosterUpdateOneIter(\n\u001b[0m\u001b[0;32m   3022\u001b[0m                 \u001b[0mself\u001b[0m\u001b[1;33m.\u001b[0m\u001b[0mhandle\u001b[0m\u001b[1;33m,\u001b[0m\u001b[1;33m\u001b[0m\u001b[1;33m\u001b[0m\u001b[0m\n\u001b[0;32m   3023\u001b[0m                 ctypes.byref(is_finished)))\n",
      "\u001b[1;31mKeyboardInterrupt\u001b[0m: "
     ]
    }
   ],
   "source": [
    "# Initialize trials object\n",
    "trials = Trials()\n",
    "\n",
    "best = fmin(\n",
    "    fn=fmin_objective,\n",
    "    space=space_params, \n",
    "    algo=tpe.suggest, \n",
    "    max_evals=100, \n",
    "    trials=trials\n",
    ")"
   ]
  },
  {
   "cell_type": "markdown",
   "id": "eb26f496-8400-4efd-bae5-9298bd7d7cd8",
   "metadata": {
    "tags": []
   },
   "source": [
    "<div style=\"background-color: #506AB9;\" >\n",
    "    <h4 style=\"margin: auto; padding: 20px; color:#fff; \">3.3.1. The best parameters</h4>\n",
    "</div>"
   ]
  },
  {
   "cell_type": "markdown",
   "id": "e5918cdb-5493-401e-8663-0441de3f5e0d",
   "metadata": {
    "tags": []
   },
   "source": [
    "<div class=\"alert alert-block alert-success\">\n",
    "    <p>Let's print the best parameters</p>\n",
    "</div>"
   ]
  },
  {
   "cell_type": "code",
   "execution_count": null,
   "id": "6121a06c-c039-4b7b-b1ed-886228b5355a",
   "metadata": {},
   "outputs": [],
   "source": [
    "print(\"Best: {}\".format(best))"
   ]
  },
  {
   "cell_type": "markdown",
   "id": "c8d418b7-879a-4438-b1c8-ae349a3f34db",
   "metadata": {
    "tags": []
   },
   "source": [
    "<div style=\"background-color: #506AB9;\" >\n",
    "    <h3 style=\"margin: auto; padding: 20px; color:#fff; \">3.4. Final model</h3>\n",
    "</div>"
   ]
  },
  {
   "cell_type": "markdown",
   "id": "ea0db824-6513-4895-92fb-83a9cdca8abb",
   "metadata": {
    "tags": []
   },
   "source": [
    "<div class=\"alert alert-block alert-info\">\n",
    "    <p>Now, we are going to execute our model based on the best parameters</p>\n",
    "</div>"
   ]
  },
  {
   "cell_type": "code",
   "execution_count": 63,
   "id": "d201670c-db81-40e1-9aae-64124b79d8f0",
   "metadata": {},
   "outputs": [],
   "source": [
    "# Formatting columns name\n",
    "df_resampled = df_resampled.rename(columns=lambda x:re.sub(\"[^A-Za-z0-9_]+\", \"\", x))\n",
    "df_lgbm = df_resampled.copy()\n",
    "    \n",
    "scaler = StandardScaler()\n",
    "    \n",
    "# Divide in training/validation and test data\n",
    "train_df = df_lgbm[df_lgbm[\"TARGET\"].notnull()]\n",
    "test_df = df_lgbm[df_lgbm[\"TARGET\"].isnull()]\n",
    "del df_lgbm\n",
    "gc.collect()\n",
    "\n",
    "# Create arrays and dataframes to store results\n",
    "oof_preds = np.zeros(train_df.shape[0])\n",
    "feature_importance_df = pd.DataFrame()"
   ]
  },
  {
   "cell_type": "markdown",
   "id": "7381c79f-2a58-4c31-9ba9-7e71b1cc71d4",
   "metadata": {
    "tags": []
   },
   "source": [
    "<div class=\"alert alert-block alert-info\">\n",
    "    <p>Splitting and scale the data</p>\n",
    "</div>"
   ]
  },
  {
   "cell_type": "code",
   "execution_count": 64,
   "id": "3cd338bb-022b-4f8a-86c7-538195ff9de8",
   "metadata": {},
   "outputs": [],
   "source": [
    "# Split dataset to train\n",
    "X = train_df.drop(columns=[\"TARGET\", \"SK_ID_CURR\"])\n",
    "y_target = train_df.loc[:, \"TARGET\"]\n",
    "\n",
    "X_train, X_test, y_train, y_test = train_test_split(X, y_target, test_size=0.33, random_state=42)\n",
    "\n",
    "X_train_scaled = scaler.fit_transform(X_train)\n",
    "X_test_scaled = scaler.fit_transform(X_test)"
   ]
  },
  {
   "cell_type": "markdown",
   "id": "32d4b483-77f9-4896-a6e7-92f94d9db775",
   "metadata": {
    "tags": []
   },
   "source": [
    "<div class=\"alert alert-block alert-info\">\n",
    "    <p>Initializing the model</p>\n",
    "</div>"
   ]
  },
  {
   "cell_type": "code",
   "execution_count": 65,
   "id": "cbaded4b-673c-42dc-8638-515211c94398",
   "metadata": {},
   "outputs": [],
   "source": [
    "# LightGBM parameters found by Bayesian optimization\n",
    "clf = LGBMClassifier(\n",
    "    #n_estimators=N_ESTIMATORS[best.get(\"n_estimators\")],\n",
    "    #learning_rate=best.get(\"learning_rate\"),\n",
    "    #num_leaves=NUM_LEAVES[best.get(\"num_leaves\")],\n",
    "    #max_depth=MAX_DEPTH[best.get(\"max_depth\")],\n",
    "    #reg_alpha=best.get(\"reg_alpha\"),\n",
    "    #reg_lambda=best.get(\"reg_lambda\"),\n",
    "    #min_split_gain=best.get(\"min_split_gain\"),\n",
    "    #min_child_weight=best.get(\"min_child_weight\"),\n",
    "    n_estimators=8000,\n",
    "    learning_rate=0.0029945769814338657,\n",
    "    num_leaves=34,\n",
    "    max_depth=7,\n",
    "    reg_alpha=0.05035988378983526,\n",
    "    reg_lambda=0.07374403233913371,\n",
    "    min_split_gain=0.0234204135996409,\n",
    "    min_child_weight=46.367427751310345,\n",
    "    colsample_bytree=0.8, \n",
    "    subsample=0.8,\n",
    "    is_unbalance=False,\n",
    "    n_jobs=-1 \n",
    ")"
   ]
  },
  {
   "cell_type": "markdown",
   "id": "2d89339f-dc01-461d-8bee-ae08ee2e0f4a",
   "metadata": {
    "tags": []
   },
   "source": [
    "<div class=\"alert alert-block alert-info\">\n",
    "    <p>Fitting the model</p>\n",
    "</div>"
   ]
  },
  {
   "cell_type": "code",
   "execution_count": 66,
   "id": "89022adc-02fd-40df-ae3a-b10211566fce",
   "metadata": {},
   "outputs": [
    {
     "name": "stdout",
     "output_type": "stream",
     "text": [
      "Training until validation scores don't improve for 200 rounds\n",
      "Early stopping, best iteration is:\n",
      "[1179]\ttraining's auc: 0.989851\ttraining's binary_logloss: 0.173399\tvalid_1's auc: 0.973545\tvalid_1's binary_logloss: 0.367602\n"
     ]
    },
    {
     "data": {
      "text/plain": [
       "LGBMClassifier(colsample_bytree=0.8, is_unbalance=False,\n",
       "               learning_rate=0.0029945769814338657, max_depth=7,\n",
       "               min_child_weight=46.367427751310345,\n",
       "               min_split_gain=0.0234204135996409, n_estimators=8000,\n",
       "               num_leaves=34, reg_alpha=0.05035988378983526,\n",
       "               reg_lambda=0.07374403233913371, subsample=0.8)"
      ]
     },
     "execution_count": 66,
     "metadata": {},
     "output_type": "execute_result"
    }
   ],
   "source": [
    "evaluation = [(X_train_scaled, y_train), (X_test_scaled, y_test)]\n",
    "\n",
    "clf.fit(X_train_scaled, y_train, eval_set=evaluation, eval_metric=\"auc\",\n",
    "        callbacks=[lgb.early_stopping(stopping_rounds=200),\n",
    "                  lgb.log_evaluation(period=-1)])"
   ]
  },
  {
   "cell_type": "markdown",
   "id": "c2ff0638-1038-4596-bffc-4ff0c2ccd444",
   "metadata": {
    "tags": []
   },
   "source": [
    "<div class=\"alert alert-block alert-info\">\n",
    "    <p>Metrics</p>\n",
    "</div>"
   ]
  },
  {
   "cell_type": "code",
   "execution_count": 71,
   "id": "b709deee-1c39-471f-bd10-0bc511bdd4eb",
   "metadata": {},
   "outputs": [
    {
     "name": "stdout",
     "output_type": "stream",
     "text": [
      ">> ROC-AUC Score 0.973545\n",
      ">> Custom Score 0.940908\n",
      "\n"
     ]
    },
    {
     "data": {
      "image/png": "[encoded data removed]",
      "text/plain": [
       "<Figure size 432x288 with 1 Axes>"
      ]
     },
     "metadata": {
      "needs_background": "light"
     },
     "output_type": "display_data"
    }
   ],
   "source": [
    "oof_preds = clf.predict_proba(X_test_scaled, num_iteration=clf.best_iteration_)[:, 1]\n",
    "y_pred = clf.predict(X_test_scaled)\n",
    "\n",
    "#del clf, train_x, train_x_scaled, train_y, valid_x, valid_x_scaled, valid_y\n",
    "gc.collect()\n",
    "    \n",
    "auc = roc_auc_score(y_test, oof_preds)\n",
    "print(\">> ROC-AUC Score %.6f\" % auc )\n",
    "\n",
    "cs = custom_score(y_test, oof_preds)\n",
    "print(\">> Custom Score %.6f\\n\" % cs )\n",
    "\n",
    "# Plotting the Precision-Recall curve\n",
    "display = PrecisionRecallDisplay.from_predictions(y_test.ravel(), oof_preds.ravel(), name=\"LGBMClassifier\")\n",
    "_ = display.ax_.set_title(\"2-class Precision-Recall curve\")"
   ]
  },
  {
   "cell_type": "markdown",
   "id": "44c9d9e0-f8f9-4198-87fd-f8623596d48a",
   "metadata": {
    "tags": []
   },
   "source": [
    "<div class=\"alert alert-block alert-danger\">\n",
    "    <h2>>>>>>>>> FLAG &lt;&lt;&lt;&lt;&lt;&lt;&lt;&lt; </h2>\n",
    "</div>"
   ]
  },
  {
   "cell_type": "code",
   "execution_count": null,
   "id": "ce231a81-479a-4545-b503-ed300385ba5c",
   "metadata": {
    "tags": []
   },
   "outputs": [],
   "source": [
    "raise SystemExit(\"Stop right there!\")"
   ]
  },
  {
   "cell_type": "code",
   "execution_count": null,
   "id": "496691fe-b672-429a-8a20-22eb79c39ace",
   "metadata": {},
   "outputs": [],
   "source": []
  },
  {
   "cell_type": "code",
   "execution_count": null,
   "id": "5edf8b60-3b7d-4a17-9f51-8974d21deca6",
   "metadata": {},
   "outputs": [],
   "source": [
    "ConfusionMatrixDisplay.from_predictions or ConfusionMatrixDisplay.from_estimator."
   ]
  },
  {
   "cell_type": "code",
   "execution_count": 76,
   "id": "31391ccb-4641-40f7-a740-0c38c5098aa8",
   "metadata": {},
   "outputs": [
    {
     "data": {
      "text/plain": [
       "(18450, 797)"
      ]
     },
     "execution_count": 76,
     "metadata": {},
     "output_type": "execute_result"
    }
   ],
   "source": [
    "df_resampled.shape"
   ]
  },
  {
   "cell_type": "code",
   "execution_count": 75,
   "id": "1e4b7a88-9601-4f4d-8973-9dc1af54ca58",
   "metadata": {},
   "outputs": [
    {
     "data": {
      "image/png": "[encoded data removed]",
      "text/plain": [
       "<Figure size 432x288 with 2 Axes>"
      ]
     },
     "metadata": {
      "needs_background": "light"
     },
     "output_type": "display_data"
    }
   ],
   "source": [
    "display = ConfusionMatrixDisplay.from_predictions(y_test, y_pred)\n",
    "_ = display.ax_.set_title(\"Confusion matrix\")"
   ]
  },
  {
   "cell_type": "markdown",
   "id": "677db037-e43e-4410-bcf2-de1713e7af62",
   "metadata": {
    "tags": []
   },
   "source": [
    "<div style=\"background-color: #506AB9;\" >\n",
    "    <h3 style=\"margin: auto; padding: 20px; color:#fff; \">3.5. Final re-training</h3>\n",
    "</div>"
   ]
  },
  {
   "cell_type": "markdown",
   "id": "076ff9c2-8e39-42d4-8097-ec98939805b1",
   "metadata": {
    "tags": []
   },
   "source": [
    "<div class=\"alert alert-block alert-info\">\n",
    "    <p>First, we are going to free some memory</p>\n",
    "</div>"
   ]
  },
  {
   "cell_type": "code",
   "execution_count": null,
   "id": "c8960fde-5335-4e9f-bbe5-57b705583fbc",
   "metadata": {},
   "outputs": [],
   "source": [
    "del X_train_scaled, X_train, X_test_scaled, X_test\n",
    "gc.collect()"
   ]
  },
  {
   "cell_type": "markdown",
   "id": "9a110d02-c425-4524-9c55-d4267e5bfa3e",
   "metadata": {
    "tags": []
   },
   "source": [
    "<div class=\"alert alert-block alert-info\">\n",
    "    <p>Scaling the data</p>\n",
    "</div>"
   ]
  },
  {
   "cell_type": "code",
   "execution_count": 80,
   "id": "1db1de37-f3cb-463b-98a1-db216485148a",
   "metadata": {},
   "outputs": [],
   "source": [
    "X_scaled = scaler.fit_transform(X)"
   ]
  },
  {
   "cell_type": "code",
   "execution_count": 81,
   "id": "2fabefb6-b85f-4e6d-9254-b9ac68313183",
   "metadata": {},
   "outputs": [
    {
     "data": {
      "text/plain": [
       "LGBMClassifier(colsample_bytree=0.8, is_unbalance=False,\n",
       "               learning_rate=0.0029945769814338657, max_depth=7,\n",
       "               min_child_weight=46.367427751310345,\n",
       "               min_split_gain=0.0234204135996409, n_estimators=8000,\n",
       "               num_leaves=34, reg_alpha=0.05035988378983526,\n",
       "               reg_lambda=0.07374403233913371, subsample=0.8)"
      ]
     },
     "execution_count": 81,
     "metadata": {},
     "output_type": "execute_result"
    }
   ],
   "source": [
    "clf.fit(X_scaled, y_target)"
   ]
  },
  {
   "cell_type": "code",
   "execution_count": 88,
   "id": "affc59b2-f588-4f95-856d-0450c719ceaa",
   "metadata": {},
   "outputs": [
    {
     "data": {
      "text/plain": [
       "['models/model_1.0.2.pkl']"
      ]
     },
     "execution_count": 88,
     "metadata": {},
     "output_type": "execute_result"
    }
   ],
   "source": [
    "# Save the models for GHG and SiteEnergyUse as pickle files\n",
    "joblib.dump(clf, \"models/model_{version}.pkl\".format(version=sklearn.__version__))"
   ]
  },
  {
   "cell_type": "code",
   "execution_count": null,
   "id": "a2a85aa7-712d-4f76-af73-994268154ca5",
   "metadata": {},
   "outputs": [],
   "source": [
    "# Get scikit-learn version\n",
    "scikit_version = sklearn.__version__\n",
    "\n",
    "# Save the models for GHG and SiteEnergyUse as pickle files\n",
    "joblib.dump(pipe, \"models/model_{version}.pkl\".format(version=scikit_version))"
   ]
  },
  {
   "cell_type": "code",
   "execution_count": null,
   "id": "5aae1628-f632-4e96-86d7-e7a21826aeb4",
   "metadata": {},
   "outputs": [],
   "source": []
  },
  {
   "cell_type": "markdown",
   "id": "727d06ed-75cd-4258-ba63-34f2bfcfd0b3",
   "metadata": {
    "tags": []
   },
   "source": [
    "<div class=\"alert alert-block alert-danger\">\n",
    "    <h2>>>>>>>>> BACKUP &lt;&lt;&lt;&lt;&lt;&lt;&lt;&lt; </h2>\n",
    "</div>"
   ]
  },
  {
   "cell_type": "markdown",
   "id": "ad281d54-31ee-4972-b560-14ddba620b2f",
   "metadata": {
    "tags": []
   },
   "source": [
    "<div style=\"background-color: #506AB9;\" >\n",
    "    <h3 style=\"margin: auto; padding: 20px; color:#fff; \">3.4. Final model</h3>\n",
    "</div>"
   ]
  },
  {
   "cell_type": "markdown",
   "id": "5d80b2f0-469e-4820-bd6c-bb15461c6b0d",
   "metadata": {
    "tags": []
   },
   "source": [
    "<div class=\"alert alert-block alert-info\">\n",
    "    <p>Finally, we can execute the model based on the best parameters.</p>\n",
    "</div>"
   ]
  },
  {
   "cell_type": "code",
   "execution_count": null,
   "id": "68eec375-9163-4fe8-ab56-2bc9376a9118",
   "metadata": {},
   "outputs": [],
   "source": [
    "def final_model(best_parameters, df, imbalanced, n_splits, graph):\n",
    "    \"\"\"\n",
    "    Method used to analyze on the DataFrame.\n",
    "\n",
    "    Parameters:\n",
    "    -----------------\n",
    "        space_params (dict): Parameters to optimize the model\n",
    "        df (pandas.DataFrame): Dataset to treat\n",
    "        imbalanced (boolean): Define whether dataset is unbalanced\n",
    "        n_splits (int): To split data in train test sets\n",
    "        graph (boolean): Flag to plot or not\n",
    "\n",
    "    Returns:\n",
    "    -----------------\n",
    "        Loss and STATUS.\n",
    "    \"\"\"\n",
    "    \n",
    "    # Formatting columns name\n",
    "    df = df.rename(columns=lambda x:re.sub(\"[^A-Za-z0-9_]+\", \"\", x))\n",
    "    df_lgbm = df.copy()\n",
    "    \n",
    "    scaler = StandardScaler()\n",
    "    \n",
    "    # Divide in training/validation and test data\n",
    "    train_df = df_lgbm[df_lgbm[\"TARGET\"].notnull()]\n",
    "    test_df = df_lgbm[df_lgbm[\"TARGET\"].isnull()]\n",
    "    del df_lgbm\n",
    "    gc.collect()\n",
    "    \n",
    "    # Cross validation model\n",
    "    folds = KFold(n_splits=n_splits, shuffle=True, random_state=42)\n",
    "    \n",
    "    # Create arrays and dataframes to store results\n",
    "    oof_preds = np.zeros(train_df.shape[0])\n",
    "    #sub_preds = np.zeros(test_df.shape[0])\n",
    "    feature_importance_df = pd.DataFrame()\n",
    "    feats = [f for f in train_df.columns if f not in [\"TARGET\", \"SK_ID_CURR\", \"SK_ID_BUREAU\", \"SK_ID_PREV\"]]\n",
    "    \n",
    "    for n_fold, (train_idx, valid_idx) in enumerate(folds.split(train_df[feats], train_df[\"TARGET\"])):\n",
    "        \n",
    "        print(\"\\n\")\n",
    "        \n",
    "        train_x, train_y = train_df[feats].iloc[train_idx], train_df[\"TARGET\"].iloc[train_idx]\n",
    "        valid_x, valid_y = train_df[feats].iloc[valid_idx], train_df[\"TARGET\"].iloc[valid_idx]\n",
    "    \n",
    "        train_x_scaled = scaler.fit_transform(train_x)\n",
    "        valid_x_scaled = scaler.fit_transform(valid_x)\n",
    "        \n",
    "        # LightGBM parameters found by Bayesian optimization\n",
    "        clf = LGBMClassifier(\n",
    "            n_estimators=8000,\n",
    "            learning_rate=0.0029945769814338657,\n",
    "            num_leaves=34,\n",
    "            max_depth=7,\n",
    "            reg_alpha=0.05035988378983526,\n",
    "            reg_lambda=0.07374403233913371,\n",
    "            min_split_gain=0.0234204135996409,\n",
    "            min_child_weight=46.367427751310345,\n",
    "            colsample_bytree=0.8, \n",
    "            subsample=0.8,\n",
    "            is_unbalance=imbalanced,\n",
    "            n_jobs=-1 \n",
    "        )\n",
    "        \n",
    "        evaluation = [(train_x_scaled, train_y), (valid_x_scaled, valid_y)]\n",
    "        \n",
    "        clf.fit(train_x_scaled, train_y, eval_set=evaluation, eval_metric=\"auc\",\n",
    "                callbacks=[lgb.early_stopping(stopping_rounds=200),\n",
    "                          lgb.log_evaluation(period=-1)])\n",
    "        \n",
    "        oof_preds[valid_idx] = clf.predict_proba(valid_x_scaled, num_iteration=clf.best_iteration_)[:, 1]\n",
    "\n",
    "        fold_importance_df = pd.DataFrame()\n",
    "        fold_importance_df[\"feature\"] = feats\n",
    "        fold_importance_df[\"importance\"] = clf.feature_importances_\n",
    "        fold_importance_df[\"fold\"] = n_fold + 1\n",
    "        feature_importance_df = pd.concat([feature_importance_df, fold_importance_df], axis=0)\n",
    "        print('Fold %2d AUC : %.6f' % (n_fold + 1, roc_auc_score(valid_y, oof_preds[valid_idx])))\n",
    "        \n",
    "        \n",
    "        \n",
    "        #from sklearn.metrics import plot_confusion_matrix\n",
    "        #plot_confusion_matrix(clf, train_df[\"TARGET\"], oof_preds)  \n",
    "        #plt.show()\n",
    "        \n",
    "        \n",
    "        \n",
    "        \n",
    "        del clf, train_x, train_x_scaled, train_y, valid_x, valid_x_scaled, valid_y\n",
    "        gc.collect()\n",
    "    \n",
    "    auc = roc_auc_score(train_df[\"TARGET\"], oof_preds)\n",
    "    print(\">> ROC-AUC Score %.6f\" % auc )\n",
    "    \n",
    "    cs = custom_score(train_df[\"TARGET\"], oof_preds)\n",
    "    print(\">> Custom Score %.6f\\n\" % cs )\n",
    "    \n",
    "    #if not imbalanced and graph:\n",
    "        \n",
    "        #from sklearn.metrics import PrecisionRecallDisplay\n",
    "        #display = PrecisionRecallDisplay.from_predictions(train_df[\"TARGET\"].ravel(), oof_preds.ravel(), name=\"LinearSVC\")\n",
    "        #_ = display.ax_.set_title(\"2-class Precision-Recall curve\")\n",
    "\n",
    "    from sklearn.metrics import PrecisionRecallDisplay\n",
    "    display = PrecisionRecallDisplay.from_predictions(train_df[\"TARGET\"].ravel(), oof_preds.ravel(), name=\"LinearSVC\")\n",
    "    _ = display.ax_.set_title(\"2-class Precision-Recall curve\")\n",
    "        \n",
    "    return feature_importance_df"
   ]
  },
  {
   "cell_type": "code",
   "execution_count": null,
   "id": "cf0ae6ea-1440-447e-8fc8-29f39a0499aa",
   "metadata": {},
   "outputs": [],
   "source": [
    "feat_importance = final_model(best, df=df_resampled, imbalanced=False, n_splits=2, graph=True)"
   ]
  },
  {
   "cell_type": "code",
   "execution_count": null,
   "id": "3d7a7769-2379-46e3-89de-77c2081ab980",
   "metadata": {},
   "outputs": [],
   "source": [
    "# Display/plot feature importance\n",
    "def display_importances(feature_importance_df_):\n",
    "    cols = feature_importance_df_[[\"feature\", \"importance\"]].groupby(\"feature\").mean().sort_values(by=\"importance\", ascending=False)[:40].index\n",
    "    best_features = feature_importance_df_.loc[feature_importance_df_.feature.isin(cols)]\n",
    "    plt.figure(figsize=(12, 10))\n",
    "    sns.barplot(x=\"importance\", y=\"feature\", data=best_features.sort_values(by=\"importance\", ascending=False))\n",
    "    plt.title('LightGBM Features (avg over folds)')\n",
    "    plt.tight_layout()\n",
    "    plt.show()"
   ]
  },
  {
   "cell_type": "code",
   "execution_count": null,
   "id": "e55e2cf6-2286-40f2-8816-aabfd1f3a408",
   "metadata": {},
   "outputs": [],
   "source": [
    "display_importances(feat_importance)"
   ]
  },
  {
   "cell_type": "code",
   "execution_count": null,
   "id": "4988aa93-016a-4a8e-919c-313230065ce8",
   "metadata": {},
   "outputs": [],
   "source": []
  },
  {
   "cell_type": "code",
   "execution_count": null,
   "id": "8e01c6c0-af99-4e8e-83df-f8b11e0bfc29",
   "metadata": {},
   "outputs": [],
   "source": []
  },
  {
   "cell_type": "code",
   "execution_count": null,
   "id": "606c77b5-bd2a-4c53-9cb3-af36c013e1b7",
   "metadata": {},
   "outputs": [],
   "source": []
  },
  {
   "cell_type": "code",
   "execution_count": null,
   "id": "362ba754-8bf1-4b14-aa1a-cde1895a80a6",
   "metadata": {},
   "outputs": [],
   "source": []
  },
  {
   "cell_type": "markdown",
   "id": "709e59b9-2ff1-4df7-ab1e-08736cc26f8d",
   "metadata": {
    "tags": []
   },
   "source": [
    "<div class=\"alert alert-block alert-danger\">\n",
    "    <h2>>>>>>>>> FLAG &lt;&lt;&lt;&lt;&lt;&lt;&lt;&lt; </h2>\n",
    "</div>"
   ]
  },
  {
   "cell_type": "code",
   "execution_count": null,
   "id": "e5352672-203e-48c9-8dfd-390860a3c5cb",
   "metadata": {
    "tags": []
   },
   "outputs": [],
   "source": [
    "raise SystemExit(\"Stop right there!\")"
   ]
  },
  {
   "cell_type": "markdown",
   "id": "6dd98e13-43d0-4ab0-81bd-e804ae4394b2",
   "metadata": {
    "tags": []
   },
   "source": [
    "<div class=\"alert alert-block alert-danger\">\n",
    "    <h2>>>>>>>>> FLAG &lt;&lt;&lt;&lt;&lt;&lt;&lt;&lt; </h2>\n",
    "</div>"
   ]
  },
  {
   "cell_type": "markdown",
   "id": "ea2df3c1-308b-4fa2-a5e8-06a8b6fcad93",
   "metadata": {},
   "source": [
    "https://www.analyticsvidhya.com/blog/2021/08/complete-guide-on-how-to-use-lightgbm-in-python/\n",
    "\n",
    "https://nitin9809.medium.com/lightgbm-binary-classification-multi-class-classification-regression-using-python-4f22032b36a2"
   ]
  },
  {
   "cell_type": "code",
   "execution_count": null,
   "id": "1a3ee047-5a87-4da1-9a66-834e825644d7",
   "metadata": {},
   "outputs": [],
   "source": []
  }
 ],
 "metadata": {
  "kernelspec": {
   "display_name": "Python 3 (ipykernel)",
   "language": "python",
   "name": "python3"
  },
  "language_info": {
   "codemirror_mode": {
    "name": "ipython",
    "version": 3
   },
   "file_extension": ".py",
   "mimetype": "text/x-python",
   "name": "python",
   "nbconvert_exporter": "python",
   "pygments_lexer": "ipython3",
   "version": "3.9.9"
  }
 },
 "nbformat": 4,
 "nbformat_minor": 5
}
