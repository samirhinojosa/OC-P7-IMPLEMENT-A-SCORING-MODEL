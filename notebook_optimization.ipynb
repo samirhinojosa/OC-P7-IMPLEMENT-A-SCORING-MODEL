{
 "cells": [
  {
   "cell_type": "markdown",
   "id": "c8e6a558-388d-43bc-a18f-fa2f11c91b62",
   "metadata": {
    "tags": []
   },
   "source": [
    "<div style=\"display: flex; background-color: #3F579F;\">\n",
    "    <h1 style=\"margin: auto; font-weight: bold; padding: 30px 30px 0px 30px; color:#fff;\" align=\"center\">Implement a scoring model - P7</h1>\n",
    "</div>\n",
    "<div style=\"display: flex; background-color: #3F579F; margin: auto; padding: 5px 30px 0px 30px;\" >\n",
    "    <h3 style=\"width: 100%; text-align: center; float: left; font-size: 24px; color:#fff;\" align=\"center\">| Notebook optimization |</h3>\n",
    "</div>\n",
    "<div style=\"display: flex; background-color: #3F579F; margin: auto; padding: 10px 30px 30px 30px;\">\n",
    "    <h4 style=\"width: 100%; text-align: center; float: left; font-size: 24px; color:#fff;\" align=\"center\">Data Scientist course - OpenClassrooms</h4>\n",
    "</div>"
   ]
  },
  {
   "cell_type": "markdown",
   "id": "a071f085-b566-4595-a02b-30aa8064888b",
   "metadata": {
    "tags": []
   },
   "source": [
    "<div style=\"background-color: #506AB9;\" >\n",
    "    <h2 style=\"margin: auto; padding: 20px; color:#fff; \">1. Libraries and files</h2>\n",
    "</div>"
   ]
  },
  {
   "cell_type": "markdown",
   "id": "b1409272-303e-46f2-b6a6-729a491957fa",
   "metadata": {
    "tags": []
   },
   "source": [
    "<div style=\"background-color: #506AB9;\" >\n",
    "    <h3 style=\"margin: auto; padding: 20px; color:#fff; \">1.1. Libraries</h3>\n",
    "</div>"
   ]
  },
  {
   "cell_type": "code",
   "execution_count": 1,
   "id": "d22e0155-efb4-4760-af1a-323097c5535f",
   "metadata": {},
   "outputs": [],
   "source": [
    "import re\n",
    "import numpy as np\n",
    "import pandas as pd\n",
    "from functools import partial\n",
    "\n",
    "from imblearn.over_sampling import SMOTE\n",
    "\n",
    "import lightgbm as lgb\n",
    "from lightgbm import LGBMClassifier\n",
    "\n",
    "import sklearn\n",
    "from sklearn.metrics import (roc_auc_score, roc_curve, \n",
    "                             precision_recall_curve, confusion_matrix, \n",
    "                             PrecisionRecallDisplay, ConfusionMatrixDisplay)\n",
    "from sklearn.model_selection import KFold, StratifiedKFold, train_test_split\n",
    "from sklearn.preprocessing import StandardScaler\n",
    "\n",
    "# Hyperparametrization\n",
    "from hyperopt import tpe, hp, fmin, STATUS_OK, Trials, space_eval\n",
    "from hyperopt.pyll.base import scope\n",
    "\n",
    "import joblib\n",
    "\n",
    "## Own specific functions \n",
    "from functions import *"
   ]
  },
  {
   "cell_type": "markdown",
   "id": "9bb1ffa2-35ac-4f10-9fa9-9ccfd298a666",
   "metadata": {
    "tags": []
   },
   "source": [
    "<div style=\"background-color: #506AB9;\" >\n",
    "    <h3 style=\"margin: auto; padding: 20px; color:#fff; \">1.2. Files</h3>\n",
    "</div>"
   ]
  },
  {
   "cell_type": "code",
   "execution_count": 2,
   "id": "3a80f568-509b-4a73-b15c-21641a3c45e0",
   "metadata": {
    "tags": []
   },
   "outputs": [],
   "source": [
    "df = pd.read_csv(r\"datasets\\df_processed.csv\")\n",
    "df = df.drop(columns=[\"index\"])"
   ]
  },
  {
   "cell_type": "code",
   "execution_count": 3,
   "id": "74493351-a229-425e-938f-6a5b71f5a573",
   "metadata": {},
   "outputs": [
    {
     "name": "stdout",
     "output_type": "stream",
     "text": [
      "\n",
      "Analysis Header of df dataset\n",
      "--------------------------------------------------------------------------------\n",
      "- Dataset shape:\t\t\t 356251 rows and 797 columns\n",
      "- Total of NaN values:\t\t\t 72099981\n",
      "- Percentage of NaN:\t\t\t 25.39 %\n",
      "- Total of infinite values:\t\t 21\n",
      "- Percentage of infinite values:\t 0.0 %\n",
      "- Total of full duplicates rows:\t 0\n",
      "- Total of empty rows:\t\t\t 0\n",
      "- Total of empty columns:\t\t 0\n",
      "- Unique indexes:\t\t\t True\n",
      "- Memory usage:\t\t\t\t 2.1 GB\n"
     ]
    }
   ],
   "source": [
    "df_analysis(df, \"df\", analysis_type=\"header\")"
   ]
  },
  {
   "cell_type": "markdown",
   "id": "21180556-e4ee-491b-a965-fe2d527bf30d",
   "metadata": {
    "tags": []
   },
   "source": [
    "<div class=\"alert alert-block alert-warning\">\n",
    "    <p><b>Observations / Conclusions</b></p>\n",
    "    <ul style=\"list-style-type: square;\">\n",
    "        <li><b>Missing values</b> - There are 25.39% of missing-values to treat</li>\n",
    "        <li><b>Infinite values</b> - There are 25 infinite values</li>\n",
    "    </ul> \n",
    "</div>"
   ]
  },
  {
   "cell_type": "markdown",
   "id": "245be731-490e-4a73-aa06-e1734da6f912",
   "metadata": {
    "tags": []
   },
   "source": [
    "<div style=\"background-color: #506AB9;\" >\n",
    "    <h4 style=\"margin: auto; padding: 20px; color:#fff; \">1.2.1 Optimizing memory usage</h4>\n",
    "</div>"
   ]
  },
  {
   "cell_type": "markdown",
   "id": "7199b033-4e22-44bd-9d31-aa86ad42b221",
   "metadata": {
    "tags": []
   },
   "source": [
    "<div class=\"alert alert-block alert-info\">\n",
    "    <p>We should optimize the memory usage to avoid problems during executions</p>\n",
    "</div>"
   ]
  },
  {
   "cell_type": "code",
   "execution_count": 4,
   "id": "fd3c4cc6-2c06-4747-a3cc-d0fdd4f9b16a",
   "metadata": {},
   "outputs": [],
   "source": [
    "df[\"TARGET\"].fillna(value=-99, inplace=True)\n",
    "df[\"TARGET\"] = df[\"TARGET\"].astype(\"int8\")\n",
    "df[\"TARGET\"] = df[\"TARGET\"].replace(-99, np.nan)"
   ]
  },
  {
   "cell_type": "code",
   "execution_count": 5,
   "id": "bbdf298a-6415-49e7-a04a-73127d97c5e1",
   "metadata": {},
   "outputs": [],
   "source": [
    "for col in df.columns:\n",
    "    if df[col].dtype == \"int64\" and df[col].nunique() == 2:\n",
    "        df[col] = df[col].astype(\"int8\")"
   ]
  },
  {
   "cell_type": "code",
   "execution_count": 6,
   "id": "e3bae372-a3fb-43ad-a6b3-24c589f88922",
   "metadata": {},
   "outputs": [],
   "source": [
    "for col in df.columns:\n",
    "    if df[col].dtype == \"float64\" and df[col].min() >= -2147483648 and df[col].max() <= 2147483648:\n",
    "        df[col] = df[col].astype(\"float32\")"
   ]
  },
  {
   "cell_type": "code",
   "execution_count": 7,
   "id": "4bfbce33-ea3f-4262-b87a-652787443ba2",
   "metadata": {},
   "outputs": [
    {
     "name": "stdout",
     "output_type": "stream",
     "text": [
      "\n",
      "Analysis Header of df dataset\n",
      "--------------------------------------------------------------------------------\n",
      "- Dataset shape:\t\t\t 356251 rows and 797 columns\n",
      "- Total of NaN values:\t\t\t 72099981\n",
      "- Percentage of NaN:\t\t\t 25.39 %\n",
      "- Total of infinite values:\t\t 21\n",
      "- Percentage of infinite values:\t 0.0 %\n",
      "- Total of full duplicates rows:\t 0\n",
      "- Total of empty rows:\t\t\t 0\n",
      "- Total of empty columns:\t\t 0\n",
      "- Unique indexes:\t\t\t True\n",
      "- Memory usage:\t\t\t\t 941.8 MB\n"
     ]
    }
   ],
   "source": [
    "df_analysis(df, \"df\", analysis_type=\"header\")"
   ]
  },
  {
   "cell_type": "code",
   "execution_count": 8,
   "id": "d0b51422-0f82-4622-aa77-c47fdd6ad43c",
   "metadata": {},
   "outputs": [
    {
     "data": {
      "text/html": [
       "<div>\n",
       "<style scoped>\n",
       "    .dataframe tbody tr th:only-of-type {\n",
       "        vertical-align: middle;\n",
       "    }\n",
       "\n",
       "    .dataframe tbody tr th {\n",
       "        vertical-align: top;\n",
       "    }\n",
       "\n",
       "    .dataframe thead th {\n",
       "        text-align: right;\n",
       "    }\n",
       "</style>\n",
       "<table border=\"1\" class=\"dataframe\">\n",
       "  <thead>\n",
       "    <tr style=\"text-align: right;\">\n",
       "      <th></th>\n",
       "      <th>SK_ID_CURR</th>\n",
       "      <th>TARGET</th>\n",
       "      <th>CODE_GENDER</th>\n",
       "      <th>FLAG_OWN_CAR</th>\n",
       "      <th>FLAG_OWN_REALTY</th>\n",
       "      <th>CNT_CHILDREN</th>\n",
       "      <th>AMT_INCOME_TOTAL</th>\n",
       "      <th>AMT_CREDIT</th>\n",
       "      <th>AMT_ANNUITY</th>\n",
       "      <th>AMT_GOODS_PRICE</th>\n",
       "      <th>...</th>\n",
       "      <th>CC_NAME_CONTRACT_STATUS_Signed_MAX</th>\n",
       "      <th>CC_NAME_CONTRACT_STATUS_Signed_MEAN</th>\n",
       "      <th>CC_NAME_CONTRACT_STATUS_Signed_SUM</th>\n",
       "      <th>CC_NAME_CONTRACT_STATUS_Signed_VAR</th>\n",
       "      <th>CC_NAME_CONTRACT_STATUS_nan_MIN</th>\n",
       "      <th>CC_NAME_CONTRACT_STATUS_nan_MAX</th>\n",
       "      <th>CC_NAME_CONTRACT_STATUS_nan_MEAN</th>\n",
       "      <th>CC_NAME_CONTRACT_STATUS_nan_SUM</th>\n",
       "      <th>CC_NAME_CONTRACT_STATUS_nan_VAR</th>\n",
       "      <th>CC_COUNT</th>\n",
       "    </tr>\n",
       "  </thead>\n",
       "  <tbody>\n",
       "    <tr>\n",
       "      <th>0</th>\n",
       "      <td>100002</td>\n",
       "      <td>1.0</td>\n",
       "      <td>0</td>\n",
       "      <td>0</td>\n",
       "      <td>0</td>\n",
       "      <td>0</td>\n",
       "      <td>202500.0</td>\n",
       "      <td>406597.5</td>\n",
       "      <td>24700.5</td>\n",
       "      <td>351000.0</td>\n",
       "      <td>...</td>\n",
       "      <td>NaN</td>\n",
       "      <td>NaN</td>\n",
       "      <td>NaN</td>\n",
       "      <td>NaN</td>\n",
       "      <td>NaN</td>\n",
       "      <td>NaN</td>\n",
       "      <td>NaN</td>\n",
       "      <td>NaN</td>\n",
       "      <td>NaN</td>\n",
       "      <td>NaN</td>\n",
       "    </tr>\n",
       "    <tr>\n",
       "      <th>1</th>\n",
       "      <td>100003</td>\n",
       "      <td>0.0</td>\n",
       "      <td>1</td>\n",
       "      <td>0</td>\n",
       "      <td>1</td>\n",
       "      <td>0</td>\n",
       "      <td>270000.0</td>\n",
       "      <td>1293502.5</td>\n",
       "      <td>35698.5</td>\n",
       "      <td>1129500.0</td>\n",
       "      <td>...</td>\n",
       "      <td>NaN</td>\n",
       "      <td>NaN</td>\n",
       "      <td>NaN</td>\n",
       "      <td>NaN</td>\n",
       "      <td>NaN</td>\n",
       "      <td>NaN</td>\n",
       "      <td>NaN</td>\n",
       "      <td>NaN</td>\n",
       "      <td>NaN</td>\n",
       "      <td>NaN</td>\n",
       "    </tr>\n",
       "    <tr>\n",
       "      <th>2</th>\n",
       "      <td>100004</td>\n",
       "      <td>0.0</td>\n",
       "      <td>0</td>\n",
       "      <td>1</td>\n",
       "      <td>0</td>\n",
       "      <td>0</td>\n",
       "      <td>67500.0</td>\n",
       "      <td>135000.0</td>\n",
       "      <td>6750.0</td>\n",
       "      <td>135000.0</td>\n",
       "      <td>...</td>\n",
       "      <td>NaN</td>\n",
       "      <td>NaN</td>\n",
       "      <td>NaN</td>\n",
       "      <td>NaN</td>\n",
       "      <td>NaN</td>\n",
       "      <td>NaN</td>\n",
       "      <td>NaN</td>\n",
       "      <td>NaN</td>\n",
       "      <td>NaN</td>\n",
       "      <td>NaN</td>\n",
       "    </tr>\n",
       "    <tr>\n",
       "      <th>3</th>\n",
       "      <td>100006</td>\n",
       "      <td>0.0</td>\n",
       "      <td>1</td>\n",
       "      <td>0</td>\n",
       "      <td>0</td>\n",
       "      <td>0</td>\n",
       "      <td>135000.0</td>\n",
       "      <td>312682.5</td>\n",
       "      <td>29686.5</td>\n",
       "      <td>297000.0</td>\n",
       "      <td>...</td>\n",
       "      <td>0.0</td>\n",
       "      <td>0.0</td>\n",
       "      <td>0.0</td>\n",
       "      <td>0.0</td>\n",
       "      <td>0.0</td>\n",
       "      <td>0.0</td>\n",
       "      <td>0.0</td>\n",
       "      <td>0.0</td>\n",
       "      <td>0.0</td>\n",
       "      <td>6.0</td>\n",
       "    </tr>\n",
       "    <tr>\n",
       "      <th>4</th>\n",
       "      <td>100007</td>\n",
       "      <td>0.0</td>\n",
       "      <td>0</td>\n",
       "      <td>0</td>\n",
       "      <td>0</td>\n",
       "      <td>0</td>\n",
       "      <td>121500.0</td>\n",
       "      <td>513000.0</td>\n",
       "      <td>21865.5</td>\n",
       "      <td>513000.0</td>\n",
       "      <td>...</td>\n",
       "      <td>NaN</td>\n",
       "      <td>NaN</td>\n",
       "      <td>NaN</td>\n",
       "      <td>NaN</td>\n",
       "      <td>NaN</td>\n",
       "      <td>NaN</td>\n",
       "      <td>NaN</td>\n",
       "      <td>NaN</td>\n",
       "      <td>NaN</td>\n",
       "      <td>NaN</td>\n",
       "    </tr>\n",
       "  </tbody>\n",
       "</table>\n",
       "<p>5 rows × 797 columns</p>\n",
       "</div>"
      ],
      "text/plain": [
       "   SK_ID_CURR  TARGET  CODE_GENDER  FLAG_OWN_CAR  FLAG_OWN_REALTY  \\\n",
       "0      100002     1.0            0             0                0   \n",
       "1      100003     0.0            1             0                1   \n",
       "2      100004     0.0            0             1                0   \n",
       "3      100006     0.0            1             0                0   \n",
       "4      100007     0.0            0             0                0   \n",
       "\n",
       "   CNT_CHILDREN  AMT_INCOME_TOTAL  AMT_CREDIT  AMT_ANNUITY  AMT_GOODS_PRICE  \\\n",
       "0             0          202500.0    406597.5      24700.5         351000.0   \n",
       "1             0          270000.0   1293502.5      35698.5        1129500.0   \n",
       "2             0           67500.0    135000.0       6750.0         135000.0   \n",
       "3             0          135000.0    312682.5      29686.5         297000.0   \n",
       "4             0          121500.0    513000.0      21865.5         513000.0   \n",
       "\n",
       "   ...  CC_NAME_CONTRACT_STATUS_Signed_MAX  \\\n",
       "0  ...                                 NaN   \n",
       "1  ...                                 NaN   \n",
       "2  ...                                 NaN   \n",
       "3  ...                                 0.0   \n",
       "4  ...                                 NaN   \n",
       "\n",
       "   CC_NAME_CONTRACT_STATUS_Signed_MEAN  CC_NAME_CONTRACT_STATUS_Signed_SUM  \\\n",
       "0                                  NaN                                 NaN   \n",
       "1                                  NaN                                 NaN   \n",
       "2                                  NaN                                 NaN   \n",
       "3                                  0.0                                 0.0   \n",
       "4                                  NaN                                 NaN   \n",
       "\n",
       "   CC_NAME_CONTRACT_STATUS_Signed_VAR  CC_NAME_CONTRACT_STATUS_nan_MIN  \\\n",
       "0                                 NaN                              NaN   \n",
       "1                                 NaN                              NaN   \n",
       "2                                 NaN                              NaN   \n",
       "3                                 0.0                              0.0   \n",
       "4                                 NaN                              NaN   \n",
       "\n",
       "   CC_NAME_CONTRACT_STATUS_nan_MAX  CC_NAME_CONTRACT_STATUS_nan_MEAN  \\\n",
       "0                              NaN                               NaN   \n",
       "1                              NaN                               NaN   \n",
       "2                              NaN                               NaN   \n",
       "3                              0.0                               0.0   \n",
       "4                              NaN                               NaN   \n",
       "\n",
       "   CC_NAME_CONTRACT_STATUS_nan_SUM  CC_NAME_CONTRACT_STATUS_nan_VAR  CC_COUNT  \n",
       "0                              NaN                              NaN       NaN  \n",
       "1                              NaN                              NaN       NaN  \n",
       "2                              NaN                              NaN       NaN  \n",
       "3                              0.0                              0.0       6.0  \n",
       "4                              NaN                              NaN       NaN  \n",
       "\n",
       "[5 rows x 797 columns]"
      ]
     },
     "execution_count": 8,
     "metadata": {},
     "output_type": "execute_result"
    }
   ],
   "source": [
    "df.head()"
   ]
  },
  {
   "cell_type": "code",
   "execution_count": 9,
   "id": "4c976361-d20b-4524-8e90-1216ea16d730",
   "metadata": {},
   "outputs": [
    {
     "data": {
      "text/plain": [
       "[]"
      ]
     },
     "execution_count": 9,
     "metadata": {},
     "output_type": "execute_result"
    }
   ],
   "source": [
    "df.select_dtypes(include=[\"object\"]).columns.tolist()"
   ]
  },
  {
   "cell_type": "markdown",
   "id": "3c1d9b87-1c33-4b34-bc51-bd03eead474a",
   "metadata": {
    "tags": []
   },
   "source": [
    "<div class=\"alert alert-block alert-warning\">\n",
    "    <p><b>Observations / Conclusions</b></p>\n",
    "    <ul style=\"list-style-type: square;\">\n",
    "        <li><b>Columns type</b> - All columns are numerics</li>\n",
    "    </ul> \n",
    "</div>"
   ]
  },
  {
   "cell_type": "markdown",
   "id": "151a589c-007e-45c4-8f30-a08abe6d9c0c",
   "metadata": {
    "tags": []
   },
   "source": [
    "<div style=\"background-color: #506AB9;\" >\n",
    "    <h4 style=\"margin: auto; padding: 20px; color:#fff; \">1.2.2. Missing-values</h4>\n",
    "</div>"
   ]
  },
  {
   "cell_type": "markdown",
   "id": "98c5ddd5-d467-4ba6-aae4-628c2f5e4da6",
   "metadata": {},
   "source": [
    "<div class=\"alert alert-block alert-info\">\n",
    "    <p>Before treating the class imbalance in the target, it is necessary to treat the missing-values in all the dataset, to do that, we are going to fill values with SimpleImputer\n",
    "   </p>\n",
    "    <p>Let's start by identifying the features with infinite-values and replace them by missing-values\n",
    "   </p>\n",
    "</div>\n",
    "</div>"
   ]
  },
  {
   "cell_type": "code",
   "execution_count": 10,
   "id": "28242a16-c849-47cd-8112-9c70f3867feb",
   "metadata": {},
   "outputs": [],
   "source": [
    "inf_cols = df.columns.to_series()[np.isinf(df).any()]"
   ]
  },
  {
   "cell_type": "code",
   "execution_count": 11,
   "id": "7c75fa23-35c2-46c9-b696-7cc4ce6b09f0",
   "metadata": {},
   "outputs": [],
   "source": [
    "for col in inf_cols:\n",
    "    df[col] = df[col].replace([np.inf, -np.inf], np.nan)"
   ]
  },
  {
   "cell_type": "code",
   "execution_count": 12,
   "id": "a24dcacd-7890-455a-b0c4-8412e5bacd87",
   "metadata": {},
   "outputs": [
    {
     "name": "stdout",
     "output_type": "stream",
     "text": [
      "\n",
      "Analysis Header of df dataset\n",
      "--------------------------------------------------------------------------------\n",
      "- Dataset shape:\t\t\t 356251 rows and 797 columns\n",
      "- Total of NaN values:\t\t\t 72100002\n",
      "- Percentage of NaN:\t\t\t 25.39 %\n",
      "- Total of infinite values:\t\t 0\n",
      "- Percentage of infinite values:\t 0.0 %\n",
      "- Total of full duplicates rows:\t 0\n",
      "- Total of empty rows:\t\t\t 0\n",
      "- Total of empty columns:\t\t 0\n",
      "- Unique indexes:\t\t\t True\n",
      "- Memory usage:\t\t\t\t 941.8 MB\n"
     ]
    }
   ],
   "source": [
    "df_analysis(df, \"df\", analysis_type=\"header\")"
   ]
  },
  {
   "cell_type": "markdown",
   "id": "cb5aaa67-c37d-4f58-9134-0c7c4f3e87c2",
   "metadata": {},
   "source": [
    "<div class=\"alert alert-block alert-info\">\n",
    "    <p>Let's continue by identifying the features with missing-values and excluding the TARGET\n",
    "   </p>\n",
    "</div>\n",
    "</div>"
   ]
  },
  {
   "cell_type": "code",
   "execution_count": 13,
   "id": "7ff4cd72-ecae-4c69-af5e-0fe411beb586",
   "metadata": {},
   "outputs": [],
   "source": [
    "nan_cols = [i for i in df.columns if i!=\"TARGET\" and df[i].isnull().any()]"
   ]
  },
  {
   "cell_type": "code",
   "execution_count": 14,
   "id": "7bef3993-9920-4c26-bff9-0ccfbee30a13",
   "metadata": {},
   "outputs": [],
   "source": [
    "for col in nan_cols:\n",
    "    mean_value = df[col].mean()\n",
    "    df[col].fillna(value=mean_value, inplace=True)"
   ]
  },
  {
   "cell_type": "code",
   "execution_count": 15,
   "id": "e464dfbf-f109-4d7e-961b-fc265d3f4b1b",
   "metadata": {},
   "outputs": [
    {
     "name": "stdout",
     "output_type": "stream",
     "text": [
      "\n",
      "Analysis Header of df dataset\n",
      "--------------------------------------------------------------------------------\n",
      "- Dataset shape:\t\t\t 356251 rows and 797 columns\n",
      "- Total of NaN values:\t\t\t 48744\n",
      "- Percentage of NaN:\t\t\t 0.02 %\n",
      "- Total of infinite values:\t\t 0\n",
      "- Percentage of infinite values:\t 0.0 %\n",
      "- Total of full duplicates rows:\t 0\n",
      "- Total of empty rows:\t\t\t 0\n",
      "- Total of empty columns:\t\t 0\n",
      "- Unique indexes:\t\t\t True\n",
      "- Memory usage:\t\t\t\t 941.8 MB\n"
     ]
    }
   ],
   "source": [
    "df_analysis(df, \"df\", analysis_type=\"header\")"
   ]
  },
  {
   "cell_type": "markdown",
   "id": "43458410-f008-4855-85c4-0bd8fe1875e8",
   "metadata": {},
   "source": [
    "<div class=\"alert alert-block alert-success\">\n",
    "    <p>At this point, TARGET is the only column with missing-values</p>\n",
    "</div>"
   ]
  },
  {
   "cell_type": "code",
   "execution_count": 16,
   "id": "25f6a1f9-6516-45fa-9b54-f1aacdf808ef",
   "metadata": {},
   "outputs": [],
   "source": [
    "# saving the optimized dataset \n",
    "#df.to_csv(\"datasets\\df_optimized.csv\", index=False)"
   ]
  },
  {
   "cell_type": "markdown",
   "id": "6d7b3692-7168-4556-a444-7000fe8cf359",
   "metadata": {
    "tags": []
   },
   "source": [
    "<div style=\"background-color: #506AB9;\" >\n",
    "    <h2 style=\"margin: auto; padding: 20px; color:#fff; \">2. Class Imbalance</h2>\n",
    "</div>"
   ]
  },
  {
   "cell_type": "markdown",
   "id": "4ba6c676-4953-4bb5-9150-73f6ec693656",
   "metadata": {
    "tags": []
   },
   "source": [
    "<div style=\"background-color: #506AB9;\" >\n",
    "    <h3 style=\"margin: auto; padding: 20px; color:#fff; \">2.1. Verifying</h3>\n",
    "</div>"
   ]
  },
  {
   "cell_type": "markdown",
   "id": "22f556a9-7a48-4510-89f1-db14b0193864",
   "metadata": {
    "tags": []
   },
   "source": [
    "<div class=\"alert alert-block alert-info\">\n",
    "    <p>Now, we are going to analyze in details, whether ours target has an imbalanced class\n",
    "   </p>\n",
    "</div>"
   ]
  },
  {
   "cell_type": "code",
   "execution_count": 17,
   "id": "3fe0ccbb-a491-4052-9137-7fe1ff0018f4",
   "metadata": {},
   "outputs": [
    {
     "data": {
      "image/png": "[encoded data removed]",
      "text/plain": [
       "<Figure size 648x360 with 2 Axes>"
      ]
     },
     "metadata": {
      "needs_background": "light"
     },
     "output_type": "display_data"
    }
   ],
   "source": [
    "barplot_and_pie(df[\"TARGET\"], \"Target distribution\", \" \")"
   ]
  },
  {
   "cell_type": "markdown",
   "id": "d6d6de84-3c5c-41dd-9448-1d183d0f6dcf",
   "metadata": {
    "tags": []
   },
   "source": [
    "<div class=\"alert alert-block alert-warning\">\n",
    "    <p>Here we can see how much the dataset is imbalanced</p>\n",
    "    <p>It is easily identifying that there are <b>loans that were repaid (0)</b> in comparison of <b>loans that were not repaid (1)</b></p>   \n",
    "</div>"
   ]
  },
  {
   "cell_type": "markdown",
   "id": "e9556c81-dfd5-4fc2-a526-c3f136987135",
   "metadata": {
    "tags": []
   },
   "source": [
    "<div style=\"background-color: #506AB9;\" >\n",
    "    <h3 style=\"margin: auto; padding: 20px; color:#fff; \">2.2. Smote</h3>\n",
    "</div>"
   ]
  },
  {
   "cell_type": "markdown",
   "id": "0af57235-8866-455c-9bd8-6d233eb75afc",
   "metadata": {
    "tags": []
   },
   "source": [
    "<div class=\"alert alert-block alert-info\">\n",
    "    <p>To treat the Imbalanced class, we are going to use a type of data augmentation for the minority class (Oversampling) where new examples can be synthesized from the existing examples and it is referred as the Synthetic Minority Oversampling Technique - SMOTE.</p>\n",
    "</div>"
   ]
  },
  {
   "cell_type": "code",
   "execution_count": 18,
   "id": "daf42ff3-cd0f-46c1-8eb0-0bd4a588fbbe",
   "metadata": {},
   "outputs": [],
   "source": [
    "train_df = df[df[\"TARGET\"].notnull()]\n",
    "test_df = df[df[\"TARGET\"].isnull()]"
   ]
  },
  {
   "cell_type": "code",
   "execution_count": 19,
   "id": "2a4a3235-1afe-49f0-a034-98432f3cc436",
   "metadata": {},
   "outputs": [],
   "source": [
    "X = train_df.drop(columns=[\"TARGET\"])"
   ]
  },
  {
   "cell_type": "code",
   "execution_count": 20,
   "id": "2777bbf4-bead-442f-81e2-daf04bee4368",
   "metadata": {},
   "outputs": [],
   "source": [
    "y = train_df.loc[:,\"TARGET\"]"
   ]
  },
  {
   "cell_type": "markdown",
   "id": "3d314dcc-7381-45c3-9968-740741372404",
   "metadata": {
    "tags": []
   },
   "source": [
    "<div class=\"alert alert-block alert-info\">\n",
    "    <p>Initializing SMOTE</p>\n",
    "</div>"
   ]
  },
  {
   "cell_type": "code",
   "execution_count": 21,
   "id": "1751ce9b-bd95-4da0-a630-d8572ae487fc",
   "metadata": {},
   "outputs": [],
   "source": [
    "smote = SMOTE(sampling_strategy=\"auto\", k_neighbors=5, n_jobs=-1,\n",
    "              random_state=42)"
   ]
  },
  {
   "cell_type": "markdown",
   "id": "4f736573-772a-4c44-ac54-e8a5bcc5dcc5",
   "metadata": {
    "tags": []
   },
   "source": [
    "<div class=\"alert alert-block alert-info\">\n",
    "    <p>Executing SMOTE</p>\n",
    "</div>"
   ]
  },
  {
   "cell_type": "code",
   "execution_count": 22,
   "id": "3d4f553d-b9e8-4559-bd71-0c48359f3dfd",
   "metadata": {},
   "outputs": [],
   "source": [
    "X_resampled, y_resampled = smote.fit_resample(X, y)"
   ]
  },
  {
   "cell_type": "markdown",
   "id": "c22de8f3-2f74-4df6-a204-6548c9e2f5ee",
   "metadata": {
    "tags": []
   },
   "source": [
    "<div class=\"alert alert-block alert-info\">\n",
    "    <p>Finally, we can see the results</p>\n",
    "</div>"
   ]
  },
  {
   "cell_type": "code",
   "execution_count": 23,
   "id": "69cd5ce7-06c3-48c4-94a2-513ff782bff3",
   "metadata": {},
   "outputs": [
    {
     "data": {
      "image/png": "[encoded data removed]",
      "text/plain": [
       "<Figure size 648x360 with 2 Axes>"
      ]
     },
     "metadata": {
      "needs_background": "light"
     },
     "output_type": "display_data"
    }
   ],
   "source": [
    "barplot_and_pie(y_resampled, \"Target distribution\", \" \")"
   ]
  },
  {
   "cell_type": "markdown",
   "id": "71f90b4c-0cc7-460e-9034-b33024d428e1",
   "metadata": {
    "tags": []
   },
   "source": [
    "<div class=\"alert alert-block alert-success\">\n",
    "    <p>Now, we have the Target balanced</p>\n",
    "</div>"
   ]
  },
  {
   "cell_type": "markdown",
   "id": "1b5be0a5-5156-4549-b144-c2f9cf2b012b",
   "metadata": {
    "tags": []
   },
   "source": [
    "<div style=\"background-color: #506AB9;\" >\n",
    "    <h3 style=\"margin: auto; padding: 20px; color:#fff; \">2.4. Rebuild the dataset</h3>\n",
    "</div>"
   ]
  },
  {
   "cell_type": "markdown",
   "id": "bca5ca60-59a0-488f-9ec6-075703f1dae6",
   "metadata": {
    "tags": []
   },
   "source": [
    "<div class=\"alert alert-block alert-info\">\n",
    "    <p>Creating series with attributes</p>\n",
    "</div>"
   ]
  },
  {
   "cell_type": "code",
   "execution_count": 24,
   "id": "4e28a37d-71cb-43b7-9153-b4f8721e4548",
   "metadata": {},
   "outputs": [],
   "source": [
    "y_resampled  = pd.Series(y_resampled, name=\"TARGET\")"
   ]
  },
  {
   "cell_type": "markdown",
   "id": "00b614ab-e29f-410f-8051-c026e1395e84",
   "metadata": {
    "tags": []
   },
   "source": [
    "<div class=\"alert alert-block alert-info\">\n",
    "    <p>Merging result dataset with result series</p>\n",
    "</div>"
   ]
  },
  {
   "cell_type": "code",
   "execution_count": 25,
   "id": "f5351baa-4184-4543-a556-77bfe2f0829e",
   "metadata": {},
   "outputs": [],
   "source": [
    "df_resampled = X_resampled.merge(y_resampled, left_index=True, right_index=True)"
   ]
  },
  {
   "cell_type": "markdown",
   "id": "f9469820-d59e-4917-83a0-964af7a6a22b",
   "metadata": {
    "tags": []
   },
   "source": [
    "<div class=\"alert alert-block alert-info\">\n",
    "    <p>Concatenating the dataset</p>\n",
    "</div>"
   ]
  },
  {
   "cell_type": "code",
   "execution_count": 26,
   "id": "8a2abecf-7078-457a-b45b-b4bc91770112",
   "metadata": {},
   "outputs": [],
   "source": [
    "df_resampled = pd.concat([df_resampled, test_df])"
   ]
  },
  {
   "cell_type": "code",
   "execution_count": 27,
   "id": "2c66ec6b-f461-41e9-aa2b-5a6f1e8943d6",
   "metadata": {},
   "outputs": [],
   "source": [
    "# saving the resampled dataset \n",
    "#df_resampled.to_csv(\"datasets\\df_resampled.csv\", index=False)"
   ]
  },
  {
   "cell_type": "markdown",
   "id": "dfb84114-aede-4961-a72e-5257b2146886",
   "metadata": {
    "tags": []
   },
   "source": [
    "<div class=\"alert alert-block alert-info\">\n",
    "    <p>Freeing up memory </p>\n",
    "</div>"
   ]
  },
  {
   "cell_type": "code",
   "execution_count": 28,
   "id": "6102aeaf-3e3f-4722-bb08-dca328c0393b",
   "metadata": {},
   "outputs": [
    {
     "data": {
      "text/plain": [
       "9870"
      ]
     },
     "execution_count": 28,
     "metadata": {},
     "output_type": "execute_result"
    }
   ],
   "source": [
    "del df, train_df, test_df, X, y, X_resampled, y_resampled\n",
    "gc.collect()"
   ]
  },
  {
   "cell_type": "markdown",
   "id": "6d5e4371-7b4f-4df9-b1fd-064d701c6f7f",
   "metadata": {
    "tags": []
   },
   "source": [
    "<div class=\"alert alert-block alert-info\">\n",
    "    <p>Let's see the final dataset</p>\n",
    "</div>"
   ]
  },
  {
   "cell_type": "code",
   "execution_count": 29,
   "id": "63a69fbd-f751-4006-a6bf-69a648d1d9ce",
   "metadata": {},
   "outputs": [
    {
     "name": "stdout",
     "output_type": "stream",
     "text": [
      "\n",
      "Analysis Header of df_resampled dataset\n",
      "--------------------------------------------------------------------------------\n",
      "- Dataset shape:\t\t\t 614108 rows and 797 columns\n",
      "- Total of NaN values:\t\t\t 48744\n",
      "- Percentage of NaN:\t\t\t 0.01 %\n",
      "- Total of infinite values:\t\t 0\n",
      "- Percentage of infinite values:\t 0.0 %\n",
      "- Total of full duplicates rows:\t 0\n",
      "- Total of empty rows:\t\t\t 0\n",
      "- Total of empty columns:\t\t 0\n",
      "- Unique indexes:\t\t\t False\n",
      "- Memory usage:\t\t\t\t 1.6 GB\n"
     ]
    }
   ],
   "source": [
    "df_analysis(df_resampled, \"df_resampled\", analysis_type=\"header\")"
   ]
  },
  {
   "cell_type": "markdown",
   "id": "7ad2b17d-c82a-442f-8fd9-e071875a7d9d",
   "metadata": {
    "tags": []
   },
   "source": [
    "<div class=\"alert alert-block alert-success\">\n",
    "    <p><b>Observations / Conclusions</b></p>\n",
    "    <p>At this point we have the following dataset.</p>\n",
    "    <ul style=\"list-style-type: square;\">\n",
    "        <li><b>df_resampled</b>: that is balanced after treating it through SMOTE and shape 614108 x 797</li>\n",
    "    </ul> \n",
    "</div>"
   ]
  },
  {
   "cell_type": "markdown",
   "id": "44f4971d-c73b-4740-992b-57f5bac34181",
   "metadata": {
    "tags": []
   },
   "source": [
    "<div style=\"background-color: #506AB9;\" >\n",
    "    <h2 style=\"margin: auto; padding: 20px; color:#fff; \">3. Optimization</h2>\n",
    "</div>"
   ]
  },
  {
   "cell_type": "markdown",
   "id": "02af96c7-92f9-4237-86ad-a2e09de5e651",
   "metadata": {
    "tags": []
   },
   "source": [
    "<div class=\"alert alert-block alert-info\">\n",
    "    <p>Now, we are going to use a <b>Custom Score</b> and <b>Hyperopt</b> to get the best result to set the model </p>\n",
    "</div>"
   ]
  },
  {
   "cell_type": "markdown",
   "id": "65edec22-2c38-4888-bac1-afdb1d82affd",
   "metadata": {
    "tags": []
   },
   "source": [
    "<div style=\"background-color: #506AB9;\" >\n",
    "    <h3 style=\"margin: auto; padding: 20px; color:#fff; \">3.1. Custom Score</h3>\n",
    "</div>"
   ]
  },
  {
   "cell_type": "markdown",
   "id": "5252fb83-6e15-453d-9ce0-4b23618fe55a",
   "metadata": {
    "tags": []
   },
   "source": [
    "<div class=\"alert alert-block alert-info\">\n",
    "    <p>In the <b>Custom Score</b>, we are going to penalize the <b>False Negative</b> that are loands <b>will be in default</b>, and they were <b>predicted incorrectly</b></p>\n",
    "</div>"
   ]
  },
  {
   "cell_type": "code",
   "execution_count": 30,
   "id": "f57501f2-3eb9-4bcb-a6ff-12ba5af2bc9a",
   "metadata": {},
   "outputs": [],
   "source": [
    "def custom_score(y_true, y_pred):\n",
    "    \"\"\"\n",
    "    Method used to calculate a score based on the penalization of False Negatives.\n",
    "\n",
    "    Parameters:\n",
    "    -----------------\n",
    "        y_true (series): True values\n",
    "        y_pred (series): Predicted values\n",
    "        \n",
    "    Returns:\n",
    "    -----------------\n",
    "        Score. (float): Score obtained based on the rules defined to measure. \n",
    "    \"\"\"\n",
    "    \n",
    "    # Getting the probability outputs from \"predict_proba\"\n",
    "    threshold = 0.5\n",
    "    y_pred = (y_pred >= threshold).astype(int)\n",
    "    \n",
    "    TN_rate = 1        # Loans that are not in default and were predicted correctly\n",
    "    TP_rate = 1        # Loans that are in default and were predicted correctly\n",
    "    FP_rate = 0        # Loans that are not in default and were predicted incorrectly\n",
    "    FN_rate = -10      # Loans that are in default and were were predicted incorrectly\n",
    "    \n",
    "    # Getting all values based on confusion matrix\n",
    "    (TN, FP, FN, TP) = confusion_matrix(y_true, y_pred).ravel()\n",
    "\n",
    "    # Total of default and not default cases\n",
    "    total_not_default = TN + FP     # Not default cases\n",
    "    total_default = TP + FN         # Default cases \n",
    "    \n",
    "    gain_total = TN*TN_rate + TP*TP_rate + FP*FP_rate + FN*FN_rate\n",
    "    gain_maximun = total_not_default*TN_rate + total_default*TP_rate\n",
    "    gain_minumun = total_not_default*TN_rate + total_default*FN_rate\n",
    "    \n",
    "    # normalize to get score between 0 (baseline) and 1\n",
    "    score = (gain_total - gain_minumun) / (gain_maximun - gain_minumun)\n",
    "    \n",
    "    return score"
   ]
  },
  {
   "cell_type": "markdown",
   "id": "ec92390c-1876-48c6-a2e4-8e90a14d8ee2",
   "metadata": {
    "tags": []
   },
   "source": [
    "<div style=\"background-color: #506AB9;\" >\n",
    "    <h3 style=\"margin: auto; padding: 20px; color:#fff; \">3.2. Model optimiztion</h3>\n",
    "</div>"
   ]
  },
  {
   "cell_type": "markdown",
   "id": "b59f6309-ff04-4535-9283-e93e5b3df6c6",
   "metadata": {
    "tags": []
   },
   "source": [
    "<div class=\"alert alert-block alert-info\">\n",
    "    <p>Let's define the parameters</p>\n",
    "</div>"
   ]
  },
  {
   "cell_type": "code",
   "execution_count": 31,
   "id": "6faf3980-132a-4ec8-b9d8-eae66641b532",
   "metadata": {},
   "outputs": [],
   "source": [
    "N_ESTIMATORS = [8000, 10000, 12000]\n",
    "NUM_LEAVES = [32, 34, 36]\n",
    "MAX_DEPTH = [7, 8, 9]"
   ]
  },
  {
   "cell_type": "code",
   "execution_count": 32,
   "id": "e7683875-9c85-42a4-9e34-54e74608a5f5",
   "metadata": {
    "tags": []
   },
   "outputs": [],
   "source": [
    "space_params = {\n",
    "    \"n_estimators\" : hp.choice(\"n_estimators\", N_ESTIMATORS),\n",
    "    \"learning_rate\" :  hp.uniform(\"learning_rate\", 0.002, 0.003),\n",
    "    \"num_leaves\" :  hp.choice(\"num_leaves\", NUM_LEAVES),\n",
    "    \"max_depth\" : hp.choice(\"max_depth\", MAX_DEPTH),\n",
    "    \"reg_alpha\" : hp.uniform(\"reg_alpha\", 0.041545473, 0.051),\n",
    "    \"reg_lambda\" : hp.uniform(\"reg_lambda\", 0.0735294, 0.0835294),\n",
    "    \"min_split_gain\" : hp.uniform(\"min_split_gain\", 0.0222415, 0.0322415),\n",
    "    \"min_child_weight\" : hp.uniform(\"min_child_weight\", 39.3259775, 49)\n",
    "}"
   ]
  },
  {
   "cell_type": "markdown",
   "id": "a564e380-8436-4356-8be1-fb0b433d2104",
   "metadata": {
    "tags": []
   },
   "source": [
    "<div class=\"alert alert-block alert-info\">\n",
    "    <p>Now, we can define our objective function</p>\n",
    "    <p>To do that, we are going to consider the following</p>\n",
    "    <ul style=\"list-style-type: square;\">\n",
    "        <li><b>StandardScaler</b> to manage all data in the same scale</li>\n",
    "        <li><b>colsample_bytree and subsample</b> with 80% of data, to improve the execution time</li>\n",
    "        <li><b>n_splits</b> with 2 to improve the execution time</li>\n",
    "        <li><b>is_unbalance</b> with False because it is a balanced dataset</li>\n",
    "    </ul> \n",
    "</div>"
   ]
  },
  {
   "cell_type": "code",
   "execution_count": 33,
   "id": "0d469c46-c176-4e49-adfd-324179303c30",
   "metadata": {},
   "outputs": [],
   "source": [
    "def hyperparameter_tuning(space_params, df, imbalanced, n_splits):\n",
    "    \"\"\"\n",
    "    Method used to analyze on the DataFrame.\n",
    "\n",
    "    Parameters:\n",
    "    -----------------\n",
    "        space_params (dict): Parameters to optimize the model\n",
    "        df (pandas.DataFrame): Dataset to treat\n",
    "        imbalanced (boolean): Define whether dataset is unbalanced\n",
    "        n_splits (int): To split data in train test sets\n",
    "\n",
    "    Returns:\n",
    "    -----------------\n",
    "        Loss and STATUS.\n",
    "    \"\"\"\n",
    "    \n",
    "    # Formatting columns name\n",
    "    df = df.rename(columns=lambda x:re.sub(\"[^A-Za-z0-9_]+\", \"\", x))\n",
    "    df_lgbm = df.copy()\n",
    "    \n",
    "    scaler = StandardScaler()\n",
    "    \n",
    "    # Divide in training/validation and test data\n",
    "    train_df = df_lgbm[df_lgbm[\"TARGET\"].notnull()]\n",
    "    test_df = df_lgbm[df_lgbm[\"TARGET\"].isnull()]\n",
    "    del df_lgbm\n",
    "    gc.collect()\n",
    "    \n",
    "    # Cross validation model\n",
    "    folds = KFold(n_splits=n_splits, shuffle=True, random_state=42)\n",
    "    \n",
    "    # Create arrays and dataframes to store results\n",
    "    oof_preds = np.zeros(train_df.shape[0])\n",
    "    sub_preds = np.zeros(test_df.shape[0])\n",
    "    feats = [f for f in train_df.columns if f not in [\"TARGET\", \"SK_ID_CURR\", \"SK_ID_BUREAU\", \"SK_ID_PREV\"]]\n",
    "    \n",
    "    for n_fold, (train_idx, valid_idx) in enumerate(folds.split(train_df[feats], train_df[\"TARGET\"])):\n",
    "        \n",
    "        print(\"\\n\")\n",
    "        \n",
    "        train_x, train_y = train_df[feats].iloc[train_idx], train_df[\"TARGET\"].iloc[train_idx]\n",
    "        valid_x, valid_y = train_df[feats].iloc[valid_idx], train_df[\"TARGET\"].iloc[valid_idx]\n",
    "    \n",
    "        train_x_scaled = scaler.fit_transform(train_x)\n",
    "        valid_x_scaled = scaler.fit_transform(valid_x)\n",
    "        \n",
    "        # LightGBM parameters found by Bayesian optimization\n",
    "        clf = LGBMClassifier(\n",
    "            **space_params,\n",
    "            colsample_bytree=0.8, \n",
    "            subsample=0.8,\n",
    "            is_unbalance=imbalanced,\n",
    "            n_jobs=-1 \n",
    "        )\n",
    "        \n",
    "        evaluation = [(train_x_scaled, train_y), (valid_x_scaled, valid_y)]\n",
    "        \n",
    "        clf.fit(train_x_scaled, train_y, eval_set=evaluation, eval_metric=\"auc\",\n",
    "                callbacks=[lgb.early_stopping(stopping_rounds=200),\n",
    "                          lgb.log_evaluation(period=-1)])\n",
    "        \n",
    "        oof_preds[valid_idx] = clf.predict_proba(valid_x_scaled, num_iteration=clf.best_iteration_)[:, 1]\n",
    "        \n",
    "        del clf, train_x, train_x_scaled, train_y, valid_x, valid_x_scaled, valid_y\n",
    "        gc.collect()\n",
    "    \n",
    "    auc = roc_auc_score(train_df[\"TARGET\"], oof_preds)\n",
    "    print(\">> ROC-AUC Score %.6f\" % auc )\n",
    "    \n",
    "    cs = custom_score(train_df[\"TARGET\"], oof_preds)\n",
    "    print(\">> Custom Score %.6f\\n\" % cs )\n",
    "          \n",
    "    return { \"loss\": -auc, \"status\": STATUS_OK } "
   ]
  },
  {
   "cell_type": "markdown",
   "id": "f99674b3-8696-41b8-b0f8-d9e57b84025d",
   "metadata": {
    "tags": []
   },
   "source": [
    "<div style=\"background-color: #506AB9;\" >\n",
    "    <h3 style=\"margin: auto; padding: 20px; color:#fff; \">3.3. Balanced dataset modelisation</h3>\n",
    "</div>"
   ]
  },
  {
   "cell_type": "markdown",
   "id": "0c7f1c8c-b3fd-4d15-8ec1-0afc194bf9ac",
   "metadata": {
    "tags": []
   },
   "source": [
    "<div class=\"alert alert-block alert-info\">\n",
    "    <p>Finally, we are going to optimize the model with the <b>balanced</b> dataset</p>\n",
    "</div>"
   ]
  },
  {
   "cell_type": "code",
   "execution_count": 34,
   "id": "e5addc3f-b138-4047-acf8-27edef5e2ad8",
   "metadata": {},
   "outputs": [],
   "source": [
    "fmin_objective = partial(hyperparameter_tuning, \n",
    "                         df=df_resampled, imbalanced=False,\n",
    "                         n_splits=2)"
   ]
  },
  {
   "cell_type": "code",
   "execution_count": 35,
   "id": "e3ee90ab-d5f7-4a27-bdcc-98947f136457",
   "metadata": {
    "tags": []
   },
   "outputs": [
    {
     "name": "stdout",
     "output_type": "stream",
     "text": [
      "Training until validation scores don't improve for 200 rounds                                                          \n",
      "Early stopping, best iteration is:                                                                                     \n",
      "[410]\ttraining's auc: 0.968512\ttraining's binary_logloss: 0.400138\tvalid_1's auc: 0.901318\tvalid_1's binary_logloss: 0.581033\n",
      "Training until validation scores don't improve for 200 rounds                                                          \n",
      "Early stopping, best iteration is:                                                                                     \n",
      "[496]\ttraining's auc: 0.970043\ttraining's binary_logloss: 0.368037\tvalid_1's auc: 0.903632\tvalid_1's binary_logloss: 0.56389\n",
      ">> ROC-AUC Score 0.901770                                                                                              \n",
      ">> Custom Score 0.911631                                                                                               \n",
      "\n",
      "Training until validation scores don't improve for 200 rounds                                                          \n",
      "Early stopping, best iteration is:                                                                                     \n",
      "[354]\ttraining's auc: 0.967984\ttraining's binary_logloss: 0.409158\tvalid_1's auc: 0.906391\tvalid_1's binary_logloss: 0.593327\n",
      "Training until validation scores don't improve for 200 rounds                                                          \n",
      "Early stopping, best iteration is:                                                                                     \n",
      "[425]\ttraining's auc: 0.969761\ttraining's binary_logloss: 0.377856\tvalid_1's auc: 0.90442\tvalid_1's binary_logloss: 0.590607\n",
      ">> ROC-AUC Score 0.904288                                                                                              \n",
      ">> Custom Score 0.916315                                                                                               \n",
      "\n",
      "Training until validation scores don't improve for 200 rounds                                                          \n",
      "Early stopping, best iteration is:                                                                                     \n",
      "[466]\ttraining's auc: 0.968908\ttraining's binary_logloss: 0.394195\tvalid_1's auc: 0.901805\tvalid_1's binary_logloss: 0.582143\n",
      "Training until validation scores don't improve for 200 rounds                                                          \n",
      "Early stopping, best iteration is:                                                                                     \n",
      "[558]\ttraining's auc: 0.970299\ttraining's binary_logloss: 0.363845\tvalid_1's auc: 0.90339\tvalid_1's binary_logloss: 0.563517\n",
      ">> ROC-AUC Score 0.901983                                                                                              \n",
      ">> Custom Score 0.912103                                                                                               \n",
      "\n",
      "Training until validation scores don't improve for 200 rounds                                                          \n",
      "Early stopping, best iteration is:                                                                                     \n",
      "[389]\ttraining's auc: 0.969285\ttraining's binary_logloss: 0.387544\tvalid_1's auc: 0.904093\tvalid_1's binary_logloss: 0.584141\n",
      "Training until validation scores don't improve for 200 rounds                                                          \n",
      "Early stopping, best iteration is:                                                                                     \n",
      "[448]\ttraining's auc: 0.970513\ttraining's binary_logloss: 0.362593\tvalid_1's auc: 0.905515\tvalid_1's binary_logloss: 0.564022\n",
      ">> ROC-AUC Score 0.904579                                                                                              \n",
      ">> Custom Score 0.913026                                                                                               \n",
      "\n",
      "Training until validation scores don't improve for 200 rounds                                                          \n",
      "Early stopping, best iteration is:                                                                                     \n",
      "[396]\ttraining's auc: 0.967525\ttraining's binary_logloss: 0.411196\tvalid_1's auc: 0.904799\tvalid_1's binary_logloss: 0.590105\n",
      "Training until validation scores don't improve for 200 rounds                                                          \n",
      "Early stopping, best iteration is:                                                                                     \n",
      "[464]\ttraining's auc: 0.969265\ttraining's binary_logloss: 0.383351\tvalid_1's auc: 0.902704\tvalid_1's binary_logloss: 0.577931\n",
      ">> ROC-AUC Score 0.903173                                                                                              \n",
      ">> Custom Score 0.914709                                                                                               \n",
      "\n",
      "Training until validation scores don't improve for 200 rounds                                                          \n",
      "Early stopping, best iteration is:                                                                                     \n",
      "[324]\ttraining's auc: 0.967405\ttraining's binary_logloss: 0.419281\tvalid_1's auc: 0.90338\tvalid_1's binary_logloss: 0.591718\n",
      "Training until validation scores don't improve for 200 rounds                                                          \n",
      "Early stopping, best iteration is:                                                                                     \n",
      "[379]\ttraining's auc: 0.96857\ttraining's binary_logloss: 0.393703\tvalid_1's auc: 0.898034\tvalid_1's binary_logloss: 0.588468\n",
      ">> ROC-AUC Score 0.900061                                                                                              \n",
      ">> Custom Score 0.914522                                                                                               \n",
      "\n",
      "Training until validation scores don't improve for 200 rounds                                                          \n",
      "Early stopping, best iteration is:                                                                                     \n",
      "[346]\ttraining's auc: 0.969048\ttraining's binary_logloss: 0.398713\tvalid_1's auc: 0.906399\tvalid_1's binary_logloss: 0.58541\n",
      "Training until validation scores don't improve for 200 rounds                                                          \n",
      "Early stopping, best iteration is:                                                                                     \n",
      "[429]\ttraining's auc: 0.970806\ttraining's binary_logloss: 0.361461\tvalid_1's auc: 0.907105\tvalid_1's binary_logloss: 0.57034\n",
      ">> ROC-AUC Score 0.905544                                                                                              \n",
      ">> Custom Score 0.914311                                                                                               \n",
      "\n",
      "Training until validation scores don't improve for 200 rounds                                                          \n",
      "Early stopping, best iteration is:                                                                                     \n",
      "[354]\ttraining's auc: 0.96855\ttraining's binary_logloss: 0.407118\tvalid_1's auc: 0.902539\tvalid_1's binary_logloss: 0.590459\n",
      "Training until validation scores don't improve for 200 rounds                                                          \n",
      "Early stopping, best iteration is:                                                                                     \n",
      "[458]\ttraining's auc: 0.970743\ttraining's binary_logloss: 0.361634\tvalid_1's auc: 0.907057\tvalid_1's binary_logloss: 0.571784\n",
      ">> ROC-AUC Score 0.902596                                                                                              \n",
      ">> Custom Score 0.914057                                                                                               \n",
      "\n",
      "Training until validation scores don't improve for 200 rounds                                                          \n",
      "Early stopping, best iteration is:                                                                                     \n",
      "[397]\ttraining's auc: 0.967184\ttraining's binary_logloss: 0.421913\tvalid_1's auc: 0.904458\tvalid_1's binary_logloss: 0.590513\n",
      "Training until validation scores don't improve for 200 rounds                                                          \n",
      "Early stopping, best iteration is:                                                                                     \n",
      "[511]\ttraining's auc: 0.969524\ttraining's binary_logloss: 0.379319\tvalid_1's auc: 0.901201\tvalid_1's binary_logloss: 0.586319\n",
      ">> ROC-AUC Score 0.898093                                                                                              \n",
      ">> Custom Score 0.914659                                                                                               \n",
      "\n",
      "Training until validation scores don't improve for 200 rounds                                                          \n",
      "Early stopping, best iteration is:                                                                                     \n",
      "[478]\ttraining's auc: 0.969248\ttraining's binary_logloss: 0.393352\tvalid_1's auc: 0.903078\tvalid_1's binary_logloss: 0.586432\n",
      "Training until validation scores don't improve for 200 rounds                                                          \n",
      "Early stopping, best iteration is:                                                                                     \n",
      "[588]\ttraining's auc: 0.970865\ttraining's binary_logloss: 0.35729\tvalid_1's auc: 0.905588\tvalid_1's binary_logloss: 0.56977\n",
      ">> ROC-AUC Score 0.903290                                                                                              \n",
      ">> Custom Score 0.913708                                                                                               \n",
      "\n",
      "Training until validation scores don't improve for 200 rounds                                                          \n",
      "Early stopping, best iteration is:                                                                                     \n",
      "[302]\ttraining's auc: 0.967201\ttraining's binary_logloss: 0.42366\tvalid_1's auc: 0.901916\tvalid_1's binary_logloss: 0.592604\n",
      "Training until validation scores don't improve for 200 rounds                                                          \n",
      "Early stopping, best iteration is:                                                                                     \n",
      "[404]\ttraining's auc: 0.969922\ttraining's binary_logloss: 0.374034\tvalid_1's auc: 0.904909\tvalid_1's binary_logloss: 0.586102\n",
      ">> ROC-AUC Score 0.898949                                                                                              \n",
      ">> Custom Score 0.915029                                                                                               \n",
      "\n",
      "Training until validation scores don't improve for 200 rounds                                                          \n",
      "Early stopping, best iteration is:                                                                                     \n",
      "[390]\ttraining's auc: 0.96816\ttraining's binary_logloss: 0.407271\tvalid_1's auc: 0.906953\tvalid_1's binary_logloss: 0.593854\n",
      "Training until validation scores don't improve for 200 rounds                                                          \n",
      "Early stopping, best iteration is:                                                                                     \n",
      "[465]\ttraining's auc: 0.969765\ttraining's binary_logloss: 0.37722\tvalid_1's auc: 0.901698\tvalid_1's binary_logloss: 0.589051\n",
      ">> ROC-AUC Score 0.903049                                                                                              \n",
      ">> Custom Score 0.916006                                                                                               \n",
      "\n",
      "Training until validation scores don't improve for 200 rounds                                                          \n",
      "Early stopping, best iteration is:                                                                                     \n",
      "[417]\ttraining's auc: 0.967278\ttraining's binary_logloss: 0.41909\tvalid_1's auc: 0.904003\tvalid_1's binary_logloss: 0.592003\n",
      "Training until validation scores don't improve for 200 rounds                                                          \n",
      "Early stopping, best iteration is:                                                                                     \n",
      "[524]\ttraining's auc: 0.969344\ttraining's binary_logloss: 0.381193\tvalid_1's auc: 0.900479\tvalid_1's binary_logloss: 0.58344\n",
      ">> ROC-AUC Score 0.899316                                                                                              \n",
      ">> Custom Score 0.914811                                                                                               \n",
      "\n",
      "Training until validation scores don't improve for 200 rounds                                                          \n",
      "Early stopping, best iteration is:                                                                                     \n",
      "[354]\ttraining's auc: 0.968237\ttraining's binary_logloss: 0.408085\tvalid_1's auc: 0.907778\tvalid_1's binary_logloss: 0.592553\n",
      "Training until validation scores don't improve for 200 rounds                                                          \n",
      "Early stopping, best iteration is:                                                                                     \n",
      "[397]\ttraining's auc: 0.968916\ttraining's binary_logloss: 0.3896\tvalid_1's auc: 0.897666\tvalid_1's binary_logloss: 0.59261\n",
      ">> ROC-AUC Score 0.902514                                                                                              \n",
      ">> Custom Score 0.915773                                                                                               \n",
      "\n",
      "Training until validation scores don't improve for 200 rounds                                                          \n",
      "Early stopping, best iteration is:                                                                                     \n",
      "[446]\ttraining's auc: 0.967684\ttraining's binary_logloss: 0.410509\tvalid_1's auc: 0.904498\tvalid_1's binary_logloss: 0.589675\n",
      "Training until validation scores don't improve for 200 rounds                                                          \n",
      "Early stopping, best iteration is:                                                                                     \n",
      "[506]\ttraining's auc: 0.968704\ttraining's binary_logloss: 0.389853\tvalid_1's auc: 0.897731\tvalid_1's binary_logloss: 0.583662\n",
      ">> ROC-AUC Score 0.900825                                                                                              \n",
      ">> Custom Score 0.914326                                                                                               \n",
      "\n",
      "Training until validation scores don't improve for 200 rounds                                                          \n",
      "Early stopping, best iteration is:                                                                                     \n",
      "[409]\ttraining's auc: 0.969011\ttraining's binary_logloss: 0.399944\tvalid_1's auc: 0.901738\tvalid_1's binary_logloss: 0.588825\n",
      "Training until validation scores don't improve for 200 rounds                                                          \n",
      "Early stopping, best iteration is:                                                                                     \n",
      "[509]\ttraining's auc: 0.970615\ttraining's binary_logloss: 0.362247\tvalid_1's auc: 0.904819\tvalid_1's binary_logloss: 0.569156\n",
      ">> ROC-AUC Score 0.901985                                                                                              \n",
      ">> Custom Score 0.913346                                                                                               \n",
      "\n",
      "Training until validation scores don't improve for 200 rounds                                                          \n",
      "Early stopping, best iteration is:                                                                                     \n",
      "[334]\ttraining's auc: 0.968952\ttraining's binary_logloss: 0.400087\tvalid_1's auc: 0.906086\tvalid_1's binary_logloss: 0.589047\n",
      "Training until validation scores don't improve for 200 rounds                                                          \n",
      "Early stopping, best iteration is:                                                                                     \n",
      "[421]\ttraining's auc: 0.97092\ttraining's binary_logloss: 0.359742\tvalid_1's auc: 0.908505\tvalid_1's binary_logloss: 0.573445\n",
      ">> ROC-AUC Score 0.905529                                                                                              \n",
      ">> Custom Score 0.914987                                                                                               \n",
      "\n",
      "Training until validation scores don't improve for 200 rounds                                                          \n",
      "Early stopping, best iteration is:                                                                                     \n",
      "[354]\ttraining's auc: 0.96882\ttraining's binary_logloss: 0.397531\tvalid_1's auc: 0.90539\tvalid_1's binary_logloss: 0.58652\n",
      "Training until validation scores don't improve for 200 rounds                                                          \n",
      "Early stopping, best iteration is:                                                                                     \n",
      "[424]\ttraining's auc: 0.970515\ttraining's binary_logloss: 0.366131\tvalid_1's auc: 0.907784\tvalid_1's binary_logloss: 0.568543\n",
      ">> ROC-AUC Score 0.906195                                                                                              \n",
      ">> Custom Score 0.914187                                                                                               \n",
      "\n",
      "Training until validation scores don't improve for 200 rounds                                                          \n",
      "Early stopping, best iteration is:                                                                                     \n",
      "[341]\ttraining's auc: 0.968516\ttraining's binary_logloss: 0.404486\tvalid_1's auc: 0.904288\tvalid_1's binary_logloss: 0.587807\n",
      "Training until validation scores don't improve for 200 rounds                                                          \n",
      "Early stopping, best iteration is:                                                                                     \n",
      "[438]\ttraining's auc: 0.970827\ttraining's binary_logloss: 0.360916\tvalid_1's auc: 0.906863\tvalid_1's binary_logloss: 0.57099\n",
      ">> ROC-AUC Score 0.903108                                                                                              \n",
      ">> Custom Score 0.914272                                                                                               \n",
      "\n",
      "Training until validation scores don't improve for 200 rounds                                                          \n",
      "Early stopping, best iteration is:                                                                                     \n",
      "[354]\ttraining's auc: 0.969393\ttraining's binary_logloss: 0.390077\tvalid_1's auc: 0.903114\tvalid_1's binary_logloss: 0.585312\n",
      "Training until validation scores don't improve for 200 rounds                                                          \n",
      "Early stopping, best iteration is:                                                                                     \n",
      "[440]\ttraining's auc: 0.971055\ttraining's binary_logloss: 0.352574\tvalid_1's auc: 0.908764\tvalid_1's binary_logloss: 0.563649\n",
      ">> ROC-AUC Score 0.905200                                                                                              \n",
      ">> Custom Score 0.913768                                                                                               \n",
      "\n",
      "Training until validation scores don't improve for 200 rounds                                                          \n",
      "Early stopping, best iteration is:                                                                                     \n",
      "[385]\ttraining's auc: 0.968761\ttraining's binary_logloss: 0.39906\tvalid_1's auc: 0.90737\tvalid_1's binary_logloss: 0.587702\n",
      "Training until validation scores don't improve for 200 rounds                                                          \n",
      "Early stopping, best iteration is:                                                                                     \n",
      "[458]\ttraining's auc: 0.970372\ttraining's binary_logloss: 0.368199\tvalid_1's auc: 0.905872\tvalid_1's binary_logloss: 0.57028\n",
      ">> ROC-AUC Score 0.906059                                                                                              \n",
      ">> Custom Score 0.914264                                                                                               \n",
      "\n",
      "Training until validation scores don't improve for 200 rounds                                                          \n",
      "Early stopping, best iteration is:                                                                                     \n",
      "[404]\ttraining's auc: 0.969307\ttraining's binary_logloss: 0.390381\tvalid_1's auc: 0.907457\tvalid_1's binary_logloss: 0.58928\n",
      "Training until validation scores don't improve for 200 rounds                                                          \n",
      "Early stopping, best iteration is:                                                                                     \n",
      "[458]\ttraining's auc: 0.970306\ttraining's binary_logloss: 0.368784\tvalid_1's auc: 0.904349\tvalid_1's binary_logloss: 0.571204\n",
      ">> ROC-AUC Score 0.905721                                                                                              \n",
      ">> Custom Score 0.914519                                                                                               \n",
      "\n",
      "Training until validation scores don't improve for 200 rounds                                                          \n",
      "Early stopping, best iteration is:                                                                                     \n",
      "[391]\ttraining's auc: 0.969038\ttraining's binary_logloss: 0.394081\tvalid_1's auc: 0.906812\tvalid_1's binary_logloss: 0.587669\n",
      "Training until validation scores don't improve for 200 rounds                                                          \n",
      "Early stopping, best iteration is:                                                                                     \n",
      "[465]\ttraining's auc: 0.970582\ttraining's binary_logloss: 0.364184\tvalid_1's auc: 0.90566\tvalid_1's binary_logloss: 0.570025\n",
      ">> ROC-AUC Score 0.905753                                                                                              \n",
      ">> Custom Score 0.914475                                                                                               \n",
      "\n",
      "Training until validation scores don't improve for 200 rounds                                                          \n",
      "Early stopping, best iteration is:                                                                                     \n",
      "[367]\ttraining's auc: 0.968474\ttraining's binary_logloss: 0.40631\tvalid_1's auc: 0.904347\tvalid_1's binary_logloss: 0.588229\n",
      "Training until validation scores don't improve for 200 rounds                                                          \n",
      "Early stopping, best iteration is:                                                                                     \n",
      "[456]\ttraining's auc: 0.970374\ttraining's binary_logloss: 0.368232\tvalid_1's auc: 0.902893\tvalid_1's binary_logloss: 0.573564\n",
      ">> ROC-AUC Score 0.901971                                                                                              \n",
      ">> Custom Score 0.913514                                                                                               \n",
      "\n",
      "Training until validation scores don't improve for 200 rounds                                                          \n",
      "Early stopping, best iteration is:                                                                                     \n",
      "[336]\ttraining's auc: 0.968992\ttraining's binary_logloss: 0.396492\tvalid_1's auc: 0.904609\tvalid_1's binary_logloss: 0.589692\n",
      "Training until validation scores don't improve for 200 rounds                                                          \n",
      "Early stopping, best iteration is:                                                                                     \n",
      "[403]\ttraining's auc: 0.970447\ttraining's binary_logloss: 0.366145\tvalid_1's auc: 0.903873\tvalid_1's binary_logloss: 0.571691\n",
      ">> ROC-AUC Score 0.903657                                                                                              \n",
      ">> Custom Score 0.914270                                                                                               \n",
      "\n",
      "Training until validation scores don't improve for 200 rounds                                                          \n",
      "Early stopping, best iteration is:                                                                                     \n",
      "[396]\ttraining's auc: 0.968779\ttraining's binary_logloss: 0.401163\tvalid_1's auc: 0.905343\tvalid_1's binary_logloss: 0.590526\n",
      "Training until validation scores don't improve for 200 rounds                                                          \n",
      "Early stopping, best iteration is:                                                                                     \n",
      "[473]\ttraining's auc: 0.97009\ttraining's binary_logloss: 0.370806\tvalid_1's auc: 0.904007\tvalid_1's binary_logloss: 0.570139\n",
      ">> ROC-AUC Score 0.903990                                                                                              \n",
      ">> Custom Score 0.913891                                                                                               \n",
      "\n",
      "Training until validation scores don't improve for 200 rounds                                                          \n",
      "Early stopping, best iteration is:                                                                                     \n",
      "[354]\ttraining's auc: 0.96859\ttraining's binary_logloss: 0.402187\tvalid_1's auc: 0.904591\tvalid_1's binary_logloss: 0.585287\n",
      "Training until validation scores don't improve for 200 rounds                                                          \n",
      "Early stopping, best iteration is:                                                                                     \n",
      "[424]\ttraining's auc: 0.970087\ttraining's binary_logloss: 0.371853\tvalid_1's auc: 0.903376\tvalid_1's binary_logloss: 0.569346\n",
      ">> ROC-AUC Score 0.903439                                                                                              \n",
      ">> Custom Score 0.913047                                                                                               \n",
      "\n",
      "Training until validation scores don't improve for 200 rounds                                                          \n",
      "Early stopping, best iteration is:                                                                                     \n",
      "[354]\ttraining's auc: 0.968517\ttraining's binary_logloss: 0.407371\tvalid_1's auc: 0.903053\tvalid_1's binary_logloss: 0.589838\n",
      "Training until validation scores don't improve for 200 rounds                                                          \n",
      "Early stopping, best iteration is:                                                                                     \n",
      "[449]\ttraining's auc: 0.970457\ttraining's binary_logloss: 0.366524\tvalid_1's auc: 0.904168\tvalid_1's binary_logloss: 0.573088\n",
      ">> ROC-AUC Score 0.901723                                                                                              \n",
      ">> Custom Score 0.913935                                                                                               \n",
      "\n",
      "Training until validation scores don't improve for 200 rounds                                                          \n",
      "Early stopping, best iteration is:                                                                                     \n",
      "[402]\ttraining's auc: 0.968392\ttraining's binary_logloss: 0.405349\tvalid_1's auc: 0.904992\tvalid_1's binary_logloss: 0.585213\n",
      "Training until validation scores don't improve for 200 rounds                                                          \n",
      "Early stopping, best iteration is:                                                                                     \n",
      "[490]\ttraining's auc: 0.969941\ttraining's binary_logloss: 0.372082\tvalid_1's auc: 0.904444\tvalid_1's binary_logloss: 0.567938\n",
      ">> ROC-AUC Score 0.903752                                                                                              \n",
      ">> Custom Score 0.912984                                                                                               \n",
      "\n",
      "Training until validation scores don't improve for 200 rounds                                                          \n",
      "Early stopping, best iteration is:                                                                                     \n",
      "[394]\ttraining's auc: 0.96894\ttraining's binary_logloss: 0.396649\tvalid_1's auc: 0.905824\tvalid_1's binary_logloss: 0.589221\n",
      "Training until validation scores don't improve for 200 rounds                                                          \n",
      "Early stopping, best iteration is:                                                                                     \n",
      "[465]\ttraining's auc: 0.970323\ttraining's binary_logloss: 0.368671\tvalid_1's auc: 0.904887\tvalid_1's binary_logloss: 0.571461\n",
      ">> ROC-AUC Score 0.904952                                                                                              \n",
      ">> Custom Score 0.914128                                                                                               \n",
      "\n",
      "Training until validation scores don't improve for 200 rounds                                                          \n",
      "Early stopping, best iteration is:                                                                                     \n",
      "[343]\ttraining's auc: 0.969236\ttraining's binary_logloss: 0.392174\tvalid_1's auc: 0.907842\tvalid_1's binary_logloss: 0.585469\n",
      "Training until validation scores don't improve for 200 rounds                                                          \n",
      "Early stopping, best iteration is:                                                                                     \n",
      "[397]\ttraining's auc: 0.970584\ttraining's binary_logloss: 0.366277\tvalid_1's auc: 0.907527\tvalid_1's binary_logloss: 0.568785\n",
      ">> ROC-AUC Score 0.907535                                                                                              \n",
      ">> Custom Score 0.914566                                                                                               \n",
      "\n",
      "Training until validation scores don't improve for 200 rounds                                                          \n",
      "Early stopping, best iteration is:                                                                                     \n",
      "[350]\ttraining's auc: 0.969116\ttraining's binary_logloss: 0.39043\tvalid_1's auc: 0.908211\tvalid_1's binary_logloss: 0.583867\n",
      "Training until validation scores don't improve for 200 rounds                                                          \n",
      "Early stopping, best iteration is:                                                                                     \n",
      "[391]\ttraining's auc: 0.970143\ttraining's binary_logloss: 0.371589\tvalid_1's auc: 0.904975\tvalid_1's binary_logloss: 0.565947\n",
      ">> ROC-AUC Score 0.906423                                                                                              \n",
      ">> Custom Score 0.913665                                                                                               \n",
      "\n",
      "Training until validation scores don't improve for 200 rounds                                                          \n",
      "Early stopping, best iteration is:                                                                                     \n",
      "[344]\ttraining's auc: 0.968987\ttraining's binary_logloss: 0.391598\tvalid_1's auc: 0.902481\tvalid_1's binary_logloss: 0.581989\n",
      "Training until validation scores don't improve for 200 rounds                                                          \n",
      "Early stopping, best iteration is:                                                                                     \n",
      "[411]\ttraining's auc: 0.970432\ttraining's binary_logloss: 0.361299\tvalid_1's auc: 0.907023\tvalid_1's binary_logloss: 0.559012\n",
      ">> ROC-AUC Score 0.904484                                                                                              \n",
      ">> Custom Score 0.912609                                                                                               \n",
      "\n",
      "Training until validation scores don't improve for 200 rounds                                                          \n",
      "Early stopping, best iteration is:                                                                                     \n",
      "[476]\ttraining's auc: 0.968418\ttraining's binary_logloss: 0.404909\tvalid_1's auc: 0.905443\tvalid_1's binary_logloss: 0.582857\n",
      "Training until validation scores don't improve for 200 rounds                                                          \n",
      "Early stopping, best iteration is:                                                                                     \n",
      "[588]\ttraining's auc: 0.970144\ttraining's binary_logloss: 0.3692\tvalid_1's auc: 0.902775\tvalid_1's binary_logloss: 0.570579\n",
      ">> ROC-AUC Score 0.902450                                                                                              \n",
      ">> Custom Score 0.913090                                                                                               \n",
      "\n",
      "Training until validation scores don't improve for 200 rounds                                                          \n",
      "Early stopping, best iteration is:                                                                                     \n",
      "[351]\ttraining's auc: 0.969067\ttraining's binary_logloss: 0.390043\tvalid_1's auc: 0.905782\tvalid_1's binary_logloss: 0.586382\n",
      "Training until validation scores don't improve for 200 rounds                                                          \n",
      "Early stopping, best iteration is:                                                                                     \n",
      "[401]\ttraining's auc: 0.970369\ttraining's binary_logloss: 0.366894\tvalid_1's auc: 0.905624\tvalid_1's binary_logloss: 0.568483\n",
      ">> ROC-AUC Score 0.905560                                                                                              \n",
      ">> Custom Score 0.914348                                                                                               \n",
      "\n",
      "Training until validation scores don't improve for 200 rounds                                                          \n",
      "Early stopping, best iteration is:                                                                                     \n",
      "[354]\ttraining's auc: 0.969118\ttraining's binary_logloss: 0.391513\tvalid_1's auc: 0.903046\tvalid_1's binary_logloss: 0.580989\n",
      "Training until validation scores don't improve for 200 rounds                                                          \n",
      "Early stopping, best iteration is:                                                                                     \n",
      "[421]\ttraining's auc: 0.970532\ttraining's binary_logloss: 0.362434\tvalid_1's auc: 0.906109\tvalid_1's binary_logloss: 0.561532\n",
      ">> ROC-AUC Score 0.904382                                                                                              \n",
      ">> Custom Score 0.912642                                                                                               \n",
      "\n",
      "Training until validation scores don't improve for 200 rounds                                                          \n",
      "Early stopping, best iteration is:                                                                                     \n",
      "[391]\ttraining's auc: 0.969216\ttraining's binary_logloss: 0.389267\tvalid_1's auc: 0.907976\tvalid_1's binary_logloss: 0.586677\n",
      "Training until validation scores don't improve for 200 rounds                                                          \n",
      "Early stopping, best iteration is:                                                                                     \n",
      "[441]\ttraining's auc: 0.970228\ttraining's binary_logloss: 0.368328\tvalid_1's auc: 0.902755\tvalid_1's binary_logloss: 0.571587\n",
      ">> ROC-AUC Score 0.905178                                                                                              \n",
      ">> Custom Score 0.914213                                                                                               \n",
      "\n",
      "Training until validation scores don't improve for 200 rounds                                                          \n",
      "Early stopping, best iteration is:                                                                                     \n",
      "[324]\ttraining's auc: 0.968146\ttraining's binary_logloss: 0.41119\tvalid_1's auc: 0.902732\tvalid_1's binary_logloss: 0.585965\n",
      "Training until validation scores don't improve for 200 rounds                                                          \n",
      "Early stopping, best iteration is:                                                                                     \n",
      "[406]\ttraining's auc: 0.969979\ttraining's binary_logloss: 0.373061\tvalid_1's auc: 0.904504\tvalid_1's binary_logloss: 0.569062\n",
      ">> ROC-AUC Score 0.902259                                                                                              \n",
      ">> Custom Score 0.912735                                                                                               \n",
      "\n",
      "Training until validation scores don't improve for 200 rounds                                                          \n",
      "Early stopping, best iteration is:                                                                                     \n",
      "[352]\ttraining's auc: 0.969177\ttraining's binary_logloss: 0.391331\tvalid_1's auc: 0.907474\tvalid_1's binary_logloss: 0.58318\n",
      "Training until validation scores don't improve for 200 rounds                                                          \n",
      "Early stopping, best iteration is:                                                                                     \n",
      "[405]\ttraining's auc: 0.970317\ttraining's binary_logloss: 0.36758\tvalid_1's auc: 0.904284\tvalid_1's binary_logloss: 0.568887\n",
      ">> ROC-AUC Score 0.905684                                                                                              \n",
      ">> Custom Score 0.913932                                                                                               \n",
      "\n",
      "Training until validation scores don't improve for 200 rounds                                                          \n",
      "Early stopping, best iteration is:                                                                                     \n",
      "[334]\ttraining's auc: 0.968524\ttraining's binary_logloss: 0.400181\tvalid_1's auc: 0.899006\tvalid_1's binary_logloss: 0.582837\n",
      "Training until validation scores don't improve for 200 rounds                                                          \n",
      "Early stopping, best iteration is:                                                                                     \n",
      "[432]\ttraining's auc: 0.97089\ttraining's binary_logloss: 0.355593\tvalid_1's auc: 0.909276\tvalid_1's binary_logloss: 0.559333\n",
      ">> ROC-AUC Score 0.902912                                                                                              \n",
      ">> Custom Score 0.912472                                                                                               \n",
      "\n",
      "Training until validation scores don't improve for 200 rounds                                                          \n",
      "Early stopping, best iteration is:                                                                                     \n",
      "[355]\ttraining's auc: 0.969201\ttraining's binary_logloss: 0.397427\tvalid_1's auc: 0.907812\tvalid_1's binary_logloss: 0.587486\n",
      "Training until validation scores don't improve for 200 rounds                                                          \n",
      "Early stopping, best iteration is:                                                                                     \n",
      "[440]\ttraining's auc: 0.970918\ttraining's binary_logloss: 0.359939\tvalid_1's auc: 0.906681\tvalid_1's binary_logloss: 0.576434\n",
      ">> ROC-AUC Score 0.905623                                                                                              \n",
      ">> Custom Score 0.915401                                                                                               \n",
      "\n",
      "Training until validation scores don't improve for 200 rounds                                                          \n",
      "Early stopping, best iteration is:                                                                                     \n",
      "[355]\ttraining's auc: 0.967374\ttraining's binary_logloss: 0.416864\tvalid_1's auc: 0.90271\tvalid_1's binary_logloss: 0.59034\n",
      "Training until validation scores don't improve for 200 rounds                                                          \n",
      "Early stopping, best iteration is:                                                                                     \n",
      "[448]\ttraining's auc: 0.969715\ttraining's binary_logloss: 0.376742\tvalid_1's auc: 0.902087\tvalid_1's binary_logloss: 0.580738\n",
      ">> ROC-AUC Score 0.900004                                                                                              \n",
      ">> Custom Score 0.914411                                                                                               \n",
      "\n",
      "Training until validation scores don't improve for 200 rounds                                                          \n",
      "Early stopping, best iteration is:                                                                                     \n",
      "[351]\ttraining's auc: 0.969175\ttraining's binary_logloss: 0.394556\tvalid_1's auc: 0.907898\tvalid_1's binary_logloss: 0.589246\n",
      "Training until validation scores don't improve for 200 rounds                                                          \n",
      "Early stopping, best iteration is:                                                                                     \n",
      "[431]\ttraining's auc: 0.971037\ttraining's binary_logloss: 0.358453\tvalid_1's auc: 0.908363\tvalid_1's binary_logloss: 0.573902\n",
      ">> ROC-AUC Score 0.906949                                                                                              \n",
      ">> Custom Score 0.915387                                                                                               \n",
      "\n",
      "Training until validation scores don't improve for 200 rounds                                                          \n",
      "Early stopping, best iteration is:                                                                                     \n",
      "[354]\ttraining's auc: 0.96937\ttraining's binary_logloss: 0.391676\tvalid_1's auc: 0.903338\tvalid_1's binary_logloss: 0.586788\n",
      "Training until validation scores don't improve for 200 rounds                                                          \n",
      "Early stopping, best iteration is:                                                                                     \n",
      "[423]\ttraining's auc: 0.970667\ttraining's binary_logloss: 0.361028\tvalid_1's auc: 0.904204\tvalid_1's binary_logloss: 0.570609\n",
      ">> ROC-AUC Score 0.903257                                                                                              \n",
      ">> Custom Score 0.913815                                                                                               \n",
      "\n",
      "Training until validation scores don't improve for 200 rounds                                                          \n",
      "Early stopping, best iteration is:                                                                                     \n",
      "[418]\ttraining's auc: 0.968732\ttraining's binary_logloss: 0.404185\tvalid_1's auc: 0.907189\tvalid_1's binary_logloss: 0.588396\n",
      "Training until validation scores don't improve for 200 rounds                                                          \n",
      "Early stopping, best iteration is:                                                                                     \n",
      "[535]\ttraining's auc: 0.970699\ttraining's binary_logloss: 0.361958\tvalid_1's auc: 0.903425\tvalid_1's binary_logloss: 0.578594\n",
      ">> ROC-AUC Score 0.902034                                                                                              \n",
      ">> Custom Score 0.914571                                                                                               \n",
      "\n",
      "Training until validation scores don't improve for 200 rounds                                                          \n",
      "Early stopping, best iteration is:                                                                                     \n",
      "[359]\ttraining's auc: 0.968179\ttraining's binary_logloss: 0.408821\tvalid_1's auc: 0.906122\tvalid_1's binary_logloss: 0.59419\n",
      "Training until validation scores don't improve for 200 rounds                                                          \n",
      "Early stopping, best iteration is:                                                                                     \n",
      "[430]\ttraining's auc: 0.969671\ttraining's binary_logloss: 0.378265\tvalid_1's auc: 0.902837\tvalid_1's binary_logloss: 0.590381\n",
      ">> ROC-AUC Score 0.903156                                                                                              \n",
      ">> Custom Score 0.916212                                                                                               \n",
      "\n",
      "Training until validation scores don't improve for 200 rounds                                                          \n",
      "Early stopping, best iteration is:                                                                                     \n",
      "[346]\ttraining's auc: 0.967921\ttraining's binary_logloss: 0.412489\tvalid_1's auc: 0.905724\tvalid_1's binary_logloss: 0.594138\n",
      "Training until validation scores don't improve for 200 rounds                                                          \n",
      "Early stopping, best iteration is:                                                                                     \n",
      "[420]\ttraining's auc: 0.969722\ttraining's binary_logloss: 0.379213\tvalid_1's auc: 0.902893\tvalid_1's binary_logloss: 0.589376\n",
      ">> ROC-AUC Score 0.902771                                                                                              \n",
      ">> Custom Score 0.915858                                                                                               \n",
      "\n",
      "Training until validation scores don't improve for 200 rounds                                                          \n",
      "Early stopping, best iteration is:                                                                                     \n",
      "[403]\ttraining's auc: 0.968729\ttraining's binary_logloss: 0.402235\tvalid_1's auc: 0.907299\tvalid_1's binary_logloss: 0.589484\n",
      "Training until validation scores don't improve for 200 rounds                                                          \n",
      "Early stopping, best iteration is:                                                                                     \n",
      "[507]\ttraining's auc: 0.970751\ttraining's binary_logloss: 0.362631\tvalid_1's auc: 0.904794\tvalid_1's binary_logloss: 0.576566\n",
      ">> ROC-AUC Score 0.903614                                                                                              \n",
      ">> Custom Score 0.914694                                                                                               \n",
      "\n",
      "Training until validation scores don't improve for 200 rounds                                                          \n",
      "Early stopping, best iteration is:                                                                                     \n",
      "[397]\ttraining's auc: 0.969162\ttraining's binary_logloss: 0.397725\tvalid_1's auc: 0.902371\tvalid_1's binary_logloss: 0.589114\n",
      "Training until validation scores don't improve for 200 rounds                                                          \n",
      "Early stopping, best iteration is:                                                                                     \n",
      "[498]\ttraining's auc: 0.970812\ttraining's binary_logloss: 0.358399\tvalid_1's auc: 0.905758\tvalid_1's binary_logloss: 0.570929\n",
      ">> ROC-AUC Score 0.902524                                                                                              \n",
      ">> Custom Score 0.913907                                                                                               \n",
      "\n",
      "Training until validation scores don't improve for 200 rounds                                                          \n",
      "Early stopping, best iteration is:                                                                                     \n",
      "[478]\ttraining's auc: 0.969465\ttraining's binary_logloss: 0.391828\tvalid_1's auc: 0.908006\tvalid_1's binary_logloss: 0.588261\n",
      "Training until validation scores don't improve for 200 rounds                                                          \n",
      "Early stopping, best iteration is:                                                                                     \n",
      "[556]\ttraining's auc: 0.970502\ttraining's binary_logloss: 0.366578\tvalid_1's auc: 0.904044\tvalid_1's binary_logloss: 0.578626\n",
      ">> ROC-AUC Score 0.905612                                                                                              \n",
      ">> Custom Score 0.915145                                                                                               \n",
      "\n",
      "Training until validation scores don't improve for 200 rounds                                                          \n",
      "Early stopping, best iteration is:                                                                                     \n",
      "[349]\ttraining's auc: 0.967588\ttraining's binary_logloss: 0.417662\tvalid_1's auc: 0.90521\tvalid_1's binary_logloss: 0.594106\n",
      "Training until validation scores don't improve for 200 rounds                                                          \n",
      "Early stopping, best iteration is:                                                                                     \n",
      "[429]\ttraining's auc: 0.969432\ttraining's binary_logloss: 0.382184\tvalid_1's auc: 0.901025\tvalid_1's binary_logloss: 0.591755\n",
      ">> ROC-AUC Score 0.900790                                                                                              \n",
      ">> Custom Score 0.915487                                                                                               \n",
      "\n",
      "Training until validation scores don't improve for 200 rounds                                                          \n",
      "Early stopping, best iteration is:                                                                                     \n",
      "[335]\ttraining's auc: 0.968906\ttraining's binary_logloss: 0.402091\tvalid_1's auc: 0.905639\tvalid_1's binary_logloss: 0.590988\n",
      "Training until validation scores don't improve for 200 rounds                                                          \n",
      "Early stopping, best iteration is:                                                                                     \n",
      "[422]\ttraining's auc: 0.970746\ttraining's binary_logloss: 0.362476\tvalid_1's auc: 0.906499\tvalid_1's binary_logloss: 0.576133\n",
      ">> ROC-AUC Score 0.904067                                                                                              \n",
      ">> Custom Score 0.915122                                                                                               \n",
      "\n",
      "Training until validation scores don't improve for 200 rounds                                                          \n",
      "Early stopping, best iteration is:                                                                                     \n",
      "[466]\ttraining's auc: 0.969613\ttraining's binary_logloss: 0.384303\tvalid_1's auc: 0.905933\tvalid_1's binary_logloss: 0.582441\n",
      "Training until validation scores don't improve for 200 rounds                                                          \n",
      "Early stopping, best iteration is:                                                                                     \n",
      "[540]\ttraining's auc: 0.97067\ttraining's binary_logloss: 0.359749\tvalid_1's auc: 0.905199\tvalid_1's binary_logloss: 0.565968\n",
      ">> ROC-AUC Score 0.905308                                                                                              \n",
      ">> Custom Score 0.913289                                                                                               \n",
      "\n",
      "Training until validation scores don't improve for 200 rounds                                                          \n",
      "Early stopping, best iteration is:                                                                                     \n",
      "[343]\ttraining's auc: 0.968991\ttraining's binary_logloss: 0.401795\tvalid_1's auc: 0.906587\tvalid_1's binary_logloss: 0.588283\n",
      "Training until validation scores don't improve for 200 rounds                                                          \n",
      "Early stopping, best iteration is:                                                                                     \n",
      "[429]\ttraining's auc: 0.970775\ttraining's binary_logloss: 0.363122\tvalid_1's auc: 0.902128\tvalid_1's binary_logloss: 0.581904\n",
      ">> ROC-AUC Score 0.901909                                                                                              \n",
      ">> Custom Score 0.914611                                                                                               \n",
      "\n",
      "Training until validation scores don't improve for 200 rounds                                                          \n",
      "Early stopping, best iteration is:                                                                                     \n",
      "[334]\ttraining's auc: 0.968033\ttraining's binary_logloss: 0.407536\tvalid_1's auc: 0.906976\tvalid_1's binary_logloss: 0.591709\n",
      "Training until validation scores don't improve for 200 rounds                                                          \n",
      "Early stopping, best iteration is:                                                                                     \n",
      "[371]\ttraining's auc: 0.968706\ttraining's binary_logloss: 0.391318\tvalid_1's auc: 0.89929\tvalid_1's binary_logloss: 0.585289\n",
      ">> ROC-AUC Score 0.903009                                                                                              \n",
      ">> Custom Score 0.915003                                                                                               \n",
      "\n",
      "Training until validation scores don't improve for 200 rounds                                                          \n",
      "Early stopping, best iteration is:                                                                                     \n",
      "[354]\ttraining's auc: 0.968847\ttraining's binary_logloss: 0.39952\tvalid_1's auc: 0.907226\tvalid_1's binary_logloss: 0.585903\n",
      "Training until validation scores don't improve for 200 rounds                                                          \n",
      "Early stopping, best iteration is:                                                                                     \n",
      "[429]\ttraining's auc: 0.970465\ttraining's binary_logloss: 0.366376\tvalid_1's auc: 0.906304\tvalid_1's binary_logloss: 0.568073\n",
      ">> ROC-AUC Score 0.905948                                                                                              \n",
      ">> Custom Score 0.913881                                                                                               \n",
      "\n",
      "Training until validation scores don't improve for 200 rounds                                                          \n",
      "Early stopping, best iteration is:                                                                                     \n",
      "[355]\ttraining's auc: 0.968255\ttraining's binary_logloss: 0.414317\tvalid_1's auc: 0.904418\tvalid_1's binary_logloss: 0.590767\n",
      "Training until validation scores don't improve for 200 rounds                                                          \n",
      "Early stopping, best iteration is:                                                                                     \n",
      "[470]\ttraining's auc: 0.970497\ttraining's binary_logloss: 0.366364\tvalid_1's auc: 0.906367\tvalid_1's binary_logloss: 0.573084\n",
      ">> ROC-AUC Score 0.901540                                                                                              \n",
      ">> Custom Score 0.914065                                                                                               \n",
      "\n",
      "Training until validation scores don't improve for 200 rounds                                                          \n",
      "Early stopping, best iteration is:                                                                                     \n",
      "[396]\ttraining's auc: 0.967874\ttraining's binary_logloss: 0.418033\tvalid_1's auc: 0.90352\tvalid_1's binary_logloss: 0.587925\n",
      "Training until validation scores don't improve for 200 rounds                                                          \n",
      "Early stopping, best iteration is:                                                                                     \n",
      "[530]\ttraining's auc: 0.970411\ttraining's binary_logloss: 0.367546\tvalid_1's auc: 0.90624\tvalid_1's binary_logloss: 0.570562\n",
      ">> ROC-AUC Score 0.900684                                                                                              \n",
      ">> Custom Score 0.913463                                                                                               \n",
      "\n",
      "Training until validation scores don't improve for 200 rounds                                                          \n",
      "Early stopping, best iteration is:                                                                                     \n",
      "[335]\ttraining's auc: 0.969167\ttraining's binary_logloss: 0.39581\tvalid_1's auc: 0.900393\tvalid_1's binary_logloss: 0.588611\n",
      "Training until validation scores don't improve for 200 rounds                                                          \n",
      "Early stopping, best iteration is:                                                                                     \n",
      "[408]\ttraining's auc: 0.970449\ttraining's binary_logloss: 0.362482\tvalid_1's auc: 0.905999\tvalid_1's binary_logloss: 0.565508\n",
      ">> ROC-AUC Score 0.902764                                                                                              \n",
      ">> Custom Score 0.913202                                                                                               \n",
      "\n",
      "Training until validation scores don't improve for 200 rounds                                                          \n",
      "Early stopping, best iteration is:                                                                                     \n",
      "[393]\ttraining's auc: 0.967349\ttraining's binary_logloss: 0.419461\tvalid_1's auc: 0.906309\tvalid_1's binary_logloss: 0.59331\n",
      "Training until validation scores don't improve for 200 rounds                                                          \n",
      "Early stopping, best iteration is:                                                                                     \n",
      "[507]\ttraining's auc: 0.969825\ttraining's binary_logloss: 0.376182\tvalid_1's auc: 0.902803\tvalid_1's binary_logloss: 0.589546\n",
      ">> ROC-AUC Score 0.899668                                                                                              \n",
      ">> Custom Score 0.915668                                                                                               \n",
      "\n",
      "Training until validation scores don't improve for 200 rounds                                                          \n",
      "Early stopping, best iteration is:                                                                                     \n",
      "[336]\ttraining's auc: 0.968732\ttraining's binary_logloss: 0.401543\tvalid_1's auc: 0.9034\tvalid_1's binary_logloss: 0.58861\n",
      "Training until validation scores don't improve for 200 rounds                                                          \n",
      "Early stopping, best iteration is:                                                                                     \n",
      "[410]\ttraining's auc: 0.970474\ttraining's binary_logloss: 0.367222\tvalid_1's auc: 0.905385\tvalid_1's binary_logloss: 0.571143\n",
      ">> ROC-AUC Score 0.903716                                                                                              \n",
      ">> Custom Score 0.913698                                                                                               \n",
      "\n",
      "Training until validation scores don't improve for 200 rounds                                                          \n",
      "Early stopping, best iteration is:                                                                                     \n",
      "[405]\ttraining's auc: 0.969044\ttraining's binary_logloss: 0.397459\tvalid_1's auc: 0.907455\tvalid_1's binary_logloss: 0.589561\n",
      "Training until validation scores don't improve for 200 rounds                                                          \n",
      "Early stopping, best iteration is:                                                                                     \n",
      "[489]\ttraining's auc: 0.970602\ttraining's binary_logloss: 0.364937\tvalid_1's auc: 0.905591\tvalid_1's binary_logloss: 0.575146\n",
      ">> ROC-AUC Score 0.905486                                                                                              \n",
      ">> Custom Score 0.914762                                                                                               \n",
      "\n",
      "Training until validation scores don't improve for 200 rounds                                                          \n",
      "Early stopping, best iteration is:                                                                                     \n",
      "[354]\ttraining's auc: 0.968175\ttraining's binary_logloss: 0.411429\tvalid_1's auc: 0.902633\tvalid_1's binary_logloss: 0.588073\n",
      "Training until validation scores don't improve for 200 rounds                                                          \n",
      "Early stopping, best iteration is:                                                                                     \n",
      "[466]\ttraining's auc: 0.970681\ttraining's binary_logloss: 0.363206\tvalid_1's auc: 0.905515\tvalid_1's binary_logloss: 0.573268\n",
      ">> ROC-AUC Score 0.900877                                                                                              \n",
      ">> Custom Score 0.913868                                                                                               \n",
      "\n",
      "Training until validation scores don't improve for 200 rounds                                                          \n",
      "Early stopping, best iteration is:                                                                                     \n",
      "[313]\ttraining's auc: 0.967889\ttraining's binary_logloss: 0.417826\tvalid_1's auc: 0.903298\tvalid_1's binary_logloss: 0.588075\n",
      "Training until validation scores don't improve for 200 rounds                                                          \n",
      "Early stopping, best iteration is:                                                                                     \n",
      "[420]\ttraining's auc: 0.970522\ttraining's binary_logloss: 0.366598\tvalid_1's auc: 0.904712\tvalid_1's binary_logloss: 0.572618\n",
      ">> ROC-AUC Score 0.899084                                                                                              \n",
      ">> Custom Score 0.913584                                                                                               \n",
      "\n",
      "Training until validation scores don't improve for 200 rounds                                                          \n",
      "Early stopping, best iteration is:                                                                                     \n",
      "[354]\ttraining's auc: 0.969027\ttraining's binary_logloss: 0.399695\tvalid_1's auc: 0.903378\tvalid_1's binary_logloss: 0.584818\n",
      "Training until validation scores don't improve for 200 rounds                                                          \n",
      "Early stopping, best iteration is:                                                                                     \n",
      "[461]\ttraining's auc: 0.971151\ttraining's binary_logloss: 0.353716\tvalid_1's auc: 0.907294\tvalid_1's binary_logloss: 0.570624\n",
      ">> ROC-AUC Score 0.902718                                                                                              \n",
      ">> Custom Score 0.914050                                                                                               \n",
      "\n",
      "Training until validation scores don't improve for 200 rounds                                                          \n",
      "Early stopping, best iteration is:                                                                                     \n",
      "[334]\ttraining's auc: 0.968863\ttraining's binary_logloss: 0.398437\tvalid_1's auc: 0.90341\tvalid_1's binary_logloss: 0.58757\n",
      "Training until validation scores don't improve for 200 rounds                                                          \n",
      "Early stopping, best iteration is:                                                                                     \n",
      "[392]\ttraining's auc: 0.970066\ttraining's binary_logloss: 0.371233\tvalid_1's auc: 0.904678\tvalid_1's binary_logloss: 0.566682\n",
      ">> ROC-AUC Score 0.903777                                                                                              \n",
      ">> Custom Score 0.913437                                                                                               \n",
      "\n",
      "Training until validation scores don't improve for 200 rounds                                                          \n",
      "Early stopping, best iteration is:                                                                                     \n",
      "[336]\ttraining's auc: 0.968653\ttraining's binary_logloss: 0.399428\tvalid_1's auc: 0.905544\tvalid_1's binary_logloss: 0.583781\n",
      "Training until validation scores don't improve for 200 rounds                                                          \n",
      "Early stopping, best iteration is:                                                                                     \n",
      "[402]\ttraining's auc: 0.970264\ttraining's binary_logloss: 0.368539\tvalid_1's auc: 0.904595\tvalid_1's binary_logloss: 0.569724\n",
      ">> ROC-AUC Score 0.904547                                                                                              \n",
      ">> Custom Score 0.913504                                                                                               \n",
      "\n",
      "Training until validation scores don't improve for 200 rounds                                                          \n",
      "Early stopping, best iteration is:                                                                                     \n",
      "[344]\ttraining's auc: 0.968576\ttraining's binary_logloss: 0.400346\tvalid_1's auc: 0.903551\tvalid_1's binary_logloss: 0.585826\n",
      "Training until validation scores don't improve for 200 rounds                                                          \n",
      "Early stopping, best iteration is:                                                                                     \n",
      "[409]\ttraining's auc: 0.970143\ttraining's binary_logloss: 0.371079\tvalid_1's auc: 0.903834\tvalid_1's binary_logloss: 0.570382\n",
      ">> ROC-AUC Score 0.903277                                                                                              \n",
      ">> Custom Score 0.913491                                                                                               \n",
      "\n",
      "Training until validation scores don't improve for 200 rounds                                                          \n",
      "Early stopping, best iteration is:                                                                                     \n",
      "[352]\ttraining's auc: 0.969201\ttraining's binary_logloss: 0.389426\tvalid_1's auc: 0.906478\tvalid_1's binary_logloss: 0.585215\n",
      "Training until validation scores don't improve for 200 rounds                                                          \n",
      "Early stopping, best iteration is:                                                                                     \n",
      "[395]\ttraining's auc: 0.970207\ttraining's binary_logloss: 0.369896\tvalid_1's auc: 0.90344\tvalid_1's binary_logloss: 0.569707\n",
      ">> ROC-AUC Score 0.904837                                                                                              \n",
      ">> Custom Score 0.914051                                                                                               \n",
      "\n",
      "Training until validation scores don't improve for 200 rounds                                                          \n",
      "Early stopping, best iteration is:                                                                                     \n",
      "[337]\ttraining's auc: 0.968748\ttraining's binary_logloss: 0.401219\tvalid_1's auc: 0.903538\tvalid_1's binary_logloss: 0.585233\n",
      "Training until validation scores don't improve for 200 rounds                                                          \n",
      "Early stopping, best iteration is:                                                                                     \n",
      "[400]\ttraining's auc: 0.96996\ttraining's binary_logloss: 0.372618\tvalid_1's auc: 0.902237\tvalid_1's binary_logloss: 0.56945\n",
      ">> ROC-AUC Score 0.902457                                                                                              \n",
      ">> Custom Score 0.912862                                                                                               \n",
      "\n",
      "Training until validation scores don't improve for 200 rounds                                                          \n",
      "Early stopping, best iteration is:                                                                                     \n",
      "[358]\ttraining's auc: 0.968576\ttraining's binary_logloss: 0.401786\tvalid_1's auc: 0.903467\tvalid_1's binary_logloss: 0.585512\n",
      "Training until validation scores don't improve for 200 rounds                                                          \n",
      "Early stopping, best iteration is:                                                                                     \n",
      "[425]\ttraining's auc: 0.970012\ttraining's binary_logloss: 0.372707\tvalid_1's auc: 0.903917\tvalid_1's binary_logloss: 0.567067\n",
      ">> ROC-AUC Score 0.903337                                                                                              \n",
      ">> Custom Score 0.912734                                                                                               \n",
      "\n",
      "Training until validation scores don't improve for 200 rounds                                                          \n",
      "Early stopping, best iteration is:                                                                                     \n",
      "[479]\ttraining's auc: 0.968299\ttraining's binary_logloss: 0.405153\tvalid_1's auc: 0.904911\tvalid_1's binary_logloss: 0.583929\n",
      "Training until validation scores don't improve for 200 rounds                                                          \n",
      "Early stopping, best iteration is:                                                                                     \n",
      "[586]\ttraining's auc: 0.970045\ttraining's binary_logloss: 0.37089\tvalid_1's auc: 0.902154\tvalid_1's binary_logloss: 0.571006\n",
      ">> ROC-AUC Score 0.902214                                                                                              \n",
      ">> Custom Score 0.913029                                                                                               \n",
      "\n",
      "Training until validation scores don't improve for 200 rounds                                                          \n",
      "Early stopping, best iteration is:                                                                                     \n",
      "[346]\ttraining's auc: 0.968663\ttraining's binary_logloss: 0.402647\tvalid_1's auc: 0.904264\tvalid_1's binary_logloss: 0.587327\n",
      "Training until validation scores don't improve for 200 rounds                                                          \n",
      "Early stopping, best iteration is:                                                                                     \n",
      "[423]\ttraining's auc: 0.970399\ttraining's binary_logloss: 0.368615\tvalid_1's auc: 0.90577\tvalid_1's binary_logloss: 0.571433\n",
      ">> ROC-AUC Score 0.904257                                                                                              \n",
      ">> Custom Score 0.913708                                                                                               \n",
      "\n",
      "Training until validation scores don't improve for 200 rounds                                                          \n",
      "Early stopping, best iteration is:                                                                                     \n",
      "[337]\ttraining's auc: 0.968394\ttraining's binary_logloss: 0.406211\tvalid_1's auc: 0.902265\tvalid_1's binary_logloss: 0.586084\n",
      "Training until validation scores don't improve for 200 rounds                                                          \n",
      "Early stopping, best iteration is:                                                                                     \n",
      "[431]\ttraining's auc: 0.970578\ttraining's binary_logloss: 0.36391\tvalid_1's auc: 0.905081\tvalid_1's binary_logloss: 0.567024\n",
      ">> ROC-AUC Score 0.901787                                                                                              \n",
      ">> Custom Score 0.913118                                                                                               \n",
      "\n",
      "Training until validation scores don't improve for 200 rounds                                                          \n",
      "Early stopping, best iteration is:                                                                                     \n",
      "[334]\ttraining's auc: 0.968796\ttraining's binary_logloss: 0.400051\tvalid_1's auc: 0.905364\tvalid_1's binary_logloss: 0.586423\n",
      "Training until validation scores don't improve for 200 rounds                                                          \n",
      "Early stopping, best iteration is:                                                                                     \n",
      "[409]\ttraining's auc: 0.970545\ttraining's binary_logloss: 0.365266\tvalid_1's auc: 0.907762\tvalid_1's binary_logloss: 0.569352\n",
      ">> ROC-AUC Score 0.905744                                                                                              \n",
      ">> Custom Score 0.914312                                                                                               \n",
      "\n",
      "Training until validation scores don't improve for 200 rounds                                                          \n",
      "Early stopping, best iteration is:                                                                                     \n",
      "[397]\ttraining's auc: 0.968243\ttraining's binary_logloss: 0.406115\tvalid_1's auc: 0.906265\tvalid_1's binary_logloss: 0.594857\n",
      "Training until validation scores don't improve for 200 rounds                                                          \n",
      "Early stopping, best iteration is:                                                                                     \n",
      "[466]\ttraining's auc: 0.969739\ttraining's binary_logloss: 0.378508\tvalid_1's auc: 0.903228\tvalid_1's binary_logloss: 0.58768\n",
      ">> ROC-AUC Score 0.903868                                                                                              \n",
      ">> Custom Score 0.916211                                                                                               \n",
      "\n",
      "Training until validation scores don't improve for 200 rounds                                                          \n",
      "Early stopping, best iteration is:                                                                                     \n",
      "[336]\ttraining's auc: 0.968696\ttraining's binary_logloss: 0.398997\tvalid_1's auc: 0.905751\tvalid_1's binary_logloss: 0.583823\n",
      "Training until validation scores don't improve for 200 rounds                                                          \n",
      "Early stopping, best iteration is:                                                                                     \n",
      "[411]\ttraining's auc: 0.970405\ttraining's binary_logloss: 0.364259\tvalid_1's auc: 0.905942\tvalid_1's binary_logloss: 0.567292\n",
      ">> ROC-AUC Score 0.904874                                                                                              \n",
      ">> Custom Score 0.913413                                                                                               \n",
      "\n",
      "Training until validation scores don't improve for 200 rounds                                                          \n",
      "Early stopping, best iteration is:                                                                                     \n",
      "[353]\ttraining's auc: 0.969217\ttraining's binary_logloss: 0.39493\tvalid_1's auc: 0.905407\tvalid_1's binary_logloss: 0.588681\n",
      "Training until validation scores don't improve for 200 rounds                                                          \n",
      "Early stopping, best iteration is:                                                                                     \n",
      "[423]\ttraining's auc: 0.97057\ttraining's binary_logloss: 0.36418\tvalid_1's auc: 0.905239\tvalid_1's binary_logloss: 0.573592\n",
      ">> ROC-AUC Score 0.904786                                                                                              \n",
      ">> Custom Score 0.914792                                                                                               \n",
      "\n",
      "Training until validation scores don't improve for 200 rounds                                                          \n",
      "Early stopping, best iteration is:                                                                                     \n",
      "[354]\ttraining's auc: 0.968657\ttraining's binary_logloss: 0.404422\tvalid_1's auc: 0.907852\tvalid_1's binary_logloss: 0.589117\n",
      "Training until validation scores don't improve for 200 rounds                                                          \n",
      "Early stopping, best iteration is:                                                                                     \n",
      "[449]\ttraining's auc: 0.97069\ttraining's binary_logloss: 0.363261\tvalid_1's auc: 0.907621\tvalid_1's binary_logloss: 0.573692\n",
      ">> ROC-AUC Score 0.905633                                                                                              \n",
      ">> Custom Score 0.914965                                                                                               \n",
      "\n",
      "Training until validation scores don't improve for 200 rounds                                                          \n",
      "Early stopping, best iteration is:                                                                                     \n",
      "[374]\ttraining's auc: 0.969064\ttraining's binary_logloss: 0.39133\tvalid_1's auc: 0.902183\tvalid_1's binary_logloss: 0.582437\n",
      "Training until validation scores don't improve for 200 rounds                                                          \n",
      "Early stopping, best iteration is:                                                                                     \n",
      "[448]\ttraining's auc: 0.970613\ttraining's binary_logloss: 0.359751\tvalid_1's auc: 0.908962\tvalid_1's binary_logloss: 0.558695\n",
      ">> ROC-AUC Score 0.905351                                                                                              \n",
      ">> Custom Score 0.912666                                                                                               \n",
      "\n",
      "Training until validation scores don't improve for 200 rounds                                                          \n",
      "Early stopping, best iteration is:                                                                                     \n",
      "[354]\ttraining's auc: 0.968982\ttraining's binary_logloss: 0.401755\tvalid_1's auc: 0.907557\tvalid_1's binary_logloss: 0.589647\n",
      "Training until validation scores don't improve for 200 rounds                                                          \n",
      "Early stopping, best iteration is:                                                                                     \n",
      "[458]\ttraining's auc: 0.971051\ttraining's binary_logloss: 0.357024\tvalid_1's auc: 0.907631\tvalid_1's binary_logloss: 0.574776\n",
      ">> ROC-AUC Score 0.904814                                                                                              \n",
      ">> Custom Score 0.915389                                                                                               \n",
      "\n",
      "Training until validation scores don't improve for 200 rounds                                                          \n",
      "Early stopping, best iteration is:                                                                                     \n",
      "[373]\ttraining's auc: 0.96756\ttraining's binary_logloss: 0.413253\tvalid_1's auc: 0.904447\tvalid_1's binary_logloss: 0.594037\n",
      "Training until validation scores don't improve for 200 rounds                                                          \n",
      "Early stopping, best iteration is:                                                                                     \n",
      "[469]\ttraining's auc: 0.969946\ttraining's binary_logloss: 0.373069\tvalid_1's auc: 0.903482\tvalid_1's binary_logloss: 0.58683\n",
      ">> ROC-AUC Score 0.901061                                                                                              \n",
      ">> Custom Score 0.915741                                                                                               \n",
      "\n",
      "Training until validation scores don't improve for 200 rounds                                                          \n",
      "Early stopping, best iteration is:                                                                                     \n",
      "[340]\ttraining's auc: 0.968734\ttraining's binary_logloss: 0.399647\tvalid_1's auc: 0.903937\tvalid_1's binary_logloss: 0.584811\n",
      "Training until validation scores don't improve for 200 rounds                                                          \n",
      "Early stopping, best iteration is:                                                                                     \n",
      "[421]\ttraining's auc: 0.970637\ttraining's binary_logloss: 0.363312\tvalid_1's auc: 0.907053\tvalid_1's binary_logloss: 0.566875\n",
      ">> ROC-AUC Score 0.904679                                                                                              \n",
      ">> Custom Score 0.913732                                                                                               \n",
      "\n",
      "Training until validation scores don't improve for 200 rounds                                                          \n",
      "Early stopping, best iteration is:                                                                                     \n",
      "[402]\ttraining's auc: 0.968659\ttraining's binary_logloss: 0.405835\tvalid_1's auc: 0.905779\tvalid_1's binary_logloss: 0.591268\n",
      "Training until validation scores don't improve for 200 rounds                                                          \n",
      "Early stopping, best iteration is:                                                                                     \n",
      "[511]\ttraining's auc: 0.970544\ttraining's binary_logloss: 0.36458\tvalid_1's auc: 0.905381\tvalid_1's binary_logloss: 0.575027\n",
      ">> ROC-AUC Score 0.903060                                                                                              \n",
      ">> Custom Score 0.914651                                                                                               \n",
      "\n",
      "Training until validation scores don't improve for 200 rounds                                                          \n",
      "Early stopping, best iteration is:                                                                                     \n",
      "[493]\ttraining's auc: 0.969178\ttraining's binary_logloss: 0.392074\tvalid_1's auc: 0.90388\tvalid_1's binary_logloss: 0.58197\n",
      "Training until validation scores don't improve for 200 rounds                                                          \n",
      "Early stopping, best iteration is:                                                                                     \n",
      "[597]\ttraining's auc: 0.970688\ttraining's binary_logloss: 0.359069\tvalid_1's auc: 0.905065\tvalid_1's binary_logloss: 0.566714\n",
      ">> ROC-AUC Score 0.903786                                                                                              \n",
      ">> Custom Score 0.913139                                                                                               \n",
      "\n",
      "Training until validation scores don't improve for 200 rounds                                                          \n",
      "Early stopping, best iteration is:                                                                                     \n",
      "[361]\ttraining's auc: 0.969257\ttraining's binary_logloss: 0.393264\tvalid_1's auc: 0.908388\tvalid_1's binary_logloss: 0.58873\n",
      "Training until validation scores don't improve for 200 rounds                                                          \n",
      "Early stopping, best iteration is:                                                                                     \n",
      "[428]\ttraining's auc: 0.970741\ttraining's binary_logloss: 0.363578\tvalid_1's auc: 0.90419\tvalid_1's binary_logloss: 0.577176\n",
      ">> ROC-AUC Score 0.905522                                                                                              \n",
      ">> Custom Score 0.915017                                                                                               \n",
      "\n",
      "Training until validation scores don't improve for 200 rounds                                                          \n",
      "Early stopping, best iteration is:                                                                                     \n",
      "[371]\ttraining's auc: 0.967671\ttraining's binary_logloss: 0.410789\tvalid_1's auc: 0.904585\tvalid_1's binary_logloss: 0.590033\n",
      "Training until validation scores don't improve for 200 rounds                                                          \n",
      "Early stopping, best iteration is:                                                                                     \n",
      "[441]\ttraining's auc: 0.969452\ttraining's binary_logloss: 0.380359\tvalid_1's auc: 0.9017\tvalid_1's binary_logloss: 0.582791\n",
      ">> ROC-AUC Score 0.902361                                                                                              \n",
      ">> Custom Score 0.914883                                                                                               \n",
      "\n",
      "Training until validation scores don't improve for 200 rounds                                                          \n",
      "Early stopping, best iteration is:                                                                                     \n",
      "[354]\ttraining's auc: 0.969121\ttraining's binary_logloss: 0.393245\tvalid_1's auc: 0.90677\tvalid_1's binary_logloss: 0.58618\n",
      "Training until validation scores don't improve for 200 rounds                                                          \n",
      "Early stopping, best iteration is:                                                                                     \n",
      "[428]\ttraining's auc: 0.970869\ttraining's binary_logloss: 0.35998\tvalid_1's auc: 0.907522\tvalid_1's binary_logloss: 0.570651\n",
      ">> ROC-AUC Score 0.906421                                                                                              \n",
      ">> Custom Score 0.914767                                                                                               \n",
      "\n",
      "Training until validation scores don't improve for 200 rounds                                                          \n",
      "Early stopping, best iteration is:                                                                                     \n",
      "[349]\ttraining's auc: 0.96857\ttraining's binary_logloss: 0.408326\tvalid_1's auc: 0.904809\tvalid_1's binary_logloss: 0.592134\n",
      "Training until validation scores don't improve for 200 rounds                                                          \n",
      "Early stopping, best iteration is:                                                                                     \n",
      "[457]\ttraining's auc: 0.970916\ttraining's binary_logloss: 0.361049\tvalid_1's auc: 0.907759\tvalid_1's binary_logloss: 0.57425\n",
      ">> ROC-AUC Score 0.903167                                                                                              \n",
      ">> Custom Score 0.914905                                                                                               \n",
      "\n",
      "Training until validation scores don't improve for 200 rounds                                                          \n",
      "Early stopping, best iteration is:                                                                                     \n",
      "[282]\ttraining's auc: 0.96734\ttraining's binary_logloss: 0.426527\tvalid_1's auc: 0.89769\tvalid_1's binary_logloss: 0.585988\n",
      "Training until validation scores don't improve for 200 rounds                                                          \n",
      "Early stopping, best iteration is:                                                                                     \n",
      "[413]\ttraining's auc: 0.970588\ttraining's binary_logloss: 0.360686\tvalid_1's auc: 0.905103\tvalid_1's binary_logloss: 0.566503\n",
      ">> ROC-AUC Score 0.893200                                                                                              \n",
      ">> Custom Score 0.911450                                                                                               \n",
      "\n",
      "Training until validation scores don't improve for 200 rounds                                                          \n",
      "Early stopping, best iteration is:                                                                                     \n",
      "[512]\ttraining's auc: 0.969587\ttraining's binary_logloss: 0.38205\tvalid_1's auc: 0.910374\tvalid_1's binary_logloss: 0.584433\n",
      "Training until validation scores don't improve for 200 rounds                                                          \n",
      "Early stopping, best iteration is:                                                                                     \n",
      "[540]\ttraining's auc: 0.96986\ttraining's binary_logloss: 0.373828\tvalid_1's auc: 0.90326\tvalid_1's binary_logloss: 0.567707\n",
      ">> ROC-AUC Score 0.906369                                                                                              \n",
      ">> Custom Score 0.913962                                                                                               \n",
      "\n",
      "Training until validation scores don't improve for 200 rounds                                                          \n",
      "Early stopping, best iteration is:                                                                                     \n",
      "[305]\ttraining's auc: 0.967444\ttraining's binary_logloss: 0.419141\tvalid_1's auc: 0.903328\tvalid_1's binary_logloss: 0.595863\n",
      "Training until validation scores don't improve for 200 rounds                                                          \n",
      "Early stopping, best iteration is:                                                                                     \n",
      "[355]\ttraining's auc: 0.968759\ttraining's binary_logloss: 0.393596\tvalid_1's auc: 0.897878\tvalid_1's binary_logloss: 0.592624\n",
      ">> ROC-AUC Score 0.899901                                                                                              \n",
      ">> Custom Score 0.914955                                                                                               \n",
      "\n",
      "Training until validation scores don't improve for 200 rounds                                                          \n",
      "Early stopping, best iteration is:                                                                                     \n",
      "[334]\ttraining's auc: 0.969173\ttraining's binary_logloss: 0.397175\tvalid_1's auc: 0.90458\tvalid_1's binary_logloss: 0.588038\n",
      "Training until validation scores don't improve for 200 rounds                                                          \n",
      "Early stopping, best iteration is:                                                                                     \n",
      "[397]\ttraining's auc: 0.97048\ttraining's binary_logloss: 0.367835\tvalid_1's auc: 0.904819\tvalid_1's binary_logloss: 0.57254\n",
      ">> ROC-AUC Score 0.904304                                                                                              \n",
      ">> Custom Score 0.914129                                                                                               \n",
      "\n",
      "Training until validation scores don't improve for 200 rounds                                                          \n",
      "Early stopping, best iteration is:                                                                                     \n",
      "[354]\ttraining's auc: 0.968825\ttraining's binary_logloss: 0.398396\tvalid_1's auc: 0.905664\tvalid_1's binary_logloss: 0.583277\n",
      "Training until validation scores don't improve for 200 rounds                                                          \n",
      "Early stopping, best iteration is:                                                                                     \n",
      "[422]\ttraining's auc: 0.970262\ttraining's binary_logloss: 0.368578\tvalid_1's auc: 0.906002\tvalid_1's binary_logloss: 0.564929\n",
      ">> ROC-AUC Score 0.905373                                                                                              \n",
      ">> Custom Score 0.913528                                                                                               \n",
      "\n",
      "Training until validation scores don't improve for 200 rounds                                                          \n",
      "Early stopping, best iteration is:                                                                                     \n",
      "[336]\ttraining's auc: 0.968989\ttraining's binary_logloss: 0.402304\tvalid_1's auc: 0.907458\tvalid_1's binary_logloss: 0.588091\n",
      "Training until validation scores don't improve for 200 rounds                                                          \n",
      "Early stopping, best iteration is:                                                                                     \n",
      "[417]\ttraining's auc: 0.970528\ttraining's binary_logloss: 0.366079\tvalid_1's auc: 0.904968\tvalid_1's binary_logloss: 0.576791\n",
      ">> ROC-AUC Score 0.904404                                                                                              \n",
      ">> Custom Score 0.914746                                                                                               \n",
      "\n",
      "Training until validation scores don't improve for 200 rounds                                                          \n",
      "Early stopping, best iteration is:                                                                                     \n",
      "[391]\ttraining's auc: 0.968568\ttraining's binary_logloss: 0.403494\tvalid_1's auc: 0.902415\tvalid_1's binary_logloss: 0.584512\n",
      "Training until validation scores don't improve for 200 rounds                                                          \n",
      "Early stopping, best iteration is:                                                                                     \n",
      "[506]\ttraining's auc: 0.970664\ttraining's binary_logloss: 0.358924\tvalid_1's auc: 0.90564\tvalid_1's binary_logloss: 0.565658\n",
      ">> ROC-AUC Score 0.901648                                                                                              \n",
      ">> Custom Score 0.912760                                                                                               \n",
      "\n",
      "Training until validation scores don't improve for 200 rounds                                                          \n",
      "Early stopping, best iteration is:                                                                                     \n",
      "[333]\ttraining's auc: 0.968636\ttraining's binary_logloss: 0.403229\tvalid_1's auc: 0.902843\tvalid_1's binary_logloss: 0.586197\n",
      "Training until validation scores don't improve for 200 rounds                                                          \n",
      "Early stopping, best iteration is:                                                                                     \n",
      "[410]\ttraining's auc: 0.97024\ttraining's binary_logloss: 0.368548\tvalid_1's auc: 0.90471\tvalid_1's binary_logloss: 0.567082\n",
      ">> ROC-AUC Score 0.902935                                                                                              \n",
      ">> Custom Score 0.913166                                                                                               \n",
      "\n",
      "Training until validation scores don't improve for 200 rounds                                                          \n",
      "Early stopping, best iteration is:                                                                                     \n",
      "[337]\ttraining's auc: 0.968012\ttraining's binary_logloss: 0.413173\tvalid_1's auc: 0.905033\tvalid_1's binary_logloss: 0.593527\n",
      "Training until validation scores don't improve for 200 rounds                                                          \n",
      "Early stopping, best iteration is:                                                                                     \n",
      "[383]\ttraining's auc: 0.968702\ttraining's binary_logloss: 0.393131\tvalid_1's auc: 0.899679\tvalid_1's binary_logloss: 0.59074\n",
      ">> ROC-AUC Score 0.902128                                                                                              \n",
      ">> Custom Score 0.915459                                                                                               \n",
      "\n",
      "Training until validation scores don't improve for 200 rounds                                                          \n",
      "Early stopping, best iteration is:                                                                                     \n",
      "[355]\ttraining's auc: 0.96803\ttraining's binary_logloss: 0.416495\tvalid_1's auc: 0.904026\tvalid_1's binary_logloss: 0.587968\n",
      "Training until validation scores don't improve for 200 rounds                                                          \n",
      "Early stopping, best iteration is:                                                                                     \n",
      "[465]\ttraining's auc: 0.970107\ttraining's binary_logloss: 0.370872\tvalid_1's auc: 0.903093\tvalid_1's binary_logloss: 0.571656\n",
      ">> ROC-AUC Score 0.899752                                                                                              \n",
      ">> Custom Score 0.913022                                                                                               \n",
      "\n",
      "Training until validation scores don't improve for 200 rounds                                                          \n",
      "Early stopping, best iteration is:                                                                                     \n",
      "[355]\ttraining's auc: 0.968108\ttraining's binary_logloss: 0.406526\tvalid_1's auc: 0.90335\tvalid_1's binary_logloss: 0.58462\n",
      "Training until validation scores don't improve for 200 rounds                                                          \n",
      "Early stopping, best iteration is:                                                                                     \n",
      "[458]\ttraining's auc: 0.970653\ttraining's binary_logloss: 0.361689\tvalid_1's auc: 0.907072\tvalid_1's binary_logloss: 0.565692\n",
      ">> ROC-AUC Score 0.903105                                                                                              \n",
      ">> Custom Score 0.913107                                                                                               \n",
      "\n",
      "100%|██████████████████████████████████████████| 100/100 [8:11:48<00:00, 295.09s/trial, best loss: -0.9075346680480073]\n"
     ]
    }
   ],
   "source": [
    "# Initialize trials object\n",
    "trials = Trials()\n",
    "\n",
    "best = fmin(\n",
    "    fn=fmin_objective,\n",
    "    space=space_params, \n",
    "    algo=tpe.suggest, \n",
    "    max_evals=100, \n",
    "    trials=trials\n",
    ")"
   ]
  },
  {
   "cell_type": "markdown",
   "id": "eb26f496-8400-4efd-bae5-9298bd7d7cd8",
   "metadata": {
    "tags": []
   },
   "source": [
    "<div style=\"background-color: #506AB9;\" >\n",
    "    <h4 style=\"margin: auto; padding: 20px; color:#fff; \">3.3.1. The best parameters</h4>\n",
    "</div>"
   ]
  },
  {
   "cell_type": "markdown",
   "id": "e5918cdb-5493-401e-8663-0441de3f5e0d",
   "metadata": {
    "tags": []
   },
   "source": [
    "<div class=\"alert alert-block alert-success\">\n",
    "    <p>Let's print the best parameters</p>\n",
    "</div>"
   ]
  },
  {
   "cell_type": "code",
   "execution_count": 36,
   "id": "6121a06c-c039-4b7b-b1ed-886228b5355a",
   "metadata": {},
   "outputs": [
    {
     "name": "stdout",
     "output_type": "stream",
     "text": [
      "Best: {'learning_rate': 0.002996768103678267, 'max_depth': 1, 'min_child_weight': 43.56681976377634, 'min_split_gain': 0.025360811467421862, 'n_estimators': 0, 'num_leaves': 1, 'reg_alpha': 0.047205508056568875, 'reg_lambda': 0.07740351793970067}\n"
     ]
    }
   ],
   "source": [
    "print(\"Best: {}\".format(best))"
   ]
  },
  {
   "cell_type": "markdown",
   "id": "c8d418b7-879a-4438-b1c8-ae349a3f34db",
   "metadata": {
    "tags": []
   },
   "source": [
    "<div style=\"background-color: #506AB9;\" >\n",
    "    <h3 style=\"margin: auto; padding: 20px; color:#fff; \">3.4. Final model</h3>\n",
    "</div>"
   ]
  },
  {
   "cell_type": "markdown",
   "id": "ea0db824-6513-4895-92fb-83a9cdca8abb",
   "metadata": {
    "tags": []
   },
   "source": [
    "<div class=\"alert alert-block alert-info\">\n",
    "    <p>Now, we are going to execute our model based on the best parameters</p>\n",
    "</div>"
   ]
  },
  {
   "cell_type": "code",
   "execution_count": 37,
   "id": "d201670c-db81-40e1-9aae-64124b79d8f0",
   "metadata": {},
   "outputs": [],
   "source": [
    "# Formatting columns name\n",
    "df_resampled = df_resampled.rename(columns=lambda x:re.sub(\"[^A-Za-z0-9_]+\", \"\", x))\n",
    "df_lgbm = df_resampled.copy()\n",
    "    \n",
    "scaler = StandardScaler()\n",
    "    \n",
    "# Divide in training/validation and test data\n",
    "train_df = df_lgbm[df_lgbm[\"TARGET\"].notnull()]\n",
    "test_df = df_lgbm[df_lgbm[\"TARGET\"].isnull()]\n",
    "del df_lgbm\n",
    "gc.collect()\n",
    "\n",
    "# Create arrays and dataframes to store results\n",
    "oof_preds = np.zeros(train_df.shape[0])\n",
    "feature_importance_df = pd.DataFrame()"
   ]
  },
  {
   "cell_type": "markdown",
   "id": "7381c79f-2a58-4c31-9ba9-7e71b1cc71d4",
   "metadata": {
    "tags": []
   },
   "source": [
    "<div class=\"alert alert-block alert-info\">\n",
    "    <p>Splitting and scale the data</p>\n",
    "</div>"
   ]
  },
  {
   "cell_type": "code",
   "execution_count": 38,
   "id": "3cd338bb-022b-4f8a-86c7-538195ff9de8",
   "metadata": {},
   "outputs": [],
   "source": [
    "# Split dataset to train\n",
    "X = train_df.drop(columns=[\"TARGET\", \"SK_ID_CURR\"])\n",
    "y_target = train_df.loc[:, \"TARGET\"]\n",
    "\n",
    "X_train, X_test, y_train, y_test = train_test_split(X, y_target, test_size=0.33, random_state=42)\n",
    "\n",
    "X_train_scaled = scaler.fit_transform(X_train)\n",
    "X_test_scaled = scaler.fit_transform(X_test)"
   ]
  },
  {
   "cell_type": "markdown",
   "id": "32d4b483-77f9-4896-a6e7-92f94d9db775",
   "metadata": {
    "tags": []
   },
   "source": [
    "<div class=\"alert alert-block alert-info\">\n",
    "    <p>Initializing the model. LightGBM parameters found by Bayesian optimization</p>\n",
    "</div>"
   ]
  },
  {
   "cell_type": "code",
   "execution_count": 39,
   "id": "cbaded4b-673c-42dc-8638-515211c94398",
   "metadata": {},
   "outputs": [],
   "source": [
    "clf = LGBMClassifier(\n",
    "    n_estimators=N_ESTIMATORS[best.get(\"n_estimators\")],\n",
    "    learning_rate=best.get(\"learning_rate\"),\n",
    "    num_leaves=NUM_LEAVES[best.get(\"num_leaves\")],\n",
    "    max_depth=MAX_DEPTH[best.get(\"max_depth\")],\n",
    "    reg_alpha=best.get(\"reg_alpha\"),\n",
    "    reg_lambda=best.get(\"reg_lambda\"),\n",
    "    min_split_gain=best.get(\"min_split_gain\"),\n",
    "    min_child_weight=best.get(\"min_child_weight\"),\n",
    "    #n_estimators=8000,\n",
    "    #learning_rate=0.0029945769814338657,\n",
    "    #num_leaves=34,\n",
    "    #max_depth=7,\n",
    "    #reg_alpha=0.05035988378983526,\n",
    "    #reg_lambda=0.07374403233913371,\n",
    "    #min_split_gain=0.0234204135996409,\n",
    "    #min_child_weight=46.367427751310345,\n",
    "    colsample_bytree=0.8, \n",
    "    subsample=0.8,\n",
    "    is_unbalance=False,\n",
    "    n_jobs=-1 \n",
    ")"
   ]
  },
  {
   "cell_type": "markdown",
   "id": "2d89339f-dc01-461d-8bee-ae08ee2e0f4a",
   "metadata": {
    "tags": []
   },
   "source": [
    "<div class=\"alert alert-block alert-info\">\n",
    "    <p>Fitting the model</p>\n",
    "</div>"
   ]
  },
  {
   "cell_type": "code",
   "execution_count": 40,
   "id": "89022adc-02fd-40df-ae3a-b10211566fce",
   "metadata": {},
   "outputs": [
    {
     "name": "stdout",
     "output_type": "stream",
     "text": [
      "Training until validation scores don't improve for 200 rounds\n",
      "Early stopping, best iteration is:\n",
      "[369]\ttraining's auc: 0.969899\ttraining's binary_logloss: 0.378921\tvalid_1's auc: 0.911395\tvalid_1's binary_logloss: 0.590112\n"
     ]
    },
    {
     "data": {
      "text/plain": [
       "LGBMClassifier(colsample_bytree=0.8, is_unbalance=False,\n",
       "               learning_rate=0.002996768103678267, max_depth=8,\n",
       "               min_child_weight=43.56681976377634,\n",
       "               min_split_gain=0.025360811467421862, n_estimators=8000,\n",
       "               num_leaves=34, reg_alpha=0.047205508056568875,\n",
       "               reg_lambda=0.07740351793970067, subsample=0.8)"
      ]
     },
     "execution_count": 40,
     "metadata": {},
     "output_type": "execute_result"
    }
   ],
   "source": [
    "evaluation = [(X_train_scaled, y_train), (X_test_scaled, y_test)]\n",
    "\n",
    "clf.fit(X_train_scaled, y_train, eval_set=evaluation, eval_metric=\"auc\",\n",
    "        callbacks=[lgb.early_stopping(stopping_rounds=200),\n",
    "                  lgb.log_evaluation(period=-1)])"
   ]
  },
  {
   "cell_type": "markdown",
   "id": "c2ff0638-1038-4596-bffc-4ff0c2ccd444",
   "metadata": {
    "tags": []
   },
   "source": [
    "<div class=\"alert alert-block alert-info\">\n",
    "    <p>Metrics</p>\n",
    "</div>"
   ]
  },
  {
   "cell_type": "code",
   "execution_count": 41,
   "id": "b709deee-1c39-471f-bd10-0bc511bdd4eb",
   "metadata": {},
   "outputs": [
    {
     "name": "stdout",
     "output_type": "stream",
     "text": [
      "\n",
      ">> ROC-AUC Score 0.911395\n",
      ">> Custom Score 0.918633\n",
      "\n"
     ]
    }
   ],
   "source": [
    "oof_preds = clf.predict_proba(X_test_scaled, num_iteration=clf.best_iteration_)[:, 1]\n",
    "y_pred = clf.predict(X_test_scaled)\n",
    "\n",
    "#del clf, train_x, train_x_scaled, train_y, valid_x, valid_x_scaled, valid_y\n",
    "gc.collect()\n",
    "    \n",
    "auc = roc_auc_score(y_test, oof_preds)\n",
    "print(\"\\n>> ROC-AUC Score %.6f\" % auc )\n",
    "\n",
    "cs = custom_score(y_test, oof_preds)\n",
    "print(\">> Custom Score %.6f\\n\" % cs )\n"
   ]
  },
  {
   "cell_type": "code",
   "execution_count": 42,
   "id": "e8a051ef-a8c1-4733-83ff-92aab4a3becd",
   "metadata": {},
   "outputs": [
    {
     "data": {
      "image/png": "[encoded data removed]",
      "text/plain": [
       "<Figure size 432x288 with 1 Axes>"
      ]
     },
     "metadata": {
      "needs_background": "light"
     },
     "output_type": "display_data"
    }
   ],
   "source": [
    "# Plotting the Precision-Recall curve\n",
    "display = PrecisionRecallDisplay.from_predictions(y_test.ravel(), oof_preds.ravel(), name=\"LGBMClassifier\")\n",
    "_ = display.ax_.set_title(\"2-class Precision-Recall curve\")"
   ]
  },
  {
   "cell_type": "code",
   "execution_count": 43,
   "id": "0b911177-2478-4553-a864-7aff7d94516b",
   "metadata": {},
   "outputs": [
    {
     "data": {
      "image/png": "[encoded data removed]",
      "text/plain": [
       "<Figure size 432x432 with 1 Axes>"
      ]
     },
     "metadata": {
      "needs_background": "light"
     },
     "output_type": "display_data"
    }
   ],
   "source": [
    "# Compute ROC curve and ROC area for each class\n",
    "fpr = dict()\n",
    "tpr = dict()\n",
    "fpr[\"micro\"], tpr[\"micro\"], _ = roc_curve(y_test.ravel(), oof_preds.ravel())\n",
    "\n",
    "plt.subplots(1, figsize=(6, 6))\n",
    "plt.title(\"Receiver Operating Characteristic\")\n",
    "plt.plot(fpr[\"micro\"], tpr[\"micro\"])\n",
    "plt.plot([0, 1], ls=\"--\")\n",
    "plt.plot([0, 0], [1, 0] , c=\".7\"), plt.plot([1, 1] , c=\".7\")\n",
    "plt.ylabel(\"True Positive Rate\")\n",
    "plt.xlabel(\"False Positive Rate\")\n",
    "plt.show()"
   ]
  },
  {
   "cell_type": "code",
   "execution_count": 51,
   "id": "eaa44e5e-4be9-43de-9cc0-81349d7dadfe",
   "metadata": {},
   "outputs": [
    {
     "data": {
      "image/png": "[encoded data removed]",
      "text/plain": [
       "<Figure size 432x288 with 2 Axes>"
      ]
     },
     "metadata": {
      "needs_background": "light"
     },
     "output_type": "display_data"
    }
   ],
   "source": [
    "# Confusion matrix\n",
    "display = ConfusionMatrixDisplay.from_predictions(y_test, y_pred, display_labels=[\"Repaid\",\"No repaid\"])\n",
    "_ = display.ax_.set_title(\"Confusion matrix\")"
   ]
  },
  {
   "cell_type": "code",
   "execution_count": 45,
   "id": "1c90f459-401c-43a0-9c46-4c0c0e3a4c78",
   "metadata": {},
   "outputs": [
    {
     "data": {
      "image/png": "[encoded data removed]",
      "text/plain": [
       "<Figure size 864x720 with 1 Axes>"
      ]
     },
     "metadata": {
      "needs_background": "light"
     },
     "output_type": "display_data"
    }
   ],
   "source": [
    "# Feature importance\n",
    "feature_importance_df_ = pd.DataFrame({\"importance\":clf.feature_importances_, \"feature\":X.columns})\n",
    "\n",
    "cols = feature_importance_df_[[\"feature\", \"importance\"]].groupby(\"feature\").mean().sort_values(by=\"importance\", ascending=False)[:40].index\n",
    "best_features = feature_importance_df_.loc[feature_importance_df_.feature.isin(cols)]\n",
    "plt.figure(figsize=(12, 10))\n",
    "sns.barplot(x=\"importance\", y=\"feature\", data=best_features.sort_values(by=\"importance\", ascending=False))\n",
    "plt.xlabel('Date', fontsize=12);\n",
    "plt.ylabel('Sales', fontsize=12);\n",
    "plt.title('LightGBM Features (avg over folds)')\n",
    "plt.tight_layout()\n",
    "plt.show()"
   ]
  },
  {
   "cell_type": "markdown",
   "id": "677db037-e43e-4410-bcf2-de1713e7af62",
   "metadata": {
    "tags": []
   },
   "source": [
    "<div style=\"background-color: #506AB9;\" >\n",
    "    <h3 style=\"margin: auto; padding: 20px; color:#fff; \">3.5. Final re-training</h3>\n",
    "</div>"
   ]
  },
  {
   "cell_type": "markdown",
   "id": "076ff9c2-8e39-42d4-8097-ec98939805b1",
   "metadata": {
    "tags": []
   },
   "source": [
    "<div class=\"alert alert-block alert-info\">\n",
    "    <p>First, we are going to free some memory</p>\n",
    "</div>"
   ]
  },
  {
   "cell_type": "code",
   "execution_count": 46,
   "id": "c8960fde-5335-4e9f-bbe5-57b705583fbc",
   "metadata": {},
   "outputs": [
    {
     "data": {
      "text/plain": [
       "16964"
      ]
     },
     "execution_count": 46,
     "metadata": {},
     "output_type": "execute_result"
    }
   ],
   "source": [
    "del X_train_scaled, X_train, X_test_scaled, X_test\n",
    "gc.collect()"
   ]
  },
  {
   "cell_type": "markdown",
   "id": "9a110d02-c425-4524-9c55-d4267e5bfa3e",
   "metadata": {
    "tags": []
   },
   "source": [
    "<div class=\"alert alert-block alert-info\">\n",
    "    <p>Scaling the data</p>\n",
    "</div>"
   ]
  },
  {
   "cell_type": "code",
   "execution_count": 47,
   "id": "1db1de37-f3cb-463b-98a1-db216485148a",
   "metadata": {},
   "outputs": [],
   "source": [
    "X_scaled = scaler.fit_transform(X)"
   ]
  },
  {
   "cell_type": "code",
   "execution_count": 48,
   "id": "2fabefb6-b85f-4e6d-9254-b9ac68313183",
   "metadata": {},
   "outputs": [
    {
     "data": {
      "text/plain": [
       "LGBMClassifier(colsample_bytree=0.8, is_unbalance=False,\n",
       "               learning_rate=0.002996768103678267, max_depth=8,\n",
       "               min_child_weight=43.56681976377634,\n",
       "               min_split_gain=0.025360811467421862, n_estimators=8000,\n",
       "               num_leaves=34, reg_alpha=0.047205508056568875,\n",
       "               reg_lambda=0.07740351793970067, subsample=0.8)"
      ]
     },
     "execution_count": 48,
     "metadata": {},
     "output_type": "execute_result"
    }
   ],
   "source": [
    "clf.fit(X_scaled, y_target)"
   ]
  },
  {
   "cell_type": "code",
   "execution_count": 49,
   "id": "affc59b2-f588-4f95-856d-0450c719ceaa",
   "metadata": {},
   "outputs": [
    {
     "data": {
      "text/plain": [
       "['models/model_1.0.2.pkl']"
      ]
     },
     "execution_count": 49,
     "metadata": {},
     "output_type": "execute_result"
    }
   ],
   "source": [
    "# Saving the model based on the best parameters\n",
    "joblib.dump(clf, \"models/model_{version}.pkl\".format(version=sklearn.__version__))"
   ]
  },
  {
   "cell_type": "code",
   "execution_count": null,
   "id": "50d9effc-f212-4d73-870d-bdcf41fbc683",
   "metadata": {},
   "outputs": [],
   "source": []
  }
 ],
 "metadata": {
  "kernelspec": {
   "display_name": "Python 3 (ipykernel)",
   "language": "python",
   "name": "python3"
  },
  "language_info": {
   "codemirror_mode": {
    "name": "ipython",
    "version": 3
   },
   "file_extension": ".py",
   "mimetype": "text/x-python",
   "name": "python",
   "nbconvert_exporter": "python",
   "pygments_lexer": "ipython3",
   "version": "3.9.9"
  }
 },
 "nbformat": 4,
 "nbformat_minor": 5
}
