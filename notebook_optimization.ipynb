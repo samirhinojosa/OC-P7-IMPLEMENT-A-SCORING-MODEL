{
 "cells": [
  {
   "cell_type": "markdown",
   "id": "c8e6a558-388d-43bc-a18f-fa2f11c91b62",
   "metadata": {
    "tags": []
   },
   "source": [
    "<div style=\"display: flex; background-color: #3F579F;\">\n",
    "    <h1 style=\"margin: auto; font-weight: bold; padding: 30px 30px 0px 30px; color:#fff;\" align=\"center\">Implement a scoring model - P7</h1>\n",
    "</div>\n",
    "<div style=\"display: flex; background-color: #3F579F; margin: auto; padding: 5px 30px 0px 30px;\" >\n",
    "    <h3 style=\"width: 100%; text-align: center; float: left; font-size: 24px; color:#fff;\" align=\"center\">| Notebook optimization |</h3>\n",
    "</div>\n",
    "<div style=\"display: flex; background-color: #3F579F; margin: auto; padding: 10px 30px 30px 30px;\">\n",
    "    <h4 style=\"width: 100%; text-align: center; float: left; font-size: 24px; color:#fff;\" align=\"center\">Data Scientist course - OpenClassrooms</h4>\n",
    "</div>"
   ]
  },
  {
   "cell_type": "markdown",
   "id": "a071f085-b566-4595-a02b-30aa8064888b",
   "metadata": {
    "tags": []
   },
   "source": [
    "<div style=\"background-color: #506AB9;\" >\n",
    "    <h2 style=\"margin: auto; padding: 20px; color:#fff; \">1. Libraries and files</h2>\n",
    "</div>"
   ]
  },
  {
   "cell_type": "markdown",
   "id": "b1409272-303e-46f2-b6a6-729a491957fa",
   "metadata": {
    "tags": []
   },
   "source": [
    "<div style=\"background-color: #506AB9;\" >\n",
    "    <h3 style=\"margin: auto; padding: 20px; color:#fff; \">1.1. Libraries</h3>\n",
    "</div>"
   ]
  },
  {
   "cell_type": "code",
   "execution_count": 1,
   "id": "d22e0155-efb4-4760-af1a-323097c5535f",
   "metadata": {},
   "outputs": [],
   "source": [
    "import re\n",
    "import numpy as np\n",
    "import pandas as pd\n",
    "from functools import partial\n",
    "\n",
    "from imblearn.over_sampling import SMOTE\n",
    "\n",
    "import lightgbm as lgb\n",
    "from lightgbm import LGBMClassifier\n",
    "\n",
    "import sklearn\n",
    "from sklearn.metrics import (roc_auc_score, roc_curve, \n",
    "                             precision_recall_curve, confusion_matrix, \n",
    "                             PrecisionRecallDisplay, ConfusionMatrixDisplay)\n",
    "from sklearn.model_selection import KFold, StratifiedKFold, train_test_split\n",
    "from sklearn.preprocessing import StandardScaler\n",
    "\n",
    "# Hyperparametrization\n",
    "from hyperopt import tpe, hp, fmin, STATUS_OK, Trials, space_eval\n",
    "from hyperopt.pyll.base import scope\n",
    "\n",
    "import joblib\n",
    "\n",
    "## Own specific functions \n",
    "from functions import *"
   ]
  },
  {
   "cell_type": "markdown",
   "id": "9bb1ffa2-35ac-4f10-9fa9-9ccfd298a666",
   "metadata": {
    "tags": []
   },
   "source": [
    "<div style=\"background-color: #506AB9;\" >\n",
    "    <h3 style=\"margin: auto; padding: 20px; color:#fff; \">1.2. Files</h3>\n",
    "</div>"
   ]
  },
  {
   "cell_type": "code",
   "execution_count": 2,
   "id": "3a80f568-509b-4a73-b15c-21641a3c45e0",
   "metadata": {
    "tags": []
   },
   "outputs": [],
   "source": [
    "df = pd.read_csv(r\"datasets\\df_processed.csv\")\n",
    "df = df.drop(columns=[\"index\"])"
   ]
  },
  {
   "cell_type": "code",
   "execution_count": 3,
   "id": "74493351-a229-425e-938f-6a5b71f5a573",
   "metadata": {},
   "outputs": [
    {
     "name": "stdout",
     "output_type": "stream",
     "text": [
      "\n",
      "Analysis Header of df dataset\n",
      "--------------------------------------------------------------------------------\n",
      "- Dataset shape:\t\t\t 356251 rows and 797 columns\n",
      "- Total of NaN values:\t\t\t 72099981\n",
      "- Percentage of NaN:\t\t\t 25.39 %\n",
      "- Total of infinite values:\t\t 21\n",
      "- Percentage of infinite values:\t 0.0 %\n",
      "- Total of full duplicates rows:\t 0\n",
      "- Total of empty rows:\t\t\t 0\n",
      "- Total of empty columns:\t\t 0\n",
      "- Unique indexes:\t\t\t True\n",
      "- Memory usage:\t\t\t\t 2.1 GB\n"
     ]
    }
   ],
   "source": [
    "df_analysis(df, \"df\", analysis_type=\"header\")"
   ]
  },
  {
   "cell_type": "markdown",
   "id": "21180556-e4ee-491b-a965-fe2d527bf30d",
   "metadata": {
    "tags": []
   },
   "source": [
    "<div class=\"alert alert-block alert-warning\">\n",
    "    <p><b>Observations / Conclusions</b></p>\n",
    "    <ul style=\"list-style-type: square;\">\n",
    "        <li><b>Missing values</b> - There are 25.39% of missing-values to treat</li>\n",
    "        <li><b>Infinite values</b> - There are 25 infinite values</li>\n",
    "    </ul> \n",
    "</div>"
   ]
  },
  {
   "cell_type": "markdown",
   "id": "245be731-490e-4a73-aa06-e1734da6f912",
   "metadata": {
    "tags": []
   },
   "source": [
    "<div style=\"background-color: #506AB9;\" >\n",
    "    <h4 style=\"margin: auto; padding: 20px; color:#fff; \">1.2.1 Optimizing memory usage</h4>\n",
    "</div>"
   ]
  },
  {
   "cell_type": "markdown",
   "id": "7199b033-4e22-44bd-9d31-aa86ad42b221",
   "metadata": {
    "tags": []
   },
   "source": [
    "<div class=\"alert alert-block alert-info\">\n",
    "    <p>We should optimize the memory usage to avoid problems during executions</p>\n",
    "</div>"
   ]
  },
  {
   "cell_type": "code",
   "execution_count": 4,
   "id": "fd3c4cc6-2c06-4747-a3cc-d0fdd4f9b16a",
   "metadata": {},
   "outputs": [],
   "source": [
    "df[\"TARGET\"].fillna(value=-99, inplace=True)\n",
    "df[\"TARGET\"] = df[\"TARGET\"].astype(\"int8\")\n",
    "df[\"TARGET\"] = df[\"TARGET\"].replace(-99, np.nan)"
   ]
  },
  {
   "cell_type": "code",
   "execution_count": 5,
   "id": "bbdf298a-6415-49e7-a04a-73127d97c5e1",
   "metadata": {},
   "outputs": [],
   "source": [
    "for col in df.columns:\n",
    "    if df[col].dtype == \"int64\" and df[col].nunique() == 2:\n",
    "        df[col] = df[col].astype(\"int8\")"
   ]
  },
  {
   "cell_type": "code",
   "execution_count": 6,
   "id": "e3bae372-a3fb-43ad-a6b3-24c589f88922",
   "metadata": {},
   "outputs": [],
   "source": [
    "for col in df.columns:\n",
    "    if df[col].dtype == \"float64\" and df[col].min() >= -2147483648 and df[col].max() <= 2147483648:\n",
    "        df[col] = df[col].astype(\"float32\")"
   ]
  },
  {
   "cell_type": "code",
   "execution_count": 7,
   "id": "4bfbce33-ea3f-4262-b87a-652787443ba2",
   "metadata": {},
   "outputs": [
    {
     "name": "stdout",
     "output_type": "stream",
     "text": [
      "\n",
      "Analysis Header of df dataset\n",
      "--------------------------------------------------------------------------------\n",
      "- Dataset shape:\t\t\t 356251 rows and 797 columns\n",
      "- Total of NaN values:\t\t\t 72099981\n",
      "- Percentage of NaN:\t\t\t 25.39 %\n",
      "- Total of infinite values:\t\t 21\n",
      "- Percentage of infinite values:\t 0.0 %\n",
      "- Total of full duplicates rows:\t 0\n",
      "- Total of empty rows:\t\t\t 0\n",
      "- Total of empty columns:\t\t 0\n",
      "- Unique indexes:\t\t\t True\n",
      "- Memory usage:\t\t\t\t 941.8 MB\n"
     ]
    }
   ],
   "source": [
    "df_analysis(df, \"df\", analysis_type=\"header\")"
   ]
  },
  {
   "cell_type": "code",
   "execution_count": 8,
   "id": "d0b51422-0f82-4622-aa77-c47fdd6ad43c",
   "metadata": {},
   "outputs": [
    {
     "data": {
      "text/html": [
       "<div>\n",
       "<style scoped>\n",
       "    .dataframe tbody tr th:only-of-type {\n",
       "        vertical-align: middle;\n",
       "    }\n",
       "\n",
       "    .dataframe tbody tr th {\n",
       "        vertical-align: top;\n",
       "    }\n",
       "\n",
       "    .dataframe thead th {\n",
       "        text-align: right;\n",
       "    }\n",
       "</style>\n",
       "<table border=\"1\" class=\"dataframe\">\n",
       "  <thead>\n",
       "    <tr style=\"text-align: right;\">\n",
       "      <th></th>\n",
       "      <th>SK_ID_CURR</th>\n",
       "      <th>TARGET</th>\n",
       "      <th>CODE_GENDER</th>\n",
       "      <th>FLAG_OWN_CAR</th>\n",
       "      <th>FLAG_OWN_REALTY</th>\n",
       "      <th>CNT_CHILDREN</th>\n",
       "      <th>AMT_INCOME_TOTAL</th>\n",
       "      <th>AMT_CREDIT</th>\n",
       "      <th>AMT_ANNUITY</th>\n",
       "      <th>AMT_GOODS_PRICE</th>\n",
       "      <th>...</th>\n",
       "      <th>CC_NAME_CONTRACT_STATUS_Signed_MAX</th>\n",
       "      <th>CC_NAME_CONTRACT_STATUS_Signed_MEAN</th>\n",
       "      <th>CC_NAME_CONTRACT_STATUS_Signed_SUM</th>\n",
       "      <th>CC_NAME_CONTRACT_STATUS_Signed_VAR</th>\n",
       "      <th>CC_NAME_CONTRACT_STATUS_nan_MIN</th>\n",
       "      <th>CC_NAME_CONTRACT_STATUS_nan_MAX</th>\n",
       "      <th>CC_NAME_CONTRACT_STATUS_nan_MEAN</th>\n",
       "      <th>CC_NAME_CONTRACT_STATUS_nan_SUM</th>\n",
       "      <th>CC_NAME_CONTRACT_STATUS_nan_VAR</th>\n",
       "      <th>CC_COUNT</th>\n",
       "    </tr>\n",
       "  </thead>\n",
       "  <tbody>\n",
       "    <tr>\n",
       "      <th>0</th>\n",
       "      <td>100002</td>\n",
       "      <td>1.0</td>\n",
       "      <td>0</td>\n",
       "      <td>0</td>\n",
       "      <td>0</td>\n",
       "      <td>0</td>\n",
       "      <td>202500.0</td>\n",
       "      <td>406597.5</td>\n",
       "      <td>24700.5</td>\n",
       "      <td>351000.0</td>\n",
       "      <td>...</td>\n",
       "      <td>NaN</td>\n",
       "      <td>NaN</td>\n",
       "      <td>NaN</td>\n",
       "      <td>NaN</td>\n",
       "      <td>NaN</td>\n",
       "      <td>NaN</td>\n",
       "      <td>NaN</td>\n",
       "      <td>NaN</td>\n",
       "      <td>NaN</td>\n",
       "      <td>NaN</td>\n",
       "    </tr>\n",
       "    <tr>\n",
       "      <th>1</th>\n",
       "      <td>100003</td>\n",
       "      <td>0.0</td>\n",
       "      <td>1</td>\n",
       "      <td>0</td>\n",
       "      <td>1</td>\n",
       "      <td>0</td>\n",
       "      <td>270000.0</td>\n",
       "      <td>1293502.5</td>\n",
       "      <td>35698.5</td>\n",
       "      <td>1129500.0</td>\n",
       "      <td>...</td>\n",
       "      <td>NaN</td>\n",
       "      <td>NaN</td>\n",
       "      <td>NaN</td>\n",
       "      <td>NaN</td>\n",
       "      <td>NaN</td>\n",
       "      <td>NaN</td>\n",
       "      <td>NaN</td>\n",
       "      <td>NaN</td>\n",
       "      <td>NaN</td>\n",
       "      <td>NaN</td>\n",
       "    </tr>\n",
       "    <tr>\n",
       "      <th>2</th>\n",
       "      <td>100004</td>\n",
       "      <td>0.0</td>\n",
       "      <td>0</td>\n",
       "      <td>1</td>\n",
       "      <td>0</td>\n",
       "      <td>0</td>\n",
       "      <td>67500.0</td>\n",
       "      <td>135000.0</td>\n",
       "      <td>6750.0</td>\n",
       "      <td>135000.0</td>\n",
       "      <td>...</td>\n",
       "      <td>NaN</td>\n",
       "      <td>NaN</td>\n",
       "      <td>NaN</td>\n",
       "      <td>NaN</td>\n",
       "      <td>NaN</td>\n",
       "      <td>NaN</td>\n",
       "      <td>NaN</td>\n",
       "      <td>NaN</td>\n",
       "      <td>NaN</td>\n",
       "      <td>NaN</td>\n",
       "    </tr>\n",
       "    <tr>\n",
       "      <th>3</th>\n",
       "      <td>100006</td>\n",
       "      <td>0.0</td>\n",
       "      <td>1</td>\n",
       "      <td>0</td>\n",
       "      <td>0</td>\n",
       "      <td>0</td>\n",
       "      <td>135000.0</td>\n",
       "      <td>312682.5</td>\n",
       "      <td>29686.5</td>\n",
       "      <td>297000.0</td>\n",
       "      <td>...</td>\n",
       "      <td>0.0</td>\n",
       "      <td>0.0</td>\n",
       "      <td>0.0</td>\n",
       "      <td>0.0</td>\n",
       "      <td>0.0</td>\n",
       "      <td>0.0</td>\n",
       "      <td>0.0</td>\n",
       "      <td>0.0</td>\n",
       "      <td>0.0</td>\n",
       "      <td>6.0</td>\n",
       "    </tr>\n",
       "    <tr>\n",
       "      <th>4</th>\n",
       "      <td>100007</td>\n",
       "      <td>0.0</td>\n",
       "      <td>0</td>\n",
       "      <td>0</td>\n",
       "      <td>0</td>\n",
       "      <td>0</td>\n",
       "      <td>121500.0</td>\n",
       "      <td>513000.0</td>\n",
       "      <td>21865.5</td>\n",
       "      <td>513000.0</td>\n",
       "      <td>...</td>\n",
       "      <td>NaN</td>\n",
       "      <td>NaN</td>\n",
       "      <td>NaN</td>\n",
       "      <td>NaN</td>\n",
       "      <td>NaN</td>\n",
       "      <td>NaN</td>\n",
       "      <td>NaN</td>\n",
       "      <td>NaN</td>\n",
       "      <td>NaN</td>\n",
       "      <td>NaN</td>\n",
       "    </tr>\n",
       "  </tbody>\n",
       "</table>\n",
       "<p>5 rows × 797 columns</p>\n",
       "</div>"
      ],
      "text/plain": [
       "   SK_ID_CURR  TARGET  CODE_GENDER  FLAG_OWN_CAR  FLAG_OWN_REALTY  \\\n",
       "0      100002     1.0            0             0                0   \n",
       "1      100003     0.0            1             0                1   \n",
       "2      100004     0.0            0             1                0   \n",
       "3      100006     0.0            1             0                0   \n",
       "4      100007     0.0            0             0                0   \n",
       "\n",
       "   CNT_CHILDREN  AMT_INCOME_TOTAL  AMT_CREDIT  AMT_ANNUITY  AMT_GOODS_PRICE  \\\n",
       "0             0          202500.0    406597.5      24700.5         351000.0   \n",
       "1             0          270000.0   1293502.5      35698.5        1129500.0   \n",
       "2             0           67500.0    135000.0       6750.0         135000.0   \n",
       "3             0          135000.0    312682.5      29686.5         297000.0   \n",
       "4             0          121500.0    513000.0      21865.5         513000.0   \n",
       "\n",
       "   ...  CC_NAME_CONTRACT_STATUS_Signed_MAX  \\\n",
       "0  ...                                 NaN   \n",
       "1  ...                                 NaN   \n",
       "2  ...                                 NaN   \n",
       "3  ...                                 0.0   \n",
       "4  ...                                 NaN   \n",
       "\n",
       "   CC_NAME_CONTRACT_STATUS_Signed_MEAN  CC_NAME_CONTRACT_STATUS_Signed_SUM  \\\n",
       "0                                  NaN                                 NaN   \n",
       "1                                  NaN                                 NaN   \n",
       "2                                  NaN                                 NaN   \n",
       "3                                  0.0                                 0.0   \n",
       "4                                  NaN                                 NaN   \n",
       "\n",
       "   CC_NAME_CONTRACT_STATUS_Signed_VAR  CC_NAME_CONTRACT_STATUS_nan_MIN  \\\n",
       "0                                 NaN                              NaN   \n",
       "1                                 NaN                              NaN   \n",
       "2                                 NaN                              NaN   \n",
       "3                                 0.0                              0.0   \n",
       "4                                 NaN                              NaN   \n",
       "\n",
       "   CC_NAME_CONTRACT_STATUS_nan_MAX  CC_NAME_CONTRACT_STATUS_nan_MEAN  \\\n",
       "0                              NaN                               NaN   \n",
       "1                              NaN                               NaN   \n",
       "2                              NaN                               NaN   \n",
       "3                              0.0                               0.0   \n",
       "4                              NaN                               NaN   \n",
       "\n",
       "   CC_NAME_CONTRACT_STATUS_nan_SUM  CC_NAME_CONTRACT_STATUS_nan_VAR  CC_COUNT  \n",
       "0                              NaN                              NaN       NaN  \n",
       "1                              NaN                              NaN       NaN  \n",
       "2                              NaN                              NaN       NaN  \n",
       "3                              0.0                              0.0       6.0  \n",
       "4                              NaN                              NaN       NaN  \n",
       "\n",
       "[5 rows x 797 columns]"
      ]
     },
     "execution_count": 8,
     "metadata": {},
     "output_type": "execute_result"
    }
   ],
   "source": [
    "df.head()"
   ]
  },
  {
   "cell_type": "code",
   "execution_count": 9,
   "id": "4c976361-d20b-4524-8e90-1216ea16d730",
   "metadata": {},
   "outputs": [
    {
     "data": {
      "text/plain": [
       "[]"
      ]
     },
     "execution_count": 9,
     "metadata": {},
     "output_type": "execute_result"
    }
   ],
   "source": [
    "df.select_dtypes(include=[\"object\"]).columns.tolist()"
   ]
  },
  {
   "cell_type": "markdown",
   "id": "3c1d9b87-1c33-4b34-bc51-bd03eead474a",
   "metadata": {
    "tags": []
   },
   "source": [
    "<div class=\"alert alert-block alert-warning\">\n",
    "    <p><b>Observations / Conclusions</b></p>\n",
    "    <ul style=\"list-style-type: square;\">\n",
    "        <li><b>Columns type</b> - All columns are numerics</li>\n",
    "    </ul> \n",
    "</div>"
   ]
  },
  {
   "cell_type": "markdown",
   "id": "151a589c-007e-45c4-8f30-a08abe6d9c0c",
   "metadata": {
    "tags": []
   },
   "source": [
    "<div style=\"background-color: #506AB9;\" >\n",
    "    <h4 style=\"margin: auto; padding: 20px; color:#fff; \">1.2.2. Missing-values</h4>\n",
    "</div>"
   ]
  },
  {
   "cell_type": "markdown",
   "id": "98c5ddd5-d467-4ba6-aae4-628c2f5e4da6",
   "metadata": {},
   "source": [
    "<div class=\"alert alert-block alert-info\">\n",
    "    <p>Before treating the class imbalance in the target, it is necessary to treat the missing-values in all the dataset, to do that, we are going to fill values with SimpleImputer\n",
    "   </p>\n",
    "    <p>Let's start by identifying the features with infinite-values and replace them by missing-values\n",
    "   </p>\n",
    "</div>\n",
    "</div>"
   ]
  },
  {
   "cell_type": "code",
   "execution_count": 10,
   "id": "28242a16-c849-47cd-8112-9c70f3867feb",
   "metadata": {},
   "outputs": [],
   "source": [
    "inf_cols = df.columns.to_series()[np.isinf(df).any()]"
   ]
  },
  {
   "cell_type": "code",
   "execution_count": 11,
   "id": "7c75fa23-35c2-46c9-b696-7cc4ce6b09f0",
   "metadata": {},
   "outputs": [],
   "source": [
    "for col in inf_cols:\n",
    "    df[col] = df[col].replace([np.inf, -np.inf], np.nan)"
   ]
  },
  {
   "cell_type": "code",
   "execution_count": 12,
   "id": "a24dcacd-7890-455a-b0c4-8412e5bacd87",
   "metadata": {},
   "outputs": [
    {
     "name": "stdout",
     "output_type": "stream",
     "text": [
      "\n",
      "Analysis Header of df dataset\n",
      "--------------------------------------------------------------------------------\n",
      "- Dataset shape:\t\t\t 356251 rows and 797 columns\n",
      "- Total of NaN values:\t\t\t 72100002\n",
      "- Percentage of NaN:\t\t\t 25.39 %\n",
      "- Total of infinite values:\t\t 0\n",
      "- Percentage of infinite values:\t 0.0 %\n",
      "- Total of full duplicates rows:\t 0\n",
      "- Total of empty rows:\t\t\t 0\n",
      "- Total of empty columns:\t\t 0\n",
      "- Unique indexes:\t\t\t True\n",
      "- Memory usage:\t\t\t\t 941.8 MB\n"
     ]
    }
   ],
   "source": [
    "df_analysis(df, \"df\", analysis_type=\"header\")"
   ]
  },
  {
   "cell_type": "markdown",
   "id": "cb5aaa67-c37d-4f58-9134-0c7c4f3e87c2",
   "metadata": {},
   "source": [
    "<div class=\"alert alert-block alert-info\">\n",
    "    <p>Let's continue by identifying the features with missing-values and excluding the TARGET\n",
    "   </p>\n",
    "</div>\n",
    "</div>"
   ]
  },
  {
   "cell_type": "code",
   "execution_count": 13,
   "id": "7ff4cd72-ecae-4c69-af5e-0fe411beb586",
   "metadata": {},
   "outputs": [],
   "source": [
    "nan_cols = [i for i in df.columns if i!=\"TARGET\" and df[i].isnull().any()]"
   ]
  },
  {
   "cell_type": "code",
   "execution_count": 14,
   "id": "7bef3993-9920-4c26-bff9-0ccfbee30a13",
   "metadata": {},
   "outputs": [],
   "source": [
    "for col in nan_cols:\n",
    "    mean_value = df[col].mean()\n",
    "    df[col].fillna(value=mean_value, inplace=True)"
   ]
  },
  {
   "cell_type": "code",
   "execution_count": 15,
   "id": "e464dfbf-f109-4d7e-961b-fc265d3f4b1b",
   "metadata": {},
   "outputs": [
    {
     "name": "stdout",
     "output_type": "stream",
     "text": [
      "\n",
      "Analysis Header of df dataset\n",
      "--------------------------------------------------------------------------------\n",
      "- Dataset shape:\t\t\t 356251 rows and 797 columns\n",
      "- Total of NaN values:\t\t\t 48744\n",
      "- Percentage of NaN:\t\t\t 0.02 %\n",
      "- Total of infinite values:\t\t 0\n",
      "- Percentage of infinite values:\t 0.0 %\n",
      "- Total of full duplicates rows:\t 0\n",
      "- Total of empty rows:\t\t\t 0\n",
      "- Total of empty columns:\t\t 0\n",
      "- Unique indexes:\t\t\t True\n",
      "- Memory usage:\t\t\t\t 941.8 MB\n"
     ]
    }
   ],
   "source": [
    "df_analysis(df, \"df\", analysis_type=\"header\")"
   ]
  },
  {
   "cell_type": "markdown",
   "id": "43458410-f008-4855-85c4-0bd8fe1875e8",
   "metadata": {},
   "source": [
    "<div class=\"alert alert-block alert-success\">\n",
    "    <p>At this point, TARGET is the only column with missing-values</p>\n",
    "</div>"
   ]
  },
  {
   "cell_type": "code",
   "execution_count": 16,
   "id": "25f6a1f9-6516-45fa-9b54-f1aacdf808ef",
   "metadata": {},
   "outputs": [],
   "source": [
    "# saving the optimized dataset \n",
    "#df.to_csv(\"datasets\\df_optimized.csv\", index=False)"
   ]
  },
  {
   "cell_type": "markdown",
   "id": "6d7b3692-7168-4556-a444-7000fe8cf359",
   "metadata": {
    "tags": []
   },
   "source": [
    "<div style=\"background-color: #506AB9;\" >\n",
    "    <h2 style=\"margin: auto; padding: 20px; color:#fff; \">2. Class Imbalance</h2>\n",
    "</div>"
   ]
  },
  {
   "cell_type": "markdown",
   "id": "4ba6c676-4953-4bb5-9150-73f6ec693656",
   "metadata": {
    "tags": []
   },
   "source": [
    "<div style=\"background-color: #506AB9;\" >\n",
    "    <h3 style=\"margin: auto; padding: 20px; color:#fff; \">2.1. Verifying</h3>\n",
    "</div>"
   ]
  },
  {
   "cell_type": "markdown",
   "id": "22f556a9-7a48-4510-89f1-db14b0193864",
   "metadata": {
    "tags": []
   },
   "source": [
    "<div class=\"alert alert-block alert-info\">\n",
    "    <p>Now, we are going to analyze in details, whether ours target has an imbalanced class\n",
    "   </p>\n",
    "</div>"
   ]
  },
  {
   "cell_type": "code",
   "execution_count": 17,
   "id": "3fe0ccbb-a491-4052-9137-7fe1ff0018f4",
   "metadata": {},
   "outputs": [
    {
     "data": {
      "image/png": "[encoded data removed]",
      "text/plain": [
       "<Figure size 648x360 with 2 Axes>"
      ]
     },
     "metadata": {
      "needs_background": "light"
     },
     "output_type": "display_data"
    }
   ],
   "source": [
    "barplot_and_pie(df[\"TARGET\"], \"Target distribution\", \" \")"
   ]
  },
  {
   "cell_type": "markdown",
   "id": "d6d6de84-3c5c-41dd-9448-1d183d0f6dcf",
   "metadata": {
    "tags": []
   },
   "source": [
    "<div class=\"alert alert-block alert-warning\">\n",
    "    <p>Here we can see how much the dataset is imbalanced</p>\n",
    "    <p>It is easily identifying that there are <b>loans that were repaid (0)</b> in comparison of <b>loans that were not repaid (1)</b></p>   \n",
    "</div>"
   ]
  },
  {
   "cell_type": "markdown",
   "id": "e9556c81-dfd5-4fc2-a526-c3f136987135",
   "metadata": {
    "tags": []
   },
   "source": [
    "<div style=\"background-color: #506AB9;\" >\n",
    "    <h3 style=\"margin: auto; padding: 20px; color:#fff; \">2.2. Smote</h3>\n",
    "</div>"
   ]
  },
  {
   "cell_type": "markdown",
   "id": "0af57235-8866-455c-9bd8-6d233eb75afc",
   "metadata": {
    "tags": []
   },
   "source": [
    "<div class=\"alert alert-block alert-info\">\n",
    "    <p>To treat the Imbalanced class, we are going to use a type of data augmentation for the minority class (Oversampling) where new examples can be synthesized from the existing examples and it is referred as the Synthetic Minority Oversampling Technique - SMOTE.</p>\n",
    "</div>"
   ]
  },
  {
   "cell_type": "code",
   "execution_count": 18,
   "id": "daf42ff3-cd0f-46c1-8eb0-0bd4a588fbbe",
   "metadata": {},
   "outputs": [],
   "source": [
    "train_df = df[df[\"TARGET\"].notnull()]\n",
    "test_df = df[df[\"TARGET\"].isnull()]"
   ]
  },
  {
   "cell_type": "code",
   "execution_count": 19,
   "id": "2a4a3235-1afe-49f0-a034-98432f3cc436",
   "metadata": {},
   "outputs": [],
   "source": [
    "X = train_df.drop(columns=[\"TARGET\"])"
   ]
  },
  {
   "cell_type": "code",
   "execution_count": 20,
   "id": "2777bbf4-bead-442f-81e2-daf04bee4368",
   "metadata": {},
   "outputs": [],
   "source": [
    "y = train_df.loc[:,\"TARGET\"]"
   ]
  },
  {
   "cell_type": "markdown",
   "id": "3d314dcc-7381-45c3-9968-740741372404",
   "metadata": {
    "tags": []
   },
   "source": [
    "<div class=\"alert alert-block alert-info\">\n",
    "    <p>Initializing SMOTE</p>\n",
    "</div>"
   ]
  },
  {
   "cell_type": "code",
   "execution_count": 21,
   "id": "1751ce9b-bd95-4da0-a630-d8572ae487fc",
   "metadata": {},
   "outputs": [],
   "source": [
    "smote = SMOTE(sampling_strategy=\"auto\", k_neighbors=5, n_jobs=-1,\n",
    "              random_state=42)"
   ]
  },
  {
   "cell_type": "markdown",
   "id": "4f736573-772a-4c44-ac54-e8a5bcc5dcc5",
   "metadata": {
    "tags": []
   },
   "source": [
    "<div class=\"alert alert-block alert-info\">\n",
    "    <p>Executing SMOTE</p>\n",
    "</div>"
   ]
  },
  {
   "cell_type": "code",
   "execution_count": 22,
   "id": "3d4f553d-b9e8-4559-bd71-0c48359f3dfd",
   "metadata": {},
   "outputs": [],
   "source": [
    "X_resampled, y_resampled = smote.fit_resample(X, y)"
   ]
  },
  {
   "cell_type": "markdown",
   "id": "c22de8f3-2f74-4df6-a204-6548c9e2f5ee",
   "metadata": {
    "tags": []
   },
   "source": [
    "<div class=\"alert alert-block alert-info\">\n",
    "    <p>Finally, we can see the results</p>\n",
    "</div>"
   ]
  },
  {
   "cell_type": "code",
   "execution_count": 23,
   "id": "69cd5ce7-06c3-48c4-94a2-513ff782bff3",
   "metadata": {},
   "outputs": [
    {
     "data": {
      "image/png": "[encoded data removed]",
      "text/plain": [
       "<Figure size 648x360 with 2 Axes>"
      ]
     },
     "metadata": {
      "needs_background": "light"
     },
     "output_type": "display_data"
    }
   ],
   "source": [
    "barplot_and_pie(y_resampled, \"Target distribution\", \" \")"
   ]
  },
  {
   "cell_type": "markdown",
   "id": "71f90b4c-0cc7-460e-9034-b33024d428e1",
   "metadata": {
    "tags": []
   },
   "source": [
    "<div class=\"alert alert-block alert-success\">\n",
    "    <p>Now, we have the Target balanced</p>\n",
    "</div>"
   ]
  },
  {
   "cell_type": "markdown",
   "id": "1b5be0a5-5156-4549-b144-c2f9cf2b012b",
   "metadata": {
    "tags": []
   },
   "source": [
    "<div style=\"background-color: #506AB9;\" >\n",
    "    <h3 style=\"margin: auto; padding: 20px; color:#fff; \">2.4. Rebuild the dataset</h3>\n",
    "</div>"
   ]
  },
  {
   "cell_type": "markdown",
   "id": "bca5ca60-59a0-488f-9ec6-075703f1dae6",
   "metadata": {
    "tags": []
   },
   "source": [
    "<div class=\"alert alert-block alert-info\">\n",
    "    <p>Creating series with attributes</p>\n",
    "</div>"
   ]
  },
  {
   "cell_type": "code",
   "execution_count": 24,
   "id": "4e28a37d-71cb-43b7-9153-b4f8721e4548",
   "metadata": {},
   "outputs": [],
   "source": [
    "y_resampled  = pd.Series(y_resampled, name=\"TARGET\")"
   ]
  },
  {
   "cell_type": "markdown",
   "id": "00b614ab-e29f-410f-8051-c026e1395e84",
   "metadata": {
    "tags": []
   },
   "source": [
    "<div class=\"alert alert-block alert-info\">\n",
    "    <p>Merging result dataset with result series</p>\n",
    "</div>"
   ]
  },
  {
   "cell_type": "code",
   "execution_count": 25,
   "id": "f5351baa-4184-4543-a556-77bfe2f0829e",
   "metadata": {},
   "outputs": [],
   "source": [
    "df_resampled = X_resampled.merge(y_resampled, left_index=True, right_index=True)"
   ]
  },
  {
   "cell_type": "markdown",
   "id": "f9469820-d59e-4917-83a0-964af7a6a22b",
   "metadata": {
    "tags": []
   },
   "source": [
    "<div class=\"alert alert-block alert-info\">\n",
    "    <p>Concatenating the dataset</p>\n",
    "</div>"
   ]
  },
  {
   "cell_type": "code",
   "execution_count": 26,
   "id": "8a2abecf-7078-457a-b45b-b4bc91770112",
   "metadata": {},
   "outputs": [],
   "source": [
    "df_resampled = pd.concat([df_resampled, test_df])"
   ]
  },
  {
   "cell_type": "code",
   "execution_count": 27,
   "id": "2c66ec6b-f461-41e9-aa2b-5a6f1e8943d6",
   "metadata": {},
   "outputs": [],
   "source": [
    "# saving the resampled dataset \n",
    "#df_resampled.to_csv(\"datasets\\df_resampled.csv\", index=False)"
   ]
  },
  {
   "cell_type": "markdown",
   "id": "dfb84114-aede-4961-a72e-5257b2146886",
   "metadata": {
    "tags": []
   },
   "source": [
    "<div class=\"alert alert-block alert-info\">\n",
    "    <p>Freeing up memory </p>\n",
    "</div>"
   ]
  },
  {
   "cell_type": "code",
   "execution_count": 28,
   "id": "6102aeaf-3e3f-4722-bb08-dca328c0393b",
   "metadata": {},
   "outputs": [
    {
     "data": {
      "text/plain": [
       "9870"
      ]
     },
     "execution_count": 28,
     "metadata": {},
     "output_type": "execute_result"
    }
   ],
   "source": [
    "del df, train_df, test_df, X, y, X_resampled, y_resampled\n",
    "gc.collect()"
   ]
  },
  {
   "cell_type": "markdown",
   "id": "6d5e4371-7b4f-4df9-b1fd-064d701c6f7f",
   "metadata": {
    "tags": []
   },
   "source": [
    "<div class=\"alert alert-block alert-info\">\n",
    "    <p>Let's see the final dataset</p>\n",
    "</div>"
   ]
  },
  {
   "cell_type": "code",
   "execution_count": 29,
   "id": "63a69fbd-f751-4006-a6bf-69a648d1d9ce",
   "metadata": {},
   "outputs": [
    {
     "name": "stdout",
     "output_type": "stream",
     "text": [
      "\n",
      "Analysis Header of df_resampled dataset\n",
      "--------------------------------------------------------------------------------\n",
      "- Dataset shape:\t\t\t 614108 rows and 797 columns\n",
      "- Total of NaN values:\t\t\t 48744\n",
      "- Percentage of NaN:\t\t\t 0.01 %\n",
      "- Total of infinite values:\t\t 0\n",
      "- Percentage of infinite values:\t 0.0 %\n",
      "- Total of full duplicates rows:\t 0\n",
      "- Total of empty rows:\t\t\t 0\n",
      "- Total of empty columns:\t\t 0\n",
      "- Unique indexes:\t\t\t False\n",
      "- Memory usage:\t\t\t\t 1.6 GB\n"
     ]
    }
   ],
   "source": [
    "df_analysis(df_resampled, \"df_resampled\", analysis_type=\"header\")"
   ]
  },
  {
   "cell_type": "markdown",
   "id": "7ad2b17d-c82a-442f-8fd9-e071875a7d9d",
   "metadata": {
    "tags": []
   },
   "source": [
    "<div class=\"alert alert-block alert-success\">\n",
    "    <p><b>Observations / Conclusions</b></p>\n",
    "    <p>At this point we have the following dataset.</p>\n",
    "    <ul style=\"list-style-type: square;\">\n",
    "        <li><b>df_resampled</b>: that is balanced after treating it through SMOTE and shape 614108 x 797</li>\n",
    "    </ul> \n",
    "</div>"
   ]
  },
  {
   "cell_type": "markdown",
   "id": "44f4971d-c73b-4740-992b-57f5bac34181",
   "metadata": {
    "tags": []
   },
   "source": [
    "<div style=\"background-color: #506AB9;\" >\n",
    "    <h2 style=\"margin: auto; padding: 20px; color:#fff; \">3. Optimization</h2>\n",
    "</div>"
   ]
  },
  {
   "cell_type": "markdown",
   "id": "02af96c7-92f9-4237-86ad-a2e09de5e651",
   "metadata": {
    "tags": []
   },
   "source": [
    "<div class=\"alert alert-block alert-info\">\n",
    "    <p>Now, we are going to use a <b>Custom Score</b> and <b>Hyperopt</b> to get the best result to set the model </p>\n",
    "</div>"
   ]
  },
  {
   "cell_type": "markdown",
   "id": "65edec22-2c38-4888-bac1-afdb1d82affd",
   "metadata": {
    "tags": []
   },
   "source": [
    "<div style=\"background-color: #506AB9;\" >\n",
    "    <h3 style=\"margin: auto; padding: 20px; color:#fff; \">3.1. Custom Score</h3>\n",
    "</div>"
   ]
  },
  {
   "cell_type": "markdown",
   "id": "5252fb83-6e15-453d-9ce0-4b23618fe55a",
   "metadata": {
    "tags": []
   },
   "source": [
    "<div class=\"alert alert-block alert-info\">\n",
    "    <p>In the <b>Custom Score</b>, we are going to penalize the <b>False Negative</b> that are loands <b>will be in default</b>, and they were <b>predicted incorrectly</b></p>\n",
    "</div>"
   ]
  },
  {
   "cell_type": "code",
   "execution_count": 30,
   "id": "f57501f2-3eb9-4bcb-a6ff-12ba5af2bc9a",
   "metadata": {},
   "outputs": [],
   "source": [
    "def custom_score(y_true, y_pred):\n",
    "    \"\"\"\n",
    "    Method used to calculate a score based on the penalization of False Negatives.\n",
    "\n",
    "    Parameters:\n",
    "    -----------------\n",
    "        y_true (series): True values\n",
    "        y_pred (series): Predicted values\n",
    "        \n",
    "    Returns:\n",
    "    -----------------\n",
    "        Score. (float): Score obtained based on the rules defined to measure. \n",
    "    \"\"\"\n",
    "    \n",
    "    # Getting the probability outputs from \"predict_proba\"\n",
    "    threshold = 0.5\n",
    "    y_pred = (y_pred >= threshold).astype(int)\n",
    "    \n",
    "    TN_rate = 1        # Loans that are not in default and were predicted correctly\n",
    "    TP_rate = 1        # Loans that are in default and were predicted correctly\n",
    "    FP_rate = 0        # Loans that are not in default and were predicted incorrectly\n",
    "    FN_rate = -10      # Loans that are in default and were were predicted incorrectly\n",
    "    \n",
    "    # Getting all values based on confusion matrix\n",
    "    (TN, FP, FN, TP) = confusion_matrix(y_true, y_pred).ravel()\n",
    "\n",
    "    # Total of default and not default cases\n",
    "    total_not_default = TN + FP     # Not default cases\n",
    "    total_default = TP + FN         # Default cases \n",
    "    \n",
    "    gain_total = TN*TN_rate + TP*TP_rate + FP*FP_rate + FN*FN_rate\n",
    "    gain_maximun = total_not_default*TN_rate + total_default*TP_rate\n",
    "    gain_minumun = total_not_default*TN_rate + total_default*FN_rate\n",
    "    \n",
    "    # normalize to get score between 0 (baseline) and 1\n",
    "    score = (gain_total - gain_minumun) / (gain_maximun - gain_minumun)\n",
    "    \n",
    "    return score"
   ]
  },
  {
   "cell_type": "markdown",
   "id": "ec92390c-1876-48c6-a2e4-8e90a14d8ee2",
   "metadata": {
    "tags": []
   },
   "source": [
    "<div style=\"background-color: #506AB9;\" >\n",
    "    <h3 style=\"margin: auto; padding: 20px; color:#fff; \">3.2. Model optimiztion</h3>\n",
    "</div>"
   ]
  },
  {
   "cell_type": "markdown",
   "id": "b59f6309-ff04-4535-9283-e93e5b3df6c6",
   "metadata": {
    "tags": []
   },
   "source": [
    "<div class=\"alert alert-block alert-info\">\n",
    "    <p>Let's define the parameters</p>\n",
    "</div>"
   ]
  },
  {
   "cell_type": "code",
   "execution_count": 31,
   "id": "6faf3980-132a-4ec8-b9d8-eae66641b532",
   "metadata": {},
   "outputs": [],
   "source": [
    "N_ESTIMATORS = [8000, 10000, 12000]\n",
    "NUM_LEAVES = [32, 34, 36]\n",
    "MAX_DEPTH = [7, 8, 9]"
   ]
  },
  {
   "cell_type": "code",
   "execution_count": 32,
   "id": "e7683875-9c85-42a4-9e34-54e74608a5f5",
   "metadata": {
    "tags": []
   },
   "outputs": [],
   "source": [
    "space_params = {\n",
    "    \"n_estimators\" : hp.choice(\"n_estimators\", N_ESTIMATORS),\n",
    "    \"learning_rate\" :  hp.uniform(\"learning_rate\", 0.002, 0.003),\n",
    "    \"num_leaves\" :  hp.choice(\"num_leaves\", NUM_LEAVES),\n",
    "    \"max_depth\" : hp.choice(\"max_depth\", MAX_DEPTH),\n",
    "    \"reg_alpha\" : hp.uniform(\"reg_alpha\", 0.041545473, 0.051),\n",
    "    \"reg_lambda\" : hp.uniform(\"reg_lambda\", 0.0735294, 0.0835294),\n",
    "    \"min_split_gain\" : hp.uniform(\"min_split_gain\", 0.0222415, 0.0322415),\n",
    "    \"min_child_weight\" : hp.uniform(\"min_child_weight\", 39.3259775, 49)\n",
    "}"
   ]
  },
  {
   "cell_type": "markdown",
   "id": "a564e380-8436-4356-8be1-fb0b433d2104",
   "metadata": {
    "tags": []
   },
   "source": [
    "<div class=\"alert alert-block alert-info\">\n",
    "    <p>Now, we can define our objective function</p>\n",
    "    <p>To do that, we are going to consider the following</p>\n",
    "    <ul style=\"list-style-type: square;\">\n",
    "        <li><b>StandardScaler</b> to manage all data in the same scale</li>\n",
    "        <li><b>colsample_bytree and subsample</b> with 80% of data, to improve the execution time</li>\n",
    "        <li><b>n_splits</b> with 2 to improve the execution time</li>\n",
    "        <li><b>is_unbalance</b> with False because it is a balanced dataset</li>\n",
    "    </ul> \n",
    "</div>"
   ]
  },
  {
   "cell_type": "code",
   "execution_count": 33,
   "id": "0d469c46-c176-4e49-adfd-324179303c30",
   "metadata": {},
   "outputs": [],
   "source": [
    "def hyperparameter_tuning(space_params, df, imbalanced, n_splits):\n",
    "    \"\"\"\n",
    "    Method used to analyze on the DataFrame.\n",
    "\n",
    "    Parameters:\n",
    "    -----------------\n",
    "        space_params (dict): Parameters to optimize the model\n",
    "        df (pandas.DataFrame): Dataset to treat\n",
    "        imbalanced (boolean): Define whether dataset is unbalanced\n",
    "        n_splits (int): To split data in train test sets\n",
    "\n",
    "    Returns:\n",
    "    -----------------\n",
    "        Loss and STATUS.\n",
    "    \"\"\"\n",
    "    \n",
    "    # Formatting columns name\n",
    "    df = df.rename(columns=lambda x:re.sub(\"[^A-Za-z0-9_]+\", \"\", x))\n",
    "    df_lgbm = df.copy()\n",
    "    \n",
    "    scaler = StandardScaler()\n",
    "    \n",
    "    # Divide in training/validation and test data\n",
    "    train_df = df_lgbm[df_lgbm[\"TARGET\"].notnull()]\n",
    "    test_df = df_lgbm[df_lgbm[\"TARGET\"].isnull()]\n",
    "    del df_lgbm\n",
    "    gc.collect()\n",
    "    \n",
    "    # Cross validation model\n",
    "    folds = KFold(n_splits=n_splits, shuffle=True, random_state=42)\n",
    "    \n",
    "    # Create arrays and dataframes to store results\n",
    "    oof_preds = np.zeros(train_df.shape[0])\n",
    "    sub_preds = np.zeros(test_df.shape[0])\n",
    "    feats = [f for f in train_df.columns if f not in [\"TARGET\", \"SK_ID_CURR\", \"SK_ID_BUREAU\", \"SK_ID_PREV\"]]\n",
    "    \n",
    "    for n_fold, (train_idx, valid_idx) in enumerate(folds.split(train_df[feats], train_df[\"TARGET\"])):\n",
    "        \n",
    "        print(\"\\n\")\n",
    "        \n",
    "        train_x, train_y = train_df[feats].iloc[train_idx], train_df[\"TARGET\"].iloc[train_idx]\n",
    "        valid_x, valid_y = train_df[feats].iloc[valid_idx], train_df[\"TARGET\"].iloc[valid_idx]\n",
    "    \n",
    "        train_x_scaled = scaler.fit_transform(train_x)\n",
    "        valid_x_scaled = scaler.fit_transform(valid_x)\n",
    "        \n",
    "        # LightGBM parameters found by Bayesian optimization\n",
    "        clf = LGBMClassifier(\n",
    "            **space_params,\n",
    "            colsample_bytree=0.8, \n",
    "            subsample=0.8,\n",
    "            is_unbalance=imbalanced,\n",
    "            n_jobs=-1 \n",
    "        )\n",
    "        \n",
    "        evaluation = [(train_x_scaled, train_y), (valid_x_scaled, valid_y)]\n",
    "        \n",
    "        clf.fit(train_x_scaled, train_y, eval_set=evaluation, eval_metric=\"auc\",\n",
    "                callbacks=[lgb.early_stopping(stopping_rounds=200),\n",
    "                          lgb.log_evaluation(period=-1)])\n",
    "        \n",
    "        oof_preds[valid_idx] = clf.predict_proba(valid_x_scaled, num_iteration=clf.best_iteration_)[:, 1]\n",
    "        \n",
    "        del clf, train_x, train_x_scaled, train_y, valid_x, valid_x_scaled, valid_y\n",
    "        gc.collect()\n",
    "    \n",
    "    auc = roc_auc_score(train_df[\"TARGET\"], oof_preds)\n",
    "    print(\">> ROC-AUC Score %.6f\" % auc )\n",
    "    \n",
    "    cs = custom_score(train_df[\"TARGET\"], oof_preds)\n",
    "    print(\">> Custom Score %.6f\\n\" % cs )\n",
    "          \n",
    "    return { \"loss\": -auc, \"status\": STATUS_OK } "
   ]
  },
  {
   "cell_type": "markdown",
   "id": "f99674b3-8696-41b8-b0f8-d9e57b84025d",
   "metadata": {
    "tags": []
   },
   "source": [
    "<div style=\"background-color: #506AB9;\" >\n",
    "    <h3 style=\"margin: auto; padding: 20px; color:#fff; \">3.3. Balanced dataset modelisation</h3>\n",
    "</div>"
   ]
  },
  {
   "cell_type": "markdown",
   "id": "0c7f1c8c-b3fd-4d15-8ec1-0afc194bf9ac",
   "metadata": {
    "tags": []
   },
   "source": [
    "<div class=\"alert alert-block alert-info\">\n",
    "    <p>Finally, we are going to optimize the model with the <b>balanced</b> dataset</p>\n",
    "</div>"
   ]
  },
  {
   "cell_type": "code",
   "execution_count": 34,
   "id": "e5addc3f-b138-4047-acf8-27edef5e2ad8",
   "metadata": {},
   "outputs": [],
   "source": [
    "fmin_objective = partial(hyperparameter_tuning, \n",
    "                         df=df_resampled, imbalanced=False,\n",
    "                         n_splits=2)"
   ]
  },
  {
   "cell_type": "code",
   "execution_count": 36,
   "id": "e3ee90ab-d5f7-4a27-bdcc-98947f136457",
   "metadata": {
    "tags": []
   },
   "outputs": [
    {
     "name": "stdout",
     "output_type": "stream",
     "text": [
      "Training until validation scores don't improve for 200 rounds                                                                                     \n",
      "Early stopping, best iteration is:                                                                                                                \n",
      "[373]\ttraining's auc: 0.96741\ttraining's binary_logloss: 0.416531\tvalid_1's auc: 0.903944\tvalid_1's binary_logloss: 0.589348\n",
      "Training until validation scores don't improve for 200 rounds                                                                                     \n",
      "Early stopping, best iteration is:                                                                                                                \n",
      "[457]\ttraining's auc: 0.969332\ttraining's binary_logloss: 0.381608\tvalid_1's auc: 0.901228\tvalid_1's binary_logloss: 0.582582\n",
      ">> ROC-AUC Score 0.900665                                                                                                                         \n",
      ">> Custom Score 0.914585                                                                                                                          \n",
      "\n",
      "Training until validation scores don't improve for 200 rounds                                                                                     \n",
      "Early stopping, best iteration is:                                                                                                                \n",
      "[406]\ttraining's auc: 0.969097\ttraining's binary_logloss: 0.388483\tvalid_1's auc: 0.90275\tvalid_1's binary_logloss: 0.582312\n",
      "Training until validation scores don't improve for 200 rounds                                                                                     \n",
      "Early stopping, best iteration is:                                                                                                                \n",
      "[465]\ttraining's auc: 0.970312\ttraining's binary_logloss: 0.365117\tvalid_1's auc: 0.906805\tvalid_1's binary_logloss: 0.559995\n",
      ">> ROC-AUC Score 0.904619                                                                                                                         \n",
      ">> Custom Score 0.912592                                                                                                                          \n",
      "\n",
      "Training until validation scores don't improve for 200 rounds                                                                                     \n",
      "Early stopping, best iteration is:                                                                                                                \n",
      "[459]\ttraining's auc: 0.969068\ttraining's binary_logloss: 0.390591\tvalid_1's auc: 0.906941\tvalid_1's binary_logloss: 0.586324\n",
      "Training until validation scores don't improve for 200 rounds                                                                                     \n",
      "Early stopping, best iteration is:                                                                                                                \n",
      "[507]\ttraining's auc: 0.969823\ttraining's binary_logloss: 0.374484\tvalid_1's auc: 0.902015\tvalid_1's binary_logloss: 0.56897\n",
      ">> ROC-AUC Score 0.904283                                                                                                                         \n",
      ">> Custom Score 0.913404                                                                                                                          \n",
      "\n",
      "Training until validation scores don't improve for 200 rounds                                                                                     \n",
      "Early stopping, best iteration is:                                                                                                                \n",
      "[497]\ttraining's auc: 0.969168\ttraining's binary_logloss: 0.391553\tvalid_1's auc: 0.903807\tvalid_1's binary_logloss: 0.583257\n",
      "Training until validation scores don't improve for 200 rounds                                                                                     \n",
      "Early stopping, best iteration is:                                                                                                                \n",
      "[600]\ttraining's auc: 0.970659\ttraining's binary_logloss: 0.359648\tvalid_1's auc: 0.906199\tvalid_1's binary_logloss: 0.566301\n",
      ">> ROC-AUC Score 0.904411                                                                                                                         \n",
      ">> Custom Score 0.913126                                                                                                                          \n",
      "\n",
      "Training until validation scores don't improve for 200 rounds                                                                                     \n",
      "Early stopping, best iteration is:                                                                                                                \n",
      "[358]\ttraining's auc: 0.967805\ttraining's binary_logloss: 0.410949\tvalid_1's auc: 0.90408\tvalid_1's binary_logloss: 0.590142\n",
      "Training until validation scores don't improve for 200 rounds                                                                                     \n",
      "Early stopping, best iteration is:                                                                                                                \n",
      "[426]\ttraining's auc: 0.969203\ttraining's binary_logloss: 0.382402\tvalid_1's auc: 0.900717\tvalid_1's binary_logloss: 0.582904\n",
      ">> ROC-AUC Score 0.901443                                                                                                                         \n",
      ">> Custom Score 0.914818                                                                                                                          \n",
      "\n",
      "Training until validation scores don't improve for 200 rounds                                                                                     \n",
      "Early stopping, best iteration is:                                                                                                                \n",
      "[340]\ttraining's auc: 0.968059\ttraining's binary_logloss: 0.405712\tvalid_1's auc: 0.907461\tvalid_1's binary_logloss: 0.589592\n",
      "Training until validation scores don't improve for 200 rounds                                                                                     \n",
      "Early stopping, best iteration is:                                                                                                                \n",
      "[392]\ttraining's auc: 0.969386\ttraining's binary_logloss: 0.381396\tvalid_1's auc: 0.901711\tvalid_1's binary_logloss: 0.582081\n",
      ">> ROC-AUC Score 0.904231                                                                                                                         \n",
      ">> Custom Score 0.915356                                                                                                                          \n",
      "\n",
      "Training until validation scores don't improve for 200 rounds                                                                                     \n",
      "Early stopping, best iteration is:                                                                                                                \n",
      "[429]\ttraining's auc: 0.967837\ttraining's binary_logloss: 0.411748\tvalid_1's auc: 0.905023\tvalid_1's binary_logloss: 0.595183\n",
      "Training until validation scores don't improve for 200 rounds                                                                                     \n",
      "Early stopping, best iteration is:                                                                                                                \n",
      "[512]\ttraining's auc: 0.969389\ttraining's binary_logloss: 0.382117\tvalid_1's auc: 0.900294\tvalid_1's binary_logloss: 0.588742\n",
      ">> ROC-AUC Score 0.901109                                                                                                                         \n",
      ">> Custom Score 0.915632                                                                                                                          \n",
      "\n",
      "Training until validation scores don't improve for 200 rounds                                                                                     \n",
      "Early stopping, best iteration is:                                                                                                                \n",
      "[419]\ttraining's auc: 0.968068\ttraining's binary_logloss: 0.409182\tvalid_1's auc: 0.90661\tvalid_1's binary_logloss: 0.59317\n",
      "Training until validation scores don't improve for 200 rounds                                                                                     \n",
      "Early stopping, best iteration is:                                                                                                                \n",
      "[490]\ttraining's auc: 0.969424\ttraining's binary_logloss: 0.382695\tvalid_1's auc: 0.901934\tvalid_1's binary_logloss: 0.587827\n",
      ">> ROC-AUC Score 0.903266                                                                                                                         \n",
      ">> Custom Score 0.915713                                                                                                                          \n",
      "\n",
      "Training until validation scores don't improve for 200 rounds                                                                                     \n",
      "Early stopping, best iteration is:                                                                                                                \n",
      "[385]\ttraining's auc: 0.968297\ttraining's binary_logloss: 0.408938\tvalid_1's auc: 0.904316\tvalid_1's binary_logloss: 0.589318\n",
      "Training until validation scores don't improve for 200 rounds                                                                                     \n",
      "Early stopping, best iteration is:                                                                                                                \n",
      "[486]\ttraining's auc: 0.970261\ttraining's binary_logloss: 0.369455\tvalid_1's auc: 0.904642\tvalid_1's binary_logloss: 0.56915\n",
      ">> ROC-AUC Score 0.902629                                                                                                                         \n",
      ">> Custom Score 0.913225                                                                                                                          \n",
      "\n",
      "Training until validation scores don't improve for 200 rounds                                                                                     \n",
      "Early stopping, best iteration is:                                                                                                                \n",
      "[369]\ttraining's auc: 0.968143\ttraining's binary_logloss: 0.409298\tvalid_1's auc: 0.905733\tvalid_1's binary_logloss: 0.592592\n",
      "Training until validation scores don't improve for 200 rounds                                                                                     \n",
      "Early stopping, best iteration is:                                                                                                                \n",
      "[461]\ttraining's auc: 0.970146\ttraining's binary_logloss: 0.370769\tvalid_1's auc: 0.905127\tvalid_1's binary_logloss: 0.590565\n",
      ">> ROC-AUC Score 0.903018                                                                                                                         \n",
      ">> Custom Score 0.916242                                                                                                                          \n",
      "\n",
      "Training until validation scores don't improve for 200 rounds                                                                                     \n",
      "Early stopping, best iteration is:                                                                                                                \n",
      "[346]\ttraining's auc: 0.968396\ttraining's binary_logloss: 0.404738\tvalid_1's auc: 0.903919\tvalid_1's binary_logloss: 0.584053\n",
      "Training until validation scores don't improve for 200 rounds                                                                                     \n",
      "Early stopping, best iteration is:                                                                                                                \n",
      "[425]\ttraining's auc: 0.970138\ttraining's binary_logloss: 0.369596\tvalid_1's auc: 0.906224\tvalid_1's binary_logloss: 0.567653\n",
      ">> ROC-AUC Score 0.904133                                                                                                                         \n",
      ">> Custom Score 0.913251                                                                                                                          \n",
      "\n",
      "Training until validation scores don't improve for 200 rounds                                                                                     \n",
      "Early stopping, best iteration is:                                                                                                                \n",
      "[469]\ttraining's auc: 0.969225\ttraining's binary_logloss: 0.392197\tvalid_1's auc: 0.902575\tvalid_1's binary_logloss: 0.585185\n",
      "Training until validation scores don't improve for 200 rounds                                                                                     \n",
      "Early stopping, best iteration is:                                                                                                                \n",
      "[575]\ttraining's auc: 0.970729\ttraining's binary_logloss: 0.357051\tvalid_1's auc: 0.905675\tvalid_1's binary_logloss: 0.566557\n",
      ">> ROC-AUC Score 0.903292                                                                                                                         \n",
      ">> Custom Score 0.913287                                                                                                                          \n",
      "\n",
      "Training until validation scores don't improve for 200 rounds                                                                                     \n",
      "Early stopping, best iteration is:                                                                                                                \n",
      "[385]\ttraining's auc: 0.968613\ttraining's binary_logloss: 0.402141\tvalid_1's auc: 0.904613\tvalid_1's binary_logloss: 0.586107\n",
      "Training until validation scores don't improve for 200 rounds                                                                                     \n",
      "Early stopping, best iteration is:                                                                                                                \n",
      "[466]\ttraining's auc: 0.970121\ttraining's binary_logloss: 0.370147\tvalid_1's auc: 0.903862\tvalid_1's binary_logloss: 0.567024\n",
      ">> ROC-AUC Score 0.903556                                                                                                                         \n",
      ">> Custom Score 0.913408                                                                                                                          \n",
      "\n",
      "Training until validation scores don't improve for 200 rounds                                                                                     \n",
      "Early stopping, best iteration is:                                                                                                                \n",
      "[357]\ttraining's auc: 0.969023\ttraining's binary_logloss: 0.39949\tvalid_1's auc: 0.906947\tvalid_1's binary_logloss: 0.5915\n",
      "Training until validation scores don't improve for 200 rounds                                                                                     \n",
      "Early stopping, best iteration is:                                                                                                                \n",
      "[449]\ttraining's auc: 0.970919\ttraining's binary_logloss: 0.35929\tvalid_1's auc: 0.907394\tvalid_1's binary_logloss: 0.57554\n",
      ">> ROC-AUC Score 0.905308                                                                                                                         \n",
      ">> Custom Score 0.915376                                                                                                                          \n",
      "\n",
      "Training until validation scores don't improve for 200 rounds                                                                                     \n",
      "Early stopping, best iteration is:                                                                                                                \n",
      "[388]\ttraining's auc: 0.969025\ttraining's binary_logloss: 0.397655\tvalid_1's auc: 0.906918\tvalid_1's binary_logloss: 0.587958\n",
      "Training until validation scores don't improve for 200 rounds                                                                                     \n",
      "Early stopping, best iteration is:                                                                                                                \n",
      "[472]\ttraining's auc: 0.970705\ttraining's binary_logloss: 0.363123\tvalid_1's auc: 0.905312\tvalid_1's binary_logloss: 0.573995\n",
      ">> ROC-AUC Score 0.904978                                                                                                                         \n",
      ">> Custom Score 0.914706                                                                                                                          \n",
      "\n",
      "Training until validation scores don't improve for 200 rounds                                                                                     \n",
      "Early stopping, best iteration is:                                                                                                                \n",
      "[336]\ttraining's auc: 0.96911\ttraining's binary_logloss: 0.395796\tvalid_1's auc: 0.903158\tvalid_1's binary_logloss: 0.591787\n",
      "Training until validation scores don't improve for 200 rounds                                                                                     \n",
      "Early stopping, best iteration is:                                                                                                                \n",
      "[419]\ttraining's auc: 0.970941\ttraining's binary_logloss: 0.357833\tvalid_1's auc: 0.906581\tvalid_1's binary_logloss: 0.576103\n",
      ">> ROC-AUC Score 0.903598                                                                                                                         \n",
      ">> Custom Score 0.915123                                                                                                                          \n",
      "\n",
      "Training until validation scores don't improve for 200 rounds                                                                                     \n",
      "Early stopping, best iteration is:                                                                                                                \n",
      "[391]\ttraining's auc: 0.967466\ttraining's binary_logloss: 0.41577\tvalid_1's auc: 0.904806\tvalid_1's binary_logloss: 0.592076\n",
      "Training until validation scores don't improve for 200 rounds                                                                                     \n",
      "Early stopping, best iteration is:                                                                                                                \n",
      "[489]\ttraining's auc: 0.969566\ttraining's binary_logloss: 0.377137\tvalid_1's auc: 0.901722\tvalid_1's binary_logloss: 0.587509\n",
      ">> ROC-AUC Score 0.900369                                                                                                                         \n",
      ">> Custom Score 0.915268                                                                                                                          \n",
      "\n",
      "Training until validation scores don't improve for 200 rounds                                                                                     \n",
      "Early stopping, best iteration is:                                                                                                                \n",
      "[468]\ttraining's auc: 0.967964\ttraining's binary_logloss: 0.40949\tvalid_1's auc: 0.907949\tvalid_1's binary_logloss: 0.591925\n",
      "Training until validation scores don't improve for 200 rounds                                                                                     \n",
      "Early stopping, best iteration is:                                                                                                                \n",
      "[546]\ttraining's auc: 0.969343\ttraining's binary_logloss: 0.383397\tvalid_1's auc: 0.900465\tvalid_1's binary_logloss: 0.589704\n",
      ">> ROC-AUC Score 0.903029                                                                                                                         \n",
      ">> Custom Score 0.915629                                                                                                                          \n",
      "\n",
      "Training until validation scores don't improve for 200 rounds                                                                                     \n",
      "Early stopping, best iteration is:                                                                                                                \n",
      "[480]\ttraining's auc: 0.967635\ttraining's binary_logloss: 0.410107\tvalid_1's auc: 0.905867\tvalid_1's binary_logloss: 0.588018\n",
      "Training until validation scores don't improve for 200 rounds                                                                                     \n",
      "Early stopping, best iteration is:                                                                                                                \n",
      "[556]\ttraining's auc: 0.969057\ttraining's binary_logloss: 0.385076\tvalid_1's auc: 0.900251\tvalid_1's binary_logloss: 0.579749\n",
      ">> ROC-AUC Score 0.902536                                                                                                                         \n",
      ">> Custom Score 0.914408                                                                                                                          \n",
      "\n",
      "Training until validation scores don't improve for 200 rounds                                                                                     \n",
      "Early stopping, best iteration is:                                                                                                                \n",
      "[373]\ttraining's auc: 0.967835\ttraining's binary_logloss: 0.410599\tvalid_1's auc: 0.905127\tvalid_1's binary_logloss: 0.592316\n",
      "Training until validation scores don't improve for 200 rounds                                                                                     \n",
      "Early stopping, best iteration is:                                                                                                                \n",
      "[424]\ttraining's auc: 0.968717\ttraining's binary_logloss: 0.390036\tvalid_1's auc: 0.900766\tvalid_1's binary_logloss: 0.582351\n",
      ">> ROC-AUC Score 0.902737                                                                                                                         \n",
      ">> Custom Score 0.914878                                                                                                                          \n",
      "\n",
      "Training until validation scores don't improve for 200 rounds                                                                                     \n",
      "Early stopping, best iteration is:                                                                                                                \n",
      "[355]\ttraining's auc: 0.969062\ttraining's binary_logloss: 0.395589\tvalid_1's auc: 0.908275\tvalid_1's binary_logloss: 0.587897\n",
      "Training until validation scores don't improve for 200 rounds                                                                                     \n",
      "Early stopping, best iteration is:                                                                                                                \n",
      "[434]\ttraining's auc: 0.970863\ttraining's binary_logloss: 0.360435\tvalid_1's auc: 0.905679\tvalid_1's binary_logloss: 0.577225\n",
      ">> ROC-AUC Score 0.905644                                                                                                                         \n",
      ">> Custom Score 0.915299                                                                                                                          \n",
      "\n",
      "Training until validation scores don't improve for 200 rounds                                                                                     \n",
      "Early stopping, best iteration is:                                                                                                                \n",
      "[344]\ttraining's auc: 0.969233\ttraining's binary_logloss: 0.397202\tvalid_1's auc: 0.907474\tvalid_1's binary_logloss: 0.589339\n",
      "Training until validation scores don't improve for 200 rounds                                                                                     \n",
      "Early stopping, best iteration is:                                                                                                                \n",
      "[420]\ttraining's auc: 0.970728\ttraining's binary_logloss: 0.362475\tvalid_1's auc: 0.906782\tvalid_1's binary_logloss: 0.574646\n",
      ">> ROC-AUC Score 0.905887                                                                                                                         \n",
      ">> Custom Score 0.915210                                                                                                                          \n",
      "\n",
      "Training until validation scores don't improve for 200 rounds                                                                                     \n",
      "Early stopping, best iteration is:                                                                                                                \n",
      "[324]\ttraining's auc: 0.968592\ttraining's binary_logloss: 0.408895\tvalid_1's auc: 0.905554\tvalid_1's binary_logloss: 0.590009\n",
      "Training until validation scores don't improve for 200 rounds                                                                                     \n",
      "Early stopping, best iteration is:                                                                                                                \n",
      "[422]\ttraining's auc: 0.97073\ttraining's binary_logloss: 0.363551\tvalid_1's auc: 0.905157\tvalid_1's binary_logloss: 0.576687\n",
      ">> ROC-AUC Score 0.901918                                                                                                                         \n",
      ">> Custom Score 0.914408                                                                                                                          \n",
      "\n",
      "Training until validation scores don't improve for 200 rounds                                                                                     \n",
      "Early stopping, best iteration is:                                                                                                                \n",
      "[344]\ttraining's auc: 0.969178\ttraining's binary_logloss: 0.396098\tvalid_1's auc: 0.907819\tvalid_1's binary_logloss: 0.58841\n",
      "Training until validation scores don't improve for 200 rounds                                                                                     \n",
      "Early stopping, best iteration is:                                                                                                                \n",
      "[416]\ttraining's auc: 0.970658\ttraining's binary_logloss: 0.363661\tvalid_1's auc: 0.905456\tvalid_1's binary_logloss: 0.576473\n",
      ">> ROC-AUC Score 0.905626                                                                                                                         \n",
      ">> Custom Score 0.914927                                                                                                                          \n",
      "\n",
      "Training until validation scores don't improve for 200 rounds                                                                                     \n",
      "Early stopping, best iteration is:                                                                                                                \n",
      "[360]\ttraining's auc: 0.968801\ttraining's binary_logloss: 0.40153\tvalid_1's auc: 0.907988\tvalid_1's binary_logloss: 0.587935\n",
      "Training until validation scores don't improve for 200 rounds                                                                                     \n",
      "Early stopping, best iteration is:                                                                                                                \n",
      "[449]\ttraining's auc: 0.970849\ttraining's binary_logloss: 0.362778\tvalid_1's auc: 0.906101\tvalid_1's binary_logloss: 0.57514\n",
      ">> ROC-AUC Score 0.905169                                                                                                                         \n",
      ">> Custom Score 0.914838                                                                                                                          \n",
      "\n",
      "Training until validation scores don't improve for 200 rounds                                                                                     \n",
      "Early stopping, best iteration is:                                                                                                                \n",
      "[324]\ttraining's auc: 0.968978\ttraining's binary_logloss: 0.400795\tvalid_1's auc: 0.906015\tvalid_1's binary_logloss: 0.589723\n",
      "Training until validation scores don't improve for 200 rounds                                                                                     \n",
      "Early stopping, best iteration is:                                                                                                                \n",
      "[410]\ttraining's auc: 0.970893\ttraining's binary_logloss: 0.359722\tvalid_1's auc: 0.908305\tvalid_1's binary_logloss: 0.573684\n",
      ">> ROC-AUC Score 0.905082                                                                                                                         \n",
      ">> Custom Score 0.915257                                                                                                                          \n",
      "\n",
      "Training until validation scores don't improve for 200 rounds                                                                                     \n",
      "Early stopping, best iteration is:                                                                                                                \n",
      "[359]\ttraining's auc: 0.969448\ttraining's binary_logloss: 0.390176\tvalid_1's auc: 0.904293\tvalid_1's binary_logloss: 0.5891\n",
      "Training until validation scores don't improve for 200 rounds                                                                                     \n",
      "Early stopping, best iteration is:                                                                                                                \n",
      "[443]\ttraining's auc: 0.971207\ttraining's binary_logloss: 0.352668\tvalid_1's auc: 0.907944\tvalid_1's binary_logloss: 0.568703\n",
      ">> ROC-AUC Score 0.905241                                                                                                                         \n",
      ">> Custom Score 0.914538                                                                                                                          \n",
      "\n",
      "Training until validation scores don't improve for 200 rounds                                                                                     \n",
      "Early stopping, best iteration is:                                                                                                                \n",
      "[335]\ttraining's auc: 0.96902\ttraining's binary_logloss: 0.398793\tvalid_1's auc: 0.904589\tvalid_1's binary_logloss: 0.591764\n",
      "Training until validation scores don't improve for 200 rounds                                                                                     \n",
      "Early stopping, best iteration is:                                                                                                                \n",
      "[411]\ttraining's auc: 0.970672\ttraining's binary_logloss: 0.363896\tvalid_1's auc: 0.904703\tvalid_1's binary_logloss: 0.574983\n",
      ">> ROC-AUC Score 0.903497                                                                                                                         \n",
      ">> Custom Score 0.914569                                                                                                                          \n",
      "\n",
      "Training until validation scores don't improve for 200 rounds                                                                                     \n",
      "Early stopping, best iteration is:                                                                                                                \n",
      "[301]\ttraining's auc: 0.967651\ttraining's binary_logloss: 0.425529\tvalid_1's auc: 0.902719\tvalid_1's binary_logloss: 0.592156\n",
      "Training until validation scores don't improve for 200 rounds                                                                                     \n",
      "Early stopping, best iteration is:                                                                                                                \n",
      "[448]\ttraining's auc: 0.971113\ttraining's binary_logloss: 0.355982\tvalid_1's auc: 0.90603\tvalid_1's binary_logloss: 0.577416\n",
      ">> ROC-AUC Score 0.892151                                                                                                                         \n",
      ">> Custom Score 0.914031                                                                                                                          \n",
      "\n",
      "Training until validation scores don't improve for 200 rounds                                                                                     \n",
      "Early stopping, best iteration is:                                                                                                                \n",
      "[355]\ttraining's auc: 0.968724\ttraining's binary_logloss: 0.405217\tvalid_1's auc: 0.905901\tvalid_1's binary_logloss: 0.59151\n",
      "Training until validation scores don't improve for 200 rounds                                                                                     \n",
      "Early stopping, best iteration is:                                                                                                                \n",
      "[467]\ttraining's auc: 0.971019\ttraining's binary_logloss: 0.35703\tvalid_1's auc: 0.908682\tvalid_1's binary_logloss: 0.574407\n",
      ">> ROC-AUC Score 0.904058                                                                                                                         \n",
      ">> Custom Score 0.915280                                                                                                                          \n",
      "\n",
      "Training until validation scores don't improve for 200 rounds                                                                                     \n",
      "Early stopping, best iteration is:                                                                                                                \n",
      "[357]\ttraining's auc: 0.968334\ttraining's binary_logloss: 0.415797\tvalid_1's auc: 0.902123\tvalid_1's binary_logloss: 0.585779\n",
      "Training until validation scores don't improve for 200 rounds                                                                                     \n",
      "Early stopping, best iteration is:                                                                                                                \n",
      "[494]\ttraining's auc: 0.970733\ttraining's binary_logloss: 0.359889\tvalid_1's auc: 0.905214\tvalid_1's binary_logloss: 0.569894\n",
      ">> ROC-AUC Score 0.897660                                                                                                                         \n",
      ">> Custom Score 0.912808                                                                                                                          \n",
      "\n",
      "Training until validation scores don't improve for 200 rounds                                                                                     \n",
      "Early stopping, best iteration is:                                                                                                                \n",
      "[354]\ttraining's auc: 0.969117\ttraining's binary_logloss: 0.398084\tvalid_1's auc: 0.907225\tvalid_1's binary_logloss: 0.5897\n",
      "Training until validation scores don't improve for 200 rounds                                                                                     \n",
      "Early stopping, best iteration is:                                                                                                                \n",
      "[423]\ttraining's auc: 0.97047\ttraining's binary_logloss: 0.367776\tvalid_1's auc: 0.904524\tvalid_1's binary_logloss: 0.575855\n",
      ">> ROC-AUC Score 0.905102                                                                                                                         \n",
      ">> Custom Score 0.914780                                                                                                                          \n",
      "\n",
      "Training until validation scores don't improve for 200 rounds                                                                                     \n",
      "Early stopping, best iteration is:                                                                                                                \n",
      "[334]\ttraining's auc: 0.969405\ttraining's binary_logloss: 0.392184\tvalid_1's auc: 0.901817\tvalid_1's binary_logloss: 0.589554\n",
      "Training until validation scores don't improve for 200 rounds                                                                                     \n",
      "Early stopping, best iteration is:                                                                                                                \n",
      "[409]\ttraining's auc: 0.97091\ttraining's binary_logloss: 0.357396\tvalid_1's auc: 0.906535\tvalid_1's binary_logloss: 0.568483\n",
      ">> ROC-AUC Score 0.903589                                                                                                                         \n",
      ">> Custom Score 0.913926                                                                                                                          \n",
      "\n",
      "Training until validation scores don't improve for 200 rounds                                                                                     \n",
      "Early stopping, best iteration is:                                                                                                                \n",
      "[336]\ttraining's auc: 0.968869\ttraining's binary_logloss: 0.401074\tvalid_1's auc: 0.907282\tvalid_1's binary_logloss: 0.5881\n",
      "Training until validation scores don't improve for 200 rounds                                                                                     \n",
      "Early stopping, best iteration is:                                                                                                                \n",
      "[413]\ttraining's auc: 0.970643\ttraining's binary_logloss: 0.36505\tvalid_1's auc: 0.905761\tvalid_1's binary_logloss: 0.576205\n",
      ">> ROC-AUC Score 0.904974                                                                                                                         \n",
      ">> Custom Score 0.914544                                                                                                                          \n",
      "\n",
      "Training until validation scores don't improve for 200 rounds                                                                                     \n",
      "Early stopping, best iteration is:                                                                                                                \n",
      "[354]\ttraining's auc: 0.968937\ttraining's binary_logloss: 0.401171\tvalid_1's auc: 0.906125\tvalid_1's binary_logloss: 0.58926\n",
      "Training until validation scores don't improve for 200 rounds                                                                                     \n",
      "Early stopping, best iteration is:                                                                                                                \n",
      "[439]\ttraining's auc: 0.970686\ttraining's binary_logloss: 0.363589\tvalid_1's auc: 0.904542\tvalid_1's binary_logloss: 0.575822\n",
      ">> ROC-AUC Score 0.903644                                                                                                                         \n",
      ">> Custom Score 0.914507                                                                                                                          \n",
      "\n",
      "Training until validation scores don't improve for 200 rounds                                                                                     \n",
      "Early stopping, best iteration is:                                                                                                                \n",
      "[385]\ttraining's auc: 0.968891\ttraining's binary_logloss: 0.393606\tvalid_1's auc: 0.902743\tvalid_1's binary_logloss: 0.581953\n",
      "Training until validation scores don't improve for 200 rounds                                                                                     \n",
      "Early stopping, best iteration is:                                                                                                                \n",
      "[460]\ttraining's auc: 0.970462\ttraining's binary_logloss: 0.362083\tvalid_1's auc: 0.905721\tvalid_1's binary_logloss: 0.560926\n",
      ">> ROC-AUC Score 0.903797                                                                                                                         \n",
      ">> Custom Score 0.912322                                                                                                                          \n",
      "\n",
      "Training until validation scores don't improve for 200 rounds                                                                                     \n",
      "Early stopping, best iteration is:                                                                                                                \n",
      "[391]\ttraining's auc: 0.968967\ttraining's binary_logloss: 0.39895\tvalid_1's auc: 0.906518\tvalid_1's binary_logloss: 0.590949\n",
      "Training until validation scores don't improve for 200 rounds                                                                                     \n",
      "Early stopping, best iteration is:                                                                                                                \n",
      "[472]\ttraining's auc: 0.970501\ttraining's binary_logloss: 0.366429\tvalid_1's auc: 0.905058\tvalid_1's binary_logloss: 0.574706\n",
      ">> ROC-AUC Score 0.904778                                                                                                                         \n",
      ">> Custom Score 0.914803                                                                                                                          \n",
      "\n",
      "Training until validation scores don't improve for 200 rounds                                                                                     \n",
      "Early stopping, best iteration is:                                                                                                                \n",
      "[335]\ttraining's auc: 0.968468\ttraining's binary_logloss: 0.401532\tvalid_1's auc: 0.904425\tvalid_1's binary_logloss: 0.584266\n",
      "Training until validation scores don't improve for 200 rounds                                                                                     \n",
      "Early stopping, best iteration is:                                                                                                                \n",
      "[398]\ttraining's auc: 0.970124\ttraining's binary_logloss: 0.371646\tvalid_1's auc: 0.905388\tvalid_1's binary_logloss: 0.565762\n",
      ">> ROC-AUC Score 0.904545                                                                                                                         \n",
      ">> Custom Score 0.913057                                                                                                                          \n",
      "\n",
      "Training until validation scores don't improve for 200 rounds                                                                                     \n",
      "Early stopping, best iteration is:                                                                                                                \n",
      "[461]\ttraining's auc: 0.969854\ttraining's binary_logloss: 0.382007\tvalid_1's auc: 0.911464\tvalid_1's binary_logloss: 0.590701\n",
      "Training until validation scores don't improve for 200 rounds                                                                                     \n",
      "Early stopping, best iteration is:                                                                                                                \n",
      "[516]\ttraining's auc: 0.970647\ttraining's binary_logloss: 0.363565\tvalid_1's auc: 0.904276\tvalid_1's binary_logloss: 0.577832\n",
      ">> ROC-AUC Score 0.907700                                                                                                                         \n",
      ">> Custom Score 0.915829                                                                                                                          \n",
      "\n",
      "Training until validation scores don't improve for 200 rounds                                                                                     \n",
      "Early stopping, best iteration is:                                                                                                                \n",
      "[462]\ttraining's auc: 0.969878\ttraining's binary_logloss: 0.381391\tvalid_1's auc: 0.907241\tvalid_1's binary_logloss: 0.587459\n",
      "Training until validation scores don't improve for 200 rounds                                                                                     \n",
      "Early stopping, best iteration is:                                                                                                                \n",
      "[524]\ttraining's auc: 0.970655\ttraining's binary_logloss: 0.360428\tvalid_1's auc: 0.904341\tvalid_1's binary_logloss: 0.569544\n",
      ">> ROC-AUC Score 0.905535                                                                                                                         \n",
      ">> Custom Score 0.914026                                                                                                                          \n",
      "\n",
      "Training until validation scores don't improve for 200 rounds                                                                                     \n",
      "Early stopping, best iteration is:                                                                                                                \n",
      "[392]\ttraining's auc: 0.968337\ttraining's binary_logloss: 0.410512\tvalid_1's auc: 0.905\tvalid_1's binary_logloss: 0.587599\n",
      "Training until validation scores don't improve for 200 rounds                                                                                     \n",
      "Early stopping, best iteration is:                                                                                                                \n",
      "[500]\ttraining's auc: 0.970295\ttraining's binary_logloss: 0.368791\tvalid_1's auc: 0.904694\tvalid_1's binary_logloss: 0.570418\n",
      ">> ROC-AUC Score 0.902541                                                                                                                         \n",
      ">> Custom Score 0.913444                                                                                                                          \n",
      "\n",
      "Training until validation scores don't improve for 200 rounds                                                                                     \n",
      "Early stopping, best iteration is:                                                                                                                \n",
      "[456]\ttraining's auc: 0.968896\ttraining's binary_logloss: 0.395926\tvalid_1's auc: 0.906173\tvalid_1's binary_logloss: 0.584356\n",
      "Training until validation scores don't improve for 200 rounds                                                                                     \n",
      "Early stopping, best iteration is:                                                                                                                \n",
      "[540]\ttraining's auc: 0.970254\ttraining's binary_logloss: 0.367886\tvalid_1's auc: 0.906148\tvalid_1's binary_logloss: 0.566877\n",
      ">> ROC-AUC Score 0.905767                                                                                                                         \n",
      ">> Custom Score 0.913856                                                                                                                          \n",
      "\n",
      "Training until validation scores don't improve for 200 rounds                                                                                     \n",
      "Early stopping, best iteration is:                                                                                                                \n",
      "[465]\ttraining's auc: 0.968999\ttraining's binary_logloss: 0.39815\tvalid_1's auc: 0.906964\tvalid_1's binary_logloss: 0.588747\n",
      "Training until validation scores don't improve for 200 rounds                                                                                     \n",
      "Early stopping, best iteration is:                                                                                                                \n",
      "[572]\ttraining's auc: 0.970744\ttraining's binary_logloss: 0.362003\tvalid_1's auc: 0.905892\tvalid_1's binary_logloss: 0.576886\n",
      ">> ROC-AUC Score 0.904981                                                                                                                         \n",
      ">> Custom Score 0.915067                                                                                                                          \n",
      "\n",
      "Training until validation scores don't improve for 200 rounds                                                                                     \n",
      "Early stopping, best iteration is:                                                                                                                \n",
      "[493]\ttraining's auc: 0.970101\ttraining's binary_logloss: 0.376379\tvalid_1's auc: 0.90928\tvalid_1's binary_logloss: 0.585092\n",
      "Training until validation scores don't improve for 200 rounds                                                                                     \n",
      "Early stopping, best iteration is:                                                                                                                \n",
      "[565]\ttraining's auc: 0.971126\ttraining's binary_logloss: 0.352741\tvalid_1's auc: 0.905696\tvalid_1's binary_logloss: 0.571791\n",
      ">> ROC-AUC Score 0.907272                                                                                                                         \n",
      ">> Custom Score 0.914889                                                                                                                          \n",
      "\n",
      "Training until validation scores don't improve for 200 rounds                                                                                     \n",
      "Early stopping, best iteration is:                                                                                                                \n",
      "[464]\ttraining's auc: 0.969263\ttraining's binary_logloss: 0.390499\tvalid_1's auc: 0.905183\tvalid_1's binary_logloss: 0.58222\n",
      "Training until validation scores don't improve for 200 rounds                                                                                     \n",
      "Early stopping, best iteration is:                                                                                                                \n",
      "[555]\ttraining's auc: 0.970577\ttraining's binary_logloss: 0.360187\tvalid_1's auc: 0.903758\tvalid_1's binary_logloss: 0.568672\n",
      ">> ROC-AUC Score 0.903731                                                                                                                         \n",
      ">> Custom Score 0.913146                                                                                                                          \n",
      "\n",
      "Training until validation scores don't improve for 200 rounds                                                                                     \n",
      "Early stopping, best iteration is:                                                                                                                \n",
      "[465]\ttraining's auc: 0.969162\ttraining's binary_logloss: 0.388421\tvalid_1's auc: 0.905497\tvalid_1's binary_logloss: 0.579952\n",
      "Training until validation scores don't improve for 200 rounds                                                                                     \n",
      "Early stopping, best iteration is:                                                                                                                \n",
      "[558]\ttraining's auc: 0.970777\ttraining's binary_logloss: 0.35642\tvalid_1's auc: 0.906961\tvalid_1's binary_logloss: 0.563294\n",
      ">> ROC-AUC Score 0.905752                                                                                                                         \n",
      ">> Custom Score 0.913154                                                                                                                          \n",
      "\n",
      "Training until validation scores don't improve for 200 rounds                                                                                     \n",
      "Early stopping, best iteration is:                                                                                                                \n",
      "[466]\ttraining's auc: 0.970112\ttraining's binary_logloss: 0.376092\tvalid_1's auc: 0.908787\tvalid_1's binary_logloss: 0.585367\n",
      "Training until validation scores don't improve for 200 rounds                                                                                     \n",
      "Early stopping, best iteration is:                                                                                                                \n",
      "[517]\ttraining's auc: 0.970833\ttraining's binary_logloss: 0.358374\tvalid_1's auc: 0.905881\tvalid_1's binary_logloss: 0.570076\n",
      ">> ROC-AUC Score 0.907163                                                                                                                         \n",
      ">> Custom Score 0.914469                                                                                                                          \n",
      "\n",
      "Training until validation scores don't improve for 200 rounds                                                                                     \n",
      "Early stopping, best iteration is:                                                                                                                \n",
      "[397]\ttraining's auc: 0.968836\ttraining's binary_logloss: 0.398181\tvalid_1's auc: 0.901253\tvalid_1's binary_logloss: 0.58647\n",
      "Training until validation scores don't improve for 200 rounds                                                                                     \n",
      "Early stopping, best iteration is:                                                                                                                \n",
      "[491]\ttraining's auc: 0.970515\ttraining's binary_logloss: 0.361852\tvalid_1's auc: 0.906051\tvalid_1's binary_logloss: 0.564825\n",
      ">> ROC-AUC Score 0.902807                                                                                                                         \n",
      ">> Custom Score 0.913002                                                                                                                          \n",
      "\n",
      "Training until validation scores don't improve for 200 rounds                                                                                     \n",
      "Early stopping, best iteration is:                                                                                                                \n",
      "[479]\ttraining's auc: 0.969444\ttraining's binary_logloss: 0.39199\tvalid_1's auc: 0.904638\tvalid_1's binary_logloss: 0.584706\n",
      "Training until validation scores don't improve for 200 rounds                                                                                     \n",
      "Early stopping, best iteration is:                                                                                                                \n",
      "[592]\ttraining's auc: 0.970934\ttraining's binary_logloss: 0.355484\tvalid_1's auc: 0.905071\tvalid_1's binary_logloss: 0.569906\n",
      ">> ROC-AUC Score 0.903519                                                                                                                         \n",
      ">> Custom Score 0.913685                                                                                                                          \n",
      "\n",
      "Training until validation scores don't improve for 200 rounds                                                                                     \n",
      "Early stopping, best iteration is:                                                                                                                \n",
      "[517]\ttraining's auc: 0.969732\ttraining's binary_logloss: 0.377757\tvalid_1's auc: 0.907375\tvalid_1's binary_logloss: 0.581342\n",
      "Training until validation scores don't improve for 200 rounds                                                                                     \n",
      "Early stopping, best iteration is:                                                                                                                \n",
      "[561]\ttraining's auc: 0.970256\ttraining's binary_logloss: 0.364205\tvalid_1's auc: 0.9034\tvalid_1's binary_logloss: 0.565576\n",
      ">> ROC-AUC Score 0.905047                                                                                                                         \n",
      ">> Custom Score 0.913427                                                                                                                          \n",
      "\n",
      "Training until validation scores don't improve for 200 rounds                                                                                     \n",
      "Early stopping, best iteration is:                                                                                                                \n",
      "[449]\ttraining's auc: 0.96861\ttraining's binary_logloss: 0.400035\tvalid_1's auc: 0.91039\tvalid_1's binary_logloss: 0.591726\n",
      "Training until validation scores don't improve for 200 rounds                                                                                     \n",
      "Early stopping, best iteration is:                                                                                                                \n",
      "[490]\ttraining's auc: 0.969178\ttraining's binary_logloss: 0.386061\tvalid_1's auc: 0.899115\tvalid_1's binary_logloss: 0.590807\n",
      ">> ROC-AUC Score 0.904645                                                                                                                         \n",
      ">> Custom Score 0.915919                                                                                                                          \n",
      "\n",
      "Training until validation scores don't improve for 200 rounds                                                                                     \n",
      "Early stopping, best iteration is:                                                                                                                \n",
      "[459]\ttraining's auc: 0.969818\ttraining's binary_logloss: 0.380706\tvalid_1's auc: 0.906685\tvalid_1's binary_logloss: 0.585124\n",
      "Training until validation scores don't improve for 200 rounds                                                                                     \n",
      "Early stopping, best iteration is:                                                                                                                \n",
      "[512]\ttraining's auc: 0.970498\ttraining's binary_logloss: 0.362057\tvalid_1's auc: 0.905351\tvalid_1's binary_logloss: 0.563479\n",
      ">> ROC-AUC Score 0.905718                                                                                                                         \n",
      ">> Custom Score 0.913454                                                                                                                          \n",
      "\n",
      "Training until validation scores don't improve for 200 rounds                                                                                     \n",
      "Early stopping, best iteration is:                                                                                                                \n",
      "[401]\ttraining's auc: 0.966891\ttraining's binary_logloss: 0.427623\tvalid_1's auc: 0.902756\tvalid_1's binary_logloss: 0.593939\n",
      "Training until validation scores don't improve for 200 rounds                                                                                     \n",
      "Early stopping, best iteration is:                                                                                                                \n",
      "[506]\ttraining's auc: 0.968894\ttraining's binary_logloss: 0.389346\tvalid_1's auc: 0.898802\tvalid_1's binary_logloss: 0.589045\n",
      ">> ROC-AUC Score 0.896876                                                                                                                         \n",
      ">> Custom Score 0.914334                                                                                                                          \n",
      "\n",
      "Training until validation scores don't improve for 200 rounds                                                                                     \n",
      "Early stopping, best iteration is:                                                                                                                \n",
      "[535]\ttraining's auc: 0.970011\ttraining's binary_logloss: 0.378835\tvalid_1's auc: 0.907889\tvalid_1's binary_logloss: 0.584849\n",
      " 53%|██████████████████████████████████▉                               | 53/100 [10:10:27<10:11:09, 780.21s/trial, best loss: -0.9077003270195874]"
     ]
    },
    {
     "name": "stderr",
     "output_type": "stream",
     "text": [
      "job exception: Unable to allocate 1.67 GiB for an array with shape (282682, 795) and data type float64\n",
      "\n"
     ]
    },
    {
     "name": "stdout",
     "output_type": "stream",
     "text": [
      " 53%|███████████████████████████████████▌                               | 53/100 [10:10:50<9:01:41, 691.51s/trial, best loss: -0.9077003270195874]\n"
     ]
    },
    {
     "ename": "MemoryError",
     "evalue": "Unable to allocate 1.67 GiB for an array with shape (282682, 795) and data type float64",
     "output_type": "error",
     "traceback": [
      "\u001b[1;31m---------------------------------------------------------------------------\u001b[0m",
      "\u001b[1;31mMemoryError\u001b[0m                               Traceback (most recent call last)",
      "\u001b[1;32m~\\AppData\\Local\\Temp/ipykernel_3284/1703427342.py\u001b[0m in \u001b[0;36m<module>\u001b[1;34m\u001b[0m\n\u001b[0;32m      2\u001b[0m \u001b[0mtrials\u001b[0m \u001b[1;33m=\u001b[0m \u001b[0mTrials\u001b[0m\u001b[1;33m(\u001b[0m\u001b[1;33m)\u001b[0m\u001b[1;33m\u001b[0m\u001b[1;33m\u001b[0m\u001b[0m\n\u001b[0;32m      3\u001b[0m \u001b[1;33m\u001b[0m\u001b[0m\n\u001b[1;32m----> 4\u001b[1;33m best = fmin(\n\u001b[0m\u001b[0;32m      5\u001b[0m     \u001b[0mfn\u001b[0m\u001b[1;33m=\u001b[0m\u001b[0mfmin_objective\u001b[0m\u001b[1;33m,\u001b[0m\u001b[1;33m\u001b[0m\u001b[1;33m\u001b[0m\u001b[0m\n\u001b[0;32m      6\u001b[0m     \u001b[0mspace\u001b[0m\u001b[1;33m=\u001b[0m\u001b[0mspace_params\u001b[0m\u001b[1;33m,\u001b[0m\u001b[1;33m\u001b[0m\u001b[1;33m\u001b[0m\u001b[0m\n",
      "\u001b[1;32m~\\miniconda3\\envs\\p7\\lib\\site-packages\\hyperopt\\fmin.py\u001b[0m in \u001b[0;36mfmin\u001b[1;34m(fn, space, algo, max_evals, timeout, loss_threshold, trials, rstate, allow_trials_fmin, pass_expr_memo_ctrl, catch_eval_exceptions, verbose, return_argmin, points_to_evaluate, max_queue_len, show_progressbar, early_stop_fn, trials_save_file)\u001b[0m\n\u001b[0;32m    505\u001b[0m \u001b[1;33m\u001b[0m\u001b[0m\n\u001b[0;32m    506\u001b[0m     \u001b[1;32mif\u001b[0m \u001b[0mallow_trials_fmin\u001b[0m \u001b[1;32mand\u001b[0m \u001b[0mhasattr\u001b[0m\u001b[1;33m(\u001b[0m\u001b[0mtrials\u001b[0m\u001b[1;33m,\u001b[0m \u001b[1;34m\"fmin\"\u001b[0m\u001b[1;33m)\u001b[0m\u001b[1;33m:\u001b[0m\u001b[1;33m\u001b[0m\u001b[1;33m\u001b[0m\u001b[0m\n\u001b[1;32m--> 507\u001b[1;33m         return trials.fmin(\n\u001b[0m\u001b[0;32m    508\u001b[0m             \u001b[0mfn\u001b[0m\u001b[1;33m,\u001b[0m\u001b[1;33m\u001b[0m\u001b[1;33m\u001b[0m\u001b[0m\n\u001b[0;32m    509\u001b[0m             \u001b[0mspace\u001b[0m\u001b[1;33m,\u001b[0m\u001b[1;33m\u001b[0m\u001b[1;33m\u001b[0m\u001b[0m\n",
      "\u001b[1;32m~\\miniconda3\\envs\\p7\\lib\\site-packages\\hyperopt\\base.py\u001b[0m in \u001b[0;36mfmin\u001b[1;34m(self, fn, space, algo, max_evals, timeout, loss_threshold, max_queue_len, rstate, verbose, pass_expr_memo_ctrl, catch_eval_exceptions, return_argmin, show_progressbar, early_stop_fn, trials_save_file)\u001b[0m\n\u001b[0;32m    680\u001b[0m         \u001b[1;32mfrom\u001b[0m \u001b[1;33m.\u001b[0m\u001b[0mfmin\u001b[0m \u001b[1;32mimport\u001b[0m \u001b[0mfmin\u001b[0m\u001b[1;33m\u001b[0m\u001b[1;33m\u001b[0m\u001b[0m\n\u001b[0;32m    681\u001b[0m \u001b[1;33m\u001b[0m\u001b[0m\n\u001b[1;32m--> 682\u001b[1;33m         return fmin(\n\u001b[0m\u001b[0;32m    683\u001b[0m             \u001b[0mfn\u001b[0m\u001b[1;33m,\u001b[0m\u001b[1;33m\u001b[0m\u001b[1;33m\u001b[0m\u001b[0m\n\u001b[0;32m    684\u001b[0m             \u001b[0mspace\u001b[0m\u001b[1;33m,\u001b[0m\u001b[1;33m\u001b[0m\u001b[1;33m\u001b[0m\u001b[0m\n",
      "\u001b[1;32m~\\miniconda3\\envs\\p7\\lib\\site-packages\\hyperopt\\fmin.py\u001b[0m in \u001b[0;36mfmin\u001b[1;34m(fn, space, algo, max_evals, timeout, loss_threshold, trials, rstate, allow_trials_fmin, pass_expr_memo_ctrl, catch_eval_exceptions, verbose, return_argmin, points_to_evaluate, max_queue_len, show_progressbar, early_stop_fn, trials_save_file)\u001b[0m\n\u001b[0;32m    551\u001b[0m \u001b[1;33m\u001b[0m\u001b[0m\n\u001b[0;32m    552\u001b[0m     \u001b[1;31m# next line is where the fmin is actually executed\u001b[0m\u001b[1;33m\u001b[0m\u001b[1;33m\u001b[0m\u001b[0m\n\u001b[1;32m--> 553\u001b[1;33m     \u001b[0mrval\u001b[0m\u001b[1;33m.\u001b[0m\u001b[0mexhaust\u001b[0m\u001b[1;33m(\u001b[0m\u001b[1;33m)\u001b[0m\u001b[1;33m\u001b[0m\u001b[1;33m\u001b[0m\u001b[0m\n\u001b[0m\u001b[0;32m    554\u001b[0m \u001b[1;33m\u001b[0m\u001b[0m\n\u001b[0;32m    555\u001b[0m     \u001b[1;32mif\u001b[0m \u001b[0mreturn_argmin\u001b[0m\u001b[1;33m:\u001b[0m\u001b[1;33m\u001b[0m\u001b[1;33m\u001b[0m\u001b[0m\n",
      "\u001b[1;32m~\\miniconda3\\envs\\p7\\lib\\site-packages\\hyperopt\\fmin.py\u001b[0m in \u001b[0;36mexhaust\u001b[1;34m(self)\u001b[0m\n\u001b[0;32m    354\u001b[0m     \u001b[1;32mdef\u001b[0m \u001b[0mexhaust\u001b[0m\u001b[1;33m(\u001b[0m\u001b[0mself\u001b[0m\u001b[1;33m)\u001b[0m\u001b[1;33m:\u001b[0m\u001b[1;33m\u001b[0m\u001b[1;33m\u001b[0m\u001b[0m\n\u001b[0;32m    355\u001b[0m         \u001b[0mn_done\u001b[0m \u001b[1;33m=\u001b[0m \u001b[0mlen\u001b[0m\u001b[1;33m(\u001b[0m\u001b[0mself\u001b[0m\u001b[1;33m.\u001b[0m\u001b[0mtrials\u001b[0m\u001b[1;33m)\u001b[0m\u001b[1;33m\u001b[0m\u001b[1;33m\u001b[0m\u001b[0m\n\u001b[1;32m--> 356\u001b[1;33m         \u001b[0mself\u001b[0m\u001b[1;33m.\u001b[0m\u001b[0mrun\u001b[0m\u001b[1;33m(\u001b[0m\u001b[0mself\u001b[0m\u001b[1;33m.\u001b[0m\u001b[0mmax_evals\u001b[0m \u001b[1;33m-\u001b[0m \u001b[0mn_done\u001b[0m\u001b[1;33m,\u001b[0m \u001b[0mblock_until_done\u001b[0m\u001b[1;33m=\u001b[0m\u001b[0mself\u001b[0m\u001b[1;33m.\u001b[0m\u001b[0masynchronous\u001b[0m\u001b[1;33m)\u001b[0m\u001b[1;33m\u001b[0m\u001b[1;33m\u001b[0m\u001b[0m\n\u001b[0m\u001b[0;32m    357\u001b[0m         \u001b[0mself\u001b[0m\u001b[1;33m.\u001b[0m\u001b[0mtrials\u001b[0m\u001b[1;33m.\u001b[0m\u001b[0mrefresh\u001b[0m\u001b[1;33m(\u001b[0m\u001b[1;33m)\u001b[0m\u001b[1;33m\u001b[0m\u001b[1;33m\u001b[0m\u001b[0m\n\u001b[0;32m    358\u001b[0m         \u001b[1;32mreturn\u001b[0m \u001b[0mself\u001b[0m\u001b[1;33m\u001b[0m\u001b[1;33m\u001b[0m\u001b[0m\n",
      "\u001b[1;32m~\\miniconda3\\envs\\p7\\lib\\site-packages\\hyperopt\\fmin.py\u001b[0m in \u001b[0;36mrun\u001b[1;34m(self, N, block_until_done)\u001b[0m\n\u001b[0;32m    290\u001b[0m                 \u001b[1;32melse\u001b[0m\u001b[1;33m:\u001b[0m\u001b[1;33m\u001b[0m\u001b[1;33m\u001b[0m\u001b[0m\n\u001b[0;32m    291\u001b[0m                     \u001b[1;31m# -- loop over trials and do the jobs directly\u001b[0m\u001b[1;33m\u001b[0m\u001b[1;33m\u001b[0m\u001b[0m\n\u001b[1;32m--> 292\u001b[1;33m                     \u001b[0mself\u001b[0m\u001b[1;33m.\u001b[0m\u001b[0mserial_evaluate\u001b[0m\u001b[1;33m(\u001b[0m\u001b[1;33m)\u001b[0m\u001b[1;33m\u001b[0m\u001b[1;33m\u001b[0m\u001b[0m\n\u001b[0m\u001b[0;32m    293\u001b[0m \u001b[1;33m\u001b[0m\u001b[0m\n\u001b[0;32m    294\u001b[0m                 \u001b[0mself\u001b[0m\u001b[1;33m.\u001b[0m\u001b[0mtrials\u001b[0m\u001b[1;33m.\u001b[0m\u001b[0mrefresh\u001b[0m\u001b[1;33m(\u001b[0m\u001b[1;33m)\u001b[0m\u001b[1;33m\u001b[0m\u001b[1;33m\u001b[0m\u001b[0m\n",
      "\u001b[1;32m~\\miniconda3\\envs\\p7\\lib\\site-packages\\hyperopt\\fmin.py\u001b[0m in \u001b[0;36mserial_evaluate\u001b[1;34m(self, N)\u001b[0m\n\u001b[0;32m    168\u001b[0m                 \u001b[0mctrl\u001b[0m \u001b[1;33m=\u001b[0m \u001b[0mbase\u001b[0m\u001b[1;33m.\u001b[0m\u001b[0mCtrl\u001b[0m\u001b[1;33m(\u001b[0m\u001b[0mself\u001b[0m\u001b[1;33m.\u001b[0m\u001b[0mtrials\u001b[0m\u001b[1;33m,\u001b[0m \u001b[0mcurrent_trial\u001b[0m\u001b[1;33m=\u001b[0m\u001b[0mtrial\u001b[0m\u001b[1;33m)\u001b[0m\u001b[1;33m\u001b[0m\u001b[1;33m\u001b[0m\u001b[0m\n\u001b[0;32m    169\u001b[0m                 \u001b[1;32mtry\u001b[0m\u001b[1;33m:\u001b[0m\u001b[1;33m\u001b[0m\u001b[1;33m\u001b[0m\u001b[0m\n\u001b[1;32m--> 170\u001b[1;33m                     \u001b[0mresult\u001b[0m \u001b[1;33m=\u001b[0m \u001b[0mself\u001b[0m\u001b[1;33m.\u001b[0m\u001b[0mdomain\u001b[0m\u001b[1;33m.\u001b[0m\u001b[0mevaluate\u001b[0m\u001b[1;33m(\u001b[0m\u001b[0mspec\u001b[0m\u001b[1;33m,\u001b[0m \u001b[0mctrl\u001b[0m\u001b[1;33m)\u001b[0m\u001b[1;33m\u001b[0m\u001b[1;33m\u001b[0m\u001b[0m\n\u001b[0m\u001b[0;32m    171\u001b[0m                 \u001b[1;32mexcept\u001b[0m \u001b[0mException\u001b[0m \u001b[1;32mas\u001b[0m \u001b[0me\u001b[0m\u001b[1;33m:\u001b[0m\u001b[1;33m\u001b[0m\u001b[1;33m\u001b[0m\u001b[0m\n\u001b[0;32m    172\u001b[0m                     \u001b[0mlogger\u001b[0m\u001b[1;33m.\u001b[0m\u001b[0merror\u001b[0m\u001b[1;33m(\u001b[0m\u001b[1;34m\"job exception: %s\"\u001b[0m \u001b[1;33m%\u001b[0m \u001b[0mstr\u001b[0m\u001b[1;33m(\u001b[0m\u001b[0me\u001b[0m\u001b[1;33m)\u001b[0m\u001b[1;33m)\u001b[0m\u001b[1;33m\u001b[0m\u001b[1;33m\u001b[0m\u001b[0m\n",
      "\u001b[1;32m~\\miniconda3\\envs\\p7\\lib\\site-packages\\hyperopt\\base.py\u001b[0m in \u001b[0;36mevaluate\u001b[1;34m(self, config, ctrl, attach_attachments)\u001b[0m\n\u001b[0;32m    905\u001b[0m                 \u001b[0mprint_node_on_error\u001b[0m\u001b[1;33m=\u001b[0m\u001b[0mself\u001b[0m\u001b[1;33m.\u001b[0m\u001b[0mrec_eval_print_node_on_error\u001b[0m\u001b[1;33m,\u001b[0m\u001b[1;33m\u001b[0m\u001b[1;33m\u001b[0m\u001b[0m\n\u001b[0;32m    906\u001b[0m             )\n\u001b[1;32m--> 907\u001b[1;33m             \u001b[0mrval\u001b[0m \u001b[1;33m=\u001b[0m \u001b[0mself\u001b[0m\u001b[1;33m.\u001b[0m\u001b[0mfn\u001b[0m\u001b[1;33m(\u001b[0m\u001b[0mpyll_rval\u001b[0m\u001b[1;33m)\u001b[0m\u001b[1;33m\u001b[0m\u001b[1;33m\u001b[0m\u001b[0m\n\u001b[0m\u001b[0;32m    908\u001b[0m \u001b[1;33m\u001b[0m\u001b[0m\n\u001b[0;32m    909\u001b[0m         \u001b[1;32mif\u001b[0m \u001b[0misinstance\u001b[0m\u001b[1;33m(\u001b[0m\u001b[0mrval\u001b[0m\u001b[1;33m,\u001b[0m \u001b[1;33m(\u001b[0m\u001b[0mfloat\u001b[0m\u001b[1;33m,\u001b[0m \u001b[0mint\u001b[0m\u001b[1;33m,\u001b[0m \u001b[0mnp\u001b[0m\u001b[1;33m.\u001b[0m\u001b[0mnumber\u001b[0m\u001b[1;33m)\u001b[0m\u001b[1;33m)\u001b[0m\u001b[1;33m:\u001b[0m\u001b[1;33m\u001b[0m\u001b[1;33m\u001b[0m\u001b[0m\n",
      "\u001b[1;32m~\\AppData\\Local\\Temp/ipykernel_3284/3397774922.py\u001b[0m in \u001b[0;36mhyperparameter_tuning\u001b[1;34m(space_params, df, imbalanced, n_splits)\u001b[0m\n\u001b[0;32m     43\u001b[0m \u001b[1;33m\u001b[0m\u001b[0m\n\u001b[0;32m     44\u001b[0m         \u001b[0mtrain_x_scaled\u001b[0m \u001b[1;33m=\u001b[0m \u001b[0mscaler\u001b[0m\u001b[1;33m.\u001b[0m\u001b[0mfit_transform\u001b[0m\u001b[1;33m(\u001b[0m\u001b[0mtrain_x\u001b[0m\u001b[1;33m)\u001b[0m\u001b[1;33m\u001b[0m\u001b[1;33m\u001b[0m\u001b[0m\n\u001b[1;32m---> 45\u001b[1;33m         \u001b[0mvalid_x_scaled\u001b[0m \u001b[1;33m=\u001b[0m \u001b[0mscaler\u001b[0m\u001b[1;33m.\u001b[0m\u001b[0mfit_transform\u001b[0m\u001b[1;33m(\u001b[0m\u001b[0mvalid_x\u001b[0m\u001b[1;33m)\u001b[0m\u001b[1;33m\u001b[0m\u001b[1;33m\u001b[0m\u001b[0m\n\u001b[0m\u001b[0;32m     46\u001b[0m \u001b[1;33m\u001b[0m\u001b[0m\n\u001b[0;32m     47\u001b[0m         \u001b[1;31m# LightGBM parameters found by Bayesian optimization\u001b[0m\u001b[1;33m\u001b[0m\u001b[1;33m\u001b[0m\u001b[0m\n",
      "\u001b[1;32m~\\miniconda3\\envs\\p7\\lib\\site-packages\\sklearn\\base.py\u001b[0m in \u001b[0;36mfit_transform\u001b[1;34m(self, X, y, **fit_params)\u001b[0m\n\u001b[0;32m    850\u001b[0m         \u001b[1;32mif\u001b[0m \u001b[0my\u001b[0m \u001b[1;32mis\u001b[0m \u001b[1;32mNone\u001b[0m\u001b[1;33m:\u001b[0m\u001b[1;33m\u001b[0m\u001b[1;33m\u001b[0m\u001b[0m\n\u001b[0;32m    851\u001b[0m             \u001b[1;31m# fit method of arity 1 (unsupervised transformation)\u001b[0m\u001b[1;33m\u001b[0m\u001b[1;33m\u001b[0m\u001b[0m\n\u001b[1;32m--> 852\u001b[1;33m             \u001b[1;32mreturn\u001b[0m \u001b[0mself\u001b[0m\u001b[1;33m.\u001b[0m\u001b[0mfit\u001b[0m\u001b[1;33m(\u001b[0m\u001b[0mX\u001b[0m\u001b[1;33m,\u001b[0m \u001b[1;33m**\u001b[0m\u001b[0mfit_params\u001b[0m\u001b[1;33m)\u001b[0m\u001b[1;33m.\u001b[0m\u001b[0mtransform\u001b[0m\u001b[1;33m(\u001b[0m\u001b[0mX\u001b[0m\u001b[1;33m)\u001b[0m\u001b[1;33m\u001b[0m\u001b[1;33m\u001b[0m\u001b[0m\n\u001b[0m\u001b[0;32m    853\u001b[0m         \u001b[1;32melse\u001b[0m\u001b[1;33m:\u001b[0m\u001b[1;33m\u001b[0m\u001b[1;33m\u001b[0m\u001b[0m\n\u001b[0;32m    854\u001b[0m             \u001b[1;31m# fit method of arity 2 (supervised transformation)\u001b[0m\u001b[1;33m\u001b[0m\u001b[1;33m\u001b[0m\u001b[0m\n",
      "\u001b[1;32m~\\miniconda3\\envs\\p7\\lib\\site-packages\\sklearn\\preprocessing\\_data.py\u001b[0m in \u001b[0;36mfit\u001b[1;34m(self, X, y, sample_weight)\u001b[0m\n\u001b[0;32m    804\u001b[0m         \u001b[1;31m# Reset internal state before fitting\u001b[0m\u001b[1;33m\u001b[0m\u001b[1;33m\u001b[0m\u001b[0m\n\u001b[0;32m    805\u001b[0m         \u001b[0mself\u001b[0m\u001b[1;33m.\u001b[0m\u001b[0m_reset\u001b[0m\u001b[1;33m(\u001b[0m\u001b[1;33m)\u001b[0m\u001b[1;33m\u001b[0m\u001b[1;33m\u001b[0m\u001b[0m\n\u001b[1;32m--> 806\u001b[1;33m         \u001b[1;32mreturn\u001b[0m \u001b[0mself\u001b[0m\u001b[1;33m.\u001b[0m\u001b[0mpartial_fit\u001b[0m\u001b[1;33m(\u001b[0m\u001b[0mX\u001b[0m\u001b[1;33m,\u001b[0m \u001b[0my\u001b[0m\u001b[1;33m,\u001b[0m \u001b[0msample_weight\u001b[0m\u001b[1;33m)\u001b[0m\u001b[1;33m\u001b[0m\u001b[1;33m\u001b[0m\u001b[0m\n\u001b[0m\u001b[0;32m    807\u001b[0m \u001b[1;33m\u001b[0m\u001b[0m\n\u001b[0;32m    808\u001b[0m     \u001b[1;32mdef\u001b[0m \u001b[0mpartial_fit\u001b[0m\u001b[1;33m(\u001b[0m\u001b[0mself\u001b[0m\u001b[1;33m,\u001b[0m \u001b[0mX\u001b[0m\u001b[1;33m,\u001b[0m \u001b[0my\u001b[0m\u001b[1;33m=\u001b[0m\u001b[1;32mNone\u001b[0m\u001b[1;33m,\u001b[0m \u001b[0msample_weight\u001b[0m\u001b[1;33m=\u001b[0m\u001b[1;32mNone\u001b[0m\u001b[1;33m)\u001b[0m\u001b[1;33m:\u001b[0m\u001b[1;33m\u001b[0m\u001b[1;33m\u001b[0m\u001b[0m\n",
      "\u001b[1;32m~\\miniconda3\\envs\\p7\\lib\\site-packages\\sklearn\\preprocessing\\_data.py\u001b[0m in \u001b[0;36mpartial_fit\u001b[1;34m(self, X, y, sample_weight)\u001b[0m\n\u001b[0;32m    925\u001b[0m \u001b[1;33m\u001b[0m\u001b[0m\n\u001b[0;32m    926\u001b[0m             \u001b[1;32melse\u001b[0m\u001b[1;33m:\u001b[0m\u001b[1;33m\u001b[0m\u001b[1;33m\u001b[0m\u001b[0m\n\u001b[1;32m--> 927\u001b[1;33m                 self.mean_, self.var_, self.n_samples_seen_ = _incremental_mean_and_var(\n\u001b[0m\u001b[0;32m    928\u001b[0m                     \u001b[0mX\u001b[0m\u001b[1;33m,\u001b[0m\u001b[1;33m\u001b[0m\u001b[1;33m\u001b[0m\u001b[0m\n\u001b[0;32m    929\u001b[0m                     \u001b[0mself\u001b[0m\u001b[1;33m.\u001b[0m\u001b[0mmean_\u001b[0m\u001b[1;33m,\u001b[0m\u001b[1;33m\u001b[0m\u001b[1;33m\u001b[0m\u001b[0m\n",
      "\u001b[1;32m~\\miniconda3\\envs\\p7\\lib\\site-packages\\sklearn\\utils\\extmath.py\u001b[0m in \u001b[0;36m_incremental_mean_and_var\u001b[1;34m(X, last_mean, last_variance, last_sample_count, sample_weight)\u001b[0m\n\u001b[0;32m    989\u001b[0m     \u001b[1;32melse\u001b[0m\u001b[1;33m:\u001b[0m\u001b[1;33m\u001b[0m\u001b[1;33m\u001b[0m\u001b[0m\n\u001b[0;32m    990\u001b[0m         \u001b[0mT\u001b[0m \u001b[1;33m=\u001b[0m \u001b[0mnew_sum\u001b[0m \u001b[1;33m/\u001b[0m \u001b[0mnew_sample_count\u001b[0m\u001b[1;33m\u001b[0m\u001b[1;33m\u001b[0m\u001b[0m\n\u001b[1;32m--> 991\u001b[1;33m         \u001b[0mtemp\u001b[0m \u001b[1;33m=\u001b[0m \u001b[0mX\u001b[0m \u001b[1;33m-\u001b[0m \u001b[0mT\u001b[0m\u001b[1;33m\u001b[0m\u001b[1;33m\u001b[0m\u001b[0m\n\u001b[0m\u001b[0;32m    992\u001b[0m         \u001b[1;32mif\u001b[0m \u001b[0msample_weight\u001b[0m \u001b[1;32mis\u001b[0m \u001b[1;32mnot\u001b[0m \u001b[1;32mNone\u001b[0m\u001b[1;33m:\u001b[0m\u001b[1;33m\u001b[0m\u001b[1;33m\u001b[0m\u001b[0m\n\u001b[0;32m    993\u001b[0m             \u001b[1;32mif\u001b[0m \u001b[0mnp_version\u001b[0m \u001b[1;33m>=\u001b[0m \u001b[0mparse_version\u001b[0m\u001b[1;33m(\u001b[0m\u001b[1;34m\"1.16.6\"\u001b[0m\u001b[1;33m)\u001b[0m\u001b[1;33m:\u001b[0m\u001b[1;33m\u001b[0m\u001b[1;33m\u001b[0m\u001b[0m\n",
      "\u001b[1;31mMemoryError\u001b[0m: Unable to allocate 1.67 GiB for an array with shape (282682, 795) and data type float64"
     ]
    }
   ],
   "source": [
    "# Initialize trials object\n",
    "trials = Trials()\n",
    "\n",
    "best = fmin(\n",
    "    fn=fmin_objective,\n",
    "    space=space_params, \n",
    "    algo=tpe.suggest, \n",
    "    max_evals=100, \n",
    "    trials=trials\n",
    ")"
   ]
  },
  {
   "cell_type": "markdown",
   "id": "eb26f496-8400-4efd-bae5-9298bd7d7cd8",
   "metadata": {
    "tags": []
   },
   "source": [
    "<div style=\"background-color: #506AB9;\" >\n",
    "    <h4 style=\"margin: auto; padding: 20px; color:#fff; \">3.3.1. The best parameters</h4>\n",
    "</div>"
   ]
  },
  {
   "cell_type": "markdown",
   "id": "e5918cdb-5493-401e-8663-0441de3f5e0d",
   "metadata": {
    "tags": []
   },
   "source": [
    "<div class=\"alert alert-block alert-success\">\n",
    "    <p>Let's print the best parameters</p>\n",
    "</div>"
   ]
  },
  {
   "cell_type": "code",
   "execution_count": null,
   "id": "6121a06c-c039-4b7b-b1ed-886228b5355a",
   "metadata": {},
   "outputs": [],
   "source": [
    "print(\"Best: {}\".format(best))"
   ]
  },
  {
   "cell_type": "markdown",
   "id": "c8d418b7-879a-4438-b1c8-ae349a3f34db",
   "metadata": {
    "tags": []
   },
   "source": [
    "<div style=\"background-color: #506AB9;\" >\n",
    "    <h3 style=\"margin: auto; padding: 20px; color:#fff; \">3.4. Final model</h3>\n",
    "</div>"
   ]
  },
  {
   "cell_type": "markdown",
   "id": "ea0db824-6513-4895-92fb-83a9cdca8abb",
   "metadata": {
    "tags": []
   },
   "source": [
    "<div class=\"alert alert-block alert-info\">\n",
    "    <p>Now, we are going to execute our model based on the best parameters</p>\n",
    "</div>"
   ]
  },
  {
   "cell_type": "code",
   "execution_count": null,
   "id": "d201670c-db81-40e1-9aae-64124b79d8f0",
   "metadata": {},
   "outputs": [],
   "source": [
    "# Formatting columns name\n",
    "df_resampled = df_resampled.rename(columns=lambda x:re.sub(\"[^A-Za-z0-9_]+\", \"\", x))\n",
    "df_lgbm = df_resampled.copy()\n",
    "    \n",
    "scaler = StandardScaler()\n",
    "    \n",
    "# Divide in training/validation and test data\n",
    "train_df = df_lgbm[df_lgbm[\"TARGET\"].notnull()]\n",
    "test_df = df_lgbm[df_lgbm[\"TARGET\"].isnull()]\n",
    "del df_lgbm\n",
    "gc.collect()\n",
    "\n",
    "# Create arrays and dataframes to store results\n",
    "oof_preds = np.zeros(train_df.shape[0])\n",
    "feature_importance_df = pd.DataFrame()"
   ]
  },
  {
   "cell_type": "markdown",
   "id": "7381c79f-2a58-4c31-9ba9-7e71b1cc71d4",
   "metadata": {
    "tags": []
   },
   "source": [
    "<div class=\"alert alert-block alert-info\">\n",
    "    <p>Splitting and scale the data</p>\n",
    "</div>"
   ]
  },
  {
   "cell_type": "code",
   "execution_count": null,
   "id": "3cd338bb-022b-4f8a-86c7-538195ff9de8",
   "metadata": {},
   "outputs": [],
   "source": [
    "# Split dataset to train\n",
    "X = train_df.drop(columns=[\"TARGET\", \"SK_ID_CURR\"])\n",
    "y_target = train_df.loc[:, \"TARGET\"]\n",
    "\n",
    "X_train, X_test, y_train, y_test = train_test_split(X, y_target, test_size=0.33, random_state=42)\n",
    "\n",
    "X_train_scaled = scaler.fit_transform(X_train)\n",
    "X_test_scaled = scaler.fit_transform(X_test)"
   ]
  },
  {
   "cell_type": "markdown",
   "id": "32d4b483-77f9-4896-a6e7-92f94d9db775",
   "metadata": {
    "tags": []
   },
   "source": [
    "<div class=\"alert alert-block alert-info\">\n",
    "    <p>Initializing the model. LightGBM parameters found by Bayesian optimization</p>\n",
    "</div>"
   ]
  },
  {
   "cell_type": "code",
   "execution_count": null,
   "id": "cbaded4b-673c-42dc-8638-515211c94398",
   "metadata": {},
   "outputs": [],
   "source": [
    "clf = LGBMClassifier(\n",
    "    n_estimators=N_ESTIMATORS[best.get(\"n_estimators\")],\n",
    "    learning_rate=best.get(\"learning_rate\"),\n",
    "    num_leaves=NUM_LEAVES[best.get(\"num_leaves\")],\n",
    "    max_depth=MAX_DEPTH[best.get(\"max_depth\")],\n",
    "    reg_alpha=best.get(\"reg_alpha\"),\n",
    "    reg_lambda=best.get(\"reg_lambda\"),\n",
    "    min_split_gain=best.get(\"min_split_gain\"),\n",
    "    min_child_weight=best.get(\"min_child_weight\"),\n",
    "    #n_estimators=8000,\n",
    "    #learning_rate=0.0029945769814338657,\n",
    "    #num_leaves=34,\n",
    "    #max_depth=7,\n",
    "    #reg_alpha=0.05035988378983526,\n",
    "    #reg_lambda=0.07374403233913371,\n",
    "    #min_split_gain=0.0234204135996409,\n",
    "    #min_child_weight=46.367427751310345,\n",
    "    colsample_bytree=0.8, \n",
    "    subsample=0.8,\n",
    "    is_unbalance=False,\n",
    "    n_jobs=-1 \n",
    ")"
   ]
  },
  {
   "cell_type": "markdown",
   "id": "2d89339f-dc01-461d-8bee-ae08ee2e0f4a",
   "metadata": {
    "tags": []
   },
   "source": [
    "<div class=\"alert alert-block alert-info\">\n",
    "    <p>Fitting the model</p>\n",
    "</div>"
   ]
  },
  {
   "cell_type": "code",
   "execution_count": null,
   "id": "89022adc-02fd-40df-ae3a-b10211566fce",
   "metadata": {},
   "outputs": [],
   "source": [
    "evaluation = [(X_train_scaled, y_train), (X_test_scaled, y_test)]\n",
    "\n",
    "clf.fit(X_train_scaled, y_train, eval_set=evaluation, eval_metric=\"auc\",\n",
    "        callbacks=[lgb.early_stopping(stopping_rounds=200),\n",
    "                  lgb.log_evaluation(period=-1)])"
   ]
  },
  {
   "cell_type": "markdown",
   "id": "c2ff0638-1038-4596-bffc-4ff0c2ccd444",
   "metadata": {
    "tags": []
   },
   "source": [
    "<div class=\"alert alert-block alert-info\">\n",
    "    <p>Metrics</p>\n",
    "</div>"
   ]
  },
  {
   "cell_type": "code",
   "execution_count": null,
   "id": "b709deee-1c39-471f-bd10-0bc511bdd4eb",
   "metadata": {},
   "outputs": [],
   "source": [
    "oof_preds = clf.predict_proba(X_test_scaled, num_iteration=clf.best_iteration_)[:, 1]\n",
    "y_pred = clf.predict(X_test_scaled)\n",
    "\n",
    "#del clf, train_x, train_x_scaled, train_y, valid_x, valid_x_scaled, valid_y\n",
    "gc.collect()\n",
    "    \n",
    "auc = roc_auc_score(y_test, oof_preds)\n",
    "print(\"\\n>> ROC-AUC Score %.6f\" % auc )\n",
    "\n",
    "cs = custom_score(y_test, oof_preds)\n",
    "print(\">> Custom Score %.6f\\n\" % cs )\n"
   ]
  },
  {
   "cell_type": "code",
   "execution_count": null,
   "id": "e8a051ef-a8c1-4733-83ff-92aab4a3becd",
   "metadata": {},
   "outputs": [],
   "source": [
    "# Plotting the Precision-Recall curve\n",
    "display = PrecisionRecallDisplay.from_predictions(y_test.ravel(), oof_preds.ravel(), name=\"LGBMClassifier\")\n",
    "_ = display.ax_.set_title(\"2-class Precision-Recall curve\")"
   ]
  },
  {
   "cell_type": "code",
   "execution_count": null,
   "id": "0b911177-2478-4553-a864-7aff7d94516b",
   "metadata": {},
   "outputs": [],
   "source": [
    "# Compute ROC curve and ROC area for each class\n",
    "fpr = dict()\n",
    "tpr = dict()\n",
    "fpr[\"micro\"], tpr[\"micro\"], _ = roc_curve(y_test.ravel(), oof_preds.ravel())\n",
    "\n",
    "plt.subplots(1, figsize=(6, 6))\n",
    "plt.title(\"Receiver Operating Characteristic\")\n",
    "plt.plot(fpr[\"micro\"], tpr[\"micro\"])\n",
    "plt.plot([0, 1], ls=\"--\")\n",
    "plt.plot([0, 0], [1, 0] , c=\".7\"), plt.plot([1, 1] , c=\".7\")\n",
    "plt.ylabel(\"True Positive Rate\")\n",
    "plt.xlabel(\"False Positive Rate\")\n",
    "plt.show()"
   ]
  },
  {
   "cell_type": "code",
   "execution_count": null,
   "id": "eaa44e5e-4be9-43de-9cc0-81349d7dadfe",
   "metadata": {},
   "outputs": [],
   "source": [
    "# Confusion matrix\n",
    "display = ConfusionMatrixDisplay.from_predictions(y_test, y_pred, display_labels=[\"Repaid\",\"No repaid\"])\n",
    "_ = display.ax_.set_title(\"Confusion matrix\")"
   ]
  },
  {
   "cell_type": "code",
   "execution_count": null,
   "id": "1c90f459-401c-43a0-9c46-4c0c0e3a4c78",
   "metadata": {},
   "outputs": [],
   "source": [
    "# Feature importance\n",
    "feature_importance_df_ = pd.DataFrame({\"importance\":clf.feature_importances_, \"feature\":X.columns})\n",
    "\n",
    "cols = feature_importance_df_[[\"feature\", \"importance\"]].groupby(\"feature\").mean().sort_values(by=\"importance\", ascending=False)[:40].index\n",
    "best_features = feature_importance_df_.loc[feature_importance_df_.feature.isin(cols)]\n",
    "plt.figure(figsize=(12, 10))\n",
    "sns.barplot(x=\"importance\", y=\"feature\", data=best_features.sort_values(by=\"importance\", ascending=False))\n",
    "plt.xlabel('Date', fontsize=12);\n",
    "plt.ylabel('Sales', fontsize=12);\n",
    "plt.title('LightGBM Features (avg over folds)')\n",
    "plt.tight_layout()\n",
    "plt.show()"
   ]
  },
  {
   "cell_type": "markdown",
   "id": "677db037-e43e-4410-bcf2-de1713e7af62",
   "metadata": {
    "tags": []
   },
   "source": [
    "<div style=\"background-color: #506AB9;\" >\n",
    "    <h3 style=\"margin: auto; padding: 20px; color:#fff; \">3.5. Final re-training</h3>\n",
    "</div>"
   ]
  },
  {
   "cell_type": "markdown",
   "id": "076ff9c2-8e39-42d4-8097-ec98939805b1",
   "metadata": {
    "tags": []
   },
   "source": [
    "<div class=\"alert alert-block alert-info\">\n",
    "    <p>First, we are going to free some memory</p>\n",
    "</div>"
   ]
  },
  {
   "cell_type": "code",
   "execution_count": null,
   "id": "c8960fde-5335-4e9f-bbe5-57b705583fbc",
   "metadata": {},
   "outputs": [],
   "source": [
    "del X_train_scaled, X_train, X_test_scaled, X_test\n",
    "gc.collect()"
   ]
  },
  {
   "cell_type": "markdown",
   "id": "9a110d02-c425-4524-9c55-d4267e5bfa3e",
   "metadata": {
    "tags": []
   },
   "source": [
    "<div class=\"alert alert-block alert-info\">\n",
    "    <p>Scaling the data</p>\n",
    "</div>"
   ]
  },
  {
   "cell_type": "code",
   "execution_count": null,
   "id": "1db1de37-f3cb-463b-98a1-db216485148a",
   "metadata": {},
   "outputs": [],
   "source": [
    "X_scaled = scaler.fit_transform(X)"
   ]
  },
  {
   "cell_type": "code",
   "execution_count": null,
   "id": "2fabefb6-b85f-4e6d-9254-b9ac68313183",
   "metadata": {},
   "outputs": [],
   "source": [
    "clf.fit(X_scaled, y_target)"
   ]
  },
  {
   "cell_type": "code",
   "execution_count": null,
   "id": "affc59b2-f588-4f95-856d-0450c719ceaa",
   "metadata": {},
   "outputs": [],
   "source": [
    "# Saving the model based on the best parameters\n",
    "joblib.dump(clf, \"models/model_{version}.pkl\".format(version=sklearn.__version__))"
   ]
  },
  {
   "cell_type": "code",
   "execution_count": null,
   "id": "50d9effc-f212-4d73-870d-bdcf41fbc683",
   "metadata": {},
   "outputs": [],
   "source": []
  }
 ],
 "metadata": {
  "kernelspec": {
   "display_name": "Python 3 (ipykernel)",
   "language": "python",
   "name": "python3"
  },
  "language_info": {
   "codemirror_mode": {
    "name": "ipython",
    "version": 3
   },
   "file_extension": ".py",
   "mimetype": "text/x-python",
   "name": "python",
   "nbconvert_exporter": "python",
   "pygments_lexer": "ipython3",
   "version": "3.9.9"
  }
 },
 "nbformat": 4,
 "nbformat_minor": 5
}
